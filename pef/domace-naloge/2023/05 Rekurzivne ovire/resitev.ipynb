{
 "cells": [
  {
   "cell_type": "markdown",
   "id": "145acc57",
   "metadata": {},
   "source": [
    "V tej domači nalogi vadimo pisanje rekurzivnih funkcij. Obe funkciji vam bi bilo lažje napisati iterativno; tako bi bilo za te nalogi tudi bolj naravno. Vendar potrebujemo takšne, preproste primere kot pripravo na težje, pri katerih brez rekurzije (skoraj) ne bo šlo.\n",
    "\n",
    "Tako kot na predavanjih je smiselno najprej ločeno obravnavati prazen seznam potem pa prvi element in ostanek (ali pa ostanek in prvi element, kakor bo naneslo).\n",
    "\n",
    "Naloga se navezuje na nalogo [Zemljevid ovir](https://ucilnice.arnes.si/mod/assign/view.php?id=5531587).\n",
    "\n",
    "## Obvezni del\n",
    "\n",
    "1. Napiši *rekurzivno funkcijo* `ovirica(ovire)`, ki prejme seznam ovir, podanih s trojkami `(x0, x1, y)`, in vrne `True`, če seznam vsebuje kakšno oviro širine 1 -- torej takšno, kjer je `x0 == x1`.\n",
    "\n",
    "### Rešitev\n",
    "\n",
    "- Če je seznam prazen, v njem ni kratkih ovir, torej vrnemo `False`.\n",
    "- Če je prva ovira kratka, vrnemo `True`.\n",
    "- Sicer pa vrnemo, kar funkcija pravi o preostalih ovirah."
   ]
  },
  {
   "cell_type": "code",
   "execution_count": 1,
   "id": "f4af9e58",
   "metadata": {},
   "outputs": [],
   "source": [
    "def ovirica(s):\n",
    "    if s == []:\n",
    "        return False\n",
    "    if s[0][0] == s[0][1]:\n",
    "        return True\n",
    "    return ovirica(s[1:])"
   ]
  },
  {
   "cell_type": "markdown",
   "id": "908723e0",
   "metadata": {},
   "source": [
    "Gre tudi krajše. Seznam vsebuje kratko oviro, če vsebuje kakšno oviro in je kratka prva ali pa katera od naslednjih."
   ]
  },
  {
   "cell_type": "code",
   "execution_count": 2,
   "id": "6dc94cae",
   "metadata": {},
   "outputs": [],
   "source": [
    "def ovirica(s):\n",
    "    return s != [] and (s[0][0] == s[0][1] or ovirica(s[1:]))"
   ]
  },
  {
   "cell_type": "markdown",
   "id": "f9a2a79f",
   "metadata": {},
   "source": [
    "Tu je potrebno opozoriti na dva stvari. Prva je *kratek stik*. Če je prvi pogoj, `s != []` neresničen, Python ostanka ne bo gledal, saj celoten pogoj, `s != [] and ...`, ne more biti resničen, če je neresničen že del pred `and`. To je pomembno: če bi Python kljub temu, da je seznam prazen, gledal drugi del seznama, bi ob `s[0]` sprožil napako `Index out of range`.\n",
    "\n",
    "Drugo: oklepaji. `and` veže močneje kot `or`, zato smo morali dati drugi del v oklepaje. Če bi pisali brez njih, torej `s != [] and s[0][0] == s[0][1] or ovirica(s[1:])`, bi to pomenilo isto kot `(s != [] and s[0][0] == s[0][1]) or ovirica(s[1:])`, kar ni tisto kar hočemo."
   ]
  },
  {
   "cell_type": "markdown",
   "id": "c55b1577",
   "metadata": {},
   "source": [
    "### Nadaljevanje\n",
    "\n",
    "2. Napiši *rekurzivno funkcijo* `najsirsa(ovire)`, ki prejme seznam ovir in vrne širino najširše ovire. Če je seznam prazen, funckija vrne `0`.\n",
    "\n",
    "    Klic `najsirsa([(1, 1, 4), (3, 5, 3), (2, 8, 1), (8, 10, 2)])` vrne `7`, saj je najdaljša ovira, `(2, 8, 1)`, dolga 7.\n",
    "    \n",
    "### Rešitev\n",
    "\n",
    "Rešitev je takšna:"
   ]
  },
  {
   "cell_type": "code",
   "execution_count": 3,
   "id": "fdffdb2d",
   "metadata": {},
   "outputs": [],
   "source": [
    "def najsirsa(s):\n",
    "    if s == []:\n",
    "        return 0\n",
    "    naj = s[0][1] - s[0][0] + 1\n",
    "    naj_ost = najsirsa(s[1:])\n",
    "    if naj > naj_ost:\n",
    "        return naj\n",
    "    else:\n",
    "        return naj_ost"
   ]
  },
  {
   "cell_type": "markdown",
   "id": "217ac9d9",
   "metadata": {},
   "source": [
    "Če je seznam prazen, skladno z navodili vrnemo `0`. Sicer pa pogledamo, kako dolga je `ta` ovira in kako dolga je največja ovira v ostanku. Vrnemo tisto, kar je večje.\n",
    "\n",
    "Zelo slaba ideja je"
   ]
  },
  {
   "cell_type": "code",
   "execution_count": 4,
   "id": "012a4695",
   "metadata": {},
   "outputs": [],
   "source": [
    "def najsirsa(s):\n",
    "    if s == []:\n",
    "        return 0\n",
    "    ta = s[0][1] - s[0][0] + 1\n",
    "    if ta > najsirsa(s[1:]):\n",
    "        return ta\n",
    "    else:\n",
    "        return najsirsa(s[1:])"
   ]
  },
  {
   "cell_type": "markdown",
   "id": "2b5f7707",
   "metadata": {},
   "source": [
    "Ta funkcija lahko (če ta ovira ni daljša od najdaljše iz ostanka) dvakrat kliče sebe (z enakimi argumenti). Vsak od teh dveh klicev dvakrat kliče sebe; to so že štirje klici. Vsak od njiju dvakrat kliče sebe; to je že osem klicev. Število klicev se v najslabšem primeru podvoji z vsakim dodatnim elementom seznama.\n",
    "\n",
    "Pač pa je dobra ideja"
   ]
  },
  {
   "cell_type": "code",
   "execution_count": 5,
   "id": "176bbc7b",
   "metadata": {},
   "outputs": [],
   "source": [
    "def najsirsa(s):\n",
    "    if s == []:\n",
    "        return 0\n",
    "    naj = s[0][1] - s[0][0] + 1\n",
    "    naj_ost = najsirsa(s[1:])\n",
    "    return max(naj, naj_ost)"
   ]
  },
  {
   "cell_type": "markdown",
   "id": "d7497365",
   "metadata": {},
   "source": [
    "Ali"
   ]
  },
  {
   "cell_type": "code",
   "execution_count": 6,
   "id": "ef8f85b6",
   "metadata": {},
   "outputs": [],
   "source": [
    "def najsirsa(s):\n",
    "    if s == []:\n",
    "        return 0\n",
    "    return max(s[0][1] - s[0][0] + 1, najsirsa(s[1:]))"
   ]
  },
  {
   "cell_type": "markdown",
   "id": "795e1691",
   "metadata": {},
   "source": [
    "Gre tudi še krajše, vendar programer ne sme (brez potrebe) dokazovati, kako zvit je in kako kratke programe zna pisati. Čeprav je to včasih zabavno."
   ]
  },
  {
   "cell_type": "markdown",
   "id": "e49254ab",
   "metadata": {},
   "source": [
    "## Dodatni, neobvezni izziv\n",
    "\n",
    "Napiši rekurzivno funkcijo `urejene(s)`, ki vrne `True`, če so ovire urejene po `y` in znotraj tega po `x0`. \n",
    "\n",
    " Klic `urejene([(1, 1, 4), (3, 5, 3), (2, 8, 1), (8, 10, 2)])` vrne `False`; kršitev je že na drugem mestu, saj je prva ovira v vrstici 4, druga v vrstici 3.\n",
    "\n",
    " Klic `urejene([(2, 8, 1), (8, 10, 2), (13, 15, 2), (1, 1, 4)])` vrne `True`: ovire so urejene po vrsticah (element z indeksom 2 --- 1, 2, 2, in 4) in znotraj tega po stolpcih (oviri v vrstici 2 sta shranjeni od leve proti desni -- najprej 8 in potem 13).  \n",
    "\n",
    "Če je naloga pretežka, za začetek poskusi napisati rekurzivno funkcijo, ki prejme seznam števil in pove, ali so urejena po velikosti (`True`) ali ne (`False`).\n",
    "\n",
    "### Rešitev\n",
    "\n",
    "Seznam je urejen, če vsebuje kvečjemu en element (ali celo nobenega), ali pa je prvi element manjši od drugega in je ostanek seznama urejen.\n",
    "\n",
    "Lepa rešitev je takšna:"
   ]
  },
  {
   "cell_type": "code",
   "execution_count": 7,
   "id": "5182c640",
   "metadata": {},
   "outputs": [],
   "source": [
    "def urejene(s):\n",
    "    if len(s) <= 1:\n",
    "        return True\n",
    "\n",
    "    x0, _, y0 = s[0]\n",
    "    x1, _, y1 = s[1]\n",
    "    return (y0 < y1 or y0 == y1 and x0 < x1) and urejene(s[1:])"
   ]
  },
  {
   "cell_type": "markdown",
   "id": "7b577efe",
   "metadata": {},
   "source": [
    "Spremenljivk `x0`, `x1`, `y0` in `y1` niti ne potrebujemo, saj lahko pišemo kar"
   ]
  },
  {
   "cell_type": "code",
   "execution_count": 8,
   "id": "1ad52ae7",
   "metadata": {},
   "outputs": [],
   "source": [
    "def urejene(s):\n",
    "    if len(s) <= 1:\n",
    "        return True\n",
    "    return (s[0][2] < s[1][2] or s[0][2] == s[1][2] and s[0][0] < s[1][0]) and urejene(s[1:])"
   ]
  },
  {
   "cell_type": "markdown",
   "id": "2cd5d45d",
   "metadata": {},
   "source": [
    "Vendar to odsvetujem. S tem, ko stvari poimenujemo, postane program pregleden. In obratno: če program vsebuje kup indeksov, se bomo med njimi izgubili in najbrž tudi kje zmotili."
   ]
  }
 ],
 "metadata": {
  "kernelspec": {
   "display_name": "Python 3 (ipykernel)",
   "language": "python",
   "name": "python3"
  },
  "language_info": {
   "codemirror_mode": {
    "name": "ipython",
    "version": 3
   },
   "file_extension": ".py",
   "mimetype": "text/x-python",
   "name": "python",
   "nbconvert_exporter": "python",
   "pygments_lexer": "ipython3",
   "version": "3.11.5"
  }
 },
 "nbformat": 4,
 "nbformat_minor": 5
}
