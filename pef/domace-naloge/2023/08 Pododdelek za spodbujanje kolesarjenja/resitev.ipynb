{
 "cells": [
  {
   "cell_type": "markdown",
   "id": "09e5034b",
   "metadata": {},
   "source": [
    "## Pododdelek za spodbujanje kolesarjenja\n",
    "\n",
    "Rezultati več let trajajoče študije Oddelka za motorni promet in gospodarske dejavnosti MOL so pokazali, da ljubljanske kolesarje najbolj moti to, da jih nihče ne spodbuja h kolesarjenju. Zato so ustanovili Pododdelek za spodbujanje kolesarjenja. Da bi dokazali svojo resnost, so na pododdelku tako zaposlili 16 resnih ljubiteljev kolesarjenja: vsi trije redno spremljajo televizijske prenose dirk, znajo našteti vse tri slovenske kolesarje (menda \"*Rogljič, Pogačnik in tisti na M*\"), poleg tega pa so obljubili, da se bodo v najkrajšem času tudi sami naučili dejansko voziti kolo. (Za to jim bo MOL tudi priskrbela službena kolesa, da se ne bodo vozili z lastnimi, saj jih nimajo.)\n",
    "\n",
    "Še več, dogovorili so se, kdo se bo naučil katero od veščin, potrebnih za kolesarjenje po Ljubljani. Na osnovi tega in drugih lastnosti so sestavili organigram, kdo bo šef komu. Nekateri imajo tudi več šefov. Organigram vidimo na sliki; poleg vsakega imena so zapisane klasične veščine iz drugih nalog, poleg tega pa Ana in Jana (v resnici vzdevka - gre za naši znanki iz drugih nalog, Angelco in Johanco) obvladata še marketing in računovodstvo, ker \"*ne morejo vsi samo kolesariti*\" (je rekla Angelca).\n",
    "\n"
   ]
  },
  {
   "cell_type": "markdown",
   "id": "df3e611e",
   "metadata": {},
   "source": [
    "<img src=\"data:image/.png;base64,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\"/>\n"
   ]
  },
  {
   "cell_type": "markdown",
   "id": "aaae728c",
   "metadata": {},
   "source": [
    "Skoraj vse funkcije, ki jih boste napisali, bodo prejele dva argumenta, nekatere pa še tretjega.\n",
    "- `organigram` je slovar, katerega ključi so imane \"šefov\", vrednosti pa množice njihovih podrejenih. Ključu `\"Berta\"` pripada množica `{\"Dani\", \"Ema\", \"Fanci\"}`. Slovar vsebuje tudi imena tistih, ki nimajo podrejenih; pripadajoča vrednost je prazna množica.\n",
    "- `dezorganigram` je slovar, katerega ključi so imena delavcev, pripadajoče množice pa imena njihovih šefov. Ključu `\"Fanci\"` pripada vrednost `{\"Berta\", \"Cilka\"}`.\n",
    "- `vescine` je slovar, katerega ključi so imena, vrednosti pa veščine, ki jih toimenska oseba obvlada. Ključu `\"Ema\"` pripada `{\"bolt\", \"robniki\"}`.\n",
    "\n",
    "Katere podatke uporabite in kako - je vaša stvar.\n"
   ]
  },
  {
   "cell_type": "markdown",
   "id": "a5b0dbd7",
   "metadata": {},
   "source": [
    "## Ocena 6\n",
    "\n",
    "Napišite naslednje funkcije.\n",
    "\n",
    "- `lojalisti(organigram, dezorganigram, sef)` vrne imena vseh oseb, ki so podrejene podani osebi `sef` in razen njega nimajo drugih šefov.\n",
    "- `shizofreniki(organigram, dezorganigram)` vrne množico imen oseb, ki imajo več kot enega šefa.\n",
    "- `multipraktik(organigram, dezorganigram)` vrne osebo, ki ima največ šefov. Če je takih oseb več, vrne poljubno izmed njih.\n",
    "- `butli(organigram, dezorganigram, vescine)` vrne množico imen oseb, ki ne obvladajo nobene veščine.\n",
    "\n",
    "### Rešitev\n",
    "\n",
    "Naloge za oceno 6 so v bistvu preverjale, ali znamo delati z zankami in pogoji. Slovarji so bili tu le zato, da smo imeli na čem pognati zanko. V resnici jih (vsaj v zglednih rešitvah) niti ne uporabimo kot slovarje temveč le kot sezname parov, saj gremo (v spodnih rešitevah) vedno z zanko prek `items()`, nikoli pa ne uporabimo indeksiranja. V množice pa v teh rešitvah tudi le dodajamo stvari."
   ]
  },
  {
   "cell_type": "markdown",
   "id": "581c8c40",
   "metadata": {},
   "source": [
    "### `lojalisti`\n",
    "\n",
    "Funkcijo se da seveda poljubno zaplesti. Ena preprostejših rešitev pa je"
   ]
  },
  {
   "cell_type": "code",
   "execution_count": 1,
   "id": "b28e5b30",
   "metadata": {},
   "outputs": [],
   "source": [
    "def lojalisti(organigram, dezorganigram, sef):\n",
    "    lojalni = set()\n",
    "    for delavec, sefi in dezorganigram.items():\n",
    "        if sefi == {sef}:\n",
    "            lojalni.add(delavec)\n",
    "    return lojalni"
   ]
  },
  {
   "cell_type": "markdown",
   "id": "ead80ad3",
   "metadata": {},
   "source": [
    "Gremo čez `dezorganigram`, saj nam ta za vsako osebo pove, kdo so njegovi šefi. Ker bomo potrebovali oboje - tako imena oseb kot množice šefov, gremo čez `dezorganigram.items()`. Če se izkaže, da je množica šefov neke osebe enaka množici, ki vsebuje le šefa, po katerem sprašujemo, dodamo tega delavca v množico lojalnih.\n",
    "\n",
    "Krajše pa tako:"
   ]
  },
  {
   "cell_type": "code",
   "execution_count": 2,
   "id": "47f0a6c8",
   "metadata": {},
   "outputs": [],
   "source": [
    "def lojalisti(organigram, dezorganigram, sef):\n",
    "    return {delavec for delavec, sefi in dezorganigram.items() if sefi == {sef}}"
   ]
  },
  {
   "cell_type": "markdown",
   "id": "0ac646a4",
   "metadata": {},
   "source": [
    "Če bi hoteli v tej funkciji uporabiti `organigram`, bi v bistvu (delno) sprogramirali funkcijo, ki iz organigrama naredi dezorganigram."
   ]
  },
  {
   "cell_type": "markdown",
   "id": "9a55130b",
   "metadata": {},
   "source": [
    "### `shizofreniki`\n",
    "\n",
    "Stvar je na las podobna, le da tokrat ne preverjamo `sefi == {sef}` temveč `len(sefi) > 1`. Rešitev je torej enaka gornji, le z drugačnim pogojem."
   ]
  },
  {
   "cell_type": "code",
   "execution_count": 3,
   "id": "a89e351d",
   "metadata": {},
   "outputs": [],
   "source": [
    "def shizofreniki(organigram, dezorganigram):\n",
    "    return {delavec for delavec, sefi in dezorganigram.items() if len(sefi) > 1}"
   ]
  },
  {
   "cell_type": "markdown",
   "id": "129d4c0a",
   "metadata": {},
   "source": [
    "### `multipraktik`\n",
    "\n",
    "Tole je klasika domačih (in izpitnih) nalog: iskanje maksimalnega elementa glede na določen ključ. Rešimo na dolgo"
   ]
  },
  {
   "cell_type": "code",
   "execution_count": 4,
   "id": "a73c090a",
   "metadata": {},
   "outputs": [],
   "source": [
    "def multipraktik(organigram, dezorganigram):\n",
    "    naj_sefov = None\n",
    "    naj_delavec = None\n",
    "    for delavec, sefi in dezorganigram.items():\n",
    "        if naj_sefov is None or len(sefi) > naj_sefov:\n",
    "            naj_sefov = len(sefi)\n",
    "            naj_delavec = delavec\n",
    "    return naj_delavec"
   ]
  },
  {
   "cell_type": "markdown",
   "id": "f1669237",
   "metadata": {},
   "source": [
    "ali, v letih, v katerih mimogrede izvemo za to, kaj se da početi z `max` in morda celo za `lambda`-funkcije, na kratko:"
   ]
  },
  {
   "cell_type": "code",
   "execution_count": 5,
   "id": "01aaa451",
   "metadata": {},
   "outputs": [],
   "source": [
    "def multipraktik(organigram, dezorganigram):\n",
    "    return max(dezorganigram, key=lambda x: len(dezorganigram[x]))"
   ]
  },
  {
   "cell_type": "markdown",
   "id": "1cf48fbd",
   "metadata": {},
   "source": [
    "### `butli`\n",
    "\n",
    "Tokrat nas (dez)organigram seveda ne zanima; uporabimo le `vescine`."
   ]
  },
  {
   "cell_type": "code",
   "execution_count": 6,
   "id": "92134feb",
   "metadata": {},
   "outputs": [],
   "source": [
    "def butli(organigram, dezorganigram, vescine):\n",
    "    neznalci = set()\n",
    "    for delavec, zna in vescine.items():\n",
    "        if not zna:\n",
    "            neznalci.add(delavec)\n",
    "    return neznalci"
   ]
  },
  {
   "cell_type": "markdown",
   "id": "d1ca6788",
   "metadata": {},
   "source": [
    "Krajše pa"
   ]
  },
  {
   "cell_type": "code",
   "execution_count": 7,
   "id": "00d4844f",
   "metadata": {},
   "outputs": [],
   "source": [
    "def butli(organigram, dezorganigram, vescine):\n",
    "    return {delavec for delavec, zna in vescine.items() if not zna}"
   ]
  },
  {
   "cell_type": "markdown",
   "id": "2e3908a3",
   "metadata": {},
   "source": [
    "## Ocena 7\n",
    "\n",
    "Napišite naslednje funkcije.\n",
    "\n",
    "- `dezorganigram(organigram)` prejme `organigram` in vrne ustrezen `dezorganigram`. (Ali, če razmislite, tudi obratno. :)\n",
    "- `kolegi(organigram, dezorganigram, delavec)` vrne imena vseh, ki delajo za istega šefa kot podani `delavec`. Če ima `delavec` več šefov, vrne vse, ki delajo za kateregakoli od njih.\n",
    "- `sefi(organigram, dezorganigram)`: pravi šef, je tisti, ki ima največ podrejenih, ki delajo samo za njega. Pravi šef je Greta, saj ima tri podrejene, ki delajo samo zanjo. Če da, recimo, Nina odpoved, pa bodo pravi šefi Ana, Berta in Greta, saj bodo imeli po dva podrejena, ki delata samo zanju. Funkcija `sefi` mora vrniti množico vseh pravih šefov.\n",
    "\n",
    "### Rešitev\n",
    "\n",
    "Naloge za oceno 7 so bile naloge iz množic in slovarjev."
   ]
  },
  {
   "cell_type": "markdown",
   "id": "35c41567",
   "metadata": {},
   "source": [
    "### `dezorganigram`\n",
    "\n",
    "Naloga sicer ni težka, popaziti pa moramo, da v slovar dodamo vse, kar je potrebno. Nekoliko nerodnejša rešitev je:"
   ]
  },
  {
   "cell_type": "code",
   "execution_count": 8,
   "id": "611a0eb5",
   "metadata": {},
   "outputs": [],
   "source": [
    "def dezorganigram(organigram):\n",
    "    obratni = {}\n",
    "    for sef, podrejeni in organigram.items():\n",
    "        if sef not in obratni:\n",
    "            obratni[sef] = set()\n",
    "        for delavec in podrejeni:\n",
    "            if delavec not in obratni:\n",
    "                obratni[delavec] = set()\n",
    "            obratni[delavec].add(sef)\n",
    "    return obratni"
   ]
  },
  {
   "cell_type": "markdown",
   "id": "47d2b8b4",
   "metadata": {},
   "source": [
    "Vrstica `obratni[sef] = set()` je potrebna zato, ker se morajo v obratnem slovarju pojaviti tudi tisti, ki nastopajo le kot šefi. To je, v našem primeru, Ana: v dezorganigramu mora biti tudi ključ Ana, pripada pa mu prazna množica, ker Ana nima šefa. Če bi nove elemente dodajali le v vlogi delavcev, bi Ano izpustili. Pogoj `if sef not in obratni` pa je seveda potreben zato, da ne bi v primeru, da smo nekoga, ki je že nastopil kot delavec in ima že kakega šefa, dodali na novo in s tem pobrisali njegove dosedanje šefe.\n",
    "\n",
    "Druga zanka je očitna: gremo čez vse delavce, ki so podrejeni nekemu šefu, in v slovar v množico, ki pripada ključu z imenom delavca, dodamo šefa, `obratni[delavec].add(sef)`. Če tega ključa poprej še ni bilo, ga seveda dodamo, `if delavec not in obratni: obratni[delavec] = set()`.\n",
    "\n",
    "Rešitev resnejšega programerja v Pythonu je"
   ]
  },
  {
   "cell_type": "code",
   "execution_count": 9,
   "id": "fb6d6029",
   "metadata": {},
   "outputs": [],
   "source": [
    "def dezorganigram(organigram):\n",
    "    obratni = collections.defaultdict(set)\n",
    "    for sef, podrejeni in organigram.items():\n",
    "        obratni.setdefault(sef, set())\n",
    "        for delavec in podrejeni:\n",
    "            obratni[delavec].add(sef)\n",
    "    return obratni"
   ]
  },
  {
   "cell_type": "markdown",
   "id": "7393e37e",
   "metadata": {},
   "source": [
    "S tem, ko uporabimo `collections.defaultdict(set)` namesto običajnega slovarja, `{}`, se bodo novi elementi pojavljali sami in ni več potrebe po `if delavec not in obratni: obratni[delavec] = set()`.\n",
    "\n",
    "Metoda `d.setdefault(key, value)` pa v slovar `d` doda ključ `key` z vrednostjo `value`, če ta še ni obstajal. Če je, pa ne naredi ničesar. Natančno to, kar potrebujemo."
   ]
  },
  {
   "cell_type": "markdown",
   "id": "7c80c155",
   "metadata": {},
   "source": [
    "Ker imamo `defaultdict`, deluje tudi tole:"
   ]
  },
  {
   "cell_type": "code",
   "execution_count": 10,
   "id": "e5555cc0",
   "metadata": {},
   "outputs": [],
   "source": [
    "def dezorganigram(organigram):\n",
    "    obratni = collections.defaultdict(set)\n",
    "    for sef, podrejeni in organigram.items():\n",
    "        for delavec in podrejeni:\n",
    "            obratni[delavec].add(sef)\n",
    "    return obratni"
   ]
  },
  {
   "cell_type": "markdown",
   "id": "573a1776",
   "metadata": {},
   "source": [
    "Tu smo namesto `obratni.setdefault(sef, set())` napisali `obratni[sef]`. Stranski učinek tega, da poizvedujemo po ključu, ki ga morda ni, je, da se ta ključ pojavi. To je čudno. PyCharm to označi s *Statement seems to have no effect*, tudi lint se najbrž pritožuje... Programerja (tudi izkušenega) to zmede. To je res eden od načinov, na katere se da dodati ta ključ, vendar je neobičajen; običajen način za dodajanje ključa, če ga še ni, je `setdefault`, indeksiranje, se pravi `obratni[sef]` pa uporabimo, kadar nas dejansko zanima vrednost, ne pa, kadar bi radi dosegli zgolj stranski učinek."
   ]
  },
  {
   "cell_type": "markdown",
   "id": "d8dd9c4a",
   "metadata": {},
   "source": [
    "### `kolegi`\n",
    "\n",
    "Vrniti moramo unijo množic ljudi, ki so podrejeni šefom tega delavca - razen njega samega."
   ]
  },
  {
   "cell_type": "code",
   "execution_count": 11,
   "id": "152079f7",
   "metadata": {},
   "outputs": [],
   "source": [
    "def kolegi(organigram, dezorganigram, delavec):\n",
    "    sodelavci = set()\n",
    "    for sef in dezorganigram[delavec]:\n",
    "        sodelavci |= organigram[sef]\n",
    "    return sodelavci - {delavec}"
   ]
  },
  {
   "cell_type": "markdown",
   "id": "e5088747",
   "metadata": {},
   "source": [
    "Gremo torej čez vse šefe - dobimo jih v `dezorganigramu`. V `sodelavci` priunijamo podrejene vsakega od teh šefov - dobimo jih v `organigramu`. Na koncu vrnemo to unijo, le `{delavec}` odštejemo od nje."
   ]
  },
  {
   "cell_type": "markdown",
   "id": "e67f4a88",
   "metadata": {},
   "source": [
    "V letih, ko izčvekam kaj več o unijah in drugih čudnih stvareh, pa znamo to rešiti takole"
   ]
  },
  {
   "cell_type": "code",
   "execution_count": 12,
   "id": "4802eaae",
   "metadata": {},
   "outputs": [],
   "source": [
    "def kolegi(organigram, dezorganigram, delavec):\n",
    "    return set().union(*(organigram[sef] for sef in dezorganigram[delavec])) - {delavec}"
   ]
  },
  {
   "cell_type": "markdown",
   "id": "11266fc4",
   "metadata": {},
   "source": [
    "### `sefi`\n",
    "\n",
    "Tudi to ni neobičajna naloga: iskanje maksimalnega elementa glede na določen kriterij (tule: glede na število podrejenih), pri čemer pa moramo v primeru, da je enako maksimalnih elementov več, vrniti vse."
   ]
  },
  {
   "cell_type": "code",
   "execution_count": 13,
   "id": "18cc1e44",
   "metadata": {},
   "outputs": [],
   "source": [
    "def sefi(organigram, dezorganigram):\n",
    "    naj = -1\n",
    "    sefi = set()\n",
    "    for sef in organigram:\n",
    "        mojih = len(lojalisti(organigram, dezorganigram, sef))\n",
    "        if mojih > naj:\n",
    "            sefi = {sef}\n",
    "            naj = mojih\n",
    "        elif mojih == naj:\n",
    "            sefi.add(sef)\n",
    "    return sefi"
   ]
  },
  {
   "cell_type": "markdown",
   "id": "476470bb",
   "metadata": {},
   "source": [
    "`naj` bo največje število podrejenih, `sefi` pa množica tistih, ki imajo toliko (torej: `naj`) podrejenih.\n",
    "\n",
    "Gremo čez organigram. Za vsakega izvemo, koliko *lojalistov* ima (če ne uporabite funkcije `lojalisti`, ste si sami krivi, da je funkcija postala zapletena čez vsako mero). Če je število lojalistov večje od največjega doslej, je ta šef edini največji šef (doslej), `sefi = {sef}` in `naj` je seveda število njegovih lojalistov. Če pa je število lojalistov enako največjemu doslej, se ta šef pridruži trenutnim največjim šefom, `sefi.add(sef)`.\n",
    "\n",
    "Razlika je v tem, da v prvem primeru začnemo množico znova, zgolj s tem šefom, v drugem pa ga dodamo vanjo."
   ]
  },
  {
   "cell_type": "markdown",
   "id": "462e9dcb",
   "metadata": {},
   "source": [
    "## Ocena 8\n",
    "\n",
    "Napišite naslednje funkcije.\n",
    "\n",
    "- `zapisi(organigram, vescine, ime_datoteke)` v datoteko z imenom `ime_datoteke` zapiše podatke o zaposlenih. Vsaka vrstica vsebuje ime zaposlenega, sledi podpičje, nato so naštete vse veščine (ločene z vejicami), nato vsi podrejeni, ločeni z vejicami. Vsa imena in vse veščine morajo biti urejene po abecedi. Za podpičji in vejicami je lahko (en) presledek, lahko pa ga tudi ni - kot želite.\n",
    "\n",
    "    Za organigram na sliki se datoteka začne takole:\n",
    "\n",
    "    ```\n",
    "    Ana; marketing, racunovodstvo, stopnice; Berta, Cilka\n",
    "    Berta; gravel, pesci ,robniki; Dani, Ema, Fanci\n",
    "    Cilka; avtocesta, gravel, robnik, rodeo; Fanci, Greta\n",
    "    ```\n",
    "\n",
    "- `preberi(ime_datoteke)` prebere podatke o zaposlenih iz datoteke z imenom `ime_datoteke` in vrne par slovarjev - organigram in veščine.\n",
    "\n"
   ]
  },
  {
   "cell_type": "markdown",
   "id": "b8a56c67",
   "metadata": {},
   "source": [
    "### Rešitev\n",
    "\n",
    "Tole je, očitno, naloga iz nizov in datotek. Filozofirati ni kaj dosti. Ena, kar kratka, rešitev je"
   ]
  },
  {
   "cell_type": "code",
   "execution_count": 14,
   "id": "3e63ff9f",
   "metadata": {},
   "outputs": [],
   "source": [
    "def preberi(ime_datoteke):\n",
    "    organigram = {}\n",
    "    vescine = {}\n",
    "    for vrstica in open(ime_datoteke):\n",
    "        sef, vvescine, delavci = vrstica.strip().split(\";\")\n",
    "        organigram[sef] = set(delavci.strip().split(\", \")) if delavci.strip() else set()\n",
    "        vescine[sef] = set(vvescine.strip().split(\", \")) if vvescine.strip() else set()\n",
    "    return organigram, vescine\n",
    "\n",
    "def zapisi(organigram, vescine, ime_datoteke):\n",
    "    f = open(ime_datoteke, \"w\")\n",
    "    for sef, delavci in organigram.items():\n",
    "        f.write(f\"{sef}; {', '.join(sorted(vescine[sef]))}; {', '.join(sorted(delavci))}\\n\")"
   ]
  },
  {
   "cell_type": "markdown",
   "id": "b22dfa55",
   "metadata": {},
   "source": [
    "Dva trika sta vredna omembe.\n",
    "\n",
    "Ker vemo, da bo vrstica sestavljena iz treh elementov, ločenih s `;`, lahko rezultate `split`-a priredimo trem spremenljivkam, `sef, vvescine, delavci = vrstica.strip().split(\";\")`.\n",
    "\n",
    "Drugi: niz `delavci` najprej oluščimo presledkov, potem pa razdelimo glede na vejico. Rezultat `split`-a je seznam, naloga pa zahteva množico, zato seznam pretvorimo v `set`: `set(delavci.strip().split(\", \"))`. Sitnost pa je v tem, da bo v primeru, da je `delavci.strip()` prazen, klic `delavci.strip().split(\", \")` vrnil `[\"\"]` in množica ne bo prazna, temveč bo vsebovala prazen niz `{\"\"}`. Tega se rešimo tako, da v primeru, ko je `delavci.strip()` prazen, vrnemo `set()`. Kako to storiti, vidimo zgoraj.\n",
    "\n",
    "Tu je sicer moteče, da dvakrat kličemo `delavci.strip()` (in, kasneje, `vvescine.strip()`). Obstaja način, kako se temu izogniti, vendar je tako neestetski, da imam raje dvojni klic `strip`, saj ta navsezadnje ne vzame toliko časa:\n",
    "\n",
    "```python\n",
    "        organigram[sef] = set(sd.split(\", \")) if (sd := delavci.strip()) else set()\n",
    "        vescine[sef] = set(sv.split(\", \")) if (sv := vvescine.strip()) else set()\n",
    "```\n",
    "\n",
    "Druga možnost je, da od množice, ki jo vrne `set(...split(\", \")` odštejemo prazen niz:\n",
    "\n",
    "```python\n",
    "        organigram[sef] = set(delavci.strip().split(\", \")) - {\"\"}\n",
    "        vescine[sef] = set(vvescine.strip().split(\", \")) - {\"\"}\n",
    "```\n",
    "\n",
    "To sicer deluje, vendar mi je od vseh treh različic še najmanj všeč: prvi dve povesta, v kakšni situaciji dobimo ta nesrečni prazni niz, ki se ga je treba znebiti. V zadnji ni jasno, kako pride do njega, poleg tega pa nikakor ni očitno, da je v tem primeru prazni niz tudi edini element množice in da z odštevanjem tu pravzprav dobimo prazno množico.\n",
    "\n",
    "Seveda obstaja tudi zgledna rešitev,"
   ]
  },
  {
   "cell_type": "code",
   "execution_count": 15,
   "id": "1e4c1d43",
   "metadata": {},
   "outputs": [],
   "source": [
    "def preberi(ime_datoteke):\n",
    "    organigram = {}\n",
    "    vescine = {}\n",
    "    for vrstica in open(ime_datoteke):\n",
    "        sef, vvescine, delavci = vrstica.strip().split(\";\")\n",
    "        delavci = delavci.strip()\n",
    "        if delavci:\n",
    "            organigram[sef] = set(delavci.strip().split(\", \"))\n",
    "        else:\n",
    "            organigram[sef] = set()\n",
    "        vvescine = vvescine.strip()\n",
    "        if vvescine:\n",
    "            vescine[sef] = set(vvescine.strip().split(\", \"))\n",
    "        else:\n",
    "            vescine[sef] = set()\n",
    "    return organigram, vescine"
   ]
  },
  {
   "cell_type": "markdown",
   "id": "25abbbe8",
   "metadata": {},
   "source": [
    "vendar za take res nimam potrpljenja. (Osebno: to je v resnici lepše, vendar mi branje tega vzame več časa kot branje prve ali druge.)"
   ]
  },
  {
   "cell_type": "markdown",
   "id": "edad73e7",
   "metadata": {},
   "source": [
    "## Ocena 9\n",
    "\n",
    "**Za oceno 9 za začetek poskrbi, da bodo vsaj tri od štirih funkcij za oceno 6 napisane v eni vrstici, s primernimi izpeljanimi množicami.**\n",
    "\n",
    "Nato napiši naslednje funkcije:\n",
    "\n",
    "- `samodrzci(organigram, dezorganigram, vescine)` vrne množico imen šefov, ki znajo kaj, česar ne zna nihče od njihovih neposredno podrejenih. Eden od njih je, recimo, Cilka, ki zna voziti čez robnike, česar ne znata na Fanči na Greta.\n",
    "- `samouki(organigram, dezorganigram, vescine)` vrne množico imen oseb, ki obvladajo kaj, česar ne zna nobeden od njihovih šefov. Klara, recimo, je samouk, ker obvalada rodeo (d), česar ne znata ne Ema ne Fanči.\n",
    "- `ucenjaki(organigram, dezorganigram, vescine)` vrne množico imen oseb, ki obvladajo vse, kar obvladajo vsi njihovi kolegi. Dani je učenjak, ker obvlada vse, kar obvladata Ema in Fanči.\n"
   ]
  },
  {
   "cell_type": "markdown",
   "id": "2a5adede",
   "metadata": {},
   "source": [
    "### Rešitev\n",
    "\n",
    "Za prvi del smo poskrbeli že sproti: v eni vrstici smo napisali vse štiri funkcije. Za študente je bilo mišljeno, da napišejo prvo, drugo in četrto, ki zahtevata le običajne generatorske izraze in ne tretje, ki zahteva še lambda-funkcije.\n",
    "\n",
    "Ostale naloge so malo naprednejše naloge iz dela z množicami. Pa slovarji, seveda, tudi.\n",
    "\n",
    "### `samodrzci`"
   ]
  },
  {
   "cell_type": "code",
   "execution_count": 16,
   "id": "1c011699",
   "metadata": {},
   "outputs": [],
   "source": [
    "def samodrzci(organigram, dezorganigram, vescine):\n",
    "    samo = set()\n",
    "    for sef, podrejeni in organigram.items():\n",
    "        if not podrejeni:\n",
    "            continue\n",
    "        moje = vescine[sef].copy()\n",
    "        for delavec in podrejeni:\n",
    "            moje -= vescine[delavec]\n",
    "        if moje:\n",
    "            samo.add(sef)\n",
    "    return samo"
   ]
  },
  {
   "cell_type": "markdown",
   "id": "11e7ac20",
   "metadata": {},
   "source": [
    "Gremo čez organigram. Če nekdo nima podrejenih, nas ne zanima - `if not podrejeni: continue`. Namesto `continue` bi lahko pisali tudi `if podrejeni:` in potem zamaknili vso ostalo vsebino zanke. Meni je ljubše uporabiti `continue`, ker ga razumem kot *ta me ne zanima, vzemi naslednjega*.\n",
    "\n",
    "Nato naredimo kopijo množice podrejenih. To je pomembno, saj bomo to množico spreminjali. Če ne naredimo kopije, dobimo novo \"puščico\" na množico, ki je shranjena v slovarju `vescine` in bomo tako dejansko spreminjali ta slovar (oziroma njegovo vsebino).\n",
    "\n",
    "Nato gremo čez vse podrejene, da iz množice odstranimo vse, kar zna kateri od podrejenih. Če množica na koncu ni prazna, dodamo šefa med samodržce."
   ]
  },
  {
   "cell_type": "markdown",
   "id": "0945237c",
   "metadata": {},
   "source": [
    "Enovrstična rešitev je"
   ]
  },
  {
   "cell_type": "code",
   "execution_count": 17,
   "id": "8292f6af",
   "metadata": {},
   "outputs": [],
   "source": [
    "def samodrzci(organigram, dezorganigram, vescine):\n",
    "    return {sef\n",
    "            for sef, podrejeni in organigram.items()\n",
    "            if podrejeni and vescine[sef] - set().union(*(vescine[delavec] for delavec in podrejeni))}"
   ]
  },
  {
   "cell_type": "markdown",
   "id": "caafaa69",
   "metadata": {},
   "source": [
    "### `samouki`\n",
    "\n",
    "To je natančno isto, le v drugo smer. Se pravi: le namesto organigrama uporabimo dezorganigram."
   ]
  },
  {
   "cell_type": "code",
   "execution_count": 18,
   "id": "fb986633",
   "metadata": {},
   "outputs": [],
   "source": [
    "def samouki(organigram, dezorganigram, vescine):\n",
    "    samo = set()\n",
    "    for sef, podrejeni in dezorganigram.items():\n",
    "        moje = vescine[sef].copy()\n",
    "        for delavec in podrejeni:\n",
    "            moje -= vescine[delavec]\n",
    "        if moje:\n",
    "            samo.add(sef)\n",
    "    return samo"
   ]
  },
  {
   "cell_type": "markdown",
   "id": "0e80589d",
   "metadata": {},
   "source": [
    "Funkcijo sem kar skopiral (zato ima malo napačna imena spremenljivk - `sef` in `podrejeni` bi moral preimenovati v `delavec` in `nadrejeni`, vendar puščam enako, da vidimo, kako ista funkcija je to). Le nekaj sem moral odstraniti: tisti `if` in `continue` na začetku. Prej smo preverjali, da nekdo nima podrejenih, zdaj pa nas ne moti, če nima šefov.\n",
    "\n",
    "To je razlog, da spodnja rešitev žal ne deluje:"
   ]
  },
  {
   "cell_type": "code",
   "execution_count": 19,
   "id": "64ab2bd6",
   "metadata": {},
   "outputs": [],
   "source": [
    "def samouki(organigram, dezorganigram, vescine):\n",
    "    return samodrzci(dezorganigram, organigram, vescine)"
   ]
  },
  {
   "cell_type": "markdown",
   "id": "38b6171f",
   "metadata": {},
   "source": [
    "Njena ideja je lepa in zvita: če sta funkciji enaki, le da `orgranigram` zamenjamo z `dezorgranigram`, lahko `samouki` preprosto pokliče `samodrzci` z zamenjanimi argumenti. Vendar ... žal ne, ker bo izpustilo šefe. Te lahko sicer dodamo naknadno,"
   ]
  },
  {
   "cell_type": "code",
   "execution_count": 20,
   "id": "dc1073cb",
   "metadata": {},
   "outputs": [],
   "source": [
    "def samouki(organigram, dezorganigram, vescine):\n",
    "    return samodrzci(dezorganigram, organigram, vescine) \\\n",
    "           | {delavec for delavec, sefi in dezorganigram.items() if not sefi and vescine[delavec]}"
   ]
  },
  {
   "cell_type": "markdown",
   "id": "b61010d6",
   "metadata": {},
   "source": [
    "tako da dodamo vse, ki nimajo nadrejenih in kaj znajo. Vendar, no, škoda."
   ]
  },
  {
   "cell_type": "markdown",
   "id": "5ffdc452",
   "metadata": {},
   "source": [
    "### `ucenjaki`\n",
    "\n",
    "Tole je spet podobno, le da gremo tokrat prek kolegov, ne podrejenih ali nadrejenih. Poleg tega nas ne zanima, ali delavec zna kaj, česar ne znajo drugi, temveč, ali zna vse in še več. Torej ne bomo odštevali množic, temveč iskali nadmnožice."
   ]
  },
  {
   "cell_type": "code",
   "execution_count": 21,
   "id": "20242b56",
   "metadata": {},
   "outputs": [],
   "source": [
    "def ucenjaki(organigram, dezorganigram, vescine):\n",
    "    ucen = set()\n",
    "    for delavec in organigram:\n",
    "        znajo = set()\n",
    "        for kolega in kolegi(organigram, dezorganigram, delavec):\n",
    "            znajo |= vescine[kolega]\n",
    "        if vescine[delavec] >= znajo:\n",
    "            ucen.add(delavec)\n",
    "    return ucen"
   ]
  },
  {
   "cell_type": "markdown",
   "id": "21129ff6",
   "metadata": {},
   "source": [
    "Spet gre tudi krajše, če znamo računati unije."
   ]
  },
  {
   "cell_type": "code",
   "execution_count": 22,
   "id": "07aa6349",
   "metadata": {},
   "outputs": [],
   "source": [
    "def ucenjaki(organigram, dezorganigram, vescine):\n",
    "    return {delavec\n",
    "            for delavec in organigram\n",
    "            if vescine[delavec] >= set().union(\n",
    "                *(vescine[kolega] for kolega in kolegi(organigram, dezorganigram, delavec))\n",
    "            )}"
   ]
  },
  {
   "cell_type": "markdown",
   "id": "64e63625",
   "metadata": {},
   "source": [
    "## Ocena 10\n",
    "\n",
    "Napišite naslednje funkcije.\n",
    "\n",
    "- `nivo(organigram, dezorganigram, delavec)` vrne nivo osebe v hierarhiji. Nivo Ane je 0, nivo Berte je 1, nivo Fanči je 2 ...\n",
    "- `stevilo_nivojev(organigram, dezorganigram)` vrne število nivojev v hierarhiji. Za primer na sliki vrne 4.\n",
    "- `nadrejeni(organigram, dezorganigram, delavec)` vrne množico imen vseh nadrejenih osebe `delavec`, vključno z osebo samo. Nadrejeni Jani so `{\"Ana\", \"Berta\", \"Cilka\", \"Dani\", \"Ema\", \"Fanci\", \"Jana\"}`.\n",
    "- `nadrejeni_zares(organigram, dezorganigram, delavec)` vrne množico imen vseh nadrejenih osebe, brez te osebe same. Za Jano mora torej vrniti `{\"Ana\", \"Berta\", \"Cilka\", \"Dani\", \"Ema\", \"Fanci\"}`.\n",
    "\n",
    "### Rešitev\n"
   ]
  },
  {
   "cell_type": "markdown",
   "id": "96dd0f8e",
   "metadata": {},
   "source": [
    "### `nivo`\n",
    "\n",
    "To bi bila naloga iz rekurzije, če ne bi imeli zagotovila, da je vsak zaposleni na istem nivoju ne glede na to, po kateri poti pridemo do njega. Nalogo torej rešimo preprosto tako, da se pomikamo po dezorganigramu navzgor. Tule je nekaj rešitev."
   ]
  },
  {
   "cell_type": "code",
   "execution_count": 23,
   "id": "13b4b52d",
   "metadata": {},
   "outputs": [],
   "source": [
    "def nivo(organigram, dezorganigram, delavec):\n",
    "    nivo = 0\n",
    "    while dezorganigram[delavec]:\n",
    "        nivo += 1\n",
    "        delavec = list(dezorganigram[delavec])[0]\n",
    "    return nivo\n",
    "\n",
    "\n",
    "def nivo(organigram, dezorganigram, delavec):\n",
    "    nivo = 0\n",
    "    while True:\n",
    "        nad = dezorganigram[delavec]\n",
    "        if not nad:\n",
    "            return nivo\n",
    "        nivo += 1\n",
    "        delavec = list(nad)[0]\n",
    "        \n",
    "    \n",
    "from itertools import count\n",
    "\n",
    "def nivo(organigram, dezorganigram, delavec):\n",
    "    for nivo in count():\n",
    "        if not dezorganigram[delavec]:\n",
    "            return nivo\n",
    "        delavec = list(dezorganigram[delavec])[0]"
   ]
  },
  {
   "cell_type": "markdown",
   "id": "b3699878",
   "metadata": {},
   "source": [
    "Moja najljubša je zadnja. Ni le najkrajša, temveč v njej tudi ne moremo pozabiti `nivo += 1`. Pa še funkcija `count` (ki je kot `range`, le da šteje do neskočno) lepo pove, kaj v bistvu počnemo."
   ]
  },
  {
   "cell_type": "markdown",
   "id": "836b1eb0",
   "metadata": {},
   "source": [
    "Kdor hoče, lahko nalogoo seveda rešuje tudi z rekurzijo po organigramu navzdol, vendar ... zakaj?"
   ]
  },
  {
   "cell_type": "markdown",
   "id": "fdb12230",
   "metadata": {},
   "source": [
    "### `stevilo_nivojev`\n",
    "\n",
    "Ni kaj."
   ]
  },
  {
   "cell_type": "code",
   "execution_count": 24,
   "id": "e77fb0bf",
   "metadata": {},
   "outputs": [],
   "source": [
    "def stevilo_nivojev(organigram, dezorganigram):\n",
    "    return max(nivo(organigram, dezorganigram, delavec) for delavec in organigram)"
   ]
  },
  {
   "cell_type": "markdown",
   "id": "487fdcbe",
   "metadata": {},
   "source": [
    "### `nadrejeni`\n",
    "\n",
    "Tule pa je res najprikladneje uporabiti rekurzijo. Tudi zato, ker smo natančno takšno rekurzivno funkcijo že pisali. Gre za nabiranje imen vseh članov rodbine, le navzgor namesto navzdol."
   ]
  },
  {
   "cell_type": "code",
   "execution_count": 25,
   "id": "d53f0eaf",
   "metadata": {},
   "outputs": [],
   "source": [
    "def nadrejeni(organigram, dezorganigram, delavec):\n",
    "    nad = {delavec}\n",
    "    for sef in dezorganigram[delavec]:\n",
    "        nad |= nadrejeni(organigram, dezorganigram, sef)\n",
    "    return nad"
   ]
  },
  {
   "cell_type": "markdown",
   "id": "af755100",
   "metadata": {},
   "source": [
    "### `nadrejeni_zares`\n",
    "\n",
    "Če \"brez te osebe\", potem pač brez te osebe."
   ]
  },
  {
   "cell_type": "code",
   "execution_count": 26,
   "id": "a20bbcec",
   "metadata": {},
   "outputs": [],
   "source": [
    "def nadrejeni_zares(organigram, dezorganigram, delavec):\n",
    "    return nadrejeni(organigram, dezorganigram, delavec) - {delavec}"
   ]
  }
 ],
 "metadata": {
  "kernelspec": {
   "display_name": "Python 3 (ipykernel)",
   "language": "python",
   "name": "python3"
  },
  "language_info": {
   "codemirror_mode": {
    "name": "ipython",
    "version": 3
   },
   "file_extension": ".py",
   "mimetype": "text/x-python",
   "name": "python",
   "nbconvert_exporter": "python",
   "pygments_lexer": "ipython3",
   "version": "3.11.5"
  }
 },
 "nbformat": 4,
 "nbformat_minor": 5
}
