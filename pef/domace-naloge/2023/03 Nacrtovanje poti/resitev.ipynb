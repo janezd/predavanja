{
 "cells": [
  {
   "cell_type": "markdown",
   "id": "e155d07f",
   "metadata": {},
   "source": [
    "Mestna občina Ljubljana je objavila [video o vedenju kolesarjev v Ljubljani](https://www.youtube.com/watch?v=nmhrbzplGX4). Na kratko: MOL izpostavlja tipične navade ljubljanskih kolesarjev, kot so divji spusti po stopnicah, divjanje med pešci in tako naprej. Ker je osnovno prevozno sredstvo vašega profesorja kolo in ker tretjino letne kilometrine žal opravi v Ljubljani, pri čemer se od (domnevne večine) ostalih kolesarjev razlikuje po tem, da nekaterih od teh veščin ne obvlada (večine ostalih pa noče prakticirati), vas prosi, da mu za lažje načrtovanje poti rešite tole nalogo. Hvala vnaprej.\n",
    "\n",
    "---\n",
    "\n",
    "<img style=\"float: right\" src=\"data:image/.png;base64,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\"/>\n",
    "\n",
    "Zemljevid na sliki kaže 21 točk v Ljubljani (zaradi varstva osebnih podatkov smo imena lokacij zamenjali s črkami od A do V) in povezave med njimi. Povezave zahtevajo različne veščine: kdor hoče, na primer priti iz točke B do C, mora obvladati vožnjo med odvrženimi skiroji in slalom med cvetličnimi lonci.\n",
    "\n",
    "Celoten seznam veščin, ki se pojavljajo v nalogi, je:\n",
    "\n",
    "- **s**topnice: Spust po stopnicah\n",
    "- **p**ešci: Divjanje med pešci\n",
    "- **l**onci: Slalom med cvetličnimi lonci\n",
    "- **b**olt: Slalom med odvrženimi skiroji\n",
    "- **r**obnik: Skok na robnik pločnika\n",
    "- **g**ravel: Vožnja po razsutem makadamu\n",
    "- **t**rava: Oranje zelenic parkov\n",
    "- **a**vtocesta: Vožnja po avtocesti\n",
    "- **č**repinje: Vožnja po razbiti steklovini\n",
    "- ro**d**eo: Vožnja po kolesarski poti skozi Črnuče\n",
    "\n",
    "Zemljevid na sliki zaradi pomanjkanja prostora uporablja enočrkovne okrajšave veščin, v sami nalogi pa je zapisan takole:\n",
    "\n",
    "```\n",
    "A, B, C, D, E, F, G, H, I, J, K, L, M, N, O, P, R, S, T, U, V = \"ABCDEFGHIJKLMNOPRSTUV\"\n",
    "\n",
    "zemljevid = {\n",
    "    (A, B): \"gravel trava\",\n",
    "    (A, V): \"pešci lonci\",\n",
    "    (B, C): \"bolt lonci\",\n",
    "    (B, V): \"\",\n",
    "    (C, R): \"stopnice pešci lonci\",\n",
    "    ... in tako naprej\n",
    "}\n",
    "```\n",
    "\n",
    "Ključi zemljevida so pari povezanih točk, pripadajoča vrednost pa je niz, ki vsebuje s presledkom ločene okrajšave veščin. Tako vidimo pod ključem `(B, C)` zapisano `\"bolt lonci\"`, kar je okrajšava za veščini *Slalom med odvrženimi skiroji* in *Slalom med cvetličnimi lonci*.\n",
    "\n",
    "Vse povezave so dvosmerne, saj lahko MOL poljubno površino, namenjeno kolesarjem, označi kot dvosmerno. Če v zemljevidu obstaja ključ `(A, B)`, obstaja tudi ključ `(B, A)`.\n",
    "\n",
    "## Naloga\n",
    "\n",
    "Napiši naslednje funkcije (poleg njih pa, po želji, poljubno število drugih funkcij):\n",
    "\n",
    "- `mozna_pot(pot, vescine, zemljevid)` prejme `pot` v obliki niza z zaporedjem križišč, seznam veščin, ki jih obvlada kolesar, in `zemljevid` v obliki iz uvoda naloge. Funkcija mora vrniti točko, do katere bo uspel pripeljati kolesar, torej točko, iz katere ne bo mogel naprej, ker želena povezava ne obstaja ali pa je med veščinami, ki so potrebne, da jo prevozi, tudi ena ali več veščin, ki jih kolesar ne obvlada.\n",
    "  \n",
    "    - Klic `mozna_pot(\"RIPOPSTUVR\", [\"stopnice\", \"robnik\", \"gravel\", \"trava\"], zemljevid)` vrne \"U\", saj luzer ne zna slalomirati med cvetličnimi lonci, postavljeni med U in V.\n",
    "\n",
    "    - Klic `mozna_pot(\"RIPOPAB\", [\"stopnice\", \"robnik\", \"gravel\", \"trava\"], zemljevid)` vrne \"P\", saj med P in A ni povezave.\n",
    "\n",
    "    - Klic `mozna_pot(\"RIPOPS\", [\"stopnice\", \"robnik\", \"gravel\", \"trava\"], zemljevid)` vrne \"S\", saj na poti ni nič takšnega, česar ne bi obvladal."
   ]
  },
  {
   "cell_type": "markdown",
   "id": "9164fd2e",
   "metadata": {},
   "source": [
    "### Rešitev\n",
    "\n",
    "Naloga je podobna nalogi `prevozno` s prejšnjega tedna, le da je poleg tega, ali povezava obstaja, potrebno preveriti še, ali kolesar obvlada veščine, ki jih zahteva povezava."
   ]
  },
  {
   "cell_type": "code",
   "execution_count": 1,
   "id": "441fc2ef",
   "metadata": {},
   "outputs": [],
   "source": [
    "def mozna_pot(pot, vescine, zemljevid):\n",
    "    vescine = set(vescine)\n",
    "    for povezava in zip(pot, pot[1:]):\n",
    "        if povezava not in zemljevid or not vescine >= set(zemljevid[povezava].split()):\n",
    "            return povezava[0]\n",
    "    return pot[-1]"
   ]
  },
  {
   "cell_type": "markdown",
   "id": "4066618f",
   "metadata": {},
   "source": [
    "Bistveni trik je tale: oboje, veščine, ki jih obvlada kolesar in veščine, ki jih zahteva povezava, pretvorimo v množice. Veščine, pripisane povezavam, so zapisane v nizu, na primer `\"trava gravel robnik\"`. Niz s `split()` razbijemo v seznam besed (`[\"trava\", \"gravel\", \"robnik\"]`), nato pa ga s `set` spremenimo v množico (`[\"trava\", \"gravel\", \"robnik\"}`). (V izogib dlakocepcem: seznam podamo funkciji oz. konstruktorju `set` in ta vrne množico, ki vsebuje elemente podanega seznama.)\n",
    "\n",
    "Potem z `>=` preverjamo, ali so kolesarjeve veščine nadmnožica zahtevanih. Če niso, vrnemo `False`. Seveda bi lahko pisali tudi `if (...) or not set(zemljevid[povezava]) <= vescine` ali pa z `if (...) or set(zemljevid[povezava]) - vescine` preverili, ali množica zahtevanih veščin vsebuje kaj, kar ni našteto med kolesarjevimi veščinami.\n",
    "\n",
    "Lahko pa se znajdemo in namesto da bi preverili, ali povezava obstaja, pokličemo `zemljevid.get`, pri čemer za neobstoječe povezave vrnemo veščino, ki je ne obvlada noben kolesar, recimo letenje (razen čez balanco)."
   ]
  },
  {
   "cell_type": "code",
   "execution_count": 2,
   "id": "6a88e77f",
   "metadata": {},
   "outputs": [],
   "source": [
    "def mozna_pot1(pot, vescine, zemljevid):\n",
    "    vescine = set(vescine)\n",
    "    for povezava in zip(pot, pot[1:]):\n",
    "        if vescine >= set(zemljevid.get(povezava, \"letenje\").split()):\n",
    "            return povezava[0]\n",
    "    return pot[-1]"
   ]
  },
  {
   "cell_type": "markdown",
   "id": "c2d8e5b8",
   "metadata": {},
   "source": [
    "Podoben trik bo uporaben tudi v prihodnjih funkcijah, zato si lahko pripravimo kar funckijo `potrebne(zmeljevid, povezava)`, ki prejme zemljevid in povezavo ter vrne *množico* veščin, ki jih mora obvladati kolesar. Če povezave ni, reče, da bi moral kolesar znati leteti."
   ]
  },
  {
   "cell_type": "code",
   "execution_count": 3,
   "id": "b5f622b0",
   "metadata": {},
   "outputs": [],
   "source": [
    "def potrebne(zemljevid, povezava):\n",
    "    return set(zemljevid.get(povezava, \"letenje\").split())"
   ]
  },
  {
   "cell_type": "markdown",
   "id": "4da656d7",
   "metadata": {},
   "source": [
    "S to funkcijo se funkcija, ki jo zahteva naloga, še nekoliko poenostavi:"
   ]
  },
  {
   "cell_type": "code",
   "execution_count": 4,
   "id": "fb52c5e9",
   "metadata": {},
   "outputs": [],
   "source": [
    "def mozna_pot(pot, vescine, zemljevid):\n",
    "    vescine = set(vescine)\n",
    "    for povezava in zip(pot, pot[1:]):\n",
    "        if not vescine >= potrebne(zemljevid, povezava):\n",
    "            return povezava[0]\n",
    "    return pot[-1]"
   ]
  },
  {
   "cell_type": "markdown",
   "id": "8596ae71",
   "metadata": {},
   "source": [
    "Bistvo te naloge je bilo uporabljati množice - konkretno, tule, pod- ali nadmnožice. Rešitve, ki namesto tega uporabljajo zanke ali funkcije `all` in `any` so preveč zapletene (pa še počasne, pa še stvari, ki se jih še nismo učili in jih morda še ne znamo uporabljajo)."
   ]
  },
  {
   "cell_type": "markdown",
   "id": "c9c703d3",
   "metadata": {},
   "source": [
    "## Naloga (nadaljevanje)\n",
    "\n",
    "- `boljsa_pot((pot1, pot2, zemljevid)` prejme dve poti in vrne tisto, ki zahteva več *različnih* veščin, saj imajo takšne kolesarji menda rajši. Če obe poti zahtevata enako število različnih veščin, vrne `pot1`.\n",
    " \n",
    "    Pri pisanju te funkcije smete predpostavljati, da vse povezave obstajajo.\n",
    "    \n",
    "### Rešitev\n",
    "\n",
    "Za vsako pot je potrebno nabrati vse veščine, ki jih zahteva. Ker vsako veščino štejemo samo enkrat, bomo uporabili množice. In ker to počnemo za obe poti, bomo napisali kar pomožno funkcijo, ki ji podamo pot in vrne množico potrebnih veščin."
   ]
  },
  {
   "cell_type": "code",
   "execution_count": 5,
   "id": "6c88b226",
   "metadata": {},
   "outputs": [],
   "source": [
    "def potrebne_vescine(pot, zemljevid):\n",
    "    vescine = set()\n",
    "    for povezava in zip(pot, pot[1:]):\n",
    "        vescine |= potrebne(zemljevid, povezava)\n",
    "    return vescine"
   ]
  },
  {
   "cell_type": "markdown",
   "id": "6b8eb270",
   "metadata": {},
   "source": [
    "Funkcija `boljsa_pot` je zdaj preprosto"
   ]
  },
  {
   "cell_type": "code",
   "execution_count": 6,
   "id": "6e0c6431",
   "metadata": {},
   "outputs": [],
   "source": [
    "def boljsa_pot(pot1, pot2, zemljevid):\n",
    "    if len(potrebne_vescine(pot1, zemljevid)) >= len(potrebne_vescine(pot2, zemljevid)):\n",
    "        return pot1\n",
    "    else:\n",
    "        return pot2"
   ]
  },
  {
   "cell_type": "markdown",
   "id": "58d704ad",
   "metadata": {},
   "source": [
    "Ali, če poznamo Pythonov ternarni operator `if-else`:"
   ]
  },
  {
   "cell_type": "code",
   "execution_count": 7,
   "id": "9b3e7631",
   "metadata": {},
   "outputs": [],
   "source": [
    "def boljsa_pot(pot1, pot2, zemljevid):\n",
    "    return pot1 if len(potrebne_vescine(pot1, zemljevid)) >= len(potrebne_vescine(pot2, zemljevid)) else pot2"
   ]
  },
  {
   "cell_type": "markdown",
   "id": "af123d0f",
   "metadata": {},
   "source": [
    "Brez pomožne funkcije bi v `boljsa_pot` pač dvakrat ponovili tiste tri vrstice, ki smo jih napisali v `potrebne_vescine`."
   ]
  },
  {
   "cell_type": "markdown",
   "id": "54af23a3",
   "metadata": {},
   "source": [
    "## Naloga (nadaljevanje)\n",
    "\n",
    "- `manjkajoce_vescine(pot, vescine, zemljevid)` prejme pot, ki bi jo kolesar rad prevozil in veščine, ki jih obvlada. Vrniti moral število *različnih* veščin, ki se jih mora še naučiti, da bo lahko prevozil to pot.\n",
    "\n",
    "    Tudi v tej funkciji smete predpostaviti, da vse povezave obstajajo.\n",
    "\n",
    "    Klic `manjkajoce_vescine(\"RIPOPSTUVRIPSTUVR\", [\"stopnice\", \"robnik\", \"gravel\"], zemljevid))` vrne `3`, ker se mora kolesar za to pot naučiti še vožnje po travi, med cvetličnimi lonci in med pešci.\n",
    "\n",
    "### Rešitev\n",
    "\n",
    "Ha, kako imenitno, da smo v prejšnji funkciji napisali pomožno funkcijo `potrebne_vescine`. Manjkajoče veščine so potem preprosto te, ki bi jih potrebovali, vendar jih nimamo, torej `potrebne_vescine(pot zemljevid) - set(vescine)`. Ker naloga zahteva, da vrnemo število manjkajočih veščin (da ne bi preveč očitno namignila, da je potrebno uporabljati množice), vrnemo velikost te množice."
   ]
  },
  {
   "cell_type": "code",
   "execution_count": 8,
   "id": "ac2b5bd8",
   "metadata": {},
   "outputs": [],
   "source": [
    "def manjkajoce_vescine(pot, vescine, zemljevid):\n",
    "    return len(potrebne_vescine(pot, zemljevid) - set(vescine))"
   ]
  },
  {
   "cell_type": "markdown",
   "id": "c567c0bc",
   "metadata": {},
   "source": [
    "## Naloga (nadaljevanje)\n",
    "\n",
    "- `skupni_podvig(pot, vescine1, vescine2, zemljevid)` simulira vožnjo dveh kolesarjev, ki obvladata različne veščine. Vozita se na istem kolesu: eden vozi, drugi sedi na prtljažniku, štangi ali krmilu. Vsako povezavo na poti prevozi tisti, ki obvlada *vse* potrebne veščine za povezavo. Če jo zmoreta oba, vozi vsak pol povezava. Če je ne zmore noben, je pot končana.\n",
    "\n",
    "    Funkcija mora vrniti par s številom povezav, ki jih prevozi prvi, in številom povezav, ki jih prevozi drugi kolesar.\n",
    "\n",
    "    V tej funkciji ne smete predpostaviti, da vse povezave na poti obstajajo.\n",
    "\n",
    "    Poglejmo klic\n",
    "\n",
    "    ```python\n",
    "    skupni_podvig(\"RVABCRD\",\n",
    "                  [\"trava\", \"lonci\", \"bolt\", \"gravel\", \"stopnice\"],\n",
    "                  [\"bolt\", \"lonci\", \"pešci\"],\n",
    "                  zemljevid))\n",
    "    ``` \n",
    "  \n",
    "    - Odseka RV in VA prevozi drugi kolesar, saj zahteva lonce in pešce; prvi pešcev ne obvlada.\n",
    "    - Odsek AB prevozi prvi kolesar.\n",
    "    - Odsek BC prevozita oba, torej vsak pol.\n",
    "    - Odseka CR ne zna prevoziti nobeden: prvi ne obvlada pešcev, drugi pa stopnic. Zato se njuna pot tu konča.\n",
    "    - Odseka RD se ne lotita, saj ne prideta do njega.\n",
    "\n",
    "    Klic torej vrne `(1.5, 2.5)`.\n",
    "    \n",
    "### Rešitev\n",
    "\n",
    "Če smo naredili vse prejšnje funkcije in obvladamo podmnožice, je to bolj naloga iz zlaganja pogojev. (Izkazalo se je, da kar koristna naloga, saj so si nekateri ob njej lomili zobe.)"
   ]
  },
  {
   "cell_type": "code",
   "execution_count": 9,
   "id": "70589ddb",
   "metadata": {},
   "outputs": [],
   "source": [
    "def skupni_podvig(pot, vescine1, vescine2, zemljevid):\n",
    "    prvi = drugi = 0\n",
    "    vescine1 = set(vescine1)\n",
    "    vescine2 = set(vescine2)\n",
    "    for povezava in zip(pot, pot[1:]):\n",
    "        vescine = potrebne(zemljevid, povezava)\n",
    "        if vescine1 >= vescine:  # zna prvi\n",
    "            if vescine2 >= vescine:  # zna tudi drugi\n",
    "                prvi += 0.5  # točke obema\n",
    "                drugi += 0.5\n",
    "            else:\n",
    "                prvi += 1  # ker zna samo prvi, točke njemu\n",
    "        elif vescine2 >= vescine:  # prvi ni znal, drugi zna\n",
    "            drugi += 1  # točke drugemu\n",
    "        else:  # noben ne zna\n",
    "            break\n",
    "    return prvi, drugi"
   ]
  },
  {
   "cell_type": "markdown",
   "id": "80461bb6",
   "metadata": {},
   "source": [
    "Razlaga je v komentarjih. Pomembno je, da je uporabimo `elif` in `else`, da ne bi večkrat prištevali točk."
   ]
  },
  {
   "cell_type": "markdown",
   "id": "b3e5b870",
   "metadata": {},
   "source": [
    "Manj zobolomna je rešitev s trikom."
   ]
  },
  {
   "cell_type": "code",
   "execution_count": 10,
   "id": "c024146a",
   "metadata": {},
   "outputs": [],
   "source": [
    "def skupni_podvig(pot, vescine1, vescine2, zemljevid):\n",
    "    prvi = drugi = 0\n",
    "    vescine1 = set(vescine1)\n",
    "    vescine2 = set(vescine2)\n",
    "    for povezava in zip(pot, pot[1:]):\n",
    "        vescine = potrebne(zemljevid, povezava)\n",
    "        zna1 = vescine1 >= vescine\n",
    "        zna2 = vescine2 >= vescine\n",
    "        if not (zna1 or zna2):\n",
    "            break\n",
    "        prvi += zna1 / (zna1 + zna2)\n",
    "        drugi += zna2 / (zna1 + zna2)\n",
    "    return prvi, drugi"
   ]
  },
  {
   "cell_type": "markdown",
   "id": "1081f1a2",
   "metadata": {},
   "source": [
    "`True` se v aritmetičnih operacijah vede kot `1` in `False` kot `0`, torej sta `zna1` in `zna2` v bistvu kot `0` ali `1`. Vanju zapišemo, ali prvi oz. drugi kolesar zmore prevoziti povezavo. Če je ne zmore noben, prekinemo zanko. Sicer pa k vsakemu prištejemo to, ali jo zna, vendar to delimo z vsoto `zna1 + zna2`, ki bo enak `1`, če veščino obvlada le eden, in `2`, če jo oba."
   ]
  }
 ],
 "metadata": {
  "kernelspec": {
   "display_name": "Python 3 (ipykernel)",
   "language": "python",
   "name": "python3"
  },
  "language_info": {
   "codemirror_mode": {
    "name": "ipython",
    "version": 3
   },
   "file_extension": ".py",
   "mimetype": "text/x-python",
   "name": "python",
   "nbconvert_exporter": "python",
   "pygments_lexer": "ipython3",
   "version": "3.11.5"
  }
 },
 "nbformat": 4,
 "nbformat_minor": 5
}
