{
 "cells": [
  {
   "cell_type": "markdown",
   "id": "a78ee8cb",
   "metadata": {},
   "source": [
    "## Enosmerne poti\n",
    "\n",
    "Prometni strokovnjaki, zaposleni na Oddelku za motorni promet in gospodarske dejavnosti MOL, so sestavili študijo, ki je pokazala, da bi bilo za prometno varnost kolesarjev najboljše, če bi bile kolesarske steze le na eni strani ceste. (Obenem bi na drugi strani ceste pridobili prostor za širitev ceste za en pas.) Nadalje so prometni strokovnjaki ugotovili, da bi bile takšne kolesarske steze potem preozke za dvosmerni promet, zato so se odločili, da bodo povezave med križišči enosmerne. Situacija je prikazana na sliki."
   ]
  },
  {
   "cell_type": "markdown",
   "id": "99359453",
   "metadata": {},
   "source": [
    "<img src=\"data:image/.png;base64,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\"/>"
   ]
  },
  {
   "cell_type": "markdown",
   "id": "cf23f8a8",
   "metadata": {},
   "source": [
    "Na ugovore kolesarjev, da bodo nekatera križišča zato postala nedosegljiva ali pa se spremenila v slepo ulico (npr. E in S), je MOL odgovoril: \"*Vaši pomisleki so popolnoma neutemeljeni. Kot je razvidno iz slike, so naši prometni strokovnjaki sestavili zemljevid tako, da se kolesar ne more ujeti v cikel, torej, nobena pot ga ne more pripeljati v križišče, v katerem je že bil. Takšna ureditev je inovacija v svetovnem merilu, na katero smo še posebej ponosni.*\" (Ta odgovor je dejansko pomemben za vaše reševanje naloge!)\n",
    "\n",
    "Zemljevid je podan v obliki\n",
    "\n",
    "```python\n",
    "poti = {\n",
    "   A: {B: {\"gravel\", \"trava\"}, V: {\"pesci\", \"lonci\"}},\n",
    "   B: {V: set()},\n",
    "   C: {B: {\"bolt\", \"lonci\"}, R: {\"stopnice\", \"pesci\", \"lonci\"}},\n",
    "   D: {},\n",
    "   E: {},\n",
    "   F: {D: {\"stopnice\", \"pesci\"}},\n",
    "   ...\n",
    "```\n",
    "\n",
    "Ključi so vsa križišča. Pripadajoče vrednosti so slovarji, kateri ključi so sosednja vozlišča, pripadajoče vrednosti pa veščine, potrebne na poti. Vaše naloge veščine ne zadevajo, zato jih ignorirajte. (Tu so na zalogo, za prihodnje naloge. :)\n",
    "\n",
    "### Obvezna naloga\n",
    "\n",
    "- Napišite funkcijo `obstaja_pot(od, do)`, ki vrne `True`, če je iz križišča `od` možno priti do križišča `do`, in `False`, če ni. (`True` vrne tudi, če sta `od` in `do` pravzaprav isto križišče.)\n",
    "\n",
    "- Napišite funkcijo `dosegljive(od)`, ki vrne množico vseh križišč, ki so dosegljiva iz podanega križišča (vključno s tem križiščem). Klic `dosegljiva(\"O\")` vrne `{\"O\", \"S\", \"P\", \"N\"}`.\n",
    "\n",
    "#### Rešitev\n",
    "\n",
    "Funkcija `obstaja_pot` je precej podobna nalogi z vaj, v kateri nas je zanimalo, ali v rodbini neke osebe obstaja oseba z določenim imenom.\n",
    "\n",
    "Pot obstaja, če je `od` pravzaprav enako `do` in smo torej že tam, ali za neko križišče, v katerega lahko pridemo iz `od` velja, da iz tega križišča obstaja pot do `do`. Če ne, pa poti ni."
   ]
  },
  {
   "cell_type": "code",
   "execution_count": 1,
   "id": "5786284c",
   "metadata": {},
   "outputs": [],
   "source": [
    "def obstaja_pot(od, do):\n",
    "    if od == do:\n",
    "        return True\n",
    "    for vmesno in poti[od]:\n",
    "        if obstaja_pot(vmesno, do):\n",
    "            return True\n",
    "    return False"
   ]
  },
  {
   "cell_type": "markdown",
   "id": "655166be",
   "metadata": {},
   "source": [
    "Krajše pa tako."
   ]
  },
  {
   "cell_type": "code",
   "execution_count": 3,
   "id": "3c211580",
   "metadata": {},
   "outputs": [],
   "source": [
    "def obstaja_pot(od, do):\n",
    "    return od == do or any(obstaja_pot(x, do) for x in poti[od])"
   ]
  },
  {
   "cell_type": "markdown",
   "id": "9af74e2c",
   "metadata": {},
   "source": [
    "Iz `od` je dosegljiv `od`, poleg tega pa vsi, ki so dosegljivi iz točk, ki so dosegljive iz `od`."
   ]
  },
  {
   "cell_type": "code",
   "execution_count": 5,
   "id": "c268900e",
   "metadata": {},
   "outputs": [],
   "source": [
    "def dosegljive(od):\n",
    "    doseg = {od}\n",
    "    for vmesna in poti[od]:\n",
    "        doseg |= dosegljive(x)\n",
    "    return doseg"
   ]
  },
  {
   "cell_type": "markdown",
   "id": "99bd78f3",
   "metadata": {},
   "source": [
    "#### Bolj zapletena rešite\n",
    "\n",
    "Tole čisto presega snov, vendar je nekatere (točneje: nekoga) zanimala še rešitev z generatorjem, zato poglejmo.\n",
    "\n",
    "Spodnje ne deluje."
   ]
  },
  {
   "cell_type": "code",
   "execution_count": 6,
   "id": "ad35919b",
   "metadata": {},
   "outputs": [],
   "source": [
    "def dosegljive(od):\n",
    "    return {od} | {dosegljive(vmesna) for vmesna in poti[od]}"
   ]
  },
  {
   "cell_type": "markdown",
   "id": "52af3701",
   "metadata": {},
   "source": [
    "Problem je v `{dosegljive(vmesna) for vmesna in poti[od]}`. V množico poskušamo zložiti vse, kar vrača funkcija `dosegljive`. Funkcija `dosegljive` vrača množice, torej poskušamo sestaviti množico množic. To pa (a) ne gre in (b) ni tisto, kar potrebujemo. Python bo javil napako, da `set` ni `hashable`.\n",
    "\n",
    "Hočemo unijo vsega, kar vrne `dosegljive`. Unijo množic sicer računamo z operatorjem `|`, poleg tega pa obstaja tudi metoda `union`, ki dela približno isto."
   ]
  },
  {
   "cell_type": "code",
   "execution_count": 11,
   "id": "73233c8c",
   "metadata": {},
   "outputs": [],
   "source": [
    "a = {1, 2, 3}\n",
    "b = {3, 4, 5}\n",
    "c = {10, 11, 12}\n",
    "d = {3, 11, 15}"
   ]
  },
  {
   "cell_type": "code",
   "execution_count": 12,
   "id": "1089d1c3",
   "metadata": {},
   "outputs": [
    {
     "data": {
      "text/plain": [
       "{1, 2, 3, 4, 5}"
      ]
     },
     "execution_count": 12,
     "metadata": {},
     "output_type": "execute_result"
    }
   ],
   "source": [
    "a | b"
   ]
  },
  {
   "cell_type": "code",
   "execution_count": 13,
   "id": "b8710322",
   "metadata": {},
   "outputs": [
    {
     "data": {
      "text/plain": [
       "{1, 2, 3, 4, 5}"
      ]
     },
     "execution_count": 13,
     "metadata": {},
     "output_type": "execute_result"
    }
   ],
   "source": [
    "a.union(b)"
   ]
  },
  {
   "cell_type": "markdown",
   "id": "ecc36911",
   "metadata": {},
   "source": [
    "Razlika je v tem, da `union` sprejme več argumentov. Izračuna bo unijo vseh."
   ]
  },
  {
   "cell_type": "code",
   "execution_count": 14,
   "id": "2d2e8eb2",
   "metadata": {},
   "outputs": [
    {
     "data": {
      "text/plain": [
       "{1, 2, 3, 4, 5, 10, 11, 12, 15}"
      ]
     },
     "execution_count": 14,
     "metadata": {},
     "output_type": "execute_result"
    }
   ],
   "source": [
    "a.union(b, c, d)"
   ]
  },
  {
   "cell_type": "markdown",
   "id": "55290a0e",
   "metadata": {},
   "source": [
    "Kaj pa, če bi bile množice `b`, `c` in `d` shranjene v seznamu?"
   ]
  },
  {
   "cell_type": "code",
   "execution_count": 15,
   "id": "54485ff1",
   "metadata": {},
   "outputs": [],
   "source": [
    "s = [b, c, d]"
   ]
  },
  {
   "cell_type": "code",
   "execution_count": 17,
   "id": "30b75a10",
   "metadata": {
    "tags": [
     "raises-exception"
    ]
   },
   "outputs": [
    {
     "ename": "TypeError",
     "evalue": "unhashable type: 'set'",
     "output_type": "error",
     "traceback": [
      "\u001b[0;31m---------------------------------------------------------------------------\u001b[0m",
      "\u001b[0;31mTypeError\u001b[0m                                 Traceback (most recent call last)",
      "Cell \u001b[0;32mIn[17], line 1\u001b[0m\n\u001b[0;32m----> 1\u001b[0m a\u001b[38;5;241m.\u001b[39munion(s)\n",
      "\u001b[0;31mTypeError\u001b[0m: unhashable type: 'set'"
     ]
    }
   ],
   "source": [
    "a.union(s)"
   ]
  },
  {
   "cell_type": "markdown",
   "id": "ea82302a",
   "metadata": {},
   "source": [
    "No, da. To spet ne gre: to bi izračunalo unijo elementov `a`-ja in `s`-ja, elementi s-ja pa so množice in dobili bi množico množic. Če pred `s` dodamo zvezdico, pa to pomeni, naj bodo elementi `s`-ja argumenti funkcije."
   ]
  },
  {
   "cell_type": "code",
   "execution_count": 18,
   "id": "865f6b9e",
   "metadata": {},
   "outputs": [
    {
     "data": {
      "text/plain": [
       "{1, 2, 3, 4, 5, 10, 11, 12, 15}"
      ]
     },
     "execution_count": 18,
     "metadata": {},
     "output_type": "execute_result"
    }
   ],
   "source": [
    "a.union(*s)"
   ]
  },
  {
   "cell_type": "markdown",
   "id": "22ac33b9",
   "metadata": {},
   "source": [
    "`a.union(*s)` je isto kot `a.union(s[0], s[1], s[2])` (če ima `s` tri elemente; če jih je vač ali manj, potem gremo pač do več ali manj kot `2`).\n",
    "\n",
    "`s` seveda ni nujno seznam. Lahko je tudi terka ali množica ali slovar ali ... generator. Rešitev naloge je potem:"
   ]
  },
  {
   "cell_type": "code",
   "execution_count": 19,
   "id": "d375c30c",
   "metadata": {},
   "outputs": [],
   "source": [
    "def dosegljive(od):\n",
    "    return {od}.union(*(dosegljive(vmesna) for vmesna in poti[od]))"
   ]
  },
  {
   "cell_type": "markdown",
   "id": "6b0ad003",
   "metadata": {},
   "source": [
    "Na predavanjih sem sicer pokazal nekaj malenkost nerodnejšega: napisal sem"
   ]
  },
  {
   "cell_type": "code",
   "execution_count": 20,
   "id": "322db798",
   "metadata": {},
   "outputs": [],
   "source": [
    "def dosegljive(od):\n",
    "    return {od} | set().union(*(dosegljive(vmesna) for vmesna in poti[od]))"
   ]
  },
  {
   "cell_type": "markdown",
   "id": "c23a5898",
   "metadata": {},
   "source": [
    "Namesto da bi dodal vse posredno dosegljive točke k množici `{od}`, sem vzelo prazno množico, `set()`, vanjo pounijal vse množice in to dodal k `{od}`. To je seveda nerodnejše, vendar kažem zato, ker vam lahko pride prav kdaj drugič."
   ]
  },
  {
   "cell_type": "markdown",
   "id": "391af97a",
   "metadata": {},
   "source": [
    "### Dodatna naloga\n",
    "\n",
    "- Napišite funkcijo `dolzina_poti(od, do)`, ki vrne dolžino najkrajše poti (v smislu števila povezav) med podanima točkama. Če sta `od` in `do` isto križišče, vrne `0`. Klic `dolzina_poti(\"I\", \"S\")` vrne `2`. (Med I in S obstaja tudi daljša pot, I-R-U-T-S, vendar mora funkcija vrniti dolžino najkrajše poti).\n",
    "\n",
    "  Če pot med točkama ni možna, vrne `99`.\n",
    "\n",
    "- Napišite funkcijo `najkrajsa_pot(od, do)`, ki vrne niz z najkrajšo potjo med podanima točkama. Če sta `od` in `do` isto križišče, vrne `od` (ali `do` :). Klic `najkrajsa_pot(\"G\", \"S\")` vrne `\"GIPS\"`. (Med G in S obstaja tudi daljša pot, `\"GIRUTS\"`, vendar mora funkcija vrniti dolžino najkrajše poti). Če je najkrajših poti več, lahko vrne poljubno med njimi,\n",
    "\n",
    "  Če pot med točkama ni možna, vrne `None`.\n",
    "\n",
    "Po želji lahko napišete le eno od teh dveh funkcij, druga funkcija pa kliče to funkcijo. Ali pa uporabljata ena drugo na kak drug način. Zavoljo poučnosti pa predlagam, da napišete vsako funkcijo neodvisno od druge.\n",
    "\n",
    "#### Rešitev"
   ]
  },
  {
   "cell_type": "code",
   "execution_count": 21,
   "id": "2db2cb48",
   "metadata": {},
   "outputs": [],
   "source": [
    "def dolzina_poti(od, do):\n",
    "    if od == do:\n",
    "        return 0\n",
    "    naj = 98\n",
    "    for x in poti[od]:\n",
    "        dolz = dolzina_poti(x, do)\n",
    "        if dolz < naj:\n",
    "            naj = dolz\n",
    "    return naj + 1\n",
    "\n",
    "\n",
    "def najkrajsa_pot(od, do):\n",
    "    if od == do:\n",
    "        return od\n",
    "    naj = None\n",
    "    for x in poti[od]:\n",
    "        pot = najkrajsa_pot(x, do)\n",
    "        if pot is not None and (naj is None or len(pot) < len(naj)):\n",
    "            naj = pot\n",
    "    return naj and od + naj"
   ]
  }
 ],
 "metadata": {
  "kernelspec": {
   "display_name": "Python 3 (ipykernel)",
   "language": "python",
   "name": "python3"
  },
  "language_info": {
   "codemirror_mode": {
    "name": "ipython",
    "version": 3
   },
   "file_extension": ".py",
   "mimetype": "text/x-python",
   "name": "python",
   "nbconvert_exporter": "python",
   "pygments_lexer": "ipython3",
   "version": "3.11.5"
  }
 },
 "nbformat": 4,
 "nbformat_minor": 5
}
