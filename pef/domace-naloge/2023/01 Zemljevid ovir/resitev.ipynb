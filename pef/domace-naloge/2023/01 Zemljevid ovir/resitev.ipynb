{
 "cells": [
  {
   "cell_type": "markdown",
   "id": "d57cd96d",
   "metadata": {},
   "source": [
    "Oddelek za gospodarske dejavnosti in (motorni) promet Mestne občine Ljubljana (MOL) slovi po srce parajoči skrbi za varnost kolesarjev. V imenu te skrbi jim povsod, kjer je to v interesu kolesarjev, odvzame prednost, jim postavlja različne ovire, viša robnike in ukinja kolesarske steze, kjer niso potrebne (predvsem, če je tam slučajno potrebno povečati število parkirišč za avtomobile). Vašemu profesorju se od ganjene hvaležnosti MOLu vsak dan orosi oko ob pogledu na mesto na Večni poti, kjer so - kot je povedal MOL - kolesarjem odvzeli prednost, da jih ne bi povozil avto ali kombi, ki morda ne bi vedel, da imajo tu prednost kolesarji. ([Več o tem si preberite na strani Runda](https://runda.si/article/sikaniranje-dobesedno-).)\n",
    "\n",
    "## Naloga"
   ]
  },
  {
   "cell_type": "markdown",
   "id": "457db58d",
   "metadata": {},
   "source": [
    "<img src=\"data:image/.png;base64,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\"/>"
   ]
  },
  {
   "cell_type": "markdown",
   "id": "b42ea978",
   "metadata": {},
   "source": [
    "Recimo, da so ovire postavljene, kot kaže slika. V Pythonu bi lahko njihove pozicije opisali s seznamom trojk (terk) `(x1, x2, y)`, kjer sta `x1` in `x2` (`x1 <= x2`) številki stolpca, kjer se ovira začne in konča (ovira vključuje tudi `x2`!). Ovire na sliki bi tako opisali s seznamom\n",
    "\n",
    "```python\n",
    "ovire = [(1, 3, 6), (2, 4, 3), (4, 6, 7),\n",
    "         (3, 4, 9), (6, 9, 5), (9, 10, 2),\n",
    "\t\t (9, 10, 8)]\n",
    "```\n",
    "\n",
    "Vrstni red elementov seznama je nepomemben.\n",
    "\n",
    "Napiši naslednje funkcije\n",
    "\n",
    "- `dolzina_ovire(ovira)` prejme oviro v obliki terke `(x0, x1, y)` in vrne njeno dolžino. Klic `dolzina_ovire((4, 7, 13))` vrne `4`. (Pazi: funkcija ne prejme treh argumentov temveč en argument, namreč terko s tremi elementi.)\n",
    "- `najdaljsa_ovira(ovire)` prejme seznam ovir in vrne najdaljšo oviro. Če je najdaljših ovir več, vrne tisto, ki se v seznamu pojavi prej.\n",
    "- `dimenzije(ovire)` vrne širino in dolžino kolesarke steze, največjo vrednost `x2` in največjo vrednost `y`, ki se pojavi med trojkami v seznamu. Za primer na sliki vrne `(10, 9)`.\n",
    "- `globina(ovire, x)` vrne številko vrstice, v kateri bi kolesar, ki se vozi po podanem stolpcu `x` od zgoraj navzdol, naletel na oviro. Če v stolpcu ni ovir, naj vrne številko, ki je za 1 večja od zadnje vrstice z oviro. Za primer na sliki bi za stolpec brez ovir (če bi na sliki obstajal, seveda) vrnil `10`, saj je zadnja ovira v vrstici `9`.\n",
    "- `naj_stolpec(ovire)` vrne številko stolpca, v katerem kolesar pride najdlje. Če je takšnih stolpcev več, vrne prvega med njimi.\n",
    "- `senca(ovire)` vrne seznam, katerega elementa so `False` oz. `True` glede na to, ali stolpec vsebuje kako oviro ali ne. Če je širina poti `5` in sta drugi in zadnji stolpec brez ovir (to ni primer s slike), vrne `[False, True, False, False, True]`.\n",
    "\n",
    "## Izziv\n",
    "\n",
    "Vse funkcije, razen `globina` in `sence`, že skoraj znate napisati v eni vrstici. :) (Nekoč pa se bomo naučili tudi tidve; ni zapleteno, vendar pač še ne znamo.)\n",
    "\n",
    "Neobvezni, dodatni izziv za tiste, ki se vas da izzvati, je, da poskusite. Nekaj je preprostih, nekaj pa jih zahteva malo razmisleka - in malo pomoči glede dveh funkcij, ki ju še nismo videli.\n",
    "\n",
    "- `dolzina_ovire`: tega se itak ne da napisati daljše kot v eni vrstici.\n",
    "- `najdaljsa_ovira`: to znamo in razočaran bom, če kdo tega ne bo naredil v eni vrstici. :) Spomnite se predavanj.\n",
    "- `dimenzije`: No, tale je izziv za razmišljanje. Uporabite lahko funkcijo `itemgetter`, ki jo najdete v modulu `operator`. `itemgetter` je funkcija, ki ji podamo indeks, in vrne funkcijo, ki ji podamo seznam in vrača element seznama s tem indeksom. Ta stavek po potrebi preberite še enkrat. :) Ali pa poglejte spodnji primer.\n",
    "\n",
    "\t```python\n",
    "\t>>> from operator import itemgetter\n",
    "\t>>>\n",
    "\t>>> drugi = itemgetter(2)\n",
    "    >>>\n",
    "\t>>> s = (5, 7, 2, 6, 1)\n",
    "\t>>> t = [\"Ana\", \"Berta\", \"Cilka\", \"Dani\", \"Ema\"]\n",
    "\t>>> u = \"Benjamin\"\n",
    "\t>>>\n",
    "\t>>> drugi(s)\n",
    "\t2\n",
    "\t>>> drugi(t)\n",
    "\t'Cilka'\n",
    "\t>>> drugi(u)\n",
    "\t'n'\n",
    "\t```\n",
    "\n",
    "    `itemgetter(2)` je vrnil funkcijo, ki smo jo poimenovali `drugi`. `drugi` je torej funkcija, ki vrne drugi element ... česarkoli, kar jih podamo kot argument.\n",
    "\n",
    "- `naj_stolpec`: tale je še malo zanimivejši izziv. Najprej: funkcija vrača število med 1 in širino. Torej iščemo `max` od teh števil, vendar po primernem ključu. Kaj pa bo ključ? Funkcijo za to očitno imamo, vendar zahteva tudi argument `ovire`. Tu privlečemo iz rokava novo zanimivo funkcijo: `partial` iz modula `functools`. Tej podamo funkcijo in enega ali več argumentov, pa nam vrne novo funkcijo, ki je enaka oni, podani, vendar je prvi (oz. nekaj prvih) argumentov fiksiranih.\n",
    "\n",
    "\n",
    "\t```python\n",
    "\t>>> from functools import partial\n",
    "\t>>>\n",
    "\t>>> z_dani = partial(f, \"Dani\")\n",
    "\t>>>\n",
    "\t>>> def f(prvi, drugi, tretji):\n",
    "\t...     print(prvi, \"in\", drugi, \", poleg njiju pa tudi\", tretji)\n",
    "\t...\n",
    "\t>>> f(\"Ana\", \"Berta\", \"Cilka\")\n",
    "\tAna in Berta , poleg njju pa tudi Cilka\n",
    "\t>>>\n",
    "\t>>> z_dani(\"Berta\", \"Cilka\")\n",
    "\tDani in Berta , poleg njiju pa tudi Cilka\n",
    "\t>>> z_dani(\"Ema\", \"Greta\")\n",
    "\tDani in Ema , poleg njiju pa tudi Greta\n",
    "\t```\n",
    "\n",
    "\tFunkcija `z_dani` je enaka funkciji `f`, le da je prvi argument že nastavljen na `\"Dani\"`.\n"
   ]
  },
  {
   "cell_type": "markdown",
   "id": "64ab5766",
   "metadata": {},
   "source": [
    "## Rešitev\n",
    "\n",
    "### `dolzina_ovire`\n",
    "\n",
    "Ta funkcija je trivialna. Pišemo jo zaradi naslednje naloge."
   ]
  },
  {
   "cell_type": "code",
   "execution_count": 1,
   "id": "c831d50c",
   "metadata": {},
   "outputs": [],
   "source": [
    "def dolzina_ovire(ovira):\n",
    "    return ovira[1] - ovira[0] + 1"
   ]
  },
  {
   "cell_type": "markdown",
   "id": "11d6adae",
   "metadata": {},
   "source": [
    "### `najdaljsa_ovira`\n",
    "\n",
    "Primerna rešitev te za prvi letnik primerne naloge je"
   ]
  },
  {
   "cell_type": "code",
   "execution_count": 2,
   "id": "766315a9",
   "metadata": {},
   "outputs": [],
   "source": [
    "def najdaljsa_ovira(ovire):\n",
    "    naj_ovira = None\n",
    "    naj_dolzina = 0\n",
    "    for ovira in ovire:\n",
    "        dolzina = dolzina_ovire(ovira)\n",
    "        if dolzina > naj_dolzina:\n",
    "            naj_dolzina = dolzina\n",
    "            naj_ovira = ovira\n",
    "    return naj_ovira"
   ]
  },
  {
   "cell_type": "markdown",
   "id": "7ab582ad",
   "metadata": {},
   "source": [
    "Boljša rešitev sledi temu, kar smo se slučajno naučili [na prejšnjem predavanju](https://github.com/janezd/predavanja/blob/master/pef/predavanja/01%20ponavljanje-2023.ipynb).\n",
    "\n",
    "Želimo maksimalno oviro. To ni `max(ovire)`; ta klic bi vrnil *največjo oviro* po takšni definiciji, po kakršni Python primerja terke - dobili bi oviro z največjim prvim elementom (levim robom). Če si naziv ovire z najbolj desnim levim robom deli več ovir, bo `max` pogledal drugi element terke, desni rob ovire in med ovirami, ki se začnejo karseda desno vrnil tisto, ki se karseda desno tudi konča. Če si skrajno desnico deli več ovir, gleda tretjo komponento in med njimi torej vrne tisto oviro, ki je najnižje.\n",
    "\n",
    "Ne, mi želimo *največjo oviro* v smislu ovire, ki je najdaljša. Z drugimi besedami, ovire želimo primerjati po tem, kakšno vrednost vrne funkcija `dolzina_ovire`."
   ]
  },
  {
   "cell_type": "code",
   "execution_count": 3,
   "id": "13e60068",
   "metadata": {},
   "outputs": [],
   "source": [
    "def najdaljsa_ovira(ovire):\n",
    "    return max(ovire, key=dolzina_ovire)"
   ]
  },
  {
   "cell_type": "markdown",
   "id": "55381888",
   "metadata": {},
   "source": [
    "Na predavanju smo slišali pametno vprašanje: kako da funkcije `dolzina_ovire` ne pokličemo? Funkciji `max` moramo kot argument podati funkcijo, ne pa rezultat nekega klica te funkcije. Funkcija `max` je približno takšna:"
   ]
  },
  {
   "cell_type": "code",
   "execution_count": 8,
   "id": "5428be08",
   "metadata": {},
   "outputs": [],
   "source": [
    "import math\n",
    "\n",
    "def max(s, key):\n",
    "    naj_x = None\n",
    "    naj_k = -math.inf\n",
    "    for x in s:\n",
    "        k = key(x)\n",
    "        if k > naj_k:\n",
    "            naj_k = k\n",
    "            naj_x = x\n",
    "    return naj_x"
   ]
  },
  {
   "cell_type": "markdown",
   "id": "c41476a7",
   "metadata": {},
   "source": [
    "Opazimo podobnost med tole funkcijo `max` in funkcijo `najdaljsa_ovira`? Enaki ista! Razlika je le v tem, da `najdaljsa_ovira` kliče funkcijo `dolzina_ovire`, `max` pa kliče funkcijo `key` ... ki jo dobi kot argument. In v krajši različici `najdaljsa_ovira`, v kateri kličemo `max`, kot argument `key` podamo točno funkcijo `dolzina_ovire`.\n",
    "\n",
    "Razlog, da je druga različica funkcije `najdaljsa_ovira` toliko krajša od prve, je v tem, da se vse, kar smo programirali v prvi različici, skriva v funkciji `max`."
   ]
  },
  {
   "cell_type": "markdown",
   "id": "2247693e",
   "metadata": {},
   "source": [
    "### `dimenzije`\n",
    "\n",
    "Za prvi letnik primerna rešitev poišče največji prvi in največji drugi element."
   ]
  },
  {
   "cell_type": "code",
   "execution_count": 5,
   "id": "05519b99",
   "metadata": {},
   "outputs": [],
   "source": [
    "def dimenzije(ovire):\n",
    "    naj_x = 0\n",
    "    naj_y = 0\n",
    "    for _, x1, y in ovire:\n",
    "        if x1 > naj_x:\n",
    "            naj_x = x1\n",
    "        if y > naj_y:\n",
    "            naj_y = y\n",
    "    return naj_x, naj_y"
   ]
  },
  {
   "cell_type": "markdown",
   "id": "d3e3b890",
   "metadata": {},
   "source": [
    "Ker smo letos ekstra pametni, znamo poiskati najbolj desno končujočo se oviro. Takole nekako:"
   ]
  },
  {
   "cell_type": "code",
   "execution_count": 9,
   "id": "b6aec26e",
   "metadata": {},
   "outputs": [
    {
     "data": {
      "text/plain": [
       "(9, 10, 2)"
      ]
     },
     "execution_count": 9,
     "metadata": {},
     "output_type": "execute_result"
    }
   ],
   "source": [
    "def item1(t):\n",
    "    return t[1]\n",
    "\n",
    "ovire = [(1, 3, 6), (2, 4, 3), (4, 6, 7),\n",
    "         (3, 4, 9), (6, 9, 5), (9, 10, 2), (9, 10, 8)]\n",
    "\n",
    "max(ovire, key=item1)"
   ]
  },
  {
   "cell_type": "markdown",
   "id": "1b4b8dda",
   "metadata": {},
   "source": [
    "No, tole vrne oviro z največjim drugim elementom. Nas pa zanima, kakšen *je* ta drugi element, torej potrebujemo"
   ]
  },
  {
   "cell_type": "code",
   "execution_count": 11,
   "id": "ea6d1099",
   "metadata": {},
   "outputs": [
    {
     "data": {
      "text/plain": [
       "10"
      ]
     },
     "execution_count": 11,
     "metadata": {},
     "output_type": "execute_result"
    }
   ],
   "source": [
    "max(ovire, key=item1)[1]"
   ]
  },
  {
   "cell_type": "markdown",
   "id": "c69e357f",
   "metadata": {},
   "source": [
    "Tako smo dobili širino. Za višino definiramo še `item2` in ... \"*Ustavi svoje hipogrife,*\" bi rekel Hagrid. Python ima funkcijo `itemgetter`, ki vrne takšno funkcijo, kot smo jo definirali zgoraj. Namesto `item1`, lahko pišemo `itemgetter(1)`."
   ]
  },
  {
   "cell_type": "code",
   "execution_count": 13,
   "id": "c78ddda8",
   "metadata": {},
   "outputs": [
    {
     "data": {
      "text/plain": [
       "10"
      ]
     },
     "execution_count": 13,
     "metadata": {},
     "output_type": "execute_result"
    }
   ],
   "source": [
    "from operator import itemgetter\n",
    "\n",
    "max(ovire, key=itemgetter(1))[1]"
   ]
  },
  {
   "cell_type": "markdown",
   "id": "dd6cf4c3",
   "metadata": {},
   "source": [
    "Do višine pridemo na podoben način in rešitev naše naloge je"
   ]
  },
  {
   "cell_type": "code",
   "execution_count": 14,
   "id": "ddcc69a8",
   "metadata": {},
   "outputs": [],
   "source": [
    "def dimenzije(ovire):\n",
    "    return (max(ovire, key=itemgetter(1))[1],\n",
    "            max(ovire, key=itemgetter(2))[2])"
   ]
  },
  {
   "cell_type": "markdown",
   "id": "635a7152",
   "metadata": {},
   "source": [
    "Na predavanju sta se tu razvili dve diskusiji. Prva je bila, ali je to funkcijo lepše lomiti v dve vrstici ali jo pustiti v eni,"
   ]
  },
  {
   "cell_type": "code",
   "execution_count": 15,
   "id": "0f75dfd3",
   "metadata": {},
   "outputs": [],
   "source": [
    "def dimenzije(ovire):\n",
    "    return max(ovire, key=itemgetter(1))[1], max(ovire, key=itemgetter(2))[2]"
   ]
  },
  {
   "cell_type": "markdown",
   "id": "58438476",
   "metadata": {},
   "source": [
    "Pisati programe je relativno lahko. Težje jih je brati, popravljati, spreminjati. Dobrega programerja prepoznamo po tem, da piše lepe, razumljive programe. Pri čemer je za razumevanje njegovega programa včasih potrebno biti dober programer. :) Povejmo jasneje: dober programer je programer, ki zna brati svoje programe :)\n",
    "\n",
    "Če razbijemo funkcijo v dve vrstici, s tem ničesar ne izgubimo. Ker je druga vrstica pravilno zamaknjena, je očitno nadaljevanje prejšnje in ne nekaj novega. V dvovrstični različici tudi jasneje vidimo, kateri dve vrstici vrača funkcija. Poleg tega lahko primerjamo vrstici, vidimo, po čem se razlikujeta.\n",
    "\n",
    "Druga debata je bila, seveda, o tem, kaj zlomka je ta `itemgetter`. `itemgetter` je funkcija, ki vrača funkcije. Če je ne bi bilo, bi si jo brez težav napisali sami."
   ]
  },
  {
   "cell_type": "code",
   "execution_count": 16,
   "id": "93e04cef",
   "metadata": {},
   "outputs": [],
   "source": [
    "def itemgetter(i):\n",
    "    def item(s):\n",
    "        return s[i]\n",
    "    return item"
   ]
  },
  {
   "cell_type": "markdown",
   "id": "b021bd70",
   "metadata": {},
   "source": [
    "Funkcija `item` je na las podobna naši gornji funkciji `item1`, le da ne vrača prvega temveč `i`-ti element. In da bi se izognili temu, da bi morali definirati neke funkcije `item1`, `item2` in tako naprej, pokličemo funkcijo `itemgetter`, ki namesto nas prijazno definira takšno funkcijo in nam jo vrne.\n",
    "\n",
    "Kar kul, ni?\n",
    "\n",
    "Nalogo se preprosteje reši na drug način, ki pa ga še ne poznamo, zato ne bom povedal, da je najbolj Pythonovska rešitev te naloge takšna:"
   ]
  },
  {
   "cell_type": "code",
   "execution_count": 17,
   "id": "19ba332e",
   "metadata": {},
   "outputs": [],
   "source": [
    "def dimenzije(ovire):\n",
    "    return (max(x1 for _, x1, _ in ovire),\n",
    "            max(y for _, _, y in ovire))"
   ]
  },
  {
   "cell_type": "markdown",
   "id": "2862c393",
   "metadata": {},
   "source": [
    "### `globina`\n",
    "\n",
    "Gremo čez vse ovire in če katera od njih zapira podani stolpec, pogledamo, ali ga zapira v vrstici, ki je višja od najvišje, ki ga je zapirala doslej."
   ]
  },
  {
   "cell_type": "code",
   "execution_count": 18,
   "id": "06290cbe",
   "metadata": {},
   "outputs": [],
   "source": [
    "def globina(ovire, x):\n",
    "    najy = dimenzije(ovire)[1] + 1\n",
    "    for x0, x1, y in ovire:\n",
    "        if x0 <= x <= x1 and y < najy:\n",
    "            najy = y\n",
    "    return najy"
   ]
  },
  {
   "cell_type": "markdown",
   "id": "bf6386df",
   "metadata": {},
   "source": [
    "Žal še ne vemo dovolj, da bi nalogo rešili tako:"
   ]
  },
  {
   "cell_type": "code",
   "execution_count": 26,
   "id": "dd7d8554",
   "metadata": {},
   "outputs": [],
   "source": [
    "def globina(ovire, x):\n",
    "    return min((y for x1, x2, y in ovire if x1 <= x <= x2),\n",
    "               default=dimenzije(ovire)[1] + 1)"
   ]
  },
  {
   "cell_type": "markdown",
   "id": "65e5642e",
   "metadata": {},
   "source": [
    "### `naj_stolpec`\n",
    "\n",
    "Tudi ta naloga ni nič posebnega."
   ]
  },
  {
   "cell_type": "code",
   "execution_count": 21,
   "id": "fddbebe8",
   "metadata": {},
   "outputs": [],
   "source": [
    "def naj_stolpec(ovire):\n",
    "    naj_st = 0\n",
    "    naj_globina = 0\n",
    "    for x in range(1, dimenzije(ovire)[0] + 1):\n",
    "        gl = globina(ovire, x)\n",
    "        if gl > naj_globina:\n",
    "            naj_st = x\n",
    "            naj_globina = gl\n",
    "    return naj_st"
   ]
  },
  {
   "cell_type": "markdown",
   "id": "47eb80b3",
   "metadata": {},
   "source": [
    "Tudi to nalogo lahko rešimo z `max`. Približno tako."
   ]
  },
  {
   "cell_type": "code",
   "execution_count": 23,
   "id": "2b67d4ce",
   "metadata": {},
   "outputs": [],
   "source": [
    "# Tole ne deluje\n",
    "def naj_stolpec(ovire):\n",
    "    return max(range(1, dimenzije(ovire)[0] + 1), key=globina)"
   ]
  },
  {
   "cell_type": "markdown",
   "id": "fa9c1e3b",
   "metadata": {},
   "source": [
    "Kaj? `range`? No, da. Od `max`-a pričakujemo, da bo vrnil številko nekega stolpca, torej številko med `1` in `dimenzije(ovire)[0]`, torej mu to podamo kot argument. S `key` pa mu povemo, naj te številke (stolpcev) primerja po tem, kako globoko se je možno spustiti po tem stolpcu.\n",
    "\n",
    "Problem je v tem, da to ne dela. `max` bo podani funkciji, `globina`, dajal en sam argument, številko stolpca. Funkcija `globina` pa zahteva predtem še argument `ovire`. Temu služi druga funkcija iz podaljšanih navodil naloge: `partial(globina, ovire)` vrne funkcijo, ki počne isto kot `globina`, vendar je prvi element že podan, `ovire`, zato zahteva le še enega, številko stolpca."
   ]
  },
  {
   "cell_type": "code",
   "execution_count": 24,
   "id": "6c408268",
   "metadata": {},
   "outputs": [],
   "source": [
    "def naj_stolpec(ovire):\n",
    "    return max(range(1, dimenzije(ovire)[0] + 1), key=partial(globina, ovire))"
   ]
  },
  {
   "cell_type": "markdown",
   "id": "c17eddea",
   "metadata": {},
   "source": [
    "### `senca`"
   ]
  },
  {
   "cell_type": "code",
   "execution_count": 25,
   "id": "abd0f687",
   "metadata": {},
   "outputs": [],
   "source": [
    "def senca(ovire):\n",
    "    sirina, visina = dimenzije(ovire)\n",
    "    odprti = []\n",
    "    for x in range(1, sirina + 1):\n",
    "        odprti.append(globina(ovire, x) == visina + 1)\n",
    "    return odprti"
   ]
  },
  {
   "cell_type": "markdown",
   "id": "6665f05d",
   "metadata": {},
   "source": [
    "Tudi ta funkcija uporablja funkcijo `globina`, saj bi sicer ponovila večino kode te funkcije.\n",
    "\n",
    "Bodite pozorni:\n",
    "\n",
    "```python\n",
    "odprti.append(globina(ovire, x) == visina + 1)\n",
    "```\n",
    "\n",
    "in ne\n",
    "\n",
    "```python\n",
    "if globina(ovire, x) == visina + 1:\n",
    "    odprti.append(True)\n",
    "else:\n",
    "    odprti.append(False)\n",
    "```\n",
    "\n",
    "Seveda deluje tudi drugo, vendar ni smiselno, saj je `globina(ovire, x) == visina + 1` že vrednost, ki jo želimo dodati v seznam. (Zanimivo: študenti rezultat primerjanja stalno dojemajo kot *pogoj*, ki ga lahko uporabljajo v `if` in `while`, ne pa kot vrednost, ki jo lahko uporabijo, kjerkoli. Mogoče bi se to rešilo tako, da bi že eno predavanje, preden začnemo s pogoji, predstavil logične izraze, kot nekaj, kar pač vrne `True` ali `False`?!)"
   ]
  },
  {
   "cell_type": "markdown",
   "id": "dfc97027",
   "metadata": {},
   "source": [
    "Razlika ni zgolj kozmetična. Le če boste pravilno razmišljali in znali sprogramirati, kot je treba, brez odvečnih pogojev, boste znali nekoč, čez mesec, dva, napisati"
   ]
  },
  {
   "cell_type": "code",
   "execution_count": 27,
   "id": "4496a6c9",
   "metadata": {},
   "outputs": [],
   "source": [
    "def sence(ovire):\n",
    "    sirina, visina = dimenzije(ovire)\n",
    "    return [globina(ovire, x) == visina + 1 for x in range(1, sirina + 1)]"
   ]
  }
 ],
 "metadata": {
  "kernelspec": {
   "display_name": "Python 3 (ipykernel)",
   "language": "python",
   "name": "python3"
  },
  "language_info": {
   "codemirror_mode": {
    "name": "ipython",
    "version": 3
   },
   "file_extension": ".py",
   "mimetype": "text/x-python",
   "name": "python",
   "nbconvert_exporter": "python",
   "pygments_lexer": "ipython3",
   "version": "3.11.5"
  }
 },
 "nbformat": 4,
 "nbformat_minor": 5
}
