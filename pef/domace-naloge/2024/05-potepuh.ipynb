{
 "cells": [
  {
   "cell_type": "markdown",
   "id": "e7d6bd96-d851-4fa7-aa28-0ffa5731ffc2",
   "metadata": {},
   "source": [
    "Spet imamo zemljevid kolesarskih povezav, podan v obliki slovarja. Njegovi ključi so pari križišč, na primer `(\"A\", \"B\")`, pripadajoče vrednosti pa *množica veščin*, ki jih mora kolesar obvladati, da prevozi to povezavo, na primer `{\"gravel\", \"trava\"}`.\n",
    "\n",
    "## 0. Naslednji\n",
    "\n",
    "Napiši (čisto običajno) funkcijo `naslednji(zemljevid, krizisce)`, ki prejme zemljevid in ime nekega križišča ter vrne naključno izbrano križišče, ki je povezano s podanim križiščem.\n",
    "\n",
    "    Modul `random` vsebuje funkcijo `random.choice(s)`, ki prejme seznam in vrne naključen element tega seznama.\n",
    "\n",
    "### Rešitev\n",
    "\n",
    "Takole:"
   ]
  },
  {
   "cell_type": "code",
   "execution_count": 2,
   "id": "0397bf71-4c27-42d7-88d3-7ec97a6fc526",
   "metadata": {},
   "outputs": [],
   "source": [
    "import random\n",
    "\n",
    "def naslednji(zemljevid, krizisce):\n",
    "    return random.choice([kam for odkod, kam in zemljevid if odkod == krizisce])"
   ]
  },
  {
   "cell_type": "markdown",
   "id": "37b63782-079a-437b-9f15-2e5336057386",
   "metadata": {},
   "source": [
    "Zanimivi sta dve stvari. Prva: da dobimo možna nadaljnja križišča, uporabimo izpeljani seznam. Druga: uporabiti moramo seznam, ne generatorja. Pisati moramo `random.choice([kam for odkod, kam in zemljevid if odkod == krizisce])` in ne `random.choice(kam for odkod, kam in zemljevid if odkod == krizisce)` Večina funkcij, ki pričakuje seznam, sprejme tudi generator - na primer `sum`, `max`, `min`... Funkcija `random.choice` pa zahteva seznam; to je, če pomislimo, logično, saj bi generator sestavljal element za elementom in na podlagi tega bi bilo težko izbrati naključnega. Naključni element seznama pa dobi tako, da si izmisli naključni indeks ..."
   ]
  },
  {
   "cell_type": "markdown",
   "id": "d2d17d29-2548-4fb0-8566-75e09bb91527",
   "metadata": {},
   "source": [
    "## 1. Potepuh\n",
    "\n",
    "1. Napiši generatorsko funkcijo `potepuh`, ki prejme zemljevid in začetno križišče. Funkcija vrne generator, ki ob vsakem klicu `next` vrne križišče, povezano s križiščem, ki ga je funkcija vrnila prejšnjič.\n",
    "\n",
    "```python\n",
    ">>> g = potepuh(zemljevid, \"R\")\n",
    ">>> next(g)\n",
    "'V'\n",
    ">>> next(g)\n",
    "'R'\n",
    ">>> next(g)\n",
    "'C'\n",
    ">>> next(g)\n",
    "'B'\n",
    ">>> next(g)\n",
    "'V'\n",
    ">>> next(g)\n",
    "'R'\n",
    ">>> next(g)\n",
    "'U'\n",
    ">>> next(g)\n",
    "'V'\n",
    ">>> next(g)\n",
    "'B'\n",
    ">>> next(g)\n",
    "'V'\n",
    ">>> next(g)\n",
    "'R'\n",
    ">>> next(g)\n",
    "'D'\n",
    ">>> next(g)\n",
    "'R'\n",
    ">>> next(g)\n",
    "'I'\n",
    ">>> next(g)\n",
    "'M'\n",
    ">>> next(g)\n",
    "'L'\n",
    ">>> next(g)\n",
    "'J'\n",
    "```"
   ]
  },
  {
   "cell_type": "markdown",
   "id": "02289ba6-d149-482c-8699-29b2c3e827f1",
   "metadata": {},
   "source": [
    "### Rešitev\n",
    "\n",
    "Tako je treba storiti:"
   ]
  },
  {
   "cell_type": "code",
   "execution_count": 3,
   "id": "c6294473-4381-48eb-b2f3-00eda2e5ccf4",
   "metadata": {},
   "outputs": [],
   "source": [
    "def potepuh(zemljevid, krizisce):\n",
    "    while True:\n",
    "        krizisce = naslednji(zemljevid, krizisce)\n",
    "        yield krizisce"
   ]
  },
  {
   "cell_type": "markdown",
   "id": "81300ba2-a814-4fd3-9eaf-23adc978a0f5",
   "metadata": {},
   "source": [
    "V `krizisce` shranimo naslednje `krizisce` in ga vrnemo. Če bi napisali samo"
   ]
  },
  {
   "cell_type": "code",
   "execution_count": 4,
   "id": "4f35fda0-793f-436b-8863-caf6f66ca3c2",
   "metadata": {},
   "outputs": [],
   "source": [
    "def potepuh(zemljevid, krizisce):\n",
    "    while True:\n",
    "        yield naslednji(zemljevid, krizisce)"
   ]
  },
  {
   "cell_type": "markdown",
   "id": "8ae3f737-5695-40a5-aead-7d0c3a329622",
   "metadata": {},
   "source": [
    "... to seveda ne bi šlo, saj bi vedno vračal enega od sosedov začetnega križišča."
   ]
  },
  {
   "cell_type": "markdown",
   "id": "f3151b31-70ad-49e4-a374-8ac941dbe012",
   "metadata": {},
   "source": [
    "## 3. Nespreten potepuh\n",
    "\n",
    "Napiši generatorsko funkcijo `nespreten_potepuh(zemljevid, krizisce, vescine)`, ki je podoben običajnemu potepuhu, vendar obvlada omejen nabor veščin. Če, recimo, začne v točki A in obvlada zgolj `{\"gravel\", \"trava\", \"bolt\", \"lonci\"}`, se bo potepal le med točkami A, B, C in V.\n",
    "\n",
    "### Rešitev\n",
    "\n",
    "Tu je pravzaprav potrebno ponovno narediti vse, kar smo naredili v prejšnjih dveh funkcijah, le da to strnemo kar v eno.\n",
    "\n",
    "- Najprej sestavimo seznam vseh možnih naslednjih križišč. Izpeljani seznam je podoben prejšnjemu, le pogoj, s katerim preverimo, da kolesar obvlada zahtevane veščine, moramo dodati.\n",
    "- Če se izkaže, da ne moremo naprej, prekinemo zanko in generator neha generirati.\n",
    "- Sicer pa si izberemo naslednje križišče in ga vrnemo."
   ]
  },
  {
   "cell_type": "code",
   "execution_count": 5,
   "id": "e67fed24-ec45-4de4-aeb1-34ad07f2cabf",
   "metadata": {},
   "outputs": [],
   "source": [
    "def nespreten_potepuh(zemljevid, krizisce, vescine):\n",
    "    while True:\n",
    "        mozni = [kam for (odkod, kam), potrebne in zemljevid.items()\n",
    "                 if odkod == krizisce and potrebne <= vescine]\n",
    "        if not mozni:\n",
    "            break\n",
    "        krizisce = random.choice(mozni)\n",
    "        yield krizisce"
   ]
  }
 ],
 "metadata": {
  "kernelspec": {
   "display_name": "Python 3 (ipykernel)",
   "language": "python",
   "name": "python3"
  },
  "language_info": {
   "codemirror_mode": {
    "name": "ipython",
    "version": 3
   },
   "file_extension": ".py",
   "mimetype": "text/x-python",
   "name": "python",
   "nbconvert_exporter": "python",
   "pygments_lexer": "ipython3",
   "version": "3.12.7"
  }
 },
 "nbformat": 4,
 "nbformat_minor": 5
}
