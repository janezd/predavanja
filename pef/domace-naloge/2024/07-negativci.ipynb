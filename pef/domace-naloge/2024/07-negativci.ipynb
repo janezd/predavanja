{
 "cells": [
  {
   "cell_type": "markdown",
   "id": "899c3c72-694d-4b8c-80d1-b22ab097212d",
   "metadata": {},
   "source": [
    "## Obvezna naloga\n",
    "\n",
    "Napiši rekurzivno funkcijo `negativci(s)`, ki prejme seznam števil in vrne `True`, če seznam vsebuje vsaj eno negativno število in `False`, če ga ne.\n",
    "\n",
    "Funkcija naj bo rekurzivna -- takšna, kot smo jih pisali na predavanju. Nobenih zank.\n",
    "\n",
    "### Rešitev\n",
    "\n",
    "Nič takšnega, česar še ne bi videli na predavanju..."
   ]
  },
  {
   "cell_type": "code",
   "execution_count": 1,
   "id": "dd35e562-4801-463b-a506-a1848fa57c92",
   "metadata": {},
   "outputs": [],
   "source": [
    "def negativci(s):\n",
    "    if s == []:\n",
    "        return False\n",
    "    if s[0] < 0:\n",
    "        return True\n",
    "    return negativci(s[1:])"
   ]
  },
  {
   "cell_type": "markdown",
   "id": "dffbf789-5ac0-4b53-9a31-ef36c4e68bf1",
   "metadata": {},
   "source": [
    "Ali, krajše:"
   ]
  },
  {
   "cell_type": "code",
   "execution_count": 2,
   "id": "dc050bfa-b388-4b06-bc91-75073496f4a6",
   "metadata": {},
   "outputs": [],
   "source": [
    "def negativci(s):\n",
    "    return s and (s[0] < 0 or negativci(s[1:]))"
   ]
  },
  {
   "cell_type": "markdown",
   "id": "ea989037-7f0f-4169-9517-63124c460906",
   "metadata": {},
   "source": [
    "## Dodatna naloga\n",
    "\n",
    "Za izziv lahko poskusiš napisati še funkcijo rekurzivno `plusminus(s)`, ki vrne `True`, če seznam vsebuje tako pozitivna kot negativna števila. Izziv je očitno rešljiv tako, da uporabiš funkcijo `negativci`, poleg nje pa napišeš še funkcijo `pozitivci`. Poskusi brez njiju, torej z eno samo rekurzivno funkcijo.\n",
    "\n",
    "Namig: če funkcija vsebuje tako pozitivna kot negativna števila, obstaja par zaporednih elementov z različnim predznakom.\n",
    "\n",
    "### Rešitev\n",
    "\n",
    "Če sledimo namigu, pridemo do te ideje: preverimo, ali je prvo število negativno in drugo pozitivno ali obratno. Če je tako, vrnemo `True`. Sicer rekurzivno pogledamo preostanek seznama. Veselja je konec, ko ostane en sam element.\n",
    " \n",
    "Glavni trik te naloge je, da sicer opazujemo prva dva elementa, vendar v rekurzivnem klicu vseeno \"odstranimo\" samo prvega."
   ]
  },
  {
   "cell_type": "code",
   "execution_count": 3,
   "id": "85585a66-a8a5-4b87-98e7-1c6d3e5115f1",
   "metadata": {},
   "outputs": [],
   "source": [
    "def plusminus(s):\n",
    "    if len(s) < 2:\n",
    "        return False\n",
    "    if s[0] < 0 < s[1] or s[0] > 0 > s[1]:\n",
    "        return True\n",
    "    return plusminus(s[1:])"
   ]
  },
  {
   "cell_type": "markdown",
   "id": "d0bfb0e8-8a84-4f0d-abfc-fe19183f8026",
   "metadata": {},
   "source": [
    "Preverjanja, ali sta predznaka prvih števil različna, smo se lotili *relativno* spretno. Gre še boljše: preverimo, ali je njun produkt negativen."
   ]
  },
  {
   "cell_type": "code",
   "execution_count": 4,
   "id": "e15f8e0a-a4eb-4a8c-bd82-6a4bfa6e8bfe",
   "metadata": {},
   "outputs": [],
   "source": [
    "def plusminus(s):\n",
    "    if len(s) < 2:\n",
    "        return False\n",
    "    if s[0] * s[1] < 0:\n",
    "        return True\n",
    "    return plusminus(s[1:])"
   ]
  },
  {
   "cell_type": "markdown",
   "id": "e14aede2-6168-4dc6-9141-01049101f4ad",
   "metadata": {},
   "source": [
    "Krajša različica pa je"
   ]
  },
  {
   "cell_type": "code",
   "execution_count": 5,
   "id": "d9c52e39-0733-4d5a-a73b-0cccf772004e",
   "metadata": {},
   "outputs": [],
   "source": [
    "def plusminus(s):\n",
    "    return len(s) > 2 and (s[0] * s[1] < 0 or plusminus(s[1:]))"
   ]
  },
  {
   "cell_type": "markdown",
   "id": "0f6774b2-4c78-45a7-b1d4-f7916f0112f6",
   "metadata": {},
   "source": [
    "Pazite na oklepaje: ker ima `and` prednost pred `or`, moramo del s konjunkcijo zapreti v oklepaje."
   ]
  }
 ],
 "metadata": {
  "kernelspec": {
   "display_name": "Python 3 (ipykernel)",
   "language": "python",
   "name": "python3"
  },
  "language_info": {
   "codemirror_mode": {
    "name": "ipython",
    "version": 3
   },
   "file_extension": ".py",
   "mimetype": "text/x-python",
   "name": "python",
   "nbconvert_exporter": "python",
   "pygments_lexer": "ipython3",
   "version": "3.12.7"
  }
 },
 "nbformat": 4,
 "nbformat_minor": 5
}
