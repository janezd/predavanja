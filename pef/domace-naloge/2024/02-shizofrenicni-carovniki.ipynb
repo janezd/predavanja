{
 "cells": [
  {
   "cell_type": "markdown",
   "id": "7441a61a-74d9-4224-ae3a-05c2e784f720",
   "metadata": {},
   "source": [
    "Hudobni asistent je študentom nekoč zadal takšno nalogo.\n",
    "\n",
    "---\n",
    "\n",
    "*Napišite funkcijo preveri(carovniki, uroki), ki za podana seznama čarovnikov in njihovih urokov preveri, ali vsak čarovnik vedno izvaja natanko enak urok.*\n",
    "\n",
    "*Če vsak čarovnik izvaja vedno isti urok, funkcija vrne `True`. Če se kateri koli čarovnik pojavi večkrat in izvaja različne uroke, funkcija vrne `False`.*\n",
    "\n",
    "*Ime čarovnika in njegov urok sta povezana prek istega indeksa v seznamih, kar pomeni, da carovniki[i] izvaja uroki[i].*\n",
    "\n",
    "*Klic*\n",
    "\n",
    "```\n",
    "preveri([\"Rincewind\", \"Cutangle\", \"Stibbons\", \"Rincewind\"],\n",
    "        [\"Eksplodiraj\", \"Teleport\", \"Ogenj\", \"Nevidnost\"])\n",
    "```\n",
    "\n",
    "*vrne `False`, ker je Rincewind izvedel različna uroka (*Eksplodiraj* in *Nevidnost*).*\n",
    "\n",
    "*Klic*\n",
    "\n",
    "```\n",
    "preveri([\"Rincewind\", \"Cutangle\", \"Stibbons\", \"Rincewind\"],\n",
    "        [\"Eksplodiraj\", \"Teleport\", \"Ogenj\", \"Eksplodiraj\"])\n",
    "```\n",
    "\n",
    "*vrne `True`, ker vsak čarovnik izvaja vedno isti urok.*\n",
    "\n",
    "---\n",
    "\n",
    "Hudobnemu asistentu je sledil še hudobnejši profesor, ki je dal študentom enako nalogo, vendar je v teste dodal primer, v katerem nastopa milijon čarovnikov in hotel, da program v največ nekaj sekundah obdela tudi te. Rešitev,  ki potrebuje več časa, se bo štela za napačno.\n",
    "\n",
    "(Ker ni čisto hudoben, ima spoiler: potrebujete slovar, katerega ključi so čarovniki. Kaj bodo vrednosti, pa razmislite sami.)\n",
    "\n",
    "## Rešitev brez slovarja\n",
    "\n",
    "Najprej se spomnimo, kako reši to nalogo študent z znanjem, ki ga je dobil pri Uvodu v programiranje."
   ]
  },
  {
   "cell_type": "code",
   "execution_count": 2,
   "id": "41d4c0bc-fbf1-48f7-b50e-cf0ca9194290",
   "metadata": {},
   "outputs": [],
   "source": [
    "def preveri(carovniki, uroki):\n",
    "    for carovnik1, urok1 in zip(carovniki, uroki):\n",
    "        for carovnik2, urok2 in zip(carovniki, uroki):\n",
    "            if carovnik1 == carovnik2 and urok1 != urok2:\n",
    "                return False\n",
    "    return True"
   ]
  },
  {
   "cell_type": "markdown",
   "id": "3f82cc5b-7dbd-4047-bbee-3897c552bbd8",
   "metadata": {},
   "source": [
    "Takšna rešitev deluje za kratke sezname čarovnikov in urokov, ne pa pri milijonu.\n",
    "\n",
    "Testi pripravijo seznam za milijon čarovnikov in urokov. Kako, bomo razumeli čez nekaj tednov, tu se v to ne bomo poglabljali, kodo bomo le skopirali."
   ]
  },
  {
   "cell_type": "code",
   "execution_count": 3,
   "id": "6a8fef52-7d06-4449-b652-f1d85e2c57a6",
   "metadata": {},
   "outputs": [],
   "source": [
    "import random\n",
    "\n",
    "milijon_carovnikov = [f\"c{random.randint(1, 10000):05}\" for _ in range(1000000)]\n",
    "milijon_urokov = [f\"u{carovnik[1:]}\" for carovnik in milijon_carovnikov]"
   ]
  },
  {
   "cell_type": "markdown",
   "id": "06c52055-ddc7-4593-a851-53b4d0fb8d2c",
   "metadata": {},
   "source": [
    "Koliko časa bi gornja funkcija potrebovala za pet tisoč čarovnikov in urokov?"
   ]
  },
  {
   "cell_type": "code",
   "execution_count": 11,
   "id": "ea40db58-1b3a-4c81-8a1a-c929dfb59324",
   "metadata": {},
   "outputs": [
    {
     "name": "stdout",
     "output_type": "stream",
     "text": [
      "0.4881711006164551\n"
     ]
    }
   ],
   "source": [
    "import time\n",
    "\n",
    "carovniki = milijon_carovnikov[:5000]\n",
    "uroki = milijon_urokov[:5000]\n",
    "\n",
    "zacetek = time.time()\n",
    "preveri(carovniki, uroki)\n",
    "print(time.time() - zacetek)"
   ]
  },
  {
   "cell_type": "markdown",
   "id": "a6438a7e-5400-42be-a132-1c2b5dd30b7d",
   "metadata": {},
   "source": [
    "Funkcija `time` vrne čas v sekundah od 1. januarja 1970. Za tisoč čarovnikov torej potrebujemo pol sekunde. Po neki logiki - navidez pravilni, v resnici naivni - bi za dvakrat toliko čarovnikov potrebovali dvakrat toliko časa, torej sekundo. Preverimo, ali res."
   ]
  },
  {
   "cell_type": "code",
   "execution_count": 12,
   "id": "592a1af3-e003-4d2e-9035-c89afa08f015",
   "metadata": {},
   "outputs": [
    {
     "name": "stdout",
     "output_type": "stream",
     "text": [
      "1.8263521194458008\n"
     ]
    }
   ],
   "source": [
    "carovniki = milijon_carovnikov[:10000]\n",
    "uroki = milijon_urokov[:10000]\n",
    "\n",
    "zacetek = time.time()\n",
    "preveri(carovniki, uroki)\n",
    "print(time.time() - zacetek)"
   ]
  },
  {
   "cell_type": "markdown",
   "id": "5161a2ed-8625-4769-8ac3-6b6046c97dd1",
   "metadata": {},
   "source": [
    "Ne, potrebovali smo skoraj dve sekundi. Poskusimo, koliko časa potrebujemo za 2000, 4000, 8000  in tako naprej do 20000 čarovnikov."
   ]
  },
  {
   "cell_type": "code",
   "execution_count": 13,
   "id": "780c878d-0261-4ece-a09e-6101eb88a304",
   "metadata": {},
   "outputs": [
    {
     "name": "stdout",
     "output_type": "stream",
     "text": [
      "[0.09334087371826172, 0.3008592128753662, 0.7040607929229736, 1.1761589050292969, 1.8217980861663818, 2.5779528617858887, 3.55436110496521, 4.595165967941284, 5.825541019439697, 7.14305305480957]\n"
     ]
    }
   ],
   "source": [
    "stevila = list(range(2000, 20001, 2000))\n",
    "casi = []\n",
    "for stevilo in stevila:\n",
    "    carovniki = milijon_carovnikov[:stevilo]\n",
    "    uroki = milijon_urokov[:stevilo]\n",
    "    zacetek = time.time()\n",
    "    preveri(carovniki, uroki)\n",
    "    casi.append(time.time() - zacetek)\n",
    "\n",
    "print(casi)"
   ]
  },
  {
   "cell_type": "markdown",
   "id": "57c55b33-4bda-4abf-ab40-ed9ccc1fee3f",
   "metadata": {},
   "source": [
    "Število čarovnikov narašča linearno - vsakič jih dodamo 2000. Tudi časi naraščajo linearno? Vsakič dodamo ... dve desetinki? Štiri? Narišimo! (Uporabili bomo knjižnico `matplotlib`, ki je ne dobimo s Pythonom, temveč jo je potrebno namestiti posebej. Pri Programiranju 1 se ne bomo učili o njej, pač pa nam bo včasih prišla prav, ko bomo želeli kaj pokazati. Recimo zdaj.)"
   ]
  },
  {
   "cell_type": "code",
   "execution_count": 14,
   "id": "db787746-37d5-4895-b302-303287fa09b5",
   "metadata": {},
   "outputs": [
    {
     "data": {
      "text/plain": [
       "[<matplotlib.lines.Line2D at 0x138130860>]"
      ]
     },
     "execution_count": 14,
     "metadata": {},
     "output_type": "execute_result"
    },
    {
     "data": {
      "image/png": "[encoded data removed]",
      "text/plain": [
       "<Figure size 640x480 with 1 Axes>"
      ]
     },
     "metadata": {},
     "output_type": "display_data"
    }
   ],
   "source": [
    "from matplotlib.pyplot import plot\n",
    "\n",
    "plot(stevila, casi)"
   ]
  },
  {
   "cell_type": "markdown",
   "id": "41f3aab5-99d5-49ad-a043-16180b7c256a",
   "metadata": {},
   "source": [
    "Tole ni videti kot premica, prej parabola. Če je res parabola, ima torej obliko $y = ax^2 + bx + c$. Razumno bi bilo pričakovati, da za 0 čarovnikov potrebuje 0 časa, pa tudi linearni člen bomo zaradi preprostosti tvegali prezreti. Predpostavimo torej, da sledi gornja krivulja funkciji $y = ax^2$ pri določenem $a$. Koeficient $a$ bo preprosto izračunati: če velja za vse točke, velja tudi za zadnjo. $a = y / x^2$, oziroma `a = casi[-1] / stevila[-1] ** 2`."
   ]
  },
  {
   "cell_type": "code",
   "execution_count": 15,
   "id": "87a0c426-b5d0-4070-b292-7a6bc7e52391",
   "metadata": {},
   "outputs": [],
   "source": [
    "a = casi[-1] / stevila[-1] ** 2"
   ]
  },
  {
   "cell_type": "code",
   "execution_count": 16,
   "id": "c4c40410-48f3-4bd7-aff5-7932ff7bb842",
   "metadata": {},
   "outputs": [],
   "source": [
    "y = []\n",
    "for stevilo in stevila:\n",
    "    y.append(a * stevilo ** 2)"
   ]
  },
  {
   "cell_type": "code",
   "execution_count": 17,
   "id": "fd780b19-7cf2-4984-a9dd-2b3703c6fdc8",
   "metadata": {},
   "outputs": [
    {
     "data": {
      "text/plain": [
       "[<matplotlib.lines.Line2D at 0x1381e97f0>]"
      ]
     },
     "execution_count": 17,
     "metadata": {},
     "output_type": "execute_result"
    },
    {
     "data": {
      "image/png": "[encoded data removed]",
      "text/plain": [
       "<Figure size 640x480 with 1 Axes>"
      ]
     },
     "metadata": {},
     "output_type": "display_data"
    }
   ],
   "source": [
    "from matplotlib.pyplot import plot\n",
    "\n",
    "plot(stevila, casi)\n",
    "plot(stevila, y)"
   ]
  },
  {
   "cell_type": "markdown",
   "id": "479dec22-4763-4808-81f6-38a1a2ee8b4f",
   "metadata": {},
   "source": [
    "Krivulji odlično sovpadata. Čas, ki ga potrebuje funkcija, torej raste s kvadratom števila čarovnikov. Dvakrat več čarovnikov zahteva štirikrat večji čas. Desetkrat več čarovnikov, stokrat večji čas. Za 5000 čarovnikov potrebujemo 0.5 sekunde. Milijon čarovnikov je 200-krat več. Za 200-krat več čarovnikov potrebujemo $200 \\times 200 = 40000$ več časa. 40.000-krat pol sekunde je 20000 sekund, ali tri ure.\n",
    "\n",
    "Zakaj je tako? Reč je preprosta: imamo dve zanki, ki gresta prek vseh čarovnikov. Če je čarovnikov $x$, se zunanja zanka obrne $x$-krat in znotraj vsake iteracije zunanje zanke se tudi notranja zanka zanka obrne $x$-krat. Skupaj torej $x^2$ korakov notranje zanke."
   ]
  },
  {
   "cell_type": "markdown",
   "id": "2763ed27-343f-4af2-9fa6-0ed9d4530c73",
   "metadata": {},
   "source": [
    "## Rešitev s slovarjem\n",
    "\n",
    "S slovarjem je nalogo najboljše rešiti tako."
   ]
  },
  {
   "cell_type": "code",
   "execution_count": 18,
   "id": "8e0ea42e-4052-4769-9bb0-019d360615aa",
   "metadata": {},
   "outputs": [],
   "source": [
    "def preveri(carovniki, uroki):\n",
    "    uporabljeno = {}\n",
    "    for carovnik, urok in zip(carovniki, uroki):\n",
    "        if carovnik in uporabljeno:\n",
    "            if uporabljeno[carovnik] != urok:\n",
    "                return False\n",
    "        else:\n",
    "            uporabljeno[carovnik] = urok\n",
    "    return True"
   ]
  },
  {
   "cell_type": "markdown",
   "id": "c62c14d4-49c4-48d3-9b0a-735e7d2ebf46",
   "metadata": {},
   "source": [
    "Ključi slovarja so čarovniki, vrednosti urok, ki ga je ta čarovnik uporabil, ko smo ga prvič srečali.\n",
    "\n",
    "Za vsakega čarovnika preverimo, ali je že v slovarju - se pravi, ali smo ga že videli izreči kak urok. Če je tako, preverimo, ali je izrekel enak urok kot prej. Če ga ni, brez odlašanja vrnemo `True`. Če čarovnika vidimo prvič, pa si zapomnimo urok, ki ga je uporabil.\n",
    "\n",
    "Ne spreglejmo, kam smo postavili `else`: pod zunanji `if`, saj moramo v slovar vpisati čarovnika, ki ga še nismo videli. Če bi ga postavili pod drugi `else`, bi v slovar vpisali le čarovnika, ki *smo ga videli že poprej* in je zdaj uporabil isti urok. To ne bi delovalo; kar razmislite."
   ]
  },
  {
   "cell_type": "markdown",
   "id": "88461ae6-4c84-4080-97e3-26b1edd58895",
   "metadata": {},
   "source": [
    "Preverimo, koliko časa potrebuje ta funkcija za različno število čarovnikov. Ker je bistveno hitrejša od prejšnje, moramo povečati število čarovnikov, sicer bo napaka meritve večja od samega časa."
   ]
  },
  {
   "cell_type": "code",
   "execution_count": 27,
   "id": "3866064a-2a2f-474c-85fb-8449ce2baa62",
   "metadata": {},
   "outputs": [],
   "source": [
    "stevila = list(range(50000, 1_000_001, 50000))\n",
    "casi = []\n",
    "for stevilo in stevila:\n",
    "    carovniki = milijon_carovnikov[:stevilo]\n",
    "    uroki = milijon_urokov[:stevilo]\n",
    "    zacetek = time.time()\n",
    "    preveri(carovniki, uroki)\n",
    "    casi.append(time.time() - zacetek)"
   ]
  },
  {
   "cell_type": "code",
   "execution_count": 28,
   "id": "fa50ef10-0ff6-4cb5-ade3-b1922ed600b8",
   "metadata": {},
   "outputs": [
    {
     "data": {
      "text/plain": [
       "[<matplotlib.lines.Line2D at 0x13ac85400>]"
      ]
     },
     "execution_count": 28,
     "metadata": {},
     "output_type": "execute_result"
    },
    {
     "data": {
      "image/png": "[encoded data removed]",
      "text/plain": [
       "<Figure size 640x480 with 1 Axes>"
      ]
     },
     "metadata": {},
     "output_type": "display_data"
    }
   ],
   "source": [
    "from matplotlib.pyplot import plot\n",
    "\n",
    "plot(stevila, casi)"
   ]
  },
  {
   "cell_type": "markdown",
   "id": "0b5243bf-1cfb-4ee7-82ef-68f15d65b76f",
   "metadata": {},
   "source": [
    "Časi so tako majhni, da jih ne izmerimo prav natančno, a vseeno: potek je - če zanemarimo slučajne skoke - videti linearen. Tako tudi mora biti: zdaj imamo eno samo zanko in vse, kar počnemo znotraj nje, je neodvisno od števila čarovnikov."
   ]
  }
 ],
 "metadata": {
  "kernelspec": {
   "display_name": "Python 3 (ipykernel)",
   "language": "python",
   "name": "python3"
  },
  "language_info": {
   "codemirror_mode": {
    "name": "ipython",
    "version": 3
   },
   "file_extension": ".py",
   "mimetype": "text/x-python",
   "name": "python",
   "nbconvert_exporter": "python",
   "pygments_lexer": "ipython3",
   "version": "3.12.7"
  }
 },
 "nbformat": 4,
 "nbformat_minor": 5
}
