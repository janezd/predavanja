{
 "cells": [
  {
   "cell_type": "markdown",
   "id": "6bf96bc3",
   "metadata": {},
   "source": [
    "## Rekurzivne ovire\n",
    "\n",
    "V tej domači nalogi vadimo pisanje rekurzivnih funkcij. Obe funkciji vam bi bilo lažje napisati iterativno; tako bi bilo za te nalogi tudi bolj naravno. Vendar potrebujemo takšne, preproste primere kot pripravo na težje, pri katerih brez rekurzije (skoraj) ne bo šlo.\n",
    "\n",
    "Tako kot na predavanjih je smiselno najprej ločeno obravnavati prazen seznam potem pa prvi element in ostanek (ali pa ostanek in prvi element, kakor bo naneslo).\n",
    "\n",
    "1. Napiši *rekurzivno funkcijo* `stolpec3(ovire)`, ki dobi seznam trojk, ki opisujejo ovire (`(x0, x1, y)`) in vrne `True`, če katera ovira pokriva (tudi) stolpec 3 in `False`, če ne.\n",
    "2. Napiši *rekurzivno funkcijo* `najsirsa(ovire)`, ki vrne najširšo oviro. Če je enako širokih najširših ovir več, naj vrne prvo med njimi.\n",
    "\n",
    "    Klic `[(1, 1, 4), (3, 5, 3), (2, 8, 1), (8, 10, 2)]` vrne `(2, 8, 1)`.\n",
    "    \n",
    "### Rešitev\n",
    "\n",
    "#### `stolpec3(ovire)`\n",
    "\n",
    "- Če ovir ni, vrnemo `False`, saj očitno ni ovire, ki bi zakrivala tretji stolpec.\n",
    "- Če ga prva ovira zakriva, vrnemo `True`.\n",
    "- Sicer ponovimo vajo na ostalih ovirah."
   ]
  },
  {
   "cell_type": "code",
   "execution_count": 1,
   "id": "2d380880",
   "metadata": {},
   "outputs": [],
   "source": [
    "def stolpec3(ovire):\n",
    "    if ovire == []:\n",
    "        return False\n",
    "    prva = ovire[0]\n",
    "    if prva[0] <= 3 <= prva[1]:\n",
    "        return True\n",
    "    else:\n",
    "        return stolpec3(ovire[1:])"
   ]
  },
  {
   "cell_type": "markdown",
   "id": "33e4de63",
   "metadata": {},
   "source": [
    "Z drugimi besedami: funkcija mora povedati ali imamo kakšno oviro in zakriva tretji stolpec bodisi prva ovira bodisi katera od preostalih."
   ]
  },
  {
   "cell_type": "code",
   "execution_count": 2,
   "id": "245e42dd",
   "metadata": {},
   "outputs": [],
   "source": [
    "def stolpec3(ovire):\n",
    "    return ovire and (ovire[0][0] <= 3 <= ovire[0][1] or stolpec3(ovire[1:]))"
   ]
  },
  {
   "cell_type": "markdown",
   "id": "2b744826",
   "metadata": {},
   "source": [
    "Ne spreglej oklepaja (tistega, za `and`): `and` ima prednost pred `or`, zato je del pogoja z `or` v oklepajih."
   ]
  },
  {
   "cell_type": "markdown",
   "id": "3165ecb5",
   "metadata": {},
   "source": [
    "#### `najsirsa(ovire)`\n",
    "\n",
    "- Če ovir ni, vrnimo oviro širine `-1`. Naloga nekako predpostavlja, da ovire bodo; da jih ni, se bo zgodilo na koncu rekurzije in takrat želimo vrniti \"oviro\", ožjo od vseh ostalih, tako da bo že prva ovira, ki jo bomo srečali na poti iz rekurzije, širša.\n",
    "- Sicer izvemo, katera je najširša ovira iz ostanka. Primerjamo jo s prvo in če je prva širša (ali enako široka!) vrnemo prvo, sicer najširšo izmed ostalih."
   ]
  },
  {
   "cell_type": "code",
   "execution_count": 3,
   "id": "199d9182",
   "metadata": {},
   "outputs": [],
   "source": [
    "def najsirsa(ovire):\n",
    "    if not ovire:\n",
    "        return (0, -1, 0)\n",
    "\n",
    "    prva = ovire[0]\n",
    "    naj_ostanek = najsirsa(ovire[1:])\n",
    "    if prva[1] - prva[0] >= naj_ostanek[1] - naj_ostanek[0]:\n",
    "        return prva\n",
    "    else:\n",
    "        return naj_ostanek"
   ]
  }
 ],
 "metadata": {
  "kernelspec": {
   "display_name": "Python 3 (ipykernel)",
   "language": "python",
   "name": "python3"
  },
  "language_info": {
   "codemirror_mode": {
    "name": "ipython",
    "version": 3
   },
   "file_extension": ".py",
   "mimetype": "text/x-python",
   "name": "python",
   "nbconvert_exporter": "python",
   "pygments_lexer": "ipython3",
   "version": "3.9.7"
  }
 },
 "nbformat": 4,
 "nbformat_minor": 5
}
