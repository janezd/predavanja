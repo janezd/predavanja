{
 "cells": [
  {
   "cell_type": "markdown",
   "id": "d57cd96d",
   "metadata": {},
   "source": [
    "Oddelek za gospodarske dejavnosti in (motorni) promet Mestne občine Ljubljana (MOL) slovi po srce parajoči skrbi za varnost kolesarjev. V imenu te skrbi jim povsod, kjer je to v interesu kolesarjev, odvzame prednost, jim postavlja različne ovire, viša robnike in ukinja kolesarske steze, kjer niso potrebne (predvsem, če je tam slučajno potrebno povečati število parkirišč za avtomobile). Vašemu profesorju se vsak dan orosi oko od ganjene hvaležnosti MOLu ob pogledu na mesto na Večni poti, kjer so - kot je povedal MOL - kolesarjem odvzeli prednost, da jih ne bi povozil avto ali kombi, ki morda ne bi vedel, da imajo tu prednost kolesarji. ([Več o tem si preberite na strani Runda](https://runda.si/article/sikaniranje-dobesedno-).)\n",
    "\n",
    "## Ogrevalna naloga"
   ]
  },
  {
   "cell_type": "markdown",
   "id": "457db58d",
   "metadata": {},
   "source": [
    "<img src=\"data:image/.png;base64,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\"/>"
   ]
  },
  {
   "cell_type": "markdown",
   "id": "b42ea978",
   "metadata": {},
   "source": [
    "Recimo, da so ovire postavljene, kot kaže slika. V Pythonu bi lahko njihove pozicije opisali s seznamom trojk (terk) `(x1, x2, y)`, kjer sta `x1` in `x2` (`x1 <= x2`) številki stolpca, kjer se ovira začne in konča (ovira vključuje tudi `x2`). Ovire na sliki bi tako opisali s seznamom\n",
    "\n",
    "```python\n",
    "ovire = [(1, 3, 6), (2, 4, 3), (4, 6, 7),\n",
    "         (3, 4, 9), (6, 9, 5), (9, 10, 2), (9, 10, 8)]\n",
    "```\n",
    "\n",
    "Vrstni red elementov seznama je nepomemben.\n",
    "\n",
    "Napiši naslednje funkcije\n",
    "\n",
    "- `stevilo_ovir(ovire)` prejme ovire v obliki seznama trojk (x0, x1, y) in vrne število ovir.\n",
    "- `dolzina_ovir(ovire)` vrne skupno dolžino vseh ovir.\n",
    "- `sirina(ovire)` vrne širino kolesarke steze, se pravi najbolj desno koordinato v seznamu ovir.\n",
    "\n",
    "Napiši program, ki se začne s seznamom ovir in številko stolpca, na primer"
   ]
  },
  {
   "cell_type": "markdown",
   "id": "64ab5766",
   "metadata": {},
   "source": [
    "### Rešitev\n",
    "\n",
    "Tale naloga preverja samo, ali znamo definirati funkcije. No, pa napisati kakšno preprosto zanko."
   ]
  },
  {
   "cell_type": "code",
   "execution_count": 1,
   "id": "6b66bbe1",
   "metadata": {},
   "outputs": [],
   "source": [
    "def stevilo_ovir(ovire):\n",
    "    return len(ovire)\n",
    "\n",
    "def dolzina_ovir(ovire):\n",
    "    dolzina = 0\n",
    "    for x0, x1, _ in ovire:\n",
    "        dolzina += x1 - x0 + 1\n",
    "    return dolzina\n",
    "\n",
    "def sirina(ovire):\n",
    "    najx = 0\n",
    "    for _, x1, _ in ovire:\n",
    "        if x1 > najx:\n",
    "            najx = x1\n",
    "    return najx"
   ]
  },
  {
   "cell_type": "markdown",
   "id": "91fe3451",
   "metadata": {},
   "source": [
    "## Obvezna naloga\n",
    "\n",
    "Napiši funkcije\n",
    "\n",
    "- `globina(ovire, x)` prejme seznam ovir (v obliki trojk) in vrne vrstico, v kateri bi kolesar, ki se vozi po stolpcu `x` od zgoraj navzdol, naletel na oviro. Če v stolpcu ni ovir, naj vrne `None`.\n",
    "- `naj_stolpec(ovire)` vrne stolpec, v katerem kolesar pride najdlje in vrstico, do katere pride. Možno je tudi, da v kakem stolpcu ni ovire; v tem primeru vrne koordinato tega stolpca in `None`.\n",
    "- `senca(ovire)` vrne seznam, katerega elementa so `False` oz. `True` glede na to, ali stolpec vsebuje kako oviro ali ne. Če je širina poti `5` in sta drugi in zadnji stolpec brez ovir (to ni primer s slike), vrne `[False, True, False, False, True]`."
   ]
  },
  {
   "cell_type": "markdown",
   "id": "73004785",
   "metadata": {},
   "source": [
    "### Rešitev\n",
    "\n",
    "Tudi ta naloga ni kaj prida težja."
   ]
  },
  {
   "cell_type": "code",
   "execution_count": 2,
   "id": "9f25c49b",
   "metadata": {},
   "outputs": [],
   "source": [
    "def globina(ovire, x):\n",
    "    najy = None\n",
    "    for x0, x1, y in ovire:\n",
    "        if x0 <= x <= x1 and (najy == None or y < najy):\n",
    "            najy = y\n",
    "    return najy"
   ]
  },
  {
   "cell_type": "markdown",
   "id": "226073a4",
   "metadata": {},
   "source": [
    "Tule velja spomniti na dvoje.\n",
    "\n",
    "Prvo je nizanje primerjav. Medtem ko bi morali v drugih jezikih, ki jih nekateri od vas poznate, pisati `if x >= x0 and x <= x1`, lahko v Pythonu pišemo kar `if x0 <= x <= x1`.\n",
    "\n",
    "Drugi: kratkostično obnašanje. Začetni `najy` smo postavili na `None`. Lahko bi ga pravzaprav tudi na `0` in funkcija bi še vedno delovala, a takole je bolj zanimivo (in v splošnem se lahko zgodi, da ne bomo imeli primerne začetne vrednosti, kot je `0`, zato je čisto koristno, če se naučimo tole narediti z `None`). Primerjanje bi v bistvu napisali takole:\n",
    "\n",
    "```\n",
    "if x0 <= x <= x1 and y < najy\n",
    "```\n",
    "\n",
    "vendar to ne bi delovalo, kadar `najy` še nima \"določene\" začetne vrednosti in je še enak `None`. V tem primeru bi `y < najy` javil napako, saj ne more primerjati števila z `None`. Zato pišemo `najy == None or y < najy`. Pomembno je, da je `najy == None` pred `y < najy`. Ker imamo disjunkcijo, `or`, se Python v primeru, da je resničen že prvi pogoj, z drugim pogojem sploh ne bo ukvarjal.\n",
    "\n",
    "V funkciji `naj_stolpec` je zanimivo"
   ]
  },
  {
   "cell_type": "code",
   "execution_count": null,
   "id": "fddbebe8",
   "metadata": {},
   "outputs": [],
   "source": [
    "def naj_stolpec(ovire):\n",
    "    naj_y = 0\n",
    "    for x in range(1, sirina(ovire) + 1):\n",
    "        g = globina(ovire, x)\n",
    "        if g == None:\n",
    "            return x, None\n",
    "        if g > naj_y:\n",
    "            naj_y = g\n",
    "            naj_x = x\n",
    "    return naj_x, naj_y"
   ]
  },
  {
   "cell_type": "markdown",
   "id": "47eb80b3",
   "metadata": {},
   "source": [
    "Najprej: v tej funkciji kličemo funkcijo `globina`. Kdor tega ni storil in je namesto tega znotraj te funkcije ponovno računal globino in tako praktično ponovil vso kodo prejšnje funkcije, naj se ne pritožuje, da dajem pretežke domače naloge. Kriv si je namreč sam.\n",
    "\n",
    "Naslednje: `return` znotraj funkcije. Čim naletimo na stolpec, po katerem je mogoče priti do konca, vrnemo številko tega stolpca. To tudi prekine zanko.\n",
    "\n",
    "Zadnje: nekoč bomo namesto `g == None` pisali `g is None`. Povem samo toliko, da se kdo, ki bo tole bral čez kak mesec ali kasneje, ne bi spotikal, zakaj zdaj tako in kasneje drugače. Zato, ker še ne vemo za `is` in še ne razumemo, kaj dela in v čem je `None` poseben."
   ]
  },
  {
   "cell_type": "code",
   "execution_count": 3,
   "id": "abd0f687",
   "metadata": {},
   "outputs": [],
   "source": [
    "def senca(ovire):\n",
    "    zaprti = []\n",
    "    for x in range(1, sirina(ovire) + 1):\n",
    "        zaprti.append(globina(ovire, x) == None)\n",
    "    return zaprti"
   ]
  },
  {
   "cell_type": "markdown",
   "id": "6665f05d",
   "metadata": {},
   "source": [
    "Tudi ta funkcija uporablja funkcijo `globina`, saj bi sicer ponovila večino kode te funkcije. Globina sicer vrača več, kot potrebujemo - pove nam globino, nas pa zanima le, ali vrne `None` ali ne. Nič hudega.\n",
    "\n",
    "Bodite pozorni:\n",
    "\n",
    "```python\n",
    "zaprti.append(globina(ovire, x) == None)\n",
    "```\n",
    "\n",
    "in ne\n",
    "\n",
    "```python\n",
    "if globina(ovire, x) == None:\n",
    "    zaprti.append(True)\n",
    "else:\n",
    "    zaprti.append(False)\n",
    "```\n",
    "\n",
    "Seveda deluje tudi drugo, vendar ni smiselno, saj je `globina(ovire, x) == None` že vrednost, ki jo želimo dodati v seznam. (Zanimivo: študenti rezultat primerjanja stalno dojemajo kot *pogoj*, ki ga lahko uporabljajo v `if` in `while`, ne pa kot vrednost, ki jo lahko uporabijo, kjerkoli. Mogoče bi se to rešilo tako, da bi že eno predavanje, preden začnemo s pogoji, predstavil logične izraze, kot nekaj, kar pač vrne `True` ali `False`?!)"
   ]
  },
  {
   "cell_type": "markdown",
   "id": "17728c24",
   "metadata": {},
   "source": [
    "## Dodatna naloga\n",
    "\n",
    "MOL je poslal zemljevid ovir na kolesarski poti. Zemljevid je shranjen kot seznam nizov, ki predstavljajo \"vrstice\": `#` predstavlja oviro, `.` pa prosto pot.\n",
    "\n",
    "Zemljevid je lahko, recimo, takšen\n",
    "\n",
    "```\n",
    "[\"..........\",\n",
    " \"........##\",\n",
    " \".###......\",\n",
    " \"..........\",\n",
    " \".....####.\",\n",
    " \"###.......\",\n",
    " \"...###....\",\n",
    " \"........##\",\n",
    " \"..##......\",\n",
    " \"..........\"]\n",
    "```\n",
    "\n",
    "Napiši funkciji\n",
    "    \n",
    "- `pretvori_vrstico(vrstica)` prejme vrstico v obliki niza, sestavljenega iz znakov # in . ter vrne seznam parov (x0, x1), ki predstavljajo začetne in končne stolpce ovir v tej vrstici.\n",
    "\n",
    "    Klic `pretvori_vrstico(\".##..####...##\")` vrne `[(2, 3), (6, 9), (13, 14)]`. **Ne spreglej**, da koordinate niso opisane po \"Pythonovsko\": prvi stolpec ima indeks 1 in obe meji sta vključeni (`(6, 9)` pokriva tudi vrstico 9, torej vsebuje 4 `#`).\n",
    "\n",
    "- `pretvori_zemljevid(zemljevid)` dobi zemljevid v obliki seznama nizov in vrne seznam ovir, s kakršnim smo delali v ogrevalni in obvezni nalogi."
   ]
  },
  {
   "cell_type": "markdown",
   "id": "9ca9258b",
   "metadata": {},
   "source": [
    "\n",
    "### `pretvori_vrstico`\n",
    "\n",
    "Tu stvari končno postanejo zanimive. Seveda predvsem pri prvi funkciji, druga je potem trivialna.\n",
    "\n",
    "Da bomo razmišljali o vseh sitnostih hkrati, vzemimo tale niz:\n",
    "\n",
    "```\n",
    "##...#.###..##\n",
    "12345678901234\n",
    "```"
   ]
  },
  {
   "cell_type": "markdown",
   "id": "d868640f",
   "metadata": {},
   "source": [
    "Vsebuje oviro na začetku in na koncu, oviro dolžine 1 in oviri, ki sta razmaknjeni za 1. Spodaj smo napisali številke, da lažje razberemo pričakovani rezultat: `[(1, 2), (6, 6), (7, 9), (13, 14)]`.\n",
    "\n",
    "Nalogo je možno rešiti na kup načinov. Vsem je skupno to, da se je potrebno dobro zorganizirati.\n",
    "\n",
    "En zanimiv trik je, da na začetek in konec niza prištejemo piko. Tako bo pred vsakim `#`, ki začenja oviro, pika, četudi je (bil) ta `#` na začetku vrstice. Prav tako bo `.` za vsakim `#`, ki končuje oviro, četudi je (bil) na koncu vrstice."
   ]
  },
  {
   "cell_type": "code",
   "execution_count": 5,
   "id": "abc86033",
   "metadata": {},
   "outputs": [],
   "source": [
    "def pretvori_vrstico(ovire):\n",
    "    ovire = \".\" + ovire + \".\"\n",
    "    bloki = []\n",
    "    for i in range(len(ovire)):\n",
    "        if ovire[i] == \"#\":\n",
    "            if ovire[i - 1] == \".\":\n",
    "                zacetek = i\n",
    "            if ovire[i + 1] == \".\":\n",
    "                bloki.append((zacetek, i))\n",
    "    print(bloki)"
   ]
  },
  {
   "cell_type": "markdown",
   "id": "a25d16fc",
   "metadata": {},
   "source": [
    "Če vidimo `#`, pred katerim je `.`, si zapomnimo, da je to začetek. Če vidimo `#`, za katerim je `.`, v seznam blokov dodamo blok od začetka do trenutnega indeksa.\n",
    "\n",
    "Za posamične `#` se zgodi oboje naenkrat, zato tu nismo uporabili kakega `else` ali `elif`.\n",
    "\n",
    "Stolpce v tej nalogi štejemo od `1` ne od `0`. Naši indeksi bodo pravilni, saj smo na začetek dodali `.`.\n",
    "\n",
    "Zdaj pa izboljšave.\n",
    "\n",
    "Na predavanjih običajno stokam, da `range(len(ovire))` ni lepo pisati - sploh, kadar potrebuješ tako indeks kot element. Raje pišimo:"
   ]
  },
  {
   "cell_type": "code",
   "execution_count": 3,
   "id": "35c5ff1e",
   "metadata": {},
   "outputs": [
    {
     "name": "stdout",
     "output_type": "stream",
     "text": [
      "[(1, 2), (6, 6), (8, 10), (13, 14)]\n"
     ]
    }
   ],
   "source": [
    "ovire = \"##...#.###..##\"\n",
    "\n",
    "\n",
    "ovire = \".\" + ovire + \".\"\n",
    "bloki = []\n",
    "for i, znak in enumerate(ovire):\n",
    "    if znak == \"#\":\n",
    "        if ovire[i - 1] == \".\":\n",
    "            zacetek = i\n",
    "        if ovire[i + 1] == \".\":\n",
    "            bloki.append((zacetek, i))\n",
    "print(bloki)"
   ]
  },
  {
   "cell_type": "markdown",
   "id": "a773948d",
   "metadata": {},
   "source": [
    "Se lahko zgodi, da bi bil indeks `i + 1` prevelik? To bi bilo možno le, če bi bil zadnji znak `#` in bi se torej spraševali po znaku za njim. To pa ne more biti, saj smo na konec dodali piko. Prav tako `i - 1` nikoli ne bo `-1`, saj je ničti znak vedno `.` in ne `#`.\n",
    "\n",
    "Še lepše je, če uporabimo čistokrvni `zip`. V tem primeru lahko pike dodamo kar v klicu `zip`-a."
   ]
  },
  {
   "cell_type": "code",
   "execution_count": 4,
   "id": "a3344a96",
   "metadata": {},
   "outputs": [
    {
     "name": "stdout",
     "output_type": "stream",
     "text": [
      "[(1, 2), (6, 6), (8, 10), (13, 14)]\n"
     ]
    }
   ],
   "source": [
    "ovire = \"##...#.###..##\"\n",
    "\n",
    "\n",
    "bloki = []\n",
    "for i, (prej, znak, potem) in enumerate(zip(\".\" + ovire, ovire, ovire[1:] + \".\"), start=1):\n",
    "    if znak == \"#\":\n",
    "        if prej == \".\":\n",
    "            zacetek = i\n",
    "        if potem == \".\":\n",
    "            bloki.append((zacetek, i))\n",
    "print(bloki)"
   ]
  },
  {
   "cell_type": "markdown",
   "id": "6466fb0b",
   "metadata": {},
   "source": [
    "Najprej, kaj zipamo. Tole"
   ]
  },
  {
   "cell_type": "raw",
   "id": "625ddce2",
   "metadata": {},
   "source": [
    ".##...#.###..##  (\".\" + ovire)\n",
    "##...#.###..##   (ovire)\n",
    "#...#.###..##    (ovire[1:] + \".\")"
   ]
  },
  {
   "cell_type": "markdown",
   "id": "f18c832c",
   "metadata": {},
   "source": [
    "Okrog `zip`-a pride še `enumerate`, da bomo imeli indekse; vse skupaj je potrebno razpakirati kot `for i, (prej, znak, potem)`, saj imamo pare (indeks, element), pri čemer je element trojka.\n",
    "\n",
    "Končno, ker morajo indeksi teči od `1`, smo v `enumerate` dodali `start=1`.\n",
    "\n",
    "Zdaj pa malo drugačna različica: zabeležimo vse spremembe."
   ]
  },
  {
   "cell_type": "code",
   "execution_count": 5,
   "id": "9e9f9215",
   "metadata": {},
   "outputs": [
    {
     "data": {
      "text/plain": [
       "[1, 3, 6, 7, 8, 11, 13, 15]"
      ]
     },
     "execution_count": 5,
     "metadata": {},
     "output_type": "execute_result"
    }
   ],
   "source": [
    "ovire = \"##...#.###..##\"\n",
    "\n",
    "\n",
    "ovire = \".\" + ovire + \".\"\n",
    "spremembe = []\n",
    "for i in range(len(ovire)):\n",
    "    if ovire[i] != ovire[i - 1]:\n",
    "        spremembe.append(i)\n",
    "        \n",
    "spremembe"
   ]
  },
  {
   "cell_type": "markdown",
   "id": "8a39dea1",
   "metadata": {},
   "source": [
    "Te indekse je potrebno popariti:"
   ]
  },
  {
   "cell_type": "code",
   "execution_count": 6,
   "id": "7461dc1f",
   "metadata": {},
   "outputs": [
    {
     "data": {
      "text/plain": [
       "[(1, 3), (6, 7), (8, 11), (13, 15)]"
      ]
     },
     "execution_count": 6,
     "metadata": {},
     "output_type": "execute_result"
    }
   ],
   "source": [
    "list(zip(spremembe[::2], spremembe[1::2]))"
   ]
  },
  {
   "cell_type": "markdown",
   "id": "fbf53eb0",
   "metadata": {},
   "source": [
    "Žal so drugi elementi teh terk - konci blokov - preveliki. Ker terk ni mogoče spreminjati, nam (dokler se ne naučimo, kako to storiti drugače) ne preostane drugega kot prepisati jih v nov seznam. No, saj ni tako hudo."
   ]
  },
  {
   "cell_type": "code",
   "execution_count": 7,
   "id": "231b2404",
   "metadata": {},
   "outputs": [
    {
     "data": {
      "text/plain": [
       "[(1, 2), (6, 6), (8, 10), (13, 14)]"
      ]
     },
     "execution_count": 7,
     "metadata": {},
     "output_type": "execute_result"
    }
   ],
   "source": [
    "ovire = \"##...#.###..##\"\n",
    "\n",
    "\n",
    "ovire = \".\" + ovire + \".\"\n",
    "spremembe = []\n",
    "for i in range(len(ovire)):\n",
    "    if ovire[i] != ovire[i - 1]:\n",
    "        spremembe.append(i)\n",
    "        \n",
    "bloki = []\n",
    "for zac, kon in zip(spremembe[::2], spremembe[1::2]):\n",
    "    bloki.append((zac, kon - 1))\n",
    "    \n",
    "bloki"
   ]
  },
  {
   "cell_type": "markdown",
   "id": "32b2663b",
   "metadata": {},
   "source": [
    "Pa brez dodajanja pik na začetek in konec? Gre, samo malo več sitnosti je. Recimo tako:"
   ]
  },
  {
   "cell_type": "code",
   "execution_count": 8,
   "id": "5596093c",
   "metadata": {},
   "outputs": [
    {
     "data": {
      "text/plain": [
       "[(1, 3), (6, 7), (8, 11), (13, 14)]"
      ]
     },
     "execution_count": 8,
     "metadata": {},
     "output_type": "execute_result"
    }
   ],
   "source": [
    "ovire = \"##...#.###..##\"\n",
    "\n",
    "prej = \".\"\n",
    "bloki = []\n",
    "for i, znak in enumerate(ovire, start=1):\n",
    "    if znak != prej:\n",
    "        if znak == \"#\":\n",
    "            zacetek = i\n",
    "        else:\n",
    "            bloki.append((zacetek, i))\n",
    "    prej = znak\n",
    "    \n",
    "if ovire[-1] == \"#\":\n",
    "    bloki.append((zacetek, len(ovire)))\n",
    "    \n",
    "bloki        "
   ]
  },
  {
   "cell_type": "markdown",
   "id": "14d02817",
   "metadata": {},
   "source": [
    "V spremenljivko `prej` beležimo, kakšen je bil prejšnji znak. V začetku se pretvarjamo, da je `\".\"`. To poskrbi, da zaznamo oviro na začetku niza. Za oviro na koncu pa poskrbimo z `if` po zanki.\n",
    "\n",
    "Če ne vemo, da ima `enumerate` lahko tudi argument `start`, namesto `i` vedno pišemo `i + 1`."
   ]
  },
  {
   "cell_type": "markdown",
   "id": "a422d23f",
   "metadata": {},
   "source": [
    "### `pretvori_zemljevid`\n",
    "\n",
    "Tole pa je spet rutinsko."
   ]
  },
  {
   "cell_type": "code",
   "execution_count": 7,
   "id": "0ed5d745",
   "metadata": {},
   "outputs": [],
   "source": [
    "def pretvori_zemljevid(zemljevid):\n",
    "    ovire = []\n",
    "    for y, vrstica in enumerate(zemljevid, start=1):\n",
    "        for x0, x1 in pretvori_vrstico(vrstica):\n",
    "            ovire.append((x0, x1, y))\n",
    "    return ovire"
   ]
  },
  {
   "cell_type": "markdown",
   "id": "879878c3",
   "metadata": {},
   "source": [
    "Prva opazka: `enumerate` ima dodatni argument `start`, s katerim mu lahko povemo, kje naj začne šteti.\n",
    "\n",
    "Druga: enkrat kmalu se bomo naučili to napisati krajše."
   ]
  },
  {
   "cell_type": "code",
   "execution_count": 8,
   "id": "a897ae10",
   "metadata": {},
   "outputs": [],
   "source": [
    "def pretvori_zemljevid(zemljevid):\n",
    "    ovire = []\n",
    "    for y, vrstica in enumerate(zemljevid, start=1):\n",
    "        ovire += [(x0, x1, y) for x0, x1 in pretvori_vrstico(vrstica)]\n",
    "    return ovire"
   ]
  }
 ],
 "metadata": {
  "kernelspec": {
   "display_name": "Python 3 (ipykernel)",
   "language": "python",
   "name": "python3"
  },
  "language_info": {
   "codemirror_mode": {
    "name": "ipython",
    "version": 3
   },
   "file_extension": ".py",
   "mimetype": "text/x-python",
   "name": "python",
   "nbconvert_exporter": "python",
   "pygments_lexer": "ipython3",
   "version": "3.9.7"
  }
 },
 "nbformat": 4,
 "nbformat_minor": 5
}
