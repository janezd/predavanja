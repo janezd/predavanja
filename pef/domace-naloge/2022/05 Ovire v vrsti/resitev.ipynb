{
 "cells": [
  {
   "cell_type": "markdown",
   "id": "a9699ec5",
   "metadata": {},
   "source": [
    "# Ovire v eni vrsti\n",
    "\n",
    "Vračamo se k prvi nalogi [Zemljevid ovir](https://ucilnice.arnes.si/mod/assign/view.php?id=5284884). Tokrat jo bomo reševali s pomočjo izpeljanih seznamov. Če vam kaj pomaga (najbrž vam vsaj malo) imate poleg testov že napisane funkcije, ki rešijo naloge ... le predolge so. :)\n",
    "\n",
    "## Obvezna naloga\n",
    "\n",
    "Napišite funkcije\n",
    "\n",
    "- `stevilo_ovir(ovire)`,\n",
    "- `dolzina_ovir(ovire)`,\n",
    "- `sirina(ovire)`,\n",
    "- `globina(ovire, x)`,\n",
    "- `senca(ovire)`\n",
    "\n",
    "tako, da bodo vsebovale samo stavek `return` in v njem to, kar je pač potrebno, da izračunate, kar je treba izračunati.\n",
    "\n",
    "### Rešitev\n",
    "\n",
    "Število ovir je že napisano v vrstici. Daljše skoraj ne gre. :)"
   ]
  },
  {
   "cell_type": "code",
   "execution_count": 1,
   "id": "f38fa016",
   "metadata": {},
   "outputs": [],
   "source": [
    "def stevilo_ovir(ovire):\n",
    "    return len(ovire)"
   ]
  },
  {
   "cell_type": "markdown",
   "id": "0acc0371",
   "metadata": {},
   "source": [
    "**`dolzina_ovir(ovire)`** mora vrniti vsoto dolžin vseh ovir. Dolžina ovire `(x0, x1, y)` je `x1 - x0 + 1`, vsota tega je `sum(x1 - x0 + 1 ... za vsako oviro`."
   ]
  },
  {
   "cell_type": "code",
   "execution_count": 2,
   "id": "59f57423",
   "metadata": {},
   "outputs": [],
   "source": [
    "def dolzina_ovir(ovire):\n",
    "    return sum(x1 - x0 + 1 for x0, x1, _ in ovire)"
   ]
  },
  {
   "cell_type": "markdown",
   "id": "c60c807f",
   "metadata": {},
   "source": [
    "Ker `y` ne potrebujemo, tretjo vrednost iz trojke poimenujemo kar `_`.\n",
    "\n",
    "**`sirina(ovire)`** je enaka največjemu (po angleško: maksimalnemu) `x1`."
   ]
  },
  {
   "cell_type": "code",
   "execution_count": 3,
   "id": "c7770a46",
   "metadata": {},
   "outputs": [],
   "source": [
    "def sirina(ovire):\n",
    "    return max(x1 for _, x1, _ in ovire)"
   ]
  },
  {
   "cell_type": "markdown",
   "id": "e76e3f26",
   "metadata": {},
   "source": [
    "**`dodaj_vrstico(ovire, y)`** gre čez seznam parov in jih zlaga v seznam trojk, ki poleg `x1` in `x0` vsebujeta še `y`."
   ]
  },
  {
   "cell_type": "code",
   "execution_count": 4,
   "id": "42088185",
   "metadata": {},
   "outputs": [],
   "source": [
    "def dodaj_vrstico(bloki, y):\n",
    "    return [(x0, x1, y) for x0, x1 in bloki]"
   ]
  },
  {
   "cell_type": "markdown",
   "id": "ca981833",
   "metadata": {},
   "source": [
    "Če hočemo poudariti, da je `y` dodan k tistemu, kar smo imeli prej, pa"
   ]
  },
  {
   "cell_type": "code",
   "execution_count": 5,
   "id": "be657309",
   "metadata": {},
   "outputs": [],
   "source": [
    "def dodaj_vrstico(bloki, y):\n",
    "    return [blok + (y, ) for blok in bloki]"
   ]
  },
  {
   "cell_type": "markdown",
   "id": "ac83dbca",
   "metadata": {},
   "source": [
    "Ne spreglejte: ne `blok + (y)`, temveč `blok + (y, )`. `(y)` bi bila samo številka, ne terka."
   ]
  },
  {
   "cell_type": "markdown",
   "id": "88f2b499",
   "metadata": {},
   "source": [
    "**`globina(ovire, x)`** mora vrniti najmanjši `y` med vsemi `x0, x1, y`, za katere velja, da je `x` med `x0` in `x1`, torej `x0 <= x <= x1`.\n",
    "\n",
    "To bi lahko bilo tole:"
   ]
  },
  {
   "cell_type": "code",
   "execution_count": 6,
   "id": "a200f8b5",
   "metadata": {},
   "outputs": [],
   "source": [
    "def globina(ovire, x):\n",
    "    return min(y for x0, x1, y in ovire if x0 <= x <= x1)"
   ]
  },
  {
   "cell_type": "markdown",
   "id": "e1a8b388",
   "metadata": {},
   "source": [
    "vendar ne deluje v primeru, da v stolpcu ni nobene ovire. Tedaj `(y for x0, x1, y in ovire if x0 <= x <= x1)` ne zgenerira ničesar in `max` ne ve, kaj vrniti. Pogledši [dokumentacijo funkcije `min`](https://docs.python.org/3/library/functions.html#min) izvemo, da ji lahko podamo še argument `default`, s katero predpišemo vrednost, ki naj jo vrne v takšnem primeru. V naši nalogi želimo, da tedaj vrne `None`, torej"
   ]
  },
  {
   "cell_type": "code",
   "execution_count": 7,
   "id": "be8442aa",
   "metadata": {},
   "outputs": [],
   "source": [
    "def globina(ovire, x):\n",
    "    return min((y for x0, x1, y in ovire if x0 <= x <= x1), default=None)"
   ]
  },
  {
   "cell_type": "markdown",
   "id": "3abc7901",
   "metadata": {},
   "source": [
    "**`senca(ovire)`** mora sestaviti seznam s toliko elementi, kolikor je stolpcev in vsak vsebuje `True`, če `globina` za ta stolpec vrne `None` in `False`, če ne."
   ]
  },
  {
   "cell_type": "code",
   "execution_count": 8,
   "id": "0a8f47f2",
   "metadata": {},
   "outputs": [],
   "source": [
    "def senca(ovire):\n",
    "    return [globina(ovire, x) is None for x in range(1, sirina(ovire) + 1)]"
   ]
  },
  {
   "cell_type": "markdown",
   "id": "afc33095",
   "metadata": {},
   "source": [
    "## Dodatna naloga\n",
    "\n",
    "Napišite funkcijo `indeksi(s, subs)`, ki prejme niza `s` in `subs` ter vrne seznam indeksov znotraj `s`, na katerih se pojavi `subs`. Klic `indeksi(\"pepelka peče prepelice\", \"pe\")` vrne `[0, 2, 8, 16]`, saj se pe pojavi na indeksih 0, 2, 8 in 16. Tudi ta funkcija sme seveda obsegati samo `return`.\n",
    "\n",
    "Potem napišite v eni vrstici funkcijo\n",
    "\n",
    "- `pretvori_vrstico(vrstica)`."
   ]
  },
  {
   "cell_type": "markdown",
   "id": "7a41696c",
   "metadata": {},
   "source": [
    "### Rešitev\n",
    "\n",
    "Reševanje dodatne naloge tokrat ni bilo popularno. Prvo funkcijo, `indeksi` je že še kdo napisal, druga, `pretvori_vrstico` pa je zahtevala preveč trikov. Nekatere smo sicer že pokazali pri rešitvi prve domače naloge.\n",
    "\n",
    "V funkciji `indeksi` bi lahko navidez uporabljali metodo `index`. Vendar bi bilo to zoprno že v več vrsticah - v eni pa bi bilo res zahtevno.\n",
    "\n",
    "Veliko preprosteje je pomisliti drugače: kaj hoče funkcija? Kaj moramo vrniti? Vse tiste indekse, za katere velja, da se na njih začenja podniz `subs`. Kako torej preverimo, ali se na `i`-tem mestu `s`-ja začenja `subs`? `s[i:i + len(subs)] == subs`. Lahko pa uporabimo tudi metodo `startswith`, ki pove, ali se niz začne s podanim nizom: `s[i:].startswith(subs)`.\n",
    "\n",
    "Funkcija `indeksi` je torej:"
   ]
  },
  {
   "cell_type": "code",
   "execution_count": 9,
   "id": "0b944fc5",
   "metadata": {},
   "outputs": [],
   "source": [
    "def indeksi(s, subs):\n",
    "    return [i for i in range(len(s)) if s[i:].startswith(subs)]"
   ]
  },
  {
   "cell_type": "markdown",
   "id": "d051b262",
   "metadata": {},
   "source": [
    "Zdaj pa pretvorimo vrstico. Zanima nas, kje so začetki ovir. Ovire za začnejo tam, kjer najdemo `.#`. Da bomo našli tudi ovire, ki bi bile čisto na začetku, na začetek prištejemo piko. Ovire se torej začenjajo na `indeksi(\".\" + s, \".#\")`. Vendar bodo ti indeksi žal za 1 premajhni: če imamo `s = \"#\"`, se ovira začne na `1` (ker v teh nalogah pač štejemo od 1). Klic `indeksi(\".\" + s, \".#\")`, ali, konkretneje, `indeksi(\".#\", \".#\")` bo vrnil `[0]`. Nič hudega: indeksom bi sicer lahko prištevali 1 kdaj kasneje, a preprosteje, če nizu `s` namesto ene same pike prištejemo dve, pa se bodo vsi indeksi povečali za `1`. Stolpci, v katerih se začenjajo ovire, so torej `indeksi(\"..\" + s, \".#\")`.\n",
    "\n",
    "Pa konci? Zdaj iščemo `\"#.\"`. Da pravilno zaznamo tudi oviro, ki bi bila čisto na koncu niza, nizu prištejemo še `\".\"`. Da povečamo indekse za `1`, dodamo piko na začetku (namesto pike bi lahko na začetek dodali tudi karkoli drugega). Konci ovir so torej na `indeksi(\".\" + s  + \".\", subs)`.\n",
    "\n",
    "Funkcija mora vrniti pare začetkov in koncev."
   ]
  },
  {
   "cell_type": "code",
   "execution_count": 10,
   "id": "936fee14",
   "metadata": {},
   "outputs": [],
   "source": [
    "def pretvori_vrstico(vrstica):\n",
    "    return list(zip(indeksi(\"..\" + vrstica, \".#\"), indeksi(\".\" + vrstica + \".\", \"#.\")))"
   ]
  }
 ],
 "metadata": {
  "kernelspec": {
   "display_name": "Python 3 (ipykernel)",
   "language": "python",
   "name": "python3"
  },
  "language_info": {
   "codemirror_mode": {
    "name": "ipython",
    "version": 3
   },
   "file_extension": ".py",
   "mimetype": "text/x-python",
   "name": "python",
   "nbconvert_exporter": "python",
   "pygments_lexer": "ipython3",
   "version": "3.9.7"
  }
 },
 "nbformat": 4,
 "nbformat_minor": 5
}
