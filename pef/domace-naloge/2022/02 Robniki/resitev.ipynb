{
 "cells": [
  {
   "cell_type": "markdown",
   "id": "154d03bf",
   "metadata": {},
   "source": [
    "# Robniki\n",
    "\n",
    "Da so kolesarske steze v Najlepšem mestutm™️ bolj estetske, je na vsakem prečkanju stranske ceste uvoz in izvoz na kolesarsko okrašen z okrasnim robnikom v višini nekaj centimetrov. Robnik hkrati povečuje varnost, saj upočasni kolesarje, razen tistih na polno vzmetenih gorskih kolesih. Poleg tega med dežjem robnik usmerja potok vode, po dežju pa še nekaj časa zadržuje mlake, katerih namen je pranje koles in hlač, s čimer MOL poskrbi, da bo imelo najlepše mesto tudi najlepše in s tem najsrečnejše kolesarke in kolesarje."
   ]
  },
  {
   "cell_type": "markdown",
   "id": "187391ce",
   "metadata": {},
   "source": [
    "<img src=\"data:image/.png;base64,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\"/>"
   ]
  },
  {
   "cell_type": "markdown",
   "id": "92ee001e",
   "metadata": {},
   "source": [
    "Zemljevid na sliki prikazuje povezave med križišči (zaradi varstva osebnih podatkov so njihova imena zamenjana s črkami), na povezavah pa je označeno število robnikov, čez katere je potrebno skočiti ob vožnji iz enega križišča do drugega.\n",
    "\n",
    "Zemljevid je podan v obliki slovarja, katerega ključi so terke z imeni povezanih križišč, pripadajoče vrednosti pa število robnikov med njima. Začne se tako:\n",
    "\n",
    "```python\n",
    "zemljevid = {(\"A\", \"B\"): 5, (\"A\", \"V\"): 5,\n",
    "             (\"B\", \"A\"): 5, (\"B\", \"C\"): 3, (\"B\", \"V\"): 0,\n",
    "             (\"C\", \"B\"): 3, (\"C\", \"R\"): 11,\n",
    "             ...\n",
    "             }\n",
    "```\n",
    "\n",
    "Če imamo `odkod = \"A\"` in `kam = =\"V\"`, potem `zemljevid[(odkod, kam)]` pove število robnikov med `odkod` in `kam` (v tem primeru 5).\n",
    "\n",
    "Če določen par ne nastopa kot ključ, potem med tema križiščema ni neposredne povezave.\n",
    "\n",
    "**Vse spodnje funkcije naj načelno delujejo s poljubnim zemljevidom, čeprav testi uporabljajo samo zemljevid na sliki!**\n",
    "\n",
    "## Ogrevalna naloga\n",
    "\n",
    "Napiši funkcijo `izpisi_pot(pot)`, ki prejme pot v obliki zaporedja križišč, na primer `\"FGIR\"`. Funkcija naj izpiše pare vseh zaporednih vozlišč, torej, na primer\n",
    "\n",
    "```python\n",
    "('F', 'G')\n",
    "('G', 'I')\n",
    "('I', 'R')\n",
    "```\n",
    "\n",
    "### Rešitev\n",
    "\n",
    "Bistvo te vaje je bilo samo, da se spomnimo, kako dobiti zaporedne pare vozlišč. Pythonovska rešitev je takšna."
   ]
  },
  {
   "cell_type": "code",
   "execution_count": 1,
   "id": "9324ac17",
   "metadata": {},
   "outputs": [],
   "source": [
    "def izpisi_pot(pot):\n",
    "    for odkod, kam in zip(pot, pot[1:]):\n",
    "        print(odkod, kam)"
   ]
  },
  {
   "cell_type": "code",
   "execution_count": 2,
   "id": "3b9e8f97",
   "metadata": {},
   "outputs": [
    {
     "name": "stdout",
     "output_type": "stream",
     "text": [
      "F G\n",
      "G I\n",
      "I R\n",
      "R M\n"
     ]
    }
   ],
   "source": [
    "izpisi_pot(\"FGIRM\")"
   ]
  },
  {
   "cell_type": "raw",
   "id": "ff516a50",
   "metadata": {},
   "source": [
    "Precej manj impresivno je tole."
   ]
  },
  {
   "cell_type": "code",
   "execution_count": 3,
   "id": "a4bf0519",
   "metadata": {},
   "outputs": [],
   "source": [
    "def izpisi_pot(pot):\n",
    "    for i in range(len(pot) - 1):\n",
    "        print(pot[i], pot[i + 1])"
   ]
  },
  {
   "cell_type": "markdown",
   "id": "e3ccb29a",
   "metadata": {},
   "source": [
    "Ne pravim, da ne dela. Dela."
   ]
  },
  {
   "cell_type": "code",
   "execution_count": 5,
   "id": "d462b18b",
   "metadata": {},
   "outputs": [
    {
     "name": "stdout",
     "output_type": "stream",
     "text": [
      "F G\n",
      "G I\n",
      "I R\n",
      "R M\n"
     ]
    }
   ],
   "source": [
    "izpisi_pot(\"FGIRM\")"
   ]
  },
  {
   "cell_type": "markdown",
   "id": "b832c283",
   "metadata": {},
   "source": [
    "Vendar: v prvi funkciji naredimo zanko čez seznam (parov). V drugi delamo zanko prek indeksov. V Pythonu se poskusimo zanki vedno izogniti, če se ji ne moremo, pa napišemo zanko (po možnosti `for`) čez tisto, čez kar v resnici želimo iti. To pa so pari, ne indeksi.\n",
    "\n",
    "Še malo grše je tako."
   ]
  },
  {
   "cell_type": "code",
   "execution_count": 6,
   "id": "c02bf794",
   "metadata": {},
   "outputs": [],
   "source": [
    "def izpisi_pot(pot):\n",
    "    i = 0\n",
    "    while i < len(pot) - 1:\n",
    "        print(pot[i], pot[i + 1])\n",
    "        i += 1"
   ]
  },
  {
   "cell_type": "code",
   "execution_count": 7,
   "id": "6281d32a",
   "metadata": {},
   "outputs": [
    {
     "name": "stdout",
     "output_type": "stream",
     "text": [
      "F G\n",
      "G I\n",
      "I R\n",
      "R M\n"
     ]
    }
   ],
   "source": [
    "izpisi_pot(\"FGIRM\")"
   ]
  },
  {
   "cell_type": "markdown",
   "id": "975dab14",
   "metadata": {},
   "source": [
    "Kdor programira tako, bo pisal dolge programe, ki bodo grdi in počasni. Pa še zmotil se bo veliko večkrat."
   ]
  },
  {
   "cell_type": "markdown",
   "id": "604d1f8a",
   "metadata": {},
   "source": [
    "## Obvezna naloga\n",
    "\n",
    "Napiši naslednje funkcije:\n",
    "\n",
    "- `robnikov(zemljevid, pot)` prejme zemljevid v gornji obliki in pot v obliki niza, na primer `FGIR`. Vrniti mora število robnikov, ki jih bo kolesar prevozil na takšni poti.\n",
    "\n",
    "    Klic `robnikov(zemljevid, \"FGIR\")` vrne `21` (od F do G naleti na 4 robnike, od G do I na 10 in od I do R na 7).\n",
    "\n",
    "- `prevozno(zemljevid, pot)` vrne `True`, če je podano pot možno prevoziti, torej, če obstajajo povezave med vsemi zaporednimi pari križišč. Če pot ni možna, vrne križišče, v katerem obtiči kolesar.\n",
    "\n",
    "    Klic `prevozno(zemljevid, \"FGIR\")` vrne `True`, klic `prevozno(zemljevid, \"FGIKH\")` pa vrne `\"I\"`, saj pot iz I v K ni možna. (Prav tako ni možna pot iz K v H, vendar se kolesar že prej ustavi v I).\n",
    "\n",
    "- `guma(zemljevid, pot, trpeznost)` prejme zemljevid in pot, poleg tega pa trpežnost gume. Trpežnost gume se na vsakem robniku zmanjša za 1. Ko pade na 0, je guma pokončana, zračnica predrta in prazna, tako da se mora kolesar ustaviti. Funkcija mora vrniti križišče, na katerem se bo ustavil kolesar - bodisi zato, ker bo konec gume, bodisi zato, ker določena povezava sploh ne obstaja (tako kot pri prejšnji funkciji). Če vse povezave obstajajo in guma zdrži, kolesar pride do konca in funkcija vrne zadnje križišče.\n",
    "\n",
    "    - Klic `guma(zemljevid, \"FGIMNPOPI\", 1000)` vrne `\"I\"`, saj vse povezave obstajajo in guma je fantastična.\n",
    "    - Klic `guma(zemljevid, \"FGIMNPOPI\", 25)` vrne `\"M\"`: guma spusti na enem od robnikov med M in N.\n",
    "    - Klic `guma(zemljevid, \"FGIMRDE\", 1000)` vrne `\"M\"`, saj ni povezave med M in R.\n",
    "\n",
    "### Rešitev\n",
    "\n",
    "#### `robnikov`\n",
    "\n",
    "Gremo po parih zaporednih križišč. Za vsak par pobleda v slovar, koliko robnikov vsebuje in to sešteva."
   ]
  },
  {
   "cell_type": "code",
   "execution_count": 8,
   "id": "45be9fc0",
   "metadata": {},
   "outputs": [],
   "source": [
    "def robnikov(zemljevid, pot):\n",
    "    n = 0\n",
    "    for a, b in zip(pot, pot[1:]):\n",
    "        n += zemljevid[(a, b)]\n",
    "    return n"
   ]
  },
  {
   "cell_type": "markdown",
   "id": "7763c14b",
   "metadata": {},
   "source": [
    "Čez nekaj tednov bomo znali še krajše. Upam. :)"
   ]
  },
  {
   "cell_type": "code",
   "execution_count": 9,
   "id": "65bcd4b8",
   "metadata": {},
   "outputs": [],
   "source": [
    "def robnikov(zemljevid, pot):\n",
    "    return sum(zemljevid[(a, b)] for a, b in zip(pot, pot[1:]))"
   ]
  },
  {
   "cell_type": "markdown",
   "id": "dc6db7eb",
   "metadata": {},
   "source": [
    "Za zdaj je tudi prva rešitev čisto dobra. Zelo slaba pa je tale rešitev."
   ]
  },
  {
   "cell_type": "code",
   "execution_count": 10,
   "id": "5185a66c",
   "metadata": {},
   "outputs": [],
   "source": [
    "def robnikov(zemljevid, pot):\n",
    "    n = 0\n",
    "    for a, b in zip(pot, pot[1:]):\n",
    "        for odsek, robov in zemljevid.items():\n",
    "            if odsek == (a, b):\n",
    "                n += robov\n",
    "    return n"
   ]
  },
  {
   "cell_type": "markdown",
   "id": "a0c3e744",
   "metadata": {},
   "source": [
    "Takšna rešitev (po)kaže, da ne razumemo slovarjev - tega, čemu so namenjeni in kaj zmorejo. Slovarji obstajajo prav zato, da nam ne bi bilo potrebno pisati notranje zanke. Če pišemo takšno zanko, potem slovar obravnavamo kot **seznam** parov (ključ, vrednost) in **sami** (počasi) brskamo po njem. Slovar zna vrednost, ki pripada ključu, poiskati sam in pri tem je - to je najpomembnejše - zelo hiter.\n",
    "\n",
    "Mimogrede: pisali smo `odsek == (a, b)`. To je veliko krajše in preglednejše kot `odsek[0] == a and odsek[1] == b`, ni?"
   ]
  },
  {
   "cell_type": "markdown",
   "id": "679e50bb",
   "metadata": {},
   "source": [
    "#### **`prevozno`**\n",
    "\n",
    "`prevozno` gre po parih. Za vsakega preveri, ali je nastopa kot ključ v slovarju. Če ne, vrne začetno križišče te povezave. Če se zanka izteče do konca, pa vrne `True`."
   ]
  },
  {
   "cell_type": "code",
   "execution_count": 11,
   "id": "8067881a",
   "metadata": {},
   "outputs": [],
   "source": [
    "def prevozno(zemljevid, pot):\n",
    "    for a, b in zip(pot, pot[1:]):\n",
    "        if (a, b) not in zemljevid:\n",
    "            return a\n",
    "    return True"
   ]
  },
  {
   "cell_type": "markdown",
   "id": "5021ad95",
   "metadata": {},
   "source": [
    "Spet: pomembno je, da pišemo `if (a, b) not in zemljevid:`. Slovar zna sam ugotoviti - in pri tem je zelo hiter - ali določen ključ obstaja ali ne. Druge variante, na primer"
   ]
  },
  {
   "cell_type": "code",
   "execution_count": 12,
   "id": "f6b8636c",
   "metadata": {},
   "outputs": [],
   "source": [
    "def prevozno(zemljevid, pot):\n",
    "    for a, b in zip(pot, pot[1:]):\n",
    "        imamo = False\n",
    "        for odsek in zemljevid:\n",
    "            if odsek == (a, b):\n",
    "                imamo = True\n",
    "        if not imamo:\n",
    "            return a\n",
    "    return True"
   ]
  },
  {
   "cell_type": "markdown",
   "id": "c3cca296",
   "metadata": {},
   "source": [
    "so zapletene, nepregledne in počasne. Ker ne izkoriščajo tega, kar ponujajo slovarji.\n",
    "\n",
    "Tale pa se lahko pohvali, da uporablja specifičen Pythonov trik, `else` po `for`, vendar tudi to ne prispeva ravno k preglednosti in hitrosti."
   ]
  },
  {
   "cell_type": "code",
   "execution_count": 13,
   "id": "2e58ee22",
   "metadata": {},
   "outputs": [],
   "source": [
    "def prevozno(zemljevid, pot):\n",
    "    for a, b in zip(pot, pot[1:]):\n",
    "        for odsek in zemljevid:\n",
    "            if odsek == (a, b):\n",
    "                break\n",
    "        else:\n",
    "            return a\n",
    "    return True"
   ]
  },
  {
   "cell_type": "markdown",
   "id": "c696479a",
   "metadata": {},
   "source": [
    "#### **`guma`**\n",
    "\n",
    "Tule pa skoraj ni kaj dodati, saj smo že vse povedali."
   ]
  },
  {
   "cell_type": "code",
   "execution_count": 14,
   "id": "606f183f",
   "metadata": {},
   "outputs": [],
   "source": [
    "def guma(zemljevid, pot, trpeznost):\n",
    "    for a, b in zip(pot, pot[1:]):\n",
    "        if (a, b) not in zemljevid:\n",
    "            return a\n",
    "        trpeznost -= zemljevid[(a, b)]\n",
    "        if trpeznost <= 0:\n",
    "            return a\n",
    "    return b"
   ]
  },
  {
   "cell_type": "markdown",
   "id": "6a0b6da3",
   "metadata": {},
   "source": [
    "## Dodana naloga\n",
    "\n",
    "Najlepše križišče je križišče, ki je obkroženo z največ robniki. Za gornji zemljevid je to nedvomno vozlišče R, saj na povezavah okrog njega naštejemo kar 34 (11 + 4 + 7 + 7 + 5) robnikov.\n",
    "\n",
    "Napiši funkciji\n",
    "\n",
    "- `najlepse(zemljevid)`, ki vrne najlepše križišče. Za gornji zemljevid torej `\"R\"`. Če si naziv najlepšega križišča deli več križišč, lahko funkcija vrne kateregakoli izmed njih.\n",
    "- `najlepsa(zemljevid, n)`, ki vrne urejen seznam `n` najlepših križišč. Klic `najlepsa(zemljevid, 3)` vrne `[\"R\", \"I\", \"M\"]`."
   ]
  },
  {
   "cell_type": "markdown",
   "id": "2225ae49",
   "metadata": {},
   "source": [
    "### Rešitev\n",
    "\n",
    "Tokrat je pa malo bolj zapletena, če ne uporabimo trika, ki se ga še nismo učili.\n",
    "\n",
    "Funkciji `max` in `sorted` (pa še katera druga) sprejemajo argument `key`, ki mora biti funkcija. Če ga podamo, recimo, funkciji `sorted`, potem ne bo primerjal elementov, ki jih ureja, po njihovih vrednostih, temveč bo za vsak element poklical podano funkcijo in jih uredil po vrednostih, ki jih vrača ta funkcija.\n",
    "\n",
    "Ta funkcija je lahko tudi, na primer, `lepota.get`, pri čemer je `lepota` nek slovar. Torej, če pokličemo `sorted(lepota, key=lepota.get)`, bo `sorted` vrnil seznam ključev slovarja (zakaj ključev? če gremo z zanko `for` čez slovar, dobimo njegove ključe in tudi `sorted` ureja tisto, kar za slovar vrne zanka `for`) urejen po njihovih vrednostih, ki jim pripadajo. Zakaj urejen po pripadajočih vrednostih? Zato, ker bo za vsak ključ poklical `lepota.get` (s ključem kot argumentom) in ključe urejal po rezultatih, ki jih bo vračala ta funkcija. Ta funkcija pa vrača vrednosti, ki pripadajo ključem.\n",
    "\n",
    "Rešitev je torej"
   ]
  },
  {
   "cell_type": "code",
   "execution_count": null,
   "id": "7dc4cb44",
   "metadata": {},
   "outputs": [],
   "source": []
  }
 ],
 "metadata": {
  "kernelspec": {
   "display_name": "Python 3 (ipykernel)",
   "language": "python",
   "name": "python3"
  },
  "language_info": {
   "codemirror_mode": {
    "name": "ipython",
    "version": 3
   },
   "file_extension": ".py",
   "mimetype": "text/x-python",
   "name": "python",
   "nbconvert_exporter": "python",
   "pygments_lexer": "ipython3",
   "version": "3.9.7"
  }
 },
 "nbformat": 4,
 "nbformat_minor": 5
}
