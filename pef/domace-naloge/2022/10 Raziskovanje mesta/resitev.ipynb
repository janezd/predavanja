{
 "cells": [
  {
   "cell_type": "markdown",
   "id": "ab41ea3f",
   "metadata": {},
   "source": [
    "# Raziskovanje mesta\n",
    "\n",
    "\n",
    "## Za oceno 6\n",
    "\n",
    "Za to oceno naj bodo križišča, po katerih vozi kolesar, označena z eno samo črko. Poznamo poti, po katerih sta vozila dva kolesarja. \n",
    "Napiši funkciji\n",
    "\n",
    "- `skupna_krizisca(pot1, pot2)`, kjer sta `pot1` in `pot2` niza, ki predstavljata poti, vrne število križišč, ki sta jih obiskala oba kolesarja. `skupna_krizisca(\"ABCDCAB\", \"DAEBA\")` vrne `3`, saj sta oba obiskala A, B in D (A celo večkrat, vendar vsako križišče štejemo samo enkrat).\n",
    "- `skupni_odseki(pot1, pot2)` vrne število povezav, ki sta jih prevozila oba kolesarja. `skupni_odseki(\"ABCDCAB\", \"DABCABCD\")` vrne `4`, saj sta oba prevozila A-B, B-C, C-D in C-A. A-B sta sicer prevozila dvakrat, vendar vsako povezavo štejemo le enkrat. Povezave so usmerjene - A-B ni isto kot B-A.\n",
    "\n",
    "### Rešitev\n",
    "\n",
    "Prva funkcija mora vrniti velikost preseka množic križišč."
   ]
  },
  {
   "cell_type": "code",
   "execution_count": 2,
   "id": "2e43df4a",
   "metadata": {},
   "outputs": [],
   "source": [
    "def skupna_krizisca(pot1, pot2):\n",
    "    return len(set(pot1) & set(pot2))"
   ]
  },
  {
   "cell_type": "markdown",
   "id": "0c3bd304",
   "metadata": {},
   "source": [
    "Za drugo moramo sestaviti množico prevoženih odsekov. Odseke dobimo z `zip(pot1, pot1[1:])`; ker potrebujemo množico, jih pač pretvorimo v množico, `set(zip(pot1, pot1[1:]))`. Enako storimo še z drugo potjo in že imamo"
   ]
  },
  {
   "cell_type": "code",
   "execution_count": 3,
   "id": "689e4b7e",
   "metadata": {},
   "outputs": [],
   "source": [
    "def skupni_odseki(pot1, pot2):\n",
    "    return len(set(zip(pot1, pot1[1:])) & set(zip(pot2, pot2[1:])))"
   ]
  },
  {
   "cell_type": "markdown",
   "id": "d2083bca",
   "metadata": {},
   "source": [
    "## Za oceno 7\n",
    "\n",
    "- Napiši funkcijo `preberi_zemljevid(ime_datoteke)`, ki prejme ime datoteke, v kateri je shranjen zemljevid v naslednji obliki:\n",
    "\n",
    "    ```python\n",
    "    PeF-EF: robnik, bolt\n",
    "    PeF-FRI: robnik, avtocesta\n",
    "    FRI-BF: \n",
    "    BF-FE: robnik, trava, pešci\n",
    "    ```\n",
    "\n",
    "    Vsaka vrstica predstavlja povezavo. Levo od dvopičja imamo začetno in končno točko povezave, ločeno z `-`. Ime križišča je lahko sestavljeno iz več znakov. Dvopičju vedno sledi presledek, nato pa seznam veščin. Veščine so ločene z (levo stično) vejico.\n",
    "\n",
    "    Funkcija mora vrniti zemljevid v obliki slovarja, katerega ključi so terke z imenoma križišč, pripadajoča vrednost pa seznam veščin, ki jih zahteva povezava. V gornjem primeru vrne\n",
    "\n",
    "    ```\n",
    "    {('BF', 'FE'): {'pešci', 'robnik', 'trava'},\n",
    "     ('FRI', 'BF'): set(),\n",
    "     ('PeF', 'EF'): {'bolt', 'robnik'},\n",
    "     ('PeF', 'FRI'): {'avtocesta', 'robnik'}}\n",
    "    ```\n",
    "\n",
    "- Napiši funkcijo `zapisi_zemljevid(ime_datoteke, zemljevid)`, ki prejme ime datoteke in zemljevid v obliki slovarja, kakršen je gornji. Funkcija zapiše zemljevid v datoteko, enako gornji obliki.\n",
    "\n",
    "    Testi za to funkcijo delujejo tako, da jo pokličejo, da shrani zemljevid, nato pa pokličejo kar funkcijo `preberi_zemljevid(ime_datoteke)`, da preverijo, ali je zapisani zemljevid pravilen. Če testi javijo napako, je lahko problem tudi v funkciji `preberi_zemljevid` (čeprav najbrž ne, saj je ta stestirana na istih podatkih v ločenem testu).\n"
   ]
  },
  {
   "cell_type": "markdown",
   "id": "d1d35870",
   "metadata": {},
   "source": [
    "### Rešitev"
   ]
  },
  {
   "cell_type": "code",
   "execution_count": 4,
   "id": "58815402",
   "metadata": {},
   "outputs": [],
   "source": [
    "def preberi_zemljevid(ime_dat):\n",
    "    zemljevid = {}\n",
    "    for vrstica in open(ime_dat, encoding=\"utf-8\"):\n",
    "        odsek, vescine = vrstica.strip(\"\\n\").split(\": \")\n",
    "        zemljevid[tuple(odsek.split(\"-\"))] = set(vescine.split(\", \")) - {\"\"}\n",
    "    return zemljevid\n",
    "\n",
    "def zapisi_zemljevid(ime_dat, zemljevid):\n",
    "    f = open(ime_dat, \"w\", encoding=\"utf-8\")\n",
    "    for odsek, vescine in zemljevid.items():\n",
    "        f.write(f\"{odsek[0]}-{odsek[1]}: {', '.join(sorted(vescine))}\\n\")"
   ]
  },
  {
   "cell_type": "markdown",
   "id": "0f9a855a",
   "metadata": {},
   "source": [
    "Pri branju od vsake vrstice odluščimo nepotrebni `\\n` in jo razdelimo glede na `\": \"` - vključno s presledkom, da se znebimo presledka za dvopičjem. Tako dobimo `odsek` in `vescine`. \n",
    "\n",
    "- Odsek je potrebno razbiti glede na `-` in ga pretvoriti v terko. Tako dobimo ključ.\n",
    "- Veščine razbijemo glede na `\", \"` (spet, skupaj s presledkom za vejico) in jih spremenimo v množico. Če je seznam veščin prazen, bo `split` vseeno vrnil `[\"\"]` in dobili bomo množico `{\"\"}` namesto prazne množice. To uredimo preprosto tako, da od dobljene množice odštejemo `{\"\"}`. Če množica veščin slučajno ne vsebuje presledka, se ne bo zgodilo nič hudega.\n",
    "\n",
    "Pisanje je še preprostejše: zapišemo niz, ki vsebuje začetek in konec odseka z `-` vmes, potem `: ` in nato z vejico združene veščine (če imamo kakšno). Pa `\\n` na koncu ne pozabimo."
   ]
  },
  {
   "cell_type": "markdown",
   "id": "c1966f18",
   "metadata": {},
   "source": [
    "## Za oceno 8\n",
    "\n",
    "Kolesarja vozita kot v nalogi za oceno 6. Za vsak odsek porabita enako časa. Napiši funkcijo `skupni_odsek(pot1, pot2)`, ki vrne dolžino najdaljšega skupnega odseka poti. Pri tem morata biti odseka \"poravnana\", na istem mestu, se pravi tako, da ga kolesarja dejansko prevozita istočasno.\n",
    "\n",
    "Klic \n",
    "\n",
    "```python\n",
    "#              vv  vvvvv   vvv\n",
    "skupni_odsek(\"ABCDEFGHIJKLMNOP\",\n",
    "             \"XBDEMFGHIJXOANOP\")\n",
    "```\n",
    "\n",
    "vrne 5, saj je najdaljši skupni odsek FGHIJK.\n",
    "\n",
    "Klic `skupni_odsek(\"ABCDEF\", \"XABCDEF\")` vrne 0, saj kolesarja ne prevozita ABCDEF istočarno -- prvi je vedno eno križišče pred drugim.\n"
   ]
  },
  {
   "cell_type": "markdown",
   "id": "ce272663",
   "metadata": {},
   "source": [
    "### Rešitev\n",
    "\n",
    "Tole je še najbolj zoprna naloga. Iti moramo po obeh poteh hkratni, `for a, b in zip(pot1, pot2):`. Če sta križišči (`a` in `b`) enaki, povečamo števec enakih križišč (`ta`). Če sta različni zmanjšamo števec na `0`. Vsakič, ko števec povečamo, preverimo, ali je večji kot kdajkoli."
   ]
  },
  {
   "cell_type": "code",
   "execution_count": 5,
   "id": "6dccbe71",
   "metadata": {},
   "outputs": [],
   "source": [
    "def skupni_odsek(pot1, pot2):\n",
    "    naj = 0\n",
    "    ta = 0\n",
    "    for a, b in zip(pot1, pot2):\n",
    "        if a == b:\n",
    "            ta += 1\n",
    "            if ta > naj:\n",
    "                naj = ta\n",
    "        else:\n",
    "            ta = 0\n",
    "    return naj"
   ]
  },
  {
   "cell_type": "markdown",
   "id": "ed6647d5",
   "metadata": {},
   "source": [
    "## Za oceno 9\n",
    "\n",
    "Ker je prva prioriteta Mestne občine Ljubljana varnost kolesarjev, so sprejeli predpis, po katerem smemo iz vsakega križišča voziti le v križišča, katerih ime je po abecedi kasnejše od trenutnega: iz D smemo v R, obratno pa ne.\n",
    "\n",
    "Napiši funkcijo `uporabne_vescine(zacetek, zemljevid)`, ki vrne množico veščin, ki nam lahko pridejo prav, če začnemo svojo pot v točki `zacetek`. Klic `uporabne_vescine(\"R\", zemljevid)` vrne `{'trava', 'lonci', 'robnik', \"pešci\"}`, saj iz R lahko potujemo (samo) v U in V, pri čemer potrebujemo štiri veščine, naštete v množici.\n",
    "\n",
    "<center>\n",
    "<img src=\"data:image/.png;base64,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\"/></center>\n",
    "\n"
   ]
  },
  {
   "cell_type": "markdown",
   "id": "0f8b73ba",
   "metadata": {},
   "source": [
    "### Rešitev\n",
    "\n",
    "Gremo čez vse povezave. Naletivši na takšno, ki se začne v podani točki, preverimo, ali vodi v točko, ki je kasnejša po abecedi. Če je tako, dodamo v množico uporabnih veščin vse veščine na tej povezavi in še vse veščine, ki bi bile uporabne v nadaljevanju poti iz točke na drugi strani te povezave. Slednje dobimo z rekurzivnim klicem te taiste funkcije"
   ]
  },
  {
   "cell_type": "code",
   "execution_count": 6,
   "id": "0f67b1de",
   "metadata": {},
   "outputs": [],
   "source": [
    "def uporabne_vescine(zacetek, zemljevid):\n",
    "    uporabne = set()\n",
    "    for (x, t1), vescine in zemljevid.items():\n",
    "        if x == zacetek and t1 > zacetek:\n",
    "            potrebne |= vescine | uporabne_vescine(t1, zemljevid)\n",
    "    return potrebne"
   ]
  },
  {
   "cell_type": "markdown",
   "id": "6c2b3d96",
   "metadata": {},
   "source": [
    "## Za oceno 10\n",
    "\n",
    "Napiši funkcijo `dolzina_poti(zacetek, konec, zemljevid)`, ki vrne dolžino najkrajše možne poti (to je, število povezav) od točke `zacetek` do `konec`, če smemo, kot veleva novi nori predpis, iz vsakega križišča peljati le v vozlišče, ki je kasneje po abecedi. Če pot ni možna, naj funkcija vrne `None`.\n",
    "\n",
    "Klic `dolzina_poti(\"F\", \"U\", zemljevid)` vrne `4`, saj iz F v U gremo po poti F-G-I-R-U. Po krajši poti, F-D-R-U ne smemo, ker iz F ne smemo v D.\n",
    "\n",
    "Klic `dolzina_poti(\"C\", \"I\", zemljevid)` vrne `None`, saj pot iz `C` v `I` ni možna.\n"
   ]
  },
  {
   "cell_type": "markdown",
   "id": "35b000d8",
   "metadata": {},
   "source": [
    "### Rešitev\n",
    "\n",
    "Rekurzivna rešitev, ki naj bi jo znali napisati slušatelji Programiranja 1 je takšna:"
   ]
  },
  {
   "cell_type": "code",
   "execution_count": 7,
   "id": "217c55a8",
   "metadata": {},
   "outputs": [],
   "source": [
    "def dolzina_poti(zacetek, konec, zemljevid):\n",
    "    if zacetek == konec:\n",
    "        return 0\n",
    "    najkrajsa = None\n",
    "    for (x, t1), vescine in zemljevid.items():\n",
    "        if x == zacetek and t1 > zacetek:\n",
    "            naprej = dolzina_poti(t1, konec, zemljevid)\n",
    "            if naprej is not None:\n",
    "                dolzina = 1 + naprej\n",
    "                if najkrajsa is None or dolzina < najkrajsa:\n",
    "                    najkrajsa = dolzina\n",
    "    return najkrajsa"
   ]
  },
  {
   "cell_type": "markdown",
   "id": "2a3ac42a",
   "metadata": {},
   "source": [
    "Če smo že v končni točki, je dolžina poti enaka 0. Sicer pa je dolga toliko, kolikor je dolga najkrajša pot iz ene izmed točk, do katere lahko gremo iz te točke - in še 1 zraven."
   ]
  },
  {
   "cell_type": "markdown",
   "id": "6978cc35",
   "metadata": {},
   "source": [
    "Tule je malo bolj divja različica istega."
   ]
  },
  {
   "cell_type": "code",
   "execution_count": 8,
   "id": "4d41a0ac",
   "metadata": {},
   "outputs": [],
   "source": [
    "def dolzina_poti(zacetek, konec, zemljevid):\n",
    "    if zacetek == konec:\n",
    "        return 0\n",
    "    return min(\n",
    "        (1 + dolzina\n",
    "        for dolzina in (dolzina_poti(t1, konec, zemljevid)\n",
    "                        for (x, t1), vescine in zemljevid.items()\n",
    "                        if x == zacetek and t1 > zacetek)\n",
    "        if dolzina is not None),\n",
    "        default=None\n",
    "    )"
   ]
  },
  {
   "cell_type": "markdown",
   "id": "46598f5e",
   "metadata": {},
   "source": [
    "Iz razlogov, ki jih boste spoznali v tretjem letniku, te rešitve niso najboljše: potencialno so lahko počasne. Za to nalogo je težko napisati dobro rekurzivno rešitev. Zato je tule rešitev brez rekurzije:"
   ]
  },
  {
   "cell_type": "code",
   "execution_count": 9,
   "id": "765e05d7",
   "metadata": {},
   "outputs": [],
   "source": [
    "def dolzina_poti(zacetek, konec, zemljevid):\n",
    "    kandidati = [(zacetek, 0)]\n",
    "    for tocka, dolzina in kandidati:\n",
    "        if tocka == konec:\n",
    "            return dolzina\n",
    "        kandidati += [(t1, dolzina + 1)\n",
    "                       for (x, t1), vescine in zemljevid.items()\n",
    "                       if x == tocka and t1 > tocka]\n",
    "    return None\n"
   ]
  },
  {
   "cell_type": "markdown",
   "id": "17c9d191",
   "metadata": {},
   "source": [
    "`kandidati` je seznam parov točk in dolžin poti do njih. V začetku je to pač točka `zacetek` in dolžina poti do nje je 0. Nato v zanki jemljemo kandidate in dodajamo v seznam kandidatov njihove sosede, vedno z za `1` večjo razdaljo. Ko naletimo na končno točko, vrnemo razdaljo do nje."
   ]
  },
  {
   "cell_type": "markdown",
   "id": "b34ef59a",
   "metadata": {},
   "source": [
    "Pa še malo bolj ekonomična različica istega:"
   ]
  },
  {
   "cell_type": "code",
   "execution_count": 10,
   "id": "1484a1d1",
   "metadata": {},
   "outputs": [],
   "source": [
    "def dolzina_poti(zacetek, konec, zemljevid):\n",
    "    krog = [zacetek]\n",
    "    dolzina = 0\n",
    "    while krog:\n",
    "        naslednji_krog = []\n",
    "        for tocka in krog:\n",
    "            if tocka == konec:\n",
    "                return dolzina\n",
    "            naslednji_krog += [t1 for (x, t1), vescine in zemljevid.items()\n",
    "                               if x == tocka and t1 > tocka]\n",
    "        krog = naslednji_krog\n",
    "        dolzina += 1\n",
    "    return None"
   ]
  },
  {
   "cell_type": "markdown",
   "id": "407c93a4",
   "metadata": {},
   "source": [
    "`krog` zdaj vsebuje vse točke, ki so od začetne oddaljene za `dolzina`. Zunanja zanka teče po naraščajočih dolžinah: v njej gremo čez vse točke na tej razdalji in v `naslednji_krog` dodamo njene sosede. Če pri tem naletimo na končno točko, vrnemo dolžino. Sicer pa v zadnjih dveh vrsticah zanke poskrbimo, da bo zanka v naslednjem krogu mlela točke na naslednji oddaljenosti.\n",
    "\n",
    "Če se zgodi, da kdaj ni v naslednjem krogu nobene točke več, končna točka ni dosegljiva in vrnemo `None`."
   ]
  }
 ],
 "metadata": {
  "kernelspec": {
   "display_name": "Python 3 (ipykernel)",
   "language": "python",
   "name": "python3"
  },
  "language_info": {
   "codemirror_mode": {
    "name": "ipython",
    "version": 3
   },
   "file_extension": ".py",
   "mimetype": "text/x-python",
   "name": "python",
   "nbconvert_exporter": "python",
   "pygments_lexer": "ipython3",
   "version": "3.9.7"
  }
 },
 "nbformat": 4,
 "nbformat_minor": 5
}
