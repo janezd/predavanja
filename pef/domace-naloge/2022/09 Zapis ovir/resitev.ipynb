{
 "cells": [
  {
   "cell_type": "markdown",
   "id": "cd0a712a",
   "metadata": {},
   "source": [
    "## Obvezna naloga\n",
    "\n",
    "Mednarodni standard ISO-1234 za zapis pozicij ovir na kolesarskih poteh zapiše ovire takole:\n",
    "\n",
    "```\n",
    "004:   5-6      9-11\n",
    "005:   9-11    19-20    30-34\n",
    "013:   5-8      9-11    17-19    22-25    90-100\n",
    "```\n",
    "\n",
    "- Vsaka vrstica datoteke se nanaša na eno \"vrstico\" kolesarske poti.\n",
    "- Prva številka v vrstici je koordinata y, zapisana na 3 mesta, z vodilnimi ničlami. Koordinata 42 je torej zapisana kot `042`.\n",
    "- Sledi dvopičje.\n",
    "- Sledijo pari; začetni in končni x sta ločena z `-`. Zapisana sta na 4 mesta, pri čemer je začetna koordinata poravnana desno, končna pa levo.\n",
    "\n",
    "Napiši naslednje funkcije:\n",
    "\n",
    "- `zapis_meje(x0, x1)` prejme koordinato levega in desnega konca ovire ter vrne niz s tema koordinatama, zapisanama na 4 mesta, pri čemer je prva poravnana desno, druga levo, vmes je `-`.\n",
    "\n",
    "    Klic zapis_meje(94, 152) vrne `\"  94-152 \"`. Ne spreglej presledka na koncu. Če testi napišejo, da `  94-152 != 94-152`, najbrž manjka presledek na koncu. Ali pa je preveč.\n",
    "\n",
    "- `zapis_vrstice(y, xs)` prejme številko vrstice in seznam parov začetkov in koncev ovir v njej. Vrne niz z vrstico v gornji obliki. Klic `zapis_vrstice(5, [(9, 11), (19, 20), (30, 34)])` vrne `\"005:   9-11    19-20    30-34  \"`\n",
    "\n",
    "- `zapisi_ovire(ime_datoteke, ovire)` prejme ovire v obliki slovarja: ključi so številke vrstic, pripadajoče vrednosti pa seznami parov začetkov in koncev ovir. Prvi argument funkcije pa je ime datoteke: vanjo mora zapisati ovire skladno standardom.\n",
    "\n",
    "    Klic \n",
    "\n",
    "    ```python\n",
    "    zapisi_ovire(\"ovire.txt\", \n",
    "                 {4: [(5, 6), (9, 11)],\n",
    "                  5: [(9, 11), (19, 20), (30, 34)],\n",
    "                  13: [(5, 8), (9, 11), (17, 19), (22, 25), (90, 100)]}\n",
    "    ```\n",
    "\n",
    "    zapiše v ovire.txt ovire v zgoraj zapisani obliki.\n",
    "\n",
    "    Testi bodo funkciji vsakič podali drugačno ime datoteke (konkretno: trenutni čas). Če se test izvede uspešno, bodo datoteko pobrisali, sicer jo bodo pustili (in se bodo začele nabirati), tako da lahko vidite, kaj je funkcija (napačno) zapisala vanjo.\n",
    "\n",
    "\n",
    "### Rešitev\n",
    "\n",
    "####  `zapis_meje`"
   ]
  },
  {
   "cell_type": "code",
   "execution_count": null,
   "id": "7a044b08",
   "metadata": {},
   "outputs": [],
   "source": [
    "def zapis_meje(x0, x1):\n",
    "    return f\"{x0:>4}-{x1:<4}\""
   ]
  },
  {
   "cell_type": "markdown",
   "id": "5417677d",
   "metadata": {},
   "source": [
    "To je vse. Ne lomite ga z lastnoročnimi poravnavanji v slogu"
   ]
  },
  {
   "cell_type": "code",
   "execution_count": 1,
   "id": "29d3b4f2",
   "metadata": {},
   "outputs": [],
   "source": [
    "def zapis_meje(x0, x1):\n",
    "    x0s = str(x0)\n",
    "    x1s = str(x1)\n",
    "    return \" \" * (4 - len(x0s)) + x0s + \"-\" + x1s + \" \" * (4 - len(x1s))"
   ]
  },
  {
   "cell_type": "markdown",
   "id": "fa89dd28",
   "metadata": {},
   "source": [
    "To sicer deluje, vendar s tem ne boste prišli daleč. Že za tako preprost primer - dve številki na štiri mesta, ena poravnana levo, druga desno - je kar zapleteno. Pri čem bolj zapletenem pa na ta način nimamo šans.\n",
    "\n",
    "#### `zapis_vrstice`\n",
    "\n",
    "Najprej `y` na tri mesta (`{y:03}`, nato z `\"\".join(...)` zlepimo skupaj vse, kar nam za meje iz seznama vrne prejšnja funkcija."
   ]
  },
  {
   "cell_type": "code",
   "execution_count": 2,
   "id": "47d9b79b",
   "metadata": {},
   "outputs": [],
   "source": [
    "def zapis_vrstice(y, xs):\n",
    "    return f\"{y:03}:\" + \"\".join(zapis_meje(x0, x1) for x0, x1 in xs)"
   ]
  },
  {
   "cell_type": "markdown",
   "id": "d6d8a86e",
   "metadata": {},
   "source": [
    "#### `zapisi_ovire`\n",
    "\n",
    "Odpremo datoteko in vanjo pišemo vrstice, ki jih vrača prejšnja funkcija. Na konec vsake prilepimo še znak za novo vrsto, `\\n`."
   ]
  },
  {
   "cell_type": "code",
   "execution_count": 3,
   "id": "a6ffd9fd",
   "metadata": {},
   "outputs": [],
   "source": [
    "def zapisi_ovire(ime_dat, ovire):\n",
    "    f = open(ime_dat, \"wt\")\n",
    "    for y, xs in ovire.items():\n",
    "        f.write(zapis_vrstice(y, xs) + \"\\n\")"
   ]
  },
  {
   "cell_type": "markdown",
   "id": "08c956da",
   "metadata": {},
   "source": [
    "## Dodatna naloga\n",
    "\n",
    "Oddelek za gospodarstvo in motoriziran promet je ponosen na svoje inovacije. (Temu na primer, da so kolesarjem na Slovenski cesti omogočili voziti slalom med avtobusi, z vso resnostjo pravijo \"inovacija v svetovnem merilu\". Kar dejansko je.)\n",
    "\n",
    "Tokrat so največji prometni strokovnjaki na svetu, torej prometni strokovnjaki MOL, staknili glave in sestavili nov standard za zapis ovir, tandard MOL-666-B. Ta zapiše gornje ovire takole:\n",
    "\n",
    "```\n",
    "4 2\n",
    "5\n",
    "6\n",
    "9\n",
    "11\n",
    "5 3\n",
    "9\n",
    "11\n",
    "19\n",
    "20\n",
    "30\n",
    "34\n",
    "13 5\n",
    "5\n",
    "8\n",
    "9\n",
    "11\n",
    "17\n",
    "19\n",
    "22\n",
    "25\n",
    "90\n",
    "100\n",
    "```\n",
    "\n",
    "V prvi vrstici je številka vrstice z ovirami (4) in število ovir v tej vrstici (2). Naslednje štiri vrstice datoteke vsebujejo začetke in konce teh ovir (5 in 6 ter 9 in 11). Nato sledi nova številka vrstice z ovirami (13) in število ovir v njej (5). Sledi 10 vrstic datoteke z začetki in konci teh ovir...\n",
    "\n",
    "Kot navaja MOL, je novi standard namenjen še večjemu spodbujanju kolesarjenja in trajnostne mobilnosti, hkrati pa tudi hitrejšemu zelenemu prehodu v brezogljično družbo.\n",
    "\n",
    "Napiši funkcijo `preberi_ovire(ime_datoteke)`, ki prebere ovire iz takšne datoteke v slovar.\n",
    "\n",
    "Testno datoteko bodo sestavili testi ob prvem zagonu. Njeno ime bo \"ovire.txt\", vendar naj bo funkcija napisana tako, da zna prebrati datoteko s poljubnim podanim imenom.\n",
    "\n",
    "### Rešitev\n",
    "\n",
    "No, ta je bolj zanimiva."
   ]
  },
  {
   "cell_type": "code",
   "execution_count": 4,
   "id": "318702f2",
   "metadata": {},
   "outputs": [],
   "source": [
    "def preberi_ovire(ime_dat):\n",
    "    ovire = {}\n",
    "    f = open(ime_dat)\n",
    "    for ys in f:\n",
    "        y, nx = ys.split()\n",
    "        xs = []\n",
    "        for _ in range(int(nx)):\n",
    "            xs.append((int(f.readline()), int(f.readline())))\n",
    "        ovire[int(y)] = xs\n",
    "    return ovire"
   ]
  },
  {
   "cell_type": "markdown",
   "id": "7d4427f1",
   "metadata": {},
   "source": [
    "Odpremo datoteko; predstavljala jo bo spremenljivka `f`. `for ys in open(...)` ne bo delovalo, ker bomo datoteko brali na dveh mestih v funkciji.\n",
    "\n",
    "Zanka `for ys in f` bo vedno prebrala vrstico z dvema številkama: število vrstice ovir in število ovir. Podatka razbijemo s `split` in shranimo v `y` in `nx`.\n",
    "\n",
    "`xs` bo seznam ovir v vrstici `y`. Notranjo zanko izvedemo tolikokrat, kolikor je ovir (`for _ in range(int(nx))`). Z `f.readline()` preberemo številko in jo z `int` pretvorimo v število. To naredimo dvakrat in iz tega sestavimo terko, torej `(int(f.readline()), int(f.readline()))`. Z `append` dodamo terko v seznam.\n",
    "\n",
    "Notranja zanka bo prebrala začetke in konce vseh ovir. Ko se konča, bo zunanja zanka prebrala naslednjo številko vrstice in število ovir v njej...\n",
    "\n",
    "Pa še krajša različica:"
   ]
  },
  {
   "cell_type": "code",
   "execution_count": 5,
   "id": "66dda8d6",
   "metadata": {},
   "outputs": [],
   "source": [
    "def preberi_ovire(ime_dat):\n",
    "    ovire = {}\n",
    "    f = open(ime_dat)\n",
    "    for ys in f:\n",
    "        y, nx = ys.split()\n",
    "        ovire[int(y)] = [(int(f.readline()), int(f.readline())) for _ in range(int(nx))]\n",
    "    return ovire"
   ]
  }
 ],
 "metadata": {
  "kernelspec": {
   "display_name": "Python 3 (ipykernel)",
   "language": "python",
   "name": "python3"
  },
  "language_info": {
   "codemirror_mode": {
    "name": "ipython",
    "version": 3
   },
   "file_extension": ".py",
   "mimetype": "text/x-python",
   "name": "python",
   "nbconvert_exporter": "python",
   "pygments_lexer": "ipython3",
   "version": "3.9.0"
  }
 },
 "nbformat": 4,
 "nbformat_minor": 5
}
