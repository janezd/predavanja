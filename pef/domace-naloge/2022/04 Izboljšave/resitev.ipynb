{
 "cells": [
  {
   "cell_type": "markdown",
   "id": "44a1b234",
   "metadata": {},
   "source": [
    "## Izboljšave\n",
    "\n",
    "Oddelek za gospodarstvo in (motorni) promet MOL ve povedati, da so kolesarske poti v Ljubljani višek udobja in varnosti ter da jih uporabljajo tudi njihovi uslužbenci. V želji dokazati, da je res tako, so v svojih vrstah našli nekaj takšnih, ki znajo voziti kolo in so se pripravljeni popeljati po Ljubljani. Žal pa nimajo vseh potrebnih veščin, zato bo morda potrebno (začasno) odstraniti kako oviro ali popraviti kako stezo.\n",
    "\n",
    "Napisati bo potrebno dve funkciji.\n",
    "\n",
    "- Argumenti obeh so enaki. Prvi argument je zemljevid, katerega ključi so povezave, vrednosti pa množice veščin, ki jih povezava zahteva (podobno kot dvosmerni zemljevid v prejšnji nalogi). Drugi argument je množica veščin, ki jih obvlada ne uslužbenec MOL.\n",
    "- Obe morata **spreminjati množice v prejetem slovarju**.\n",
    "- Funkciji ne smeta vračati nobenega rezultata.\n",
    "\n",
    "Napiši funkcijo `poenostavi(zemljevid, vescine)`, ki spremeni zemljevid tako, da ga bo lahko prevozil uslužbenec, ki obvlada le podane veščine. Z drugimi besedami, funkcija mora spremeniti množice tako, da bodo vsebovale le še veščine, ki jih najdemo med veščinami v množici, podani z drugim argumentom.\n",
    "\n",
    "Če imamo\n",
    "\n",
    "```python\n",
    "zemljevid = {\n",
    "    ('A', 'B'): {'gravel', 'trava'},\n",
    "    ('A', 'V'): {'pešci', 'lonci'},\n",
    "    ('B', 'C'): {'bolt', 'lonci'},\n",
    "    ('B', 'V'): set(),\n",
    "    ('C', 'R'): {'pešci', 'stopnice', 'lonci'}}\n",
    "```\n",
    "\n",
    "ga klic `poenostavi(zemljevid, {\"gravel\", \"lonci\", \"pešci\"})` spremeni v\n",
    "\n",
    "```python\n",
    "{\n",
    "    ('A', 'B'): {'gravel'},\n",
    "    ('A', 'V'): {'pešci', 'lonci'},\n",
    "    ('B', 'C'): {'lonci'},\n",
    "    ('B', 'V'): set(),\n",
    "    ('C', 'R'): {'pešci', 'lonci'}}\n",
    "```\n",
    "\n",
    "pri čemer so množice **iste kot prej**, le drugačne.\n",
    "\n",
    "Napiši funkcijo `odstraniti(zemljevid, vescine)`, ki spremeni množice tako, da vsebujejo veščine, ki jih je potrebno \"odstraniti\". Če neka množica vsebuje bolt, pešce in lonce, uslužbenec pa obvlada le lonce in stopnice, mora množica v slovarju po klicu funkcije vsebovati bolt in pešce, torej stvari, ki jih na povezavi ne sme biti, da jo bo uslužbenec lahko prevozil.\n",
    "\n",
    "Če bi imeli takšen zemljevid kot prej, ga klic `odstraniti(zemljevid, {\"gravel\", \"lonci\", \"pešci\"})` spremeni v\n",
    "\n",
    "```\n",
    "{\n",
    "    ('A', 'B'): {'trava'},\n",
    "    ('A', 'V'): set(),\n",
    "    ('B', 'C'): {'bolt'},\n",
    "    ('B', 'V'): set(),\n",
    "    ('C', 'R'): {'stopnice'}}\n",
    "```"
   ]
  },
  {
   "cell_type": "markdown",
   "id": "9748a19a",
   "metadata": {},
   "source": [
    "## Rešitev\n",
    "\n",
    "Najpreprosteje je tako."
   ]
  },
  {
   "cell_type": "code",
   "execution_count": 1,
   "id": "f6f9c5ed",
   "metadata": {},
   "outputs": [],
   "source": [
    "def poenostavi(zemljevid, vescine):\n",
    "    for val in zemljevid.values():\n",
    "        val &= vescine\n",
    "\n",
    "\n",
    "def odstraniti(zemljevid, vescine):\n",
    "    for val in zemljevid.values():\n",
    "        val -= vescine"
   ]
  },
  {
   "cell_type": "markdown",
   "id": "275cfde5",
   "metadata": {},
   "source": [
    "Pomembno je, da spreminjamo množico vrednosti, torej `val &= vescine`, ne pa, recimo `val = val & vescine`, saj to naredi novo množico in ji priredi ime, ki se je prej nanašalo na staro množico. Množica, ki jo vsebuje slovar, pa se pri tem ne spremeni.\n",
    "\n",
    "Nalogo je skoraj težko rešiti narobe. Deluje tudi, na primer,\n",
    "\n",
    "```python\n",
    "    for odsek in zemljevid:\n",
    "        zemljevid[odsek] &= vescine\n",
    "```"
   ]
  }
 ],
 "metadata": {
  "kernelspec": {
   "display_name": "Python 3 (ipykernel)",
   "language": "python",
   "name": "python3"
  },
  "language_info": {
   "codemirror_mode": {
    "name": "ipython",
    "version": 3
   },
   "file_extension": ".py",
   "mimetype": "text/x-python",
   "name": "python",
   "nbconvert_exporter": "python",
   "pygments_lexer": "ipython3",
   "version": "3.9.7"
  }
 },
 "nbformat": 4,
 "nbformat_minor": 5
}
