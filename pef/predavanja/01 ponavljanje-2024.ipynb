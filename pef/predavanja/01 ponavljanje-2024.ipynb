{
 "cells": [
  {
   "cell_type": "markdown",
   "id": "e5c052d4-0b64-44a8-871b-f61a8dc51d2b",
   "metadata": {},
   "source": [
    "Nekoč se je nekemu asistentu pootročilo in je sestavil za cel izpit nalog z nekimi čarovnicami, namesto da bi se, kot resni profesorji, v okviru domačih nalog iz programiranja ukvarjal s problematiko kolesarske infrastrukture v MOL.\n",
    "\n",
    "Je, kar je. Rešimo ta izpit."
   ]
  },
  {
   "attachments": {},
   "cell_type": "markdown",
   "id": "fe066d6c-cd06-4bd3-b51a-51930c0f0e13",
   "metadata": {},
   "source": [
    "## 1. Pričarani zajci\n",
    "\n",
    "Pri mali čarovnici Eskarini so imeli dve kletki s po enim zajcem. Ko je tlesknila s prsti se je zgodila sila čudna reč. V desni kletki se je pojavilo toliko zajcev, kolikor jih je bilo prej v obeh, v levi pa toliko, kot jih je bilo prej v desni ...\n",
    "\n",
    "- Če je tlesknila 1x, je bil v levi kletki 1 zajec, v desni pa 2.\n",
    "- Če je tlesknila 2x, sta bila v levi kletki 2 zajca, v desni pa 3.\n",
    "- Če je tlesknila 3x, so bili v levi kletki 3 zajci, v desni pa 5.\n",
    "\n",
    "Napišite funkcijo `eskarina(tlesk)`, ki kot vhodni podatek dobi število tleskov, vrne pa terko s številom zajcev v levi in desni kletki.\n",
    "\n",
    "```\n",
    ">>> eskarina(0)\n",
    "(1, 1)\n",
    ">>> eskarina(5)\n",
    "(8, 13)\n",
    ">>> eskarina(9)\n",
    "(55, 89)\n",
    "```"
   ]
  },
  {
   "cell_type": "markdown",
   "id": "ec89a1e5-a4ea-478a-8437-713bb286a629",
   "metadata": {},
   "source": [
    "### Rešitev\n",
    "\n"
   ]
  },
  {
   "cell_type": "code",
   "execution_count": 5,
   "id": "a1c2bd46-d07c-42c9-98d3-8b4cdffa6b5e",
   "metadata": {},
   "outputs": [],
   "source": [
    "def eskarina(tleskov):\n",
    "    levo = desno = 1\n",
    "    tlesk = 0\n",
    "    while tlesk < tleskov:\n",
    "        desno = levo + desno\n",
    "        levo = desno\n",
    "        tlesk += 1\n",
    "    return (levo, desno)"
   ]
  },
  {
   "cell_type": "code",
   "execution_count": 6,
   "id": "a0bec607-50d2-4e60-8abe-fee8a84bc1b6",
   "metadata": {},
   "outputs": [
    {
     "data": {
      "text/plain": [
       "(32, 32)"
      ]
     },
     "execution_count": 6,
     "metadata": {},
     "output_type": "execute_result"
    }
   ],
   "source": [
    "eskarina(5)"
   ]
  },
  {
   "cell_type": "markdown",
   "id": "128d88bb-de37-4ec7-866b-0ef4f1ac54fd",
   "metadata": {},
   "source": [
    "Domače in izpitne naloge so namenjene urjenju in preverjanju določenih spretnosti. V tej nalogi gre za zanko in za žongliranje s spremenljivkami. Gornja - očitno napačna rešitev - je glede zanke mogoče nerodna, glede spremenljivk pa napačna.\n",
    "\n",
    "#### Glede zanke\n",
    "\n",
    "Ideja (sicer slabega) programerja, ki bi sproduciral gornjo kodo, bi bila takšna. Nekaj se bo ponovilo tolikokrat, kolikor zahteva argument `tleskov` (besedilo naloge ga sicer imenuje `tlesk`, vendar se zdi bolj smiselno, da bo `tlesk` štel tleske, `tleskov` pa je malo okrajšano ime za `stevilo_tleskov`). Ponavljanje bo dosegel z zanko\n",
    "\n",
    "```python\n",
    "    ...\n",
    "    tlesk = 0\n",
    "    while tlesk < tleskov:\n",
    "        ...\n",
    "        tlesk += 1\n",
    "    ...\n",
    "```\n",
    "\n",
    "Takšna zanka je popolnoma naravna. Štejemo tleske; ob vsakem tlesku povečamo števec za `1` in ko je tleskov toliko, kot jih želimo, je zanke konec.\n",
    "\n",
    "Takšna zanka ni le naravna temveč tudi nevarna. Če pozabimo `tlesk += 1`, se bo vrtela v neskončnost. To bomo pozabili predvsem izkušeni programerji (recimo vaš predavatelj), saj v te namene nikoli ne uporabljamo zanke `while`.\n",
    "\n",
    "Starejši programerji bi to zanko obrnili v drugo smer.\n",
    "\n",
    "```python\n",
    "    ...\n",
    "    while tleskov > 0:\n",
    "        ...\n",
    "        tleskov -= 1\n",
    "    ...\n",
    "```\n",
    "\n",
    "Zakaj bi to počeli? En razlog je, da hočejo imeti čim manj spremenljivk. To je včasih dobra drža, včasih ne. Drugi je, da so v starih starih časih računalniki veliko hitreje preverili pogoj `x > 0` kot `x == a`. Na nek način je to še vedno res (se mi zdi), vendar se vmes zgodi toliko reči, da te razlike ni več. Navada šteti navzdol pa je vseeno ostala.\n",
    "\n",
    "Programerji, ki se imajo za resnejše, bodo pisali\n",
    "\n",
    "```python\n",
    "    ...\n",
    "    while tleskov:\n",
    "        ...\n",
    "        tleskov -= 1\n",
    "    ...\n",
    "```\n",
    "\n",
    "Kaj je to `while tleskov:`?! Kakšen pogoj je to?! V Pythonu (in mnogih drugih njemu podobnih jezikih) `False` ni edina vrednost, ki se šteje za neresnično. Neresnična je tudi `0` (in `0.0`), `None` ter vse stvari, ki so prazne, na primer prazen niz, prazen seznam in druge reči, ki imajo potencial biti prazne, vendar zanje še ne veste. Vse druge vrednosti so resnične. Pogoj `tleskov` je torej resničen takrat, ko je `tleskov` različen od `0`. (Medklic: so striktnejši jeziki, v katerih moramo pogoj vedno zapisati tako, da je rezultat že `bool`. So pa tudi jeziki, ki so zmedeni, tako kot Javascript, v katerem je prazen seznam resničen, prazen niz pa neresničen.)\n",
    "\n",
    "Tudi za drugi dve obliki velja, da lahko pozabimo spreminjati `tleskov` in zanka se ne bo nikoli iztekla.\n",
    "\n",
    "Varna oblika je tale:\n",
    "\n",
    "```python\n",
    "    ...\n",
    "    for tlesk in range(tleskov):\n",
    "        ...\n",
    "    ...\n",
    "```\n",
    "\n",
    "Ne le, da je dve vrstici krajša, temveč se nam predvsem ne more zgoditi, da bi pozabili spreminjati `tlesk` oziroma `tleskov`. Spremenljivka `tlesk` je sicer nepotrebna. Da ne bi koga zmedlo, imamo navado, da damo nepotrebnim spremenljivkam ime `_`.\n",
    "\n",
    "```python\n",
    "    ...\n",
    "    for _ in range(tleskov):\n",
    "        ...\n",
    "    ...\n",
    "```\n",
    "\n",
    "Pri tem `_` ne pomeni ničesar posebnega. `_` je ime kot katerokoli drugo, le da je kratko, neopazno, nikakršno. Da ga uporabljamo za nepotrebne spremenljivke, je zgolj dogovor.\n",
    "\n",
    "Frazo `for _ in range(n)` lahko vedno preberemo, razumemo kar kot \"n-krat ponovi\".\n",
    "\n",
    "Katero od teh zank torej uporabljati? Prav gotovo zadnjo. Vendar ... ko boste učili programiranje v šoli, se bo prva izkazala kot preprostejša. Če začnemo z zadnjo, bomo morali razlagati, kaj sta `for` in `range` ... Zanko `for` ima smisel uvesti šele, ko imaš prek česa iterirati, kar je ponavadi takrat, ko si že obravnaval sezname. To pa je navadno precej za `if` in `while`, zato smo za prvo zanko precej prej opremljeni.\n",
    "\n",
    "Python je sicer super jezik za poučevanje, vendar za njegovo rabo v osnovni šoli nerodno, da nima še zanke v slogu:\n",
    "\n",
    "```python\n",
    "    repeat(n):\n",
    "       ...\n",
    "```\n",
    "\n",
    "O tem sem enkrat govoril z avtorjem Pythona, pa sploh ni razumel, zakaj bi bil to problem, češ, bodo otroci pač natipkali `for _ in range(n):` ..."
   ]
  },
  {
   "cell_type": "markdown",
   "id": "19229e2c-6654-449e-a06f-d92d683ebfa1",
   "metadata": {},
   "source": [
    "#### Glede spremenljivk\n",
    "\n",
    "Zdaj imamo torej"
   ]
  },
  {
   "cell_type": "code",
   "execution_count": 7,
   "id": "444f9442-e987-44c5-95e7-7602ce4ad551",
   "metadata": {},
   "outputs": [],
   "source": [
    "def eskarina(tleskov):\n",
    "    levo = desno = 1\n",
    "    for _ in range(tleskov):\n",
    "        desno = levo + desno\n",
    "        levo = desno\n",
    "    return (levo, desno)"
   ]
  },
  {
   "cell_type": "code",
   "execution_count": 8,
   "id": "32d7cfc3-fad1-42a5-a08b-df32b6943fcb",
   "metadata": {},
   "outputs": [
    {
     "data": {
      "text/plain": [
       "(32, 32)"
      ]
     },
     "execution_count": 8,
     "metadata": {},
     "output_type": "execute_result"
    }
   ],
   "source": [
    "eskarina(5)"
   ]
  },
  {
   "cell_type": "markdown",
   "id": "542e8afc-7203-4d0c-a55f-aad5afbb3dbb",
   "metadata": {},
   "source": [
    "Kar sledi je klasika. Da, programer je naredil, kar pravi naloga: v desni toliko kot v levi in desni skupaj, v levi pa toliko kot v desni. Samo, da je v desni očitno že nekaj drugega. Pravzaprav tudi besedilo naloge pove: toliko, kot jih je bilo *prej* v desni.\n",
    "\n",
    "Nerodni programer torej obrne vrstni red prirejanj."
   ]
  },
  {
   "cell_type": "code",
   "execution_count": 9,
   "id": "0be3edec-a15c-414c-928e-2bee1efb3e81",
   "metadata": {},
   "outputs": [],
   "source": [
    "def eskarina(tleskov):\n",
    "    levo = desno = 1\n",
    "    for _ in range(tleskov):\n",
    "        levo = desno\n",
    "        desno = levo + desno\n",
    "    return (levo, desno)"
   ]
  },
  {
   "cell_type": "code",
   "execution_count": 10,
   "id": "025f87e4-df0a-4fa3-967f-b6099434e70f",
   "metadata": {},
   "outputs": [
    {
     "data": {
      "text/plain": [
       "(16, 32)"
      ]
     },
     "execution_count": 10,
     "metadata": {},
     "output_type": "execute_result"
    }
   ],
   "source": [
    "eskarina(5)"
   ]
  },
  {
   "cell_type": "markdown",
   "id": "0530bc3f-8ba6-4d9b-abad-b7280a6d5f54",
   "metadata": {},
   "source": [
    "Kot je napisal Nekrasov: \"ista pesem, samo v drugem molu\". Zdaj v desno seštejemo levo in desno, pri čemer je levo že enak desno, se pravi naredimo pravzaprav `desno = 2 * desno`. Moralo bi pisati: \"desno je vsota tega, kar je bilo prej levo in desno\".\n",
    "\n",
    "Težavo je mogoče rešiti tako ali drugače."
   ]
  },
  {
   "cell_type": "code",
   "execution_count": 11,
   "id": "fcb09178-a8f2-4801-bab2-2db89ade3570",
   "metadata": {},
   "outputs": [],
   "source": [
    "def eskarina(tleskov):\n",
    "    levo = desno = 1\n",
    "    for _ in range(tleskov):\n",
    "        prej_desno = desno\n",
    "        desno = levo + desno\n",
    "        levo = prej_desno\n",
    "    return (levo, desno)"
   ]
  },
  {
   "cell_type": "code",
   "execution_count": 12,
   "id": "4e2d116f-a66e-45e7-a533-81e5ae19a39a",
   "metadata": {},
   "outputs": [
    {
     "data": {
      "text/plain": [
       "(8, 13)"
      ]
     },
     "execution_count": 12,
     "metadata": {},
     "output_type": "execute_result"
    }
   ],
   "source": [
    "eskarina(5)"
   ]
  },
  {
   "cell_type": "code",
   "execution_count": 13,
   "id": "4ec9e980-4218-4e97-a65a-43ac0b34a6fa",
   "metadata": {},
   "outputs": [],
   "source": [
    "def eskarina(tleskov):\n",
    "    levo = desno = 1\n",
    "    for _ in range(tleskov):\n",
    "        prej_levo = levo\n",
    "        levo = desno\n",
    "        desno = prej_levo + desno\n",
    "    return (levo, desno)"
   ]
  },
  {
   "cell_type": "code",
   "execution_count": 15,
   "id": "03aca3c7-354b-4126-b687-103e8f9bf5f9",
   "metadata": {},
   "outputs": [
    {
     "data": {
      "text/plain": [
       "(8, 13)"
      ]
     },
     "execution_count": 15,
     "metadata": {},
     "output_type": "execute_result"
    }
   ],
   "source": [
    "eskarina(5)"
   ]
  },
  {
   "cell_type": "markdown",
   "id": "625850af-43e6-4110-8461-f0c74e028f46",
   "metadata": {},
   "source": [
    "Besedilu naloge bolj tesno sledi prva različica: tisto, kar je bilo prej desno, shranimo v spremenljivko, da bomo, skladno z besedilom naloge, seštevali, kar je bilo prej v desni kletki.\n",
    "\n",
    "Tako bi rešili v večini starejših programskih jezikov. Novejši imajo *destrukturiranje* - prirejanje vrednosti dvema spremenljivkama hkrati. Levo od enačaja zapišemo več imen, desno pa neko reč, ki je sestavljena iz toliko elementov, kolikor je imen. (Recimo. Nekateri jeziki dopuščajo tudi, da se število reči ne ujema; če je elementov preveč, jih ignoriramo, če premalo, pa imajo nekatere spremenljivke vrednost `undefined` ali kaj takega. Python ni eden teh jezikov.)\n",
    "\n",
    "Zadrego s prejšnjo vrednostjo je izvirala iz tega, da nismo vedeli, ali najprej prirediti vrednost `levo` ali `desno`. Rešitev je torej v tem, da priredimo obe hkrati."
   ]
  },
  {
   "cell_type": "code",
   "execution_count": 16,
   "id": "28308e6d-291e-46b4-bd56-e00bc34e7240",
   "metadata": {},
   "outputs": [],
   "source": [
    "def eskarina(tleskov):\n",
    "    levo = desno = 1\n",
    "    for _ in range(tleskov):\n",
    "        levo, desno = (desno, levo + desno)\n",
    "    return (levo, desno)"
   ]
  },
  {
   "cell_type": "code",
   "execution_count": 17,
   "id": "2bcda26e-7abd-4430-a95d-fdfab9c566f0",
   "metadata": {},
   "outputs": [
    {
     "data": {
      "text/plain": [
       "(8, 13)"
      ]
     },
     "execution_count": 17,
     "metadata": {},
     "output_type": "execute_result"
    }
   ],
   "source": [
    "eskarina(5)"
   ]
  },
  {
   "cell_type": "markdown",
   "id": "0bb6c0dc-bd86-410c-bcf2-c49b5ba7616d",
   "metadata": {},
   "source": [
    "Vrednosti `levo` in `levo + desno` smo zapakirali v terko in tako odpakirali v `levo` in `desno`. Ker se pakiranje seveda zgodi pred prirejanjem, bosta imeli obe spremenljivki pravilni vrednosti.\n",
    "\n",
    "Kadar oklepaji okrog terke niso potrebni, jih lahko izpustimo. (Ta stavek je nesmiseln. Nepotrebne stvari lahko očitno izpustimo. No, gre za to, da se včasih terka znajde sredi kake vrstice in brez oklepajev ni očitno, da hočemo terko.) Pravilno bi bilo torej tudi tako."
   ]
  },
  {
   "cell_type": "code",
   "execution_count": 18,
   "id": "d074ef7f-c3dd-463e-8762-ca664e6713d5",
   "metadata": {},
   "outputs": [],
   "source": [
    "def eskarina(tleskov):\n",
    "    levo = desno = 1\n",
    "    for _ in range(tleskov):\n",
    "        levo, desno = desno, levo + desno\n",
    "    return levo, desno"
   ]
  },
  {
   "cell_type": "markdown",
   "id": "758ab93f-7239-4878-8fc7-828e04359365",
   "metadata": {},
   "source": [
    "Kako bomo napisali, je odvisno od tega, kaj hočemo povedati. Klasičen primer je\n",
    "\n",
    "```python\n",
    "a, b = b, a\n",
    "```\n",
    "\n",
    "To zamenja vrednosti `a` in `b`. Tega nihče ne bi pisal kot\n",
    "\n",
    "\n",
    "```python\n",
    "a, b = (b, a)\n",
    "```\n",
    "\n",
    "Zato je tudi v našem primeru zapis \n",
    "\n",
    "```\n",
    "levo, desno = desno, levo + desno\n",
    "```\n",
    "\n",
    "jasnejši: imenoma `levo` in `desno` priredimo vrednosti `desno` in `levo + desno`.\n",
    "\n",
    "`return` pa je bolj zanimiv. Če napišemo\n",
    "\n",
    "```\n",
    "return levo, desno\n",
    "```\n",
    "\n",
    "je videti, kot da funkcija vrača dve vrednosti, če napišemo\n",
    "\n",
    "```\n",
    "return (levo, desno)\n",
    "```\n",
    "\n",
    "pa, kot da vrača terko z dvema vrednostima.\n",
    "\n",
    "V obeh primerih sicer vrne terko, vendar v prvem razmišljamo drugače. Naloga zahteva, da funkcija vrne terko, torej je \"pravilen\" drugi zapis. Funkcijo bomo namreč poklicali s"
   ]
  },
  {
   "cell_type": "code",
   "execution_count": 19,
   "id": "186e6843-c298-47f0-a2af-fca0b97d098f",
   "metadata": {},
   "outputs": [],
   "source": [
    "kletki = eskarina(5)"
   ]
  },
  {
   "cell_type": "code",
   "execution_count": 20,
   "id": "b6922a76-7380-421d-89bd-973c99ecc1eb",
   "metadata": {},
   "outputs": [
    {
     "data": {
      "text/plain": [
       "(8, 13)"
      ]
     },
     "execution_count": 20,
     "metadata": {},
     "output_type": "execute_result"
    }
   ],
   "source": [
    "kletki"
   ]
  },
  {
   "cell_type": "markdown",
   "id": "ab7a08bf-386e-4673-a181-04535cd8b668",
   "metadata": {},
   "source": [
    "Drugi zapis bi uporabili, če bi razmišljali o funkciji, ki vrne dve stvari in bi tudi v klicu prirejali vrednosti dvema imenoma:"
   ]
  },
  {
   "cell_type": "code",
   "execution_count": 21,
   "id": "92752f97-430c-400d-9853-6a66b40ed099",
   "metadata": {},
   "outputs": [],
   "source": [
    "na_levi, na_desni = eskarina(5)"
   ]
  },
  {
   "cell_type": "code",
   "execution_count": 22,
   "id": "e8524ade-0659-4d33-bdce-4f50eabb8242",
   "metadata": {},
   "outputs": [
    {
     "data": {
      "text/plain": [
       "8"
      ]
     },
     "execution_count": 22,
     "metadata": {},
     "output_type": "execute_result"
    }
   ],
   "source": [
    "na_levi"
   ]
  },
  {
   "cell_type": "code",
   "execution_count": 23,
   "id": "23fe3e3f-d47e-4627-9d00-c2784c704932",
   "metadata": {},
   "outputs": [
    {
     "data": {
      "text/plain": [
       "13"
      ]
     },
     "execution_count": 23,
     "metadata": {},
     "output_type": "execute_result"
    }
   ],
   "source": [
    "na_desni"
   ]
  },
  {
   "cell_type": "markdown",
   "id": "a660e436-20c1-49c3-8244-a4cbae638f88",
   "metadata": {},
   "source": [
    "Očitno je oboje popolnoma isto, gre le za to, kako gledamo na funkcijo. Za nekoga, ki se bori, da bi naredil izpit, je to nepomembno. Kadar programiram zares, pa o tem razmišljam, saj je pomembno za berljivost programa - prav tako o tem razmišljam, ko učim, saj je pomembno za razumevanje."
   ]
  },
  {
   "attachments": {},
   "cell_type": "markdown",
   "id": "c97f7c95-44c6-4ead-bd6b-f031b38f4f6e",
   "metadata": {},
   "source": [
    "## 2. Tržna ekonomija\n",
    "\n",
    "Eskarinin oče, Gordo Kovač, ki so mu šle hčerine čarovnije sicer zelo na živce, je v množenju zajcev videl poslovno priložnost. Vsak dan jih je nekaj vzel iz kletk ter jih nesel prodat. \n",
    "\n",
    "V seznamu je zapisano koliko zajcev je prodal vsak dan. Napišite funkcijo `gordo(zajci)`, ki ga podani seznam izračuna in vrne v terki:\n",
    "\n",
    "- povprečno število prodanih zajcev (zaokroženo na dve decimalki),\n",
    "- število dni, ko je prodal več zajcev od povprečja,\n",
    "- dolžina najdaljšega naraščajočega zaporedja prodanih zajcev.\n",
    "\n",
    "### Rešitev"
   ]
  },
  {
   "cell_type": "code",
   "execution_count": 38,
   "id": "46ecb4e6-ab39-478a-9bae-d66b3118f65b",
   "metadata": {},
   "outputs": [],
   "source": [
    "def gordo(zajci):\n",
    "    povprecje = sum(zajci) / len(zajci)\n",
    "    \n",
    "    nadpovprecnih = 0\n",
    "    for zajcev in zajci:\n",
    "        if zajcev > povprecje:\n",
    "            nadpovprecnih += 1\n",
    "\n",
    "    to_zaporedje = 0\n",
    "    naj_zaporedje = 0\n",
    "    vceraj = 0\n",
    "    for danes in zajci:\n",
    "        if danes > vceraj:\n",
    "            to_zaporedje += 1\n",
    "            if to_zaporedje > naj_zaporedje:\n",
    "                naj_zaporedje = to_zaporedje\n",
    "        else:\n",
    "            to_zaporedje = 1\n",
    "        vceraj = danes\n",
    "\n",
    "    return (round(povprecje, 2), nadpovprecnih, naj_zaporedje)"
   ]
  },
  {
   "cell_type": "code",
   "execution_count": 31,
   "id": "92215813-1437-4360-ba7a-d910b9920cfb",
   "metadata": {},
   "outputs": [
    {
     "data": {
      "text/plain": [
       "(23.67, 4, 6)"
      ]
     },
     "execution_count": 31,
     "metadata": {},
     "output_type": "execute_result"
    }
   ],
   "source": [
    "gordo([12, 14, 20, 30, 35, 40, 15, 8, 39])"
   ]
  },
  {
   "cell_type": "code",
   "execution_count": 32,
   "id": "81fc5682-bd4f-4fd0-9cb8-1f2ea8f8f242",
   "metadata": {},
   "outputs": [
    {
     "data": {
      "text/plain": [
       "(18.27, 4, 4)"
      ]
     },
     "execution_count": 32,
     "metadata": {},
     "output_type": "execute_result"
    }
   ],
   "source": [
    "gordo([10, 12, 15, 13, 14, 16, 20, 18, 25, 30, 28])"
   ]
  },
  {
   "cell_type": "markdown",
   "id": "68facbf0-e289-4e11-a261-74e6031d159b",
   "metadata": {},
   "source": [
    "Tri stvari, ki jih moramo izračunati, smo ločili v tri dele funkcije. Drugi in tretji bi lahko bila v isti zanki, vendar je takole preglednejše.\n",
    "\n",
    "O prvem in drugem delu nimamo kaj dosti povedati - razen, seveda, tega, da se splača vedeti za funkcijo `sum`. Sicer bi pač seštevali s svojo zanko. `povprecje` je potrebno zaokrožiti na dve decimalki, vendar to storimo šele ob vračanju, zato da v drugem delu delamo z nezaokroženim povprečjem.\n",
    "\n",
    "Zanimiv, torej, je tretji del. Zanj potrebujemo tri spremenljivke: poznati moramo dolžino tekočega zaporedja (`to_zaporedje`), najdaljšega zaporedja (`naj_zaporedje`) in število zajcev, ki smo jih prodali včeraj, da bi lahko to primerjali z včerajšnjo prodajo.\n",
    "\n",
    "Ko se odločimo glede teh treh spremenljivke, je dogajanje v zanki logično. Če smo danes prodali več kot včeraj, zabeležimo dolžino trenutnega zaporedja in, če je to daljše kot najdaljše doslej, zabeležimo še to. Če današnja prodaja ni presegla včerajšnje, pa zabeležimo, da je trenutno zaporedje dolgo 1.\n",
    "\n",
    "Čisto na koncu zanke imamo še `vceraj = danes`, saj danes jutri včeraj: v naslednjem krogu zanke mora biti v `vceraj` zapisano to, kar je danes v `danes`.\n",
    "\n",
    "Da bi imeli tudi prvi dan s čim primerjati, zabeležimo, da smo pred prvim dnem prodali 0 zajcev, `vceraj = 0`.\n",
    "\n",
    "Nadebudni z računalnikovim časom varčni študent bi morda ugotovil, da ni potrebno ravno stalno preverjati, ali je trenutno zaporedje daljše od najdaljšega, saj lahko to stori šele po koncu zaporedja. Ta bi sprogramiral tako:"
   ]
  },
  {
   "cell_type": "code",
   "execution_count": 33,
   "id": "c26a4d25-eb21-4548-a404-31ed03ab9140",
   "metadata": {},
   "outputs": [],
   "source": [
    "def gordo(zajci):\n",
    "    povprecje = sum(zajci) / len(zajci)\n",
    "    \n",
    "    nadpovprecnih = 0\n",
    "    for zajcev in zajci:\n",
    "        if zajcev > povprecje:\n",
    "            nadpovprecnih += 1\n",
    "\n",
    "    to_zaporedje = 0\n",
    "    naj_zaporedje = 0\n",
    "    vceraj = 0\n",
    "    for danes in zajci:\n",
    "        if danes > vceraj:\n",
    "            to_zaporedje += 1\n",
    "        else:\n",
    "            if to_zaporedje > naj_zaporedje:\n",
    "                naj_zaporedje = to_zaporedje\n",
    "            to_zaporedje = 1\n",
    "        vceraj = danes\n",
    "\n",
    "    return (round(povprecje, 2), nadpovprecnih, naj_zaporedje)"
   ]
  },
  {
   "cell_type": "markdown",
   "id": "78b3c7b1-7859-45e2-9e4e-3d7b2a5c8ff0",
   "metadata": {},
   "source": [
    "To navidez deluje."
   ]
  },
  {
   "cell_type": "code",
   "execution_count": 34,
   "id": "093c7f06-debc-49c1-ab52-392f4f0d77a6",
   "metadata": {},
   "outputs": [
    {
     "data": {
      "text/plain": [
       "(23.67, 4, 6)"
      ]
     },
     "execution_count": 34,
     "metadata": {},
     "output_type": "execute_result"
    }
   ],
   "source": [
    "gordo([12, 14, 20, 30, 35, 40, 15, 8, 39])"
   ]
  },
  {
   "cell_type": "code",
   "execution_count": 35,
   "id": "248512b1-0fb4-4019-bd0d-d5ed4a3cf950",
   "metadata": {},
   "outputs": [
    {
     "data": {
      "text/plain": [
       "(18.27, 4, 4)"
      ]
     },
     "execution_count": 35,
     "metadata": {},
     "output_type": "execute_result"
    }
   ],
   "source": [
    "gordo([10, 12, 15, 13, 14, 16, 20, 18, 25, 30, 28])"
   ]
  },
  {
   "cell_type": "markdown",
   "id": "d2915476-d418-48b9-b966-d16955e027a3",
   "metadata": {},
   "source": [
    "Vendar deluje le zato, ker imate prijaznega asistenta. Hudobni profesor bi dodal ta primer."
   ]
  },
  {
   "cell_type": "code",
   "execution_count": 36,
   "id": "d4f7018d-d058-421e-b44c-c9809adc3f23",
   "metadata": {},
   "outputs": [
    {
     "data": {
      "text/plain": [
       "(3.0, 3, 3)"
      ]
     },
     "execution_count": 36,
     "metadata": {},
     "output_type": "execute_result"
    }
   ],
   "source": [
    "gordo([1, 2, 3, 1, 2, 3, 4, 5, 6])"
   ]
  },
  {
   "cell_type": "markdown",
   "id": "f79d6a6a-afeb-4179-817a-145e420679e6",
   "metadata": {},
   "source": [
    "Ali celo"
   ]
  },
  {
   "cell_type": "code",
   "execution_count": 37,
   "id": "6879972c-f255-4faa-b555-22e66b8daafa",
   "metadata": {},
   "outputs": [
    {
     "data": {
      "text/plain": [
       "(3.0, 2, 0)"
      ]
     },
     "execution_count": 37,
     "metadata": {},
     "output_type": "execute_result"
    }
   ],
   "source": [
    "gordo([1, 2, 3, 4, 5])"
   ]
  },
  {
   "cell_type": "markdown",
   "id": "91983a64-b0d1-4b52-a576-5e06b1bef1cb",
   "metadata": {},
   "source": [
    "Najdaljše zaporedje je v prvem hudobnem primeru dolgo 5; funkcija pravi `3`. V drugem je dolgo 5, funkcija pravi `0`.\n",
    "\n",
    "Težava je v tem: če rekordnost zaporedja preverjamo šele, ko spet pride dan s slabšo prodajo, ne bomo zaznali rekordnih zaporedij na koncu seznama.\n",
    "\n",
    "Obe rešitvi sta zoprni. Ena možnost je, da po zanki ponovimo pogoj:\n",
    "\n",
    "```python\n",
    "    to_zaporedje = 0\n",
    "    naj_zaporedje = 0\n",
    "    vceraj = 0\n",
    "    for danes in zajci:\n",
    "        if danes > vceraj:\n",
    "            to_zaporedje += 1\n",
    "        else:\n",
    "            if to_zaporedje > naj_zaporedje:\n",
    "                naj_zaporedje = to_zaporedje\n",
    "            to_zaporedje = 1\n",
    "        vceraj = danes\n",
    "    if to_zaporedje > naj_zaporedje:\n",
    "        naj_zaporedje = to_zaporedje\n",
    "```"
   ]
  },
  {
   "attachments": {},
   "cell_type": "markdown",
   "id": "a7d3fdc7-61ed-4b5c-9e63-ee5378ec7422",
   "metadata": {},
   "source": [
    "Druga, po svoje elegantnejša, je, da priznamo, da smo po zadnjem dnevu nehali prodajati in torej prodali 0 zajcev in \n",
    "\n",
    "```python\n",
    "    for danes in zajci:\n",
    "```\n",
    "\n",
    "zamenjamo z \n",
    "\n",
    "```python\n",
    "    for danes in zajci + [0]:\n",
    "```\n"
   ]
  },
  {
   "cell_type": "markdown",
   "id": "91d62e6f-dd14-4c5e-aa13-2111a3df7d3f",
   "metadata": {},
   "source": [
    "Pri tej nalogi se lahko naučimo še, kako se znebiti administracije z `vceraj`. V tem besedilu bom predpostavil, da poznate `zip` in veste za trik `zip(s, s[1:])`. (Če ne, se moramo o tem pogovoriti!)"
   ]
  },
  {
   "cell_type": "code",
   "execution_count": 39,
   "id": "9f0ba752-3bcc-4a73-af78-07fb19920266",
   "metadata": {},
   "outputs": [],
   "source": [
    "def gordo(zajci):\n",
    "    povprecje = sum(zajci) / len(zajci)\n",
    "    \n",
    "    nadpovprecnih = 0\n",
    "    for zajcev in zajci:\n",
    "        if zajcev > povprecje:\n",
    "            nadpovprecnih += 1\n",
    "\n",
    "    to_zaporedje = 1\n",
    "    naj_zaporedje = 1\n",
    "    for vceraj, danes in zip(zajci, zajci[1:]):\n",
    "        if danes > vceraj:\n",
    "            to_zaporedje += 1\n",
    "        else:\n",
    "            if to_zaporedje > naj_zaporedje:\n",
    "                naj_zaporedje = to_zaporedje\n",
    "            to_zaporedje = 1\n",
    "\n",
    "    return (round(povprecje, 2), nadpovprecnih, naj_zaporedje)"
   ]
  },
  {
   "cell_type": "code",
   "execution_count": 40,
   "id": "582dfda6-1e4a-4aa3-8163-cb8927bec54e",
   "metadata": {},
   "outputs": [
    {
     "data": {
      "text/plain": [
       "(23.67, 4, 6)"
      ]
     },
     "execution_count": 40,
     "metadata": {},
     "output_type": "execute_result"
    }
   ],
   "source": [
    "gordo([12, 14, 20, 30, 35, 40, 15, 8, 39])"
   ]
  },
  {
   "cell_type": "code",
   "execution_count": 41,
   "id": "3b3100f0-2042-497d-998d-9b31e3bcc1c4",
   "metadata": {},
   "outputs": [
    {
     "data": {
      "text/plain": [
       "(18.27, 4, 4)"
      ]
     },
     "execution_count": 41,
     "metadata": {},
     "output_type": "execute_result"
    }
   ],
   "source": [
    "gordo([10, 12, 15, 13, 14, 16, 20, 18, 25, 30, 28])"
   ]
  },
  {
   "cell_type": "markdown",
   "id": "631d1adb-4be7-4bcb-ad59-03306e639788",
   "metadata": {},
   "source": [
    "V novejših Pythonih imamo v te namene `pairwise`, ki ga dobimo v modulu `itertools`, takole:"
   ]
  },
  {
   "cell_type": "code",
   "execution_count": 42,
   "id": "b65705d2-3b0f-41a6-838a-c59fabb00b28",
   "metadata": {},
   "outputs": [],
   "source": [
    "from itertools import pairwise\n",
    "\n",
    "def gordo(zajci):\n",
    "    povprecje = sum(zajci) / len(zajci)\n",
    "    \n",
    "    nadpovprecnih = 0\n",
    "    for zajcev in zajci:\n",
    "        if zajcev > povprecje:\n",
    "            nadpovprecnih += 1\n",
    "\n",
    "    to_zaporedje = 1\n",
    "    naj_zaporedje = 1\n",
    "    for vceraj, danes in pairwise(zajci):\n",
    "        if danes > vceraj:\n",
    "            to_zaporedje += 1\n",
    "        else:\n",
    "            if to_zaporedje > naj_zaporedje:\n",
    "                naj_zaporedje = to_zaporedje\n",
    "            to_zaporedje = 1\n",
    "\n",
    "    return (round(povprecje, 2), nadpovprecnih, naj_zaporedje)"
   ]
  },
  {
   "cell_type": "code",
   "execution_count": 43,
   "id": "278f34a9-a9e5-466d-a6a8-51034b428387",
   "metadata": {},
   "outputs": [
    {
     "data": {
      "text/plain": [
       "(23.67, 4, 6)"
      ]
     },
     "execution_count": 43,
     "metadata": {},
     "output_type": "execute_result"
    }
   ],
   "source": [
    "gordo([12, 14, 20, 30, 35, 40, 15, 8, 39])"
   ]
  },
  {
   "cell_type": "markdown",
   "id": "d632bbb1-e4d5-462c-a681-62d5dc9c75c5",
   "metadata": {},
   "source": [
    "Za preprostejši primer: `pairwise` dela tole:"
   ]
  },
  {
   "cell_type": "code",
   "execution_count": 45,
   "id": "3fd0151a-d0b0-4955-9de9-22247e6695dc",
   "metadata": {},
   "outputs": [
    {
     "name": "stdout",
     "output_type": "stream",
     "text": [
      "('Ana', 'Berta')\n",
      "('Berta', 'Cilka')\n",
      "('Cilka', 'Dani')\n"
     ]
    }
   ],
   "source": [
    "for par in pairwise([\"Ana\", \"Berta\", \"Cilka\", \"Dani\"]):\n",
    "    print(par)"
   ]
  },
  {
   "cell_type": "markdown",
   "id": "d078025e-4761-4809-9900-9611ec8835a3",
   "metadata": {},
   "source": [
    "Oziroma"
   ]
  },
  {
   "cell_type": "code",
   "execution_count": 46,
   "id": "2e2bf54c-0ac2-4aed-96cb-8e592bee7968",
   "metadata": {},
   "outputs": [
    {
     "name": "stdout",
     "output_type": "stream",
     "text": [
      "Ana Berta\n",
      "Berta Cilka\n",
      "Cilka Dani\n"
     ]
    }
   ],
   "source": [
    "for prva, druga in pairwise([\"Ana\", \"Berta\", \"Cilka\", \"Dani\"]):\n",
    "    print(prva, druga)"
   ]
  },
  {
   "attachments": {},
   "cell_type": "markdown",
   "id": "008e407d-04f5-4093-8ed3-aa1e7be77048",
   "metadata": {},
   "source": [
    "## 3. Uročeni uroki\n",
    "\n",
    "Mladi pripravniki na Nevidni univerzi so našli pergament, ki je zaklenjen z urokom. Besede uroka so razmetane, vendar se v njih skriva vzorec. Urok je zakodiran tako, da vsaka beseda začne s številko, ki določa njen pravilni vrstni red. Če besede razvrstimo glede na številke in jih očistimo številk, bomo lahko prebrali pravo sporočilo in preklicali urok!\n",
    "\n",
    "Napiši funkcijo `odcaraj(urok)`, ki bo prejela niz premešanih besed, ugotovila njihov pravilni vrstni red ter izpisala dekodirano sporočilo brez številk.\n"
   ]
  },
  {
   "cell_type": "markdown",
   "id": "7fbc79d7-746a-4040-a270-2a980a620682",
   "metadata": {},
   "source": [
    "### Rešitev\n",
    "\n",
    "Kot ve vsak, ki je prebral (in, predvsem, poslušal) Harryja Potterja tolikokrat kot jaz, vem, da so uroki kratki, dolgi besedo ali dve. Zato bomo za začetek predpostavili, da je na začetku besede vedno le ena števka.\n",
    "\n",
    "Naloga je tedaj preprosta (in klasična: na izpitu iz Uvoda v programiranje je po mojem opažanju vedno kakšna naloga, ki zahteva `split` in `join`)."
   ]
  },
  {
   "cell_type": "code",
   "execution_count": 51,
   "id": "22f2d1c4-fc11-4d29-8e7b-b14026203c65",
   "metadata": {},
   "outputs": [],
   "source": [
    "def odcaraj(urok):\n",
    "    deli = urok.split()\n",
    "    odcaran = [None] * len(deli)\n",
    "    for beseda in deli:\n",
    "        odcaran[int(beseda[0]) - 1] = beseda[1:]\n",
    "    return \" \".join(odcaran)"
   ]
  },
  {
   "cell_type": "code",
   "execution_count": 52,
   "id": "cda4f260-19b2-4c98-8782-5e77146a55cd",
   "metadata": {},
   "outputs": [
    {
     "data": {
      "text/plain": [
       "'Čar enakih pravic'"
      ]
     },
     "execution_count": 52,
     "metadata": {},
     "output_type": "execute_result"
    }
   ],
   "source": [
    "odcaraj(\"2enakih 1Čar 3pravic\")"
   ]
  },
  {
   "cell_type": "markdown",
   "id": "70431624-866b-412b-9aa5-39337377e236",
   "metadata": {},
   "source": [
    "Najprej razdelimo `urok` na besede.\n",
    "\n",
    "Nato pripravimo seznam, ki vsebuje toliko elementov `None`, kolikor je besed.\n",
    "\n",
    "Čar funkcije je v tem, kar sledi: za vsako `beseda` v delih, pogledamo prvi znak, `beseda[0]`. Pretvorimo ga v število, `int(beseda[0])`. Ker v Pythonu štejemo od 0, od tega odštejemo `1`, pa izvemo, na katero mesto je potrebno postaviti to besedo. Na `odcaran[int(beseda[0]) - 1]` torej zapišemo vse znake te besede, razen prvega, `beseda[1:]`.\n",
    "\n",
    "Na koncu vse to zlepimo skupaj.\n",
    "\n",
    "Če vemo, da se vse besede začnejo z eno samo števko, gre pravzaprav tudi preprosteje: uredimo jih pa \"abecedi\", zložimo v seznam in ga združimo."
   ]
  },
  {
   "cell_type": "code",
   "execution_count": 69,
   "id": "8d40706e-6baf-4b8d-a06a-e24ff0d352d3",
   "metadata": {},
   "outputs": [],
   "source": [
    "def odcaraj(urok):\n",
    "    odcaran = []\n",
    "    for beseda in sorted(urok.split()):\n",
    "        odcaran.append(beseda[1:])\n",
    "    return \" \".join(odcaran)"
   ]
  },
  {
   "cell_type": "markdown",
   "id": "90915f22-a372-4ecb-b941-faba43a0e60d",
   "metadata": {},
   "source": [
    "V resnici bi zaresen programer tule napisal kar"
   ]
  },
  {
   "cell_type": "code",
   "execution_count": 70,
   "id": "13935804-430c-4d72-8039-b3fd66fcfd08",
   "metadata": {},
   "outputs": [],
   "source": [
    "def odcaraj(urok):\n",
    "    return \" \".join(beseda[1:] for beseda in sorted(urok.split()))"
   ]
  },
  {
   "cell_type": "markdown",
   "id": "a25c87fa-7a8d-49b6-841a-6d6a90da74e7",
   "metadata": {},
   "source": [
    "vendar tega še ne znamo. Ampak bomo. Upam."
   ]
  },
  {
   "cell_type": "markdown",
   "id": "e6db0fa4-2a4f-43cc-88a2-3f9f1e2a0319",
   "metadata": {},
   "source": [
    "Kaj pa, če so uroki lahko daljši?"
   ]
  },
  {
   "cell_type": "code",
   "execution_count": 71,
   "id": "80c77340-a805-452a-9d21-90cb1057c680",
   "metadata": {},
   "outputs": [
    {
     "data": {
      "text/plain": [
       "'0enajst 1besed Tole je en prav pošteno dolg urok ki ima'"
      ]
     },
     "execution_count": 71,
     "metadata": {},
     "output_type": "execute_result"
    }
   ],
   "source": [
    "odcaraj(\"11besed 10enajst 1Tole 2je 3en 4prav 5pošteno 6dolg 7urok 8ki 9ima\")"
   ]
  },
  {
   "cell_type": "markdown",
   "id": "50553a9f-5359-4fa1-bf2b-4c3d5b668096",
   "metadata": {},
   "source": [
    "V tem primeru se nam skoraj splača pripraviti ločeno funkcijo, ki dobi oštevilčenobesedo in vrne številko in besedo."
   ]
  },
  {
   "cell_type": "code",
   "execution_count": 63,
   "id": "d0b75bc7-ded6-408f-9047-2d48fd4b4494",
   "metadata": {},
   "outputs": [],
   "source": [
    "def stevilka_in_beseda(s):\n",
    "    stevke = \"\"\n",
    "    i = 0\n",
    "    while s[i].isdigit():\n",
    "        i += 1\n",
    "    return int(s[:i]), s[i:]            "
   ]
  },
  {
   "cell_type": "code",
   "execution_count": 65,
   "id": "887ba26a-8cb4-404b-851c-d32afcd3e241",
   "metadata": {},
   "outputs": [
    {
     "data": {
      "text/plain": [
       "(2472, 'beseda')"
      ]
     },
     "execution_count": 65,
     "metadata": {},
     "output_type": "execute_result"
    }
   ],
   "source": [
    "stevilka_in_beseda(\"2472beseda\")"
   ]
  },
  {
   "cell_type": "markdown",
   "id": "ce7551fe-c5c7-4098-a563-f4655e61b031",
   "metadata": {},
   "source": [
    "Zdaj pa po prvem vzorcu:"
   ]
  },
  {
   "cell_type": "code",
   "execution_count": 72,
   "id": "93d77e24-9d07-4f9a-99b9-b11d561acd05",
   "metadata": {},
   "outputs": [],
   "source": [
    "def odcaraj(urok):\n",
    "    deli = urok.split()\n",
    "    odcaran = [None] * len(deli)\n",
    "    for stev_beseda in deli:\n",
    "        indeks, beseda = stevilka_in_beseda(stev_beseda)\n",
    "        odcaran[indeks - 1] = beseda\n",
    "    return \" \".join(odcaran)"
   ]
  },
  {
   "cell_type": "code",
   "execution_count": 75,
   "id": "3f3935dc-edc4-48c7-8feb-d53a86525d69",
   "metadata": {},
   "outputs": [
    {
     "data": {
      "text/plain": [
       "'Tole je en prav pošteno dolg urok ki ima enajst besed'"
      ]
     },
     "execution_count": 75,
     "metadata": {},
     "output_type": "execute_result"
    }
   ],
   "source": [
    "odcaraj(\"11besed 10enajst 1Tole 2je 3en 4prav 5pošteno 6dolg 7urok 8ki 9ima\")"
   ]
  },
  {
   "cell_type": "markdown",
   "id": "d1c2b66d-57da-44f0-acbd-463e8e2131a9",
   "metadata": {},
   "source": [
    "Ali pa po zadnjem, ki ob tem sicer postane nekoliko strašljiv."
   ]
  },
  {
   "cell_type": "code",
   "execution_count": 80,
   "id": "f990fd31-19da-47e8-8bc6-cb40eab23b11",
   "metadata": {},
   "outputs": [],
   "source": [
    "def odcaraj(urok):\n",
    "    return \" \".join(beseda for _, beseda in sorted(map(stevilka_in_beseda, urok.split())))"
   ]
  },
  {
   "cell_type": "code",
   "execution_count": 81,
   "id": "fd16b189-eac9-4b37-b4c2-5ed4f21d1aad",
   "metadata": {},
   "outputs": [
    {
     "data": {
      "text/plain": [
       "'Tole je en prav pošteno dolg urok ki ima enajst besed'"
      ]
     },
     "execution_count": 81,
     "metadata": {},
     "output_type": "execute_result"
    }
   ],
   "source": [
    "odcaraj(\"11besed 10enajst 1Tole 2je 3en 4prav 5pošteno 6dolg 7urok 8ki 9ima\")"
   ]
  },
  {
   "attachments": {},
   "cell_type": "markdown",
   "id": "633456b5-baef-4403-a6b5-465c621c9b9e",
   "metadata": {},
   "source": [
    "## 4. Zlooobnii čaaaarooovniikiii\n",
    "\n",
    "Zli čarodeji se preoblačijo v prijazne ljudi, a jih Eskarina prepozna – njihova šibkost je govor. Vedno podaljšujejo samoglasnike, tako da rečejo vsaj dva skupaj.\n",
    "\n",
    "Na primer, zli čarovnik bi rekel: \"Jaaz seeem seeeveedee siiilnoo suuupeeer.\"\n",
    "\n",
    "Dobri ljudje včasih podaljšajo kakšen samoglasnik, a nikoli vseh – to je značilno le za zlobneže!\n",
    "Besede, ki nimajo samoglasnikov, ne štejejo. Privzamete lahko, da bo stavek vedno vseboval vsaj eno besedo s samoglasnikom.\n",
    "\n",
    "Napišite funkcijo `zlobnez(niz)`, ki prejme stavek (niz, v katerem so besede ločene spresledki) in vrne `True`, če prepozna zamaskiranega zlobneža, sicer `False`."
   ]
  },
  {
   "cell_type": "markdown",
   "id": "7ab15e12-9159-4218-9ea0-e2d0d0b694f3",
   "metadata": {},
   "source": [
    "### Rešitev\n",
    "\n",
    "Vsak samoglasnik mora imeti levo ali desno od sebe enak znak. Ker se niz lahko začne ali konča s samoglasnikom, bomo na začetek in konec niza prilepili še en presledek (lahko bi tudi karkoli drugega, razen samoglasnika)."
   ]
  },
  {
   "cell_type": "code",
   "execution_count": 86,
   "id": "31522d06-70fa-4927-84e2-1271046dcbab",
   "metadata": {},
   "outputs": [],
   "source": [
    "def zlobnez(niz):\n",
    "    niz = \" \" + niz.lower()  + \" \"\n",
    "    for i in range(1, len(niz) - 1):\n",
    "        if niz[i] in \"aeiou\" and niz[i - 1] != niz[i] != niz[i + 1]:\n",
    "            return False\n",
    "    return True"
   ]
  },
  {
   "cell_type": "code",
   "execution_count": 83,
   "id": "1b0f7152-92bf-4b32-beba-965855e6d396",
   "metadata": {},
   "outputs": [
    {
     "data": {
      "text/plain": [
       "True"
      ]
     },
     "execution_count": 83,
     "metadata": {},
     "output_type": "execute_result"
    }
   ],
   "source": [
    "zlobnez(\"Jaaz žee niiiseem zloobeeen\")"
   ]
  },
  {
   "cell_type": "code",
   "execution_count": 84,
   "id": "9522646d-7618-45eb-bd96-1f416b949047",
   "metadata": {},
   "outputs": [
    {
     "data": {
      "text/plain": [
       "False"
      ]
     },
     "execution_count": 84,
     "metadata": {},
     "output_type": "execute_result"
    }
   ],
   "source": [
    "zlobnez(\"Dooober dan kakooo si?\")"
   ]
  },
  {
   "cell_type": "code",
   "execution_count": 85,
   "id": "93bc81c8-bf19-488d-8b46-60e67575b8f3",
   "metadata": {},
   "outputs": [
    {
     "data": {
      "text/plain": [
       "True"
      ]
     },
     "execution_count": 85,
     "metadata": {},
     "output_type": "execute_result"
    }
   ],
   "source": [
    "zlobnez(\"Too jee moooj maaagiiičniii vrt\")"
   ]
  },
  {
   "cell_type": "markdown",
   "id": "d965cc09-233e-461c-a940-e1e306825e96",
   "metadata": {},
   "source": [
    "Tu se imamo pogovoriti precej stvari.\n",
    "\n",
    "- Naloga je tipičen primer naloge, kjer z zanko nekaj iščemo in če to najdemo, takoj vrnemo `False` (ali `True`, kakor je pač zastavljena na naloga). `True` pa vrnemo šele, po koncu zanke. Past, v katero poskuša naloga zvabiti študenta, je, da bi dal `return` v `else`:\n",
    "\n",
    "```python\n",
    "def zlobnez(niz):\n",
    "    niz = \" \" + niz.lower()  + \" \"\n",
    "    for i in range(1, len(niz) - 1):\n",
    "        if niz[i] in \"aeiou\" and niz[i - 1] != niz[i] != niz[i + 1]:\n",
    "            return False\n",
    "        else:\n",
    "            return True  # Narobe!\n",
    "```"
   ]
  },
  {
   "cell_type": "markdown",
   "id": "35caa549-d410-447a-8d01-56d109d0af84",
   "metadata": {},
   "source": [
    "- Naslednja reč je pogoj. Tule smo ga napisali kar spretno, oba dela. V prvem preverjamo ali je znak samoglasnik: znak je samoglasnik, če nastopa v nizu `\"aeiou\"`. To seveda predpostavimo, da jezik nima drugih samoglasnikov in da ti niso naglašeni. Niz `\"réééééés\"` izgleda, priznajmo, reeees čudno.\n",
    "\n",
    "  Drugi del pogoja pravi, da i-ti znak ni enak ne tistemu pred sabo ne tistemu za sabo. V bistvu `iz[i - 1] != niz[i] and niz[i] != niz[i + 1]`, le da lahko to v Pythonu napišemo krajše."
   ]
  },
  {
   "cell_type": "markdown",
   "id": "b12da7b5-8cbc-484b-a27c-0ea2fbf1fee2",
   "metadata": {},
   "source": [
    "- Tretja stvar je zanka: šli bomo od znaka z indeksom `1`; ker smo k nizu dodali presledek, je to (bivši) prvi znak niza. Končali bomo pri predzadnjem znaku, saj smo k nizu dodali presledek.\n",
    "\n",
    "- Končno še prva vrstica: nizu smo dodali presledek, mimogrede pa ga spremenili v same male znake, da ne bo težav z `\"Andreejem\"` (kar bi rekel zlobnež, vendar ga ne bi prepoznali) in `\"Aandreejeem\"` (kar bi rekel prijaznež, vendar bi ga morda obtožili za zlobnega, ker `\"A\" != \"a\"`)."
   ]
  },
  {
   "attachments": {},
   "cell_type": "markdown",
   "id": "e2a5e752-8f8a-4ff7-b45d-e59c798178a4",
   "metadata": {},
   "source": [
    "## 5. Osebni uroki\n",
    "\n",
    "Na Nevidni univerzi, kjer se učijo najmočnejši čarovniki, velja strogo pravilo: Vsak čarovnik ima svoj poseben urok, ki ga lahko izvede le on. Eskarina mora preveriti, če se držijo tega pravila!\n",
    "\n",
    "Napišite funkcijo `preveri(carovniki, uroki)`, ki za podana seznama čarovnikov in njihovih urokov preveri, ali vsak čarovnik vedno izvaja natanko enak urok.\n",
    "\n",
    "- Če vsak čarovnik izvaja vedno isti urok, funkcija vrne `True`.\n",
    "- Če se kateri koli čarovnik pojavi večkrat in izvaja različne uroke, funkcija vrne `False`.\n",
    "  \n",
    "Ime čarovnika in njegov urok sta povezana prek istega indeksa v seznamih, kar pomeni, da `carovniki[i]` izvaja `uroki[i]`.\n",
    "\n",
    "### Rešitev"
   ]
  },
  {
   "cell_type": "code",
   "execution_count": 87,
   "id": "83de8ecf-61bf-4292-99f3-a1bc47978ef1",
   "metadata": {},
   "outputs": [],
   "source": [
    "def preveri(carovniki, uroki):\n",
    "    for carovnik, urok in zip(carovniki, uroki):\n",
    "        for carovnik0, urok0 in zip(carovniki, uroki):\n",
    "            if carovnik == carovnik0 and urok != urok0:\n",
    "                return False\n",
    "    return True"
   ]
  },
  {
   "cell_type": "code",
   "execution_count": 94,
   "id": "92da5532-ef9c-4dec-bb86-f75d34a3fc7c",
   "metadata": {},
   "outputs": [
    {
     "data": {
      "text/plain": [
       "False"
      ]
     },
     "execution_count": 94,
     "metadata": {},
     "output_type": "execute_result"
    }
   ],
   "source": [
    "preveri([\"Rincewind\", \"Cutangle\", \"Stibbons\", \"Rincewind\"], [\"Eksplodiraj\", \"Teleport\", \"Ogenj\", \"Nevidnost\"])"
   ]
  },
  {
   "cell_type": "code",
   "execution_count": 95,
   "id": "0ab9ae72-d457-4f44-8456-dc6048081fd4",
   "metadata": {},
   "outputs": [
    {
     "data": {
      "text/plain": [
       "True"
      ]
     },
     "execution_count": 95,
     "metadata": {},
     "output_type": "execute_result"
    }
   ],
   "source": [
    "preveri([\"Rincewind\", \"Cutangle\", \"Stibbons\", \"Rincewind\"], [\"Eksplodiraj\", \"Teleport\", \"Ogenj\", \"Eksplodiraj\"])"
   ]
  },
  {
   "cell_type": "markdown",
   "id": "a64d81b4-d15c-49b5-94a8-268d4e43edde",
   "metadata": {},
   "source": [
    "Tole je naloga iz `zip`, ki nam združi čarovnike in uroke v pare. Hkrati pa vsebuje še enak vzoreca prejšnja - `False` vrnemo že znotraj zanke, `True` pa šele, če se ta izteče do konca.\n",
    "\n",
    "Če ne vemo za `zip`, moramo motoviliti z indeksi."
   ]
  },
  {
   "cell_type": "code",
   "execution_count": 93,
   "id": "9e20013b-bbc6-47e4-9d42-222fe30cf116",
   "metadata": {},
   "outputs": [],
   "source": [
    "def preveri(carovniki, uroki):\n",
    "    for i in range(len(carovniki)):\n",
    "        for j in range(len(carovniki)):\n",
    "            if carovniki[i] == carovniki[j] and uroki[i] != uroki[j]:\n",
    "                return False\n",
    "    return True"
   ]
  },
  {
   "cell_type": "markdown",
   "id": "5de1dad8-aa85-4c4a-a01e-3f225e2ac2f0",
   "metadata": {},
   "source": [
    "Nič groznega, vendar je vedno elegantneje imenovati kot indeksirati. Edina prednost druga različice je, da si lahko prihranimo pol dela, če drugo zanko spustimo le od `i` naprej."
   ]
  },
  {
   "cell_type": "code",
   "execution_count": 96,
   "id": "fc46e213-30bb-4ef5-a7c1-ae34363c5231",
   "metadata": {},
   "outputs": [],
   "source": [
    "def preveri(carovniki, uroki):\n",
    "    for i in range(len(carovniki)):\n",
    "        for j in range(i + 1, len(carovniki)):\n",
    "            if carovniki[i] == carovniki[j] and uroki[i] != uroki[j]:\n",
    "                return False\n",
    "    return True"
   ]
  },
  {
   "cell_type": "markdown",
   "id": "e9823ae9-9943-4f2e-932c-193d5ccede6b",
   "metadata": {},
   "source": [
    "A tudi tako je dela še vedno preveč. Zato se bomo prihodnji teden naučili več načinov za učinkovitejše reševanje te naloge. :)"
   ]
  }
 ],
 "metadata": {
  "kernelspec": {
   "display_name": "Python 3 (ipykernel)",
   "language": "python",
   "name": "python3"
  },
  "language_info": {
   "codemirror_mode": {
    "name": "ipython",
    "version": 3
   },
   "file_extension": ".py",
   "mimetype": "text/x-python",
   "name": "python",
   "nbconvert_exporter": "python",
   "pygments_lexer": "ipython3",
   "version": "3.12.7"
  }
 },
 "nbformat": 4,
 "nbformat_minor": 5
}
