{
 "cells": [
  {
   "attachments": {},
   "cell_type": "markdown",
   "id": "b2a3eac3",
   "metadata": {},
   "source": [
    "Celo predavanje - kar ga je ostalo po uvodu o pravilih predmeta ipd. - smo se hecali z eno samo nalogo s kolokvija. Tole:\n",
    "\n",
    "> Kot koordinator škratje knjižnice ste zadolženi za spremljanje in analiziranje obiska. V seznamu beležite dnevne obiske, pri čemer vsaka vrednost pomeni koliko učencev je obiskalo knjižnico v tistem dnevu. \n",
    "Napišite funkcijo analiza_obiska(obisk), ki za tak seznam poišče tri zaporedne dni, ko je bil obisk knjižnice največji in jih vrne kot rezultat. Če je takih trojk več, naj vrne poljubno.\n",
    "\n",
    "> ```\n",
    ">>> analiza_obiska([90, 10, 20, 30, 80, 90, 0, 40, 30, 70])\n",
    "[30, 80, 90]\n",
    ">>> analiza_obiska([10, 50, 30, 90, 50, 20, 30, 40, 80])\n",
    "[50, 30, 90]\n",
    "```"
   ]
  },
  {
   "cell_type": "markdown",
   "id": "b4784bc8",
   "metadata": {},
   "source": [
    "Da jo bomo lahko klicali iz beležnice, si pripravimo podatke."
   ]
  },
  {
   "cell_type": "code",
   "execution_count": 1,
   "id": "83502405",
   "metadata": {},
   "outputs": [],
   "source": [
    "s = [90, 10, 20, 30, 80, 90, 0, 40, 30, 70]"
   ]
  },
  {
   "cell_type": "markdown",
   "id": "0ad92685",
   "metadata": {},
   "source": [
    "## Rešitve z `zip`-om\n",
    "\n",
    "Večina študentov je to reševala z `zip`. Lepo. Sestavljamo torej trojke in če je vsota določene trojke večja od vsote največje, si jo zapomnimo."
   ]
  },
  {
   "cell_type": "code",
   "execution_count": 2,
   "id": "1a86797f",
   "metadata": {},
   "outputs": [],
   "source": [
    "def analiza_obiska(obisk):\n",
    "    naj_vsota = 0\n",
    "    naj_trojka = None\n",
    "    for x, y, z in zip(obisk, obisk[1:], obisk[2:]):\n",
    "        vsota = x + y + z\n",
    "        if vsota > naj_vsota:\n",
    "            naj_vsota = vsota\n",
    "            naj_trojka = [x, y, z]\n",
    "    return naj_trojka"
   ]
  },
  {
   "cell_type": "code",
   "execution_count": 3,
   "id": "10b3e9f1",
   "metadata": {},
   "outputs": [
    {
     "data": {
      "text/plain": [
       "[30, 80, 90]"
      ]
     },
     "execution_count": 3,
     "metadata": {},
     "output_type": "execute_result"
    }
   ],
   "source": [
    "analiza_obiska(s)"
   ]
  },
  {
   "cell_type": "markdown",
   "id": "fef215c0",
   "metadata": {},
   "source": [
    "Lahko si zapomnimo tudi le trojko, vsoto pa računamo kar vsakič posebej."
   ]
  },
  {
   "cell_type": "code",
   "execution_count": 4,
   "id": "16acf864",
   "metadata": {},
   "outputs": [],
   "source": [
    "def analiza_obiska(obisk):\n",
    "    naj_trojka = [0, 0, 0]\n",
    "    for x, y, z in zip(obisk, obisk[1:], obisk[2:]):\n",
    "        vsota = x + y + z\n",
    "        if vsota > sum(naj_trojka):\n",
    "            naj_trojka = [x, y, z]\n",
    "    return naj_trojka"
   ]
  },
  {
   "cell_type": "code",
   "execution_count": 5,
   "id": "6b7d28dd",
   "metadata": {},
   "outputs": [
    {
     "data": {
      "text/plain": [
       "[30, 80, 90]"
      ]
     },
     "execution_count": 5,
     "metadata": {},
     "output_type": "execute_result"
    }
   ],
   "source": [
    "analiza_obiska(s)"
   ]
  },
  {
   "cell_type": "markdown",
   "id": "e22f0fe4",
   "metadata": {},
   "source": [
    "Potem se lahko spomnimo, da `zip` pravzaprav vrača terke, te pa se da - tako kot sezname - seštevati."
   ]
  },
  {
   "cell_type": "code",
   "execution_count": 6,
   "id": "1804db38",
   "metadata": {},
   "outputs": [],
   "source": [
    "def analiza_obiska(obisk):\n",
    "    naj_trojka = [0, 0, 0]\n",
    "    for trojka in zip(obisk, obisk[1:], obisk[2:]):\n",
    "        if sum(trojka) > sum(naj_trojka):\n",
    "            naj_trojka = trojka\n",
    "    return naj_trojka"
   ]
  },
  {
   "cell_type": "code",
   "execution_count": 7,
   "id": "5dc4ac8a",
   "metadata": {},
   "outputs": [
    {
     "data": {
      "text/plain": [
       "(30, 80, 90)"
      ]
     },
     "execution_count": 7,
     "metadata": {},
     "output_type": "execute_result"
    }
   ],
   "source": [
    "analiza_obiska(s)"
   ]
  },
  {
   "cell_type": "markdown",
   "id": "dcc2d263",
   "metadata": {},
   "source": [
    "Skoraj. Naloga pravi, da mora funkcija vračati sezname, ta pa vrača terke.\n",
    "\n",
    "Vsi podatkovni tipi so hkrati tudi funkcije. (V resnici: podatkovne tipe je mogoče \"poklicati\", kot da bi bili funkcije, zato to - v ohlapnejšem smislu besede - tudi so.) Če pokličemo podatkovni tip, dobimo objekt tega tipa - če pokličemo `int`, dobimo `int` in če pokličemo `str` dobimo `str`. Ob klicu lahko podamo (včasih pa celo moramo podati, odvisno od tipa) primerne argumente. Primeren argument za `int` je kako število ali pa niz, ki ga lahko pretvorimo v število. Primeren argument za `str` je karkoli; vrača pač neko tekstovno predstavitev tega, kar dobi kot argument.\n",
    "\n",
    "Tudi `list` (in `tuple`) je mogoče poklicati, primeren argument zanju pa je nekaj, čez kar je možno iti z zanko `for`. (Spet smo malo šlampasti glede terminologije, vendar si težko privoščimo vedno imenovati stvari z njihovim pravim imenom.) Rezultat bo seznam (ali terka), ki bo vseboval vse elemente, ki jih vsebuje argument."
   ]
  },
  {
   "cell_type": "code",
   "execution_count": 8,
   "id": "21853718",
   "metadata": {},
   "outputs": [
    {
     "data": {
      "text/plain": [
       "['B', 'e', 'n', 'j', 'a', 'm', 'i', 'n']"
      ]
     },
     "execution_count": 8,
     "metadata": {},
     "output_type": "execute_result"
    }
   ],
   "source": [
    "list(\"Benjamin\")"
   ]
  },
  {
   "cell_type": "code",
   "execution_count": 9,
   "id": "e5cbf974",
   "metadata": {},
   "outputs": [
    {
     "data": {
      "text/plain": [
       "[0, 1, 2, 3, 4]"
      ]
     },
     "execution_count": 9,
     "metadata": {},
     "output_type": "execute_result"
    }
   ],
   "source": [
    "list(range(5))"
   ]
  },
  {
   "cell_type": "code",
   "execution_count": 10,
   "id": "92c42449",
   "metadata": {},
   "outputs": [
    {
     "data": {
      "text/plain": [
       "[1, 2, 3]"
      ]
     },
     "execution_count": 10,
     "metadata": {},
     "output_type": "execute_result"
    }
   ],
   "source": [
    "list((1, 2, 3))"
   ]
  },
  {
   "cell_type": "markdown",
   "id": "eb0ef054",
   "metadata": {},
   "source": [
    "V zadnjem primeru smo `list`-u kot argument podali terko in vrnil je seznam vseh njenih elementov. Prav to potrebujemo v gornji funkciji."
   ]
  },
  {
   "cell_type": "code",
   "execution_count": 11,
   "id": "201fa3f3",
   "metadata": {},
   "outputs": [],
   "source": [
    "def analiza_obiska(obisk):\n",
    "    naj_trojka = [0, 0, 0]\n",
    "    for trojka in zip(obisk, obisk[1:], obisk[2:]):\n",
    "        if sum(trojka) > sum(naj_trojka):\n",
    "            naj_trojka = trojka\n",
    "    return list(naj_trojka)"
   ]
  },
  {
   "cell_type": "code",
   "execution_count": 12,
   "id": "170753b5",
   "metadata": {},
   "outputs": [
    {
     "data": {
      "text/plain": [
       "[30, 80, 90]"
      ]
     },
     "execution_count": 12,
     "metadata": {},
     "output_type": "execute_result"
    }
   ],
   "source": [
    "analiza_obiska(s)"
   ]
  },
  {
   "cell_type": "markdown",
   "id": "4e91acd5",
   "metadata": {},
   "source": [
    "## Maks je car\n",
    "\n",
    "Vzemimo `zip(s, s[1:], s[2:]`). Vrne seznam trojk. Iščemo \"maksimalno\". Kaj, če bi poklicali kar `max`?"
   ]
  },
  {
   "cell_type": "code",
   "execution_count": 13,
   "id": "8b7729f7",
   "metadata": {},
   "outputs": [
    {
     "data": {
      "text/plain": [
       "(90, 10, 20)"
      ]
     },
     "execution_count": 13,
     "metadata": {},
     "output_type": "execute_result"
    }
   ],
   "source": [
    "max(zip(s, s[1:], s[2:]))"
   ]
  },
  {
   "cell_type": "markdown",
   "id": "cf681eb0",
   "metadata": {},
   "source": [
    "Vrnil je trojko, vendar ni maksimalna - vsota te je 120, vsota `[30, 80, 90]` pa `200`. Kaj se gre?!\n",
    "\n",
    "Funkcije, kot so `max`, `min` in `sorted` primerjajo argumente tako, kot jih pač primerja Python. Nize, recimo, primerja tako, kot je treba: najprej prvo črko, če sta enaki, pa drugo in tako naprej."
   ]
  },
  {
   "cell_type": "code",
   "execution_count": 14,
   "id": "75980ce8",
   "metadata": {},
   "outputs": [
    {
     "data": {
      "text/plain": [
       "True"
      ]
     },
     "execution_count": 14,
     "metadata": {},
     "output_type": "execute_result"
    }
   ],
   "source": [
    "\"cilka\" > \"benjamin\""
   ]
  },
  {
   "cell_type": "markdown",
   "id": "6a43d65c",
   "metadata": {},
   "source": [
    "Cilka je večja od Benjamina, ker je za njim po abecedi.\n",
    "\n",
    "Enako primerja terke."
   ]
  },
  {
   "cell_type": "code",
   "execution_count": 15,
   "id": "e22e659c",
   "metadata": {},
   "outputs": [
    {
     "data": {
      "text/plain": [
       "False"
      ]
     },
     "execution_count": 15,
     "metadata": {},
     "output_type": "execute_result"
    }
   ],
   "source": [
    "(30, 80, 90) > (90, 10, 20)"
   ]
  },
  {
   "cell_type": "markdown",
   "id": "c117477c",
   "metadata": {},
   "source": [
    "`(30, 80, 90)` ni večja od `(90, 10, 20)`: primerjanje se je končalo že pri prvem elementu, saj je 30 manj kot 90.\n",
    "\n",
    "Ga lahko prepričamo, naj jih primerja po kakem drugem ključu?\n",
    "\n",
    "Funkciji `max` (in funkcijam `min` in `sorted` tudi) lahko podamo argument `key`. Rezultat mora biti funkcija; `max` bo za vsak element poklical podano funkcijo in jih primerjal glede na to, kaj vrača ta funkcija."
   ]
  },
  {
   "cell_type": "code",
   "execution_count": 16,
   "id": "9f895085",
   "metadata": {},
   "outputs": [],
   "source": [
    "imena = [\"ana\", \"benjamin\", \"cilka\", \"dani\", \"ema\", \"fanči\"]"
   ]
  },
  {
   "cell_type": "code",
   "execution_count": 17,
   "id": "1175acca",
   "metadata": {},
   "outputs": [
    {
     "data": {
      "text/plain": [
       "'fanči'"
      ]
     },
     "execution_count": 17,
     "metadata": {},
     "output_type": "execute_result"
    }
   ],
   "source": [
    "max(imena)"
   ]
  },
  {
   "cell_type": "code",
   "execution_count": 18,
   "id": "cca0f849",
   "metadata": {},
   "outputs": [
    {
     "data": {
      "text/plain": [
       "'benjamin'"
      ]
     },
     "execution_count": 18,
     "metadata": {},
     "output_type": "execute_result"
    }
   ],
   "source": [
    "max(imena, key=len)"
   ]
  },
  {
   "cell_type": "code",
   "execution_count": 19,
   "id": "3336e02c",
   "metadata": {},
   "outputs": [],
   "source": [
    "def stevilo_ajev(s):\n",
    "    return s.count(\"a\")"
   ]
  },
  {
   "cell_type": "code",
   "execution_count": 20,
   "id": "7cee3fff",
   "metadata": {},
   "outputs": [
    {
     "data": {
      "text/plain": [
       "'ana'"
      ]
     },
     "execution_count": 20,
     "metadata": {},
     "output_type": "execute_result"
    }
   ],
   "source": [
    "max(imena, key=stevilo_ajev)"
   ]
  },
  {
   "cell_type": "markdown",
   "id": "c17ff151",
   "metadata": {},
   "source": [
    "Če Maksu podamo ključ `len`, bo nize primerjal po dolžini, če `stevilo_ajev` pa po številu a-jev.\n",
    "\n",
    "Če mora primerjati trojke, pa mu lahko podamo `sum` in vrnil bo tisto, za katero `sum` vrne največjo vrednost."
   ]
  },
  {
   "cell_type": "code",
   "execution_count": 21,
   "id": "949bb363",
   "metadata": {},
   "outputs": [
    {
     "data": {
      "text/plain": [
       "(30, 80, 90)"
      ]
     },
     "execution_count": 21,
     "metadata": {},
     "output_type": "execute_result"
    }
   ],
   "source": [
    "max(zip(s, s[1:], s[2:]), key=sum)"
   ]
  },
  {
   "cell_type": "markdown",
   "id": "8a8cab90",
   "metadata": {},
   "source": [
    "Trojke bi lahko, mimogrede, tudi uredili po vsotah."
   ]
  },
  {
   "cell_type": "code",
   "execution_count": 22,
   "id": "007bee5d",
   "metadata": {},
   "outputs": [
    {
     "data": {
      "text/plain": [
       "[(10, 20, 30),\n",
       " (0, 40, 30),\n",
       " (90, 10, 20),\n",
       " (20, 30, 80),\n",
       " (90, 0, 40),\n",
       " (40, 30, 70),\n",
       " (80, 90, 0),\n",
       " (30, 80, 90)]"
      ]
     },
     "execution_count": 22,
     "metadata": {},
     "output_type": "execute_result"
    }
   ],
   "source": [
    "sorted(zip(s, s[1:], s[2:]), key=sum)"
   ]
  },
  {
   "cell_type": "markdown",
   "id": "61199a58",
   "metadata": {},
   "source": [
    "Da spišemo zahtevano funckijo, moramo rezultat klica `max` le še pretvoriti v seznam."
   ]
  },
  {
   "cell_type": "code",
   "execution_count": 23,
   "id": "0684ec89",
   "metadata": {},
   "outputs": [],
   "source": [
    "def analiza_obiska(obiski):\n",
    "    return list(max(zip(obiski, obiski[1:], obiski[2:]), key=sum))"
   ]
  },
  {
   "cell_type": "code",
   "execution_count": 24,
   "id": "2695ebff",
   "metadata": {},
   "outputs": [
    {
     "data": {
      "text/plain": [
       "[30, 80, 90]"
      ]
     },
     "execution_count": 24,
     "metadata": {},
     "output_type": "execute_result"
    }
   ],
   "source": [
    "analiza_obiska(s)"
   ]
  },
  {
   "cell_type": "markdown",
   "id": "fa92a756",
   "metadata": {},
   "source": [
    "## Z indeksi\n",
    "\n",
    "Bolj kot rešitev z `zip`-om bi od študentov pričakoval, da se bodo naloge lotili z indeksi. Vsaj na FRI bi se je. Takšna rešitev je v bistvu slabša. Vseeno jo pokažimo, saj bomo morda kaj podobnega potrebovali kdaj drugič. Poleg tega pa nas bo vodila k zanimivi in - vsaj v teoriji - hitrejši rešitvi."
   ]
  },
  {
   "cell_type": "code",
   "execution_count": 25,
   "id": "15dd4f00",
   "metadata": {},
   "outputs": [],
   "source": [
    "def analiza_obiski(obiski):\n",
    "    naj_vsota = 0\n",
    "    naj_trojka = None\n",
    "    for i in range(len(obiski) - 2):\n",
    "        trojka = obiski[i:i + 3]\n",
    "        vsota = sum(trojka)\n",
    "        if vsota > naj_vsota:\n",
    "            naj_vsota = vsota\n",
    "            naj_trojka = t\n",
    "    return naj_trojka"
   ]
  },
  {
   "cell_type": "code",
   "execution_count": 26,
   "id": "34c824be",
   "metadata": {},
   "outputs": [
    {
     "data": {
      "text/plain": [
       "[30, 80, 90]"
      ]
     },
     "execution_count": 26,
     "metadata": {},
     "output_type": "execute_result"
    }
   ],
   "source": [
    "analiza_obiska(s)"
   ]
  },
  {
   "cell_type": "markdown",
   "id": "6d888c8e",
   "metadata": {},
   "source": [
    "Ideja je preprosta: poskusimo vse možne indekse prvih elementov trojke, `i`; naslednja dva elementa imata indeksa `i + 1` in `i + 2`.\n",
    "\n",
    "Ideja je tudi poučna: do kod je treba spustiti zanko? Zadnji element ima indeks `len(obiski) - 1` (ker začenjamo šteti z `0`. Torej more biti `i` največ `len(obiski) - 3`: takrat bo element `i + 2` ravno `len(obiski) - 3 + 2 = len(obiski) - 1`. Če torej hočemo, da je največji `i` enak `len(obiski) - 3`, potrebujemo `range(len(obiski) - 2)`, saj se `range(n)` ustavi pri `n - 1`.\n",
    "\n",
    "Za vse primerne `n` torej pogledamo trojko `obiski[i: i + 3]` - kar so, vemo, ravno trije elementi, ker tudi rezine delajo podobno kot `range` in izpustijo zadnji element. Nadaljevanje poznamo.\n",
    "\n",
    "Namesto trojke si lahko v zanki zapomnimo tudi le indeks začetka trojke."
   ]
  },
  {
   "cell_type": "code",
   "execution_count": 27,
   "id": "5e7a9440",
   "metadata": {},
   "outputs": [],
   "source": [
    "def analiza_obiski(obiski):\n",
    "    naj_vsota = 0\n",
    "    naj_i = None\n",
    "    for i in range(len(obiski) - 2):\n",
    "        vsota = sum(obiski[i: i + 3])\n",
    "        if vsota > naj_vsota:\n",
    "            naj_vsota = vsota\n",
    "            naj_i = i\n",
    "    return obiski[naj_i: naj_i + 3]"
   ]
  },
  {
   "cell_type": "code",
   "execution_count": 28,
   "id": "368d1240",
   "metadata": {},
   "outputs": [
    {
     "data": {
      "text/plain": [
       "[30, 80, 90]"
      ]
     },
     "execution_count": 28,
     "metadata": {},
     "output_type": "execute_result"
    }
   ],
   "source": [
    "analiza_obiska(s)"
   ]
  },
  {
   "cell_type": "markdown",
   "id": "b0b3d2bd",
   "metadata": {},
   "source": [
    "## Z drsečim oknom\n",
    "\n",
    "Kolikšna je razlika med vsoto prve trojk (`obiski[0] + obiski[1] + obiski[2]`) in vsoto druge ((`obiski[1] + obiski[2] + obiski[3]`)? Razlikujeta se le v prvem elementu prve in zadnjem druge. Druga vsota je od prve večja za `obiski[3] - obiski[0]`. Ta razlika je seveda lahko negativna in v tem primeru je druga vsota seveda manjša (večja za negativno vrednost) od prve.\n",
    "\n",
    "To seveda drži v splošnem. Če poznamo vsoto trojke, ki se začne z indeksom `i - 1`, lahko vsoto trojke, ki se začne na `i` izračunamo tako, da k prejšnji vsoti prištejemo `obiski[i + 3] - obiski[i]`. Od vsote vsakič prištejemo element, ki ga prej ni bilo, in odštejemo tistega, ki ga zdaj ni več.\n",
    "\n",
    "V zadnji rešitvi zgoraj smo v vsakem koraku zanke izračunali novo vsoto. Zdaj vemo, da to ni potrebno: novo vsoto lahko izračunamo iz prejšnje."
   ]
  },
  {
   "cell_type": "code",
   "execution_count": 29,
   "id": "9f05035f",
   "metadata": {},
   "outputs": [],
   "source": [
    "def analiza_obiski(obiski):\n",
    "    naj_vsota = vsota = obiski[:3]\n",
    "    naj_i = 0\n",
    "    for i in range(1, len(obiski) - 2):\n",
    "        vsota += obiski[i + 2] - obiski[i - 1]\n",
    "        if vsota > naj_vsota:\n",
    "            naj_vsota = vsota\n",
    "            naj_i = i\n",
    "    return obiski[naj_i: naj_i + 3]"
   ]
  },
  {
   "cell_type": "code",
   "execution_count": 30,
   "id": "da2c0d4c",
   "metadata": {},
   "outputs": [
    {
     "data": {
      "text/plain": [
       "[30, 80, 90]"
      ]
     },
     "execution_count": 30,
     "metadata": {},
     "output_type": "execute_result"
    }
   ],
   "source": [
    "analiza_obiska(s)"
   ]
  },
  {
   "cell_type": "markdown",
   "id": "4ba0cc20",
   "metadata": {},
   "source": [
    "Ta rešitev je silno podobna prejšnji. Je boljša, hitrejša? Ni. Zaresni programer v Pythonu bi gotovo napisal ono enovrstično. Stvar se spremeni, če nas ne zanima največji obisk v treh zaporednih dneh temveč v, recimo, stotih. V tem primeru bo zadnja rešitev bistveno hitrejša (v Pythonu iz nekoliko globljih razlogov ne nujno, v kakem drugem jeziku pa gotovo), saj ne bo v vsakem koraku zanke seštevala stotih števil, temveč v vsakem koraku potrebuje le eno odštevanje in eno seštevanje."
   ]
  }
 ],
 "metadata": {
  "kernelspec": {
   "display_name": "Python 3 (ipykernel)",
   "language": "python",
   "name": "python3"
  },
  "language_info": {
   "codemirror_mode": {
    "name": "ipython",
    "version": 3
   },
   "file_extension": ".py",
   "mimetype": "text/x-python",
   "name": "python",
   "nbconvert_exporter": "python",
   "pygments_lexer": "ipython3",
   "version": "3.11.5"
  }
 },
 "nbformat": 4,
 "nbformat_minor": 5
}
