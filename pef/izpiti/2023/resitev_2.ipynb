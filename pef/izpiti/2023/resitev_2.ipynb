{
 "cells": [
  {
   "attachments": {},
   "cell_type": "markdown",
   "id": "743bc2c4",
   "metadata": {},
   "source": [
    "# 1. Enkratni\n",
    "\n",
    "Napiši funkcijo `enkratni(s)`, ki dobi neprazen seznam seznamov števil. Števila znotraj posamičnega seznama se ne ponavljajo. Funkcija vrne seznam, ki vsebuje največ števil, ki jih ne vsebuje noben drug seznam. Če je takšnih seznamov več, vrne prvega med njimi.\n",
    "\n",
    "Klic `enkratni([[1, 2, 3], [4, 1, 5], [2, 8], [3, 1, 2, 8]])` vrne `[4, 1, 5]`, saj ta seznam vsebuje dve števili (`4` in `5`), ki jih ne vsebuje noben drug seznam.\n",
    "\n",
    "## Rešitev\n",
    "\n",
    "Tole je naloga iz slovarjev ali iz množic. Ali brez; v tem primeru je to naloga iz zoprnega gnezdenja zank in pogojev.\n",
    "\n",
    "### Štetje s slovarji\n",
    "\n",
    "Nalogo lahko rešimo tako, da za vsako število preštejemo, kolikokrat se pojavi. Nato gremo čez vse sezname in za vsak seznam preštejemo, koliko število v njem se je - prek vseh seznamov - pojavilo le enkrat, torej le v njem. Vrnemo seznam z največ takšnimi števili."
   ]
  },
  {
   "cell_type": "code",
   "execution_count": 1,
   "id": "56583416",
   "metadata": {},
   "outputs": [],
   "source": [
    "from collections import defaultdict\n",
    "\n",
    "def enkratni(ss):\n",
    "    # Preštejemo, kolikokrat se pojavi katero število\n",
    "    pojavitev = defaultdict(int)\n",
    "    for s in ss:\n",
    "        for x in s:\n",
    "            pojavitev[x] += 1\n",
    "\n",
    "    naj_s = None\n",
    "    naj_uni = 0\n",
    "    for s in ss:\n",
    "        # Za vsak seznam preštejemo, koliko njegovih\n",
    "        # elementov se pojavi le enkrat (torej v njem)\n",
    "        uni = 0\n",
    "        for x in s:\n",
    "            if pojavitev[x] == 1:\n",
    "                uni += 1\n",
    "                \n",
    "        # In si zapomnimo seznam z največ takšnimi števili\n",
    "        if uni > naj_uni:\n",
    "            naj_uni = uni\n",
    "            naj_s = s\n",
    "    return naj_s"
   ]
  },
  {
   "cell_type": "markdown",
   "id": "a206831c",
   "metadata": {},
   "source": [
    "Za izpit je tole kar dolga funkcija. Spretnejši znajo hitreje prešteti, koliko elementov nekega seznama se pojavi le enkrat: `sum(pojavitev[x] == 1 for x in s)`. Še spretnejši poznajo lambde. Najspretnejši poznajo `chain` in vedo, kaj pomenijo zvezdice v seznamih argumentov. Zato nalogo rešijo takole:"
   ]
  },
  {
   "cell_type": "code",
   "execution_count": 2,
   "id": "46672be8",
   "metadata": {},
   "outputs": [],
   "source": [
    "from collections import Counter\n",
    "from itertools import chain\n",
    "\n",
    "def enkratni(ss):\n",
    "    pojavitev = Counter(chain(*ss))\n",
    "    return max(ss, key=lambda s: sum(pojavitev[x] == 1 for x in s))"
   ]
  },
  {
   "cell_type": "markdown",
   "id": "336b6f5d",
   "metadata": {},
   "source": [
    "### Razlike množic\n",
    "\n",
    "Očitnejša rešitev je, da jemljemo posamične sezname in iz njih brišemo vse elemenete, ki se pojavijo tudi v kakem drugem seznamu. Nekaj podobnega je naredila Zoja; skoraj ji je uspelo."
   ]
  },
  {
   "cell_type": "code",
   "execution_count": 3,
   "id": "97834b7e",
   "metadata": {},
   "outputs": [],
   "source": [
    "def enkratni(ss):\n",
    "    najboljsa = ss[0]\n",
    "    najvec = 0\n",
    "    for s in ss:\n",
    "        edinstveno = set(s)\n",
    "        for t in ss:\n",
    "            if t is not s:\n",
    "                edinstveno -= set(t)\n",
    "                \n",
    "        if len(edinstveno) > najvec:\n",
    "            najvec = len(edinstveno)\n",
    "            najboljsa = s\n",
    "            \n",
    "    return najboljsa"
   ]
  },
  {
   "cell_type": "markdown",
   "id": "08a42752",
   "metadata": {},
   "source": [
    "Drugi del je očiten; zanimivejši je prvi. Elemente `s` smo shranili prepisali v množico, da jih bomo lažje odstranjevali. Nato odštejemo od te množice elemente vseh množic, *ki niso `t`*.\n",
    "\n",
    "Pazite, ne pišemo `if t != s`, saj se lahko zgodi, da imamo dva enaka seznama in v tem primeru moramo odšteti (vse!) elemente. Ne `t`in `s` morata biti neista seznama.\n",
    "\n",
    "Zoja je pisala nekaj takšnega:\n",
    "\n",
    "```\n",
    "    for i in range(len(ss)):\n",
    "        for j in range(len(ss)):\n",
    "            if ss[i] != ss[j]:\n",
    "```\n",
    "\n",
    "Tudi to je narobe, saj preverja enakost. (Njen program je imel sicer še drug, malo hujši problem.) Pač pa bi bilo pravilno pisati \n",
    "\n",
    "```\n",
    "    for i in range(len(ss)):\n",
    "        for j in range(len(ss)):\n",
    "            if i != j:\n",
    "```\n",
    "\n",
    "Nekdo je poskušal nekaj podobnega tako, da je iskal pare seznamov, ki vsebujejo kak isti element in ga v tem primeru odstranil iz obeh seznamov, torej nekaj v slogu\n",
    "\n",
    "\n",
    "```\n",
    "    for s in ss:\n",
    "        for x in s:\n",
    "            for t in ss:\n",
    "                if x in t:\n",
    "                    s.remove(x)\n",
    "                    t.remove(x)\n",
    "```\n",
    "\n",
    "Predtem se je (pohvalno!) spomnila narediti kopijo seznamov. Rešitev ima dva problema. Prvi je, da se `x` lahko pojavi v več seznamih. V tem primeru bomo `s.remove(x)` poklicali večkrat in v drugem klicu se bo Python pritožil, da `s` ne vsebuje `x`. V izogib temu je študentka dodala še `break`, kar pa spet ni dobro, saj v primeru, da se `x` pojavi v treh seznamih, pobriše le njegovi pojavitvi v prvih dveh.\n",
    "\n",
    "Druga težava je, da znotraj zanke `for x in s` kličemo `s.remove(x)`. To ne deluje: ko pobrišemo element seznama, se ostali elementi pojavijo za eno mesto nižje, zanka pa nadaljuje z elementom na mestu, ki je sledil elementu `x` - in pri tem preskoči `x`-ovega naslednika, ki se je izmuznil na mesto, kjer je bil prej `x`."
   ]
  },
  {
   "cell_type": "markdown",
   "id": "4d3e9b43",
   "metadata": {},
   "source": [
    "### Telovadba z zankami\n",
    "\n",
    "Če nočemo vedeti ne za slovarje ne za množice, se bomo pretepali z zankami in pogoji. Takole."
   ]
  },
  {
   "cell_type": "code",
   "execution_count": 4,
   "id": "ad50b986",
   "metadata": {},
   "outputs": [],
   "source": [
    "def enkratni(ss):\n",
    "    naj_s = None\n",
    "    naj_uni = 0\n",
    "    for s in ss:  # Za vsak seznam\n",
    "        uni = 0\n",
    "        for x in s:  # Za vsako število iz tega seznama\n",
    "            for t in ss:  # gremo čez vse sezname,\n",
    "                # da poiščemo takšnega, ki vsebuje to število\n",
    "                if x in t and t is not s:\n",
    "                    break\n",
    "            else:\n",
    "                uni += 1\n",
    "                \n",
    "        if uni > naj_uni:\n",
    "            naj_uni = uni\n",
    "            naj_s = s\n",
    "            \n",
    "    return naj_s"
   ]
  },
  {
   "cell_type": "markdown",
   "id": "032d9f8d",
   "metadata": {},
   "source": [
    "Ključen je pogoj `if x in t and t is not s`, ki se sprašuje, ali nek `t` (ki ni `s`) vsebuje `x`. Če je tako, z `break` prekinemo zanko. Po zanki je `else`, ki se izvede, če zanka ni bila prekinjena z `break` - torej, če je element unikaten."
   ]
  },
  {
   "cell_type": "markdown",
   "id": "50e53768",
   "metadata": {},
   "source": [
    "Telovadbi z `break`-i in `else`-i se da pogosto izogniti s funkcijo `all` ali `any`. V tem primeru takole:"
   ]
  },
  {
   "cell_type": "code",
   "execution_count": 5,
   "id": "151026d1",
   "metadata": {},
   "outputs": [],
   "source": [
    "def enkratni(ss):\n",
    "    naj_s = None\n",
    "    naj_uni = 0\n",
    "    for s in ss:  # Za vsak seznam\n",
    "        uni = 0\n",
    "        for x in s:\n",
    "            if not any(x in t for t in ss if t is not s):\n",
    "                uni += 1\n",
    "        if uni > naj_uni:\n",
    "            naj_uni = uni\n",
    "            naj_s = s\n",
    "    return naj_s"
   ]
  },
  {
   "cell_type": "markdown",
   "id": "fa32e7d8",
   "metadata": {},
   "source": [
    "Potem nas loči le še korak od"
   ]
  },
  {
   "cell_type": "code",
   "execution_count": 6,
   "id": "570b1c5d",
   "metadata": {},
   "outputs": [],
   "source": [
    "def enkratni(ss):\n",
    "    naj_s = None\n",
    "    naj_uni = 0\n",
    "    for s in ss:\n",
    "        uni = sum(not any(x in t for t in ss if t is not s) for x in s)\n",
    "        if uni > naj_uni:\n",
    "            naj_uni = uni\n",
    "            naj_s = s\n",
    "    return naj_s"
   ]
  },
  {
   "cell_type": "markdown",
   "id": "897cfa78",
   "metadata": {},
   "source": [
    "Tu pa se ustavimo."
   ]
  },
  {
   "attachments": {},
   "cell_type": "markdown",
   "id": "8f7f934a",
   "metadata": {},
   "source": [
    "# 2. Vsota\n",
    "\n",
    "Napiši funkcijo `vsota(s)`, ki prejme seznam, katerega elementi so cela števila in seznami števil in seznamov. Primer takšnega argumenta je `[[1, 2], [[3, 4], 5, 113, [12]], [[[4]]], [-2, 1]]`. Funkcija vrne vsoto vseh števil; v tem primeru `143`.\n",
    "\n",
    "Če želimo preveriti, ali je `x` `int` (ali `list`), uporabimo `if isinstance(x, int)` (ali `isinstance(x, list)`).\n",
    "\n",
    "## Rešitev\n",
    "\n",
    "Rešitev klasične naloge iz rekurzije je"
   ]
  },
  {
   "cell_type": "code",
   "execution_count": 7,
   "id": "6703fa0d",
   "metadata": {},
   "outputs": [],
   "source": [
    "def vsota(s):\n",
    "    v = 0\n",
    "    for x in s:\n",
    "        if isinstance(x, int):\n",
    "            v += x\n",
    "        else:\n",
    "            v += vsota(x)\n",
    "    return v"
   ]
  },
  {
   "cell_type": "markdown",
   "id": "44c7b377",
   "metadata": {},
   "source": [
    "Ali, krajše,"
   ]
  },
  {
   "cell_type": "code",
   "execution_count": 8,
   "id": "7415dfb8",
   "metadata": {},
   "outputs": [],
   "source": [
    "def vsota(ss):\n",
    "    return sum(x if isinstance(x, int) else vsota(x) for x in ss)"
   ]
  },
  {
   "cell_type": "markdown",
   "id": "213aafbc",
   "metadata": {},
   "source": [
    "Rešitev, ki so se rekurziji izognile tako, da so ročno nagnezdile po pet zank, nisem upošteval kot pravilne."
   ]
  },
  {
   "attachments": {},
   "cell_type": "markdown",
   "id": "b27c636b",
   "metadata": {},
   "source": [
    "# 3. Imena\n",
    "\n",
    "Napiši funkcijo `imena(zelena, prepovedana)`, ki prejme seznam želenih imen in množico prepovedanih imen.\n",
    "Če nobeno od želenih imen ni prepovedano, funkcija vrne kar podani seznam zelena. Sicer pa vrne seznam imen, v katerem je vsakemu imenu dodan presledek in številka v oklepaju. Vsa imena imajo pripeto isto številko. Številka mora biti najnižje pozitivno celo število, pri katerem nobeno od tako dopolnjenih imen ni prepovedano.\n",
    "\n",
    "Če pokličemo `imena([\"ana\", \"berta\", \"cilka\"], {\"berta\", \"ana (4)\", \"berta (2)\", \"cilka (2)\", \"ana (1)\", \"dani (7)\"})`, funkcija vrne seznam `[\"ana (3)\", \"berta (3)\", \"cilka (3)\"]`. Številke ne more uporabiti, ker je prepovedano `ana (1)`, številke 2 pa, ker sta prepovedani `berta (2)` in `cilka (2)`.\n",
    "\n",
    "## Rešitev\n",
    "\n",
    "Nalogo z najmanj kompliciranja rešimo tako, da lepo po vrsti poskušamo možna števila."
   ]
  },
  {
   "cell_type": "code",
   "execution_count": 9,
   "id": "713c5cea",
   "metadata": {},
   "outputs": [],
   "source": [
    "def imena(zelena, prepovedana):\n",
    "    predlog = zelena\n",
    "    i = 0\n",
    "    while set(predlog) & prepovedana:\n",
    "        i += 1\n",
    "        predlog = [f\"{x} ({i})\" for x in zelena]\n",
    "    return predlog"
   ]
  },
  {
   "cell_type": "markdown",
   "id": "6ed831ec",
   "metadata": {},
   "source": [
    "Mimogrede povadimo množice in oblikovanje nizov. Šlo bi tudi brez, a z njimi je očitno lažje.\n",
    "\n",
    "Ne spreglejte, kako elegantno smo opravili s prvim pogojem, ki pravi, da v primeru, da nobeno ime ni prepovedano, vrnemo prvotni seznam. Funkcija sestavlja predloge; prvi predlog je začetni seznam in zanka teče, dokler ne sestavi sprejemljivega predloga."
   ]
  },
  {
   "attachments": {},
   "cell_type": "markdown",
   "id": "dd5ec991",
   "metadata": {},
   "source": [
    "# 4. Intervali\n",
    "\n",
    "Napiši funkcijo `intervali(s)`, ki prejme neprazen niz z opisom nekih intervalov, na primer `\"1-3, 5-9, 10-19, 21-21\"`. Intervali so ločeni z vejico in presledkom ter sestavljeni iz dveh celih števil, ločenih z minusom, pri čemer je gornja meja večja ali enaka spodnji.\n",
    "\n",
    "Funkcija mora vrniti niz, v katerem vsakemu intervalu sledita presledek in oklepaj, v katerem je zapisana širina intervala. Na koncu doda še `\" => \"` in nato vsoto dolžin vseh intervalov.\n",
    "\n",
    "Klic `intervali(\"1-3, 5-9, 10-19, 21-21\")` vrne `\"1-3 (2), 5-9 (4), 10-19 (9), 21-21 (0) => 15\"`.\n",
    "\n",
    "## Rešitev\n",
    "\n",
    "Naloga iz dela z nizi."
   ]
  },
  {
   "cell_type": "code",
   "execution_count": 10,
   "id": "b604ad58",
   "metadata": {},
   "outputs": [],
   "source": [
    "def intervali(opis):\n",
    "    novi = []\n",
    "    skupaj = 0\n",
    "    for x in opis.split(\", \"):\n",
    "        od, do = x.split(\"-\")\n",
    "        dolzina = int(do) - int(od)\n",
    "        skupaj += dolzina\n",
    "        novi.append(f\"{od}-{do} ({dolzina})\")\n",
    "    return \", \".join(novi) + f\" => {skupaj}\""
   ]
  },
  {
   "attachments": {},
   "cell_type": "markdown",
   "id": "d534d0e0",
   "metadata": {},
   "source": [
    "# 5. Unikado\n",
    "\n",
    "Unikado je podoben pikadu. Tekmovalci eden za drugim mečejo puščice v tarčo. Ko vsak vrže po eno puščico, mečejo naslednjo. Število krogov je nepomembno.\n",
    "\n",
    "Tarča je razdeljena na polja. Vsako polje na tarči prinaša določeno število točk; na tarči ni dveh polj z enakim številom točk. Tekmovalec ima toliko točk, kolikor je **vsota polj, v katera so zapičene njegove puščice**. Posebnost unikada pa je: **če tekmovalec zadane polje, v katerem je že od prej kakšna druga puščica, se ta, prejšnja puščica odstrani**. \n",
    "\n",
    "Napiši razred `Unikado` z naslednjimi metodami:\n",
    "\n",
    "- Konstruktor prejme število tekmovalcev.\n",
    "- Metodo `met(self, tocke)` pokličemo ob vsakem metu; argument pove število točk v polju, ki ga je zadel tekmovalec. Če je tekmovalec zgrešil tarčo (se zgodi), je tocke enak None.\n",
    "- Metoda `stanje(self)` vrne seznam, ki vsebuje toliko elementov, kolikor je tekmovalcev, pri čemer elementi predstavljajo število točk, ki jih ima tekmovalec.\n",
    "- Metoda `zmagovalec(self)` vrne zaporedno številko tekmovalca, ki ima največ točk. Tekmovalce štejemo od 1 naprej. Če si eden ali več tekmovalcev deli isto število točk, vrne None.\n",
    "\n",
    "## Rešitev\n",
    "\n",
    "Odebeljeni tisk je bil namig o tem, kaj mora hraniti razred in kaj se mora dogajati ob metih: razred mora vedeti, katera puščica tiči v polju s posamezno številko; ker številk ne poznamo vnaprej in ker ne gre nujno za zaporedna števila, bo za to najprikladnejše uporabiti slovar. Poleg tega bo moral razred, kot v zadnji domači nalogi, vedeti, koliko igralcev imamo in kdo je na vrsti.\n",
    "\n",
    "Ko se odločimo glede atributov, so metode preproste:\n",
    "- `met` določi novega \"lastnika\" polja (razen, če je takmovalec vrgel `None`) in poveča zaporedno številko tekmovalca.\n",
    "- `stanje` pripravi seznam s točkami, nato pa gre prek polj in prišteva točke (ključe slovarja) tekmovalcem (vrednostim).\n",
    "- `zmagovalec` pa na kakršenkoli že način poišče indeks elementa z največjo vrednostjo."
   ]
  },
  {
   "cell_type": "code",
   "execution_count": 11,
   "id": "0709ff8f",
   "metadata": {},
   "outputs": [],
   "source": [
    "class Unikado:\n",
    "    def __init__(self, tekmovalcev):\n",
    "        self.tekmovalcev = tekmovalcev\n",
    "        self.tekmovalec = 0\n",
    "        self.lastniki = {}\n",
    "        \n",
    "    def met(self, tocke):\n",
    "        if tocke is not None:\n",
    "            self.lastniki[tocke] = self.tekmovalec\n",
    "        self.tekmovalec = (self.tekmovalec + 1) % self.tekmovalcev\n",
    "\n",
    "    def stanje(self):\n",
    "        tockovalnik = [0] * self.tekmovalcev\n",
    "        for tocke, lastnik in self.lastniki.items():\n",
    "            tockovalnik[lastnik] += tocke\n",
    "        return tockovalnik\n",
    "\n",
    "    def zmagovalec(self):\n",
    "        s = self.stanje()\n",
    "        naj = max(s)\n",
    "        if s.count(naj) > 1:\n",
    "            return None\n",
    "        return s.index(max(s)) + 1"
   ]
  }
 ],
 "metadata": {
  "kernelspec": {
   "display_name": "Python 3 (ipykernel)",
   "language": "python",
   "name": "python3"
  },
  "language_info": {
   "codemirror_mode": {
    "name": "ipython",
    "version": 3
   },
   "file_extension": ".py",
   "mimetype": "text/x-python",
   "name": "python",
   "nbconvert_exporter": "python",
   "pygments_lexer": "ipython3",
   "version": "3.11.5"
  }
 },
 "nbformat": 4,
 "nbformat_minor": 5
}
