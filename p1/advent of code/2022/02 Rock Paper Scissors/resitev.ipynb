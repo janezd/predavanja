{
 "cells": [
  {
   "cell_type": "markdown",
   "id": "d2e59049",
   "metadata": {},
   "source": [
    "# Day 2: Rock, Paper, Scissors\n",
    "\n",
    "([izvirna naloga](https://adventofcode.com/2022/day/2))\n",
    "\n",
    "V datoteki so navodila za poteze v igri papir, škarje, kamen. Nasprotnikove poteze so A=kamen, B=papir, C=škarje, naše pa X=kamen, Y=papir, Z=škarje. Vsaka vrstica datoteke je ena poteza, npr. `\"A Z\"` ali `\"C Y\"`.\n",
    "\n",
    "V vsaki igri dobimo točke glede na to, kaj smo pokazali in kakšen je bil rezultat. Če pokažemo kamen, avtomatsko dobimo eno točko, če papir dve, če škarje 3. Poleg tega pa dobimo 0 točk za poraz, 3 za izenačenje, 6 za zmago.\n",
    "\n",
    "### Sestavljanje slovarja\n",
    "\n",
    "Lahko si sestavimo slovar, v katerem piše, koliko točk je vredno kaj. Če si vsi ključi slovarja takšne oblike kot veljavna imena v Pythonu, nam ni potrebno pisati"
   ]
  },
  {
   "cell_type": "code",
   "execution_count": 1,
   "id": "5562aaa4",
   "metadata": {},
   "outputs": [
    {
     "data": {
      "text/plain": [
       "{'X': 1, 'Y': 2, 'Z': 3}"
      ]
     },
     "execution_count": 1,
     "metadata": {},
     "output_type": "execute_result"
    }
   ],
   "source": [
    "{\"X\": 1, \"Y\": 2, \"Z\": 3}"
   ]
  },
  {
   "cell_type": "markdown",
   "id": "35bd25fa",
   "metadata": {},
   "source": [
    "temveč si lahko olajšamo tipkanje tako, da pokličemo `dict` z argumenti, katerih imena so ključi, vrednosti pa pač vrednosti."
   ]
  },
  {
   "cell_type": "code",
   "execution_count": 2,
   "id": "39807f5b",
   "metadata": {},
   "outputs": [
    {
     "data": {
      "text/plain": [
       "{'X': 1, 'Y': 2, 'Z': 3}"
      ]
     },
     "execution_count": 2,
     "metadata": {},
     "output_type": "execute_result"
    }
   ],
   "source": [
    "dict(X=1, Y=2, Z=3)"
   ]
  },
  {
   "cell_type": "markdown",
   "id": "49d29158",
   "metadata": {},
   "source": [
    "V drugi slovar bi lahko zapisali, koliko točk dobimo zato, ker smo z določeno kombinacijo zmagali oz. zgubili oz. nič od tega."
   ]
  },
  {
   "cell_type": "code",
   "execution_count": 3,
   "id": "4ddbca9f",
   "metadata": {},
   "outputs": [
    {
     "data": {
      "text/plain": [
       "{'AX': 3,\n",
       " 'AY': 6,\n",
       " 'AZ': 0,\n",
       " 'BX': 0,\n",
       " 'BY': 3,\n",
       " 'BZ': 6,\n",
       " 'CX': 6,\n",
       " 'CY': 0,\n",
       " 'CZ': 3}"
      ]
     },
     "execution_count": 3,
     "metadata": {},
     "output_type": "execute_result"
    }
   ],
   "source": [
    "dict(AX=3, AY=6, AZ=0, BX=0, BY=3, BZ=6, CX=6, CY=0, CZ=3)"
   ]
  },
  {
   "cell_type": "markdown",
   "id": "0459ee30",
   "metadata": {},
   "source": [
    "Še preprosteje bo, če naredimo kar skupni slovar, ki bo vključeval točke za posamično kombinacijo. Če igramo AX, dobimo 3 točke za izenačenje in še eno, ker smo pokazali X. Torej v igri AX dobimo, skupno, štiri točke.\n",
    "\n",
    "Imamo torej:"
   ]
  },
  {
   "cell_type": "code",
   "execution_count": 4,
   "id": "5cc0a09c",
   "metadata": {},
   "outputs": [],
   "source": [
    "points = dict(AX=4, AY=8, AZ=3, BX=1, BY=5, BZ=9, CX=7, CY=2, CZ=6)"
   ]
  },
  {
   "cell_type": "markdown",
   "id": "968d17b0",
   "metadata": {},
   "source": [
    "## Preprosta rešitev\n",
    "\n",
    "Gremo čez datoteko, vsako vrstico spremenimo v ključ (odstranimo presledek med znakoma in `\\n` na koncu vrstice) ter k vsoti prištejemo, kolikor dobimo za to kombinacijo."
   ]
  },
  {
   "cell_type": "code",
   "execution_count": 5,
   "id": "a7061a43",
   "metadata": {},
   "outputs": [
    {
     "name": "stdout",
     "output_type": "stream",
     "text": [
      "14264\n"
     ]
    }
   ],
   "source": [
    "vsota = 0\n",
    "for vrstica in open(\"input.txt\"):\n",
    "    vsota += points[vrstica.strip().replace(\" \", \"\")]\n",
    "print(vsota)"
   ]
  },
  {
   "cell_type": "markdown",
   "id": "6dac222b",
   "metadata": {},
   "source": [
    "## Rešitev z generatorji\n",
    "\n",
    "Po izkušnjah iz prejšnjih let bo prvih nekaj nalog takšnih, da jih bomo zlahka odpravili z eno samo vrstico.\n",
    "\n",
    "Kaj je potrebno narediti z gornjih programom, je očitno."
   ]
  },
  {
   "cell_type": "code",
   "execution_count": 6,
   "id": "6ebf06f9",
   "metadata": {},
   "outputs": [
    {
     "name": "stdout",
     "output_type": "stream",
     "text": [
      "14264\n"
     ]
    }
   ],
   "source": [
    "print(sum(points[line.strip().replace(\" \", \"\")] for line in open(\"input.txt\")))"
   ]
  },
  {
   "cell_type": "markdown",
   "id": "7b1be445",
   "metadata": {},
   "source": [
    "## Drugi del\n",
    "\n",
    "X, Y in Z ne predstavljajo več naše poteze temveč navodilo, ali moramo zmagati ali izgubiti. Isti šmorn, le število točk je drugačno.\n",
    "\n",
    "Spremenimo slovar v"
   ]
  },
  {
   "cell_type": "code",
   "execution_count": 7,
   "id": "7ed4af78",
   "metadata": {},
   "outputs": [],
   "source": [
    "points = dict(AX=3, AY=4, AZ=8, BX=1, BY=5, BZ=9, CX=2, CY=6, CZ=7)"
   ]
  },
  {
   "cell_type": "markdown",
   "id": "42d62572",
   "metadata": {},
   "source": [
    "in ponovno poženemo isti program kot za prvi del."
   ]
  },
  {
   "cell_type": "code",
   "execution_count": 9,
   "id": "10d40f54",
   "metadata": {},
   "outputs": [
    {
     "name": "stdout",
     "output_type": "stream",
     "text": [
      "12382\n"
     ]
    }
   ],
   "source": [
    "print(sum(points[line.strip().replace(\" \", \"\")] for line in open(\"input.txt\")))"
   ]
  },
  {
   "cell_type": "markdown",
   "id": "5f1249bb",
   "metadata": {},
   "source": [
    "## Oba dela\n",
    "\n",
    "Če hočemo rešiti oba dela v eni vrstici, naredimo zanko čez dva slovarja"
   ]
  },
  {
   "cell_type": "code",
   "execution_count": 10,
   "id": "eee45593",
   "metadata": {},
   "outputs": [
    {
     "name": "stdout",
     "output_type": "stream",
     "text": [
      "[14264, 12382]\n"
     ]
    }
   ],
   "source": [
    "print([\n",
    "    sum(points[line.strip().replace(\" \", \"\")] for line in open(\"input.txt\"))\n",
    "    for points in (dict(AX=4, AY=8, AZ=3, BX=1, BY=5, BZ=9, CX=7, CY=2, CZ=6),\n",
    "                   dict(AX=3, AY=4, AZ=8, BX=1, BY=5, BZ=9, CX=2, CY=6, CZ=7)\n",
    "    )\n",
    "])"
   ]
  },
  {
   "cell_type": "markdown",
   "id": "68f343ed",
   "metadata": {},
   "source": [
    "## Kotlin\n",
    "\n",
    "Čeprav se da v Kotlinu programirati tudi \"normalno\" (no, tako, iterativno), je bolj zabavno delati s funkcijskim pridihom. Rešitev obeh delov te naloge je takšna.\n",
    "\n",
    "```kotlin\n",
    "import java.io.File\n",
    "\n",
    "listOf(\n",
    "\tmapOf(\"AX\" to 4, \"AY\" to 8, \"AZ\" to 3, \"BX\" to 1, \"BY\" to 5, \"BZ\" to 9, \"CX\" to 7, \"CY\" to 2, \"CZ\"  to 6),\n",
    "\tmapOf(\"AX\" to 3, \"AY\" to 4, \"AZ\" to 8, \"BX\" to 1, \"BY\" to 5, \"BZ\" to 9, \"CX\" to 2, \"CY\" to 6, \"CZ\"  to 7)\n",
    ").forEach { points ->\n",
    "    println (\n",
    "\tFile(\"input.txt\")\n",
    "\t.readLines()\n",
    "\t.map { points[it.trim().replace(\" \", \"\")]!! }\n",
    "\t.sum()\n",
    "    )\n",
    "}\n",
    "```\n",
    "\n",
    "Z `listOf` sestavimo seznam (Kotlin tega žal ne zna z `[` in `]`, kot Python...). Seznam bo vseboval dva slovarja, ki ju sestavimo z `mapOf`. Elemente opišemo s konstruktom `<key> to <value>`.\n",
    "\n",
    "Potem pa za vsak element (`forEach`) tega seznama naredimo tole. (Tehnično \"tole\" je lambda funkcija, ki jo podamo funkciji `forEach` kot argument.) Element seznama bomo poimenovali `points` - tako kot smo ga v Pythonu. Izpisali (`println`) bomo tole: odpremo datoteko, preberemo njene vrstice, z vsako vrstico naredimo točno isto kot v Pythonu (`trim` je Kotlinov ekvivalent Pythonovega `strip`) in potem vse skupaj seštejemo.\n",
    "\n",
    "Kotlin se, tako kot v prvi nalogi, spet bere bolj v pravo smer kot Python, čeprav je tu tudi Pythonova koda kar berljiva.\n",
    "\n",
    "Kot zanimivost opozorimo na `!!`. Imamo `points`, katerega vrednosti so števila - v Kotlinu je to `Int`. Vendar `points[x]` ne vrne `Int` temveč `Int?`. To pomeni, \"morda bo `Int`, morda pa bo `null`, ker `points` morda nima tega ključa. Rezultat `.map { points[it.trim().replace(\" \", \"\")] }` zato ne bi bil seznam `Int`-ov, temveč seznam `Int?`-ov. Funkcija `sum()` pa zna sešteti `Int`-e, če ji poskušamo podtakniti `Int?`-e, pa bo Kotlin javil napako že med prevajanjem. Tako napisan program se torej sploh ne bo prevedel in zagnal!\n",
    "\n",
    "Kotlin nas na ta način prisili, da poskrbimo tudi za primer, ko ključ ne bi obstajal. To lahko storimo na različne načine; kdor bi rad izvedel kaj več, naj si v Kotlinovi dokumentaciji prebere stran o [null safety](https://kotlinlang.org/docs/null-safety.html). Tule pa povejmo le, kako smo to storili v tem primeru: ker vemo, da bo ključ gotovo obstajal, smo dodali `!!`. Ta spremeni `Int?` v `Int` (in `KarkoliŽe?` v `KarkoliŽe`). Če smo se zmotili in se bo zgodilo, da ključa vseeno ne bo, pa smo si krivi sami. Kotlin nas je opozoril."
   ]
  }
 ],
 "metadata": {
  "kernelspec": {
   "display_name": "Python 3 (ipykernel)",
   "language": "python",
   "name": "python3"
  },
  "language_info": {
   "codemirror_mode": {
    "name": "ipython",
    "version": 3
   },
   "file_extension": ".py",
   "mimetype": "text/x-python",
   "name": "python",
   "nbconvert_exporter": "python",
   "pygments_lexer": "ipython3",
   "version": "3.9.7"
  }
 },
 "nbformat": 4,
 "nbformat_minor": 5
}
