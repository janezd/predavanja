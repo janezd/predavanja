{
 "cells": [
  {
   "cell_type": "markdown",
   "id": "afb701b3",
   "metadata": {},
   "source": [
    "# Day 3: Rucksack Reorganization\n",
    "\n",
    "([izvirnik naloge](https://adventofcode.com/2022/day/3))\n",
    "\n",
    "## Vrednosti črk\n",
    "\n",
    "Podatki vsebujejo seznam nizov. V prvem delu je potrebno za vsak niz ugotoviti, kateri znak se pojavi tako v prvi kot v drugi polovici. V drugem delu pa je potrebno gledati po tri zaporedne vrstice in ugotoviti, kateri znak se pojavi v vseh. V obeh primerih je iskani rezultat vsota vrednost teh znakov. Vrednosti znakov so a=1, b=2, c=3 in tako naprej do z=26, potem pa A=27, B=28 in tako do Z.\n",
    "\n",
    "Za začetek poglejmo, kako dobiti vrednosti znakov, če imamo nek znak `c`, na primer"
   ]
  },
  {
   "cell_type": "code",
   "execution_count": 1,
   "id": "c2df8be3",
   "metadata": {},
   "outputs": [],
   "source": [
    "c = \"R\""
   ]
  },
  {
   "cell_type": "markdown",
   "id": "2e18035b",
   "metadata": {},
   "source": [
    "### Kode ASCII\n",
    "\n",
    "Pomagamo si lahko s kodo ASCII, ki jo vrne funkcija `ord`:"
   ]
  },
  {
   "cell_type": "code",
   "execution_count": 2,
   "id": "b475dc12",
   "metadata": {},
   "outputs": [
    {
     "data": {
      "text/plain": [
       "97"
      ]
     },
     "execution_count": 2,
     "metadata": {},
     "output_type": "execute_result"
    }
   ],
   "source": [
    "ord(\"a\")"
   ]
  },
  {
   "cell_type": "code",
   "execution_count": 3,
   "id": "98b2b431",
   "metadata": {},
   "outputs": [
    {
     "data": {
      "text/plain": [
       "98"
      ]
     },
     "execution_count": 3,
     "metadata": {},
     "output_type": "execute_result"
    }
   ],
   "source": [
    "ord(\"b\")"
   ]
  },
  {
   "cell_type": "code",
   "execution_count": 4,
   "id": "13ba4442",
   "metadata": {},
   "outputs": [
    {
     "data": {
      "text/plain": [
       "99"
      ]
     },
     "execution_count": 4,
     "metadata": {},
     "output_type": "execute_result"
    }
   ],
   "source": [
    "ord(\"c\")"
   ]
  },
  {
   "cell_type": "code",
   "execution_count": 5,
   "id": "5d9ff299",
   "metadata": {},
   "outputs": [
    {
     "data": {
      "text/plain": [
       "65"
      ]
     },
     "execution_count": 5,
     "metadata": {},
     "output_type": "execute_result"
    }
   ],
   "source": [
    "ord(\"A\")"
   ]
  },
  {
   "cell_type": "code",
   "execution_count": 6,
   "id": "6a06248d",
   "metadata": {},
   "outputs": [
    {
     "data": {
      "text/plain": [
       "66"
      ]
     },
     "execution_count": 6,
     "metadata": {},
     "output_type": "execute_result"
    }
   ],
   "source": [
    "ord(\"B\")"
   ]
  },
  {
   "cell_type": "markdown",
   "id": "98deb1a3",
   "metadata": {},
   "source": [
    "Vrednost znaka je enaka kodi minus 96, če gre za malo črko, oz. kodi -64 + 26, če gre za veliko. Torej:"
   ]
  },
  {
   "cell_type": "code",
   "execution_count": 7,
   "id": "2b4eca45",
   "metadata": {},
   "outputs": [
    {
     "data": {
      "text/plain": [
       "44"
      ]
     },
     "execution_count": 7,
     "metadata": {},
     "output_type": "execute_result"
    }
   ],
   "source": [
    "ord(c) - (96 if c >= \"a\" else (64 - 26))"
   ]
  },
  {
   "cell_type": "markdown",
   "id": "a01e43da",
   "metadata": {},
   "source": [
    "Ali, malenkost kompaktneje in zavedajoč se, da je `True` isto kot 1 in `False` isto kot 0:"
   ]
  },
  {
   "cell_type": "code",
   "execution_count": 8,
   "id": "ddb699c5",
   "metadata": {},
   "outputs": [
    {
     "data": {
      "text/plain": [
       "44"
      ]
     },
     "execution_count": 8,
     "metadata": {},
     "output_type": "execute_result"
    }
   ],
   "source": [
    "ord(c) - [64 - 26, 96][c >= \"a\"]"
   ]
  },
  {
   "cell_type": "markdown",
   "id": "f62128a3",
   "metadata": {},
   "source": [
    "### Seznam črk\n",
    "\n",
    "Modul `string` ima spremenljivko `ascii_letters`, ki vsebuje vse črke angleške abecede."
   ]
  },
  {
   "cell_type": "code",
   "execution_count": 10,
   "id": "66a7691c",
   "metadata": {},
   "outputs": [
    {
     "data": {
      "text/plain": [
       "'abcdefghijklmnopqrstuvwxyzABCDEFGHIJKLMNOPQRSTUVWXYZ'"
      ]
     },
     "execution_count": 10,
     "metadata": {},
     "output_type": "execute_result"
    }
   ],
   "source": [
    "import string\n",
    "\n",
    "string.ascii_letters"
   ]
  },
  {
   "cell_type": "markdown",
   "id": "9c97c259",
   "metadata": {},
   "source": [
    "Vrednost črke je enaka indeksu v ta niz + 1:"
   ]
  },
  {
   "cell_type": "code",
   "execution_count": 11,
   "id": "bef874bb",
   "metadata": {},
   "outputs": [
    {
     "data": {
      "text/plain": [
       "44"
      ]
     },
     "execution_count": 11,
     "metadata": {},
     "output_type": "execute_result"
    }
   ],
   "source": [
    "string.ascii_letters.index(c) + 1"
   ]
  },
  {
   "cell_type": "markdown",
   "id": "4d73cdf9",
   "metadata": {},
   "source": [
    "Če bi radi malo skrajšali program, podtaknemo nizu na začetek še en znak:"
   ]
  },
  {
   "cell_type": "code",
   "execution_count": 12,
   "id": "b7e35f1c",
   "metadata": {},
   "outputs": [],
   "source": [
    "import string\n",
    "\n",
    "letters = \" \" + string.ascii_letters"
   ]
  },
  {
   "cell_type": "markdown",
   "id": "259a449c",
   "metadata": {},
   "source": [
    "In zdaj"
   ]
  },
  {
   "cell_type": "code",
   "execution_count": 13,
   "id": "87e05d4c",
   "metadata": {},
   "outputs": [
    {
     "data": {
      "text/plain": [
       "44"
      ]
     },
     "execution_count": 13,
     "metadata": {},
     "output_type": "execute_result"
    }
   ],
   "source": [
    "letters.index(c)"
   ]
  },
  {
   "cell_type": "markdown",
   "id": "c215fb2a",
   "metadata": {},
   "source": [
    "### Slovar\n",
    "\n",
    "Seznami so, vsaj teoretično, počasni, zato je bolj prav uporabiti slovar. Kako sestaviti slovar, katerega ključi bodo črke, vrednosti pa vrednosti teh črk?\n",
    "\n",
    "Načinov je kolikor hočemo.\n",
    "\n",
    "V vsakem primeru se nam splača iti prek znakov v `string.ascii_letters`. Razlike bodo v tem, kako pridelati vrednosti.\n",
    "\n",
    "Uporabimo lahko gornje trike, na primer `ord`"
   ]
  },
  {
   "cell_type": "code",
   "execution_count": 18,
   "id": "a94786bb",
   "metadata": {},
   "outputs": [],
   "source": [
    "vrednosti = {c: ord(c) - [64 - 26, 96][c >= \"a\"] for c in string.ascii_letters}"
   ]
  },
  {
   "cell_type": "markdown",
   "id": "7aa8e1ad",
   "metadata": {},
   "source": [
    "ali `index`"
   ]
  },
  {
   "cell_type": "code",
   "execution_count": 19,
   "id": "d7c31979",
   "metadata": {},
   "outputs": [],
   "source": [
    "vrednosti = {c: string.ascii_letters.index(c)  + 1 for c in string.ascii_letters}"
   ]
  },
  {
   "cell_type": "markdown",
   "id": "036c15f3",
   "metadata": {},
   "source": [
    "Vrednosti pa lahko dobimo tudi s štetjem:"
   ]
  },
  {
   "cell_type": "code",
   "execution_count": 23,
   "id": "f8c13743",
   "metadata": {},
   "outputs": [],
   "source": [
    "vrednosti = {c: i for i, c in enumerate(string.ascii_letters, start=1)}"
   ]
  },
  {
   "cell_type": "markdown",
   "id": "f9a91576",
   "metadata": {},
   "source": [
    "`enumerate` ima uporaben argument `start`. Preživeli pa bi tudi brez, le namesto `c: i` bi pisali `c: i + 1`."
   ]
  },
  {
   "cell_type": "markdown",
   "id": "a0b7599a",
   "metadata": {},
   "source": [
    "Še bolj luštno je, če se spomnimo, da lahko `dict` sestavimo tudi tako, da mu podamo seznam parov:"
   ]
  },
  {
   "cell_type": "code",
   "execution_count": 25,
   "id": "20a08262",
   "metadata": {},
   "outputs": [
    {
     "data": {
      "text/plain": [
       "{'Ana': 5, 'Berta': 9}"
      ]
     },
     "execution_count": 25,
     "metadata": {},
     "output_type": "execute_result"
    }
   ],
   "source": [
    "dict([(\"Ana\", 5), (\"Berta\", 9)])"
   ]
  },
  {
   "cell_type": "markdown",
   "id": "98b6b17b",
   "metadata": {},
   "source": [
    "Tega seveda ne počne noben normalen človek, saj je lažje `{\"Ana\": 5, \"Berta\": 9}` ali kar `dict(Ana=5, Berta=9)`. Pač pa bomo slovar sestavili na ta način, kadar seznam takšnih parov slučajno že imamo ali pa si ga lahko pridelamo s kakim `zip`. Konkretno, tule sestavljamo seznam iz črk, ki jih priskrbi `string.ascii_letters` in številk od 1 naprej, ki jih dobimo s funkcijo `count` iz modula `itertools`."
   ]
  },
  {
   "cell_type": "code",
   "execution_count": 26,
   "id": "171ab814",
   "metadata": {},
   "outputs": [],
   "source": [
    "import string\n",
    "from itertools import count\n",
    "\n",
    "vrednosti = dict(zip(string.ascii_letters, count(1)))"
   ]
  },
  {
   "cell_type": "markdown",
   "id": "db371197",
   "metadata": {},
   "source": [
    "Ta seveda zmaga."
   ]
  },
  {
   "cell_type": "markdown",
   "id": "b881d31b",
   "metadata": {},
   "source": [
    "## Prvi del: Samo preseki\n",
    "\n",
    "Ni kaj: začetniška naloga iz presekov. Iz niza potegnemo prvo in drugo polovico ter ju spremenimo v množici. Sestavimo presek; ta bo, če je verjeti sestavljalcu naloge, vseboval točno en element, in dobimo ga s `pop()`."
   ]
  },
  {
   "cell_type": "code",
   "execution_count": 34,
   "id": "d3dabd7e",
   "metadata": {},
   "outputs": [
    {
     "name": "stdout",
     "output_type": "stream",
     "text": [
      "8085\n"
     ]
    }
   ],
   "source": [
    "vsota = 0\n",
    "for vrstica in open(\"input.txt\"):\n",
    "    sredina = len(vrstica) // 2\n",
    "    prva = set(vrstica[:sredina])\n",
    "    druga = set(vrstica[sredina:])\n",
    "    skupni = (prva & druga).pop()\n",
    "    vsota += vrednosti[skupni]\n",
    "    \n",
    "print(vsota)"
   ]
  },
  {
   "cell_type": "markdown",
   "id": "6a0773c2",
   "metadata": {},
   "source": [
    "Če tole bere kdo, ki ni prav izkušen v Pythonu, ga opozorimo na par detajlov.\n",
    "\n",
    "Prvi je celoštevilsko deljenje. Rezultat deljenja z `/` je v Pythonu vedno `float`, `float`-ov pa ne moremo uporabiti za indekse. Zato delimo celoštevilsko, z `//`. Nizi v nalogi so vedno sode dolžine, tako da smo lahko brzz skrbi.\n",
    "\n",
    "Funkcija (no, v resnici *konstruktur tipa*) `set` kot argument prejme poljubno reč, prek katere je možno iterirati. Torej mu damo preprosto niz, pa imamo množico.\n",
    "\n",
    "Nato sestavimo presek in `pop`-nemo iz njega prvi element. Preseka ni potrebno spravljati v novo množico, pač pa seveda ne smemo izpustiti oklepajev."
   ]
  },
  {
   "cell_type": "markdown",
   "id": "e883e61d",
   "metadata": {},
   "source": [
    "Gornja rešitev je napisana lepo, počasi, po korakih. Šlo pa bi tudi brez vmesnih spremenljivk."
   ]
  },
  {
   "cell_type": "code",
   "execution_count": 36,
   "id": "667637b3",
   "metadata": {},
   "outputs": [
    {
     "name": "stdout",
     "output_type": "stream",
     "text": [
      "8085\n"
     ]
    }
   ],
   "source": [
    "vsota = 0\n",
    "for vrstica in open(\"input.txt\"):\n",
    "    vsota += vrednosti[(set(vrstica[:len(vrstica) //2]) & set(vrstica[len(vrstica) // 2:])).pop()]\n",
    "    \n",
    "print(vsota)"
   ]
  },
  {
   "cell_type": "markdown",
   "id": "bd651681",
   "metadata": {},
   "source": [
    "A je to boljše? Niti slučajno. Je hitrejše? (Dvomim. Vsaj ne bistveno. Čemu potem to kažem? Samo zato, da pridemo do (med nekaterimi cenjene) rešitve v eni vrstici. :)"
   ]
  },
  {
   "cell_type": "code",
   "execution_count": 41,
   "id": "165dd1b5",
   "metadata": {},
   "outputs": [
    {
     "name": "stdout",
     "output_type": "stream",
     "text": [
      "8085\n"
     ]
    }
   ],
   "source": [
    "print(sum(\n",
    "    vrednosti[(set(vrstica[:len(vrstica) //2])\n",
    "               & set(vrstica[len(vrstica) // 2:])\n",
    "              ).pop()]\n",
    "    for vrstica in open(\"input.txt\")))"
   ]
  },
  {
   "cell_type": "markdown",
   "id": "f6a0c123",
   "metadata": {},
   "source": [
    "Če se zdi komu goljufija, da smo že poprej napisali vrstico, v kateri sestavimo slovar `vrednosti`, pa ga lahko nadomesti s katero od drugih različic, torej `ord` ali `indeks`."
   ]
  },
  {
   "cell_type": "markdown",
   "id": "e2108786",
   "metadata": {},
   "source": [
    "## Drugi del: kosi po tri\n",
    "\n",
    "Drugi del je zelo podoben: računamo preseke po treh zaporednih vrstic. Zabavno je vprašanje, ko priti do treh vrstic.\n",
    "\n",
    "### Preberemo vrstico in še dve\n",
    "\n",
    "Odpremo datoteko, a tokrat shranimo njeno ime v spremenljivko. Z zanko `for` beremo vrstice, a po vsaki prebrani vrstici z `readline()` preberemo še dve. Vse tri pretvorimo v množice in izračunamo presek."
   ]
  },
  {
   "cell_type": "code",
   "execution_count": 47,
   "id": "e783b0b7",
   "metadata": {},
   "outputs": [
    {
     "name": "stdout",
     "output_type": "stream",
     "text": [
      "2515\n"
     ]
    }
   ],
   "source": [
    "vsota = 0\n",
    "\n",
    "with open(\"input.txt\") as f:\n",
    "    for vrstica in f:\n",
    "        presek = set(vrstica.strip()) & set(f.readline()) & set(f.readline())\n",
    "        vsota += vrednosti[presek.pop()]\n",
    "    \n",
    "print(vsota)"
   ]
  },
  {
   "cell_type": "markdown",
   "id": "b67a31d4",
   "metadata": {},
   "source": [
    "Čemu `strip()`? In čemu le enkrat? Vse tri vrstice se končajo z `\\n`, torej se bo poleg iskanega znaka v vseh treh vrsticah pojavil tudi ta znak. Moramo se ga torej znebiti; zadošča pa, da se ga znebimo enkrat."
   ]
  },
  {
   "cell_type": "markdown",
   "id": "163a6d03",
   "metadata": {},
   "source": [
    "### Generatorji\n",
    "\n",
    "Bolj zabavno je uporabljati generator. Kot vsi objekti, čez katere je mogoče iterirati, tudi datoteka vrne generator, če pokličemo funkcijo `iter`. Priskrbimo si torej iterator, potem pa ga trikrat podtaknemo `zip`-u. Zip ne ve - oziroma ga, točneje, nič ne briga - da je trikrat dobil isti iterator. Ko poženemo zanko čez `zip`, bo pač pridobil po en element od vsakega iteratorja in ker gre za en in isti iterator, bomo dobili tri zaporedne elemente.\n",
    "\n",
    "Kako to deluje, si za začetek raje oglejmo na preprostem seznamu."
   ]
  },
  {
   "cell_type": "code",
   "execution_count": 48,
   "id": "06d329eb",
   "metadata": {},
   "outputs": [
    {
     "name": "stdout",
     "output_type": "stream",
     "text": [
      "(4, 2, 6)\n",
      "(9, 7, 5)\n",
      "(2, 4, 7)\n"
     ]
    }
   ],
   "source": [
    "s = [4, 2, 6, 9, 7, 5, 2, 4, 7]\n",
    "it = iter(s)\n",
    "for x in zip(it, it, it):\n",
    "    print(x)"
   ]
  },
  {
   "cell_type": "markdown",
   "id": "70de8a9a",
   "metadata": {},
   "source": [
    "Razred `set` ima metodo `intersection`, ki ji podamo poljubno število poljubnih objektov in vrnila bo njihov presek. Le prvi element mora biti nujno množica."
   ]
  },
  {
   "cell_type": "code",
   "execution_count": 57,
   "id": "a486debf",
   "metadata": {},
   "outputs": [
    {
     "data": {
      "text/plain": [
       "{6}"
      ]
     },
     "execution_count": 57,
     "metadata": {},
     "output_type": "execute_result"
    }
   ],
   "source": [
    "set.intersection({3, 6, 7}, (1, 2, 6), [6, 3, 1])"
   ]
  },
  {
   "cell_type": "code",
   "execution_count": 58,
   "id": "8be00991",
   "metadata": {},
   "outputs": [
    {
     "data": {
      "text/plain": [
       "{'e'}"
      ]
     },
     "execution_count": 58,
     "metadata": {},
     "output_type": "execute_result"
    }
   ],
   "source": [
    "set.intersection(set(\"peter\"), \"jože\", \"janez\")"
   ]
  },
  {
   "cell_type": "markdown",
   "id": "52e2f550",
   "metadata": {},
   "source": [
    "Tako pridemo do te rešitve:"
   ]
  },
  {
   "cell_type": "code",
   "execution_count": 64,
   "id": "7d17fc00",
   "metadata": {},
   "outputs": [
    {
     "name": "stdout",
     "output_type": "stream",
     "text": [
      "2515\n"
     ]
    }
   ],
   "source": [
    "it = iter(open(\"input.txt\"))\n",
    "print(sum(\n",
    "    vrednosti[(set.intersection(*map(set, triplet)) - {\"\\n\"}).pop()]\n",
    "for triplet in zip(it, it, it)))"
   ]
  },
  {
   "cell_type": "markdown",
   "id": "1e1aa94b",
   "metadata": {},
   "source": [
    "Z `for triplet in zip(it, it, it)` dobivamo trojke.\n",
    "\n",
    "Zdaj pa moramo brati od znotraj: `map(set, triplet)` jih bo spremenil v množice (ker moramo spremiti eno, je vseeno, če spremenimo vse tri). Te tri množice moramo podati kot argument funkciji `set.intersection`; ker gre tu za tri reči, mi pa potrebujemo tri argumente, je potrebna zvezdica. Iz preseka odstranimo `\\n` in s `pop` poberemo preostali element. Potem pa vzmemo vrednost in seštevamo."
   ]
  },
  {
   "cell_type": "markdown",
   "id": "b55957dc",
   "metadata": {},
   "source": [
    "Če bi radi to spravili v eno vrstico, zamenjamo `it, it, it` z `*[iter(open(\"input.txt\"))] * 3`, torej"
   ]
  },
  {
   "cell_type": "code",
   "execution_count": 66,
   "id": "bf73395f",
   "metadata": {},
   "outputs": [
    {
     "name": "stdout",
     "output_type": "stream",
     "text": [
      "2515\n"
     ]
    }
   ],
   "source": [
    "it = iter(open(\"input.txt\"))\n",
    "print(sum(\n",
    "    vrednosti[(set.intersection(*map(set, triplet)) - {\"\\n\"}).pop()]\n",
    "for triplet in zip(*[iter(open(\"input.txt\"))] * 3)))"
   ]
  },
  {
   "cell_type": "code",
   "execution_count": 68,
   "id": "f355cfb6",
   "metadata": {},
   "outputs": [
    {
     "data": {
      "text/plain": [
       "[<_io.TextIOWrapper name='input.txt' mode='r' encoding='UTF-8'>,\n",
       " <_io.TextIOWrapper name='input.txt' mode='r' encoding='UTF-8'>,\n",
       " <_io.TextIOWrapper name='input.txt' mode='r' encoding='UTF-8'>]"
      ]
     },
     "execution_count": 68,
     "metadata": {},
     "output_type": "execute_result"
    }
   ],
   "source": [
    "[iter(open(\"input.txt\"))] * 3"
   ]
  },
  {
   "cell_type": "markdown",
   "id": "f5f01376",
   "metadata": {},
   "source": [
    "vsebuje tri kopije istega iteratorja, natančno isto kot `[it, it, it]`). Vendar ne moremo klicati"
   ]
  },
  {
   "cell_type": "code",
   "execution_count": 69,
   "id": "b826d056",
   "metadata": {},
   "outputs": [
    {
     "data": {
      "text/plain": [
       "<zip at 0x7f8b30371d80>"
      ]
     },
     "execution_count": 69,
     "metadata": {},
     "output_type": "execute_result"
    }
   ],
   "source": [
    "zip([iter(open(\"input.txt\"))] * 3)"
   ]
  },
  {
   "cell_type": "markdown",
   "id": "649c6235",
   "metadata": {},
   "source": [
    "saj bi `zip` v tem primeru kot argument dobil en sam seznam. Kot argument mu hočemo dati vse elemente tega seznama, zato torej"
   ]
  },
  {
   "cell_type": "code",
   "execution_count": 70,
   "id": "31526a38",
   "metadata": {},
   "outputs": [
    {
     "data": {
      "text/plain": [
       "<zip at 0x7f8b3036d300>"
      ]
     },
     "execution_count": 70,
     "metadata": {},
     "output_type": "execute_result"
    }
   ],
   "source": [
    "zip(*[iter(open(\"input.txt\"))] * 3)"
   ]
  },
  {
   "cell_type": "markdown",
   "id": "1849886b",
   "metadata": {},
   "source": [
    "Mimogrede pa opazimo: `iter(f)`, kjer je `f` neka datoteka, vrne kar to datoteko:"
   ]
  },
  {
   "cell_type": "code",
   "execution_count": 73,
   "id": "a7a39f0d",
   "metadata": {},
   "outputs": [
    {
     "data": {
      "text/plain": [
       "True"
      ]
     },
     "execution_count": 73,
     "metadata": {},
     "output_type": "execute_result"
    }
   ],
   "source": [
    "f = open(\"input.txt\")\n",
    "\n",
    "f is iter(f)"
   ]
  },
  {
   "cell_type": "markdown",
   "id": "377292ee",
   "metadata": {},
   "source": [
    "Torej niti ni potrebno klicati `iter`, temveč lahko napišemo kar"
   ]
  },
  {
   "cell_type": "code",
   "execution_count": 75,
   "id": "081b81e6",
   "metadata": {},
   "outputs": [
    {
     "name": "stdout",
     "output_type": "stream",
     "text": [
      "2515\n"
     ]
    }
   ],
   "source": [
    "print(sum(\n",
    "    vrednosti[(set.intersection(*map(set, triplet)) - {\"\\n\"}).pop()]\n",
    "for triplet in zip(*[open(\"input.txt\")] * 3)))"
   ]
  },
  {
   "cell_type": "markdown",
   "id": "df8b3991",
   "metadata": {},
   "source": [
    "## Kotlin\n",
    "\n",
    "Pa dajmo še v Kotlinu. :)\n",
    "\n",
    "```kotlin\n",
    "import java.io.File\n",
    "\n",
    "println(\n",
    "    File(\"input.txt\")\n",
    "    .readLines()\n",
    "    .map { it.trim() }\n",
    "    .map { it.take(it.length / 2).toSet()\n",
    "            .intersect(it.takeLast(it.length / 2).toSet()).first() }\n",
    "    .sumOf { it.code -  (if (it >= 'a') 96 else 64 - 26) }\n",
    ")\n",
    "\n",
    "println(\n",
    "    File(\"input.txt\")\n",
    "    .readLines()\n",
    "    .map { it.trim() }\n",
    "    .chunked(3)\n",
    "    .map {\n",
    "        it.map { it.toSet }\n",
    "        .reduce { acc, s -> acc.intersect(s) }\n",
    "        .first()\n",
    "    }\n",
    "    .sumOf { it.code -  (if (it >= 'a') 96 else 64 - 26) }\n",
    "\n",
    ")\n",
    "```"
   ]
  },
  {
   "cell_type": "markdown",
   "id": "98877a08",
   "metadata": {},
   "source": [
    "Ideja je enaka: naredimo množici, presek in potem seštejemo vrednosti znakov; dobimo jih z `it.code`, ki je ekvivalenten Pythonovemu `ord(it)`.\n",
    "\n",
    "Bolj zanimiv je drugi del: Kotlinovi seznami imajo `chunked(n)`, ki vrne seznam seznamov po `n` elementov. Te potem spremenimo v množice, z `reduce` izračunamo njihov presek in vzamemo prvi element."
   ]
  }
 ],
 "metadata": {
  "kernelspec": {
   "display_name": "Python 3 (ipykernel)",
   "language": "python",
   "name": "python3"
  },
  "language_info": {
   "codemirror_mode": {
    "name": "ipython",
    "version": 3
   },
   "file_extension": ".py",
   "mimetype": "text/x-python",
   "name": "python",
   "nbconvert_exporter": "python",
   "pygments_lexer": "ipython3",
   "version": "3.9.7"
  }
 },
 "nbformat": 4,
 "nbformat_minor": 5
}
