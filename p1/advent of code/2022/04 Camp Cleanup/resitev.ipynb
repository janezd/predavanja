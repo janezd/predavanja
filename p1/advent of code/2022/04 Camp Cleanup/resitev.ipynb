{
 "cells": [
  {
   "cell_type": "markdown",
   "id": "b279c0c9",
   "metadata": {},
   "source": [
    "# Day 4: Camp Cleanup\n",
    "\n",
    "([besedilo naloge](https://adventofcode.com/2022/day/4))\n",
    "\n",
    "Imamo seznam parov intervalov v obliki\n",
    "\n",
    "```\n",
    "2-4,6-8\n",
    "2-3,4-5\n",
    "5-7,7-9\n",
    "2-8,3-7\n",
    "6-6,4-6\n",
    "2-6,4-8\n",
    "```\n",
    "\n",
    "in zanima nas ...\n",
    "\n",
    "## Prvi del\n",
    "\n",
    "... koliko je takšnih, pri katerih je eden od njiju v celoti vsebovan v drugem.\n",
    "\n",
    "Najprej preberemo številke. Lahko delimo niz po `-` in `,`, lahko se hecamo z regularnimi izrazi, lahko pa preprosto zamenjamo `,` in delimo po `-`, pa dobimo štiri številke. Torej"
   ]
  },
  {
   "cell_type": "code",
   "execution_count": 1,
   "id": "42234c76",
   "metadata": {},
   "outputs": [],
   "source": [
    "pairs = [[int(x) for x in line.replace(\",\", \"-\").split(\"-\")]\n",
    "         for line in open(\"example.txt\")]"
   ]
  },
  {
   "cell_type": "markdown",
   "id": "4663fb64",
   "metadata": {},
   "source": [
    "Vzemimo, recimo, prvi par:"
   ]
  },
  {
   "cell_type": "code",
   "execution_count": 2,
   "id": "7d60d567",
   "metadata": {},
   "outputs": [],
   "source": [
    "x0, x1, y0, y1 = pairs[0]"
   ]
  },
  {
   "cell_type": "markdown",
   "id": "70001956",
   "metadata": {},
   "source": [
    "En interval je vsebovan znotraj drugega, če velja"
   ]
  },
  {
   "cell_type": "code",
   "execution_count": 3,
   "id": "877aa2ea",
   "metadata": {},
   "outputs": [
    {
     "data": {
      "text/plain": [
       "False"
      ]
     },
     "execution_count": 3,
     "metadata": {},
     "output_type": "execute_result"
    }
   ],
   "source": [
    "x0 <= y0 <= y1 <= x1 or y0 <= x0 <= x1 <= y1"
   ]
  },
  {
   "cell_type": "markdown",
   "id": "80406f9f",
   "metadata": {},
   "source": [
    "Srednji primerjavi sta nepotrebni, saj vedno velja `y0 <= y1` in `x0 <= x1`. Vseeno sem ju pisal, saj je alternativa"
   ]
  },
  {
   "cell_type": "code",
   "execution_count": 4,
   "id": "37766601",
   "metadata": {},
   "outputs": [
    {
     "data": {
      "text/plain": [
       "False"
      ]
     },
     "execution_count": 4,
     "metadata": {},
     "output_type": "execute_result"
    }
   ],
   "source": [
    "x0 <= y0 and y1 <= x1 or y0 <= x0 and x1 <= y1"
   ]
  },
  {
   "cell_type": "markdown",
   "id": "3d3b9c99",
   "metadata": {},
   "source": [
    "manj pregledna, če dodamo oklepaje,"
   ]
  },
  {
   "cell_type": "code",
   "execution_count": 5,
   "id": "44592170",
   "metadata": {},
   "outputs": [
    {
     "data": {
      "text/plain": [
       "False"
      ]
     },
     "execution_count": 5,
     "metadata": {},
     "output_type": "execute_result"
    }
   ],
   "source": [
    "(x0 <= y0 and y1 <= x1) or (y0 <= x0 and x1 <= y1)"
   ]
  },
  {
   "cell_type": "markdown",
   "id": "57f6b614",
   "metadata": {},
   "source": [
    "pa je videti že, kot da je zapleteno. Prva različica najbolj jasno pokaže, da gre za takšno in takšno zaporedje števil.\n",
    "\n",
    "Da rešimo nalogo, moramo le prešteti, kolikokrat je izraz resničen. Ker je `True` enak 1 in `False` enak `0`, lahko preprosto seštejemo vrednost tega izraza za vse pare."
   ]
  },
  {
   "cell_type": "code",
   "execution_count": 6,
   "id": "110549c9",
   "metadata": {},
   "outputs": [
    {
     "name": "stdout",
     "output_type": "stream",
     "text": [
      "2\n"
     ]
    }
   ],
   "source": [
    "print(sum(x0 <= y0 <= y1 <= x1 or y0 <= x0 <= x1 <= y1 for x0, x1, y0, y1 in pairs))"
   ]
  },
  {
   "cell_type": "markdown",
   "id": "0f0a2832",
   "metadata": {},
   "source": [
    "## Drugi del\n",
    "\n",
    "... koliko intervalov vsebuje kak skupni element.\n",
    "\n",
    "Da imata intervala skupni element, mora biti začetek prvega znotraj drugega ali pa začetek drugega znotraj prvega."
   ]
  },
  {
   "cell_type": "code",
   "execution_count": 7,
   "id": "e2e48ebc",
   "metadata": {},
   "outputs": [
    {
     "name": "stdout",
     "output_type": "stream",
     "text": [
      "4\n"
     ]
    }
   ],
   "source": [
    "print(sum(x0 <= y0 <= x1 or y0 <= x0 <= y1 for x0, x1, y0, y1 in pairs))"
   ]
  }
 ],
 "metadata": {
  "kernelspec": {
   "display_name": "Python 3 (ipykernel)",
   "language": "python",
   "name": "python3"
  },
  "language_info": {
   "codemirror_mode": {
    "name": "ipython",
    "version": 3
   },
   "file_extension": ".py",
   "mimetype": "text/x-python",
   "name": "python",
   "nbconvert_exporter": "python",
   "pygments_lexer": "ipython3",
   "version": "3.9.7"
  }
 },
 "nbformat": 4,
 "nbformat_minor": 5
}
