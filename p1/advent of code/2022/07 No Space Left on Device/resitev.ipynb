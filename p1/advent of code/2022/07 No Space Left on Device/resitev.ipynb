{
 "cells": [
  {
   "cell_type": "markdown",
   "id": "8d781ac6",
   "metadata": {},
   "source": [
    "# Day 7: No Space Left on Device\n",
    "\n",
    "([besedilo naloge](https://adventofcode.com/2022/day/7))\n",
    "\n",
    "Podatke o direktorijih in datotekah na nekem disku dobimo v takšni obliki:\n",
    "\n",
    "```\n",
    "$ cd /\n",
    "$ ls\n",
    "dir a\n",
    "14848514 b.txt\n",
    "8504156 c.dat\n",
    "dir d\n",
    "$ cd a\n",
    "$ ls\n",
    "dir e\n",
    "29116 f\n",
    "2557 g\n",
    "62596 h.lst\n",
    "$ cd e\n",
    "$ ls\n",
    "584 i\n",
    "$ cd ..\n",
    "$ cd ..\n",
    "$ cd d\n",
    "$ ls\n",
    "4060174 j\n",
    "8033020 d.log\n",
    "5626152 d.ext\n",
    "7214296 k\n",
    "```\n",
    "\n",
    "V prvem delu naloge nas bo zanimala vsota velikosti vseh direktorijev, ki zasedejo manj kot 100.000 bajtov. V drugem bomo iskali direktorij, ki - skupaj s poddirektoriji -, zaseda čim manj prostora, vendar več kot toliko in toliko. Ko to vemo (ob reševanju prvega dela to sicer še ni jasno, vendar zdaj, ko to že vemo, ne zapletajmo rešitve po nepotrebnem), so pomembni le direktoriji in velikosti datotek. Zadošča, da gornji disk preberemo v\n",
    "\n",
    "`[14848514, 8504156, [29116, 2557, 62596, [584]], [4060174, 8033020, 5626152, 7214296]]`\n",
    "\n",
    "Številke so velikosti datotek; kar je v poddirektoriju, je v podseznamu."
   ]
  },
  {
   "cell_type": "markdown",
   "id": "97582e92",
   "metadata": {},
   "source": [
    "## Branje\n",
    "\n",
    "Funkcija za branje bo takšna."
   ]
  },
  {
   "cell_type": "code",
   "execution_count": 1,
   "id": "02e97f40",
   "metadata": {},
   "outputs": [],
   "source": [
    "def read(f):\n",
    "    tree = []\n",
    "    for line in f:\n",
    "        match line.strip().split():\n",
    "            case [\"$\", \"cd\", \"/\"] | [\"dir\", _] | [\"$\", \"ls\"]:\n",
    "                pass\n",
    "            case [\"$\", \"cd\", \"..\"]:\n",
    "                return tree\n",
    "            case [\"$\", \"cd\", _]:\n",
    "                tree.append(read(f))\n",
    "            case [size, _]:\n",
    "                tree.append(int(size))\n",
    "    return tree"
   ]
  },
  {
   "cell_type": "markdown",
   "id": "4d135228",
   "metadata": {},
   "source": [
    "Razšifrirajmo. :)\n",
    "\n",
    "Funkcija bo rekurzivna: kot argument dobi (delno prebrano) datoteko. Kot rezultat vrne seznam z vsebino trenutnega direktorija, torej seznamom z velikostmi datotek ter morebitnimi (rekurzivno pridobljenimi) seznami za poddirektorije.\n",
    "\n",
    "V začetku funkcije pripravimo drevo.\n",
    "\n",
    "Vsaki vrstici odluščimo končni `\\n` in jo razdelimo po besedah. Nato z `match` obravnavamo različne možne vrstice.\n",
    "\n",
    "- Vrstice `$ cd /`, `$ ls` in `dir <ime>` so nepomembne in jih preskočimo.\n",
    "- Vrstica `$ cd ..` pomeni, da je trenutni direktorij prebran; vrnemo razultat.\n",
    "- Ko naletimo na `$ cd <ime>`, vemo, da sledi poddirektorij. Funkcija se pokliče, da prebere njegovo vsebino, ki jo prilepi na konec drevesa.\n",
    "- Zadnja možnost, je da je v vrstici dolžina datoteke in njeno (nepomembno) ime. Le-to pretvorimo v število in dodamo na konec seznama.\n",
    "\n",
    "Stavek `match` je novost iz Pythona 3.10. V starejših različicah pač potrebujemo kup `if`-ov."
   ]
  },
  {
   "cell_type": "code",
   "execution_count": 2,
   "id": "776c916b",
   "metadata": {},
   "outputs": [
    {
     "data": {
      "text/plain": [
       "[14848514,\n",
       " 8504156,\n",
       " [29116, 2557, 62596, [584]],\n",
       " [4060174, 8033020, 5626152, 7214296]]"
      ]
     },
     "execution_count": 2,
     "metadata": {},
     "output_type": "execute_result"
    }
   ],
   "source": [
    "read(open(\"example.txt\"))"
   ]
  },
  {
   "cell_type": "markdown",
   "id": "a5e1a650",
   "metadata": {},
   "source": [
    "## Prvi del: velikosti manjših direktorijev\n",
    "\n",
    "Zanima nas vsota velikost vseh direktorijev, ki - skupaj s poddirektoriji - ne presežejo 100.000 bajtov. Posamični direktoriji so lahko v tej vsoti všteti tudi večkrat.\n",
    "\n",
    "Napisati bomo morali rekurzivno funkcijo, ki ji podamo seznam, ki predstavlja direktorij, in vrača dve stvari: vsoto, ki jo zahteva naloga in skupno velikost vseh datotek v tem direktoriju. Slednjo potrebujemo zato, da bomo lahko pravilno presodili, ali je trenutni direktorij med tistimi, ki zasedejo manj kot 100.000.\n",
    "\n",
    "Ko se enkrat odločimo, kaj bo neka rekurzivna funkcija vrnila, je ni težko napisati. :)"
   ]
  },
  {
   "cell_type": "code",
   "execution_count": 3,
   "id": "5e83fb24",
   "metadata": {},
   "outputs": [],
   "source": [
    "def sums(tree):\n",
    "    smaller = all = 0\n",
    "    for obj in tree:\n",
    "        if isinstance(obj, list):\n",
    "            s0, a0 = sums(obj)\n",
    "            smaller += s0\n",
    "            all += a0\n",
    "        else:\n",
    "            all += obj\n",
    "    if all <= 100_000:\n",
    "        smaller += all\n",
    "    return smaller, all"
   ]
  },
  {
   "cell_type": "markdown",
   "id": "caebf66a",
   "metadata": {},
   "source": [
    "`smaller` bo vsota velikost direktorijev, manjših od 100.000 (to, po čemer sprašuje naloga), `all` pa bo velikost tega direktorija in vseh pod njim.\n",
    "\n",
    "Funkcija torej dobi seznam. Za vsak element tega seznama preveri, ali gre za seznam - torej poddirektorij. Če je tako, da pokliče samo sebe za ta poddirektorij, da dobi skupno velikost manjših direktorijev ter skupno velikost podanega direktorija. Oboje prišteje k svojima spremenljivkama. Če je element število, pa gre za datoteko, ki jo prišteje k svoji velikosti.\n",
    "\n",
    "Ko je vsebina pregledana, preveri, ali je skupna velikost vsega, v tem direktoriju manjša od 100.000 in v tem primeru prišteje svojo velikost k skupni velikosti manjših direktorijev.\n",
    "\n",
    "Na koncu vrne oboje - kot dogovorjeno."
   ]
  },
  {
   "cell_type": "code",
   "execution_count": 4,
   "id": "aede2612",
   "metadata": {},
   "outputs": [
    {
     "name": "stdout",
     "output_type": "stream",
     "text": [
      "95437\n"
     ]
    }
   ],
   "source": [
    "tree = read(open(\"example.txt\"))\n",
    "smaller, all = sums(tree)\n",
    "print(smaller)"
   ]
  },
  {
   "cell_type": "markdown",
   "id": "625d8899",
   "metadata": {},
   "source": [
    "## Drugi del: najmanjši dovolj velik direktorij\n",
    "\n",
    "Kapaciteta diska je 70000000 bajtov. Potrebujemo vsaj 30000000 prostora. Pobrisali bomo en sam direktorij (s poddirektoriji), vendar čim manjšega. Katerega?\n",
    "\n",
    "Da poenostavimo številke: ostati sme največ za 40000000 bajtov datotek, torej moramo pobrisati vsaj"
   ]
  },
  {
   "cell_type": "code",
   "execution_count": 5,
   "id": "63529214",
   "metadata": {},
   "outputs": [
    {
     "data": {
      "text/plain": [
       "8381165"
      ]
     },
     "execution_count": 5,
     "metadata": {},
     "output_type": "execute_result"
    }
   ],
   "source": [
    "all - 40000000"
   ]
  },
  {
   "cell_type": "markdown",
   "id": "a122d0e9",
   "metadata": {},
   "source": [
    "bajtov. Iščemo najmanjši direktorij z več kot toliko bajti. Konkretno, naloga sprašuje, koliko bajtov bomo morali pobrisati.\n",
    "\n",
    "Napisali bomo funkcijo, ki prejme direktorij; funkcija bo seveda rekurzivna, torej bo prejela direktorij kjerkoli znotraj te hierarhije direktorijev. Drugi argument bo število bajtov, ki jih je potrebno pobrisati. Vrnila bo minimalno število bajtov, ki jih bo treba pobrisati. Če celo brisanje celotnega direktorija ne doseže meje, pa bo vrnila kar velikost tega direktorij."
   ]
  },
  {
   "cell_type": "code",
   "execution_count": 6,
   "id": "16c71eae",
   "metadata": {},
   "outputs": [],
   "source": [
    "def closest_to(tree, required):\n",
    "    recommended = [closest_to(obj, required) for obj in tree if isinstance(obj, dict)]\n",
    "    sufficient = [x for x in recommended if x >= required]\n",
    "    if sufficient:\n",
    "        return min(sufficient)\n",
    "    return sum(recommended) + sum(obj for obj in tree if isinstance(obj, int))"
   ]
  },
  {
   "cell_type": "markdown",
   "id": "a10728f3",
   "metadata": {},
   "source": [
    "Najprej gremo prek vseh poddirektorijev (`for obj in tree if isinstance(obj, dict)`) in zberemo njihove \"predloge\". Ti so to, kar vrača ta funkcija, torej število bajtov, ki jih bomo pobrisali v poddirektoriju (ali enem njegovih poddirektorijev); če brisanje nekega poddirektorija ne zadošča, pa je v tem seznamu velikost tega poddirektorija. To shranimo v `recommended`.\n",
    "\n",
    "Nato naberemo vse elemente `recommended`, katerih brisanje zadošča. Če ta seznam ni prazen, vrnemo njegov najmanjši element. Sicer pa vrnemo vsoto velikosti poddirektorijev in še vseh datotek v tem direktoriju."
   ]
  },
  {
   "cell_type": "code",
   "execution_count": 7,
   "id": "faf6d1b3",
   "metadata": {},
   "outputs": [
    {
     "data": {
      "text/plain": [
       "23352670"
      ]
     },
     "execution_count": 7,
     "metadata": {},
     "output_type": "execute_result"
    }
   ],
   "source": [
    "closest_to(tree, all - 40000000)"
   ]
  },
  {
   "cell_type": "markdown",
   "id": "1f3013e9",
   "metadata": {},
   "source": [
    "Kodo se da še nekoliko skrajšati, a raje jo pustimo lepo."
   ]
  }
 ],
 "metadata": {
  "kernelspec": {
   "display_name": "Python 3 (ipykernel)",
   "language": "python",
   "name": "python3"
  },
  "language_info": {
   "codemirror_mode": {
    "name": "ipython",
    "version": 3
   },
   "file_extension": ".py",
   "mimetype": "text/x-python",
   "name": "python",
   "nbconvert_exporter": "python",
   "pygments_lexer": "ipython3",
   "version": "3.10.0"
  }
 },
 "nbformat": 4,
 "nbformat_minor": 5
}
