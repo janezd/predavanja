{
 "cells": [
  {
   "cell_type": "markdown",
   "id": "dbdf84c5",
   "metadata": {},
   "source": [
    "# Day 5: Supply Stacks\n",
    "\n",
    "([besedilo naloge](https://adventofcode.com/2022/day/5))\n",
    "\n",
    "Imamo sliko skladišča in navodila, kaj prelagamo kam. Razlika med prvim in drugim delom je v tem, da v prvem delu navodilo \"prestavi 3 pakete iz 2 na 4\" izvedemo tako, da prestavimo te tri pakete enega za drugim (in tako obrnemo njihov vrstni red), v drugem delu pa prestavimo vse tri (ne da bi obrnili vrstni red).\n",
    "\n",
    "```\n",
    "    [D]\n",
    "[N] [C]\n",
    "[Z] [M] [P]\n",
    " 1   2   3\n",
    "\n",
    "move 1 from 2 to 1\n",
    "move 3 from 1 to 3\n",
    "move 2 from 2 to 1\n",
    "move 1 from 1 to 2\n",
    "```\n",
    "\n",
    "## Branje podatkov\n",
    "\n",
    "Naloga je trivialna, obupno zoprno pa je branje podatkov. Po mnogo poskusih biti pameten in elegantnen, sem končal pri tem. Ni lepo, je pa vsaj pregledno."
   ]
  },
  {
   "cell_type": "code",
   "execution_count": 5,
   "id": "09d9869d",
   "metadata": {},
   "outputs": [],
   "source": [
    "from copy import deepcopy\n",
    "\n",
    "lines, instructions = open(\"example.txt\").read().split(\"\\n\\n\")\n",
    "lines = lines.splitlines()\n",
    "stacks = {lines[-1][column]: [lines[row][column]\n",
    "                              for row in range(len(lines) - 2, -1, -1)\n",
    "                              if len(lines[row]) > column and lines[row][column] != \" \"]\n",
    "          for column in range(1, len(lines[-1]), 4)}\n",
    "\n",
    "stacks2 = deepcopy(stacks)"
   ]
  },
  {
   "cell_type": "markdown",
   "id": "192dbcc6",
   "metadata": {},
   "source": [
    "Celotno vsebino datoteke razkosamo na `lines` in `instructions`.\n",
    "\n",
    "Potem imamo zanko, ki šteje stolpce: `column` bo šel po x-koordinatah slike: prvi stolpec je na indeksu (znotraj vrstica) 1, drugi na 5 in tako naprej.\n",
    "\n",
    "Zanka sestavlja slovar. \n",
    "\n",
    "- Ključi so številke, ki jih preberemo v zadnji vrstici v tem stolpcu (`lines[-1][column]`). To bodo v resnici 1, 2, 3, 4, lahko pa bi bile tudi drugačne, ali pa bi imeli stolpci celo črkovne oznake. Številk ne spreminjamo v `int`-e, ker ni potrebe.\n",
    "- Pripadajoče vrednosti so seznam paketov v tem stolpcu. Tega dobimo tako, da gremo z zanko po številkah vrstic in sicer od spodaj navzgor (ker želimo, da so zgornji paketi na koncu seznama). V seznam zlagamo, kar je v tej vrstici in tem stolpcu (`lines[row][column]`), vendar le, če je ta vrstica tako dolga, da sploh pokriva ta stolpec in če je na tem mestu paket in ne presledek.\n",
    "\n",
    "To je to. Grdo, ampak dela.\n",
    "\n",
    "Na koncu naredimo kopijo vsega, za drugi del. Če bi naivno napisali `stacks2 = stacks.copy()`, bi dobili kopijo slovarja, ki pa bi vseboval *iste* elemente. Ker želimo, da so tudi elementi kopije, uporabimo funkcijo `deepcopy` iz modula `copy`.\n",
    "\n",
    "Zdaj pa bomo kar vzporedno rešili oba dela.\n",
    "\n",
    "Beremo navodila. Če jih razbijemo s `split`, bomo vedno dobili šest reči, pri čemer nas zanimajo, druga, četrta in šesta, ki povedo koliko paketov premikamo, odkod in kam.\n",
    "\n",
    "Vzamemo torej navodila; s `strip()` odsekamo zadnji `\\n`, da ne bo sitnosti; jih s `splitlines` razbijemo na vrstice, in nato vsak niz razbijemo s `str.split` na besede. Iz teh razbitij vzamemo `quantity`, `source` in `destination`.\n",
    "\n",
    "Potem prelagamo tovor: v prvem delu prestavimo zadnjih `quantity` elementov v obratnem vrstnem redu, za drugi del v takšnem, kot je."
   ]
  },
  {
   "cell_type": "code",
   "execution_count": 6,
   "id": "a2f1b3e5",
   "metadata": {},
   "outputs": [],
   "source": [
    "for _, quantity, _, source, _, destination in map(str.split, instructions.strip().splitlines()):\n",
    "    quantity = int(quantity)\n",
    "\n",
    "    # Part 1\n",
    "    stacks[destination] += stacks[source][-1:-quantity-1:-1]\n",
    "    del stacks[source][-quantity:]\n",
    "\n",
    "    # Part 2\n",
    "    stacks2[destination] += stacks2[source][-quantity:]\n",
    "    del stacks2[source][-quantity:]"
   ]
  },
  {
   "cell_type": "markdown",
   "id": "3e9d93d1",
   "metadata": {},
   "source": [
    "Na koncu izpišemo, kot zahteva naloga, imena vrhnjih paketov."
   ]
  },
  {
   "cell_type": "code",
   "execution_count": 7,
   "id": "c08ac421",
   "metadata": {},
   "outputs": [
    {
     "name": "stdout",
     "output_type": "stream",
     "text": [
      "CMZ\n",
      "MCD\n"
     ]
    }
   ],
   "source": [
    "print(\"\".join(stack[-1] for stack in stacks.values()))\n",
    "print(\"\".join(stack[-1] for stack in stacks2.values()))"
   ]
  }
 ],
 "metadata": {
  "kernelspec": {
   "display_name": "Python 3 (ipykernel)",
   "language": "python",
   "name": "python3"
  },
  "language_info": {
   "codemirror_mode": {
    "name": "ipython",
    "version": 3
   },
   "file_extension": ".py",
   "mimetype": "text/x-python",
   "name": "python",
   "nbconvert_exporter": "python",
   "pygments_lexer": "ipython3",
   "version": "3.9.7"
  }
 },
 "nbformat": 4,
 "nbformat_minor": 5
}
