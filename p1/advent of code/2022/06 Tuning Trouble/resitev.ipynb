{
 "cells": [
  {
   "cell_type": "markdown",
   "id": "0252278f",
   "metadata": {},
   "source": [
    "# Day 6: Tuning Trouble\n",
    "\n",
    "([besedilo naloge](https://adventofcode.com/2022/day/6))\n",
    "\n",
    "Dobimo nek niz, recimo `mjqjpqmgbljsphdztnvjfqwrcgsmlb`. Iščemo zaporedje štirih znakov, med katerimi ni nobenega ponovljenega znaka. Zanima nas, koliko znakov tega niza moramo prebrati, da naletimo na takšno četvorko.\n",
    "\n",
    "Drugi del je podoben, le da namesto četvorke iščemo štirinajsterico, ki ne vsebuje ponovljenega znaka."
   ]
  },
  {
   "cell_type": "code",
   "execution_count": 3,
   "id": "5b9dc0df",
   "metadata": {},
   "outputs": [],
   "source": [
    "data = open(\"example.txt\").read().strip()"
   ]
  },
  {
   "cell_type": "markdown",
   "id": "47d3fb25",
   "metadata": {},
   "source": [
    "Gremo čez možne indekse, `for i in range(n, len(data))`, in opazujemo nize `data[i - n:i]`, kjer je `n` v prvem delu `4` in v drugem `14`. Vsi njegovi elementi so različni, če množica njegovih elementov vsebuje točno `n` elementov. Če je tako, izpišemo `i`. Rešitev naloge (obeh delov) je torej"
   ]
  },
  {
   "cell_type": "code",
   "execution_count": 17,
   "id": "1a7597ee",
   "metadata": {},
   "outputs": [
    {
     "name": "stdout",
     "output_type": "stream",
     "text": [
      "7\n",
      "19\n"
     ]
    }
   ],
   "source": [
    "for n in (4, 14):\n",
    "    for i in range(n, len(data)):\n",
    "        if len(set(data[i - n:i])) == n:\n",
    "            break\n",
    "    print(i)"
   ]
  },
  {
   "cell_type": "markdown",
   "id": "be59c2fc",
   "metadata": {},
   "source": [
    "Bolj zanimiva različica iste ideje sestavi generator, ki bi - če bi ga pustili - zgeneriral vse `i`-je, pri katerih imamo `n` različnih znakov, `(i for i in range(len(data)) if len(set(data[i-n:i])) == n)`. Zanima nas samo prvi: dobimo ga z `next`."
   ]
  },
  {
   "cell_type": "code",
   "execution_count": 18,
   "id": "a064fe96",
   "metadata": {},
   "outputs": [
    {
     "name": "stdout",
     "output_type": "stream",
     "text": [
      "7\n",
      "19\n"
     ]
    }
   ],
   "source": [
    "for n in (4, 14):\n",
    "    print(next(i for i in range(len(data)) if len(set(data[i-n:i])) == n))"
   ]
  },
  {
   "cell_type": "markdown",
   "id": "fdbac1eb",
   "metadata": {},
   "source": [
    "Ta rešitev je sicer manj pregledna, časovno pa nič slabša od gornje, saj v resnici ne zgenerira vseh takšnih `n` temveč samo prvega."
   ]
  }
 ],
 "metadata": {
  "kernelspec": {
   "display_name": "Python 3 (ipykernel)",
   "language": "python",
   "name": "python3"
  },
  "language_info": {
   "codemirror_mode": {
    "name": "ipython",
    "version": 3
   },
   "file_extension": ".py",
   "mimetype": "text/x-python",
   "name": "python",
   "nbconvert_exporter": "python",
   "pygments_lexer": "ipython3",
   "version": "3.9.7"
  }
 },
 "nbformat": 4,
 "nbformat_minor": 5
}
