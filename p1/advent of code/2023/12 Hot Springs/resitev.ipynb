{
 "cells": [
  {
   "cell_type": "markdown",
   "id": "a6eadb52",
   "metadata": {},
   "source": [
    "## Day 12: Hot Springs\n",
    "\n",
    "[(besedilo naloge)](https://adventofcode.com/2023/day/12)\n",
    "\n",
    "Leta 2023 se je v avtorju Advent of Code prebudil Dostojevski. Če vas zanima celotno besedilo naloge (recimo, ker je moj spodnji opis prehiter), berite original, vendar lahko prvih nekaj poglavij mirno preskočite. Roman postane zanimiv nekje pri odstavku \"*In the giant field just outside* ...\"\n",
    "\n",
    "Na kratko in brez zgobice, takole: imamo zaporedje znakov `#` in `.`, poleg tega pa niz števil, ki pove dolžine skupine `#`-ov. Na primer\n",
    "\n",
    "```\n",
    "..###..##....###..#. 3,2,3,1\n",
    "```\n",
    "\n",
    "Med dvema skupinama je vedno `.`. Zaporedje `####...#` lahko opišemo samo s `4,1`, ne pa `2,2,1` ali `3,1,1`.\n",
    "\n",
    "Potem pa pokvarimo niz tako, da nekatere znake zamenjamo z vprašaji, na primer\n",
    "\n",
    "```\n",
    ".??##?.#?....??????? 3,2,3,1\n",
    "```\n",
    "\n",
    "Na koliko načinov je možno zamenjati znake `?` z `#` in `.`, da bo niz ustrezal številkam? Tega na 12.\n",
    "\n",
    "```\n",
    ".###...##....###.#..\n",
    ".###...##....###..#.\n",
    ".###...##....###...#\n",
    ".###...##.....###.#.\n",
    ".###...##.....###..#\n",
    ".###...##......###.#\n",
    "..###..##....###.#..\n",
    "..###..##....###..#.\n",
    "..###..##....###...#\n",
    "..###..##.....###.#.\n",
    "..###..##.....###..#\n",
    "..###..##......###.#\n",
    "```\n",
    "\n",
    "Pa v splošnem?\n",
    "\n",
    "Naloga na Advent of Code je bila prebrati datoteko s 1000 takšnimi nizi in številkami, za vsakega prešteti na koliko načinov ga je mogoče \"popraviti\" in to sešteti. Drugi del je spremenjen tako, da postanejo ti nizi res dolgi, dobimo lahko, recimo niz\n",
    "\n",
    "```\n",
    "???.??????#?????.##.????.??????#?????.##.????.??????#?????.##.????.??????#?????.##.????.??????#?????.##.\n",
    "```\n",
    "\n",
    "s skupinami\n",
    "\n",
    "```\n",
    "1,1,7,1,1,2,1,1,7,1,1,2,1,1,7,1,1,2,1,1,7,1,1,2,1,1,7,1,1,2\n",
    "```\n",
    "\n",
    "### Rešitev\n",
    "\n",
    "Tule bomo za začetek napisali funkcijo `ways(line, groups)`, ki prejme niz in seznam števil ter vrne število možnih konfiguracij.\n",
    "\n",
    "Preden preberete rešitev, predlagam, da poskusite nalogo rešite sami. Tako boste najbolj dojeli, v čem je problem. Priporočam tudi, da pozabite na regularne izraze. Ne pozabite pa na rekurzijo. :)\n",
    "\n",
    "----\n",
    "\n",
    "Tole bo čisto lep - zgleden, šolski primer rekurzije. Najprej robni pogoji, s katerimi se rekurzija konča.\n",
    "\n",
    "Najprej odstranimo začetne pike, saj nas ne zanimajo."
   ]
  },
  {
   "cell_type": "code",
   "execution_count": 1,
   "id": "ad128efb",
   "metadata": {},
   "outputs": [],
   "source": [
    "def ways(line, groups):\n",
    "    line = line.lstrip(\".\")"
   ]
  },
  {
   "cell_type": "markdown",
   "id": "ed37b81f",
   "metadata": {},
   "source": [
    "Zdaj se lahko zgodi, da je vrstica prazna. Če je prazen tudi seznam `groups`, potem imamo očitno točno eno pravilno konfiguracijo. Če seznam `groups` ni prazen, pa imamo nič možnih konfiguracij - morali bi razporediti še nekaj skupin, a jih nimamo kam."
   ]
  },
  {
   "cell_type": "code",
   "execution_count": 2,
   "id": "64a2a202",
   "metadata": {},
   "outputs": [],
   "source": [
    "def ways(line, groups):\n",
    "    line = line.lstrip(\".\")\n",
    "    if not line:\n",
    "        return not groups"
   ]
  },
  {
   "cell_type": "markdown",
   "id": "5f31721f",
   "metadata": {},
   "source": [
    "Vrnili smo kar `not groups`. Če ni vel skupin, bo to `True`, kar je enako kot `1`; če so, bo `False`, torej `0`.\n",
    "\n",
    "Zdaj pa drug primer: kaj če je zmanjkalo skupin. Ker nas ta zanima samo, če še ni zmanjkalo tudi vrstice, bomo nadaljevali kar z `elif not groups`, torej, vrstica ni prazna, skupine pa. Če vrstica vsebuje le še vprašaje in pike, imamo točno eno možno konfiguracijo - vse vprašaje zamenjamo s pikami. Čim vrstica vsebuje kak `#`, pa imamo nič možnih konfiguracij, saj vrstica predvideva nove skupin, skupin pa ni več."
   ]
  },
  {
   "cell_type": "code",
   "execution_count": 3,
   "id": "3ee97bf4",
   "metadata": {},
   "outputs": [],
   "source": [
    "def ways(line, groups):\n",
    "    line = line.lstrip(\".\")\n",
    "    if not line:\n",
    "        return not groups\n",
    "    elif not groups:\n",
    "        return \"#\" not in line"
   ]
  },
  {
   "cell_type": "markdown",
   "id": "0cd4bb20",
   "metadata": {},
   "source": [
    "Tako smo opravili z robnimi pogoji. Zdaj pa rekurzivni del. Ta bo obravnaval dva scenarija: prvi znak vrstice je lahko `?` ali `#`. Pike smo namreč od-`lstrip`-ali na začetku funkcije.\n",
    "\n",
    "Če je prvi znak `?` je stvar silno preprosta. Zamenjati ga je možno s `#` ali s `.`. Število vseh konfiguracij je enako vsoti konfiguracij, ki se začnejo s `#` in vsoti konfiguracij, ki se začnejo s `.`."
   ]
  },
  {
   "cell_type": "code",
   "execution_count": 4,
   "id": "1188a033",
   "metadata": {},
   "outputs": [],
   "source": [
    "def ways(line, groups):\n",
    "    line = line.lstrip(\".\")\n",
    "    if not line:\n",
    "        return not groups\n",
    "    elif not groups:\n",
    "        return \"#\" not in line\n",
    "\n",
    "    if line[0] == \"?\":\n",
    "        return ways(\"#\" + line[1:], groups) + ways(\".\" + line[1:], groups)"
   ]
  },
  {
   "cell_type": "markdown",
   "id": "66574278",
   "metadata": {},
   "source": [
    "Če je prvi znak `#`, pa nas prisili, da prav tu začnemo naslednjo skupino. Najprej moramo preveriti, ali je na tem mestu lahko skupina zahtevane dolžine. To zahteva tri pogoje:\n",
    "\n",
    "- preostanek vrstice mora biti dovolj dolg,\n",
    "- v toliko znakih vrstice, kolikor je dolga skupina, ne sme biti nobene pike (poleg `#` pa seveda dovolimo tudi vprašaje)\n",
    "- skupina se mora končati; torej, ostanek niza mora biti dolg natančno toliko, kolikor je dolga skupina, ali pa mora biti znak, ki je za koncem skupine, `.` ali `?`, nikakor ne pa `#`.\n",
    "\n",
    "Če ti pogoji niso izpolnjeni, se vrstica tu ne more začeti z naslednjo skupino."
   ]
  },
  {
   "cell_type": "code",
   "execution_count": 5,
   "id": "a730652e",
   "metadata": {},
   "outputs": [],
   "source": [
    "def ways(line, groups):\n",
    "    line = line.lstrip(\".\")\n",
    "    if not line:\n",
    "        return not groups\n",
    "    elif not groups:\n",
    "        return \"#\" not in line\n",
    "\n",
    "    if line[0] == \"?\":\n",
    "        return ways(\"#\" + line[1:], groups) + ways(\".\" + line[1:], groups)\n",
    "    g0 = groups[0]\n",
    "    if len(line) < g0 or \".\" in line[:g0] or (len(line) > g0 and line[g0] == \"#\"):\n",
    "        return 0"
   ]
  },
  {
   "cell_type": "markdown",
   "id": "64587e7e",
   "metadata": {},
   "source": [
    "Če je vse v redu, pa bo ta skupina pač tu, število konfiguracij pa je enako številu konfiguracij brez te skupine - na začetku niza odbijemo toliko znakov, kolikor je dolga ta skupina in še enega zraven (to je potrebno zato, ker bi skupini lahko sledil `?` in nočemo, da bi ga v naslednjem klicu slučajno zamenjali s `#`!), iz seznama skupin pa odstranimo prvo."
   ]
  },
  {
   "cell_type": "code",
   "execution_count": 6,
   "id": "323f33b2",
   "metadata": {},
   "outputs": [],
   "source": [
    "def ways(line, groups):\n",
    "    line = line.lstrip(\".\")\n",
    "    if not line:\n",
    "        return not groups\n",
    "    elif not groups:\n",
    "        return \"#\" not in line\n",
    "\n",
    "    if line[0] == \"?\":\n",
    "        return ways(\"#\" + line[1:], groups) + ways(\".\" + line[1:], groups)\n",
    "    g0 = groups[0]\n",
    "    if len(line) < g0 or \".\" in line[:g0] or (len(line) > g0 and line[g0] == \"#\"):\n",
    "        return 0\n",
    "    return ways(line[g0 + 1:], groups[1:])"
   ]
  },
  {
   "cell_type": "markdown",
   "id": "c03ea19f",
   "metadata": {},
   "source": [
    "Še hitro preverjanje: imamo tri rekurzivne klice. Da se rekurzija ne zacikla, moramo biti z vsakim klicem bližje robnemu pogoju. Je to tu res?\n",
    "\n",
    "Pri tretjem klicu - očitno: tako vrstica kot seznam skupin sta krajša. Pri prvih dveh - manj očitno. A vendar. Če zamenjamo `?` s `#`, bomo v naslednjem klicu očitno padli v zadnji, tretji klic in ta bo skrajšal vrstico in seznam. Če zamenjamo `?` s `.`, pa jo bo v naslednjem klicu od-`lstrip`-al in tako skrajšal vrstico."
   ]
  },
  {
   "cell_type": "markdown",
   "id": "bff5668a",
   "metadata": {},
   "source": [
    "## Deluje že, deluje, ampak počasi\n",
    "\n",
    "**Kdor se preveč boji matematike, lahko preskoči ta razdelek. Čeprav ... saj ne bo tako huda.**"
   ]
  },
  {
   "cell_type": "code",
   "execution_count": 7,
   "id": "55e55f21",
   "metadata": {},
   "outputs": [
    {
     "data": {
      "text/plain": [
       "12"
      ]
     },
     "execution_count": 7,
     "metadata": {},
     "output_type": "execute_result"
    }
   ],
   "source": [
    "ways(\".??##?.#?....???????\", [3, 2, 3, 1])"
   ]
  },
  {
   "cell_type": "markdown",
   "id": "dc61aed7",
   "metadata": {},
   "source": [
    "Če je bilo gornje, ročno štetje pravilno, je pravilna tudi funkcija. Je. Prestala je tudi teste na Advent of Code.\n",
    "\n",
    "No, skoraj. V tej obliki funkcija zmore kratke nize, za one, zverinsko dolge, pa je počasna."
   ]
  },
  {
   "cell_type": "code",
   "execution_count": 8,
   "id": "15a49c1e",
   "metadata": {},
   "outputs": [
    {
     "name": "stdout",
     "output_type": "stream",
     "text": [
      "1.41 s ± 7.48 ms per loop (mean ± std. dev. of 7 runs, 1 loop each)\n"
     ]
    }
   ],
   "source": [
    "%%timeit\n",
    "\n",
    "ways(\"???.??????#?????.##.????.??????#?????.##.????.??????#?????.##.????.??????#?????.##.????.??????#?????.##.\",\n",
    "     [1, 1, 7, 1, 1, 2, 1, 1, 7, 1, 1, 2, 1, 1, 7, 1, 1, 2, 1, 1, 7, 1, 1, 2, 1, 1, 7, 1, 1, 2])"
   ]
  },
  {
   "cell_type": "markdown",
   "id": "664a7338",
   "metadata": {},
   "source": [
    "Če za tale niz potrebuje sekundo in pol, bo za 1000 nizov potrebovala pol ure.\n",
    "\n",
    "Da bomo lažje opazovali, kaj se dogaja, dodajmo štetje klicev. V Pythonu to najpreprosteje naredimo tako, da funkcijo priredimo atribut, recimo `calls` (funkcije v Pythonu so objekti in to takšni, ki jim lahko dodajamo atribute). Funkcija ga bo ob vsakem klicu povečala, mi pa ga bomo pred testiranjem resetirali in po njem izpisali."
   ]
  },
  {
   "cell_type": "code",
   "execution_count": 9,
   "id": "2b972766",
   "metadata": {},
   "outputs": [],
   "source": [
    "def ways(line, groups):\n",
    "    ways.calls += 1\n",
    "    \n",
    "    line = line.lstrip(\".\")\n",
    "    if not line:\n",
    "        return not groups\n",
    "    elif not groups:\n",
    "        return \"#\" not in line\n",
    "\n",
    "    if line[0] == \"?\":\n",
    "        return ways(\"#\" + line[1:], groups) + ways(\".\" + line[1:], groups)\n",
    "    g0 = groups[0]\n",
    "    if len(line) < g0 or \".\" in line[:g0] or (len(line) > g0 and line[g0] == \"#\"):\n",
    "        return 0\n",
    "    return ways(line[g0 + 1:], groups[1:])\n",
    "\n",
    "\n",
    "def test_ways(line, groups):\n",
    "    ways.calls = 0\n",
    "    ways(line, groups)\n",
    "    return ways.calls"
   ]
  },
  {
   "cell_type": "markdown",
   "id": "579d0c1c",
   "metadata": {},
   "source": [
    "(Nekateri študenti bi to znali narediti še lepše, s splošnejšim dekoratorjem. To vajo prepuščam njim; tule jo bomo preskočili.)\n",
    "\n",
    "Kolikokrat se funkcija pokliče, če vsebuje niz 12 vprašajev in enega od njih je potrebno zamenjati s `#`."
   ]
  },
  {
   "cell_type": "code",
   "execution_count": 10,
   "id": "f01b1fbf",
   "metadata": {},
   "outputs": [
    {
     "data": {
      "text/plain": [
       "37"
      ]
     },
     "execution_count": 10,
     "metadata": {},
     "output_type": "execute_result"
    }
   ],
   "source": [
    "test_ways(\"?\" * 12, [1])"
   ]
  },
  {
   "cell_type": "markdown",
   "id": "fa7adaf6",
   "metadata": {},
   "source": [
    "37 ni malo, je pa sprejemljivo in razložljivo - to je trikrat 12 in še en zraven (za konec, ko sta tako seznam kot skupina prazna). Zakaj trikrat? Funkcija za vsak vprašaj funkcija opravi dva klica - enkrat ga zamenja s `?`, enkrat z `#`. Tisti z `#` vodi v samo en klic - skupina je vstavljena, novih skupin ni in robni pogoj konča rekurzijo. Tisti z `.` pa pač nadaljuje \"zanko\" na ostanku seznama.\n",
    "\n",
    "Če je torej seznam dolg `n` znakov, bomo imeli $3n + 1$ klicev. Če je seznam dvakrat daljši, bo klicev pač dvakrat toliko (z malo napake zaradi enice)."
   ]
  },
  {
   "cell_type": "code",
   "execution_count": 11,
   "id": "0f90228b",
   "metadata": {},
   "outputs": [
    {
     "data": {
      "text/plain": [
       "73"
      ]
     },
     "execution_count": 11,
     "metadata": {},
     "output_type": "execute_result"
    }
   ],
   "source": [
    "test_ways(\"?\" * 24, [1])"
   ]
  },
  {
   "cell_type": "markdown",
   "id": "f704f7db",
   "metadata": {},
   "source": [
    "Očitno. Če v $3n + 1$ zamenjamo $n$ z $2n$, dobimo $3(2n) + 1 = 6n+1$."
   ]
  },
  {
   "cell_type": "markdown",
   "id": "b3ed2367",
   "metadata": {},
   "source": [
    "Kaj pa, če moramo v enako dolg niz postaviti dve skupini dolžine 1?\n",
    "\n",
    "Tu je računanje malo bolj zoprno. Izkaže se, da bo število klicev enako $3\\frac{n(n - 1)}{2} + 4$, a tega nam ni potrebno natančno razumeti, saj si lahko pomagamo s tem, da razmislimo, kako bi skupini razporejali ročno, uganemo obliko formule in jo preverimo tako, da kličemo funkcijo.\n",
    "\n",
    "Torej, kako bi skupini razporejali ročno? Najprej postavimo prvo čisto na levo, druga bo na enem ob 10 možnih mest (če je niz dolg 12). Nato premaknemo prvo skupino za eno mesto proti desni; druga bo na enem od 9 možnih mest. Nato gre prva še za en korak desno in druga bo na enem od 8 mest. In tako naprej. Različnih razporedov je 10 + 9 + 8 + 7 + 6 + 5 + 4 + 3 + 2 + 1."
   ]
  },
  {
   "cell_type": "code",
   "execution_count": 12,
   "id": "78afce6b",
   "metadata": {},
   "outputs": [
    {
     "data": {
      "text/plain": [
       "55"
      ]
     },
     "execution_count": 12,
     "metadata": {},
     "output_type": "execute_result"
    }
   ],
   "source": [
    "ways(\"?\" * 12, [1, 1])"
   ]
  },
  {
   "cell_type": "markdown",
   "id": "9c54b7f4",
   "metadata": {},
   "source": [
    "V splošnem imamo niz dolžine `n` in število konfiguracij je enako vsoti števil od $1$ do $n - 2$, ki je, kot vemo iz izmišljene anekdote o Gaussu (hvalabogu je to vsaj ena stvar, ki je niso pripisali Einsteinu, ki je zagotovo deležen največjega deleža izmišljenih citatov; v okviru znanosti, seveda - če gre za politiko, je to gotovo rekel Churchill, če za strategiju, Sun Tzu, vse ostalo pa je rekel Mark Twain) enaka $(n - 1)(n - 2)/2$. Tudi če zanemarimo vso šaro koeficientov - polovice, trikratne klice in bogvekaj še, smo prisiljeni ugotoviti tole: rezultat, ki ga vrača funkcija, je sorazmeren kvadratu $n$. Ker funkcija na koncu, čisto na dnu, vedno vrne `0` ali `1` in končni rezultat je samo vsota vseh teh enic, bo morala funkcija za rezultat sorazmeren kvadratu, vrniti $\\sim n^2$ enic, kar bo zahtevalo vsaj $n^2$ klicev.\n",
    "\n",
    "V resnici za niz dolžine 12 potrebuje 202 klicev."
   ]
  },
  {
   "cell_type": "code",
   "execution_count": 13,
   "id": "237dee3c",
   "metadata": {},
   "outputs": [
    {
     "data": {
      "text/plain": [
       "202"
      ]
     },
     "execution_count": 13,
     "metadata": {},
     "output_type": "execute_result"
    }
   ],
   "source": [
    "test_ways(\"?\" * 12, [1, 1])"
   ]
  },
  {
   "cell_type": "markdown",
   "id": "68de8027",
   "metadata": {},
   "source": [
    "Za dvakrat daljši niz potrebuje - ne več dvakrat, temveč štirikrat toliko klicev!"
   ]
  },
  {
   "cell_type": "code",
   "execution_count": 14,
   "id": "3f7099df",
   "metadata": {},
   "outputs": [
    {
     "data": {
      "text/plain": [
       "832"
      ]
     },
     "execution_count": 14,
     "metadata": {},
     "output_type": "execute_result"
    }
   ],
   "source": [
    "test_ways(\"?\" * 24, [1, 1])"
   ]
  },
  {
   "cell_type": "markdown",
   "id": "02016ad4",
   "metadata": {},
   "source": [
    "Zakaj štirikrat? Število je, vemo, sorazmerno $n^2$. Če v $n^2$ zamenjamo $n$ z $2n$, dobimo $(2n)^n$ je $4n^2$. Štirikrat toliko kot prej.\n",
    "\n",
    "Za trikrat daljši niz potrebujemo devetkrat toliko klicev in za štirikrat daljši seznam šestnajstkrat toliko klicev."
   ]
  },
  {
   "cell_type": "code",
   "execution_count": 15,
   "id": "3cb1e858",
   "metadata": {},
   "outputs": [
    {
     "data": {
      "text/plain": [
       "1894"
      ]
     },
     "execution_count": 15,
     "metadata": {},
     "output_type": "execute_result"
    }
   ],
   "source": [
    "test_ways(\"?\" * 36, [1, 1])"
   ]
  },
  {
   "cell_type": "code",
   "execution_count": 16,
   "id": "38cea9c4",
   "metadata": {},
   "outputs": [
    {
     "data": {
      "text/plain": [
       "3388"
      ]
     },
     "execution_count": 16,
     "metadata": {},
     "output_type": "execute_result"
    }
   ],
   "source": [
    "test_ways(\"?\" * 48, [1, 1])"
   ]
  },
  {
   "cell_type": "markdown",
   "id": "adf1d492",
   "metadata": {},
   "source": [
    "Vidimo? Začeli smo pri 200 in ko je bilo število klicev dvakrat, trikrat in štirikrat večje, smo dobili štirikratnik, devetkratnih in šestnajstkratnik 200 - približno 800, 1800 in 3200 (plus veliko zaokrožitvene napake)."
   ]
  },
  {
   "cell_type": "markdown",
   "id": "d8505fa3",
   "metadata": {},
   "source": [
    "Tragedija se poglobi, ko vstavljamo tri skupine."
   ]
  },
  {
   "cell_type": "code",
   "execution_count": 17,
   "id": "ddac4144",
   "metadata": {},
   "outputs": [
    {
     "data": {
      "text/plain": [
       "562"
      ]
     },
     "execution_count": 17,
     "metadata": {},
     "output_type": "execute_result"
    }
   ],
   "source": [
    "test_ways(\"?\" * 12, [1, 1, 1])"
   ]
  },
  {
   "cell_type": "code",
   "execution_count": 18,
   "id": "39cbb7c2",
   "metadata": {},
   "outputs": [
    {
     "data": {
      "text/plain": [
       "5452"
      ]
     },
     "execution_count": 18,
     "metadata": {},
     "output_type": "execute_result"
    }
   ],
   "source": [
    "test_ways(\"?\" * 24, [1, 1, 1])"
   ]
  },
  {
   "cell_type": "code",
   "execution_count": 19,
   "id": "8a7be8b3",
   "metadata": {},
   "outputs": [
    {
     "data": {
      "text/plain": [
       "19846"
      ]
     },
     "execution_count": 19,
     "metadata": {},
     "output_type": "execute_result"
    }
   ],
   "source": [
    "test_ways(\"?\" * 36, [1, 1, 1])"
   ]
  },
  {
   "cell_type": "code",
   "execution_count": 20,
   "id": "42c2b744",
   "metadata": {},
   "outputs": [
    {
     "data": {
      "text/plain": [
       "48928"
      ]
     },
     "execution_count": 20,
     "metadata": {},
     "output_type": "execute_result"
    }
   ],
   "source": [
    "test_ways(\"?\" * 48, [1, 1, 1])"
   ]
  },
  {
   "cell_type": "markdown",
   "id": "94eafff2",
   "metadata": {},
   "source": [
    "Zdaj je število konfiguracij - in s tem število klicev - sorazmerno kubu dolžine niza. Ko se ta podvoji, potroji in početveri, je število klicev 8-krat, 27-krat in 64-krat večje (ne *točno* tolikokrat; tak je trend).\n",
    "\n",
    "Če pri štirih skupinah število klicev narašča s četrto potenco dolžine niza, pri petih s peto... Število klicev bo torej sorazmerno $n^g$, kjer je $n$ dolžina niza, $g$ pa število skupin. Za takšno zahtevnost pravimo, da je *eksponentna* glede na število skupin. Če si predstavljamo, da imajo daljši niz tudi večje število skupin in je torej $g$ sorazmeren $n$, lahko tu pričakujemo zahtevnost $n^n$. Grozno."
   ]
  },
  {
   "cell_type": "markdown",
   "id": "9257de15",
   "metadata": {},
   "source": [
    "## Kako pospešiti funkcijo?\n",
    "\n",
    "Zelo preprosto. Preprečiti ji je potrebno, da bi večkrat računala, kar je že izračunala.\n",
    "\n",
    "Vrnimo se k dvema skupinama.\n",
    "\n",
    "- Najprej postavi prvo skupino čisto na levo, na prvi znak, in se vpraša, na koliko načinov je možno postaviti preostalo skupino na preostalih deset znakov (drugi je prepovedan).\n",
    "- Da izve, na koliko načino je možno postaviti skupino na deset znakov, preveri dve možnosti. Bodisi je skupina na prvem (izmed teh desetih) in v tem primeru smo v bistvu končali. Potem pa predpostavi, da *ni* na prvem in naredi rekurzivni klic, da preveri, na koliko načinov je možno postaviti preostalo eno skupino na devet prostih mest.\n",
    "- ... sledi še precej klicev ...\n",
    "- Ko kočna z vsemi konfiguracijami, v katerih je prva skupina na prvem znaku, začne s tistimi, v katerih prva skupina *ni* na prvem znaku. Morda je na drugem. V tem primeru mora preveriti vse možne postavitve druge skupine na preostalih devetih znakih. To pa je že delala! Če si zapomni rezultat tega klica, ko smo ga izvedli prvič, ga lahko uporabi, ne da bi dejansko ponovno računala.\n",
    "\n",
    "Takšnemu pomnjenju rečemo *memoizacija* in v Pythonu ga je preprosto dodati: iz modula `functools` uvozimo dekorator `cache` in ga dodamo pred funkcijo."
   ]
  },
  {
   "cell_type": "code",
   "execution_count": 21,
   "id": "20db3a73",
   "metadata": {},
   "outputs": [],
   "source": [
    "from functools import cache\n",
    "\n",
    "@cache\n",
    "def ways(line, groups):\n",
    "    ways.calls += 1\n",
    "    \n",
    "    line = line.lstrip(\".\")\n",
    "    if not line:\n",
    "        return not groups\n",
    "    elif not groups:\n",
    "        return \"#\" not in line\n",
    "\n",
    "    if line[0] == \"?\":\n",
    "        return ways(\"#\" + line[1:], groups) + ways(\".\" + line[1:], groups)\n",
    "    g0 = groups[0]\n",
    "    if len(line) < g0 or \".\" in line[:g0] or (len(line) > g0 and line[g0] == \"#\"):\n",
    "        return 0\n",
    "    return ways(line[g0 + 1:], groups[1:])\n",
    "\n",
    "\n",
    "def test_ways(line, groups):\n",
    "    ways.calls = 0\n",
    "    ways.cache_clear()\n",
    "    ways(line, groups)\n",
    "    return ways.calls"
   ]
  },
  {
   "cell_type": "markdown",
   "id": "0fef45bd",
   "metadata": {},
   "source": [
    "Dekoriranje bo zahtevalo še dve spremembi. V `test_ways` moramo poklicati `cache_clear`, da funkcija pred vsakim testom pozabi zapomnjeno.\n",
    "\n",
    "Druga: skupin ne bomo več mogli podajati s seznamom, saj `cache` temelji na slovarju, katerega ključi so argumenti funkcije, pripadajoče vrednosti pa (znani) rezultati. Ker je seznam spremenljiv, ne more nastopati kot ključ. Nič ne de, bomo pač delali s terkami. Funkcije ne bo potrebno spreminjati le klicali jo bomo s terko namesto s seznamom."
   ]
  },
  {
   "cell_type": "markdown",
   "id": "860e6332",
   "metadata": {},
   "source": [
    "Pri eni sami skupini se to ne bo poznalo prav nič. Raje kar takoj pofleksajmo s štirimi (ki se jih prej nismo upali niti dotakniti)."
   ]
  },
  {
   "cell_type": "code",
   "execution_count": 22,
   "id": "0d4e041e",
   "metadata": {},
   "outputs": [
    {
     "data": {
      "text/plain": [
       "105"
      ]
     },
     "execution_count": 22,
     "metadata": {},
     "output_type": "execute_result"
    }
   ],
   "source": [
    "test_ways(\"?\" * 12, (1, 1, 1, 1))"
   ]
  },
  {
   "cell_type": "code",
   "execution_count": 23,
   "id": "d48a9e9f",
   "metadata": {},
   "outputs": [
    {
     "data": {
      "text/plain": [
       "249"
      ]
     },
     "execution_count": 23,
     "metadata": {},
     "output_type": "execute_result"
    }
   ],
   "source": [
    "test_ways(\"?\" * 24, (1, 1, 1, 1))"
   ]
  },
  {
   "cell_type": "code",
   "execution_count": 24,
   "id": "fdb9e935",
   "metadata": {},
   "outputs": [
    {
     "data": {
      "text/plain": [
       "393"
      ]
     },
     "execution_count": 24,
     "metadata": {},
     "output_type": "execute_result"
    }
   ],
   "source": [
    "test_ways(\"?\" * 36, (1, 1, 1, 1))"
   ]
  },
  {
   "cell_type": "code",
   "execution_count": 25,
   "id": "f265d72e",
   "metadata": {},
   "outputs": [
    {
     "data": {
      "text/plain": [
       "537"
      ]
     },
     "execution_count": 25,
     "metadata": {},
     "output_type": "execute_result"
    }
   ],
   "source": [
    "test_ways(\"?\" * 48, (1, 1, 1, 1))"
   ]
  },
  {
   "cell_type": "markdown",
   "id": "cc3f8af5",
   "metadata": {},
   "source": [
    "Videti je kar lepo. Poskusimo z do desetkrat daljšimi nizi."
   ]
  },
  {
   "cell_type": "code",
   "execution_count": 26,
   "id": "a1950d32",
   "metadata": {},
   "outputs": [
    {
     "name": "stdout",
     "output_type": "stream",
     "text": [
      "[105, 249, 393, 537, 681, 825, 969, 1113, 1257, 1401, 1545, 1689, 1833, 1977, 2121, 2265, 2409, 2553, 2697, 2841]\n"
     ]
    }
   ],
   "source": [
    "ks = [12 * k for k in range(1, 21)]\n",
    "calls = [test_ways(\"?\" * k, (1, 1, 1, 1)) for k in ks]\n",
    "\n",
    "print(calls)"
   ]
  },
  {
   "cell_type": "markdown",
   "id": "5ccfb264",
   "metadata": {},
   "source": [
    "Pravzaprav: narišimo, pa bomo videli, ali narašča s četrto potenco (očitno ne), kubom, kvadratom ali, morda, celo, linearno."
   ]
  },
  {
   "cell_type": "code",
   "execution_count": 27,
   "id": "ce717180",
   "metadata": {},
   "outputs": [
    {
     "name": "stdout",
     "output_type": "stream",
     "text": [
      "Intel MKL WARNING: Support of Intel(R) Streaming SIMD Extensions 4.2 (Intel(R) SSE4.2) enabled only processors has been deprecated. Intel oneAPI Math Kernel Library 2025.0 will require Intel(R) Advanced Vector Extensions (Intel(R) AVX) instructions.\n",
      "Intel MKL WARNING: Support of Intel(R) Streaming SIMD Extensions 4.2 (Intel(R) SSE4.2) enabled only processors has been deprecated. Intel oneAPI Math Kernel Library 2025.0 will require Intel(R) Advanced Vector Extensions (Intel(R) AVX) instructions.\n"
     ]
    },
    {
     "data": {
      "text/plain": [
       "[<matplotlib.lines.Line2D at 0x114cbea50>]"
      ]
     },
     "execution_count": 27,
     "metadata": {},
     "output_type": "execute_result"
    },
    {
     "data": {
      "image/png": "[encoded data removed]",
      "text/plain": [
       "<Figure size 640x480 with 1 Axes>"
      ]
     },
     "metadata": {},
     "output_type": "display_data"
    }
   ],
   "source": [
    "import matplotlib.pyplot as plt\n",
    "\n",
    "plt.plot(ks, calls)"
   ]
  },
  {
   "cell_type": "markdown",
   "id": "66663241",
   "metadata": {},
   "source": [
    "Črta je tako ravna, da se človek kar ustraši. Poglejmo razmerje med številom klicev in dolžino seznama."
   ]
  },
  {
   "cell_type": "code",
   "execution_count": 28,
   "id": "1139f2ca",
   "metadata": {},
   "outputs": [
    {
     "data": {
      "text/plain": [
       "[8.75,\n",
       " 10.375,\n",
       " 10.916666666666666,\n",
       " 11.1875,\n",
       " 11.35,\n",
       " 11.458333333333334,\n",
       " 11.535714285714286,\n",
       " 11.59375,\n",
       " 11.63888888888889,\n",
       " 11.675,\n",
       " 11.704545454545455,\n",
       " 11.729166666666666,\n",
       " 11.75,\n",
       " 11.767857142857142,\n",
       " 11.783333333333333,\n",
       " 11.796875,\n",
       " 11.808823529411764,\n",
       " 11.819444444444445,\n",
       " 11.828947368421053,\n",
       " 11.8375]"
      ]
     },
     "execution_count": 28,
     "metadata": {},
     "output_type": "execute_result"
    }
   ],
   "source": [
    "[c / k for c, k in zip(calls, ks)]"
   ]
  },
  {
   "cell_type": "markdown",
   "id": "0d2f734d",
   "metadata": {},
   "source": [
    "Temu rečemo asimptota. Ko je število dolžina seznama dovolj velika, je število klicev enaka dolžini krat 11.83... S podaljševanjem dolžine se bo \"ustalilo\" vedno več decimalk. (V resnici število klicev leze proti $12n$. Zakaj ravno toliko, se mi ne da računati. Z malo poskušanja pa uvidimo, da je pri `2` skupinah število klicev leze proti $6n$, pri `3` skupinah proti $9n$, pri `4` proti $12n$. Pri $g$ skupinah je število klicev, izgleda $3(g + 1)n$. Odkod $3$ je očitno, odkod $g$ in $n$ tudi, o $+ 1$ pa se mi zdajle ne razmišlja. :)"
   ]
  },
  {
   "cell_type": "code",
   "execution_count": 29,
   "id": "5fa2fcb0",
   "metadata": {},
   "outputs": [
    {
     "name": "stdout",
     "output_type": "stream",
     "text": [
      "149 ns ± 0.255 ns per loop (mean ± std. dev. of 7 runs, 10,000,000 loops each)\n"
     ]
    }
   ],
   "source": [
    "%%timeit\n",
    "\n",
    "ways(\"???.??????#?????.##.????.??????#?????.##.????.??????#?????.##.????.??????#?????.##.????.??????#?????.##.\",\n",
    "     (1, 1, 7, 1, 1, 2, 1, 1, 7, 1, 1, 2, 1, 1, 7, 1, 1, 2, 1, 1, 7, 1, 1, 2, 1, 1, 7, 1, 1, 2))"
   ]
  },
  {
   "cell_type": "markdown",
   "id": "3165c0ed",
   "metadata": {},
   "source": [
    "Klic, ki je prej potreboval 1,42 s, zdaj potrebuje 148 ns, kar je"
   ]
  },
  {
   "cell_type": "code",
   "execution_count": 30,
   "id": "d28cdb49",
   "metadata": {},
   "outputs": [
    {
     "data": {
      "text/plain": [
       "'9_594_594.594594594'"
      ]
     },
     "execution_count": 30,
     "metadata": {},
     "output_type": "execute_result"
    }
   ],
   "source": [
    "f\"{1.42 / 148e-9:_}\""
   ]
  },
  {
   "cell_type": "markdown",
   "id": "05fde6c1",
   "metadata": {},
   "source": [
    "-krat (se pravi: skoraj deset milijonkrat) hitreje."
   ]
  },
  {
   "cell_type": "markdown",
   "id": "3b061562",
   "metadata": {},
   "source": [
    "## Mami, jest ne maram rekurzije\n",
    "\n",
    "Tule je rešitev brez.\n",
    "\n",
    "`count` bo število najdenih konfiguracij in `to_count` bo seznam situacij, ki jih je potrebno še prešteti. V začetku je to pač `(line, groups)`. \n",
    "\n",
    "Za vsako konfiguracijo, ki jo je potrebno prešteti preverimo takšne pogoje kot prej - prej smo jih imenovali \"robni\". Razlika je le v tem, da zdaj ne vračamo števila konfiguracij, temveč jih prištejemo v `count`.\n",
    "\n",
    "Sledi tisto, kar so bili prej rekurzivni klici. Tu namesto rekurzivnega klica le dodamo nove konfiguracije v preverjanje."
   ]
  },
  {
   "cell_type": "code",
   "execution_count": 31,
   "id": "6ce61844",
   "metadata": {},
   "outputs": [],
   "source": [
    "def ways(line, groups):\n",
    "    count = 0\n",
    "    to_count = [(line, groups)]\n",
    "\n",
    "    while to_count:\n",
    "        line, groups = to_count.pop()\n",
    "        line = line.lstrip(\".\")\n",
    "        if not line:\n",
    "            count += not groups\n",
    "        elif not groups:\n",
    "            count += \"#\" not in line\n",
    "            \n",
    "        elif line[0] == \"?\":\n",
    "            to_count += [(\"#\" + line[1:], groups), (\".\" + line[1:], groups)]\n",
    "        else:\n",
    "            g0 = groups[0]\n",
    "            if len(line) >= g0 and \".\" not in line[:g0] and (len(line) == g0 or line[g0] != \"#\"):\n",
    "                to_count.append((line[g0 + 1:], groups[1:]))\n",
    "    return count"
   ]
  },
  {
   "cell_type": "markdown",
   "id": "c5ca69e7",
   "metadata": {},
   "source": [
    "Kdor vidi v tem goljufijo, ima kar prav: rekurzijo sem zgolj preoblikoval v iteracijo. Namesto klicev imamo zdaj seznam, v katerem se sčasoma naberejo vsi argumenti, s katerimi bi funkcijo klicali sicer. Ker mi je za vrstni red obravnavanja vseeno, pobiram nove \"naloge\" s konca seznama, s `pop`; na ta način lahko preprosto odstranjujem elemente iz seznama.\n",
    "\n",
    "Še več: `to_count` je zelo v sorodu s skladom, na katerega bi Python shranjeval rekurzivne klice. (Vendar samo v sorodu: `to_count` ne vsebuje le \"aktivnih\" klicev, temveč tudi klice, ki se morajo še zgoditi.)"
   ]
  },
  {
   "cell_type": "markdown",
   "id": "5aa8aef5",
   "metadata": {},
   "source": [
    "## Brez rekurzije - zares\n",
    "\n",
    "Problem gornje funkcije je počasnost: nanjo ne moremo prilepiti `@cache`, tako kot na rekurzivno različico. Če bi jo hoteli pospešiti, bi jo morali sprogramirati povsem drugače, teči bi morala nekako z desne proti levi. To pa se mi, iskreno, ne da. Niti to ni namen teh zapiskov, ki naj bi v osnovi govorili o rekurziji. :)"
   ]
  }
 ],
 "metadata": {
  "kernelspec": {
   "display_name": "Python 3 (ipykernel)",
   "language": "python",
   "name": "python3"
  },
  "language_info": {
   "codemirror_mode": {
    "name": "ipython",
    "version": 3
   },
   "file_extension": ".py",
   "mimetype": "text/x-python",
   "name": "python",
   "nbconvert_exporter": "python",
   "pygments_lexer": "ipython3",
   "version": "3.11.5"
  }
 },
 "nbformat": 4,
 "nbformat_minor": 5
}
