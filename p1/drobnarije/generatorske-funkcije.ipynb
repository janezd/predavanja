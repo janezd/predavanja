{
 "cells": [
  {
   "cell_type": "markdown",
   "id": "67992c88-7436-441c-8429-df14290d160a",
   "metadata": {},
   "source": [
    "## Generatorji\n",
    "\n",
    "### Generatorski izrazi\n",
    "\n",
    "Generatorje načelno poznamo. Sintaktično so podobni izpeljanim seznamom in množicam - oziroma, še bolj, *neobstoječim* izpeljanim terkam. Tole je generator, ki generira (= sproti sestavlja!) kvadrate števil do 10"
   ]
  },
  {
   "cell_type": "code",
   "execution_count": 1,
   "id": "4a1d6833-7f12-4466-9b96-3d8c726e7b43",
   "metadata": {},
   "outputs": [],
   "source": [
    "kvadrati = (x ** 2 for x in range(5))"
   ]
  },
  {
   "cell_type": "markdown",
   "id": "fa3226fc-9b71-4dab-bd74-78ab0bf278d6",
   "metadata": {},
   "source": [
    "in tole je generator, ki generira (vsa) praštevila"
   ]
  },
  {
   "cell_type": "code",
   "execution_count": 2,
   "id": "eedac1f7-8e5f-4551-b02c-74d8a7614679",
   "metadata": {},
   "outputs": [],
   "source": [
    "from itertools import count\n",
    "\n",
    "prastevila = (x for x in count(2) if all(x % k != 0 for k in range(2, x)))"
   ]
  },
  {
   "cell_type": "markdown",
   "id": "53f35d08-fd4e-4912-9ed8-79ad034f8dcc",
   "metadata": {},
   "source": [
    "Pognati ga je seveda potrebno previdno, saj sam od sebe nikoli ne bo jenjal generirati."
   ]
  },
  {
   "cell_type": "code",
   "execution_count": 3,
   "id": "1786e4a9-8b0b-4370-9be8-a7f91d57a78c",
   "metadata": {},
   "outputs": [
    {
     "name": "stdout",
     "output_type": "stream",
     "text": [
      "2\n",
      "3\n",
      "5\n",
      "7\n",
      "11\n",
      "13\n",
      "17\n",
      "19\n"
     ]
    }
   ],
   "source": [
    "for p in prastevila:\n",
    "    if p > 20:\n",
    "        break\n",
    "    print(p)"
   ]
  },
  {
   "cell_type": "markdown",
   "id": "3cb139d4-a3eb-4dff-90fb-257574972d7e",
   "metadata": {},
   "source": [
    "Mimogrede se spomnimo še, kaj generator pravzaprav počne: generira nov element vsakič, ko pokličemo `next`."
   ]
  },
  {
   "cell_type": "code",
   "execution_count": 4,
   "id": "7a4317f6-b944-4dd8-a734-b17bb375fe75",
   "metadata": {},
   "outputs": [],
   "source": [
    "prastevila = (x for x in count(2) if all(x % k != 0 for k in range(2, x)))"
   ]
  },
  {
   "cell_type": "code",
   "execution_count": 5,
   "id": "6f4c8d16-e635-490d-abbd-2e0d2a2c1709",
   "metadata": {},
   "outputs": [
    {
     "data": {
      "text/plain": [
       "2"
      ]
     },
     "execution_count": 5,
     "metadata": {},
     "output_type": "execute_result"
    }
   ],
   "source": [
    "next(prastevila)"
   ]
  },
  {
   "cell_type": "code",
   "execution_count": 6,
   "id": "9d381e35-8491-4c40-8bd1-5616cc045366",
   "metadata": {},
   "outputs": [
    {
     "data": {
      "text/plain": [
       "3"
      ]
     },
     "execution_count": 6,
     "metadata": {},
     "output_type": "execute_result"
    }
   ],
   "source": [
    "next(prastevila)"
   ]
  },
  {
   "cell_type": "code",
   "execution_count": 7,
   "id": "e67459fa-bc82-48cc-a4d7-acbdb9f85c2e",
   "metadata": {},
   "outputs": [
    {
     "data": {
      "text/plain": [
       "5"
      ]
     },
     "execution_count": 7,
     "metadata": {},
     "output_type": "execute_result"
    }
   ],
   "source": [
    "next(prastevila)"
   ]
  },
  {
   "cell_type": "markdown",
   "id": "a26fcd59-be2a-4a8b-be42-19f2c040f2fd",
   "metadata": {},
   "source": [
    "Kaj pa počne generator med dvema klicema `next`? Neumno vprašanje. Kaj počne... nič. Pač, vsakič, ko pokličemo `next` vzame naslednjo vrednost, ki jo vrne zanke ter jo kvadrira in jo vrne. Oziroma preveri, ali je praštevilo, in če ni, vzame naslednjo in naslednjo, dokler ne naleti na praštevilo. Tega vrne in to je to. Ob naslednjem `next`-u pa naprej. Pri tem seveda na nek način shranjuje \"stanje\" - zanka `for`, ki se skriva v generatorju, ve, do kod je prišla. (To sem napisal nekoliko poenostavljeno; v resnici je (še) preprosteje.)"
   ]
  },
  {
   "cell_type": "markdown",
   "id": "b3e9424e-7382-4072-9542-018498a88127",
   "metadata": {},
   "source": [
    "### Seznam rekordov"
   ]
  },
  {
   "cell_type": "markdown",
   "id": "a39c8a3b-d28c-49fd-b3a9-85ac3dff0560",
   "metadata": {},
   "source": [
    "Omejitev takšnega generatorja je, da ga smejo sestavljati le izraz, zanka in pogoj. Edino \"stanje\", ki ga vzdržuje generator, je stanje zanke. Težko si beleži, kaj se je dogajalo v preteklosti, vedno vidi le trenutni korak. Kako omejujoče je to, uvidimo, če poskusimo sestaviti generator `rekordi`, ki za podani seznam (terko, datoteko, ...) vrača zaporedne rekorde: za vsak element preverimo, ali je večji od elementov, ki smo jih generirali doslej - za kar seveda zadošča preveriti, da je večji od zadnjega generiranega elementa. Če imamo seznam"
   ]
  },
  {
   "cell_type": "code",
   "execution_count": 45,
   "id": "0f70fa5f-aa0a-41f9-a127-04d4263b0efa",
   "metadata": {},
   "outputs": [],
   "source": [
    "s = [3, 5, 8, 4, 2, 8, 3, 10, 11, 5, 13, 4]"
   ]
  },
  {
   "cell_type": "markdown",
   "id": "da9f14b7-d7d1-4b7b-8007-09a262dbcc44",
   "metadata": {},
   "source": [
    "mora generator `rekordi(s)` izgenerirati `3, 5, 8, 10, 11, 13`."
   ]
  },
  {
   "cell_type": "code",
   "execution_count": 46,
   "id": "0cfa652a-41b6-4897-8763-29d7f191d17a",
   "metadata": {},
   "outputs": [],
   "source": [
    "def rekordi(s):\n",
    "    r = []\n",
    "    for x in s:\n",
    "        if not r or x > r[-1]:\n",
    "            r.append(x)\n",
    "    return r"
   ]
  },
  {
   "cell_type": "code",
   "execution_count": 47,
   "id": "23ac9ec1-c4d2-429b-965a-445ddc291781",
   "metadata": {},
   "outputs": [
    {
     "data": {
      "text/plain": [
       "[3, 5, 8, 10, 11, 13]"
      ]
     },
     "execution_count": 47,
     "metadata": {},
     "output_type": "execute_result"
    }
   ],
   "source": [
    "rekordi(s)"
   ]
  },
  {
   "cell_type": "markdown",
   "id": "774bf5a3-35f8-4635-ba99-816f84344eb7",
   "metadata": {},
   "source": [
    "Da nam bo kasneje lažje razmišljati, rešimo še malo drugače: izognimo se škiljenju v `r`, temveč vanj le dodajamo, zadnji element pa shranjujmo ločeno."
   ]
  },
  {
   "cell_type": "code",
   "execution_count": 11,
   "id": "a0593244-494d-43b4-964e-ee3e942a0620",
   "metadata": {},
   "outputs": [],
   "source": [
    "def rekordi(s):\n",
    "    prejsnji = None\n",
    "    r = []\n",
    "    for x in s:\n",
    "        if prejsnji is None or x > prejsnji:\n",
    "            r.append(x)\n",
    "            prejsnji = x\n",
    "    return r"
   ]
  },
  {
   "cell_type": "code",
   "execution_count": 12,
   "id": "f26ab8d8-0249-4796-9e97-17f15c5d778e",
   "metadata": {},
   "outputs": [
    {
     "data": {
      "text/plain": [
       "[3, 5, 8, 10, 11, 13]"
      ]
     },
     "execution_count": 12,
     "metadata": {},
     "output_type": "execute_result"
    }
   ],
   "source": [
    "rekordi(s)"
   ]
  },
  {
   "cell_type": "markdown",
   "id": "19955c8c-0beb-4fd1-9ccb-205ba27989fe",
   "metadata": {},
   "source": [
    "### Funkcija, ki vrne generator\n",
    "\n",
    "Z gornjo funkcijo ni nič narobe, dokler so seznami kratki in nas ne moti, da so shranjeni v pomnilniku. In dokler je argument, `s` v resnici seznam in ne generator, ki elemente vrača, kadar pridejo (na primer po omrežni povezavi, ali pa jih sproti vnaša uporabnik) in bi jih radi tudi generirali sproti.\n",
    "\n",
    "Zanka v gornji funkciji ni \"čista\" (v smislu, v kateri so nekatere funkcije *čiste funkcije*, [pure function](https://en.wikipedia.org/wiki/Pure_function)): poleg tega, da preverja nek pogoj in dodaja v seznam, tudi spreminja vrednost `prejsnji`. V generatorskih izrazih vsak `x` pričakata enak pogoj in enak izraz - če je `x` enak `13`, ga generator, ki sestavlja praštevila bodisi sprejme bodisi zavrne, ne glede na to, kaj se je dogajalo pred njim. Pythonovi generatorski izrazi sicer ne zahtevajo čistoče -- posebej [walrus](https://peps.python.org/pep-0572/) jo zlahka povozi --, jo pa ljubijo. Z nekaj zvijanja rok lahko stlačimo `rekordi` v generatorski izraz, vendar bo grd.\n",
    "\n",
    "Rešitev bomo našli v *generatorskih funkcijah*. A preden jih napišemo zares, se vrnimo k začetnima generatorjema. Zgoraj smo pisali"
   ]
  },
  {
   "cell_type": "code",
   "execution_count": 13,
   "id": "7c940df1-5d51-461f-a839-002443ede1f1",
   "metadata": {},
   "outputs": [],
   "source": [
    "kvadrati = (x ** 2 for x in range(5))"
   ]
  },
  {
   "cell_type": "markdown",
   "id": "05aa07e3-b2a4-49c5-9817-b4d5524c3db6",
   "metadata": {},
   "source": [
    "Če bi človek pogosto potreboval generatorje kvadratov (dasiravno si ne predsavljam, kakšen človek bi to mogel biti), bi si morda pripravil kar funkcijo, ki mu vrne takšen generator."
   ]
  },
  {
   "cell_type": "code",
   "execution_count": 14,
   "id": "1c467c21-ee3d-41a8-be6f-55697f142e61",
   "metadata": {},
   "outputs": [],
   "source": [
    "def f_kvadrati():\n",
    "    return  (x ** 2 for x in range(5))"
   ]
  },
  {
   "cell_type": "markdown",
   "id": "73b306d3-148a-426c-a2f0-559ad2c42a79",
   "metadata": {},
   "source": [
    "Še več, dotični bi nemara potreboval različno dolge sezname kvadratov in bi funkciji dodal še argument."
   ]
  },
  {
   "cell_type": "code",
   "execution_count": 15,
   "id": "8a317e86-33bc-4236-b67f-067f13b8d854",
   "metadata": {},
   "outputs": [],
   "source": [
    "def f_kvadrati(n):\n",
    "    return (x ** 2 for x in range(n))"
   ]
  },
  {
   "cell_type": "markdown",
   "id": "5e0c08bf-3547-4fcb-893e-ad322b88f4d5",
   "metadata": {},
   "source": [
    "Da to uporabi, mora poklicati funkcijo. Če je poprej pisal"
   ]
  },
  {
   "cell_type": "code",
   "execution_count": 16,
   "id": "9d7c96f1-c90e-4a70-803e-192c49baaf82",
   "metadata": {},
   "outputs": [
    {
     "name": "stdout",
     "output_type": "stream",
     "text": [
      "0\n",
      "1\n",
      "4\n",
      "9\n",
      "16\n"
     ]
    }
   ],
   "source": [
    "for x in kvadrati:\n",
    "    print(x)"
   ]
  },
  {
   "cell_type": "markdown",
   "id": "954d3add-410c-4a37-b918-65828254e7f1",
   "metadata": {},
   "source": [
    "Bo zdaj pač poklical funkcijo"
   ]
  },
  {
   "cell_type": "code",
   "execution_count": 17,
   "id": "d5db3d78-3237-4b4e-bfc9-1d9c18425f9f",
   "metadata": {},
   "outputs": [
    {
     "name": "stdout",
     "output_type": "stream",
     "text": [
      "0\n",
      "1\n",
      "4\n",
      "9\n",
      "16\n"
     ]
    }
   ],
   "source": [
    "for x in f_kvadrati(5):\n",
    "    print(x)"
   ]
  },
  {
   "cell_type": "markdown",
   "id": "8da84841-1986-41f3-8bac-e173ec470af9",
   "metadata": {},
   "source": [
    "Ali, če bo ravno hotel"
   ]
  },
  {
   "cell_type": "code",
   "execution_count": 18,
   "id": "6a0c7d6f-5ad1-4f55-a5a3-e56f17aa3565",
   "metadata": {},
   "outputs": [
    {
     "name": "stdout",
     "output_type": "stream",
     "text": [
      "0\n",
      "1\n",
      "4\n",
      "9\n",
      "16\n"
     ]
    }
   ],
   "source": [
    "kvadrati = f_kvadrati(5)\n",
    "for x in kvadrati:\n",
    "    print(x)"
   ]
  },
  {
   "cell_type": "markdown",
   "id": "aa867503-cb82-4bbe-86f7-02db83c17b37",
   "metadata": {},
   "source": [
    "Podobno bi lahko sestavil funkcijo, ki vrne generator praštevil in jih, spet, če bi hotel, omejil."
   ]
  },
  {
   "cell_type": "code",
   "execution_count": 19,
   "id": "77d97b1b-d3d2-4eae-beb0-0568e94767d5",
   "metadata": {},
   "outputs": [],
   "source": [
    "def f_prastevila(n):\n",
    "    return (x for x in range(2, n) if all(x % k != 0 for k in range(2, x)))"
   ]
  },
  {
   "cell_type": "code",
   "execution_count": 20,
   "id": "7a360ee3-4b64-4380-b5d9-52fa5846da3c",
   "metadata": {},
   "outputs": [
    {
     "name": "stdout",
     "output_type": "stream",
     "text": [
      "2\n",
      "3\n",
      "5\n",
      "7\n"
     ]
    }
   ],
   "source": [
    "for p in f_prastevila(10):\n",
    "    print(p)"
   ]
  },
  {
   "cell_type": "markdown",
   "id": "dd87adfb-1c18-48ae-b002-a0a3ed214726",
   "metadata": {},
   "source": [
    "### Generatorske funkcija\n",
    "\n",
    "Funkciji, ki vrača generator, rečemo *generatorska funkcija*. Ne brez razloga: vračati generator ni kar tako, kot vračati, recimo, terko, pa da bi potem takšnim funkcijam rekli \"terčne funkcije\", onim, ki vračajo slovarje, pa *slovarske*. Ne, ne, *generatorske funkcije* so čisto posebna vrsta funkcij. Imajo jih mnogi spodobni jeziki (pa tudi nekateri drugi).\n",
    "\n",
    "Gornji generatorski funkciji sta vrnili generator, ki sta ga sestavili z generatorskim izrazom. V Pythonu, Javascriptu, C# (pa tudi v Php) bo funkcija vrnila generator, če namesto `return`-a vrača rezultat(e) z `yield`. Spodnji funkciji sta ekvivalentni gornjim:"
   ]
  },
  {
   "cell_type": "code",
   "execution_count": 21,
   "id": "e241337a-8b2f-484c-b6f3-d3b7a4db18f3",
   "metadata": {},
   "outputs": [],
   "source": [
    "def f_kvadrati(n):\n",
    "    for x in range(n):\n",
    "        yield x ** 2\n",
    "\n",
    "def f_prastevila(n):\n",
    "    for x in range(2, n):\n",
    "        if all(x % k != 0 for k in range(2, x)):\n",
    "            yield x"
   ]
  },
  {
   "cell_type": "markdown",
   "id": "1e98263b-b0bb-4202-9ce7-ee0c48c0f3b6",
   "metadata": {},
   "source": [
    "Detajli sledijo spodaj, ne skrbi. Za zdaj se le prepričajmo, da funkciji res vrneta generator:"
   ]
  },
  {
   "cell_type": "code",
   "execution_count": 22,
   "id": "ccba411a-7fa9-45b2-9141-3793807c3273",
   "metadata": {},
   "outputs": [],
   "source": [
    "prastevila = f_prastevila(10)"
   ]
  },
  {
   "cell_type": "code",
   "execution_count": 23,
   "id": "884be75c-a853-4dea-bee7-ffc848f0f88f",
   "metadata": {},
   "outputs": [
    {
     "data": {
      "text/plain": [
       "<generator object f_prastevila at 0x106317010>"
      ]
     },
     "execution_count": 23,
     "metadata": {},
     "output_type": "execute_result"
    }
   ],
   "source": [
    "prastevila"
   ]
  },
  {
   "cell_type": "code",
   "execution_count": 24,
   "id": "adf519e4-e066-499f-ad31-e2566be8c032",
   "metadata": {},
   "outputs": [
    {
     "name": "stdout",
     "output_type": "stream",
     "text": [
      "2\n",
      "3\n",
      "5\n",
      "7\n"
     ]
    }
   ],
   "source": [
    "for x in prastevila:\n",
    "    print(x)"
   ]
  },
  {
   "cell_type": "markdown",
   "id": "f542497a-7ab3-4a60-9f05-2857c173879b",
   "metadata": {},
   "source": [
    "In, da bomo še bolj prepričani, poskusimo počasi, ročno:"
   ]
  },
  {
   "cell_type": "code",
   "execution_count": 25,
   "id": "509ba77d-3979-41b5-a875-14f79fcdba78",
   "metadata": {},
   "outputs": [],
   "source": [
    "prastevila = f_prastevila(10)"
   ]
  },
  {
   "cell_type": "code",
   "execution_count": 26,
   "id": "b5515c6d-00ac-4fbb-a571-99c75d1faf77",
   "metadata": {},
   "outputs": [
    {
     "data": {
      "text/plain": [
       "2"
      ]
     },
     "execution_count": 26,
     "metadata": {},
     "output_type": "execute_result"
    }
   ],
   "source": [
    "next(prastevila)"
   ]
  },
  {
   "cell_type": "code",
   "execution_count": 27,
   "id": "f2399d95-54c9-4e71-a53e-d7a8cdfe3bf2",
   "metadata": {},
   "outputs": [
    {
     "data": {
      "text/plain": [
       "3"
      ]
     },
     "execution_count": 27,
     "metadata": {},
     "output_type": "execute_result"
    }
   ],
   "source": [
    "next(prastevila)"
   ]
  },
  {
   "cell_type": "code",
   "execution_count": 28,
   "id": "8a775e9f-bf81-4c8a-8634-8464590e1d8a",
   "metadata": {},
   "outputs": [
    {
     "data": {
      "text/plain": [
       "5"
      ]
     },
     "execution_count": 28,
     "metadata": {},
     "output_type": "execute_result"
    }
   ],
   "source": [
    "next(prastevila)"
   ]
  },
  {
   "cell_type": "markdown",
   "id": "0027b7aa-a510-4d9d-838d-0c9e69e2e8a9",
   "metadata": {},
   "source": [
    "Za podrobnejši uvid, napišimo še en, še preprostejši generator."
   ]
  },
  {
   "cell_type": "code",
   "execution_count": 29,
   "id": "420d7b15-9e37-4741-8ada-3349f1eebcb4",
   "metadata": {},
   "outputs": [],
   "source": [
    "def endvatri():\n",
    "    print(\"Pa začnimo!\")\n",
    "    yield 1\n",
    "    print(\"Pa nadaljujmo.\")\n",
    "    yield 2\n",
    "    print(\"Še malo, pa bo konec!\")\n",
    "    yield 3\n",
    "    print(\"Pa smo končali.\")"
   ]
  },
  {
   "cell_type": "markdown",
   "id": "f2396d0b-5573-4434-9fa2-317d743aaf9b",
   "metadata": {},
   "source": [
    "Pokličimo funkcijo, pridobimo generator."
   ]
  },
  {
   "cell_type": "code",
   "execution_count": 30,
   "id": "fa0c3fb0-171f-4230-b4ce-f1909b55bb9b",
   "metadata": {},
   "outputs": [],
   "source": [
    "g = endvatri()"
   ]
  },
  {
   "cell_type": "markdown",
   "id": "4ab4d485-1c2c-4326-83b2-e174c9515397",
   "metadata": {},
   "source": [
    "Tole je pomembna opazka: nič se ni zgodilo. Nič od kode, ki je zapisana v funkciji, se ni izvedlo. Klic funkcije je zgolj vrnil generator.\n",
    "\n",
    "Pokličimo `next`."
   ]
  },
  {
   "cell_type": "code",
   "execution_count": 31,
   "id": "2cdf36bf-cbbd-436f-8de8-828f8f55f199",
   "metadata": {},
   "outputs": [
    {
     "name": "stdout",
     "output_type": "stream",
     "text": [
      "Pa začnimo!\n"
     ]
    },
    {
     "data": {
      "text/plain": [
       "1"
      ]
     },
     "execution_count": 31,
     "metadata": {},
     "output_type": "execute_result"
    }
   ],
   "source": [
    "next(g)"
   ]
  },
  {
   "cell_type": "markdown",
   "id": "91907c12-23ee-4980-bcac-e9d9cecc47b5",
   "metadata": {},
   "source": [
    "Zdaj se je koda generatorja začne izvajati: izvedel se je `print`, `yield` pa je vrnil vrednost - podobno, kot bi jo `return`. Generator tu vrne vrednost in s tem se njegovo izvajanje seveda ustavi.\n",
    "\n",
    "Nadaljevalo se bo z novim klicem `next`."
   ]
  },
  {
   "cell_type": "code",
   "execution_count": 32,
   "id": "21c96906-13c5-4e55-85da-b43b379367fa",
   "metadata": {},
   "outputs": [
    {
     "name": "stdout",
     "output_type": "stream",
     "text": [
      "Pa nadaljujmo.\n"
     ]
    },
    {
     "data": {
      "text/plain": [
       "2"
      ]
     },
     "execution_count": 32,
     "metadata": {},
     "output_type": "execute_result"
    }
   ],
   "source": [
    "next(g)"
   ]
  },
  {
   "cell_type": "markdown",
   "id": "8b1c3305-a4fe-4233-9f39-2dcc67071729",
   "metadata": {},
   "source": [
    "Potem se reč spet ustavi in nadaljuje ob naslednjem `next`."
   ]
  },
  {
   "cell_type": "code",
   "execution_count": 33,
   "id": "4ed806b4-7556-476e-95ae-16bd3675c862",
   "metadata": {},
   "outputs": [
    {
     "name": "stdout",
     "output_type": "stream",
     "text": [
      "Še malo, pa bo konec!\n"
     ]
    },
    {
     "data": {
      "text/plain": [
       "3"
      ]
     },
     "execution_count": 33,
     "metadata": {},
     "output_type": "execute_result"
    }
   ],
   "source": [
    "next(g)"
   ]
  },
  {
   "cell_type": "markdown",
   "id": "0c9e416e-11e7-4ff4-9f2e-4f3ba627c0f8",
   "metadata": {},
   "source": [
    "Ob naslednjem `next` se izvede `print`, nove vrednosti pa ni in generator to sporoči tako, da sproži izjemo `StopIteration`."
   ]
  },
  {
   "cell_type": "code",
   "execution_count": 34,
   "id": "d4475977-6ece-4f19-8703-f791a4354db4",
   "metadata": {
    "editable": true,
    "slideshow": {
     "slide_type": ""
    },
    "tags": [
     "raises-exception"
    ]
   },
   "outputs": [
    {
     "name": "stdout",
     "output_type": "stream",
     "text": [
      "Pa smo končali.\n"
     ]
    },
    {
     "ename": "StopIteration",
     "evalue": "",
     "output_type": "error",
     "traceback": [
      "\u001b[0;31m---------------------------------------------------------------------------\u001b[0m",
      "\u001b[0;31mStopIteration\u001b[0m                             Traceback (most recent call last)",
      "Cell \u001b[0;32mIn[34], line 1\u001b[0m\n\u001b[0;32m----> 1\u001b[0m \u001b[38;5;28;43mnext\u001b[39;49m\u001b[43m(\u001b[49m\u001b[43mg\u001b[49m\u001b[43m)\u001b[49m\n",
      "\u001b[0;31mStopIteration\u001b[0m: "
     ]
    }
   ],
   "source": [
    "next(g)"
   ]
  },
  {
   "cell_type": "markdown",
   "id": "e7994d94-19c8-4e10-868f-9e57f35896b9",
   "metadata": {},
   "source": [
    "Spomnimo se, kako sta videti naša generatorja kvadratov in praštevil:"
   ]
  },
  {
   "cell_type": "code",
   "execution_count": 35,
   "id": "62b55f3d-c6e9-463f-bab7-866d2662aba6",
   "metadata": {},
   "outputs": [],
   "source": [
    "def f_kvadrati(n):\n",
    "    for x in range(n):\n",
    "        yield x ** 2\n",
    "\n",
    "def f_prastevila(n):\n",
    "    for x in range(2, n):\n",
    "        if all(x % k != 0 for k in range(2, x)):\n",
    "            yield x"
   ]
  },
  {
   "cell_type": "markdown",
   "id": "01fc4ae8-5e53-4bbd-90f6-53de50ff295d",
   "metadata": {},
   "source": [
    "Isto, samo da je `yield` v zanki namesto na prostem.\n",
    "\n",
    "`yield` je seveda podoben `return`-u. Naivna - in skoraj pravilna - razlaga `yield`-a je, da \"zamrzne\" izvajanje funkcije, in da se bo izvajanje ob \"naslednjem klicu funkcije\" nadaljevalo od `yield`-a naprej. Zgolj skoraj pravilna je zato, ker ne gre za klice funkcije: funkcijo smo poklicali le v začetku in vrnila je generator. Gre torej za \"klice\" generatorja, prek `next`."
   ]
  },
  {
   "cell_type": "markdown",
   "id": "04b9f1f9-c198-483f-bca3-7eeec2d27e97",
   "metadata": {},
   "source": [
    "### Generator rekordov\n",
    "\n",
    "V čem je prednost generatorskih funkcij pred generatorskimi izrazi? Mar nismo kar vzdihovali od sreče in navdušenja, ko smo odkrili, da lahko namesto"
   ]
  },
  {
   "cell_type": "code",
   "execution_count": 36,
   "id": "a1a9383d-4faf-4a8e-89d0-8cf203f45476",
   "metadata": {},
   "outputs": [],
   "source": [
    "t = []\n",
    "for x in s:\n",
    "    if x % 2 == 0:\n",
    "        t.append(x)"
   ]
  },
  {
   "cell_type": "markdown",
   "id": "d7b33e30-54c2-449e-8af7-9438c0232989",
   "metadata": {},
   "source": [
    "pišemo"
   ]
  },
  {
   "cell_type": "code",
   "execution_count": 37,
   "id": "4e51d338-ec40-4edd-acf8-7e54b1e1847f",
   "metadata": {},
   "outputs": [],
   "source": [
    "t = [x for x in s if x % 2 == 0]"
   ]
  },
  {
   "cell_type": "markdown",
   "id": "1f2b0e0c-7967-4532-921e-bf4cb26a8c26",
   "metadata": {},
   "source": [
    "Nismo zdaj naredili ravno koraka v nasprotno smer, ko namesto enega samega generatorskega izraza, `(x ** 2 for x in range(n))` pišemo celo funkcijo, v več vrsticah, z zanko?\n",
    "\n",
    "Ne nujno. Saj vemo: ne da se vsega v eni vrstici. Generatorske funkcije nam bodo rešile problem s stanjem pri rekordih.\n",
    "\n",
    "Funkcija, ki smo si jo napisali za prepoznavanje rekordov, je bila takšna:"
   ]
  },
  {
   "cell_type": "code",
   "execution_count": 38,
   "id": "9141be8e-a1f2-47bc-8c08-63caebfacd5f",
   "metadata": {},
   "outputs": [],
   "source": [
    "def rekordi(s):\n",
    "    prejsnji = None\n",
    "    r = []\n",
    "    for x in s:\n",
    "        if prejsnji is None or x > prejsnji:\n",
    "            r.append(x)\n",
    "            prejsnji = x\n",
    "    return r"
   ]
  },
  {
   "cell_type": "markdown",
   "id": "79c7cb0d-9604-4b7d-9f14-2c80e07832c4",
   "metadata": {},
   "source": [
    "Tole pa je generatorska funkcija:"
   ]
  },
  {
   "cell_type": "code",
   "execution_count": 39,
   "id": "34d4b379-4bc2-4306-bdf6-dc591555f6bc",
   "metadata": {},
   "outputs": [],
   "source": [
    "def rekordi(s):\n",
    "    prejsnji = None\n",
    "    for x in s:\n",
    "        if prejsnji is None or x > prejsnji:\n",
    "            yield x\n",
    "            prejsnji = x"
   ]
  },
  {
   "cell_type": "code",
   "execution_count": 40,
   "id": "f856071d-0e38-4daf-9301-9c3e8eccc2db",
   "metadata": {},
   "outputs": [],
   "source": [
    "r = rekordi(s)"
   ]
  },
  {
   "cell_type": "code",
   "execution_count": 41,
   "id": "cf5973e4-dfc2-467f-8486-885f32aa3a84",
   "metadata": {},
   "outputs": [
    {
     "data": {
      "text/plain": [
       "3"
      ]
     },
     "execution_count": 41,
     "metadata": {},
     "output_type": "execute_result"
    }
   ],
   "source": [
    "next(r)"
   ]
  },
  {
   "cell_type": "code",
   "execution_count": 42,
   "id": "4b57cf69-3046-4248-8df2-b470e0b01e6e",
   "metadata": {},
   "outputs": [
    {
     "data": {
      "text/plain": [
       "5"
      ]
     },
     "execution_count": 42,
     "metadata": {},
     "output_type": "execute_result"
    }
   ],
   "source": [
    "next(r)"
   ]
  },
  {
   "cell_type": "code",
   "execution_count": 43,
   "id": "47dd7125-f8fc-4c74-a98c-211600355053",
   "metadata": {},
   "outputs": [
    {
     "data": {
      "text/plain": [
       "8"
      ]
     },
     "execution_count": 43,
     "metadata": {},
     "output_type": "execute_result"
    }
   ],
   "source": [
    "next(r)"
   ]
  },
  {
   "cell_type": "code",
   "execution_count": 44,
   "id": "a2abac2c-26b6-48c3-90f4-ff24af5363d5",
   "metadata": {},
   "outputs": [
    {
     "data": {
      "text/plain": [
       "10"
      ]
     },
     "execution_count": 44,
     "metadata": {},
     "output_type": "execute_result"
    }
   ],
   "source": [
    "next(r)"
   ]
  },
  {
   "cell_type": "markdown",
   "id": "eff530d6-e20a-4b38-8423-71330dce7648",
   "metadata": {},
   "source": [
    "Vrednost `prejsnji`, ki je prej nismo mogli stlačiti v eno vrstico, je brez težav našla mesto v generatorski funkciji.\n",
    "\n",
    "Ne spreglejte: tale `rekordi` še ni generator: `rekordi` je generatorska funkcija, ki jo moramo poklicati in njen rezultat, `r` je generator."
   ]
  },
  {
   "cell_type": "markdown",
   "id": "1e529d4a-1af9-4fdd-82e3-b3e586c60c7c",
   "metadata": {},
   "source": [
    "### Terminološka zagata\n",
    "\n",
    "Obstajajo *generatorji* in *iteratorji*. Tule uporabljamo le prvi izraz, drugemu pa se izogibam, ker bi potem moral razložiti razliko. Za to pa bi morali zariniti še globlje in pokazati, kako definirati razred, ki se vede kot generator ali kot iterator (ali kot oboje)."
   ]
  },
  {
   "cell_type": "markdown",
   "id": "e1ee92f9-6215-47fc-b8da-fcbef04f3e8e",
   "metadata": {},
   "source": [
    "### Še dva primera\n",
    "\n",
    "Navrzimo še dva primera.\n",
    "\n",
    "Generator `unikati` bo vsako vrednost izgeneriral le enkrat, ponovitve pa preskočil."
   ]
  },
  {
   "cell_type": "code",
   "execution_count": 53,
   "id": "1727a6cf-8508-4bdc-937b-26a8755c1a8b",
   "metadata": {},
   "outputs": [],
   "source": [
    "def unikati(s):\n",
    "    past = set()\n",
    "    for x in s:\n",
    "        if x not in past:\n",
    "            yield x\n",
    "            past.add(x)"
   ]
  },
  {
   "cell_type": "code",
   "execution_count": 51,
   "id": "1d08dbe8-83a3-45c5-b70a-bdeab88623f3",
   "metadata": {},
   "outputs": [
    {
     "data": {
      "text/plain": [
       "[3, 5, 8, 4, 2, 8, 3, 10, 11, 5, 13, 4]"
      ]
     },
     "execution_count": 51,
     "metadata": {},
     "output_type": "execute_result"
    }
   ],
   "source": [
    "s"
   ]
  },
  {
   "cell_type": "code",
   "execution_count": 52,
   "id": "16e21c5e-5f5b-4694-bccf-055eb1a2eef5",
   "metadata": {},
   "outputs": [
    {
     "data": {
      "text/plain": [
       "[3, 5, 8, 4, 2, 10, 11, 13]"
      ]
     },
     "execution_count": 52,
     "metadata": {},
     "output_type": "execute_result"
    }
   ],
   "source": [
    "list(unikati(s))"
   ]
  },
  {
   "cell_type": "markdown",
   "id": "d49115c5-0546-4c56-8086-877f16a7e321",
   "metadata": {},
   "source": [
    "Manjša, s temo nepovezana, a pomembna pripomba: tole deluje le, če `s` vrača stvari, ki jih je mogoče zlagati v množico. Če bi bil med njimi kakšen seznam ... Ne bo šlo."
   ]
  },
  {
   "cell_type": "markdown",
   "id": "eb1f14e8-ab60-43b0-a5c2-8b03f83667d1",
   "metadata": {},
   "source": [
    "Še en generator iz obveznega programa: Fibonačijeva števila (ker vedno pozabim, s koliko c-ji se piše Fibonac(c)i, sem se ga odločil pisati kar po domače)."
   ]
  },
  {
   "cell_type": "code",
   "execution_count": 54,
   "id": "44a2523a-34db-49b3-9533-fb4ca758b29b",
   "metadata": {},
   "outputs": [],
   "source": [
    "def fibonači():\n",
    "    a = b = 1\n",
    "    while True:\n",
    "        yield a\n",
    "        a, b = b, a + b"
   ]
  },
  {
   "cell_type": "markdown",
   "id": "0ed1ca27-b372-429c-820d-60742924a47a",
   "metadata": {},
   "source": [
    "To je to."
   ]
  },
  {
   "cell_type": "code",
   "execution_count": 55,
   "id": "1b7ce0fa-58ac-4ad4-89d5-ca8100c63ff1",
   "metadata": {},
   "outputs": [
    {
     "name": "stdout",
     "output_type": "stream",
     "text": [
      "1\n",
      "1\n",
      "2\n",
      "3\n",
      "5\n",
      "8\n",
      "13\n"
     ]
    }
   ],
   "source": [
    "for x in fibonači():\n",
    "    if x > 20:\n",
    "        break\n",
    "    print(x)"
   ]
  }
 ],
 "metadata": {
  "kernelspec": {
   "display_name": "Python 3 (ipykernel)",
   "language": "python",
   "name": "python3"
  },
  "language_info": {
   "codemirror_mode": {
    "name": "ipython",
    "version": 3
   },
   "file_extension": ".py",
   "mimetype": "text/x-python",
   "name": "python",
   "nbconvert_exporter": "python",
   "pygments_lexer": "ipython3",
   "version": "3.12.7"
  }
 },
 "nbformat": 4,
 "nbformat_minor": 5
}
