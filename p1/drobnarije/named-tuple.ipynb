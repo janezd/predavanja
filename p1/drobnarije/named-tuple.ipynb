{
 "cells": [
  {
   "cell_type": "markdown",
   "id": "2ee1dd1d-b293-4254-aac2-1ff593febb85",
   "metadata": {},
   "source": [
    "Recimo, da delamo nekaj s kraji, opisanimi z imenom, zemljepisnimi koordinatami in številom prebivalcev. Če je teh krajev več, jih nočemo spravljati v posamične spremenljivke, temveč bo vsak kraj opisan s terko."
   ]
  },
  {
   "cell_type": "code",
   "execution_count": 1,
   "id": "a4eedb5f-1076-4b5c-9813-0c6fc60f8586",
   "metadata": {},
   "outputs": [],
   "source": [
    "kraj1 = (\"Kremenik\", 46.091158, 14.201702, 19)\n",
    "kraj2 = (\"Vogrsko\", 45.905166, 13.708147, 908)"
   ]
  },
  {
   "cell_type": "markdown",
   "id": "f1d73a4f-941a-4473-bf3a-d6885139aeeb",
   "metadata": {},
   "source": [
    "To je neprikladno: če želimo izračunati razdaljo med tema krajema (kot vemo, je Zemlja ploščata, zato smemo v ta namen uporabiti Pitagorov izrek), moramo pisati"
   ]
  },
  {
   "cell_type": "code",
   "execution_count": 2,
   "id": "41965cef-3e73-4dc6-8318-1c8f4d990137",
   "metadata": {},
   "outputs": [
    {
     "data": {
      "text/plain": [
       "0.527436784922135"
      ]
     },
     "execution_count": 2,
     "metadata": {},
     "output_type": "execute_result"
    }
   ],
   "source": [
    "from math import sqrt\n",
    "\n",
    "sqrt((kraj1[1] - kraj2[1]) ** 2 + (kraj1[2] - kraj2[2]) ** 2)"
   ]
  },
  {
   "cell_type": "markdown",
   "id": "12f88600-ca6c-4eb3-8aff-65ad2008245a",
   "metadata": {},
   "source": [
    "Do imena kraja pridemo s `kraj1[0]`, do števila prebivalcev s `kraj1[3]`."
   ]
  },
  {
   "cell_type": "code",
   "execution_count": 3,
   "id": "2643e17f-4ca9-4f06-8e15-35bc7eae23cb",
   "metadata": {},
   "outputs": [
    {
     "data": {
      "text/plain": [
       "'Kremenik'"
      ]
     },
     "execution_count": 3,
     "metadata": {},
     "output_type": "execute_result"
    }
   ],
   "source": [
    "kraj1[0]"
   ]
  },
  {
   "cell_type": "code",
   "execution_count": 4,
   "id": "55ed1b98-9d3b-414b-8f10-b001a45f6c76",
   "metadata": {},
   "outputs": [
    {
     "data": {
      "text/plain": [
       "19"
      ]
     },
     "execution_count": 4,
     "metadata": {},
     "output_type": "execute_result"
    }
   ],
   "source": [
    "kraj1[3]"
   ]
  },
  {
   "cell_type": "markdown",
   "id": "435a3a59-32fd-4e01-97bb-1a95eb084f7c",
   "metadata": {},
   "source": [
    "Neugledno, nerodno, nepraktično, nevarno, ... skratka ne. Veliko raje bi pisali - kot v vseh normalnih jezikih - `kraj1.ime`, `kraj1.sirina`, `kraj1.dolzina` in `kraj1.prebivalcev`.\n",
    "\n",
    "Način, na katerega to storimo, se je v Pythonu sčasoma izboljševal. Pokazal bom aktualnega, čeprav bo vključeval uporabo razredov, ki se jih bomo učili šele v zadnjih tednih predavanj."
   ]
  },
  {
   "cell_type": "code",
   "execution_count": 5,
   "id": "7b682c67-e57d-4fa8-9cd6-de9f8c506a7f",
   "metadata": {},
   "outputs": [],
   "source": [
    "from typing import NamedTuple\n",
    "\n",
    "class Kraj(NamedTuple):\n",
    "    ime: str\n",
    "    sirina: float\n",
    "    dolzina: float\n",
    "    prebivalcev: int"
   ]
  },
  {
   "cell_type": "markdown",
   "id": "958d40e5-4dfc-47e6-9674-0a0de4febc2b",
   "metadata": {},
   "source": [
    "Po novem shranimo podatke o krajih tako:"
   ]
  },
  {
   "cell_type": "code",
   "execution_count": 6,
   "id": "ca15cf6b-5a6d-4e84-be66-bd7134f567a3",
   "metadata": {},
   "outputs": [],
   "source": [
    "kraj1 = Kraj(\"Kremenik\", 46.091158, 14.201702, 19)\n",
    "kraj2 = Kraj(\"Vogrsko\", 45.905166, 13.708147, 908)"
   ]
  },
  {
   "cell_type": "markdown",
   "id": "41a92692-db3d-4342-b877-97cc0d91967b",
   "metadata": {},
   "source": [
    "Zdaj imamo, kot smo želeli,"
   ]
  },
  {
   "cell_type": "code",
   "execution_count": 7,
   "id": "86ec3a0d-793b-4fa3-a8b1-5b91b2b4a1ca",
   "metadata": {},
   "outputs": [
    {
     "data": {
      "text/plain": [
       "'Kremenik'"
      ]
     },
     "execution_count": 7,
     "metadata": {},
     "output_type": "execute_result"
    }
   ],
   "source": [
    "kraj1.ime"
   ]
  },
  {
   "cell_type": "code",
   "execution_count": 8,
   "id": "373c8c8b-4237-4af2-a00e-b91257a36d66",
   "metadata": {},
   "outputs": [
    {
     "data": {
      "text/plain": [
       "19"
      ]
     },
     "execution_count": 8,
     "metadata": {},
     "output_type": "execute_result"
    }
   ],
   "source": [
    "kraj1.prebivalcev"
   ]
  },
  {
   "cell_type": "code",
   "execution_count": 9,
   "id": "f0a6b2f6-c330-40b0-99be-68ae0e1a8d0a",
   "metadata": {},
   "outputs": [
    {
     "data": {
      "text/plain": [
       "0.527436784922135"
      ]
     },
     "execution_count": 9,
     "metadata": {},
     "output_type": "execute_result"
    }
   ],
   "source": [
    "sqrt((kraj1.sirina - kraj2.sirina) ** 2 + (kraj1.dolzina - kraj2.dolzina) ** 2)"
   ]
  },
  {
   "cell_type": "markdown",
   "id": "24bce644-a3d2-4a95-b467-dba0afbe39bd",
   "metadata": {},
   "source": [
    "Lepši je tudi izpis"
   ]
  },
  {
   "cell_type": "code",
   "execution_count": 10,
   "id": "8fea1b26-745f-45a9-b9f0-34c9b64904b2",
   "metadata": {},
   "outputs": [
    {
     "data": {
      "text/plain": [
       "Kraj(ime='Kremenik', sirina=46.091158, dolzina=14.201702, prebivalcev=19)"
      ]
     },
     "execution_count": 10,
     "metadata": {},
     "output_type": "execute_result"
    }
   ],
   "source": [
    "kraj1"
   ]
  },
  {
   "cell_type": "markdown",
   "id": "7fa04acc-86ff-45e0-ba6a-f153dd88ec49",
   "metadata": {},
   "source": [
    "Če nas pomuči nostalgija, pa sta to še vedno tudi terki:"
   ]
  },
  {
   "cell_type": "code",
   "execution_count": 11,
   "id": "48d3157a-ebb2-4a75-b1f1-6a9943d8d46e",
   "metadata": {},
   "outputs": [
    {
     "data": {
      "text/plain": [
       "'Kremenik'"
      ]
     },
     "execution_count": 11,
     "metadata": {},
     "output_type": "execute_result"
    }
   ],
   "source": [
    "kraj1[0]"
   ]
  },
  {
   "cell_type": "code",
   "execution_count": 12,
   "id": "f5376ef1-6c6d-4d91-bff0-3edd498292e0",
   "metadata": {},
   "outputs": [
    {
     "data": {
      "text/plain": [
       "19"
      ]
     },
     "execution_count": 12,
     "metadata": {},
     "output_type": "execute_result"
    }
   ],
   "source": [
    "kraj1[3]"
   ]
  },
  {
   "cell_type": "code",
   "execution_count": 13,
   "id": "4d01d6df-2aa8-4d34-b04f-8b3c21760963",
   "metadata": {},
   "outputs": [],
   "source": [
    "ime, sir, vis, preb = kraj1"
   ]
  },
  {
   "cell_type": "code",
   "execution_count": 14,
   "id": "55001e17-8251-4781-9b8d-5a9a3c50486f",
   "metadata": {},
   "outputs": [
    {
     "data": {
      "text/plain": [
       "'Kremenik'"
      ]
     },
     "execution_count": 14,
     "metadata": {},
     "output_type": "execute_result"
    }
   ],
   "source": [
    "ime"
   ]
  },
  {
   "cell_type": "markdown",
   "id": "5a79c2d6-2640-48b9-bb7d-06f5d7e02e14",
   "metadata": {},
   "source": [
    "## Tipi atributov\n",
    "\n",
    "Poleg imen *atributov* smo našteli tudi njihove tipe. Snovalci Pythona vestno poudarjajo - in to obljubo bodo težko požrli - da bo označevanje tipov v Pythonu vedno namenjeno le knjižnicam in okoljem, ki nam pomagajo loviti napake, Python sam pa ujemanja tipov nikoli ne bo preverjal."
   ]
  },
  {
   "cell_type": "code",
   "execution_count": 15,
   "id": "e82b65c6-6135-47ff-bdf8-285ed14b9590",
   "metadata": {},
   "outputs": [],
   "source": [
    "kraj = Kraj(3.14, True, None, \"malo\")"
   ]
  },
  {
   "cell_type": "code",
   "execution_count": 16,
   "id": "ce5a1625-47a3-48d0-a6fc-f21e434f9177",
   "metadata": {},
   "outputs": [
    {
     "data": {
      "text/plain": [
       "Kraj(ime=3.14, sirina=True, dolzina=None, prebivalcev='malo')"
      ]
     },
     "execution_count": 16,
     "metadata": {},
     "output_type": "execute_result"
    }
   ],
   "source": [
    "kraj"
   ]
  },
  {
   "cell_type": "markdown",
   "id": "2736cc0a-75a0-4a99-8580-d3c86fabf538",
   "metadata": {},
   "source": [
    "Pythonu je vseeno. Naš problem.\n",
    "\n",
    "Vseeno je lepo, da se tudi mi držimo obljub; če obljubimo, da bo nekaj `int`, naj bo `int`.\n",
    "\n",
    "Kaj pa, če je lahko `int` ali pa je neznano, kar bi radi označili z `None`?"
   ]
  },
  {
   "cell_type": "code",
   "execution_count": 17,
   "id": "5eea27f1-6571-477f-a75f-8b3a71f9259e",
   "metadata": {},
   "outputs": [],
   "source": [
    "from typing import NamedTuple, Optional\n",
    "\n",
    "class Kraj(NamedTuple):\n",
    "    ime: str\n",
    "    sirina: float\n",
    "    dolzina: float\n",
    "    prebivalcev: Optional[int]"
   ]
  },
  {
   "cell_type": "code",
   "execution_count": 18,
   "id": "cc124c5c-3a0c-4215-9ae1-94fdd9f27cf1",
   "metadata": {},
   "outputs": [
    {
     "data": {
      "text/plain": [
       "Kraj(ime='Stara Gora', sirina=46.656897, dolzina=15.637519, prebivalcev=None)"
      ]
     },
     "execution_count": 18,
     "metadata": {},
     "output_type": "execute_result"
    }
   ],
   "source": [
    "kraj = Kraj(\"Stara Gora\", 46.656897, 15.637519, None)\n",
    "\n",
    "kraj"
   ]
  },
  {
   "cell_type": "markdown",
   "id": "c1d4c6f5-ae52-4065-804d-8862c60c5067",
   "metadata": {},
   "source": [
    "Kako povemo, da bo neka vrednost seznam nizov? Ali slovar, katerega ključi bodo cela števila, vrednosti pa, huh, seznami nizov? Označevanje tipov je lahko predmet čisto ločene \"lekcije\". Na hitro pa le povejmo, kako je s tem. Kot prvo, povemo lahko, da bo nekaj seznam, ne da bi se izjaznili glede tipa elementov."
   ]
  },
  {
   "cell_type": "code",
   "execution_count": 19,
   "id": "f9db6b94-cecc-440e-9933-df80aa7c6532",
   "metadata": {},
   "outputs": [],
   "source": [
    "imena: list"
   ]
  },
  {
   "cell_type": "markdown",
   "id": "f2de8a58-99d2-4e42-8b81-0e6fade39fd0",
   "metadata": {},
   "source": [
    "Če hočemo povedati, da bo vseboval nize, bomo rekli"
   ]
  },
  {
   "cell_type": "code",
   "execution_count": 20,
   "id": "a74faeef-0098-46b5-b2d9-418b656707b5",
   "metadata": {},
   "outputs": [],
   "source": [
    "imena: list[str]"
   ]
  },
  {
   "cell_type": "markdown",
   "id": "c21b3663-d258-4447-bb0e-36eaa10dfa11",
   "metadata": {},
   "source": [
    "Slovar, katerega ključi so `int`, vrednosti pa `str`, bi bil"
   ]
  },
  {
   "cell_type": "code",
   "execution_count": 22,
   "id": "03627e71-8b01-4b57-9136-3d01126ffda0",
   "metadata": {},
   "outputs": [],
   "source": [
    "po_starosti: dict[int, str]"
   ]
  },
  {
   "cell_type": "markdown",
   "id": "0b567229-60f7-4369-a740-0868f3d35c7b",
   "metadata": {},
   "source": [
    "Če so vrednosti seznami nizov, pa"
   ]
  },
  {
   "cell_type": "code",
   "execution_count": 23,
   "id": "b2459dfb-a6a7-4e58-8a62-532ed5d7ca9b",
   "metadata": {},
   "outputs": [],
   "source": [
    "po_starosti: dict[int, list[str]]"
   ]
  },
  {
   "cell_type": "markdown",
   "id": "9dc3e0e2-49e9-4b5b-89e8-864cbfa9eacf",
   "metadata": {},
   "source": [
    "Samo toliko, na hitro."
   ]
  },
  {
   "cell_type": "markdown",
   "id": "1f251b18-1da2-4483-a600-5cfc1fd62443",
   "metadata": {},
   "source": [
    "## Privzete vrednosti\n",
    "\n",
    "Atributi imajo lahko tudi privzete vrednosti."
   ]
  },
  {
   "cell_type": "code",
   "execution_count": 24,
   "id": "b0e6756a-d52e-4a14-88b1-e874d2127961",
   "metadata": {},
   "outputs": [],
   "source": [
    "from typing import NamedTuple, Optional\n",
    "\n",
    "class Kraj(NamedTuple):\n",
    "    ime: str\n",
    "    sirina: float\n",
    "    dolzina: float\n",
    "    prebivalcev: Optional[int] = None"
   ]
  },
  {
   "cell_type": "code",
   "execution_count": 25,
   "id": "6a0df680-485e-448a-ad99-8f309b2debd3",
   "metadata": {},
   "outputs": [
    {
     "data": {
      "text/plain": [
       "Kraj(ime='Stara Gora', sirina=46.656897, dolzina=15.637519, prebivalcev=None)"
      ]
     },
     "execution_count": 25,
     "metadata": {},
     "output_type": "execute_result"
    }
   ],
   "source": [
    "kraj = Kraj(\"Stara Gora\", 46.656897, 15.637519)\n",
    "\n",
    "kraj"
   ]
  },
  {
   "cell_type": "code",
   "execution_count": 26,
   "id": "971a55ba-3d07-464d-8a0d-b1ccdd2092c6",
   "metadata": {},
   "outputs": [],
   "source": [
    "from typing import NamedTuple, Optional\n",
    "\n",
    "class Kraj(NamedTuple):\n",
    "    ime: str\n",
    "    sirina: float = 46.119552\n",
    "    dolzina: float = 14.838005\n",
    "    prebivalcev: Optional[int] = None"
   ]
  },
  {
   "cell_type": "code",
   "execution_count": 27,
   "id": "5f5c36c6-c01a-4e7c-820b-8d8c3c88a264",
   "metadata": {},
   "outputs": [],
   "source": [
    "kraj = Kraj(\"Sreda\")"
   ]
  },
  {
   "cell_type": "code",
   "execution_count": 28,
   "id": "f7b56fb9-20e2-430b-9690-3596cc0d1948",
   "metadata": {},
   "outputs": [
    {
     "data": {
      "text/plain": [
       "Kraj(ime='Sreda', sirina=46.119552, dolzina=14.838005, prebivalcev=None)"
      ]
     },
     "execution_count": 28,
     "metadata": {},
     "output_type": "execute_result"
    }
   ],
   "source": [
    "kraj"
   ]
  },
  {
   "cell_type": "markdown",
   "id": "1f168c99-3726-42ac-989f-78a8e4ad697c",
   "metadata": {},
   "source": [
    "## Spreminjanje vrednosti"
   ]
  },
  {
   "cell_type": "markdown",
   "id": "32f72073-6473-46f5-a7ea-c3d2edee1a6e",
   "metadata": {},
   "source": [
    "Če imamo nek kraj"
   ]
  },
  {
   "cell_type": "code",
   "execution_count": 29,
   "id": "e8560bcf-e176-444c-8831-5fe1604b1b6b",
   "metadata": {
    "editable": true,
    "slideshow": {
     "slide_type": ""
    },
    "tags": []
   },
   "outputs": [
    {
     "data": {
      "text/plain": [
       "Kraj(ime='Sreda', sirina=46.119552, dolzina=14.838005, prebivalcev=None)"
      ]
     },
     "execution_count": 29,
     "metadata": {},
     "output_type": "execute_result"
    }
   ],
   "source": [
    "kraj"
   ]
  },
  {
   "cell_type": "markdown",
   "id": "d399eb34-6626-4a21-bd04-10e1e14c9f37",
   "metadata": {},
   "source": [
    "in želimo spremeniti katero od njegovih lastnosti, nas bo to spomnilo, da imamo opravka s terkami."
   ]
  },
  {
   "cell_type": "code",
   "execution_count": 30,
   "id": "3e4062f8-ce59-4186-9c1e-02b4ace71e60",
   "metadata": {
    "editable": true,
    "slideshow": {
     "slide_type": ""
    },
    "tags": [
     "raises-exception"
    ]
   },
   "outputs": [
    {
     "ename": "AttributeError",
     "evalue": "can't set attribute",
     "output_type": "error",
     "traceback": [
      "\u001b[0;31m---------------------------------------------------------------------------\u001b[0m",
      "\u001b[0;31mAttributeError\u001b[0m                            Traceback (most recent call last)",
      "Cell \u001b[0;32mIn[30], line 1\u001b[0m\n\u001b[0;32m----> 1\u001b[0m \u001b[43mkraj\u001b[49m\u001b[38;5;241;43m.\u001b[39;49m\u001b[43mprebivalcev\u001b[49m \u001b[38;5;241m=\u001b[39m \u001b[38;5;241m368\u001b[39m\n",
      "\u001b[0;31mAttributeError\u001b[0m: can't set attribute"
     ]
    }
   ],
   "source": [
    "kraj.prebivalcev = 368"
   ]
  },
  {
   "cell_type": "markdown",
   "id": "036732ea-bf11-45c2-89a1-7d66b7edcd91",
   "metadata": {},
   "source": [
    "Terke so nespremenljive. Pač pa"
   ]
  },
  {
   "cell_type": "code",
   "execution_count": 31,
   "id": "7972ecd7-140a-45df-b45e-729f3c1a5722",
   "metadata": {},
   "outputs": [
    {
     "data": {
      "text/plain": [
       "Kraj(ime='Sreda', sirina=46.119552, dolzina=14.838005, prebivalcev=367)"
      ]
     },
     "execution_count": 31,
     "metadata": {},
     "output_type": "execute_result"
    }
   ],
   "source": [
    "kraj._replace(prebivalcev=367)"
   ]
  },
  {
   "cell_type": "code",
   "execution_count": 32,
   "id": "8b7815b4-d152-4efc-86c9-e4d5d954ea6d",
   "metadata": {
    "editable": true,
    "slideshow": {
     "slide_type": ""
    },
    "tags": []
   },
   "outputs": [
    {
     "data": {
      "text/plain": [
       "Kraj(ime='Vače', sirina=46.119552, dolzina=14.838005, prebivalcev=368)"
      ]
     },
     "execution_count": 32,
     "metadata": {},
     "output_type": "execute_result"
    }
   ],
   "source": [
    "kraj._replace(ime=\"Vače\", prebivalcev=368)"
   ]
  },
  {
   "cell_type": "markdown",
   "id": "9077918f-9c39-47c8-bbf4-801c07dcb664",
   "metadata": {},
   "source": [
    "Terka je še vedno nespremenljiva in zato nespremenjena: kraj je še vedno Sreda."
   ]
  },
  {
   "cell_type": "code",
   "execution_count": 33,
   "id": "91d4541e-96fa-4ba6-8c68-911eef6b47f7",
   "metadata": {},
   "outputs": [
    {
     "data": {
      "text/plain": [
       "Kraj(ime='Sreda', sirina=46.119552, dolzina=14.838005, prebivalcev=None)"
      ]
     },
     "execution_count": 33,
     "metadata": {},
     "output_type": "execute_result"
    }
   ],
   "source": [
    "kraj"
   ]
  },
  {
   "cell_type": "markdown",
   "id": "6af2ae0f-71e1-4358-b7c1-07da0f81c60f",
   "metadata": {},
   "source": [
    "Metoda `_replace` ima nekoliko zavajajoče ime, saj ničesar ne spremeni, temveč sestavi novo terko. Če bi torej v resnici hoteli \"spremeniti\" terko `kraj`, bi morali -- podobno kot pri nizih, kjer smo pisali `ime = ime.replace(\"n\", \"r\")` -- napisati"
   ]
  },
  {
   "cell_type": "code",
   "execution_count": 34,
   "id": "2b0d3ae5-acc8-491a-9ef3-f456b8a158c1",
   "metadata": {},
   "outputs": [],
   "source": [
    "kraj = kraj._replace(ime=\"Vače\", prebivalcev=368)"
   ]
  },
  {
   "cell_type": "code",
   "execution_count": 35,
   "id": "35f13305-0e5f-4a11-8a30-3ba4b191c9f6",
   "metadata": {
    "editable": true,
    "slideshow": {
     "slide_type": ""
    },
    "tags": []
   },
   "outputs": [
    {
     "data": {
      "text/plain": [
       "Kraj(ime='Vače', sirina=46.119552, dolzina=14.838005, prebivalcev=368)"
      ]
     },
     "execution_count": 35,
     "metadata": {},
     "output_type": "execute_result"
    }
   ],
   "source": [
    "kraj"
   ]
  },
  {
   "cell_type": "markdown",
   "id": "98122451-a33b-4cfd-94f2-7c8f6d0eeba9",
   "metadata": {},
   "source": [
    "## Dokumentacija\n",
    "\n",
    "[NamedTuple](https://docs.python.org/3/library/typing.html#typing.NamedTuple) in [namedtuple](https://docs.python.org/3/library/collections.html#collections.namedtuple)."
   ]
  }
 ],
 "metadata": {
  "kernelspec": {
   "display_name": "Python 3 (ipykernel)",
   "language": "python",
   "name": "python3"
  },
  "language_info": {
   "codemirror_mode": {
    "name": "ipython",
    "version": 3
   },
   "file_extension": ".py",
   "mimetype": "text/x-python",
   "name": "python",
   "nbconvert_exporter": "python",
   "pygments_lexer": "ipython3",
   "version": "3.12.7"
  }
 },
 "nbformat": 4,
 "nbformat_minor": 5
}
