{
 "cells": [
  {
   "cell_type": "markdown",
   "id": "790c6f18-0b0c-45cd-accb-516d9f231476",
   "metadata": {},
   "source": [
    "### Funkcije, ki sestavljajo in vračajo funkcije\n",
    "\n",
    "Napišimo funkcije, ki pretvarjajo Fahrenheite v Celzije, Celzije v Fahrenheite in, hm kilometre v milje in nazaj."
   ]
  },
  {
   "cell_type": "code",
   "execution_count": 1,
   "id": "7d915159-21d4-4767-b1ba-16a157e7d661",
   "metadata": {},
   "outputs": [],
   "source": [
    "def fahr_v_celz(f):\n",
    "    return (f - 32) * 5 / 9\n",
    "\n",
    "def celz_v_fahr(c):\n",
    "    return c * 9 / 5 + 32\n",
    "\n",
    "def km_v_milje(km):\n",
    "    return km / 1.60934\n",
    "\n",
    "def milje_v_km(m):\n",
    "    return m * 1.60934"
   ]
  },
  {
   "cell_type": "code",
   "execution_count": 4,
   "id": "7349693a-7928-4678-a322-481c62b3515f",
   "metadata": {},
   "outputs": [
    {
     "data": {
      "text/plain": [
       "7.222222222222222"
      ]
     },
     "execution_count": 4,
     "metadata": {},
     "output_type": "execute_result"
    }
   ],
   "source": [
    "fahr_v_celz(45)"
   ]
  },
  {
   "cell_type": "markdown",
   "id": "20b6570b-83a3-42ec-b280-0ce476e87c3d",
   "metadata": {},
   "source": [
    "Rad bi, da vse te funkcije vračajo le dve decimalki. Pravzaprav, ne, rad, bi funkcije `fahr_v_celz2`, `celz_v_fahr2`, `km_v_milje2` in `milje_v_km2`, ki bi vračale taiste reči, vendar le na dve decimalki natančno.\n",
    "\n",
    "Tega se bomo lotili malo drugače, ne - kot bi pričakovali - z\n",
    "\n",
    "```python\n",
    "def fahr_v_celz2(x):\n",
    "    y = fahr_v_celz(x)\n",
    "    return round(y, 2)\n",
    "```\n",
    "\n",
    "Pazite tole!"
   ]
  },
  {
   "cell_type": "code",
   "execution_count": 9,
   "id": "237e123e-e21e-4533-bb6e-90ef77deb60c",
   "metadata": {},
   "outputs": [],
   "source": [
    "def rounder(f):\n",
    "    def rounded(x):\n",
    "        y = f(x)\n",
    "        return round(y, 2)\n",
    "\n",
    "    return rounded"
   ]
  },
  {
   "cell_type": "markdown",
   "id": "a51dbdaf-c956-4a4c-9afa-4dd7a50cc90b",
   "metadata": {},
   "source": [
    "Preden povemo, kako deluje, poglejmo, kako uporabljati."
   ]
  },
  {
   "cell_type": "code",
   "execution_count": 10,
   "id": "c3c8d264-0032-45f2-b05a-ff515a040577",
   "metadata": {},
   "outputs": [],
   "source": [
    "fahr_v_celz2 = rounder(fahr_v_celz)\n",
    "celz_v_fahr2 = rounder(celz_v_fahr)\n",
    "km_v_milje2 = rounder(km_v_milje)\n",
    "milje_v_km2 = rounder(milje_v_km)"
   ]
  },
  {
   "cell_type": "code",
   "execution_count": 8,
   "id": "a023e89e-9368-44ea-8768-b96949b9978f",
   "metadata": {},
   "outputs": [
    {
     "data": {
      "text/plain": [
       "7.22"
      ]
     },
     "execution_count": 8,
     "metadata": {},
     "output_type": "execute_result"
    }
   ],
   "source": [
    "fahr_v_celz2(45)"
   ]
  },
  {
   "cell_type": "markdown",
   "id": "f877ce5c-054a-411a-a808-df15071cd222",
   "metadata": {},
   "source": [
    "Kaj se dogaja? Funkciji `rounder` kot argument podamo funkcijo, recimo `fahr_v_celz`. Znotraj `rounder` je `f` torej isto kot `fahr_v_celz`.\n",
    "\n",
    "Zdaj pa poglejmo `rounder`: ta definira funkcijo `rounded`. Če si mislimo, da namesto `f` piše `fahr_v_celz` ... je ta funkcija pravzaprav popolnoma enaka funkciji `fahr_v_celz2`, ki smo jo napisali par celic višje. Funkcija `rounded` torej pravzaprav definira funkcijo `fahr_v_celz2` - ki jo sicer imenuje `rounded`.\n",
    "\n",
    "In na koncu ... `return rounded`.\n",
    "\n",
    "Funkcija `rounder` torej ne naredi drugega, kot da definira in vrne funkcijo `fahr_v_celz2`, čeprav pod drugim imenom. Ker jo pokličemo z\n",
    "\n",
    "```\n",
    "fahr_v_celz2 = rounder(fahr_v_celz)\n",
    "```\n",
    "\n",
    "ima rezultat tega klica `rounder`-ja ime `fahr_v_celz2`. Kot mora.\n",
    "\n",
    "Klicu `rounder(fahr_v_celz)`, ki torej vrne (v bistvu) `fahr_v_celz2`, sledijo klici `rounder(celz_v_fahr)`, `rounder(km_v_milje)` in `rounder(milje_v_km)`, ki definirajo in vrnejo še ostale tri funkcije."
   ]
  },
  {
   "cell_type": "markdown",
   "id": "9f77c59b-b281-443d-bbc1-abf54a190a45",
   "metadata": {},
   "source": [
    "### Dekoratorji\n",
    "\n",
    "Funkcija `rounder` nemara ni višek uporabnosti, koncept sam pa. Pogosto si pripravimo (ali pa nam kdo drug pripravi) funkcijo, namenjeno takšnemu \"ovijanju\" drugih funkcij. Uporabimo jih kar tako, kot da bi zgoraj pisali"
   ]
  },
  {
   "cell_type": "code",
   "execution_count": 11,
   "id": "14cbb5d7-aa0b-4034-9d48-cbc1d3d5dcf8",
   "metadata": {},
   "outputs": [],
   "source": [
    "def fahr_v_celz(f):\n",
    "    return (f - 32) * 5 / 9\n",
    "\n",
    "fahr_v_celz = rounder(fahr_v_celz)\n",
    "\n",
    "def celz_v_fahr(c):\n",
    "    return c * 9 / 5 + 32\n",
    "\n",
    "celz_v_fahr = rounder(celz_v_fahr)\n",
    "\n",
    "# in tako naprej"
   ]
  },
  {
   "cell_type": "markdown",
   "id": "b43c7b4f-ddda-4839-88f2-8cd5dcd854fb",
   "metadata": {},
   "source": [
    "Vsako funkcijo torej ovijemo kar takoj po tem, ko jo sestavimo. Ker damo oviti funkciji tudi enako ime, je izvirna funkcija pravzaprav izgubljena, dostopamo lahko le do ovite različice, tiste, ki že zaokroža.\n",
    "\n",
    "Za to obstaja skrajšana sintaksa."
   ]
  },
  {
   "cell_type": "code",
   "execution_count": 12,
   "id": "5915ee21-58d0-45ab-a676-96d1b62c6865",
   "metadata": {},
   "outputs": [],
   "source": [
    "@rounder\n",
    "def fahr_v_celz(f):\n",
    "    return (f - 32) * 5 / 9\n",
    "\n",
    "@rounder\n",
    "def celz_v_fahr(c):\n",
    "    return c * 9 / 5 + 32"
   ]
  },
  {
   "cell_type": "markdown",
   "id": "ddf813c8-7aeb-468d-82ce-c541075f612d",
   "metadata": {},
   "source": [
    "Stvari, ki smo jo napisali pred definicijo funkcije, rečemo dekorator. Pythonu s tem povemo, naj sicer definira funkcijo, kot je pisano, vendar pravkar definirano funkcijo posleduje dekoratorju (`rounder`); končna definicija funkcije bo tisto, kar vrne `rounder`."
   ]
  },
  {
   "cell_type": "markdown",
   "id": "46d878e3-bf7c-4e53-8d87-a53d010382aa",
   "metadata": {},
   "source": [
    "### Primer: memoizacija\n",
    "\n",
    "Klasičen primer za dekoratorje je memoizacija. Napisali bomo dekorator, ki pokliče ovito funkcijo in vrne njen rezultat. Mimogrede pa si ga še zapomni za naslednjič: če bo še kdo poklical funkcijo z enakim argumentom, bo dekorator vrnil kar shranjeni rezultat, namesto da bi ponovno klical funkcijo."
   ]
  },
  {
   "cell_type": "code",
   "execution_count": 13,
   "id": "ed1d5ff4-33bc-4440-927c-b37dc7648a23",
   "metadata": {},
   "outputs": [],
   "source": [
    "def cache(f):\n",
    "    stored = {}\n",
    "    \n",
    "    def cached(x):\n",
    "        if x not in stored:\n",
    "            stored[x] = f(x)\n",
    "        return stored[x]\n",
    "\n",
    "    return cached"
   ]
  },
  {
   "cell_type": "code",
   "execution_count": 14,
   "id": "ab401df5-c175-4373-8849-6db8e3a1a91c",
   "metadata": {},
   "outputs": [],
   "source": [
    "@cache\n",
    "def fahr_v_celz(f):\n",
    "    print(f\"Računam pretvorbo iz {f}\")\n",
    "    return (f - 32) * 5 / 9"
   ]
  },
  {
   "cell_type": "code",
   "execution_count": 15,
   "id": "ebb4a7bd-4919-4ec9-9e0a-3643a5734c7d",
   "metadata": {},
   "outputs": [
    {
     "name": "stdout",
     "output_type": "stream",
     "text": [
      "Računam pretvorbo iz 50\n"
     ]
    },
    {
     "data": {
      "text/plain": [
       "10.0"
      ]
     },
     "execution_count": 15,
     "metadata": {},
     "output_type": "execute_result"
    }
   ],
   "source": [
    "fahr_v_celz(50)"
   ]
  },
  {
   "cell_type": "code",
   "execution_count": 17,
   "id": "5480b204-101b-4543-920d-e4dee08fe660",
   "metadata": {},
   "outputs": [
    {
     "name": "stdout",
     "output_type": "stream",
     "text": [
      "Računam pretvorbo iz 59\n"
     ]
    },
    {
     "data": {
      "text/plain": [
       "15.0"
      ]
     },
     "execution_count": 17,
     "metadata": {},
     "output_type": "execute_result"
    }
   ],
   "source": [
    "fahr_v_celz(59)"
   ]
  },
  {
   "cell_type": "code",
   "execution_count": 18,
   "id": "e40820b9-2d55-4992-803f-c53cc593e3c1",
   "metadata": {},
   "outputs": [
    {
     "data": {
      "text/plain": [
       "10.0"
      ]
     },
     "execution_count": 18,
     "metadata": {},
     "output_type": "execute_result"
    }
   ],
   "source": [
    "fahr_v_celz(50)"
   ]
  },
  {
   "cell_type": "markdown",
   "id": "78a6c9fc-3e1c-4e26-9172-c4eb27a4850e",
   "metadata": {},
   "source": [
    "V zadnjem klicu se ni izpisalo nič, saj je imel dekorator rezultat funkcije za argument `50` že shranjen.\n",
    "\n",
    "Pretvarjanje Fahrenheitov v Celzije je preprosto, tega nima smisla shranjevati. Kaj pa Fibonaccijeva števila po rekurzivni formuli?"
   ]
  },
  {
   "cell_type": "code",
   "execution_count": 20,
   "id": "7d410d26-0756-4b31-bb55-7b2a33bf62ec",
   "metadata": {},
   "outputs": [],
   "source": [
    "klicev = 0\n",
    "\n",
    "def fibo(n):\n",
    "    global klicev\n",
    "    klicev += 1\n",
    "    \n",
    "    if n == 0 or n == 1:\n",
    "        return 1\n",
    "    return fibo(n - 1) + fibo(n - 2)"
   ]
  },
  {
   "cell_type": "code",
   "execution_count": 21,
   "id": "96193bd3-0ad1-4576-8a3c-d23e0b2134f7",
   "metadata": {},
   "outputs": [
    {
     "data": {
      "text/plain": [
       "1346269"
      ]
     },
     "execution_count": 21,
     "metadata": {},
     "output_type": "execute_result"
    }
   ],
   "source": [
    "fibo(30)"
   ]
  },
  {
   "cell_type": "markdown",
   "id": "244a8ee3-713a-481b-8b16-4db5e4858f5e",
   "metadata": {},
   "source": [
    "Funkcija je videti nedolžna, vendar: poglejmo, kolikokrat se je poklicala!"
   ]
  },
  {
   "cell_type": "code",
   "execution_count": 22,
   "id": "ac215559-2aaa-4ae3-86e8-08040ef471fa",
   "metadata": {},
   "outputs": [
    {
     "data": {
      "text/plain": [
       "2692537"
      ]
     },
     "execution_count": 22,
     "metadata": {},
     "output_type": "execute_result"
    }
   ],
   "source": [
    "klicev"
   ]
  },
  {
   "cell_type": "markdown",
   "id": "83d4cc50-b8d9-4906-a62d-ca6057e0287e",
   "metadata": {},
   "source": [
    "Klicev je dvakrat toliko, kolikor je veliko Fibonaccijevo število. To je, če razmislimo, kar logično. Vendar tu ne bomo razmišljali o tem. Raje bomo razmišljali o tem, kako imenitna stvar je memoizacija."
   ]
  },
  {
   "cell_type": "code",
   "execution_count": 25,
   "id": "88b9a993-3c87-466f-a2cf-665493550a8b",
   "metadata": {},
   "outputs": [],
   "source": [
    "klicev = 0\n",
    "\n",
    "@cache\n",
    "def fibo(n):\n",
    "    global klicev\n",
    "    klicev += 1\n",
    "    \n",
    "    if n == 0 or n == 1:\n",
    "        return 1\n",
    "    return fibo(n - 1) + fibo(n - 2)"
   ]
  },
  {
   "cell_type": "code",
   "execution_count": 26,
   "id": "9f2067c9-8187-42b0-a269-a7b51fe47fdd",
   "metadata": {},
   "outputs": [
    {
     "data": {
      "text/plain": [
       "1346269"
      ]
     },
     "execution_count": 26,
     "metadata": {},
     "output_type": "execute_result"
    }
   ],
   "source": [
    "fibo(30)"
   ]
  },
  {
   "cell_type": "code",
   "execution_count": 27,
   "id": "a4f5b17c-1bc9-4c48-90b4-7747acd5e54f",
   "metadata": {},
   "outputs": [
    {
     "data": {
      "text/plain": [
       "31"
      ]
     },
     "execution_count": 27,
     "metadata": {},
     "output_type": "execute_result"
    }
   ],
   "source": [
    "klicev"
   ]
  },
  {
   "cell_type": "markdown",
   "id": "d01558b7-01d7-46a1-825c-f7897379b532",
   "metadata": {},
   "source": [
    "To pa je tako logično, da pravzaprav ni o čem razmišljati: izračunati je potrebno vseh 31 Fibonaccijevih števil od 0-tega do 30-tega, vendar nobenega ne računamo več kot enkrat, zato bo klicev točno 31.\n",
    "\n",
    "Izračunamo lahko tudi stoto Fibonaccijevo število."
   ]
  },
  {
   "cell_type": "code",
   "execution_count": 29,
   "id": "1f456f03-248e-4ce7-870d-dbb2562fabd0",
   "metadata": {},
   "outputs": [
    {
     "data": {
      "text/plain": [
       "573147844013817084101"
      ]
     },
     "execution_count": 29,
     "metadata": {},
     "output_type": "execute_result"
    }
   ],
   "source": [
    "fibo(100)"
   ]
  },
  {
   "cell_type": "markdown",
   "id": "85831622-3e47-43aa-856d-ac4e7fce9719",
   "metadata": {},
   "source": [
    "Brez memoizacije to ne bi bilo možno saj bi zahtevalo $10^{21}$ klicev."
   ]
  },
  {
   "cell_type": "code",
   "execution_count": 40,
   "id": "f091a110-904c-40fd-a33b-97cdd9006db0",
   "metadata": {},
   "outputs": [
    {
     "data": {
      "text/plain": [
       "8.4258792e+20"
      ]
     },
     "execution_count": 40,
     "metadata": {},
     "output_type": "execute_result"
    }
   ],
   "source": [
    "26.7 * 10 ** 9 * 365.25 * 24 * 3600 * 1000"
   ]
  },
  {
   "cell_type": "markdown",
   "id": "e64a2bb3-38ae-48d4-abf3-f01309b93040",
   "metadata": {},
   "source": [
    "Približno en klic za vsako milisekundo obstoja vesolja."
   ]
  },
  {
   "cell_type": "markdown",
   "id": "89188328-26f9-434d-994c-4b5a4162b35d",
   "metadata": {},
   "source": [
    "### Posplošena memoizacija\n",
    "\n",
    "Imenitnost naše funkcije kvari le to, da zna ovijati le funkcije z enim argumentom. Če hočemo oviti takšne s poljubnim številom, je potrebno dekorator malenkost spremeniti."
   ]
  },
  {
   "cell_type": "code",
   "execution_count": 41,
   "id": "abe78bed-1268-4455-87c7-0249a301e008",
   "metadata": {},
   "outputs": [],
   "source": [
    "def cache(f):\n",
    "    stored = {}\n",
    "    \n",
    "    def cached(*x):\n",
    "        if x not in stored:\n",
    "            stored[x] = f(*x)\n",
    "        return stored[x]\n",
    "\n",
    "    return cached"
   ]
  },
  {
   "cell_type": "markdown",
   "id": "6acb8cc4-f613-4796-9da3-1c619c67fce5",
   "metadata": {},
   "source": [
    "Dodali smo dve zvezdici pred `x`, da se ta ne nanaša več na en sam argument temveč na terko z vsemi argumenti.\n",
    "\n",
    "Če tega ne razumete, nič hudega. Tako ali tako funkcija že obstaja, najdemo jo v modulu `functools`."
   ]
  },
  {
   "cell_type": "code",
   "execution_count": 42,
   "id": "fe42f8f1-9179-4307-8a31-8fcbba60e801",
   "metadata": {},
   "outputs": [],
   "source": [
    "from functools import cache"
   ]
  },
  {
   "cell_type": "markdown",
   "id": "b24361c2-11f7-49d4-bde0-5d16f2a94764",
   "metadata": {},
   "source": [
    "## Zaključek\n",
    "\n",
    "Dekoratorji so uporabni še za marsikaj. Četudi se vam morda zdijo eksotika, jih boste - če boste imeli odprte oči - pogosto zagledali in pogosto tudi pisali."
   ]
  }
 ],
 "metadata": {
  "kernelspec": {
   "display_name": "Python 3 (ipykernel)",
   "language": "python",
   "name": "python3"
  },
  "language_info": {
   "codemirror_mode": {
    "name": "ipython",
    "version": 3
   },
   "file_extension": ".py",
   "mimetype": "text/x-python",
   "name": "python",
   "nbconvert_exporter": "python",
   "pygments_lexer": "ipython3",
   "version": "3.12.7"
  }
 },
 "nbformat": 4,
 "nbformat_minor": 5
}
