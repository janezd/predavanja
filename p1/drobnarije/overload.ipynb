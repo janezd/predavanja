{
 "cells": [
  {
   "cell_type": "markdown",
   "id": "708ddc4a-1d54-44b7-a849-1df135f1f46c",
   "metadata": {},
   "source": [
    "## Več funkcij z istim imenom in različnimi argumenti\n",
    "\n",
    "Študente pogosto zanima, ali je mogoče v Pythonu napisati več različic iste funkcije; katera od njih se pokliče, bi bilo odvisno od tipa argumenta. Eno funkcijo, torej, za argumente tipa `int` in drugo za sezname, ter mogoče še tretjo za množice. Inspiracija izvira iz jezikov v slogu C++, ki poznajo [function overloading](https://en.wikipedia.org/wiki/Function_overloading) in funkcije\n",
    "\n",
    "```cpp\n",
    "int f(int x) {\n",
    "    return x * 2;\n",
    "}\n",
    "\n",
    "int f(float x) {\n",
    "    return x * 3;\n",
    "}\n",
    "\n",
    "inf f(int x, int y) {\n",
    "    return x * y;\n",
    "}\n",
    "```\n",
    "\n",
    "pa bo klic `f(42)` vrnil `84`, klic `f(3.14)` pa `9.42`, če se prav spomnim C++-a. In klic `f(2, 3)` bo vrnil `6`.\n",
    "\n",
    "Je v Pythonu torej to mogoče?\n",
    "\n",
    "Ne. In da.\n",
    "\n",
    "Python - kot jezik - tega nima. Pač pa je možno delati čudeže z dekoratorji."
   ]
  },
  {
   "cell_type": "markdown",
   "id": "dbb8ba87-dbdd-4d8e-ba41-202d14b94272",
   "metadata": {},
   "source": [
    "### Dekorator `singledispatch`"
   ]
  },
  {
   "cell_type": "code",
   "execution_count": 4,
   "id": "77896c6a-9f25-4ab4-8094-260e41fd40ea",
   "metadata": {},
   "outputs": [],
   "source": [
    "from functools import singledispatch\n",
    "\n",
    "@singledispatch\n",
    "def f(x):\n",
    "    print(f\"Takega argumenta, {x}, nihče ne mara.\")\n",
    "\n",
    "@f.register\n",
    "def _(x: int):\n",
    "    print(\"O, glej no, int\")\n",
    "\n",
    "@f.register\n",
    "def _(a: float, b: str):\n",
    "    print(\"Česa ne poveste, float smo dobili!\")\n",
    "\n",
    "@f.register\n",
    "def _(s: set):\n",
    "    print(\"Množica? Tudi to obstaja?\")"
   ]
  },
  {
   "cell_type": "code",
   "execution_count": 5,
   "id": "472324df-2c83-49b4-b4ae-f9725c3cbba4",
   "metadata": {},
   "outputs": [
    {
     "name": "stdout",
     "output_type": "stream",
     "text": [
      "O, glej no, int\n"
     ]
    }
   ],
   "source": [
    "f(42)"
   ]
  },
  {
   "cell_type": "code",
   "execution_count": 24,
   "id": "0dbf1b84-6287-4620-9690-e2dcfaba3a57",
   "metadata": {},
   "outputs": [
    {
     "name": "stdout",
     "output_type": "stream",
     "text": [
      "Česa ne poveste, float smo dobili!\n"
     ]
    }
   ],
   "source": [
    "f(3.14, \"test\")"
   ]
  },
  {
   "cell_type": "code",
   "execution_count": 8,
   "id": "bfb1c9e1-0935-46e0-b5dc-99c863c50326",
   "metadata": {},
   "outputs": [
    {
     "name": "stdout",
     "output_type": "stream",
     "text": [
      "Množica? Tudi to obstaja?\n"
     ]
    }
   ],
   "source": [
    "f({1, 2, 3})"
   ]
  },
  {
   "cell_type": "code",
   "execution_count": 9,
   "id": "ac4407c4-2490-4343-92a3-51c752f2f274",
   "metadata": {},
   "outputs": [
    {
     "name": "stdout",
     "output_type": "stream",
     "text": [
      "Takega argumenta, [1, 2, 3], nihče ne mara.\n"
     ]
    }
   ],
   "source": [
    "f([1, 2, 3])"
   ]
  },
  {
   "cell_type": "markdown",
   "id": "aa1e82f0-a528-4ab8-a17e-bbce3ccdca9e",
   "metadata": {},
   "source": [
    "Reč ima omejitve. O tem, katera funkcija se bo poklicala, odloča le prvi element. Tip pa mora biti razred; napisali smo `set`, `set[int]` pa ne deluje.\n",
    "\n",
    "Razvajencu iz C++ to seveda ni dovolj. V praksi pa tega ne potrebujemo ravno velikokrat (vsaj jaz to rekdo uporabljam - pa ne zato, ker mi ne bi bilo blizu, v C++ sem imel to rad!) in omejitev na en sam argument sploh ni tako huda.\n",
    "\n",
    "To je vse. Naprej naj berejo tisti, ki jih zanima, kako je to narejeno."
   ]
  },
  {
   "cell_type": "markdown",
   "id": "4448a9c9-c125-49d6-a4d7-f212e2129b2d",
   "metadata": {},
   "source": [
    "### Parametrizirani dekoratorji\n",
    "\n",
    "Bolj zaradi tega, kar sledi v naslednjem razdelku, povejmo, da gre tudi brez označevanje tipov argumentov. V tem primeru je potrebno tip podati dekoratorju `register`."
   ]
  },
  {
   "cell_type": "code",
   "execution_count": 11,
   "id": "999d76ea-34d0-4c3a-a1d5-2ebcdaaf63e1",
   "metadata": {},
   "outputs": [],
   "source": [
    "from functools import singledispatch\n",
    "\n",
    "@singledispatch\n",
    "def f(x):\n",
    "    print(f\"Takega argumenta, {x}, nihče ne mara.\")\n",
    "\n",
    "@f.register(int)\n",
    "def _(x):\n",
    "    print(\"O, glej no, int\")\n",
    "\n",
    "@f.register(float)\n",
    "def _(a, b):\n",
    "    print(\"Česa ne poveste, float smo dobili!\")\n",
    "\n",
    "@f.register(set)\n",
    "def _(s):\n",
    "    print(\"Množica? Tudi to obstaja?\")"
   ]
  },
  {
   "cell_type": "markdown",
   "id": "f5947942-4f44-48eb-8ce3-55735a840353",
   "metadata": {},
   "source": [
    "### Kako je to narejeno\n",
    "\n",
    "Napisal sem, da tega ne omogoča Python kot jezik, temveč je to možno narediti z dekoratorjem. Z drugimi besedami: če tega ne bi bilo, bi lahko to naredili sami. Ker je preprosteje (kar še ne pomeni, da je preprosto), pokažimo, kako bi sami naredili to, drugo, parametrizirano različico dekoratorja."
   ]
  },
  {
   "cell_type": "code",
   "execution_count": 22,
   "id": "744925a3-f07a-4a30-979e-df4b9861c0f2",
   "metadata": {},
   "outputs": [],
   "source": [
    "def moj_dispatch(f):\n",
    "    funkcije = {}\n",
    "    def g(prvi, *ostali):\n",
    "        return funkcije.get(type(prvi), f)(prvi, *ostali)\n",
    "\n",
    "    def register(tip):\n",
    "        def registriraj(f):\n",
    "            funkcije[tip] = f\n",
    "        return registriraj\n",
    "\n",
    "    g.register = register\n",
    "    return g"
   ]
  },
  {
   "cell_type": "markdown",
   "id": "588ced2e-7ebd-46a9-8ef6-8c42538ab066",
   "metadata": {},
   "source": [
    "Za začetek razlage se spomnimo, kako bomo uporabili dekorator:\n",
    "\n",
    "```python\n",
    "@moj_dispatch\n",
    "def f(x):\n",
    "    print(f\"Takega argumenta, {x}, nihče ne mara.\")\n",
    "```\n",
    "\n",
    "`moj_dispatch` je dekorator, ki pripravi slovar, v katerega bo shranjeval registrirane funkcije (ključ je tip, vrednost je funkcija, ki prejme argument tega tipa). Nato sestavi funkcijo `g`, ki jo bo kasneje tudi vrnil - funkcija `f` (iz primera uporabe) bo v resnici ta `g`. Funkcija `g` bo prejela nek argument (enega ali več - ostali so v `*ostali`). V slovarju poišče funkcijo, ki ustreza tipu `x`; če take funkcije ni, kot privzeto vrednost uporabi podani `f`; zato torej `funkcije.get(type(prvi), f)`. To funkcijo pokliče z argumenti `x` in `*ostali`-mi ter vrne njen rezultat.\n",
    "\n",
    "Potem pa se spomnimo, kako bomo registrirali nove funkcije:\n",
    "\n",
    "```python\n",
    "@f.register(int)\n",
    "def _(x):\n",
    "    print(\"O, glej no, int\")\n",
    "```\n",
    "\n",
    "Da bo to delovalo, mora imeti `f` metodo, atribut ali kakorkoli hočemo temu reči `register`. Na srečo lahko Pythonovim funkcijam prirejamo atribute; za `f.register` poskrbimo z `g.register = register`. Seveda je potrebno `register` prej definirati.\n",
    "\n",
    "Na prvi pogled bo `f.register` dekorator. To je zmota. `f.register` *pokličemo* s tipom. `f.register` torej ni dekorator, pač pa mora `f.register` *vrniti* dekorator. Drži? Razumemo? V gornji kodi piše `@f.register(int)`, torej je `f.register(int)` dekorator. `register` mora vrniti dekorator, z drugimi besedami, `f.register` mora vrniti funkcijo, ki prejme neko funkcijo (v našem primeru funkcijo `_`) in jo \"dekorira\". Kako jo dekorira? Pravzaprav ... zelo slabo. Vse kar naredi, je, da jo shrani v slovar. `register(int)` je tako zanič dekorator, da sploh ničesar ne vrne! Po tem \"dekoriranju\" `_` sploh ni funkcija temveč `None`. Vendar nas to ne moti, saj je ne bomo nikoli direktno klicali.\n",
    "\n",
    "To je vse."
   ]
  },
  {
   "cell_type": "code",
   "execution_count": 23,
   "id": "27c40cb3-d2f0-4d41-9d5e-5e918bc9119e",
   "metadata": {},
   "outputs": [],
   "source": [
    "@moj_dispatch\n",
    "def f(x):\n",
    "    print(f\"Takega argumenta, {x}, nihče ne mara.\")\n",
    "\n",
    "@f.register(int)\n",
    "def _(x):\n",
    "    print(\"O, glej no, int\")\n",
    "\n",
    "@f.register(float)\n",
    "def _(a, b):\n",
    "    print(\"Česa ne poveste, float smo dobili!\")\n",
    "\n",
    "@f.register(set)\n",
    "def _(s):\n",
    "    print(\"Množica? Tudi to obstaja?\")"
   ]
  },
  {
   "cell_type": "code",
   "execution_count": 25,
   "id": "7fad8993-4b58-42db-9443-230403bed4cd",
   "metadata": {},
   "outputs": [
    {
     "name": "stdout",
     "output_type": "stream",
     "text": [
      "O, glej no, int\n"
     ]
    }
   ],
   "source": [
    "f(42)"
   ]
  },
  {
   "cell_type": "code",
   "execution_count": 19,
   "id": "1176e881-2908-47f4-80ba-7511a47e9b63",
   "metadata": {},
   "outputs": [
    {
     "name": "stdout",
     "output_type": "stream",
     "text": [
      "Česa ne poveste, float smo dobili!\n"
     ]
    }
   ],
   "source": [
    "f(3.14, \"test\")"
   ]
  },
  {
   "cell_type": "code",
   "execution_count": 21,
   "id": "0013ad1a-e5dc-41c7-8ff6-b19a054fee34",
   "metadata": {},
   "outputs": [
    {
     "name": "stdout",
     "output_type": "stream",
     "text": [
      "Množica? Tudi to obstaja?\n"
     ]
    }
   ],
   "source": [
    "f({1, 2, 3})"
   ]
  },
  {
   "cell_type": "markdown",
   "id": "de411245-537b-481f-9eac-9ee12b806ffe",
   "metadata": {},
   "source": [
    "V resnici je `singledispatch` seveda malo bolj zapleten. Med drugim, recimo, dekorator `register` vrača funkcijo,\n",
    "\n",
    "```python\n",
    "    def register(tip):\n",
    "        def registriraj(f):\n",
    "            funkcije[tip] = f\n",
    "            return f\n",
    "        return registriraj\n",
    "```\n",
    "\n",
    "kar omogoča, da isto funkcijo uporabimo za več tipov,\n",
    "\n",
    "```python\n",
    "@f.register(int)\n",
    "@f.register(float)\n",
    "def _(x):\n",
    "    print(\"Prejeli smo int ali float\")\n",
    "```\n",
    "\n",
    "Še več komplikacij povzroči to, da lahko uporabljamo `f.register` s parametrom (npr. `int`) ali brez.\n",
    "\n",
    "A osnovni princip je pravilen; naš dekorator deluje."
   ]
  },
  {
   "cell_type": "markdown",
   "id": "f33c54e6-2eb2-402d-b0e2-c82f7d4ed5e3",
   "metadata": {},
   "source": [
    "### Kaj lahko poskusite\n",
    "\n",
    "Če razumete gornjo kodo, napišite dekorator, ki bo deloval za več argumentov: če navedemo, recimo, tri tipe\n",
    "\n",
    "```python\n",
    "@f.register(int, int, float)\n",
    "def _(x, y, z, w):\n",
    "    pass\n",
    "```\n",
    "\n",
    "uporabi za izbor funkcije tipe prvih treh spremenljivk."
   ]
  }
 ],
 "metadata": {
  "kernelspec": {
   "display_name": "Python 3 (ipykernel)",
   "language": "python",
   "name": "python3"
  },
  "language_info": {
   "codemirror_mode": {
    "name": "ipython",
    "version": 3
   },
   "file_extension": ".py",
   "mimetype": "text/x-python",
   "name": "python",
   "nbconvert_exporter": "python",
   "pygments_lexer": "ipython3",
   "version": "3.12.7"
  }
 },
 "nbformat": 4,
 "nbformat_minor": 5
}
