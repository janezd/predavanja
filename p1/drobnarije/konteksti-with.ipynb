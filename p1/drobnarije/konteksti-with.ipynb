{
 "cells": [
  {
   "cell_type": "markdown",
   "id": "f59c1283-0c13-4c4f-8c3c-7f81e6e59844",
   "metadata": {},
   "source": [
    "## Konteksti\n",
    "\n",
    "Pythonov modul `contextlib` - ki ima, kot bi bilo bistremu človeku jasno že iz imena, nekaj opraviti s konteksti - ima funkcijo `chdir`, s katero lahko začasno zamenjamo trenutni delovni direktorij."
   ]
  },
  {
   "cell_type": "code",
   "execution_count": 1,
   "id": "61513b88-0915-4d63-b291-e05659cd9470",
   "metadata": {},
   "outputs": [
    {
     "name": "stdout",
     "output_type": "stream",
     "text": [
      "/Users/janez/Desktop/predavanja/p1/drobnarije\n",
      "/Users/janez/Downloads\n",
      "/Users/janez/Desktop/predavanja/p1/drobnarije\n"
     ]
    }
   ],
   "source": [
    "import os\n",
    "import contextlib\n",
    "\n",
    "print(os.getcwd())\n",
    "\n",
    "with contextlib.chdir(\"/Users/janez/Downloads\"):\n",
    "    print(os.getcwd())\n",
    "\n",
    "print(os.getcwd())"
   ]
  },
  {
   "cell_type": "markdown",
   "id": "40345e80-5ee2-481f-83d5-89fb3b4f4374",
   "metadata": {},
   "source": [
    "To je uporabno. Če tega ne bi bilo, bi se morali narediti sami. (Eni smo si že: `contextlib.chdir` obstaja šele od Pythona 3.11.)\n",
    "\n",
    "Da naredimo *upravljalec konteksta* (*context manager*) moramo poznati bodisi razrede bodisi generatorje in dekoratorje. Razrede nekateri že poznate, o generatorjih govorimo v ločenem zapisku. V teh zapiskih pokažimo oba načina. Prvi je poučnejši, drugi prikladnejši."
   ]
  },
  {
   "cell_type": "markdown",
   "id": "bc390711-a4e7-46ce-a2b1-2ed076fdbefe",
   "metadata": {},
   "source": [
    "## Konteksti z razredom\n",
    "\n",
    "Upravljalec konteksta je razred, ki ima metodi `__enter__` in `__exit__`. `with` pokliče pred vstopom v blok in drugo po izhodu. Prva ima le en argument, `self` (ekvivalent `this`-a v nekaterih drugih jezikih; v Pythonu ga je potrebno eksplicitno navesti med argumenti), druga pa ima tri argumente, ki povedo, ali je bila znotraj bloka sprožena izjema (*exception*) ter kakšna in kje."
   ]
  },
  {
   "cell_type": "code",
   "execution_count": 2,
   "id": "9fd1bc7e-1db0-4b5e-833a-689abae65eb1",
   "metadata": {},
   "outputs": [],
   "source": [
    "class NotInVen:\n",
    "    def __enter__(self):\n",
    "        print(\"vstopamo\")\n",
    "\n",
    "    def __exit__(self, exc_type, exc_val, exc_tb):\n",
    "        print(\"izstopamo\")"
   ]
  },
  {
   "cell_type": "code",
   "execution_count": 3,
   "id": "38b10ccc-5fdb-4fbc-8de7-99f471714841",
   "metadata": {},
   "outputs": [
    {
     "name": "stdout",
     "output_type": "stream",
     "text": [
      "začetek\n",
      "vstopamo\n",
      "v bloku\n",
      "izstopamo\n",
      "konec\n"
     ]
    }
   ],
   "source": [
    "print(\"začetek\")\n",
    "\n",
    "with NotInVen():\n",
    "    print(\"v bloku\")\n",
    "\n",
    "print(\"konec\")"
   ]
  },
  {
   "cell_type": "markdown",
   "id": "85a3d00b-d0bb-4a9c-b19b-5d83a9d36b20",
   "metadata": {},
   "source": [
    "To je to. To je že (skoraj) vsa znanost. Ostane le še, da lahko `__enter__` vrne kako vrednost; v `with` jo z `as` priredimo imenu. Takole."
   ]
  },
  {
   "cell_type": "code",
   "execution_count": 4,
   "id": "bb6233dd-79c2-43ea-a34a-a662ef70a184",
   "metadata": {},
   "outputs": [],
   "source": [
    "class NotInVen:\n",
    "    def __enter__(self):\n",
    "        print(\"vstopamo\")\n",
    "        return 42\n",
    "\n",
    "    def __exit__(self, exc_type, exc_val, exc_tb):\n",
    "        print(\"izstopamo\")"
   ]
  },
  {
   "cell_type": "code",
   "execution_count": 5,
   "id": "bbd45f01-12c9-4def-80cb-03bec4c50928",
   "metadata": {},
   "outputs": [
    {
     "name": "stdout",
     "output_type": "stream",
     "text": [
      "začetek\n",
      "vstopamo\n",
      "v bloku\n",
      "x = 42\n",
      "izstopamo\n",
      "konec\n"
     ]
    }
   ],
   "source": [
    "print(\"začetek\")\n",
    "\n",
    "with NotInVen() as x:\n",
    "    print(\"v bloku\")\n",
    "    print(\"x =\", x)\n",
    "\n",
    "print(\"konec\")"
   ]
  },
  {
   "cell_type": "markdown",
   "id": "4f7c513f-8a32-47f8-a6ba-6db6a3c754c3",
   "metadata": {},
   "source": [
    "### Začasna menjava direktorija\n",
    "\n",
    "Upravljalec konteksta, ki zamenja trenutni delovni direktorij znotraj bloka, je trivialna zadeva. Če znamo napisati razred v Pythonu, seve."
   ]
  },
  {
   "cell_type": "code",
   "execution_count": 6,
   "id": "03d326fd-7eaf-498f-abd2-e6c23f666147",
   "metadata": {},
   "outputs": [],
   "source": [
    "import os\n",
    "\n",
    "class MojChDir:\n",
    "    def __init__(self, dir):\n",
    "        self.dir = dir\n",
    "        self.saved = None\n",
    "\n",
    "    def __enter__(self):\n",
    "        self.saved = os.getcwd()\n",
    "        os.chdir(self.dir)\n",
    "\n",
    "    def __exit__(self, exc_type, exc_val, exc_tb):\n",
    "        os.chdir(self.saved)"
   ]
  },
  {
   "cell_type": "code",
   "execution_count": 7,
   "id": "1ba3a8f7-58ee-43f9-8025-b19ccb809677",
   "metadata": {},
   "outputs": [
    {
     "name": "stdout",
     "output_type": "stream",
     "text": [
      "/Users/janez/Desktop/predavanja/p1/drobnarije\n",
      "/Users/janez/Downloads\n",
      "/Users/janez/Desktop/predavanja/p1/drobnarije\n"
     ]
    }
   ],
   "source": [
    "print(os.getcwd())\n",
    "\n",
    "with MojChDir(\"/Users/janez/Downloads\"):\n",
    "    print(os.getcwd())\n",
    "\n",
    "print(os.getcwd())"
   ]
  },
  {
   "cell_type": "markdown",
   "id": "468be195-fc75-4209-8e6f-8c57f5c4bc68",
   "metadata": {},
   "source": [
    "### Merjenje časa\n",
    "\n",
    "Za še en primer napišimo kontekst, ki pove, koliko časa se izvaja blok."
   ]
  },
  {
   "cell_type": "code",
   "execution_count": 8,
   "id": "19a52d9f-3a77-4823-8b53-c3cc51bdf8bb",
   "metadata": {},
   "outputs": [],
   "source": [
    "import time\n",
    "\n",
    "class Timer:\n",
    "    def __enter__(self):\n",
    "        self.start = time.time()\n",
    "\n",
    "    def __exit__(self, exc_type, exc_val, exc_tb):\n",
    "        print(\"Elapsed time: \", time.time() - self.start)"
   ]
  },
  {
   "cell_type": "markdown",
   "id": "89ae6f1a-3216-4fc6-8e9b-3bb1845978c6",
   "metadata": {},
   "source": [
    "Pa pomerimo, če Python prav spi."
   ]
  },
  {
   "cell_type": "code",
   "execution_count": 9,
   "id": "4b84f317-3df9-4535-b5c4-58f53c94a4e6",
   "metadata": {},
   "outputs": [
    {
     "name": "stdout",
     "output_type": "stream",
     "text": [
      "Elapsed time:  1.505854845046997\n"
     ]
    }
   ],
   "source": [
    "with Timer():\n",
    "    time.sleep(1.5)"
   ]
  },
  {
   "cell_type": "markdown",
   "id": "1b81d593-94bd-4232-8295-b95e42bbad56",
   "metadata": {},
   "source": [
    "Kar v redu."
   ]
  },
  {
   "cell_type": "markdown",
   "id": "0fcdecc0-46b7-4adc-9744-dafa36a502f2",
   "metadata": {},
   "source": [
    "### Začasno spreminjanje funkcij"
   ]
  },
  {
   "cell_type": "code",
   "execution_count": 10,
   "id": "61e1d501-a95b-4f61-aae7-93262681decd",
   "metadata": {},
   "outputs": [],
   "source": [
    "class SupressPrint:\n",
    "    def __enter__(self):\n",
    "        global print\n",
    "        self.old_print = print\n",
    "        \n",
    "        def print(*args, **kwargs):\n",
    "            pass\n",
    "\n",
    "    def __exit__(self, *_):\n",
    "        global print\n",
    "        print = self.old_print"
   ]
  },
  {
   "cell_type": "code",
   "execution_count": 11,
   "id": "85eaf936-0f5c-4f4b-93e6-fb45dee08569",
   "metadata": {},
   "outputs": [
    {
     "name": "stdout",
     "output_type": "stream",
     "text": [
      "Pišem\n",
      "Spet pišem.\n"
     ]
    }
   ],
   "source": [
    "print(\"Pišem\")\n",
    "\n",
    "with SupressPrint():\n",
    "    print(\"Ne pišem.\")\n",
    "\n",
    "print(\"Spet pišem.\")"
   ]
  },
  {
   "cell_type": "markdown",
   "id": "d7d763ff-e60b-4be8-9998-09fc3705635a",
   "metadata": {},
   "source": [
    "To ne bo delovalo vedno; če ta razred uvozite iz modula, ne bo imel učinka, ker `global` ne deluje čisto tako, kot si (najbrž) predstavljate, da deluje.\n",
    "\n",
    "Kaj pa tole?"
   ]
  },
  {
   "cell_type": "code",
   "execution_count": 12,
   "id": "14484f6d-54dd-426b-aec9-6aedf9dcb5ad",
   "metadata": {},
   "outputs": [],
   "source": [
    "class TimePrint:\n",
    "    def __enter__(self):\n",
    "        global print\n",
    "        self.old_print = print\n",
    "        \n",
    "        def print(*args, **kwargs):\n",
    "            self.old_print(f\"{time.time()}:\", *args, **kwargs)\n",
    "\n",
    "    def __exit__(self, *_):\n",
    "        global print\n",
    "        print = self.old_print"
   ]
  },
  {
   "cell_type": "code",
   "execution_count": 13,
   "id": "3257e93d-f482-4b70-bc58-157a614add3e",
   "metadata": {},
   "outputs": [
    {
     "name": "stdout",
     "output_type": "stream",
     "text": [
      "1734281983.302903: Začetek\n",
      "1734281984.607671: in čez 1.3 sekund\n",
      "Zdaj sem pa spet normalen.\n"
     ]
    }
   ],
   "source": [
    "import time\n",
    "import random\n",
    "\n",
    "with TimePrint():\n",
    "    print(\"Začetek\")\n",
    "    x = 1 + random.random()\n",
    "    time.sleep(x)\n",
    "    print(\"in čez\", round(x, 2), \"sekund\")\n",
    "\n",
    "print(\"Zdaj sem pa spet normalen.\")"
   ]
  },
  {
   "cell_type": "markdown",
   "id": "3f28db5a-a481-4015-9d0a-7caff86d40f9",
   "metadata": {},
   "source": [
    "### Kako se zapirajo datoteke?\n",
    "\n",
    "Čisto preprosto. Datoteke imajo poleg vseh `read`-ov in `readline`-ov in `write`-ov še metodi `__enter__` in `__exit__`, ki delata približno (ali celo točno) tole:\n",
    "\n",
    "```python\n",
    "    def __enter__(self):\n",
    "        return self\n",
    "\n",
    "    def __exit__(self, exc_type, exc_val, exc_tb):\n",
    "        self.close()\n",
    "```\n",
    "\n",
    "Elegantno, ni?"
   ]
  },
  {
   "cell_type": "markdown",
   "id": "119264c0-ccea-495b-b3c7-3af524eceb24",
   "metadata": {},
   "source": [
    "## Konteksti z generatorjem\n",
    "\n",
    "Da nam ne bi bilo potrebno pisati razredov, lahko kontekste pišemo tudi s funkcijami. Točneje, generatorskimi funkcijami, ki morajo vsebovati natančno en `yield`. Kar je pred `yield`-om se zgodi pred vstopom v blok, kar po njem, ob izhodu iz bloka. Vrednost, ki jo generiramo, pa je rezultat metode `__enter__`. Tako zapisan kontekst je potrebno *dekorirati* s `contextlib.contextmanager`, tako da pred definicijo funkcije dodamo vrstico `@contextlib.contextmanager`.\n",
    "\n",
    "Napišimo, recimo, začasno spremembo direktorija."
   ]
  },
  {
   "cell_type": "code",
   "execution_count": 14,
   "id": "826006a0-726b-40de-a5c1-485fe2f6bc92",
   "metadata": {},
   "outputs": [],
   "source": [
    "import contextlib\n",
    "\n",
    "@contextlib.contextmanager\n",
    "def moj_chdir(dir):\n",
    "    old_dir = os.getcwd()\n",
    "    os.chdir(dir)\n",
    "    yield\n",
    "    os.chdir(old_dir)"
   ]
  },
  {
   "cell_type": "code",
   "execution_count": 15,
   "id": "9eccdff0-6bb5-41ca-951e-3fc45d0fbbec",
   "metadata": {},
   "outputs": [
    {
     "name": "stdout",
     "output_type": "stream",
     "text": [
      "/Users/janez/Desktop/predavanja/p1/drobnarije\n",
      "/Users/janez/Downloads\n",
      "/Users/janez/Desktop/predavanja/p1/drobnarije\n"
     ]
    }
   ],
   "source": [
    "print(os.getcwd())\n",
    "\n",
    "with moj_chdir(\"/Users/janez/Downloads\"):\n",
    "    print(os.getcwd())\n",
    "\n",
    "print(os.getcwd())"
   ]
  },
  {
   "cell_type": "markdown",
   "id": "d96894f9-7628-40b1-9a70-4ce3a32b9e69",
   "metadata": {},
   "source": [
    "Tako je še veliko preprosteje, ni?\n",
    "\n",
    "Če delamo tako reč čisto zares, je prav, da poskrbimo še za izjeme (*exception*). Detajle preberite [v dokumentaciji](https://docs.python.org/3/library/contextlib.html#contextlib.contextmanager)."
   ]
  },
  {
   "cell_type": "markdown",
   "id": "33556933-8cfb-4c3b-88d6-046ee46f6b9f",
   "metadata": {},
   "source": [
    "### Črna magija\n",
    "\n",
    "Pythonovi konteksti vedno uporabljajo razrede. `contextlib.contextmanager` je samo funkcija, ki sama sestavi razred namesto nas. Ljubitelji črne magije naj raziščejo, zakaj tale funkcija dela isto kot `contextlib.contextmanager`."
   ]
  },
  {
   "cell_type": "code",
   "execution_count": 16,
   "id": "f7f337a0-5887-4e75-80a4-d8741bf6d230",
   "metadata": {},
   "outputs": [],
   "source": [
    "def moj_contextmanager(f):\n",
    "    class cm:\n",
    "        def __init__(self, *args, **kwargs):\n",
    "            self.g = f(*args, **kwargs)\n",
    "            \n",
    "        def __enter__(self):\n",
    "            return next(self.g)\n",
    "\n",
    "        def __exit__(self, *_):\n",
    "            try:\n",
    "                next(self.g)\n",
    "            except StopIteration:\n",
    "                pass\n",
    "\n",
    "    return cm"
   ]
  },
  {
   "cell_type": "code",
   "execution_count": 17,
   "id": "bcd8f04b-7ef0-429d-ba42-8bbfb5408e71",
   "metadata": {},
   "outputs": [],
   "source": [
    "import contextlib\n",
    "\n",
    "@moj_contextmanager\n",
    "def moj_chdir(dir):\n",
    "    old_dir = os.getcwd()\n",
    "    os.chdir(dir)\n",
    "    yield\n",
    "    os.chdir(old_dir)"
   ]
  },
  {
   "cell_type": "code",
   "execution_count": 18,
   "id": "40ba27d7-d7c2-4a22-bc02-6f05bc6089de",
   "metadata": {},
   "outputs": [
    {
     "name": "stdout",
     "output_type": "stream",
     "text": [
      "/Users/janez/Desktop/predavanja/p1/drobnarije\n",
      "/Users/janez/Downloads\n",
      "/Users/janez/Desktop/predavanja/p1/drobnarije\n"
     ]
    }
   ],
   "source": [
    "print(os.getcwd())\n",
    "\n",
    "with moj_chdir(\"/Users/janez/Downloads\"):\n",
    "    print(os.getcwd())\n",
    "\n",
    "print(os.getcwd())"
   ]
  }
 ],
 "metadata": {
  "kernelspec": {
   "display_name": "Python 3 (ipykernel)",
   "language": "python",
   "name": "python3"
  },
  "language_info": {
   "codemirror_mode": {
    "name": "ipython",
    "version": 3
   },
   "file_extension": ".py",
   "mimetype": "text/x-python",
   "name": "python",
   "nbconvert_exporter": "python",
   "pygments_lexer": "ipython3",
   "version": "3.12.7"
  }
 },
 "nbformat": 4,
 "nbformat_minor": 5
}
