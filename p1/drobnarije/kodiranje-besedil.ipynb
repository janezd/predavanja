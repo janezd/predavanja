{
 "cells": [
  {
   "cell_type": "markdown",
   "id": "c450c46d-71ae-4546-821f-d5b37e621e07",
   "metadata": {
    "editable": true,
    "slideshow": {
     "slide_type": ""
    },
    "tags": []
   },
   "source": [
    "## Zapisovanje besedil\n",
    "\n",
    "Za računalniški pomnilnik si predstavljamo, da shranjuje številke; prav tako so v datotekah le številke in tudi po komunikacijskih kanalih se prenašajo le številke, tipično v paketkih po osem bitov, ki jih tipično beremo kot cela števila med 0 in 255. To nas doslej ni še nikoli zanimalo: ko smo v Pythonu napisali niz, se nismo (hvala Bogu!) nikoli ukvarjali s tem, kako je le-ta shranjen v pomnilniku. Čim gremo ven iz Pythona - v datoteko, na omrežje - pa postane to vprašanje pomembno.\n",
    "\n",
    "Vsak znak - kot so `a`, `W`, `#`, `8`, `(`, `č`, `ć`, `ш`, `Я` in `π` ter celo `😎` in `🤶` - je potrebno zapisati z neko številko. Med mnogimi standardi, ki so si jih izmislili za to, se je obdržal ASCII, ki je vsakemu znaku prepisal kodo med 32 in 127, kode med 0 in 31 pa rezerviral za posebne ukaze.\n",
    "\n",
    "Preberimo vsebino preproste datoteke."
   ]
  },
  {
   "cell_type": "code",
   "execution_count": 1,
   "id": "0aaa576f-885b-4b7e-bd13-67aa6a3732c0",
   "metadata": {
    "editable": true,
    "slideshow": {
     "slide_type": ""
    },
    "tags": []
   },
   "outputs": [
    {
     "data": {
      "text/plain": [
       "'Lepe praznike!'"
      ]
     },
     "execution_count": 1,
     "metadata": {},
     "output_type": "execute_result"
    }
   ],
   "source": [
    "s = open(\"voscilo.txt\").read()\n",
    "\n",
    "s"
   ]
  },
  {
   "cell_type": "markdown",
   "id": "6df2fff1-29d3-480f-8262-781f8ed721be",
   "metadata": {},
   "source": [
    "Python je odprl datoteko, prebral številke v njej, jih razumel kot znake, kodirane v ASCII (to ni čisto res! Več kasneje.) in vrnil niz z besedilom. Lahko pa se dogovorimo tudi drugače."
   ]
  },
  {
   "cell_type": "code",
   "execution_count": 2,
   "id": "ecfe95eb-85f0-4de5-a0de-6118e6800a71",
   "metadata": {},
   "outputs": [],
   "source": [
    "b = open(\"voscilo.txt\", \"rb\").read()"
   ]
  },
  {
   "cell_type": "markdown",
   "id": "fce89b88-5f8a-4f3c-a47c-4893cdc34420",
   "metadata": {},
   "source": [
    "Datoteko smo odprli v načinu `rb`: `r` kot b**r**anje in `b` kot **b**ajti (običajni način je `rt` - b**r**anje in bese**t**ilo). Python po tem ne pretvori prebranega v niz temveč vrne ..."
   ]
  },
  {
   "cell_type": "code",
   "execution_count": 3,
   "id": "f7999eaa-bf13-4391-a264-5dc0abd78aad",
   "metadata": {},
   "outputs": [
    {
     "data": {
      "text/plain": [
       "b'Lepe praznike!'"
      ]
     },
     "execution_count": 3,
     "metadata": {},
     "output_type": "execute_result"
    }
   ],
   "source": [
    "b"
   ]
  },
  {
   "cell_type": "markdown",
   "id": "c669e0eb-e371-4338-91f4-8448ca3ce92c",
   "metadata": {},
   "source": [
    "Videti je kot niz, vendar z `b` pred narekovajem. Ko to Python reč izpiše, vse številke s kodami med 32 in 127 izpiše kot pripadajoče znake (po standardu ASCII). Vseeno pa gre za številke."
   ]
  },
  {
   "cell_type": "code",
   "execution_count": 4,
   "id": "27067271-b3ee-4875-bb82-ef2c8b1c2b3e",
   "metadata": {},
   "outputs": [
    {
     "data": {
      "text/plain": [
       "76"
      ]
     },
     "execution_count": 4,
     "metadata": {},
     "output_type": "execute_result"
    }
   ],
   "source": [
    "b[0]"
   ]
  },
  {
   "cell_type": "code",
   "execution_count": 5,
   "id": "3d712127-fd7e-48c8-98f9-0c543b74206e",
   "metadata": {},
   "outputs": [
    {
     "data": {
      "text/plain": [
       "101"
      ]
     },
     "execution_count": 5,
     "metadata": {},
     "output_type": "execute_result"
    }
   ],
   "source": [
    "b[1]"
   ]
  },
  {
   "cell_type": "markdown",
   "id": "55480d11-11a7-4fd2-a038-f77d9f384340",
   "metadata": {},
   "source": [
    "Kako iz bajtov dobiti niz? Tako da ga *dekodiramo* z metodo `decode`, pri čemer moramo povedati, po katerem standardu. Ker (doslej) vemo samo za ASCII, poskusimo z njim."
   ]
  },
  {
   "cell_type": "code",
   "execution_count": 6,
   "id": "ef2aa549-e213-4c53-a2c1-c00f6fee7a2b",
   "metadata": {},
   "outputs": [
    {
     "data": {
      "text/plain": [
       "'Lepe praznike!'"
      ]
     },
     "execution_count": 6,
     "metadata": {},
     "output_type": "execute_result"
    }
   ],
   "source": [
    "b.decode(\"ascii\")"
   ]
  },
  {
   "cell_type": "markdown",
   "id": "58816e1b-9589-44be-a69e-18da90cca991",
   "metadata": {},
   "source": [
    "Gre tudi v drugo smer: niz lahko kodiramo (`encode`) po določenem standardu, pa dobimo bajte."
   ]
  },
  {
   "cell_type": "code",
   "execution_count": 7,
   "id": "77817c98-241c-4a24-b991-0e9121a880a5",
   "metadata": {},
   "outputs": [
    {
     "data": {
      "text/plain": [
       "b'Lepe praznike!'"
      ]
     },
     "execution_count": 7,
     "metadata": {},
     "output_type": "execute_result"
    }
   ],
   "source": [
    "\"Lepe praznike!\".encode(\"ascii\")"
   ]
  },
  {
   "cell_type": "markdown",
   "id": "bbdafc4c-7c0b-49f0-94e4-762001a61296",
   "metadata": {},
   "source": [
    "Ne mara pa za božič."
   ]
  },
  {
   "cell_type": "code",
   "execution_count": 8,
   "id": "5b4ea7a4-2bc9-4885-8442-e7b06e272e87",
   "metadata": {
    "editable": true,
    "slideshow": {
     "slide_type": ""
    },
    "tags": [
     "raises-exception"
    ]
   },
   "outputs": [
    {
     "ename": "UnicodeEncodeError",
     "evalue": "'ascii' codec can't encode character '\\u017e' in position 6: ordinal not in range(128)",
     "output_type": "error",
     "traceback": [
      "\u001b[0;31m---------------------------------------------------------------------------\u001b[0m",
      "\u001b[0;31mUnicodeEncodeError\u001b[0m                        Traceback (most recent call last)",
      "Cell \u001b[0;32mIn[8], line 1\u001b[0m\n\u001b[0;32m----> 1\u001b[0m \u001b[38;5;124;43m\"\u001b[39;49m\u001b[38;5;124;43mLep božič\u001b[39;49m\u001b[38;5;124;43m\"\u001b[39;49m\u001b[38;5;241;43m.\u001b[39;49m\u001b[43mencode\u001b[49m\u001b[43m(\u001b[49m\u001b[38;5;124;43m\"\u001b[39;49m\u001b[38;5;124;43mascii\u001b[39;49m\u001b[38;5;124;43m\"\u001b[39;49m\u001b[43m)\u001b[49m\n",
      "\u001b[0;31mUnicodeEncodeError\u001b[0m: 'ascii' codec can't encode character '\\u017e' in position 6: ordinal not in range(128)"
     ]
    }
   ],
   "source": [
    "\"Lep božič\".encode(\"ascii\")"
   ]
  },
  {
   "cell_type": "markdown",
   "id": "db293abe-5301-4b64-9a80-9b487d4cae5a",
   "metadata": {
    "editable": true,
    "slideshow": {
     "slide_type": ""
    },
    "tags": []
   },
   "source": [
    "### Različna kodiranja\n",
    "\n",
    "Tudi velike noči in binkošti ne mara, nima pa težav ne z novim letom ne s hanuko ne z ramadanom. Pa ni kriv Python, kriv je ASCII, ki ne ve za šumnike. V resnici tudi ramadan in hanuka ne zna napisati, kot se zagre."
   ]
  },
  {
   "cell_type": "code",
   "execution_count": 9,
   "id": "3249013c-dbd6-4301-b98d-72068abdce19",
   "metadata": {
    "editable": true,
    "slideshow": {
     "slide_type": ""
    },
    "tags": [
     "raises-exception"
    ]
   },
   "outputs": [
    {
     "ename": "UnicodeEncodeError",
     "evalue": "'ascii' codec can't encode characters in position 0-7: ordinal not in range(128)",
     "output_type": "error",
     "traceback": [
      "\u001b[0;31m---------------------------------------------------------------------------\u001b[0m",
      "\u001b[0;31mUnicodeEncodeError\u001b[0m                        Traceback (most recent call last)",
      "Cell \u001b[0;32mIn[9], line 1\u001b[0m\n\u001b[0;32m----> 1\u001b[0m \u001b[38;5;124;43m\"\u001b[39;49m\u001b[38;5;124;43mرَمَضَان\u001b[39;49m\u001b[38;5;124;43m\"\u001b[39;49m\u001b[38;5;241;43m.\u001b[39;49m\u001b[43mencode\u001b[49m\u001b[43m(\u001b[49m\u001b[38;5;124;43m\"\u001b[39;49m\u001b[38;5;124;43mascii\u001b[39;49m\u001b[38;5;124;43m\"\u001b[39;49m\u001b[43m)\u001b[49m\n",
      "\u001b[0;31mUnicodeEncodeError\u001b[0m: 'ascii' codec can't encode characters in position 0-7: ordinal not in range(128)"
     ]
    }
   ],
   "source": [
    "\"رَمَضَان\".encode(\"ascii\")"
   ]
  },
  {
   "cell_type": "code",
   "execution_count": 10,
   "id": "33e2f55d-bbeb-4734-84cd-1a49896f1e32",
   "metadata": {
    "editable": true,
    "slideshow": {
     "slide_type": ""
    },
    "tags": [
     "raises-exception"
    ]
   },
   "outputs": [
    {
     "ename": "UnicodeEncodeError",
     "evalue": "'ascii' codec can't encode characters in position 0-7: ordinal not in range(128)",
     "output_type": "error",
     "traceback": [
      "\u001b[0;31m---------------------------------------------------------------------------\u001b[0m",
      "\u001b[0;31mUnicodeEncodeError\u001b[0m                        Traceback (most recent call last)",
      "Cell \u001b[0;32mIn[10], line 1\u001b[0m\n\u001b[0;32m----> 1\u001b[0m \u001b[38;5;124;43m\"\u001b[39;49m\u001b[38;5;124;43mחֲנֻכָּה\u001b[39;49m\u001b[38;5;124;43m\"\u001b[39;49m\u001b[38;5;241;43m.\u001b[39;49m\u001b[43mencode\u001b[49m\u001b[43m(\u001b[49m\u001b[38;5;124;43m\"\u001b[39;49m\u001b[38;5;124;43mascii\u001b[39;49m\u001b[38;5;124;43m\"\u001b[39;49m\u001b[43m)\u001b[49m\n",
      "\u001b[0;31mUnicodeEncodeError\u001b[0m: 'ascii' codec can't encode characters in position 0-7: ordinal not in range(128)"
     ]
    }
   ],
   "source": [
    "\"חֲנֻכָּה\".encode(\"ascii\")"
   ]
  },
  {
   "cell_type": "markdown",
   "id": "dced6a38-00aa-4b7a-aee2-13cfd6a06980",
   "metadata": {
    "editable": true,
    "slideshow": {
     "slide_type": ""
    },
    "tags": []
   },
   "source": [
    "V tem dokumentu so očitno zapisani vsi trije prazniki, torej se da. Ker so si izmislili kodiranja, ki vključujejo tudi neangleške znake. Eden kar uporabljenih so Microsoftovi standardi; za naše, vzhodnoevropske kraje je aktualen cp1250."
   ]
  },
  {
   "cell_type": "code",
   "execution_count": 11,
   "id": "bdc25bcd-4170-4372-9999-bd58d9be6cfd",
   "metadata": {
    "editable": true,
    "slideshow": {
     "slide_type": ""
    },
    "tags": []
   },
   "outputs": [
    {
     "data": {
      "text/plain": [
       "b'Lep bo\\x9ei\\xe8'"
      ]
     },
     "execution_count": 11,
     "metadata": {},
     "output_type": "execute_result"
    }
   ],
   "source": [
    "\"Lep božič\".encode(\"cp1250\")"
   ]
  },
  {
   "cell_type": "markdown",
   "id": "fa19b835-be74-4da1-b65d-d6d030f93f8f",
   "metadata": {
    "editable": true,
    "slideshow": {
     "slide_type": ""
    },
    "tags": []
   },
   "source": [
    "Ker znaka `ž` in `č` nista v ASCII (kar Python prepozna po tem, da sta njuni kodi večji od 127), namesto znaka izpiše `\\x` in nato šestnajstiški kodi, ki sta"
   ]
  },
  {
   "cell_type": "code",
   "execution_count": 12,
   "id": "6c465b55-519b-430d-a8aa-6a91137a8e99",
   "metadata": {
    "editable": true,
    "slideshow": {
     "slide_type": ""
    },
    "tags": []
   },
   "outputs": [
    {
     "data": {
      "text/plain": [
       "158"
      ]
     },
     "execution_count": 12,
     "metadata": {},
     "output_type": "execute_result"
    }
   ],
   "source": [
    "0x9e"
   ]
  },
  {
   "cell_type": "markdown",
   "id": "a5a06939-dc4d-4c9d-83cd-0b01a8eda54d",
   "metadata": {
    "editable": true,
    "slideshow": {
     "slide_type": ""
    },
    "tags": []
   },
   "source": [
    "in"
   ]
  },
  {
   "cell_type": "code",
   "execution_count": 13,
   "id": "716f085d-8397-4f3a-9d28-430720e6c491",
   "metadata": {
    "editable": true,
    "slideshow": {
     "slide_type": ""
    },
    "tags": []
   },
   "outputs": [
    {
     "data": {
      "text/plain": [
       "232"
      ]
     },
     "execution_count": 13,
     "metadata": {},
     "output_type": "execute_result"
    }
   ],
   "source": [
    "0xe8"
   ]
  },
  {
   "cell_type": "markdown",
   "id": "3b3160bc-49cb-48fa-b9e5-6218f38d3153",
   "metadata": {
    "editable": true,
    "slideshow": {
     "slide_type": ""
    },
    "tags": []
   },
   "source": [
    "Za ramadan cp1250 ne bo primeren:"
   ]
  },
  {
   "cell_type": "code",
   "execution_count": 14,
   "id": "b70717ad-0b3e-43a1-ba98-ab8d3c1fb955",
   "metadata": {
    "editable": true,
    "slideshow": {
     "slide_type": ""
    },
    "tags": [
     "raises-exception"
    ]
   },
   "outputs": [
    {
     "ename": "UnicodeEncodeError",
     "evalue": "'charmap' codec can't encode characters in position 0-7: character maps to <undefined>",
     "output_type": "error",
     "traceback": [
      "\u001b[0;31m---------------------------------------------------------------------------\u001b[0m",
      "\u001b[0;31mUnicodeEncodeError\u001b[0m                        Traceback (most recent call last)",
      "Cell \u001b[0;32mIn[14], line 1\u001b[0m\n\u001b[0;32m----> 1\u001b[0m \u001b[38;5;124;43m\"\u001b[39;49m\u001b[38;5;124;43mرَمَضَان\u001b[39;49m\u001b[38;5;124;43m\"\u001b[39;49m\u001b[38;5;241;43m.\u001b[39;49m\u001b[43mencode\u001b[49m\u001b[43m(\u001b[49m\u001b[38;5;124;43m\"\u001b[39;49m\u001b[38;5;124;43mcp1250\u001b[39;49m\u001b[38;5;124;43m\"\u001b[39;49m\u001b[43m)\u001b[49m\n",
      "File \u001b[0;32m~/miniforge3/envs/prog/lib/python3.12/encodings/cp1250.py:12\u001b[0m, in \u001b[0;36mCodec.encode\u001b[0;34m(self, input, errors)\u001b[0m\n\u001b[1;32m     11\u001b[0m \u001b[38;5;28;01mdef\u001b[39;00m \u001b[38;5;21mencode\u001b[39m(\u001b[38;5;28mself\u001b[39m,\u001b[38;5;28minput\u001b[39m,errors\u001b[38;5;241m=\u001b[39m\u001b[38;5;124m'\u001b[39m\u001b[38;5;124mstrict\u001b[39m\u001b[38;5;124m'\u001b[39m):\n\u001b[0;32m---> 12\u001b[0m     \u001b[38;5;28;01mreturn\u001b[39;00m \u001b[43mcodecs\u001b[49m\u001b[38;5;241;43m.\u001b[39;49m\u001b[43mcharmap_encode\u001b[49m\u001b[43m(\u001b[49m\u001b[38;5;28;43minput\u001b[39;49m\u001b[43m,\u001b[49m\u001b[43merrors\u001b[49m\u001b[43m,\u001b[49m\u001b[43mencoding_table\u001b[49m\u001b[43m)\u001b[49m\n",
      "\u001b[0;31mUnicodeEncodeError\u001b[0m: 'charmap' codec can't encode characters in position 0-7: character maps to <undefined>",
      "\u001b[0mencoding with 'cp1250' codec failed"
     ]
    }
   ],
   "source": [
    "\"رَمَضَان\".encode(\"cp1250\")"
   ]
  },
  {
   "cell_type": "markdown",
   "id": "7ab4302c-aee2-471a-a764-9e4712629505",
   "metadata": {
    "editable": true,
    "slideshow": {
     "slide_type": ""
    },
    "tags": []
   },
   "source": [
    "Za arabščino potrebujemo cp1256:"
   ]
  },
  {
   "cell_type": "code",
   "execution_count": 15,
   "id": "98046e3e-b3f1-413c-a5be-c602e1ea2c31",
   "metadata": {
    "editable": true,
    "slideshow": {
     "slide_type": ""
    },
    "tags": []
   },
   "outputs": [
    {
     "data": {
      "text/plain": [
       "b'\\xd1\\xf3\\xe3\\xf3\\xd6\\xf3\\xc7\\xe4'"
      ]
     },
     "execution_count": 15,
     "metadata": {},
     "output_type": "execute_result"
    }
   ],
   "source": [
    "\"رَمَضَان\".encode(\"cp1256\")"
   ]
  },
  {
   "cell_type": "markdown",
   "id": "bd9144d7-8f28-4bc4-afb4-5641d12bb2c9",
   "metadata": {
    "editable": true,
    "slideshow": {
     "slide_type": ""
    },
    "tags": []
   },
   "source": [
    "Francozi pa se navdušujejo nad *crème brûlée* zapisano v cp1252."
   ]
  },
  {
   "cell_type": "code",
   "execution_count": 16,
   "id": "d51a781a-444d-4c1a-abc9-82bb3c4efd88",
   "metadata": {
    "editable": true,
    "slideshow": {
     "slide_type": ""
    },
    "tags": []
   },
   "outputs": [
    {
     "data": {
      "text/plain": [
       "b'cr\\xe8me br\\xfbl\\xe9e'"
      ]
     },
     "execution_count": 16,
     "metadata": {},
     "output_type": "execute_result"
    }
   ],
   "source": [
    "\"crème brûlée\".encode(\"cp1252\")"
   ]
  },
  {
   "cell_type": "markdown",
   "id": "cd78a7b4-1b0e-484f-a04d-7a2bf76eb9da",
   "metadata": {
    "editable": true,
    "slideshow": {
     "slide_type": ""
    },
    "tags": []
   },
   "source": [
    "### Splošnejši standard: Unicode\n",
    "\n",
    "Ta reč je kar nerodna: če želiš zapisati besedilo - recimo ga shraniti v datoteko -, moraš vedeti, kakšne znake vsebuje, da se lahko odločiš za primerno kodiranje. Če vsebuje naše šumnike in arabske znake, pa imaš problem.\n",
    "\n",
    "Da ne govorimo o branju: ko bereš datoteko, moraš vedeti, kako je zapisana, da jo boš pravilno prebral. Še hujše je bilo s spletnimi stranmi: včasih je bilo potrebno brskalnik nastaviti na določeno kodiranje in vse strani, ki so bile zakodirane drugače, so imele pač napačne znake. Kasneje so v strani dodali oznako, ki brskalniku pove, kako je kodirana. A tudi to ne reši problema različnih abeced na isti strani. In, zakaj, za božjo voljo, ne bi imeli standard, ki bi vseboval vse znake vseh pisav na svetu?\n",
    "\n",
    "Imamo, temu se reče Unicode. Unicode vsakemu znaku priredi 32-bitno kodo."
   ]
  },
  {
   "cell_type": "code",
   "execution_count": 17,
   "id": "81d75090-441d-4e45-899a-1dcb60b0e021",
   "metadata": {
    "editable": true,
    "slideshow": {
     "slide_type": ""
    },
    "tags": []
   },
   "outputs": [
    {
     "data": {
      "text/plain": [
       "269"
      ]
     },
     "execution_count": 17,
     "metadata": {},
     "output_type": "execute_result"
    }
   ],
   "source": [
    "ord(\"č\")"
   ]
  },
  {
   "cell_type": "code",
   "execution_count": 18,
   "id": "0b5728be-9d1a-409b-bed5-ba8373094de1",
   "metadata": {
    "editable": true,
    "slideshow": {
     "slide_type": ""
    },
    "tags": []
   },
   "outputs": [
    {
     "data": {
      "text/plain": [
       "1606"
      ]
     },
     "execution_count": 18,
     "metadata": {},
     "output_type": "execute_result"
    }
   ],
   "source": [
    "ord(\"ن\")"
   ]
  },
  {
   "cell_type": "code",
   "execution_count": 19,
   "id": "422cd574-b1af-4ef7-92a0-da30ba368279",
   "metadata": {
    "editable": true,
    "slideshow": {
     "slide_type": ""
    },
    "tags": []
   },
   "outputs": [
    {
     "data": {
      "text/plain": [
       "1495"
      ]
     },
     "execution_count": 19,
     "metadata": {},
     "output_type": "execute_result"
    }
   ],
   "source": [
    "ord(\"ח\")"
   ]
  },
  {
   "cell_type": "markdown",
   "id": "1cd7abe7-f776-4e95-a6c0-114363b5db77",
   "metadata": {
    "editable": true,
    "slideshow": {
     "slide_type": ""
    },
    "tags": []
   },
   "source": [
    "Unicode ne vsebuje le arabščine in hebrejščine, ne le kitajščine in korejščine, ne le vseh emojijev, temveč celo Tolkienove vilinske pisave, klingonščina pa le neuradno, saj se pristojni odbor [boji Paramountovih avtorskih pravic](https://klingon.wiki/En/Unicode), boj pa še ni končan. Zato moremo zaenkrat napisati samo po naše: Qapla'!\n",
    "\n",
    "Poleg tega predpisuje različne načine, kako ta, 32-bitna števila zapisati kot zaporedje (8-bitnih) bajtov. Najbolj razširjen je utf-8."
   ]
  },
  {
   "cell_type": "code",
   "execution_count": 20,
   "id": "958d2342-fc26-4086-9299-f370166d2869",
   "metadata": {
    "editable": true,
    "slideshow": {
     "slide_type": ""
    },
    "tags": []
   },
   "outputs": [
    {
     "data": {
      "text/plain": [
       "b'Lep bo\\xc5\\xbei\\xc4\\x8d'"
      ]
     },
     "execution_count": 20,
     "metadata": {},
     "output_type": "execute_result"
    }
   ],
   "source": [
    "\"Lep božič\".encode(\"utf-8\")"
   ]
  },
  {
   "cell_type": "code",
   "execution_count": 21,
   "id": "77969fc5-6196-43bd-a56b-e57b321f760f",
   "metadata": {
    "editable": true,
    "slideshow": {
     "slide_type": ""
    },
    "tags": []
   },
   "outputs": [
    {
     "data": {
      "text/plain": [
       "b'\\xd8\\xb1\\xd9\\x8e\\xd9\\x85\\xd9\\x8e\\xd8\\xb6\\xd9\\x8e\\xd8\\xa7\\xd9\\x86'"
      ]
     },
     "execution_count": 21,
     "metadata": {},
     "output_type": "execute_result"
    }
   ],
   "source": [
    "\"رَمَضَان\".encode(\"utf-8\")"
   ]
  },
  {
   "cell_type": "code",
   "execution_count": 22,
   "id": "8fdfe829-f058-4d66-aa3e-125a355aa5de",
   "metadata": {
    "editable": true,
    "slideshow": {
     "slide_type": ""
    },
    "tags": []
   },
   "outputs": [
    {
     "data": {
      "text/plain": [
       "b'\\xd7\\x97\\xd6\\xb2\\xd7\\xa0\\xd6\\xbb\\xd7\\x9b\\xd6\\xb8\\xd6\\xbc\\xd7\\x94'"
      ]
     },
     "execution_count": 22,
     "metadata": {},
     "output_type": "execute_result"
    }
   ],
   "source": [
    "\"חֲנֻכָּה\".encode(\"utf-8\")"
   ]
  },
  {
   "cell_type": "markdown",
   "id": "5cc69205-bfc1-4cd2-9081-8e1b4d63acec",
   "metadata": {
    "editable": true,
    "slideshow": {
     "slide_type": ""
    },
    "tags": []
   },
   "source": [
    "In, seveda, nazaj:"
   ]
  },
  {
   "cell_type": "code",
   "execution_count": 23,
   "id": "2bfffd10-8e6e-4978-9969-6e870aa18729",
   "metadata": {
    "editable": true,
    "slideshow": {
     "slide_type": ""
    },
    "tags": []
   },
   "outputs": [
    {
     "data": {
      "text/plain": [
       "b'Vesel bo\\xc5\\xbei\\xc4\\x8d'"
      ]
     },
     "execution_count": 23,
     "metadata": {},
     "output_type": "execute_result"
    }
   ],
   "source": [
    "voscilo = \"Vesel božič\".encode(\"utf-8\")\n",
    "\n",
    "voscilo"
   ]
  },
  {
   "cell_type": "code",
   "execution_count": 24,
   "id": "76d37199-f4a7-4625-bc7e-cad8f685d259",
   "metadata": {
    "editable": true,
    "slideshow": {
     "slide_type": ""
    },
    "tags": []
   },
   "outputs": [
    {
     "data": {
      "text/plain": [
       "'Vesel božič'"
      ]
     },
     "execution_count": 24,
     "metadata": {},
     "output_type": "execute_result"
    }
   ],
   "source": [
    "voscilo.decode(\"utf-8\")"
   ]
  },
  {
   "cell_type": "markdown",
   "id": "f1ef749b-b5d5-43ae-b565-19b01dbe615a",
   "metadata": {
    "editable": true,
    "slideshow": {
     "slide_type": ""
    },
    "tags": []
   },
   "source": [
    "Če zgrešimo, ne bo dobro:"
   ]
  },
  {
   "cell_type": "code",
   "execution_count": 25,
   "id": "dcb7fd34-43e6-4239-a635-4b54637aa3a6",
   "metadata": {
    "editable": true,
    "slideshow": {
     "slide_type": ""
    },
    "tags": []
   },
   "outputs": [
    {
     "data": {
      "text/plain": [
       "'Vesel boĹľiÄŤ'"
      ]
     },
     "execution_count": 25,
     "metadata": {},
     "output_type": "execute_result"
    }
   ],
   "source": [
    "voscilo.decode(\"cp1250\")"
   ]
  },
  {
   "cell_type": "markdown",
   "id": "6771e143-183f-411c-b42c-241635254f45",
   "metadata": {
    "editable": true,
    "slideshow": {
     "slide_type": ""
    },
    "tags": []
   },
   "source": [
    "### Ročno dekodiranje\n",
    "\n",
    "Metodo `decode` boste najpogosteje uporabljali za podatke, pridobljene s spleta."
   ]
  },
  {
   "cell_type": "code",
   "execution_count": 26,
   "id": "fa5dbae1-06af-4791-9bf6-16ed8f5472b9",
   "metadata": {
    "editable": true,
    "slideshow": {
     "slide_type": ""
    },
    "tags": []
   },
   "outputs": [],
   "source": [
    "from urllib.request import urlopen\n",
    "\n",
    "stran = urlopen(\"https://www.gutenberg.org/cache/epub/34126/pg34126.txt\").read(100)"
   ]
  },
  {
   "cell_type": "code",
   "execution_count": 27,
   "id": "07aec4a1-368a-4ceb-a7ba-01fbae819695",
   "metadata": {
    "editable": true,
    "slideshow": {
     "slide_type": ""
    },
    "tags": []
   },
   "outputs": [
    {
     "data": {
      "text/plain": [
       "b'\\xef\\xbb\\xbfThe Project Gutenberg eBook of Za narodov blagor: Komedija v \\xc5\\xa1tirih dejanjih\\r\\n    \\r\\nThis ebook i'"
      ]
     },
     "execution_count": 27,
     "metadata": {},
     "output_type": "execute_result"
    }
   ],
   "source": [
    "stran"
   ]
  },
  {
   "cell_type": "markdown",
   "id": "bef40cac-c3b3-4302-8e66-f26b57c563de",
   "metadata": {
    "editable": true,
    "slideshow": {
     "slide_type": ""
    },
    "tags": []
   },
   "source": [
    "Metoda `read`, s katero smo brali vsebino spletne strani vedno vrne bajte, saj ne ve, kako naj jih dekodira. Predvsem pa niti ni nujno, da gre za besedilo - morda je pa slika ali kaj tretjega?\n",
    "\n",
    "Pridobljeno besedilo bomo morali zato dekodirati sami."
   ]
  },
  {
   "cell_type": "code",
   "execution_count": 28,
   "id": "b38e03fe-8535-4ead-979b-d059fb25cb11",
   "metadata": {
    "editable": true,
    "slideshow": {
     "slide_type": ""
    },
    "tags": []
   },
   "outputs": [
    {
     "data": {
      "text/plain": [
       "'\\ufeffThe Project Gutenberg eBook of Za narodov blagor: Komedija v štirih dejanjih\\r\\n    \\r\\nThis ebook i'"
      ]
     },
     "execution_count": 28,
     "metadata": {},
     "output_type": "execute_result"
    }
   ],
   "source": [
    "stran.decode(\"utf-8\")"
   ]
  },
  {
   "cell_type": "markdown",
   "id": "e89958c3-81d7-4006-b775-a9ab6a498ba6",
   "metadata": {
    "editable": true,
    "slideshow": {
     "slide_type": ""
    },
    "tags": []
   },
   "source": [
    "Kar v redu. `\\r\\n` pomenita samo novo vrstico. Čuden je le še tisti `\\ufeff` na začetku. MS Windows radi dodajo to reč - reče se ji BOM, [byte order mark](https://en.wikipedia.org/wiki/Byte_order_mark) - v UTF-8. Pravilnejše kodiranje za takšne datoteke je `utf-8-sig`."
   ]
  },
  {
   "cell_type": "code",
   "execution_count": 29,
   "id": "89f6728d-474f-442d-a935-65f7e6534021",
   "metadata": {
    "editable": true,
    "slideshow": {
     "slide_type": ""
    },
    "tags": []
   },
   "outputs": [
    {
     "data": {
      "text/plain": [
       "'The Project Gutenberg eBook of Za narodov blagor: Komedija v štirih dejanjih\\r\\n    \\r\\nThis ebook i'"
      ]
     },
     "execution_count": 29,
     "metadata": {},
     "output_type": "execute_result"
    }
   ],
   "source": [
    "stran.decode(\"utf-8-sig\")"
   ]
  },
  {
   "cell_type": "markdown",
   "id": "2d0a8933-0e97-4910-9490-086c0c6d0470",
   "metadata": {
    "editable": true,
    "slideshow": {
     "slide_type": ""
    },
    "tags": []
   },
   "source": [
    "### Nekaj še bolj koristnega za konec\n",
    "\n",
    "Pri branju besedilnih datotek Python sam dekodira številke v besedilo, zato dobimo `str` in nam ni treba, tako kot pri podatkih s spleta, ročno klicati `decode`. Pri tem predpostavi, da je besedilo zapisano v privzetem kodiranju sistema, ki je navadno utf-8, le MS Windows še vedno vztrajajo pri Microsoftovih code pageih, zato je tam potrebno vedno ročno določiti bolj pravi *encoding*. Ta je praviloma UTF-8, v nekaterih kontekstih pa se še vedno praviloma uporabljajo code pagei. Recimo tule:"
   ]
  },
  {
   "cell_type": "code",
   "execution_count": 30,
   "id": "500ff7f5-bb79-496e-9523-06b6e4d27f31",
   "metadata": {
    "editable": true,
    "slideshow": {
     "slide_type": ""
    },
    "tags": []
   },
   "outputs": [
    {
     "data": {
      "text/plain": [
       "42"
      ]
     },
     "execution_count": 30,
     "metadata": {},
     "output_type": "execute_result"
    }
   ],
   "source": [
    "f = open(\"podnapisi.srt\", \"wt\", encoding=\"cp1250\")\n",
    "f.write(\"Jože, še čevlje si zaveži, če nočeš pasti!\")"
   ]
  },
  {
   "cell_type": "markdown",
   "id": "152615ca-eb08-4e82-aed5-e0bb80c25345",
   "metadata": {
    "editable": true,
    "slideshow": {
     "slide_type": ""
    },
    "tags": []
   },
   "source": [
    "Takšno datoteko je zato potrebno brati z ustreznim kodiranjem."
   ]
  },
  {
   "cell_type": "code",
   "execution_count": 31,
   "id": "85f97d15-b5cf-4813-9897-a80652d7ae4a",
   "metadata": {
    "editable": true,
    "slideshow": {
     "slide_type": ""
    },
    "tags": []
   },
   "outputs": [
    {
     "data": {
      "text/plain": [
       "'Jože, še čevlje si zaveži, če nočeš pasti!'"
      ]
     },
     "execution_count": 31,
     "metadata": {},
     "output_type": "execute_result"
    }
   ],
   "source": [
    "f = open(\"podnapisi.srt\", encoding=\"cp1250\")\n",
    "f.read()"
   ]
  },
  {
   "cell_type": "markdown",
   "id": "b2f8f124-91e9-4df3-9e93-d9030e39b0aa",
   "metadata": {
    "editable": true,
    "slideshow": {
     "slide_type": ""
    },
    "tags": []
   },
   "source": [
    "Če zgrešimo, se zgodi nekaj, kar vsi dobro poznamo:"
   ]
  },
  {
   "cell_type": "code",
   "execution_count": 32,
   "id": "f2096db0-6a52-4d9f-9e7e-d9278349228d",
   "metadata": {
    "editable": true,
    "slideshow": {
     "slide_type": ""
    },
    "tags": []
   },
   "outputs": [
    {
     "data": {
      "text/plain": [
       "'Jože, še èevlje si zaveži, èe noèeš pasti!'"
      ]
     },
     "execution_count": 32,
     "metadata": {},
     "output_type": "execute_result"
    }
   ],
   "source": [
    "f = open(\"podnapisi.srt\", encoding=\"cp1252\")\n",
    "f.read()"
   ]
  },
  {
   "cell_type": "markdown",
   "id": "6ad16559-084d-4390-989c-3fb46541fa75",
   "metadata": {
    "editable": true,
    "slideshow": {
     "slide_type": ""
    },
    "tags": []
   },
   "source": [
    "Če vam je to znano, odprite svoj najljubši predvajalnik, VLC, in mu nastavite kodiranje podnapisov:"
   ]
  },
  {
   "cell_type": "markdown",
   "id": "e3f989e5-8747-401c-bc26-9bfffee7e74e",
   "metadata": {
    "editable": true,
    "slideshow": {
     "slide_type": ""
    },
    "tags": []
   },
   "source": [
    "<img src=\"data:image/.png;base64,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\"/>"
   ]
  },
  {
   "cell_type": "markdown",
   "id": "d42e4d6f-24ba-4d86-a754-c0e2921306c9",
   "metadata": {
    "editable": true,
    "slideshow": {
     "slide_type": ""
    },
    "tags": []
   },
   "source": [
    "Slišim zahvale? Prosim, prosim. :)"
   ]
  }
 ],
 "metadata": {
  "kernelspec": {
   "display_name": "Python 3 (ipykernel)",
   "language": "python",
   "name": "python3"
  },
  "language_info": {
   "codemirror_mode": {
    "name": "ipython",
    "version": 3
   },
   "file_extension": ".py",
   "mimetype": "text/x-python",
   "name": "python",
   "nbconvert_exporter": "python",
   "pygments_lexer": "ipython3",
   "version": "3.12.7"
  }
 },
 "nbformat": 4,
 "nbformat_minor": 5
}
