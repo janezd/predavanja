{
 "cells": [
  {
   "cell_type": "markdown",
   "id": "13610fef-6f12-4ddb-8a0c-85687a800962",
   "metadata": {},
   "source": [
    "Python ne zahteva (in niti ne omogoča) *deklaracije* spremenljivk, temveč le *definicije*. Z \"deklaracijo\" moramo v nekaterih jezikih povedati, da bomo imeli spremenljivko s takšnim in takšnim imenom in tipom. Z \"definicijo\" teh spremenljivki damo vrednosti. Python je drugačen, saj nima spremenljivk temveč imena; ime nima tipa in pravzaprav \"nima vrednosti\", pač pa je ime povezano z vrednostjo.\n",
    "\n",
    "Kakorkoli. Za lastne potrebe in za potrebe okolij lahko \"deklariramo\", da bo neko ime povezano z vrednostmi določenega tipa (ali, kot bi si predstavljali prišleki iz drugačnih jezikov, da bo imela spremenljivka vrednosti določenega tipa). Python se ne to ne ozira, te deklaracije lahko, kar se tiče njega, tudi kršimo."
   ]
  },
  {
   "cell_type": "markdown",
   "id": "8e607a32-183f-406f-a67f-cbec9643d325",
   "metadata": {},
   "source": [
    "Deklaracija tipa je preprosta. Opravimo jo lahko vnaprej ali sproti, ob določanju vrednosti. Sintaksa je takšna."
   ]
  },
  {
   "cell_type": "code",
   "execution_count": 1,
   "id": "ce00873a-c40c-4610-af34-4b46c631509d",
   "metadata": {},
   "outputs": [],
   "source": [
    "x: int"
   ]
  },
  {
   "cell_type": "markdown",
   "id": "ffa4d494-3dec-4b6e-97ef-c78f0bc6aaa8",
   "metadata": {},
   "source": [
    "S tem povemo, da se bo ime `x` nanašalo na reči tipa `int`."
   ]
  },
  {
   "cell_type": "code",
   "execution_count": 2,
   "id": "5fad00d1-049f-44d6-afb9-ce338d93ee17",
   "metadata": {},
   "outputs": [],
   "source": [
    "x: int = 42"
   ]
  },
  {
   "cell_type": "markdown",
   "id": "56e6dafe-da08-47a5-b231-73428f93e5f7",
   "metadata": {},
   "source": [
    "S tem povemo, da se bo ime `x` nanašalo na reči tipa `int`, hkrati pa mu že priredimo vrednost.\n",
    "\n",
    "Malo drugače je - kot bomo videli spodaj - le pri rezultatih funkcij."
   ]
  },
  {
   "cell_type": "markdown",
   "id": "7e331626-0b0c-4081-8305-fc98aff331a0",
   "metadata": {},
   "source": [
    "## Kratek izlet v zgodovino\n",
    "\n",
    "Za deklaracije tipov obstajata dva sloga. Nemara je kdo vajen C-jevskega\n",
    "\n",
    "```\n",
    "int x;\n",
    "```\n",
    "\n",
    "C se je tega navzel iz Fortrana (1957), ki je uvedel idejo določanja tipov. Za ta slog pravijo, da je osredotočen na računalnik, ki mu je najbolj pomemben tip (\"*imel bom spremenljivko vrste `int` ...*\"), ne pa toliko ime (\"*... in ime ji bo `x`*\").\n",
    "\n",
    "Pythonov slog,\n",
    "\n",
    "```\n",
    "x: int\n",
    "```\n",
    "\n",
    "izhaja iz Pascala (1970), ki je poudarjal berljivost. Za človeka je pomembnejše ime (\"*imel bom spremenljivko z imenom `x`*\") in šele potem tip (\"*ki bo vrste `int`*\").\n",
    "\n",
    "Prva oblika je še vedno običajna v jezikih, ki so tudi po siceršnji sintaksi podobni C-ju ali pa celo izhajajo iz njega (Java, C#), v zadnjih desetletjih pa bolj prevladuje druga. V svojih programerskih karierah jo boste gotovo srečali vsaj v TypeScriptu, kar verjetno tudi v Rustu, ki ima popolnoma enako sintakso, pa v Kotlinu, Go-ju..."
   ]
  },
  {
   "cell_type": "markdown",
   "id": "fe81bd6b-c5ff-41d9-a2ca-6751fe2a72fe",
   "metadata": {},
   "source": [
    "## Kaj in kje\n",
    "\n",
    "Tipe lahko določamo spremenljivkam, argumentom in rezultatom funkcij, ujetim izjemam..."
   ]
  },
  {
   "cell_type": "code",
   "execution_count": 14,
   "id": "e70d1dd0-8432-44c0-b4ef-c1e0066538e3",
   "metadata": {},
   "outputs": [],
   "source": [
    "def razmerje(a: int, b: int) -> float:\n",
    "    return a / b"
   ]
  },
  {
   "cell_type": "markdown",
   "id": "2a46de86-586c-4473-86a6-fe88caab1a97",
   "metadata": {},
   "source": [
    "Argumentom funkcij smo določili tipe tako kot spremenljivkam. Rezultat pa smo opisali z `-> float`. Sintaksa `: float` tu ne bi delovala, saj ima dvopičje v glavi funkcije že drugo vlogo."
   ]
  },
  {
   "cell_type": "markdown",
   "id": "03aab9e0-5cb3-4eaf-93ff-89c20f9c93ab",
   "metadata": {},
   "source": [
    "## Sestavljeni tipi\n",
    "\n",
    "Seznam `int`-ov opišemo z"
   ]
  },
  {
   "cell_type": "code",
   "execution_count": 3,
   "id": "e4bb78cb-2c57-495f-a5c0-38076660b38a",
   "metadata": {},
   "outputs": [],
   "source": [
    "razdalje: list[int]"
   ]
  },
  {
   "cell_type": "markdown",
   "id": "66efb476-2d3e-40c3-9ef6-9635a3c46b99",
   "metadata": {},
   "source": [
    "Ne spreglejte, da uporabljamo oglate oklepaje. Okrogli bi pomenili klic."
   ]
  },
  {
   "cell_type": "markdown",
   "id": "60211de4-cecb-47b5-a5a6-7e137d66c66a",
   "metadata": {},
   "source": [
    "Slovar, katerega ključi so nizi, vrednosti pa `int`-i, je"
   ]
  },
  {
   "cell_type": "code",
   "execution_count": 4,
   "id": "0323c485-bb28-486c-a214-010b392f07ac",
   "metadata": {},
   "outputs": [],
   "source": [
    "imenik: dict[str, int]"
   ]
  },
  {
   "cell_type": "markdown",
   "id": "310481b4-f547-48d5-9134-2abbc2d9e793",
   "metadata": {},
   "source": [
    "Za terke v osnovi predpostavimo, da so fiksne dolžine in naštejemo tipe njenih elementov. Terka, ki vsebuje niz in dva `int`-a, je"
   ]
  },
  {
   "cell_type": "code",
   "execution_count": 6,
   "id": "f97e1a69-0b50-4a72-8eb5-eee04298c224",
   "metadata": {},
   "outputs": [],
   "source": [
    "kraj: tuple[str, int, int]"
   ]
  },
  {
   "cell_type": "markdown",
   "id": "4ccac656-3171-4c9c-a030-35453a97f9cb",
   "metadata": {},
   "source": [
    "Terka, ki vsebuje poljubno število elementov določenega tipa, na primer `float`, pa je"
   ]
  },
  {
   "cell_type": "code",
   "execution_count": 7,
   "id": "acd300be-044f-4a3e-85c8-b5658cdff6cb",
   "metadata": {},
   "outputs": [],
   "source": [
    "cene: tuple[float, ...]"
   ]
  },
  {
   "cell_type": "markdown",
   "id": "75b6c5fb-b2c2-48cd-9871-0e39280c22dc",
   "metadata": {},
   "source": [
    "Te stvari je seveda mogoče gnezditi:"
   ]
  },
  {
   "cell_type": "code",
   "execution_count": 8,
   "id": "6481a48d-6be0-40d6-966a-282901e2e26e",
   "metadata": {},
   "outputs": [],
   "source": [
    "zbirka: dict[str, tuple[str, int, list[float]]]"
   ]
  },
  {
   "cell_type": "markdown",
   "id": "762db4f0-94dd-4acd-86de-9e44ee417a1b",
   "metadata": {},
   "source": [
    "## Unije tipov\n",
    "\n",
    "Zgodi se (dobro pa je, da se zgodi čim manjkrat), da je za določeno ime možno, da se bo nanašala na različne tipe. Takšna imena označimo s tipom, ki ga uvozimo iz modula `typing`: `Union`. Naštejemo mu možne tipe:"
   ]
  },
  {
   "cell_type": "code",
   "execution_count": 10,
   "id": "65612d83-5678-46dc-8e94-9235f6a9474d",
   "metadata": {},
   "outputs": [],
   "source": [
    "from typing import Union\n",
    "\n",
    "tri: Union[int, float, bool]"
   ]
  },
  {
   "cell_type": "markdown",
   "id": "049d1908-6aea-4860-86ee-20c445484ceb",
   "metadata": {},
   "source": [
    "Slovar, katerega ključi so nizi, vrednosti pa `int` ali `bool`, je"
   ]
  },
  {
   "cell_type": "code",
   "execution_count": 11,
   "id": "303ee2b9-106a-4c03-8f5d-6c5cda23917f",
   "metadata": {},
   "outputs": [],
   "source": [
    "imenik: dict[str, Union[int, bool]]"
   ]
  },
  {
   "cell_type": "markdown",
   "id": "9953419a-ec8e-4a3a-adea-5288260a92ec",
   "metadata": {},
   "source": [
    "Pogosteje se bo zgodilo, da bo vrednost znana ali ne; če bo neznana, bo `None`. Vrednost `None` smemo uporabiti tudi kot tip."
   ]
  },
  {
   "cell_type": "code",
   "execution_count": 12,
   "id": "21f6e0f9-c8e7-43a1-8b00-155efccfcfde",
   "metadata": {},
   "outputs": [],
   "source": [
    "imenik: dict[str, Union[int, None]]"
   ]
  },
  {
   "cell_type": "markdown",
   "id": "a9414491-c194-4c20-acfe-4b012805b31e",
   "metadata": {},
   "source": [
    "Tega sicer ne počnemo, saj imao bližnjico: kadar se neko ime nanaša bodisi na reč določenega tipa bodisi na `None`, uporabimo tip `Optional`, ki ga prav tako uvozimo z `typing`."
   ]
  },
  {
   "cell_type": "code",
   "execution_count": 13,
   "id": "5bbb3f20-7f44-4416-a452-f75d54bddb46",
   "metadata": {},
   "outputs": [],
   "source": [
    "from typing import Optional\n",
    "\n",
    "imenik: dict[str, Optional[int]]"
   ]
  },
  {
   "cell_type": "markdown",
   "id": "b964f992-0c58-413c-ba8e-8667def2917a",
   "metadata": {},
   "source": [
    "## Abstraktni tipi\n",
    "\n",
    "Kako določiti tip argumentu te funkcije?"
   ]
  },
  {
   "cell_type": "code",
   "execution_count": 17,
   "id": "29ac0201-3e3d-4f24-9e81-6bafceaf6d0a",
   "metadata": {},
   "outputs": [],
   "source": [
    "def zlepi(s):\n",
    "    v = \"\"\n",
    "    for x in s:\n",
    "        v += x\n",
    "    return v"
   ]
  },
  {
   "cell_type": "markdown",
   "id": "b2e601ec-b93f-4a65-ae98-56999744ff7f",
   "metadata": {},
   "source": [
    "Lahko bi rekli, da je `s: list[str]`, vendar bi funkciji s tem naredili krivico: `s` je lahko tudi terka, ali množica (ali celo slovar). \n",
    "\n",
    "Pisati `s: Union[list[int], tuple[int, ...], set[int]` bi bilo nepraktično, pisati `s: Union[list, set, tuple][int]` pa narobe, ker se `Union` ne da uporabljati na ta način.\n",
    "\n",
    "Ne samo to: funkcija kot argument prebavi tudi datoteko:"
   ]
  },
  {
   "cell_type": "code",
   "execution_count": 18,
   "id": "86a52cc7-63a7-4d5a-92f8-14f9cac6a346",
   "metadata": {},
   "outputs": [
    {
     "data": {
      "text/plain": [
       "'3\\n5\\n8\\n4\\n2\\n8\\n3\\n10\\n11\\n5\\n13\\n4\\n'"
      ]
     },
     "execution_count": 18,
     "metadata": {},
     "output_type": "execute_result"
    }
   ],
   "source": [
    "zlepi(open(\"stevilke.txt\"))"
   ]
  },
  {
   "cell_type": "markdown",
   "id": "ac5843dd-f051-4bd0-bc42-6094c450432d",
   "metadata": {},
   "source": [
    "Funkcija sprejme karkoli, čez kar je možno iti z zanko `for`. Pravilna anotacija funkcije je"
   ]
  },
  {
   "cell_type": "code",
   "execution_count": 20,
   "id": "9852ec37-9279-45f1-b9b0-fe5cd7e230ed",
   "metadata": {},
   "outputs": [],
   "source": [
    "from collections.abc import Iterable\n",
    "\n",
    "def zlepi(s: Iterable[str]):\n",
    "    v = \"\"\n",
    "    for x in s:\n",
    "        v += x\n",
    "    return v"
   ]
  },
  {
   "cell_type": "markdown",
   "id": "47aa8369-ce50-4c41-81ad-97010a3dc3e4",
   "metadata": {},
   "source": [
    "`Iterable` je abstraktni osnovni tip (*abstract base class*), ki ga dobimo v modulu `collections.abc`. Pomeni točno to, kar potrebujemo \"nekaj, čez kar je možno iti z zanko\". (To pravzaprav ni čisto točno. Pomeni \"nekaj, kar zna vrniti iterator\".) Ker smo poleg tega dodali `[str]`, smo zahtevali še, naj zanka prek te reči vrača nize."
   ]
  },
  {
   "cell_type": "markdown",
   "id": "686553ca-c99f-4dab-8fdb-726f68163d18",
   "metadata": {},
   "source": [
    "Takšnih tipov je še *zelo* veliko. [Dokumentacija](https://docs.python.org/3/library/collections.abc.html#collections-abstract-base-classes) jih opisuje precej tehnično - z metodami, ki jih podpirajo. Tako je najosnovnejši tip, `Container` opisan s tem, da vsebuje metodo `__contains__`. Če imamo"
   ]
  },
  {
   "cell_type": "code",
   "execution_count": 21,
   "id": "161e48c1-16dc-424d-9275-263b571b4ba3",
   "metadata": {},
   "outputs": [],
   "source": [
    "from collections.abc import Container\n",
    "\n",
    "s: Container[int]"
   ]
  },
  {
   "cell_type": "markdown",
   "id": "c853d5f4-f81f-41e5-8c88-3431263ed6a2",
   "metadata": {},
   "source": [
    "to pomeni, da bomo smeli v zvezi s `s`-jem uporabljati pogoj `x in s`, pri čemer bo moral biti `x` vrste `int`. `Hashable` so stvari, ki jih lahko uporabimo kot ključ v slovarju ali damo v množico, `Sized` so stvari, za katere lahko pokličemo `len`...\n",
    "\n",
    "Nekatere od teh stvari so res zgolj za type annotation nazije."
   ]
  },
  {
   "cell_type": "markdown",
   "id": "2f5837f0-e544-4506-812c-2ff78d9a364f",
   "metadata": {},
   "source": [
    "## Generiki\n",
    "\n",
    "In če smo že pri njih, pokažimo še generike."
   ]
  },
  {
   "cell_type": "code",
   "execution_count": 22,
   "id": "d37b3aeb-e366-4b86-8bab-ff9f4e3e5f10",
   "metadata": {},
   "outputs": [],
   "source": [
    "def vsota[T](s: Iterable[T]) -> T:\n",
    "    v: Optional[T] = None\n",
    "    for x in s:\n",
    "        if v is None:\n",
    "            v = x\n",
    "        else:\n",
    "            v += x\n",
    "    return v"
   ]
  },
  {
   "cell_type": "markdown",
   "id": "fc22527e-4904-4355-a974-2adb0fa52d0a",
   "metadata": {},
   "source": [
    "`vsota` je funkcija, ki prejme `s`, čez katerega je možno iterirati z zanko `for`. `s` bo pri iteriranju vračal elemente tipa `T`; `T` bo tudi rezultat funkcije. `v` bo bodisi `T` bodisi `None`. Ah, da, odkod pa se je vzel `T`? No, `T` je pa pač nek tip - mogoče `float`, mogoče `int`, mogoče `str`. Uvedli smo ga s `[T]` v `vsota[T]`.\n",
    "\n",
    "Tole sicer še ni čisto popolno: povedati bi morali še, da je `T` neka stvar, ki se jo da seštevati. Če je `T` slučajno slovar (in naše oznake tega ne prepovedujejo!), bo funkcija javila napako v `v += x`.\n",
    "\n",
    "To se menda da, vendar tega nisem še nikoli počel. In tudi ne mislim. :)"
   ]
  }
 ],
 "metadata": {
  "kernelspec": {
   "display_name": "Python 3 (ipykernel)",
   "language": "python",
   "name": "python3"
  },
  "language_info": {
   "codemirror_mode": {
    "name": "ipython",
    "version": 3
   },
   "file_extension": ".py",
   "mimetype": "text/x-python",
   "name": "python",
   "nbconvert_exporter": "python",
   "pygments_lexer": "ipython3",
   "version": "3.12.7"
  }
 },
 "nbformat": 4,
 "nbformat_minor": 5
}
