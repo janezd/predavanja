{
 "cells": [
  {
   "cell_type": "markdown",
   "id": "73e4bc37-eda9-44a5-8e82-ad7fca1391ef",
   "metadata": {
    "editable": true,
    "slideshow": {
     "slide_type": ""
    },
    "tags": []
   },
   "source": [
    "Ko pride do napake Python sestavi objekt razreda `Exception` (po slovensko, izjema), oziroma, točneje, enega od razredov, izpeljanih iz `Exception`. Vsak razred predstavlja svojo vrsto napake. [Teh je ogromno](https://docs.python.org/3/library/exceptions.html), pa še nove si lahko izmišljamo. Ko sestavi ta objekt, ga vrže (`throw`) oz. sproži (`raise`). V Pythonu se uporablja slednji izraz, `raise`, v Cju podobnih jezikih pa prvi, `throw`. Če vržene izjeme nihče ne ulovi, se ta izpiše, kot smo vajeni. Tule se bomo naučili loviti, potem pa še metati izjeme.\n",
    "\n",
    "### Lovljenje napak\n",
    "\n",
    "Če predvidevamo, da lahko v določenem delu kode pride do napake (kakor bomo tule po domače govorili izjemam), ga zapremo v blok `try-except` (in ne `try-catch`, ko bi se reklo v C-ju in žlahti). Takole je videti."
   ]
  },
  {
   "cell_type": "code",
   "execution_count": 3,
   "id": "2ba53ac4-f517-4e62-b5c8-97f54f6ecc2f",
   "metadata": {
    "editable": true,
    "slideshow": {
     "slide_type": ""
    },
    "tags": []
   },
   "outputs": [
    {
     "name": "stdin",
     "output_type": "stream",
     "text": [
      "Višina:  velik\n",
      "Teža:  težak\n"
     ]
    },
    {
     "name": "stdout",
     "output_type": "stream",
     "text": [
      "Napačen vnos\n"
     ]
    }
   ],
   "source": [
    "visina = input(\"Višina: \")\n",
    "teza = input(\"Teža: \")\n",
    "try:\n",
    "    visina = float(visina)\n",
    "    teza = float(teza)\n",
    "except ValueError:\n",
    "    print(f\"Napačen vnos\")"
   ]
  },
  {
   "cell_type": "markdown",
   "id": "f8817969-e302-451f-8301-5377218d195a",
   "metadata": {},
   "source": [
    "Besedi `try` sledi dvopičje in, kot smo vajeni, zamaknjen blok, ki seveda lahko vsebuje tudi več kot eno vrstico. Nato pride `except`, kjer, če smo vljudni, povemo, kakšne vrste napako pričakujemo. Znotraj bloka `except` storimo kaj pametnega - izpišemo kakšno obvestilo ali kaj podobnega.\n",
    "\n",
    "Blokov `except` je lahko tudi več, če pričakujemo več različnih napak.\n",
    "\n",
    "Če nismo vljudni, izpustimo vrsto napake in pišemo samo `except:`. Tak `except` ujame vse napake.\n",
    "\n",
    "Ko pride do napake, se izvajanje bloka prekine. Python poišče prvi blok `except`, ki se ujema z vrsto napake in začne izvajati kodo v njem.\n",
    "\n",
    "### Lovi samo predvidene napake\n",
    "\n",
    "Tule bi se morda zdela boljša ideja:"
   ]
  },
  {
   "cell_type": "code",
   "execution_count": 7,
   "id": "ab3543f0-f230-4570-879f-7b84894835f2",
   "metadata": {
    "editable": true,
    "slideshow": {
     "slide_type": ""
    },
    "tags": []
   },
   "outputs": [
    {
     "name": "stdin",
     "output_type": "stream",
     "text": [
      "Višina:  1.85\n",
      "Teža:  76\n"
     ]
    },
    {
     "name": "stdout",
     "output_type": "stream",
     "text": [
      "Indeks telesne teže: 22.21\n"
     ]
    }
   ],
   "source": [
    "try:\n",
    "    visina = input(\"Višina: \")\n",
    "    teza = input(\"Teža: \")\n",
    "    visina = float(visina)\n",
    "    teza = float(teza)\n",
    "    bmi = teza / visina ** 2\n",
    "    print(f\"Indeks telesne teže: {bmi:.2f}\")\n",
    "except ValueError:\n",
    "    print(f\"Napačen vnos\")"
   ]
  },
  {
   "cell_type": "markdown",
   "id": "50e5de25-0452-4311-b928-ea178aff8cd1",
   "metadata": {},
   "source": [
    "Vendar ni, saj bi bila potem dobra ideja tudi to:"
   ]
  },
  {
   "cell_type": "code",
   "execution_count": 14,
   "id": "ae23847e-8da8-4226-9e30-98333aa5ec05",
   "metadata": {},
   "outputs": [
    {
     "name": "stdout",
     "output_type": "stream",
     "text": [
      "Povprečje: 6.33\n"
     ]
    }
   ],
   "source": [
    "try:\n",
    "    with open(\"stevilke.txt\") as f:\n",
    "        vrstic = 0\n",
    "        v = 0\n",
    "        for vrstica in f:\n",
    "            v += int(vrstica)\n",
    "            vrstic += 1\n",
    "        povp = v / vrstic\n",
    "        print(f\"Povprečje: {povp:.2f}\")\n",
    "except IOError:\n",
    "    print(\"Datoteka ne obstaja\")\n",
    "except ValueError:\n",
    "    print(\"Napačna vrednost v datoteki\")\n",
    "except ZeroDivisionError:\n",
    "    print(\"Datoteka je prazna\")\n",
    "except:\n",
    "    print(\"Neznana napaka\")"
   ]
  },
  {
   "cell_type": "markdown",
   "id": "9ff5c0c9-474a-4ca3-979b-3bf0dbf9c6d2",
   "metadata": {},
   "source": [
    "Pa ni. To je zelo slaba ideja.\n",
    "\n",
    "`except` ne sme loviti preveč na široko. `except ValueError` smo napisali, da prestrežemo morebitno napako v `int(vrstica)`, torej naj lovi le napako v tej vrstici. Ideja `try-except` ni loviti napak na počez. Če neke napake nismo predvideli, je boljše, da je ne prestrežemo. Program ne sme teči naprej, kot da je vse v redu, če ni. Še manj sme, recimo, izpisati, da datoteka vsebuje napačno vrednost, če problem morda sploh ni v datoteki, temveč je napaka `ValueError` priletela od kod drugod.\n",
    "\n",
    "Loviti z `except:` pa je sploh skoraj prepovedano. To storite samo, ko kličete neko (tujo) kodo, v kateri se lahko zgodi karkoli.\n",
    "\n",
    "Pravilneje bi bilo torej tako:"
   ]
  },
  {
   "cell_type": "code",
   "execution_count": 16,
   "id": "ca622dee-196e-4305-86b3-ed3036a17953",
   "metadata": {},
   "outputs": [
    {
     "name": "stdout",
     "output_type": "stream",
     "text": [
      "Povprečje: 6.33\n"
     ]
    }
   ],
   "source": [
    "try:\n",
    "    with open(\"stevilke.txt\") as f:\n",
    "        vrstic = 0\n",
    "        v = 0\n",
    "        for vrstica in f:\n",
    "            try:\n",
    "                v += int(vrstica)\n",
    "            except ValueError:\n",
    "                print(\"Napačna vrednost v datoteki\")\n",
    "                continue\n",
    "            vrstic += 1\n",
    "        try:\n",
    "            povp = v / vrstic\n",
    "        except ZeroDivisionError:\n",
    "            print(\"Datoteka je prazna\")\n",
    "            povp = 0  # da se ima v naslednji vrtici kaj izpisati ...\n",
    "        print(f\"Povprečje: {povp:.2f}\")\n",
    "except IOError:\n",
    "    print(\"Datoteka ne obstaja\")"
   ]
  },
  {
   "cell_type": "markdown",
   "id": "f570a12e-a96a-41a7-bc6d-167d2bdd0614",
   "metadata": {},
   "source": [
    "`except IOError` je neroden, vendar neizogiben, če želimo datoteko odpreti z `with`. In ja, zoprn je tudi zato, ker lahko (vsaj načelno) pride do `IOError` tudi ob branju datoteke."
   ]
  },
  {
   "cell_type": "markdown",
   "id": "fcaa2395-56c1-4704-a0c7-5cd033e1292a",
   "metadata": {},
   "source": [
    "### Napakam se raje izogni, kot da jih loviš\n",
    "\n",
    "Edina napaka, ki jo malo težje predvidimo, je `ValueError` v `int(vrstica)`. Vse ostale lahko predvidimo in preprečimo."
   ]
  },
  {
   "cell_type": "code",
   "execution_count": 18,
   "id": "69afb65e-9fbe-4599-a482-38b5b2bf8742",
   "metadata": {},
   "outputs": [
    {
     "name": "stdout",
     "output_type": "stream",
     "text": [
      "Povprečje: 6.33\n"
     ]
    }
   ],
   "source": [
    "import os\n",
    "\n",
    "if not os.path.exists(\"stevilke.txt\"):\n",
    "    print(\"Datoteka ne obstaja\")\n",
    "else:\n",
    "    with open(\"stevilke.txt\") as f:\n",
    "        vrstic = 0\n",
    "        v = 0\n",
    "        for vrstica in f:\n",
    "            try:\n",
    "                v += int(vrstica)\n",
    "            except ValueError:\n",
    "                print(\"Napačna vrednost v datoteki\")\n",
    "                continue\n",
    "            vrstic += 1\n",
    "        if vrstic == 0:\n",
    "            print(\"Datoteka je prazna\")\n",
    "        else:\n",
    "            povp = v / vrstic\n",
    "            print(f\"Povprečje: {povp:.2f}\")"
   ]
  },
  {
   "cell_type": "markdown",
   "id": "c7ad55db-4026-46d5-9c99-217e98374db4",
   "metadata": {},
   "source": [
    "### Če ni napake ...\n",
    "\n",
    "Vrnimo se k indeksu telesne teže. Rekli smo, da je tole slaba ideja."
   ]
  },
  {
   "cell_type": "code",
   "execution_count": 38,
   "id": "8fc43ed4-78d7-41aa-89d5-544f7748dde4",
   "metadata": {
    "editable": true,
    "slideshow": {
     "slide_type": ""
    },
    "tags": []
   },
   "outputs": [
    {
     "name": "stdin",
     "output_type": "stream",
     "text": [
      "Višina:  1.85\n",
      "Teža:  76\n"
     ]
    },
    {
     "name": "stdout",
     "output_type": "stream",
     "text": [
      "Indeks telesne teže: 22.21\n"
     ]
    }
   ],
   "source": [
    "try:\n",
    "    visina = input(\"Višina: \")\n",
    "    teza = input(\"Teža: \")\n",
    "    visina = float(visina)\n",
    "    teza = float(teza)\n",
    "    bmi = teza / visina ** 2\n",
    "    print(f\"Indeks telesne teže: {bmi:.2f}\")\n",
    "except ValueError:\n",
    "    print(f\"Napačen vnos\")"
   ]
  },
  {
   "cell_type": "markdown",
   "id": "8fcafd85-c956-473f-a44d-1ba50237c250",
   "metadata": {
    "editable": true,
    "slideshow": {
     "slide_type": ""
    },
    "tags": []
   },
   "source": [
    "Kako to popraviti? Imamo namreč problem."
   ]
  },
  {
   "cell_type": "code",
   "execution_count": 20,
   "id": "d82b5437-a070-4a1e-ba0d-99bcb46b73e9",
   "metadata": {
    "editable": true,
    "slideshow": {
     "slide_type": ""
    },
    "tags": []
   },
   "outputs": [
    {
     "name": "stdin",
     "output_type": "stream",
     "text": [
      "Višina:  1.85\n",
      "Teža:  76\n"
     ]
    },
    {
     "name": "stdout",
     "output_type": "stream",
     "text": [
      "Indeks telesne teže: 22.21\n"
     ]
    }
   ],
   "source": [
    "visina = input(\"Višina: \")\n",
    "teza = input(\"Teža: \")\n",
    "try:\n",
    "    visina = float(visina)\n",
    "    teza = float(teza)\n",
    "except ValueError:\n",
    "    print(f\"Napačen vnos\")    \n",
    "bmi = teza / visina ** 2\n",
    "print(f\"Indeks telesne teže: {bmi:.2f}\")"
   ]
  },
  {
   "cell_type": "markdown",
   "id": "3fbc33d0-9968-4e8a-b5db-2dcc7bf08583",
   "metadata": {},
   "source": [
    "Problem je v tem: če se zgodi napaka, potem sta `visina` in `teza` se vedno niza. Strašno nerodno bi bilo pisati:"
   ]
  },
  {
   "cell_type": "code",
   "execution_count": 23,
   "id": "cc3f2fae-4588-4d13-b388-34316dd8acc4",
   "metadata": {
    "editable": true,
    "slideshow": {
     "slide_type": ""
    },
    "tags": []
   },
   "outputs": [
    {
     "name": "stdin",
     "output_type": "stream",
     "text": [
      "Višina:  1.85\n",
      "Teža:  76\n"
     ]
    },
    {
     "name": "stdout",
     "output_type": "stream",
     "text": [
      "Indeks telesne teže: 22.21\n"
     ]
    }
   ],
   "source": [
    "visina = input(\"Višina: \")\n",
    "teza = input(\"Teža: \")\n",
    "try:\n",
    "    visina = float(visina)\n",
    "    teza = float(teza)\n",
    "except ValueError:\n",
    "    print(f\"Napačen vnos\") \n",
    "    visina = teza = None\n",
    "    \n",
    "if visina is not None:\n",
    "    bmi = teza / visina ** 2\n",
    "    print(f\"Indeks telesne teže: {bmi:.2f}\")"
   ]
  },
  {
   "cell_type": "markdown",
   "id": "178d26ea-8548-4615-aad4-ed8bafd1d1ba",
   "metadata": {},
   "source": [
    "`except`-u sme slediti `else`. Kar napišemo znotraj `else`, se izvede le, če ni prišlo do izjeme."
   ]
  },
  {
   "cell_type": "code",
   "execution_count": null,
   "id": "4870d137-839b-4c35-9184-6c3046c73f5c",
   "metadata": {},
   "outputs": [],
   "source": [
    "visina = input(\"Višina: \")\n",
    "teza = input(\"Teža: \")\n",
    "try:\n",
    "    visina = float(visina)\n",
    "    teza = float(teza)\n",
    "except ValueError:\n",
    "    print(f\"Napačen vnos\") \n",
    "else:\n",
    "    bmi = teza / visina ** 2\n",
    "    print(f\"Indeks telesne teže: {bmi:.2f}\")"
   ]
  },
  {
   "cell_type": "markdown",
   "id": "524a69f1-0d67-440b-bd85-ed1a9572fc73",
   "metadata": {},
   "source": [
    "### Končno\n",
    "\n",
    "Končno lahko napišemo tudi `finally`. Ta lahko sledi `exceptu` oz. `else`-u, lahko pa imamo celo samo `try` in `finally`.\n",
    "\n",
    "Kar se nahaja znotraj bloka `finally` se izvede v vsakem primeru - najsi je prišlo do izjeme ali ne."
   ]
  },
  {
   "cell_type": "code",
   "execution_count": 25,
   "id": "7bc55ac5-d5c1-488f-b70e-f87fd1a787e4",
   "metadata": {
    "editable": true,
    "slideshow": {
     "slide_type": ""
    },
    "tags": [
     "raises-exception"
    ]
   },
   "outputs": [
    {
     "name": "stdout",
     "output_type": "stream",
     "text": [
      "Zgodilo se je nekaj izjemnega.\n"
     ]
    },
    {
     "ename": "ZeroDivisionError",
     "evalue": "division by zero",
     "output_type": "error",
     "traceback": [
      "\u001b[0;31m---------------------------------------------------------------------------\u001b[0m",
      "\u001b[0;31mZeroDivisionError\u001b[0m                         Traceback (most recent call last)",
      "Cell \u001b[0;32mIn[25], line 2\u001b[0m\n\u001b[1;32m      1\u001b[0m \u001b[38;5;28;01mtry\u001b[39;00m:\n\u001b[0;32m----> 2\u001b[0m     \u001b[38;5;241;43m1\u001b[39;49m\u001b[43m \u001b[49m\u001b[38;5;241;43m/\u001b[39;49m\u001b[43m \u001b[49m\u001b[38;5;241;43m0\u001b[39;49m\n\u001b[1;32m      3\u001b[0m \u001b[38;5;28;01mfinally\u001b[39;00m:\n\u001b[1;32m      4\u001b[0m     \u001b[38;5;28mprint\u001b[39m(\u001b[38;5;124m\"\u001b[39m\u001b[38;5;124mZgodilo se je nekaj izjemnega.\u001b[39m\u001b[38;5;124m\"\u001b[39m)\n",
      "\u001b[0;31mZeroDivisionError\u001b[0m: division by zero"
     ]
    }
   ],
   "source": [
    "try:\n",
    "    1 / 0\n",
    "finally:\n",
    "    print(\"Zgodilo se je nekaj izjemnega.\")"
   ]
  },
  {
   "cell_type": "markdown",
   "id": "9914cc4d-1d3d-4713-8517-c59c011d5054",
   "metadata": {
    "editable": true,
    "slideshow": {
     "slide_type": ""
    },
    "tags": []
   },
   "source": [
    "Napaka se izpiše, predtem pa se izvede tudi blok `finally`.\n",
    "\n",
    "### Več o izjemi\n",
    "\n",
    "Objekt, ki predstavlja izjemo, lahko vsebuje različne podatke, povezane z njo. Če nas zanimajo, `except <vrsta-izjeme>` nadaljujemo z `as <ime>`."
   ]
  },
  {
   "cell_type": "code",
   "execution_count": 36,
   "id": "ae15d2b4-e6ff-4a41-9cd3-eb2070eb23c7",
   "metadata": {
    "editable": true,
    "slideshow": {
     "slide_type": ""
    },
    "tags": []
   },
   "outputs": [
    {
     "name": "stdout",
     "output_type": "stream",
     "text": [
      "[Errno 2] No such file or directory: 'te-datoteke-ni.txt'\n",
      "te-datoteke-ni.txt\n",
      "No such file or directory\n"
     ]
    }
   ],
   "source": [
    "try:\n",
    "    open(\"te-datoteke-ni.txt\")\n",
    "except IOError as napaka:\n",
    "    print(napaka)\n",
    "    print(napaka.filename)\n",
    "    print(napaka.strerror)"
   ]
  },
  {
   "cell_type": "markdown",
   "id": "5041a618-8df6-4216-8872-01e4e1a59031",
   "metadata": {
    "editable": true,
    "slideshow": {
     "slide_type": ""
    },
    "tags": []
   },
   "source": [
    "`IOError` je zelo zgovoren, drugi manj. Vsaj vrsto napake in sporočilo pa lahko vedno izvemo."
   ]
  },
  {
   "cell_type": "markdown",
   "id": "7f3920df-ccd2-4610-8648-5173f2367cbf",
   "metadata": {
    "editable": true,
    "slideshow": {
     "slide_type": ""
    },
    "tags": []
   },
   "source": [
    "### Proženje napak\n",
    "\n",
    "Včasih želimo napako sprožiti sami. To je preprosto. Zapomniti si moramo le, da v Pythonu tega ne storimo s `throw`, kot v jezikih s Cjevsko sintakso, temveč z `raise`."
   ]
  },
  {
   "cell_type": "code",
   "execution_count": 37,
   "id": "4a2802a9-61d5-42a1-bf68-9dbab235f56e",
   "metadata": {
    "editable": true,
    "slideshow": {
     "slide_type": ""
    },
    "tags": [
     "raises-exception"
    ]
   },
   "outputs": [
    {
     "ename": "ValueError",
     "evalue": "Čudna vrednost.",
     "output_type": "error",
     "traceback": [
      "\u001b[0;31m---------------------------------------------------------------------------\u001b[0m",
      "\u001b[0;31mValueError\u001b[0m                                Traceback (most recent call last)",
      "Cell \u001b[0;32mIn[37], line 1\u001b[0m\n\u001b[0;32m----> 1\u001b[0m \u001b[38;5;28;01mraise\u001b[39;00m \u001b[38;5;167;01mValueError\u001b[39;00m(\u001b[38;5;124m\"\u001b[39m\u001b[38;5;124mČudna vrednost.\u001b[39m\u001b[38;5;124m\"\u001b[39m)\n",
      "\u001b[0;31mValueError\u001b[0m: Čudna vrednost."
     ]
    }
   ],
   "source": [
    "raise ValueError(\"Čudna vrednost.\")"
   ]
  }
 ],
 "metadata": {
  "kernelspec": {
   "display_name": "Python 3 (ipykernel)",
   "language": "python",
   "name": "python3"
  },
  "language_info": {
   "codemirror_mode": {
    "name": "ipython",
    "version": 3
   },
   "file_extension": ".py",
   "mimetype": "text/x-python",
   "name": "python",
   "nbconvert_exporter": "python",
   "pygments_lexer": "ipython3",
   "version": "3.12.7"
  }
 },
 "nbformat": 4,
 "nbformat_minor": 5
}
