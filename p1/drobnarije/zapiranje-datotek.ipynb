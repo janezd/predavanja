{
 "cells": [
  {
   "cell_type": "markdown",
   "id": "341e4c05-8c1d-44db-a019-f54371999430",
   "metadata": {},
   "source": [
    "## Zakaj se datoteke zaprejo same (in kdaj)?\n",
    "\n",
    "Eden hujših grehov, ki jih naredim pri Programiranju 1, je povezan z odpiranjem datotek. Odpirali smo jih z"
   ]
  },
  {
   "cell_type": "code",
   "execution_count": 2,
   "id": "e1a323fb-e2d0-4cf3-85b1-0ab5b79eac06",
   "metadata": {},
   "outputs": [],
   "source": [
    "v = 0\n",
    "for vrstica in open(\"stevilke.txt\"):\n",
    "    v += int(vrstica)"
   ]
  },
  {
   "cell_type": "markdown",
   "id": "88080a37-b493-47d7-8b4b-648367001e46",
   "metadata": {},
   "source": [
    "Pri tem povem, da se z zapiranjem datotek v Pythonu ne obremenjujem, ker se itak zaprejo same. To ni lepo.\n",
    "\n",
    "Ni lepo, je pa res. Python redno pospravlja pomnilnik. Ko naleti na objekt, na katerega se (ne neposredno ne posredno) ne nanaša nobeno ime več, ga odstrani iz pomnilnika (= označi pomnilnik kot prost), predtem pa pokliče njegov *destruktor*. Destruktor datotek zapre datoteko.\n",
    "\n",
    "Če je bilo to preveč učeno, pokažimo, kako vse se to lahko zgodi."
   ]
  },
  {
   "cell_type": "code",
   "execution_count": 3,
   "id": "5781cd3f-c56e-4708-99dc-9e96646147ab",
   "metadata": {},
   "outputs": [],
   "source": [
    "f = open(\"stevilke.txt\")\n",
    "...\n",
    "f = 42"
   ]
  },
  {
   "cell_type": "markdown",
   "id": "10083798-7703-4b7c-ae34-e82b00b3a18d",
   "metadata": {},
   "source": [
    "Ker se ime `f` po prirejanju `f = 42` ne nanaša več na datoteko, do datoteke ne moremo več priti (razen, če smo jo na kakšen način privezali k življenju v delu, označenem s tremi pikicami). Zato Python v onem trenutku zapre datoteko."
   ]
  },
  {
   "cell_type": "code",
   "execution_count": 4,
   "id": "589a553c-4ac0-4d2f-8246-a9be9b2ee74d",
   "metadata": {},
   "outputs": [],
   "source": [
    "def beri(ime_datoteke):\n",
    "    f = open(ime_datoteke)\n",
    "    ..."
   ]
  },
  {
   "cell_type": "markdown",
   "id": "4587f612-6660-4d81-adde-431723713991",
   "metadata": {},
   "source": [
    "Podobna reč: na datoteko se nanaša le lokalno ime `f`. Ko se funkcija konča, datoteka ni več dostopna, torej se zapre.\n",
    "\n",
    "In, končno, zgled z začetka zapiska:"
   ]
  },
  {
   "cell_type": "code",
   "execution_count": 5,
   "id": "f27bed11-351c-44fa-9ef5-ee147b22cdbf",
   "metadata": {},
   "outputs": [],
   "source": [
    "for vrstica in open(\"stevilke.txt\"):\n",
    "    ..."
   ]
  },
  {
   "cell_type": "markdown",
   "id": "e319de24-5738-4519-8ee3-368358c363bf",
   "metadata": {},
   "source": [
    "Dokler teče zanka, je živ generator, ki vrača vrstice datoteke. (Poenostavimo, povejmo preprosteje, čeprav ne bo čisto prav: za datoteko \"ve\" zanka `for`). Ko se zanka `for` konča, do datoteke ne moremo več, torej se zapre.\n",
    "\n",
    "Ker datoteke praktično nikoli ne odpiram tako, da bi ostala dostopna tudi po tem, ko je ne potrebujem več, se z zapiranjem ne obremenjujem."
   ]
  },
  {
   "cell_type": "markdown",
   "id": "171a82e6-637d-47f2-8126-9446a10aa030",
   "metadata": {},
   "source": [
    "## In? Zakaj to ni OK?\n",
    "\n",
    "Dobro vprašanje. Saj je. Deluje. Vendar je to zapiranje le nekako stranski učinek nedosegljivosti objekta. To je dovolj dobro za skripte, ki si jih napišemo tako, na hitro, ne pa za resne projekte.\n",
    "\n",
    "Obstaja tudi močnejši protiargument kot zgolj \"ni lepo\". Python ne zagotavlja, da bo pospravil datoteko iz pomnilnika točno takrat, ko bo `f` postal `42` ali pa ko se bo iztekla funkcija ali zanka. V trenutni različici Pythona, napisanem v C-ju, je tako. Za [Jython](https://www.jython.org/) (Python v Javi) nisem prepričan, za PyPy (Python, napisan v Pythonu) pa *vem*, da se pomnilnika ne pospravlja sproti, temveč občasno. In prav nihče nam ne zagotavlja, da ne bo tudi Python v neki prihodnji različici prešel s sprotnega na občasno pospravljanje."
   ]
  },
  {
   "cell_type": "markdown",
   "id": "3b7b2118-9e98-42bb-a79e-f27c3deacd03",
   "metadata": {},
   "source": [
    "## Ročno zapiranje datotek\n",
    "\n",
    "V večini jezikov, ki zahtevajo ročno zapiranje datotek, to počnemo takole."
   ]
  },
  {
   "cell_type": "code",
   "execution_count": 7,
   "id": "78e7454b-d609-44e2-a98c-01edfe5df7db",
   "metadata": {},
   "outputs": [],
   "source": [
    "f = open(\"stevilke.txt\")\n",
    "\n",
    "v = 0\n",
    "for vrstica in f:\n",
    "    v += int(vrstica)\n",
    "\n",
    "f.close()"
   ]
  },
  {
   "cell_type": "markdown",
   "id": "321d0a66-178e-4f03-9dae-9df961deedc2",
   "metadata": {},
   "source": [
    "`open` in `close`, logično. In? Je mar to tako težko? Zakaj se ne učimo tako?\n",
    "\n",
    "Tu imam dilemo. Po eni strani se hočemo učiti programiranja, ne Pythona. Če se z datotekami v splošnem dela tako, je prav, da se tako tudi naučimo, ne?\n",
    "\n",
    "Da, vendar se vseeno učimo programirati v Pythonu in ne bi vas rad učil *slabega* Pythona. V modernem Pythonu (je od leta 2008, Python 2.6 :) datoteke zapiramo drugače. Tega, drugačnega načina pa ne boste videli v drugih jezikih.\n",
    "\n",
    "In, končno, ta, pravi način zahteva sintaktični element, ki se ga sicer ne učimo, ker za potrebe Programiranja 1 ni preveč zanimiv. Zato sodi v rubriko \"tole vam bom pokazal, če bo čas\". Zdaj je."
   ]
  },
  {
   "cell_type": "markdown",
   "id": "0b287885-7261-4056-88b2-a00b9817435b",
   "metadata": {},
   "source": [
    "## Datoteke in `with`\n",
    "\n",
    "Prav naredimo tako:"
   ]
  },
  {
   "cell_type": "code",
   "execution_count": 9,
   "id": "9d57b805-71b2-4c5e-9a45-387dfd429a69",
   "metadata": {},
   "outputs": [
    {
     "name": "stdout",
     "output_type": "stream",
     "text": [
      "76\n"
     ]
    }
   ],
   "source": [
    "with open(\"stevilke.txt\") as f:\n",
    "    v = 0\n",
    "    for vrstica in f:\n",
    "        v += int(vrstica)\n",
    "        \n",
    "print(v)"
   ]
  },
  {
   "cell_type": "markdown",
   "id": "edc00154-7fb0-4cd9-b07b-832024c56fb3",
   "metadata": {},
   "source": [
    "Temu, kar je znotraj bloka `with` rečemo *kontekst*. Idejo bomo razložili v ločenem zapisku, tule le na hitro: kontekst je nekaj, kar se vzpostavi in, ko je bloka konec, pospravimo. Tisti reči, ki sledi `with`-u (v tem primeru: datoteko) bo `with` sporočal, da se začenja izvajanje bloka in, ko je bloka konec, da se je izvajanje bloka končalo. V tem konkretnem primeru torej bo `with` sporočil datoteki, da je bloka konec in datoteka bo vedela, da je čas, da se zapre.\n",
    "\n",
    "`as f` služi temu, da ima datoteka znotraj bloka ime.\n",
    "\n",
    "Namerno sem dodal `print(v)` in to, namerno, izven `with`. Življenjska doba pythonovih spremenljivk ni omejena na bloke in `v` je dostopen tudi po `with`, čeprav je nastal v njem. (Isto velja za `f`: tudi ta obstaja tudi po bloku, vendar z njim nimamo kaj početi, saj je `with` datoteko zaprl.\n",
    "\n",
    "Če boste torej hoteli lepo programirati v Pythonu, boste datoteke uporabljali znotraj kontekstov, v blokih `with`. Če programirate nekaj na hitro, pa bo čisto dobro tudi tako, kot smo delali doslej."
   ]
  }
 ],
 "metadata": {
  "kernelspec": {
   "display_name": "Python 3 (ipykernel)",
   "language": "python",
   "name": "python3"
  },
  "language_info": {
   "codemirror_mode": {
    "name": "ipython",
    "version": 3
   },
   "file_extension": ".py",
   "mimetype": "text/x-python",
   "name": "python",
   "nbconvert_exporter": "python",
   "pygments_lexer": "ipython3",
   "version": "3.12.7"
  }
 },
 "nbformat": 4,
 "nbformat_minor": 5
}
