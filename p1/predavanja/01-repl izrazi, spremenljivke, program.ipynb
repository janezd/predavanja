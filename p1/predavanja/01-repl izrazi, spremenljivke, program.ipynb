{
 "cells": [
  {
   "cell_type": "markdown",
   "metadata": {},
   "source": [
    "## Moj računalnik je lahko tudi kalkulator\n",
    "\n",
    "Če poženemo Python dobimo ... kalkulator."
   ]
  },
  {
   "cell_type": "markdown",
   "metadata": {},
   "source": [
    "```\n",
    ">>> 1 + 1\n",
    "2\n",
    ">>> 2 * 3\n",
    "6\n",
    ">>> 1+2 * 3+1\n",
    "8\n",
    "```\n",
    "\n",
    "Nič posebnega. Temu, kar smo vpisovali, pravimo *izraz*. Pri tem predmetu se sicer ne bomo ukvarjali s pravorečjem; teoretiki nas učijo o razliki med *izrazom*, *stavkom* in bogvečem še, sam pa se tule enkrat za vselej opravičujem, ker bom dal prednost praksi, ne terminologiji. Še definicijo pomena besede *izraz* bom prepustil kolegu Slivniku, ki bo nekatere od vas v tretjem letniku učil zanimivo snov o jezikih, prevajalnikih in sploh vsem).\n",
    "\n",
    "Izraz bo za nas pač *nekaj, kar se da izračunati* (kar je ravnokar zaropotalo, je neki [Alan Turing](http://en.wikipedia.org/wiki/Turing), ki se je z jabolkom v ustih obrnil v grobu). In gornje stvari se očitno dajo izračunati. In niti niso preveč zanimive.\n",
    "\n",
    "Razen, morda, zadnjega izraza. V izrazih lahko uporabljamo presledke in to moramo - kot tudi sicer - početi po občutku. V zadnjem izrazu tega nismo počeli, zato je zapis zavajajoč. Python je dovolj pameten, da ve, da ima *operator* (še ena beseda, ki si jo zapomnimo!) množenja prednost pred operatorjem seštevanja. Kar smo napisali, se računa enako, kot če bi rekli\n",
    "\n",
    "```\n",
    "1+2*3+1\n",
    "```\n",
    "\n",
    "ali\n",
    "\n",
    "```\n",
    ">>> 1 + 2*3 + 1\n",
    "```\n",
    "\n",
    "ali\n",
    "\n",
    "```\n",
    ">>> 1 + 2 * 3 + 1\n",
    "```\n",
    "\n",
    "Nekoč se bomo dogovorili za zadnje, dotlej pa jih pišite, kakor hočete, le nekaj se zmenimo: nikoli jih ne dajajte na začetek. Dokler vam naslednji teden ne bom rekel, da jih morate. Boste videli, zakaj.\n",
    "\n",
    "Kakšni operatorji so nam še na voljo? Očitna sta še `/` za deljenje in `-` za odštevanje. Dvojna zvezdica, `**`, pomeni potenciranje (mednju ne smemo napisati presledka, `**` je kot, recimo, ena *beseda*). Operator `%` izračuna ostanek po deljenju.\n",
    "\n",
    "```\n",
    ">>> 5 ** 2\n",
    "25\n",
    ">>> 3 ** 4\n",
    "81\n",
    ">>> 13 % 5\n",
    "3\n",
    "```\n",
    "\n",
    "Potenciranje ima prednost pred vsem, kar poznamo doslej. Kadar je treba, pa lahko uporabimo oklepaje.\n",
    "\n",
    "```\n",
    ">>> (4 + 5) * 4\n",
    "36\n",
    "```\n",
    "\n",
    "Če ostane kak oklepaj odprt, Python ne izračuna izraza, saj ve, da ga še nismo dokončali. Namesto `>>>` pokaže tri pike in dovoli, da nadaljujemo izraz v naslednji vrsti.\n",
    "\n",
    "```\n",
    ">>> (4 + 2 * (3\n",
    "... + 8)-\n",
    "... 2)\n",
    "24\n",
    "```\n",
    "\n",
    "Tule ni lepo, a kdaj drugič nam bo prišlo še zelo prav, boste videli.\n",
    "\n",
    "Pri množenju je nujno uporabiti zvezdico. Se pravi, pisati moramo `7 * (2 + 3)` in ne `7(2 + 3)`.\n",
    "\n",
    "Za deljenje imamo poleg operatorja `/` tudi `//`, ki deli celoštevilsko.\n",
    "\n",
    "\n",
    "```\n",
    ">>> 4.5 // 1.2\n",
    "3.0\n",
    ">>> 7 // 2\n",
    "3\n",
    "```\n",
    "\n",
    "1.2 gre v 4.5 trikrat ... in še malo ostane. A celoštevilskega deljenja ostanek ne zanima.\n",
    "\n",
    "Pozornejšemu je padlo v oči še nekaj zanimivega: če delimo 4.5 z 1.2, dobimo 3.0, če delimo 7 z 2, pa 3. Za prvo predavanje bi lahko to tudi preskočili, a se vseeno pomudimo: Python loči med celimi in necelimi števili. Rezultat deljenja necelih števil je necelo število; slučajno je ravno okroglo (3), vendar Python še vedno ve, da gre za število, ki bi lahko bilo necelo (čeprav slučajno ni). Rezultat celoštevilskega deljenja celih števil pa je celo število, zato ga Python tudi izpiše brez decimalk. Podobno je s seštevanjem.\n",
    "\n",
    "```\n",
    ">>> 2.3 + 1.7\n",
    "4.0\n",
    ">>> 2 + 2\n",
    "4\n",
    "```\n",
    "\n",
    "Če seštejemo realni števili 2.3 in 1.7 dobimo realno število 4.0. Če seštejemo celi števili 2 in 2, dobimo celo število 4.\n",
    "\n",
    "Kako hitro napredujemo! To, kar smo pravkar spoznali, so \"podatkovni tipi\". Točneje, spoznali smo dva podatkovna tipa *cela števila* in *števila s plavajočo vejico*. V angleščini se jima reče *integer* in *floating point number* v Pythonu pa `int` in `float`. Odkod ta čudna imena boste izvedeli pri kakem drugem predmetu.\n",
    "\n",
    "Vsaka reč v Pythonu je reč nekega tipa, in če je ta reč število, je bodisi tipa `int` bodisi `float`. (So števila lahko še kakega drugega tipa? Lahko, nekateri jeziki imajo celo kupe številskih tipov. Vendar nas za zdaj ne brigajo.)\n",
    "\n",
    "Neučakanega študenta morda pograbila radovednost. Kateri podatkovni tipi pa še obstajajo - razen številskih? Le malo naj počaka, kmalu bodo na vrsti.\n",
    "\n",
    "Preden gremo naprej, samo opozorimo, kaj vas čaka v večini drugih jezikov: v skoraj vseh drugih jezikih deljenje celih števil vrača celo število; v Javi, ki se jo boste učili v drugem semestru, bo 7 / 2 enako 3. Obratno opozorilo, seveda, velja za tiste, ki že znate programirati in ste morda vajeni drugače: v Pythonu izraz 7 / 2 vrne 3.5. Je to pametno? Najbrž je: ko delimo, večinoma hočemo \"pravo\" deljenje in le redko celoštevilskega. Še več, pri programiranju velikokrat naredimo napako, ko brezskrbno delimo, ne da bi pomislili na to, s kakšnimi števili - celimi ali ne - delamo. Avtorji Pythona so se zato odločili, naj bo deljenje vedno \"pravo\", kadar hočemo celoštevilsko, pa moramo to posebej povedati tako, da namesto `/` uporabimo `//`.\n",
    "\n",
    "## O obliki teh zapiskov\n",
    "\n",
    "Gornja komunikacija s Pythonom je oblikovana, kot da poženemo Python iz ukazne vrstice. Python sprašuje z `>>>` in potem odgovarja.\n",
    "\n",
    "Ti zapiski so pripravljeni z okoljem Jupyter Notebook. Tam vrstice, v katerih vnašamo ukaze Pythonu niso označene z `>>>`, temveč z `In`, njegovi odgovori pa z `Out`. Odslej bodo izpisi v takšni obliki. Če si namestite Jupypter Notebook, lahko prenesete te zapiske na svoj računalnik in izvajate dele kot, ki so v njem. Predlagam, da to poskusite in tudi počnete.\n",
    "\n",
    "\n",
    "## Moj računalnik je lahko tudi kalkulator - s spominom\n",
    "\n",
    "Izračunali bomo, koliko je 2 + 3 in rekli računalniku, naj si to zapomni."
   ]
  },
  {
   "cell_type": "code",
   "execution_count": 1,
   "metadata": {},
   "outputs": [],
   "source": [
    "x = 2 + 3"
   ]
  },
  {
   "cell_type": "markdown",
   "metadata": {},
   "source": [
    "Temu, kar smo napisali tu, pravimo *prireditveni stavek*, saj smo z njim x-u priredili vrednost izraza 2+3.\n",
    "\n",
    "Tole zdaj je najbolj pomembna stvar v današnjem predavanju. Ne spreglejte je, čeprav je slišati trivialna, da ne bo kdaj kasneje postala kamen spotike (predvsem tistim, ki že znate programirati in si pod prirejanjem predstavljate nekaj drugega, kot v resnici je).\n",
    "\n",
    "Da hočemo nekaj prirejati, povemo z enačajem (očitno). Na njegovi desni je nek izraz - torej nekaj, kar se da izračunati. Včasih bo to `2 + 3`, včasih bo kaj veliko bolj zapletenega, velikokrat pa bo na desni strani samo številka, kot, recimo, v prirejanju `x = 42`. Python bo, tako kot v našem dosedanjem igranju z njim, izračunal tisto na desni in dobil `5` ali `42` ali karkoli že.\n",
    "\n",
    "Na levi strani enačaja je neko ime. Python bo temu imenu (recimo `x`) priredil tisto, kar je izračunal.\n",
    "\n",
    "OK? Prireditveni stavek priredi imenu na levi strani enačaja rezultat izraza na desni.\n",
    "\n",
    "Levo in desno od enačaja praviloma pišemo presledke, zaradi preglednosti.\n",
    "\n",
    "Python tokrat ni izpisal ničesar v odgovor. Rezultat si je le zapomnil, shranil ga je pod imenom `x`. Kaj lahko počnemo s tem `x`? Lahko ga uporabljamo v drugih izrazih."
   ]
  },
  {
   "cell_type": "code",
   "execution_count": 3,
   "metadata": {},
   "outputs": [
    {
     "data": {
      "text/plain": [
       "12"
      ]
     },
     "execution_count": 3,
     "metadata": {},
     "output_type": "execute_result"
    }
   ],
   "source": [
    "x + 7"
   ]
  },
  {
   "cell_type": "code",
   "execution_count": 4,
   "metadata": {},
   "outputs": [
    {
     "data": {
      "text/plain": [
       "25"
      ]
     },
     "execution_count": 4,
     "metadata": {},
     "output_type": "execute_result"
    }
   ],
   "source": [
    "x ** 2"
   ]
  },
  {
   "cell_type": "code",
   "execution_count": 5,
   "metadata": {},
   "outputs": [
    {
     "data": {
      "text/plain": [
       "3"
      ]
     },
     "execution_count": 5,
     "metadata": {},
     "output_type": "execute_result"
    }
   ],
   "source": [
    "13 % x"
   ]
  },
  {
   "cell_type": "code",
   "execution_count": 6,
   "metadata": {},
   "outputs": [
    {
     "data": {
      "text/plain": [
       "5"
      ]
     },
     "execution_count": 6,
     "metadata": {},
     "output_type": "execute_result"
    }
   ],
   "source": [
    "x"
   ]
  },
  {
   "cell_type": "markdown",
   "metadata": {},
   "source": [
    "Kadar rečem `x`, Python poišče, tisto, kar je priredil `x`-u. Če smo `x`-u priredili 5 in rečemo `x + 7`, je to isto, kot če bi rekli `5 + 7`.\n",
    "\n",
    "Temu `x` Slovenci ponosno rečemo *spremenljivka*. Angleži temu namreč pravijo *variable*, Madžari pa változó. (Predvsem slednje ni posebej pomembno in ne pride v poštev kot izpitno vprašanje, čeprav ni nič narobe, če veste. Koristi pa po drugi strani tudi nobene. ;))\n",
    "\n",
    "Spremenljivko lahko seveda uporabljamo tudi za računanje novih spremenljivk."
   ]
  },
  {
   "cell_type": "code",
   "execution_count": 7,
   "metadata": {},
   "outputs": [
    {
     "data": {
      "text/plain": [
       "7"
      ]
     },
     "execution_count": 7,
     "metadata": {},
     "output_type": "execute_result"
    }
   ],
   "source": [
    "y = x + 2\n",
    "y"
   ]
  },
  {
   "cell_type": "markdown",
   "metadata": {},
   "source": [
    "Spremenljivka pri programiranju (v večini jezikov) ne pomeni istega kot v matematiki. Spremenljivke v matematiki se, roko na srce, pravzaprav ne spreminjajo. V matematiki *x* ne more biti v eni vrstici 5, v naslednji pa 8. Pri programiranju pa lahko."
   ]
  },
  {
   "cell_type": "code",
   "execution_count": 8,
   "metadata": {},
   "outputs": [
    {
     "data": {
      "text/plain": [
       "5"
      ]
     },
     "execution_count": 8,
     "metadata": {},
     "output_type": "execute_result"
    }
   ],
   "source": [
    "x = 5\n",
    "x"
   ]
  },
  {
   "cell_type": "code",
   "execution_count": 9,
   "metadata": {},
   "outputs": [
    {
     "data": {
      "text/plain": [
       "8"
      ]
     },
     "execution_count": 9,
     "metadata": {},
     "output_type": "execute_result"
    }
   ],
   "source": [
    "x = 8\n",
    "x"
   ]
  },
  {
   "cell_type": "markdown",
   "metadata": {},
   "source": [
    "Še huje. Če matematiki ne bi znali programirati (pa navadno znajo in to dobro), bi jih utegnilo pretresti tole:"
   ]
  },
  {
   "cell_type": "code",
   "execution_count": 10,
   "metadata": {},
   "outputs": [
    {
     "data": {
      "text/plain": [
       "7"
      ]
     },
     "execution_count": 10,
     "metadata": {},
     "output_type": "execute_result"
    }
   ],
   "source": [
    "x = 5\n",
    "x = x + 2\n",
    "x"
   ]
  },
  {
   "cell_type": "markdown",
   "metadata": {},
   "source": [
    "Kako je *x* lahko enak *x + 2*? Saj ni. Ta enačaj ne predstavlja enakosti, kot v matematiki, temveč prirejanje. Ja? V drugi vrstici Python izračuna vrednost izraza x + 2, to je, 7, in to priredi imenu, spremenljivki `x`. Izraz `x = x + 2` torej pomeni, preprosto, povečaj x za 2. (Napišite kaj takega pred prof. Fijavžem, če si upate!)\n",
    "\n",
    "Tiste, ki že znajo vsaj malo programirati v kakem drugem jeziku, je morda zmotilo, da spremenljivk nismo nikjer deklarirali. (Tisti, ki jim beseda *deklarirati* ne pomeni ničesar, naj ostanejo v umestni nevednosti.) V Pythonu tega (skoraj) ne moremo narediti. Spremenljivka (točneje, ime) se pojavi, ko jo uporabimo, in izgine, ko je ne potrebujemo več. Ali je to dobro ali slabo, si niti teoretiki niso edini. Niti, ali je to dobro ali slabo za začetnika, ne.\n",
    "\n",
    "Tem, ki že znajo programirati - posebej, če so uporabljali kak C# ali Javo - povejmo še, da se Pythonove spremenljivke tudi sicer bistevno razlikujejo od spremenljivk, ki so jih vajeni od ondod. Predvsem ni dobro, da so vas najbrž učili, da so \"*spremenljivke kot nekakšne škatlice*\". Za začetek bi bilo veliko lepše, če bi jim rekli *ime*, ne *spremenljivka*. Tudi Python jim reče *name*. A navada je železna srajca in vsi govorimo o *spremenljivkah*. Pomembno pa je tole: če imamo"
   ]
  },
  {
   "cell_type": "code",
   "execution_count": 11,
   "metadata": {},
   "outputs": [],
   "source": [
    "x = 42\n",
    "y = x"
   ]
  },
  {
   "cell_type": "markdown",
   "metadata": {},
   "source": [
    "imamo v resnici eno samo škatlico (njena vsebina je število 42) z dvema imenoma, `x` in `y`. Več o tem bomo izvedeli kasneje, ko bomo to zmožnejši prebavljati in bomo videli tudi konkretno zmotnost ideje, da je \"*spremenljivka kot nekakšna škatlica*\".\n",
    "\n",
    "Ostali, tisti, ki niso še nikoli programirali, pa se sprašujejo nekaj drugega. Kakšna so lahko imena spremenljivk? Vedno le ena črka? Angleške abecede?\n",
    "\n",
    "Takole: imena (angleško govoreči jim pravijo *identifier*) so lahko poljubno dolga. Vsebujejo lahko črke angleške abecede, številke in podčrtaj, `_`, vendar se morajo začeti s črko ali podčrtajem, s številko pa ne. Python, kot skoraj vsi drugi jeziki, razlikuje med malimi in velikimi črkami: `x` in isto kot `X`. (V resnici smemo uporabljati tudi šumnike in kitajske pismenke, vendar se tega ne navadite, ker je nezaželeno in ker tega ne boste mogli početi v skoraj nobenem drugem jeziku kot v Pythonu, zato naj vam ne pride v kri.)\n",
    "\n",
    "Poleg tega obstaja še par dogovorov. Vsak jezik ima namreč poleg obveznih pravil tudi želeni slog. (Razen nekaterih, ki jih imajo več; najbolj notorično brezvladje je najbrž v C in C++.) Predvsem pa - in to vas bo kot računalnikarje prej ko slej zadelo - vsako resno podjetje določi pravila oblikovanja kode. Google, recimo, jih je predpisal za vse jezike, ki jih pogosteje uporablja ([Google Style Guides](http://google.github.io/styleguide/)). Vsi, ki programirajo v tem podjetju, se morajo teh pravil držati.\n",
    "\n",
    "1. **Imena naj se vedno začnejo z malo črko.** Nekateri ste se učili drugih jezikov, kjer so navade drugačne. Ali pa so vas učili Python učitelji, ki nikoli niso brali pravil za Python. Kasneje bomo spoznali določene stvari, ki jih poimenujemo z veliko začetnico; dotlej pa - mala.\n",
    "\n",
    "2. **Če je ime sestavljeno iz več besed, jih ločimo s podčrtajem,** , na primer `velikost_cevlja`. Obliko `velikostCevlja` boste videli le v starejših programih v Pythonu.\n",
    "\n",
    "3. **Ime naj pove vsebino, ne vrste spremenljivke,** npr. `pospesek = 9.8`. Spremenljivke ne poimenujte `stevilka`, ceprav morda res vsebuje številko. Ko bomo začeli uporabljati sezname, vas bo veliko uporabljalo ime `seznam`, in če bodo v programu trije seznami, jih obste poimenovali `seznam1`, `seznam2`, `seznam3`. Da, to vam bo zelo pomagalo razumeti, kaj ste shranili kam. To je približno tako, kot če bi na knjigah pisalo \"Knjiga\" namesto, kaj je v njej. (Ni pa zelo drugače od steklenic v Mercatorju, na katerih preprosto piše \"Vino\".)\n",
    "\n",
    "4. **Kratka imena.** Izogibajte se imen, kot so `a`, `aa`, `asd`... ki ne povedo nič. Sicer me boste videli, da bom uporabljal kratka imena na predavanjih, vendar le zato, ker bom tipkal v živo in nimate časa gledati, kako tipkam `imena_nekih_studentov`. Program, v katerem je deset spremenljivk z imeni `a`, `b`, `aa`, `a2`, `a3`, `a4` je nemogoče brati.\n",
    "\n",
    "5. **Dogovorjena imena spremenljivk.** Po drugi strani pogosto uporabljamo kratka imena za \"nepomembne\" spremenljivke, ki \"živijo\" le nekaj vrstic. Kot v matematiki bodo tudi tu spremenljivke z imeni `i`, `j`, `k` pogosto števci, se pravi, nekaj, kar bo teklo od, recimo, 1 do 10. Po eni strani neinformativno, po drugi pa vedno, ko vidimo `i`, `j`, `k` vemo, da gre za števec. `e` bo element kakega zaporedja. `x` in `y` bosta argumenta (tako kot matematiki vedno rečejo `sin(x)`). Imena `s`, `t`, `u` bodo pogosto seznami. Nekateri imajo za seznam raje `xs` (kot angleška množina imena `x`), saj je `xss` potem seznam, ki vsebuje sezname. To boste videli predvsem v nalogah na vajah. Ime `s` bo sicer pogosto predstavljalo tudi besedilo.\n",
    "\n",
    "Tega se vam niti slučajno ni potrebno zapomniti. Glejte, kako bom pisal na predavanjih in v zapiskih, pa se boste navadili.\n",
    "\n",
    "Na to temo bi se dalo povedati še veliko in morda nekoč bomo. Za zdaj pa vam resno polagam na srce, kar je napisano tu. Predvsem tistim, ki že znate programirati in se vam zdi najlepše tako, kot delate zdaj. Meni se zdijo v Pythonu lepa Pythonova pravila, v JavaScriptu pa pravila JavaScripta.\n",
    "\n",
    "Kdor razmišlja drugače, je kot Francoz, ki iz patriotizma namerno govori angleško s francoskim naglasom. Ali Štajerc, ki jo zavija po štajersko.\n",
    "\n",
    "<center>\n",
    "![XKCD](http://imgs.xkcd.com/comics/license_plate.png)\n",
    "\n",
    "<small>The next day: 'What? Six bank robberies!? But I just vandalized the library!' 'Nice try. They saw your plate with all the 1's and I's.' 'That's impossible! I've been with my car the whole ti-- ... wait. Ok, wow, that was clever of her.'</small>\n",
    "\n",
    "</center>\n",
    "\n",
    "Vsi našteti dogovori (in še veliko podobnih bomo spoznali sproti) so samo dogovori. Če se jih ne držimo, bodo programi še vedno delovali. Pythonu je vseeno. Ni pa vseeno nam: če se držimo takšnih dogovorov, bodo naši programi preglednejši tako za nas, kot za druge, ki upoštevajo enaka pravila pisanja in bodo morali brati naše programe za nami.\n",
    "\n",
    "<h2>Poglavje polno napak</h2>\n",
    "\n",
    "\"Vsak, kdor dela, dela tudi napake,\" se je jež poklapano opravičil krtači. Čeprav nobenega omemba vrednega kosa programa, daljšega od, recimo, 20 vrstic, ne napišemo brez vsaj ene resne napake. Pravzaprav tudi jaz, ki sem kar usposobljen programer, večine časa ne preživim ob programiranju, temveč ob iskanju napak v tem, kar sem pravkar sprogramiral. Začetni tečaji programiranja pa navadno ne posvečajo napakam nobene resne pozornosti. Tu te napake ne bomo ponovili, zato kar takoj naredimo nekaj napak.\n",
    "\n",
    "Postavimo, najprej, `a` na `7` in izračunajmo `a + b`."
   ]
  },
  {
   "cell_type": "code",
   "execution_count": 12,
   "metadata": {},
   "outputs": [
    {
     "ename": "NameError",
     "evalue": "name 'b' is not defined",
     "output_type": "error",
     "traceback": [
      "\u001b[0;31m---------------------------------------------------------------------------\u001b[0m",
      "\u001b[0;31mNameError\u001b[0m                                 Traceback (most recent call last)",
      "\u001b[0;32m<ipython-input-12-3ef3835d0b71>\u001b[0m in \u001b[0;36m<module>\u001b[0;34m\u001b[0m\n\u001b[1;32m      1\u001b[0m \u001b[0ma\u001b[0m \u001b[0;34m=\u001b[0m \u001b[0;36m7\u001b[0m\u001b[0;34m\u001b[0m\u001b[0;34m\u001b[0m\u001b[0m\n\u001b[0;32m----> 2\u001b[0;31m \u001b[0ma\u001b[0m \u001b[0;34m+\u001b[0m \u001b[0mb\u001b[0m\u001b[0;34m\u001b[0m\u001b[0;34m\u001b[0m\u001b[0m\n\u001b[0m",
      "\u001b[0;31mNameError\u001b[0m: name 'b' is not defined"
     ]
    }
   ],
   "source": [
    "a = 7\n",
    "a + b"
   ]
  },
  {
   "cell_type": "markdown",
   "metadata": {},
   "source": [
    "Kadar Python česa ne more storiti, izpiše sporočilo o napaki. Ko bomo programirali zares, bomo videli tudi daljša, ki jih bomo težje razumeli, tole pa je preprosto: `name 'b' is not defined`. Pozabili smo *definirati* `b`, pozabili smo mu dati vrednost.\n",
    "\n",
    "Kaj pa tole?"
   ]
  },
  {
   "cell_type": "code",
   "execution_count": 13,
   "metadata": {},
   "outputs": [
    {
     "ename": "SyntaxError",
     "evalue": "can't assign to literal (<ipython-input-13-409be5c547e9>, line 1)",
     "output_type": "error",
     "traceback": [
      "\u001b[0;36m  File \u001b[0;32m\"<ipython-input-13-409be5c547e9>\"\u001b[0;36m, line \u001b[0;32m1\u001b[0m\n\u001b[0;31m    7 = a\u001b[0m\n\u001b[0m         ^\u001b[0m\n\u001b[0;31mSyntaxError\u001b[0m\u001b[0;31m:\u001b[0m can't assign to literal\n"
     ]
    }
   ],
   "source": [
    "7 = a"
   ]
  },
  {
   "cell_type": "markdown",
   "metadata": {},
   "source": [
    "Človek, vajen matematike, bi si mislil, da je `a = 7` in `7 = a` eno in isto. V matematiki da, pri programiranju (v normalnih jezikih) pa ne, saj enačaj pomeni prirejanje; v prvem primeru priredimo `a`-ju 7, v drugem primeru pa hočemo sedmici prirediti `a`, kar seveda ne gre. To ima natanko toliko smisla, kot če bi napisali `1 = 2`. (Še več, Python nas bo po prstih celo, če bomo napisali `1 = 1`. Ena je ena, to bo ostala in se ne bo spremenila, niti v ena ne.) Sporočila o napaki tokrat ne razumemo povsem, saj ne vemo, kaj je \"literal\", osnovno sporočilo, \"can't assign\", pa je jasno.\n",
    "\n",
    "Pridelajmo še eno napako."
   ]
  },
  {
   "cell_type": "code",
   "execution_count": 14,
   "metadata": {},
   "outputs": [
    {
     "ename": "SyntaxError",
     "evalue": "can't assign to keyword (<ipython-input-14-abb8adb6eb95>, line 1)",
     "output_type": "error",
     "traceback": [
      "\u001b[0;36m  File \u001b[0;32m\"<ipython-input-14-abb8adb6eb95>\"\u001b[0;36m, line \u001b[0;32m1\u001b[0m\n\u001b[0;31m    True = 12\u001b[0m\n\u001b[0m             ^\u001b[0m\n\u001b[0;31mSyntaxError\u001b[0m\u001b[0;31m:\u001b[0m can't assign to keyword\n"
     ]
    }
   ],
   "source": [
    "True = 12"
   ]
  },
  {
   "cell_type": "markdown",
   "metadata": {},
   "source": [
    "Beseda `True` ima poseben pomen in je ni mogoče uporabljati kot spremenljivko. Takšnim besedam pravimo ključne besede, ali, kot bi jim rekel John Kennedy, če bi bil še živ, *keywords*. Tokrat je bil Python še prijazen, pri večini drugih ključnih besed pa ne bo povedal kaj dosti več kot \"nekaj je narobe\". Poskusimo z dvema, `if` in `in`:"
   ]
  },
  {
   "cell_type": "code",
   "execution_count": 15,
   "metadata": {},
   "outputs": [
    {
     "ename": "SyntaxError",
     "evalue": "invalid syntax (<ipython-input-15-9b6cbf7468bb>, line 1)",
     "output_type": "error",
     "traceback": [
      "\u001b[0;36m  File \u001b[0;32m\"<ipython-input-15-9b6cbf7468bb>\"\u001b[0;36m, line \u001b[0;32m1\u001b[0m\n\u001b[0;31m    if = 7\u001b[0m\n\u001b[0m       ^\u001b[0m\n\u001b[0;31mSyntaxError\u001b[0m\u001b[0;31m:\u001b[0m invalid syntax\n"
     ]
    }
   ],
   "source": [
    "if = 7"
   ]
  },
  {
   "cell_type": "code",
   "execution_count": 16,
   "metadata": {},
   "outputs": [
    {
     "ename": "SyntaxError",
     "evalue": "invalid syntax (<ipython-input-16-b1a7fdba72f5>, line 1)",
     "output_type": "error",
     "traceback": [
      "\u001b[0;36m  File \u001b[0;32m\"<ipython-input-16-b1a7fdba72f5>\"\u001b[0;36m, line \u001b[0;32m1\u001b[0m\n\u001b[0;31m    in = 7\u001b[0m\n\u001b[0m     ^\u001b[0m\n\u001b[0;31mSyntaxError\u001b[0m\u001b[0;31m:\u001b[0m invalid syntax\n"
     ]
    }
   ],
   "source": [
    "in = 7"
   ]
  },
  {
   "cell_type": "markdown",
   "metadata": {},
   "source": [
    "Sporočilo \"invalid syntax\" pomeni, da smo napisali nekaj tako čudnega, da Python ne more uganiti, kaj smo mislili in nam lahko le pokaže tisto mesto, na katerem je dokončno obupal nad nami.\n",
    "\n",
    "Morda je koga zaskrbelo, da nam bodo takšne, rezervirane besede v stalno napoto. Bi se dalo videti spisek? Ne bo hudega. Python 3.7 jih ima 35 (naraščanje je počasno: v zadnjih desetih letih je dobil le dve novi) in zelo hitro bomo mimogrede spoznali in uporabljali skoraj vse. Že od naslednjih predavanj naprej vam ne bo prišlo na misel, da bi uporabili `if` kot ime spremenljivke in še kak teden kasneje vam bo stavek `if = 1` videti grotesken. (Vsaj mene zabolijo oči, ko ga pogledam in prsti se upirajo temu, da bi sploh natipkali kaj takšnega.) Spisek? Ne bom vas strašil z njim, lahko pa si pomagate z Googleom, če hočete. A ni potrebe.\n",
    "\n",
    "\n",
    "## Moj kalkulator ima tudi funkcije\n",
    "\n",
    "Tako kot spremenljivke, ki v programiranju ne pomenijo čisto istega kot v matematiki in v programiranju ne pomenijo čisto istega, tudi beseda *funkcija* (Rihanna bi rekla *function*, če bi znala programirati) ne pomeni povsem istega. Videti pa je zelo podobno. Imamo, recimo, funkcijo `abs`, ki izračuna absolutno vrednost števila."
   ]
  },
  {
   "cell_type": "code",
   "execution_count": 17,
   "metadata": {},
   "outputs": [
    {
     "data": {
      "text/plain": [
       "2.8"
      ]
     },
     "execution_count": 17,
     "metadata": {},
     "output_type": "execute_result"
    }
   ],
   "source": [
    "abs(-2.8)"
   ]
  },
  {
   "cell_type": "markdown",
   "metadata": {},
   "source": [
    "Ali pa `pow`, ki naredi isto kot operator `**`."
   ]
  },
  {
   "cell_type": "code",
   "execution_count": 18,
   "metadata": {},
   "outputs": [
    {
     "data": {
      "text/plain": [
       "8"
      ]
     },
     "execution_count": 18,
     "metadata": {},
     "output_type": "execute_result"
    }
   ],
   "source": [
    "pow(2, 3)"
   ]
  },
  {
   "cell_type": "markdown",
   "metadata": {},
   "source": [
    "Ob `pow` omenimo, da je bolj običajno pišemo `2 ** 3` in ne `pow(2, 3)`. Funkcija `pow` ima skrite moči in uporabljamo jo le takrat, ko jih potrebujemo.\n",
    "\n",
    "Za razliko od matematikov, ki na funkcijo gledajo kot da *ima določeno vrednost pri določenih parametrih*, računalnik *izračuna vrednost funkcije*, za kar moramo *poklicati funkcijo*. Se pravi, v zadnji vrstici smo *poklicali* funkcijo `pow` in ji *podali* dva *argumenta*, 2 in 3. Funkcija je izračunala vrednost in jo *vrnila*.\n",
    "\n",
    "Tudi klic funkcije, `pow(2, 3)`, je izraz. Kot katerikoli drugi izraz lahko tudi `pow` in `abs` nastopata kot del izraza."
   ]
  },
  {
   "cell_type": "code",
   "execution_count": 19,
   "metadata": {},
   "outputs": [
    {
     "data": {
      "text/plain": [
       "2.0"
      ]
     },
     "execution_count": 19,
     "metadata": {},
     "output_type": "execute_result"
    }
   ],
   "source": [
    "(pow(2, 3) + 2) / 5"
   ]
  },
  {
   "cell_type": "code",
   "execution_count": 20,
   "metadata": {},
   "outputs": [
    {
     "data": {
      "text/plain": [
       "10"
      ]
     },
     "execution_count": 20,
     "metadata": {},
     "output_type": "execute_result"
    }
   ],
   "source": [
    "pow(2, 3) + abs(-2)"
   ]
  },
  {
   "cell_type": "markdown",
   "metadata": {},
   "source": [
    "In argumenti funkcij so lahko prav tako izrazi."
   ]
  },
  {
   "cell_type": "code",
   "execution_count": 21,
   "metadata": {},
   "outputs": [
    {
     "data": {
      "text/plain": [
       "8"
      ]
     },
     "execution_count": 21,
     "metadata": {},
     "output_type": "execute_result"
    }
   ],
   "source": [
    "x = 1\n",
    "yy = pow(abs(-2), x * 3)\n",
    "yy"
   ]
  },
  {
   "cell_type": "markdown",
   "metadata": {},
   "source": [
    "Funkcije so v resnici zelo pomembna reč. Python ima milijone in milijone funkcij (ne pretiravam, samo en detajl sem zamolčal). Za vsako reč, ki si jo zamislite, obstaja funkcija. Obstaja funkcija, ki bo, če jo pokličete, poslala mail osebi, katere naslov podate kot argument in z vsebino, ki jo podate kot argument. Obstaja funkcija, ki izriše ali pokaže sliko. Funkcija, ki odpre Excel in funkcija, ki piše po njem. S Pythonom lahko naredimo karkoli, le ime funkcije moramo poznati. (Kot rečeno, izpuščam detajle.)\n",
    "\n",
    "\n",
    "## Nizi\n",
    "\n",
    "Nas še vedno muči radovednost o tem, kakšne podatkovne tipe, poleg številskih, še imamo? Ker radovednost ni lepa čednost, jo bomo najlažje odpravili tako, da jo potešimo. Vsaj malo. (\"Skušnjavo najlažje premagaš tako, da ji podležeš,\" je modroval Oscar Wilde. Res pa je, da so ga potem aretirali in zaprli.) Spoznajmo vsaj še en bolj zapleten podatkovni tip: niz.\n",
    "\n",
    "Niz ali, po kot mu pravijo Avstralci, *string* (oprostite mi boste morali, da bom pogosto uporabljal angleške izraze; pa mi pokažite, lepo prosim, zidarja, ki ne uporablja vaservage in plajbe temveč vodno tehtnico in svinčnico, pa se bom tudi jaz discipliniral), je zaporedje znakov. Aha, kaj pa je to znak? Znaki so črke, številke, ločila in take stvari. Nize moramo vedno zapreti v narekovaje, bodisi enojne (') bodisi dvojne (\"). Uporabiti smemo take, ki so bolj praktični in tudi Python bo izpisoval tako, kot se mu bo zdelo bolj praktično."
   ]
  },
  {
   "cell_type": "code",
   "execution_count": 22,
   "metadata": {},
   "outputs": [
    {
     "data": {
      "text/plain": [
       "'Tole je primer niza.'"
      ]
     },
     "execution_count": 22,
     "metadata": {},
     "output_type": "execute_result"
    }
   ],
   "source": [
    "'Tole je primer niza.'"
   ]
  },
  {
   "cell_type": "code",
   "execution_count": 23,
   "metadata": {},
   "outputs": [
    {
     "data": {
      "text/plain": [
       "'Tole je pa še en primer niza.'"
      ]
     },
     "execution_count": 23,
     "metadata": {},
     "output_type": "execute_result"
    }
   ],
   "source": [
    "\"Tole je pa še en primer niza.\""
   ]
  },
  {
   "cell_type": "markdown",
   "metadata": {},
   "source": [
    "Tudi ko smo niz zaprli v dvojne narekovaje, je Python izpisal enojne. V resnici mu je vseeno. (V nekaterih jezikih imajo različni narekovaji povsem ali pa vsaj nekoliko različen pomen. V Pythonu ne, pač pa različne pomene, kot bomo videli, dosežemo tako, da prednje postavimo kak primeren znak.)\n",
    "\n",
    "Tudi nize lahko priredimo spremenljivkam."
   ]
  },
  {
   "cell_type": "code",
   "execution_count": 24,
   "metadata": {},
   "outputs": [
    {
     "data": {
      "text/plain": [
       "'Jutri bosta matematika pa dež'"
      ]
     },
     "execution_count": 24,
     "metadata": {},
     "output_type": "execute_result"
    }
   ],
   "source": [
    "napoved = \"Jutri bosta matematika pa dež\"\n",
    "napoved"
   ]
  },
  {
   "cell_type": "markdown",
   "metadata": {},
   "source": [
    "Celo seštevamo jih lahko."
   ]
  },
  {
   "cell_type": "code",
   "execution_count": 25,
   "metadata": {},
   "outputs": [
    {
     "data": {
      "text/plain": [
       "'Jutri bosta matematika pa dež'"
      ]
     },
     "execution_count": 25,
     "metadata": {},
     "output_type": "execute_result"
    }
   ],
   "source": [
    "\"Jutri bosta \" + \"matematika\" + \" pa \" + \"dež\""
   ]
  },
  {
   "cell_type": "markdown",
   "metadata": {},
   "source": [
    "Ali pa oboje"
   ]
  },
  {
   "cell_type": "code",
   "execution_count": 26,
   "metadata": {},
   "outputs": [
    {
     "data": {
      "text/plain": [
       "'Jutri bosta matematika pa dez'"
      ]
     },
     "execution_count": 26,
     "metadata": {},
     "output_type": "execute_result"
    }
   ],
   "source": [
    "napoved_zac = \"Jutri bosta \"\n",
    "mat = \"matematika\"\n",
    "dez = \"dez\"\n",
    "napoved_zac + mat + \" pa \" + dez"
   ]
  },
  {
   "cell_type": "markdown",
   "metadata": {},
   "source": [
    "Kako zapleten račun! Predvsem ne spreglejte, da smo dali besedo \"pa\" pod narekovaje, saj so `napoved_zac`, `mat`, `dez` spremenljivke (ki so v resnici nizi), `\" pa \"` pa je niz kar tako. To je nekako tako, kot če bi, ko smo se igrali s številkami, pisali"
   ]
  },
  {
   "cell_type": "code",
   "execution_count": 27,
   "metadata": {},
   "outputs": [
    {
     "data": {
      "text/plain": [
       "6"
      ]
     },
     "execution_count": 27,
     "metadata": {},
     "output_type": "execute_result"
    }
   ],
   "source": [
    "x = 1\n",
    "y = 3\n",
    "x + 2 + y"
   ]
  },
  {
   "cell_type": "markdown",
   "metadata": {},
   "source": [
    "V zadnji vrstici sta `x` in `y` sta spremenljivki (ki sta v resnici številki), `2` pa je številka kar tako.\n",
    "\n",
    "Kaj pa, če bi slučajno pozabili narekovaje?"
   ]
  },
  {
   "cell_type": "code",
   "execution_count": 28,
   "metadata": {},
   "outputs": [
    {
     "ename": "NameError",
     "evalue": "name 'pa' is not defined",
     "output_type": "error",
     "traceback": [
      "\u001b[0;31m---------------------------------------------------------------------------\u001b[0m",
      "\u001b[0;31mNameError\u001b[0m                                 Traceback (most recent call last)",
      "\u001b[0;32m<ipython-input-28-a10a1af57195>\u001b[0m in \u001b[0;36m<module>\u001b[0;34m\u001b[0m\n\u001b[0;32m----> 1\u001b[0;31m \u001b[0mnapoved_zac\u001b[0m \u001b[0;34m+\u001b[0m \u001b[0mmat\u001b[0m \u001b[0;34m+\u001b[0m  \u001b[0mpa\u001b[0m  \u001b[0;34m+\u001b[0m \u001b[0mdez\u001b[0m\u001b[0;34m\u001b[0m\u001b[0;34m\u001b[0m\u001b[0m\n\u001b[0m",
      "\u001b[0;31mNameError\u001b[0m: name 'pa' is not defined"
     ]
    }
   ],
   "source": [
    "napoved_zac + mat +  pa  + dez"
   ]
  },
  {
   "cell_type": "markdown",
   "metadata": {},
   "source": [
    "Jasno? Brez narekovajev je `pa` ime spremenljivke - in to takšne, ki še ni definirana. To je tako, kot če bi namesto"
   ]
  },
  {
   "cell_type": "code",
   "execution_count": 29,
   "metadata": {},
   "outputs": [],
   "source": [
    "ime = \"Benjamin\""
   ]
  },
  {
   "cell_type": "markdown",
   "metadata": {},
   "source": [
    "kar je pravilno, rekli"
   ]
  },
  {
   "cell_type": "code",
   "execution_count": 30,
   "metadata": {},
   "outputs": [
    {
     "ename": "NameError",
     "evalue": "name 'Benjamin' is not defined",
     "output_type": "error",
     "traceback": [
      "\u001b[0;31m---------------------------------------------------------------------------\u001b[0m",
      "\u001b[0;31mNameError\u001b[0m                                 Traceback (most recent call last)",
      "\u001b[0;32m<ipython-input-30-149e124aca6f>\u001b[0m in \u001b[0;36m<module>\u001b[0;34m\u001b[0m\n\u001b[0;32m----> 1\u001b[0;31m \u001b[0mime\u001b[0m \u001b[0;34m=\u001b[0m \u001b[0mBenjamin\u001b[0m\u001b[0;34m\u001b[0m\u001b[0;34m\u001b[0m\u001b[0m\n\u001b[0m",
      "\u001b[0;31mNameError\u001b[0m: name 'Benjamin' is not defined"
     ]
    }
   ],
   "source": [
    "ime = Benjamin"
   ]
  },
  {
   "cell_type": "markdown",
   "metadata": {},
   "source": [
    "Ali pa:"
   ]
  },
  {
   "cell_type": "code",
   "execution_count": 31,
   "metadata": {},
   "outputs": [
    {
     "ename": "SyntaxError",
     "evalue": "invalid syntax (<ipython-input-31-dd46811d55c1>, line 1)",
     "output_type": "error",
     "traceback": [
      "\u001b[0;36m  File \u001b[0;32m\"<ipython-input-31-dd46811d55c1>\"\u001b[0;36m, line \u001b[0;32m1\u001b[0m\n\u001b[0;31m    napoved = Jutri bosta matametika pa dež\u001b[0m\n\u001b[0m                        ^\u001b[0m\n\u001b[0;31mSyntaxError\u001b[0m\u001b[0;31m:\u001b[0m invalid syntax\n"
     ]
    }
   ],
   "source": [
    "napoved = Jutri bosta matametika pa dež"
   ]
  },
  {
   "cell_type": "markdown",
   "metadata": {},
   "source": [
    "Tule računalnik trpi še bolj. Ne le, da so `Jutri`, `bosta`, `matematika`, `pa` in\n",
    "`dež` nedefinirane spremenljivke (ker so pač brez narekovajev),računalnik tudi nima pojma, kaj hočemo pravzapravz početi z njimi, čemu mu naštevamo imena nekih spremenljivk. Jih hočemo sešteti ali zmnožiti ali kaj? Kot vedno, kadar računalniku napišemo kaj zares zmedenega, nam zastoka le \"syntax error\" in pokaže mesto, kjer se je dokončno izgubil.\n",
    "\n",
    "Gornje je tako, kot da bi rekli"
   ]
  },
  {
   "cell_type": "code",
   "execution_count": 32,
   "metadata": {},
   "outputs": [
    {
     "ename": "SyntaxError",
     "evalue": "invalid syntax (<ipython-input-32-8236878fd6a9>, line 4)",
     "output_type": "error",
     "traceback": [
      "\u001b[0;36m  File \u001b[0;32m\"<ipython-input-32-8236878fd6a9>\"\u001b[0;36m, line \u001b[0;32m4\u001b[0m\n\u001b[0;31m    x y z\u001b[0m\n\u001b[0m      ^\u001b[0m\n\u001b[0;31mSyntaxError\u001b[0m\u001b[0;31m:\u001b[0m invalid syntax\n"
     ]
    }
   ],
   "source": [
    "x = 1\n",
    "y = 2\n",
    "z = 3\n",
    "x y z"
   ]
  },
  {
   "cell_type": "markdown",
   "metadata": {},
   "source": [
    "Ubogemu računalniku pač ni jasno, kaj bi z `x`, `y` in `z` ter zakaj mu jih naštevamo.\n",
    "\n",
    "<small>Tiste, ki so ob vpisu na fakulteto nihali med računalništvom in slavistiko, je nemara zbodlo, da sem pisal \"Jutri bo matematika pa dež\". Mar ne bi bilo lepše (in bolj prav) \"matematika in dež\". Ponovite vse, kar smo napisali zgoraj, z `in`, pa boste videli, čemu. Za jezikovno okornost se seveda opravičujem, ampak z `in` tale primer ne bi deloval.</small>\n",
    "\n",
    "Zakaj pa smo prejle rekli, da uporabimo tiste narekovaje, ki so bolj *praktični*? Čemu bi bili kakšni narekovaji bolj praktični od drugih?"
   ]
  },
  {
   "cell_type": "code",
   "execution_count": 33,
   "metadata": {},
   "outputs": [
    {
     "ename": "SyntaxError",
     "evalue": "invalid syntax (<ipython-input-33-e7b97c04099d>, line 1)",
     "output_type": "error",
     "traceback": [
      "\u001b[0;36m  File \u001b[0;32m\"<ipython-input-33-e7b97c04099d>\"\u001b[0;36m, line \u001b[0;32m1\u001b[0m\n\u001b[0;31m    \"Cesar vpraša nekoliko nevoljen: \"Kaj neki?\"\"\u001b[0m\n\u001b[0m                                        ^\u001b[0m\n\u001b[0;31mSyntaxError\u001b[0m\u001b[0;31m:\u001b[0m invalid syntax\n"
     ]
    }
   ],
   "source": [
    "\"Cesar vpraša nekoliko nevoljen: \"Kaj neki?\"\""
   ]
  },
  {
   "cell_type": "markdown",
   "metadata": {},
   "source": [
    "Ni potrebno biti posebno pameten, da vidimo, kaj ga je (namreč Pythona, ne cesarja) onesrečilo tokrat. Ko vidi prvi narekovaj, ve, da gre za niz. Ko pride do naslednjega narekovaja, se niz, tako méni, niz konča. In potem se seveda zmede, ker nizu sledi nekaj, kar ni podobno ničemur. Zdaj pa poskusimo z enojnimi narekovaji."
   ]
  },
  {
   "cell_type": "code",
   "execution_count": 34,
   "metadata": {},
   "outputs": [
    {
     "data": {
      "text/plain": [
       "'Cesar vpraša nekoliko nevoljen: \"Kaj neki?\"'"
      ]
     },
     "execution_count": 34,
     "metadata": {},
     "output_type": "execute_result"
    }
   ],
   "source": [
    "'Cesar vpraša nekoliko nevoljen: \"Kaj neki?\"'"
   ]
  },
  {
   "cell_type": "markdown",
   "metadata": {},
   "source": [
    "Ker se niz začne z enojnim narekovajem, se bo s takim tudi končal in vsi dvojni narekovaji znotraj niza so samo znaki kot katerikoli drugi - tako kot recimo dvopičje in vprašaj. O tej temi bi lahko napisali še marsikaj, vendar se za zdaj ustavimo.\n",
    "\n",
    "\n",
    "## Iz nizov v števila\n",
    "\n",
    "Da se reč usede, meditirajmo ob naslednjih vrsticah:"
   ]
  },
  {
   "cell_type": "code",
   "execution_count": 35,
   "metadata": {},
   "outputs": [],
   "source": [
    "a = 1 + 1\n",
    "b = \"1 + 1\"\n",
    "c = \"1\" + \"1\""
   ]
  },
  {
   "cell_type": "markdown",
   "metadata": {},
   "source": [
    "Kakšne so po tem vrednosti spremenljivk `a`, `b` in `c`? Sploh pa, je vse troje legalno ali pa bo Python spet kaj stokal?\n",
    "\n",
    "V prvo nimamo dvomov, vrednost `a` mora biti enaka 2 (in tudi je). Drugo? `\"1 + 1\"` je niz; spremenljivki `b` smo priredili niz `\"1 +1\"`, torej vsebuje ta niz. In ne niza 2? Ne, nihče mu ni naročil, naj poskuša izračunati, koliko je 1 + 1, tako kot pravzprav tudi v `ime = \"Benjamin\"` ne poskuša izračunati, \"koliko\" je Benjamin. `\"1 + 1\"` je niz, kot vsak drugi, čeprav je slučajno podoben računu.\n",
    "\n",
    "Najbolj zanimivo je tretje. Preden razrešimo vprašanje, se vprašajmo nekaj drugega. Recimo"
   ]
  },
  {
   "cell_type": "code",
   "execution_count": 36,
   "metadata": {},
   "outputs": [],
   "source": [
    "ana = \"Ana\"\n",
    "benjamin = \"Benjamin\"\n",
    "r = ana + benjamin"
   ]
  },
  {
   "cell_type": "markdown",
   "metadata": {},
   "source": [
    "Kaj dobimo, če seštejemo Ano in Benjamina. (Tončka? Brez duhovičenja, to so resne reči.) Spremenljivka `r` bo imela vrednost `\"AnaBenjamin\"`. Glede tega smo si menda enotni, ne?    (Ako kdo misli, da bomo dobili `\"Benjamin Ana\"`, saj smo tudi poprej imeli presledke ob oni študijsko-vremenski napovedi, naj pozorno pregleda, kaj smo pisali ondi: vse presledke smo napisali sami.)\n",
    "\n",
    "No, potem pa vemom: ko seštejemo *niza* \"1\" in \"1\" niz \"11\". \"1\" in \"1\" torej ni \"2\", temveč \"11\".\n",
    "\n",
    "Nikar ne zamudimo priložnosti za še eno napako!"
   ]
  },
  {
   "cell_type": "code",
   "execution_count": 37,
   "metadata": {},
   "outputs": [
    {
     "ename": "TypeError",
     "evalue": "unsupported operand type(s) for +: 'int' and 'str'",
     "output_type": "error",
     "traceback": [
      "\u001b[0;31m---------------------------------------------------------------------------\u001b[0m",
      "\u001b[0;31mTypeError\u001b[0m                                 Traceback (most recent call last)",
      "\u001b[0;32m<ipython-input-37-b780703cc5f9>\u001b[0m in \u001b[0;36m<module>\u001b[0;34m\u001b[0m\n\u001b[0;32m----> 1\u001b[0;31m \u001b[0;36m1\u001b[0m \u001b[0;34m+\u001b[0m \u001b[0;34m\"1\"\u001b[0m\u001b[0;34m\u001b[0m\u001b[0;34m\u001b[0m\u001b[0m\n\u001b[0m",
      "\u001b[0;31mTypeError\u001b[0m: unsupported operand type(s) for +: 'int' and 'str'"
     ]
    }
   ],
   "source": [
    "1 + \"1\""
   ]
  },
  {
   "cell_type": "markdown",
   "metadata": {},
   "source": [
    "Seštevanje je operacija, zato tistemu, kar je levo in desno od `+` pravimo operanda. Sporočilo pravi, da operator `+` ne podpira operandov tipov `int` in `str` (`str` je\n",
    "podatkovni tip, ki predstavlja nize). Dve števili ali dva niza bi znal sešteti, te kombinacije pa ne. Mimogrede, obratni vrstni red da nekoliko drugačno sporočilo:"
   ]
  },
  {
   "cell_type": "code",
   "execution_count": 38,
   "metadata": {},
   "outputs": [
    {
     "ename": "TypeError",
     "evalue": "can only concatenate str (not \"int\") to str",
     "output_type": "error",
     "traceback": [
      "\u001b[0;31m---------------------------------------------------------------------------\u001b[0m",
      "\u001b[0;31mTypeError\u001b[0m                                 Traceback (most recent call last)",
      "\u001b[0;32m<ipython-input-38-ec358fc6499a>\u001b[0m in \u001b[0;36m<module>\u001b[0;34m\u001b[0m\n\u001b[0;32m----> 1\u001b[0;31m \u001b[0;34m\"1\"\u001b[0m \u001b[0;34m+\u001b[0m \u001b[0;36m1\u001b[0m\u001b[0;34m\u001b[0m\u001b[0;34m\u001b[0m\u001b[0m\n\u001b[0m",
      "\u001b[0;31mTypeError\u001b[0m: can only concatenate str (not \"int\") to str"
     ]
    }
   ],
   "source": [
    "\"1\" + 1"
   ]
  },
  {
   "cell_type": "markdown",
   "metadata": {},
   "source": [
    "Stikanje (*concatenation*) je le drugo ime za seštevanje nizov; sporočilo pravi, da ne moremo stakniti niza in števila. Na to napako boste v prvih dveh tednih vaj pogosto naleteli, tako da bodite pripravljeni. Kasneje bomo delali drugačne stvari in bo šlo mimo.\n",
    "\n",
    "\n",
    "Ker nam bo prišlo vsak čas prav, povejmo, kako iz niza dobimo število. Recimo, torej, da imamo `a = \"1\"` in `b = \"2\"`. Radi bi ju sešteli - vendar zares, tako da bomo dobili 3, ne \"12\". Za to ju moramo najprej (ali pa sproti) spremeniti v števili. Iz niza dobimo število tako, da pokličemo \"funkcijo\" `int` ali `float`; obe funkciji pričakujeta kot argument niz, ki vsebuje neko število in kot rezultat vrneta celo (`int`) ali realno (`float`)\n",
    "število. (Tole bi se spodobilo in bilo pravično povedati: `int` in `float` v resnici nista funkciji, temveč nekaj drugega, a za potrebe prvih toliko in toliko predavanj, se bomo držali Pythonovega načela \"Če hodi kot raca in gaga kot raca, potem je raca\", ki bo postalo pomembno proti koncu semestra; če se obnašata kot funkciji, ju bomo brez slabe vesti oklicali za funkciji.)"
   ]
  },
  {
   "cell_type": "code",
   "execution_count": 39,
   "metadata": {},
   "outputs": [
    {
     "data": {
      "text/plain": [
       "42"
      ]
     },
     "execution_count": 39,
     "metadata": {},
     "output_type": "execute_result"
    }
   ],
   "source": [
    "int(\"42\")"
   ]
  },
  {
   "cell_type": "code",
   "execution_count": 40,
   "metadata": {},
   "outputs": [
    {
     "data": {
      "text/plain": [
       "42.0"
      ]
     },
     "execution_count": 40,
     "metadata": {},
     "output_type": "execute_result"
    }
   ],
   "source": [
    "float(\"42\")"
   ]
  },
  {
   "cell_type": "markdown",
   "metadata": {},
   "source": [
    "Kar želimo, storimo na tri načine, vsak bo poučen po svoje. Prvi:"
   ]
  },
  {
   "cell_type": "code",
   "execution_count": 41,
   "metadata": {},
   "outputs": [
    {
     "data": {
      "text/plain": [
       "3"
      ]
     },
     "execution_count": 41,
     "metadata": {},
     "output_type": "execute_result"
    }
   ],
   "source": [
    "a = \"1\"\n",
    "b = \"2\"\n",
    "\n",
    "aa = int(a)\n",
    "bb = int(b)\n",
    "aa + bb"
   ]
  },
  {
   "cell_type": "markdown",
   "metadata": {},
   "source": [
    "Naredili smo dve novi spremenljivki, `aa` in `bb`, ki vsebujeta vrednosti `a` in `b`, pretvorjeni v števila. Nato ju seštejemo.\n",
    "\n",
    "Drugi:"
   ]
  },
  {
   "cell_type": "code",
   "execution_count": 42,
   "metadata": {},
   "outputs": [
    {
     "data": {
      "text/plain": [
       "3"
      ]
     },
     "execution_count": 42,
     "metadata": {},
     "output_type": "execute_result"
    }
   ],
   "source": [
    "a = \"1\"\n",
    "b = \"2\"\n",
    "\n",
    "a = int(a)\n",
    "b = int(b)\n",
    "a + b"
   ]
  },
  {
   "cell_type": "markdown",
   "metadata": {},
   "source": [
    "Tole je podobno kot prej, le da smo povozili stare vrednosti `a` in `b` z novimi, številskimi, namesto da bi števila zapisovali v druge spremenljivke.\n",
    "\n",
    "<small>Samo za tiste, ki že znate programirati, a ne v Pythonu: po izkušnjah iz preteklih let, se tule začne polovica predavalnice praskati po glavi, pogumnejši pa se začnejo oglašati, da je Python čuden jezik oziroma, z generaciji lastnejšimi besedami, *kr neki*. To, da tipov spremenljivk ni potrebno deklarirati, so še nekako požrli. Ampak tole tule je pa višek, pravijo: je `a` tipa niz ali število? No, na srečo se lahko skličem na to, kar sem polagal v srce ob prireditvenem stavku: prirejanje priredi imenu neko vrednost. Predvsem pa Python nima spremenljivk v takem pomenu besede, kot ste jih vajeni iz Jave, C# ali C++, temveč ima imena za objekte. Prirejanje `a = \"1\"` priredi imenu `a` niz \"1\". Prirejanje `a = int(a)` priredi imenu `a` številko 1. Ime `a` se po tem pač ne nanaša več na nek niz temveč na neko število. Python nima spremenljivk, temveč imena. In imena nimajo tipov.</small>\n",
    "\n",
    "\n",
    "Tretji:"
   ]
  },
  {
   "cell_type": "code",
   "execution_count": 43,
   "metadata": {},
   "outputs": [
    {
     "data": {
      "text/plain": [
       "3"
      ]
     },
     "execution_count": 43,
     "metadata": {},
     "output_type": "execute_result"
    }
   ],
   "source": [
    "a = \"1\"\n",
    "b = \"2\"\n",
    "\n",
    "int(a) + int(b)"
   ]
  },
  {
   "cell_type": "markdown",
   "metadata": {},
   "source": [
    "Ker je `int` funkcija, lahko nastopa v izrazu; potrebe, da bi prepisovali številke v kake nove ali stare spremenljivke, niti ni.\n",
    "\n",
    "\n",
    "## Vpis in izpis\n",
    "\n",
    "Doslej smo z računalnikom komunicirali tako, da smo tipkali ukaze v *ukazno vrstico* in če je imela reč kak rezultat (kot ima izraz `1 + 1` rezultat `2`), ga je računalnik izpisal. Ukazna vrstica nam v Pythonu pogosto pride prav za kakšna preskušanja, ko programiramo zares, pa komunikacija z uporabnikom poteka drugače. Če hočemo, da računalnik kaj izpiše, mu moramo to posebej reči. Se pravi, ko bomo programirali, ne bomo napisali le `1 + 1` temveč \"izpiši, koliko je 1 + 1\".\n",
    "\n",
    "Rekli smo, da funkcije pri programiranju niso nekaj takšnega kot funkcije v matematiki: funkcije v matematiki imajo določeno vrednost pri določenih argumentih (še huje, matematiki pravijo, da so funkcije pravilo, ki vsakemu elementu kodomene funkcije določi ... uh, pustimo). \"Naše\" funkcije pa nekaj delajo in včasih vrnejo kakšen rezultat, recimo številko ali niz ali kaj tretjega. Ena od teh funkcij je namenjena izpisovanju: če jo pokličemo, izpiše tisto, kar smo ji dali kot argument. Imenuje se `print`. Za razliko od, recimo, `abs`, ki zahteva en argument, namreč poljubno število, in vrne njegovo absolutno vrednost, ali `pow`, ki hoče natanko dva argumenta, lahko damo `print`u poljubno število argumentov - številke, nize ali še kaj tretjega -, pa jih bo lepo izpisala."
   ]
  },
  {
   "cell_type": "code",
   "execution_count": 44,
   "metadata": {},
   "outputs": [
    {
     "name": "stdout",
     "output_type": "stream",
     "text": [
      "2 27 benjamin\n"
     ]
    }
   ],
   "source": [
    "print(1 + 1, 27, \"benjamin\")"
   ]
  },
  {
   "cell_type": "code",
   "execution_count": 45,
   "metadata": {},
   "outputs": [
    {
     "name": "stdout",
     "output_type": "stream",
     "text": [
      "Jutri bosta  matematika pa dez in 18 stopinj\n"
     ]
    }
   ],
   "source": [
    "print(napoved_zac, mat, \"pa\", dez, \"in\", 18, \"stopinj\")"
   ]
  },
  {
   "cell_type": "markdown",
   "metadata": {},
   "source": [
    "Med reči, ki jih izpiše, bo `print`, če ne zahtevamo drugače, postavil presledke.\n",
    "\n",
    "Druga funkcija, ki nam bo prišla prav, prosi uporabnika, da vpiše kako reč. Kot argument pričakuje niz, vprašanje, ki ga želimo zastaviti uporabniku. Kot rezultat \"izračuna\" vrne niz, ki ga je vpisal uporabnik."
   ]
  },
  {
   "cell_type": "code",
   "execution_count": 47,
   "metadata": {},
   "outputs": [
    {
     "name": "stdout",
     "output_type": "stream",
     "text": [
      "Geslo? skrivnogeslo\n"
     ]
    }
   ],
   "source": [
    "geslo = input(\"Geslo? \")"
   ]
  },
  {
   "cell_type": "code",
   "execution_count": 48,
   "metadata": {},
   "outputs": [
    {
     "data": {
      "text/plain": [
       "'skrivnogeslo'"
      ]
     },
     "execution_count": 48,
     "metadata": {},
     "output_type": "execute_result"
    }
   ],
   "source": [
    "geslo"
   ]
  },
  {
   "cell_type": "markdown",
   "metadata": {},
   "source": [
    "## Prvi čisto pravi program\n",
    "\n",
    "Sestavimo tole: računalnik naj uporabnika prosi za temperaturo v Celzijevih\n",
    "stopinjah in računalnik mu bo izpisal, koliko je to v Kelvinih in koliko v\n",
    "Fahrenheitih. Iz Celzijev dobimo Kelvine tako, da jim prištejemo 273.15,\n",
    "Fahrenheite pa tako, da jih pomnožimo z 9/5 in prištejemo 32 (kogar zanima\n",
    "še kaj, naj pogleda na [Wikipedijo](http://en.wikipedia.org/wiki/Conversion_of_units_of_temperature)."
   ]
  },
  {
   "cell_type": "code",
   "execution_count": 49,
   "metadata": {},
   "outputs": [
    {
     "name": "stdout",
     "output_type": "stream",
     "text": [
      "Temperatura [C]? 15\n"
     ]
    },
    {
     "ename": "TypeError",
     "evalue": "can only concatenate str (not \"float\") to str",
     "output_type": "error",
     "traceback": [
      "\u001b[0;31m---------------------------------------------------------------------------\u001b[0m",
      "\u001b[0;31mTypeError\u001b[0m                                 Traceback (most recent call last)",
      "\u001b[0;32m<ipython-input-49-1f38fa372baf>\u001b[0m in \u001b[0;36m<module>\u001b[0;34m\u001b[0m\n\u001b[1;32m      1\u001b[0m \u001b[0mtemp_C\u001b[0m \u001b[0;34m=\u001b[0m \u001b[0minput\u001b[0m\u001b[0;34m(\u001b[0m\u001b[0;34m\"Temperatura [C]? \"\u001b[0m\u001b[0;34m)\u001b[0m\u001b[0;34m\u001b[0m\u001b[0;34m\u001b[0m\u001b[0m\n\u001b[0;32m----> 2\u001b[0;31m \u001b[0mtemp_K\u001b[0m \u001b[0;34m=\u001b[0m \u001b[0mtemp_C\u001b[0m \u001b[0;34m+\u001b[0m \u001b[0;36m273.15\u001b[0m\u001b[0;34m\u001b[0m\u001b[0;34m\u001b[0m\u001b[0m\n\u001b[0m",
      "\u001b[0;31mTypeError\u001b[0m: can only concatenate str (not \"float\") to str"
     ]
    }
   ],
   "source": [
    "temp_C = input(\"Temperatura [C]? \")\n",
    "temp_K = temp_C + 273.15"
   ]
  },
  {
   "cell_type": "markdown",
   "metadata": {},
   "source": [
    "*Eh.* Funkcija `input` vrne *niz*, ki ga je vpisal uporabnik. Četudi utegne ta izgledati kot številka, je še vedno niz in k nizom ni mogoče prištevati števil. Kot smo videli, lahko storimo troje: naredimo novo spremenljivko, na primer, `temp_Cf = float(temp_C)`, povozimo staro s `temp_Cf = float(temp_C)` ali pa pretvorbo opravimo kar sproti, tako da računamo `temp_K = float(temp_C) + 273.15`. Izmed naštetih možnosti se odločimo za četrto in niz pretvorimo, čim ga uporabnik vpiše. Ponovimo torej vso vajo."
   ]
  },
  {
   "cell_type": "code",
   "execution_count": 50,
   "metadata": {},
   "outputs": [
    {
     "name": "stdout",
     "output_type": "stream",
     "text": [
      "Temperatura [C]? 15\n",
      "15.0 C je enako 288.15 K ali 40.333333333333336 F\n"
     ]
    }
   ],
   "source": [
    "temp_C = float(input(\"Temperatura [C]? \"))\n",
    "temp_K = temp_C + 273.15\n",
    "temp_F = temp_C * 5/9 + 32\n",
    "print(temp_C, \"C je enako\", temp_K, \"K ali\", temp_F, \"F\")"
   ]
  },
  {
   "cell_type": "markdown",
   "metadata": {},
   "source": [
    "Vse, kar smo počeli doslej, vključno s tem zgoraj, je kramljanje z računalnikom, To ni pravi program. \"Pravi program\" je nekaj, kar poženeš in te vpraša, kar te ima vprašati ter izpiše, kar ima izpisati.\n",
    "\n",
    "Doslej torej nismo bili pravi programerji, temveč le čveke. Zdaj pa končno postanimo pravi programerji. No, recimo. Odprli bomo namreč - Notepad in vanj vtipkali vse, kar smo zgoraj tipkali Pythonu.\n",
    "\n",
    "<img src=\"data:image/png;base64,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\"/>\n",
    "\n",
    "Reč shranimo pod imenom, recimo, \"temperature.py\". (Če to resno kdo dela v Notepadu, naj pri shranjevanju dejansko natipka tudi narekovaje, sicer mu bo Notepad shranil temperature.py.txt.)\n",
    "\n",
    "Potem odpremo terminal (v Windowsih bo to Cmd, drugje Terminal, shell, Konsole, bash ali kaj takega) in vtipkamo `cd ` in ime direktorija, kamor smo shranili temperature.py,\n",
    "potem pa (na Windowsih) `\\python35\\python temperature.py`, drugje pa `python3 temperature.py`.\n",
    "\n",
    "<img src=\"data:image/png;base64,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\"/>\n",
    "\n",
    "\n",
    "S tem, drugim, smo rekli Pythonu, naj *izvede* program, zapisan v datoteki `temperature.py`. Obnaša naj se, kot da bi mu tole tipkali, lepo, vrstico za vrstico.\n",
    "\n",
    "In to je počel. Najprej je izvedel `input` in nas torej vprašal po temperaturi, v naslednjih dveh vrsticah je računal in v zadnji izpisoval.\n",
    "\n",
    "## Razvojna okolja\n",
    "\n",
    "Namen gornjega je bil predvsem povedati, da program v Pythonu ni nič drugega kot datoteka z običajnim besedilom (a ne v Wordu - to ni običajno besedilo, saj je datoteka oblikovana tako, da vsebuje še kup drugih podatkov) in da program `python`, ki izvaja programe v jeziku Python, ne dela drugega, kot da prebere takšno datoteko in izvede navodila, napisana v njej.\n",
    "\n",
    "Pri tem predmetu bomo uporabljali predvsem dva, Thonny in PyCharm, kdor želi, pa lahko uporablja tudi preprostejše urejevalnike.\n",
    "\n",
    "#### Preprosti urejevalniki\n",
    "\n",
    "Kdor želi kaj preprostega, bo vzel Sublime ali Visual Studio Code. Drugi je kopija prvega (ukradel mu je približno vse), vendar je odprtokodni, za razliko od Sublimea, ki je sicer zastonj, vendar stalno sitnari, ali ga ne bi morda vseeno kupili.\n",
    "\n",
    "Oba imata dodatke za veliko jezikov: pomagata nam oblikovati kodo, iskati pozabljena imena spremenljivk v dolgih programih, pokazati dokumentacijo posameznih funkcij in, do neke mere, poganjati programe. Njuna lepota je v njuni univerzalnosti in preprostosti.\n",
    "\n",
    "Starejši mački prisegajo na starejše urejevalnike, kot so emacs in vi oz. vim. Tudi med študenti se vsako leto najde kakšen in nihče mu ne brani. Tudi mazohizem je v sodobni družbi popolnoma sprejeta orientacija.\n",
    "\n",
    "#### Učna okolja\n",
    "\n",
    "Za začetnike so morda primernejša prijaznejša okolja, takšna, ki imajo kaka orodja, ki jasneje kažejo, kaj se dogaja med izvajanjem programov. In to na način, primeren za začetnike - lepo, počasi, nazorno, ne kot profesionalna orodja.\n",
    "\n",
    "V ta namen bomo uporabljali [Thonny](https://thonny.org/). Je res osnoven in preprost ter nima niti vsega, kar ima Visual Studio Code z ustreznim dodatkom. Vendar ima prav tisto, kar bomo potrebovali za ta predmet, vsaj na začetku.\n",
    "\n",
    "#### Profesionalna okolja\n",
    "\n",
    "Najbrž najbolj popularno profesionalno okolje za razvoj programov v Pythonu je [PyCharm](https://www.jetbrains.com/pycharm/). Gre za komercialno orodje, vendar ga razvija podjetje, ki je zelo naklonjeno tudi odprti kodi, predvsem pa imajo zastonjsko različico, ki ji prav nič ne manjka. Zato izjemoma nimamo slabe vesti, ker študente navajamo na komercialne programe. Predvsem pa je PyCharm je v resnici neverjetno dober, prav tako pa so izjemna tudi druga orodja tega podjetja. (Vsem, ki bi se radi naučili vročega novega jezika priporočam Kotlin.)\n",
    "\n",
    "PyCharm nam bo pri programiranju pomagal še veliko bolj kot Visual Studio Code. Znal bo dopolnjevati napol napisana imena (nekaj malega zna tudi VS Code, a PyCharm je veliko zvitejši), pomagal pri tipih spremenljivk, argumentih funkcij, iskanju napak...\n",
    "\n",
    "Odpremo torej PyCharm in naredimo projekt \"Programiranje 1\". Na levi strani\n",
    "vidimo nekakšne direktorije. Naredimo poddirektorij z zaporedno številko in\n",
    "naslovom predavanj in v njem novo datoteko z imenom temperature.py. (Kako to\n",
    "naredimo, boste že odkrili sami, saj niste prvič za računalnikom.) Poklikamo\n",
    "novo datoteko in vanjo vnesemo program.\n",
    "\n",
    "<img src=\"data:image/png;base64,iVBORw0KGgoAAAANSUhEUgAAA0kAAAFHCAYAAAB07AcZAAAYK2lDQ1BJQ0MgUHJvZmlsZQAAWIWVeQdUFE3Tbs/OJsKSc0ZyzllyzjmKypIzuCRBQQREgopIEAVEARFEwUgSAQmiiCQJioIoIKCoGABJ8g9B3+97/3vuPbfP6Zlna6qrn+6urp6aBYCdgRgaGoiiASAoOJxkY6jD4+TswoObAGSADdAAYcBA9AgL1bayMgNI+XP/77I0DKCt+wuJLVv/+/n/tdB6eoV5AABZIdjdM8wjCMH3AECzeISSwgHAdCNyvqjw0C28gGAGEkIQACx6C/vsYJYt7L6Dxbd17Gx0EawFAJ6SSCT5AEC1xZsn0sMHsUOFcMTSBXv6BSOq8QjW8PAlegLA1oLoiAcFhWzheQQLu/+HHZ//sun+1yaR6PMX74xlu+D1/MJCA4nR/5/T8f8uQYERf/rYg1RKX5KRzdaYkXkrDwgx3cKUCG4MdrewRDAdgp/4eW7rb+FR3wgj+139eY8wXWTOABMAKOBJ1DNFMAeCmSIC7LV3sSyRtN0W0UdZ+IUb2+1id1KIza59VGRwoIXZrp0UXy/jP/iSV5i+7R8dbz8DYwQjnoa6F+Nr57jDE9Ue6edggWAqBPeFBdia7rYdj/HVtfijQ4qw2eLMj+Cf3iQDmx0dmCUo7M+4YEkP4nZfiC/AWuG+dkY7bWEnrzAnsz8cPL309Hc4wJ5ewfa73GDEu3RsdtsmhwZa7erDl7wCDW125hm+FRZp+6ftQDjiYDvzAL/3J5pY7fa1FBpuZbfDDY0CZkAX6AEeEIFUdxAC/IFfz3ztPPJr54kBIAIS8AFeQGJX8qeF4/aTYORqC2LAZwR5gbC/7XS2n3qBSES+8Ve6c5UA3ttPI7dbBIAPCA5Cs6E10GpoM+SqhVRZtDJa5U87Huo/vWL1sXpYI6wBVuQvDw+EdSBSScDv/yAzRe5eyOi2uAT/GcM/9jAfMP2Y95ghzATmFXAAU9tWdrUO+iWQ/sWcB5iDCcSawe7o3BGbc3900IIIawW0Dlod4Y9wRzOh2YAEWh4ZiTZaExmbAiL9T4YRf7n9M5f/7m+L9X+OZ1dOJUqlsMvC/e/K6P7V+rcV3f+YI0/kbvpvTTgFvgt3wo/gp3AjXAt44Ga4Du6GH27hv54wte0Jf3qz2eYWgNjx+6MjXSk9J73+r76Ju/1vzVdYuNfh8K3NoBsSGk3y8/EN59FGorEXj3Gwh6Q4j6y0jCIAW7F9J3T8sNmO2RBT7z8yIhIXlWUBINf5RxaCxICqHMSlL/wjE0T2JasKAHdsPCJIkTuyrXAMMIAcUCO7ghVwAT7k7JAAskARqAEtoA9MgCWwA87gADLjviAI4RwFjoLjIBmkg7MgB1wERaAElIOb4A6oBY3gEXgMnoE+MAReI34xDT6BBbAE1iAIwkEEiB5ihbghAUgMkoWUIQ1IHzKDbCBnyA3ygYKhCOgolAilQ+egi9AVqAK6DdVDj6CnUD/0CnoHzUHfoVUUjKJEMaA4UYIoKZQyShtlirJD7Uf5oA6hYlBJqDOoPFQx6gaqBvUI9Qw1hJpAfUItwgCmgJlgXlgCVoZ1YUvYBfaGSXAcnAbnwsVwFdyArPMLeAKeh1fQWDQ9mgctgfimEdoe7YE+hI5Dn0JfRJeja9Dt6Bfod+gF9G8MAcOBEcOoYowxThgfTBQmGZOLKcPcx3Qg+2Yas4TFYpmwQlglZF86Y/2xR7CnsIXYamwLth87iV3E4XCsODGcOs4SR8SF45JxF3A3cM24Adw07heeAs+Nl8Ub4F3wwfgEfC7+Or4JP4Cfwa+R0ZAJkKmSWZJ5kkWTZZCVkjWQ9ZJNk62R05ILkauT25H7kx8nzyOvIu8gf0P+g4KCYg+FCoU1hR9FPEUexS2KJxTvKFYo6ShFKXUpXSkjKM9QXqNsoXxF+YNAIAgStAguhHDCGUIFoY0wTvhFRU8lSWVM5Ul1jCqfqoZqgOoLNRm1ALU29QHqGOpc6rvUvdTzNGQ0gjS6NESaOJp8mnqaEZpFWnpaGVpL2iDaU7TXaZ/SztLh6ATp9Ok86ZLoSuja6CbpYXo+el16D/pE+lL6DvppBiyDEIMxgz9DOsNNhh6GBUY6RnlGB8bDjPmMDxknmGAmQSZjpkCmDKY7TMNMq8yczNrMXsypzFXMA8zLLOwsWixeLGks1SxDLKusPKz6rAGsmay1rGNsaDZRNmu2KLZLbB1s8+wM7GrsHuxp7HfYRzlQHKIcNhxHOEo4ujkWObk4DTlDOS9wtnHOczFxaXH5c2VzNXHNcdNza3D7cWdzN3N/5GHk0eYJ5MnjaedZ4OXgNeKN4L3C28O7tkdoj/2ehD3Ve8b4yPmU+bz5svla+Rb4ufnN+Y/yV/KPCpAJKAv4CpwX6BRYFhQSdBQ8KVgrOCvEImQsFCNUKfRGmCCsKXxIuFh4UAQroiwSIFIo0ieKElUQ9RXNF+0VQ4kpivmJFYr1i2PEVcSDxYvFRyQoJbQlIiUqJd5JMkmaSSZI1kp+keKXcpHKlOqU+i2tIB0oXSr9WoZOxkQmQaZB5rusqKyHbL7soBxBzkDumFyd3Dd5MXkv+UvyLxXoFcwVTiq0KmwoKimSFKsU55T4ldyUCpRGlBmUrZRPKT9RwajoqBxTaVRZUVVUDVe9o/pVTUItQO262uxeob1ee0v3TqrvUSeqX1Gf0ODRcNO4rDGhyatJ1CzWfK/Fp+WpVaY1oy2i7a99Q/uLjrQOSee+zrKuqm6sboserGeol6bXo0+nb69/UX/cYI+Bj0GlwYKhguERwxYjjJGpUabRiDGnsYdxhfGCiZJJrEm7KaWprelF0/dmomYkswZzlLmJeZb5GwsBi2CLWktgaWyZZTlmJWR1yOqBNdbayjrf+oONjM1Rm05betuDttdtl+x07DLsXtsL20fYtzpQO7g6VDgsO+o5nnOccJJyinV65szm7Odc54JzcXApc1ncp78vZ9+0q4JrsuvwfqH9h/c/PcB2IPDAw4PUB4kH77ph3BzdrrutEy2JxcRFd2P3AvcFD12P8x6fPLU8sz3nvNS9znnNeKt7n/Oe9VH3yfKZ89X0zfWd99P1u+j3zd/Iv8h/OcAy4FrAZqBjYHUQPsgtqD6YLjgguD2EK+RwSH+oWGhy6MQh1UM5hxZIpqSyMChsf1hdOAPymtMdIRxxIuJdpEZkfuSvKIeou4dpDwcf7o4WjU6NnokxiLl6BH3E40jrUd6jx4++i9WOvRIHxbnHtR7jO5Z0bDreML78OPnxgOPPE6QTziX8THRMbEjiTIpPmjxheKIymSqZlDxyUu1kUQo6xS+lJ1Uu9ULq7zTPtK506fTc9PVTHqe6Tsuczju9ecb7TE+GYsals9izwWeHMzUzy8/Rnos5N5llnlWTzZOdlv0z52DO01z53KLz5Ocjzk/kmeXVXeC/cPbC+kXfi0P5OvnVBRwFqQXLhZ6FA5e0LlUVcRalF61e9rv88orhlZpiweLcEmxJZMmHUofSzqvKVyvK2MrSyzauBV+bKLcpb69Qqqi4znE9oxJVGVE5d8P1Rt9NvZt1VRJVV6qZqtNvgVsRtz7edrs9fMf0Tutd5btV9wTuFdynv59WA9VE1yzU+tZO1DnX9deb1Lc2qDXcfyD54Fojb2P+Q8aHGU3kTUlNm80xzYstoS3zj3weTbYebH3d5tQ22G7d3tNh2vHkscHjtk7tzuYn6k8an6o+re9S7qp9pvispluh+/5zhef3exR7anqVeuv6VPoa+vf2Nw1oDjx6offi8aDx4LMhi6H+YfvhlyOuIxMvPV/Ovgp89W00cnTtdfwbzJu0MZqx3HGO8eK3Im+rJxQnHr7Te9f93vb960mPyU9TYVPr00kfCB9yZ7hnKmZlZxvnDOb6Pu77OP0p9NPafPJn2s8FX4S/3Puq9bV7wWlh+hvp2+b3Uz9Yf1z7Kf+zddFqcXwpaGltOe0X66/yFeWVzlXH1Zm1qHXcet6GyEbDb9PfbzaDNjdDiSTi9qsAjFSUtzcA368BQHAGgL4Peaeg2sm9dgsMbaUcADhAktAnVDuciLbFaGGFcGx4FjJucnUKC8oAwlmqeup5Wgk6L/oShkkmUeZolmY2anZHjlLOH9x7eZJ4n/PR8tsInBZ8JgxE5ES9xc6Ld0ksSwlLW8vEy1bKDSmgFGWU9iunqdSovttLUFfWcNNM1bqt/UYXr6eo72Fw1rDOaNwEMuU3MzT3t8iwvGf10vqXLZOdnL2lQ5Djaacq52cu7/YtuC7vXzsI3MiJrO4SHtqeNl4Hvb18iL62fnv9eQKggInA5qDLwYkhvqFWh5RJPGH4sK/hwxFNkeVRWYfjogNjnI8YH1WPVYpTPKYSr33cNMEx0Ssp/MSJ5OyTpSl3U1vSutOHT709PXPmc8b3s4uZS+cWsxazV3PR5xnzxC8YXvTIP1aQV1h1qbno2eXBK6PFEyVzpT/L4GuM5aIVOtddK6NuZN+8U9Vf/e027R25u7b3wu6framobah7VN/W0PLgQeP9h9VNFc0lLYWPclrT2o62+3fYPlbsZOlceTLxtLfr8bO27kfPG3uqe/P6wvp1BwgDL17kD3oPKQxjhkdGyl9GvtIaxY52Iv6l8GZmLHNcbXzy7ekJtYlP74re20zCk9VT9lMr09kfxD80z9jMTM2emJOam/pY/il4Xm5+8XP1F4+vtF/vL1gtfPh29Dvz98c/Mn4GLxKXvBE/mlrt2JDc3Nxefz7oFsofloVn0bcx8VgnnDpegkyIXIhiD6U0QZXKmtqDJo62iK6Jfo6RhkmZmciSwnqPbZyDglOOax93PM8V3uY9r/kWBSgEuYUUhI1F3ESjxbLEb0t0S85Ko2V4ZffKuciHK6QrlirVKz9Xea/6cy9WnV1DRtNcK1A7Q+eWbp/eZwO8IaeRrLG+ib2ph1mw+WGLOMtEqxPWyTYptml2p+zTHJIco518ne1c9PZpuhrsdzkQdTDH7Rax1b3Lo8PzvleB9xEfR19pP0q/ef++gIbAiqD84IyQhFDSIVeSVhh32Fr4UMTNyOQo98P60dIx/Ec4j7LGMsbRHMMeW4p/f7wr4XZiTlLUif3JJif1UsxSiWnH06+eenx6/MyXjMWzy5mL535kLWR/zpnP/XL+1wWaiyr5wQVlhT2XJovmLk9feVv8qqS/9MnVprLGa13ln6/zVu6/UXDzVTXDLYvbKUj0WrkvWeNZm1830IB5IN948OGJprLmxpamR9dbz7bFtkd1xD/O6Cx8UvL0UteZZxHdts8letA9o713+tL7/QesX+gP6g9ZD7uPRLxMenVyNPa19xvdMbax+fH6tycnnN5JvMe//zDZNlU4feiD1gzlzOBsydyxj36fPOd9Pwd9Cf0auhD6jfQ98kf0z6hFvyXDZerlu7/0fz1bcVn5vNq3Trkxur3+YqAdMoVeorxgLJyBFkP3YmKwUtg53FW8L5kU2Qp5F0URZRTBhkqWmop6ieYVbQtdBX0WQyyjD5MNszqLCCsj6zrbLPsARxNnFVcJdz5PLm/2ngy+ZP5IAaKgvhCP0C/hbpEi0TAxI3FeCZTEnOSI1BPpBpnrsnly8fJuCiqKWMVepRxlJxVWlVeqhWqee2XVserjGjWaGVq+2no6gro0ekDvh/6MwbDhA6NcYy8TAZMJ0zwzS3OceZtFoqWxFYvVR+smmyxbXzs1e4L9uMNNx6NOJs6Mzm9dyveFIOf/yv6HB+IP6rrh3fqJBe4BHns9KT1Hva55H/JR9ln3bfaL99cKAAEtgceDdIPRwR0hJ0K1Q38dqiQ5I2d2Rbhl+M+IvMi9keNR8Yc5Dz+Mdothihk9Unk0MdYpTjhu6VhbfNZxnwS9RNEklhMUySD558nJlOep1Wmn0omn5E/jTo+euZWRdjYg0/Ac3bnHWfuy5rNjcrRzdc6nXMBfTMufKmS9JFukclnlikKxVIlwKe9V1jLaa+TlZBXUiCep33C7ebLqZvWLW+t3hO+63Dt3v7+Woc65vqBhpBHzUKTJsNm95dijS61NbW/bNx/zduo+8Xl6quv2s+HujR6R3n195/vHX8gOnh76MmL7sn6U93XOmNRbqndRU+mz0Z8tvi+tWG+t/843uK2CRbLTLCTPdDiN1DkAMmuRPPMBAMzkAFgRALBTAaiTVQBlWAWggBN/zw8ISTzxSM7JBLiBCJBHMk0z4IJkzYdBKpJR3gBNYAB8AOsQHSQCaSH5YRh0GskHO6BJFITiRemgPFEnkSxvALUK88HmcAxcDo+g8WhVdBC6BP0KQ4cxRTKyNiyE1cLGY1txGJwJ7izuJZ4XH4ivJ8OROZKVk62Sm5NfIV+msKAop0RTulO2EQQIqYQvVHZUjUimk0kDaA7RTNE60/bSGdA9pFemr2FQZWhjtGGcZIpgxjLnsgiy1LFasM6ypbDLsE9yFHG6c4lx/eJ+zJPD67lHng/L95r/rkCGYKCQqbCYCEFkQXRI7IH4JYk4SVcpFWkG6QWZ57LX5VLlfRVMFCWVGJU2lT+rjKsOqHXt7VBv1+jU7NEa1Z7VWdID+lgkzuGN8MZkJpSmDGa85vIWFpbBVtnWjTbTdgR7eQdnx1iny87tLjOuFPulDzgcPOpWSuxx/+XJ72XrfcKn0XfVXzfgQuBKsEfIwCEDUmO4fER1lMTh2zF7j/TFhhzjiB9OyE4yO7F0MjtVPK3jlNcZxoy3mc+zxnI283guqhSYXTp4Obr4cunoNYmKyzekqyZuX7l3oJaivqpxf7NYK3eHwZPibspe4f6lwcwR4Vf9by69Pf9+4IPb3Mpnuq83voOf0ksqy5sraat1a4PrDzZKfoduKm3HD2j7mwMdYAeCQBZoAnPgCoJAHMgEpaAe9IJpsAExQVKQCeQNJULF0CPoPQqNEkKZoUioi6g21FeYAzaFj8LV8BSaDW2DTkd3YCCMOuYI5gFmHauJTcQ+xdHgnHFXcd/x2vgs/AcyNbIssnlyA2TN1ymcKO4hmTCJcpCgQrhMRUF1mGqG2pm6h8aApoVWg7aZTpeui96WfgzJTFcZM5hEmZ4xH2JhYqlhtWb9wBbNTmAv5dDimOLM5DLhpuIe47nLe2aPH58OPwv/J4GHgmeFvIV1RARE6cTw4hgJvCSVFJ00rQxeZkV2Vm5EvkvhkeIjpS7l1yrf1aj2Sqtba/hphmuRtH11nHQN9VT05Q2UDQ2NDhrHmVwx7TRbsGC31LcKQM60bNvzdjn22Q6XHZudvrko7It3fX6A62C4W687n4e3Z47Xfe8enynfNX+mALlAu6DI4IshLaEfScxhBuGREdciRw/TRJvHZBx5GSsYF3ts8rhPIk1SV3J4Cjb1ZDr6VMoZ9oy2zIQspxzd82oX1PLVClWKRK6gix+XRpaxX3tY4V7JeGOsquNW753F+zK1R+ufNVI36bWQWsva5zp1nt7plukp6Bsb+Dn4bXjm5eTo7Jufb6F35JMM0/wzRnO580pf036ULQeu9Kwlrbdt/Py9sr3+KGT30wIuIAE0gDXwBrEgF9wC3eAjRAaJQeYQCcqDWqCPKCaUHiocVYYahWlhYzgJboE30GroGHQDeh2jjUnDjGBFsMexYzgNXDEejw/BD5KpkBWSo8j9yYco9CgeUKpQPiJYET5QJVDzUrfQuNIs0Z6lk6B7Th/MQGAoZ9RhfMMUzczF3MNyhtWdTYddlIOBY41zjKuO+xxPEK/ZHmk+Fn4s/4rAN8GvQj+EN0SpxPjFtSTcJOOlCqXrZF7I/pBnUzBWTFBqU6FUdVW7pY5D3lWbtPfoZOkx6VcZuhjTmvSbXbQIsbK3kbUdtXdx6HYycn6xz9v114FEN4gY6j7kqeRV4EPme9yfPKAkyDwEhNaSQsK5ItqiIqI9j3yJK42PPj6csJ6EOoFPpjkplxKWOphuf2ruTMpZycxXWSk5arnf8iouHiggL7xWpHT5YbFmSctVvbKucquKwUq7G31VBtX1t4XvnL+Hvx9bs16X2iD4oO9hQrNiy1xrQbvlY3Tng6dhz8S6p3ou9TkNMLwYGMoYMXm5OXrjjeXY7NuIiY33CVPwdMIMajbxI/rTsfkvXwy+Ri8Ufjv9PeKH3o/ln9cXLRZfL/kuLS1HLs/9cv3Vu6K7UrlKWA1dHVhTWMtb+7ZuvF68vrZht3HzN/zb6feNTWjTfvP61vqHecvJbh8fEKUOAJjxzc0fggDgzgGwkbm5uVa8ublRgiQbbwBoCdz5X2f7rKEBoODtFuoSHYr/9/8r/wNNkM06IQsR8gAAAZ1pVFh0WE1MOmNvbS5hZG9iZS54bXAAAAAAADx4OnhtcG1ldGEgeG1sbnM6eD0iYWRvYmU6bnM6bWV0YS8iIHg6eG1wdGs9IlhNUCBDb3JlIDUuNC4wIj4KICAgPHJkZjpSREYgeG1sbnM6cmRmPSJodHRwOi8vd3d3LnczLm9yZy8xOTk5LzAyLzIyLXJkZi1zeW50YXgtbnMjIj4KICAgICAgPHJkZjpEZXNjcmlwdGlvbiByZGY6YWJvdXQ9IiIKICAgICAgICAgICAgeG1sbnM6ZXhpZj0iaHR0cDovL25zLmFkb2JlLmNvbS9leGlmLzEuMC8iPgogICAgICAgICA8ZXhpZjpQaXhlbFhEaW1lbnNpb24+ODQxPC9leGlmOlBpeGVsWERpbWVuc2lvbj4KICAgICAgICAgPGV4aWY6UGl4ZWxZRGltZW5zaW9uPjMyNzwvZXhpZjpQaXhlbFlEaW1lbnNpb24+CiAgICAgIDwvcmRmOkRlc2NyaXB0aW9uPgogICA8L3JkZjpSREY+CjwveDp4bXBtZXRhPgrso5RhAABAAElEQVR4AexdCUBVRff/sSMoCCqyuAsuueCe+5JirrlklpVpWZb99dPUXIu+/DKXbFPLNCn8LDM/K03LFDVwz31BUXFXEAVBEB7LY/mfM/fdxwPee7yHiNuMXu7cWc6c+c3MfXPmnJlrA3J5eXk2GRkZL9F9AD12oMuHw6WTCEgEJAISAYmAREAiIBGQCEgEJAKPOALXqX67bWxs1js7O/9I9zwbFpA0Gs0HOTk5fIEvCnvEcZDVkwhIBCQCEgGJgERAIiARkAhIBCQCAAlFsLOzU68PXVxcPrRJTU19OTs7e2VWVpbESCIgEZAIWIwAv1CkkwhIBCQCjwMCcvH4cWhlWUeJgIKAo6Mj7O3th9vn5uYOyMzMlLhIBCQCjxkCMTExoEUSaLVaUXN1FcXNzQ3e3t6wtbV9zBCR1ZUISAQkAsYRkEKScVxkqETgUUSA5SKaAw2wJw1SBzn4H8UmlnWSCJhH4M6dO2jRokWBRJcvX8alS5eQnp6OmjVrCrVzgQQGD/K9YQCG9EoEJAISAYmAREAi8MggwPKRPa0i+1gy2bGNjYXDH3/AITwctsePCxBymzaFtmtXaPv2Ra6vr3XAaGJhd+MPID4cSFbowb0pUKUrcqr2BVysoxebFYc/bocj/PY+HNecEbw0damPrhXbom/FrvB19LaOP5laIvCII8Amtmx/a+hq164t9iSyNomFpWrVqsHBwcEwid4vze30UEiPREAi8IgjYMk86RGHQFZPIvBYIcDykd3kyZP/XVyt7Q8dgtPcufDYsRNO9rZwrFkDjj7ecEpLQ7n9B5Fz+DDyqle3WFCyuX0IdqfnolLKclRwvQTXyulwrUiXzSU4J4Yj49ZlwLU64GyZoHQo7QTmXvsGy3O24ZJbBtKruCHdwwWX7JMQnnYIl5POobqzDwlKVYurqoyXCDw2CMTHx6Nu3brqJkX9PTExEf7+/myPC9YslStXTvgfG2AetIpmxuP44ZOIvXED169fx9Wr13EnxxGV3MqViFNt3F6MnbIVzXs2Q4X7YVGpjUXo2Km407wHalQoKKSXqELFZdLhdyXmMi7f0KKqd0VYVO3cOzh18CRQyRs5sadw7Mw13LhxndrgKq5eT0COYwW4lTO+gFAcSxbF32Occu9cxcGTt1CF8Ei7Wrh+t4FyFVHBySKkilQndudShJz3QttabkXiyiIgM3Yvxk3diqY9msHNii7GmOz75ySuUzvHEATeVSpA7rwsixaTZUgEHjwEeCHYnldHzK2QsAbJcfFiuNOECnVqUy1y6cxwXWU8KgIennC/eRPJlCbno4+KF5RYgxS9GF4Om4HKCjk9NC6AXXnAK3kzbkYD2U98VKxGiTVIi2P/i83lzwNuXgpvKn8uRMy1PDanUByl+ajGRKlR0oMtPY87AjzuWRAq7JycnJCSkgK++5KGmPcuGTO9M3xvxO76Ev/LHozxXWlx4yF2D2I9MuNO4Jvv1xKqvggIcEVadDRi6Smg79sY1/sJyyb8Bm2Snc170JKQkZ2LXCsmkAYk7s6bq6XSIfbC5ebeQyFDx6Uev6Yd0K2OC5rl5sKiaidfwOLvv8U78xfDMXozvl9LP0o0HnjpLpZ+F9k17fsmRvRuAifxVMp/7jFON06sxff/PInPA2siUVc/X98AuLqmITpaqd8Lk+egY60KVldMq9UglfsXYX0/XC5hx32cy7eGBa0mGdeuXMC13bsR7TsEDRt4g6YlwknNuQ4IeZMIPEYIFCsksYmd+8VLhQQknRSSR2ssNvQS9PKC+4WLyKa0Ga+/bhY+ezKxq5RtICDxO1QVatQlG3davIvbjIQb7ZBdyzw9NrHbbH8qX0DKJWKG9GyJqJs7NmecQjtK+3qV583yJyMlAo8LAoZCjlpnDmPzOja14wkGH+pAnwhAXFycEJjUdHxX8+fShCgpJQ1p2hTcIe2yk7MLHMQCdCbib9yCNscOblWqorw6H6b0yZl2cHfJwY04Wq51roiqnjQVydUgnp61Dq60guuum/xrkZqcCRf38tAmx+N2mhYOblXgqSemcJSaeAMpGTlwcK2EKu75U1ZNajLsXOiFoonHrRR6r/hWERPaTKJ1i2jZObuhimd5UZbReiATyZocuJdXp0pAJh12YVu+PLg6pujn0mQr/nYacuycUaWqp0ircGr93zxbO8I6AFM//xeq6zC8ceJ3/GfpVzjU8nO0qqIEmsKAS9SmxiM+RQtnN2/SHjE9wJb+8J1ikRifiAxtDjUFYeuiNhTHcX0ZO8JdYOtA7ZFB7eGiF840hP1twt5ObUclm/ir4kCZ4UltKihzoaLs/AU6TXIytbsL9QmlbHM0Dchb5FXwa4IZo16AL/dLLtuCnMnXziDP91l4l8vDbZKq8nyfx6fTO+oEokxc2rcRC374Bj9Vfh8jWpGVAgsG1K9dnHIQH38bzqSBcheaGHUc0JpdRQpzUbUzxfRtHU52dIBKTtotxN3OEH2/SqG+bwwrrSYVmlxbg36bS+12B7YuFeAiBqcWV46dRav2z/NKKahLiPpNpvrpehP2rZ6GH1YdRPPpXXWCglqPQuNZYJmLZFpIpSGFir5V4cBSqDa/fakT4QYNQBqhqOhdBXoI1Lw34pCmvidAOGodUF7fD9VyC+OnNKImkd4LGWr/VMY+v5sU+JQ7cmkc03i0q1CR3kOMv3Ga9pUbYvALDXGjVgr+87edMkaUYuRfiYBE4DFEgE+3o5eJ6Z8M3oMED5pkqBokFkL0jvwshLCgRGk4rea11/SxRj20B4m1RUxOf6kkVSGJokQaSptbwzw93oMEMq0Tv3rMG9NVnaCr49HVBeFJ+/BapefUWHmXCDzWCBRe5U2mCc7c6FxEpvpiZr0aaEuKYv5uGgtIp0+fFifeFQUsE3s+mYLVYuH5a0zbAjw7ZQG6elzH6umfYrc+gy9GTB+PVr4uyLz+D2bO/0Ufw54OA55F1vpfcEAN7TAKC15oBqfMa1g481PU79kUf2/R7V2kNAPGfYge9TzJp8HRDV8iZIuy8s3ZW78wCS93qEWT+EwcDpmJ1dEcys4XkxZMxJ0tS7Fsiz4Q6EZlDW6Ig0bqUe/KUsxZ/QTmLeqhTBS1V/HNtPloOp3qSCqFovSnw+3yVnywaL1SJP8NGIAPxvRAZWX2mR9uoU95PechO4cmfDrFn1f9lgjAFiSlZ9H7O8sMBsCNExvw0TJqGJ0jZQG5puK9n5d2FaunzjdoJ6Dv2x+iV0PGlvIepbwh+XlFIJU8acG/UMuJsV9O2Odj6dttBMYPbiWwSoz6Cx98TftO9a4b3lswGFVtqR4UlpdnK3i4uu+/mP/jAQyY8BF61HUwS1NPygqPgl86srOo3Hz5Gbl8qiMtCKgiS0GSuYiJ+hu+baegHBFIYo7pfzb5HUVCR9R8cjDejvkbX4cexuCWveBA/XqaQb/uO2keela+iTUFxgHj+wHhS2YUxfVtKsuZylodOkk3vhQOe45+D/2bsOm4afy1l7bjva+30Fich67VXZB44jd8sOxvjPrwMzTzpI6YewsnaTg9MchD6Qe6+mVRmUoXc0XAE92AXcdwI6MLamkvmRzPQCoJVNPxo36w+6J101i4BLCAkofks1vxnuF4QGtMmvMyapVn5CnvfymvfuD7Us+MRcKASZjeoxZyUy+Zxo/G99FfP0PI3/ljP6DvOIztVY/KZayofBvmIRlbF72H9dGtMWXeKyiXcdEMTc5H7ZydLtpbCFtKkKiLzitvEgGJwGOAgEXmdnYnTgDNA8ULQ/eHbjpJxIZfcvzjQdJNhfKwO3Ks2BeJTQrRU35/FXLiZaZDm/3qM/062JCZiTkBjnOdSD8L+NAPjmFeQ/7UcGdnkbY4ejpO5E0i8Ngh4Eazow/q28JvRw7mXszDfJpM1ytvJzRIkZGRRcaiMpYc0G7q5/DZ9hVWa/tgSq+6QjjZu3wBdjV5FsHDu6CymEwvxHcfh6HWwv6095A1GXkYMCYY3Ru642zEaiz+ZS2CRs/E542rIv7or5j9XQRiBjRFLVqE8aW02094Ydqcz+HrrEHklu+xbOFaBHzyOtwuhGH55jy8Nm0OmpEAlnB2G2YtXoCGAZ+iZeVc2DrzJKkpRs98AfVJW+WgvYKVlP7FibPwZC13aGIPYdrc5TjZ8VMj9SCzqkuU38eJ1oHIbId7hG5RKY8m2Llkq1aUfjQWLVyH9i9NxOAna9GhNJfw6/ufYVl4HUzrTs8lcOpClr1dvumQ5up5nCVcmpPNdNLJLaYxcL6IkKWb0aTPaLzYszEc7lzChiWfIYbyMt2bp//BLv/emDaqJwg+nI/4Cl9+dQgdF3aHS+pZhCynvAPGYHj3hrBNvYoNiz9BeKyzwCPp5J9UbipemvgBYelJVf0HSz4LxXr/Wni+sSuO/bYReb3HYyH1CWiu4udpn+BsXG/aA6MszDnZa3H9wK+Y98N+PDvxY3SpVZ7q8qsZmuoPh3Ugqvjxnf6T0+LsNupz63lm7kv8jyX+XXD05++Q2elFPMlAIBEnt+eh1bseAqdcWoDLo98VfT9gMuRqtRmMvO3HcTO9J3x0/TpoxLvo2ZSO0Kf2+uc7Ggc+QXh3bC9UL69F1LZVWPLVMtT6eBrqOZnv29Vtc+FI7ZSX1xXvzu6P6i6U/2/Kv3Q1Gswdh8qXzeHfG2902Yxl88JQ/z9NsGHpdrQaMRNNK9qJ+mhvXMD+vFYI0j2L+pF6x5ExEjWjvnH1NJXdDO4O6di7wvR4RuRf+GFXHl4a/2+0rlsRiWd30hj8BU39Ge90nN27H02e+T/qQ/XgpE3AX5NmYdWBLpjWpToSIzfgh/0+1AZjxHhMPBuBf3NeOxuR959VpvHzzzqJ5dtjMGLmJ2hZ1YnK3UZ5DyG2mz8qUT3y8txhk5mEnV+/j3XRXTHtk8HwdUrHP/xuMtUmvIBLTm1v0WeUIPGhSZ1X3iQCEoHHBIFize2sESo4bXHpi4s3xP1+0DMsX/olAo8yAoXHIn8bNoe2KQ/ysMFXTW2g7tnm1RR1ommIR35+G8W8Js8BNvwOyLwBPgCzyWBv5CXFIIbW3stXqUVZLyE5Iw8uebSCjyC0bFCJ3hc00axfm55vo0U9L5Hfq24Deo4R7xIuI4OeBr8YBJ9yNrQW4opGnXrD98+FOHPjDqpGhZGmpg88HVJo71QS7Fy90ITSn7x0Cy0qVYSWFoR9n+mJRl6uFEprKfY18fKXb4PNu3ivVU56nthjclvDGhkSothMSK0He8WijfJeU7zir563wvQzaFM/61VaV3LALaIPRwfUbAXsPnAJaU/V1JktUQJ2uUk4uvcUMnX7wrKzgRqBrWkyXVC3oeAcjR1btqIyCbLZKRfxZzgtNjUZimY+9riwzzQGjbxiaV0+AC8+1QjlaFUdbjUR9EwQwr+JE3WoFDgIXzbJRFLiTcQk5SDbyY8Yu0Dag6fgk6jL26mBmKzDtRqCBvVB+FdXKW8OmWuFA61eRauaijbCjSr6dKsf8X3kZQxq1JDagkj9uRsHa9iiTnUfDP3ySwogTMkMizUkP36/kDf3YOg7s9GhpqsFND0Kmi1ahR+3JbcjFUwaHBaQgl75P1RL2ILvP5uB462a4MTBExjc7mWRDskxCCfc3qlSLj8f9T5BgyuhczZsp0ZOoa0lXxA6taimaJsyr2I/jYM+/3oK1VztKY09GnTtjSbr5+FKfBoC/Mz17TRU81bi+wwKUvKTjqdBp54IWL8AFxPuQGMWfw806jcDXcM/xuz3qX80eRFzWngJPpnfWxd5gDaHh9C0MP9kLRL9I9b9dQdu9tlIiPoTe6KBrq+OhFuGufGchdTIcOoHr6BVHQ8av2TSGtAOLwb8gnCBtyNavDwVTcj8NDkuBlk5WXCmAeoq4rJw+fBuXR9yE7x5BHTEK01+wVaOp3LN4udVXozdPbv3onyrBqhW6ykoXSwPmaKhD+C/0w5Q/2+PqQsGwcfBAppkccJOZDfS3iJS/pEISAQeGwSKNbfLaUJvtDupZNJGtjesMaIXB4QGScWIwjiY0nBankyZc3luRC8jgg5koFScjy/+4WKnPrOfZkactjh6TcrVQ0TGdaJHS0AqLUP+VJrpGeC0xdHjoqWTCDwOCBgbC/uT8lDFMV9AUnHgtIXTK5N3JQWbIfGzkkbxn/hlMWgqpnO04Z3svByYDqf1Ka9ftc7OVtJnqwcJ0P4Vf07DaXUTFQ192E2/yZ/2+XhSvF1eOhKuUbroP/DJLNWsiw438PVBeW224IV5crFT+SJWNJexZsbn2KOypbuzloB5L1gPegcxH3SJ+nNa0ig4iTBOT0JbIfq5Yr9PHn78cq6+BD78wp80FYW1ELyH5fzOnYh1VQS4tDRnPF2nGfz0ezEUEgIvKiclKR72DqQH0Xpg0Mvj0KplHTjTPi6zGAh+3GAr2k+h51CxMvF9UeCbdGY7PvjqdwNeuc5NlPQir1PBvBVYmEmnvFTuxTz4d/QU2jX1rV+ldmPkrbmNzOcc8OQrk5D+52asIM2VcL5d8M7bA1DTiUzWGEMWIslp9Rv8i6NZ6MAFK/ET/YkZtfPEuNHj4N2wDv0M1cQkr704cCYO/UdOQls/B9HWYj+ST2MykeR2NtIPBOdASiwLm24kvFE6rpNBv6ZcFEdivbOyyCCyaG1E3e1IS6RoK/JgvG8r8emc31XR/oj8NA5Yg9iY+/5Fc/gTVnZV0Oa5lvh7zUF0aVeP+grRVJjAFVrFaNysL+x0YXl5GcSrP20duo3bpCW19+mFkX3bIJAE4FztNVEP4+M5U8dHFYN+YAevuj5CGGZNUuTG5Vi+lSQu4chGlXBp4s9jKhO3Y6gObQv2IXcvwo0EaebVLH7OtfHquJfx16aVWPy3Qr1J79cx7OnG9G5QsFd6GPn1/b+4NlEQ4nL50o97Ii8PblAwln8lAo8LAhaZ22V06gT3Nf8jIYleZLz3iPcgGUo1/MhW3UnJyBjaU7xYzAGY49kJObcilD1HakJDIYkXUenKIbksp1KnYul1qtAaEWmrxSl2et4K0CMGmcc0DTgtv/ikkwhIBJQJSGEcVsfkIKgKD8KCTp00GIYajiU+BCBWm6mML55gUMIeb/4HfRvo7Ffomb9g7eCYR/u5KZa2EQiaFK7QUSYlYniK/OqzQosS6dJRhrQEkB6FBClX+NQkj9MwfDqqDb82hMulcnIcnCg986MrRxAGmePtIwGpJSbNfhnVeKGGJoBfTflU0GY+CtSDom3seBOLVoln6pSGlFP69IXp54mT43wxYf67qEkCjeK0yNTaKYKBGsR3e28MfPddwxDhN8SVA5Rnf/R+9jn4qJVUIgjncvA2g0FuLJkjE9ga3o+j2890+/pFCmN8MhC5mQSkHqMwvy+Z4lGoJnoLZn7NmiIV7xN0WEYevHlbKrn4c3RSqMhL5T4B/Hr4MrLa+ek0PHQYwGFqmR7tSZAkrZS9F7o99xpdudAkXMLG2Yuw4VAr/F87sQaG/uNmovq57/H1wq/hETwJjT2Ko6nrC4IT+mMVfkp9uL1g44raDWqLtuQdOH5NO9GlI8r1pul57OkI+LacJPYjcRbRBi55iqZUl5Q1Ulu+jwDajYKXfdF+TZnEIQ83EtKQ5+2o5MpJJ50pWYhzOaIsQVyhzyn0fVvZr8W9r0B+OsTBX2Rxho9Z/Il+8mmsJAHJlzJELP0LT84fStoUykz7kU5RMzV7RtEAUgiVzyrX5hg4sH0BbZ2ot45P4+PZAXeK8EGHWhyjPUlPEg+0gBlOAlKXUcEY2NiDC6d9fJOwTdS/HPwCffHrvjNI6+Sn07KmInorrXkOYny4pxWqvyF+pJVyq9kCL71NFwlc109FYH7IcrRs/SkacGY0xriZT+P47E8xb2lV/Of/OqM8hZulKfKpY86gjYiadBIBicDjhwAtMPKKlelL07MnEmvQsb50zLeQXljgUFU+wk+/2hTHaTitOVocl+HZEzdtepCtvkJOzGzYYoEvngDwRXGchtMWR6+nawf0yKxPS3qUiflhIc7w4jCK4zSctjh6Mt50X5DYPFrYiAkQDQ/VpZFGZ1liLtp7Gs7ElVhOW7j9xSSPwvlOWZH35x5ExdIpabY+aN89D2Hf/Iyjl+Jx5/YN/LNmAqZO/R9u8eEDujwF78rERA1jKUv1s+bmT5pIHyJat+PPY+MPyymuMxr7OMKv0UDknViF9f+cxe07t3Hp6EZMnDoV++N4ZZzKUgjl0yrnTv5Y3LhJtMicLOLnBYgW/CjlFagH8epRrQFpPH5F2NFLuM31+G1VgfSF6Tt61Ue7vBh8/nMEYhPvIDE2Ej9MeBdTN5/T86DWy7o7CZks6BjBzhwGjl7+aEn8LPxpG67SCXY3zv+Dj77fQ3S4vjZ0Sh3RjLuBuMTbiL96FD999acujrQ93g3QnRJ+80EI/omMwqFtazCPJt1K3jwF++g1+G13FBIJ+7O7N2JVdB76NfKDTU4c/jv1XczfeAiJmgxkZWlwhzK6uzpQfjIjo8vOwQ3+QW+gn08Mln+4HjeofqIupmhSHmP1tywsvz8Vnz4F58Lz0CLA06A8Z9JYRuHMJfpG0tVLOHs0Al9NXYA9pH0Z3bOhIjwV5s9eGQfhy1fh0Hk6ATDxKrb98Dn1n5Zo4KWY8Znr28wnx4cv/xD/FMjfDvUpv3ms7iCCTt6LaUkHabz9Pjrn7cG8jZHIIXpZ8ZdwkHjw82ATQBVTBR+Ozw/T+XX1MD6ebYiPfoSN2g8Sad/VD/iVNETOTIutOuh+61YcEm8n4vw/6/HfE3lCE8zlVAvsTOPrdyxesw2RUZHYHPIe/qRwkbcY/DLi9uDdiROwLYoXAbJoEYaE0TwflLNXNLy8CODg5of+M0YQf7/i681nkVMMzfy6F+0vhd9/8vnR+j2U7Snb01gfKHZPUra3N+688Qbw7bfwvHBRnGLHhzQIx2Z4pEFiAYnTcFp+IZpzec7eSK/xBq5foZPD07cqGiU2UGdHJnasQWIBidPkUtri6HnTauUblZ4nI+ufsTXjDGmUXOhIYR1BMrFjDRILSJyG0/JLUDqJgERAmQQY4hCWQNsU6Hhcb15qLeTUyYNhsOFYqlSvPa1wr8DS+QfR752P0O3pD/BC1o8I/WK2LksLvDZ1IJ3ZkotMMlmDD1vn0EuZYtnsiNeMlReUCBDCjRJPCysU5NPCG1uJ1kryAy3wxnu94c65q3fE5BHpWLDia0SIOKD7C/9Cm6psNqUFnXhMY155+XO0S41mGNjiKFbq+Grcti2F7gPtExflF6lHtUCM6H4EK0K/AC1ww7/7QHT2Wacz37EtQh92ldFv+hvImPMt5h/8jYuET9shdFJXXUFfBFj5R8VHmOsp1kAFKDiZwwBVMXDyCGQsWIFP6ZQ7qgF69WqBv/7i+tqhXvcRaDxPjfNB9+4tgG1ZgtfcXHf0njsdFf/cgJ+WLyWzqIF447V++Pa709BS2+WXuxR7yNiAXa8Rk8VparmkFxjw1kCEfLMSsxg4cv7dX8KQppWRm3NdrObb2bBJZAV0fftfiHlvIeb8Wgtzn1Pb0whNKrMkTsGPtEAGB1+YpZMSQ23tj39VUvokp82lfWp0liGWf8E6TMU17jwEk3s+SXvllL4jyjHo15yqnm4crFw0R5eL+u50OuGPedGa79tszsk1btG9Ow5Q/p8EhcYYMbUPKlP+/L5fFKubR9fjt2h/vPVhEzKpo51S7wxBxOfLsbf1x6h7jerQOFCMHxXSXD72jzRl6pjUMau/qfUwNp5RvTP+9UIyFq7W8dG4O/p19sFpHnd2vuj9QmcRRwfscSfIj6PC7Sq3wkeTy2Hjuk1YvvQ6Og95A6/V/BubCBvmTS3XGH6o2hKv9bqM75bOB/dsfqn0e+0V1HWhd0wyv1MqwZ6tXzyb4L03euGjb79GWM0PEGSuTSg5O6FBprmCIR7S3E7BRv6VCDxOCNicPUsWzhYIDnbXr8NlyxY4kw29w8mTAiNto0ZgczzWIOX40K+DFc4m/TqcE7fALnEn7FIVejnlG4HN8ViDlFfOOnrXtTewJW03dt45gJOZ5wQnjZz8hYkda5B8HKpawZ1MKhF49BGIiorCgAED9BWdF03fRaK5xXv1imqS1q9fj4YNG+rTsseS9wYfs5xDafnbSyVyZA63ZNrnaDZ1Ltp52UGbSd/jcTJybDMJRJk0sbIlMzvlG03mS+PvP7H62sGSxJRSqYfl6SkH7R3imluTxzzPxcaaxUDhx87okdcm4ugksgO7olC5WVvU9lDaL+HwWsz5EZj6yRB4qd2kmHIzM7WwtXWwGGtRT7M0i0WiQILMazsx4/N1aNyyJSpUCUT/oEZCSCuQyOAh5fR6fPiHJz6a1ImMGUvH5ZIpKqEgxoEKG5t6WtS3BQsm2ojjrMJKi8PfT8OxwKl4lQ5ysNaZG89mx4jgkZZCaOwausyE09gTlYPWnRpBWXpNx85P38P+Nu9gUqdq+qRG8VNjiTYPNeN9W01U9G6MpjbhJNZviUL8ob045zuwQB+QQlJRDGWIROBRRsCiPUkqAKwlSnnlFXGpYQXuFghahulZo6TxfYXsoOky5qykx1qiV9wHics4OV5Zkk4iIBFQEbDXnaqmPk8N0E/f1CD9ndMWFooKP+sTG3hsKJ89PVuS1iBbvpe+05RGT+k00ebTwewdiRq9G4qMZht7OIptH2wilJ/dlE+tu6V8WV8PG1hbhileLQ43i4GOH2PYkZ2y4LVwnL0LMk6vw+KNJGC0pf0cqTuwL5KUEM9OQBXdqWiCt2LKdVQaxro+YJamxYiIhPbudfEK/XaRnQJ93Net4L4iI6SunNgBn+YTFJMvI/ElCbKxd1ROvDPE2NK+LQo00UYcZw1W2ngcozZs0b+ide2hq7S5cWAuTuWx8Hjjg0g2rvuOLn907u6L2G07wEucrzQsaPVhFD8dT0xbvMoMsVXjzNyN0bR1ckOdBnUQ0CiAFlj9iu4jNENPRkkEJAKPHgI29JFIem9ZMKt49OouayQReKwRuE7a4YsXL9KHE7PN4sAT6Nq1a8OnkLa4bN4bWiTdSoWzhwfKmZbhzPIvI+8CATqdLCb6NC7SkdVsEuldtz78fdzuguCDn5U1IqTyEdtj7y23sm8zvtrUW4iOikaKULySkNKwAbwKHYN/b9vBMupSk2QZTjKVROBRQYDHvA2Z3Egh6VFpUVkPiUAZIlA2QlIZVkgWJRGQCEgETCAghSQTwMhgicAjioBV5naPKAayWhIBiYBEQCIgEZAISATMIiAXhczCIyMlAo8kAvZsbiMH/yPZtrJSEgGJgERAIiARkAhIBCQCEgGJgJUICHO7hIQEuSHJSuBkcomAREAiIBGQCEgEJAISAYmARODRRUBuhX5021bWTCIgEZAISAQkAhIBiYBEQCIgESgBAlJIKgFoJcnC32V52MwaH0aeS9I2Mo9E4F4jIMfSvUbYMvqyHSzDSaaSCDxsCCxevPhhY1nyWwwCD0Kb2khzu2JaqRSi2a4xNTUVfHdxcSkFiveexMPI871HRZYgEbAeATmWrMfsXuS4l+2QlpaGpKQkZGZmIjc3916w/1jTtLW1pQ/ROsGDPgXg6ur6WGMhK289AnJ8Wo/ZvczxMI1n/s6jdPcYAdYg8Yv96tWr4kVvZ2d3j0u8e/IPI893X2tJQSJQ+gjIsVT6mJaE4r1qB1poFFYCNWrUgJubGx6G93tJ8LufeXLow7spKSm4ceMG0tPTUbly5fvJjiz7IULA3PgMCQkxW5MWLVqgefPmZtPISOsReJjGsxSSrG/fEuVgybl8+fKIi4uDn59fiWiUdaaHkeeyxkiWJxGwBIGSjKV169aZJd2gQQPwJZ3lCJSkHcxRZwsB/sGvV68e+KPLplxqehamLA/DmWu3hEWBki4PDapVxuxXu8Pd1clUVhlOCLDgyVqkChUq4OzZs8Iyg39PLXU9f3kB3aq1x7jmo1DesfQ1UfPnz0fHjh3Rvn17wRI/T5kyRfj37NmDXbt26Z8t5dlcupMnT+Kbb77BJ598IpKFh4fjjz/+wKJFi8xlsziONaKMM39w/M6dOyIfLwD4+vrC399fLPZaTKyMErJp1tixYwuUZun4LJDJ4OH8+fPiSQpKBqCUgtfS8WysTS0tnt/LZ86cwYULF4SWn/PxO6ROnTqoX7++xYtZpt/qlnIi01mEAJtg8OrX4cOH4enpiXLlylmU734mehh5vp94ybIlAqYQuBdj6dq1a6I4KSiZQr1oeGm3A69S165d26yAxFz8deg8Lt1KxbZ5r2Dw/HVgYY01W5eS0rDl8Hk81+mJoszKkCIIsCDq4+MjJj7WCEku7u7Yn3oKYyJmYlLg62jm1bgI7bsJYIGIBSN2LChVr15dT640BaTs7GxkZGTg3Llz6N69uxDQuSAO69GjhxAenZ2di+2PeuaMePi9wvOUKlWqCKxr1aolUrHgxNq8zZs3gzUs1apVM5LbfNCxNYrgaD6V8djAoQq+xmNRREDidJaOz1GjRhUhy1qmPn36YNOmTSJOCkpFILrrgOLGc2Gh19ICNRoNtmzZgsTExAJZbt68Cb54AaBnz54WbX+xWEgy1bmrNgqCN13SWYYAm2RwAwUGBprN8CDh/TDybBZcGSkRuE8IWDqWDNkbOHCg4aPws5aJV653794tnqWgVAQiswElaQdjBNn0y50m4MW5tEwt7JwcMGDeOjg4OsDBwV4ISXk2tkgmLdOj7tKuHsLW4zno3LcNPO6ysqzRYNytcfbOTnCgPU1pmnTMPPgp+vl2w+tNX4SDrcVToGKL6/xaD2y5HoGv96zGbd87WL9nF9zt3eDypCP+jN2OPr5PFUvDVIIvD32Lsc1fEyvic+bMwezZs0X/CQsLw9atWzFv3jyhoeSJIT9//vnnJRKUWEA6evSoWG338vISK++///67YOuZZ54R5bM2j9OwK4mgJDKW0R9Lx6cpdn766ScRxULjvRKS0m6eRvjmHTgTD7Tu9xw61bNyhKRdRNjWM6jZuReszWqq3kbD71E5JRnPRvnTBbIGSRWQmHarVq301lsxMTE4ePCgEJ547PTv318sWJmjd9dviBsnwwT9shSUNJcPI+LwDVRt0R4tahb/A2UOAIvjNJcRse04sv2aonuLmhZnM0zIjccvnlOnTokVjpLYVd8TvDXJSIY73I2cKXFfedYk4HJ8Jlyr+KGyEd5ghm9D3KX/LhDgfh9xDtXad0dda4fa3eS9C5Yf1KylMZYM6/bXX3+Jx9OnT0uzO0NgivGXZjuwZsrUHqT45DRsPngO/CFCTjP4yXo0kQVS0rWIOBMrJrW5pE1CXi5SLv6HUtnD1Xc4CVNGVuiTDmFy4E8YenAB2ngpFbx59Ge0WmSHgyFDoAsqpub3Lzrt5imMGwPsu3L3QhJjybhb43IIZwfK5+BCFhx03xC3A4cTTmJaq7dRt2LJfs8Ny1905nv8dWMXHO2dYG9nDxd7d+RSyyfk3kF3v7ZoX7mVSB4aGgo24apbty5GjhxpSMKsf1PMTlxPT8DMNuPwn/9wX6FuQ3XiizVKqp/vrFFizZI1mjamx5oiFgaYN55kdu3aVVi/DBo0iKOF4zkL76/mQ1BUbRMfqGGpK04bZCkdY+mMmWaZG5/GaBiGqdql4vYtiTw0PucEDsISAwJDx3yIAYP6olMD86Pz8JqeGHPkPSwbXBXI1RpQsNCbFo9R40Zj7cErFmYoYbJ7VI658WysTYvjnk3sWIPEi1e9+/aDCy2QqI61ol7ePtj0x0bcunUL/Nv5xBNPqNFG73ctJDFVnrirk/fCpRQZFMnH8GXXkQjVJ+yM58f2wnPDeqOusYmwPl2+R3P7MmbMmoXpoZvKUEi6jW3BwUieHlJiIYlrwIOWtUisgu/Vq1d+pazw3RXenUdi3mtD0DPQD5rL+/BTyE9YvGEHpodswtAW3ka5KHOeiYvk87vw6ZBx2CA46o9Fayeho26WbhHfyYcxvusovBR2BG3u5R7fsirHaMuUQaDmFibMmIwQwpGMF7CmeRByqK8MqxtbPL4F8pYBrw9BEaUxlriaqnaJ7a0dHBwegpo/WCyWVjuYq9XEbzbjYkIK7OztxKo+39nMztbOVoSxPzs7B7l5WuSk/ypIpV07Bbe6K82RLRgXllPw+QF9cnVi8/IcEgPvj8uh393sXMKKhFRb0ug52boiVpOEt3cE47WAIXiuQV/YklavJG573B4SkPbA2ak8CUgORMdOCMMssLT3bIKgvCfxzWdf49lnnxUCkirkWFOWIwl3JzMuYVz4B/io3WRUdawszPveeecdQUbVKM2dO1f0MVWjZM0eJTbhYyGIzeyee+45sb+JzZbatWsnhCKVX94qwGmSk5OFVUyTJk3UqGLvb/182GSargFV9HG7zidQe+Xhm+db6MOK85TUNEul++P+i/jhnwvqI15+sg5ealNb/1ych3WbH67YgoGN3BCfeA3/rBqCl3ruwo8RC9Gptql9cEm4QT+ts99+Dr1aWqlBUhlysMNQ+idcWiSCG/ZB09+PYUizQvTMxam0zN0NyzGXrhTjStKm/JvIrmXLlgUEJJUtFpo4bvv27cJstzghqWRvBbW0Et65M3UeOwtLlyzA2P478PPiGdgYEWUxNRdHZ5G2TKcGVBjLcO7UUe7G8Somv2D4RaNuCrwbepbkZbynLFmDsI2r8HGDUEwduRsxFKbNdoR/z+cgtjqaqVbZ83wZf5KA5DNvJY4cOYLQjyth3JDNgmeur0V8u9fAW6GrUMNCwZvplsiVVTklYq4UMlF/70//FOeClitD0aaGGw0EC/AtkLcUeHkESNzNWMrU5uC9Vf/gzaUReP6zMHF9s+Ma8mhSZtJpojCXTmfaEJlsMskDFVFG/N5NO1iK18XEVDiXd4ETTXDtyMSOZq/UVrRQRpPn7Jxceo/liKtqhRzk5ZBWgCaFmSmKGZOlZejTJUVi8eTFCNv5B4LJpJvNCVeGnVaizcWlncXKOaNEes7z2do9SONcap6/12OyoDcK6/dHIuz7YCVt8EqcTlLIX9yzFqN0ZX62fr8SSH/P6sNHYV7oRGComX6qz3VvPDkkIKlXLmnubEhQdXAtB/sK5fDtuTV4J3wWbtBKeUnc7zHbYe/gDBtbB9Ie2SCb6GtJKMvMyUbvqh1JEx8BPoKa7yURkJinPBKwHVxdEG+Xiv8jwe7orVOYMWOGEL5VLRJrlERa6l8c1rdvX/Fs6Z/Y2FhxMAZvbucDGl5++WWsWbMG27ZtEySeCXsNm69FCIFJPUSDD3YoLeddwRmHb/wMT/rN7t/YF37uZbtvmwWkcd0aYNO47hjbtX4BgcmSOmookYubJzy8fFGvQRsMn7UFUxBG40YZh8bGydH132MiGWPNHBSIGnPW46bJ8XgUn436DIduKpwkRdK45PQFGEvCX0v7IJTCJj4TiFGf/WEQbyTOVFmU6++Vn+nfCWuPFixFKTIW6z8bheCVuvdFAT7u7wNriNiZOyBNjeM9a8U5q4Uk1gxZchVXsI9XbbRp2x3Dhs4SSW9l8FQeiN71G4LpR53tP8d/+RuidXWIiliD8SJ8PFaEHxNpxR9NNH6aq6TnPMFLKI9uPhC57Sd9niUhSxA8PhhbIhWC0fs34cvxunzj52LDvmgdTQ0Ob1qhy8fxX8LY/OLYphA0H78CUbqyTNPLZ1X1ZWVloVOnTtixY0exZgOWYF1EW6cWpK8R6MfaA5X9GqJpkwkUSqd9EN/udVugS8cm8OpcKIORx7LkOTnqFObTxLz9k40FJ4FdutPTHBzXgW0R38nx2P/LHiSQ9jo5aotoz/HjxyOYtIHBweOxZFMkRyAkeAn9CPwm+tuaY3GA5jzWfDlePHN/WrJhP/jlZ5pGfjlGYNMFJWDXmiV6mht0fVBffsQGfX9bseWYKE8fZ8gbUbu8Pz/tkk26VTlRjxBE7NqkGzvjselwFCJ+mquUOXeNfkyYzb9vi5hQc73XRKjjwbBWGlzauQln4wgRPb4x+G3uePx2mMVuxR3b8CW+3GAwRkVwHDYtGY+5axQ8jfKhEih8V9vJGpwOq1jQGA4Owf7LuoFKtM/vUzEkfuZSf1iyhXRk5NRyDDE30R+UtJZhXrg61owlw7yXbt5BTHImlr7ZBe4eFeBRyR03M22QnGnK9CgZ21a8iJ+JSPDwrhivq6dR7C3tQypGxtqCyjFN25JxZoTf5EgsGb8Ex3S/A8lR1K5fbjLdXqZ4MARS5y9pOxghZTTIxtaGJpQkGFEsX+Uc7VGnakXUruKGWpXKo5ZnefRrVg0dvX6k34E85JKglJttqi2NFpEfqM3EzTXzMeql4wjashu/L5uAmaMOIJZTmIuDA+p2GYeDV65g39pP8MXEvxThR80z4iqGRuzGig89aKGqD3a6BGF3xFqMCZ2JA9FE/WIYurwwES9sPYYrB39D5rghWM/S09W/0YPCu67eiqiof6NTI91Kdz7Het8ssgqZNm0ajcW54rQ2vvMz770pLZdNi5MFLhJiGGlbR0c4ViiPk+mXMCLsXWy5uMPqIk9fOYfMhAxoaHym3UjRX3fibqOWqx/UA1ZYoHj//fetps8ZmPdcErDtyLQt08kG0/YtwK9nqa3IXIixCgoKEhvRWaM0depU8dytWzeryuJDGdh0Tt2D1KhRI6H94mderLQv74wll8ny5NQKYsRGmPOpJ99ZWhBrhkxdrEm6nH4K6y8sRI3KyXi/V0NLyYp0bJp1N46Foz6N/QSJ22QSWzKXbZCtAdp9MhRrtpxDrIlx0qxzH3xIOd5b8Sf2jWhHZrMmxiNpYWPDYumv4rSZGVizJMOgLPZ64Ml+KxBEPqb3n5fbG5jhGoszXlba2WMYMfMLrCDFxZVj+/Ckr6EWzAWODkkIW9wW4072xBvD28MwlrkozfF8t23K/JhzpkylDfNYLSQZZr4bvyb1Ns5H78f6jcGCTPM6vog7tgFDx81CpeClWLdmEdxDZ2HoH/uQELkJL06Ygx39pyB0zWuoBoPVC+rLXq2XYN2mMKz6Ygo2LJuFrQejkUC0hk+ejx3PT8fKtW+hVtZ1bNixAWm0upMcSeW8OQOhdYKxau0qzGpwHcFjhoqJnub8AYya8QV2jPwY68I2YuXSTqhgUFEXZ0fEHPsNI2csRvCIHmjoTnMrM/QMsuq9vIrJ9sK82frAgQP68HvloYUZZND+nYTz+/HXuC+A0e1Qh/hWnBaGw1oNLXwvS561OTz4fWgw6rjQKK+GjCxFkFZCi+M7C+c3XEYW9Q/3mi0whTa6T6cfqKEdfbCBzAsrVaJW1WYhfsMyTP49BaFr1+GpWt5E2h612r2BMPpR2BQSjGXB24WAYZIG8svRcVvkpjl/EuPmLMOidbtxJJxMRL25Rcip5W9LxWvrNmLVoun4YupI7GUpX40z5O1yBAa+GYzBa8NxJCwUWTNGYZM+7WJMGBeLgURn0RR3zBj1IvY6d8XGdSEY+fMcHDlPAmBx+cdEoesa6vMLRmPOhCOgHEVcyumfcYfGEPT19kOd+u6Yte447WsjR5qA8OBQ1Kntp8vLL9VkRIT0xozTXTF8aBu4mOJDl6PITcXCYpx2YeCoGWhM2tPdR8KwtHk83hy4FueZMJU9ZEwwOixZS4ceTEfHOsCG02Lt3DjmJvqD0j4WYF6kMmR0ZMX4Z5OstAwtTlxOQPydDLSoWwVfbTsDT1pltaN3kZ0TXciA9lYE8rKVo3rzi3RHq56L0JkCJixahenPPYnKprAXGFtQH3NtYZa2JePMCL80Lbi+43r+5CArAxtCdZMDlRdLxkg+KHqfNe2gz2SFJ5e0RVxGtjYbLWt6IuTZKHzUdgk+ar8UH3X4Fv/psAzDqk1GTvJOEo5YQMpDjpan7pY59fUoUtMDL+aEREynPRDVUdObx5+jYt5mLs61NgJrOePY+rXYyTvHyeXQO5PmakQvCD/uG4s2taujUdNACvwEY5/vhOq1AxAQRI+kGDpN9v/sToT/D8vWRYg9GYkp6bh47iSFfoKn29ejPSzV0ap1W2CNOsUTWfR/+ASxmjVr0ju5kjgVjk9/5Wee+JeWY/NKVZNkeGdRycaetUrOcCKtH9nKWV9kOTqEw9kGubT1ocDlQG1J0jHv37lbl03vXC01TI4N8UvCtr0LWdOQoMKO9yCpjstSNUpq2N3cWSPFJ5AxfnakES1X0R1hKfvx7oGPkediY9GhJYbl84FUpq6Ec3tQjsrQ2KXjw13zsTz8C9FmhvnN+UtimmWMnmp2x0JTqTg/Z1w0MU7g4YkK1M3LuXmR9s4LMDUeCzNiQinrQQswPPLdmZ6XR4FcReJMlOXq5wNeSh/x0UKsj0yEp1e+GOSCUGz/fjJGHfkQW0OeR/UCJSgPpTmeS9Km/B5hx4c0mHJqHGtEi3P3RUhiJeqG+eMwZOibmP9zf0xfEIqnA71x4wK/WIHQM1E4HnlV+PHFFRyPPib8wc8GITAgEN279lLi+K97ABr42uL4jjDsOXVZhF9P0SBGRyu491NoXLchunRtp89z9eIF4Z/V/Sk0pLjOOnpHLt+Ai3tFPM+xoTOwjkwHUitUheHZENePbcH8kbPw/KyVGNRCmQiao6cvtJBHq9WiWbNmOH78eKGY0n9kvOe/OQRBQ95E1vQFWPdiF2E6aG1JZcmz/gfeWiaNpXepDD/60S2XdAzDpy7D6AWrMLRNTd1EAFgyZQQC69ZEZRYcXWqicQ0nnNy0AXvPJQpqYtJgioax8gqFufh4YTSFjfvsW2yKSoKHegqFA09EOiPkX8MQWNMPDTs+KV5Ot+gEJmWSUpC36HPnBOVTu9ZhxR976HUF3L6jpu1M2rFRtEfPDw2eYA1cMF4f1JbqXRd1eJZML1Xz+YEv1o1H2wA/VK/KwqKDMsEiX3EusE1PGtAzcIKkqrjj+4mv6WjdWNkI5kJ6jJ2rgjHh+BSs/XKQeIGb5MNUQVbidP7SCaIUjM5tA6ifV0abp3qTJnIxLcokEwandHF16fhPbzRp0hpQF49FOQUxN9kfdDwVh7mpKlk6lniCMpVMGt7/+SAWbjmFfWSrz9eN5AxaAODVcZqIZZyD5txM3In8vyLFuVeuQMsNgFuFKvCmDm4Se0vrY6YtzNO2DNfC/BapkOHkwEh7meShCCElwNJ2MJHdbHAOmdPxlU0rNcMaRiHrxkpkpZ1BVuppaO9EQZsahZysZJ0GSSckZVF7GnMsuGANrtxM0sfGx8UAQYaADIWnbj4jkutTssd43E0y22nYtieu2fsisEl9EotY1FKdB5zUTUR2jmog3Wmyrn/ik/nGoHmbNmTn3wW//fY7utZyR6aGBHYD3gxz67PqPHz6VOvWrYVJGn9HkE8k42cOLy2XnZtNe1xMX43d/LGswyz0rNnJ6iLrV66NPEdqPyNXVPI5vdkPH11eUnM7bW4WCUnKVc7WAbNbjMfguk+LhVYWklQNEvv5aGN+njx5slV14ZPA+PAGPsWO3c6dO8XF+x95D0cOmRHSyRRwquCK83lxmBb1Keyqk7BWis6GTht0ci4Hl/Ku2Ho7CjO3fYwbdxThvRSLMUuKze5KLiCpA4aLuIhD767B0Ka0AECLisbGCadSxpKyVG1+PNLPOL3zhKO+YNTRwDccwQXSFIozWZZrY0w8FoEVz3jj95f6oOGyvxUTXEEsCI6OfkDYRcSczX8XGZZTFuPZsLzCfv4OErtDhw6J/lw4nvs4x7FT0xZOY/h8X4Qk1gf0Dw4RKtwjR0hb1D2wwKS9P00qPar4ojt9GG3R0iZ6dR5vimSnodVE1Z2PCEG/F9/EyZxKaNI8UOye0K3T65IoeVJ0H0TjwJxs5sCYox+cyoGYtmkV5k0fiwuLZ2HMi/2wYtf5/MTlHOkcOODn4J16ExCz9PJzFvDx5Cc6Olp8hLBAxD144NrywQysMh8ztHsBoY+LMxzW5oovK54d7PjFexka9ZfexU70Dz41yNAVfDKMMeKP2YdPh07G89TvxnQ3VOP3hyOtAKougcx5OvQeili7qmj8hD+JMAavHJM01Nwm7i4NMSZ8HRb18sJfY15EhxW7DKi657/41Oz6GUhB3lh7A4xEE/rBatasPUJDV6I97w8Szp1/vxSnf5Pyo6HGzVz+/qhocoKlo2vq5tcEHz8P7DoQgb20+jf6i5ZgMUtxnemlStP0HZdx/bzQNVGwOT7UfIXvluOUlUn0STBU4VApZWZqqa2V6Zo+TmjF1BR8L4i52f5Ab4LiMTekne+3dCxxupiULJSjiYkDbTi1paOjbezodC9aoeY9LbTES/skFWE+V6MI0fmlkK/QD6N57C2tj6m2MNeuFuJahF+lNvouLVYsDGtYkK75+hnmU/yWtkPRnMWHBHh70GFVtD8lMxtuuedJU0SKBWoyvnLIrI61Rnk59qhQMxju/gtRocb7sHeub5ywVwXUopjjp6OgTE1iceHUFwjqWdvApEadcBknoX+tGERfPbmTnt5D175kNkMCWxjHKfM1g1SmvQ3qN6HIJbipcRcT6ZYNfOFKP7lV/QJoIjURB45eBR9xvHGN+T1JPLHiI+15AtOhQ4dSFZCY+1zek0RjvfBlQ9q7UTUGYl6zSahaTlnYMV1b4zHPVg9CVnYWLVjQu9bg4jJXRv+Kzl06ixPhunTpUmJzO+abaXvRqXlfNp+GQPf62Lt3Lx38kS00VYYaJPbzNWbMGOMMmwjlfUj88dWkpCS9gMTbAvhixwdfZFPnzbO3IdO7ckhzycHcmBD8fnmrCYpFg81tH6js314sGPDpGg72jnChPVhX0mPxzuYP8PeFPUWJFQopLdOskgpIPO/UaG6TsJ9E5nVHsXZOF3xEv9fDOjeDqXFSqAowOR7FXGgNrl2ORdLFnVg8aKbxPX508qAv85Gps44wLKBQnKmy0mLPIjLeFd0GvEoLuyOBj64pViJMl0z6Or46FatnazCix2T8fdZIOZSutMZzSdqULbRYm8QHi2zcuBGXLl0CL4bxxX4O4zgXFxf9h5INYSrsvy9CksIECSSFXNWayg9EsiYDFavXR/3aVekoTVIW+dGqP7mt27Zj/+FtWE6aHNWlJrL2qDNaN6GV4bTb4jQ0jTYdnnUaiSSzfllLHwP7Cb3fnKNmob05iqR54J9/cJlW406cOCviGvtVphPfjiHiUg5aDB2FtxaMFeHn41P1eX3qdcWbIdPpeRlGLvwNMeQzR0+f0cDDJjT8Y/APlc8/CPfa8TTfoSjcFEoxmkzxm5hD/IhnE8yUJc/uDZ8gjcoGHDwaLbiJ2rWT9BFT0FSnnbCGb0EggfY19BuDDaPnYeSgFnRyOB15biD7GFY55vReepyA9j3JLCwrRVEy8KTBEhp85PWG37DtmKLRVOlq4s4jKsEVHXsPwxuzSJr4IhYpukgXquepo1FCaIqLPAUyhoRvJVXwUSko9wD/J8gTinhNBXFCYmCAt5iQFExl+qm4/MYmUaapGca4o+lT02nhYAJm/TwSnZrV1UdqSJB4cti/sHS6hvY0BGPXeQ1M8mECPyZmDU4165ImbccsHI4k1Ra5qIN7COWRaFCHTm6qWp1CZmH9pn04tn8LPh1O75L+epFJpDf8Y7I/GCay0m/NWOIDXlgo4ot2hmNUuyp4t6MNJnfIw6R2ufiwYwwqJC0VHOSwVqmwox8CElGRofvRNIl94Xxmnk21hTW0TeJaiF8W8khNidircUim0ziXj6T3uJn2soYHa9rBDBwmo75462m83bsZXuvRBE52ilDEJnXZmTlw9uwH16ovw7PBMqT+fo6EoxqYnBCByq1+MEGvHgb/vgQxE19AYA0+qWA59QAAQABJREFUmKEtRp98D+90a6lPX3BxkIKD9FEFFiFFqC6uQfO+pGP6CF2I5r+3xWFM0BoMeX+t2PBtjp7+56R2ELb++AnefaGLstG7YSua0KbBgxZxlr03FGOe6YCGrXriQsWh+cyY8PHEik3F+F7aLpck1AIXCR01nKticcsZGFqrN1nZ2ZS4yM5V22BY9V4k+GaREJZ/5ZJAsTv+EH5O+ROvT3gDAQEB4nht3pfER4Fb45h2YHl/fN3qA3jCTQhHfEquoQaJzRP5G0n8YVvGsbhTuwqX7+/vj/j4eHGxmaihgMRptYSZuEhYyqWZoy0tGDuQxscaE0U+3c7UFR4dT/ixiSoZQZKZn62tHfjDuOXK0aEYFjRPSUyzCmPAz70XbTMWXGwYW+x88BJtwWgYiLZdnsHxCp/hz32z0NKLIkyMEyaqH0vkNzkevarj6SlBGPdMWwR2CUPAJ2wQl+/0Y5VMW9vOHokPeDwGFzrYoVBcJRNjPzYxCn16tBLj+ZmJofhkdUcheHFpXE5WmivaD58p9imO6LEQ+2Pz+TD0lcZ4Lkmb8nudxwKb7bIwxKfYrVy5UlzsVwUkPrnx5MmT2L9/vyHbRfymZwdFkpZeAHemIsu8FOTdYhDtK9LimwmzMHyZrrznZyFsWjfMG7sPU0mzsyO0MyZMGU32Y8sEiaoBHUlEmorJw3eg8+gJGEkryKFz/sTAsGkI+TgRK2h/0Yzk0ZgVPBbBsxYLon5t+iF0Xg5G0gbHDUoQJny8FE+38YM2+iQmjJmqK5xuz0/BsE6B5DkG5js9Iwt+LYaSidYFjJlPJ/TRRr9ZQ03TyyeU73OkzaLh4eHiJcQrmffacccurIXhMhMityFoeLBS/I6BdFjCSISGj6dVKiXI8G/Z8lwTA9d8geChQ9FcMMFHgL8IRVS2nG/1xZEQE00iLbllU9GbLuGe/xhhY3yLTB4CmvYkXcI4DGz+BTqPHEv9aQNGzWmN1a9lF09Dy8fEz1KOiQ9UuaUfl6SzePHFGUq59Dd46ToDTQvpzPZ+gw4Tdoj4CV+sQceaxDkpXVT+9RlrdsHaJcEY8uZAmuYrLjg0DINqGUlL40B13MPEXLOE+Q350NMimobhfo2bgJcULk/vhMYG/YfTZGlc0GboJCzK+ZQEpW8Rsmm8iXoYx49ICGcpTi51u2PVgil4cXhvejOw648FK99GADMT0JM2vGbil5/GYKT7WPoII4njf9AqrUhXsE4cZKo/hM2qUaD+IrsxzHV0DW/WjCUWknJoj56W9rWM6uCLJomv0RHSKrcsN9nQiWnKDCKXzO+KOBc/tJz+PN6kPjOf+/y03iawL1p3erHqnWG7c6DRtoDl/dMkrl92L8Rva3QfS+98akt6GWN6ML37j+jZKtoGpvp4oGFvVfJb0w75JVruq+TmgmHd2PQVuEn7WDNIQOJTpvNoB35q7FZ41p6O+IWhyDxzGVVHT8c3cbRvThuPn5ssg4dDxSIF+Tbri5CoY7iayIt2dvCsTlobNZVHS8y6ki8weTV7HldCdJHm4up1wwKiOYUWhL28PIC0oRiV5QovD1fT9Eh3NSTkiloy6nWisqJ60slcWtrbQ1YgOqZ6jV6AYwMnQuvgLujx0mJhx3tdeFKjunshIDFtVUBiP4+WIdV6YXS9F0rtY7Jv1huGVDpdJK5aCs5lXUUSLbC5O7iiYrmqOHzqKHZ4BGBwnb4YOXIks2C1G1CtOyY3fxNJiUliUseHMrC2iB2b2KnaI/WZhQtrHR/a0KJFC/Gh2Fq1aqFq1ar07snRfwcsh77hk01mf6pzp2PUZzZ8HY0q+KtBd33PYZNIEsbYkZyEum418WaT4fByrXzXtC0lUCJNEo2x6XT4ibE+rpZrapwYjiVXU+ORRnrQ2BAcG3qT9i0pY2z48zrKBcY3CzCzcKzfO2Qa6VHow82F4micmhr7V670wM2baQXGMwqU44Fury7AlVfV2in3shrPBUst+sRaIv5QLB9swqdI3759WySqWLGiWKhgjSkLSOwiIyPFvQ2ZDBtzNnQEHnXF4h1vtiuJK+7kNaM0NXTIANtaOdCOAoMvnCYnxNEL11vZO2KYUaQnjQ5vKqEPkCZoHMifiv27rqIC2QG72Wtw/M9vMGPZDsxbE46eAbpZnK4cB9pvYlAMUdYgOUFDE0umYzDjMyzTmN8kvfzEfJoGS7C8AsQb3Ax/IPJTkUhWlngbFmzEf994praMScqEk4eJj8ka4bVUggr3J23BfmiujH0hzXGy/jqM6pgvJCnpNfQBYQ11aYO+Rt8MC+76C54Nn4UAbQI0DpWL9m1jhVnQz4xl04eVID91WVJPx+Cn5v1gZ+abWvoyLPEY4cMofneJkwt9+8NwipyQkKwf18d+C8bII+0QNqs37V4y4e6iPxSmaOlY4nzr6LARNh1YsucWLidlYEqQB+rfHgN7JweFrO7NzftexDHANlVRueP6wkWKZ149A01W9e85I9gbzVg40JK2sJS2GVwL85vMR7Uajp3CfBV+LoYHa9qhMGnDZ/6hZWsApmfOJUR+jKQL38GBVt/ZVWr4ERJWHMKdQ/vFc9Nfw2C7rqrw9/fuifVtVwq//FMUAZ647969G3z6mqWu3frB9O51QhUHD8xoPAYtK7OZYOm6+fPnC5PB9u3b46effsKwYcNEARzO2p3ScGxexx+K5WO5WWvEJwGyYz9ffCIgC0h3s/jKp/Hxng3+8D0fMMX0WGAaEDkOjnRsOksv9R1r4gP/t1HJsagwfzf1fP630XAuR2bF9K9v7R4YFNAHdqRRssSxaVZhzUNx49OiD8XqCh81apQlbMg0ViJgbjwba1MryZtMzhokVUDiRI0bN4YxQYkXCB885+IOdW+7IXPulfN3OhiG02kL+enph1TkTb6KvfSJ71CDhKNnLUVHVUDicMN8Bul4TdXdGAMF0hh5MEkvPy3/mPJhDbwR0pSAlJ/6wfDdN56pLf0MZ7dlBYdhO3J/srRcOo4+vsI89GhRWEBiAiRoFelTOaQwShanSRWeyJst0pA/swlNRFqdPw6bp/fGrB1MbzRW1jAxDk0UZzK4MB8m8StFnKiM/wUNVbSCgjHSMq1qbb6NDfm0pj8Yqbi1Y4knKO8E1SLtQSZqusUhL1GRjGwcqtCqbiWa+HnAuVJnMscrB4eKrYyUqATx18cLOMM6FYgo7sGCtrCUtmG6QrgW5tedBF2rnCFtIxmtbQcjJEQQf8iXVynVE5VMpavo/xqSr2zDnbiztOqfB03iTFQdGIzbt2KQEnlWyUZby4L8uiC0+SJTZGQ4IcB4W/sB5TzSTnSr1BGTGo+Gm2P5UsfRUEBi4levXtWXwXutSktQYuGHBRc2jWPND/djdux/6623RJy+4BJ6qlWrJr7lePbsWfCx5XzMN2v4WBuXTeaEfSt2xrhaL5eaFs6QzVzad+VhXxlvNXsVDSoHGEYV6y8sIHEGS8dnscRlgnuGgLnxbKxNS4sRVSBSBaUKFSoYJW2xJslo7gc+MBlxMbSRLiMbzu4+8CsySS3bCvALjVdIz9BxkCwkPQzuYeT5YcBV5ZFXyB0KaTrUuAfprkmIwXU6Uc3dp27+gkQZMliaOGmSE5B0O5nMn+ypPnSqYRkJ4upYYhMAS8yKWJPUtm1b8UPPkyOb9NPIPDWWVnOdaLKdDN/+xxC7IRBenb6Co6eBbdw9bpfSbIt7zKpR8mo7lMZ7mD9cyKYbTZo0sXrizszlkVbk+OfzEDh5BsZum4Yvun0EezrhSzrjCPDm6xMnTghhoDjB1DgFGVpSBLpFDMOk+m+gn/dTJSVRbL7Pdi/GW21GwcVBbMooNn1xCe52fBZHX8bfHQIPwnhmjRILSA0bNjRamUdcSDJa5/sWyBMdPmGudu3apbLiUxYVeRh5LgtcZBkSAWsRUMcS2/ubWrUyRzMvJw3xu15Axq0L+mTOHrVQpfPPpEkq/dVxfSGPmEdth9J4D7MN/qVLl4S5I7crbxZm+tKVLgJsZpaYmCiw5v03jPXDYolRukhIaqYQMGaaJcenKbTub7il49lYm5Y151JIKiPE+YXOakW+atBJQg+Dexh5fhhwlTw+fgioY4mP1+UPZUp3fxBQ26E038P8g8+ngvE3flirxDb20pUuAqz9YzMzb29vYQomBdHSxfdRpibH54PXug/TeJZCUhn1H179Yjtl3gBprT11GbFYpJiHkecilZABEoEHAAE5lh6ARiAWZDs8GO0guZAISAQkAg8DAlJIKoNW4h/mtLQ02viY+9CY2T2MPJdBU8oiJAJWI6COJdYwlMTMzuoCZQajCKjt8DC9h41WRAZKBCQCEgGJQJkgIIWkMoFZFiIRkAhIBCQCEgGJgERAIiARkAg8LAjkf8XtYeFY8ikRkAhIBCQCEgGJgERAIiARkAhIBO4hAvZ//vlnqZKvX7/+Q7PnplQrLolJBCQCEoFSRoCPSJVOIiARkAhIBCQCEoGyR8Dex8dH7JUpjaL55CB2fn5+pUFO0rhPCMTExIi9E25ubveJA1msREAiwAjw8dLqR+8kIg8/AvxNjrp16z78FZE1kAhIBCQCDxgC58+fL7X3K8szvH/1nnzQIS9P+Sr8A4afZMcKBLgNZTtaAZhMKhGQCEgEJAISAYmAREAi8MggIPckPTJNKSsiEXj8EMjIyBDHOj9+NZc1lghIBCQCEgGJgETgXiJwTzRJ95JhSVsiIBGQCKgI8NH6rq6u8gOeBEhISIgKi9F7ixYt0Lx5c6NxMlAiIBGQCEgEJAISgYII3BMhqSRmWv/efLYgZ2ae/v10PTOxMqo0EJDmdqWB4sNPg21yT548iXPnziEpKUlUyMPDA/7+/mjUqBHUfYh3U9OlS5fizTffLBGJO3fuwMvLy2rTUC6TXUnLLRGz9zkT22uzk4LSfW4IWbxEQCIgEZAIPBQI3BMhqSQ179eoqj7b1aR0HItN0T9Lj0RAIlD2CLCWZtOmTbh165YQRAxPWtuzZw/OnDmD3r17C01O2XOnlMhCkiWCWmpqKnbt2oUuXbrAzs5Oz25WVpbQQkVERKBjx46l8rFnVQDjQu6HEDZq1Ch9/VQPa5n69Okj2pPDpKCkIiPvEgGJgERAIiARMI7APRGSLNUkrVy50ihXw4cPx8DG+UKTYaIPt0QbXzVOjcb/Zn+Hw2riai0wqGdXtAmoooZYeL+N7dPnIWfkuwiq72lhnkcvmdQkPXptak2NWIPEAlJKSgp69eqFGjVqYNmyZYLEwIEDceXKFWzbtg38CYHBgwdbJKgULp+FllOnTolgFiyeeOIJIagUTmfumQU5FpKKe+dwWZcvX8avv/6KzMxMPckffvgBTk5OYCGK3dNPP62PKw2PyhfjuW/fPrRv3740yJaIxk8//STyHT58WApJJUJQZpIISAQkAhKBxwmB+yokmQL62LFjqFi/NZJyCrIX6JImsqgTjwL56TS2LAro9uIYtK6ai9O7l+K37zxR6+OnYJ2Y5IR6r78KeJYrduJVoHx+yLiMVbOWosbrM9CxTvki0Q9TgBSSHqbWKn1eWXhhDRILSNWrVy8wFrhvcFj37t3x119/CUGHTe+sdSwwJCcng4+c588G8LPRsW2GMB/cwK64fJ06dUJCQoJeGFJJsnaMr/Lly4PTFEdHzWfpnekx/bCwMFHPdu3aWZq1VNOp2iVuV0dHx1KlLYlJBCQCEgGJgETgUUSgoBRyn2r48ssv60vmld3jx4+D/qDzc6OKCEr6hEY8vD7s7FIBFatURN06nYH9cbgTdxn/bDoCn6aV8Msvm9Dj1cl4KsATcWf2YdOK3xHNdALaY3jvrmjozYJNBuKOH4C2aRX4VXRGXNQu/LryT1yjmDbPjMDAtvU5B+Xfj+0r1iFSPLXAq1N6ISV8qXiOXP4xjrcZiBcHtkFFES//SAQeLgR4D1KVKlWEMKRy/sYbb6hecWdBifcDcVpLhaRvv/0WKh0bGxsEBQUhPDwcXbt2LXBKnWG6AoUWerDE1I6zcLr09HSRm8sNCAgQ/uhoRTOt0WgKlC8iS+kP148FQXZcr8JOxaNw+N0+Z2Rl492Q7biRrEHiHUWYrFPFBVOeaWqadFokghv2QdPfj2FIMw/T6R6UmPvA7969e3H9+nUMGjRI9BkWhH/55Rf4+vreV03hg9Ikkg+JgERAIvCoIFCMkER2/N/+garDnkeAXjGSir0rf0OFPsPRuJJxGKxdjTVM/9JLL+HHH38UhDncME71q/cCpdOnmXh9NCMjFbevxeKf1TtIqnkOPs5Z2Bu9H3vSO+HVt/+FKu4eyIs7joUkIPV48S280MgNF3f+gZULw/H27L7gz+CmxUYiu9HTlO4IFpKA9Nzb09GsfBx+mf899vpOR1vHc5R/Hdr0H4FJjX2RQyY/jk6u8G71AqrtX43aL4xGmxqV4M78F2Cy7B82b96MI0eOFCmY9ySYMy0qjH0RAjLgkUaAtS5sIqZO6l9//fUC9V2+fLn+2RJzN31i8qg0DcNCQ0MNH4Xf6DgvlMre3l68I8ylNeSVs7OA1LkzLaLo3NmzZ0VdVfNfta67d+9GVFSUmgwNGzZEhw4d9M+WeJgvLou1SSwoqbQN85rj3TCdtf7z12/jSqIG62cOxLML/hCC4nVNJm5n5JgglYS/lvZBKMc+E4hNE5ZgzsS+SNuzFh+9MBFhFDxh0VpMHNAGSIrE4tnhqN+3OjaPGIc1CMKite/A5eQajPqAKIycjS3vDEcDWjZaPHsL/J+ugf+NUmi8t+Q3vNS3JVyJ3kWTtClPDz+MHv0uZv+2D8MbpNI7eh5mLmEuiI/PVuPNIQ2xszC/r/rhh8nb0WXORLT0YjbXY/YGYMr0AfASPBei29LXOA+iFON/rl27Bt6Tx44FJRaQuK/wnjbpJAISAYmARODRQcC0kJQRjzPnLuNm2nVknj6GTAcghzc8Z9xCSMQtTOhVuiAsWbJEEBwzZkw+YWskDJqMsJD09w9f42+6t+4+CONaN4Mz6YrYDG/Ys73gTz+a7K5F8ylPT6Npo+oUDzRs1hoBf4Ui9kpn+NVQBBueuFy5GsPJcenELsSRhon3O7mnZ+LKjUvka43mbetB7FoiUx3h3JzhTh4XZ3d4uuulSiXuPv3llXreb8Er5qrjSSKHm3P3auJmrkwZ93AiYHgQQnE1MCYkFJfHXDwLaCzM3QvHpnFsDhgbGwsfHx+U1FSOzdt4QYI1EPfacVukpmfhbMwt3NZo8WQDX8xddxCVPVyRnJkDO3qv2dG7LO16GMpVfhK2Dm4GLHmgdd9Q9PhiJNqEbkS/J/zgdTEMNUhAWh52BN+6X8C8Ns9iff1jGOCZiRtr5mP+min439870Tv8S7w6pA9GzFuJHdv7YNVTQ3GgX3c0qMXpvsD8vA/xy/YdGH9lB/qNHIQaW46hl9NBdDFJm/IkzcQvW7ajhpcP8XgJtTuNxf6p3yL7wM9o/9wmdOnevii/lO5a2DXkzFGqlZWRjjVL8khIometjhdDulQ/ozw0MK1FGzJkiCC+c+dO8V6Ni4sTwjPvzZNOIiARkAhIBB4MBP713eYCjPh7e6JPC3/4e5t+vxfIQA+mhaTs2zj6xTdi9RCRilGZmrnP8AmoZt1GHzWryXsB4UiXqoZzJmqAjegscywMdR8xEU/VM1Bx3eG8AWSHn08jOzsbqAaaLBR0mdmFV1i1lKA56tSrh3I5OahbtykqVHFFVgrnc0CRL/FSdubhQXI8iezfvz9Wr14tJntsEsLPHC6dRMAUApUqKWNowIABRpOows769euNxpsKLKzVMZWOw9UyzKWxREBjOnyKHR9cwBodNg9Unep3cHDAsGHDCuzX4THSo0cP/P333+jWrZtVY4bLNKwr07JWC6XyaM2dNWtvLd6EywmpcHT+f/auAyCqY2t/dOm9CyJFUFAQRERFbKixYkVNiC0mGsszxpJE37Mkmmf0N0ZjzIvBmPhijyW+mCh2jRV7QxFEqoAKSK/+Z+7usoXdpagoyYwud8qZM2e+u3vvnDkzZ3TB+qWppQltHW3hU15RSZbvO8hInAcdwxZwCpW/f5Y2pnCgBs1N7dDUzhKxf9wRmr9x/BdSP/LBprIWPaVli7ZkcUdPbDr9PoKaaiIjuy2VBGLqyC6w1cghKxBQokmzXDS5xuh2zB6DQDtysOFWiU+IMqugCLGJ6ngDm/41EYHNJM+p5vBrfhtn9u3C46ePicMzVNDjWVFeZCdSmUyQfcMJssjzjT2vQgaofomy5ZpMUUpISABTkOzs7DB06NCXtlxTpjc8yhHgCHAEOAL1RODewydYvf+8ytqrx/euVib7CpEvNPJAxPer4H3mFkzbtocTM7nUMtTVCsHov/32W4H7pEmTqlqJScnF77GPqtKSiFL+xIOpU7T4Rm6JHiVYjnhJjoiDrb0LmZN24258KwS6WiLxzk2yN7VFd3tTossREVE9J0dniv+CnKJOaN3KjqxoOcgpewZbcf71GC9YBriiOPMhYGIHM/KSxfYglZYWER9mU3o9AhsosZf4//5Hs8P9+wsDJ6UYKohbGxqFKjz5F0HA1dUV586dE7zYsb1HLEgOK5U4AUhOTkZWVhaCgoKE31dtuy6pz+iZ8nLixAlhSZqsQwHWVm2+f7VZbsfaqaBJDsafKUnM8sSW2MkG5uGO0Si2yX47vXr1EkgVy2TrK8YltJKrYvnLSrM+JtERCvrGhoJyxJQzNqivJH2ljCaBNOi5ZqrzRGi+9GlsdTFI8SiUyX32jD1VJ8EvMBDGNLn0yy9dYenMrE/p9DGDvq5YidEmDYSes6wtagkV7FIVzKCtJ6ITlVNBOXsmq+M9DPr6EgUJyKRlc+36TsOib7agQ2tTUrsSRNwV5JU0qcXEYaGcTXTJvubk+aqWQait9A+7p8xLokRBYtedO3cKilNV/5TW5JkcAY4AR4Aj0JgQkH17KJFbG+a2NsKStKpCYRleDqzcPWCpQnGq68CA0UvOE5Gt6+9gDPZRDLI0smV6lGCDAsVyls/y6L8Q9Bz88U54Nr7f8CVE86juCB/XH031RMoUezVTDM9s/TBpZB6+3fw1DoiqoteYDxHiLs7fugGndrMCb0R+OBKmZlbw6O6NzUR/1LsfPhzZ4bVx3KCvr4/hw4cLvVDER9y1apfa0lWryDMaPQJeXl6CIiGxojRtSqZXcWDfC7Yvg5Wxg2UZbW2/K+PHj6+iZcoKcyPOlrMdOnRIWJLGfr8syNKJm1V6qa2SxBQx5i7c0JAswaSYMWWJBaYEsQ9bkspoalqGqlQIJZkSPCRXJSQvJcvAwAAaWkX0ITs5KSzTe7rAUltkeWENGpYnQjttFT3dmOKoZJki4cMsSYUlIk+iXp5tKDUBmYUj0a1jczILZSKrTE4DonL1wQA7cS1mPLzCfJB75RqWEvmPNmbwsq497+SbJ6nWJwjt1xHa53/BIUpNKqc/pvLykn5GYSdSHsyCa048vh4yDxj+fyxTaahP/3bv3i2cucW8MTKLEkuzpXdMQZIsxVPaGM/kCHAEOAIcgQZHQJmFSFaISwls0k95UK8k5Sdjx9Jl6LXie6lCRI4Qbq76DV4rZkjzlPOuda7k/I5aV1BGaOSOkZ9+Wr1EyHevlt8soAc+9Q6iTczlaGJmJiiCzJtwkyZlKEohZUs8fnD0DsGn89oKdNpNzGAkVgxl8yX1qTZadhuJuYH5NHlphNdjV1K1rvMMjkCNCLBlbMyCwlxXHzx4UPB0J6m0b98+wYLEFCRGU5slb5K6sld2bhBTkFhg3sLqc44Qa7s2iohkPxFz880UMeZFk4WIiAjBssQGuRIaoaCR/mGuzCsq8kkJLMe0MHe4pYyEhqZIIWRd0tDUwDPB2gNUlikuLyYCQyd0+GwMRo8MxYKxaxCzeBAObqJ3wKiumCPGZPnuGES40t5LcbrqElYVE2w3TIeRhIQTX6LlhGgh+cn639GtOXPbEFZr3p5+fTEcY9G12VKETZ6DST3JcvPPjoiJekNB3mD0nt0TEwd2IP5j8dmyfwAxEimqy6zhqkKGACaf8mBrayssnZQssWPOG1hg+9Z44AhwBDgCHIHXE4EdO3aoFSz+Is2piY0JEkL1SlI50xR8oCVHxZwT3EBhAWkU5CJbWajNoEVZPcW8F8VHkW9VmjzSmYrMTDSz+hjnN36F6FRW2g5jrS2kgy8JHbMuia1RAg9JPrNSVTGlcQbNxgq2KNlMmfLGEGXYv3T8GwMQf2MZmVWC7V+LjY0V9vEwqw0LzALEltgxC5Iyy21tIWNKCfv88MMPGDdunFCtrt85ZgVi8tRUj/0m2f4ixcDqsyApq4mPYn1V6Q0bNghFL4qfqnYU801MTOBuXYj4rHyYauXhWWUxtMR9lDykKkg5YnJpNZFaB6V8DNEpcjEu95sBDT0LwTGNdZeRuH+jF7LIEYSOoQ0sjMiSpGGDRff9SEEW1bTxjUDi+mfifZo2GLo+UbT0LuchLd8bhlEzVmDOlEzk61jDzkK6jM6zFrxZC0ae3fHFjcuYTWsBbWxov1DBMIwvNYQN+cizlpNXA72mRuHyMFoCzWQ11sRbEWK5zAPkZJb0WakMkkIlV8W9ZcyCxJ02KAGKZ3EEOAIcgdcMAcm7nonFVrCwNLs2bemHlNtXqkkrp/5UKzUzRQtSiM6fuwwjv+b00i1D0u2z2IJQzDVVriAxHrUdGLBZXHWhtnzU8ah9mQXaRUyDa0EpDC0cYNpEQSGqPaO/BCXDvmHx/0vA9pfrBBsAMtfX7KMsvKjvSH35MEtSbZQkRdnHjh0rZNW3XUV+smkJb5b3MvjLtqUYZ4rtJwNbkuOGIjQzeYjyZNFMjZaeLSrpWG09I0sY2vWAprYBDKyDFasLaXbPJY47WAZLa5lYwo5tRZIJshZERsM+kiBZNkmL+kA7OfGsQhPG5OBAcfF0bXhLeMrJYGwHO3EB46Eor6WMVUdWLlmZJXxVySAp51eOAEeAI8AR+GsgwBQi2SBJK1OQGJ16JYleQ0Fzx2LusrU4vkXKdsik+TLnJknzG3usiakVHF4ffwuNHU4uP0egVgjIKhW1qiBDxJSChlZEZJp/7aIMD+a8wd/MBM8KHuMR89hAIefBXbQeewTXNzaFSbNhMLKrblV7KZ0xb4/l5+ioBfHxCy+lDc6UI8AR4AhwBDgCtUDgxVqSqEFLj874eoU7kjNyaU+sJkytnOCoymODWEA+aKnFnXrNSdg95PfxNb9JXDwwpYC59OffVXKvMGGC3Dei0rQtnug6Ijc1Tsi/GuUAQys3GND5SA0ZZK06Ddkub4sjwBHgCHAEOALsvKSxXZmjIODKnQQcv/sQoS1EaxFYmoXifOFsHyEu+6cGSxKr+RgP7t9HUko+bPyC4WiYhVN0WF/zEIqrWHHHByyyEDfOOFeSGud9+7tJzfZJseV2PFRHQJOcx7QYdLJ6Ac/hCHAEOAIcAY7A3xCBJkYm6O0vXTvO0ixIroqQ1KAk5eD83rn4LjoIQTgHzRaBxMkARdtuINtftZKUkyM+a0ixNZ5uNAiwM2P4fWw0t4sLyhHgCDQSBOLj4xuJpFxMjgBHgCPQeBFQdP3NvNdZ6j7D5rNxGN3BAynUNZaWvSr2Vr2SlJOB06Qgzf9+IrSON0GsUFsPuj7nkJNHZ+5YsqNTq4e2bdtWz+Q5HAGOAEeAI1AnBM6fP48jR47UqQ4n5ghwBDgCHAGOwN8NAXYERk3B2toa/xhgXUXG0ixIrlUF4oh6JamJHuzJgpSeMACmpVSjogCpN2Kx6UYY5k9SriApNsDTHAGOAEeAI1B/BN5+++36V34Nav7222/o169fNUl8zH2q5b2OGTeyb7yOYnGZOAIcAY4AR0AGgV27dsmklEcl3uwkpZK05CrJl1xrUJJc0H32WHy8dL6Y/rhwZd7tXFTsR5Iw5leOAEeAI8AR4AhwBDgCHAGOAEeAI/CqEVA8KLY28qhXkoiDtWdnfE/e7RLE3u2MauHdrjYN15fmyDp5D04SPs0DB6F5u4GSJL9yBDgCHAGOAEeAI8AR4AhwBDgCjRCBlJS9tZK6adNBtaKrD5FyJak4FWf+TIJzp9bIv3YRD4tkWD9Mwz1KamnpwqKpO1q5SNf2yVA1ePT+BRGYDaUoFdw/j0Pn02HfvgvaN6cT4BsiFNxH9O8XUeEcgD7tmzdEi6+ujaI0XLiYDFvfIDgrnkD56qRS2nJRRiwuJlTCN7hVtcMylVZ4EZmNCJ8X0V3OgyPAEeAIcAQ4AhwBjkBDIqBcSSovw6OER7DvVI7CRw+RlAfoKkpVmo6NG6MwZdHXaKvKF7hinZecZoqSRFlSbKr75ChpVvZFfO47GOuqcsIwds5AvDVuEFoYVmWqjRQ8uY9ps2djye6zDagkPcGBmTORvWRngylJ2bFHsPqCLmZGdoZxXiy2rdwmduAhgsfJKwgBQUHwdXnBimJxDvYf/gPDvV/OmS5q+2XthV7duyLYy1btd0BSWJydjMMHAa+GVJJeMj6SvvErR4AjwBHgCHAEOAIcgb8jAsqVJCMXDJjoIuDh0jcCbVUg42X4DlJzC9QqSWzTbklJiQoOpHzR6fD9+/dXWf6yCphxLGzOSkzwNcKlve/iiy+ioe/kho8H1W4zsaGeaFNWNeXxZQnM+OoABuyqq8X+NkhIuXcSXi3GVVlImP+OoAFj0Km5EbJzM3Hn5A7s+ZEO45o4Dr4O+i9OJm1NONE/TeXf0OduR2m/wscgyK4SN09twsFtFnBdEIbaqElN6DtMXk3QcHeFmhPj89xAcAYcAY7AK0Og5zQ/vNdBG0ffjME3L1iK8bN8ENrWBPmXEzBlxUOB+8tsr77iK8o5vK0nwqw1cPbgQzh1d4RlSS6m/5lSX/a8njoEHJvj5/bWMNaUEGlAq7wQG/dexw5x1vA2zdHGWBsFhfn49+Ui/F9/d3g10UTFMzGBRiUS4+9h+mXp0S/vt3WDvYEmykuLsOiC9N6pvLfdvPDzexbIuZWBKYsVXOSrK5OIza8cAbUIPEJ8XDZUn6ioCRsPN5gq4VGrIWh+VjKS0p6ghIaBplb2cHW0JFY5lO4LRwv1phfmDvzs2bNKmhZl+fv7qyxTVyBnGVJDqGoPE6viaOeOjiF+8DVeiS+2z8Tj4kKBU+zRbfh+zGxsp1TY5OWYPSECXjbAjehN+HLCPEQjDDNmOAq0wp+CWPywrBcWbBRljZixHO+MozpkXLnyxw9Y8+4CUZ053ki7nIZu0+agn58NYk/vxe6oaVgXTfXCxmLl2NEYFuJFiQI6n+pn/GfaZ1SPhcn49erH8BPi0j8X936Nwb/qYv+Kd+FDbanmJ61Tt1gS7l60hsck56pqZRTTNTCFsbk5fazg7DIGhYt+xMXYB4SjLvbuuAw7b3P88cdJdIyYgjAvK6TdOoU/dhxGMuPi5IchfbqjtQOtoctLENG3tsLF/ceQRcUBvSLQI9gLEnUrO/Y4vlFSpopnxvUj+HZXFsInDhSUtuy4M9iyORN9Zg6Ca9WyPdX9Mrc1h0fzABy+8RBPyYJakXgce3aJZPPpMRxDO7divUDS9eP4n5BvDVcnktypq5CPoiRE//o/nI5lvQF8ug5B39DWQn+SrlKdPYwX1XFtgjKDlhg8NBjMBqeqP0A2LkUfwb7TIg9bXUdPR6gHqyEbHuHUL9tx3yQEw8JaI1sV3rJVePwvgcC7n32P8EBznPvPUCyq2bHPa9hnPUz50gxat3Kwer3qybTXUPAXIlJYJzsEt9NH5tsxwE+1ZWmH1T+4QuumVPmRr+mEH39tiR6t2Lu5DGfuC09egaR+7clzr32qfnK62Vqir4cBiuNz4eLtBP8MYDpNQv36ji/8JS8GOSFKsPfwUUy5JZf5Giessbq/M7QykjDlgug98cqENdVH66YWsCgqRELRM5p706CvTKl4UrQpto52R2fLJlXijXVLx59oAmt9DZSDtCRNHTib6EEv5yHRMCXJHrvH+yKQffXEYZQXfQ82iSYBlN9bUqLMtOFAKzdC29liUE9H/PDlCfxzt5iBujJJI/zKEVCHwKMk/DhiAvappOmCqOiv4G9VnaBGJSn5cjQWrd0mVzN07GxEdvZE+yFD5PKVJRwcHGBsbIy8PBpxKgSWz8pfVSjMy8bd2NP4c9dMQYRA96ZIu7gTvUhBmrx8K477lmBtrzHoZemAmPZP0JcUJIxYhN3vtMH9/d9IxSbzin3Hn3F8kicKbv5GdLPh0MoXFtY3MJAUJIxdgl/faosH/9uIVdHbEfg+LZm7Qu2MpHZJCds/1xux//sSM9/shYqdf6K/WSyGkYKEyWtwfII/cu+ly2m4BuSaPfniNgye9gWWEz1TkNTxi2jvJJVVJpaXkYbsCl04O4i/GUV5yKPHo7H4RZSXmIQb8EBoNXNKhQwXF3iGOGFbbBoetXXA0+QbuFIcgIhxE2FLShTSLmE9KUgdyUozytcU9478D7vWH4HpgkFwLi8V0dNRxRETJ0H34TVs2rcN1vYzEUR6uA6pVQevO1Qv041TzbN1IAY8WIk96w1hSvfj4uaDcA6fKKMgkW6mpF9kpENpcR6yk1Jwdt9F0m76omneBXxBilDfcTMRaJyKbau34VTTmeisH4cfKL/jkHEY566HG8d/Q0KaBBJt2LUKw/QID1TcOoK1O67A2781vIjXD6QgdQynOi0McPvUr9gXx+yZFNRgZJ10T1CQBkycA3/jAmSUS19YDCEd7Txc2LsWhzNCMGkoKWPE6wtVeIta43//EggMwdpt76NPO7Y3kZ5jRo21U5po3tkEuk+eNtYOPJfcc0f+gZjBFtghGRDWipsO3EJsofdYqvxIqzlh69F26OxUgMNbr2HMfPlZ+fq1J+Vet1j95MwsZu+XUuQWl6OEHpH5lcxkkY4/rhrgKo1YyvVMMLS1LR4/SMKBrBIYalbiWqNRkBiC2nBrbg29wqqXBst8NUE8L3Hp3m0MPCarsFnj5zd90NmiGIcv3cAYsuQNb+OGNnqF+OeFq1JZHb1waYgLyqum6Mtxl96v5x5m4d+3svB+13b4hCZB+3Sxxzcn0qH83hK73TfQjT7Dp7XBO2+7Ydzy7qRzHcE/j9ZQJpWExzgCahEw6DIHO//ZF6blRaTgi4O2PrRzr+PTYQclOdWuNShJDxFLCtKomQvQqZUTzR8AjxMvY9NnJ3DHxxOeZtX4Kc3o0KEDmA/yZ8/Yw04UNDQ0wPJfVWB6wMYFYwRrEWk+WPLdKPQPcEDstmuCSOtuMvWADZ0pfJaIS8vjhOjyUf0QQGYlr/KBmLlKZOeBuRe8mz7BucO/4WHWfYEujZYhJueKeC0f1Bt+LWzg0SsEWMXsU8CDeyJ+K9/oBZ8W5nDsRZ75iN+F++mI6GaBsUSzcd00bDVejs5dO8KPGQ+y6UMh9eI+LJy2DmNX/gqJAqSWnxIlKTvuFFZvPixi6BSAId3boPjqD0hymIihgSLFNTXhLhlIQqBEuRbVk/1LViQt+jaVUV740P6QbOdJimV4hKCtr4tgTWkdGIgLJ7chNbE7nEkRKiOryvDBfQSrGxy8EbDvNJ4Wi57cqsqSBIxV8HQxhn//ScjJ/BY/fnsR1kHheN9XXhFX1i+2YO7crh/oVDDSjzr2wcQOgci4tZdSZDW6dhwZZDdlhymbFpYg7QkbnISgXWtnoU9eLdyw/xx7sVPQd4C7fSJunDqOPFI6WaikX2RichLFmMyiOh5ubsBpUZ2kVDUY0awqWwC6b8+vKOwUiABf6d3QQQKuHdyEGxlBGPd+d2FpoFpehA0PfxEE3u4hKEj3rtyCnZ99o+xUYIQhmpnoQjefHAFZNMGwiTq0/JreMXee4sAh6lJPEyx+xwzt3fQoUYYbx7Ixa3Yuxq91RIBWGTmwMUWL8nzsu1CBDgNpocTtbGy+qInRvbVx9kAxPHuboYW1FtJv5+DHt7NwrEaUdPDel9bo2tlQsO6yNm9Tm2Hv1Fix7gSD2+DEJ84wKi9H+ZNsGO8+hw0SLoN9cHSONa7/ng3Pnk3h7aCDzHsZ2NTnNFLedYObiSH0GGaW5vhoFsUJs6zbsfiGFK1Pf/IiBQk4viEGY5Y+kXAE6tvev4Lw8RtNcOr3p2j1hiO8rHXI6p2KbweeRx4rG2CI6KVHMFdQ8khBO9QSWmdvY3uSbv3kJIk3PCnEpKcVuJaaBYPsAhjkihToby7Ei/rj5oVBrYHCp9n495l0aR/pmbojyBHBlmxRegmuxqeg3/44LBsUjPaaJagwp/d2RTZ2JZehs7cNQJOEG1K1MN5TD6fu5KGVpz28DLWRlpGOb7dfFd0PFTxZo8sGdUT7Z09wvtQUg8i6b0RDr4SkZHTZe4dKm+LHoc5oa2UCC5Ils6wCd+md/0sOKY56BtCjiVUtWpHxUSDF6b2ZlRmPLLu2+LilPqKPnsZcoav22PqmB7SS4zCcFIz6tDeS6tUmaGmy35g09AxuilALWp1yJ0FQkFjJjmvxVUvwqihNNUnlkw1ZmHtEomyZIcCGvXMKEZcqkkPVvZVw2LHmGnbcKMeJ9Z4YNy8Ix4+eA3sUsKCuTETB/3IEVCNQeIJ+dFamNJ6ld4Vs0DFWzJEtVfh+yxVRIicXN2mWf6BYQWLFli4eaI21yCuIJBOp7Ky2YmVpmlmMbGxskJGRUZXJTrdl+a8qsDn8Ect3YkVEe6UijGhqC0sbA/T+8Uf007OGDj2oWNDSEilOBSXFVfXuRn+NnhO+wNhF69An0IJUro2ivUNVFKI6uU9FD3uWXVEhtiJU0UgiWoBNABaf3Y+gw8ewa95srPsCmP/jIbzrJ6bR1xNe4htnHsGgLn70IKqBn4S1zDWvsBQd+45DGC3Vibt0CWf3/4CEJgEY3UWiUGQg8WQyWo6xk6kliZKMVYG8HRIdU6bMaUkErTuDDtM4xKGcBgGkB1Xbr1NaRvlCaFJ931HVrJTyspp5VqBCfHuMCSv5oLxf9PNBx+G0PLCVVAlJFOYbvNDc0xMGFRVwd28DE1tDlMYSc2vpDIHsSyI7gZTPTYcR1GsIvFwMaAnkY6F5XR0RVRVyxE8S1PZH3xVDZ05E86vXcHbPJhxOHoA5/f3FyxGtoa1Nv6GsLDwi7yrO5AZQLS9Jg/za+BFIOYdVy37Bmnu9EbO+cSpJ/j2tMNhP/LDobAW3zqLbcuPXclKSnmHxdFu0ty/Cwf/SFIWbCQZ0tcGCKYV4SM9gtwADZN0pRLanEQYMpAHonRK0cNKBI1kUrK0NMeAtQ1KOcnGcBuuhAWYYubwEx2ZLn7/KvgDvfWuPwQF6ZOV9jH33KmDlbgBn2R+3skr1zcspwPWL6TCzskQoWaPl36TaMKXny5C3zZB5JwP7T2qjL1mOeq5wQSy9fyP8xKb+EDd4hIgEuLqnmJSkCvh4kEnxThLelFWQGEk92/ulXBc21hYkiwUpRw9x+IE+erRzxNj1Xtj4WA825k1gJPMaN7YyhHYTLXToVU85mazXrqP9NRahgfEvJ0URub/igblm1dOUSu2xo7MHgk3ysf9SHIotbTGEFJytwVlI1WwCj6amyMzKxRNrcwzxLkdsViFNzOnDOfMZbAwJa38zUo4ycTi7CXo0tcfYvvnYsL9QJc+RZ3Lo2asLDwcXmkwtwZm4NFg1c4C9DpPJGlsjyQpjVk6KWjKiS3UR0tIW5tqEi4crIhzEd7s51RU7qb16swS/VBLW9L4yknllGRsZUDuiftanPTnY6pBw1me/yxLcimeTe2qCaD5TKcFqUsx72+rhAk04fxgvJqnx3hLd0VvYfcgOH/Y0Rdhg4JCggIvrqytTKgXP5AgQAsLvchWyHo6Bm+KQNj+PluEZYITYJqKIl6ZihlzazAhuNLceSxs/c4ppYFicj9S4W9hCipOxofxjXa6ekkQgWRA0NUXNMStS+/bKlRMlVV9iluxDVtSMfXNvIZKdXwxzF294u9uDJpdg5iR6mv3++0GcPv8Hvh48u0quvCeJFA9Dx7YeMCh4IlinCksLYUmDahZmb/kZe/f+gA4j5wlp9sfGyUOInz11GvfTknHlMr3dKfg62aDg/kVEx5cjMHIqPvhujpB/N1NklWAJx1a98I+dSyi2CoO/2Cbs9VHHT2Cg8MfZtzspSM6UawwP/1BEvr8AC8b3R9V2lzQymSMAzRSsD+x7VFqShyKykjxKi8PxbetxEa7o2EbUH4VmYO/oQoP4k4iNeyQUJdy6SfJ6oVlTZhoTLalLjE0AUxkfxSUQL1LEzUQLmtlyO2Vl6nkWkSOO9Tht2QvjInsh4dg2RF+XKudQ0a8yaldL4dfg4sTwiaXvviG8vLzg1cwK+vRdsLSiX1nWMepTBoqyE8ld/jHSDUXfpYzEu1QnAG2CaelbWaGwz4rpjuYWNpR/EidOXUXs9TPYsflkVR11/SmitbQJ2frw79wHYV1dgYuPaceaKJTR0KpVr2EY0rEM+37YhEtJRTXiLa7KL40dgSM/Yc13R4S1/I21K/+Z+IAmlVJwg6wit39NpXic8Jn1aSE8pxiTggTEn8rDyQdluPlnPtg4y8uPlAD2U8t6itWrCkBvJaSff4S1Z+gXTEWSqZeUi48w7u1MfD4pC1ezadhqW4O209McnUlBSjmTiQ8+eILNa3Ox+oN0zPogVy28/7ezD1LuDa7+uRCC99XVPBqPKZMu4gc24UJys34ohsxrifDvdxrvjruLS4SRHikfHw77A03dY3CV0jf3XKb4buHTb1YiVdeHMU1IpeUoGbnWsz2JTEkx99F+4BmMGXkLlwhPG1umqIlWhtDjrVqot5zVONUuo2cw7e0yAeLuZyA6uxBXEh8jjqq2cqBnNXuuF2Th85NPBJzTku7j3w8IcdIDJN+XpJQktN9+CWN2x+ESvYxsjJpALc8qsUpw+OxRDP8jCRn55YLFaHiXZqQgAZeu3yRL1k18eCgFD9ksHIUPfzmGpmuu4iqlb5Ly0HQN3U/69DuSQqWq8RQqC3/q1p60Xh1jwhJHqiOjsNWFw/s9gzCkqYGgIA0W+laX2kDKI/ZG1pZTwCUc1JVJaPiVIyCHgKkLQsfSDpZt+xD3qLCqqPBRHHZvmgZE+MNJwcAkIarhzeGIDrPH4uPlS7FLUoOufSfMrfVSO0k15sXOxcUFCQkJcKMZHpZ+lUGYixONa+XEcGgfgf1RpeSgYTYGrhIXjV2JmMW9sW7OKUz+Yjai14Vh/qIZwIJVwvva3rMbqUiT8e5AcukwYz4mhwHr5u3FiJhF2LnmieCAYVr2DKxcPgczZ5NZiIJTxyHYva4cgydPxnZRFuav2Yr+HZ3IUnENE96cLG6cLmMXYWy3AIpcFCwIRbQczal9JH5eFIc3F8zGV75OWBGpmp+UUe1jiQ8SyI1dKzgoVGF37dwe0bI0VuTq1xWRU0LhynQe0uOYEiUb9J2DENknG5s2r8VBocAJfUYPhAu7AWK9Lyv2D3yxX2SiD+g7Bv7MS566MlLSVfFMu3QY+674IHJmsHC+0pi+j/Hjrl9gaTlO4KuqX0xuLS2FL4RDIMaF59H+o/U4Kf4BhERMR3cvb/QJiMcfm78V+uTl4wSIx1LN3P3gdHIf1i+ipX5efrQ8JRk7th/H9PdDMSa8FCf/3INtTfzQq1cAki+TxYvaVYdRXnoSNpFlShJChvSoWv7IZC4rpo23YcNRVrGDFKVf0WRKhEpsJDz4lSPwuiNgbyH6Lbp1tsGnYgsTkzmdfjA0gY+ChyW4EKNB0wQVuBBNFiIv0cSKqF9luLyTRvJCIC9c7FouGoCK8pT/ZS/DtDTxaFY5SbXcs8cTUXhNYXaFUZWX4G416uoZqixV2jSLf3LTZXEF+qXTmLEpc3ajLgzWFVYwFOSp7kOd2xM6UYKYbVeqZFGNJy2BJKoaBhW09K9mOdV1U1mZs77ozePR3A1fiq0zjC6tUjSJnP80HztSNfBPUovOxsWTFiRdMcAsJjFVm5q0Rd8XUhLU8RRkoMleWieHMRdYKgcjfz4kZH/UpyNdc3H0mGiJmZBZrz/l8ni+9PZkhGQOHGh006TGmylTpypqjW7ONCB4nIr6KEgiNnTjKAjfNVGGzF91ZTJkPMoRqELAFD2GRWFs/wkYsfFf6DIggmzP6di27wRRdKFdMEEql9zV+BOw9uyM71e4IyEjl57TmjCwsIeTNU191SP4+fnh8ePHaNOmTT1qy1dR57VOnlJJyjwAHyclKSkQZfmERSLqdn9kFtCbSceQlhSIXsD9pkbh6og0lOk4UB5ohm+mmIcD0V8lenr2soKCcEwo0KH4E5w2aYkPDh3HQp0CXNr9pUBvZMg0BEME9BuHpNvhQjs6hjYQN0Mv/H5ISrqNbGJYRmqHwFOoKS93yLjFSKKPJKjkJyGo9fUREg7GImR0L/kaxl6IWLBAPk82ReWRC7xkc4S4a1AfLGjTCdm0EbcJecVjvZeEMlqe1zF8PIaVZ6NY2xzmknEA8Ro2Zw709fWRl/0I5dpW0jKqrIqng39/LPCXcAdcAikdKEmr7lekin4xi9uCFoGC7NpNyKOfWPig/uPRqhOTi/YvSDJZM87+GD/Hg+jJesQ6U9QF2eRsgb4VQlmkbyiLIfbIBqBJC0HJZmlV/TF27YwFCwKQTQxl24cc1rQPq894+jBOFKxU4y0i4H85Aq8PAmwgpCWeRZdIVUCetlg4vCYOy3+S5IquUzbQlJ82G8SxUIkSsqqYiBLV//ZsAnv68WXHigZW1QmkOcyqYEn7f+hHK82sIdahkxMi2hkhP5/NfIuDkQ6MaPB8fykNxp8nSJ6FYh6yqg/DTDycl7awOxePPgFa0DLxegU17VXxG0z7ZwnPJ7dJGuEeEK7iCa3h/2oOfxoaXK0iFg1yX7icMvwl0Tyx54ADp/7ABIluKS5cPYxMksKgn2VUgG15FZ7HksqyVzdTONIz/klmGdTxZFXYN0XkVEKWAeAgrJcrqfpODu/iDH9S7K9WSof8Su+fICN978WGwOH03RLqidk/T3vyEtac2kCz7TMIJT/a/4VrsTVXkKPIosPVySNyQaZcbl0SxmQ1VRXUlamqw/MbJwJNmw56cYI7+uMfl39HyPFruJeWTk/5ZljceRRa+XeAm+yciUKL6pWk4lScP5cKx6D2cPUks/ULCD169HgBXBqAhaE5rVWu3o65jUP1TJYjS08Kj1A3+wGOj3lT5tBaYMbKrejKfINLgmw9SZ5wpcG3MgHkaJQkVPJTQqsqq6gUhl17wV68JE4VWZ3y9Y1BS8AVQiUtfygWHBvoKyhPjJApSCwwV+NKg1KeSilFmfXtl4p2aiWXPil+rPWiRBxZ/SN5C5QEsqhFesu/rFW0w5bRmFcHT8JI+VUlL+XkPLfxITBkSHfk0EHebPCkYzoE3YdQZNcuHGlkXWHDoZZ0ns+wnpXI8zSAt3EpVv67AHcjjNFjpD0eljxB7GMt+Pc2hkXGU5DdSC5UH05pwsLPEL2b66LPYCuaMSzG9l9z5epUSxzKx613zBEabIWln2ngYEwZuSTWhyPVHTO3GnVVxs0Y8nqZSOfBMA2rKtCemdJiqJ6GqyIUR7ThPasFPiJXbv9ek6xYWJWmcXZVYH32DnDCR4PL8LSlDfxMCvDuR/FITm8N/zaWWNYNmHu0ilwhUtf2NGEZ4Ib33QwxaKgbrS7Ix8+7b2FD0/ZYDEtykNEKH3UyxehwyRhBqgw8n5wKYqtJ7jjxGO+RU5vebYPwaQU5tCnQQwdPW1jlp0mM/FW1q39ftGDp6Iz3LQzIIYQL9a8AP9+Mw4745ip5jlHjEOHKowIMsbegPb9eWEBLtYd60xpICgYGUuVVwMXRAY0azGYAAEAASURBVB+5leOpjSX8yGvcuzQRtpjeCJ4eHviomTFGe7Ml2ixI8RSl5f/Wpj35GrVI0d6hs3R8R9+mLtjdvYQsQvfBzjgKIQ+r00+k1MCAjrgwN4ErzWX0pAXnIvtaDVXkiu3wRntLmtl4hCsKEySAujI5JjzBEZBBoJC8EB/AySsPydFRV4wYRQaAR6mIL9BSqyAxBuqVJLJj3Nn0HXQ829OZQjLtvcJobc9HeoUiSps29yOL1VWMSc5BflEZ9M0c4VQfxUfKsWFi5KEtKFSFMvgiJTBuhcjp9iADUsOEhuqXst7ou6DvzOnonJeHknJt2jvgoERpVFaR53EElCAw5P8wZ3k484kihD50NlsfGpDsMyIlqdrAQkn91yarCMeP5KH5QBO887nIHpRO+4mYK8+13+li9mgLvDlLsnKhAmf+myPsIyktEVmaJLqJoDiRRUkUtNApwgGdWCKbHD9szMIGGql1nWgGb0t2votCIA3n2Io8fL4iC8ZzLUkZs6GPiCbrCpNFGgICAnDx4sWqjA0rblXF1UUU60lpWT9METGJRpQ0KMwkJYlszNUCGyYXVkqsYcnkLdYZbuG2mLrcVqBNi4kXrlN2piP4Xy4YNKs9eUk7r2SAWp/2dBA6sg1CWQvZT7F/w02xN7t0nBlig+CenvCmoptHk5Ds50yDCoka8jxyCt1R+YfdwwoZywxA+4zOGmGxvyPGhQaI65Xj1KUktlIRpeKTTyX3PptZLksl1khthPq2EvWviBw/xNwRe5dTzZM1IGM7FLcnumw4loY3HE0Q7OYiwiWeBmPWjnAzkGzwScehOEqT8jS1r+gXnJaSCBzLxBkfawR7uFXVS3ZwrMKz/u2J5FL9HWTl1RWxd7fH0zlJruQJ0BMp9GEhn5Z/KwYJplX5jhbwIUcZzmTlbUGZh6oKahdZ8EMrBNPw48LOxGq/BXVltePOqf6WCNDxMutnLIbrjBlYPGM0tDf/iQEGdNROeCZ+vzyKVG/VQSM6OvpZZdXDtzrh1X3vYM3eMEyZ0Rp6mqy8EpWVOrB194R1E3l65pjBxMTkNXHKIC8bT3EEOAIcgcaGwPnz5zGkFufRvc79+u2339CvX79qIvqY+0jz2umhdystlKSV4dgh2eGgDrpG6NL+8UokbivCHWkNpbGuH9njo6F6OLgmHb/RhpQ7MrzeW+9M3vQkA1WZ6ln5+HffdBwTZ3mGG6AF6Wt5YlluZEvtvzK1Xn20mx3e92mC4pSn2LD7SZU8H6zqgg/700x88mPsik7Fr7Tsr64DVQmz8f8OweJhxtj/1SVsTyklT2PSdqpoyC05suJJBkmOwrUB5JS2aIbxbUxor1oZ7l4jZURaoDQ2vitZw1obYv+pG9j+tAyH4nOU0NWNp4TB+DbOtPQ+CRtE+qskW3p1tMb7Nnoopv1SG2TarbGelINcrF713FrhUl9n8hR5B70PZmO4G9mli8to/5YUh+HUjzbGeigopN/J5XTyHGWG4U0YXRayLb2xMtQJyeSEQuR8QiTS8DbNyQl6Pr68liUno7rE+Gmt0KMbuR5vY4jMK+S0ZNjlKnJ1ZVVEPPK3R2AXraRgPg+qhdRTaNs/Dccuj0DZ+S3YW9QRE0JL8e+2m9ArerHSQ2SZPsN0oxosSTkoLKQXmU801q6Klmk3FLNXVFeSZAh4lCPAEeAIcAQ4ArVDIKYEB2KUkZLStE1WaVJGI5PH1h7S3tnypyWkIMnkU/Q/E5PwH/kspak7ewprVMaUVmzozKMP8c3R6o1+OeME7dNqh+E9nDBkvCVa2VTg0IzE6oS1yRH2HWmiLPehvCtmmbobvlOlBYiJGkLOKnlysOGadIBfla0qInZQUFZCy8JUdqOOPMVtbbhW3eoiJwadA/VNqlyOkKixXvUqz1WPDQK96ZiLFJGxiFI5sF5zFt+I29lB/dghjjNX67vf8EWgwtL55KpyUWTHtfsKOTUk326LOf9wIUePRbhw6A4GT5Kx0Korq4EtL26cCKT8WtOSTuX9Ol9+XnkBHXr8MaZh/3F3uBUW4uu71+gooyJso+XC/YV3hvJqLFetkpT/uAzNu0fia2tLhXMcVDPkJRwBjgBHgCPAEXgVCKSTa+fzF8txv37v2Fch8ktp85v5MWCf4W87kUVJcQhb+yaTHuTgTEwx7tWfhdrG6iLn0/ZPYXzZGBplGqjQrwBLm502e650Ep0FeSaF+ldQgezQ5+f3vPK86Prmx2tYyx6fhlXHnyqM70qqFKTqNy8da09roYXCyDHr2nP+4H56gC/I29iGnx5Wb1JdWXVqnsMRqI5A6j38SbknZkyoKnuPYlOXRgl756oylURULrdLOL8LS7/bL6riMwSfjO0LVzMlHGSy+HI7GTB4lCPAEeAIPCcCf5vlds+J08us/tout3uZnX4NeZfT4axP2z2FyXkT5AblwuiGEQq8C3haDR566UqWl76G95aLxBF4EQioXG736CqidiSh3+QBavcfycqgfrldcSIukII0aMJM+NlrITZ6OZaedMTXA3wVZhxkWfI4R4AjwBHgCHAEOAIcgRePgHaONkxiTJDTOQfmR82hVaQlfHhaNR4v/i5wjhyBRoiAlS8mTHZB6oMHSNVmZlAt8oRzj86gTMag97qhGXmmk/qelO+fcktSzh2smnUC4d9PhAujfxiDd+YXYNX3oexwcJWBW5JUQsMLOAIcAY5AnRFgliRlTg/qzOgVVjh06BDYGXk8SBHo3DlCmniNY6dObXuNpeOicQQ4AhwBKQLnzp1T7rihMB5bPh6GL05IaWVj/4m+jPYKJ82otyRpa9JRp+cQfzkYhTrk0q6iGEE+jxF36xZ0yNtDRYUOHGijn6J3O9lGG0tc1aG0zQMHoXm7gY2lG1xOjgBHgCPAEeAIcAQ4AhwBjgBHQBaB7HRSkMZi454IOBpq0zEQOtDOvY5PhyVjanRfOCooSLJVFbbfSYrocDWKblm7SpIhXM/dEO9RQtBf3rvd/Qt7hT43hKKUSRtrS8j8Z2RBZ+cYykHOExwBjgBHgCPAEeAIcAQ4AhwBjkB9EDCyxNLFQXBpZken0omDgS16/guwsTJVudSOUSpXkoxcMeT778EOcH8dwx9//IHg4GCYmlZ196WIyRQlibKk2IDSQ23pPI2Vvn1xc9FWRI3rKK2SfRGf+w7GOklO2GSse/8t9PMiF4TLemL2RknBCOyOWYEAG0maXzkCHAGOAEeAI8AR4AhwBDgCHIF6IWDaDE4mB7D5q3Ww8+uKwaEtaU+SAVr5u0uVJhWMheNhVZS9ttmF5Of88OHDOHnyJEpLS18bOe9fOQ1me4tecBwXs+XFKqLkop8PIubP/VjjvQ6TBx/DidMHSUGaj4NXk5B0Owb7d78Fe25JkgeOpzgCHAGOAEeAI8AR4AhwBDgC9UHg4TWsn7EYpWYGWDxjNPbdLqSDnmMxLPwolDidl2tBuSVJjuT1TWRlZYGd5u7h4QEfH5nT2+shslLLkBI+qvYwAWk4/9/PMHbRImDBAjpbYigCwlpUcaBbAgNjC9g42cC/7XxKxeFxrhld8/A0pwBobgMfbkKqwotHOAIcAY7Aq0AgcmEPjAm1gDl5T87LyEHU4GhsehWCNJo2ffGfb62QdeIw5m+uu9DzVoahW1tT5F+OQ/jMqwKDbpH/gQUNaCqzLmD31tV1ZyrUaIeoDaZIOHQYS+ohF0Z3w7HJlsi5mY7wSeyUlQYIXeZhgJcrdGnXROHTm/hdoe/dRi6HmbkFUPIEiRtm43IDiMSb4Ag0egQqynGCjpNdPGYE3mypi72ZWUCoMyJwHGmPALu670lqPJA8e/YMd+/eRWJiIvz9/eHg4FBv4W+n52DbedGx2xHt3dDSnikxtQvZNy5gdvQI/Lp6HApxCiO3XsYQUpIk0jD3goWFOci8ew97x3wGzIhCLzoRfdGIXhgWug4zlkdhcP8wNOeWpNoBzqk4An9rBKbh+50DEODpDGtzI2Sn3cHx7V9g6ooDjQwVX+w86AHtG9IB8qvsQOTS/ljxgQtsUIwkOkDV30WTnuYvK2hh1kJ9aMUWYdnWipfVyEvl+9nSDpifaorRYzxwsfAR5vkYIemTP2upVLbDoYut0aMVe+mV4cz9RLpGYsyyz+HZ3FEs91twdvXGV0vZ0Y91C3suBmBQq3ysGa+m3htbMGfcSCi+6dPPLcGa4uNw8LJDaDs7PAtzwoaVWzFhrRpez1v0xk78c9xQ6Mvw8fbpghXzhwFdNmHW1LdA6lFVCAzujqYTA7CvKodHOAIcAaUIOHqRijQN+4+7w41Won199xpag7a7kPeF/jpKa1Rl1rDcLh+3zp/CrdT8qgooTsX54+chmyUtfHUxtuzu7NmzuHPnTr2FYArS06Iy4SNRlmrL7MbpacDYDjAtzYaFe1dac0ezPDeka+7Yg2/ByJ5o13MkSpd8h+PjwmBo7oVxK65i93dLsGr2BIS2XImLabVtkdNxBDgCf1sEJrZCgI8x4k79jh+3RCPHxBPhIyZiZKMDRAfuIXZoYV/Dm6qB+tW3hx1ssh9hif73aNbie2g4bAOz+7+coAHXTvrwsNV4OexfNtfRPTDqg3Z4Ns9FOBqk5aB2+OyDtnj3a99atNwOJ+92IAUJOLzlMjT0/4OO42Mw4JN/koKkj/ijS/DJiH/gWmwcbP3exYTxkbXgKSWJ/HYIKUg6OPXjDUyXZiuJkZcryn0SuxcXjm7AlZP/FT73btFdXxuNFtZf4x9fxuGmvhXGr3gLUaOVsHhRWbT859bR7xD99dvU97dx7W4CLFqEYPQbrIGHeHjpF5zc+g8q08DRk6S6m/rDdTZNuPLAEeAIqEcg9R6YLfiLGRPw3idfAxv/hfdmfI6pS0Pgaqq+Kns+qAnlyL9/HxVWMkvZykuQcjkFVr7t1dRr+CItLS1hyZ2bm9sLaZwMVLUPmecRLTyrfkfoxpkICwtDGNXedfoG+vmECHzYnqQlO88isr3EtiRhb46APpFIOuuJzzsMw5mb/RHg0EJSyK8cAY4AR6A6Ausno+16afY6/xQ0dzSAtTTrtY9NX9gJ7iZG0KU5OG1LS6xe2Q16ukDW7aOYz2bsp3TD6UkuCHZnloZiXD16H359D2PT0TcRpF2E8mYOaFn2CL+cL0VIOD1XbyUh6oIWJvTVx8n9OWjV1wktrXWQeisZ6wL2YolaRHyxfKUF7A20kP+4CCZLuyDKRAsJp4/Wb6mW2raAzv104WKsBV1aaa1troO3RlKc+v44rgR7z1DlYD2sGGuAIFf2iq7A9ROFeP/TYkxZaopArQqUO+nDk97Fey9WomN/moKLLcSmSxqIDNPE6ehyeIVRubUm0ih/w7QC1Gxf1MSMhUbo3kkP5oLsFbhFbXr3VtORzYexq48pZg0XvdNsHPQRd/IOvpsqWjKnpiaiDnujsxNwPOo0ek6VTmwaW9oDyQcQtU6kmm49FAxXLw/YevYldrVd9NgJHw51QP6tBIRMqlkWJmdZXhx2r5utVOTVnxzA6hvliI9qifHzB+PY5t21k2R0F5z8hy3u/rSjdhaoE/PxywmpCJqanzPJUE7fEZyYjf/KlGkbiu5S4WMpdtKaPMYR4AjIIaCnjzbvLsbHkwfATq6g5kQNSpIZ2kcozOAwz3czXGvm3IAUzs7OwlI7dvjT84SIQDdsJWuSpoYGRgTWvo+xFw5jI5bjbFJE1fK6+zQjFDomGhfDQxCgQ0vtSDBdLXnpkm9cRK6hE3xoPxILTJGyM2Q2Jx44AhwBjkBtEZiGpvQIyU96gDW1rfIa0AX38sLItuLnXYgHPETzSbi6p4iUpHKcnumNYIen+O3Hmyj2cMTQbi1x8usUpGiT9aWdOTLvZOOJpxWGhpfh9p0CtHQ2QLObz2BjbYGhYyxIOUrD4QcG6NHOCeP3d8OSvkdV93quA8ZPdhMvZ3LCtA9oBE/hkkkeKUkxquvVs6Rdd0MMbSN+/XYyglsnEaPr/8shJekZVkw2QZB9GQ5sfopi1yYY1MUYy94uRTpNBrr56yLrbimyW+hhUP9K3LlbDk8nLTSNfQZra8obrUfKURGOJWuhq78B3vpnOQ58WqJW0hnLTDHUXxu3/izAnoRKWLvqoJnC+6oag9FheJsUpCfJRbAgpS3uVg7dQ09M/jYTm9QqJ+3g42EM3ElEVxkFSeBfUUovweboRgl2t8KCWgpWqnwNeonWMkQddoevUR42/N/+mmvoa9PhG4Bt4Cws3T4LRU9uI+Xqz/hhnYJKzRTCkfaYFWaGXlNIXWNKfE3ByQh+bSzw2KgmQml5x8nH0NnXHdq6jjCieukXlmC7jHLEKDtOO4kQf2+awP4F6zfUVnGUtsFjHIG/HQJWLujZywgF8fGIV9F5bUMrNLOrblaqQUlSzu0xOUzQs7bGjHfewffkKvxVBXNzcwQFBcHAgO34ef7Q0sEMi8ID6sgoGRcmr8OcH2n9skzN5n4dMQN9cfzSaAQEkdMGKtPSkof7MZn4B87cWFVrxPzv0Luj6OVclckjHAGOAEdAJQITsfPMXLQ1v4OoWZNVUr2OBaM6RmEU2uFKVgdoH4qBz6izVWJGfj2YFCRyb3MyFQfv58H4YQbadDQjl60uSGFUWQ+x5ItczIkyR+rZu/j8pg1+mqBB8+6ikBQTj2Yhv1PCl5Ywh6CFbQ2TT8t+h+UyYOe5d9BbOxXGAaxuzWHL6QlSRU+WPDsLS9Qs1Vv1YTZ5QtXGN3vMoXU0B+99JZEcaP22ESlIQPyfxaToVMAwswQ+HXTR0lcP6ayNrCKs/KYc01bpouhCPr6K1cU3kdK+J1/Kx+i5RUSohTXbLeBuU4O2E6yPLqQgJZ/Nw3sLi8W9kFzFSWWXzdFY0iITq+/a4XGUBzKOX8Cn242xaVlN1hsDGFsDqfHVFbf05FvwcemMsPV30SbfALaOjkLLNfRAKt3C/hjR0Rg398VgwmZptsrYriO44ZjHjpaEoW1L2LfwhUe3jzChhKySCgpI8iN2j5rAuLZKTz5bjlKhsmllBUX56ch5pEVKUiF0jTxg33IIRrwxH9vFX8eO7x5Dr5DOKEo9gN/n0l4lHjgCHIGaEciNR/iwCerp5kTh8ij/ajTyo/Zqxcoy8nHl459hu2KGssIGydOldQnt2rWDnV1dDWeqxVPttU51HVGJEyKTkqoTmftgpkz+Ypm4hNhv2GLc7jEVufn0stAzgoONyIQuKedXjgBHgCOgGoFp2HN+LtrpX8O6CX2x5IBqysZW4mxJa88oeIS0xFchUulTacypQ0X56blYvVkTC6Jow/8fZHPwHikloqV5F7ZKlBwd8hNGoZwNWF98OHMsAYXXlKxgKC/GnXo252Au2qPk1skYn3eSMkmjjmizvmeU49RNDcxBJc4foXeHp56UiAbll8gSJwoaoiF6LfrOBgKPHwpIyfCqObp6IVOIirHSJxd5n9yp3TK0KXpgCygL80h2hXB0TQhKCragjWdL6Gln48YfW6DvPwtOChOMCtXESV+cjKT9UclpWDZCqnArp5XkrsZuWfPrkD34ZOQgctgwiAgUrTSVQqWaUFJUnActnIpnC6lqDYozY3550yipx7qRJMuQQXANITl+jySfFv9Dj56hqKDliP/7sI+UjlXkgSPAEVCNgKkx3qXSVjujEWilgzIyTMf/71+Y8HgIoscEQoecOcDASml95UpSTiLOXH0AMnwrCaVIII8QTZWUNFRW//79G6qpl96OobkNOXB46c3wBjgCHIG/FAIjsZksSO10YrCsdXijWmaneBvYXLu2SJWpKsorEg1ID3z5Nfp8UpUtRJi1B9oSxaQCxbSnSeUjdIolHKnwyW3lbzN5znVPBYc4Y2Q7Y+TnMyuDOBjpwCgrAwlTJRmqr6zvWpBX4ArEOs6hb7KwaLd83VlfkkVMW+Lo4RmKab9K9QUi4jrBOrCnvmffkecvz1GUYgN/Sztmr6lJBVBW+w6WKNwjZVRVeWuz8WgeyLrHVKXq4fSGUTgtye6yBZ/0IcXweoYkR+X1s920z8mhGHuX7aqm3qispFiwKwlFpG8rMxYZ6zN8ag43jiXiv7FAqb45xodb4tSeBNyle6pbWlg3xXlrHAqGACa0vBS0nP8fYf2gn3kcO7iCVPNN4BQcARkEcm/H4rsui3HMzUpY1cWK/LuPQZewPUgdHQpfK9Wr0ZQrSdqVuLdpEx6H9YVztaXAZThHDXSREaAxR2t7PlJj7iOXnSPAEfhrIdB70RB0caL93FG/IWvaNHJuykIW1qzZ2ug6yoae3gEuWD2FPIu2tIOfST76v52BSaNs0futkYgqvY2rWfoI7tcU1g8TkaPQw+ovMS1YBXTCZyuNaImFBxzpLLr/7jqsUOvFJG9cSMHW+5ool9MtNKFdWgQl6wuqNcr63sqvCd4KLkKehy5aG1fgs7UluDO8CXoON0F6aQFuPdEkr6h6sMwoRq4Ch+rDdg1YtNbFINpQ1HcgrU6gBYhb9xcr1FJIninBzQQDdO1ghFVzNPD7pQo4eurAiRSmsFMKtC8kGYPkdD/4t7HGptFkINksy3Qehk5zRvqa93C6y2q8P3IkKSxJuHL8PVmi6nHaHxXZxwJJp28jfGH1YpU5b0RhYrAtHt06gww6t9Cz2xDB+UlK2mWFKr7o155mmskadHmZQpFCcskn4u8auaULDzdDxqnoWjlu6Dh+D7ztinDv1CgcPRGJEQv7wZZ4pySfQNvxQ2DbhPYoxabDddoWeIpvfNnjM/hl02oFCXiSI8ARkEXA1MEZA06MxYmz7gh0dyA3+/mIv3qdzk6yxERZQiXx6u8XRmRkg+Y+gHNQX4S60C9TLuTDdP/3KGNTYDxwBDgCHAGOQIMj4GzCZpdpsmrCAumEVf41gJQk2dVDDS5YnRuMQfSh5nALt8O0FXZC7dSYOLoewOfrTPBZpAvGzw0Rcy0jl85xwr6j0hL5pU/ZzBqTL7Gw6CB0VFuEslrZ5Pgh6ioiaaM9O7S0rZWmUF/MUHQpL8L+8ScE64OMPUiORJIYOHAgfv31V0kSS2bWTvlSrCduGEePFqM5ead7b7HofqbRfiLmwuerqAJ8PNIQkTMkS+kqcXozefSj0rJSkWVIopflsr4XSPquiZDhphAQyybHD5vysPYM0HtkE7S21KhuJ6IX+eHvSvHP1XlY9YERHYBuTB+RdFnXmCzSoLwP0nJVMWX1wrenIWOhK8LnDCIlaa/U8jMkEK1DBiEg5F2I1osk4c4f/1fNeYEizz8+9oQzyHV7D/X3Q7Ees8NZe/VDc/pIQlbsVnyzaokkKVz/c7C1sEfu/I74al4Sq/MUVzWvFPDWVmaWIpJq9Qxp3OUXTJ+RCJsq4vH47i84s2Y1zGa8KWTYU5m9mD27FCXq4BdwJUkGEh7lCFRHwNQXkWvmYMRkmpWRCTNWbIaPSlO8iFAjOjr6WWWl6IUjUxc5NGNXoGMHR0tFJakYDxMfQsfOBXOnyjtuYN7lTExM0L59e1lWPM4R4AhwBDgC9UDg/Pnz6NdPOoCrB4tXXuXQoUPw8/NTL8doX3zmo08b0rOxZO0dGVpPzFtoRTN/ZF1ZGCMdTMtQyEbn/RSBz4Yb47cvL2BbajF5IZPy2nJ6HDlZULLEixwRzXfeVm3wK8v3Rcc7d46QsvTWwqAWmih+WIEDZ2TfxZro3U+bXAVUIuG3clyX1lAa6z3FGPPDdXDgm1zsffgM12V4zfg/c6k3PdnaWcX4bHRelYvw1j114EWO556KZTl1apss9QuNL98+ErMGkHUmmdy4H0zG3qmiQ2g7DvkMllb25A22AOnrpkuX3qlpffm3PaB3PwXTl0nvtxpy+aIu0/GGuzcMtEvwNHk6on+XFs9b2gNhPZwR2sYQmZcTYNuxFh7zpNXrHGv7xmdo6mQteMJ9mvienCx1ZsYrcAQaKQIxMaKJoLqKX1FxHmqPAcp9iLi0bJq80IaJtSMc1SyzY/oM042UW5JIMjNSghRPoRYJ3AR2Li51lZ3TcwQ4AhwBjgBHQDkCm6+qOLSV9rssrMPAV4dZVLRQnnu1mpvmUR1/IG96r2G4WYG99KkeKnHgtzrspRL2KpGXuzw6V4msR7JB5E1PNkd5/PqhshqVMeU16547e8RWlGwYiBE9nTF0ghVa2VRgEzlcOL1rfp2ZzZ6k3oKkluGJ1fj9hBKKuX3x0QeutNyvCOejbyNo4HO0oYS9sqzLv8/nDhmUAcPzOALPhUAhbhw/gJNXHsLOrysGh3oAj1IR/+Ap3JqJVjCoYq9SSVJVQTb/Vbr/lpWDxzkCHAGOAEeAI5B0PxtnYooQl/z3wyItifYL036ihPTG0/f5438VlOPpc9uRRSnm9RJ8WTz+jVQsqdGl+eslNpeGI9DYEWjXTrJ8uG49OXfunPIKD69h/YzFcJ0xA4tnjIb25j8xwCAWw8Iz8fvlUWoPmH0uJUm5NDyXI8AR4AhwBDgCDY/Apk8O1Lgkr+GlapgWr+8uwqzdDdPWi25l9bLXTEESOkhWzGUvuqecH0eAI9DgCFSUk5OGj7F4zAi82VIXezOzgFBnROA40h7R+dW06ldV4EqSKmR4PkeAI8AR4AhwBDgCHAGOAEeAI9B4EXD0IhVpGvYfd4cbnYn09d1raE3LaLeRd7v+Ouq79bdXklQdIts8cBCatxuoHj1eyhHgCHAEOAJ/aQTknCy8xj19mU4WXuNuc9E4AhwBjoB6BFLv4U+iODFjQhXdexSbujQKrjV4t6umJGlcWVnFpCpiF4xn9Pk7hfsX9grdfWGKUkE2sunIQ3MlzpX+TrjyvnIEOAIcAY4AR4AjwBHgCHAEGgQBPX20eXcxPp48QO3+I2WyVFOSlBHh4RmwbVR/R0VJoiwp4iJ3CG32RXzuOxjrJERhk7Hu/bfQL8AJBfdP4oe1G/HF9mgs2XkWke0dJFT8yhHgCHAEOAIcAY4AR4AjwBHgCLwsBKxs0bY1Hdgt3n/0KP4qYtNL4OTVHs3U7Edi4tROSWKUTFGij2x45jdTNtkg8d9++w0lJSUq29LV1UX//v1Vlr+sgiJivOjng+jnUo4zO/pi8uCm+DMpEkZlevDs9xbmkJJEnml54AhwBDgCHAGOAEeAI8AR4AhwBBoCgUdpmDDtGDb92YF0mfNYPew97GPtDliM6MUDoE5Pqr2S1BAdqUUbbdu2xdmzZ1VS+vv7qyxTVyBnGVJDqGoPUyHVMTC2gI2TDfzbsnMe4vA4G3Bq0R5hLbKRG8bOUeeBI8AR4AhwBDgCHAGOAEeAI8ARaBAESgrRpYs3fAyA83tJQRqwFNEfueDnTluQNJ2UJDVakkolSa2VKD+lQfqlrBEHBwcYGxsjLy+vWjHLZ+X1DbfTc7DtfLxQPaK9G1raKz9OVxl/wh6FhTnIvHsPe8d8BsyIgoe5hLIMyo4KlJTyK0eAI8AR4AjUDYHIpW9gcrAOjnQTnbVTt9rqqeetDEO3tqbIvxyHFbvU0/4VSqf3DUUvG02c2ZgM57dcYFmcjWE7L8p1bXqvYPiaaKOgMA/T91+RK1NMRPbqhKF2+qLssiL8suXPOrlmj+zbA5ObaePIugMqDhl2x5Z3WsK6IA09t8jLqSjLi0nXrb3a4Pli5Hq1XCIX9sCYUAuY6wF5GTmIGhxdp/ssK/0Lx8w/ADt9zBB74zDmX5Jt6SXFn7O9mr/zL05ulViP7oZjky2RczMd4ZOYq4O/SDAyhv2JaVj3Ywq+WwX8a2NHsh4lYiNyEVJDF1UqSbL11q5dK5uUi0+ZMkUu3RCJDh064NChQ3j27FlVcxoaGmD5zxOYgvS0qExgweILBwXUmh17HSwY2RML6DpjyXc43j8M3EdDreHjhBwBjkBdEOi9CPsWDkRbJ2uqlY37165j71ejseJAXZg0btpeIQ4IbqePzLnUj1qfZ+OLnQc9oH0jDuEzryoBoB0OXWyNHq3Y07sMZ+4nimm0MGuhPrRii7Bs619vysvdzgb9WuijuFM2mvs0g3+GLDQBODnLE52txEoPFY3zsITxV4dlieTizpbWGNTKUpRX+gQ35EprTvRqbotgJ7q33Yn2iDJ6W3R0t4FzZkOtz6hbe+rxVNaf2uTV9N2tDY8XRxO5tD9WfOACGxQjiQ5v9nfRxKnnYK8aMz+c+yQA7U3kmd+8dQU+P6lRkM3MMbRVM/zWUHP6z9me6u+8N3a+6wrthwkI//WmPAj1TKnE2lwbDl52CG1nh2dhTtiwcismqB7+17P1V1DN1BejopZh/8HbmLNsI3r7kku7Qkds3zwTjmqsSEzSWilJr6BLaptkFiMbGxtkZEif5NbW1oKFSW3FOhTK6F+1qsUe1eocM/DtSLWCkRNxBDgCtUHA2RIGJSnY8+OvKHPwxxthXTDorXmkJC2pTe2/BE1kSBQuTPHE6jq9xHXgHmIH3ceJSjBoh5N3O6CzUwEOb7mMnuNFM6mdO7sRrQZcO+lDN7tYSb3Gn5VRVE6dKEMuTRKW0Mssv1IyAemNY3P80NmiCIdjrqAnWZemk5XIt0mB2k4v2bIHS7YA00cNxle+dV9qHrl2My50csdqlZPZf6LZvhxE/vliBo1qOyMU1q091XjW3JJqCnXfXdW1XlZJ3x52sMl+hCUOW1VY++rWsjrMtHXoO5mZhq+uZEKviWg0lZOrRkFiTZc8wxOUoFz1Fva6CVgT9XO2p/o7T/fd1Qa6haSJvqCgEuu10WhBn+lLe+PdsR4Yv+ItmoP7LyZsfkENv0I2zfx7YTJ9qoKBFTxa1qAhEXGjVJJYJwMDA7F//35UVlaCWZHat29f1ff6RiIC3bCVLEiaxG9EoGud2LA9SbpKNSF6mRSUCMvtygWHE+zlwm1MdQKXE3MEOALyCKyfih7rJVkj4R7bFh62TSUZjeI6/dvBmNdXHyf356BVXye0tNZB6q1krAvYC6bqbTr6FoIqs3CuwBzhYVYwokF8wtkEuO3URPw8FxiVl6PsyRMYr70j0AudnhKGu3NtcG3/E3iFOcPbQQeZ9x7ip9Y7kbywE9xNjKCbTy8+S0usXtkNerpA1u2jmL8WiDrsTQoScDzqNHpOvVOFYed+unAx1oIuPbq1zXXw1kiKU73HcSXYy3wZBethxVgDBLmy12kFrp8oxPufFmPKUlMEalWgnCwinjRS23uxEh37kzUmthCbLmkgMkwTp6PLSU4qt9ZEGuVvmFaAmo2Bmpix0AjdO+nRoRIsVOAWtendW0jU68+SxwWY/LQCVy/dhEEnHxjk5gh8Ioc0A62mwu3Ye4KCxDJXH5TRXDp1wulgZwRbsQXnJbh67wH8vj8p1GV/CLZqYfqw/pjXxgworRTKyirJMqepiaS42+iYYo74nk4wqqB7S8vXjf+8J723RL1p8giE2+iisKISZaTI5XhbYNN34vaUypKHk3NawbkoA83WSC1f8yL6Y6aXPvYf2kGKVjURqzLq3p5IFlV4VjGuY2R6Dd9dTOmG05NcEOzOxhbFuHr0Pvz6Hqbf0JsI0i5CeTMHtCx7hF/OlyIknLYk3EpC1AUtTFDz+1Mtoi+Wr7SAvYEW8h8XwWRpF0SZaCHh9FEseY7BdE2YlZYVY/4RZYpRAA5Nc0VbaxNY0Hcws7QCd+m7FCJYkCqhbd8DNz5xhLcJPQseZeKnFfswmzq3afJwBD17hHOlZghvYSF6vjx4ALd1xwGl3yW6t51CcbebFa7F5sCrRXWegOr2VPPspvI7P71Xe7g3MYRuKT17DMyxemAn6NFjJivjT8yn7+30Ib0wtZXd/7N3JnBNnVn//ymbEhXjgoqCUkSloqAg4kqt4oZra9GOdbTlrR1mSmsZtNPR0erI36k61KozvLUvo9ZalTK1WFfABamIiGuxKlSxoKjBkqIGZPV/7s1CEpKwy+I5fpLc+yznOc/33uA9Oc8C5zYW1KMCJP/0C4Z+qaj8njfyfVdf841/PYKNqSW4EeGCt5bNxImv99Z4GKVaZ8N/5iH1h0Scu54twES3vvTjj7cLhL9cpsSok6TeL+lpb39T9RssT1jFrlevXrh5k/7TdHKi/7Tof61aiotde6ycUfUhdtrNCaDNzCrilF08BM9pqlUAY31oOF4g9l76CB6a+UraWviYCTABJlA9AhOChqJ9G/rB77fc6lVs4NJtrS1h27kDXp3fgZyjbBz9xRpjPe3x1sExCJ18HOZWVnAe5Axneug7HZuJTvQw3s2a/sbKH+LHlDto36kzfJytUD4ITOiQOWw60zCb+VLIrt/DgQRz+FHkyHeXN6727Ic5g1SlR5HeUUoAl74rICepBK7ObYHrt/CSloMklPB8WYJXB6r+to9oA6cRyno/7v+NnKSnWB/YDkO7FePI1w/x5IVWmD66LT75fRHumpnBabAlctKKIO9jhelTynA9rQR97c3Q49pTdO5Mab+zIueoACeyzPDSYGu88bcSHPm76Z++F31ig1cHm+OnUwp8d7MMnV+wQE8DzojSyiq+x8SgR4yy7MZNezSVHKyt6LgQP6Una9LKD9yR6NMPw9o9woGUa3jSyQ6v9u6DhFfuYtS3PyuLkf+jLxtz5RifWQxzcnKelJjD88Vu6E6FMkppqHuBAj9m3UN7SUf4EB/dawv8kpOLM4VmeFJmhgH9uqGbQv3/vjFb4pFGzt/IXl0QRUP3ZolD9/pjolMXdCi8C21/T99O4bz67an6boSnoTaqkjZsvOl7NzG4P4bZPcSB7VfwxLk7Xh3jgoTNt3HbvDWcPYXvghy5fTvh1RnFuHpdARcHa/S88tTk98+oXR/a4a1AJ3JIBLFH0Af24tF5ug9Cv04Rj2v0VgmzDq3bIur1MfSg1ZK+5SU4+1M8Qs/3R8Jf6GG3fbHooMcUWWIU3U9SC+UXooTuID/PXpDJZDjwgP4WUETG9w134KuLMKfwlHP3F+jvSyFOp91Gp1490M1S+J4bu5fo2t6nvy9t2uNVz/Z6Oum5MQNklbH2YPy7csv4PT+sb2/M6a76FrxAtqp+u7+USg6jlRQrvOxhmZuDrxJ/ReeePTDhxX449/o5XKz0njf8fde5bl8fxbdzuiHEtz3G/4mcSvohqelKHv349RIWbaYF7aYC338/mrqyFqM/+hyf+ZsOsFR8qjdBISwsTJMbHKx68NekPPsDd3d3/Prrrxg4cGCtGze2al2VFEs9sCoz02BRW/dZyMycZTCPE5kAE2ACNSXw9qffYcVrnqrqPyPcf2lNVTVovcyUG+g56hDZ4IZz2aPQp4v2o/ETHA3/P4wL7ouEn7rBLJ+GhX19CjPoF+t5/5kDn0GGh3LJLt9El6EHlTpzRqE1DdF5fXgEXocnLuZ4wzwuBa6va6+SOhptOwN3blR0UDb8WY4N9Fj27++kMDv+G975jB7mVTLg923IQQJunHpCjk4pJLJCuHpbwsXNCneFMjkFCPt3CYI2WKLg7GN8ds0S/57XgmJiSsk6/xi/+1AYrG2GTZEd0Nu2Em9nWGuMJgcpK+kR3vlYPfRP/alSWpcfpaphd4KvpCfzXqE5YTRPJP0mORu5CrR9KMPAXu3wYnfhoVnlJOnVEU+PncIU0Vmh6N0fXhMdpCtpP2FU1BUxe8Z5urazZ8Kne8VruywqTqWxP86s6IYXVWembBl1XoYJvV6Ad18fmt8Uj3nTemIk2X065ZdKfx2vSXsm+66yt7ofpu7deZtnkoNE1yHhDmIyHqHtvfsYOLw9XhzcC7eFhnLuIXRtHpZESHEnKQ1rrtjiy4Dye9D098+ApZ8cQsdPgKgz/4MJ5nfQ1kP47tavlAjOdofOmEAOiiBtLGkYHQUE3pvtRA4ScP7SZXjsukg5/XFuVTdo366yu7+gy2fCfSPkeaOTtfZInkIcTfwK4/b1puhLF5gVlcDUvYT7QuuAvs7W5uXfW/08ob15r9gY/658exzG7vnXN31Nf7PccXGVB8zTaA7WV+WRtB1/ep0c1cf4z9p9CBCtEr4T3vCiqOGGhJrf86Iq1VvWA+EvVSu0pR/hmrQ8uIGjm6fi80Or4PpgL6xdnfGXKW/h/RH/xfmXvTC4k/HeVXCSTK1q1xgcI/2ujB07Vj+Jz5kAE2ACzZ7AF4d307CZo7Dt44aXJ05EYMIOpIyaV4XhWo0JzROc3a1+yLKgX2JJSlQP5ma0hTkNjRgn/h53nX4hvq5juEOF/72U2eYUeUr4UnCQBKFhKPT/vL0dPRWbkj9ZiYOg8x9VdJJMVbOTko0kTiPaYs2I8pLZ1BFzCnI8vl+CH660wBIahpN8jHT31X58K8V5imIppYU4JFvT93JVFY6Ebv96TyRVIa/OE4RrgJZoZYC1A0UCBXF+oQ8+0xqdfqdMTK70beNbr+Itcqoyf/kZrv85rVPeoaXOqYETC3GuAI1CEsWkLaeOI8mTois9bbGOSjv3pieighwcUDllKhWVfFSjvUo01XW2Q0fVdRjlgs9GlWu/Q46FhXAP3s3Dxq9bYkUELURy+Dj5CnPKC9F3xej3T6tUQx8KPkju3Zvo+BnZryUb3xK+T7/hmOggaWWoDs0pSpSQIjhIgtDfAmLSQdJKeUpDPCG7Rw6ScPozRq39WUxf+sYM8dPYfW1Ip70NRaFJDOUJ7TnkV/5dqfyeF5vQvJm3JCgUeb2pSbmCm7lu8KIIbN9TB+vgnhcUK7/Mz+ivjaYndX2QJ7+P70cPwZ+70noN94tpuG4RHuTk4yQNtntLGKloQgz86TNRuhlmVXV/pGbYde4SE2ACTZnAkd34QmV/Cm2NF/G6O6a+DRxRJza1vv2pI7rTMOTcq8pHX+H/rsfqSEZ1+6L3y6f6YVpQI/woLQzX0ZF/yfFgKSiKpf0rs04JsZ4ZVA6cKkuh8nHi/p2DlXt1y4d8ShExc6UTBar3RAHQmkqGhZYy70Z9l1/X1W+osGB5x670gKTfB0OFa5kWKlMgmH6vdnceA8ToPqA+KlY+QB05GYGJap+0iu0tfX0agvrQkCX6lb+nMAekllKZLbPSc/CoWw/4BU5DR1sLXPnpjs5cp+o2X1l71dVX1fKG7t1HBarr8OlmTPyrriYh2gNztcdZiiePoZrHpltOPNP7/hko0cBJ6n6Um2HXVnCSCqH+CeS92S+ARrjiUqlASiXav0tQkmoqnOAy4bGBFbpMXtsRqh/l9XWq2xI+9fPo8pjUqV3XyLHyumv1SSxHiltboYumTm/0aEt/c548gozSltXBPd+2tfB3pumLjW0XjD55Bg+oK53oyn+/NkDcTHbBqm0QFrozJVVykhpimW9TRnMeE2ACTOB5JjAhaCVGt7uNpaGCRzQHc9yc6X/8dFxvcg6SGTp5jMDqsDaYMcuZhl49wlffHq3GpTWHa9hobHySj/f+anw+hPJ3XKVa4b/9/h69sPFPxXjo0hXu7R5jyu9PIeuuOwYP7Iwdv6PhXl9XNEGo96J7K7wxrACPnC0xoG0pVv+rENdfa4Vxr7XD3SIFfsptCc9xVuh4/wntwKErFR83WqDDAEtMpwlFk6e1gR2FvHYfrGTo3OlCXLlpjZe822DDkhY4dL4U3fta0MyQEvj+oGxv48G5CBojpUUursNpTKyuEdU9o3kip/u/AT/7F3DmjScY+tVpCHusjG77GLP25OAPg2gI1OCZiChJwyVFKwxzsUPnR1kYt0cY+qQWukbThmEjivDePhouNHkCgt1obCMNFTp7rxA7aJ6J8CDyME+Gdw4qh9wpa6rqlRQY3ZfJUvXcvLEyWw7ewDnXLvDpSe0W0X6IppaOVptt4LPK7Rmoq51U02tk+N69jz+83gUT3piDiKKruJTTGsP8eqDzvVsUY9GVig98tf3+6epXn9W0f+r6Vf28IHuMV7t1xIj/GYPPn7TBLFdbsaq1xPiPHdp/Cwy1Y/Jeum2oBi3aZThZTBXyTOo09F3Ru+fF697DHhtH0N+sLrZwt1Jgzy+/0Xylbpj+p3G4f/oWHAa6isNI09Me0HeNpNb3vBv8vCjqKs/BBRpe2aTFxgnv7mgNST79UNV9MLZt24E2nezh1L0SD4k6XfE706RJsPFMgAkwgeZPwOGFwZj/WgDmB65QdTYLh8N3YlOT67oFfF4fBB/BblqQ4UDEJcz7l7ITxZX2RYi6tMecwPbif+T3yUkKNVBHiLwIq6EpJQWxcY5wmtEVQetp7AXJnZR08XNGZDbuf/wCZiyZTk5StN58lRIcP/4EjrQ63Tur6NdakmyaTyTMmvksQoGP5tC8g0Xqn5DLkPg1rShGucVFgo3lMZ88IRKlUEeXWmLUazbKzQzltPDDjkf412lgwpxWGNCxRcU4UXEpjm4pwt82PsKGD9rAw7ctvUT1yLks2KIUibD8FckLfTtiNX0uE8/K36ZNm4Z9+8QxRuWJJo6mfJpG+yT1xkjXF/H0H8pZQI/v3qIaR7EmsS1WC4ttvOyt0lCMH1Juqo6FD6H/7TBnONWj/ZIekpNU0KG1atJ/G/gN6qMpm3u3Jd6B2knSqlfwK+7T5rWGrm2uQu1Unq7Elp/x7S8utFKfLW7evof3NK2WH1SFS9XbK9dr6Khm18jYvXsEa8LbYfW8Xnjrw1Gq5ug6bE8X574VFSrvfeF+FEQuXJPH6nvQ8PdP2Ex5UKeWYn1lLdU7PbwffOuk+N0w9f2sWf90WtI5Eeck6aQoT0J3ZZED345W9XuBZhwBV37Ows+29uitHlKnV0dgkE8rIgti3P7K7iWxuuatXGfFSFd5XlV0GrvnLyI2zQFO5AAGTVU6gXeybmLKroO0NP8MLOzXE6vte4r2ZN75BX/XDF2t/J7XdMLAwecxA8S5bsnf3DD43TNQpREn2cDZVeUQWfeEG/l+VZUWsbGxT4VltOtCWtIYz3bt2tXJctx1YQ/rYAJMgAk0ZQLJycnw8/Mz2IUJbwfB07YT/Yr5AImhmxrtXCRh429hkR19WfrlbKx+rS0OfHoWe+48odWTdOcc6Zev0/PfuWG1a2sU3JEjVKvddZFzEDKV/gfNouWSY7IQ/e4pZIycXd50fzNM79MST+6V4shp7f83W2KCnzlNcS7DzQMl+LG8hsGjCX9qi2UzLHDk33mIvvcUP2rpWvRPWp1PvZqedu2cJ1j9u0ea6zxgnAX60VSIhypbfvhhj6b04R/fxQSbe3jfIUr5q7Imp+YHwnLEbu2soMh/pBfZ6Y2l4zvQul5FuB5zUc+5rHl7pmsOQxo5bEWpupPZgfqype7bq/E1MnLv0oQ3LP24E10Him5+nFLpdTD1/duV+CatBGkgGpOTg2UOe6r00Fzj/pm+8AZzl9K9CUUyQk8ZzK5hYn3cS7XQObg/VndthYK8POrnz+V9GuyO1Z0o1lSSR0uka6WXl6jW0dL/Nxa+Yx3gM1AC2QVaAGf4wWrVr4vCKSmCw1h9KS1NFle7rn7NijUEf0bwjTiSVJENpzABJsAEGj2BI180XseoSvAshF+zzej/9kvPfnnZry9ViLAINi/2343C/0yD/zgHvBrQCS/almKhOHZF1aMrpYimV0Upw5ED2jOfKpbQSRHnKtEKY49oXyWKHmmLcjU97RTDxz/GFRt0xj6n4XYTetPqbbvS68xBEizYGJNs2BCa9B4aYySrLpNpj5rUEbZQ0OIa0o6dxaWbjzzUH9RYh7bUY3u1ukZG7l1a5QShH1fjhwYT37/Xh2+lVdVqLrXqXw2aDTV6b9ZAmaZKHd5LdaGT9jBbptGjdXD+ouF0rSJVPvxwMv7ywQu0ZxTtuRR7FUOnVWfoc5VbaVIFK8YHm5T5bCwTYAJMgAk0RQKZGXJahvke0rMal/XL3tqHPg6b8f7HSfjf77SXCa87O7Npn6Az55+AVs+uc3n4IA//jUjC8Lcu1V63erKFsBDGDHo15Ll9CR7SGKmuNjTcMf9XRP98ARMPq345r6l9pggV6LWXSO3tq/0v9UKTdXqNTPXBRF59fv/qvH81vb4Neb829PfFVPvG7otPbuAfHyegReuIBnWQPD1boCYvY92qTToPt6sNPa7LBJgAE6hHAqaG29Vjs3Wq2thwuzptpB6VjdQebleP7dRWtfZwu9rq0tT3p6M4eo2nl+Av0qimZnV+i/rD0rgJdCDzmuv91xDfp8jGfblrY92ZM2d4uF1tAD6LusY2pXUcMh2OntOehQncBhNgAkyACTCB2hM4Riqm0OtbeglrQwiv5nRO3WFp5ASa0/3WGL4/jfxyNzbzOJJUx1fEmJMkNFNtR0khQwbt4C6h1VpsDcyhhEJOK9VIITWUV8f9em7VKTJoNazr6Dl6IvrQPibVktrUrVZDXLi5EuBIUnO9stwvJsAEmAATqEsC9RFJ4jlJdXmFKtGVcTYaghNl6KVfVZ52HCEunvDxGQFPlxAcT5NriigyErA5JAAOLm7YfyVbk65zIE9GgIMDEmU6qXV/8qzaqXvLq6ZRkYOAoIX4TVwvVIYdxHRrMjGvSr916latOS7FBJgAE2ACTIAJMAEm0PAEnvvV7Q4cOIDCwkKjV8LS0hJTpgjx3mcpGfhu3HzYhe9Dpp87zkWvwcxx+3Eqcx5tGkjbTRRboa/fG1gSGSssDmVYpL3wwd6D6FDfUaZn1Y7hXtZ/qoUZ/OmfUiQYum8vYEfr7UvNK+erU7f+TeUWmAATYAJMgAkwASbABOqGwHMfSRo0aJBJkoMHDzaZbyzz5cAIVOVlqL489TJW0IO5z3B3Mdtj3CQ6W4rzqcpokrSPF3zHuKOraiNBQzoglyFx1wnIaFVaeeoBMaoUEBCAkJAQegUgLPqikEERqTAcPrwHDhQh2XGOIiSKNOxYQ1EqOhdeYVGJUFADxnWUt2PQDjFRhuM7wjQ6oy6qwlvq9mOjRPuE9rYcOCe2Z9A20pWRWF42LFq1JK2oZzNij0cjRLQ7ANHJqYjdulzZ5vIduKYKxJmsn3AAy1X93hF7zUB3FLh5LBpXs4mIhm8W9iwPwJ7k8iW6zkWtwZoo2lleR7IRHRaA5TuUPA3aoVNe66QmnJLVLOg6hmxGIq0kppa0BDVDsmc53Q9hByBeEXU7VbgflNenaszV7fInE2ACTIAJMAEmwASaCoHn3kmys7ND27a0I58BEdKF/GctxSXCLuJ2sLJUtaxQ7svxpLBAy5RiGNqto7xAIdIib1HUiYIejkPwcXw8/r5mDd4YY4dIikB17kzRkOJCyCI3YOE3edgbF48JLwh9tYCTTxBSMjORFLUOG4IPiw6GUR20cZ26nfK2dY8UaZcwf+kGbI+/isxLSRhqpwpvqds/8gh/jD+Fg9tDsTpwJhIEj0adp21bRix85gRjTtwlZKbsRWHQLERryq5FwPws+JOe7SulCJo1GQnWvjgVH4XAbUtxNp0cwMrqz70M35hT2LdlEZYGnAXVqCB5V7bhYWkJpav7Tbt795diceR5mh9GokhFTHA4nHsLMT9BrGFpIUfsZm8EXRmPt+cNh8SYHcoKFd/VLKrM6Th8ZgXBbWcMrmamYPcQGeb47ESaoJnaHjc3GC/tjMPVq3/HGGcg8oowm5RE3Y42cyP3g7JsFZgrNfM7E2ACTIAJMAEmwASaFAFzDw8PcVfZurBa2KE2PT29LlQ9Ux3e3t4Qlql9+rR8l98WLVpASG84say7nX4ltrB3pODHtcOYFrgBi7YcxLzhQkIu8qmDOz9eCA/1Mz0c4dbrGhKjo5D7MEfsfqkwH0dqXEdljCTdu2ERFZq/eiM2LZiKcaNUjqcFbXcBX0QteRMetlTAcaS4KVqOgpzBLkKerm3Xzig3yvvxxDfIoGWWwil/5UN1WV/sTHoXXqRalutGOUPw7uxRsCXXxZkibgU0LPHadVP1gYj4jzBKwPKkO9VHlfl7DPfIBgZ6AABAAElEQVSjXSjn42LwdPS9kUh2hSLJnTokzyIXaRuObb2DDVdWIi5itjhc0qgdtAiHQakmp7SUC6RmHcaO6gfBHR0+fjr8F89E+rW5KLv1oyqvj5jnPoju8aUqd1tsR5c5XRTD94PKpsqYG+wPJzIBJsAEmAATYAJMoJETeO4jScL1ESJGtrbCU3q5dO7c2WiEqbxU/RxZmLcixbegKFLpl5jRwzZNPzLTnUJmbDqSQauyEhA6fiEWrItC8ERXrSL+sLIqP5WlRsPFezxum9vBbUBfcmEEV0UlRnWoCxj5lLgi+FI8tk/rin1zJ8Nly3HlkDqxuBRm9MCtI5oQma5tNBuLigVikJcXPDx8sHfvPrzUy0ZVVQorNR4zdQhOyNKOuJmq76+ZvyX4hNUSe3dy/oDjibFIiF2NRRFDKQ6oFl9YWpLTFZuBO5rFN0zZoa6n/1l1TkVFNMfOt6KTV/CkmK61ko0aFUo0sFUN6jI3eT+QU1c5c/1+8HldEwjaHIWjB7diTl0rZn1MgAkwASbABJ5jAuwkqS7+kCFDIETCBBGiSF70IN5QInUdSBGVSNqN/ppoQuqJY9iGlfAQohOi0JwYRaE43K5EXHRCmDVkQmQXETZiLiIXheMPs71o5XBaOtxIlawrCaRoGV7yo2FhRXmIFdQKo8uqokNY8jpqDw6fyxBqaUSRnYbUHAnGTH8TQWELgNW3kafKtaZ+Xk5JFZ2m7IuXsZrSewhDAQ1Iv74DKDUcsnwbcpI84NHPDhJ9B8tAPXVSZfX13QV1vco/pRg8MRTbggOweFsgXvbso6mST47EyDc/xO7QfMwfJ6xSqIBRO4zwE5RVh5OjM82zi12MsxeVAwZTz8QT5UC4OtvCthuFyrAYkdEJOJd4AKHTFgP+xt1to/eDpod80KAE5nyK383wRl/7LujcoIZw40yACTABJsAEmhcBdpJU11NYxa5Xr17imZOTE/36rx2NeNYX3RGvxUTgQsB4ceGByYHZ2B43gwY+KUV28RAt/z0Ci8mDWTHHh8psxDl5RRuF6JMgsqzr2CAcbAiENy1M4OLmBrdPosXJ+uoyQrYg/Qb50SIRq+FD5T4+eg+BvpGY9bco/FQVHUW5OBK8GN/8pBymp9RI8Z/cq5g8zlPsy7TgbVi3e6RWpIWmySR8Chdqz3taEJZFxGCMozBITHAM9MTRF3E712Gx2GdakICWSD9+U+ntVShLkRS1aFyAGtbX1q3RRcq10+3dBmEJpfmHjoW71qg5oUyRQoLh85aKc6Xmj9uIZCsj/TDCT92PqnKS9JmIg1tWInCat/L+WZiNLfvmox9hlfTzQ8zOMMj2zcXMbzMwJnwZDQssFf1goR3tPgnnxu4HmYGyQvRKLdqc1Gn8WdcEJmDHHyaJQzhBP5k8qWv1rI8JMAEmwASYwHNMoEVubu7TsrKyOkGgnpPUkFGY2nbk6NGjGDt2bI3VmNpM1pRSYSW8CkKbyWblFsKqg5HNZCtUqKME2qRWRr6HrS097ZMNsiIJbKu4Y23CZgdc6h+Pd8eoXTq1TQrISKkFzY/SqJKfQ4jbLrx+aT36FcugsKBIh5aDoa5Z4VO0r1hXV4VCJhJqUF9BPCSSLGx1GAHzqCTMEyY/1VYM2GGQXy05SWgoqdLtVBosk8mV15ZOz+0Jwcyzo5CyfjrN3zIitbgfjGjk5CoSMLWZbNDmg/hwhj1SkmTwdC3Eyn6T8UUV9T7LYsJ8T3d392fZJLfFBJgAE2ACzxmB+thMVjM14TljabS7tXGQjCqtaYaw4IL2021N9VS3nkQKW3W7ZIPmuDI9imu4bxMOPy99B0moSI5WBUWltKyCHMLCEPoP8iab0rbPZEEjmdWun43973mLkTvQEhT7etWBgySYpm+HUX51yIna+MpzvDKyKOLxx5aDw4w7SPp2Vud+EPXzW70QmLCOhtkNRNbJcIRneCPCm2N39cKZlTIBJsAEmMBzS4AjSc/tpW8cHZfLZLDUi3Q0Dst0rVDIsnDntwK0796n6k6jropandUlJwXt8ZT7228oKLag/jg2SH9qBeM5qmwskvR/R69hYt8cfLPhS5S4zcXrY0rxTfgh3LyxHpt2Ny5AHElqXNeDrWECTIAJNEcCHElqjlf1Oe+TVG9VwcaKQ2Jrjz5Gx6PVv9V1yUlCy7kLL5amSuBttLMsgDynDcbNfw8WFsoxqpMCu+Ma7XG1aXdjHHTXVFmz3UyACTABJvC8EuDhds/rled+MwEm0EQJfAH/UeWO0IRPDyLiNeDjHpPRyIJITZQvm80EmAATYAJMoOJWKsyECTABJsAEmhABB8HWx7TfWxOymU1lAkyACTABJmCIwNOnKYaSK01LTq75Ri7GlNdLJOnKlSvG2uN0JsAEmAATqEMCX3xAq9p9UIcKWRUTYAJMgAkwASaAyp2k/Hs4f/YCrv/8G+xHT8bI7jJ8H/0zXpw+CU76m6ow0HohkJSUZFJvjx49ILxYmAATYAJMgAkwASbABJgAE6g9gUo2k32AmC8mIWDRaVzdvBbZj2itZuu2eLz2NHIe1r5x1lA3BH799Vfcvn27bpSxFibABJgAE2ACTIAJMAEm8JwTMB1JepCJA9um4usLq2C+1xrKUYKt0Wr098iRvwd07fSc43u23ff29q7QoBBlcnFxwdWrV8U8jihVQMQJTIAJMAEmwASYABNgAkygWgRMR5KsW+MFfI9bqb9A/oT0luThRtIRrDq5AL17soNULdL1WPj8+fMoKCjgaFI9MmbVTIAJMAEmwASYABNgAs8PAdORJGsXzIpYhSnzZqiI7BE/F63/Gi48H6lR3CXq6NK9e/dgbm76cjYKg9kIJsAEmAATYAJMgAkwASbQyAlU+lTdffBUXIgdiNTMX1EEM9jYOcOpK3tIDXldi0rKsDnuBuQFJXhIL0G6tzPDAu+uhs0qSMe/XnkPfTbsgW/fdobLNKbUpmZvY2LHtjABJsAEmAATYAJMgAnUmoDp4Xb5NxCzNwY3rHvCdfBgDB7sxg5SrZHXXsEdGvuYU/AUf5/pAhtpW0g72iC31AIPi54aUP4QP3zzHvZTTtii2Vjx5Unk0vHti7FYMWkSJtHry2M/Kus9TMeu9btwOvkY1ot5K3Dsx3Sc/u5fYrlJ//oeGcKCHWK5L/HD6XId35z8CQVKLSZ0U50fDou6vv8pByj4Bd//3wqlbsGO2Iukw4C9D6/jyxVf4ifBcJKH6WTf/x0T+6GxRVsvlTHYP7G26s1oH+7h8L9W4LvkXzSl009+ifXfndOc8wETYAJMgAkwASbABJhA8yZg2kmi2NH5VR/iNj3PsjQsgZYtW6KgqBTX7z5Ebn4xXuzeFjvP3YdNG0uYtaKXFb3wBGaKM2hRptAyth0G+qyEF6W8tXIj3p3ijg63T+Ptj8Iw8X/34NDOf6Jo3RIcE7yfkmLkHv0Sq1bcx4QvtmLlO22xbsl7ON/KG1u/WItX9/8bqb/QzSCW24XQUwrMpnIbV/4R/1nzZ5wTdJjUTXViH+Gf//sFRvToTBaZwd7zd9h56BC+XPs+doWdIifMgL0ohSxZRu9KKSkuwtH/FqlPyGY9vcZsUNUXP4z2wRoOfdri8xWXobztM3B6zS70dRK37NTWwMdMgAkwASbABJgAE2ACzZSA6eF21i4Y+S4QNOMzbAgfhtaiS1WGsjJL2A8cjO486u6Z3RaCk/SP/Vdx/3EJLMkpsrCwQEuzljC3MBdfJaVlMCvOgOWDDSg1c0BRjzCNbe2kbWBLZ23bdETnDu2Q8dMtMS89+QhuU+zmv3T2zuNCoCMFd8idWv3l6xhAPkzuw76U44rXJ3qgA0V4epKn9cSMkuiuEcqtfWsGXuxA5z0G4S36kBcUIuPOLToCDOsGVge+hhc1owJ7oG/3DFw8Fos8hVysV0qjB/XtpaZ1RbBBLaItunozLt8ScyvYoK4jfJrow8gBY6jAMlz9ZSrM5Jewi3r3hQCEhQkwASbABJgAE2ACTOC5IGDaScIDPHo8Ghi9DYsCt2kBmY2IWHaStIDU+6GZmRlkNMSudVuJ6BwJTlOLFi1QRiPsiksoxlJWhvaW5GhQgKVl0S1de8jxUA+FU2bQfld4Ff0GDkSb0lL8859D0a5rG0oTYidtYal2QswslMXF9xJNJEeZ2BZm+nePGOoxpXssLC3LVebSsLm5763DOx+tgVufNuR23VFmVrBXmaxpr1RoQ9s2Xb1EhPIN9U+pp/zdSB+6OmPpq0AsDTvMk32OVz/aiB7llfiICTABJsAEmAATYAJMoJkT0H/M1etuJ0x6/zNM0kvl02dPwJK8ixZmLehlBmHmkb9rK3Q0/5WOlPOQbCgm1KVwB9ACKKWoko60bi1Gkp4U5VNyBzj2cqbPVcgtmAgvd3r8L8hFruBXVENa4yjSrkyH4zBnPL6ehv9Q3ZUUsXKUVl33vRvnqdZb8BztDvMfY5FMZ7MER6uNrr0gpwnU3r2789HjYSZ2/fnfwNhgIdGgGO1fwW2c/iEVpd1dMZK6bawPQs6Lw99H6J/XkU1TsPZ1oU8sTKAREZizEt+9NRLW6p8u6O8C8jPwn6n/g92NyEw2hQkwASbABJhAUyVQiZNE/+/m56G4wgO0BWxseKzds7zoVlZW5PwU0LUogf/AthhW9B7MysTQjWhGi5bkHVFkSZCy4vJ0MaF1Vwz84xR89NHb+HzKYuz808v439Xv4w90/plYAHj/nzsxUXQcVAnqDxpipxYhwKR9K9w5/xVeWSW4NuTqLP83vHq0pqNhVdbt6DIaY7ECb0/6D7xe/T1e9TqKJZvdsHPlSD173THi915Ytej3pH8K/vj+60Cq0KpShFZ1pIcxGx7ifNhnKHj/n6KTJNQx3AdyJV90xTuU//lb3hggDClkYQKNiUDbjnB6kYbDZmfhsfB1N2tFM/zuNyYL2RYmwASYABNgAk2aQIvc3NynZTRUy7Dcw95BkyjmoC9TabjdKgzW209WGAKWnp4OiUSiX4HPa0EgKSkJPXr0wNbzCtx5VIJAb3N4li6BuZVqyJlqUbtSGnb39OlTFJfS5KJ+ERVafPiQJvdYtEM7tVdRQItA0BLi5q07lKdVqGUg4eFPWD/7ICbvCYFjSS4KzDuApjrpSlV1i+XIKREUiBGt1qRLaaC+vQ9zcynIUw1bTdlQWR9yf8K/5v4ZLhv34GVn/c7pdpXPmEB9EVAoFPDz86uofs5m/LjeB3EBA/DBkYrZjSklLi4O7u7ujckktoUJMAEmwAQaKYGnT1NqZFlycimcnJxqVFe/kuDPCL5RJZGkdvCKikSkyodq2bIQP30zD8vvDoGdnoOk3wCf1y0BYaGGt4d1QnZeCRza3sXTXKVnVNayAwqL25Oj0x5lHSjs07IVWlgPVA3C07WhXTu9h/3W7dBB7TDpFq3krBSP6J+wyELrDh1ocJoBqapu7XLkAGnbo29vO2qrWqKtu0JF031IP3eQlk1/H/7sIFUgxwmNhYAFOo0OwdsOt/HFFzzIrrFcFbaDCTABJsAEmgeBSpwka3R30p2P4fSXSNwctBm37k1FV80qZc0DRmPuhTAnydzcHH2tW8GypCWeCis2kCiyM2DmFYMnyeNh4ToWTyVD678b7Qbgzzu7w6KaPkv9G1aNFirpQ4+hb2Hnt+S0VUMlF2UCz5JAAdpgzPxFGEONrvjj2/hu51q8u76Rh5WeJSBuiwkwASbABJhALQhU4iTl40ZqunLMu9gIzUopyMJNnITLozygq00tmuaqVSXg7e2tW7SsN61l0BkFd34R08tOj6NRdPaA9QDdcvV4Vu2oTj3aUlPVpvrQup2RCFlNG+N6TKAuCex+F170AiYgaOVUzHhlBmbMfxfXyUnaVJftsC4mwASYABNgAs8pgUqdpMtfLMCqk7p0pi5aj4HO7CDpUnmGZy2t0eLF/0BrNW2xcdXUpGdoCDfFBJhAwxIgp2jFEaRZ90TE673w4ttkzRcNaxG3zgSYABNgAkygORCoxEnqhJmfXcDM5tBT7gMTYAJMoJkQmBC0EhO7PsLhpetxZALNSxo5CHh8AefZQWomV5i7wQSYABNgAg1NoBInKQ/fL98Ghz+/DzdN4CgPh/4RDumCv8DbyJyk/v37N3S/uH0mwASYQJMnkJysXGJfvyMOLwzGa68Nwms0J0kpGfh+w2YOIumD4nMmwASYABNoUgRatPCskb1nzpypUT1TlYw7Sfl3cP7yNdzOu4mClB9QYAWU0MIBUNzFX/fcRfg8U2o5ry4JRERUXM5bW//gwYMxaBD9kszCBJjAc0Hgiw+m4oszbyPEqQesCh8gZf0m8JINz8Wl504yASbABJjAMyJg3EkqfoCEwBBsEww5qTspaeHycPTu/ows5GYqJXDjxg2xDDtKlaLiAkyg+RDY/QXWN5/ecE+YABNgAkyACTQqAsadJBs3vH/hBIYeOoOOPuPhbN2o7H4ujQkICKjQbyHKNHnyZBw6dEjMY0epAiJOYAJMgAkwASbABJgAE2AC1SLQ0nRpC3S2t0db7ULCMLykS7iXr53Ixw1JYNeuXfjtt99w/vz5hjSjvG1FBmKjDyNNXp5UH0eKrHOIPpCMem6mPkxnnUyACTABJsAEmAATYAKNmIBpJykvHRvn/Q6Z2g6R9ROcCfyPbloj7mBzN02ILhmKMNVbv+XJCHBwQKLMRAuKHAQELcRvxXplqlJXr4qpU4XsJwQFXkeBqUKcxwSYABNgAkyACTABJsAEqknA+HA7QVFxKb2NhrmFtlYJOtJmso/yyHPqxGPwtMk8F8fSXvhg70F0kJjorYUZ/OlfBalK3QqVjCdIrFpTZilM38TG63MOE2ACTIAJMAEmwASYABMwRMB0JKlTRwwmhyjmSDxu3HuAvAd3kHzoANZgNjqxg2SIZ72nTdp0FPqvyhqVpx4Qoz9CxCkkJIReAQiLvkgrFaZhx5oAOFBkSHiFRSVCISiTp2JzSBgOx0aJ9YS8LQfOqfJkSNx1ArIioaAMx3eEaepHXTQUXspGdFgAlu8g3XLtukJ9lYjtbUbs8WiEiLYEIDo5FbFblyt1L9+Ba6oxdWmJapsC8Mm2YMDfTK2FP5kAE2ACTIAJMAEmwASYQJ0QqORH+J6YsG0VJi1YhD1ryttbtP5rrX2TytP5qP4JHAoaW+1GpI5D8HF8PMwkEsjOfoVpgZEIfWWZqMfJJwgpH0WgJHkPvGcdhs/Y4fAoLoQscgPWYiX2xp/CB7dOYPL8mXCIuYSJXQqRFnkL7ksEH+sS5i/dgO3xVzGmfR6yirXDS9awtJAjdrM3gq6sw6mI4ZDIz2nq6nRCbG8t1kYuQRS153fiM8yfNRkL1u3Eqfgp+MpnFs5OGYt+3a5j3JxghO6Ow0a31kiMlGLbFR1NfMIEmAATYAJMgAkwASbABGpNoBInCejqNhWnYgciPfNXFMIMHe2c4dSVh9nVmnwNFQhRJH2p1HGS2MLekQJE1w6Tg7QBi7YcxLzhlEDi1usaEqOjkPswRzwvFeYR0fDKfPgiasmb8LClc8eREFyqHIXu7B9J924QtrKcv3ojNi2YinGj7OhMKda0ePyxrXew4cpKxEXMhr06w9Cnqr2dSe/Ci1TIct2o1BC8O3sUbGlZBmdfoIACRhk/Cx7ROkwY3geCO+Y5xBtYQUNCeR1kQ1Q5jQkwASbABJgAE2ACTKCGBCp1kvLz81Bs0R69nNqrmihGHs1HsrFhR6mGzGtVrVKHyJj2rASEjl9I0ZkoBE90FUvJUqPhOTkIK8N3Y9gAG3KLbmnVlsKMnBcdEaaoaYvEFcGX4jHo5Al8NXcygpZtx9WFY0QHBqTN0pI204rNwB1a5q5PH6l2TQPHUlip70YzS638Ypp1pJTC/EektqsmT7uUJpEPmAATYAJMgAkwASbABJhALQmoH0uNqLmHIyMmYVWF3KmIiF2FwZ0qZHBCPROoUSRJdhFhI+YiclE4kmZ70dwgOYospci6kkDWLsNLfsNhnhyFWDp7p4TeyDmyRiQupyxAP19X5F28jNWUvL2zDb3fpZdSFNlpyHjcHmOmvwlpMS37HXwbeQshOkn5kGLkmx9isM0KzBkXgu1xGzGms7omfQrLhB9KRqmjFya+oJVu4rBLd2dyuoJx9uJQvGSnwP5IYU5SmIkanMUEmAATYAJMgAkwASbABKpPoBInqR28oiIRWaZU3LJlIX76Zh6W3x0CO3aQqk+7DmrUJJIky7qODULbGwLhLR7Q8YJNOPmGH61BNx8+DqvhG7gEgb6RmPU3b6SsVw7Fy0j4FC4BgutErlREDMY40iA3WkBBHUMsyr1KG9kGifnC27rd8VAPuBPKFCkkGD5vKbaXhGL+uI2IOjJeUxdFuUgIXoz8dXtFJ0mtU6OMhtipRb00g9R9OLYs88fCaSPErMBFtIJevroUfzIBJsAEmAATYAJMgAkwgboh0CI3N/dpWZnKC6qSznR8Nmgzhh76DN7lI5/Emi1btkR6ejq8vLyqpIkLVY1ARESEWNDUfkhVKWOwNYUcMlrSztaWhsMpZLRqnYTmAV1DiNsuvH5pPfoVy6CwsIWQbVgUkJECC5r3JNVet8Fw4TpJlcuyaQioDdn0jBqsE6tZCROoPoHk5GT4+flVv2IjqhEXFwd3d/dGZBGbwgSYABNgAs2NwJkzZ+Dk5FQn3RL8GcE3qiSSlI8bqel4rJ4UQgs3oCALN2lZcJdHebSqgzD8iuVZEVA7QnXankQKW7WvQY6OeCwvpYCRHMIiDhJbW9UcI2OtklOlUWCsTN2mS23V8aq61cvamAATYAJMgAkwASbABJiAQKBSJ+nyFwuw6qQurKmL1mOgMztIulSa0ZnUC+tTesFSWNmOhQkwASbABJgAE2ACTIAJPGcEKnGSOmHmZxcw8zmD0ti6a2qYXX3ZKqUIEgsTYAJMgAkwASbABJgAE3geCbQ02en8G4jZG4MbPDneJCbOZAJMgAkwASbABJgAE2ACTKD5EDDtJKEI51d9iNs5zafD3BMmwASYABNgAkyACTABJsAEmIApAqaH21m7YOS7QNCMz7AhfBhaiy5VGa34YAn7gYPRvcK6zaaa4jwmwASYABNgAkyACTABJsAEmEDjJ2DaScIDPHo8Ghi9DYsCt2n1ZjZtJstOkhYQPmQCTIAJMAEmwASYABNgAkygmRCoxEnqhEnvf4ZJzaSz3A0mwASYABNgAkyACTABJsAEmEBlBCpxkvLw/fJtcPjz+3DTrPidh0P/CId0wV8qbCZbWWPPQ/6x8ACD3XQcMh2OntMM5nEiE2ACTIAJMAEmwASYABNgAo2HgPGFG/Lv4HxSCm7n3cT1lB+Q9MMP+CEpCT8cPYa/7rkLaDaYbTydacyWZJyNRkbKvuqZqJAhIyMLMkXFarLsLGRlZdGWrywmCSgyEBt9GGn1AaqquqtazmRHOJMJMAEmwASYABNgAkzgWREwHkkqfoCEwBBsEyw5eVLHnoXLw9G7u05Skz45fPgwhg0bBhsbTbisXvojOkrkLBmSlwMjdJLlaccROm4+IsVUf2yPW4oxfaSAIhWbXSZjrab0AkTEvAvffg29r5EMOxw8URKVhDe97DTWVTiQJyPAbRYCUjIx/FmYrMhBQNBCRFF7OlIXdhjTLTSkrR9GbNAxiE+YABNgAkyACTABJsAEGgsB406SjRvev3ACQw+dQUef8XBuxivZ5efn4+jRo+jcuTOGDh0KS0vLBr4+GfiOHCS78H3I9HPHueg1mDluP05lzoM9JBi8ex9ShrvDFtmIXuONgLgxyGxwJ0mCofv2AnaVOJrSXvhg70F0kFQRMTmFy8kpHLjvEma5k5NYXbEwgz/9qyDVtaOCAkpQ6TazMJCprb/IiA0GqnESE2ACTIAJMAEmwASYQMMTMDLcLh/37tzBg3wbeE9SOkh5N85j767t2B55CFfvNc/dZXNycnDgwAGkpqbW+soIkaGqvAw1JE+9jBX0YO9DjpAgHuMm0dlSnE+lMWMSRwwXHSQhxw5OzuQA3PoVMuFUW+QUcQoJw+HYKAQ4OMCBXlsOnIN65F5GcjRCVOkOIZuRmEG6VZKWoK4TgOXLQxASdkCj33g9BW4ei8bVbGpBbHszYhMOYLmqjR2x15Ta5TIk7joBWZG6NfWnDMd3hIl2CrZGXRR6JMfhzyeL0czgaW4IEOxQpGHHmgBNubCoROpTFvYsD8Ce5Cy1MpyLWoM1Uec058oDcirDqE87qI5RO9RV0rA1JADRqUqyWYl74BCwBddETAokbFmOHcn3xcI5qdXpJ5CRqObrgLDoZHWD/MkEmAATYAJMgAkwASbQSAgYdpLy0rFmyhTVAyFZei8Z4bMCsGrtDdw49Vf8btIupDdPPwlPnz5FWloa9u/fj+zs7Aa5TMUlT6hdO1ipA1oK5QSwJ4UFuvZkJODT4Egs8/OgqJKeFBdCFrkBC488wh/jT+Hg9lCsDpyJBOEpP+M4fGYFwW1nDK5mpmD3EBnm+OxEmqAiIxbj5gbjpZ1xuHr17xjjDEReeaxUbqoelci7sg0PS0sAse21CJh7Gb4xp7BvyyIsDThLcS9BCpEWeQtFxeKJ5k2Rdgnzl27A9viryLyUhKF2QqhJiqFTtsOXjpZtP4i/vzGc+mkBJ58gpGRmIilqHTYEH6b71B69+0uxOPK8co4WRZ9igsPh3Ntepd8alhZyxG72RtCV8Xh73nCKxxm2Q2MQuqOHXSz2XbhFSQpciV8MxK7G9TvkBCrSEb16G3p174KONCByYTX6KfD1mROMOXGXkJmyF4VBsxCt9LzKm+YjJsAEmAATYAJMgAkwgQYlYNBJypNl4+To5egnzjvKR/zed7AH7+LrE6uw6rP9WILLyLzbTL0k1eUoKipCEi1Ucf369Qa6QJYwPhYSkKUehoPPXPSnIXkLxzhWtNECyCf3ImrJm/BwtIfrmJFYRqVyFAVI+/kCHa3D2FH9yFmwxfDx0ylStRbp9LB+7fqPqrw+kEjs4D7Im5wDpXpT9ZQlVO9i20BE/EcY1c8ePbsKN5Lp/ki6d8MiKjV/9UaK3uSig61yPJ60cztyVwCbdraws6XhdhRJc+vVCpeio5BwPUdssLSYom3D/cibC8JF8sSyzyciHKEY7q50Ha2xDce2hiDgwkrERcymIYtVEQn6eS9D7NLryJKl40K4P5YEAueuZSD72gVE+m+CKxn2K6mqTj+vqe6nH098gy3fxZOdQO5DPee3KuZxGSbABJgAE2ACTIAJMIF6I2DQSbKxlmL0yXu4lwf8krwfi7YAH30+ES42gh1WaDP6JH59/LDejGoMis3MzODm5oa+ffs+c3MszFtRm7egUA9Jk5jBmlLMzJRuk4yGd3lOXohN+5IQTHOWjIsUFebLUFCqqKgQQnhG3wkreFIMK1X4SpNXooxiCW2YqlfRBn/NvCPyYSoXiSuCL8Vj+7Su2Dd3Mly2HFcODaTK2u64LDUaLt7jcdvcDm4D+lI3VLn27ti0ADieGIsEivgsihhKsTi1+NI8M/JoYjNwpxrL3Nn3difn8QTijhzDz0umY/qkddh2KBFHYlZg0QQXinMJUs1+QriogRjk5QUPDx/s3bsPL/USv1iiNn5jAkyACTABJsAEmAATaHgCBp0kdLfHuNlbMO+lQZjxzhqMXrQJE7zoIVOQB5lYfhJw6NRVed4M34U5MVOnToWTk1OD9E7qOpCiPpE4naKcx5N64hjFQlbCQ4iMKK4hcjKFNJZFYEhPc3EZ8KxsGkJnQKxJx+WUVNHZyL54GaupTI/ONnB0HkQOw2KcFcIuJKln4qlkIFydbWHbTYhKLUZkdALOJR5A6DQaZuZvJpYzVU8soPdW7l7pZRg4VWSnITVHgjHT30RQ2AJg9W2Qj06RI4no7OQX0jA3kqwrCfS+DC/50ZC5ojxlkItG+AlD8wZPDMW24AAs3haIlz37CImi5FPeyDc/xO7QfMwfF4LjaUpd6nwIS3RH7cHhcxmaJPHAthfGBMZiBQ0DfGlwX9g798UCcsBWUFRppFu5/ur0s1/fAaQ6HDKa7+fh4QGPfnaQUOSNhQkwASbABJgAE2ACTKDxENAEDHRN6o6pf4lF7/E38chMClc3ZzGSIZTJL7TEhg2fw175M7putSZ+JpXSHBha3c7aWojbNKQ44rWYCISMHw8H0QxhCfA3IQ6qUyiUiyisDoC34PUI4h+GlPWzKs5LoqyMhE/hEhArFlsWEYMxjsIwtok4uGUlJk+joXSi+GPLvmD0E7L6+SFmZxi+3jYXM6VLEB5O7tq3pRD8EEkfE/UoX+lKiQo194vyjN4pcqUWQ3SLcq9i8uQgdRGs2x2vjARJ7OEdugBz5vhgxYJNOPmGH8Vu5sPHYTV8A5cg0DcSs/7mjZSIWbB3G0RDQSkGFzoW2gvhCe0VKSQYPm8ptpeEkqO0EVFHxpfbWJSLI8GLIQ+NwkQP7aGLtnAaJGh8hAEu5KCSNzOU/NNtVuNA/qSwrkS5DjoVxUg/NX129EXcznUYR/0h91OUdXtTMNtDgM/CBJgAE2ACTIAJMAEm0BgItMjNzX1aVlZWJ7a0bNkS6enp8KKhRE1JhEUaPD090bVr7aNjx8IDatR1/X2SRCW0mWxWbiGsOthDNUWn6rrl5xDitguvX1qPfsUyKCwoSqTv2CrktFpcMSS2tjQ3qVxkMjlsVYXP7QnBzLOjyAmbXu6E6dUjv40CPlnY6jAC5rRP0jxT+ySVN2PgiBxA2jnXQmILqbZBVFIuJ4/EUqpMF9uH0kZiJCuimVX6FQxoN5WUsNkBl/rH411D87tMVaxpnoqhob7WVCXXa34EkpOT4efn16Q7FhcXB3d3U8OCm3T32HgmwASYABNoBATOnDlTZyPABH9G8I2MRJIaQW+foQlTaCW/RinkLNjrOQtVt7OUAh1yCIsa6DtBGh0SaUXni4bzfeU5Hhs0hSjKdHBYuYMkpOvUy8b+97yxWAxWLcK+XuUzgTQqqnxAzo4Rb1CI8mlEu31iZKSKpnilB9Tn+zbh8PPSjiJVWqt2BbT7UDtNXJsJMAEmwASYABNgAkygjgmwk1THQA1GhOq4jSqpk3phfUovWArDwqojkn5451IKXvvtNxQUW6B9d8dKnBA7TFlzCoM+LKCyfSopWx1DnmFZ6vOsef2eYYPcFBNgAkyACTABJsAEmEBjJlCJk5SH5BhapcFpNLycVCtw5d9AzJEbcHp5PNRJjbmDz7NtUhpGVxORSGn4Hb2qKhJbe/SpevGqquVyTIAJMAEmwASYABNgAkygQQgYXt1OY0oxfrt6Bb8W0JgttRQX4MaJGxRlUCfwJxNgAkyACTABJsAEmAATYAJMoPkQqCSS1Anj3/+Lbm9tXBH4matuGp8xASbABJgAE2ACTIAJMAEmwASaCQHDkaT8X3B0714cPX/DZDcHDRpkMp8zmQATYAJMgAkwASbABJgAE2ACTY2AESfpN8SvWoWQgFl4P+IQbjxoat1ie5kAE2ACTIAJMAEmwASYABNgAjUjYNhJshCUTUXE/u/wivlpzPIdhO2HknAnr2aNcC0mwASYABNgAkyACTABJsAEmEBTIWB6TpJVT/jMX4VDXuOx53eBEHYTWvjR/8PQAX3g5OLUVPr4TO00tpms45DpcPSc9kxt4caYABNgAkyACTABJsAEmAATqD4Bo05SHsrDRl1dRuL9Cyfw0tFj+G/IXxFA7Xwee6H6rT3HNTLORou9r5ajpJAhQ1ZIm8Ha6+0/pEB2Vi5KYYY29naQNnOuCtk1nDhyEtdzgCFTXsOoPs29x838gnL3mAATYAJMgAkwASbQyAkYcZIsMXjqQFiKw+7UPbCB29iZcLvwMgJokpKkkzq96X8ePnwYw4YNg42Nai+oeuqS4CipnSX9JvQ3oZWnHUfouPmIFAv6Y3vcUowRnQMZogI8ERyr1rAAO+M/wCjHJug4yJMR4DYLASmZGG5in6XzkeMReGEZtrzSBSjjtefVV54/mQATYAJMgAkwASbABOqHgOE5STYumL8qAK4GfQYb9HRyQjPykZCfn4+jR48iISEBRUVF9UO6Wloz8B05SHbh+5CZmYm9mzpi/rj9yBJ1SDB02SlcovTMzFNY57sN235Ir5b2RlNY2gsf7D2IXhJTFslxn4KWoX98DRP9pmNUPxPelCk1nMcEmAATYAJMgAkwASbABKpIwLCTVMXKFy40ryF3OTk5OHDgAFJTU6tIwHgxITJUlZchDfLUy1gBf/gMdxezPcZNorOlOJ8qp3MJ7B3tVUPszMT87h2sDaiR4fiOMDg4OIivqIsyTZmMxCgEqNLDopPFdHnqATEtICAAISEh9ApAWPRFQJ6KzSGbEZtwAMtVdXbEXlPqUqRhx5oATRthUYlQCDnqOsejESLWCUB0cipity5Xll2+A9eErshlSNx1AjITfunF6K1i1GzpTDc4rImG0IuMZLVe6hvZlpghKCMR2w3D4cN7xHZ2nMtWpvM7E2ACTIAJMAEmwASYABOoBoFaOUnVaKfJFH369CnS0tKwf/9+ZGc3zEN2cckT4mUHK0sVNkWpePCksED8lF87js1hYeSAeGMxwvAHv4qb+yrSLmH+0g3YHn8VmZeSMNROFa7JiIXPnGDMibuEzJS9KAyahWjyWKSOQ/BxfDz+vmYN3hhjh8jIWHTubAMUF0IWuRYBcy/DN+YU9m1ZhKUBZ6EkYwEnnyCkUFQrKWodNgQfVjo/6jrzs+AffwrbV0oRNGsyEqx9cSo+CoHbluJsuqChEGmRt1BkYgSd++jJWEkll20/iKT5w2CbcRw+s4LgtjMGVzNTsHuIDHN8diJNICO2uwELv8nD3rh4THjBTkhlYQJMgAkwASbABJgAE2AC1SLATpIRXMKwu6SkJFy/ft1IifpOtoSRCWOQdumNl172wfQt6+AfG4xvD1eMfEm6d8MiMnH+6o2ITs1FB1ulk3RN1Z8fT3yDLd/FI5zK5D4k50tiSxEqR7TOPY9pgRuwaMtBzBvuCNC8tHwqExH/EQ11s0fPrt3pTGWbxBFuvVrhUnQUEoRVFUhKBYdHrOOLnUnvwouiXv0HulHiOrw7exS14QxnXzpVBsHooBKRdkBbKt+6nS3s7GyR9vMFqrAOY0f1o5iaLYaPn05RtrVIF0JTKlt3frwQHn0cYdsEp2lVQoOzmQATYAJMgAkwASbABJ4BAXaSjEA2MzODm5sb+vbta6RE/SVbmLci5begUA9Dk5hBGFBnZqZym6T2cHX3wKiJs7EgbAHWLrygiuxo2SRxRfCleGyf1hX75k6Gy5bjyqFwEJQGYpCXFzw8fLB37z681IsiRoJkJSB0/EIsWBeF4Ina0Sl/dFAForSDPrLUaLh4j8dtczu4DegLX9GdUqoCDQi0Unt5ZuqQmJBXTKvyVU+U5UvESkVFhaCGKjiQBU/UlvnDyqp6+rk0E2ACTIAJMAEmwASYABPQJlDBScp9XIR/x9zAR1+nip/CubYUyuW4+sUXOL98ufgpnDc3EebxTJ06FU60QEVDiNR1IJbRunanU5Rzf1JPHMM2GnTm4S4sWiBHRoZysBvINfolfRv5PB3QWs9QRXYaUnMkGDP9TQSRI4XVt8VF3fv1HUAlwyHLtyEnyQMe/ewgoQgMZBcRNmIuIheF4w+zvaCg6yoXJxgpFRtybLKuJFDmMrzkNxySojzECkWVvoyyUnXeFRmIjdqDw+cyTNZydB4ExC7G2YtKBqln4olUIFydeUEHk+A4kwkwASbABJgAE2ACTKDKBNS/9Wsq7Eq6jdv5T2HRvg2y8kvwVWIW3htf7ixkRkXB6t5dtJNYo5A+f4ncgz7v/EFTvykfSKVSDB06FNbWQtymIcURr8VEIGT8eDiIZghLgL8JGvxGPtIv2OozjZwmtQRiZ9zwCnslFeVexeTJQepCWLc7nmY5kTj6Im7nOoyb40PzmZSybm8KxuA6NginGwLhLR7Q8YJNSPmghxjFUpZUvVMkR5B+g/xoqNt8+Dishm/gEgT6RmLW37yRst7RaB2hnvZIOw3polwcCV4MeWgUJnqIPRWKiqJdXtJnIg5uWYnJ07xVuf7Ysi8Y/YRIF/nzGn2qXP5gAkyACTABJsAEmAATYALVJdAiNzf3aVlZmabeh3vTYS5pDXNzc5SUlEKRlwerlO2a/AWWLdGlXRtYUn5xaSlyaflsp+WrxfyWLVsiPT0dXjSUqymJsEiDp6cnunbtWmuzj4UH1EiH/j5JohLaTDYrtxBWHfQ2k1XIkZ2nXMTBxo4iQUZbVEAmU8CC5htJ9QuRDpmi2HCeUX0GMkQ9gK0wAYjslRXRTKEKjRmoZyApYbMDLvWPx7tjdJ0kA0WpLaX9EltbE/03WJMTmUCTIZCcnAw/P78mY68hQ+Pi4uDu7m4oi9OYABNgAkyACdQJgTNnztTZCDDBnxF8owqRJLuOrZBJM/VbkIP0tOwpetq2xQeffKLpwP2tn8P87h2aoV8EM8pvQw/pTV2mTJnSOLsgLKag79wIlkqksKNX5UIOi2rBhgplqb6xrAplTSVo6yF7a6xTcQ33bcLh51UFB0mwR7tdU/ZxHhNgAkyACTABJsAEmAATqCaBCk7SGx5d8OXFB8iQF6FMfhtvzBiio7L9tFeR+ukavGBlgZY9HNBh+myd/Of9xGBE6HmHUpX+S/ph1rx+VSnJZZgAE2ACTIAJMAEmwASYQL0SqOAkdZRY4oMRyujQpk3f494tG3QeIEz2V0pa9l0kdukFj6Dy+S7qPP5kAkyACTABJsAEmAATYAJMgAk0dQIVVrfT7tCoUaOQkJCgnSSeC+ksTIAJMAEmwASYABNgAkyACTCB5kjApJM0gCJId+/eRU5Ojtj3Bw8eiOdCOgsTYAJMgAkwASbABJgAE2ACTKA5Eqgw3E67k8KGqiO8BuPCfzfC+mk+8ltYi+dCOgsTYAJMgAkwASbABJgAE2ACTKA5EjDpJAkd7vzkBp5aKmBpYYFWxQq0ePJzc+TAfWICTIAJMAEmwASYABNgAkyACYgEKnWSyh5mQtLanPZNKoMFlX6cd4vRMQEmwASYABNgAkyACTABJsAEmi2BSp2ktrY9UPbbDZQ9bSHum9TWtlezhVEXHTO2mazjkOlw9JxWF02wDibABJgAE2ACTIAJMAEmwATqkYDJhRuEdnv5vAnLDg4oKSkUP3u9FFCP5jRf1Rlno5GRsq96HVTIkJGRBZmietXUpRWyaziwYwvCwrYgIU2uTq7epyIDsdGHUdPq1WuMSzMBJsAEmAATYAJMgAkwgYYnUGkkqVW7zujtt7ThLa1HCw4fPoxhw4bBxsamHlsBREeJnCVDor8JrTztOELHzUekWNgf2+OWYkwfqU5V2cVoeE4LQti+FMxyt9XJE07OR45H4IVl2PJKF6CsuEJ+lRIUOQgIWoiolMwqFYc8GQFusxBA5YfbyrDDwRMlUUl400u591bVlHApJsAEmAATYAJMgAkwASbQcAQqjSQ1nGnPruX8/HwcPXpU3AOqqKjo2TVstKUMfEcOkl34PmRmZmLvpo6YP24/srTLy84hghwkQUpLS7RzVMdy3L8AhP7xNUz0m45R/So6UQYqVUyyMIM//auySHvhg70H0Usi1JBg6L69GNGrfp3PKtvGBZkAE2ACTIAJMAEmwASYQBUIsJOkBUnYD+rAgQNITU3VSq3ZoRAZqsrLkHZ56mWsIMfEZ7i7mO0xbhKdLcX5VPWQORmi187Er6FbEEr+iyG37mL0VgTHAktnusFhTTRk8osICwjDOZmyRXlqNEKEdOFUnorNIZsRm3AAyx0c4ECvHbHXlAV13rMRHRaA5TsSIYwAzEguL+/gsEapWy5D4q4TkIlGKXDzWDSuZivHC2YkRiFApT8sOllHM58wASbABJgAE2ACTIAJMIHGQoCdJL0r8fTpU6SlpWH//v3Izs7Wy302p8UlT6ghO1hZqtpTlIoHTwoLxM+LUZsRJF+HpfNGoZ3oN1UcNek+ejJWUull2w8iaf4w2KIU2bHZ9K6U4sIniAwX2iEpLoQsci0C5l6Gb8wp7NuyCEsDzqK899a0BLwcsZu9EXRlPN6eNxySjFj4zApE+01RSLp0Cafi58BejB4VIi3yFopUo/vyrmzDQyHSJZSfE4w5cZeQmbIXhUGzEH1N7fQpzeB3JsAEmAATYAJMgAkwASbQGAhUfLpuDFY1AhuEYXdJSUno378/+vbt2wAWWcLQxck+F4VpwduwbncMHmekI5eiRfJXhMUdbGErOikqU6Ud0NYXKGhnCzs7Gmon1xmsB2jvB2wB5FO1iPiPMMqRij7pLipRt2+NbTi29Q42XFmJuIjZsKfca9d/pPdFmDzdi9w5EqlqvpShsJZY/rpQCj+e+AYZeIxwOl75UHD6dOdZCWVYmAATYAJMgAkwASbABJhAQxJQPwc3pA2Nsm0zMzO4urrCycnpmdtnYd6K2rwFheBwCI6PxAzW9GFmZo7cO7nw9ffH2W/XIYYCMeQjAYEz4USLN0zXW7xBGTXSna9kRg6RKKWCcnWoSkjxRweVk6UKAonFlG++sLQkxyk2A3dombs+mgUkLFH1UKTQXiAGeXmhXWkp9u59GR3sbbTa4EMmwASYABNgAkyACTABJtA4CLCTZOA6CHNyBg8ejJYtq+4CGFBT4ySp60AsQxBOp/wPPHz7IfXEMYrlrEQ8OUGO7gsR4adWLUdUgBsK/niJHKRKIjKi5xOJ278E4wXa92rzzKXkF4WpFYmf6qF4Ool0kk/RnpFvfojBNiswZ1wIrbS3EWP6DqCcAJw4PBLdJ7pDkZUBdHCkYX2GpZ+qvCx/DsYMp3AVLW+unLdkuDynMgEmwASYABNgAkyACTCBhiLQMF5AQ/W2knalNGRs4sSJ8PT0bDAHSWmiI16LicCFgPHiIgqTA7PJMZkBci30RBnzsTRTfupl6oyog609JizxRdA0b7j5xMJ53SKd4kKkSkd8y8+EvCKFBMPnLcX2lVJaaW8jkq18EbdzHVYvnAYXcio9R2zFLdV+Ttq6NKP6HJXlF8/xEfvk4OKJ4zdruAFUuWl8xASYABNgAkyACTABJsAE6pxAi9zc3KdlZWV1oliIvKSnp8OLhlQ1JREWaRAco65du9ba7GPhATXSob9PkqiEoi1ZuYWw6mCvO9+oRi0oK8llMhq+Zwup9vylWuiDQk7zoYpJpa04MlCtSkH+j0SSha0OI2BO+yTNU++TpCpvUZc2qBvlTybQzAgkJyfDz08TOm6SvYuLi4O7u3KlzibZATaaCTABJsAEGj2BM2fO1NkUGcGfEXwjHm5Hl33KlCmN8+KTI6FcMa7uzJOSM1OnIpEacOCysf89byyOFVpahH297MqbNFi+PJuPmAATYAJMgAkwASbABJhAQxNgJ6mOr4DBiFAdt9H41dlhyppTGPRhAdp372PAiWr8PWALmQATYAJMgAkwASbABJ5fAuwkPb/Xvl57LqE5UH3qOGhVrwazcibABJgAE2ACTIAJMAEmoCLACzfwrcAEmAATYAJMgAkwASbABJgAE9AiwE6SFgw+ZAJMgAkwASbABJgAE2ACTIAJsJPE9wATYAJMgAkwASbABJgAE2ACTECLADtJWjD4kAkwASbABJgAE2ACTIAJMAEmwE4S3wNMgAkwASbABJgAE2ACTIAJMAEtAry6nRaMujg0tpms45DpcPScVhdNsA4mwASYABNgAkyACTABJsAE6pEAR5LqEa626oyz0chI2aedVPmxQoaMjCzIFJUXbUwlFFnnEH0gGfLGZBTbwgSYABNgAkyACTABJsAEqkiAI0kE6vDhwxg2bBhsbGyqiK1mxURHiZwlQ6K/Ca087ThCx81HpFjYH9vjlmJMH6l4djFqDaYFh2vU+IZGIWKel+a8oQ8Usp8QFAgkZXpBaXFDW8TtMwEmwASYABNgAkyACTCBqhPgSBKxys/Px9GjR5GQkICioqKq06u3khn4jhwku/B9yMzMxN5NHTF/3H5kqdsr/RVYtAVxp+IRFxeHZWOd1Tl196lIxXIHB0RdrH48SGLVmuywBHvgdXc5WBMTYAJMgAkwASbABJjAsyPAz7FarHNycnDgwAE4OzvD1dVVK6f6h/qRIWMaDM1hkqdexgr4Y+9wd7Gax7hJdDYN51OnwN5VilJK9e3cGX3sHY2pBeSp2Bx6An397HFkfhBFpHyxKeoDWF+JRMCKbcCCUMR8MA/9KNSTkRiF1XOCEUvaFm2KQvB0Zxz+fDKoFDDNDYcWhWNNsB8UydH41yxBF4n/Euz+01wMd1TGitJIxyeiDl8s8CdN/mFCqf/f3vnARVll///DXxWyiUQiCRCRxEQRVDRNsBJWVNL2a2i2rPQldWkl+VpZWD/a2Fr/tb406svmLrv4c9UkdlHRcMFK/BfiH6QwVDRFkhBRnJJB/sn33GfmGYdhBoZ/8qdzfQ3Pfe5z77nnvp8Z5545595HSk3ldx+vl6wjH5kAE2ACTIAJMAEmwASYgEyg1Z4kpVIlt+2Vx4aGBpw7dw67d+9GSUlJl4yxtu429TsIfaw13VcKswi4XV0lHS0sbJD51rNwcYnAxp1HUCaV6v2prUZZ8hpELChGaNZhbHrXDlFzpuOgTSAOZ6UgMuktHCuk8V3MRAAZN/P25eHy8VRUR83BzjPA+JmbyKwC3t70Of74m4lwuPgVAshA8t6SgYLLx/HpuDLMC9iCc6Lb4q8wlWRM+XQfCgr+gMkjQu8qY1B+671TdwVyjgkwASbABJgAE2ACTIAJdC6BFoykUmSlpqNQKZQoQuoqH0yZMgmx2w5BKupc3bpUugi7y87OxtmzZ7tID+PhaqOD30BeXh6yds3Duah5SNxDVo1+sqIwQjJztmQvgZ+bM0aM8qYaa7Fk7mQ4u3nAQ1hAFsAZzfi+3f8ZNu7IgljpdOOnKtgNvB9OlFfc74BBDnY4dz5Xav/0ZE/YwgETg2aRd2sNCs9U4OL509K1X018FLa2zhg7bgKQrDbsjMmnBpyYABNgAkyACTABJsAEmEC3JNC8kVRegn/HfY06BZlIWZ8jbns44pPiMWDNZzhb2i3H02FKWVhYwNvbG8OGDeswmaYKsrLsS1UvoVJeHmVrARsqsbDQREfa2sLOzg5uowPxm7WhSPgq37A3ibZN6CMHVFrIbimhRa0UsidygOgkEj5+fhgzJgCpqbswZTDd8FphZN1NNTXVFOOHJuuMqm7Xolr1M10ji0uTdHsyKl+uzEcmwASYABNgAkyACTABJtDNCDRvJFlZ42FSuCz/JPbRRgHhq6fjCW9fDAlRoKpadwrdzUbVTnVcaMOCkJAQuLu7t1NS25rbeY3C27Ty5+vjag9R/v4vkYR3MWa0gySwoqJCLbjyIr7NoBVCIwaRb6dtyXPYSGqYgDKVgoykMRjjOQi25IUilxAF/JGhVK3ef9zNwwfIfB3HTlGIHqX8o1mkYSS8PBzwkJMHXVtG14pRWXYGu5OX0ZoktdFkVL4khf8wASbABJgAE2ACTIAJMIHuR0D2MxjWTDEET8XYYHFYBOC/HClBNBkuz0FsmhKJrwjfRu9Kwjszfvx42Nh09djc8FxGIl4LCoKLhFhsAf4i1Ns0lOGL98diGdlGUgp/F7tmTNScND40GUXg3etav49bIPZtWUtrigLwuuby2tTjmDvGGRPeD8c8Kn8nPB7H42bh843vYvozFEonpVBs3LUMnrZ0MnoiNr4dikXPTJKuREaH3nVDGZUvGnJiAkyACTABJsAEmAATYALdj4DZjRs3Gu7cudOsZsrycsDeHhSERUmJ0tJaODrakt6L1wAAKR1JREFUN2ljbm6OwsJC+FHoVk9KYpOGsWPH0pgc2622od3qTBFqcDc8ephs8Y1q9HnQGQ66NkVFGUpuUfibRR8MGtRWH5KeVpUV9NDaWljZOsBOpy/Ja2Vtd7dMU8/WwYHWJjVOFWUlqLVSwEFXgFzFiHz5Mh+ZABNoSiAnJwczZsxoeqEHlYjHFIwerd6pswepzaoyASbABJhADyJw9OjRDosAE/aMsI2a9yQJOKpSXDidi7Pnb8LZn8LtnMpw7KvzeGxWMNybuCp6EE0dVWfOnKlz1o2yZLA461siQj072kxBvfN2xylra9fYENNIFt61RslIPVHHzkEE6BlJzbQz0oKLmQATYAJMgAkwASbABJhAlxBowUgqR8Zfg/FGUghCkAYLH4rXsumPW2u+xrUne4+R1JHkDXqEOrIDlsUEmAATYAJMgAkwASbABJhApxJo3kgqv4w9ZCBtzY2DZaoNjkuq9ENf/zRcq3gFMBBy16nasnAmwASYABNgAkyACTABJsAEmEAnE2h+dzubfhhCHqRL+UWouE2a1ClxIfs/iDsQjqGuTdckdbKuLJ4JMAEmwASYABNgAkyACTABJtDpBJr3JNkMx5zEOMwMm61RZLt0jP5gK4b3kvVInU6YO2ACTIAJMAEmwASYABNgAkygRxFo3kiioTj5hiA3cxTyL1+nx45aQDHIA+6ObCH1qLvMyjIBJsAEmAATYAJMgAkwASZgMoHmw+1ou++02A3Is3KFl68vfH29yUCqRfqqVcguNbkPrsgEmAATYAJMgAkwASbABJgAE+gxBIx7klRXcPKbM/hB+T2qjh9CVR9akmRJ1St/xIrtPyIhrMeMkRVlAkyACTABJsAEmAATYAJMgAmYTMC4kVRbjoORryFJiDpwoJHARbEJGOrUqIhPNASMPUzWbdwsuI19hjkxASbABJgAE2ACTIAJMAEm0M0JGDeSFN5Ymrsf49OPYkBAEDx4GVK7buXFYzul9q0ylCrLcLGsGrYOzgYe9FqJkuIy1KMPHnQeBEPPnDWocOVFZO47C1f/aXhU7zmxBuv3qsJKHEnZghKXYMzxUOIfW3Lx+Ath8PzFcehVN5UHwwSYABNgAkyACTCBDidgxEgqxcnsEgwa5YkBDz2A69/koEK7eukO7tyxhvMoXzj1EsNp7969ePzxx6FQKDocsK5AYSjJxpJuucjrP4S24txXeH/qAiRLFUOxad9beFK2aspOYWPMM3gvUyMlcC2OJ86Fg+a02UPlNURELULK8cvNVuuYi2XY7DIWdSnZeNHjB0R4z0EE9TvRJEU7RoPGUmzhPcoD86ZOwjK6EBm/S20gVeR0A90aa8pnTIAJMAEmwASYABNgAl1HwLCRpLyKHZE7ELr/FZRkLMYb6p2/dbSci8TM3mMkqVQqfPHFFxg4cCDGjx8Pa2trnbF2RfYidpCBNChhFy7PGI0TO1fi2am7cfhyGJxRhpQ1ZCCNTyTDKJAMowpcvHjLdE+SlQVC6d+9SbYYvysVGETGp50l/if1czxossurczS0ffRJHM/6HJeU1hgx+lF1J3aDu4VunTNilsoEmAATYAJMgAkwASbQWgJa/1CjhhRqF5cbBy+FPYLezEVurv7rTfj2wmfJXrt2DXv27EF+fn4jHG05EZ4hU16GZFfkf4N3yJAJmDhaujxmajCdvYWT+RWoPHcSy5JDkTI7ELYlJSipsIabm7MBI6kMX21eBxcXF+mVcqrMUFe4mLMTr2nquLz2EY5crKB6xdgeG4HtOcXaNidSVmJlygnauOMcNq+M0Mpdl3IElaJWRT4+em0d9u7dLl3bfKKECivx/Zc7UVBCNSrKcGTbfpTVaEU2zUgyPkLmV7JOEdiZk4/Mf8Sq+4vdjDNCPbnewT2I1ei+OfOMVp7hMYlmexBB9dd8nITd//4nVr8WgXU7TzXR7WLOXbkuLitxQoPu4pEUqb1gum5njrY/zjABJsAEmAATYAJMgAn0LgKGjSR5jKoLyEjNwAWVXND7jw0NDTh37hx2796NEjJCuiLV1t2mbgehj+zQqqyX1LhdXYVK1S3KJ2POWBe8MmECJngPhzBUhO2gmyrP5WHBW+uxKasAl/OyMX6QARfOxa8QMCcK3lsyUHD5OD4dV4Z5AVtwjvxVQ0fY4fXkk2q5lfnIWJYAj6HO1IUV3AOicPzyZWSnrMX6ZXvVhkttNcqS12PRZ0qk7svCr4YMktRRnk7CT/V1lK/GueRLqKnV1VIvL8lYg4gFxQjNOoxN79ohas50HLQJxOGsFEQmvYVjhXRP5HovfIPAjMPYtTEab0Ucg3S3jI6JnFlu4/CHrCwsW74cvx7/AJKSM8l7SF4uXd0uZhKTSDwQn4LsvDzqdx6cBTpRPm8Z5u3Lw+XjqaiOmoOdksWmNwY+ZQJMgAkwASbABJgAE+jxBJo3kujxsSfj3sAP13r8OFs9gJqaGmRnZ+Ps2bOtbtsxDaxhOBZSLX3tp4eRSIbK8V0JZKgkkremca+2Tg8jmooWvPchdubfwIMOTY2kc+dzqcZaPD3ZkzxRDpgYNIs8VmtQSJP/MRNnkC0WhVMkt+TkESTgfUwcTYuJbN3gPbgv8nam4OBZ9RujXhg+VoCwpbf8YRHGPOoGh7ZshiDJCMSW7CXwI+/YiFHekn5L5k6Gs5sHPALp1OJuX4lZMZjs6QxXR7HVoppXc2OiHTBIjhv63TiJZyLXI3rj5wib6EZt76YzZ7+lk2hMn+WHQXZ2Un2B7ozmffDt/s+wcUcW8QBu/FR1tyHnmAATYAJMgAkwASbABHoNgeaNJJvheGIJTRlnb0BWdg5ycsQrm4yHk7jSy71LFhYW8Pb2xrBhw+75zbay7Et9XkKlHJpmawEbKrGwkM2mcAzzFl4dwMF1IAKRieIf9a0kLyzLy8KmZxyx64XpGL7xK3VYnNRK/aemphrUuIkxVnWbrB7n0YgPB746komDme8hOnE8+baAsvydGD4hCD9YDoL3yGHUXPeNEIo+9Dyt9iU79JGHaWGtI6qWdvLTTaHa9U26zqlmxySaFx/E+0GLEL42BcumeekK1Mlbo+kHQ9yMSPj4+WHMmACkpu7ClMHCC8WJCTABJsAEmAATYAJMoLcRaDoXbDTCcvx8yx/wT0J05GIsXixekYiMzMBV3blxozY9/0SsOQkJCYG7u3uXDMbOaxTeppC6r4+r19nk7/8SSXgXY8iT4zDaC8vp7MuD6nVTJUU/kokUiqGa8DZZ4cqSc8i/ZosnZ72IqHXhwHs/QClf1BzdPHyAzNdxTLiLKOUfzaJeI+Hl4UBndvCd9j6SlkXg9aRIPDX2UalO8emDdHwbU2ZMhG2NkvqmJKLpWpPENuQp27H3xMXWtGpSt7HRpL7c7JhoV8B1k15AcnQCfjfXD5UVFaiQFlTdFe05bCSdrMH+vacko7Ks+CLKqI66PAFlKgUZSWMwxpO2Xbe6245zTIAJMAEmwASYABNgAr2HgPybvZER2SN46QYEG7na24rtKLxK7G5nYyP8Nl2Z3PBcRiJeCwqCi6SG2AL8RagDwzwR+vlGxEyfrrlGAXOfZmGMXnhbzY0CTJ8epR2EqKNeJQTJKyUu2D46DZ9vfBfTn5mgqReKjbuWwVMTmefs7UMGGfm03n8aozXyPX1mkEm2AAEu7yEwcjkiA2l91P+bgOMfuGnlaoRJBxEdJyct1Zob+M+y11HxfgqmjWkc7qatIzciT5ecDMqSL2rqNTemsjNnsV7UXx+JCVKG8uHxOP4/j9zV3S0Q+7asxdQXaAdBSXY4bZceBwe5fF4AXpfKiXvqccwdo4GlKeMDE2ACTIAJMAEmwASYQM8nYHbjxo2GO3fuNDsS5ZVCnL14FVUUmDXg4cHwcnc0WN/c3ByFhYXwo5CknpTEJg1jx46Fo6PhcbVmLF8mRLSmurau/nOSpAv0MNniG9Xo86CBh8nK1+6ja3oGklYo+ULKyA1iRWtx7Jqby1dWkLeklpbsOBjYJe+uNG1Oqk+hfqJj0qOshlY06XVQSd4XW9ti/MNlEizpOUlhfrKJppZy8CMX5I3IwpInGxtJ2j7am2ntmPT7M9ZeU94iU315fM4E2kBAhDjPmDGjDS27T5N9+/Zh9OjR3Uch1oQJMAEmwAR6HYGjR492WASYsGeEbdSCJwkozNqG0Og1jWDOjUvEmyG+jcp68snMmTO7p/piowFjxk1z17SjIePFwIYN2styxtYOplSTq0O3PunRtG0Jdr8yAa9LsXjR2DW4sYGEyjO4qkjADL9OMpCEoro6ahVvRcZYe2PlrRDNVZkAE2ACTIAJMAEmwAS6N4EWjKQiHCcDKeaTZMz085BCkkoLsrBy/g6cfNy3Vz4rqb23y6BHqL1Ce1z7QZi58jB83qjCA06PNjWibD0xJ8yzx42KFWYCTIAJMAEmwASYABP4ZRBofuOG8uvIRgge0xhIAonj8NGYhDRUKHvxzg2/jHvfqaO0dXDGo48aMJA6tVcWzgSYABNgAkyACTABJsAE2k+geSPJXoFRZBCdyMpHuYqMIpUSF/KOYiUZTnaKJkvs268NS2ACTIAJMAEmwASYABNgAkyACXQxgRbC7dwxLTEOMyPC1LuCaZRd9KckDrXr4hvH3TMBJsAEmAATYAJMgAkwASbQOQRaMJIAJ98Q5GaOQv7l66iBBfo/NBgeTvwQzc65HSyVCTABJsAEmAATYAJMgAkwga4m0IKRVIr0hO24PXIKHh/pC0e2jbr6fnH/TIAJMAEmwASYABNgAkyACXQygebXJOF+OD/mgtyocARP8cGGTWnIK7zSySqxeCbABJgAE2ACTIAJMAEmwASYQNcRaMGTZAOvgGfhlfssFhfm4Zvj6QgPjQVCorH11QUYzp6lJnfO2MNk3cbNgtvYZ5rU5wImwASYABNgAkyACTABJsAEuhcBM3pCbUP3Uom1YQJMgAkwASbABJgAE2ACTIAJdB0Bsxs3brCR1HX8uWcmwASYABNgAkyACTABJsAEuhkByzt37nQzlVgdJsAEmAATYAJMgAkwASbABJhA1xFoYeOGrlOMe2YCTIAJMAEmwASYABNgAkyACXQFATaSuoI698kEmAATYAJMgAkwASbABJhAtyXQwu523VZvVowJMAEmwASYABNgAkyACfQKAjdv3kReXh4uXbqE69ev4/bt2+jbty8GDhyIoUOHwtvbGzY2Nr1irD1lEGbl5eVdunHDyZMnsXfvXly7dk16I0ybNg2+vr49hV+313PbgbPYefQC5JtsbmaGkLFumD/Fs9vrzgoyASbABJgAE2ACTKA3E2hoaMDBgwdx+PBhPPHEExg8eDAGDBggGUjCUBLz4/Pnz+PUqVMQc+QRI0b0ZhzdamxdaiTl5ubiyJEjePXVV2Fra4vKykr8+c9/hlKpxOjRoyVjydHR0URgKpReuYZ69IGdkyM6wtYuL72CymrA9gEn2LfxmVAdIcNEAAarhcXvg6WVFf7xuwC89LeDENZSTXU1/v+SqQbrd1ihqghZWefxyMSn4d5GdqbqoqT7dLMe6NPnPtxPN6oj7r2pfUv17uFYjem1bt06Y5ealC9btqxJWY8r6AbMexwzVpgJMAEmwAS6HYGMjAzU19fD399fmgsbU/Dy5cvYvHkzgoOD2ZlgDFIHl3dpuF16ejri4uKwcOFC7bA2bdqE7777Drt370Z2djacnZ0lq9rPzw8KhZHZdnk+Nv0xDOsPaMT4xyJzw7Ow10rVySjzsWpKGLbrFGmz1C6d2jmWFyD5b/OxUqdS9OokPBdErk5RWZmHDVPCkaRtSM/XDV+O6dMDMcFD02tLMnTadmZ2qrcLYAZ8nPkdzC0tYGlpiVr6MLaY9MfoH47V/z0HQd5OLTaVKqiuI3rFa0jMzDWtfltqEePULfMRl6TbeC6SMt+Et8Gbr1uvA/P3YqwdqG4TUaZ8Jpo0ameB8iSWTonAC/T+8GvLverpzNuJj5szASbABJhAzycgQuvKysrw/PPPw8LCotkBubi44KWXXsLf//53aW4swvCaJP25G1UIiU1C3LPeTap2SgH1v4rmxyM2ZyLEqy1f7p2iVZuFdqmRJFyIwoO0devWRgMQxlBxcbEUeynePOIlvE7z58/HI4880qguUI60D8lA8l1PhlEAGUZKFBXdMu5NUAzBS2SchcMSlpXn8eGcbQhKiYGnLVCHfnBEEZL/SAaSIgbJmTPhYW+DCzlpmLM4HHV9UhAR4C71X0V/l8cnY7pnf5RXlODEvyIQGZqNhB0rMcH1mkky9AbSYacf78nF3txLsCAPUj/bfvTBU+/PYWVthQbzOzA3N4P5rY/JpXQcDTa/RkPfEIN9S2NMSEagcx2O7ZqPN8IfxojcUBg0k1QFWDVpPn0w9tMHg4xZKwuE0D8LK4OiO6CwCNsC52ONfzSSds+Gt5MCyvIruPT9VTxwr11JmrF2wKDaJUJ8PlpK+p81qX6Ln4mWpLbhusIFv0vaCru23qtuwrwNI+cmTIAJMAEmwAQkAjk5ORgzZkyLBpKM66GHHsLUqVOlKKxZs2bJxY2OuvPTqjrAst/9ja63+0R/vqcnUEXndfXUcS9IXbq7nbCCb926JRk/YoInXiqVCu+88w6saIJfW1urfVVTiNiBA7Kr6C551YU8xKaFIHFGAGxKS1GqtIKrq5PGSCIDKtYHqXnldxvQFXsK4XN0tIe9fT8qp/AshaOmTIHy/G+w8oA/EhaHSgaSaOjuF4Kk2BB8FJ1DJpQ6iTdB3/52UNg7wt3DF6FvJmMJDuDzk4Umy9CI6vDDvvwS0u0+9LW1gbn4ZcLcAmYWlqinULsGei6WjbUlHetwp0GBhtvfGO1fGuN9drB3Go5RI6OpXh7+/e5SbDt0QdumICMBsdv24YtN8yXvXGzYFCxNyCDTVZ3KCzKwyscHPvRKzirUtis6mY5YTblPbCJyipTqa8oCJNJ5VrbhdrIAcZ/W0En8sgWSgSTKFfZO8Pbzhatm4t22PspxKDlB0lfonJYvjwQwKk9WSnMsIqN6qWZsCekn9a527un+/fth7GW85+Y/E6KdwTFJ9yoBX3yRqr6/eaXkZdXcv0Py/V2K9JMFyNq2Ss10VTIKxa1WXkPOv46gvFbkm7nnqgtI3rBUez8S0nIg3pecmAATYAJMgAn0dAI//PADzVldWzUMT09PaXMHY43Ed+R9A5yk+alYsmKvqEDqqqVIPXlF2yQvbQM2pOVJ58a/3w3NxZRG53ta4UYyzc2hLmTL86alWLUqFrE680gj4u5JcZcaSSKucu3atdi4caPkTRLH1atXw9/LAcMfsYWLfV885myLORMd8E6oq7R4TZ+Kqkq8HdIQEeiDGJIXPGUSxERKPeW2wdDp8VpjR7+tofPSi6cB/6kYqucuGewxjqoX4PrdOTOd61rKHhhLhlTa/u9xulUyDGnRzjLyHFmS10iE15mZmcNR0RfO9JP94AdtMMfXBcunu5H3KBiwCaUlSgOMdiZsjdsqJcov5GBv1HpgURD8fBVYE3UCNB2mVIj9b2yE1zAvjA2Khz+VRMdvRcxz46VQxwF0X16LLMCU5N3Y/MEirIzOVbcrOoTZESvgRV6qw7mZ+MTnGhbPToFketXW4FraR4g21E7qU/1HfZ9i4Wns/5Y29qG6cBpRKzcifsdh5O5Ph6+jbHE1o7OOXijKwuzFsfh1yn7kZiahZkUE0iWrQLdS5+ZnzJjRsR0YG5N0rzbitV0/ISllB54aTOsH5fsXVYLZO3YjfrkCKyLm4+u+U7B7RyLCt69E7gXx7qnBhbQi1AgjSW5j8J5bYvDjC5FJnuT0xFhsjP1SbWR17AhZGhNgAkyACTCBe05AOAZau2Nd//798fPPPxvVVcxa9mVsw7Zt27BpUxp9ZzphyDAF4nZ8o54bkydof2wShrjRRLfZ73dDczGFwfmeUWXkC83NyUiHOZGxmJSQQptXxOCJITSrP1Mpt+zSY5eG24lf6u+QZyM2NlYygKytrTF/8kMY6zGwKZSGWmn3u6YX1CWxn+zGs35O5MXJQGDYFowZ5wc/muAOn/CEsSZGytv5O/XDfWHRxb91C6b1dfUU8WaGd4LrMMRqC42VFiaZWcPMdjL+tvU7/OeLb7DoxekICnzSCAdQ8CGwZvEcyWOzKOYD7PhVAFxv9aHSSHxzIRSW149jI6Kxw9cRCuVVPExX7u8/EI5ilwuyUq/T+fodSyn8kE6r1RtwiDfchUvf0t9Y+E/wkDx+fk8FIyQuHBcK58DdARI9Q+2okU4S98n427etfdg87IBFJDlq3V/xp+eDEDBBrXdL8mTFCmkHGpG+O7QDl2gkSZRf/rNwfhOTe5T27NkDYSiJY0cko2PS3KuE5cKbp+mJ7ruKzOWE9AgyMCkY9qYXXfDBS89OkEJhh5AlXUXOzUaJQjLF3TR4z21c4eVSiGPpabjx8w2pWb0wrKgNJybABJgAE2ACPZmAMJBaayhVVVWhXz8xQzOehrgMhvvDtqips0Z/+r708AsC4qLw7cvBGHoph+YmMUinNUOFXxiZszQzF1PY92883zOuhvZKc3OoO5e/o3piTuguzQlHjiSnxEpdJ4RWzD3PGJ9l3iNVRCymeIn0w4EP4fqgORrqqvDyJ2fxv4uHaY/i+mQnY5blXHh4qWdp9s72NEU7gCtX6ddqcjO2Njm6+AAHjuFyeQiF491tXVL8PZ24QiFMdDFJk5IuviKcikujyX4oPF1utyxDFtEJx4b6O6irqcPowQ/ikeoY1FTRRg3mFHpnaUe6H8KLz0/H9RvV+NumvbB78GH4TRxmUAsxtY9JTEeomO3KSTEcH4QDuyic6uaPaxC+eitRoURMxES3cQrBA7TWSyQtMsrXVNeQt66piVNdLdcy3E4SpPljL92nfTh/he6Tk+4Vdb7NfdgMR+T+HRhJuy5+FjkfK6LjcXjBEyboLOtAY6MVbyPpPd2fNshISpqMB5w6OB5Y7srIsSMNJHUXxsZ0lS6HwFrYzY2SAhTRqU6NFqXVNvK9NmpCcgy9V8oL0hE4fwWWr/4EYx+7n942csBr49Z8xgSYABNgAkygpxEQ6+yLioowfPhwk1X//vvvMWjQIKP1xVxshMdY+In14XKyGYk/zQUOHcvCtdPrsWh9Cq3BB36mqA7Dcxb197uh72XD8z25I/koTwLU583Nyaz7WEuVtC260XqmLg23k1HKx764jYbaKun18X+7NDqK8n5mZHzoJXsvT1oLtB0Hvy6QrpQWXyUTKQRDROgPTduLCgpQVN50+q4nRntq7z2KfCMUvrclDfIymSt5GZi/IgmLPvCHuzCSKInD7Sol/QKgRGlRPtI2zMZ6zMV/Pe4FU2VIgjrhT4jvYNypq0NfCrurU9WgvrYvrUF6gNYgPUjhdfa0DqkY0b+fh0doq/T18ZulD6ghNQQ1Wh+vlxTwnhKLA+tX0O5/czHZV/PBpl9DhCfpdnVjQ5bMsybJ1Z28CwficDJfHbRXcPwIEQ+H55C7VqmhdrqCHD28pDVgkWs2Ia9IHQOpUpYi79AhXCBvRlv7UJVeQEG5LZ4Ifh4L4+h/lPUl+Ik6NkWe0M9j6GP0NwnXVP2lB795ezjC9h57PXQ9SMJgam/43b0ak6F7fuXM18QzGhOD/GBT8xN9til1jx+YhCacmAATYAJMgAm0mcC4ceMgnhcqtgA3NZ04cQKTJk0yWl3MT2/dKoeKHqdDz0JFuVLM5hQY9VQMtsdGI257OCaPdpfat/T9blArI/M9WSHt/Fjbv7LZOdTAh5ypaRx2pmcjLycDfw6Lo99ftSaTLLZLjt1DC83Q7f2X46eDf0D/PhQappeU5NawD3hHr1ScemDW1g/wR9r0gXxAUor9ZAe8JQNahaNUXk/eEFfapc605I4F6Zth/b9hmE3GgJykLcCf9pBP1aFokepQNFE4d0kctqaHYLg0zzdNhlZYB2cW/mokxEukiqPkQTIj46hhAKzvexzmfRxgZkm/9N8/CpEvRyEmJgZ/+ctfsHLlyiZaCGKWtOGDfrL39sVyKlwTPQW+sl1j44QxMXOxePFsrJn7J2RGDpIMyUZtyXskko3709j6wXLMDwvGG1JJCD7Y/DI8RIdk4DS5U5p2UlX5j40Hnt+dBJvN4QifTeul5ES73W0d+USb+6itOEcbiKyQpUG8lyQ/mqk6uwYgJSGWdkOcTR95dYpNysSz3k1Gpe2jMzO6BlOb+zE2psEG7hV10mSkOvdPvJtkf6FuPd28pKemjceoIPrJIwqzfdbDP3wJwv3pB4yV45AZ59K0H6kh/2ECTIAJMAEm0DMIuLm5obCwEOJZSS09J0mM6OrVqxAbmYntwI2lfnRhjc78lEKc6DszBE5eI+nHZVqGFDMZWidTa77f5e9y/fnem8HSOnRZH2P9G533eQQhOaEa/9oWiXDFEtqbgFwVe+q6xe+hXfowWRmo7vH77M9wsLQGCxzEuhV12lQ2EpMdrTFkwnNyUdOjqhxXKqrR5762P/hVX2g57ZYnfrS27Cd2B9G/atp5R8gwrSfDtW7kzIe59QDJOLId/BvU/5wHWJA36b5xWLFiBX788UfJQGrV7irltA9+YDi8t+5H8PDGYMSDgGGlUIclGlbpbqnYFEJVCxuKa2wySb5bq8WceGBvNf3cYUEPk5XWQ+m2aFMfKvr1RQUrG/um4zBVnqaeQRm6+nVQXjxM1tQtwNv8MNl7PCYtGqlf+pFEfAjpc15eS7vxSXGv2hqcYQJMgAkwASbQIwk0NDTg4MGDtGnBYUyePFna7W7AgAHShg7CIBKeI7Hbs6+vL+ooSkg8yuPll1+mjbmaOhTaDKAN3++tmu/Jimn60Z/3lZcr1d/xVC8vNRbhuY+TYdfY+JJF3MtjtzOSPs27ik+/EbGQjdO8UQ9hnvdDjQvpTGz+YCyJZyv90tPtK9tRfbNQMpIs+tjDot9AWN7vhbXrPpE+eMuXL4dw97YmFaTFYj5trZ6eSw/ebU1DrttpBISRZGpqs5FkagdcjwkwASbABJgAE2gVgZs3b+LUqVPSEojr169LGzqIB8yOHz9eeiyOMKT8/PwkT5JYk9Tc/LdVHXd1ZVUhEiaF0kZgcqLooq2v4Gl1aJZc2CXHbmckzd5s/Lk9O8JGdQmk3tbpX//6V+zduxcLFy7EtGnTWj08lZJiXa3oOVPtcf+0ulduwASYABNgAkyACTCBXyYBYUSdOXMGFy9elLYAF+uSRowY0StgiHllxU0lbtdZQvGwa7eZX3Y7I6lX3G0eBBNgAkyACTABJsAEmAATYAI9lkC32t2ux1JkxZkAE2ACTIAJMAEmwASYABPoNQTYSOo1t5IHwgSYABNgAkyACTABJsAEmEBHELA0N2c7qSNAsgwmwASYABNgAkyACTABJsAEegcBS7E/OycmwASYABNgAkyACTABJsAEmAATUBPgjRv4ncAEmAATYAJMgAkwASbABJgAE9AhwLF2OjA4ywSYABNgAkyACTABJsAEmAATYCOJ3wNMgAkwASbABJgAE2ACTIAJMAEdApY6eW02KipKm29NJj4+vjXVuS4TYAJMgAkwASbABJgAE2ACTKDDCBw4cADipZ/8/f0hXqYmg0aSaPzee++ZKkOq9/bbb7eqPldmAkyACTABJsAEmAATYAJMgAl0FAFhHF25cgWG7JJt27ZJxpOphlKz4XbFxcUw9dVRg2M5TIAJMAEmwASYABNgAkzAJAIqJZQqE2qaWs8EUb23ihJXiopwpVTZY4cojKTnn39eq7+u00eUG/IwaSvrZZo1kvTq8ikTYAJMgAkwASbABJgAE+hyAqqibCTGLoXPpCn4z5lSo/qYWs+oAHFBmYdVPj5Iyy9vXI3KN1C5j84rNjVPW0elUmHt2rUQx1Ynkh3rE4uTOl2W56fCZ2kaypX5kj66/WrzS1NR2oJehnRRXjhEMqdg5uzZmBk8BatSc6CrdbvGotNhdnY2EhIS8NFHH0lHcd6ZydXVtc3ijYbbtVkiN2QCTIAJMAEmwASYABNgAp1IoLbOGkODnsOSNFp7YmG8I1PrGZegviIMhrr6uibVqqhkeXwypnv2RxVdtux3v1Tnzp07+PDDD5Gfn48NGzbgjTfegLl5B/gmDlAniiF4KT0d4bCEZeV5fDhnG4JSYuBpSzqiHxxxCcb0ajIAqUCFbzOisH35J8h93g/lBRkInL8bwZP94G0PdORYTpw4gYULF8La2ho1NTVITEzEhAkTDKvVAaWmhtYZ6oqNJENUuIwJMAEmwASYABNgAkyg2xJQuPsiwF2Jn2gdvjAI7qZypMUGou6/MvEszfCN17vboj05YTzdN8ABCnsFFDqC/vnPf0oGkig6ffo0Nm/ejAULFujUaE/WBvaONmoByit0VMBG4Qh7MmikRNFyxvTS1NA72MD6AQJZdBVFdKVP1U3664WHNPI6ciwNDQ2SgSQUEIZSfX29yLY7iTA6OZRON8TOkGBx3ZRNHNhIMkSPy5gAE2ACTIAJMAEmwAS6OYFa8pzoJxsMnR6PenuNESFdNlRPv13bzkUvx3K+RJ/ivjTht8FjAQFwpcLf/va30qttUtvfyphexiT7PfkC/IMXY/b2WKnK+h255JFSp44cy5IlSyShIswuNzdXyovQO5EsLCyk0MW2eJZko0cYQPKmDUW0vkoOt5PzutelTpv50wF+v2ak8yUmwASYABNgAkyACTABJnDPCNhg+IQn4OWkayR1cufCUiOHSF1Ti61DO7ZqrTQ9vZSFWUhYtUFaCyTWBSVsWIVtXxSQVBWyD3yJA3NjsH71cqmX6B1pKBLuqE5KIuxO34skzmXDqS3d6hpAIq/rWZLzwoAS10xJ7EkyhRLXYQJMgAkwASbABJgAE+h2BMREttYErUyt17yoptNmYUeMG/8Ugrx0g+2ATZs2ITMzUytu6tSpCA8P1563mJEGlYYr116FL4XyiVR+lTao8H+kxaaigkG97AZjcvAAnTVc9bDoP5AEn8G2ldvxSXou/Mh9dNjdGTFzonB08ji4+jq2fywGNBZhdyKJEMT+/fvj559/lvrRN5wMNDWpSPYmicq6eZMaayo1vdutac11mQATYAJMgAkwASbABJjAPSdAZoCqWgq3q6+upt6FWSC8RyoUFdDKmoGucJVC7ozVa53CQvLtKiVUSiuoasmCsbKCvASorl6simpsJIWFhaGkpERaj/TYY4+1PvTO/j6IfdlOnz8L/+F+JL0Ul85thP+UJG2/LY2giV72rvCSldZtrCzFw3R+4VIRGUnUa19r6Wq/fmozod1j0e1LLy+MSRGCJ47tTSLkTvYm6a5REnJ1w/FE3pTERpIplLgOE2ACTIAJMAEmwASYQLchUJ7/BQLD1OtncGA21tBeb0n7l8JbocLR+fNRn5guGUnG67VuKP2o+prIOdSPJoXEIfNVF8kss7RoOp0WO9ktXboUH3/8MX7/+9+3YWc7d8zYvBorwxZjimaY8I/G1ue8ZQ2aPQqjzpBeBhspvBC8OhrhkYKjOoXHxJNxprao2j+Wpr2amZlB9iYJL5KcxLqktiZh/MhhdeKo60ESxpNsHMnHlvoxKy8vV/u7dGpGRUXpnJmejY+PN70y12QCTIAJMAEmwASYABNgAkzAOAF6CO6Vilt03QJ2To6SUWa8cjuvKMtx5VY1LPrYwbHRxhftlGugubxxg254XXs2btDtQvYm6ZaJvLFy/XryuTCSSuhEeNk4MQEmwASYABNgAkyACTABJsAEeiwB/VA7eSDCg2SqF4na/CiMpM8oM0cWII7sSdKlwXkmwASYABNgAkyACTABJsAEujsB4S3STYZ2s9MNw9Otq5dPEUbSb6hws94FPmUCTIAJMAEmwASYABNgAkyACfwSCYSZDxgwYAstnHr3lzh6HjMTYAJMgAkwASbABJgAE2ACTEAmIOwiYR+ZiQI6Mbt+/foLlJ1Fr0n04jVKBIETE2ACTIAJMAEmwASYABNgAr2ewI80wsP02ikZSGZmDf8HTAM6hjobJyYAAAAASUVORK5CYII=\n",
    "\">\n",
    "\n",
    "Ko je program vtipkan, pritisnemo Ctrl-Shift-F10 v Windowsih ali Ctrl-Shift-R na Os X ali bogvekaj v Linuxu (ali pa v menuju Run izberemo Run, vendar se raje navadite na bližnjice, saj boste tole letos naredili deset tisočkrat) in PyCharm bo pognal naš program. Vpis in rezultati bodo v spodnjem delu okna.\n",
    "\n",
    "Tako smo spoznali izraze in spremenljivke, se naučili klicati funkcije, vse skupaj zložiti v program in ga izvesti."
   ]
  }
 ],
 "metadata": {
  "kernelspec": {
   "display_name": "Python 3",
   "language": "python",
   "name": "python3"
  },
  "language_info": {
   "codemirror_mode": {
    "name": "ipython",
    "version": 3
   },
   "file_extension": ".py",
   "mimetype": "text/x-python",
   "name": "python",
   "nbconvert_exporter": "python",
   "pygments_lexer": "ipython3",
   "version": "3.7.4"
  }
 },
 "nbformat": 4,
 "nbformat_minor": 4
}
