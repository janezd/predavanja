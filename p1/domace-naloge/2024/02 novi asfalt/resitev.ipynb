{
 "cells": [
  {
   "cell_type": "markdown",
   "id": "7cf5506c-8b51-47c7-872b-d4227e3d515e",
   "metadata": {},
   "source": [
    "## Novi asfalt\n",
    "\n",
    "Piše se leto 2036. Asfalt na kolesarski poti, ki teče vzporedno z Večno potjo, dokončno razpade in *Mestna občina Ljubljana* (MOL) ugotovi, da je napočil čas za prenovo. *Oddelek za gozdarske dejavnosti in motorni promet* ugotovi, da so zadnje zaplate asfalta dejansko izginile in sklene, da bodo vsako leto asfaltirali tretjino poti. Kolesarji se razveselé, da bo pot asfaltirana že v treh letih, vendar se izkaže, da je to mišljeno malo drugače: vsako leto bodo asfaltirali tretjino **preostale dolžine poti**.\n",
    "\n",
    "Recimo, da je celotna pot dolga 2700 metrov.\n",
    "\n",
    "- Prvo leto bodo asfaltirali eno tretjino, to je 2700 / 3 = **900** metrov. Neasfaltiranih bo še 1800 metrov.\n",
    "- Drugo leto bodo asfaltirali eno tretjino ostanka, torej 1800 / 3 = **600** metrov. Neasfaltiranih bo še 1200 metrov.\n",
    "- Tretje leto bodo asfaltirali eno tretjino preostanka, torej 1200 / 3 = **400** metrov. Neasfaltiranih bo še 800 metrov.\n",
    "- ...\n",
    "\n",
    "Kolesarji - presneta banda nehvaležna! - seveda začnejo robantiti, da tega ne bo nikoli konec in opletati z limitami, [pa Ahilom, pa želvami](https://en.wikipedia.org/wiki/Infinity#Zeno:_Achilles_and_the_tortoise)... MOL jih v svoji neskončni potrpežljivosti pomiri, da bodo metre zaokrožali navzgor:\n",
    "\n",
    "- ...\n",
    "- Četrto leto bodo asfaltirali tretjino od 800, to je 267 metrov, ostalo bo še 533 metrov.\n",
    "- Peto leto pride na vrsto 178 metrov, ostane še 355 metrov.\n",
    "- Šesto leto dodajo 119 metrov, ostane 236 metrov.\n",
    "- ...\n",
    "\n",
    "Izkaže se, da se prenova ne bo vlekla v neskončnost, temveč bo končana v borih **19** letih, kar je, kot pripomni MOL, bistveno hitreje kot nikoli. Zlobno natolcevanje kolesarjev je s tem razkrinkano kot neresnično.\n",
    "\n",
    "## Obvezna naloga\n",
    "\n",
    "Napiši program, ki mu vpišemo dolžino poti in izpiše, koliko metrov bo asfaltiranih v posameznem letu, na koncu pa še, koliko let bo trajalo asfaltiranje.\n",
    "\n",
    "**Program naj ne izpisuje ničesar drugega kot te številke.**\n",
    "\n",
    "Če vnesemo 2700, program izpiše\n",
    "\n",
    "```python\n",
    "900\n",
    "600\n",
    "400\n",
    "267\n",
    "178\n",
    "119\n",
    "79\n",
    "53\n",
    "35\n",
    "23\n",
    "16\n",
    "10\n",
    "7\n",
    "5\n",
    "3\n",
    "2\n",
    "1\n",
    "1\n",
    "1\n",
    "19\n",
    "```\n",
    "\n",
    "Če vnesemo 100, program izpiše\n",
    "\n",
    "```python\n",
    "34\n",
    "22\n",
    "15\n",
    "10\n",
    "7\n",
    "4\n",
    "3\n",
    "2\n",
    "1\n",
    "1\n",
    "1\n",
    "11\n",
    "```\n",
    "\n",
    "Če vnesemo 10000, program izpiše\n",
    "\n",
    "```python\n",
    "3334\n",
    "2222\n",
    "1482\n",
    "988\n",
    "658\n",
    "439\n",
    "293\n",
    "195\n",
    "130\n",
    "87\n",
    "58\n",
    "38\n",
    "26\n",
    "17\n",
    "11\n",
    "8\n",
    "5\n",
    "3\n",
    "2\n",
    "2\n",
    "1\n",
    "1\n",
    "22\n",
    "```"
   ]
  },
  {
   "cell_type": "markdown",
   "id": "34bd82cd-e431-4f09-a2ab-bc9b708bfff7",
   "metadata": {},
   "source": [
    "#### Rešitev\n",
    "\n",
    "Rešitev je na prvi pogled preprosta."
   ]
  },
  {
   "cell_type": "raw",
   "id": "209c33d0-25ee-46d5-ba5b-efea8146fda7",
   "metadata": {},
   "source": [
    "dolzina = int(input(\"Dolžina: \"))\n",
    "\n",
    "leta = 0\n",
    "\n",
    "while dolzina > 0:\n",
    "    novi_asfalt = dolzina / 3\n",
    "    print(novi_asfalt)\n",
    "    dolzina -= novi_asfalt\n",
    "    leta += 1\n",
    "\n",
    "print(leta)"
   ]
  },
  {
   "cell_type": "markdown",
   "id": "3ce4385e-c8e0-4277-90ca-ff5f6355f20f",
   "metadata": {},
   "source": [
    "V `novi_asfalt` izračunamo, koliko bo novega asfalta. To izpišemo in odštejemo od `dolzina`, ki pove, koliko asfalta še manjka.\n",
    "\n",
    "Težava, na katero so MOL opozorili že kolesarji, je, da se to nikoli ne konča: če vsako leto asfaltirajo tretjino ostanka, bo vedno ostalo še nekaj neasfaltiranega. Samo po sebi to ni nič hudega, navsezadnje smo vajeni napol-makadamskih poti, problem pa bi utegnil biti, da bodo tam stalno kakšne table in zapore.\n",
    "\n",
    "Kakorkoli, naloga pravi, da moramo rezultat deljenja zaokrožati navzgor. Kako to storiti? Načinov je veliko. Imejmo pot dolžine `10`: navzgor zaokrožen količnik je 4."
   ]
  },
  {
   "cell_type": "code",
   "execution_count": 6,
   "id": "5554bf6f-f857-408e-9b53-4dd3bacbaced",
   "metadata": {},
   "outputs": [],
   "source": [
    "dolzina = 10"
   ]
  },
  {
   "cell_type": "markdown",
   "id": "18b55c02-b6e2-41df-badb-7149085fb567",
   "metadata": {},
   "source": [
    "Kdor je pogooglal ali povprašal kje drugje, je najbrž naletel na funkcijo `ceil`, ki jo je potrebno pričarati z `from math import *`."
   ]
  },
  {
   "cell_type": "code",
   "execution_count": 7,
   "id": "9dc0ed08-970d-457a-a5d9-936bb9f2ef2d",
   "metadata": {},
   "outputs": [
    {
     "data": {
      "text/plain": [
       "4"
      ]
     },
     "execution_count": 7,
     "metadata": {},
     "output_type": "execute_result"
    }
   ],
   "source": [
    "from math import ceil\n",
    "\n",
    "ceil(dolzina / 3)"
   ]
  },
  {
   "cell_type": "markdown",
   "id": "86b07226-ee28-42c2-bc62-7a88a50d55ca",
   "metadata": {},
   "source": [
    "Lahko pa uporabimo celoštevilsko deljenje. To zaokroža navzdol in, kot bi si mislil naivec, bomo potem pač prišteli 1."
   ]
  },
  {
   "cell_type": "code",
   "execution_count": 8,
   "id": "70fac5cc-950e-416d-aa5e-fc89c25e20e5",
   "metadata": {},
   "outputs": [
    {
     "data": {
      "text/plain": [
       "4"
      ]
     },
     "execution_count": 8,
     "metadata": {},
     "output_type": "execute_result"
    }
   ],
   "source": [
    "dolzina // 3 + 1"
   ]
  },
  {
   "cell_type": "markdown",
   "id": "6f03ef11-4843-4c21-8fdd-5f57222e8c82",
   "metadata": {},
   "source": [
    "To seveda ne deluje, ko je `dolzina` deljiva s `3`."
   ]
  },
  {
   "cell_type": "code",
   "execution_count": 10,
   "id": "245e9ebf-6fe3-4d18-b20b-24fb8eec546c",
   "metadata": {},
   "outputs": [],
   "source": [
    "dolzina = 12"
   ]
  },
  {
   "cell_type": "code",
   "execution_count": 11,
   "id": "e907a792-1ca1-4097-bed8-6f22c5e1f59d",
   "metadata": {},
   "outputs": [
    {
     "data": {
      "text/plain": [
       "5"
      ]
     },
     "execution_count": 11,
     "metadata": {},
     "output_type": "execute_result"
    }
   ],
   "source": [
    "dolzina // 3 + 1"
   ]
  },
  {
   "cell_type": "markdown",
   "id": "092f7816-4f5a-4839-9318-2683363ed387",
   "metadata": {},
   "source": [
    "Rešimo se lahko z dodatnim `if`-om."
   ]
  },
  {
   "cell_type": "code",
   "execution_count": 14,
   "id": "9fbde819-d254-4b0b-80c7-907cabe7d99a",
   "metadata": {},
   "outputs": [],
   "source": [
    "dolzina = 12\n",
    "\n",
    "novi_asfalt = dolzina // 3\n",
    "if dolzina % 3 != 0:\n",
    "    novi_asfalt += 1"
   ]
  },
  {
   "cell_type": "code",
   "execution_count": 13,
   "id": "34f0e170-aab6-4284-beff-2ac25158c36d",
   "metadata": {},
   "outputs": [
    {
     "data": {
      "text/plain": [
       "4"
      ]
     },
     "execution_count": 13,
     "metadata": {},
     "output_type": "execute_result"
    }
   ],
   "source": [
    "novi_asfalt"
   ]
  },
  {
   "cell_type": "code",
   "execution_count": 15,
   "id": "ecd47573-a93b-40f4-beff-ee69aeeea538",
   "metadata": {},
   "outputs": [],
   "source": [
    "dolzina = 10\n",
    "\n",
    "novi_asfalt = dolzina // 3\n",
    "if dolzina % 3 != 0:\n",
    "    novi_asfalt += 1"
   ]
  },
  {
   "cell_type": "code",
   "execution_count": 16,
   "id": "2f3570b8-b38a-4f9b-8eda-f84015191b2c",
   "metadata": {},
   "outputs": [
    {
     "data": {
      "text/plain": [
       "4"
      ]
     },
     "execution_count": 16,
     "metadata": {},
     "output_type": "execute_result"
    }
   ],
   "source": [
    "novi_asfalt"
   ]
  },
  {
   "cell_type": "markdown",
   "id": "1d50f5b3-a484-43c2-8a5e-096f416ba025",
   "metadata": {},
   "source": [
    "(\n",
    "Če si je kdo zapomnil, da je `True` isto kot `1`, lahko napiše tudi kar"
   ]
  },
  {
   "cell_type": "code",
   "execution_count": 17,
   "id": "77350b76-226d-403c-8114-c461d5c70f4f",
   "metadata": {},
   "outputs": [],
   "source": [
    "novi_asfalt = dolzina // 3 + (dolzina % 3 != 0)"
   ]
  },
  {
   "cell_type": "code",
   "execution_count": 18,
   "id": "ef9a3ed7-ae91-4b0b-85ab-908450d02dca",
   "metadata": {},
   "outputs": [
    {
     "data": {
      "text/plain": [
       "4"
      ]
     },
     "execution_count": 18,
     "metadata": {},
     "output_type": "execute_result"
    }
   ],
   "source": [
    "novi_asfalt"
   ]
  },
  {
   "cell_type": "markdown",
   "id": "a76ad69a-53ac-4cb5-bfd6-bf990fd294d4",
   "metadata": {},
   "source": [
    "To bo h količniku prištelo `True` (torej 1), če število ni deljivo s `3` in `False` (0), če je.\n",
    "\n",
    "\"Klasična\" rešitev tega problema pa je"
   ]
  },
  {
   "cell_type": "code",
   "execution_count": 19,
   "id": "e12e6de6-041c-48f8-8df3-5bff6834b6f5",
   "metadata": {},
   "outputs": [
    {
     "data": {
      "text/plain": [
       "4"
      ]
     },
     "execution_count": 19,
     "metadata": {},
     "output_type": "execute_result"
    }
   ],
   "source": [
    "(dolzina + 2) // 3"
   ]
  },
  {
   "cell_type": "markdown",
   "id": "882bb898-b341-4a51-ba76-e3b3e43721ff",
   "metadata": {},
   "source": [
    "Če je `dolzina` deljiva s `3` in ji prištejemo `2`, bo rezultat ostal enak, kot je bil. Če ni bila deljiva s `3`, pa je bil ostanek po deljenju s `3` vsaj `1`. Ko k temu ostanku prištejemo `2`, je \"ostanek\" že vsaj `3`, torej se količnik poveča (za `1` - za več se ne more, saj bi moral biti ostanek za to prej enak `3`).\n",
    "\n",
    "Popravimo torej program; in da se ne bomo hecali z `input`, kar fiksirajmo dolžino poti na 2700."
   ]
  },
  {
   "cell_type": "code",
   "execution_count": 21,
   "id": "26044387-833b-430d-9bf5-1f0259ac68db",
   "metadata": {},
   "outputs": [
    {
     "name": "stdout",
     "output_type": "stream",
     "text": [
      "900\n",
      "600\n",
      "400\n",
      "267\n",
      "178\n",
      "119\n",
      "79\n",
      "53\n",
      "35\n",
      "23\n",
      "16\n",
      "10\n",
      "7\n",
      "5\n",
      "3\n",
      "2\n",
      "1\n",
      "1\n",
      "1\n",
      "19\n"
     ]
    }
   ],
   "source": [
    "dolzina = 2700\n",
    "\n",
    "leta = 0\n",
    "\n",
    "while dolzina > 0:\n",
    "    novi_asfalt = (dolzina + 2 ) // 3\n",
    "    print(novi_asfalt)\n",
    "    dolzina -= novi_asfalt\n",
    "    leta += 1\n",
    "\n",
    "print(leta)"
   ]
  },
  {
   "cell_type": "markdown",
   "id": "095702da-5d28-48b3-8109-8c2f19d3f889",
   "metadata": {},
   "source": [
    "## Dodatne naloge\n",
    "\n",
    "### Rešitev z rekurzivno funkcijo\n",
    "\n",
    "Če ni česa asfaltirati, bo to trajalo 0 let. Sicer pa bo asfaltiranje trajalo eno leto in še toliko časa, kolikor bo vzelo asfaltiranje ostanka."
   ]
  },
  {
   "cell_type": "code",
   "execution_count": 22,
   "id": "2343f670-87b8-4908-9266-888b693eda2a",
   "metadata": {},
   "outputs": [],
   "source": [
    "def asfaltiranje(dolzina):\n",
    "    if not dolzina:\n",
    "        return 0\n",
    "    novi = (dolzina + 2) // 3\n",
    "    print(novi)\n",
    "    return 1 + asfaltiranje(dolzina - novi)"
   ]
  },
  {
   "cell_type": "markdown",
   "id": "61f544c2-e895-4fa9-98cb-1d16baac9b23",
   "metadata": {},
   "source": [
    "Lahko pa tudi"
   ]
  },
  {
   "cell_type": "code",
   "execution_count": 23,
   "id": "49476ea3-2939-4729-aec1-0b6cf60ba2a9",
   "metadata": {},
   "outputs": [],
   "source": [
    "def asfaltiranje(dolzina):\n",
    "    novi = (dolzina + 2) // 3\n",
    "    print(novi)\n",
    "    return dolzina - novi and 1 + asfaltiranje(dolzina - novi)"
   ]
  },
  {
   "cell_type": "markdown",
   "id": "809639bc-656d-4bb8-b334-b7368711d582",
   "metadata": {},
   "source": [
    "Druga različica je zabavna, vendar deluje pravilno (zakaj, kako pravzaprav deluje?!) le, če predpostavimo, da bo vedno potrebno kaj asfaltirati. Klic `asfaltiranje(0)` namreč vrne 0 namesto 1."
   ]
  },
  {
   "cell_type": "markdown",
   "id": "d222d024-9eab-4f31-9d95-67d52cf968f9",
   "metadata": {},
   "source": [
    "### Graf števila let asfaltiranja glede na dolžino poti\n",
    "\n",
    "Narišite graf, ki ima na osi x različne dolžine poti, na primer `[100, 200, 500, 1000, 2000, 5000, 10000, 20000, 50000, 100000, 200000, 500000]`, na `y` pa, koliko let bo trajalo asfaltiranje za takšno dolžino. Za gornje primere bi bil graf videti takole:\n",
    "\n",
    "<img src=\"data:image/.png;base64,iVBORw0KGgoAAAANSUhEUgAAAoAAAAHgCAYAAAA10dzkAAAAOXRFWHRTb2Z0d2FyZQBNYXRwbG90bGliIHZlcnNpb24zLjkuMiwgaHR0cHM6Ly9tYXRwbG90bGliLm9yZy8hTgPZAAAACXBIWXMAAA9hAAAPYQGoP6dpAAA9uklEQVR4nO3deXxV9Z3/8ffNdrOQ3JDchBCykEAiKgiCgkhIgLYqtVjrdHFD7DJ1AVyYh1XH6cM6j7ZoH4/po1MR1LajM2Ot8+vUBW2HEQdI2BEiKqImgRC2QPadbPd+f38kXL3sS5Jz7z2v5+ORP3LPSXznELlvvuecz3EYY4wAAABgG2FWBwAAAMDQogACAADYDAUQAADAZiiAAAAANkMBBAAAsBkKIAAAgM1QAAEAAGyGAggAAGAzFEAAAACboQACAADYDAUQAADAZiiAAAAANkMBBAAAsBkKIAAAgM1QAAEAAGyGAggAAGAzFEAAAACboQACAADYDAUQAADAZiiAAAAANkMBBAAAsBkKIAAAgM1QAAEAAGyGAggAAGAzFEAAAACboQACAADYDAUQAADAZiiAAAAANkMBBAAAsBkKIAAAgM1QAAEAAGyGAggAAGAzFEAAAACboQACAADYDAUQAADAZiiAAAAANkMBBAAAsBkKIAAAgM1QAAEAAGyGAggAAGAzFEAAAACboQACAADYDAUQAADAZiiAAAAANkMBBAAAsBkKIAAAgM1QAAEAAGyGAggAAGAzFEAAAACboQACAADYDAUQAADAZiiAAAAANkMBBAAAsBkKIAAAgM1QAAEAAGyGAggAAGAzEVYHCGZer1eHDx9WfHy8HA6H1XEAAMA5MMaotbVV6enpCguz51oYBfAiHD58WJmZmVbHAAAAF+DAgQPKyMiwOoYlKIAXIT4+XlLfL1BCQoLFaQAAwLloaWlRZmam733cjiiAF+H4ad+EhAQKIAAAQcbOl2/Z88Q3AACAjVEAAQAAbIYCCAAAYDMUQAAAAJuhAAIAANgMBRAAAMBmKIAAAAA2QwEEAACwGQZBAwCAgOLxGm2rbFBNa6dS46M1NSdJ4WH2Hdo8GEJ2BXDp0qW6+uqrFR8fr9TUVN188836/PPPfdt7enr06KOPasKECYqLi1N6erruuusuHT582MLUAADY26pd1Sp4Zo1u+90WPfjaTt32uy0qeGaNVu2qtjpaSAnZAlhcXKyFCxdqy5YtWr16tXp7e3Xdddepvb1dktTR0aHS0lL99Kc/VWlpqV5//XWVlZXppptusjg5AAD2tGpXte57pVTVzZ1+rx9p7tR9r5RSAgeQwxhjrA4xFGpra5Wamqri4mIVFhaecp/3339fU6dOVVVVlbKyss76PVtaWuRyudTc3MyzgAEAuAger1HBM2tOKn/HOSSluaK14dE5F306mPfvEF4BPFFzc7MkKSkp6Yz7OBwOJSYmnnJ7V1eXWlpa/D4AAMDF21bZcNryJ0lGUnVzp7ZVNgxdqBBmiwJojNGSJUtUUFCg8ePHn3Kfzs5OPfbYY7r99ttP+6+BpUuXyuVy+T4yMzMHMzYAALbQ0tmj93YfOad9a1pPXxJx7mxxF/CiRYv00UcfacOGDafc3tPTo1tvvVVer1fLly8/7fd5/PHHtWTJEt/nLS0tlEAAAM6Tx2v04cEmrS+rU0l5rXYeaJLHe25XpKXGRw9yOnsI+QK4ePFirVy5UiUlJcrIyDhpe09Pj7773e+qsrJSa9asOeO1AE6nU06nczDjAgAQkg43HVNJWa1Kymu1saJezcd6/LbnuGN1tKVLHd2eU3798WsAp+ac/lIunLuQLYDGGC1evFhvvPGG1q1bp5ycnJP2OV7+ysvLtXbtWiUnJ1uQFACA0NPR3autextUUl6rkrJa7alt99seHx2hgrFuzcxL0cw8tzKTYn13AUt91/wdd/yWjyfnXcY8wAESsgVw4cKFevXVV/XWW28pPj5eR470XVvgcrkUExOj3t5effvb31ZpaaneeecdeTwe3z5JSUmKioqyMj4AAEHFGKPd1S1aX16nkrJabd/XqG6P17c9zCFNykzUzLwUFeanaGKGSxHh/rci3DB+pFbcOVlPvb3b74aQNFe0npx3mW4YP3LIfp5QF7JjYByOU/8L4aWXXtLdd9+tffv2nXJVUJLWrl2rWbNmnfW/wW3kAAA7q23t0oaKWpWU1Wl9eZ3q2rr8to9KjFFhft8q34wxbrliI8/p+w72k0B4/w7hFcCz9drRo0efdR8AAPCFrl6PduxrVEn/Kt/uav9xaDGR4Zo+Jlkz89wqzE9RrjvutAsyZxIe5tD0MVyWNZhCtgACAICLY4zR3rr2vps3ymq1ZW+DjvX436RxeXpC/2ldt6ZkD5czItyitDgfFEAAAODT3NGjjXvqtL6879TuoaZjftvdw5wqzHNrZr5bBWNTlBLPdIxgRAEEAMDGej1efXiwSSX9M/k+PNCkL4/kiwoP09U5w/tW+fJSNC4tXmHciRv0KIAAANjMwcaO/hs3arWxok4tnb1+28emDvNdxzctJ0mxUdSFUMOfKAAAIa69q1db9tb7RrTsrfOfyeeKieyfyefWzPwUjUqMsSgphgoFEACAEOP19s3kOz6EeUdVo3o8X5zXDQ9zaFJmogr7b964IiORAcs2QwEEACAE1LR2an3/ad0NFXWqa+v2254xPEaF+SkqzHNr+hi3XDHnNpMPoYkCCABAEOrs8Wj7vkatL69VcVmtPjvS6rc9Nipc145J9j15Y3Ry7AXN5ENoogACABAEjDHaU9um4v5Vvi1769XZ4/XbZ/yohP7TuimanDVcURFhp/lusDsKIAAAAaqpo1sbKup8p3YPf+n5uJKUGu/0DWEuGOtW8jBm8uHcUAABAAgQvR6vdh5oUklZrYrL6/TRwSZ9+amlURFhmpaT5BvRcsmIeE7r4oJQAAEAsNCBhg4Vl9VqfXmtNlXUq7XLfyZfXuqwvps38lM0dXSSYqJ41BouHgUQAIAh1NbVq8176vsftVarffUdftsTY/tm8hXmpWhmvlsjXczkw8CjAAIAMIi8XqNPDvfN5Csuq1VpVaN6vf4z+SZnJfYXvhRNGOViJh8GHQUQAIABdrSlUyVltVpfXqcNFXVqaPefyZeVFKvCfLdm5qXo2jHJio9mJh+GFgUQAICL1Nnj0fv7Gnyl78SZfMOcEZo+JlmF/TdvZCfHWZQU6EMBBADgPBljVF7TppKyWpWU12nr3np19X4xk8/hkCaMcvlm8l2ZlajIcGbyIXBQAAEAOAeN7d1aX1Gn9f2rfEda/GfyjUhw+q7jKxjrVlJclEVJgbOjAAIAcAo9Hq8+2N/Uf1q3Vh8davabyeeMCNO03C9O6+alDmMmH4IGBRAAgH5V9e2+07qb99Sr7YSZfJeMiFdhfl/hu3p0kqIjmcmH4EQBBADYVmtnjzbvqVdJea1Kyuq0v8F/Jl9SXJQKxrp9T94YkRBtUVJgYFEAAQC24fEa7TrU7Ltbt3S//0y+iDCHJmcPV1F+imbmuTU+3aUwZvIhBFEAAQAhrbr5mNaX16mkrFYbK+rU2NHjt310cqwK81M0My9F08cka5iTt0aEPn7LAQAhpbPHo62VDb6bN8qOtvltj3dG6NqxyZqZl6LCvBRlJcdalBSwDgUQABDUjDH6/Gir77Tu1soGdZ8wk++KjEQV5bk1Mz9FkzKZyQdQAAEAQae+rUsbKupUUlan9eW1qmnt8ts+0hXdP5PPrYKxbiXGMpMP+DIKIAAg4HX3elW6v9G3yrfrsP9MvujIMF2T23datyjfrTEpzOQDzoQCCAAIOMYY7avv8F3Ht3lPvdq7PX77jEuL779bN0VXjR7OTD7gPFAAAQABoaWzR5sq+mbyrS+v1YGGY37bk+OiVJDn7ju1m+dWKjP5gAtGAQQAWMLjNfroYJPvOr4PDjTJ86WZfJHhDk3JHq7C/L67dS8bmcBMPmCAUAABAEPmcNMxre9/6saGijo1H/OfyZfrjuufyefWNbnJimMmHzAo+D8LADBoOrp7vzSTr04VNSfM5IuO0Iwxbl/py0xiJh8wFCiAAIABY4zRp9Wtvuv43q9sVLfni5l8YQ5pYmaiCvNSVJjv1sSMREUwkw8YchRAAMBFqWvr0ob+R62VlNeprs1/Jt+oxBgV5rs1My9FM8a45YqNtCgpgOMogACA89Ld69X2qgbfzRufHG7x2x4TGa5rcpP6bt7IT1GuO46ZfECAoQACAM7IGKO9de1a37/Ct2VvvTpOmMl32ciE/rt13ZoyericEczkAwIZBRAAcJLmjh5t2lOnkv47dg81+c/kcw+L0sz+6/gKxqYoJd5pUVIAF4ICCABQr8erDw82+568sfNAk740kk9R4WG6avRw3926l6Yxkw8IZhRAALCpg40dWt9/88bGijq1dPb6bR+TEucbwjwtN0mxUbxlAKGC/5sBwCbau3q1tbJeJWV9p3b31rb7bU+IjvjiUWv5KRqVGGNRUgCDjQIIACHK6zXaXd3SN5OvrE7bqxrU4/nivG54mEOT+mfyzeyfyRfOaV3AFiiAABBCalo7fTP5NlTUqa6t2297xvAY392608e45YphJh9gRxRAAAhiXb0ebd/X6Ltb99Nq/5l8sVHhmp6b7Lt5I4eZfABEAQSAoGKM0Z7aNt91fFv21quzx+u3z/hRCX2ndfNSNCV7uKIieNQaAH8UQAAIcE0d3dpYUe8b0XK4udNve0q8UzPz3CrKT1HBWLeShzGTD8CZUQABIMD0erzaeaBJJf3X8n108ISZfBFhmjo6yfd83XFp8ZzWBXBeKIAAEAAONHT0X8dXq00V9Wrt8p/Jl5c6zPfkjWk5yYqJ4lFrAC4cBRAALNDW1aste+r7RrSU16myzn8mX2JspGaMdasoL0UFeW6lM5MPwACiAALAEPB6jT453OJb5Svd33jSTL7JWYm+IcwTRrmYyQdg0FAAAWCQ1LR0+q7j21BRp4Z2/5l8mUkxKsxLUWF+iqaPSVZCNDP5AAyNkC2AS5cu1euvv67PPvtMMTExuvbaa/XMM8/okksu8e1jjNFTTz2lF198UY2NjZo2bZqee+45XX755RYmBxCsOns8en9fg+/5up8dafXbHhcVrulj3Crqv3ljtDvOoqQA7C5kC2BxcbEWLlyoq6++Wr29vXriiSd03XXXaffu3YqL6/tL91e/+pV+/etf6+WXX1Z+fr5+/vOf62tf+5o+//xzxcfHW/wTAAh0xhiV17SppKxWJeV12rq3Xl29X8zkczikCaNc/TP53JqcPVyR4czkA2A9hzHGnH234FdbW6vU1FQVFxersLBQxhilp6froYce0qOPPipJ6urq0ogRI/TMM8/onnvuOev3bGlpkcvlUnNzsxISEgb7RwAQABrbu7Whoq5/Jl+djrT4z+QbkeDsv1u3byZfUlyURUkBnA7v3yG8Anii5uZmSVJSUpIkqbKyUkeOHNF1113n28fpdKqoqEibNm06ZQHs6upSV1eX7/OWlpaT9gEQWno8Xn2wv0nr+2/e+OhQs778z2ZnRJim5iSpKL/vyRv5I4Yxkw9AwLNFATTGaMmSJSooKND48eMlSUeOHJEkjRgxwm/fESNGqKqq6pTfZ+nSpXrqqacGNywAy1XVt/tu3ti8p15tJ8zku2REvGbmuVWYn6KpOUmKjmQmH4DgYosCuGjRIn300UfasGHDSdtO/Je6Mea0/3p//PHHtWTJEt/nLS0tyszMHNiwAIZca2ePNu+p77t5o7xWVfUdftuHx0aqIC9FhXl9N2+kuaItSgoAAyPkC+DixYu1cuVKlZSUKCMjw/d6WlqapL6VwJEjR/per6mpOWlV8Din0ymnk2dsAsHO6zX6+FBz/2ndOpXub1Tvl561FhHm0OTs4f2ndd0an+5SGDP5AISQkC2AxhgtXrxYb7zxhtatW6ecnBy/7Tk5OUpLS9Pq1at15ZVXSpK6u7tVXFysZ555xorIAAbRkeZO31M3NpTXqrGjx2/76ORY380b08cka5gzZP96BIDQLYALFy7Uq6++qrfeekvx8fG+a/5cLpdiYmLkcDj00EMP6Ze//KXy8vKUl5enX/7yl4qNjdXtt99ucXoAF6uzx6OtlQ1aX1arkvJalR1t89s+zBmha8ckqzA/RYV5KcpKjrUoKQAMvZAtgCtWrJAkzZo1y+/1l156SXfffbck6Sc/+YmOHTum+++/3zcI+t1332UGIBCEjDH6/Gir1pf1Xce3tbJB3SfM5LsiI1FFeW7NzE/RpMxEZvIBsC3bzAEcDMwRAqzV0N6t9f2nddeX1+poS5ff9rSEaBXm992tO2OMW8OZyQdAvH9LIbwCCCD0dPd6Vbq/0Xfzxq7D/jP5oiPDNC3n+Gldt8amMpMPAE6FAgggYBljVFXfoZL+Icyb99Srvdvjt8+4tHjfdXxXjR7OTD4AOAcUQAABpaWzR5sq6vtW+cprdaDhmN/25LgoFeS5fc/XTU1gJh8AnC8KIABLebxGHx1s6hvCXFarDw40yfOlmXyR4Q5NyR7uW+W7bGQCM/kA4CJRAAEMucNNx/pX+Oq0saJOTSfM5Mt1x/ketXZNbrLimMkHAAOKv1UBDLpj3R5tqaz3jWipqPGfyRcfHaEZY/oK38w8tzKTmMkHAIOJAghgwBlj9Gl1q+86vvcrG9Xt+WImX5hDmpiZqMK8FBXmuzUxI1ERzOQDgCFDAQQwIOraurShvM73uLXaVv+ZfOmu6L7r+PJTdO2YZCXGMpMPAKxCAQRwQbp7vdpe1eC7eeOTwy1+22Miw3VNbpLv+bpjUuKYyQcAAYICCOCcGGNUWdeukrK+Fb7Ne+vVccJMvstGJmhmvltFeSmaMnq4nBHM5AOAQEQBBHBazcd6tKmiTiX9q3yHmvxn8rmHRfWv8Lk1Y6xbqfHM5AOAYEABBODT6/Hqo0PNKinre/LGzgNN+tJIPkWFh+mq0cN9pe/SNGbyAUAwogACNneo6Vj/ad1abSivU0tnr9/2MSlxmpmXoqL8FE3LTVJsFH9tAECw429ywGY6unu1ZW+9Svpn8u2tbffbnhAd4XvUWkGeWxnDmckHAKGGAgiEOK/X6NMjLX2Fr6xWO6pOnsl3ZdZw35M3JmYkKpzTugAQ0iiAQAiqbe3S+v55fOvLa1XX1u23fVRijArzU1SU79b0MW65YiItSgoAsAIFEAgBXb0e7djXqOLyWq0vq9Puav+ZfLFR4Zqem+xb5ctxM5MPAOyMAggEIWOM9tS2+27e2LK3Qcd6/GfyjR+V0He3bl6KJmcnMpMPAOBDAQSCRHNHjzZU1PlO7Z44ky8l3qmZeW4V5adoxli33MOcFiUFAAQ6CiAwRDxeo22VDapp7VRqfLSm5iSd8WaLXo9XHx5sUnFZX+n78MSZfBFhmjo6yXdad1xaPKd1AQDnhAIIDIFVu6r11Nu7Vd3c6XttpCtaT867TDeMH+l77UBDh0r6r+PbuKdOrSfM5MtLHeYbwjwtJ1kxUZzWBQCcPwogMMhW7arWfa+Uypzw+pHmTt33SqnuLRqjju5elZTXqbLOfyafKyZSBXl9z9YtyHMrPTFm6IIDAEIWBRAYRB6v0VNv7z6p/EnyvbaieI/vtfAwhyZnJfav8qVowigXM/kAAAOOAggMom2VDX6nfU/nq5em6jtXZWr6mGQlRDOTDwAwuCiAwCCqaT17+ZOkeRPTdf3laYOcBgCAPmFWBwBCWWp89IDuBwDAQKAAAoNoak6SRrpOX+4c6rsbeGpO0tCFAgDYHgUQGEThYQ79042XnnLb8Vs7npx3GTd6AACGFAUQGGTdHq8k6cQZzWmuaK24c7LfHEAAAIYCN4EAg8jrNVq2pkKStORr+boqO+mcnwQCAMBgoQACg2jVJ0e0p7ZdCdERWnDtaEa8AAACAqeAgUFijNGz/at/d8/IofwBAAIGBRAYJGs+q9Gn1S2KiwrX968dbXUcAAB8KIDAIPjy6t+d07M1PC7K4kQAAHyBAggMgo0V9dp5oEnOiDD9qCDX6jgAAPihAAKD4Nk15ZKk26ZmKSXeaXEaAAD8UQCBAbatskFbKxsUGe7QPUWs/gEAAg8FEBhgy9b2Xfv37SmZGumKsTgNAAAnowACA+jDA00qKatVeJhD9xWNsToOAACnRAEEBtDx1b9vTkpXVnKsxWkAADg1CiAwQD6tbtHq3UflcEj3zxprdRwAAE6LAggMkOf6V/++PmGkxqYOszgNAACnRwEEBsCe2jb99eNqSdKi2az+AQACGwUQGADPra2QMdJXLx2hS0cmWB0HAIAzogACF2l/fYfe2nlYkrRoDqt/AIDARwEELtKK4j3yeI1m5rk1KTPR6jgAAJwVBRC4CNXNx/TfOw5IkhbPybM4DQAA54YCCFyEF4r3qsdjNC0nSVNzkqyOAwDAOaEAAheotrVLf9q2XxKrfwCA4EIBBC7Q7zfsVVevV5MyEzVjbLLVcQAAOGchWwBLSko0b948paeny+Fw6M033/Tb3tbWpkWLFikjI0MxMTG69NJLtWLFCmvCIug0tnfrlc1VkqTFc8bK4XBYnAgAgHMXsgWwvb1dEydO1LJly065/eGHH9aqVav0yiuv6NNPP9XDDz+sxYsX66233hripAhGL23ap/Zujy4dmaA541KtjgMAwHmJsDrAYJk7d67mzp172u2bN2/WggULNGvWLEnSj3/8Y73wwgvavn27vvnNbw5RSgSjls4evbyxUhKrfwCA4BSyK4BnU1BQoJUrV+rQoUMyxmjt2rUqKyvT9ddfb3U0BLj/3Fylls5ejU0dphsuT7M6DgAA5y1kVwDP5re//a3+/u//XhkZGYqIiFBYWJh+//vfq6Cg4LRf09XVpa6uLt/nLS0tQxEVAaSju1d/2NC3+rdw9hiFhbH6BwAIPrZdAfztb3+rLVu2aOXKldqxY4f+5V/+Rffff7/ee++9037N0qVL5XK5fB+ZmZlDmBiB4NWt+9XQ3q2spFjNuyLd6jgAAFwQhzHGWB1isDkcDr3xxhu6+eabJUnHjh2Ty+XSG2+8oRtvvNG3349+9CMdPHhQq1atOuX3OdUKYGZmppqbm5WQkDCoPwOs19njUeGv1qqmtUtP3zJBt07NsjoSAOACtLS0yOVy2fr925angHt6etTT06OwMP8F0PDwcHm93tN+ndPplNPpHOx4CFB/3nFQNa1dGumK1i2TM6yOAwDABQvZAtjW1qaKigrf55WVldq5c6eSkpKUlZWloqIiPfLII4qJiVF2draKi4v1H//xH/r1r39tYWoEqh6PV8+v2yNJurdojKIibHv1BAAgBIRsAdy+fbtmz57t+3zJkiWSpAULFujll1/Wa6+9pscff1x33HGHGhoalJ2drV/84he69957rYqMAPZG6SEdajom9zCnvnc1134CAIJbyBbAWbNm6UyXN6alpemll14awkQIVr0er5av61tN/nFhjqIjwy1OBADAxeE8FnAWf/24WvvqO5QYG6k7pmVbHQcAgItGAQTOwOs1Wramb/XvhzNyFOcM2UVzAICNUACBM3h39xGV17Qp3hmhu64dbXUcAAAGBAUQOA1jjJ7tX/27e8ZouWIiLU4EAMDAoAACp7Hu81p9crhFsVHh+v6MHKvjAAAwYCiAwCkYY/TbNeWSpDuvyVZSXJTFiQAAGDgUQOAUNu+p1wf7mxQVEaYfzWT1DwAQWiiAwCkcv/bvtqszlRofbXEaAAAGFgUQOMH2fQ3avLdekeEO/bhojNVxAAAYcBRA4ATL1vat/v3d5AyNSoyxOA0AAAOPAgh8yccHm7Xu81qFOaT7ZrH6BwAITRRA4EuWre278/ebk0YpOznO4jQAAAwOCiDQ7/MjrfrfT47K4ZDuZ/UPABDCKIBAv+f6r/2bOz5NeSPiLU4DAMDgoQACkvbWtumdjw5LkhbOHmtxGgAABhcFEJC0fN0eeY30lXGpujzdZXUcAAAGFQUQtnegoUNvfHBIkrRwDqt/AIDQRwGE7T1fvEcer1HBWLcmZw23Og4AAIOOAghbO9LcqT9vPyhJWsTqHwDAJiiAsLUXS/aq2+PV1NFJuiY32eo4AAAMCQogbKuurUuvbquSxOofAMBeKICwrT9sqFRnj1cTM1yamee2Og4AAEOGAghbauro1n9s2idJWjQnTw6Hw9pAAAAMIQogbOnlTfvU3u3RuLR4fWVcqtVxAAAYUhRA2E5rZ49e2rhPUt+1f2FhrP4BAOyFAgjbeWXLfjUf61FuSpzmjh9pdRwAAIYcBRC2cqzbo9+v3ytJWjhrrMJZ/QMA2BAFELbyp237Vd/ercykGN00Kd3qOAAAWIICCNvo6vXohZI9kqT7isYqMpxffwCAPfEOCNv47x0HdbSlS2kJ0fq7KaOsjgMAgGUogLCFHo9XK9b1rf7dU5QrZ0S4xYkAALAOBRC28NbOwzrYeEzuYVG69eosq+MAAGApCiBCnsdrtHxthSTpRzNzFRPF6h8AwN4ogAh5f/24Wnvr2uWKidSd12RbHQcAAMtRABHSvF6j59b0rf79YEaOhjkjLE4EAID1KIAIaas/ParPj7Yq3hmhu2eMtjoOAAABgQKIkGWM0bL+1b+7rs2WKybS4kQAAAQGCiBCVnFZrT4+1KyYyHD9YEaO1XEAAAgYFECEJGOMnu1f/btjWpaShzktTgQAQOCgACIkbdnboB1VjYqKCNPfF+ZaHQcAgIBCAURIWra2XJL0vasyNSIh2uI0AAAEFgogQs6OqkZtrKhXRJhD9xSx+gcAwIkogAg5z/U/9eOWyaOUMTzW4jQAAAQeCiBCyq5DzVrzWY3CHNJ9s8ZaHQcAgIBEAURIOb76N29iunLccRanAQAgMFEAETLKjrbqf3YdkSQtnM3qHwAAp0MBRMhY3r/6d8PlacofEW9xGgAAAhcFECFhX127Vn54WJK0aA6rfwAAnAkFECFh+boKeY00+5IUjR/lsjoOAAABjQKIoHewsUOvlx6SJC2ak2dxGgAAAl/IFsCSkhLNmzdP6enpcjgcevPNN0/a59NPP9VNN90kl8ul+Ph4XXPNNdq/f//Qh8VFeaF4r3q9RteOSdaU7OFWxwEAIOCFbAFsb2/XxIkTtWzZslNu37NnjwoKCjRu3DitW7dOH374oX76058qOprHhgWToy2d+q/tByRx7R8AAOcqwuoAg2Xu3LmaO3fuabc/8cQT+vrXv65f/epXvtdyc3lsWLD5Xcledfd6dVX2cE3PTbY6DgAAQSFkVwDPxOv16q9//avy8/N1/fXXKzU1VdOmTTvlaWIErvq2Lv1xa98p+0VzxsrhcFicCACA4GDLAlhTU6O2tjY9/fTTuuGGG/Tuu+/qW9/6lm655RYVFxef9uu6urrU0tLi9wHr/NvGSh3r8WjCKJeK8lOsjgMAQNAI2VPAZ+L1eiVJ3/zmN/Xwww9LkiZNmqRNmzbp+eefV1FR0Sm/bunSpXrqqaeGLCdOr7mjR/++qUoSq38AAJwvW64Aut1uRURE6LLLLvN7/dJLLz3jXcCPP/64mpubfR8HDhwY7Kg4jX/fvE9tXb26ZES8vnbpCKvjAAAQVGy5AhgVFaWrr75an3/+ud/rZWVlys7OPu3XOZ1OOZ3OwY6Hs2jr6tW/bayUJC2cM1ZhYaz+AQBwPkK2ALa1tamiosL3eWVlpXbu3KmkpCRlZWXpkUce0fe+9z0VFhZq9uzZWrVqld5++22tW7fOutA4J3/cUqWmjh7luON044SRVscBACDohGwB3L59u2bPnu37fMmSJZKkBQsW6OWXX9a3vvUtPf/881q6dKkeeOABXXLJJfrLX/6igoICqyLjHHT2ePS79XslSffPGqNwVv8AADhvDmOMsTpEsGppaZHL5VJzc7MSEhKsjmMLL2+s1M/e3q1RiTFa98gsRYbb8jJWAMBF4P3bpjeBIDh19Xr0Qknf6t99s8ZQ/gAAuEC8gyJovF56SNXNnRqR4NS3p2RYHQcAgKBFAURQ6PV4tXxd3009Py4co+jIcIsTAQAQvCiACAorPzysAw3HlBwXpdumZlodBwCAoEYBRMDzeI2Wre1b/fvhzBzFRoXszesAAAwJCiAC3v/sqtbe2nYlREdo/jWnH9QNAADODQUQAc3rNVq2pm/17/szchQfHWlxIgAAgh8FEAHt/z6r0WdHWjXMGaHvzxhtdRwAAEICBRAByxijZWvKJUnzp2crMTbK4kQAAIQGCiAC1vryOn14sFnRkWH6YUGO1XEAAAgZFEAErOPX/t0+NVvuYU6L0wAAEDoogAhIW/fWa9u+BkWFh+nHhblWxwEAIKRQABGQjs/9+85VGUpzRVucBgCA0EIBRMD5YH+j1pfXKTzMoXuLxlgdBwCAkEMBRMB5rn/171tXjlJmUqzFaQAACD0UQASUTw43671Pa+RwSPfPYvUPAIDBQAFEQFm+do8k6RtXpCs3ZZjFaQAACE0UQASMippW/W1XtSRp4WxW/wAAGCwUQASM5Wv3yBjpustGaFxagtVxAAAIWRRABISq+na99eFhSdKiOWMtTgMAQGijACIgPF+8Rx6vUVF+iq7ISLQ6DgAAIY0CCMsdajqm/95xUJK0mNU/AAAGHQUQlnuxeI96PEbX5CbpqtFJVscBACDkUQBhqZrWTv3p/QOSpAfm5FmcBgAAe6AAwlK/X1+p7l6vJmclavqYZKvjAABgCxRAWKahvVuvbKmSJC2ekyeHw2FxIgAA7IECCMu8tLFSHd0eXZ6eoFmXpFgdBwAA26AAwhLNx3r08sZ9kvru/GX1DwCAoUMBhCX+c/M+tXb1Ki91mK67LM3qOAAA2AoFEEOuvatXf9hQKanvqR9hYaz+AQAwlCiAGHKvbt2vxo4ejU6O1Y0TRlodBwAA26EAYkh19nj04vq9kqT7Z41VRDi/ggAADDXefTGk/t/2A6pt7dKoxBjdfOUoq+MAAGBLFEAMme5er55ft0eSdG9RrqIi+PUDAMAKvANjyLzxwUEdbu5USrxT37kq0+o4AADYFgUQQ6LX49Xy/tW/ewpzFR0ZbnEiAADsiwKIIfHOR9Wqqu/Q8NhI3T4ty+o4AADYGgUQg87rNVq2tkKS9KOZuYqNirA4EQAA9kYBxKBb9ckRVdS0KSE6QvOnZ1sdBwAA26MAYlAZY/Tsmr7Vv7tn5CghOtLiRAAAgAKIQbXmsxp9Wt2iuKhwff/a0VbHAQAAogBiEH159e/O6dkaHhdlcSIAACBRADGINlbUa+eBJjkjwvSjglyr4wAAgH4UQAyaZ9eUS5Jum5qllHinxWkAAMBxFEAMim2VDdpa2aDIcIfuKWL1DwCAQEIBxKA4Pvfv21MyNdIVY3EaAADwZRRADLgPDzSppKxW4WEO3Vc0xuo4AADgBBRADLjjq3/fnJSurORYi9MAAIATUQAxoD6tbtHq3UflcEj3zxprdRwAAHAKFEAMqOf6V/++PmGkxqYOszgNAAA4lZAtgCUlJZo3b57S09PlcDj05ptvnnbfe+65Rw6HQ7/5zW+GLF8o2lPbpr9+XC1JWjSb1T8AAAJVyBbA9vZ2TZw4UcuWLTvjfm+++aa2bt2q9PT0IUoWupav3SNjpK9eOkKXjkywOg4AADiNCKsDDJa5c+dq7ty5Z9zn0KFDWrRokf73f/9XN9544xAlC00HGjr05s5DkqRFc1j9AwAgkIXsCuDZeL1ezZ8/X4888oguv/xyq+MEvRXFe+TxGs3Mc2tSZqLVcQAAwBmE7Arg2TzzzDOKiIjQAw88cM5f09XVpa6uLt/nLS0tgxEt6FQ3H9N/bz8oSVo8J8/iNAAA4GxsuQK4Y8cO/eu//qtefvllORyOc/66pUuXyuVy+T4yMzMHMWXweKF4r7o9Xk3NSdLUnCSr4wAAgLOwZQFcv369ampqlJWVpYiICEVERKiqqkr/8A//oNGjR5/26x5//HE1Nzf7Pg4cODB0oQNUbWuX/rRtvyTpAVb/AAAICrY8BTx//nx99atf9Xvt+uuv1/z58/X973//tF/ndDrldDoHO15Q+f2Gverq9WpSZqJmjE22Og4AADgHIVsA29raVFFR4fu8srJSO3fuVFJSkrKyspSc7F9WIiMjlZaWpksuuWSoowatxvZuvbK5SpK0eM7Y8zqdDgAArBOyBXD79u2aPXu27/MlS5ZIkhYsWKCXX37ZolSh5aVN+9Te7dGlIxM0Z1yq1XEAAMA5CtkCOGvWLBljznn/ffv2DV6YENTS2aOXN1ZKYvUPAIBgY8ubQHDx/nNzlVo6ezU2dZhuuDzN6jgAAOA8UABx3jq6e/WHDX2rfwtnj1FYGKt/AAAEEwogzturW/erob1bWUmxmncFz1AGACDYUABxXjp7PHqxZK8k6f5ZYxQRzq8QAADBhndvnJc/7ziomtYujXRF65bJGVbHAQAAF4ACiHPW4/Hq+XV7JEn3Fo1RVAS/PgAABCPewXHO3vjgkA41HZN7mFPfu5rnIAMAEKwogDgnHq/R8rV9T1b5cWGOoiPDLU4EAAAuFAUQ5+Sdjw5rX32HEmMjdce0bKvjAACAi0ABxFl5vUbP9a/+/XBGjuKcIfsAGQAAbIECiLN6d/cRlR1tU7wzQnddO9rqOAAA4CJRAHFGxhg9u6Zv9e/uGaPliom0OBEAALhYFECc0brPa/XJ4RbFRoXr+zNyrI4DAAAGAAUQp2WM0W/XlEuS7rwmW0lxURYnAgAAA4ECiNPavKdeH+xvUlREmH40k9U/AABCBQUQp3X82r/brs5Uany0xWkAAMBAoQDilLbva9DmvfWKDHfox0VjrI4DAAAGEAUQp7Ssf+7f303O0KjEGIvTAACAgUQBxEk+PtisdZ/XKswh3TeL1T8AAEINBRAnWba2787fb04apezkOIvTAACAgUYBhJ/Pj7Tqfz85KodDup/VPwAAQhIFEH6OP/N37vg05Y2ItzgNAAAYDBRA+OytbdM7Hx2WJC2cPdbiNAAAYLBQAOGzYt0eeY30lXGpujzdZXUcAAAwSCiAkCQdaOjQGx8ckiQtnMPqHwAAoYwCCEnSCyV71Os1Khjr1uSs4VbHAQAAg4gCCB1p7tT/e/+gJGkRq38AAIQ8CiD0YsledXu8mjo6SdfkJlsdBwAADDIKoM3VtXXp1W1Vklj9AwDALiiANveHDZXq7PFqYoZLM/PcVscBAABDgAJoY00d3fqPTfskSYvm5MnhcFgbCAAADAkKoI29vGmf2rs9GpcWr6+MS7U6DgAAGCIUQJtq7ezRSxv3Seq79i8sjNU/AADsggJoU69s2a/mYz3KTYnT3PEjrY4DAACGEAXQho51e/T79XslSQtnjVU4q38AANgKBdCG/rRtv+rbu5WZFKObJqVbHQcAAAwxCqDNdPV69ELJHknSfUVjFRnOrwAAAHbDu7/N/PeOgzra0qW0hGj93ZRRVscBAAAWoADaSI/HqxXr+lb/7inKlTMi3OJEAADAChRAG3lr52EdbDwm97Ao3Xp1ltVxAACARSiANuHxGi1fWyFJ+tHMXMVEsfoHAIBdUQBt4m8fV2tvXbtcMZG685psq+MAAAALUQBtwOs1Wramb/XvBzNyNMwZYXEiAABgJQqgDaz+9Kg+P9qqYc4I3X3taKvjAAAAi1EAQ5wxX6z+Lbg2W67YSIsTAQAAq1EAQ1xxWa0+PtSsmMhw/WBGjtVxAABAAKAAhjBjjJ7tX/27Y1qWkoc5LU4EAAACAQUwhG3Z26AdVY2KigjT3xfmWh0HAAAECApgCFu2tlyS9L2rMjUiIdriNAAAIFBQAEPUjqpGbayoV0SYQ/cUsfoHAAC+ELIFsKSkRPPmzVN6erocDofefPNN37aenh49+uijmjBhguLi4pSenq677rpLhw8fti7wAHuu/6kft0wepYzhsRanAQAAgSRkC2B7e7smTpyoZcuWnbSto6NDpaWl+ulPf6rS0lK9/vrrKisr00033WRB0oG361Cz1nxWozCHdN+ssVbHAQAAASZkHwkxd+5czZ0795TbXC6XVq9e7ffas88+q6lTp2r//v3KysoaioiD5vjq37yJ6cpxx1mcBgAABJqQXQE8X83NzXI4HEpMTLQ6ykUpO9qq/9l1RJK0cDarfwAA4GQhuwJ4Pjo7O/XYY4/p9ttvV0JCwmn36+rqUldXl+/zlpaWoYh3Xpb3r/7dcHma8kfEW5wGAAAEItuvAPb09OjWW2+V1+vV8uXLz7jv0qVL5XK5fB+ZmZlDlPLc7Ktr18oP+25kWTSH1T8AAHBqti6APT09+u53v6vKykqtXr36jKt/kvT444+rubnZ93HgwIEhSnpuVqzbI6+RZl+SovGjXFbHAQAAAcq2p4CPl7/y8nKtXbtWycnJZ/0ap9MppzMwH6d2qOmY/lJ6UJK0aE6exWkAAEAgC9kC2NbWpoqKCt/nlZWV2rlzp5KSkpSenq5vf/vbKi0t1TvvvCOPx6MjR/punEhKSlJUVJRVsS/YC8V71Os1unZMsqZkD7c6DgAACGAhWwC3b9+u2bNn+z5fsmSJJGnBggX62c9+ppUrV0qSJk2a5Pd1a9eu1axZs4Yq5oCoaenUa+/3nY7m2j8AAHA2IVsAZ82aJWPMabefaVuwebFkr7p7vboqe7im5579VDYAALA3W98EEgrq27r0x637JfWt/jkcDosTAQCAQEcBDHL/trFSx3o8mjDKpaL8FKvjAACAIEABDGLNHT36901Vklj9AwAA544CGMT+ffM+tXX16pIR8frapSOsjgMAAIIEBTBItXX16t82VkqSFs4Zq7AwVv8AAMC5oQAGqT9uqVJTR49y3HG6ccJIq+MAAIAgQgEMQp09Hv1u/V5J0v2zxiic1T8AAHAeKIBB6LVt+1XX1q1RiTG6+cpRVscBAABBhgIYZLp6PXqhpG/1775ZYxQZzh8hAAA4P7SHIPN66SFVN3dqRIJT356SYXUcAAAQhCiAQaTX49XydRWSpB8XjlF0ZLjFiQAAQDCiAAaRlR8e1oGGY0qOi9JtUzOtjgMAAIIUBTBIeLxGz63tW/374cwcxUZFWJwIAAAEKwpgkFi164j21LYrITpC86/JtjoOAAAIYhTAIGCM0bNryiVJ35+Ro/joSIsTAQCAYEYBDAL/92mNPjvSqmHOCH1/xmir4wAAgCBHAQxwX179mz89W4mxURYnAgAAwY4CGODWl9fpw4PNio4M0w8LcqyOAwAAQgAFMMAtW9N35+/tU7PlHua0OA0AAAgFzBIJQB6v0bbKBm3eU6dt+xoUGebQjwtzrY4FAABCBAUwwKzaVa2n3t6t6uZO32uREWHaeaBRN7hGWpgMAACECk4BB5BVu6p13yulfuVPkjq6PbrvlVKt2lVtUTIAABBKKIABwuM1eurt3TJn2Oept3fL4z3THgAAAGdHAQwQ2yobTlr5+zIjqbq5U9sqG4YuFAAACEkUwABR03r68nch+wEAAJwOBTBApMZHD+h+AAAAp0MBDBBTc5I00hUtx2m2OySNdEVrak7SUMYCAAAhiAIYIMLDHHpy3mWSdFIJPP75k/MuU3jY6SoiAADAuaEABpAbxo/UijsnK83lf5o3zRWtFXdO1g3jmQMIAAAuHoOgA8wN40fqa5elaVtlg2paO5Ua33fal5U/AAAwUCiAASg8zKHpY5KtjgEAAEIUp4ABAABshgIIAABgMxRAAAAAm6EAAgAA2AwFEAAAwGYogAAAADZDAQQAALAZCiAAAIDNUAABAABshieBXARjjCSppaXF4iQAAOBcHX/fPv4+bkcUwIvQ2toqScrMzLQ4CQAAOF+tra1yuVxWx7CEw9i5/l4kr9erw4cPKz4+Xg6H44K/T0tLizIzM3XgwAElJCQMYEKciGM9dDjWQ4djPXQ41kNnMI+1MUatra1KT09XWJg9r4ZjBfAihIWFKSMjY8C+X0JCAn+hDBGO9dDhWA8djvXQ4VgPncE61nZd+TvOnrUXAADAxiiAAAAANkMBDABOp1NPPvmknE6n1VFCHsd66HCshw7HeuhwrIcOx3pwcRMIAACAzbACCAAAYDMUQAAAAJuhAAIAANgMBRAAAMBmKIAWW758uXJychQdHa0pU6Zo/fr1VkcKaEuXLtXVV1+t+Ph4paam6uabb9bnn3/ut48xRj/72c+Unp6umJgYzZo1S5988onfPl1dXVq8eLHcbrfi4uJ000036eDBg377NDY2av78+XK5XHK5XJo/f76ampoG+0cMWEuXLpXD4dBDDz3ke41jPbAOHTqkO++8U8nJyYqNjdWkSZO0Y8cO33aO98Do7e3VP/3TPyknJ0cxMTHKzc3VP//zP8vr9fr24VhfmJKSEs2bN0/p6elyOBx68803/bYP5XHdv3+/5s2bp7i4OLndbj3wwAPq7u4ejB87OBlY5rXXXjORkZHmd7/7ndm9e7d58MEHTVxcnKmqqrI6WsC6/vrrzUsvvWR27dpldu7caW688UaTlZVl2trafPs8/fTTJj4+3vzlL38xH3/8sfne975nRo4caVpaWnz73HvvvWbUqFFm9erVprS01MyePdtMnDjR9Pb2+va54YYbzPjx482mTZvMpk2bzPjx4803vvGNIf15A8W2bdvM6NGjzRVXXGEefPBB3+sc64HT0NBgsrOzzd133222bt1qKisrzXvvvWcqKip8+3C8B8bPf/5zk5ycbN555x1TWVlp/vznP5thw4aZ3/zmN759ONYX5m9/+5t54oknzF/+8hcjybzxxht+24fquPb29prx48eb2bNnm9LSUrN69WqTnp5uFi1aNOjHIFhQAC00depUc++99/q9Nm7cOPPYY49ZlCj41NTUGEmmuLjYGGOM1+s1aWlp5umnn/bt09nZaVwul3n++eeNMcY0NTWZyMhI89prr/n2OXTokAkLCzOrVq0yxhize/duI8ls2bLFt8/mzZuNJPPZZ58NxY8WMFpbW01eXp5ZvXq1KSoq8hVAjvXAevTRR01BQcFpt3O8B86NN95ofvCDH/i9dsstt5g777zTGMOxHignFsChPK5/+9vfTFhYmDl06JBvnz/96U/G6XSa5ubmQfl5gw2ngC3S3d2tHTt26LrrrvN7/brrrtOmTZssShV8mpubJUlJSUmSpMrKSh05csTvuDqdThUVFfmO644dO9TT0+O3T3p6usaPH+/bZ/PmzXK5XJo2bZpvn2uuuUYul8t2fz4LFy7UjTfeqK9+9at+r3OsB9bKlSt11VVX6Tvf+Y5SU1N15ZVX6ne/+51vO8d74BQUFOj//u//VFZWJkn68MMPtWHDBn3961+XxLEeLEN5XDdv3qzx48crPT3dt8/111+vrq4uv8sq7CzC6gB2VVdXJ4/HoxEjRvi9PmLECB05csSiVMHFGKMlS5aooKBA48ePlyTfsTvVca2qqvLtExUVpeHDh5+0z/GvP3LkiFJTU0/6b6amptrqz+e1115TaWmp3n///ZO2cawH1t69e7VixQotWbJE//iP/6ht27bpgQcekNPp1F133cXxHkCPPvqompubNW7cOIWHh8vj8egXv/iFbrvtNkn8bg+WoTyuR44cOem/M3z4cEVFRdny2J8KBdBiDofD73NjzEmv4dQWLVqkjz76SBs2bDhp24Uc1xP3OdX+dvrzOXDggB588EG9++67io6OPu1+HOuB4fV6ddVVV+mXv/ylJOnKK6/UJ598ohUrVuiuu+7y7cfxvnj/9V//pVdeeUWvvvqqLr/8cu3cuVMPPfSQ0tPTtWDBAt9+HOvBMVTHlWN/ZpwCtojb7VZ4ePhJ/xKpqak56V8tONnixYu1cuVKrV27VhkZGb7X09LSJOmMxzUtLU3d3d1qbGw84z5Hjx496b9bW1trmz+fHTt2qKamRlOmTFFERIQiIiJUXFys3/72t4qIiPAdB471wBg5cqQuu+wyv9cuvfRS7d+/XxK/2wPpkUce0WOPPaZbb71VEyZM0Pz58/Xwww9r6dKlkjjWg2Uoj2taWtpJ/53Gxkb19PTY8tifCgXQIlFRUZoyZYpWr17t9/rq1at17bXXWpQq8BljtGjRIr3++utas2aNcnJy/Lbn5OQoLS3N77h2d3eruLjYd1ynTJmiyMhIv32qq6u1a9cu3z7Tp09Xc3Oztm3b5ttn69atam5uts2fz1e+8hV9/PHH2rlzp+/jqquu0h133KGdO3cqNzeXYz2AZsyYcdJIo7KyMmVnZ0vid3sgdXR0KCzM/+0vPDzcNwaGYz04hvK4Tp8+Xbt27VJ1dbVvn3fffVdOp1NTpkwZ1J8zaAzxTSf4kuNjYP7whz+Y3bt3m4ceesjExcWZffv2WR0tYN13333G5XKZdevWmerqat9HR0eHb5+nn37auFwu8/rrr5uPP/7Y3HbbbaccM5CRkWHee+89U1paaubMmXPKMQNXXHGF2bx5s9m8ebOZMGFCSI9vOBdfvgvYGI71QNq2bZuJiIgwv/jFL0x5ebn54x//aGJjY80rr7zi24fjPTAWLFhgRo0a5RsD8/rrrxu3221+8pOf+PbhWF+Y1tZW88EHH5gPPvjASDK//vWvzQcffOAbbzZUx/X4GJivfOUrprS01Lz33nsmIyODMTBfQgG02HPPPWeys7NNVFSUmTx5sm+cCU5N0ik/XnrpJd8+Xq/XPPnkkyYtLc04nU5TWFhoPv74Y7/vc+zYMbNo0SKTlJRkYmJizDe+8Q2zf/9+v33q6+vNHXfcYeLj4018fLy54447TGNj4xD8lIHrxALIsR5Yb7/9thk/frxxOp1m3Lhx5sUXX/TbzvEeGC0tLebBBx80WVlZJjo62uTm5ponnnjCdHV1+fbhWF+YtWvXnvLv6AULFhhjhva4VlVVmRtvvNHExMSYpKQks2jRItPZ2TmYP35QcRhjjDVrjwAAALAC1wACAADYDAUQAADAZiiAAAAANkMBBAAAsBkKIAAAgM1QAAEAAGyGAggAAGAzFEAAAACboQACAADYDAUQAADAZiiAAAAANkMBBAAAsBkKIAAAgM1QAAEAAGyGAggAAGAzFEAAAACboQACAADYDAUQAADAZiiAAAAANkMBBAAAsBkKIAAAgM1QAAEAAGyGAggAAGAzFEAAAACboQACAADYDAUQAADAZiiAAAAANkMBBAAAsBkKIAAAgM1QAAEAAGyGAggAAGAz/x9sJC1qVmRgCwAAAABJRU5ErkJggg==\"/>\n",
    "\n",
    "Ta graf je seveda malo \"polomljen\", ker je točk malo. Če bi jih narisali več, recimo dolžine, ki smo jih našteli zgoraj: je čas asfaltiranja sorazmeren dolžini? Z drugimi besedami, je graf približno premica (z manjšimi naključnimi odkloni, kot na gornjem grafu)? Ali pa ni? Če ni: na katero krivuljo vas spominja? Znate to dokazati - grafično, s primerno spremenjenim grafom? Znate morda utemeljiti, zakaj je tako?\n"
   ]
  },
  {
   "cell_type": "markdown",
   "id": "d816aec6-3524-4e46-b29b-3d0116fb6273",
   "metadata": {},
   "source": [
    "#### Rešitev\n",
    "\n",
    "Ne bomo se spuščali v to, kako se to spogramira: kdor zna, naj, kdor ne, se bo že še naučil. Bolj je zanimiva krivulja.\n",
    "\n",
    "Za začetek rešimo nalogo s funkcijo. (Če koga zanima, kako to deluje, naj se le razgleda!)"
   ]
  },
  {
   "cell_type": "code",
   "execution_count": 2,
   "id": "f275bea1-9bde-4404-9003-c5feaf211f6c",
   "metadata": {},
   "outputs": [],
   "source": [
    "from itertools import count\n",
    "\n",
    "def asfalt(n):\n",
    "    for leta in count():\n",
    "        if n == 0:\n",
    "            return leta\n",
    "        n -= (n + 2) // 3"
   ]
  },
  {
   "cell_type": "markdown",
   "id": "3902085f-bc10-44cc-aa3b-a1207c9ca810",
   "metadata": {},
   "source": [
    "Namestili bomo knjižnico `matplotlib`. Z njo lahko v Jupytru naredimo tole:"
   ]
  },
  {
   "cell_type": "code",
   "execution_count": 3,
   "id": "b9bda697-5b2e-4c15-b3a3-07455b160f64",
   "metadata": {},
   "outputs": [
    {
     "data": {
      "text/plain": [
       "[<matplotlib.lines.Line2D at 0x10f8040b0>]"
      ]
     },
     "execution_count": 3,
     "metadata": {},
     "output_type": "execute_result"
    },
    {
     "data": {
      "image/png": "[encoded data removed]",
      "text/plain": [
       "<Figure size 640x480 with 1 Axes>"
      ]
     },
     "metadata": {},
     "output_type": "display_data"
    }
   ],
   "source": [
    "from matplotlib import pyplot as plt\n",
    "\n",
    "dolzine = [100, 200, 500, 1000, 2000, 5000, 10000, 20000, 50000, 100000, 200000, 500000]\n",
    "leta = [asfalt(n) for n in dolzine]\n",
    "\n",
    "plt.plot(dolzine, leta, marker=\"o\")"
   ]
  },
  {
   "cell_type": "markdown",
   "id": "098d0734-4a85-4528-bb41-984121c15c00",
   "metadata": {},
   "source": [
    "Graf ni premica, funkcija ni linearna. Z dolžino poti čas asfaltiranja narašča ... nekako vedno počasneje.\n",
    "\n",
    "V resnici je funkcija logaritemska. O tem se prepričamo tako, da spremenimo os x v logaritemsko."
   ]
  },
  {
   "cell_type": "code",
   "execution_count": 4,
   "id": "858c2c83-0e36-44bb-a09a-11371870102c",
   "metadata": {},
   "outputs": [
    {
     "data": {
      "image/png": "[encoded data removed]",
      "text/plain": [
       "<Figure size 640x480 with 1 Axes>"
      ]
     },
     "metadata": {},
     "output_type": "display_data"
    }
   ],
   "source": [
    "plt.plot(dolzine, leta, marker=\"o\")\n",
    "plt.xscale(\"log\")"
   ]
  },
  {
   "cell_type": "markdown",
   "id": "0f3f5b4c-f731-46ec-86df-57c5781c0f95",
   "metadata": {},
   "source": [
    "Ali, preprosteje, na graf poleg črte, ki kaže čas asfaltiranja, dodamo še primerno skalirano logaritemsko krivuljo."
   ]
  },
  {
   "cell_type": "code",
   "execution_count": 6,
   "id": "c35c7dff-8972-43bd-bc0d-f84f45449ccb",
   "metadata": {},
   "outputs": [
    {
     "data": {
      "text/plain": [
       "[<matplotlib.lines.Line2D at 0x10fb57020>]"
      ]
     },
     "execution_count": 6,
     "metadata": {},
     "output_type": "execute_result"
    },
    {
     "data": {
      "image/png": "[encoded data removed]",
      "text/plain": [
       "<Figure size 640x480 with 1 Axes>"
      ]
     },
     "metadata": {},
     "output_type": "display_data"
    }
   ],
   "source": [
    "from math import *\n",
    "\n",
    "f = leta[-1] / log(dolzine[-1])\n",
    "\n",
    "plt.plot(dolzine, leta, marker=\"o\")\n",
    "plt.plot(dolzine, [f * log(dolzina) for dolzina in dolzine])"
   ]
  },
  {
   "cell_type": "markdown",
   "id": "360fdda9-ffda-4adb-9584-8bff9f53c0f5",
   "metadata": {},
   "source": [
    "Vidimo, da se krivulji odlično prilegata. Čas asfaltiranja je torej sorazmeren logaritmu dolžine poti."
   ]
  },
  {
   "cell_type": "markdown",
   "id": "2d4ac097-5651-4d1f-b955-9eb01db316aa",
   "metadata": {},
   "source": [
    "Faktor, s katerim smo morali raztegniti krivuljo, je"
   ]
  },
  {
   "cell_type": "code",
   "execution_count": 35,
   "id": "3eb03a50-f667-4501-8a58-88907da23a06",
   "metadata": {},
   "outputs": [
    {
     "data": {
      "text/plain": [
       "2.438585114561106"
      ]
     },
     "execution_count": 35,
     "metadata": {},
     "output_type": "execute_result"
    }
   ],
   "source": [
    "f"
   ]
  },
  {
   "cell_type": "markdown",
   "id": "e9f46968-9046-42b0-a9fa-4e5fb9966b25",
   "metadata": {},
   "source": [
    "Znamo morda utemeljiti, zakaj je tako? Hja. Vzemimo dve poti: ena je dolga 1000 m, druga pa je 50 % daljša, torej 1500 m. Bodo 50 % daljšo pot asfaltirali 50 % dlje časa? Ne, asfaltirali jo bodo le eno leto dlje, saj bodo v prvem letu asfaltirali 500 m in ostalo jih bo 1000.\n",
    "\n",
    "Kakšno zvezo ima to z logaritmom? Ima, berite dalje. (To, kar smo napisali v prejšnjem odstavku, dokazuje le, da zveza ni linearna.)"
   ]
  },
  {
   "cell_type": "markdown",
   "id": "9af2efb7-e3b7-4c20-bc3b-dd23b53e26d3",
   "metadata": {},
   "source": [
    "### Naloga za matematike\n",
    "\n",
    "Znate morda s preprosto matematično formulo oceniti (z napako enega ali dveh let gor ali dol), koliko let bo trajala prenova?\n",
    "\n",
    "#### Rešitev\n",
    "\n",
    "Hm. Da bo lažje računati in razmišljati: recimo, da bi se MOL odločil vsako leto asfaltirati polovico poti in da je pot dolga 1024 metrov (da bo lažje deliti). Prvo leto asfaltirajo 512 m, drugo leto 256 m, tretje 128 m ... Vprašanje je potem, v bistvu, kolikokrat je potrebno 1024 deliti z 2, da dobimo 1 (oziroma 0, po tem, ko zadnje leto asfaltirajo še ta meter). Vprašanje \"kolikokrat je potrebno 1024 deliti z 2, da dobimo 1\" lahko obrnemo v \"kolikokrat moramo pomnožiti 2 samo s seboj, da dobimo 1024\". Se pravi, \"dva na koliko je 1024\". Ali, v splošnem, \"dva na koliko je `dolzina`\". Bolj matematično $2^x = d$: če poznamo $d$, koliko je $x$? Logaritem, seveda $x = \\log_2 d$.\n",
    "\n",
    "Če bi vsako leto asfaltirali 1 / 2 poti, 1 / 2 poti pa bi ostalo, bi bil odgovor, da bo asfaltiranje zahtevalo (dvojiški) logaritem dolžine poti. Ker vsako leto ostane 2 / 3 poti, pa je odgovor logaritem z osnovo 3 / 2. Asfaltiranje zahteva približno $\\log_{3/2} dolzina$ let.\n",
    "\n",
    "Preverimo."
   ]
  },
  {
   "cell_type": "code",
   "execution_count": 36,
   "id": "65920fa4-689b-4f27-af95-075a8bfc8fca",
   "metadata": {},
   "outputs": [
    {
     "data": {
      "text/plain": [
       "[<matplotlib.lines.Line2D at 0x11c2be390>]"
      ]
     },
     "execution_count": 36,
     "metadata": {},
     "output_type": "execute_result"
    },
    {
     "data": {
      "image/png": "[encoded data removed]",
      "text/plain": [
       "<Figure size 640x480 with 1 Axes>"
      ]
     },
     "metadata": {},
     "output_type": "display_data"
    }
   ],
   "source": [
    "from math import *\n",
    "\n",
    "plt.plot(dolzine, leta, marker=\"o\")\n",
    "plt.plot(dolzine, [log(dolzina, 3 / 2) for dolzina in dolzine])"
   ]
  },
  {
   "cell_type": "markdown",
   "id": "3beb7fa9-88fc-4c73-af43-fb233a190685",
   "metadata": {},
   "source": [
    "V tem grafu rišemo $\\log_{3 / 2} x$, v prejšnjem smo risali $f \\log x$, kjer je bil `log` naravni logaritem.\n",
    "\n",
    "Matematiki nas učijo, da je $\\log_{b} x = \\frac{\\log x}{\\log b}$. Torej je $\\log_{3/2} x = \\frac{\\log x}{\\log 3/2}$. Če naj bo to isto kot $f \\log x$, potem je $f$ najbrž približno $1 / \\log_{3 / 2}$. Je res?"
   ]
  },
  {
   "cell_type": "code",
   "execution_count": 37,
   "id": "c69a9aba-4cac-4544-a446-140f12efb53f",
   "metadata": {},
   "outputs": [
    {
     "data": {
      "text/plain": [
       "2.438585114561106"
      ]
     },
     "execution_count": 37,
     "metadata": {},
     "output_type": "execute_result"
    }
   ],
   "source": [
    "f"
   ]
  },
  {
   "cell_type": "code",
   "execution_count": 38,
   "id": "1da08bd3-f835-4d84-985d-7c6d22c8adf4",
   "metadata": {},
   "outputs": [
    {
     "data": {
      "text/plain": [
       "2.4663034623764317"
      ]
     },
     "execution_count": 38,
     "metadata": {},
     "output_type": "execute_result"
    }
   ],
   "source": [
    "1 / log(3 / 2)"
   ]
  },
  {
   "cell_type": "markdown",
   "id": "d8e654c2-d3a0-44f0-b6e9-58dc733cb99b",
   "metadata": {},
   "source": [
    "V resnici se krivulji ne prilegata povsem - zaradi zaokrožanja navzgor."
   ]
  },
  {
   "cell_type": "markdown",
   "id": "0ea937b4-fb64-4490-b5e4-8e6cb5540133",
   "metadata": {},
   "source": [
    "### Asfalt do zadnjega metra\n",
    "\n",
    "MOL se odloči, da metrov ne bo zaokrožal navzgor. Vsako leto bo asfaltiral natančno eno tretjino ostanka. Z asfaltiranjem bo končal, ko bo neasfaltirana dolžina krajša od enega metra, kar je za kolesarje čisto dovolj dobro. Napiši program, ki računa čas asfaltiranja po takšnem pravilu. (Ne skrbite glede natančnosti: Pythonov `float` ima 15 decimalnih mest, premer protona pa je $10^{-15} m$. Še več: najmanjši pozitivni `float` je $5\\times 10^{-324} m$, Planckova razdalja - v nekem smislu \"najmanjša možna razdalja\" v fiziki - pa je $10^{-35} m$. Pythonov `float` bo za reševanje te naloge čez in čez dovolj.)\n",
    "\n",
    "#### Rešitev"
   ]
  },
  {
   "cell_type": "code",
   "execution_count": 41,
   "id": "61c5aced-63ca-4471-8ca2-16346a98c134",
   "metadata": {},
   "outputs": [
    {
     "name": "stdout",
     "output_type": "stream",
     "text": [
      "20\n"
     ]
    }
   ],
   "source": [
    "dolzina = 2700\n",
    "\n",
    "leta = 0\n",
    "while dolzina > 1:\n",
    "    dolzina *= 2 / 3\n",
    "    leta += 1\n",
    "    \n",
    "print(leta)"
   ]
  },
  {
   "cell_type": "markdown",
   "id": "60612306-9606-4ee3-94dd-d9f05f0f7dc2",
   "metadata": {},
   "source": [
    "### Rešitev s formulo\n",
    "\n",
    "Če ste rešili prejšnjo nalogo: znate morda na ta problem odgovoriti s povsem preprosto matematično formulo? Obstaja matematična funkcija, ki računa natančno to reč, samo njen rezultat morate zaokrožiti navzgor.\n",
    "\n",
    "#### Rešitev\n",
    "\n",
    "Že vemo: navzgor zaokrožen logaritem z osnovo 3/2. Ker ni zaokrožanja, je rezultat točen, le navzgor ga je potrebno zaokrožiti: $\\mbox{leta} = \\lceil \\log_{3/2} \\mbox{dolzina} \\rceil$."
   ]
  },
  {
   "cell_type": "code",
   "execution_count": 9,
   "id": "54f0bd35-b460-487c-a346-749e957f1361",
   "metadata": {},
   "outputs": [
    {
     "data": {
      "text/plain": [
       "20"
      ]
     },
     "execution_count": 9,
     "metadata": {},
     "output_type": "execute_result"
    }
   ],
   "source": [
    "ceil(log(2700, 3 / 2))"
   ]
  },
  {
   "cell_type": "code",
   "execution_count": 10,
   "id": "6819621a-2dec-4005-820f-55f8920a2d40",
   "metadata": {},
   "outputs": [
    {
     "name": "stdout",
     "output_type": "stream",
     "text": [
      "49\n"
     ]
    }
   ],
   "source": [
    "dolzina = 345823476\n",
    "\n",
    "leta = 0\n",
    "while dolzina > 1:\n",
    "    dolzina *= 2 / 3\n",
    "    leta += 1\n",
    "    \n",
    "print(leta)"
   ]
  },
  {
   "cell_type": "code",
   "execution_count": 165,
   "id": "2d59a038-0c3c-4036-b713-a25b47f767da",
   "metadata": {},
   "outputs": [
    {
     "data": {
      "text/plain": [
       "49"
      ]
     },
     "execution_count": 165,
     "metadata": {},
     "output_type": "execute_result"
    }
   ],
   "source": [
    "ceil(log(345823476, 3 / 2))"
   ]
  }
 ],
 "metadata": {
  "kernelspec": {
   "display_name": "Python 3 (ipykernel)",
   "language": "python",
   "name": "python3"
  },
  "language_info": {
   "codemirror_mode": {
    "name": "ipython",
    "version": 3
   },
   "file_extension": ".py",
   "mimetype": "text/x-python",
   "name": "python",
   "nbconvert_exporter": "python",
   "pygments_lexer": "ipython3",
   "version": "3.12.6"
  }
 },
 "nbformat": 4,
 "nbformat_minor": 5
}
