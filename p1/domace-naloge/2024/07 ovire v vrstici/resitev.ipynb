{
 "cells": [
  {
   "cell_type": "markdown",
   "id": "50d95ee6",
   "metadata": {},
   "source": [
    "Naloga se navezuje na nalogo [Šikaniranje](https://ucilnica.fri.uni-lj.si/mod/assign/view.php?id=50366) oziroma [Lokacije ovir](https://github.com/janezd/predavanja/blob/master/p1/domace-naloge/2022/04%20lokacije%20ovir/resitev.ipynb) in bo zelo kratka. V vsaki funkciji bo potrebno napisati samo eno vrstico. Točneje, tokratna naloga bo krajša, ko bi si želeli: v vsaki funkciji boste *smeli* napisati samo eno vrstico. Vadimo namreč izpeljane sezname, množice in generatorje.\n",
    "\n",
    "Funkcije se lahko kličejo med sabo, izjemoma pa ne smete pisati dodatnih funkcij, ki jih naloga ne zahteva.\n",
    "\n",
    "Ovire bodo podane s seznamom trojk `(y, x0, x1)`, ki predstavljajo vrstico ter začetni in končni stolpec z oviro. Seznam ni urejen in je lahko videti, recimo, tako\n",
    "\n",
    "```python\n",
    "[(1, 3, 6),\n",
    " (1, 8, 10),\n",
    " (2, 1, 4),\n",
    " (3, 5, 8),\n",
    " (2, 7, 9),\n",
    " (7, 10, 10),\n",
    " (7, 12, 13),\n",
    " (5, 8, 10),\n",
    " (5, 1, 3),\n",
    " (2, 15, 19)]\n",
    "```\n",
    "\n",
    "## Obvezna naloga\n",
    "\n",
    "Napišite naslednje funkcije.\n",
    "\n",
    "- `vrstice(ovire)` vrne seznam vseh vrstic z ovirami. Vrstice so naštete v enakem vrstnem redu kot v seznamu in se lahko ponavljajo. Za gornji primer funkcija vrne `[1, 1, 2, 3, 2, 7, 7, 5, 5, 2]`.\n",
    "- `ovirane_vrstice(ovire)` vrača podoben seznam, le da je urejen. Za gornji primer vrne `[1, 1, 2, 2, 2, 3, 5, 5, 7, 7]`.\n",
    "- `ovirane_vrstice_uni(ovire)` vrne podoben seznam, le da se vrstice ne ponavljajo. Za gornji primer vrne `[1, 2, 3, 5, 7]`. (Namig: v množico.)\n",
    "- `ovire_v_vrstici(ovire, vrstica)` vrne množico začetkov in koncev vseh ovir v podani vrstici. Klic `ovire_v_vrstici(ovire, 2)` vrne `{(1, 4), (7, 9), (15, 19)}`.\n",
    "- `stevilo_ovir(ovire, vrstica)` vrne število ovir v podani vrstici.\n",
    "- `dolzina_ovir(ovire)` vrne skupno dolžino vseh ovir.\n",
    "- `prosta_pot(ovire, stolpec)` vrne `True`, če nobena od ovir ne zapira podanega stolpca, in `False`, če takšna ovira obstaja.\n",
    "\n",
    "## Rešitev"
   ]
  },
  {
   "cell_type": "markdown",
   "id": "aa9e1068-3c49-48e2-a2ec-99577813e516",
   "metadata": {},
   "source": [
    "`vrstice` mora vrniti seznam vseh indeksov `y`, ki se pojavijo v `ovire`."
   ]
  },
  {
   "cell_type": "code",
   "execution_count": 1,
   "id": "f38fa016",
   "metadata": {},
   "outputs": [],
   "source": [
    "def vrstice(ovire):\n",
    "    return [y for y, _, _ in ovire]"
   ]
  },
  {
   "cell_type": "markdown",
   "id": "56299998-800d-4529-a232-20576f7bbb25",
   "metadata": {},
   "source": [
    "Naloga `ovirane_vrstice` na spomni, da obstaja funkcija `sorted`. Podamo ji lahko kar generator: vse, kar bo zgeneriral, bo zložila v seznam in ga uredila."
   ]
  },
  {
   "cell_type": "code",
   "execution_count": 1,
   "id": "24da1c5b-742d-4ea9-8da9-9b089684d22c",
   "metadata": {},
   "outputs": [],
   "source": [
    "def ovirane_vrstice(ovire):\n",
    "    return sorted(y for y, _, _ in ovire)"
   ]
  },
  {
   "cell_type": "markdown",
   "id": "77204948-6863-4810-b3db-bc2475dabaf0",
   "metadata": {},
   "source": [
    "Tretja naloga nas spomni, kako dobimo unikatne stvari: tako da jih vržemo v množico. Množico podamo `sorted`, ki bo elemente množice zložil v seznam in ga uredil."
   ]
  },
  {
   "cell_type": "code",
   "execution_count": 2,
   "id": "2268a0e0-76ef-4a22-9a46-8888be953d25",
   "metadata": {},
   "outputs": [],
   "source": [
    "def ovirane_vrstice_uni(ovire):  # namig: v množico\n",
    "    return sorted({y for y, _, _ in ovire})"
   ]
  },
  {
   "cell_type": "markdown",
   "id": "983cf302-f956-44ea-8eb6-a2e1c9220dfa",
   "metadata": {},
   "source": [
    "V četrti nalogi uporabimo pogoje: zanimajo nas začetki in konci, `(x0, y0)` v vseh tistih trojkah `y, x0, x1` v seznamu `ovire`, za katere velja, da je `y` enak vrstica. Če to namesto v slovenščini povemo v Pythonu, dobimo:"
   ]
  },
  {
   "cell_type": "code",
   "execution_count": 3,
   "id": "399e6bee-d7aa-46cc-9901-4c24910c4e82",
   "metadata": {},
   "outputs": [],
   "source": [
    "def ovire_v_vrstici(ovire, vrstica):\n",
    "    return {(x0, x1) for y, x0, x1 in ovire if y == vrstica}"
   ]
  },
  {
   "cell_type": "markdown",
   "id": "f74dc46d-954c-4878-b5f1-fe3f4ff36c2f",
   "metadata": {},
   "source": [
    "Število ovir v vrstici je lahko dolžina seznama, ki ga vrne funkcija `ovire_v_vrstici`."
   ]
  },
  {
   "cell_type": "code",
   "execution_count": 4,
   "id": "70125246-a2e4-4248-862f-ebf453b6777e",
   "metadata": {},
   "outputs": [],
   "source": [
    "def stevilo_ovir(ovire, vrstica):\n",
    "    return len(ovire_v_vrstici(ovire, vrstica))"
   ]
  },
  {
   "cell_type": "markdown",
   "id": "bb788076-4a2a-45c3-b6c6-cf831ee171c7",
   "metadata": {},
   "source": [
    "Če te funkcije nimamo ali pa se želimo izogniti sestavljanju seznama, lahko uporabimo `sum`: `y == vrstica` bo bodisi resničen, `True` ali neresničen, `False`, kar je enak0 `1` ali `0`."
   ]
  },
  {
   "cell_type": "code",
   "execution_count": 6,
   "id": "a6204f69-d2b2-45c3-a889-be2db2ac12c2",
   "metadata": {},
   "outputs": [],
   "source": [
    "def stevilo_ovir(ovire, vrstica):\n",
    "    return len(ovire_v_vrstici(ovire, vrstica))"
   ]
  },
  {
   "cell_type": "markdown",
   "id": "09da2860-8c26-43eb-81d1-adec0b2a49f3",
   "metadata": {},
   "source": [
    "Dolžino ovir dobimo tako, da odštejemo `x1 - x0` za vsako oviro - pa še `1` prištejemo, ker ovira vključuje tudi zgornjo mejo."
   ]
  },
  {
   "cell_type": "code",
   "execution_count": 7,
   "id": "67d8a4df-4f64-4003-9840-525193df5fe7",
   "metadata": {},
   "outputs": [],
   "source": [
    "def dolzina_ovir(ovire):\n",
    "    return sum(x1 - x0 + 1 for _, x0, x1 in ovire)"
   ]
  },
  {
   "cell_type": "markdown",
   "id": "8591f352-e299-40d3-82f1-dce6fcb80d6d",
   "metadata": {},
   "source": [
    "Pot je prosta, če ni nobenega ovire, ki bi jo zapirala."
   ]
  },
  {
   "cell_type": "code",
   "execution_count": 9,
   "id": "324a63e9-56fa-4980-bf9b-496a3f9867bc",
   "metadata": {},
   "outputs": [],
   "source": [
    "def prosta_pot(ovire, stolpec):\n",
    "    return not any(x0 <= stolpec <= x1 for _, x0, x1 in ovire)"
   ]
  },
  {
   "cell_type": "markdown",
   "id": "8c2222e2-1efb-45d0-b080-5ef2d6ae10e4",
   "metadata": {},
   "source": [
    "De Morgan pa bi vedel povedati, da je to isto, kot če rečemo, da za vse ovire velja, da je ne zapirajo."
   ]
  },
  {
   "cell_type": "code",
   "execution_count": 10,
   "id": "f8bf5136-0243-4207-a064-ddeebf076ede",
   "metadata": {
    "editable": true,
    "slideshow": {
     "slide_type": ""
    },
    "tags": []
   },
   "outputs": [],
   "source": [
    "def prosta_pot(ovire, stolpec):\n",
    "    return all(not x0 <= stolpec <= x1 for _, x0, x1 in ovire)"
   ]
  },
  {
   "cell_type": "markdown",
   "id": "ccd731f4-9d4a-46ec-863b-db953fca94eb",
   "metadata": {
    "editable": true,
    "slideshow": {
     "slide_type": ""
    },
    "tags": []
   },
   "source": [
    "## Dodatne naloge\n",
    "\n",
    "Tole so naloge za študentko iz približno pete vrste in za vse druge, ki jih zanima, zakaj je potrebno pri\n",
    "\n",
    "```\n",
    "[<izraz> for <spremenljivka> in <seznam> if <pogoj>]\n",
    "```\n",
    "\n",
    "razmišljati drugače kot pri \n",
    "\n",
    "```\n",
    "s = []\n",
    "for <spremenljivka> in <seznam>:\n",
    "    if <pogoj>:\n",
    "        s.append(<izraz>)\n",
    "```\n",
    "\n",
    "Naloge niso težke, morda pa so poučne. Da bodo še poučnejše, predlagam, da izmed funkcij, ki ste jih sprogramirali zgoraj, v spodnjih funkcijah kličete kvečjemu funkcijo `ovirane_vrstice_uni`. Morda bo še boljše, če vse funkcije najprej sprogramirate s klasično zanko, da boste videli, zakaj takšne zanke ne morete preprosto predelati v izpeljan slovar. (Spoiler: ker ne morete \"updateati\" vrednosti v slovarju, ki ga še ni.)\n",
    "\n",
    "- `stevila_ovir(ovire)` vrne slovar, katerega ključi so številke vrstic, ki vsebujejo vsaj eno oviro, vrednosti pa število ovir v tej vrstici.\n",
    "- `zacetki(ovire)` vrne slovar, katerega ključi so številke vrstic z vsaj eno oviro, vrednosti pa najbolj levi ovirani stolpec.\n",
    "- `ovire_po_vrsticah(ovire)` vrne slovar, katerega ključi so številke vrstic z vsaj eno oviro, vrednosti pa množice začetkov in koncev ovir v tej vrstici.\n",
    "\n",
    "### Rešitev\n",
    "\n",
    "#### Števila ovir\n",
    "\n",
    "Brez izpeljanega slovarja bi prvo nalogo rešili tako:"
   ]
  },
  {
   "cell_type": "code",
   "execution_count": 12,
   "id": "dc60f1e6-ebda-404b-85bf-7cbc4b972f00",
   "metadata": {
    "editable": true,
    "slideshow": {
     "slide_type": ""
    },
    "tags": []
   },
   "outputs": [],
   "source": [
    "from collections import defaultdict\n",
    "\n",
    "def stevila_ovir(ovire):\n",
    "    stevila = defaultdict(int)\n",
    "    for y, _, _ in ovire:\n",
    "        stevila[y] += 1\n",
    "    return stevila"
   ]
  },
  {
   "cell_type": "markdown",
   "id": "9c752186-be86-44ce-bcdf-142a01350496",
   "metadata": {},
   "source": [
    "Zato pridemo na idejo, da bi se na podoben način lotili tudi z izpeljanim slovarjem."
   ]
  },
  {
   "cell_type": "markdown",
   "id": "5d7432e1-e650-4756-9378-6173b22d5fac",
   "metadata": {
    "editable": true,
    "raw_mimetype": "",
    "slideshow": {
     "slide_type": ""
    },
    "tags": [
     "raises-exception"
    ]
   },
   "source": [
    "```python\n",
    "from collections import defaultdict\n",
    "\n",
    "def stevila_ovir(ovire):b\n",
    "    return {y: ?!?!?![y] + 1 for y, _, _ in ovire}\n",
    "```"
   ]
  },
  {
   "cell_type": "markdown",
   "id": "0569e0a1-c0ca-409e-8a37-64d15c3d1e9e",
   "metadata": {
    "editable": true,
    "slideshow": {
     "slide_type": ""
    },
    "tags": []
   },
   "source": [
    "Problem je, kajpa, v ?!?!?!. K čemu bomo prišteli 1? Tega slovarja še ni.\n",
    "\n",
    "Zato sem na predavanjih poudarjal, da ta slovar nastane takšen, kot je. Med nastajanjem ga ne moremo spreminjati, se sklicevati nanj... Rešitev v eni vrstici bo morala biti"
   ]
  },
  {
   "cell_type": "markdown",
   "id": "7a4651ca-76f3-4473-b011-d756a6f37e60",
   "metadata": {
    "editable": true,
    "slideshow": {
     "slide_type": ""
    },
    "tags": []
   },
   "source": [
    "```python\n",
    "from collections import defaultdict\n",
    "\n",
    "def stevila_ovir(ovire):b\n",
    "    return {y: ?!?!?! for y, _, _ in ovire}\n",
    "```"
   ]
  },
  {
   "cell_type": "markdown",
   "id": "ea52eb03-9a6a-4080-b393-3215a4660a72",
   "metadata": {
    "editable": true,
    "slideshow": {
     "slide_type": ""
    },
    "tags": []
   },
   "source": [
    "pri čemer bo ?!?!?! že dokončna vrednost, število vseh ovir v podani vrstici.\n",
    "\n",
    "Napisati moramo torej"
   ]
  },
  {
   "cell_type": "code",
   "execution_count": 19,
   "id": "2b1050ca-cc32-45c7-a5b8-7a2b9fdc6405",
   "metadata": {
    "editable": true,
    "slideshow": {
     "slide_type": ""
    },
    "tags": []
   },
   "outputs": [],
   "source": [
    "def stevila_ovir(ovire):\n",
    "    return {y: stevilo_ovir(ovire, y)\n",
    "            for y in ovire}"
   ]
  },
  {
   "cell_type": "markdown",
   "id": "92a95d11-4a2c-4a3d-a005-bad5ba545528",
   "metadata": {
    "editable": true,
    "slideshow": {
     "slide_type": ""
    },
    "tags": []
   },
   "source": [
    "Če funkcije `stevilo_ovir` še ne bi imeli, pa bi število ovir pač izračunali prav tu:"
   ]
  },
  {
   "cell_type": "code",
   "execution_count": 18,
   "id": "7431693f-345b-42c8-980e-1af32c335e02",
   "metadata": {
    "editable": true,
    "slideshow": {
     "slide_type": ""
    },
    "tags": []
   },
   "outputs": [],
   "source": [
    "def stevila_ovir(ovire):\n",
    "    return {y: sum(yo == y for yo, _, _ in ovire)\n",
    "            for y in ovire}"
   ]
  },
  {
   "cell_type": "markdown",
   "id": "db501ae4-dbfb-4bc7-912f-705531144d26",
   "metadata": {
    "editable": true,
    "slideshow": {
     "slide_type": ""
    },
    "tags": []
   },
   "source": [
    "Tu je nerodno, da se to računa za vsako oviro, torej bomo za vsako vrstico tolikokrat šteli ovire, koliko ovir je v tej vrstici. To ne bo vplivalo na končni rezultat, bo pa, seveda, na hitrost. Temu se izognemo tako, da gremo čez množico oviranih vrstic."
   ]
  },
  {
   "cell_type": "code",
   "execution_count": 20,
   "id": "dd6c92c5-85d6-4126-9f7b-9aaf68343657",
   "metadata": {
    "editable": true,
    "slideshow": {
     "slide_type": ""
    },
    "tags": []
   },
   "outputs": [],
   "source": [
    "def stevila_ovir(ovire):\n",
    "    return {y: stevilo_ovir(ovire, y)\n",
    "            for y in ovirane_vrstice(ovire)}"
   ]
  },
  {
   "cell_type": "markdown",
   "id": "e07936ea-8211-4c34-8322-534462b9d790",
   "metadata": {
    "editable": true,
    "slideshow": {
     "slide_type": ""
    },
    "tags": []
   },
   "source": [
    "Ali, če nobene od teh dveh funkcij še ne bi imeli:"
   ]
  },
  {
   "cell_type": "code",
   "execution_count": 21,
   "id": "dbb9951d-6fa8-4013-a01b-09d7c8821f25",
   "metadata": {
    "editable": true,
    "slideshow": {
     "slide_type": ""
    },
    "tags": []
   },
   "outputs": [],
   "source": [
    "def stevila_ovir(ovire):\n",
    "    return {y: sum(yo == y for yo, _, _ in ovire)\n",
    "            for y in {y for y, _, _ in ovire}}"
   ]
  },
  {
   "cell_type": "markdown",
   "id": "aa2a7d4e-b7bc-4e65-b00a-862ce645e3f7",
   "metadata": {
    "editable": true,
    "slideshow": {
     "slide_type": ""
    },
    "tags": []
   },
   "source": [
    "Treba pa je pošteno povedati, da je ta rešitev verjetno počasnejša od prve, tiste z običajno zanko, saj se zanka `for yo, _, _ in ovire` tu izvede tolikokrat, kolikor je zasedenih vrstic."
   ]
  },
  {
   "cell_type": "markdown",
   "id": "ab4f10d1-cb46-4565-bd8b-2f7f78d5c2dd",
   "metadata": {
    "editable": true,
    "slideshow": {
     "slide_type": ""
    },
    "tags": []
   },
   "source": [
    "#### Začetki\n",
    "\n",
    "Tole je ista finta, le da namesto funkcije `stevilo_ovir` iščemo minimume."
   ]
  },
  {
   "cell_type": "code",
   "execution_count": 22,
   "id": "56791944-2f48-4e8f-9632-f64da644efe4",
   "metadata": {
    "editable": true,
    "slideshow": {
     "slide_type": ""
    },
    "tags": []
   },
   "outputs": [],
   "source": [
    "def zacetki(ovire):\n",
    "    return {y: min(x0 for yo, x0, _ in ovire if y == yo)\n",
    "            for y in ovirane_vrstice(ovire)}"
   ]
  },
  {
   "cell_type": "markdown",
   "id": "ed8acbb2-9782-445d-91b7-20412ca4cd63",
   "metadata": {
    "editable": true,
    "slideshow": {
     "slide_type": ""
    },
    "tags": []
   },
   "source": [
    "#### Ovire po vrsticah\n",
    "\n",
    "In tole je spet isto, le da tokrat sestavljamo sezname."
   ]
  },
  {
   "cell_type": "code",
   "execution_count": 23,
   "id": "3cb92cad-2d12-4e29-a98f-a6e1884b9972",
   "metadata": {
    "editable": true,
    "slideshow": {
     "slide_type": ""
    },
    "tags": []
   },
   "outputs": [],
   "source": [
    "def ovire_po_vrsticah(ovire):\n",
    "    return {\n",
    "        y: {(x0, x1) for yo, x0, x1 in ovire if yo == y}\n",
    "        for y in ovirane_vrstice(ovire)}"
   ]
  },
  {
   "cell_type": "markdown",
   "id": "190c437d-5c57-425d-a153-93f85c8bc8b3",
   "metadata": {
    "editable": true,
    "slideshow": {
     "slide_type": ""
    },
    "tags": []
   },
   "source": [
    "Če bi najprej sprogramirali `ovire_po_vrsticah`, ostali dve funkciji izpeljemo iz nje:"
   ]
  },
  {
   "cell_type": "code",
   "execution_count": 25,
   "id": "6d66330c-9131-4200-8fb5-c0f990029b3a",
   "metadata": {
    "editable": true,
    "slideshow": {
     "slide_type": ""
    },
    "tags": []
   },
   "outputs": [],
   "source": [
    "def stevila_ovir(ovire):\n",
    "    return {y: len(x0x1)\n",
    "            for y, x0x1 in ovire_po_vrsticah(ovire).items()}\n",
    "\n",
    "def zacetki(ovire):\n",
    "    return {y: min(x for x, _ in x0x1)\n",
    "            for y, x0x1 in ovire_po_vrsticah(ovire).items()}"
   ]
  }
 ],
 "metadata": {
  "kernelspec": {
   "display_name": "Python 3 (ipykernel)",
   "language": "python",
   "name": "python3"
  },
  "language_info": {
   "codemirror_mode": {
    "name": "ipython",
    "version": 3
   },
   "file_extension": ".py",
   "mimetype": "text/x-python",
   "name": "python",
   "nbconvert_exporter": "python",
   "pygments_lexer": "ipython3",
   "version": "3.12.6"
  }
 },
 "nbformat": 4,
 "nbformat_minor": 5
}
