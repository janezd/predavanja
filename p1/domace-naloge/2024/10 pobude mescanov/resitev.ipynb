{
 "cells": [
  {
   "cell_type": "markdown",
   "id": "45fbdd87-68cb-45d8-908e-8cc48e0ca110",
   "metadata": {},
   "source": [
    "MOL vzdržuje spletno stran [Pobude meščanov](https://pobude.ljubljana.si/). Z namenom zagotavljanja čim resnejših odgovorov na pobude pešcev kolesarjev, je Oddelek za gozdarske dejavnosti in motorni promet vzpostavil hierarhijo in postopek odgovarjanja, ki je takšen:\n",
    "\n",
    "1. Vsako prejeto pobudo zabeležijo in jo dodelijo v obravnavo naključno izbrani osebi iz Oddelka.\n",
    "2. Oseba pobudo temeljito preuči in nato:\n",
    "\n",
    "    - prepusti pobudo v obravnavo kateremu izmed podrejenih (če jih ima). **Ista oseba je lahko podrejena večim osebam!**\n",
    "\t- Druga možnost je, da na pobudo odgovori sama, tako da naključno izbere enega izmed naslednjih štirih odgovorov:\n",
    "\n",
    "\t    - Hvala za komentar.\n",
    "        - Predlagana sprememba ni v načrtu.\n",
    "        - Ureditev bomo reševali celostno.\n",
    "        - Problem bomo preučili in ukrepali skladno s pristojnostmi.\n",
    "\n",
    "Severnokorejski hekerji so nedavno vdrli v prostore Oddelka in jim odtujili dragoceni USB ključek z zapiski delovanja Oddelka ter javno objavili njegovo vsebino. Vsaka vrstica vsebuje \n",
    "- datum, ko se je s pobudo nekaj zgodilo. Zapisan je s številom dni od vzpostavitve spletne strani,\n",
    "- številko pobude,\n",
    "- oznako, da je pobuda prejeta ali pa ime osebe, ki je v zvezi s pobudo na ta dan izvedla bodisi akcijo `\"odgovori\"` bodisi akcijo `\"prepusti\"`.\n",
    "- Akciji sledi dvopičje in nato bodisi odgovor bodisi ime osebe, ki ji je bila pobuda prepuščena.\n",
    "\n",
    "```\n",
    "...\n",
    "[709] Pobuda 108: Angelca prepusti: Cilka\n",
    "[710] Pobuda 124: prejem\n",
    "[711] Pobuda 110: Zofka prepusti: Johanca\n",
    "[715] Pobuda 125: prejem\n",
    "[718] Pobuda 101: Fanči odgovori: Hvala za komentar.\n",
    "[720] Pobuda 115: Zofka prepusti: Johanca\n",
    "[720] Pobuda 126: prejem\n",
    "[724] Pobuda 99: Johanca prepusti: Ema\n",
    "...\n",
    "```\n",
    "\n",
    "Datoteka je urejena kronološko, po naraščajočih časih.\n",
    "\n",
    "Točno obliko si oglejte v priloženi datoteki."
   ]
  },
  {
   "cell_type": "markdown",
   "id": "51084b49-d746-4a77-b129-e65731a17152",
   "metadata": {},
   "source": [
    "## Ocena 6\n",
    "\n",
    "Napiši naslednje funkcije.\n",
    "\n",
    "### `preberi_zapis(s)`\n",
    "\n",
    "- `preberi_zapis(s)` prejme vrstico, kakršne vidite v datoteki, in vrne terko s petimi elementi `(datum, stevilka, akcija, kdo, rezultat)`.\n",
    "\n",
    "    - `datum` in `stevilka` sta števili (`int`)\n",
    "    - `akcija` je `\"prejem\"`, `\"odgovori\"` ali `\"prepusti\"`\n",
    "    - `kdo` je ime osebe, ki je pobudo obravnavala in jo na ta dan prepustila drugemu ali pa odgovorila nanjo; v primeru, da je akcija  `\"prejem\"`, je `kdo` enak `None`\n",
    "    - `rezultat` je ime osebe, ki ji je bila pobuda prepuščena (če je `akcija` enaka `\"prepusti\"`), odgovor (če je akcija `\"odgovori\"`) ali `None` (če je akcija `\"prejem\"`).\n",
    "\n",
    "    Primeri:\n",
    "\n",
    "    - `preberi_zapis(\"[720] Pobuda 126: prejem\")` vrne `(720, 126, \"prejem\", None, None)`.\n",
    "    - `preberi_zapis(\"[725] Pobuda 86: Ema odgovori: Ureditev bomo reševali celostno.\")`\n",
    "      vrne `(725, 86, \"odgovori\", \"Ema\", \"Ureditev bomo reševali celostno.\")`.\n",
    "    - `preberi_zapis(\"[727] Pobuda 114: Zofka prepusti: Johanca\")` vrne `(727, 114, \"prepusti\", \"Zofka\", \"Johanca\")`.\n",
    "\n",
    "#### Rešitev\n",
    "\n",
    "Tole je očitno vaja iz nizov in indeksov. Pravzaprav nekoliko sitna vaja iz nizov in indeksov. :) Ker oboje poznamo že dolgo, jo vzemimo predvsem kot vajo iz dobre organizacije funkcije - takšne, pri kateri se ne bomo izgubili v tem, kje smo, kaj smo že razbrali iz niza in kje je shranjeno.\n",
    "\n",
    "Ob pisanju rešitve (dva tedna po sestavljanju naloge) sem razmišljal, da je to pravzaprav odlična naloga. Dobrega programerja ne spoznaš po tem, kako zvito zna obračati slovarje, temveč po tem, ali bo pravilno in, predvsem, pregledno rešil zoprno vsakdanjo nalogo. Če ti tule napiše packarijo, o kateri lahko rečemo le, da je videti, da deluje ... potem ga mogoče ne potrebujemo.\n",
    "\n",
    "Ena rešitev je lahko takšna:"
   ]
  },
  {
   "cell_type": "code",
   "execution_count": 2,
   "id": "4763862c-3ba9-4ebd-be11-aa5974095031",
   "metadata": {},
   "outputs": [],
   "source": [
    "def preberi_zapis(s):\n",
    "    deli = s.split(\": \")\n",
    "    cas, _, stevilka = deli[0].split()\n",
    "    cas = int(cas[1:-1])\n",
    "    stevilka = int(stevilka)\n",
    "\n",
    "    if deli[1] == \"prejem\":\n",
    "        return (cas, stevilka, \"prejem\", None, None)\n",
    "    else:\n",
    "        kdo, kaj = deli[1].split()\n",
    "        return (cas, stevilka, kaj, kdo, deli[2])"
   ]
  },
  {
   "cell_type": "markdown",
   "id": "813d24c6-d14d-43b2-acaf-da42bd56c47c",
   "metadata": {},
   "source": [
    "Naloga je prijazna v toliko, da so deli vrstice ločeni z dvopičji - enim ali dvema. Začnimo torej s `split(': ')`. Pazite: `\": \"` in ne `\":\"`, saj se tako mimogrede znebimo še presledka.\n",
    "\n",
    "Nato iz prvega dela izločimo čas in številko, saj ju bomo v vsakem primeru potrebovali. To storimo kar s `split()`, pri čemer bomo vedno dobili tri stvari, vendar nas druga ne zanima, zato jo \"shranimo\" kar v spremenljivko z neuglednim (neopaznim) imenom `_`. Od časa odbijemo prvi in zadnji znak, oglate oklepaje in oboje pretvorimo v `int`.\n",
    "\n",
    "Nato preverimo, ali gre z prejem. V tem primeru že vemo, kaj vrniti.\n",
    "\n",
    "Sicer gre za odgovor ali prepuščanje. V vsakem primeru razdelimo drugi del, tisti, ki je med dvopičjema. Tam bo pisalo, kdo je naredil in kaj je naredil. Odgovor, ki ga je dal, ali osebo, ki ji je prepustil pobudo, pa imamo že v zadnjem delu.\n",
    "\n",
    "Rešitev ni preveč grozna, moti me le preobilica indeksov. Podatke raje imenujem kot indeksiram. Morda je boljše tako:"
   ]
  },
  {
   "cell_type": "code",
   "execution_count": 3,
   "id": "48571881-ba37-45ec-8846-b6a3f8e126cb",
   "metadata": {},
   "outputs": [],
   "source": [
    "def preberi_zapis(s):\n",
    "    cas_stevilka, akcija, *rezultat = s.split(\": \")\n",
    "    cas, _, stevilka = cas_stevilka.split()\n",
    "    cas = int(cas[1:-1])\n",
    "    stevilka = int(stevilka)\n",
    "\n",
    "    if akcija == \"prejem\":\n",
    "        return (cas, stevilka, \"prejem\", None, None)\n",
    "    else:\n",
    "        kdo, kaj = akcija.split()\n",
    "        return (cas, stevilka, kaj, kdo, rezultat[0])"
   ]
  },
  {
   "cell_type": "markdown",
   "id": "7351ef63-a3aa-48fd-897d-46138a99d8db",
   "metadata": {},
   "source": [
    "Tale rešitev zahteva, da znamo razpakirati seznam z neznanim številom elementov: `s.split(\": \")` vrne dve ali tri reči. Prirejanje `cas_stevilka, akcija, *rezultat = ...` bo priredil prvo reč imenu `cas_stevilka`, drugo `akcija`, vse ostale pa shranil v terko rezultat.\n",
    "\n",
    "Da se ne bi kdo pritoževal, da vas učim stvari specifične za Python: ideja je popularna v različnih jezikih, samo sintaksa je tu takšna, tam drugačna. Tole je ista reč v JavaScriptu:\n",
    "\n",
    "```js\n",
    "> const [a, b, ...c] = [1, 2, 3, 4, 5]\n",
    "undefined\n",
    "> a\n",
    "1\n",
    "> b\n",
    "2\n",
    "> c\n",
    "[ 3, 4, 5 ]\n",
    "```"
   ]
  },
  {
   "cell_type": "markdown",
   "id": "98c4d796-3b63-47f9-a518-a994d057e849",
   "metadata": {},
   "source": [
    "Naprej gre tako kot prej, le namesto `deli[0]`, `deli[1]` in `deli[2]` uporabljamo jasnejša imena. Kazi le `rezultat[0]` na koncu. Tako pač je: `rezultat` je terka z največ enim elementom. Če koga moti, lahko piše  `return (cas, stevilka, kaj, kdo) + rezultat`, vendar je to slabše, saj bi ob tem morda kdo pomislil celo, da ima `rezultat` lahko več elementov.\n",
    "\n",
    "Naloga za oceno 10 je zahtevala, da uvedemo poimenovano terko `Zapis` in označimo tipe argumentov in rezultata. Storimo tako.\n",
    "\n",
    "Terka `Zapis` bo takšna:"
   ]
  },
  {
   "cell_type": "code",
   "execution_count": 4,
   "id": "08ce6b9a-b1d9-47a8-bd9e-0801c4202468",
   "metadata": {},
   "outputs": [],
   "source": [
    "from typing import NamedTuple\n",
    "\n",
    "class Zapis(NamedTuple):\n",
    "    cas: int\n",
    "    stevilka: int\n",
    "    akcija: str\n",
    "    kdo: str = None\n",
    "    rezultat: str = None"
   ]
  },
  {
   "cell_type": "markdown",
   "id": "15945a08-6af7-49ce-887f-cbc61f68206f",
   "metadata": {},
   "source": [
    "Imena in tipi so takšni, kot zahteva naloga, in zadnji dve lastnosti imata privzeto vrednost `None`. Zdaj jo uporabimo, pa še tip argumenta in rezultata označimo."
   ]
  },
  {
   "cell_type": "code",
   "execution_count": 5,
   "id": "65938f16-5dc9-4140-bdf2-bdd412203f7f",
   "metadata": {},
   "outputs": [],
   "source": [
    "def preberi_zapis(s: str) -> Zapis:\n",
    "    cas_stevilka, akcija, *rezultat = s.split(\": \")\n",
    "    cas, _, stevilka = cas_stevilka.split()\n",
    "    cas = int(cas[1:-1])\n",
    "    stevilka = int(stevilka)\n",
    "\n",
    "    if akcija == \"prejem\":\n",
    "        return Zapis(cas, stevilka, \"prejem\")\n",
    "    else:\n",
    "        kdo, kaj = akcija.split()\n",
    "        return Zapis(cas, stevilka, kaj, kdo, rezultat[0])"
   ]
  },
  {
   "cell_type": "markdown",
   "id": "0761bef3-96b5-4673-87ef-0998a1c7874a",
   "metadata": {},
   "source": [
    "Spremenili smo le prvo vrstico in oba `return`, pri čemer smo v prvem pobrisali `None, None`, ki ju ni potrebno podajati, saj imata privzete vrednosti.\n",
    "\n",
    "Ne bi bilo nepričakovano, da bi se kdo tega lotil reševati z regularnimi izrazi; spoznal in vzljubil jih je v srednji šoli. Študenti jih imajo včasih preradi in jih uporabljajo tudi, kjer si z njimi samo zapletejo življenje. Tule ... no, še kar delajo."
   ]
  },
  {
   "cell_type": "code",
   "execution_count": 8,
   "id": "c5acec98-ccc5-4625-ac6e-8fdfb4aee30f",
   "metadata": {},
   "outputs": [],
   "source": [
    "import re\n",
    "\n",
    "def preberi_zapis(s: str) -> Zapis:\n",
    "    mo = re.match(r\"\\[(\\d+)] Pobuda (\\d+): (\\w+)( (\\w+): (.*))?\", s)\n",
    "    cas, stevilka, ime, _, akcija, rezultat = mo.groups()\n",
    "    cas = int(cas)\n",
    "    stevilka = int(stevilka)\n",
    "    if ime == \"prejem\":\n",
    "        return Zapis(cas, stevilka, \"prejem\")\n",
    "    else:\n",
    "        return Zapis(cas, stevilka, akcija, ime, rezultat)"
   ]
  },
  {
   "cell_type": "markdown",
   "id": "af74235f-af92-4d0a-bd71-8ab1778d1ec2",
   "metadata": {},
   "source": [
    "Vse, kar sledi prvemu `(\\w+)`, ki bo ujel bodisi besedo `prejem` bodisi ime osebe, je opcijska skupina (`( .... )?`). Ker je potrebujemo, jo je v naslednji vrstici pogoltnila spremenljivka `_`. \n",
    "\n",
    "Odvečni skupini bi se bilo mogoče izogniti,\n",
    "\n",
    "```python\n",
    "    mo = re.match(r\"\\[(\\d+)] Pobuda (\\d+): (\\w+) ?(\\w+)?:? ?(.*)?\", s)\n",
    "    cas, stevilka, ime, akcija, rezultat = mo.groups()\n",
    "```\n",
    "\n",
    "vendar smo s tem zapletli regularni izraz. Boljše je imeti dodatno spremenljivko v prirejanju kot zapleten regularni izraz.\n",
    "\n",
    "Sam skupine rad poimenujem."
   ]
  },
  {
   "cell_type": "code",
   "execution_count": 9,
   "id": "48f22b38-a82d-48cc-b07c-f0917e8cc234",
   "metadata": {},
   "outputs": [],
   "source": [
    "def preberi_zapis(s: str) -> Zapis:\n",
    "    mo = re.match(r\"\\[(?P<cas>\\d+)] Pobuda (?P<stevilka>\\d+): (?P<ime>\\w+)( (?P<akcija>\\w+): (?P<rezultat>.*))?\", s)\n",
    "    cas, stevilka, ime, akcija, rezultat = mo.group(\"cas\", \"stevilka\", \"ime\", \"akcija\", \"rezultat\")\n",
    "    cas = int(cas)\n",
    "    stevilka = int(stevilka)\n",
    "    if ime == \"prejem\":\n",
    "        return Zapis(cas, stevilka, \"prejem\")\n",
    "    else:\n",
    "        return Zapis(cas, stevilka, akcija, ime, rezultat)"
   ]
  },
  {
   "cell_type": "markdown",
   "id": "c49b0c0c-0158-4be5-884b-5598d52d123e",
   "metadata": {},
   "source": [
    "Tule pa moram priznati, da poimenovanje le zaplete regularni izraz, torej je boljša različica brez poimenovanja. Predvsem zato, ker tako ali tako potrebujemo vse skupine in njihov vrstni red je jasen."
   ]
  },
  {
   "cell_type": "markdown",
   "id": "2d58e600-6fd3-44e8-9adc-35247f04aa23",
   "metadata": {},
   "source": [
    "### `preveri_dnevnik(ime_datoteke)`\n",
    "\n",
    "- `preberi_dnevnik(ime_datoteke)` prejme ime datoteke in vrne seznam terk, kot jih vrne funkcija `preberi_zapis`. Terke predstavljajo vse vrstice v datoteki v enakem vrstnem redu, kot so v datoteki.\n",
    "\n",
    "#### Rešitev\n",
    "\n",
    "Vsaki vrstici odbijemo odvečni `\\n` in jo prepustimo funkciji `preberi_zapis`, rezultat pa zložimo v seznam. Da ne dolgovezimo, to storimo z izpeljanim seznamom."
   ]
  },
  {
   "cell_type": "code",
   "execution_count": 10,
   "id": "be61a051-4e8f-4d94-95e9-d47e82579392",
   "metadata": {},
   "outputs": [],
   "source": [
    "def preberi_dnevnik(ime_dat):\n",
    "    return [preberi_zapis(s.strip(\"\\n\")) for s in open(ime_dat)]"
   ]
  },
  {
   "cell_type": "markdown",
   "id": "ac7d490e-8f47-4240-9b80-0c7699d01dcf",
   "metadata": {},
   "source": [
    "Za oceno 10 odprimo datoteko z `with`, pa še tipe označimo."
   ]
  },
  {
   "cell_type": "code",
   "execution_count": 11,
   "id": "fa712c02-51cb-4352-819d-918b42504862",
   "metadata": {},
   "outputs": [],
   "source": [
    "def preberi_dnevnik(ime_dat: str) -> list[Zapis]:\n",
    "    with open(ime_dat) as f:\n",
    "        return [preberi_zapis(s.strip(\"\\n\")) for s in f]"
   ]
  },
  {
   "cell_type": "markdown",
   "id": "d6d40f43-9f5e-4825-80da-f1461f1f0c42",
   "metadata": {},
   "source": [
    "### `strni(zapis)`\n",
    "\n",
    "- `strni(zapisi)` prejme seznam terk, kot jih vrne funkcija `preberi_dnevnik`, in vrne seznam, katerega `i`-ti element vsebuje seznam z vsemi terkami, ki se nanašajo na `i`-to pobudo. Terke morajo biti tem iz prejšnjih dveh funkcij, le brez številke pobude. Elementi seznama morajo biti urejeni po naraščajočem datumu.\n",
    "\n",
    "      Ker pobuda s številko 0 ne obstaja, je prvi element seznama enak `None`. Predpostaviti smeš, da se vse druge številke pobud (do zadnje) pojavijo. Ne smeš pa vnaprej predpostaviti števila pobudb v datoteki.\n",
    "\n",
    "      Če pokličemo `strnjeni = strni(preberi_dnevnik(\"dnevnik.txt\"))`, je `strni[101]` enak\n",
    "\n",
    "      ```\n",
    "      [(554, 'prejem', None, None),\n",
    "       (638, 'prepusti', 'Angelca', 'Fanči'),\n",
    "       (718, 'odgovori', 'Fanči', 'Hvala za komentar.')]\n",
    "      ```\n",
    "    \n",
    "      saj je bila pobuda 101 preprosta in je njena obravnava zahtevala le dve osebi (in slabe pol leta).\n",
    "\n",
    "\n",
    "#### Rešitev\n",
    "\n",
    "Glavni izziv je bil pripraviti primerno velik seznam. Ena možnost je, da najprej ugotovimo število pobud, pripravimo seznam z ustreznim številom elementov in ga nato v zanki polnimo.\n",
    "\n",
    "Tole bi bil primer ne preveč spretne rešitve:"
   ]
  },
  {
   "cell_type": "code",
   "execution_count": 13,
   "id": "9fded8be-cbf5-4112-8cd4-6d9911df6b21",
   "metadata": {},
   "outputs": [],
   "source": [
    "def strni(zapisi):\n",
    "    naj_st = 0\n",
    "    for zapis in zapisi:\n",
    "        if zapis[1] > naj_st:\n",
    "            naj_st = zapis[1]\n",
    "            \n",
    "    pobude = [None]\n",
    "    for _ in range(naj_st):\n",
    "        pobude.append([])\n",
    "        \n",
    "    for pobuda in zapisi:\n",
    "        pobude[pobuda[1]].append(pobuda[:1] + pobuda[2:])\n",
    "    return pobude"
   ]
  },
  {
   "cell_type": "markdown",
   "id": "5527d75f-9474-4e31-9c91-5b0da7de9674",
   "metadata": {},
   "source": [
    "V prvem delu ugotovimo največjo številko pobude.\n",
    "\n",
    "V drugem pripravimo seznam: vsebuje `None` in nato toliko praznih seznamov, kolikor je pobud.\n",
    "\n",
    "Nato gremo čez pobude in v seznam z indeksom `pobuda[1]` (številka pobude) dodamo vse elemente terke, ki opisuje pobudo, razen prvega."
   ]
  },
  {
   "cell_type": "markdown",
   "id": "54036aa5-77f1-4dd6-a272-3fba459548af",
   "metadata": {},
   "source": [
    "Malenkost spretnejši zamenja celotni prvi del s klicem `max`:\n",
    "\n",
    "```python\n",
    "    naj_st = max(zapis[1] for zapis in zapisi)\n",
    "```\n",
    "\n",
    "Opogumljen z rezultatom se morda nameri poenostaviti še sestavljanje seznama:\n",
    "\n",
    "```python\n",
    "    pobude = [None] + [[]] * naj_st\n",
    "```\n",
    "\n",
    "Ko to ne deluje, se, upamo, spomni, kaj naredi `[[]] * naj_st`: pripravi seznam, v katerem se `naj_st`-krat ponovi *en in isti* prazni seznam.\n",
    "\n",
    "Seznam, ki vsebuje `None` in potem kup praznih seznamov, se sestavi z\n",
    "\n",
    "```python\n",
    "    pobude = [None] + [[] for _ in range(naj_st)]\n",
    "```"
   ]
  },
  {
   "cell_type": "markdown",
   "id": "b04d741d-47b5-4950-a382-19720aee9084",
   "metadata": {},
   "source": [
    "Glede na to, da tako ali tako potrebujemo zanko za dodajanje seznamov, ne bo škode, če jih dodajamo sproti, po potrebi:"
   ]
  },
  {
   "cell_type": "code",
   "execution_count": 12,
   "id": "3ee42104-5cc4-4eec-b4e7-f8e1f8c915d8",
   "metadata": {},
   "outputs": [],
   "source": [
    "def strni(zapisi):\n",
    "    pobude = [None]\n",
    "    for pobuda in zapisi:\n",
    "        cas, stevilka, ostalo = pobuda[0], pobuda[1], pobuda[2:]\n",
    "        while stevilka >= len(pobude):\n",
    "            pobude.append([])\n",
    "        pobude[stevilka].append((cas, ) + ostalo)\n",
    "    return pobude"
   ]
  },
  {
   "cell_type": "markdown",
   "id": "09af03c3-31e4-4eda-9b4f-9b8a5affa980",
   "metadata": {},
   "source": [
    "Elemente pobude poimenujemo (`cas`, `stevilka`, `ostalo`). Če (oziroma: dokler) je seznam prekratek, ga dopolnimo. Nato pod ustrezno številko dodamo čas in ostale elemente pobude.\n",
    "\n",
    "Nekoliko spretnejši obvlada razpakiranje in pakiranje terk ter naredi tako:"
   ]
  },
  {
   "cell_type": "code",
   "execution_count": 14,
   "id": "6d82c987-b04f-4650-97d9-ada93e914a3e",
   "metadata": {},
   "outputs": [],
   "source": [
    "def strni(zapisi):\n",
    "    pobude = [None]\n",
    "    for cas, stevilka, *ostalo in zapisi:\n",
    "        while stevilka >= len(pobude):\n",
    "            pobude.append([])\n",
    "        pobude[stevilka].append((cas, *ostalo))\n",
    "    return pobude"
   ]
  },
  {
   "cell_type": "markdown",
   "id": "844cd50c-7f9b-4d18-9b52-87ed86caf169",
   "metadata": {},
   "source": [
    "### `casi(zapisi)`\n",
    "\n",
    "- `casi(zapisi)` prejme seznam terk, kot jih vrne funkcija `preberi_dnevnik`, in vrne slovar, katerega ključi so številke pobud, vrednosti pa čas (v dnevih), ki je minil od prejema pobude do odgovora nanjo.\n",
    "\n",
    "#### Rešitev\n",
    "\n",
    "Bistvo te naloge je, da se spomnimo uporabiti funkcijo `strni`, ki nam že lepo združi zapise, ki se nanašajo na isto pobudo."
   ]
  },
  {
   "cell_type": "code",
   "execution_count": 15,
   "id": "1d6a4ad8-a5aa-4517-a82d-0f41e2f1757a",
   "metadata": {},
   "outputs": [],
   "source": [
    "def casi(zapisi):\n",
    "    casi_pobud = {}\n",
    "    for stevilka, zapisi in enumerate(strni(zapisi)[1:], start=1):\n",
    "        casi_pobud[stevilka] = zapisi[-1][0] - zapisi[0][0]\n",
    "    return casi_pobud"
   ]
  },
  {
   "cell_type": "markdown",
   "id": "3f4f3922-1957-422f-b681-56251370f2df",
   "metadata": {},
   "source": [
    "Edini detajl je, da po `strni` nimamo več številk pobud oziroma se te skrivajo v indeksih elementov, torej bomo uporabili `enumerate`. Ker ničta pobuda ni pobuda, preskočimo prvi zapis (`[1:]`) in štejemo od 1 (`start=1`). Kdor tega ne zna, pač piše"
   ]
  },
  {
   "cell_type": "code",
   "execution_count": 16,
   "id": "ba343b9d-626b-4b94-95ec-efee4ec258bf",
   "metadata": {},
   "outputs": [],
   "source": [
    "def casi(zapisi):\n",
    "    casi_pobud = {}\n",
    "    for stevilka, zapisi in enumerate(strni(zapisi)):\n",
    "        if stevilka > 0:\n",
    "            casi_pobud[stevilka] = zapisi[-1][0] - zapisi[0][0]\n",
    "    return casi_pobud"
   ]
  },
  {
   "cell_type": "markdown",
   "id": "93c8c916-8b0b-48f6-aec1-aa60aa4c0e8d",
   "metadata": {},
   "source": [
    "V vsakem primeru nato pogledamo zadnji in prvi zapis, ki se nanaša na to pobudo (`zapisi[-1]` in `zapisi[0]`) ter odštejemo njuna časa.\n",
    "\n",
    "Spretnejši naredi tako:"
   ]
  },
  {
   "cell_type": "code",
   "execution_count": 17,
   "id": "b86de547-a3e5-4a13-96a5-738908cd05e0",
   "metadata": {},
   "outputs": [],
   "source": [
    "def casi(zapisi):\n",
    "    strnjeni = strni(zapisi)[1:]\n",
    "    return {stevilka: zapisi[-1][0] - zapisi[0][0]\n",
    "            for stevilka, zapisi in enumerate(strnjeni, start=1)}"
   ]
  },
  {
   "cell_type": "markdown",
   "id": "b7b0d06f-2f40-4ad1-b34e-9b248f9d16c4",
   "metadata": {},
   "source": [
    "Če bi uporabljal poimenovane terke, bi lahko pisal tudi\n",
    "\n",
    "```python\n",
    "def casi(zapisi):\n",
    "    strnjeni = strni(zapisi)[1:]\n",
    "    return {stevilka: zapisi[-1].cas - zapisi[0].cas\n",
    "            for stevilka, zapisi in enumerate(strnjeni, start=1)}\n",
    "```\n",
    "\n",
    "Žal se nisem spomnil, da bi sestavil teste tako, da bi v primeru, da je študent definiral `Zapis` vedno uporabljali `Zapis` namesto nepoimenovanih terk, zato ta rešitev ne prestane testov, čeprav je seveda pravilna in boljša."
   ]
  },
  {
   "cell_type": "markdown",
   "id": "02b43039-c1fb-43f2-b820-9cd9a3ff97d8",
   "metadata": {},
   "source": [
    "## Ocena 7\n",
    "\n",
    "### `hitro(zapisi, meja)`\n",
    "\n",
    "Za to nalogo se je potrebno le spomniti, da imamo funkcijo `casi`, ki vrne čase. Pravzaprav vrne slovar s številkami pobud in časi, mi pa potrebujemo le čase, torej `.values()`."
   ]
  },
  {
   "cell_type": "code",
   "execution_count": 18,
   "id": "dab18d63-29bb-4694-a6db-12a6961a412b",
   "metadata": {},
   "outputs": [],
   "source": [
    "def hitro(zapisi, meja):\n",
    "    hitri = 0\n",
    "    for cas in casi(zapisi).values():\n",
    "        if cas <= meja:\n",
    "            hitri += 1\n",
    "    return hitri"
   ]
  },
  {
   "cell_type": "markdown",
   "id": "69502971-722c-44d9-b70d-059eb8ca71fa",
   "metadata": {},
   "source": [
    "Preprosteje je s `sum`: spomnimo se, da je `True` (vsaj v Pythonu) isto kot 1."
   ]
  },
  {
   "cell_type": "code",
   "execution_count": 19,
   "id": "7e8a7c9f-9292-4c1e-abb5-e1cbb670855c",
   "metadata": {},
   "outputs": [],
   "source": [
    "def hitro(zapisi, meja):\n",
    "    return sum(cas <= meja for cas in casi(zapisi).values())"
   ]
  },
  {
   "cell_type": "markdown",
   "id": "079d0886-a9d9-4b16-a2c4-3c2382579d32",
   "metadata": {},
   "source": [
    "Za oceno 10 pa še označimo tipe:"
   ]
  },
  {
   "cell_type": "code",
   "execution_count": 20,
   "id": "32b4c26d-1099-4c1c-811e-428869522c12",
   "metadata": {},
   "outputs": [],
   "source": [
    "def hitro(zapisi: list[Zapis], meja: int) -> int:\n",
    "    return sum(cas <= meja for cas in casi(zapisi).values())"
   ]
  },
  {
   "cell_type": "markdown",
   "id": "80f3260b-6abd-42c6-9e9a-d75fa2573d5c",
   "metadata": {},
   "source": [
    "### `najtezji_primer(zapisi)`\n",
    "\n",
    "- `najtezji_primer(zapisi)` vrne številko pobude, ki je bila obravnavana najdlje. Če je takšnih več, vrne poljubno med njimi."
   ]
  },
  {
   "cell_type": "markdown",
   "id": "07b4fcbc-0f38-474e-bbd0-5bf42a7b90a5",
   "metadata": {},
   "source": [
    "#### Rešitev\n",
    "\n",
    "Tole je naloga iz začetkov našega predmeta."
   ]
  },
  {
   "cell_type": "code",
   "execution_count": null,
   "id": "39944388-f0fa-4961-b875-01521fd2df7d",
   "metadata": {},
   "outputs": [],
   "source": [
    "def najtezji_primer(zapisi):\n",
    "    naj_prim = naj_cas = None\n",
    "    for primer, cas in casi(zapisi).items():\n",
    "        if naj_cas is None or cas > naj_cas:\n",
    "            naj_prim, naj_cas = primer, cas\n",
    "    return naj_prim"
   ]
  },
  {
   "cell_type": "markdown",
   "id": "779dba18-7506-4a7c-bc5c-4d709068bee7",
   "metadata": {},
   "source": [
    "Kdor razume trik za iskanje ključa, ki pripada največjemu elementu, napiše"
   ]
  },
  {
   "cell_type": "code",
   "execution_count": 21,
   "id": "a03d69a0-8867-444c-b1be-4261b914b673",
   "metadata": {},
   "outputs": [],
   "source": [
    "def najtezji_primer(zapisi):\n",
    "    c = casi(zapisi)\n",
    "    return max(c, key=c.get)"
   ]
  },
  {
   "cell_type": "markdown",
   "id": "df0793a3-fb9c-4756-ab93-e8a302fa2abf",
   "metadata": {},
   "source": [
    "Ko bomo prišli do naloge za oceno 10, bomo rešili še krajše:\n",
    "\n",
    "```python\n",
    "@s_casi\n",
    "def najtezji_primer(ca):\n",
    "    return max(ca, key=ca.get)\n",
    "```"
   ]
  },
  {
   "cell_type": "markdown",
   "id": "230231ef-0671-4440-911b-042cfdab98a2",
   "metadata": {},
   "source": [
    "### `podrejeni(zapisi)`\n",
    "\n",
    "- `podrejeni(zapisi)` vrne slovar, katerega ključi so imena vse oseb, ki imajo vsaj enega podrejenega, vrednosti pa množice podrejenih. Da je neka oseba podrejena drugi, sklepamo po tem, da je od nje vsaj enkrat dobila v obravnavo neko pobudo.\n",
    "\n",
    "    Naj vas ne začudi: Oddelek za gozdarske dejavnosti in motorni promet je sofisticiran, zato ima lahko vsaka oseba več nadrejenih. Nikoli pa ne pride do kroga, ko bi bila neka oseba (posredno) podrejena sama sebi.\n",
    "\n",
    "#### Rešitev\n",
    "\n",
    "Ta naloga je preprosta, samo pomisliti je potrebno, kaj hoče od nas."
   ]
  },
  {
   "cell_type": "code",
   "execution_count": 22,
   "id": "d5f59dc5-8b96-481e-aad7-d66af46f2209",
   "metadata": {},
   "outputs": [],
   "source": [
    "def podrejeni(zapisi: list[Zapis]) -> dict[str, set[str]]:\n",
    "    pod = defaultdict(set)\n",
    "    for *_, akcija, kdo, kaj in zapisi:\n",
    "        if akcija == \"prepusti\":\n",
    "            pod[kdo].add(kaj)\n",
    "    return pod"
   ]
  },
  {
   "cell_type": "markdown",
   "id": "3467bcd9-e24f-46d3-9fef-cb5a82f68ba0",
   "metadata": {},
   "source": [
    "Mimogrede smo že označili tudi tipe, kot zahteva ocena 10. Predvsem je zanimiv rezultat: gre za `dict`, katerega ključi so `str`, vrednosti pa `set` `str`-jev."
   ]
  },
  {
   "cell_type": "markdown",
   "id": "c7fbbbdd-c1ab-46e0-9682-746d6b88a4ce",
   "metadata": {},
   "source": [
    "## Ocena 8\n",
    "\n",
    "### `razmerje(zapisi)`\n",
    "\n",
    "- `razmerje(zapisi)` vrne slovar, katerega ključi so imena vseh oseb, vrednosti pa delež ponudb, ki jih je ta oseba obravnavala in nanje odgovorila sama. Če bi Cilka odgovorila na 7 pobud, 13 pa prepustila drugim, bi bil njen delež 0.35 (7 / 20).\n",
    "\n",
    "#### Rešitev\n",
    "\n",
    "Ni znanost: preštejemo število pobud, ki jih je dobila oseba v roke in, ločeno, število teh, na katere je odgovorila. Na koncu v nov slovar zložimo kvociente. Ker v slovarju ni nikogar, ki ne bi dobil v roke vsaj ene pobude (kako bi prišel vanj?!), se nam tu ni bati deljenja z 0."
   ]
  },
  {
   "cell_type": "code",
   "execution_count": 23,
   "id": "93a23834-6040-4535-95e9-e579aa1a1b71",
   "metadata": {},
   "outputs": [],
   "source": [
    "def razmerje(zapisi):\n",
    "    resil = defaultdict(int)\n",
    "    vseh = defaultdict(int)\n",
    "    for zapis in zapisi:\n",
    "        _, _, akcija, kdo, _ = zapis\n",
    "        if akcija == \"odgovori\":\n",
    "            resil[kdo] += 1\n",
    "        vseh[kdo] += 1\n",
    "    del vseh[None]\n",
    "    return {ime: resil[ime] / n for ime, n in vseh.items()}"
   ]
  },
  {
   "cell_type": "markdown",
   "id": "3e76ed2c-a99f-4a3f-a911-6e50eda39878",
   "metadata": {},
   "source": [
    "Zanimivo je, kako smo se rešili zapisov, ki se nanašajo na prejem pobude. Tam je `kdo` enak `None`. Namesto da bi to filtrirali znotraj zanke, mirno štejemo `None` kot zaposlenega na MOL in se ga znebimo šele po zanki, s preprostim `del vseh[None]`."
   ]
  },
  {
   "cell_type": "markdown",
   "id": "1c993887-7e6d-4034-bb38-05c59bbf4b56",
   "metadata": {},
   "source": [
    "### `natancnost(zapisi)`\n",
    "\n",
    "- `natancnost(zapisi)` vrne slovar, katerega ključi so imena oseb, vrednosti pa povprečni čas, ki ga je oseba porabila od prejema pobude do odgovora oz. prepustitve podrejenemu. \n",
    "\n",
    "    Za pobudo 101 obstajajo naslednji zapisi:\n",
    "\n",
    "    ```\n",
    "    [554] Pobuda 101: prejem\n",
    "    [638] Pobuda 101: Angelca prepusti: Fanči\n",
    "    [718] Pobuda 101: Fanči odgovori: Hvala za komentar.\n",
    "    ```\n",
    "\n",
    "    To pomeni, da jo je Angelca obravnavala 638 - 554 = 84 dni, Fanči pa 718 - 638 = 80 dni.\n",
    "\n",
    "#### Rešitev\n",
    "\n",
    "Tu moramo pomisliti, v kakšni obliki potrebujemo podatke. Vedeti želimo, koliko časa je minilo med tem, ko je oseba dobila pobudo v obravnavo in ukrepala v zvezi z njo. Da lahko to učinkovito izračunamo, bomo nujno potrebovali strnjene pobude."
   ]
  },
  {
   "cell_type": "code",
   "execution_count": 24,
   "id": "f2140c10-e34a-4874-b38a-6489f511ab20",
   "metadata": {},
   "outputs": [],
   "source": [
    "def natancnost(zapisi):\n",
    "    casi_resevanja = defaultdict(list)\n",
    "    for pobuda in strni(zapisi)[1:]:\n",
    "        for (cas1, *_), (cas2, _, kdo, _) in pairwise(pobuda):\n",
    "            casi_resevanja[kdo].append(cas2 - cas1)\n",
    "    return {ime: sum(care) / len(care) for ime, care in casi_resevanja.items()}"
   ]
  },
  {
   "cell_type": "markdown",
   "id": "9fb7475a-6fec-49df-b977-bcf611d10e11",
   "metadata": {},
   "source": [
    "Tule je `pobuda` seznam vseh zapisov, povezanih s to pobudo. S `pairwise(pobuda)` naberemo zaporedne pare zapisov. V obeh nas zanima čas (`cas1`, `cas2`). V drugi nas zanima še, `kdo` je oseba, ki je ob `cas2` nekaj naredila v zvezi s to pobudo. Vse ostale podatke pomečemo v `_`.\n",
    "\n",
    "Slovar `casi_resevanja` bo za vsako osebo (ključ) hranil seznam časov, ki jih je ta oseba porabila za reševanja pobud. V zanki torej dodamo v `casi_resevanja[kdo]` čas, ki ga je porabila za to pobudo.\n",
    "\n",
    "Na koncu sestavimo, kar zahteva naloga: slovar, katerega ključi so imena oseb, vrednosti pa pripadajoči povprečni `ca`si `re`sevanja, `sum(care) / len(care)`."
   ]
  },
  {
   "cell_type": "markdown",
   "id": "0462c224-82c8-4789-8ccc-91b70eafe790",
   "metadata": {},
   "source": [
    "### `kvaliteta(zapisi)`\n",
    "\n",
    "- `kvaliteta(zapisi)` vrne seznam oseb, urejen glede povprečni čas, ki ga porabijo za obravnavo, **začenši s tistimi, ki so najvestnejši in za obravnavo porabijo največ. Če ima več oseb enak čas, naj bodo urejene po abecedi.**\n",
    "\n",
    "#### Rešitev\n",
    "\n",
    "Težava te naloge je v mastnem tisku. Čase želimo urediti padajoče, imena naraščajoče (po abecedi).\n",
    "\n",
    "Osnovna rešitev je, da vse osebe razmečemo po \"predalih\" - slovarjih, katerega ključi so časi reševanja, vrednosti pa seznami oseb, ki so porabile takšen čas. Nato gremo po padajočih vrednostih ključev in v seznam, ki ga bomo vrnili, dodajamo urejene sezname oseb v teh predalih. Uh, tole bo preprosteje povedati v Pythonu. :)"
   ]
  },
  {
   "cell_type": "code",
   "execution_count": 26,
   "id": "5099a9f0-1acb-4b20-9685-885c63aa8e3d",
   "metadata": {},
   "outputs": [],
   "source": [
    "def kvaliteta(zapisi):\n",
    "    predali = defaultdict(list)\n",
    "    for kdo, nat in natancnost(zapisi).items():\n",
    "        predali[nat].append(kdo)\n",
    "        \n",
    "    kvalitete = []\n",
    "    for nat in sorted(predali, reverse=True):\n",
    "        kvalitete.extend(sorted(predali[nat]))\n",
    "    return kvalitete"
   ]
  },
  {
   "cell_type": "markdown",
   "id": "c0a0eef8-b0a7-4f9c-aca2-fb0eb96b3a1b",
   "metadata": {},
   "source": [
    "Krajša rešitev uporabi trik: sestavi seznam terk `(-natancnost, ime)`. `-natancnost` bo negativna vrednost časa, ki ga v povprečju porabi oseba. Nato ta seznam uredimo. Tisti, ki so bolj natančni, bodo imeli bolj negativno vrednost, zato bodo v seznamu prej. Te z enako natančnostjo bo uredil po drugem elementu seznama, imenu."
   ]
  },
  {
   "cell_type": "code",
   "execution_count": 27,
   "id": "8a896c95-6564-4361-ab41-92591e82cd84",
   "metadata": {},
   "outputs": [],
   "source": [
    "def kvaliteta(zapisi):\n",
    "    kvalitete = [(-nat, ime) for ime, nat in natancnost(zapisi).items()]\n",
    "    kvalitete.sort()\n",
    "    return [ime for _, ime in kvalitete]"
   ]
  },
  {
   "cell_type": "markdown",
   "id": "e9c14c7d-1cb6-4096-966a-4d5da0b9a81c",
   "metadata": {},
   "source": [
    "Kdor želi izpasti zvit, piše"
   ]
  },
  {
   "cell_type": "code",
   "execution_count": 28,
   "id": "9bf2d481-7804-41ec-88fa-10f91dc1e190",
   "metadata": {},
   "outputs": [],
   "source": [
    "def kvaliteta(zapisi):\n",
    "    return [ime\n",
    "            for _, ime in sorted((-nat, ime)\n",
    "                                 for ime, nat in natancnost(zapisi).items())]"
   ]
  },
  {
   "cell_type": "markdown",
   "id": "bd0c341f-b15a-4377-89d1-94b88230517d",
   "metadata": {},
   "source": [
    "Kdor se želi izogniti dodatnemu seznamu, uporabi lambdo."
   ]
  },
  {
   "cell_type": "code",
   "execution_count": 29,
   "id": "c0749233-d8ae-459a-945f-56d05849c002",
   "metadata": {},
   "outputs": [],
   "source": [
    "def kvaliteta(zapisi):\n",
    "    return [k for k, _ in sorted(\n",
    "        natancnost(zapisi).items(),\n",
    "        key=lambda it: (-it[1], it[0]))]"
   ]
  },
  {
   "cell_type": "markdown",
   "id": "3cade36c-b293-4414-be6d-dc30c569fe2a",
   "metadata": {},
   "source": [
    "## Ocena 9\n",
    "\n",
    "### `neustvarjalni(zapisi)`\n",
    "\n",
    "- `neustvarjalni(zapisi)`: notranja revizija je pokazala, da nekateri svojega dela ne jemljejo resno in na vse pobude odgovorijo enako, namesto da bi izžrebali naključni odgovor. Funkcija `neustvarjalni` naj vrne slovar, katerega ključi so imena teh lenuhov, vrednosti pa njihov (edini) odgovor na pobude.\n",
    "\n",
    "#### Rešitev\n",
    "\n",
    "Gremo čez zapise in pripravimo slovar, katerega ključi so imena oseba, vrednosti pa množice vseh odgovorov, ki jih je dajala ta oseba. (V \"množice\" je bistvo te naloge: spomniti se moramo, da je to najpreprostejši način za pridobivanje unikatnih elementov. Pišoč ta komentar mi je prišlo na misel, da bi lahko tole domačo nalogo uporabili tudi pri predmetu s področja podatkovnih baz. :)\n",
    "\n",
    "Nato sestavimo slovar, katerega ključi so imena oseb in njihovi odgovori ... za vse osebe, katerih število različnih odgovorov je enako 1."
   ]
  },
  {
   "cell_type": "code",
   "execution_count": 30,
   "id": "33d1cc8a-06ab-4ef1-a5b7-60c5af64db42",
   "metadata": {},
   "outputs": [],
   "source": [
    "def neustvarjalni(zapisi):\n",
    "    odgovori = defaultdict(set)\n",
    "    for _, _, akcija, kdo, kaj in zapisi:\n",
    "        if akcija == \"odgovori\":\n",
    "            odgovori[kdo].add(kaj)\n",
    "            \n",
    "    return {ime: odg.pop() for ime, odg in odgovori.items() if len(odg) == 1}"
   ]
  },
  {
   "cell_type": "markdown",
   "id": "461679c5-aacc-43b0-8ba4-90423742b103",
   "metadata": {},
   "source": [
    "Zanimivost je `odg.pop()`: to je najpreprostejši način, da iz množice izbezamo njen edini element - če nam je seveda vseeno, da množico pri tem \"pokvarimo\". In tu nam je."
   ]
  },
  {
   "cell_type": "markdown",
   "id": "8931ae6d-4c5e-4733-805f-8819620540a4",
   "metadata": {},
   "source": [
    "### `pot_med(hierarhija, oseba1, oseba2)`\n",
    "\n",
    "- `pot_med(zapisi, oseba1, oseba2)`: če je `oseba2` posredno ali neposredno podrejena osebi `oseba1`, funkcija vrne seznam oseb na poti od `oseba1` do `oseba2`. Če ni tako, vrne `None`.\n",
    "\n",
    "    Če bi na MOL delala Adamova rodbina, bi klic `pot_med(rodbina, \"Adam\", \"Herman\")` vrnil `[\"Adam\", \"Daniel\", \"Hans\", \"Herman\"]`.\n",
    "\n",
    "#### Rešitev\n",
    "\n",
    "Jej, končno naloga iz rekurzije!"
   ]
  },
  {
   "cell_type": "code",
   "execution_count": 32,
   "id": "53df86c4-836a-4088-b676-0f3c33b02043",
   "metadata": {},
   "outputs": [],
   "source": [
    "from typing import Optional\n",
    "\n",
    "def pot_med(hierarhija: dict[str, set[str]], oseba1: str, oseba2: str) -> Optional[list[str]]:\n",
    "    if oseba1 == oseba2:\n",
    "        return [oseba1]\n",
    "    for podrejeni in hierarhija.get(oseba1, []):\n",
    "        pot = pot_med(hierarhija, podrejeni, oseba2)\n",
    "        if pot:\n",
    "            return [oseba1] + pot\n",
    "    return None"
   ]
  },
  {
   "cell_type": "markdown",
   "id": "074cbf4b-05b3-46a2-ba46-1809ea54c1e8",
   "metadata": {},
   "source": [
    "Če gre za eno in isto osebo (`oseba1 == oseba2`), je pot pač `[oseba1]`.\n",
    "\n",
    "Sicer gremo po vseh podrejenih osebe1 in se pozanimamo za pot od njih do osebe2. Če ta obstaja, je pot od osebe1 do osebe2 enaka tej poti, le še oseba1 pripnemo na začetek. Če ni, nadaljujemo z naslednjim podrejenim. Podrejene dobimo z `hierarhija.get(oseba1, [])`: oseba morda nima podrejenih; v tem primeru je ni v slovarju `hierarhija`, zato priskrbimo privzeti seznam podrejenih - prazen seznam, `[]`.\n",
    "\n",
    "Če iskanje prek podrejenih ne obrodi sadov, vrnemo `None`."
   ]
  },
  {
   "cell_type": "markdown",
   "id": "6c5196a4-2e91-4db5-be0d-d63b5e7a0389",
   "metadata": {},
   "source": [
    "Naloga za oceno 10 je zahtevala označevanje tipov, zato da ste morali enkrat uporabiti še `Optional` (ali `Union`, kar želite). Funkcija namreč lahko vrne seznam nizov, `list[str]` ali pa nič."
   ]
  },
  {
   "cell_type": "markdown",
   "id": "b5856ff8-1d78-46b5-9134-38ed64bd3f6b",
   "metadata": {},
   "source": [
    "### `nivoji(hierarhija, oseba)`\n",
    "\n",
    "- `nivoji(hierarhija, oseba)` vrne slovar, katerega ključi so vse osebe, ki so podrejene podani osebi, pripadajoče vrednosti pa število korakov od podane osebe do te osebe. **Če je do te osebe možnih več poti, mora ključ predstavljati dolžino najkrajše poti.**\n",
    "\n",
    "    ```\n",
    "    hierarhija =\n",
    "        a: {b, c},\n",
    "        b: {c, d, e},\n",
    "        d: {e},\n",
    "    }\n",
    "    ```\n",
    " \n",
    "    Klic `nivoji(hierarhija, \"a\")` vrne `{\"b\": 1, \"c\": 1, \"d\": 2, \"e\": 2}`. Od `a` do `e` obstajata dve poti `a -> b -> d -> e` in `a -> b -> e`. Funkcija vrne 2, ker je to dolžina krajše poti.\n",
    "\n",
    "#### Rešitev\n",
    "\n",
    "Jej, še ena naloga iz rekurzije. Mogoče.\n",
    "\n",
    "Vse podrejene vprašamo za slovarje nivojev pod njimi. Te slovarje združujemo: ko pridobimo slovar vsakega podrejenega, za vsako ime preverimo, ali ga še nimamo v slovarju ali pa ga imamo, vendar z višjim nivojem, kot ga ponuja ta podrejeni. Če je kaj od tega res, v slovar dodamo (oziroma spremenimo) nivo za to osebo. Enak je nivoju, ki ga ima do te osebe podrejeni in še 1 zraven, saj je podrejeni za en nivo nižje."
   ]
  },
  {
   "cell_type": "code",
   "execution_count": 33,
   "id": "cfc3ac9b-8bf3-4803-b060-cea01b5818d5",
   "metadata": {},
   "outputs": [],
   "source": [
    "def nivoji(hierarhija: dict[str, set[str]], oseba: str) -> dict[str, int]:\n",
    "    nivo = {oseba: 0}\n",
    "    for podrejeni in hierarhija.get(oseba, []):\n",
    "        for ime, n in nivoji(hierarhija, podrejeni).items():\n",
    "            if ime not in nivo or nivo[ime] > n + 1:\n",
    "                nivo[ime] = n + 1\n",
    "    return nivo"
   ]
  },
  {
   "cell_type": "markdown",
   "id": "f143c42a-cf53-47e1-b9e8-5ee0d5b882fb",
   "metadata": {},
   "source": [
    "Slabost te rešitve je, da je časovno potratna: če je do določene osebe možno priti na več načinov, bomo funkcijo za to osebo poklicali večkrat. In vemo, kam lahko to pripelje. Temu se lahko izognemo z memoizacijo ali pa tako, da namesto rekurzivne rešitve napišemo rešitev z *iskanjem v širino*:"
   ]
  },
  {
   "cell_type": "code",
   "execution_count": 35,
   "id": "cb3466b1-7c0d-4a1a-a14c-fb81e0f89edf",
   "metadata": {},
   "outputs": [],
   "source": [
    "def nivoji(hierarhija: dict[str, set[str]], oseba: str) -> dict[str, int]:\n",
    "    nivo = {}\n",
    "    preveriti = [(oseba, 0)]\n",
    "    for ime, n in preveriti:\n",
    "        if ime not in nivo:\n",
    "            nivo[ime] = n\n",
    "            preveriti += ((pod, n + 1) for pod in hierarhija.get(ime, []))\n",
    "    return nivo"
   ]
  },
  {
   "cell_type": "markdown",
   "id": "e2c6046d-e4fe-403a-aae9-57226dc0df91",
   "metadata": {},
   "source": [
    "Ta postopek boste podrobno spoznavali pri predmetih s področja algoritmov. Tule povejmo le, da hierarhijo pregleduje po nivojih: osebe, ki so bližje podani `oseba`, pridejo na vrsto prej, zato nam ni potrebno preverjati, ali se oseba s tem imenom že nahaja v slovarju, vendar z večjim nivojem. Še več, če se oseba že nahaja v slovarju, vemo, da smo nanjo naleteli že prej, nivo je bil manjši, zato smemo ignorirati to osebo kot tudi vse njene podrejene, saj so bili v seznam `preveriti` dodane že prej."
   ]
  },
  {
   "cell_type": "markdown",
   "id": "0bf98bf5-bb67-4f45-8484-f588ea4c683c",
   "metadata": {},
   "source": [
    "## Ocena 10\n",
    "\n",
    "Poglej ustrezne zapiske oz. videe v [Božični priboljški](/course/section.php?id=7544).\n",
    "\n",
    "- Poskrbi, da bo funkcija `preberi_dnevnik` datoteko odprla v bloku `with`.\n",
    "- Za shranjevanje zapisov namesto terk uporabljaj poimenovane terke (`NamedTuple`) s polji `datum`, `stevilka`, `akcija`, `kdo`, `rezultat`. Ime podatkovnega tipa naj bo `Zapis`. Zadnja dva elementa naj imata privzeto vrednost `None`. (Ker je poimenovana terka še vedno terka, bo dovolj uvesti razred in spremeniti eno samo funkcijo.)\n",
    "- Nekatere funkcije, ki prejmejo argument `zapisi`, bi v resnici lahko prejele kar vrača funkcija `casi`. Tvoja funkcija `najtezji_primer` se skoraj gotovo začne z\n",
    "\n",
    "   ```python\n",
    "   def najtezji_primer(zapisi):\n",
    "       casi_zapisov = casi(zapisi)\n",
    "        ... # in potem delaš s casi_zapisov\n",
    "   ```\n",
    "\n",
    "   Pripravi dekorator `s_casi`, ki ti bo omogočil to funkcijo spremeniti v\n",
    "\n",
    "    ```python\n",
    "    @s_casi\n",
    "    def najtezji_primer(casi_zapisov):\n",
    "        ...  # in potem delaš s casi_zapisov\n",
    "    ```\n",
    "\n",
    "    Testi jo bodo seveda še vedno klicali s seznamom terk, dekorator pa poskrbi, da bo dobila argument v pravi obliki.\n",
    "\n",
    "    Dekorator ustrezno uporabi v funkciji `najtezji_primer` in drugih, kjer je to primerno.\n",
    "\n",
    "- Označi tipe argumentov in rezultatov funkcij `hitro`, `podrejeni`, `pot_med` in `nivoji`.\n",
    "\n",
    "### Rešitev\n",
    "\n",
    "Vse smo že postorili, le dekorator nam še manjka. Preprost je."
   ]
  },
  {
   "cell_type": "code",
   "execution_count": 37,
   "id": "68288d3a-cc41-48bd-8f9a-f5931c66e386",
   "metadata": {},
   "outputs": [],
   "source": [
    "def s_casi(f):\n",
    "    def ovita(zapisi):\n",
    "        return f(casi(zapisi))\n",
    "    return ovita"
   ]
  },
  {
   "cell_type": "markdown",
   "id": "a76c387a-7088-40a6-b3d2-bf95ebd0f35e",
   "metadata": {},
   "source": [
    "Če bi želeli biti natančni, bi pisali"
   ]
  },
  {
   "cell_type": "code",
   "execution_count": 38,
   "id": "2f7cc849-88f1-4c98-838e-4e00d8f7d187",
   "metadata": {},
   "outputs": [],
   "source": [
    "from functools import wraps\n",
    "\n",
    "def s_casi(f):\n",
    "    @wraps(f)\n",
    "    def ovita(zapisi):\n",
    "        return f(casi(zapisi))\n",
    "    return ovita"
   ]
  },
  {
   "cell_type": "markdown",
   "id": "aa4cfa4d-1a9d-42a5-86b4-cad226257174",
   "metadata": {},
   "source": [
    "[`wraps`](https://docs.python.org/3/library/functools.html#functools.wraps) je dekorator, ki poskrbi, da je `ovita` videti tako, kot je bila podana funkcija `f`: njeno ime postane `ovita`, popravi tudi imena njenih argumentov in oznake tipov, da se le-ti ne izgubijo ob dekoriranju."
   ]
  }
 ],
 "metadata": {
  "kernelspec": {
   "display_name": "Python 3 (ipykernel)",
   "language": "python",
   "name": "python3"
  },
  "language_info": {
   "codemirror_mode": {
    "name": "ipython",
    "version": 3
   },
   "file_extension": ".py",
   "mimetype": "text/x-python",
   "name": "python",
   "nbconvert_exporter": "python",
   "pygments_lexer": "ipython3",
   "version": "3.12.7"
  }
 },
 "nbformat": 4,
 "nbformat_minor": 5
}
