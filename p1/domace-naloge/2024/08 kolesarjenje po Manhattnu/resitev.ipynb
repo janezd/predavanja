{
 "cells": [
  {
   "cell_type": "markdown",
   "id": "e93ff6e3-0908-4faa-9385-b888135fd361",
   "metadata": {},
   "source": [
    "<style>\n",
    "ol li { margin-bottom: 12px }\n",
    "ol li p { margin-bottom: 4px}\n",
    "</style>\n",
    "\n",
    "## Kolesarjenje po Manhattnu\n",
    "\n",
    "Niso pa, o nikakor, vsa mesta tako srečna kot Ljubljana. Tule je primer iz New Yorka, konkretno, Manhattna. Kolesarske steze so kratke, predvsem pa pravokotne ena na drugo in zato neprijetna zaradi ostrih zavojev. (Disclaimer: avtor naloge je bil nazadnje v New Yorku pred dvajsetimi leti in, iskreno, nima pojma. Prav gotovo pa kolesarjem v New Yorku ni tako prijetno kot v Ljubljani. Gospa Angelca je ena sama.)\n",
    "\n",
    "**Ta naloga se ocenjuje, zato vam ne sme manjkati.** Za nalogo za določeno oceno je potrebno pravilno rešiti tudi vse naloge za nižjo oceno.\n",
    "\n",
    "V nalogi bomo delali s povezavami in mrežami.\n",
    "\n",
    "- **Povezava** je podana s četverko `(x0, y0, x1, y1)`, kjer `(x0, y0)` predstavljata koordinato enega in `(x1, y1)` koordinato drugega krajišča. Vrstni red je poljuben in nepomemben: `(x0, y0, x1, y1)` in `(x1, y1, x0, y0)` sta ena in ista povezava. Koordinate x tečejo od leve proti desni, y tečejo od zgoraj navzdol. Vse koordinate so cela števila.\n",
    "- **Mreža** pa bode slovar, katerega ključi so pari povezav (torej pari četvork, kot smo jih opisali zgoraj), ki se sekajo, pripadajoča vrednost pa je točka, v kateri se povezavi sekata. Eden od ključev je, recimo `((13, 15, 13, 16), (13, 16, 21, 16))`, pripadajoča vrednost pa je `(13, 16)`, saj se povezavi `(13, 15, 13, 16)` in `(13, 16, 21, 16)` sekata v točki `(13, 16)`. **Povezave v ključih so urejene:** v vsaki povezavi je prva točka, `x0, y0` levo oz. višje od druge, in prva povezava se začne levo od druge, če imata obe enako prvo koordinato, pa se prva povezava začne višje od druge.\n",
    "\n",
    "Povezava so vedno zapisane tako, da se ne \"nadaljujejo\". V podatkih ne boste nikoli našli povezav `(10, 5, 16, 5)` in `(16, 5, 20 5)`, temveč bo to opisano kot ena sama povezava `(10, 5, 20, 5)`. Prav tako se povezave ne prekrivajo.\n",
    "\n",
    "Zemljevid povezav v večini testnih primerov je takšen."
   ]
  },
  {
   "cell_type": "markdown",
   "id": "0304d76e-da79-49f3-9739-223776cf8ca7",
   "metadata": {},
   "source": [
    "<img src=\"data:image/.png;base64,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\"/>"
   ]
  },
  {
   "cell_type": "markdown",
   "id": "0d484377-d8e9-41a6-82a9-a29e158f82be",
   "metadata": {},
   "source": [
    "Predstavljen je s seznamom\n",
    "\n",
    "```python\n",
    "povezave = [\n",
    "    (11, 10, 13, 10),\n",
    "\n",
    "    (2, 12, 8, 12),\n",
    "    (6, 11, 6, 13),\n",
    "\n",
    "    (0, 16, 10, 16),\n",
    "    (3, 18, 3, 13),\n",
    "    (7, 14, 3, 14),\n",
    "    (9, 17, 9, 14),\n",
    "\n",
    "... in tako naprej\n",
    "```\n",
    "\n",
    "\n",
    "Z izjemo prvih dveh nalog, bodo povezave vedno pravilne, torej navpične ali vodoravne in dolge vsaj 1."
   ]
  },
  {
   "cell_type": "markdown",
   "id": "e04cfd11-e8b0-4181-ae61-8eb3b0bf542d",
   "metadata": {},
   "source": [
    "## Ocena 6\n",
    "\n",
    "### `pravilna(povezava)`\n",
    "\n",
    "- `pravilna(povezava)` dobi kot argument četverko `(x0, y0, x1, y1)` in mora vrniti `True`, če četverka predstavlja pravilno povezavo, in `False` če ne. Povezava je pravilna, če je vodoravna ali navpična in njena dolžina ni 0.\n",
    "\n",
    "    - Klica `pravilna((18, 5, 13, 5))` in `pravilna((5, 18, 5, 13))` vrneta `True`, saj gre za vodoravno oz. navpično povezavo.\n",
    "    - Klic `pravilna((10, 18, 12, 4))` vrne `False`, ker je povezave poševna.\n",
    "    - Klic `pravilna((10, 18, 10, 18))` vrne `False`, ker je povezava dolga `0`."
   ]
  },
  {
   "cell_type": "markdown",
   "id": "4be6465a-d8c6-422c-b529-967c49b740b7",
   "metadata": {},
   "source": [
    "#### Rešitev\n",
    "\n",
    "Povezava je pravilna, če velja `x0 == x1` ali `y0 == y1`, ne pa oboje.\n",
    "\n",
    "Začetnik napiše - in kdo bi mu lahko kaj očital - takole."
   ]
  },
  {
   "cell_type": "code",
   "execution_count": 5,
   "id": "2a387463-3a3a-4514-9637-f02444b77cc0",
   "metadata": {},
   "outputs": [],
   "source": [
    "def pravilna(povezava):\n",
    "    return povezava[0] == povezava[2] and povezava[1] != povezava[3] or povezave[0] != povezave[2] and povezava[1] == povezava[3]"
   ]
  },
  {
   "cell_type": "markdown",
   "id": "5f39b0a7-f0d4-4182-b287-887f99d6a39a",
   "metadata": {},
   "source": [
    "Preudarnejši, previdnejši kajpa ve, da se človek v indeksih prerad izgubi, zato povezavo razpakira v lepo poimenovane spremenljivke."
   ]
  },
  {
   "cell_type": "code",
   "execution_count": 4,
   "id": "8924d030-ffd7-4e1b-aa2a-c6f2ed7afe89",
   "metadata": {},
   "outputs": [],
   "source": [
    "def pravilna(povezava):\n",
    "    x0, x1, y0, y1 = povezava\n",
    "    return x0 == x1 and y0 != y1 or x0 != x1 and y0 == y1"
   ]
  },
  {
   "cell_type": "markdown",
   "id": "bed87586-7406-4502-a353-542246cab2c8",
   "metadata": {},
   "source": [
    "In še nekaj doda. Čeprav je to čisto pravilno, združi dele izraza z oklepaji, da bo jasneje, kaj hoče povedati."
   ]
  },
  {
   "cell_type": "code",
   "execution_count": 6,
   "id": "e53dd58f-c7e0-42b7-9352-cf8fab5a78fb",
   "metadata": {},
   "outputs": [],
   "source": [
    "def pravilna(povezava):\n",
    "    x0, x1, y0, y1 = povezava\n",
    "    return (x0 == x1 and y0 != y1) or (x0 != x1 and y0 == y1)"
   ]
  },
  {
   "cell_type": "markdown",
   "id": "c0d369cf-1726-4986-8273-d67909019e7a",
   "metadata": {},
   "source": [
    "Med študenti je zaznati, da funkcij ne jemljejo kot \"podatek\" (narekovaji so tu na mestu zato, ker bi bilo bolj prav reči \"objekt\", vendar naj tu pravilnost odstopi prostor jasnosti). Nenavadno jim je, da bi funkcijo lahko \"shranili v spremenljivko\", naredili seznam funkcij, podali funkcijo kot argument funkciji ali pa funkcijo vrnili kot rezultat funkcije. To je razumljivo: dojemati funkcijo kot podatek zahteva miselni preskok.\n",
    "\n",
    "Bolj zanimivo je, da študenti tudi rezultata logičnega izraza, na primer `x0 == x1`, ne jemljejo kot \"podatek\". Čeprav je. Rezultat `x0 == x1` je bodisi `True` bodisi `False`, in to je vrednost, kot katerakoli druga. Z njo lahko počnemo enake reči kot s katerimikoli drugimi vrednostmi.\n",
    "\n",
    "Razmislimo torej: `x0 == x1` je `True` ali `False`; eno ali drugo in nikoli nič tretjega. Enako velja za `y0 == y1`. Če nam je preveriti, da je eden od njiju `True` in drugi `False` in če vemo, da ne moreta biti nič tretjega, nas torej zanima, ali sta različna."
   ]
  },
  {
   "cell_type": "code",
   "execution_count": 7,
   "id": "78037476-d1d9-4e00-aa66-7236f2eaa451",
   "metadata": {},
   "outputs": [],
   "source": [
    "def pravilna(povezava):\n",
    "    x0, x1, y0, y1 = povezava\n",
    "    return (x0 == x1) != (y0 == x1)"
   ]
  },
  {
   "cell_type": "markdown",
   "id": "1284d211-5779-4852-8ab4-be7a7710d537",
   "metadata": {},
   "source": [
    "Oklepaji so zdaj potrebni, da Python ve, kaj pravzaprav primerjamo s čim.\n",
    "\n",
    "Zdaj, ko smo zmanjšali število primerjav, mogoče ni več tako hudo, če delamo kar z indeksi."
   ]
  },
  {
   "cell_type": "code",
   "execution_count": 8,
   "id": "d369100e-0919-42de-8f40-c05625563764",
   "metadata": {},
   "outputs": [],
   "source": [
    "def pravilna(povezava):\n",
    "    return (povezava[0] == povezava[2]) != (povezava[1] == povezava[3])"
   ]
  },
  {
   "cell_type": "markdown",
   "id": "778850bc-1c4f-4339-bf12-83e1e0dd5d64",
   "metadata": {},
   "source": [
    "Ali pa tudi ne. Če ne bi šlo za domačo nalogo temveč za čisto zaresen program, bi najbrž naredil prvo, saj je pri tem manj možnosti, da se \n",
    "bom zmotil. Človek si ne sme preveč zaupati.\n",
    "\n",
    "Tule je če ena, bolj čudna rešitev: hočemo razpakirati in hočemo v eni vrstici."
   ]
  },
  {
   "cell_type": "code",
   "execution_count": 9,
   "id": "1a2e3d8b-269f-4cef-b6ea-6027d0a53f0a",
   "metadata": {},
   "outputs": [],
   "source": [
    "def pravilna(povezava):\n",
    "    return (lambda x0, y0, x1, y1: (x0 == x1) != (y0 == y1))(*povezava)"
   ]
  },
  {
   "cell_type": "markdown",
   "id": "06abe932-9f2c-4dde-b8fc-58e5e611c312",
   "metadata": {},
   "source": [
    "Naj razume, kdor hoče. Tako se - v Pythonu! - ne programira. Objavljam bolj zato, ker tole zelo spominja na Lispov `let`, s katerim priredimo neki vrednosti ime, pod katerim je dostopno v funkciji, ki jo `let`-u podamo kot argument. V Pythonu je to videti bizarno, v Kotlinu, ki ima Lispovski `let` kar pod imenom `let`, pa elegantno."
   ]
  },
  {
   "cell_type": "markdown",
   "id": "e0ec307d-7c39-4ccc-9ad5-307e57686827",
   "metadata": {},
   "source": [
    "Omenimo še često napako študentov:"
   ]
  },
  {
   "cell_type": "code",
   "execution_count": 13,
   "id": "4bee6651-8f8e-4093-ac8c-0165f3734108",
   "metadata": {},
   "outputs": [],
   "source": [
    "def pravilna(povezava):\n",
    "    return all((x0 == x1) != (y0 == y1) for x0, y0, x1, y1 in povezava)"
   ]
  },
  {
   "cell_type": "markdown",
   "id": "36a57544-8dd4-46db-a073-9084387e0630",
   "metadata": {},
   "source": [
    "To ne deluje. `for` tu pričakuje, da bo `povezava` *seznam* četvork, ne ena sama četvorka. `for`-a ne moremo uporabiti za razpakiranje ene same stvari.\n",
    "\n",
    "Obstaja hecen obvoz."
   ]
  },
  {
   "cell_type": "code",
   "execution_count": 14,
   "id": "a6d29698-da34-40a4-b15f-3583e70c1b84",
   "metadata": {},
   "outputs": [],
   "source": [
    "def pravilne(povezava):\n",
    "    return all((x0 == x1) != (y0 == y1) for x0, y0, x1, y1 in (povezava, ))"
   ]
  },
  {
   "cell_type": "markdown",
   "id": "dcce2cdb-16de-4045-9de8-a63f80e0462e",
   "metadata": {},
   "source": [
    "To je zanimiv trik, ki sem se ga spomnil ob odgovarjanju na sporočilo enega od študentov. Ne počnite tega. To je zabavno, vendar težko razumljivo. Nekdo, ki bo bral to kodo, bo moral pomisliti, da bo razumel, kaj se dogaja. Boljše je napisati v dveh vrsticah."
   ]
  },
  {
   "cell_type": "markdown",
   "id": "17839df2-8bb3-4277-833f-f940067e1702",
   "metadata": {},
   "source": [
    "### `pravilne(povezave)`\n",
    "\n",
    "- `pravilne(povezave)` dobi seznam takšnih povezav in vrne `True`, če so vse povezave v njem pravilne.\n",
    "\n",
    "#### Rešitev\n",
    "\n",
    "Zeh."
   ]
  },
  {
   "cell_type": "code",
   "execution_count": null,
   "id": "36f128e4-85b8-4b7e-b69d-03a20648b931",
   "metadata": {},
   "outputs": [],
   "source": [
    "def pravilne(povezave):\n",
    "    for povezava in povezave:\n",
    "        if not pravilna(povezava):\n",
    "            return False\n",
    "    return True"
   ]
  },
  {
   "cell_type": "markdown",
   "id": "dc102ef1-85c8-4a40-8884-1b4a31caa606",
   "metadata": {},
   "source": [
    "Lepša rešitev prepusti pogojni stavek `all`-u."
   ]
  },
  {
   "cell_type": "code",
   "execution_count": 10,
   "id": "0383a858-cda0-4590-a183-ab852f675e78",
   "metadata": {},
   "outputs": [],
   "source": [
    "def pravilne(povezave):\n",
    "    return all(pravilna(povezava) for povezava in povezave)"
   ]
  },
  {
   "cell_type": "markdown",
   "id": "47bfca56-30ae-4782-9229-b52d8650c38d",
   "metadata": {},
   "source": [
    "Še lepša rešitev se ne znebi le pogojev temveč tudi zanke - prepusti jo `map`-u."
   ]
  },
  {
   "cell_type": "code",
   "execution_count": 11,
   "id": "33e96efd-cc22-4037-aef0-7f5e4ed26abe",
   "metadata": {},
   "outputs": [],
   "source": [
    "def pravilne(povezave):\n",
    "    return all(map(pravilna, povezave))"
   ]
  },
  {
   "cell_type": "markdown",
   "id": "3948c0cc-1a39-4e27-933c-93d9e7ab8051",
   "metadata": {},
   "source": [
    "`map`, ki smo ga le sramežljivo omenili tu in tam, sprejme dva argumenta, funkcijo in generator. Za vsak element, ki ga zgenerira generator, pokliče funkcijo in vrača (točneje: generira) vrednosti. Tole je zvenelo zapleteno, povejmo raje s kodo: `map(f, g)` je ekvivalenten `(f(x) for x in g)`. In tako je `map(pravilna, povezave)` ekvivalenten `(pravilna(x) for x in povezave)`."
   ]
  },
  {
   "cell_type": "markdown",
   "id": "02be8ee3-8324-4779-9b12-cfc1a7bf8617",
   "metadata": {},
   "source": [
    "### `urejena(povezava)`\n",
    "\n",
    "- `urejena(povezava)` prejme povezavo in vrne povezavo, v kateri so pari urejeni: prva točka je levo oz. višje od druge.\n",
    "\n",
    "    Klic `urejena((13, 5, 18, 5))` vrne `(13, 5, 18, 5)`, klic `urejena((18, 5, 13, 5))` pa vrne `(13, 5, 18, 5)`.\n",
    "\n",
    "#### Rešitev\n",
    "\n",
    "Ta naloga je potrebna predvsem zato, da nam poenostavi prihodnje funkcije. Po drugi strani pa je čisto koristna, saj testira razumevanje terk (ali seznamov): indeksiranje, rezine, primerjanje, seštevanje.\n",
    "\n",
    "Terke (seznami, nizi...) se primerjajo po elementih. Najprej se primerja prvi element, potem drugi in tako naprej. Primerjati moramo prvo koordinato (`povezava[:2]`) in drugo koordinato (`povezave[2:]`). Če je prva manjša (v smislu manjšega `x`, če sta `x`-a enaka pa manjšega `y`), vrnemo povezavo, sicer pa povezavo z zamenjanima koordinatama."
   ]
  },
  {
   "cell_type": "code",
   "execution_count": 15,
   "id": "5b333497-3952-4177-ae23-bd1bf36d34c2",
   "metadata": {},
   "outputs": [],
   "source": [
    "def urejena(povezava):\n",
    "    if povezava[:2] < povezava[2:]:\n",
    "        return povezava\n",
    "    else:\n",
    "        return povezava[2:] + povezava[:2]"
   ]
  },
  {
   "cell_type": "markdown",
   "id": "7401791f-7174-4e4b-ba38-3f00a3a68afe",
   "metadata": {},
   "source": [
    "Naloga služi tudi kot primer, da razpakiranje v spremenljivke ni vedno dobra ideja. Tole je precej nerodnejše."
   ]
  },
  {
   "cell_type": "code",
   "execution_count": 16,
   "id": "738fddd1-e7d6-4280-a4bd-b9c2e8527bac",
   "metadata": {},
   "outputs": [],
   "source": [
    "def urejena(povezava):\n",
    "    x0, y0, x1, y1 = povezava\n",
    "    if x0 < x1 or (x0 == x1 and y0 < y1):\n",
    "        return povezava\n",
    "    else:\n",
    "        return (x1, y1, x0, y0)"
   ]
  },
  {
   "cell_type": "markdown",
   "id": "0099c118-5ef2-4c22-aba0-341b0db08d4c",
   "metadata": {},
   "source": [
    "(Da ne govorimo o tem, da bi lahko kdo pomotoma napisal `x0 < x1 or y0 < y1`, kar je v tem primeru sicer v redu, saj vemo, da je povezava navpična ali vodoravna, torej iz `y0 < y1` že sledi, da je `x0 == x1`. A vseeno.)"
   ]
  },
  {
   "cell_type": "markdown",
   "id": "81bb5225-4ad0-49b9-b1bb-faaf59e5531e",
   "metadata": {},
   "source": [
    "Če že razpakiramo, razpakirajmo v to, s čimer delamo - koordinate."
   ]
  },
  {
   "cell_type": "code",
   "execution_count": 17,
   "id": "f60c82dc-ec59-4ae0-b80a-e21ebd06ecaf",
   "metadata": {},
   "outputs": [],
   "source": [
    "def urejena(povezava):\n",
    "    koord1, koord2 = povezava[:2], povezava[2:]\n",
    "    if koord1 < koord2:\n",
    "        return povezava\n",
    "    else:\n",
    "        return koord2 + koord1"
   ]
  },
  {
   "cell_type": "markdown",
   "id": "4695106e-6db9-44d1-9d51-cd59a2e3d5cf",
   "metadata": {},
   "source": [
    "V eni vrstici lahko storimo tako:"
   ]
  },
  {
   "cell_type": "code",
   "execution_count": 49,
   "id": "fc04081d-9b01-40a9-88c0-fb1a8faa3866",
   "metadata": {},
   "outputs": [],
   "source": [
    "def urejena(povezava):\n",
    "    return povezava if povezava[:2] < povezava[2:] else povezava[2:] + povezava[:2]"
   ]
  },
  {
   "cell_type": "markdown",
   "id": "f3ce14c0-9b57-48cd-8490-84ac2b403918",
   "metadata": {},
   "source": [
    "Med predavanjem je nek študent povedal za tole imenitno - lepšo, krajšo - rešitev. (Pythonov operator `if-else` je čuden in nikogar ne fascinira preveč.)"
   ]
  },
  {
   "cell_type": "code",
   "execution_count": 43,
   "id": "95aa4081-81d0-4beb-b0e2-26a4ab91edad",
   "metadata": {},
   "outputs": [],
   "source": [
    "def urejena(povezava):\n",
    "    return min(povezava[:2], povezave[2:]), max(povezave[:2], povezava[2:])"
   ]
  },
  {
   "cell_type": "markdown",
   "id": "0e600b35-e0f4-4e53-9846-437cfb626705",
   "metadata": {},
   "source": [
    "Potem, ko vidiš, je očitno: najprej manjši, nato večji."
   ]
  },
  {
   "cell_type": "markdown",
   "id": "e7bf4c08-d241-4c6f-8b5a-c2960e3b90f6",
   "metadata": {},
   "source": [
    "### `na_povezavi(x, y, povezava)`\n",
    "\n",
    "In tu nam že pride prav urejena: prikladno bo predpostaviti, da je `x0 <= x1` in `y0 <= y1`."
   ]
  },
  {
   "cell_type": "code",
   "execution_count": 18,
   "id": "0ae4cfdf-f20c-40ca-97d4-9f9be3cfe31d",
   "metadata": {},
   "outputs": [],
   "source": [
    "def na_povezavi(x, y, povezava):\n",
    "    x0, y0, x1, y1 = urejena(povezava)\n",
    "    return x0 <= x <= x1 and y0 <= y <= y1"
   ]
  },
  {
   "cell_type": "markdown",
   "id": "81ec188b-e9d8-412a-b0ff-9cb8a8c955dc",
   "metadata": {},
   "source": [
    "### `povezave_tocke(x, y, povezave)`\n",
    "\n",
    "- `povezave_tocke(x, y, povezave)` prejme koordinato točke in seznam povezav. Vrniti mora množico povezav, na katerih leži ta točka (v resnici bo imela množica največ dva elementa). Povezave v množici morajo biti urejene v smislu, da je prva točka levo oz. višje od druge. (Urejene so posamične povezave. Množice je nemogoče urejati.)\n",
    "\n",
    "#### Rešitev\n",
    "\n",
    "Tako kot `pravilne` samo uporabi `pravilna` na vseh povezavah, tako tudi `povezave_tocke` pokliče `na_povezavi` za vse povezave, in obdrži tiste, za katere slednja vrne `True."
   ]
  },
  {
   "cell_type": "code",
   "execution_count": null,
   "id": "633206dc-e8db-43af-921a-d4336f716cae",
   "metadata": {},
   "outputs": [],
   "source": [
    "def povezave_tocke(x, y, povezave):\n",
    "    cez_tocko = set()\n",
    "    for povezava in povezave:\n",
    "        if na_povezavi(x, y, povezava):\n",
    "            cez_tocko.add(urejena(povezava))\n",
    "    return cez_tocko"
   ]
  },
  {
   "cell_type": "markdown",
   "id": "aa0ae10e-c677-4a60-9bed-728ed5a466bd",
   "metadata": {},
   "source": [
    "Ker so povezave shranjene tako, kot so - brez posebnega reda so zložene v seznam - nam ne preostane drugega, kot preverjati vsako posebeje. Računalniku lahko prihranimo malenkost dela le, če se spomnimo, da je lahko vsaka točka le na dveh povezavah. Iskanje lahko prekinemo, ko najdemo drugo povezavo."
   ]
  },
  {
   "cell_type": "code",
   "execution_count": 19,
   "id": "b2a0452b-9428-4312-9593-bcdc123f9532",
   "metadata": {},
   "outputs": [],
   "source": [
    "def povezave_tocke(x, y, povezave):\n",
    "    cez_tocko = set()\n",
    "    for povezava in povezave:\n",
    "        if na_povezavi(x, y, povezava):\n",
    "            cez_tocko.add(urejena(povezava))\n",
    "            if len(cez_tocko) == 2:\n",
    "                break\n",
    "    return cez_tocko"
   ]
  },
  {
   "cell_type": "markdown",
   "id": "34c2f829-a909-4e9b-9b55-7064ffe0143d",
   "metadata": {},
   "source": [
    "Časovni prihranek je minimalen; poznal se bo le na točkah, ki predstavljajo stičišča povezav. Zapletanje funkcije je zato smiselno le, če vemo, da bodo funkcijo pogosto klicali prav za križišča. Sicer pa bi tu dali prednost preprostosti funkcije. Vsaj jaz. Zato bi brez slabe vesti napisal"
   ]
  },
  {
   "cell_type": "code",
   "execution_count": 20,
   "id": "612c433a-6515-4156-a973-02ae7dacfec0",
   "metadata": {},
   "outputs": [],
   "source": [
    "def povezave_tocke(x, y, povezave):\n",
    "    return {urejena(povezava)\n",
    "            for povezava in povezave\n",
    "            if na_povezavi(x, y, povezava)}"
   ]
  },
  {
   "cell_type": "markdown",
   "id": "d8d8a183-9355-464c-bd48-9c4fdafd377c",
   "metadata": {},
   "source": [
    "Na hitro omenimo še bolj \"funkcijsko\" rešitev. Python ima funkcijo `filter`; klic `filter(f, s)` je ekvivalentna `(x for x in s if f(x))`. (Če pokličemo `filter(None, s)` pa je to ekvivalentno `(x for x in s if x)`.) V modulu `functools` pa najdemo funkcijo `partial(f, *args)`, ki podani funkciji `f` pribije argumente `*args`. Z njima lahko funkcijo `povezave_tocke` napišemo tako:"
   ]
  },
  {
   "cell_type": "code",
   "execution_count": null,
   "id": "92e2b5a3-7d00-46db-98e4-d382d00971e2",
   "metadata": {},
   "outputs": [],
   "source": [
    "from functools import partial\n",
    "\n",
    "def povezave_tocke(x, y, povezave):\n",
    "    return set(filter(partial(na_povezavi, x, y), map(urejena, povezave)))"
   ]
  },
  {
   "cell_type": "markdown",
   "id": "13922846-1d6f-43bc-8696-5791a0707444",
   "metadata": {},
   "source": [
    "Vem, ta razlaga ni bila ravno podrobna. Kogar zanima, bo že preučil."
   ]
  },
  {
   "cell_type": "markdown",
   "id": "f55f6ac3-994a-4d47-9dca-ba9fbc5d5b38",
   "metadata": {},
   "source": [
    "### `secisce(povezava1, povezava2)`\n",
    "\n",
    "- `secisce(povezava1, povezava2)` prejme dve povezavi (torej dve četvorki) in vrne točko, v kateri se sekata, oziroma `None`, če se ne sekata.\n",
    "\n",
    "    - Klic `secisce((10, 20, 10, 25), (8, 22, 18, 22))` vrne `(10, 12)`.\n",
    "    - Klic `secisce((8, 20, 18, 20), (1, 25, 0, 25))` vrne `None`."
   ]
  },
  {
   "cell_type": "markdown",
   "id": "8e4ac8e3-557e-45b8-9a03-04478fae76de",
   "metadata": {},
   "source": [
    "#### Rešitev\n",
    "\n",
    "Bože mili. Lahko bi predvidel. Študenti vedo za Google in če je treba iskati sečišča daljic jim Google pač svetuje test, ki temelji na `gcd`. To je dejansko prava, splošna rešitev. Primerna za predmet Algoritmi in podatkovne strukture ali, verjetneje, Računalniška grafika, saj poglavje Računska geometrija verjetneje obravnavamo tam. Pri Programiranju 1 pa naloge, ki bi zahtevala kaj takšnega, gotovo ne bi zastavil.\n",
    "\n",
    "Reč je precej preprostejša - čeprav je to, priznam, najbolj zapletena funkcija izmed vseh za oceno 6. Kar spet ne pomeni, da je zapletena, samo malo je potrebno pomisliti."
   ]
  },
  {
   "cell_type": "code",
   "execution_count": 26,
   "id": "0eb41fcc-5523-414c-bdd8-e06959cb7617",
   "metadata": {},
   "outputs": [],
   "source": [
    "def secisce(povezava1, povezava2):\n",
    "    x0, y0, x1, y1 = urejena(povezava1)\n",
    "    x2, y2, x3, y3 = urejena(povezava2)\n",
    "\n",
    "    if (x0 == x1) == (x2 == x3):  # povezavi sta vzporedni\n",
    "        return None\n",
    "    if x0 == x1:  # prva povezava je navpična\n",
    "        x, y = x0, y2  # koordinato x sečišča določa prva povezava, y pa druga\n",
    "        if not (x2 <= x <= x3 and y0 <= y <= y1):\n",
    "            return None\n",
    "    else:  # druga povezava je navpična\n",
    "        x, y = x2, y0  # koordinato x določa druga povezava, y pa prva\n",
    "        if not (x0 <= x <= x1 and y2 <= y <= y3):\n",
    "            return None\n",
    "    return x, y"
   ]
  },
  {
   "cell_type": "markdown",
   "id": "be291422-9802-4968-a735-cdf1898fd62c",
   "metadata": {},
   "source": [
    "Najprej: tu moramo razpakirati povezave v koordinate, sicer se bomo izgubili.\n",
    "\n",
    "Potem: te koordinate morajo biti urejene. (Ko sem sestavljal domačo nalogo, sem se pri tej funkciji vrnil nazaj in med zahtevane funkcije dodal funkcijo `urejena`. Prej sem mislil, da bo šlo brez, tule pa so se stvari brez urejanja že preveč zapletle.)\n",
    "\n",
    "Nadalje: najprej opravimo z vzporednimi povezavami. Te se ne morejo sekati. Povezavi sta vzporedni, če imata bodisi obe enaka bodisi obe različna `x`-a, torej `(x0 == x1) == (x2 == x3)`. Trik smo spoznali ob prvi nalogi; kdor ne ve zanj, bo pač napisal pogoj več.\n",
    "\n",
    "Morda bi bilo tako tudi boljše. Meni je prijetneje najprej odpraviti posebni primer in se nato posvetiti pravemu delu.\n",
    "\n",
    "Zdaj, ko vemo, da sta povezavi pravokotni, ločeno obravnavmo primer, ko je navpična prva in ko je navpična druga.\n",
    "\n",
    "Če je navpična prva (`x0 == x1`), potem se lahko sekata na `x` koordinati prve in na `y` koordinati druge, `x, y = x0, y2`. Da se bosta res sekala v tej točki, mora `x` ležati znotraj `x`-ov druge (vodoravne) povezave, in `y` znotraj `y`-ov prve, `x2 <= x <= x3 and y0 <= y <= y1`. Če ni tako, vrnemo `None.\n",
    "\n",
    "Na enak način opravimo še z drugo možnostjo, ko je navpična druga povezava.\n",
    "\n",
    "Pri kodiranju nisem preveč radodaren s komentarji - kar ni lepo, vendar se izgovarjam, da lepa koda ne potrebuje komentarjev; če kodiram grdo, moram izboljšati svojo kodo, ne pa reševati slabega kodiranja s komentarji. No, tule pa bi jih prav gotovo dodal, tako kot sem zgoraj tudi storil."
   ]
  },
  {
   "cell_type": "markdown",
   "id": "c58e7305-4001-4c8e-996a-db49bdab61bc",
   "metadata": {},
   "source": [
    "Če nočemo ločeno obravnavati drugih dveh možnosti, lahko *poskrbimo*, da bo prva povezava navpična. Če ni - ju zamenjamo."
   ]
  },
  {
   "cell_type": "code",
   "execution_count": 24,
   "id": "ad08e3fe-b82c-4cea-aa99-9564a4e7bfb3",
   "metadata": {},
   "outputs": [],
   "source": [
    "def secisce(povezava1, povezava2):\n",
    "    x0, y0, x1, y1 = urejena(povezava1)\n",
    "    x2, y2, x3, y3 = urejena(povezava2)\n",
    "\n",
    "    if (x0 == x1) == (x2 == x3):\n",
    "        return None\n",
    "    if x0 == x1:\n",
    "        x0, y0, x1, y1, x2, y2, x3, y3 = x2, y2, x3, y3, x0, y0, x1, y1\n",
    "    x, y = x2, y0\n",
    "    if not (x0 <= x <= x1 and y2 <= y <= y3):\n",
    "        return None\n",
    "    return x, y"
   ]
  },
  {
   "cell_type": "markdown",
   "id": "094e4eb9-11a0-4428-9b3d-b4ef3ab2638b",
   "metadata": {},
   "source": [
    "Menjavanje povezav je nekoliko grozljivo. Po drugi strani tudi rešitve kot je"
   ]
  },
  {
   "cell_type": "code",
   "execution_count": 25,
   "id": "387804f7-7212-4c49-9b44-e2f5cfbc95cc",
   "metadata": {},
   "outputs": [],
   "source": [
    "def secisce(povezava1, povezava2):\n",
    "    povezava1, povezava2 = urejena(povezava1), urejena(povezava2)\n",
    "    if povezava1[0] == povezava1[2]:\n",
    "        povezava1, povezava2 = povezava2, povezava1\n",
    "    x0, y0, x1, y1 = urejena(povezava1)\n",
    "    x2, y2, x3, y3 = urejena(povezava2)\n",
    "\n",
    "    if (x0 == x1) == (x2 == x3):\n",
    "        return None\n",
    "    x, y = x2, y0\n",
    "    if not (x0 <= x <= x1 and y2 <= y <= y3):\n",
    "        return None\n",
    "    return x, y"
   ]
  },
  {
   "cell_type": "markdown",
   "id": "dc51e149-7d61-46b3-a020-b753b5b0f5c8",
   "metadata": {},
   "source": [
    "Niso videti najbolj elegantne, zato mi je ločeno obravnavanje še najljubše.\n",
    "\n",
    "Rešitev v eni vrstici - ki je seveda nisem zahteval - je"
   ]
  },
  {
   "cell_type": "code",
   "execution_count": null,
   "id": "c23c504c-846e-4903-b73c-952171f272a4",
   "metadata": {},
   "outputs": [],
   "source": [
    "def secisce(povezava1, povezava2):\n",
    "    x0, y0, x1, y1 = urejena(povezava2)\n",
    "    return next(((x, y)\n",
    "                 for x in range(x0, x1 + 1)\n",
    "                 for y in range(y0, y1 + 1)\n",
    "                 if na_povezavi(x, y, povezava1)), None)\n"
   ]
  },
  {
   "cell_type": "markdown",
   "id": "5ea5b45d-0f5c-4973-a00e-0038061cc5d6",
   "metadata": {},
   "source": [
    "Ta naloga je torej bolj kot programiranje zahtevala razmislek. Odlično ga je opravil eden od študentov, ki je sestavil takšno funkcijo:"
   ]
  },
  {
   "cell_type": "code",
   "execution_count": 36,
   "id": "36c2fb6c-0de4-443c-b94d-be5580640c73",
   "metadata": {},
   "outputs": [],
   "source": [
    "def secisce(povezava1, povezava2):\n",
    "   x0, y0, x1, y1 = urejena(povezava1)\n",
    "   a0, b0, a1, b1 = urejena(povezava2)\n",
    "\n",
    "   if na_povezavi(x0, b0, povezava1) and na_povezavi(x0, b0, povezava2):\n",
    "       return x0, b0\n",
    "   elif na_povezavi(a0, y0, povezava1) and na_povezavi(a0, y0, povezava2):\n",
    "       return a0, y0\n",
    "   else:\n",
    "       return None"
   ]
  },
  {
   "cell_type": "markdown",
   "id": "4dadbde6-54d9-4b63-9c77-312e20427cd4",
   "metadata": {},
   "source": [
    "Najprej mi je všeč poimenovanje točk: jasnejše je od mojega. `x` in `y` ter `a` in `b` sta boljša od štirih različnih indeksov.\n",
    "\n",
    "Prvi pogoj drži za primer, ko je prva povezava navpična in druga vodoravna: če ste `y0` in `y1` enaka ter sta enaka `a0` in `a1`, je sečišče v točki `(x0, b0)`. Preverimo, ali je ta točka na obeh povezavah in če je, jo vrnemo. (\"*Kaj pa, če nista enaka? Zakaj tega ne preverimo?*\" me je žuljilo, ko sem gledal to rešitev. Nič ne de. Če je `(x0, b0)` na obeh povezavah, je gotovo sečišče. Nimamo kaj zgrešiti. :).\n",
    "\n",
    "Drugi pogoj preverja obratni primer - prva je vodoravna in druga navpična.\n",
    "\n",
    "Če nič od tega, pač `None`.\n",
    "\n",
    "Res lepo, elegantno, preprosto. Kudos."
   ]
  },
  {
   "cell_type": "markdown",
   "id": "0f8cf6b3-3662-4d9f-9db0-e65b0d59eccb",
   "metadata": {},
   "source": [
    "## Ocena 7\n",
    "\n",
    "Napišite naslednje funkcije.\n",
    "\n",
    "### `krizisca(povezave)`\n",
    "\n",
    "- `krizisca(povezave)` prejme seznam povezav in vrne mrežo. Glej opis na vrhu naloge.\n",
    "\n",
    "#### Rešitev\n",
    "\n",
    "Potratna rešitev:"
   ]
  },
  {
   "cell_type": "code",
   "execution_count": 28,
   "id": "51ce668e-c5f3-405a-b22a-8b3f305a091e",
   "metadata": {},
   "outputs": [],
   "source": [
    "def krizisca(povezave):\n",
    "    k = {}\n",
    "    for pov1 in povezave:\n",
    "        pov1 = urejena(pov1)\n",
    "        for pov2 in povezave:\n",
    "            pov2 = urejena(pov2)\n",
    "            sec = secisce(pov1, pov2)\n",
    "            if pov1 < pov2 and sec:\n",
    "                k[pov1, pov2] = sec\n",
    "    return k"
   ]
  },
  {
   "cell_type": "markdown",
   "id": "6c4ce2b0-2c1f-46fe-97db-9ad712ca9f98",
   "metadata": {},
   "source": [
    "Povezavi uredimo, izračunamo sečišče. Potem pa v zadnjem trenutku preverimo: sta urejeni? Če nista, pozabi. Tako ali tako bomo nanju naleteli še enkrat. :)\n",
    "\n",
    "S časom varčnemu človeku gre to seveda na živce. Celo sečišče izračunamo ... potem pa vse skupaj zavržemo. Zato napiše"
   ]
  },
  {
   "cell_type": "code",
   "execution_count": 29,
   "id": "fb0edde7-ef3c-46b7-a0f7-ea2adc979383",
   "metadata": {},
   "outputs": [],
   "source": [
    "def krizisca(povezave):\n",
    "    k = {}\n",
    "    for pov1 in povezave:\n",
    "        pov1 = urejena(pov1)\n",
    "        for pov2 in povezave:\n",
    "            pov2 = urejena(pov2)\n",
    "            if pov1 < pov2:\n",
    "                sec = secisce(pov1, pov2)\n",
    "                if sec:\n",
    "                    k[pov1, pov2] = sec\n",
    "    return k"
   ]
  },
  {
   "cell_type": "markdown",
   "id": "9449d17d-8f2d-480e-b976-1eeaaa519933",
   "metadata": {},
   "source": [
    "In prav zaradi tega je Python dobil svoj \"walrus operator2\". Z njim lahko naredimo tako:"
   ]
  },
  {
   "cell_type": "code",
   "execution_count": 30,
   "id": "245dd830-78d5-47ec-9644-84ff12ee5fe3",
   "metadata": {},
   "outputs": [],
   "source": [
    "def krizisca(povezave):\n",
    "    k = {}\n",
    "    for pov1 in povezave:\n",
    "        pov1 = urejena(pov1)\n",
    "        for pov2 in povezave:\n",
    "            pov2 = urejena(pov2)\n",
    "            if pov1 < pov2 and (sec := secisce(pov1, pov2)):\n",
    "                    k[pov1, pov2] = sec\n",
    "    return k"
   ]
  },
  {
   "cell_type": "markdown",
   "id": "b41b4575-9246-41dc-be3b-d80cb5b5f6aa",
   "metadata": {},
   "source": [
    "Lepše je seveda, da notranje zanke ne spustimo prek vseh parov: v zunanji zanki dodamo `enumerate`, da poznamo še indeks trenutne `pov1`. Notranjo zanko spustimo le do tega elementa. Ko potem shranjujemo povezave, po potrebi obrnemo vrstni red ključev."
   ]
  },
  {
   "cell_type": "code",
   "execution_count": null,
   "id": "60e5977a-046e-4981-a42c-edc7a29ba15d",
   "metadata": {},
   "outputs": [],
   "source": [
    "def krizisca(povezave):\n",
    "    k = {}\n",
    "    for i, pov1 in enumerate(povezave):\n",
    "        pov1 = urejena(pov1)\n",
    "        for pov2 in povezave[:i]:\n",
    "            sec = secisce(pov1, pov2)\n",
    "            if sec:\n",
    "                pov2 = urejena(pov2)\n",
    "                if pov1 < pov2:\n",
    "                    k[pov1, pov2] = sec\n",
    "                else:\n",
    "                    k[pov2, pov1] = sec\n",
    "    return k"
   ]
  },
  {
   "cell_type": "markdown",
   "id": "2eff39c5-c68e-46d2-aefb-0a429946647d",
   "metadata": {},
   "source": [
    "Ker nam gre tista kolobocija na koncu na živce, sestavimo ključ s `tuple(sorted([pov1, pov2]))`. Torej: `pov1` in `pov2` damo v seznam, ga podamo `sorted` in rezultat spremenimo v `tuple`, saj `sorted` (vedno) vrne `list`."
   ]
  },
  {
   "cell_type": "code",
   "execution_count": 31,
   "id": "61636ace-b220-42e7-8251-e2daec8d042a",
   "metadata": {},
   "outputs": [],
   "source": [
    "def krizisca(povezave):\n",
    "    k = {}\n",
    "    for i, pov1 in enumerate(povezave):\n",
    "        pov1 = urejena(pov1)\n",
    "        for pov2 in povezave[:i]:\n",
    "            sec = secisce(pov1, pov2)\n",
    "            if sec:\n",
    "                pov2 = urejena(pov2)\n",
    "                k[tuple(sorted([pov1, pov2]))] = sec\n",
    "    return k"
   ]
  },
  {
   "cell_type": "markdown",
   "id": "2f1e37b0-5655-4de8-9d49-51e7ceb056f7",
   "metadata": {},
   "source": [
    "Ali, če hočemo še malo skrajšati,"
   ]
  },
  {
   "cell_type": "code",
   "execution_count": 32,
   "id": "148ac5ba-3d85-49d4-8946-9363268d4057",
   "metadata": {},
   "outputs": [],
   "source": [
    "def krizisca(povezave):\n",
    "    k = {}\n",
    "    for i, pov1 in enumerate(povezave):\n",
    "        for pov2 in povezave[:i]:\n",
    "            sec = secisce(pov1, pov2)\n",
    "            if sec:\n",
    "                k[tuple(sorted([urejena(pov1), urejena(pov2)]))] = sec\n",
    "    return k"
   ]
  },
  {
   "cell_type": "markdown",
   "id": "1234c296-a78f-4aa1-a69f-f0187ab7f969",
   "metadata": {},
   "source": [
    "To sicer ni ne hitrejše, ne jasnejše od prejšnje rešitve, vendar nas pripelje do rešitve z izpeljanom slovarjem:"
   ]
  },
  {
   "cell_type": "code",
   "execution_count": 34,
   "id": "1de6b16b-6d1a-4103-bf99-993a96d72171",
   "metadata": {},
   "outputs": [],
   "source": [
    "def krizisca(povezave):\n",
    "    return {tuple(sorted((urejena(p1), urejena(p2)))): secisce(p1, p2)\n",
    "            for i, p1 in enumerate(povezave) for p2 in povezave[:i]\n",
    "            if secisce(p1, p2)}"
   ]
  },
  {
   "cell_type": "markdown",
   "id": "de97a0a3-3c8f-4043-8cfb-ff55a72772e0",
   "metadata": {},
   "source": [
    "Ta, ki ga zmoti, da tule dvakrat pokličemo `secisce`, zavije z očmi in (v mojem primeru *miže*) uporabi walrusa:"
   ]
  },
  {
   "cell_type": "code",
   "execution_count": 35,
   "id": "8a444513-e02d-486c-a112-dda4b28018d0",
   "metadata": {},
   "outputs": [],
   "source": [
    "def krizisca(povezave):\n",
    "    return {tuple(sorted((urejena(p1), urejena(p2)))): sec\n",
    "            for i, p1 in enumerate(povezave) for p2 in povezave[:i]\n",
    "            if (sec := secisce(p1, p2))}"
   ]
  },
  {
   "cell_type": "markdown",
   "id": "5cd352ca-766b-4fcc-93ba-eca3e8ecc8d3",
   "metadata": {},
   "source": [
    "### `mozna_pot(pot, mreza)`\n",
    "\n",
    "- `mozna_pot(pot, mreza)` prejme pot, podano kot seznam povezav, in mrežo. Vrniti mora `True`, če vse povezave v poti dejansko obstajajo in je možno prevoziti podani seznam povezav v podanem vrstnem redu, ne da bi kje zapustili kolesarske poti, in `False` (torej: zaporedne povezave se morajo sekati oz. dotikati).\n",
    "\n",
    "#### Rešitev\n",
    "\n",
    "Za vsak par zaporednih povezav mora *urejen* (`sorted`) par urejenih (`urejena`) povezav nastopati kot ključ v mreži."
   ]
  },
  {
   "cell_type": "code",
   "execution_count": 37,
   "id": "a99200fd-8469-47de-9f50-fad645173a53",
   "metadata": {},
   "outputs": [],
   "source": [
    "def mozna_pot(pot, mreza):\n",
    "    for p1, p2 in pairwise(pot):\n",
    "        if not tuple(sorted((urejena(p1), urejena(p2)))) in mreza:\n",
    "            return False\n",
    "    return True"
   ]
  },
  {
   "cell_type": "markdown",
   "id": "52e815a5-d281-42fd-8e8f-a57dbea0598b",
   "metadata": {},
   "source": [
    "Ta, ki ga fascinira `map`, pripomni"
   ]
  },
  {
   "cell_type": "code",
   "execution_count": 38,
   "id": "21ea0b80-718b-431e-ac99-82404b47d495",
   "metadata": {},
   "outputs": [],
   "source": [
    "def mozna_pot(pot, mreza):\n",
    "    for par in pairwise(pot):\n",
    "        if not tuple(sorted(map(urejena, par))) in mreza:\n",
    "            return False\n",
    "    return True"
   ]
  },
  {
   "cell_type": "markdown",
   "id": "1a105100-5007-4217-8fbe-f76a8acd8fa6",
   "metadata": {},
   "source": [
    "Z `map` ali brez, to je preprosto skrajšati v"
   ]
  },
  {
   "cell_type": "code",
   "execution_count": 41,
   "id": "8b817a8c-5232-426e-a553-5833a85ded2d",
   "metadata": {},
   "outputs": [],
   "source": [
    "def mozna_pot(pot, mreza):\n",
    "    return all(tuple(sorted((urejena(p1), urejena(p2)))) in mreza\n",
    "               for p1, p2 in pairwise(pot))"
   ]
  },
  {
   "cell_type": "markdown",
   "id": "07f19af6-a87f-41fa-a3e7-a1e0cf24e664",
   "metadata": {},
   "source": [
    "### `razdalja(pot, mreza)`\n",
    "\n",
    "- `razdalja(pot, mreza)` vrne razdaljo, ki jo prevozi kolesar na podani poti. Predpostavi, da začne kolesar svojo pot na sečišču prve in druge povezave v seznamu. Po prvi pravzaprav sploh ne vozi, temveč nadaljuje pot po drugi povezavi do mesta, kjer ta seka tretjo povezavo. Zavije na tretjo in vozi do sečišča s četrto ... in tako naprej do križišča med predzadnjo in zadnjo povezavo. Po zadnji povezavi prav tako ne vozi.\n",
    "\n",
    "    Pri tej nalogi smemo predpostaviti, da je podana `pot` možna in da vsebuje vsaj dve povezavi."
   ]
  },
  {
   "cell_type": "markdown",
   "id": "85161cf8-688c-446b-af2b-d5ffb0f7c82d",
   "metadata": {},
   "source": [
    "#### Rešitev\n",
    "\n",
    "Tudi pri oceni 7 je najbolj \"zabavna\" zadnja naloga. Njen trik je v tem, da moramo primerjati *pare sečišč*, zato je potrebno opazovati trojke povezav.\n",
    "\n",
    "Manj inspirirana rešitev je šteti z `i` do dolžine poti -2 in opazovati trojke povezav na indeksih `i`, `i + 1` in `i + 2`.\n",
    "\n",
    "```python\n",
    "for i in range(len(pot) - 2):\n",
    "    pov1, pov2, pov3 = pot[i: i + 3\n",
    "```\n",
    "\n",
    "Veliko spodobnejša, za Python, je rešitev, v kateri do zaporednih trojk pridemo z `zip`-om.\n",
    "\n",
    "```python\n",
    "for pov1, pov2, pov3 in zip(pot, pot[1:], pot[2:]):\n",
    "   ...\n",
    "```"
   ]
  },
  {
   "cell_type": "markdown",
   "id": "714ff510-59b0-4e70-8355-cf7c537653b4",
   "metadata": {},
   "source": [
    "Zdaj le izvemo za `secisce` med `pov1` in `pov2` ter sečišče med `pov2` in `pov3`. Ker naloga obljublja, da je pot možna, sečišči gotovo obstajata. Razdalja med njima je `abs(x0 - x1) + abs(y0 - y1)`. Ena od teh dveh razlik je `0`, vendar nas to, da brez potrebe prištejemo `0`, prav 0 ne boli."
   ]
  },
  {
   "cell_type": "code",
   "execution_count": 44,
   "id": "65f650b2-6e39-41bd-aba9-70d962dd0309",
   "metadata": {},
   "outputs": [],
   "source": [
    "def razdalja(pot, mreza):\n",
    "    r = 0\n",
    "    for p1, p2, p3 in zip(pot, pot[1:], pot[2:]):\n",
    "        x0, y0 = secisce(p1, p2)\n",
    "        x1, y1 = secisce(p2, p3)\n",
    "        r += abs(x0 - x1) + abs(y0 - y1)\n",
    "    return r"
   ]
  },
  {
   "cell_type": "markdown",
   "id": "dc72f8bc-4e62-4524-a20f-739530758a93",
   "metadata": {},
   "source": [
    "Mimogrede, je kaj narobe, da nismo uporabili argumenta `mreza`? Ne. V nalogi je bolj za zafrkavanje. Mogoče pride komu prav, sem si mislil, zraven pa upal, da boste opazili, da ga ne potrebujete. Ker argumenta ne potrebuje, naloga pa zahteva, da ga napišemo, bi ga tipično poimenovali `_` ne `mreza`.\n",
    "\n",
    "Prva različica z generatorjem je boleča."
   ]
  },
  {
   "cell_type": "code",
   "execution_count": 45,
   "id": "616575ae-fe47-49c6-aa58-10a6d404fbb2",
   "metadata": {},
   "outputs": [],
   "source": [
    "def razdalja(pot, _):\n",
    "    return sum(abs(secisce(p1, p2)[0] - secisce(p2, p3)[0])\n",
    "               + abs(secisce(p1, p2)[1] - secisce(p2, p3)[1])\n",
    "               for p1, p2, p3 in zip(pot, pot[1:], pot[2:]))"
   ]
  },
  {
   "cell_type": "markdown",
   "id": "e9ada3d0-2a74-42ee-afbf-c58e511c5ba6",
   "metadata": {},
   "source": [
    "Tule smo dobesedno prepisali gornjo funkcijo, le spremenljivk `x0`, `y0`, `x1` in `y1` nismo imeli kje uvesti.\n",
    "\n",
    "Boljše je uporabiti generator prek generatorja. Tole generira vse pare sečišč:\n",
    "\n",
    "```python\n",
    "((secisce(p1, p2), secisce(p2, p3))\n",
    " for p1, p2, p3 in zip(pot, pot[1:], pot[2:])\n",
    "```"
   ]
  },
  {
   "cell_type": "markdown",
   "id": "9719304c-f9fa-4fa8-af31-a76f91304784",
   "metadata": {},
   "source": [
    "Potem gremo čez te pare ...\n",
    "\n",
    "```python\n",
    "for (x0, y0), (x1, y1) in (\n",
    "    (secisce(p1, p2), secisce(p2, p3))\n",
    "     for p1, p2, p3 in zip(pot, pot[1:], pot[2:])\n",
    ")\n",
    "```"
   ]
  },
  {
   "cell_type": "markdown",
   "id": "9bfacfb5-4b46-42fb-8b00-34a1da1ab30e",
   "metadata": {},
   "source": [
    "Tako smo dobili imena, ki smo jih želeli in lahko lepo seštevamo."
   ]
  },
  {
   "cell_type": "code",
   "execution_count": 47,
   "id": "c281805c-e344-45db-8083-c7a310357780",
   "metadata": {},
   "outputs": [],
   "source": [
    "def razdalja(pot, _):\n",
    "    return sum(abs(x0 - x1) + abs(y0 - y1)\n",
    "               for (x0, y0), (x1, y1) in (\n",
    "                   (secisce(p1, p2), secisce(p2, p3))\n",
    "                   for p1, p2, p3 in zip(pot, pot[1:], pot[2:])\n",
    "               )\n",
    "              )"
   ]
  },
  {
   "cell_type": "markdown",
   "id": "5980e22d-e04d-4295-beb1-c2853cdc438f",
   "metadata": {},
   "source": [
    "Ta rešitev je še vedno precej v sorodu s prvo, daljšo. Do krajše, lepše pridemo, če pomislimo, da tu dvakrat računamo sečišče med vsakim parom, razen med prvima in zadnjima. Ne, lepše bi bilo najprej narediti generator vseh sečišč (in ne parov sečišč).\n",
    "\n",
    "```python\n",
    "(secisce(p1, p2) for p1, p2 in pairwise(pot)))\n",
    "```\n",
    "\n",
    "Ko imamo vsa sečišča, gremo čez pare sečišč,\n",
    "\n",
    "```python\n",
    "pairwise(secisce(p1, p2) for p1, p2 in pairwise(pot)))\n",
    "```\n",
    "\n",
    "Tako dobimo"
   ]
  },
  {
   "cell_type": "code",
   "execution_count": 48,
   "id": "04a3de55-1207-4e47-a1da-689b01e3632c",
   "metadata": {},
   "outputs": [],
   "source": [
    "def razdalja(pot, _):\n",
    "    return sum(abs(x0 - x1) + abs(y0 - y1)\n",
    "               for (x0, y0), (x1, y1) in pairwise(secisce(p1, p2) for p1, p2 in pairwise(pot)))"
   ]
  },
  {
   "cell_type": "markdown",
   "id": "4eaaeaa4-7b4e-4947-9bf4-3faca2e6d8c7",
   "metadata": {},
   "source": [
    "## Ocena 8\n",
    "\n",
    "Za oceno 8 samo poskrbi, da bodo funkcije za oceno 6, razen funkcij `secisce` in `na_povezavi` napisane z enim samim izrazom - torej z enim samim `return`, ki mu sledi izraz, izpeljana množica, klic kake primerne funkcije...\n",
    "\n",
    "Seveda bi lahko v eni vrstici napisali tudi `secisce` in, prevsem, `na_povezavi`, vendar nočem, da bi pisali grde programe.\n",
    "\n",
    "### Rešitev\n",
    "\n",
    "To smo že opravili sproti."
   ]
  },
  {
   "cell_type": "markdown",
   "id": "784f4cee-e9cb-40da-b2ce-5ca73bf4efb9",
   "metadata": {},
   "source": [
    "## Ocena 9\n",
    "\n",
    "Za oceno 9 poskrbi, da bodo tudi vse naloge za oceno 7 napisane z enim samim izrazom.\n",
    "\n",
    "Poleg tega napiši funkcijo `svg(povezave, ime_datoteke)`, ki v datoteko s podanim imenom izriše zemljevid, kakršen je na sliki v začetku naloge, vendar naj vsebuje le povezave (črte in kroge na krajiščih), ne pa tudi mreže. Datoteka mora biti v obliki .svg; za izris uporabi isti koordinatni sistem kot na sliki. Da je datoteka pravilna, bodo preverili testi, v lastno veselje pa jo lahko tudi odpreš v primernem programu, recimo spletnem brskalniku.\n",
    "\n",
    "Za podani zemljevid je datoteka videti tako:\n",
    "\n",
    "```svg\n",
    "<svg xmlns=\"http://www.w3.org/2000/svg\" viewBox=\"-3 7 29 17\">\n",
    "<circle cx='11' cy='10' r='0.1' />\n",
    "<circle cx='13' cy='10' r='0.1' />\n",
    "<line x1=\"11\" y1=\"10\" x2=\"13\" y2=\"10\" stroke=\"black\" stroke-width=\"0.1\" />\n",
    "<circle cx='2' cy='12' r='0.1' />\n",
    "<circle cx='8' cy='12' r='0.1' />\n",
    "<line x1=\"2\" y1=\"12\" x2=\"8\" y2=\"12\" stroke=\"black\" stroke-width=\"0.1\" />\n",
    "<circle cx='6' cy='11' r='0.1' />\n",
    "<circle cx='6' cy='13' r='0.1' />\n",
    "<line x1=\"6\" y1=\"11\" x2=\"6\" y2=\"13\" stroke=\"black\" stroke-width=\"0.1\" />\n",
    "<circle cx='0' cy='16' r='0.1' />\n",
    "<circle cx='10' cy='16' r='0.1' />\n",
    "<line x1=\"0\" y1=\"16\" x2=\"10\" y2=\"16\" stroke=\"black\" stroke-width=\"0.1\" />\n",
    "<circle cx='3' cy='18' r='0.1' />\n",
    "<circle cx='3' cy='13' r='0.1' />\n",
    "    <!--In tako naprej za vse povezave -->\n",
    "</svg>\n",
    "```\n",
    "\n",
    "Ni potrebno, da je vsebina datoteke natančno takšna. Barve in debeline ter podobno okrasje si lahko izmisliš sam(a); za teste je pomembnno, da izris obsega naštete črte in kroge ter do so koordinate pravilne. Poleg tega moraš primerno nastaviti `viewBox` v elementu `svg`, da bo zemljevid pravilno prikazan: prvi dve števili sta koordinati zgornjega levega kota, drugi dve pa širina in višina. V tem primeru sem `viewBox` nekoliko razširil, da se zemljevid ne zajeda v rob.\n",
    "\n",
    "### Rešitev\n",
    "\n",
    "Rešitve v eni vrstici so že za nami, manjka nam le še svg.\n",
    "\n",
    "Reč ni nič posebnega, prav pa nam pride (poleg tega, da znamo pisati datoteke) še to, da poznamo f-stringe. Pisanje datotek je očitno neizbežno, brez f-stringov pa se moramo pač malo potruditi s sestavljanjem nizov -- namesto, recimo `f\"<circle cx='{x1}' cy='{y1}' r='0.1' />\\n\"`, moramo pisati `f\"<circle cx='\" + str(x1) + \"' cy='\" + str(y1) + \"' r='0.1' />\\n\"`. Na moč zoprno, vendar preživimo."
   ]
  },
  {
   "cell_type": "code",
   "execution_count": null,
   "id": "6c8ca626-8e49-4c8f-b217-b190f98f43cd",
   "metadata": {
    "scrolled": true
   },
   "outputs": [],
   "source": [
    "def svg(povezave, ime_dat, grid=False):\n",
    "    xs = [*(x for x, _, _, _ in povezave), *(x for _, _, x, _ in povezave)]\n",
    "    ys = [*(y for _, y, _, _ in povezave), *(y for _, _, _, y in povezave)]\n",
    "    min_x, max_x = min(xs) - 1, max(xs) + 1\n",
    "    min_y, max_y = min(ys) - 1, max(ys) + 1\n",
    "    sirina, visina = max_x - min_x + 1, max_y - min_y + 1\n",
    "\n",
    "    svg = f'<svg xmlns=\"http://www.w3.org/2000/svg\" viewBox=\"{min_x - 2} {min_y - 2} {sirina + 4} {visina + 4}\">\\n'\n",
    "    if grid:\n",
    "        for x in range(min_x, max_x + 1):\n",
    "            svg += f'<line x1=\"{x}\" y1=\"{min_y}\" x2=\"{x}\" y2=\"{max_y}\" stroke=\"gray\" stroke-width=\"0.01\" />\\n'\n",
    "            svg += f\"<text x='{x}' y='{min_y - 0.35}' text-anchor='middle' font-size='0.6'>{x}</text>\\n\"\n",
    "        for y in range(min_y, max_y + 1):b\n",
    "            svg += f'<line x1=\"{min_x}\" y1=\"{y}\" x2=\"{max_x}\" y2=\"{y}\" stroke=\"gray\" stroke-width=\"0.01\" />\\n'\n",
    "            svg += f\"<text x='{min_x - 0.35}' y='{y + 0.2}' text-anchor='end' font-size='0.6'>{y}</text>\\n\"\n",
    "    for x1, y1, x2, y2 in povezave:\n",
    "        svg += f\"<circle cx='{x1}' cy='{y1}' r='0.1' />\\n\"\n",
    "        svg += f\"<circle cx='{x2}' cy='{y2}' r='0.1' />\\n\"\n",
    "        svg += f'<line x1=\"{x1}\" y1=\"{y1}\" x2=\"{x2}\" y2=\"{y2}\" stroke=\"black\" stroke-width=\"0.1\" />\\n'\n",
    "    svg += '</svg>'\n",
    "    with open(ime_dat, 'w') as f:\n",
    "        f.write(svg)"
   ]
  },
  {
   "cell_type": "markdown",
   "id": "b926e727-d825-4447-a337-1a82d762f459",
   "metadata": {},
   "source": [
    "## Ocena 10\n",
    "\n",
    "Napiši naslednje funkcije.\n",
    "\n",
    "### `povezane(mreza)`\n",
    "\n",
    "- `povezane(mreza)` prejme mrežo in vrne slovar, katerega ključi so posamične povezave, pripadajoče vrednosti pa množice povezav, s katerimi je ta povezava povezana. \n",
    "\n",
    "    Vrnjeni slovar vsebuje, recimo,\n",
    "\n",
    "    ```\n",
    "    (8, 15, 13, 15): {(9, 14, 9, 17),\n",
    "                      (11, 13, 11, 20),\n",
    "                      (12, 14, 12, 17),\n",
    "                      (13, 15, 13, 16)},\n",
    "    ```\n",
    "  \n",
    "    ker je povezava `(8, 15, 13, 15)` povezana z naštetimi štirimi povezavami.\n",
    "\n",
    "    Komentar: sam sem to funkcijo napisal z običajno zanko. Koristen je razmislek, zakaj je to zoprno narediti z izpeljanim slovarjem.\n",
    "\n",
    "#### Rešitev\n",
    "\n",
    "Pač."
   ]
  },
  {
   "cell_type": "code",
   "execution_count": 51,
   "id": "855afbdc-4bf7-4851-bf8f-cd6c770f0a30",
   "metadata": {},
   "outputs": [],
   "source": [
    "def povezane(mreza):\n",
    "    p = defaultdict(set)\n",
    "    for p1, p2 in mreza:\n",
    "        p[p1].add(p2)\n",
    "        p[p2].add(p1)\n",
    "    return p"
   ]
  },
  {
   "cell_type": "markdown",
   "id": "6254df9d-d304-402d-912d-af52ea32b6e2",
   "metadata": {},
   "source": [
    "Rešitev z izpeljanim slovarjem je zoprna zato, ker moramo za vsak element `mreza` v slovar dodati dve povezavi."
   ]
  },
  {
   "cell_type": "markdown",
   "id": "5eb285fb-b7a7-42b1-8755-2adfa548ce53",
   "metadata": {},
   "source": [
    "### `dostopne(povezava, mreza)`\n",
    "\n",
    "- `dostopne(povezava, mreza)` vrne množico vseh povezav, ki so dostopne iz dane povezave (= pneposredno ali posredno povezavne s to povezavo). Množica vključuje tudi to povezavo.\n",
    "\n",
    "    Pomoč: sestavljaj seznam, v katerem je v začetku izhodiščna povezava, potem pa za vsak element v seznamu dodaš povezave, iz katerih je ta element dostopen. Pri tem moraš paziti, da se ne zaciklaš: nobene povezave ne dodaj dvakrat.\n",
    "\n",
    "    Če že veš za rekurzivne funkcije: nismo se jih še učili in tule jih tudi ne potrebuješ. Lažje je brez.\n",
    "\n",
    "#### Rešitev\n",
    "\n",
    "Da bo lažje, v začetku pokličimo `povezane`, da izvemo možne naslednje korake za vsako povezavo.\n",
    "\n",
    "Potem storimo, kot svetuje naloga. `doslej` bo seznam vseh točk, za katere vemo doslej. Čez to gremo z zanko; za vsako povezavo, dodamo v `doslej` vse povezave, do katerih se pride s te povezave in še niso v `doslej`. Zanka `for` tako teče čez seznam, ki se sproti dopolnjuje. To je nič ne moti, to gre.\n",
    "\n",
    "Bodimo pozorni na `moznost not in doslej`: brez tega bi se lahko zaciklali na neki krožni poti. To bo postalo pomembno v naslednji nalogi.\n",
    "\n",
    "Na koncu vrnemo v množico, ki vsebuje vse elemente seznama."
   ]
  },
  {
   "cell_type": "code",
   "execution_count": null,
   "id": "59bc3223-509d-4168-9049-204409016cff",
   "metadata": {},
   "outputs": [],
   "source": [
    "def dostopne(povezava, mreza):\n",
    "    moznosti = povezane(mreza)\n",
    "    doslej = [urejena(povezava)]\n",
    "    for povezava in doslej:\n",
    "        for moznost in moznosti[povezava]:\n",
    "            if moznost not in doslej:\n",
    "                doslej.append(moznost)\n",
    "    return set(doslej)\n"
   ]
  },
  {
   "cell_type": "markdown",
   "id": "d9d32cac-1f63-4f95-86d0-ba683b85460b",
   "metadata": {},
   "source": [
    "Ne bi mogli že takoj sestavljati množice? Ne. Zanko `for` smemo spustiti prek seznama, ki se spreminja (sploh, če se spreminja še neobiskani del seznama), ne pa prek spreminjajoče se množice. Pri dodajanju ali brisanju elementov iz množice lahko te namreč spremenijo vrstni red elementov in zanka ne bi imela smisla. Zato moramo storiti, kot smo storili - dodajamo v seznam in na koncu iz njega sestavimo množico."
   ]
  },
  {
   "cell_type": "markdown",
   "id": "877d1e0c-0b54-4038-a9de-05aa04f750d0",
   "metadata": {},
   "source": [
    "### `pot(sx, sy, ex, ey, mreza)`\n",
    "\n",
    "- `pot(sx, sy, ex, ey, mreza)` mora vrniti seznam z zaporedjem povezav, ki vodijo od  podane začetne točke (`sx`, `sy`) do končne točke (`ex`, `ey`). Če takšne poti ni mogoče opraviti, ker ena od točk (ali obe) ne leži na povezavi ali pa med točkama ni povezav, funkcija vrne `None`.\n",
    "\n",
    "    Za vrnjeno pot mora torej veljati, da začetna točka leži na prvi povezavi, d končna točka leži na končni povezavi, in da je pot med njima možna. Testi bodo za preverjanje pravilnosti rešitve uporabljali kar tvoje funkcije `na_povezavi` in `mozna_pot`. Če vrnejo napako, je morda problem v teh dveh funkcijah in ne v `pot`. (To je, upam, malo verjetno, saj sta tudi tidve funkciji prej preverjeni.)\n",
    "\n",
    "    Pomoč: prejšnjo nalogo smo reševali kot vajo za to. Stvar je podobna, le da ne sestavljaj seznama povezav temveč seznam poti, ki jih dopolnjuješ z novimi končnimi povezavami. Tudi tu gre čisto lepo brez rekurzije. Rešitev ni posebej učinkovita z vidika pomnilnika.\n",
    "\n",
    "    Če si že slišal za Dijkstrov algoritem: ne kompliciraj. Seveda lahko rešuješ tudi z njim, vendar je za to nalogo dovolj, da poiščeš eno od možnih poti. (Če se boš pametno lotil, boš najbrž poiskal najkrajšo pot v smislu najmanjšega števila uporabljenih povezav.)\n",
    "\n",
    "#### Rešitev\n",
    "\n",
    "Tole se bo lažje pogovarjati ob kodi."
   ]
  },
  {
   "cell_type": "code",
   "execution_count": 52,
   "id": "ca203f54-9688-4003-a9bf-07a3a9942677",
   "metadata": {},
   "outputs": [],
   "source": [
    "def pot(sx, sy, ex, ey, mreza):\n",
    "    povezave = []\n",
    "    for par in mreza:\n",
    "        povezave += par\n",
    "    prve = povezave_tocke(sx, sy, povezave)\n",
    "    if not prve:\n",
    "        return None\n",
    "    \n",
    "    moznosti = povezane(mreza)\n",
    "    poti = [[prve.pop()]]\n",
    "    znano = set()\n",
    "    for pot in poti:\n",
    "        x0, y0, x1, y1 = pot[-1]\n",
    "        if x0 <= ex <= x1 and y0 <= ey <= y1:\n",
    "            return pot\n",
    "        for moznost in moznosti[(x0, y0, x1, y1)]:\n",
    "            if moznost not in znano:\n",
    "                znano.add(moznost)\n",
    "                poti.append(pot + [moznost])\n",
    "    return None"
   ]
  },
  {
   "cell_type": "markdown",
   "id": "3903e8ad-8a1e-433b-9a80-6e13e34c7009",
   "metadata": {},
   "source": [
    "Prvi del je dolg glede na to, kako trivialen je: poiščemo povezavo, na kateri je prva točka. Ker imamo `mreza`, iz tega naredimo `povezave`, potem pa pokličemo `povezave_tocke`. Dobili bomo množico. Če je prazna, prva točka ni na poti in vrnemo `None`.\n",
    "\n",
    "Če poškilimo v drugi del: ta vsebuje `prve.pop()`. Ker je `prve` množica, je `prve.pop()` najpreprostejši način, da pridemo do enega od njenih elementov. Na to, katerega bomo dobili, ne moremo vplivati, niti ni pomembno: če točka leži na dveh povezavah, lahko začnemo na eni ali drugi. Če začnemo na \"napačni\" bomo tako ali tako že v enem koraku prišli na drugo. Pot bo (navidez) en korak daljša, to je vse.\n",
    "\n",
    "Bistvo je v drugem delu. Ta je po ideji podoben prejšnji funkciji - pravzaprav ste morali prejšnjo funkcijo pisati zato, da bi lažje razmišljali o tej. Poleg `moznosti`, ki ima enako vlogo kot v prejšnji funkciji, imamo dve novi spremenljivki.\n",
    "\n",
    "- `poti` je podobna temu, kar je v prejšnji funkciji počela `doslej`. `doslej` je vsebovala vse točke, do katerih smo prišli. Poti pa ne vsebuje le posamičnih točk temveč celotne poti. Poti je torej seznam seznamov - seznam vseh možnih poti, ki smo jih odkrili. Tako kot smo šli prej z zanko prek `doslej`, gremo zdaj z zanko prek `poti`. Pogledamo zadnji element poti `pot[-1]`. Če ciljna točka leži na tej poti, vrnemo `pot`. Če ne, pa v `poti` dodamo vse poti, ki so sestavljene iz `pot`-i doslej, h kateri dodamo še možno naslednjo povezavo.\n",
    " \n",
    "- `znano` so vse povezave, do katerih smo že kdaj prišli. V prejšnji funkciji smo imeli `moznost not in doslej`. Tu nam `moznost not in poti` ne bi pomagala, saj `poti` vsebuje celotne poti, `moznost` pa je posamična povezava. `znano` je množica, saj je tako bolj prav - preverjanje, ali množica vsebuje nek element, je hitrejša od preverjanja, ali *seznam* vsebuje nek element.\n",
    "\n",
    "Če se zanka izteče, to pomeni, da smo prehodili vse povezava, do katerih lahko pridemo iz začetne povezave, ne da bi prišli do iskane točke. V tem primeru pač vrnemo `None`."
   ]
  }
 ],
 "metadata": {
  "kernelspec": {
   "display_name": "Python 3 (ipykernel)",
   "language": "python",
   "name": "python3"
  },
  "language_info": {
   "codemirror_mode": {
    "name": "ipython",
    "version": 3
   },
   "file_extension": ".py",
   "mimetype": "text/x-python",
   "name": "python",
   "nbconvert_exporter": "python",
   "pygments_lexer": "ipython3",
   "version": "3.12.7"
  }
 },
 "nbformat": 4,
 "nbformat_minor": 5
}
