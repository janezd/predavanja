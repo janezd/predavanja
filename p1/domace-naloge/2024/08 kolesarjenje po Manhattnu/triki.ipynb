{
 "cells": [
  {
   "cell_type": "markdown",
   "id": "c768590d-678a-45ea-a9a3-279ab45acecb",
   "metadata": {},
   "source": [
    "Tule je še nekaj stvari, ki sicer niso nič posebnega, le na predavanju ni bilo časa zanje.\n",
    "\n",
    "## Generator z dvema zankama\n",
    "\n",
    "Recimo, da bi kdo iz nekega neznanega razloga hotel napisati takšen program."
   ]
  },
  {
   "cell_type": "code",
   "execution_count": 3,
   "id": "e9945da4-a353-42fc-b2b8-d2d8a2e9e919",
   "metadata": {},
   "outputs": [
    {
     "name": "stdout",
     "output_type": "stream",
     "text": [
      "[('Anže', 'Ana'), ('Anže', 'Berta'), ('Anže', 'Cilka'), ('Anže', 'Dani'), ('Benjamin', 'Ana'), ('Benjamin', 'Berta'), ('Benjamin', 'Cilka'), ('Benjamin', 'Dani'), ('Cene', 'Ana'), ('Cene', 'Berta'), ('Cene', 'Cilka'), ('Cene', 'Dani')]\n"
     ]
    }
   ],
   "source": [
    "tipi = [\"Anže\", \"Benjamin\", \"Cene\"]\n",
    "tipinje = [\"Ana\", \"Berta\", \"Cilka\", \"Dani\"]\n",
    "\n",
    "pari = []\n",
    "for tip in tipi:\n",
    "    for tipinja in tipinje:\n",
    "        pari.append((tip, tipinja))\n",
    "print(pari)"
   ]
  },
  {
   "cell_type": "markdown",
   "id": "ffaa0153-108c-44e2-920f-37d0d522bf8a",
   "metadata": {},
   "source": [
    "Če hočeš to napisati z izpeljanim seznamom, tega **ne narediš** tako:"
   ]
  },
  {
   "cell_type": "code",
   "execution_count": 5,
   "id": "8f6d1083-585d-4628-bdf0-c3deaf50997f",
   "metadata": {},
   "outputs": [
    {
     "name": "stdout",
     "output_type": "stream",
     "text": [
      "[[('Anže', 'Ana'), ('Anže', 'Berta'), ('Anže', 'Cilka'), ('Anže', 'Dani')], [('Benjamin', 'Ana'), ('Benjamin', 'Berta'), ('Benjamin', 'Cilka'), ('Benjamin', 'Dani')], [('Cene', 'Ana'), ('Cene', 'Berta'), ('Cene', 'Cilka'), ('Cene', 'Dani')]]\n"
     ]
    }
   ],
   "source": [
    "print([[(x, y) for y in tipinje] for x in tipi])"
   ]
  },
  {
   "cell_type": "markdown",
   "id": "3ebae9e7-4beb-461d-a047-77b7beab466a",
   "metadata": {},
   "source": [
    "To namreč vrne seznam, ki vsebuje sezname.\n",
    "\n",
    "Izpeljani seznami lahko vsebujejo tudi več zank. Pišemo jih z leve proti desni, najprej zunanjo."
   ]
  },
  {
   "cell_type": "code",
   "execution_count": 6,
   "id": "f0a56783-0348-47b9-a8b4-5398458e987c",
   "metadata": {},
   "outputs": [
    {
     "data": {
      "text/plain": [
       "[('Anže', 'Ana'),\n",
       " ('Anže', 'Berta'),\n",
       " ('Anže', 'Cilka'),\n",
       " ('Anže', 'Dani'),\n",
       " ('Benjamin', 'Ana'),\n",
       " ('Benjamin', 'Berta'),\n",
       " ('Benjamin', 'Cilka'),\n",
       " ('Benjamin', 'Dani'),\n",
       " ('Cene', 'Ana'),\n",
       " ('Cene', 'Berta'),\n",
       " ('Cene', 'Cilka'),\n",
       " ('Cene', 'Dani')]"
      ]
     },
     "execution_count": 6,
     "metadata": {},
     "output_type": "execute_result"
    }
   ],
   "source": [
    "[(tip, tipinja) for tip in tipi for tipinja in tipinje]"
   ]
  },
  {
   "cell_type": "markdown",
   "id": "b7def69e-5aa9-4ed0-9a93-a7dfde26e1ba",
   "metadata": {},
   "source": [
    "Seveda je dovoljen tudi `if`."
   ]
  },
  {
   "cell_type": "code",
   "execution_count": 8,
   "id": "412edcca-76b1-44d8-bda7-5bf0e80a90a1",
   "metadata": {},
   "outputs": [
    {
     "data": {
      "text/plain": [
       "[('Anže', 'Berta'),\n",
       " ('Anže', 'Cilka'),\n",
       " ('Anže', 'Dani'),\n",
       " ('Benjamin', 'Cilka'),\n",
       " ('Benjamin', 'Dani'),\n",
       " ('Cene', 'Dani')]"
      ]
     },
     "execution_count": 8,
     "metadata": {},
     "output_type": "execute_result"
    }
   ],
   "source": [
    "[(tip, tipinja) for tip in tipi for tipinja in tipinje if tip[0] < tipinja[0]]"
   ]
  },
  {
   "cell_type": "markdown",
   "id": "ff4765a7-2d54-4954-a96a-4e19bc450ae1",
   "metadata": {},
   "source": [
    "## Generator za generatorjem\n",
    "\n",
    "Zgodi pa se tudi - ali pa se zdaj dogaja prvič - da bi kdo hotel napisati takšen program."
   ]
  },
  {
   "cell_type": "code",
   "execution_count": 10,
   "id": "2f1b652d-1a53-4397-8af9-4aa3fbd5be62",
   "metadata": {},
   "outputs": [
    {
     "name": "stdout",
     "output_type": "stream",
     "text": [
      "[30, 90, 20, 156]\n"
     ]
    }
   ],
   "source": [
    "stevila = \"5 9 4 12\"\n",
    "\n",
    "s = []\n",
    "for stevilo in stevila.split():\n",
    "    x = int(stevilo)\n",
    "    s.append(x * (x + 1))\n",
    "\n",
    "print(s)"
   ]
  },
  {
   "cell_type": "markdown",
   "id": "6929f597-f0ea-4409-af4c-4a89753218b2",
   "metadata": {},
   "source": [
    "Če bi se mu zahotelo to napisati z izpeljanim seznamom, bi bil navidez prisiljen storiti tako."
   ]
  },
  {
   "cell_type": "code",
   "execution_count": 11,
   "id": "6f72f3d3-7596-4721-b357-d466db7c81c2",
   "metadata": {},
   "outputs": [
    {
     "data": {
      "text/plain": [
       "[30, 90, 20, 156]"
      ]
     },
     "execution_count": 11,
     "metadata": {},
     "output_type": "execute_result"
    }
   ],
   "source": [
    "[int(stevilo) * (int(stevilo) + 1) for stevilo in stevila.split()]"
   ]
  },
  {
   "cell_type": "markdown",
   "id": "5aae3bb8-76b7-43a1-b3d8-60eac19a12f7",
   "metadata": {},
   "source": [
    "Pri tem bi ga upravičeno iritiralo, da mora dvakrat poklicati `int`.\n",
    "\n",
    "Morda bi kdo pripomnil, da lahko uporabimo Walrusa."
   ]
  },
  {
   "cell_type": "code",
   "execution_count": 15,
   "id": "f28fa001-cec7-4f42-8bca-7f3a6d8e6d6a",
   "metadata": {},
   "outputs": [
    {
     "data": {
      "text/plain": [
       "[30, 90, 20, 156]"
      ]
     },
     "execution_count": 15,
     "metadata": {},
     "output_type": "execute_result"
    }
   ],
   "source": [
    "[(x := int(stevilo)) * (x + 1) for stevilo in stevila.split()]"
   ]
  },
  {
   "cell_type": "markdown",
   "id": "7ca8485f-8981-472c-913f-ea7f3a4e1e0a",
   "metadata": {},
   "source": [
    "Kaj pa vem. Mogoče je prav to eden od primerov, kjer ga nočem videti. Zato ga tule niti ne bom razlagal. Prava rešitev je takšna:"
   ]
  },
  {
   "cell_type": "code",
   "execution_count": 17,
   "id": "cceb0034-a19e-4ca2-b79c-4c58594bdd12",
   "metadata": {},
   "outputs": [
    {
     "data": {
      "text/plain": [
       "[30, 90, 20, 156]"
      ]
     },
     "execution_count": 17,
     "metadata": {},
     "output_type": "execute_result"
    }
   ],
   "source": [
    "[x * (x + 1) for x in (int(stevilo) for stevilo in stevila.split())]"
   ]
  },
  {
   "cell_type": "markdown",
   "id": "f3a7d50f-1969-437b-9d75-31a993961c56",
   "metadata": {},
   "source": [
    "Pravzaprav ne, prava rešitev tule je uporabiti `map`."
   ]
  },
  {
   "cell_type": "code",
   "execution_count": 19,
   "id": "c1ae227d-d168-45c2-9371-fcedf987f235",
   "metadata": {},
   "outputs": [
    {
     "data": {
      "text/plain": [
       "[30, 90, 20, 156]"
      ]
     },
     "execution_count": 19,
     "metadata": {},
     "output_type": "execute_result"
    }
   ],
   "source": [
    "[x * (x + 1) for x in map(int, stevila.split())]"
   ]
  },
  {
   "cell_type": "markdown",
   "id": "663f2f1d-bc0d-4f9a-9ff5-333ca1a42492",
   "metadata": {},
   "source": [
    "Vendar se o `map`-u nismo kaj prida pogovarjali, namen tega besedila pa je povedati, da lahko v primeru, da je potrebno pripraviti neko vrednost tako, da pokličemo funkcijo (tule le `int`, lahko pa gre za kaj bolj zapletenega), to storimo tako, da generator spustimo čez drug generator)."
   ]
  },
  {
   "cell_type": "markdown",
   "id": "77a1fde8-b5e2-450a-8451-52ac124419c1",
   "metadata": {},
   "source": [
    "## Zanka prek seznama, ki nastaja\n",
    "\n",
    "Zanka prek slovarja, v katerega znotraj zanke dodajamo elemente ali pa jih brišemo, je prepovedana. Če poskušamo kaj takšnega, bo Python javil napako.\n",
    "\n",
    "Zanka prek seznama, ki spreminja dolžino znotraj zanke, je običajno slaba ideja. Oziroma, je skoraj gotovo slaba ideja, če dodajamo ali brišemo elemente pred trenutno pozicijo. V nekaterih situacijah pa zna biti dobra ideja, če seznam dopolnjujemo, medtem ko gremo čezenj."
   ]
  },
  {
   "cell_type": "code",
   "execution_count": 21,
   "id": "0f4b3cd1-7454-47be-ba17-9368527cece8",
   "metadata": {},
   "outputs": [
    {
     "data": {
      "text/plain": [
       "[1, 2, 4, 8, 16, 32, 64]"
      ]
     },
     "execution_count": 21,
     "metadata": {},
     "output_type": "execute_result"
    }
   ],
   "source": [
    "s = [1]\n",
    "for x in s:\n",
    "    x *= 2\n",
    "    if x > 100:\n",
    "        break\n",
    "    s.append(x)\n",
    "\n",
    "s"
   ]
  },
  {
   "cell_type": "markdown",
   "id": "36e0cffd-df95-4541-8fdc-05b8c39e60b6",
   "metadata": {},
   "source": [
    "Ni, da se ne bi dalo živeti brez tega, včasih pa pride prav."
   ]
  },
  {
   "cell_type": "markdown",
   "id": "a7feb21c-2c7a-49c1-8378-5ce75bf74ad9",
   "metadata": {},
   "source": [
    "## Razpakiranje seznamov, slovarjev, terk, ... zaporedij\n",
    "\n",
    "Če imamo seznam `s`, bo `*s` (kot unarni operator, ne kot množenje) v vseh kontekstih, v katerih to smemo napisati, pomenilo isto kot `s[0], s[1], s[2], ...` in tako do konca. To velja tudi za terke. In tudi za slovarje in množice in karkoli, čez kar lahko gremo z zanko `for` (ali bolj učeno, za poljubno zaporedje `s`), le da tam seveda ne moremo pisati o `s[0]` in tako naprej."
   ]
  },
  {
   "cell_type": "code",
   "execution_count": 22,
   "id": "774900e7-b379-4798-a17d-262b375dabf8",
   "metadata": {},
   "outputs": [],
   "source": [
    "def f(x, y, z, u):\n",
    "    print(x, y, z, u)\n",
    "\n",
    "a = [1, 2]\n",
    "b = (3, 4)\n",
    "d = {1, 2, 3}"
   ]
  },
  {
   "cell_type": "code",
   "execution_count": 23,
   "id": "6e47f507-2a2e-4664-8db7-8c89f9054a42",
   "metadata": {},
   "outputs": [
    {
     "name": "stdout",
     "output_type": "stream",
     "text": [
      "0 1 2 4\n"
     ]
    }
   ],
   "source": [
    "f(0, *a, 4)"
   ]
  },
  {
   "cell_type": "code",
   "execution_count": 24,
   "id": "60ee55a9-b6bf-48b6-84a6-530f89892867",
   "metadata": {},
   "outputs": [
    {
     "name": "stdout",
     "output_type": "stream",
     "text": [
      "1 2 3 4\n"
     ]
    }
   ],
   "source": [
    "f(*a, *b)"
   ]
  },
  {
   "cell_type": "code",
   "execution_count": 25,
   "id": "5b11f064-00c0-4106-97e3-12cc0ded249c",
   "metadata": {},
   "outputs": [
    {
     "name": "stdout",
     "output_type": "stream",
     "text": [
      "14 1 2 3\n"
     ]
    }
   ],
   "source": [
    "f(14, *d)"
   ]
  },
  {
   "cell_type": "code",
   "execution_count": 26,
   "id": "cb8eec3b-2183-4101-8212-e9282dd9ea85",
   "metadata": {},
   "outputs": [
    {
     "name": "stdout",
     "output_type": "stream",
     "text": [
      "0 1 2 5\n"
     ]
    }
   ],
   "source": [
    "f(*range(3), 5)"
   ]
  },
  {
   "cell_type": "markdown",
   "id": "86cbbb71-60dc-4a51-89ab-f8bf836a79d3",
   "metadata": {},
   "source": [
    "Pa tudi:"
   ]
  },
  {
   "cell_type": "code",
   "execution_count": 27,
   "id": "d4b9694b-ea22-417c-be3a-d723f58bf359",
   "metadata": {},
   "outputs": [
    {
     "data": {
      "text/plain": [
       "[1, 2, 3, 1, 2, 5, 6, 10, 11, 1, 2, 3]"
      ]
     },
     "execution_count": 27,
     "metadata": {},
     "output_type": "execute_result"
    }
   ],
   "source": [
    "[1, 2, 3, *a, 5, 6, *range(10, 12), *d]"
   ]
  },
  {
   "cell_type": "code",
   "execution_count": 28,
   "id": "0375b9cc-a82f-4298-b3ba-1bccc6988d68",
   "metadata": {},
   "outputs": [
    {
     "data": {
      "text/plain": [
       "{1, 2, 3, 4}"
      ]
     },
     "execution_count": 28,
     "metadata": {},
     "output_type": "execute_result"
    }
   ],
   "source": [
    "{*a, *b}"
   ]
  },
  {
   "cell_type": "markdown",
   "id": "ee8ac88a-ce4f-4f03-8911-8b6159681f5c",
   "metadata": {},
   "source": [
    "## Veriženje\n",
    "\n",
    "Če imamo več generatorjev (ali seznemov, terk ipd) in bi radi šli z zanko prek njih, enega za drugim, uporabimo `chain` iz modula `itertools`."
   ]
  },
  {
   "cell_type": "code",
   "execution_count": 30,
   "id": "5693b077-f68f-4db2-b0f9-c865fc9abea3",
   "metadata": {},
   "outputs": [],
   "source": [
    "s = [1, 2, 3]\n",
    "t = [4, 5, 6]"
   ]
  },
  {
   "cell_type": "code",
   "execution_count": 31,
   "id": "147afefc-e93d-43b1-9330-954b35ea8bfb",
   "metadata": {},
   "outputs": [],
   "source": [
    "from itertools import chain"
   ]
  },
  {
   "cell_type": "code",
   "execution_count": 34,
   "id": "308b9956-ade0-4f4b-a8dc-f5f108e78848",
   "metadata": {},
   "outputs": [
    {
     "name": "stdout",
     "output_type": "stream",
     "text": [
      "1\n",
      "2\n",
      "3\n",
      "4\n",
      "5\n",
      "6\n",
      "7\n",
      "8\n",
      "9\n"
     ]
    }
   ],
   "source": [
    "for x in chain(s, t, range(7, 10)):\n",
    "    print(x)"
   ]
  },
  {
   "cell_type": "code",
   "execution_count": 35,
   "id": "2f0db5e0-7942-47bb-b3ed-9d154e012e9e",
   "metadata": {},
   "outputs": [
    {
     "name": "stdout",
     "output_type": "stream",
     "text": [
      "0\n",
      "1\n",
      "4\n",
      "0\n",
      "1\n",
      "8\n"
     ]
    }
   ],
   "source": [
    "for x in chain((x ** 2 for x in range(3)), (x ** 3 for x in range(3))):\n",
    "    print(x)"
   ]
  },
  {
   "cell_type": "markdown",
   "id": "79a94183-43dd-4cfc-bc1b-d7d33d11e6a2",
   "metadata": {},
   "source": [
    "## Veliki hack: veriženje z razpakiranjem\n",
    "\n",
    "Imejmo seznam seznam seznamov. Ali pa, recimo, množico terk. Skratka, imejmo nekaj, česar elementi vsebujejo elemente. Nekaj gnezdenega."
   ]
  },
  {
   "cell_type": "code",
   "execution_count": 37,
   "id": "eb188add-48fd-4938-8aaf-9290d01b7e4c",
   "metadata": {},
   "outputs": [],
   "source": [
    "s = [(1, 2, 3), (4, 5), (6, 7, 8, 9)]"
   ]
  },
  {
   "cell_type": "code",
   "execution_count": 38,
   "id": "589d4ede-6bfc-4a04-8353-96a68d593b8f",
   "metadata": {},
   "outputs": [
    {
     "name": "stdout",
     "output_type": "stream",
     "text": [
      "1\n",
      "2\n",
      "3\n",
      "4\n",
      "5\n",
      "6\n",
      "7\n",
      "8\n",
      "9\n"
     ]
    }
   ],
   "source": [
    "for x in chain(*s):\n",
    "    print(x)"
   ]
  },
  {
   "cell_type": "code",
   "execution_count": 39,
   "id": "cc1811f7-a8e8-427c-9d2a-b4daf69c11ce",
   "metadata": {},
   "outputs": [
    {
     "data": {
      "text/plain": [
       "[1, 2, 3, 4, 5, 6, 7, 8, 9]"
      ]
     },
     "execution_count": 39,
     "metadata": {},
     "output_type": "execute_result"
    }
   ],
   "source": [
    "list(chain(*s))"
   ]
  },
  {
   "cell_type": "markdown",
   "id": "212414af-249d-48e8-9a15-6a1e9ef3dc31",
   "metadata": {},
   "source": [
    "Razumemo? `chain`-u podamo *s, torej kot argument dobi vse, kar vsebuje `s`.\n",
    "\n",
    "```python\n",
    "chain(*s)\n",
    "```\n",
    "\n",
    "je v gornjem primeru isto kot\n",
    "\n",
    "```\n",
    "chain((1, 2, 3), (4, 5), (6, 7, 8, 9))\n",
    "```\n",
    "\n",
    "`chain` bo izgeneriral vse elemente teh terk.\n",
    "\n",
    "V jezikih, ki imajo `flatten`, se temu reče `flatten`. :)"
   ]
  }
 ],
 "metadata": {
  "kernelspec": {
   "display_name": "Python 3 (ipykernel)",
   "language": "python",
   "name": "python3"
  },
  "language_info": {
   "codemirror_mode": {
    "name": "ipython",
    "version": 3
   },
   "file_extension": ".py",
   "mimetype": "text/x-python",
   "name": "python",
   "nbconvert_exporter": "python",
   "pygments_lexer": "ipython3",
   "version": "3.12.6"
  }
 },
 "nbformat": 4,
 "nbformat_minor": 5
}
