{
 "cells": [
  {
   "cell_type": "markdown",
   "id": "4cd6c074",
   "metadata": {},
   "source": [
    "V zadnji nalogi so se kolesarji pomerili v neki dirki na izpadanje. Problem vseh tekem na izpadanje je, da na koncu vemo le, da je zmagovalec boljši od ostalih, ne pa tudi, v kakšnem vrstnem redu bi končali tekmo ostali, če ne bi izpadli.\n",
    "\n",
    "V neki dirki so sodelovale Jana, Tina, Berta, Dani, Greta, Liza in Micka. Zmagala je Jana, torej lahko vemo, da je hitrejša od njih. V neki drugi so bile Liza, Olga, Rezka in Vera. Zmagala je Liza. Potem lahko vemo ne le, da je Liza hitrejša od Rezke, temveč tudi, da je Jana hitrejša od Rezke (saj je hitrejša od Olge, ki je hitrejša od Rezka).\n",
    "\n",
    "## Obvezna naloga\n",
    "\n",
    "Napiši funkcijo `hitrejsi(kolesar1, kolesar2, razmerja)`, prejme imeni dveh kolesarjev in vrne ime hitrejšega od njiju. Če ni znano, kdo je hitrejši, pa vrne `None`. Klic `hitrejsi(\"Olga\", \"Dani\", razmerja)` vrne Dani, ker je Dani hitrejša od Cilke in ta od Olge. Klic `hitrejsi(\"Berta\", \"Micka\")` vrne `None`, ker ne obstaja pot ne od Berte do Micke ne obratno.\n",
    "\n",
    "**Najtoplejše priporočilo: ta funkcija najbrž ne bo rekurzivna.** Pač pa si napiši drugo, pomožno funkcijo, ki bo rekurzivna in ki jo bo funkcija `hitrejsi` poklicala dvakrat. (Prvič zato, da preveri, ali je prvi hitrejši od drugega. Drugič zato, da preveri, ali je morda obratno.)\n",
    "\n",
    "Kdor želi, pa lahko najprej reši dodatno nalogo in napisano funkcijo uporabi v obvezni nalogi.\n",
    "\n",
    "Argument `razmerja` je slovar, katerega ključi so imena kolesarjev, pripadajoče vrednosti pa imena tistih, od katerih je ta kolesar preverjeno hitrejši. Tako ključu \"Ana\" pripada množica `{\"Tina\", \"Berta\", \"Dani\", \"Greta\", \"Liza\", \"Micka\"}`. Kot ključi nastopajo vsi kolesarji, tudi tisti, ki niso hitrejši od nikogar. V testih se bo pojavljal slovar, ki predstavlja stanje na sliki, pa tudi drugačni slovarji.\n",
    "\n",
    "## Dodatna naloga\n",
    "\n",
    "Napiši funkcijo `dokazov(kolesar1, kolesar2, razmerja)`, ki vrne število dokazov, da je `kolesar1` hitrejši kot `kolesar2`.\n",
    "\n",
    "- Klic `dokazov(\"Jana\", \"Cilka\", razmerja)` vrne 4. Da je Jana hitrejša od Cilke lahko dokažemo z zaporedjem Jana - Berta - Cilka, Jana - Dani - Ana - Cilka, Jana - Dani - Cilka in Jana - Dani - Fanči - Cilka.\n",
    "\n",
    "- Klic `dokazov(\"Dani\", \"Liza\", razmerja)` vrne 3, saj imamo poti Dani - Fanči - Liza, Dani - Liza in Dani - Micka - Liza.\n",
    "\n",
    "Če `kolesar1` ni hitrejši kot `kolesar2` (ker razmerje ni znano ali pa je celo počasnejši) funkcija vrne `0`."
   ]
  },
  {
   "cell_type": "markdown",
   "id": "e6514fec",
   "metadata": {},
   "source": [
    "<img src=\"data:image/.png;base64,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\"/>"
   ]
  },
  {
   "cell_type": "code",
   "execution_count": 1,
   "id": "34b0faee",
   "metadata": {},
   "outputs": [],
   "source": [
    "razmerja = {'Ana': {'Vera', 'Cilka'},\n",
    "            'Berta': {'Greta', 'Klara', 'Iva', 'Cilka'},\n",
    "            'Cilka': {'Olga'},\n",
    "            'Črtomira': set(),\n",
    "            'Dani': {'Liza', 'Ana', 'Fanči', 'Cilka', 'Micka', 'Greta'},\n",
    "            'Ema': set(),\n",
    "            'Fanči': {'Liza', 'Poldka', 'Cilka'},\n",
    "            'Greta': set(),\n",
    "            'Helga': set(),\n",
    "            'Iva': {'Ema', 'Helga'},\n",
    "            'Jana': {'Liza', 'Dani', 'Berta', 'Micka', 'Tina', 'Greta'},\n",
    "            'Klara': {'Helga', 'Nina'},\n",
    "            'Liza': {'Vera', 'Olga', 'Rezka'},\n",
    "            'Micka': {'Liza', 'Saša', 'Urša'},\n",
    "            'Nina': {'Olga', 'Poldka'},\n",
    "            'Olga': {'Poldka'},\n",
    "            'Poldka': set(),\n",
    "            'Rezka': {'Saša'},\n",
    "            'Saša': set(),\n",
    "            'Špela': {'Žana'},\n",
    "            'Tina': set(),\n",
    "            'Urša': {'Vera'},\n",
    "            'Vera': set(),\n",
    "            'Zoja': {'Žana', 'Tina'},\n",
    "            'Žana': set()}"
   ]
  },
  {
   "cell_type": "markdown",
   "id": "b170fee0",
   "metadata": {},
   "source": [
    "## Rešitev\n",
    "\n",
    "### Obvezna naloga\n",
    "\n",
    "Ubogajmo nasvet: napišimo pomožno funkcijo `je_hitrejsi(kolesar1, kolesar2, razmerja)`, ki bo vrnila `True`, če je `kolesar1` hitrejši kot `kolesar2`.\n",
    "\n",
    "Ta bo preprosta: `kolesar1` je hitrejši kot `kolesar2`, če ga je premagal neposredno (`kolesar2 in razmerja[kolesar1]`, ali pa je `kolesar1` premagal nekega kolesarja, ki je hitrejši kot `kolesar2`."
   ]
  },
  {
   "cell_type": "code",
   "execution_count": 2,
   "id": "0d169ffc",
   "metadata": {},
   "outputs": [],
   "source": [
    "def je_hitrejsi(kolesar1, kolesar2, razmerja):\n",
    "    if kolesar2 in razmerja[kolesar1]:\n",
    "        return True\n",
    "    for kolesar3 in razmerja[kolesar1]:\n",
    "        if je_hitrejsi(kolesar3, kolesar2, razmerja):\n",
    "            return True\n",
    "    return False"
   ]
  },
  {
   "cell_type": "markdown",
   "id": "75661e0b",
   "metadata": {},
   "source": [
    "Gre tudi krajše:"
   ]
  },
  {
   "cell_type": "code",
   "execution_count": 3,
   "id": "aa865ebe",
   "metadata": {},
   "outputs": [],
   "source": [
    "def je_hitrejsi(kolesar1, kolesar2, razmerja):\n",
    "    return kolesar2 in razmerja[kolesar1] \\\n",
    "        or any(je_hitrejsi(kolesar3, kolesar2, razmerja)\n",
    "               for kolesar3 in razmerja[kolesar1])"
   ]
  },
  {
   "cell_type": "markdown",
   "id": "c29b0f17",
   "metadata": {},
   "source": [
    "Rešitev naloge je potem"
   ]
  },
  {
   "cell_type": "code",
   "execution_count": 4,
   "id": "1ace61c4",
   "metadata": {},
   "outputs": [],
   "source": [
    "def hitrejsi(kolesar1, kolesar2, razmerja):\n",
    "    if je_hitrejsi(kolesar1, kolesar2, razmerja):\n",
    "        return kolesar1\n",
    "    if je_hitrejsi(kolesar2, kolesar1, razmerja):\n",
    "        return kolesar2\n",
    "    return None"
   ]
  },
  {
   "cell_type": "markdown",
   "id": "3c7088b9",
   "metadata": {},
   "source": [
    "Tule tudi Pythonov ternarni operator ne izpade preveč grozno. Pravzaprav izpade skoraj pregledno."
   ]
  },
  {
   "cell_type": "code",
   "execution_count": 5,
   "id": "27abc3fb",
   "metadata": {},
   "outputs": [],
   "source": [
    "def hitrejsi(kolesar1, kolesar2, razmerja):\n",
    "    return kolesar1 if je_hitrejsi(kolesar1, kolesar2, razmerja) \\\n",
    "        else kolesar2 if je_hitrejsi(kolesar2, kolesar1, razmerja) \\\n",
    "        else None"
   ]
  },
  {
   "cell_type": "markdown",
   "id": "03c5475a",
   "metadata": {},
   "source": [
    "Če postavimo funkcijo `je_hitrejsi` znotraj funkcije `hitrejsi`, se izognemo še kakemu argumentu `razmerja`."
   ]
  },
  {
   "cell_type": "code",
   "execution_count": 6,
   "id": "e611075b",
   "metadata": {},
   "outputs": [],
   "source": [
    "def hitrejsi(kolesar1, kolesar2, razmerja):\n",
    "    def je_hitrejsi(kdo, koga):\n",
    "        return koga in razmerja[kdo] \\\n",
    "            or any(je_hitrejsi(kolesar, koga) for kolesar in razmerja[kdo])\n",
    "\n",
    "    return kolesar1 if je_hitrejsi(kolesar1, kolesar2) \\\n",
    "        else kolesar2 if je_hitrejsi(kolesar2, kolesar1) \\\n",
    "        else None"
   ]
  },
  {
   "cell_type": "markdown",
   "id": "9edb8de3",
   "metadata": {},
   "source": [
    "Pravzaprav mi je bilo prej bolj všeč. :)"
   ]
  },
  {
   "cell_type": "markdown",
   "id": "8935dd5a",
   "metadata": {},
   "source": [
    "### Dodatna naloga\n",
    "\n",
    "Če je `kolesar2 in razmerja[kolesar1]`, je to že prvi dokaz. To je `True` ali `False`, torej `1` ali `0`. Če bi radi bili bolj papeški, dodamo še `int`, da bo res `1` ali `0`: torej, `int(kolesar2 in razmerja[kolesar1])`.\n",
    "\n",
    "Nato gremo čez vse kolesarje, ki jih je premagal `kolesar1` in jih povprašamo, koliko dokazov imajo, da so hitrejši kot `kolesar2`. To seštejemo: toliko je poti od `kolesar1` do `kolesar2`. "
   ]
  },
  {
   "cell_type": "code",
   "execution_count": 8,
   "id": "71ec7c0f",
   "metadata": {},
   "outputs": [],
   "source": [
    "def dokazov(kolesar1, kolesar2, razmerja):\n",
    "    return (kolesar2 in razmerja[kolesar1]) \\\n",
    "           + sum(dokazov(kolesar3, kolesar2, razmerja)\n",
    "                 for kolesar3 in razmerja[kolesar1])"
   ]
  },
  {
   "cell_type": "markdown",
   "id": "511c70d4",
   "metadata": {},
   "source": [
    "### Obvezna naloga po dodatni\n",
    "\n",
    "Če najprej rešimo dodatno, lahko z njo rešimo obvezno. Namesto da bi napisali funkcijo `je_hitrejsi`, kličemo kar funkcijo `dokazov`. Njen rezultat bo različen od `0` - torej resničen - natanko takrat, ko obstaja kak dokaz, da je en kolesar hitrejši od drugega."
   ]
  },
  {
   "cell_type": "code",
   "execution_count": 9,
   "id": "64326c48",
   "metadata": {},
   "outputs": [],
   "source": [
    "def hitrejsi(kolesar1, kolesar2, razmerja):\n",
    "    return kolesar1 if dokazov(kolesar1, kolesar2, razmerja) \\\n",
    "        else kolesar2 if dokazov(kolesar2, kolesar1, razmerja) \\\n",
    "        else None"
   ]
  },
  {
   "cell_type": "code",
   "execution_count": null,
   "id": "7c29099f",
   "metadata": {},
   "outputs": [],
   "source": []
  }
 ],
 "metadata": {
  "kernelspec": {
   "display_name": "Python 3 (ipykernel)",
   "language": "python",
   "name": "python3"
  },
  "language_info": {
   "codemirror_mode": {
    "name": "ipython",
    "version": 3
   },
   "file_extension": ".py",
   "mimetype": "text/x-python",
   "name": "python",
   "nbconvert_exporter": "python",
   "pygments_lexer": "ipython3",
   "version": "3.11.5"
  }
 },
 "nbformat": 4,
 "nbformat_minor": 5
}
