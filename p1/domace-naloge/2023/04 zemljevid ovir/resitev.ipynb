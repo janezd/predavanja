{
 "cells": [
  {
   "cell_type": "markdown",
   "id": "1243445e",
   "metadata": {},
   "source": [
    "Naloga vsebuje teste. Naloga je rešena samo, če prestane vse teste. Poglej [navodila za poganjanje testov](https://ucilnica.fri.uni-lj.si/mod/page/view.php?id=7672).\n",
    "\n",
    "MOL je poslal zemljevid ovir na kolesarski poti. Zemljevid je shranjen kot seznam nizov, ki predstavljajo \"vrstice\": `#` predstavlja oviro, `.` pa prosto pot. Tipičen primer korektno zašikanirane kolesarske steze je\n",
    "\n",
    "```\n",
    "zemljevid = [\n",
    "    \"......\",\n",
    "    \"..##..\",\n",
    "    \".##.#.\",\n",
    "    \"...###\",\n",
    "    \"###.##\",\n",
    "]\n",
    "```\n",
    "\n",
    "Napiši naslednje funkcije.\n",
    "\n",
    "\n",
    "## 1. Dolžina ovir\n",
    "\n",
    "`dolzina_ovir(vrstica)` prejme eno vrstico, na primer `\".##.####...##.\"` in vrne skupno dolžino ovir, torej, število znakov `#` (v tem primeru 8).\n",
    "\n",
    "### Rešitev"
   ]
  },
  {
   "cell_type": "markdown",
   "id": "b928e479",
   "metadata": {},
   "source": [
    "Pripravimo si vrstico, da bomo imeli na čem preskušati funkcije. (Domači nalogi so priloženi testi, ki jih sami kličejo in preskušajo.)"
   ]
  },
  {
   "cell_type": "code",
   "execution_count": 1,
   "id": "b6df48cb",
   "metadata": {},
   "outputs": [],
   "source": [
    "vrstica = \".##.####...##.\""
   ]
  },
  {
   "cell_type": "markdown",
   "id": "9fec574b",
   "metadata": {},
   "source": [
    "Prešteti moramo število `#` v nizu.\n",
    "\n",
    "Če ne vemo ničesar od tega, česar se še nismo učili, to storimo z zanko."
   ]
  },
  {
   "cell_type": "code",
   "execution_count": 2,
   "id": "28992366",
   "metadata": {},
   "outputs": [],
   "source": [
    "def dolzina_ovir(vrstica):\n",
    "    ovir = 0\n",
    "    for znak in vrstica:\n",
    "        if znak == \"#\":\n",
    "            ovir += 1\n",
    "    return ovir"
   ]
  },
  {
   "cell_type": "code",
   "execution_count": 3,
   "id": "2ab4a31b",
   "metadata": {},
   "outputs": [
    {
     "data": {
      "text/plain": [
       "8"
      ]
     },
     "execution_count": 3,
     "metadata": {},
     "output_type": "execute_result"
    }
   ],
   "source": [
    "dolzina_ovir(vrstica)"
   ]
  },
  {
   "cell_type": "markdown",
   "id": "0105de1c",
   "metadata": {},
   "source": [
    "Če se spomnimo, da je `True` isto kot `1` in `False` isto kot `0`, lahko seštevamo kar `znak == \"#\"`. Ta izraz bo imel vrednost `True` ali `False` torej `0` ali `1`."
   ]
  },
  {
   "cell_type": "code",
   "execution_count": 4,
   "id": "48e9c9b2",
   "metadata": {},
   "outputs": [],
   "source": [
    "def dolzina_ovir(vrstica):\n",
    "    ovir = 0\n",
    "    for znak in vrstica:\n",
    "        ovir += znak == \"#\"\n",
    "    return ovir"
   ]
  },
  {
   "cell_type": "code",
   "execution_count": 5,
   "id": "11237f38",
   "metadata": {},
   "outputs": [
    {
     "data": {
      "text/plain": [
       "8"
      ]
     },
     "execution_count": 5,
     "metadata": {},
     "output_type": "execute_result"
    }
   ],
   "source": [
    "dolzina_ovir(vrstica)"
   ]
  },
  {
   "cell_type": "markdown",
   "id": "f5689fd7",
   "metadata": {},
   "source": [
    "Ali je to lepo ali ne, je stvar okusa. Dobro pa je vedeti, da bomo znali nekoč napisati"
   ]
  },
  {
   "cell_type": "code",
   "execution_count": 6,
   "id": "9b19e9b3",
   "metadata": {},
   "outputs": [],
   "source": [
    "def dolzin_ovir(vrstica):\n",
    "    return sum(znak == \"#\" for znak in vrstica)"
   ]
  },
  {
   "cell_type": "code",
   "execution_count": 7,
   "id": "b26a6be6",
   "metadata": {},
   "outputs": [
    {
     "data": {
      "text/plain": [
       "8"
      ]
     },
     "execution_count": 7,
     "metadata": {},
     "output_type": "execute_result"
    }
   ],
   "source": [
    "dolzina_ovir(vrstica)"
   ]
  },
  {
   "cell_type": "markdown",
   "id": "585f487d",
   "metadata": {},
   "source": [
    "Vse to je, po drugi strani, nesmiselno, saj nizi znajo sami povedati, kolikokrat vsebujejo določen znak. Kot se bomo naučili prav v tem tednu, lahko nalogo rešimo preprosto z"
   ]
  },
  {
   "cell_type": "code",
   "execution_count": 8,
   "id": "af6301da",
   "metadata": {},
   "outputs": [],
   "source": [
    "def dolzina_ovir(vrstica):\n",
    "    return vrstica.count(\"#\")"
   ]
  },
  {
   "cell_type": "code",
   "execution_count": 9,
   "id": "11da5501",
   "metadata": {},
   "outputs": [
    {
     "data": {
      "text/plain": [
       "8"
      ]
     },
     "execution_count": 9,
     "metadata": {},
     "output_type": "execute_result"
    }
   ],
   "source": [
    "dolzina_ovir(vrstica)"
   ]
  },
  {
   "cell_type": "markdown",
   "id": "70f99080",
   "metadata": {},
   "source": [
    "## 2. Število ovir\n",
    "\n",
    "`stevilo_ovir(vrstica)` prejme vrstico in vrne število ovir v vrstici. Za gornji primer mora vrniti 3, saj imamo najprej eno dvojno šikano, nato eno četverno in potem spet eno dvojno - skupaj tri.\n",
    "\n",
    "### Razmislek in priprava\n",
    "\n",
    "Ovir je toliko kot začetkov ovir. Torej toliko kot znakov `#`, ki se nahajajo neposredno za znakom `.` ali pa na začetku niza.\n",
    "\n",
    "Spet si pripravimo vrstico - tokrat takšno, ki bo imela oviro tudi čisto na začetku in na koncu, saj bosta prav tidve povzročali sitnosti."
   ]
  },
  {
   "cell_type": "code",
   "execution_count": 10,
   "id": "5c7b0d73",
   "metadata": {},
   "outputs": [],
   "source": [
    "vrstica = \"##.##.####...#....#\""
   ]
  },
  {
   "cell_type": "markdown",
   "id": "0461f7ee",
   "metadata": {},
   "source": [
    "Tu imamo torej `5` ovir.\n",
    "\n",
    "Očitno spet potrebujemo zanko, s katero bomo pregledali vse znake v nizu `vrstica`. Vendar bomo poleg trenutnega znaka potrebovali tudi prejšnjega.\n",
    "\n",
    "### Grda rešitev: ne počnite tega ...\n",
    "\n",
    "Začnimo z najgršo rešitvijo: zanko prek indeksov."
   ]
  },
  {
   "cell_type": "code",
   "execution_count": 11,
   "id": "be06a7bd",
   "metadata": {},
   "outputs": [],
   "source": [
    "def stevilo_ovir(vrstica):\n",
    "    ovir = 0\n",
    "    for i in range(len(vrstica)):\n",
    "        if vrstica[i] == \"#\" and (i == 0 or vrstica[i - 1] == \".\"):\n",
    "            ovir += 1\n",
    "    return ovir"
   ]
  },
  {
   "cell_type": "code",
   "execution_count": 12,
   "id": "cb62c55b",
   "metadata": {},
   "outputs": [
    {
     "data": {
      "text/plain": [
       "5"
      ]
     },
     "execution_count": 12,
     "metadata": {},
     "output_type": "execute_result"
    }
   ],
   "source": [
    "stevilo_ovir(vrstica)"
   ]
  },
  {
   "cell_type": "markdown",
   "id": "57b9daa4",
   "metadata": {},
   "source": [
    "Ta rešitev deluje, to pa je tudi vse, kar lahko dobrega povemo o njej.\n",
    "\n",
    "No, mnogi jo imajo za dobro, ker je enaka rešitvi, ki bi jo napisali v kakem drugem jeziku, ki so se ga učili od prej in ki temelji na tem, da na veliko indeksiramo levo in desno, naprej in nazaj. S tem v principu ni nič narobe, to včasih počnemo tudi v Pythonu. Python pa omogoča tudi drugačen način razmišljanja pri progrmairanju, in ta včasih vodi do lepših, jasnejših, preprostejših rešitev. Poglejmo."
   ]
  },
  {
   "cell_type": "markdown",
   "id": "39b27d31",
   "metadata": {},
   "source": [
    "### Rutinska rešitev v Pythonu: `zip` čez pare\n",
    "\n",
    "Da dobimo pare zaporednih znakov, uporabimo `zip(vrstica, vrstica[1:])`."
   ]
  },
  {
   "cell_type": "code",
   "execution_count": 13,
   "id": "264fa2cf",
   "metadata": {},
   "outputs": [],
   "source": [
    "def stevilo_ovir(vrstica):\n",
    "    ovir = 0\n",
    "    for prej, zdaj in zip(vrstica, vrstica[1:]):\n",
    "        if prej == \".\" and zdaj == \"#\":\n",
    "            ovir += 1\n",
    "    return ovir"
   ]
  },
  {
   "cell_type": "code",
   "execution_count": 14,
   "id": "8d3d7143",
   "metadata": {},
   "outputs": [
    {
     "data": {
      "text/plain": [
       "4"
      ]
     },
     "execution_count": 14,
     "metadata": {},
     "output_type": "execute_result"
    }
   ],
   "source": [
    "stevilo_ovir(vrstica)"
   ]
  },
  {
   "cell_type": "markdown",
   "id": "39218674",
   "metadata": {},
   "source": [
    "Funkcija vrne `4`, ker smo spregledali prvo oviro. Seveda, pred njo ni pike. Ali, z vidika gornjega programa, prvi znak niza `vrstica`, v našem zoprnem primeru ravno `#`, se nikoli ne pojavi v `zdaj`, temveč le v `prej`.\n",
    "\n",
    "To bo preprosto rešiti: ker vemo, da bomo oviro na začetku vedno spregledali, prištejmo 1, če je prvi znak `#`."
   ]
  },
  {
   "cell_type": "code",
   "execution_count": 15,
   "id": "cea86e21",
   "metadata": {},
   "outputs": [],
   "source": [
    "def stevilo_ovir(vrstica):\n",
    "    ovir = 0\n",
    "    for prej, zdaj in zip(vrstica, vrstica[1:]):\n",
    "        if prej == \".\" and zdaj == \"#\":\n",
    "            ovir += 1\n",
    "    if vrstica[0] == \"#\":\n",
    "        ovir += 1\n",
    "    return ovir"
   ]
  },
  {
   "cell_type": "code",
   "execution_count": 16,
   "id": "4a6584d1",
   "metadata": {},
   "outputs": [
    {
     "data": {
      "text/plain": [
       "5"
      ]
     },
     "execution_count": 16,
     "metadata": {},
     "output_type": "execute_result"
    }
   ],
   "source": [
    "stevilo_ovir(vrstica)"
   ]
  },
  {
   "cell_type": "markdown",
   "id": "38b2c8cf",
   "metadata": {},
   "source": [
    "Ali število ovir kar v začetku nastavimo na 0 namesto na 1."
   ]
  },
  {
   "cell_type": "code",
   "execution_count": 17,
   "id": "9f6d97db",
   "metadata": {},
   "outputs": [],
   "source": [
    "def stevilo_ovir(vrstica):\n",
    "    if vrstica[0] == \"#\":\n",
    "        ovir = 1\n",
    "    else:\n",
    "        ovir = 0\n",
    "    for prej, zdaj in zip(vrstica, vrstica[1:]):\n",
    "        if prej == \".\" and zdaj == \"#\":\n",
    "            ovir += 1\n",
    "    return ovir"
   ]
  },
  {
   "cell_type": "code",
   "execution_count": 18,
   "id": "79049518",
   "metadata": {},
   "outputs": [
    {
     "data": {
      "text/plain": [
       "5"
      ]
     },
     "execution_count": 18,
     "metadata": {},
     "output_type": "execute_result"
    }
   ],
   "source": [
    "stevilo_ovir(vrstica)"
   ]
  },
  {
   "cell_type": "markdown",
   "id": "0c5c7a5c",
   "metadata": {},
   "source": [
    "Lahko pa uporabimo operator `if - else` (ekvivalenkt `? :` iz drugih jezikov), če vemo zanj."
   ]
  },
  {
   "cell_type": "code",
   "execution_count": 19,
   "id": "4e394fe6",
   "metadata": {},
   "outputs": [],
   "source": [
    "def stevilo_ovir(vrstica):\n",
    "    ovir = 1 if vrstica[0] == \"#\" else 0\n",
    "    for prej, zdaj in zip(vrstica, vrstica[1:]):\n",
    "        if prej == \".\" and zdaj == \"#\":\n",
    "            ovir += 1\n",
    "    return ovir"
   ]
  },
  {
   "cell_type": "code",
   "execution_count": 20,
   "id": "8a8bc543",
   "metadata": {},
   "outputs": [
    {
     "data": {
      "text/plain": [
       "5"
      ]
     },
     "execution_count": 20,
     "metadata": {},
     "output_type": "execute_result"
    }
   ],
   "source": [
    "stevilo_ovir(vrstica)"
   ]
  },
  {
   "cell_type": "markdown",
   "id": "b1b497bf",
   "metadata": {},
   "source": [
    "Pythonov operator `if - else` je čuden, nekoliko zanemarjen (ne brez razloga). Python ga je dobil šele, ko je dopolnil že 12 let, po tem, ko so leta in leta cincali, ali sploh in kako. Kogar zanima več, lahko prebere [povzetek debate](https://peps.python.org/pep-0308/#alternatives), ki nudi tudi zanimiv vpogled v to, kako se oblikuje jezik, kot je Python.\n",
    "\n",
    "Tu se ga brez težav znebimo, če se spomnimo, da je `True` enak `1` in `False` enak `0`."
   ]
  },
  {
   "cell_type": "code",
   "execution_count": 21,
   "id": "310f97de",
   "metadata": {},
   "outputs": [],
   "source": [
    "def stevilo_ovir(vrstica):\n",
    "    ovir = vrstica[0] == \"#\"\n",
    "    for prej, zdaj in zip(vrstica, vrstica[1:]):\n",
    "        if prej == \".\" and zdaj == \"#\":\n",
    "            ovir += 1\n",
    "    return ovir"
   ]
  },
  {
   "cell_type": "code",
   "execution_count": 22,
   "id": "8657d771",
   "metadata": {},
   "outputs": [
    {
     "data": {
      "text/plain": [
       "5"
      ]
     },
     "execution_count": 22,
     "metadata": {},
     "output_type": "execute_result"
    }
   ],
   "source": [
    "stevilo_ovir(vrstica)"
   ]
  },
  {
   "cell_type": "markdown",
   "id": "24207ca0",
   "metadata": {},
   "source": [
    "Tudi enica, ki jo prištevamo znotraj zanke, je samo stvar pogoja, torej bo delovalo tudi"
   ]
  },
  {
   "cell_type": "code",
   "execution_count": 23,
   "id": "e4856dd8",
   "metadata": {},
   "outputs": [],
   "source": [
    "def stevilo_ovir(vrstica):\n",
    "    ovir = vrstica[0] == \"#\"\n",
    "    for prej, zdaj in zip(vrstica, vrstica[1:]):\n",
    "        ovir += prej == \".\" and zdaj == \"#\"\n",
    "    return ovir"
   ]
  },
  {
   "cell_type": "code",
   "execution_count": 24,
   "id": "4f606b21",
   "metadata": {},
   "outputs": [
    {
     "data": {
      "text/plain": [
       "5"
      ]
     },
     "execution_count": 24,
     "metadata": {},
     "output_type": "execute_result"
    }
   ],
   "source": [
    "stevilo_ovir(vrstica)"
   ]
  },
  {
   "cell_type": "markdown",
   "id": "630513ad",
   "metadata": {},
   "source": [
    "Ker sta `prej` in `zdaj` niza, ju lahko tudi seštejemo in skrajšamo pogoj."
   ]
  },
  {
   "cell_type": "code",
   "execution_count": 25,
   "id": "3a65aad2",
   "metadata": {},
   "outputs": [],
   "source": [
    "def stevilo_ovir(vrstica):\n",
    "    ovir = (vrstica[0] == \"#\")\n",
    "    for prej, zdaj in zip(vrstica, vrstica[1:]):\n",
    "        ovir += (prej + zdaj == \".#\")\n",
    "    return ovir"
   ]
  },
  {
   "cell_type": "code",
   "execution_count": 26,
   "id": "25b48d41",
   "metadata": {},
   "outputs": [
    {
     "data": {
      "text/plain": [
       "5"
      ]
     },
     "execution_count": 26,
     "metadata": {},
     "output_type": "execute_result"
    }
   ],
   "source": [
    "stevilo_ovir(vrstica)"
   ]
  },
  {
   "cell_type": "markdown",
   "id": "df247f68",
   "metadata": {},
   "source": [
    "Oklepaji, v katere sem zaprl pogoje, so nepotrebni, vendar povečajo čitljivost. Tale kombinacija `+=` in`==` je sicer videti strašljiva in malenkost nepregledna."
   ]
  },
  {
   "cell_type": "markdown",
   "id": "aa0b16cd",
   "metadata": {},
   "source": [
    "### Ustvarjalnejša rešitev: tudi zip čez pare\n",
    "\n",
    "Rešitev je sicer čisto lepa, najbrž pa nam gre na živce ločeno obravnavanje prvega znaka. Meni že.\n",
    "\n",
    "Lepo bi bilo, če bi bil z začetku `zdaj` prvi znak. Kaj pa naj bo potem `prej`? Preprosto: pika!"
   ]
  },
  {
   "cell_type": "code",
   "execution_count": 27,
   "id": "69434d98",
   "metadata": {},
   "outputs": [],
   "source": [
    "def stevilo_ovir(vrstica):\n",
    "    ovir = 0\n",
    "    for prej, po in zip(\".\" + vrstica, vrstica):\n",
    "        ovir += prej + po == \".#\"\n",
    "    return ovir"
   ]
  },
  {
   "cell_type": "markdown",
   "id": "b4c09d76",
   "metadata": {},
   "source": [
    "Razumemo trik? Prej smo `zip`-ali"
   ]
  },
  {
   "cell_type": "code",
   "execution_count": 28,
   "id": "87cedaee",
   "metadata": {},
   "outputs": [
    {
     "name": "stdout",
     "output_type": "stream",
     "text": [
      "##.##.####...#....#\n",
      "#.##.####...#....#\n"
     ]
    }
   ],
   "source": [
    "print(vrstica)\n",
    "print(vrstica[1:])"
   ]
  },
  {
   "cell_type": "markdown",
   "id": "26796788",
   "metadata": {},
   "source": [
    "Zdaj pa zipamo"
   ]
  },
  {
   "cell_type": "code",
   "execution_count": 29,
   "id": "f5599611",
   "metadata": {},
   "outputs": [
    {
     "name": "stdout",
     "output_type": "stream",
     "text": [
      ".##.##.####...#....#\n",
      "##.##.####...#....#\n"
     ]
    }
   ],
   "source": [
    "print(\".\" + vrstica)\n",
    "print(vrstica)"
   ]
  },
  {
   "cell_type": "markdown",
   "id": "44e5f145",
   "metadata": {},
   "source": [
    "V prejšnjem primeru se je prvi znak pojavil le v prvi vrstici, v vlogi `prej`, poparjen z drugim znakom. Zdaj pa se prvič pojav v drugi vrstici, poparjen s piko, ki jo dodamo preden."
   ]
  },
  {
   "cell_type": "markdown",
   "id": "08bc75dc",
   "metadata": {},
   "source": [
    "Če zdaj primerjamo rešitev, ki sem jo ozmerjal z grdo,\n",
    "\n",
    "```python\n",
    "def stevilo_ovir(vrstica):\n",
    "    ovir = 0\n",
    "    for i in range(0, len(vrstica)):\n",
    "        if vrstica[i] == \"#\" and (i == 0 or vrstica[i - 1] == \".\"):\n",
    "            ovir += 1\n",
    "    return ovir\n",
    "```\n",
    "\n",
    "in tole, zadnjo\n",
    "\n",
    "```python\n",
    "def stevilo_ovir(vrstica):\n",
    "    ovir = 0\n",
    "    for prej, po in zip(\".\" + vrstica, vrstica):\n",
    "        ovir += (prej + po == \".#\")\n",
    "    return ovir\n",
    "```\n",
    "\n",
    "vidimo, zakaj se splača pomisliti malo drugače, brez indeksov.\n",
    "\n",
    "### Rešitev zares\n",
    "\n",
    "Če dobro pogledamo zadnjo rešitev, pa vidimo, da štejemo le pojavitve `\".#\"` v dopolnjenem nizu. Najkrajša rešitev naloge je torej"
   ]
  },
  {
   "cell_type": "code",
   "execution_count": 30,
   "id": "3c9cff7b",
   "metadata": {},
   "outputs": [],
   "source": [
    "def stevilo_ovir(vrstica):\n",
    "    return (\".\" + vrstica).count(\".#\")"
   ]
  },
  {
   "cell_type": "code",
   "execution_count": 31,
   "id": "797429ac",
   "metadata": {},
   "outputs": [
    {
     "data": {
      "text/plain": [
       "5"
      ]
     },
     "execution_count": 31,
     "metadata": {},
     "output_type": "execute_result"
    }
   ],
   "source": [
    "stevilo_ovir(vrstica)"
   ]
  },
  {
   "cell_type": "markdown",
   "id": "f4edbafb",
   "metadata": {},
   "source": [
    "## 3. Najširša ovira\n",
    "\n",
    "`najsirsa_ovira(vrstica)` vrne dolžino najdaljše ovire. V gornjem primeru je to 4.\n",
    "\n",
    "### Rešitev\n",
    "\n",
    "Prešteti moramo število zaporednih pojavitev `#`. Ko naletimo na `.`, postavimo števec nazaj na 0. Ob vsakem povečanju števila, preverimo, ali je večje od največjega doslej."
   ]
  },
  {
   "cell_type": "code",
   "execution_count": 32,
   "id": "7cbf1082",
   "metadata": {},
   "outputs": [],
   "source": [
    "def najsirsa_ovira(vrstica):\n",
    "    dolzina = 0\n",
    "    naj_dolzina = 0\n",
    "    for c in vrstica:\n",
    "        if c == \"#\":\n",
    "            dolzina += 1\n",
    "            if dolzina > naj_dolzina:\n",
    "                naj_dolzina = dolzina\n",
    "        else:\n",
    "            dolzina = 0\n",
    "    return naj_dolzina"
   ]
  },
  {
   "cell_type": "markdown",
   "id": "f778f66a",
   "metadata": {},
   "source": [
    "Natančneži bi ugovarjali, da je funkcija počasna, saj bi lahko preverjanje `if dolzina > naj_dolzina` opravili, ko se ovira konča, torej znotraj `else`, pred `dolzina = 0`. To je res, sitnost pa je v tem, da se `else` ne zgodi le, ko se ovira konča, temveč vsakič, kadar ni ovire. Poleg tega bi se morali posebej poukvarjati s primerom, da se ovira dotika konca vrstice.\n",
    "\n",
    "Spet drugi so nezadovoljni zaradi dolžine programa. Nekateri bi zlovoljno dodali celo, da tole ni nič krajše, kot če bi programirali v Cju. Kako bi torej to rešili v pravem Pythonu?\n",
    "\n",
    "Če bi moral to rešiti zares, v praksi, bi mi najprej prišlo na misel tole."
   ]
  },
  {
   "cell_type": "code",
   "execution_count": 33,
   "id": "4b82d389",
   "metadata": {},
   "outputs": [],
   "source": [
    "def najsirsa_ovira(vrstica):\n",
    "    return max(map(len, vrstica.split(\".\")))"
   ]
  },
  {
   "cell_type": "markdown",
   "id": "d73f21d2",
   "metadata": {},
   "source": [
    "Ali, tole - hitrejše, kadar je pik veliko:"
   ]
  },
  {
   "cell_type": "code",
   "execution_count": 34,
   "id": "b71dcad7",
   "metadata": {},
   "outputs": [],
   "source": [
    "def najsirsa_ovira(vrstica):\n",
    "    return max(map(len, vrstica.replace(\".\", \" \").split()))"
   ]
  },
  {
   "cell_type": "markdown",
   "id": "f668e2e5",
   "metadata": {},
   "source": [
    "## 4. Pretvori vrstico\n",
    "\n",
    "4. `pretvori_vrstico(vrstica)` vrne seznam parov `(x0, x1)`, ki predstavljajo začetke in konce ovir. Za gornji primer vrne `[(2, 3), (5, 8), (12, 13)]`. Pazi, stolpci so oštevilčeni od 1, ne 0.\n",
    "\n",
    "### Rešitev\n",
    "\n",
    "Tole je glavna naloga. Na srečo smo se ob reševanju druge naloge naučili ključnega trika: če na začetek niza prištejemo \".\", bomo lažje zaznali začetek prve ovire, če so nam jo nemara podtaknili na čisti začetek vrstice. Če prištejemo piko še na konec, bomo lažje zaznali zadnjo, če je morda čisto na koncu.\n",
    "\n",
    "Tokrat se bomo za začetek pregrešili in delali z indeksi."
   ]
  },
  {
   "cell_type": "code",
   "execution_count": 35,
   "id": "2f2db62b",
   "metadata": {},
   "outputs": [],
   "source": [
    "def pretvori_vrstico(vrstica):\n",
    "    vrstica = \".\" + vrstica + \".\"\n",
    "    bloki = []\n",
    "    for i, znak in enumerate(vrstica):\n",
    "        if znak == \"#\":\n",
    "            if vrstica[i - 1] == \".\":\n",
    "                zacetek = i\n",
    "            if vrstica[i + 1] == \".\":\n",
    "                bloki.append((zacetek, i))\n",
    "    return bloki"
   ]
  },
  {
   "cell_type": "markdown",
   "id": "30b65622",
   "metadata": {},
   "source": [
    "`znak` bo vseboval trenutni znak, `i` pa njegov indeks.\n",
    "\n",
    "Zanimajo nas samo znaki `#`.\n",
    "- Če je pred njim, na indeksu `i - 1`, pika, je to začetek ovire. Zapomnimo si ga.\n",
    "- Če je za njim, na indeksi `i + 1`, pika, je to konec ovire. Dodamo oviro, ki se je začela pri `zacetek` (ki smo si ga morda zapomnili v enem prejšnjih krogov zanke, morda pa ravnokar, če je bila ovira slučajno dolga le en znak).\n",
    "\n",
    "V tej nalogi stolpce štejemo od `1`, Pythonov `enumerate` pa (privzeto) teče od `0`. To je ravno prav: ker smo na začetek dodali piko, so se vsi indeksi povečali za `1`.\n",
    "\n",
    "Preverimo, ali to res deluje. Spomnimo se, vrstica je"
   ]
  },
  {
   "cell_type": "code",
   "execution_count": 36,
   "id": "6ee060dd",
   "metadata": {},
   "outputs": [
    {
     "data": {
      "text/plain": [
       "'##.##.####...#....#'"
      ]
     },
     "execution_count": 36,
     "metadata": {},
     "output_type": "execute_result"
    }
   ],
   "source": [
    "vrstica"
   ]
  },
  {
   "cell_type": "markdown",
   "id": "ff071c02",
   "metadata": {},
   "source": [
    "in pokličimo"
   ]
  },
  {
   "cell_type": "code",
   "execution_count": 37,
   "id": "6a2a15ed",
   "metadata": {},
   "outputs": [
    {
     "data": {
      "text/plain": [
       "[(1, 2), (4, 5), (7, 10), (14, 14), (19, 19)]"
      ]
     },
     "execution_count": 37,
     "metadata": {},
     "output_type": "execute_result"
    }
   ],
   "source": [
    "pretvori_vrstico(vrstica)"
   ]
  },
  {
   "cell_type": "markdown",
   "id": "15a7d43d",
   "metadata": {},
   "source": [
    "Zakaj delamo z indeksi, ne z `zip`, tako kot `prej`?\n",
    "\n",
    "Lahko. Prvi razlog je, da vseeno potrebujemo indekse, torej nam `enumerate` ne uide. Iz tega sledi druga sitnost: enumerirali bomo zip. Zip bo naredil pare znakov, `enumerate` bo naredil pare indeksov in parov, ki jih je naredil `zip`. To bo zapletlo razpakiranje v `for`.\n",
    "\n",
    "Vendar gre in za resnega programerja je to gotovo lepša rešitev."
   ]
  },
  {
   "cell_type": "code",
   "execution_count": 38,
   "id": "672a9191",
   "metadata": {},
   "outputs": [],
   "source": [
    "def pretvori_vrstico(vrstica):\n",
    "    bloki = []\n",
    "    for i, (prej, znak) in enumerate(zip(\".\" + vrstica, vrstica + \".\")):\n",
    "        if prej + znak == \".#\":\n",
    "            zacetek = i + 1\n",
    "        elif prej + znak == \"#.\":\n",
    "            bloki.append((zacetek, i))\n",
    "    return bloki"
   ]
  },
  {
   "cell_type": "markdown",
   "id": "074b58a9",
   "metadata": {},
   "source": [
    "Zaresnemu programerju pa se s temi otročarijami ne da ukvarjati in uporabi regularne izraze (ki bi mu, mimogrede, tudi prejšnje naloge naredili trivialne)."
   ]
  },
  {
   "cell_type": "code",
   "execution_count": 39,
   "id": "ecf23d9d",
   "metadata": {},
   "outputs": [],
   "source": [
    "import re\n",
    "\n",
    "def pretvori_vrstico(vrstica):\n",
    "    return [(m.start() + 1, m.end()) for m in re.finditer(\"#+\", vrstica)]"
   ]
  },
  {
   "cell_type": "markdown",
   "id": "6e5778de",
   "metadata": {},
   "source": [
    "## 5. Pretvori zemljevid\n",
    "\n",
    "`pretvori_zemljevid(vrstice)` prejme celoten zemljevid, kot ga vidimo v uvodnem delu naloge, in vrne seznam trojk `(x0, x1, y)`, ki predstavljajo ovire. Za gornji zemljevid mora vrniti `[(3, 4, 2), (2, 3, 3), (5, 5, 3), (4, 6, 4), (1, 3, 5), (5, 6, 5)]`. Seznam naj bo urejen po vrsticah in znotraj tega po stolpcih (tako kot v primeru). Pazi, tudi vrstice so oštevilčene od 1, ne 0.\n",
    "\n",
    "### Rešitev\n",
    "\n",
    "Gremo čez oštevilčene vrstice. Vsako pretvorimo in v seznam ovir dodajamo dobljene koordinate začetkov in koncev, ki jim dodamo še vrstico."
   ]
  },
  {
   "cell_type": "code",
   "execution_count": 40,
   "id": "c46bbb8b",
   "metadata": {},
   "outputs": [],
   "source": [
    "def pretvori_zemljevid(zemljevid):\n",
    "    ovire = []\n",
    "    for y, vrstica in enumerate(zemljevid, start=1):\n",
    "        for x0, x1 in pretvori_vrstico(vrstica):\n",
    "            ovire.append((x0, x1, y))\n",
    "    return ovire"
   ]
  },
  {
   "cell_type": "markdown",
   "id": "0581db62",
   "metadata": {},
   "source": [
    "Tu se moramo predvsem upreti skušnjavi, da bi ponovno programirali to, kar smo že naredili v `pretvori_vrstico`. Potrebno je preprosto poklicati funkcijo, ki jo že imamo."
   ]
  },
  {
   "cell_type": "markdown",
   "id": "a94b9000",
   "metadata": {},
   "source": [
    "## 6. Izboljšave\n",
    "\n",
    "`izboljsave(prej, potem)` prejme dva zemljevida - en je starejši, drugi novejši. Funkcija mora vrniti seznam novo postavljenih ovir; tudi ta mora biti urejen po vrsticah in znotraj tega po stolpcih. Mirno smeš predpostaviti, da MOL ne odstranjuje postavljenih ovir, temveč jih zgolj dodaja. Prav tako nobena ovira ni \"razširjena\"; nove ovire niso postavljene neposredno levo ali desno od obstoječih. Predpostaviti smeš tudi, da nova kolesarska steza ni širša. (No, tudi ožja ne; enake oblike je.)\n",
    "\n",
    "### Rešitev\n",
    "\n",
    "Kako brez potrebe so si nekateri zapletli to nalogo! Primerjali vrstice iz obeh zemljevidov!\n",
    "\n",
    "Čisto preprosto je: s `pretvori_zemljevid` dobimo sezname ovir prej in potem, ter ustvarimo nov seznam, ki vsebuje, kar je v `potem` in ni bilo v `prej`."
   ]
  },
  {
   "cell_type": "code",
   "execution_count": 41,
   "id": "64eb75be",
   "metadata": {},
   "outputs": [],
   "source": [
    "def izboljsave(prej, potem):\n",
    "    prej = pretvori_zemljevid(prej)\n",
    "    potem = pretvori_zemljevid(potem)\n",
    "    nove = []\n",
    "    for ovira in potem:\n",
    "        if ovira not in prej:\n",
    "            nove.append(ovira)\n",
    "    return nove"
   ]
  },
  {
   "cell_type": "markdown",
   "id": "27ac4c88",
   "metadata": {},
   "source": [
    "## 7. Huligani\n",
    "\n",
    "`huligani(prej, potem)`; zgodi se, da pridejo huligani in kradejo ovire ter s tem ogrožajo varnost kolesarjev. Funkcija `huligani` naj zato vrne dva seznama: seznam vseh novih in seznam vseh odstranjenih ovir. Tu se lahko zgodi, da se nova ovira delno prekriva z neko prejšnjo.\n",
    "\n",
    "### Rešitev\n",
    "\n",
    "Tule se je potrebno zgolj poglobiti v razmišljanje MOL in huliganov. Prometni strokovnjaki na Oddelku za gospodarstvo in motorni promet Mestne občine Ljubljana vedo, da je kolesarska steza izboljšana, če je na njej več ovir. Če je `potem` več ovir kot `prej`, je to torej `izboljsava`. Huligani zmotno mislijo, da je izboljšava, če ovira izgine, torej če je bilo `prej` več ovir kot `potem`.\n",
    "\n",
    "Funkcija `huligani` mora vračati dve stvari. Prva je točno tisto, kar vrača funkcija `izboljsave`, drugo pa tisto, kar bi vrnila funkcija `izboljsave`, če bi - sledeč perverzni logiki sovražnikov ovir na kolesarskih stezah - obrnili čas nazaj."
   ]
  },
  {
   "cell_type": "code",
   "execution_count": 42,
   "id": "0793427b",
   "metadata": {},
   "outputs": [],
   "source": [
    "def huligani(prej, potem):\n",
    "    return izboljsave(prej, potem), izboljsave(potem, prej)"
   ]
  },
  {
   "cell_type": "markdown",
   "id": "ca7b1ce9",
   "metadata": {},
   "source": [
    "## Celotna rešitev\n",
    "\n",
    "### Elegantne, a razumne rešitve\n",
    "\n",
    "Tule so zbrane rešitve, ki ne zahtevajo ničesar, česar se še nismo učili. V primerjavi z rešitvami iz gornjega besedila, smo poenostavili `najsirsa_ovira`, saj ni razloga, da ne bi klicala kar funkcije `pretvori_vrstica`. Tako se dejansko le enkrat zafrkavamo z zanko prek vrstice."
   ]
  },
  {
   "cell_type": "code",
   "execution_count": 43,
   "id": "5f57fcab",
   "metadata": {},
   "outputs": [],
   "source": [
    "def dolzina_ovir(vrstica):\n",
    "    return vrstica.count(\"#\")\n",
    "\n",
    "\n",
    "def stevilo_ovir(vrstica):\n",
    "    return (\".\" + vrstica).count(\".#\")\n",
    "\n",
    "\n",
    "def najsirsa_ovira(vrstica):\n",
    "    naj = 0\n",
    "    for od, do in pretvori_vrstico(vrstica):\n",
    "        if do - od + 1 > naj:\n",
    "            naj = do - od + 1\n",
    "    return naj\n",
    "\n",
    "\n",
    "def pretvori_vrstico(vrstica):\n",
    "    vrstica = \".\" + vrstica + \".\"\n",
    "    bloki = []\n",
    "    for i, znak in enumerate(vrstica):\n",
    "        if znak == \"#\":\n",
    "            if vrstica[i - 1] == \".\":\n",
    "                zacetek = i\n",
    "            if vrstica[i + 1] == \".\":\n",
    "                bloki.append((zacetek, i))\n",
    "    return bloki\n",
    "\n",
    "\n",
    "def pretvori_zemljevid(zemljevid):\n",
    "    ovire = []\n",
    "    for y, vrstica in enumerate(zemljevid, start=1):\n",
    "        for x0, x1 in pretvori_vrstico(vrstica):\n",
    "            ovire.append((x0, x1, y))\n",
    "    return ovire\n",
    "\n",
    "\n",
    "def izboljsave(prej, potem):\n",
    "    prej = pretvori_zemljevid(prej)\n",
    "    potem = pretvori_zemljevid(potem)\n",
    "    nove = []\n",
    "    for ovira in potem:\n",
    "        if ovira not in prej:\n",
    "            nove.append(ovira)\n",
    "    return nove\n",
    "\n",
    "\n",
    "def huligani(prej, potem):\n",
    "    return izboljsave(prej, potem), izboljsave(potem, prej)"
   ]
  },
  {
   "cell_type": "markdown",
   "id": "8624d9eb",
   "metadata": {},
   "source": [
    "## Zaresne rešitve\n",
    "\n",
    "Tole pa so lepe rešitve v pravem Pythonu. Tako bi z nalogo opravil profesionalec. Pokažem predvsem zato, da dobite malo občutka o tem, kako učinkovito je mogoče programirati v Pythonu."
   ]
  },
  {
   "cell_type": "code",
   "execution_count": 44,
   "id": "502368b7",
   "metadata": {},
   "outputs": [],
   "source": [
    "import re\n",
    "\n",
    "\n",
    "def dolzina_ovir(vrstica):\n",
    "    return vrstica.count(\"#\")\n",
    "\n",
    "\n",
    "def stevilo_ovir(vrstica):\n",
    "    return (\".\" + vrstica).count(\".#\")\n",
    "\n",
    "\n",
    "def najsirsa_ovira(vrstica):\n",
    "    return max(od - do + 1 for od, do in pretvori_vrstico(vrstica))\n",
    "\n",
    "\n",
    "def pretvori_vrstico(vrstica):\n",
    "    return [(m.start() + 1, m.end()) for m in re.finditer(\"#+\", vrstica)]\n",
    "\n",
    "\n",
    "def pretvori_zemljevid(vrstice):\n",
    "    return [(x0, x1, y)\n",
    "            for y, vrstica in enumerate(zemljevid, start=1)\n",
    "            for x0, x1 in pretvori_vrstico(vrstica)]\n",
    "\n",
    "\n",
    "def izboljsave(prej, potem):\n",
    "    prej = pretvori_zemljevid(prej)\n",
    "    potem = set(pretvori_zemljevid(potem))\n",
    "    return [ovira for ovira in prej if ovira not in potem]\n",
    "\n",
    "\n",
    "def huligani(prej, potem):\n",
    "    return izboljsave(prej, potem), izboljsave(potem, prej)"
   ]
  },
  {
   "cell_type": "markdown",
   "id": "c00387a0",
   "metadata": {},
   "source": [
    "Morda opomba glede funkcije `izboljsave`: rešiti bi jo bilo možno v eni vrstici, kot razliko množic,\n",
    "\n",
    "```python\n",
    "def izboljsave(prej, potem):\n",
    "    return list(set(pretvori_zemljevid(potem)) - set(pretvori_zemljevid(prej)))\n",
    "```\n",
    "\n",
    "če množice ne bi pomešale vrstnega reda. Kasnejše urejanje v slogu\n",
    "\n",
    "```python\n",
    "def izboljsave(prej, potem):\n",
    "    return sorted(set(pretvori_zemljevid(potem)) - set(pretvori_zemljevid(prej)),\n",
    "                  key=pretvori_zemljevid(potem).index)\n",
    "```\n",
    "\n",
    "pa je brez zveze. Najbrž ne pridobimo ničesar; metoda `index`, ki jo potrebujemo za to, da vrnemo elemente seznama v prvotni vrstni red, je počasna. Vse skupaj je le nepregledno. Je pa, seveda, zabavno.\n",
    "\n",
    "**Dodatek:** eden od študentov je povedal, da deluje tudi \n",
    "\n",
    "```python\n",
    "def izboljsave(prej, potem):\n",
    "    return sorted(set(pretvori_zemljevid(potem)) - set(pretvori_zemljevid(prej)),\n",
    "                  key=lambda x: x[2])\n",
    "```\n",
    "\n",
    "To uredi ovire po drugem elementu, vrstici. Mislim, da deluje slučajno: da bi zares delovalojih je treba urediti najprej po vrsticah, znotraj tega pa še po stolpcih, \n",
    "\n",
    "```python\n",
    "def izboljsave(prej, potem):\n",
    "    return sorted(set(pretvori_zemljevid(potem)) - set(pretvori_zemljevid(prej)),\n",
    "                  key=lambda x: (x[2], x[0]))\n",
    "```\n",
    "\n",
    "To je v resnici hitrejše od vseh gornjih programov (ne da bi se pri tako majhnem številu ovir to kaj poznalo...). Deluje pa zato, ker vemo, da morajo biti ovire urejene po vrsticah in stolpcih. V splošnem pa: če imamo dva seznama in želimo dobiti seznam vsega, kar je v prvem, ne pa tudi v drugem, bomo z `list(set(s) - set(t))` izgubili vrstni red.\n",
    "\n",
    "Rešitev, ki jo je našel študent, pa tu deluje in je seveda odlična ideja."
   ]
  }
 ],
 "metadata": {
  "kernelspec": {
   "display_name": "Python 3 (ipykernel)",
   "language": "python",
   "name": "python3"
  },
  "language_info": {
   "codemirror_mode": {
    "name": "ipython",
    "version": 3
   },
   "file_extension": ".py",
   "mimetype": "text/x-python",
   "name": "python",
   "nbconvert_exporter": "python",
   "pygments_lexer": "ipython3",
   "version": "3.11.5"
  }
 },
 "nbformat": 4,
 "nbformat_minor": 5
}
