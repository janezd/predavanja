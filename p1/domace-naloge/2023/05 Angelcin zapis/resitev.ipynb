{
 "cells": [
  {
   "cell_type": "markdown",
   "id": "068783df",
   "metadata": {},
   "source": [
    "# Angelčin zapis\n",
    "\n",
    "Lani so na Oddelku za gospodarstvo in motorni promet Mestne občine Ljubljana izvedel, da so študenti FRI razvili programsko opremo za branje njihovih zemljevidov pik in lojtr, zato so brž pripravili nov format zapisa. Tudi ta, novi zapis je že zastarel in ga lahko izbrskate le v lanski domači nalogi. Letos je gospa Angelca (tista z dolgimi nohti) prepričala (= z neumornim najedanjem od juter do večerov spravila v obup) ostale zaposlene na oddelku, namreč da je format grd in da bi ona ovire raje zapisovala tako:\n",
    "\n",
    "```\n",
    " (4) 5--\n",
    "(13) 90-----------   5---- 19---\n",
    " (5) 9---           19--   30-----\n",
    "(4)           9---\n",
    "(13)         22---- 17---\n",
    "```\n",
    "\n",
    "In da če jim ni prav, bo šla do župana, ker ta je edini pameten in se vedno strinja z njo. (Že čim jo zagleda na vratih pisarne. Župan ima pač početi kaj pametnejšega kot poslušati Angelco. Zadnje čase začne nezavedno kimati že, ko na hodniku zasliši zvok njenih visokih pet.)\n",
    "\n",
    "Jasni Angelčin Opis Ovir (prepoznamo ga po končnici datoteke, .jaoo) je sestavljen tako:\n",
    "\n",
    "- Prva številka v vrstici pove številko vrstice na kolesarski stezi. Ta je zaprta v oklepaje, saj je tako najbolj logično.\n",
    "\n",
    "  Gornji primer torej podaja nekaj ovir v vrstici 4, nato nekaj v vrstici 13, pa ovire v vrstici 5, nato še nekaj ovir v vrstici 4 in še nekaj v 13. (Na ta način lahko dopisujejo naknadno dodane ovire preprosto na konec datoteke.)\n",
    "\n",
    "- Številki v oklepaju sledijo opisi ovir v podani vrstici. Ovira je opisana z začetno koordinato stolpca, sledi pa toliko minusov, kolikor je dolga ovira. \n",
    "\n",
    "  V četrti vrstici je le ena ovira: začne se v petem stolpcu in je dolga 2. V našem zapisu bi to bilo (5, 6, 4). V 13. vrstici so tri ovire; prva se začne v 90 in je dolga 11, se pravi (90, 100, 13). Druga se začne v 5 in je dolga 4, torej (5, 9, 8). Tretja je (19, 21, 13). \n",
    "\n",
    "Da je zapis bolj razgiban (Angelca po osnovni izobrazbi pač ni računalnikarka, temveč je končala likovno akademijo, smer Industrijsko in unikatno oblikovanje), lahko vsebuje poljubno število presledkov na začetku ali koncu vrstice ter med navedbami posameznih ovir - tako kot jasno kaže gornji primer.\n",
    "\n",
    "\n",
    "#### Disclaimer\n",
    "\n",
    "Čeprav naloge pri tem predmetu temeljijo na resničnih dogodkih, avtor naloge ne ve, ali na MOL res obstaja kakšna Angelca, ki ustreza opisu, vendar te možnosti ne izključuje. Angelca v tej nalogi je torej izmišljena, podobnost z resničnimi osebami s takšnim ali drugačnim imenom pa povsem verjetna.\n",
    "\n",
    "## Obvezna naloga\n",
    "\n",
    "Napiši naslednje funkcije.\n",
    "\n",
    "- `koordinate(s)` prejme opis ene ovire in vrne terko z njenimi koordinatami.\n",
    "\n",
    "   Klic `koordinate(\"5---\")` vrne `(5, 7)`, saj gre za oviro, ki se začne v stolpcu 5 in konča v stolpcu 7 - dolga je namreč 3. Klic `koordinate(\"123-\")` vrne `(123, 123)`.\n",
    "   \n",
    "- `vrstica(s)` prejme niz z eno vrstico in vrne seznam trojk `(x0, x1, y)`, ki predstavljajo ovire v tej vrstici.\n",
    "\n",
    "    Klic `vrstica(\"  (4) 1---  5------- 15-\")` vrne seznam `[(1, 3, 4), (5, 11, 4), (15, 15, 4)]`.\n",
    "\n",
    "- `preberi(s)` celoten, večvrstični niz z ovirami in vrne seznam ovir. Ovire naj bodo shranjene v takšnem vrstnem redu, v kakršnem se pojavljajo.\n",
    "\n",
    "    Če jo pokličemo z gornjim nizom, vrne\n",
    "\n",
    "    ```\n",
    "    [(5, 6, 4),\n",
    "     (90, 100, 13), (5, 8, 13), (9, 11, 13),\n",
    "     (9, 11, 5), (19, 20, 5), (30, 34, 5),\n",
    "     (9, 11, 4),\n",
    "     (22, 25, 13), (17, 19, 13)]\n",
    "    ```\n",
    "  \n",
    "- `intervali(xs)` prejme seznam parov `(x0, x1)` in vrne seznam nizov, ki opisujejo te intervale.\n",
    "\n",
    "    Klic `intervali([(6, 10), (12, 12), (20, 22), (98, 102)])` vrne\n",
    "    `[\"6-----\", \"12-\", \"20---\", \"98-----\"]`.\n",
    "\n",
    "- `zapisi_vrstico(y, xs)` prejme številko vrstice in seznam parov `(x0, x1)`. Vrniti mora opis ene vrstice.\n",
    "\n",
    "    Klic `zapisi_vrstico(8, [(6, 10), (12, 12), (20, 22), (98, 102)])` vrne niz\n",
    "    `\"(8) 6----- 12- 20--- 98-----\"`. Pazi: ne dodajaj odvečnih presledkov. Angelca ni rekla, da so obvezni.\n",
    "    \n",
    "### Rešitev\n",
    "\n",
    "#### `koordinate`\n",
    "\n",
    "Da pridemo do začetka ovire (same številke), se moramo minusov znebiti (`strip(\"-\")`), da dobimo dolžino ovire, pa jih moramo prešteti (`count(\"-\")`)."
   ]
  },
  {
   "cell_type": "code",
   "execution_count": 1,
   "id": "417ad024",
   "metadata": {},
   "outputs": [],
   "source": [
    "def koordinate(s):\n",
    "    x0 = int(s.strip(\"-\"))\n",
    "    return x0, x0 + s.count(\"-\") - 1"
   ]
  },
  {
   "cell_type": "code",
   "execution_count": 2,
   "id": "15e4adea",
   "metadata": {},
   "outputs": [
    {
     "data": {
      "text/plain": [
       "(5, 7)"
      ]
     },
     "execution_count": 2,
     "metadata": {},
     "output_type": "execute_result"
    }
   ],
   "source": [
    "koordinate(\"5---\")"
   ]
  },
  {
   "cell_type": "code",
   "execution_count": 3,
   "id": "e9724397",
   "metadata": {},
   "outputs": [
    {
     "data": {
      "text/plain": [
       "(123, 123)"
      ]
     },
     "execution_count": 3,
     "metadata": {},
     "output_type": "execute_result"
    }
   ],
   "source": [
    "koordinate(\"123-\")"
   ]
  },
  {
   "cell_type": "markdown",
   "id": "7522fa86",
   "metadata": {},
   "source": [
    "#### `vrstica`\n",
    "\n",
    "V tej nalogi je naš prijatelj `split()`. Poglejte, kaj naredi z nizom iz primera!"
   ]
  },
  {
   "cell_type": "code",
   "execution_count": 4,
   "id": "0c86aa93",
   "metadata": {},
   "outputs": [
    {
     "data": {
      "text/plain": [
       "['(4)', '1---', '5-------', '15-']"
      ]
     },
     "execution_count": 4,
     "metadata": {},
     "output_type": "execute_result"
    }
   ],
   "source": [
    "\"  (4) 1---  5------- 15-\".split()"
   ]
  },
  {
   "cell_type": "markdown",
   "id": "ce9c53ab",
   "metadata": {},
   "source": [
    "Prvi element je številka vrstice (ko se bomo znebili prvega in zadnjega znaka, trapastih Angelčinih oklepajev), ostale elemente pa pomečemo funkciji `koordinate`, da dobimo začetke in konce ovir."
   ]
  },
  {
   "cell_type": "code",
   "execution_count": 5,
   "id": "3fcea6f4",
   "metadata": {},
   "outputs": [],
   "source": [
    "def vrstica(s):\n",
    "    ovire = []\n",
    "    s = s.split()\n",
    "    y = int(s[0][1:-1])\n",
    "    for ovira in s[1:]:\n",
    "        ovire.append(koordinate(ovira) + (y, ))\n",
    "    return ovire"
   ]
  },
  {
   "cell_type": "code",
   "execution_count": 6,
   "id": "29dedeab",
   "metadata": {},
   "outputs": [
    {
     "data": {
      "text/plain": [
       "[(1, 3, 4), (5, 11, 4), (15, 15, 4)]"
      ]
     },
     "execution_count": 6,
     "metadata": {},
     "output_type": "execute_result"
    }
   ],
   "source": [
    "vrstica(\"  (4) 1---  5------- 15-\")"
   ]
  },
  {
   "cell_type": "markdown",
   "id": "829a76c9",
   "metadata": {},
   "source": [
    "Napisati `s = s.split()` ni prav zgledno. Spremenljivka `s` je s tem spremenila svoj pomen - prej je bila niz, zdaj je seznam kosov tega niza. To storimo, če ravno nimamo domišljije, kako poimenovati novo spremenljivko in če menimo, da s tem ne povzročamo prehudih nejasnosti.\n",
    "\n",
    "V resnici bi pravi programer v Pythonu to napisal drugače. Tole je sicer tečaj programiranja in ne Pythona, vendar obstaja velika verjetnost, da boste kdaj v življenju programirali tudi v Pythonu, zato ne bo škode, če vidite tudi kakšen lep zgled praktičnega dela v tem jeziku."
   ]
  },
  {
   "cell_type": "code",
   "execution_count": 7,
   "id": "3431652b",
   "metadata": {},
   "outputs": [],
   "source": [
    "def vrstica(s):\n",
    "    ovire = []\n",
    "    y, *xs = s.split()\n",
    "    y = int(y[1:-1])\n",
    "    for ovira in xs:\n",
    "        ovire.append(koordinate(ovira) + (y, ))\n",
    "    return ovire"
   ]
  },
  {
   "cell_type": "markdown",
   "id": "d09fdef8",
   "metadata": {},
   "source": [
    "Razlika je minimalna, gre le za to, kaj smo naredili z rezultatom `split`. Prej smo vse skupaj vrgli v en sam seznam, potem pa prebrali prvi element v `y`, čez ostale pa spustili zanko. Zdaj to razkosamo takoj po klicu - že iz prirejanja je očitno, da je rezultat `split`-a `y`, ostalo pa so x-i. Zvezdica pred `xs` pomeni, da v to spremenljivko shrani vse odvečne elemente, ki niso šli v druge spremenljivke (v našem primeru so \"druge spremenljivke\" pač le `y`).\n",
    "\n",
    "Pravzaprav lažem. Pravi programer v Pythonu zamahne s čarobno palico in napiše"
   ]
  },
  {
   "cell_type": "code",
   "execution_count": 8,
   "id": "65b6a5fe",
   "metadata": {},
   "outputs": [],
   "source": [
    "def vrstica(s):\n",
    "    ovire = []\n",
    "    y, *xs = s.split()\n",
    "    y = int(y[1:-1])\n",
    "    return [(*koordinate(ovira), y) for ovira in xs]"
   ]
  },
  {
   "cell_type": "markdown",
   "id": "17cb19e8",
   "metadata": {},
   "source": [
    "Naslednji teden bomo mi tudi."
   ]
  },
  {
   "cell_type": "markdown",
   "id": "ce26db73",
   "metadata": {},
   "source": [
    "### `preberi`\n",
    "\n",
    "Podani niz razkosamo na vrstice (`splitlines()`), jih podajamo funkciji vrstica in vse, kar vrne, seštevamo v nov seznam."
   ]
  },
  {
   "cell_type": "code",
   "execution_count": 9,
   "id": "9b8a4a33",
   "metadata": {},
   "outputs": [],
   "source": [
    "def preberi(s):\n",
    "    ovire = []\n",
    "    for vrsta in s.splitlines():\n",
    "        ovire += vrstica(vrsta)\n",
    "    return ovire"
   ]
  },
  {
   "cell_type": "markdown",
   "id": "79c98df5",
   "metadata": {},
   "source": [
    "Tule je pomembno, da uporabimo `+=`, ki v seznam `ovire` doda *vse elemente* seznama, ki ga vrne `vrstica` in ne morda `append`, ki bi v seznam ovire dodal *seznam*, ki ga vrne `vrstica`.\n",
    "\n",
    "Kaj na to poreče zaresen programer?"
   ]
  },
  {
   "cell_type": "code",
   "execution_count": 10,
   "id": "27a0ad4c",
   "metadata": {},
   "outputs": [],
   "source": [
    "def preberi(s):\n",
    "    return sum(map(vrstica, s.splitlines()), start=[])"
   ]
  },
  {
   "cell_type": "markdown",
   "id": "09c22ff3",
   "metadata": {},
   "source": [
    "`map(vrstica, s.splitlines())` pokliče funkcijo `vrstica` za vsak element `s.splitlines()`, `sum` pa vse to lepo sešteje, če mu povemo, da mora prištevati v v začetku prazen seznam.\n",
    "\n",
    "###  `intervali`\n",
    "\n",
    "Ta je preprosta."
   ]
  },
  {
   "cell_type": "code",
   "execution_count": 11,
   "id": "e2e97709",
   "metadata": {},
   "outputs": [],
   "source": [
    "def intervali(ovire):\n",
    "    intv = []\n",
    "    for x0, x1 in ovire:\n",
    "        intv.append(str(x0) + \"-\" * (x1 - x0 + 1))\n",
    "    return intv"
   ]
  },
  {
   "cell_type": "markdown",
   "id": "88991597",
   "metadata": {},
   "source": [
    "Zares pa tako"
   ]
  },
  {
   "cell_type": "code",
   "execution_count": 12,
   "id": "d253b7fb",
   "metadata": {},
   "outputs": [],
   "source": [
    "def intervali(ovire):\n",
    "    return [f\"{x0}{'-' * (x1 - x0 + 1)}\" for x0, x1 in ovire]"
   ]
  },
  {
   "cell_type": "markdown",
   "id": "cc631c56",
   "metadata": {},
   "source": [
    "#### `zapisi_vrstico`\n",
    "\n",
    "Tu pa niti rešitev z našim znanjem ni daljša od vrstice."
   ]
  },
  {
   "cell_type": "code",
   "execution_count": 13,
   "id": "0afd72a0",
   "metadata": {},
   "outputs": [],
   "source": [
    "def zapisi_vrstico(y, ovire):\n",
    "    return \"(\" + str(y) + \") \" + \" \".join(intervali(ovire))"
   ]
  },
  {
   "cell_type": "markdown",
   "id": "378f2f5a",
   "metadata": {},
   "source": [
    "Profesionalec bi naredil skoraj enako, recimo tako"
   ]
  },
  {
   "cell_type": "code",
   "execution_count": 14,
   "id": "8c6cc3f4",
   "metadata": {},
   "outputs": [],
   "source": [
    "def zapisi_vrstico(y, ovire):\n",
    "    return f\"({y}) \" + \" \".join(intervali(ovire))"
   ]
  },
  {
   "cell_type": "markdown",
   "id": "44d8bc02",
   "metadata": {},
   "source": [
    "Ali, odvisno od osebnega sloga"
   ]
  },
  {
   "cell_type": "code",
   "execution_count": 15,
   "id": "9c3ca7fb",
   "metadata": {},
   "outputs": [],
   "source": [
    "def zapisi_vrstico(y, ovire):\n",
    "    return f\"({y}) {' '.join(intervali(ovire))}\""
   ]
  },
  {
   "cell_type": "markdown",
   "id": "e9926006",
   "metadata": {},
   "source": [
    "## Dodatna naloga\n",
    "\n",
    "Napiši funkcijo `zapisi(ovire)`, ki prejme seznam ovir in vrne niz, ki vsebuje opis ovir v novi obliki. Za razliko od kaosa, ki ga dobimo od MOL, pa mora biti zapis urejen: vrstice se pojavljajo le enkrat in v pravem vrstnem redu, pa tudi ovire morajo biti urejene od leve proti desni.\n",
    "\n",
    "Klic\n",
    "\n",
    "```python\n",
    "zapisi([(5, 6, 4),\n",
    "        (90, 100, 13), (5, 8, 13), (9, 11, 13),\n",
    "        (9, 11, 5), (19, 20, 5), (30, 34, 5),\n",
    "        (9, 11, 4),\n",
    "        (22, 25, 13), (17, 19, 13)])\n",
    "```\n",
    "\n",
    "vrne niz\n",
    "\n",
    "```python\n",
    "(4) 5-- 9---\n",
    "(5) 9--- 19-- 30-----\n",
    "(13) 5---- 9--- 17--- 22---- 90-----------\n",
    "```\n",
    "\n",
    "Spet: niz mora biti v točno takšni obliki, brez odvečnih ali manjkajočih presledkov.\n",
    "\n",
    "### Rešitev\n",
    "\n",
    "Glede na to, da še ne poznamo slovarjev in da `y` ne more biti zelo velik, bi bila najbolj prikladna - in pravzaprav nič slabša od rešitve s slovarji, takšna rešitev:"
   ]
  },
  {
   "cell_type": "code",
   "execution_count": 16,
   "id": "f0cdd9ce",
   "metadata": {},
   "outputs": [],
   "source": [
    "def zapisi(ovire):\n",
    "    vrstice = []\n",
    "    for x0, x1, y in ovire:\n",
    "        while len(vrstice) <= y:\n",
    "            vrstice.append([])\n",
    "        vrstice[y].append((x0, x1))\n",
    "\n",
    "    zemljevid = \"\"\n",
    "    for y, xs in enumerate(vrstice):\n",
    "        if xs:\n",
    "            zemljevid += zapisi_vrstico(y, sorted(xs)) + \"\\n\"\n",
    "    return zemljevid"
   ]
  },
  {
   "cell_type": "markdown",
   "id": "3a15254b",
   "metadata": {},
   "source": [
    "`vrstice` so seznam seznamov: v `vrstice[3]`, recimo, so začetki in konci vseh ovir v tretji vrstici.\n",
    "\n",
    "V prvi zanki gremo čez vse ovire. V zanki `while` poskrbimo, da ima `vrstice` dovolj elementov: če se ovira nahaja v vrstici, katere številka je večja od števila doslej vzpostavljenih vrstic, dodaja nove prazne sezname. Nato dodamo vsako oviro v ustrezno vrstico.\n",
    "\n",
    "V drugi zanki pišemo ovire v `zemljevid`, ki ga bomo vrnili kot rezultat. Gremo čez elemente `vrstice` in če je v vrstici kaj ovir, pokličemo `zapisi_vrstico`, da jih zapiše. Seznam ovir, `xs`, predtem uredimo.\n",
    "\n",
    "Rešitev s slovarji, bi bila malenkost krajša, ideja pa je podobna."
   ]
  },
  {
   "cell_type": "code",
   "execution_count": 17,
   "id": "2f5ed272",
   "metadata": {},
   "outputs": [],
   "source": [
    "def zapisi(ovire):\n",
    "    kupcki = defaultdict(list)\n",
    "    for x0, x1, y in ovire:\n",
    "        kupcki[y].append((x0, x1))\n",
    "\n",
    "    zemljevid = \"\"\n",
    "    for y, kupcek in sorted(kupcki.items()):\n",
    "        zemljevid += zapisi_vrstico(y, sorted(kupcek)) + \"\\n\"\n",
    "    return zemljevid"
   ]
  },
  {
   "cell_type": "markdown",
   "id": "f19b5c03",
   "metadata": {},
   "source": [
    "Gre krajše? Gre v eni vrstici?\n",
    "\n",
    "Vedno. Vendar tule nima smisla. Prvi del je najbolj jasen takšen, kot je. Drugega pa bi dejansko skrajšal, če bi šlo zares."
   ]
  },
  {
   "cell_type": "code",
   "execution_count": 18,
   "id": "c5550430",
   "metadata": {},
   "outputs": [],
   "source": [
    "def zapisi(ovire):\n",
    "    kupcki = defaultdict(list)\n",
    "    for x0, x1, y in ovire:\n",
    "        kupcki[y].append((x0, x1))\n",
    "\n",
    "    return \"\\n\".join(zapisi_vrstico(y, sorted(kupcek))\n",
    "                     for y, kupcek in sorted(kupcki.items()))"
   ]
  },
  {
   "cell_type": "markdown",
   "id": "6050febc",
   "metadata": {},
   "source": [
    "V resnici pa gre za problem urejanja in grupiranja teh, urejenih stvari. Zato bi kdo kak ekstremist funkcijskega programiranja v Pythonu nemara napisal"
   ]
  },
  {
   "cell_type": "code",
   "execution_count": 19,
   "id": "09dd4b48",
   "metadata": {},
   "outputs": [],
   "source": [
    "from operator import itemgetter\n",
    "from itertools import groupby\n",
    "\n",
    "def zapisi(ovire):\n",
    "    return \"\\n\".join(zapisi_vrstico(y, sorted(x[:2] for x in group))\n",
    "                     for y, group in groupby(sorted(ovire, key=itemgetter(2)), itemgetter(2)))"
   ]
  },
  {
   "cell_type": "markdown",
   "id": "6f0bc562",
   "metadata": {},
   "source": [
    "Deluje, ni pa berljivo. Python je lep jezik, ni pa vsak jezik lep za vsak slog programiranja. Če se kdo potrudi to prebrati, bo videl, da mora brati nazaj - najprej se zgodi (drugi) `sorted`, nato `groupby`, potem `zapisi_vrstico`, katere rezultati se združijo z `join`. To bi se bralo veliko lepše v jezikih, v katerih se to zapiše naprej, recimo v Kotlinu ali Javascriptu."
   ]
  }
 ],
 "metadata": {
  "kernelspec": {
   "display_name": "Python 3 (ipykernel)",
   "language": "python",
   "name": "python3"
  },
  "language_info": {
   "codemirror_mode": {
    "name": "ipython",
    "version": 3
   },
   "file_extension": ".py",
   "mimetype": "text/x-python",
   "name": "python",
   "nbconvert_exporter": "python",
   "pygments_lexer": "ipython3",
   "version": "3.11.5"
  }
 },
 "nbformat": 4,
 "nbformat_minor": 5
}
