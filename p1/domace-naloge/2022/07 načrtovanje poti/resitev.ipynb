{
 "cells": [
  {
   "cell_type": "markdown",
   "id": "ea24ae59",
   "metadata": {},
   "source": [
    "Mestna občina Ljubljana je objavila [video o vedenju kolesarjev v Ljubljani](https://www.youtube.com/watch?v=nmhrbzplGX4). Na kratko: kolesarji so znani po divjih spustih po stopnicah, divjanju med pešci in tako naprej.<sup>*</sup> Ker je osnovno prevozno sredstvo vašega profesorja kolo in ker tretjino letne kilometrine žal opravi v Ljubljani, vas prosi, da mu za lažje načrtovanje poti rešite tole nalogo.\n",
    "\n",
    "---\n",
    "\n",
    "Zemljevid na sliki kaže 21 točk v Ljubljani (zaradi varstva osebnih podatkov smo imena lokacij zamenjali s črkami od A do V) in povezave med njimi. Povezave zahtevajo različne veščine: kdor hoče, na primer priti iz točke B do C, mora obvladati vožnjo med odvrženimi skiroji in slalom med cvetličnimi lonci."
   ]
  },
  {
   "cell_type": "markdown",
   "id": "25317708",
   "metadata": {},
   "source": [
    "<img src=\"data:image/.png;base64,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\"/>"
   ]
  },
  {
   "cell_type": "markdown",
   "id": "ea42267a",
   "metadata": {},
   "source": [
    "Celoten seznam veščin, ki se pojavljajo v nalogi, je:\n",
    "\n",
    "- **s**topnice: Spust po stopnicah\n",
    "- **p**ešci: Divjanje med pešci\n",
    "- **l**onci: Slalom med cvetličnimi lonci\n",
    "- **b**olt: Slalom med odvrženimi skiroji\n",
    "- **r**obnik: Skok na robnik pločnika\n",
    "- **g**ravel: Vožnja po razsutem makadamu\n",
    "- **t**rava: Oranje zelenic parkov\n",
    "- **a**vtocesta: Vožnja po avtocesti\n",
    "- **c**repinje: Vožnja po razbiti steklovini\n",
    "- ro**d**eo: Vožnja po kolesarski poti skozi Črnuče\n",
    "\n",
    "Zemljevid na sliki zaradi pomanjkanja prostora uporablja enočrkovne okrajšave veščin, v sami nalogi pa je zapisan takole:\n",
    "\n",
    "```\n",
    "A, B, C, D, E, F, G, H, I, J, K, L, M, N, O, P, R, S, T, U, V = \"ABCDEFGHIJKLMNOPRSTUV\"\n",
    "\n",
    "zemljevid = {\n",
    "    (A, B): \"gravel trava\",\n",
    "    (A, V): \"pešci lonci\",\n",
    "    (B, C): \"bolt lonci\",\n",
    "    (B, V): \"\",\n",
    "    (C, R): \"stopnice pešci lonci\",\n",
    "    (D, F): \"stopnice pešci\",\n",
    "    (D, R): \"pešci\",\n",
    "    (E, I): \"trava lonci\",\n",
    "    (F, G): \"trava črepinje\",\n",
    "    (G, H): \"črepinje pešci\",\n",
    "    (G, I): \"avtocesta\",\n",
    "    (H, J): \"robnik bolt\",\n",
    "    (I, M): \"avtocesta\",\n",
    "    (I, P): \"gravel\",\n",
    "    (I, R): \"stopnice robnik\",\n",
    "    (J, K): \"\",\n",
    "    (J, L): \"gravel bolt\",\n",
    "    (K, M): \"stopnice bolt\",\n",
    "    (L, M): \"robnik pešci\",\n",
    "    (M, N): \"rodeo\",\n",
    "    (N, P): \"gravel\",\n",
    "    (O, P): \"gravel\",\n",
    "    (P, S): \"\",\n",
    "    (R, U): \"trava pešci\",\n",
    "    (R, V): \"pešci lonci\",\n",
    "    (S, T): \"robnik trava\",\n",
    "    (T, U): \"gravel trava\",\n",
    "    (U, V): \"robnik lonci trava\"\n",
    "}\n",
    "```\n",
    "\n",
    "Ključi zemljevida so pari povezanih točk, pripadajoča vrednost pa je niz, ki vsebuje s presledkom ločene okrajšave veščin. Tako vidimo pod ključem `(B, C)` zapisano `\"bolt lonci\"`, kar je okrajšava za veščini *Slalom med odvrženimi skiroji* in *Slalom med cvetličnimi lonci*.\n",
    "\n",
    "Vse povezave so dvosmerne (ker je kolesarjem po mnenju MOL itak vseeno, v katero smer in po kateri strani ceste vozijo). Če obstaja povezava med B in C obstaja tudi med C in B ter zahteva enake veščine."
   ]
  },
  {
   "cell_type": "markdown",
   "id": "e209e7a0",
   "metadata": {},
   "source": [
    "## Obvezna naloga\n",
    "\n",
    "Napiši naslednje funkcije\n",
    "\n",
    "- `mnozica_vescin(s)` prejme niz z okrajšanimi imeni veščin, ločenimi s presledkom in vrne množico s polnimi imeni teh veščin. Klic `mnozica_vescin(\"robnik bolt stopnice\")` vrne `{\"Divjanje med pešci\", \"Oranje zelenic parkov\", \"Spust po stopnicah\"}`.\n",
    "\n",
    "    Rešitev, ki vsebuje čreva v slogu\n",
    "\n",
    "    ```python\n",
    "    if vescina == \"trava\":\n",
    "        ...\n",
    "    elif vescina == \"gravel\":\n",
    "        ...\n",
    "    elif vescina == \"robnik\":\n",
    "        ...\n",
    "    ```\n",
    "\n",
    "    ne bo priznana kot pravilna. Lepo uporabite, kar smo se učili na predavanjih. Iz tega razloga funkcija `mnozica_vescin` ne sme vsebovati pogojnih stavkov, v nalogi pa (izjemoma) ne smete definirati dodatnih funkcij (razen zahtevanih).\n",
    "    \n",
    "#### Rešitev\n",
    "\n",
    "Glavni namen te naloge je bil, da uporabite slovar. Zato in samo zato sem zahteval, da jo naredite brez `if`. Rešitev je torej:"
   ]
  },
  {
   "cell_type": "code",
   "execution_count": 1,
   "id": "3a010a30",
   "metadata": {},
   "outputs": [],
   "source": [
    "kodirnik = {\n",
    "    \"stopnice\": \"Spust po stopnicah\",\n",
    "    \"pešci\": \"Divjanje med pešci\",\n",
    "    \"lonci\": \"Slalom med cvetličnimi lonci\",\n",
    "    \"bolt\": \"Slalom med odvrženimi skiroji\",\n",
    "    \"robnik\": \"Skok na robnik pločnika\",\n",
    "    \"gravel\": \"Vožnja po razsutem makadamu\",\n",
    "    \"trava\": \"Oranje zelenic parkov\",\n",
    "    \"avtocesta\": \"Vožnja po avtocesti\",\n",
    "    \"črepinje\": \"Vožnja po razbiti steklovini\",\n",
    "    \"rodeo\": \"Vožnja po kolesarski poti skozi Črnuče\"\n",
    "}\n",
    "\n",
    "def mnozica_vescin(s):\n",
    "    vescine = set()\n",
    "    for koda in s.split():\n",
    "        vescine.add(kodirnik[koda])\n",
    "    return vescine"
   ]
  },
  {
   "cell_type": "markdown",
   "id": "18501350",
   "metadata": {},
   "source": [
    "Slovar je lahko definiran znotraj funkcije ali izven.\n",
    "\n",
    "Žal pa nič ni tako preprosto, da se ne bi dalo zaplesti. Mnogi študenti so tu - bogsigavedi, zakaj - namesto `s.split()` napisali `s.split(\" \")`. To vodi v velike sitnosti, saj se `split` z argumenti vede precej drugače kot brez ([dokumentacija](https://docs.python.org/3.3/library/stdtypes.html?highlight=split#str.split)).\n",
    "\n",
    "```\n",
    ">>> \"a   b   c\".split()\n",
    "['a', 'b', 'c']\n",
    ">>> \"a   b   c\".split(\" \")\n",
    "['a', '', '', 'b', '', '', 'c']\n",
    ">>> \"  a b   c  \".split()\n",
    "['a', 'b', 'c']\n",
    ">>> \"  a b   c  \".split(\" \")\n",
    "['', '', 'a', 'b', '', '', 'c', '', '']\n",
    ">>> \"\".split()\n",
    "[]\n",
    ">>> \"\".split(\" \")\n",
    "['']\n",
    "```\n",
    "\n",
    "Pri tej nalogi vas tepe zadnje: v enem od testov, ki sem jih dodal kar tako, ne da bi se zavedal, kakšne sitnosti vam bo povzročal, dobi funkcija prazen niz in vrniti mora prazno množico. Gornja rešitev s tem opravi, ne da bi se morala za to truditi: `\"\".split()` vrne prazen seznam in zanka, ki dekodira nize in dodaja veščine, se pač ne izvede nikoli, zato ostane množica prazna.\n",
    "\n",
    "Ne tako, če uporabite `split(\" \")`. Ta vrne seznam, ki vsebuje prazen niz. Tega ni med veščinami in slovar vrne `KeyError`. Vsaj ena študentka je ukrepala tako, da je dodala še veščino `\"\"` in jo potem na koncu funkcije z `vescine -= {\"\"}` pobrisala. Duhovito. Ostali so na začetek funkcije pisali `if s == \"\": return set()` in testi so padli zaradi `if`-a. Pri čemer je imela prepoved `if`-ov sicer čisto drug namen.\n",
    "\n",
    "Nauk: če želite deliti glede na prazni prostor, kličite `split` brez argumentov, saj `split` z argumenti navadno ne bo naredil tistega, kar želite."
   ]
  },
  {
   "cell_type": "markdown",
   "id": "8309d9f9",
   "metadata": {},
   "source": [
    "#### Naloga (nadaljevanje)\n",
    "\n",
    "- `dvosmerni_zemljevid(zemljevid)` prejme zemljevid (slovar, kakršen je gornji) in vrne **nov zemljevid**, ki se od podanega razlikuje po tem, da \n",
    "\n",
    "    - se vse povezave pojavijo tudi v obrnjeni smeri (če je v podanem zemljevidu ključ `(B, C)`, je v vrnjenem zemljevidu poleg njega tudi ključ `(C, B)`);\n",
    "    - so nizi okrajšav zamenjani z množicami, kakršne vrača funkcija `mnozica_vescin`.\n",
    "\n",
    "    Klic \n",
    "\n",
    "    ```python\n",
    "    dvosmerni_zemljevid({(A, B): \"robnik bolt\",\n",
    "                         (A, C): \"bolt rodeo pešci\",\n",
    "                         (C, D): \"\"}\n",
    "    ```\n",
    "  \n",
    "    vrne\n",
    "\n",
    "    ```\n",
    "    {('A', 'B'): {'Slalom med odvrženimi skiroji',\n",
    "                  'Skok na robnik pločnika'},\n",
    "     ('B', 'A'): {'Slalom med odvrženimi skiroji',\n",
    "                  'Skok na robnik pločnika'},\n",
    "     ('A', 'C'): {'Divjanje med pešci',\n",
    "                  'Slalom med odvrženimi skiroji',\n",
    "                  'Vožnja po kolesarski poti skozi Črnuče'},\n",
    "     ('C', 'A'): {'Divjanje med pešci',\n",
    "                  'Slalom med odvrženimi skiroji',\n",
    "                  'Vožnja po kolesarski poti skozi Črnuče'},\n",
    "     ('C', 'D'): set(),\n",
    "     ('D', 'C'): set()}\n",
    "    ```\n",
    "\n",
    "    **Toplo priporočam,** da to funkcijo uporabite v nekaterih od naslednjih funkcij.\n",
    "    \n",
    "#### Rešitev\n",
    "\n",
    "Ta naloga ni imela posebnega pedagoškega smotra. To funkcijo ste pisali samo zato, da vam olajša življenje v nadaljevanju. Vseeno se je pokazalo nekaj zanimivih reči.\n",
    "\n",
    "\"Pravilna\" rešitev je takšna:"
   ]
  },
  {
   "cell_type": "code",
   "execution_count": 2,
   "id": "84f013e0",
   "metadata": {},
   "outputs": [],
   "source": [
    "def dvosmerni_zemljevid(zemljevid):\n",
    "    dvosmerni = {}\n",
    "    for (a, b), v in zemljevid.items():\n",
    "        dvosmerni[(a, b)] = dvosmerni[(b, a)] = mnozica_vescin(v)\n",
    "    return dvosmerni"
   ]
  },
  {
   "cell_type": "markdown",
   "id": "f9640c4e",
   "metadata": {},
   "source": [
    "Pisali bi lahko tudi `dvosmerni[a, b]` in `dvosmerni[b, a]`, brez dodatnih oklepajev okrog `a` in `b`. Python kot indeks uporabi tisto, kar je med oglatimi oklepaji in če je tam več stvari ločenih z vejico, je to zanj pač terka. Sam raje dodam oklepaje, saj v knjižnici `numpy`, ki je namenjena delu z večdimenzionalnimi tabelami in je v praksi glavni motor Pythona, z dvema indeksoma indeksiramo dvodimenzionalne tabele in tam o njima ne razmišljamo kot o terki (čeprav v resnici sta). Skratka, zaradi preglednosti tule raje eksplicitno pokažem, da gre za terko.\n",
    "\n",
    "Precej običajna komplikacija je bila, da so študenti prirejali dvakrat.\n",
    "\n",
    "```\n",
    "        dvosmerni[(a, b)] = mnozica_vescin(v)\n",
    "        dvosmerni[(b, a)] = mnozica_vescin(v)\n",
    "```\n",
    "\n",
    "S tem ne bi bilo nič narobe, ako ne bi pomenilo, da dvakrat pokličemo `mnozica_vescin`. Da bi se temu izognili, bi morali pisati\n",
    "\n",
    "```\n",
    "        vescine = mnozica_vescin(v)\n",
    "        dvosmerni[(a, b)] = vescine\n",
    "        dvosmerni[(b, a)] = vescine\n",
    "```\n",
    "\n",
    "Tako pa smo namesto ene kratke vrstice pridelali že tri.\n",
    "\n",
    "Drugo, kar mi je padlo v oči, so težave z razpakiranjem ključev. Mnogi so namesto `for (a, b), v in zemljevid.items():` pisali `for k, v in zemljevid.items():` (opomba: `k` in `v` sta pogosto imeni, ki ju dodelimo kakim generičnim, splošnim **k**ljučem in **v**rednostim, kar posrečeno sovpada tudi z angleškim **k**ey in **v**value; pri prvi besedi gre za isti etimološki izvor, pri drugi za naključje). Zdaj `k` vsebuje oba ključa. Ustrezno prirejanje bi lahko bilo kar\n",
    "\n",
    "```\n",
    "    dvosmerni[k] = dvosmerni[k[::-1] = mnozica_vescin(v)\n",
    "```\n",
    "\n",
    "vendar študenti za kaj takega večinoma niso dovolj pogumni in raje pišejo\n",
    "\n",
    "```\n",
    "    dvosmerni[kljuc[0], kljuc[1]] = dvosmerni[kljuc[1], kljuc[0]] = mnozica_vescin(v)\n",
    "```\n",
    "\n",
    "ali pa še kaj hujšega."
   ]
  },
  {
   "cell_type": "markdown",
   "id": "ca251d16",
   "metadata": {},
   "source": [
    "#### Naloga (nadaljevanje)\n",
    "\n",
    "- `mozna_pot(pot, zemljevid)` prejme `pot` v obliki niza z zaporedjem križišč in `zemljevid` v obliki iz uvoda naloge. Funkcija mora vrniti `True`, če je takšna pot možna (torej: če obstajajo povezave med vsemi zaporednimi križišči v nizu) in `False`, če ni.\n",
    "\n",
    "    Klic `mozna_pot(\"ABCRVRIEIPNM\", zemljevid)` vrne `True`, klic `mozna_pot(\"ABCRVREPNM\", zemljevid)` pa `False`, ker ni povezave iz R v E.\n",
    "\n",
    "#### Rešitev\n",
    "\n",
    "Bože, kaj se je dogajalo pri tej nalogi! :) Rešitev je preprosta: gremo čez pare, za vsakega pogledamo, ali nastopa (kot ključ) v slovarju, in čim zalotimo takšnega, ki ne, zatulimo \"FALSCH!\". Če preživimo do konca, pa `True`."
   ]
  },
  {
   "cell_type": "code",
   "execution_count": 3,
   "id": "9a4cbfd3",
   "metadata": {},
   "outputs": [],
   "source": [
    "def mozna_pot(pot, zemljevid):\n",
    "    zemljevid = dvosmerni_zemljevid(zemljevid)\n",
    "    for a, b in zip(pot, pot[1:]):\n",
    "        if (a, b) not in zemljevid:\n",
    "            return False\n",
    "    return True"
   ]
  },
  {
   "cell_type": "markdown",
   "id": "6de1670c",
   "metadata": {},
   "source": [
    "Preden nadaljujemo, opazímo tole: znotraj funkcije smo naredili spremenljivko `zemljevid`, ki povozi tisto, ki smo jo dobili kot argument. Točneje, znotraj funkcije se ime `zemljevid` nanaša najprej nanaša na slovar, ki smo ga dobili kot argument, od prve vrstice naprej pa na slovar, ki ga na podlagi dobljenega slovarja sestavi `dvosmerni_zemljevid`. S tem ni nič narobe, to ni spremenilo slovarja, ki smo ga dobili kot argument. Morda bi imel nekoliko prav, kdor bi se pritoževal, da s spreminjanjem tega, na kar se nanaša `zemljevid`, ustvarjamo zmedo. Vendar gledam na to tako, kot da je funkcija `dvosmerni_zemljevid` zgolj \"dopolnila\" podani zemljevid s povezavami v nasprotno smer. Izgovorim se lahko tudi, da smo to naredili čisto na začetku funkcije. V splošnem pa bi imel v prejšnjem stavku omenjeni kritik prav: če se neko ime v prvi polovici funkcije nanaša na nekaj, v drugi polovici pa na nekaj drugega, bi bilo to zelo slabo, nepregledno, zavajajoče, nevarno.\n",
    "\n",
    "Gre tudi malenkost krajše."
   ]
  },
  {
   "cell_type": "code",
   "execution_count": 4,
   "id": "5ac54ffa",
   "metadata": {},
   "outputs": [],
   "source": [
    "def mozna_pot(pot, zemljevid):\n",
    "    zemljevid = dvosmerni_zemljevid(zemljevid)\n",
    "    for povezava in zip(pot, pot[1:]):\n",
    "        if povezava not in zemljevid:\n",
    "            return False\n",
    "    return True"
   ]
  },
  {
   "cell_type": "markdown",
   "id": "c8524183",
   "metadata": {},
   "source": [
    "Če rečemo, da morajo vse povezave nastopati kot ključi v slovarju, mora biti množica povezav podmnožica množice ključev, in rešitev je potemtakem lahko kar:"
   ]
  },
  {
   "cell_type": "code",
   "execution_count": 5,
   "id": "a4b26317",
   "metadata": {},
   "outputs": [],
   "source": [
    "def mozna_pot(pot, zemljevid):\n",
    "    return set(zip(pot, pot[1:])) <= set(dvosmerni_zemljevid(zemljevid))"
   ]
  },
  {
   "cell_type": "markdown",
   "id": "20a84a4b",
   "metadata": {},
   "source": [
    "Prav ta teden pa se bomo bomo učili, da se da ono različico z zanko napisati tudi učinkoviteje:"
   ]
  },
  {
   "cell_type": "code",
   "execution_count": 6,
   "id": "1597186a",
   "metadata": {},
   "outputs": [],
   "source": [
    "def mozna_pot(pot, zemljevid):\n",
    "    zemljevid = dvosmerni_zemljevid(zemljevid)\n",
    "    return all(povezava in zemljevid for povezava in zip(pot, pot[1:]))"
   ]
  },
  {
   "cell_type": "markdown",
   "id": "f32a8520",
   "metadata": {},
   "source": [
    "Najbolj tipična komplikacija tule je bila, da niste uporabili `zip`-a, temveč `range(len(pot))` in indekse. To je potem izgledalo tako:"
   ]
  },
  {
   "cell_type": "code",
   "execution_count": 7,
   "id": "95b6e844",
   "metadata": {},
   "outputs": [],
   "source": [
    "def mozna_pot(pot, zemljevid):\n",
    "    zemljevid = dvosmerni_zemljevid(zemljevid)\n",
    "    for i in range(len(pot) - 1):\n",
    "        if (pot[i], pot[i + 1]) not in zemljevid:\n",
    "            return False\n",
    "    return True"
   ]
  },
  {
   "cell_type": "markdown",
   "id": "423401dc",
   "metadata": {},
   "source": [
    "To ni spodobno, je pa še OK. Veliko manj OK so vse rešitve, ki iz kakega razloga delajo zanko čez `zemljevid`. To je počasno in ne izkorišča tega, kar nam nudijo slovarji. Slovarjev, nimamo zato, da bi delali zanke čeznje, temveč zato, da ne bi delali zank čeznje.\n",
    "\n",
    "Zelo pogosto sem videval tudi rešitve, ki najprej zgradijo seznam povezav in gredo nato čezenj, recimo takole (ali pa, še bolj zapleteno, z `range` ali celo kaj daljšega):"
   ]
  },
  {
   "cell_type": "code",
   "execution_count": 8,
   "id": "2da9f479",
   "metadata": {},
   "outputs": [],
   "source": [
    "def mozna_pot(pot, zemljevid):\n",
    "    zemljevid = dvosmerni_zemljevid(zemljevid)\n",
    "    \n",
    "    povezave = []\n",
    "    for a, b in zip(pot, pot[1:]):\n",
    "        povezave.append((a, b))\n",
    "        \n",
    "    for povezava in povezave:\n",
    "        if povezava not in zemljevid:\n",
    "            return False\n",
    "    return True"
   ]
  },
  {
   "cell_type": "markdown",
   "id": "e3e89a01",
   "metadata": {},
   "source": [
    "To je nepotrebno prelaganje podatkov med seznami. S tem ne pridobimo ničesar, razen priložnosti za napake."
   ]
  },
  {
   "cell_type": "markdown",
   "id": "b43c1c28",
   "metadata": {},
   "source": [
    "#### Naloga (nadaljevanje)\n",
    "\n",
    "- `potrebne_vescine(pot, zemljevid)` prejme enake argumente kot prejšnja funkcija, s tem da bo pot, ki jo prejme, bo vedno možna. Funkcija mora vrniti množico veščin, ki jih mora kolesar obvladati, če želi prevoziti to pot.\n",
    "\n",
    "    Klic `potrebne_vescine(\"RIPSTUT\", zemljevid)` vrne\n",
    "\n",
    "    ```\n",
    "    {'Skok na robnik pločnika',\n",
    "     'Spust po stopnicah',\n",
    "     'Vožnja po razsutem makadamu',\n",
    "     'Oranje zelenic parkov'}\n",
    "    ```\n",
    "  \n",
    "    saj so to veščine, ki jih potrebujemo za to pot (na zemljevidu označene kot *sr*, *g*, *rt* in *gt*). \n",
    "\n",
    "#### Rešitev\n",
    "\n",
    "Naloga je malo podobna prejšnji, le da namesto preverjanja, ali je pot možna, sestavi množico in vanjo dodaja veščine, potrebne za vsako povezavo."
   ]
  },
  {
   "cell_type": "code",
   "execution_count": 9,
   "id": "66d9a0b5",
   "metadata": {},
   "outputs": [],
   "source": [
    "def potrebne_vescine(pot, zemljevid):\n",
    "    zemljevid = dvosmerni_zemljevid(zemljevid)\n",
    "    vescine = set()\n",
    "    for povezava in zip(pot, pot[1:]):\n",
    "        vescine |= zemljevid[povezava]\n",
    "    return vescine"
   ]
  },
  {
   "cell_type": "markdown",
   "id": "3b6eff70",
   "metadata": {},
   "source": [
    "Tudi to funkcijo lahko po nepotrebnem zapletemo na enake načine kot zgornjo. Pa še na enega zraven - in to je naredilo veliko študentov. Namesto\n",
    "\n",
    "```\n",
    "        vescine |= zemljevid[povezava]\n",
    "```\n",
    "\n",
    "so pisali\n",
    "\n",
    "```\n",
    "        for vescina in zemljevid[povezava]:\n",
    "            vescine.add(povezava)\n",
    "```\n",
    "\n",
    "Če želimo v neko množico dodati vse elemente neke druge množice, je to pač unija.\n",
    "\n",
    "Nekateri so bili še previdnejši in pred dodajanjem preverili, da ni element slučajno že v množici, `if povezava not in vescine`. Tudi to je nepotrebno. Množica ne more dvakrat vsebovati istega elementa.\n",
    "\n",
    "Nekatere je zmotilo, da njihove množice ne vsebujejo elementov v enakem vrstnem redu, v kakršnem so navedene v rešitvi. Kot sem opozoril na predavanju, vrstni red elementov v množici ni določen. Lahko se spreminja med izvajanjem. In vsakič, ko poženete program, je lahko drugačen. Množice nimajo koncepta \"vrstnega reda\", zato ta ni pomemben."
   ]
  },
  {
   "cell_type": "code",
   "execution_count": 10,
   "id": "a6f279a3",
   "metadata": {},
   "outputs": [
    {
     "data": {
      "text/plain": [
       "True"
      ]
     },
     "execution_count": 10,
     "metadata": {},
     "output_type": "execute_result"
    }
   ],
   "source": [
    "{1, 2, 3, 4} == {2, 1, 4, 3}"
   ]
  },
  {
   "cell_type": "markdown",
   "id": "c8746c09",
   "metadata": {},
   "source": [
    "Ob tej nalogi se je dogajalo še nekaj zanimivega: nekateri so poskušali tole:\n",
    "\n",
    "```\n",
    "        vescine.add(zemljevid[povezava])\n",
    "```\n",
    "\n",
    "To ne gre. To ni unija (unija doda v množico vse elemente neke druge množice), temveč dodajanje. Po tem, bi množica `vescine` vsebovala celo množico `povezava` kot *element*. Množice lahko vsebujejo samo nespremenljive stvari, množice pa so spremenljive. Zato množice ne morejo vsebovati množic. Pa četudi bi to šlo, ne bi bilo pravilno, saj mora funkcija vrniti množico veščin, ne pa množico množic veščin."
   ]
  },
  {
   "cell_type": "markdown",
   "id": "81065a02",
   "metadata": {},
   "source": [
    "#### Naloga (nadaljevanje)\n",
    "\n",
    "- `nepotrebne_vescine(pot, zemljevid, vescine)` prejme enake argumente, poleg tega pa še množico veščin, ki jih obvlada kolesar. Vrniti mora množico veščin, ki so za to pot nepotrebne.\n",
    "\n",
    "    Klic\n",
    "\n",
    "    ```python\n",
    "    nepotrebne_vescine(\"IPNMNPO\", zemljevid, {'Spust po stopnicah',\n",
    "                                              'Vožnja po razsutem makadamu',\n",
    "                                              'Slalom med odvrženimi skiroji',\n",
    "                                              'Vožnja po kolesarski poti skozi Črnuče'})\n",
    "    ```\n",
    "  \n",
    "    vrne `{'Spust po stopnicah', 'Slalom med odvrženimi skiroji'}`, ker tidve veščini za pot `\"IPNMNPO\"` nista potrebni.\n",
    "\n",
    "#### Rešitev\n",
    "\n",
    "Kdor je napisal kaj več kot"
   ]
  },
  {
   "cell_type": "code",
   "execution_count": 11,
   "id": "b00c2e4d",
   "metadata": {},
   "outputs": [],
   "source": [
    "def nepotrebne_vescine(pot, zemljevid, vescine):\n",
    "    return vescine - potrebne_vescine(pot, zemljevid)"
   ]
  },
  {
   "cell_type": "markdown",
   "id": "5c93b5d2",
   "metadata": {},
   "source": [
    "ima preveč časa."
   ]
  },
  {
   "cell_type": "markdown",
   "id": "3aa95bd9",
   "metadata": {},
   "source": [
    "## Dodatna naloga\n",
    "\n",
    "Ker ima tadva tedna večina študentov kolokvije (in ker, kot rečejo v Bosni, \"*ne laje pas zbog sela*\" - v glavi imam samo smrkelj in nič inspiracije :), je dodatna naloga ta teden res lahka.\n",
    "\n",
    "Napiši funkcijo `koncna_tocka(pot, zemljevid, vescine)`, ki prejme enake argumente kot `nepotrebne_vescine`. Vrniti mora dve stvari: točko, do katere lahko kolesar s temi veščinami prevozi to pot, in množico veščin, ki mu manjkajo, da bi šel naprej iz te točke. Ta množica naj ne vključuje morebitnih drugih veščin, ki bi ga čakale na nadaljnji poti, temveč le manjkajoče veščine za prvo povezavo, ki je ne uspe prevoziti.\n",
    "\n",
    "Klic `koncna_tocka(\"ABCRVB\", zemljevid, {\"Vožnja po razsutem makadamu\", \"Oranje zelenic parkov\"}` vrne `(\"B\", {'Slalom med cvetličnimi lonci', 'Slalom med odvrženimi skiroji'})`. Kolesar, ki bi se namenil iti po poti `\"ABCRVB\"` bi se zataknil v točki B, ker ne zna voziti slaloma med cvetličnimi lonci in odvrženimi skiroji. Nadaljnja pot bi sicer zahtevala še druge veščine (recimo spust po stopnicah med C in R), vendar funkcija ne gleda naprej.\n",
    "\n",
    "### Rešitev\n",
    "\n",
    "Gremo po poti. Če naletimo na povezavo, ki zahteva veščine, ki jih kolesar ne premore, vrne trenutno točko in množico veščin, potrebnih za to povezavo, ki ji odštejemo množico veščin, ki jih kolesar obvlada. Če pridemo do konca, pa vrnemo zadnjo točko in prazno množico."
   ]
  },
  {
   "cell_type": "code",
   "execution_count": 12,
   "id": "12a27d97",
   "metadata": {},
   "outputs": [],
   "source": [
    "def koncna_tocka(pot, zemljevid, vescine):\n",
    "    zemljevid = dvosmerni_zemljevid(zemljevid)\n",
    "    for a, b in zip(pot, pot[1:]):\n",
    "        if not zemljevid[(a, b)] <= vescine:\n",
    "            return a, zemljevid[(a, b)] - vescine\n",
    "    return pot[-1], set()"
   ]
  },
  {
   "cell_type": "markdown",
   "id": "efdf60f7",
   "metadata": {},
   "source": [
    "Zanimiv je pogoj, `not zemljevid[(a, b)] <= vescine`. To ni isto kot `zemljevid[(a, b)] > vescine`. Pogoj `not zemljevid[(a, b)] <= vescine` pravi, da *ni res, da množica `vescine` vsebuje vse veščine, ki so potrebne na povezavi (in morda še kakšno zraven)*. Pogoj `zemljevid[(a, b)] > vescine` pa pravi, da *povezava zahteva vse veščine, ki jih premore kolesar in še vsaj eno zraven*.\n",
    "\n",
    "Recimo, da imamo"
   ]
  },
  {
   "cell_type": "code",
   "execution_count": 13,
   "id": "765087dc",
   "metadata": {},
   "outputs": [],
   "source": [
    "vescine = {\"a\", \"b\", \"c\"}\n",
    "na_povezavi = {\"c\", \"d\"}"
   ]
  },
  {
   "cell_type": "markdown",
   "id": "ac103539",
   "metadata": {},
   "source": [
    "Pogoj, ki preveri, ali se kolesar tu ustavi, se glasi"
   ]
  },
  {
   "cell_type": "code",
   "execution_count": 14,
   "id": "3e12d75b",
   "metadata": {},
   "outputs": [
    {
     "data": {
      "text/plain": [
       "True"
      ]
     },
     "execution_count": 14,
     "metadata": {},
     "output_type": "execute_result"
    }
   ],
   "source": [
    "not na_povezavi <= vescine"
   ]
  },
  {
   "cell_type": "markdown",
   "id": "dd8fe22e",
   "metadata": {},
   "source": [
    "`True`, saj se kolesar dejansko ustavi, ker ne obvlada veščine d.\n",
    "\n",
    "Pogoj, ki je navidez le poenostavljena oblika gornjega, pa ne vrne istega, pravega rezultata."
   ]
  },
  {
   "cell_type": "code",
   "execution_count": 15,
   "id": "1e997738",
   "metadata": {},
   "outputs": [
    {
     "data": {
      "text/plain": [
       "False"
      ]
     },
     "execution_count": 15,
     "metadata": {},
     "output_type": "execute_result"
    }
   ],
   "source": [
    "na_povezavi > vescine"
   ]
  },
  {
   "cell_type": "markdown",
   "id": "b9cbf648",
   "metadata": {},
   "source": [
    "Če sta `x` in `y` dve števili, velja, da je `not x <= y` isto kot`x > y`. Če sta `x` in `y` množici, pa pač ni tako."
   ]
  }
 ],
 "metadata": {
  "kernelspec": {
   "display_name": "Python 3 (ipykernel)",
   "language": "python",
   "name": "python3"
  },
  "language_info": {
   "codemirror_mode": {
    "name": "ipython",
    "version": 3
   },
   "file_extension": ".py",
   "mimetype": "text/x-python",
   "name": "python",
   "nbconvert_exporter": "python",
   "pygments_lexer": "ipython3",
   "version": "3.9.7"
  }
 },
 "nbformat": 4,
 "nbformat_minor": 5
}
