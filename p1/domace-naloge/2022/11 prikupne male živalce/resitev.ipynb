{
 "cells": [
  {
   "cell_type": "markdown",
   "id": "c341f9a3",
   "metadata": {},
   "source": [
    "# Slalom\n",
    "\n",
    "Na kolesarski stezi na Večni poti so se te dni pojavile nove ovire.\n",
    "\n",
    "<img src=\"data:image/.png;base64,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\"/>\n",
    "\n",
    "Na Oddelek za gospodarstvo in motorni promet MOL smo vprašali, če niso tokrat morda vendarle pretiravali, saj je tole nemogoče zvoziti. Prejeli smo naslednji izgovor:\n",
    "\n",
    "---\n",
    "\n",
    "<img style=\"float: right; margin-left: 20px\" \n",
    " src=\"data:image/.png;base64,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\"/>\n",
    "\n",
    "*Skrb za varnost kolesarjev je prioriteta našega oddelka. (Pomembnejša nam je samo še čim večja pretočnost motornega prometa in zadostno število parkirišč.) Ovire na kolesarski poti pa niso namenjene zgolj varnosti kolesarjev, temveč tudi vevericam.*\n",
    "\n",
    "*Te prikupne male živalice morajo nekako prečkati kolesarsko pot. Ker pa se bojijo hoditi po tleh, to počnejo tako, da skačejo iz ovire na oviro.*\n",
    "\n",
    "- *Po vsaki oviri, na katero pride, steče na desno, čisto do konca ovire.*\n",
    "- *Nato se ozre po primerni oviri, na katero lahko skoči. Veverice vedno skačejo na polja, ki so desno od trenutnega. Nikoli torej skočijo na polje, ki je nad ali pod trenutnim, ali celo na polje, ki je levo.*\n",
    "- *Veverica lahko skoči eno enoto daleč. Pri tem lahko skoči iz vogala na vogal. Možni skoki so na sliki.*\n",
    "- *Da prečka kolesarsko, mora priti do ovire, ki se dotika desnega roba kolesarske ali pa je od njega oddaljena eno polje, saj lahko veverica le-to preskoči.*\n",
    "\n",
    "*Na MOL se zavzemamo za strpno sobivanje vseh soudeležencev v prometu, vključno z vevericami.*\n",
    "\n",
    "----\n"
   ]
  },
  {
   "cell_type": "markdown",
   "id": "ab223057",
   "metadata": {},
   "source": [
    "\n",
    "## Obvezna naloga\n",
    "\n",
    "Ovire so tokrat podane v preprostem seznamu trojk `(y, x0, x1)`. Takšne oblike smo že vajeni.\n",
    "\n",
    "Tokrat bomo izjemoma poenostavili argumente funkcij tako, da seznam ovir ne bo podan kot argument funkcije, temveč bo zapisan v globalnem seznamu z imenom `ovire`.\n",
    "\n",
    "Napiši naslednje funkcije:\n",
    "\n",
    "- `mozen_skok(x, y, ovira)` vrne `True`, če lahko veverica, ki je na polju `x, y`, skoči na podano oviro. Če skok ni možen, vrne `False`. (Ta funkcija naj **ne** uporablja seznama `ovire` - ker ga nima za kaj rabiti).\n",
    "\n",
    "    Ta funkcija je sicer čisto kratka, a je lahko presenetljivo zoprna. Testi se jo trudijo temeljito pretestirati, vseeno pa je možno, da bodo spregledali kako napako, ki se bo lahko izkazala šele v prihodnjih funkcijah.\n",
    "\n",
    "- `mozne_ovire(x, y)` prejme koordinate nekega polja, na katerem se nahaja veverica. Funkcija vrne vse ovire iz seznama `ovire`, na katere lahko skoči. (Ne vznemirjaj se, če to polje morda ni na nobeni oviri.)\n",
    "\n",
    "- `obstaja_pot(ovira)` vrne `True`, če lahko veverica, ki se nahaja na podani oviri, prečka kolesarsko stezo. Če pot ni možna, naj vrne `False`. Polje bo morda na kaki oviri na levi strani, morda pa bo že sredi kolesarske. Ovira je podana kot terka `(y, x0, x1)`.\n",
    "\n",
    "Toplo priporočam, da zadnjo funkcijo napišete rekurzivno, saj bo tako veliko lažje, kot če poskušate kaj drugega. Prvi dve pa naj bosta \"normalni\".\n",
    "\n"
   ]
  },
  {
   "cell_type": "markdown",
   "id": "447c50eb",
   "metadata": {},
   "source": [
    "### Rešitev\n",
    "\n",
    "`mozen_skok` ni višek programerske umetnosti, samo malo zoprna zna biti. Tule je nekaj možnih rešitev."
   ]
  },
  {
   "cell_type": "code",
   "execution_count": 1,
   "id": "529afef7",
   "metadata": {},
   "outputs": [],
   "source": [
    "def mozen_skok(x, y, ovira):\n",
    "    yo, x0, x1 = ovira\n",
    "    return yo in (y - 2, y + 2) and x0 <= x + 1 <= x1 \\\n",
    "        or yo in (y - 1, y + 1) and (x0 <= x + 1 <= x1 or x0 <= x + 2 <= x1) \\\n",
    "        or yo == y and x0 == x + 2\n",
    "\n",
    "def mozen_skok(x, y, ovira):\n",
    "    yo, x0, x1 = ovira\n",
    "    for dx, dy in ((1, -2), (1, -1), (2, -1), (2, 0), (2, 1), (1, 1), (1, 2)):\n",
    "        if y + dy == yo and x0 <= x + dx <= x1:\n",
    "            return True\n",
    "\n",
    "def mozen_skok(x, y, ovira):\n",
    "    return any(y + dy == ovira[0] and ovira[1] <= x + dx <= ovira[2]\n",
    "               for dx, dy in ((1, -2), (1, -1), (2, -1), (2, 0), (2, 1), (1, 1), (1, 2)))"
   ]
  },
  {
   "cell_type": "markdown",
   "id": "3d201e52",
   "metadata": {},
   "source": [
    "`mozne_ovire` mora zgolj čez seznam ovir in nabrati vse tiste, za katere `mozen_skok` pravi, da je nanje možno skočiti. Vsaka rešitev, drugačna od spodnje, bi bila slaba za karmo."
   ]
  },
  {
   "cell_type": "code",
   "execution_count": 2,
   "id": "5ca16293",
   "metadata": {},
   "outputs": [],
   "source": [
    "def mozne_ovire(x, y):\n",
    "    return [ovira for ovira in ovire if mozen_skok(x, y, ovira)]"
   ]
  },
  {
   "cell_type": "markdown",
   "id": "72c90c64",
   "metadata": {},
   "source": [
    "Zdaj pa še najpomembnejša funkcija, `obstaja_pot`. Če smo na koncu, smo zmagali in vrnemo `True`. Sicer gremo po vseh ovirah, na katere je možnost skočiti iz trenutne. Ko med njimi naletimo na takšno, s katere je možna pot do konca, vrnemo `True`. Če takšne ni, pa vrnemo `False`."
   ]
  },
  {
   "cell_type": "code",
   "execution_count": 3,
   "id": "5b13fd18",
   "metadata": {},
   "outputs": [],
   "source": [
    "def obstaja_pot(ovira):\n",
    "    y, _, x1 = ovira\n",
    "    if x1 >= 16:\n",
    "        return True\n",
    "    for ovira in mozne_ovire(x1, y):\n",
    "        if obstaja_pot(ovira):\n",
    "            return True\n",
    "    return False"
   ]
  },
  {
   "cell_type": "markdown",
   "id": "5f1d20ac",
   "metadata": {},
   "source": [
    "Ali, krajše"
   ]
  },
  {
   "cell_type": "code",
   "execution_count": 4,
   "id": "d1314077",
   "metadata": {},
   "outputs": [],
   "source": [
    "def obstaja_pot(ovira):\n",
    "    y, _, x1 = ovira\n",
    "    return x1 >= 16 or any(obstaja_pot(ovira) for ovira in mozne_ovire(x1, y))"
   ]
  },
  {
   "cell_type": "markdown",
   "id": "c9eee156",
   "metadata": {},
   "source": [
    "Naloga je pravzaprav enaka nalogi, v kateri nas je zanimalo, ali v rodbini določene osebe obstaja oseba s podanim imenom."
   ]
  },
  {
   "cell_type": "markdown",
   "id": "35c39250",
   "metadata": {},
   "source": [
    "## Dodatna naloga\n",
    "\n",
    "<img style=\"float: right; margin-left: 20px\" src=\"data:image/.png;base64,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\"/>\n",
    "\n",
    "Veverica ima na koncu ovire pogosto izbiro, kam skočiti naprej.\n",
    "\n",
    "Napiši funkcijo `stevilo_poti(ovira)`, ki pove, na koliko načinov lahko veverica, ki stoji na podani oviri, doseže desno stran kolesarske, to je, na koliko načinov lahko pride do kake ovire, ki se bodisi drži desnega roba bodisi je od njega oddaljena za 1. Če pot ni možna, seveda vrne 0.\n",
    "\n",
    "Nekaj primerov je na sliki. Upoštevaj, da obsega modra pot štiri načine (od kateri se dva končata na istem mestu).\n",
    "\n",
    "Rjava pot pokriva 16 načinov:\n",
    "\n",
    "- Do ovire (16, 17) lahko pride na 4 načine (tako da gre naravnost, naredi drugi ovinek, naredi prvi ovinek ali pa naredi oba ovinka).\n",
    "- Tudi do ovire (15, 16) pride na štiri načine. Če gre odtod na modro pot, se vsak od teh nadaljuje na dva načina, kar bo torej naneslo, skupno, 8 načinov.\n",
    "- Če pa že v začetku krene gor, na modro, se to konča s 4 možnimi načini.\n",
    "\n",
    "Tale opis samo kaže, kako je treba razumeti število načinov. Pri programiranju najbrž ne bo potrebno ničesar množiti, temveč samo seštevati. Rešitev je skoraj enaka rešitvi obvezne naloge."
   ]
  },
  {
   "cell_type": "markdown",
   "id": "6c7a4559",
   "metadata": {},
   "source": [
    "### Rešitev"
   ]
  },
  {
   "cell_type": "code",
   "execution_count": 5,
   "id": "d62453b6",
   "metadata": {},
   "outputs": [],
   "source": [
    "def stevilo_poti(ovira):\n",
    "    y, _, x1 = ovira\n",
    "    return (x1 >= 16) + sum(stevilo_poti(ovira2) for ovira2 in mozne_ovire(x1, y))"
   ]
  },
  {
   "cell_type": "markdown",
   "id": "e5008ab8",
   "metadata": {},
   "source": [
    "`x1 >= 16` je `True`, kar je isto kot `1`, če je s te ovire možno skočiti na konec, in `False` (`0`), če ni. Izraz `x1 >= 16)` mora biti v oklepaju, ker ima seštevanje prednost pred `>=`.\n",
    "\n",
    "K temu je potrebno prišteti število poti, ki vodijo z ovir, na katere je možno skočiti s trenutne.\n",
    "\n",
    "Prav, prav, napišimo še daljšo varianto."
   ]
  },
  {
   "cell_type": "code",
   "execution_count": 6,
   "id": "636b0d01",
   "metadata": {},
   "outputs": [],
   "source": [
    "def stevilo_poti(ovira):\n",
    "    y, _, x1 = ovira\n",
    "    poti = 0\n",
    "    if x1 >= 16:\n",
    "        poti += 1\n",
    "    for naprej in mozne_ovire(x1, y):\n",
    "        poti += stevilo_poti(naprej)\n",
    "    return poti"
   ]
  },
  {
   "cell_type": "markdown",
   "id": "359ebcd9",
   "metadata": {},
   "source": [
    "Tole je zelo podobno nalogi, v kateri nas je zanimala velikost rodbine določene osebe. Ali, če hočete, prejšnji nalogi. Tako ali tako je to vse eno in isto."
   ]
  }
 ],
 "metadata": {
  "kernelspec": {
   "display_name": "Python 3 (ipykernel)",
   "language": "python",
   "name": "python3"
  },
  "language_info": {
   "codemirror_mode": {
    "name": "ipython",
    "version": 3
   },
   "file_extension": ".py",
   "mimetype": "text/x-python",
   "name": "python",
   "nbconvert_exporter": "python",
   "pygments_lexer": "ipython3",
   "version": "3.9.7"
  }
 },
 "nbformat": 4,
 "nbformat_minor": 5
}
