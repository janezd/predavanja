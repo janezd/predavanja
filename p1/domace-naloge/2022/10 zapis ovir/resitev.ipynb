{
 "cells": [
  {
   "cell_type": "markdown",
   "id": "00c19559",
   "metadata": {},
   "source": [
    "# Zapis ovir\n",
    "\n",
    "## Obvezna naloga\n",
    "\n",
    "Mednarodni standard ISO-1234 za zapis pozicij ovir na kolesarskih poteh je takšen.\n",
    "\n",
    "- Vsaka vrstica datoteke se nanaša na eno \"vrstico\" kolesarske poti.\n",
    "- Prva številka v vrstici je koordinata y, zapisana na 3 mesta, z vodilnimi ničlami. Koordinata 42 je torej zapisana kot `042`.\n",
    "- Sledi dvopičje.\n",
    "- Sledijo pari; začetni in končni x sta ločena z `-`. Zapisana sta na 4 mesta, pri čemer je začetna koordinata poravnana desno, končna pa levo.\n",
    "\n",
    "Če komu zveni zapleteno, živi v zmoti. Preprosto je: ovire\n",
    "\n",
    "```python\n",
    "{4: [(5, 6), (9, 11)],\n",
    " 5: [(9, 11), (19, 20), (30, 34)],\n",
    " 13: [(5, 8), (9, 11), (17, 19), (22, 25), (90, 100)]}\n",
    "```\n",
    "\n",
    "zapišemo kot\n",
    "\n",
    "```\n",
    "004:   5-6      9-11\n",
    "005:   9-11    19-20    30-34\n",
    "013:   5-8      9-11    17-19    22-25    90-100\n",
    "```\n",
    "\n",
    "Napiši funkcijo `zapisi_ovire(ime_datoteke, ovire)`, ki v datoteko s podanim imenom shrani podane ovire v takšni obliki. Ovire so tokrat podane v obliki slovarja: ključi so številke vrstic, pripadajoče vrednosti pa seznami parov začetkov in koncev ovir.\n",
    "\n",
    "Testi bodo funkciji vsakič podali drugačno ime datoteke (konkretno: trenutni čas). Če se test izvede uspešno, bodo datoteko pobrisali, sicer jo bodo pustili (in se bodo začele nabirati), tako da lahko vidite, kaj je funkcija (napačno) zapisala vanjo.\n",
    "\n",
    "### Rešitev\n",
    "\n",
    "Odpremo datoteko za pisanje. Nato gremo čez pare koordinat `y` in seznamov začetkov in koncev. V datoteko zapišemo `y` na `3` mesta, poravnano na desno, pri čemer ne poravnavamo s presledki temveč z `0`; temu se reče `f{y:0>3}`. Znak za poravnavo na desno `>` je potreben, ker brez njega ne moremo podati znaka za poravnavo, `0`.\n",
    "\n",
    "Nato gremo čez seznam začetkov in koncev ovir (shranili ju bomo v `x0` in `x1`) ter jih zapisujemo: `x0` preprosto zapišemo na 4 mesta, `x1` pa zapišemo na štiri mesta s poravnavo na levo. Mednju postavimo `-`. Temu se reče `f\"{x0:4}-{x1:<4}\"`.\n",
    "\n",
    "Na koncu vsake vrstice gremo v novo vrstico, `\"\\n\"`."
   ]
  },
  {
   "cell_type": "code",
   "execution_count": 1,
   "id": "eceedb16",
   "metadata": {},
   "outputs": [],
   "source": [
    "def zapisi_ovire(ime_datoteke, ovire):\n",
    "    f = open(ime_datoteke, \"w\")\n",
    "    for y, xs in ovire.items():\n",
    "        f.write(f\"{y:0>3}:\")\n",
    "        for x0, x1 in xs:\n",
    "            f.write(f\"{x0:4}-{x1:<4}\")\n",
    "        f.write(\"\\n\")"
   ]
  },
  {
   "cell_type": "markdown",
   "id": "ce9c099f",
   "metadata": {},
   "source": [
    "## Dodatna naloga\n",
    "\n",
    "Oddelek za gospodarstvo in motoriziran promet je ponosen na svoje inovacije. (Temu na primer, da so kolesarjem na Slovenski cesti omogočili voziti slalom med avtobusi, z vso resnostjo pravijo \"inovacija v svetovnem merilu\". Kar dejansko je.)\n",
    "\n",
    "V okviru te domače naloge so predstavili novo obliko zapisa ovir. Standard MOL-666 zapiše gornje ovire takole:\n",
    "\n",
    "```\n",
    "4\n",
    "5\n",
    "6\n",
    "9\n",
    "11\n",
    "\n",
    "5\n",
    "9\n",
    "11\n",
    "19\n",
    "20\n",
    "30\n",
    "34\n",
    "\n",
    "13\n",
    "5\n",
    "8\n",
    "9\n",
    "11\n",
    "17\n",
    "19\n",
    "22\n",
    "25\n",
    "90\n",
    "100\n",
    "\n",
    "169\n",
    "1\n",
    "2\n",
    "```\n",
    "\n",
    "Kot navaja MOL, je novi standard namenjen še večjemu spodbujanju kolesarjenja in trajnostne mobilnosti, hkrati pa tudi hitrejšemu zelenemu prehodu v brezogljično družbo.\n",
    "\n",
    "Napiši funkcijo `preberi_ovire(ime_datoteke)`, ki prebere ovire iz takšne datoteke v slovar.\n",
    "\n",
    "Testno datoteko bodo sestavili testi ob prvem zagonu. Njeno ime bo \"ovire.txt\", vendar naj bo funkcija napisana tako, da zna prebrati datoteko s poljubnim podanim imenom.\n",
    "\n",
    "### Rešitev\n",
    "\n",
    "Ena pot je tale: preberemo celotno datoteko v en sam niz in jo razbijemo glede na `\\n\\n`, se pravi glede na prazne vrstice (dva `\\n` pač pomenita, da gremo dvakrat zapored v novo vrstico). Z zanko gremo čez te bloke; imenovali jih bomo `vrstica_ovir` (vrstica v smislu vrstice na kolesarski poti, ne v datoteki).\n",
    "\n",
    "Vrstico ovir razbijemo s `split` na vrstice in vsako z `int` pretvorimo v številko. Tako dobimo seznam številk. Ničta je `y`. Ostale številke so začetki in konci ovir: `stevilke[1::2]` so vsi začetki (začnemo s prvo in jemljemo vsako drugo), `stevilke[2::2]` so konci (začnemo z drugo in jemljemo vsako drugo). Začetke in konce zipnemo skupaj, dobljene pare zložimo v seznam in ga damo v slovar `ovire` pod ustrezen ključ."
   ]
  },
  {
   "cell_type": "code",
   "execution_count": 3,
   "id": "e63505e2",
   "metadata": {},
   "outputs": [],
   "source": [
    "def preberi_ovire(ime_datoteke):\n",
    "    ovire = {}\n",
    "    for vrstica_ovir in open(ime_datoteke).read().split(\"\\n\\n\"):\n",
    "        stevilke = [int(x) for x in vrstica_ovir.split()]\n",
    "        ovire[stevilke[0]] = list(zip(stevilke[1::2], stevilke[2::2]))\n",
    "    return ovire"
   ]
  },
  {
   "cell_type": "markdown",
   "id": "7373a841",
   "metadata": {},
   "source": [
    "Druga pot je sprotno branje. Program bo daljši, najbrž tudi počasnejši, je pa zanimiv zato, ker porabi manj pomnilnika, saj bo vedno obdeloval le posamično vrstico. Tu se to sicer ne bo prav nič poznalo, vseeno pa je koristno, da znamo programirati tudi tako."
   ]
  },
  {
   "cell_type": "code",
   "execution_count": 4,
   "id": "58376ea0",
   "metadata": {},
   "outputs": [],
   "source": [
    "def preberi_ovire(ime_datoteke):\n",
    "    ovire = {}\n",
    "    y = None\n",
    "    f = open(ime_datoteke)\n",
    "    for vrstica in f:\n",
    "        if y is None:  # nimam številke vrstice\n",
    "            y = int(vrstica)\n",
    "            ovire[y] = []\n",
    "        elif not vrstica.strip():\n",
    "            y = None\n",
    "        else:\n",
    "            x0 = int(vrstica)\n",
    "            x1 = int(f.readline())\n",
    "            ovire[y].append((x0, x1))\n",
    "    return ovire"
   ]
  },
  {
   "cell_type": "markdown",
   "id": "c5bd8293",
   "metadata": {},
   "source": [
    "`y` je številka trenutne vrstice. V začetku je ne poznamo, zato bo `y` enak `None`. Odpremo datoteko in jo beremo.\n",
    "\n",
    "- Če je `y` enak `None`, v `y` preberemo številko vrstice. V slovar dodamo novo vrstico.\n",
    "- Sicer preverimo, ali je vrstica datoteke prazna: v tem primeru je vrstice konec in v `y` zabeležimo `None`, da se ve, da čakamo naslednjo vrstico.\n",
    "- Sicer pa pravkar prebrana vrstica vsebuje začetek ovire. Preberemo (kar z `readline`) še eno vrstico, to je, konec ovire in to dodamo v seznam, ki ustreza trenutni vrstici."
   ]
  }
 ],
 "metadata": {
  "kernelspec": {
   "display_name": "Python 3 (ipykernel)",
   "language": "python",
   "name": "python3"
  },
  "language_info": {
   "codemirror_mode": {
    "name": "ipython",
    "version": 3
   },
   "file_extension": ".py",
   "mimetype": "text/x-python",
   "name": "python",
   "nbconvert_exporter": "python",
   "pygments_lexer": "ipython3",
   "version": "3.10.0"
  }
 },
 "nbformat": 4,
 "nbformat_minor": 5
}
