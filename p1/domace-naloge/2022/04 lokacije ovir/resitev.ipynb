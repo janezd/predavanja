{
 "cells": [
  {
   "cell_type": "markdown",
   "id": "fdf3b565",
   "metadata": {},
   "source": [
    "MOL je poslal zemljevid ovir na kolesarski poti. Zemljevid je shranjen kot seznam nizov, ki predstavljajo \"vrstice\": `#` predstavlja oviro, `.` pa prosto pot.\n",
    "\n",
    "Ker smo prejšnji teden napisali program, ki sprejme opis ovir kot seznam trojk `(x0, x1, y)`, bi radi pretvorili MOLov zemljevid v takšno obliko.\n",
    "\n",
    "## Ogrevalna naloga\n",
    "\n",
    "Napiši program, ki se začne z opisom ovire v eni vrstici, na primer\n",
    "\n",
    "```\n",
    "ovire = \".##..####...##\"\n",
    "```\n",
    "\n",
    "Program mora izpisati seznam **parov**, ki predstavljajo začetke in konce ovir. Za gornjo postavitev je to `[(2, 3), (6, 9), (13, 14)]`. **Ne spreglej**, da koordinate niso opisane po \"Pythonovsko\": prvi stolpec ima indeks 1 in obe meji sta vključeni (`(6, 9)` pokriva tudi vrstico 9, torej vsebuje 4 `#`).\n",
    "\n",
    "Program obvezno preskusi na nizih `\".##..####...##\"` in `##..#...#` (ki se pretvori v `[(1, 2), (5, 5), (9, 9)]`). **Pazi: v podatkih morajo biti napisani nizi v *točno takšni* obliki. Tu ne dodajaj ničesar na začetel ali konec; če želiš, pa lahko to kasneje naredi program sam.**\n",
    "\n",
    "### Rešitev\n",
    "\n",
    "Da bomo preskušali vse sitnosti naenkrat, vzemimo tale niz:"
   ]
  },
  {
   "cell_type": "code",
   "execution_count": 1,
   "id": "19c02fbe",
   "metadata": {},
   "outputs": [],
   "source": [
    "ovire = \"##...#.###..##\"\n",
    "#        12345678901234"
   ]
  },
  {
   "cell_type": "markdown",
   "id": "d868640f",
   "metadata": {},
   "source": [
    "Vsebuje oviro na začetku in na koncu, oviro dolžine 1 in oviri, ki sta razmaknjeni za 1. Spodaj smo napisali številke, da lažje razberemo pričakovani rezultat: `[(1, 2), (6, 6), (7, 9), (13, 14)]`.\n",
    "\n",
    "Nalogo je možno rešiti na kup načinov. Vsem je skupno to, da se je potrebno dobro zorganizirati. Da naloga ne bi bila pretežka, sem na predavanju, namenjenem začetnikom (starejši mački pa naj se kar malo potrudijo) predlagal, da na začetek in konec niza prilepijo piko, potem pa opazujejo vse `#`, ki so takoj za ali tik pred piko. Zanimajo nas njihovi indeksi; tisti za piko predstavljajo začetke, tisti po pa konce ovir."
   ]
  },
  {
   "cell_type": "code",
   "execution_count": 2,
   "id": "abc86033",
   "metadata": {},
   "outputs": [
    {
     "name": "stdout",
     "output_type": "stream",
     "text": [
      "[(1, 2), (6, 6), (8, 10), (12, 15), (17, 18)]\n"
     ]
    }
   ],
   "source": [
    "ovire = \"##...#.###.####.##\"\n",
    "\n",
    "\n",
    "ovire = \".\" + ovire + \".\"\n",
    "bloki = []\n",
    "for i in range(len(ovire)):\n",
    "    if ovire[i] == \"#\":\n",
    "        if ovire[i - 1] == \".\":\n",
    "            zacetek = i\n",
    "        if ovire[i + 1] == \".\":\n",
    "            bloki.append((zacetek, i))\n",
    "print(bloki)"
   ]
  },
  {
   "cell_type": "markdown",
   "id": "a25d16fc",
   "metadata": {},
   "source": [
    "Če vidimo `#`, pred katerim je `.`, si zapomnim, da je to začetek. Če vidimo `#`, za katerim je `.`, v seznam blokov dodamo blok od začetka do trenutnega indeksa.\n",
    "\n",
    "Za posamične `#` se zgodi oboje naenkrat, zato tu nismo uporabili kakega `else` ali `elif`.\n",
    "\n",
    "Stolpce v tej nalogi štejemo od `1` ne od `0`. Naši indeksi bodo pravilni, saj smo na začetek dodali `.`.\n",
    "\n",
    "Zdaj pa izboljšave.\n",
    "\n",
    "Na predavanjih običajno stokam, da `range(len(ovire))` ni lepo pisati - sploh, kadar potrebuješ tako indeks kot element. Raje pišimo:"
   ]
  },
  {
   "cell_type": "code",
   "execution_count": 3,
   "id": "35c5ff1e",
   "metadata": {},
   "outputs": [
    {
     "name": "stdout",
     "output_type": "stream",
     "text": [
      "[(1, 2), (6, 6), (8, 10), (13, 14)]\n"
     ]
    }
   ],
   "source": [
    "ovire = \"##...#.###..##\"\n",
    "\n",
    "\n",
    "ovire = \".\" + ovire + \".\"\n",
    "bloki = []\n",
    "for i, znak in enumerate(ovire):\n",
    "    if znak == \"#\":\n",
    "        if ovire[i - 1] == \".\":\n",
    "            zacetek = i\n",
    "        if ovire[i + 1] == \".\":\n",
    "            bloki.append((zacetek, i))\n",
    "print(bloki)"
   ]
  },
  {
   "cell_type": "markdown",
   "id": "a773948d",
   "metadata": {},
   "source": [
    "Se lahko zgodi, da bi bil indeks `i + 1` prevelik? To bi bilo možno le, če bi bil zadnji znak `#` in bi se torej spraševali po znaku za njim. To pa ne more biti, saj smo na konec dodali piko. Prav tako `i - 1` nikoli ne bo `-1`, saj je ničti znak vedno `.` in ne `#`.\n",
    "\n",
    "Še lepše je, če uporabimo čistokrvni `zip`. V tem primeru lahko pike dodamo kar v klicu `zip`-a."
   ]
  },
  {
   "cell_type": "code",
   "execution_count": 4,
   "id": "a3344a96",
   "metadata": {},
   "outputs": [
    {
     "name": "stdout",
     "output_type": "stream",
     "text": [
      "[(1, 2), (6, 6), (8, 10), (13, 14)]\n"
     ]
    }
   ],
   "source": [
    "ovire = \"##...#.###..##\"\n",
    "\n",
    "\n",
    "bloki = []\n",
    "for i, (prej, znak, potem) in enumerate(zip(\".\" + ovire, ovire, ovire[1:] + \".\"), start=1):\n",
    "    if znak == \"#\":\n",
    "        if prej == \".\":\n",
    "            zacetek = i\n",
    "        if potem == \".\":\n",
    "            bloki.append((zacetek, i))\n",
    "print(bloki)"
   ]
  },
  {
   "cell_type": "markdown",
   "id": "6466fb0b",
   "metadata": {},
   "source": [
    "Tule se je sicer zdaj zgodilo kar nekaj reči, o katerih se na predavanjih še nismo pogovarjali.\n",
    "\n",
    "Najprej, kaj zipamo. Tole"
   ]
  },
  {
   "cell_type": "raw",
   "id": "625ddce2",
   "metadata": {},
   "source": [
    ".##...#.###..##  (\".\" + ovire)\n",
    "##...#.###..##   (ovire)\n",
    "#...#.###..##    (ovire[1:] + \".\")"
   ]
  },
  {
   "cell_type": "markdown",
   "id": "f18c832c",
   "metadata": {},
   "source": [
    "Okrog `zip`-a pride še `enumerate`, da bomo imeli indekse; vse skupaj je potrebno razpakirati kot `for i, (prej, znak, potem)`, saj imamo pare (indeks, element), pri čemer je element trojka.\n",
    "\n",
    "Končno, ker morajo indeksi teči od `1`, smo v `enumerate` dodali `start=1`.\n",
    "\n",
    "Zdaj pa malo drugačna različica: zabeležimo vse spremembe."
   ]
  },
  {
   "cell_type": "code",
   "execution_count": 5,
   "id": "9e9f9215",
   "metadata": {},
   "outputs": [
    {
     "data": {
      "text/plain": [
       "[1, 3, 6, 7, 8, 11, 13, 15]"
      ]
     },
     "execution_count": 5,
     "metadata": {},
     "output_type": "execute_result"
    }
   ],
   "source": [
    "ovire = \"##...#.###..##\"\n",
    "\n",
    "\n",
    "ovire = \".\" + ovire + \".\"\n",
    "spremembe = []\n",
    "for i in range(len(ovire)):\n",
    "    if ovire[i] != ovire[i - 1]:\n",
    "        spremembe.append(i)\n",
    "        \n",
    "spremembe"
   ]
  },
  {
   "cell_type": "markdown",
   "id": "8a39dea1",
   "metadata": {},
   "source": [
    "Te indekse je potrebno popariti:"
   ]
  },
  {
   "cell_type": "code",
   "execution_count": 6,
   "id": "7461dc1f",
   "metadata": {},
   "outputs": [
    {
     "data": {
      "text/plain": [
       "[(1, 3), (6, 7), (8, 11), (13, 15)]"
      ]
     },
     "execution_count": 6,
     "metadata": {},
     "output_type": "execute_result"
    }
   ],
   "source": [
    "list(zip(spremembe[::2], spremembe[1::2]))"
   ]
  },
  {
   "cell_type": "markdown",
   "id": "fbf53eb0",
   "metadata": {},
   "source": [
    "Žal so drugi elementi teh terk - konci blokov - preveliki. Ker terk ni mogoče spreminjati, nam (dokler se ne naučimo, kako to storiti drugače) ne preostane drugega kot prepisati jih v nov seznam. No, saj ni tako hudo."
   ]
  },
  {
   "cell_type": "code",
   "execution_count": 7,
   "id": "231b2404",
   "metadata": {},
   "outputs": [
    {
     "data": {
      "text/plain": [
       "[(1, 2), (6, 6), (8, 10), (13, 14)]"
      ]
     },
     "execution_count": 7,
     "metadata": {},
     "output_type": "execute_result"
    }
   ],
   "source": [
    "ovire = \"##...#.###..##\"\n",
    "\n",
    "\n",
    "ovire = \".\" + ovire + \".\"\n",
    "spremembe = []\n",
    "for i in range(len(ovire)):\n",
    "    if ovire[i] != ovire[i - 1]:\n",
    "        spremembe.append(i)\n",
    "        \n",
    "bloki = []\n",
    "for zac, kon in zip(spremembe[::2], spremembe[1::2]):\n",
    "    bloki.append((zac, kon - 1))\n",
    "    \n",
    "bloki"
   ]
  },
  {
   "cell_type": "markdown",
   "id": "32b2663b",
   "metadata": {},
   "source": [
    "Pa brez dodajanja pik na začetek in konec? Gre, samo malo več sitnosti je. Recimo tako:"
   ]
  },
  {
   "cell_type": "code",
   "execution_count": 8,
   "id": "5596093c",
   "metadata": {},
   "outputs": [
    {
     "data": {
      "text/plain": [
       "[(1, 3), (6, 7), (8, 11), (13, 14)]"
      ]
     },
     "execution_count": 8,
     "metadata": {},
     "output_type": "execute_result"
    }
   ],
   "source": [
    "ovire = \"##...#.###..##\"\n",
    "\n",
    "prej = \".\"\n",
    "bloki = []\n",
    "for i, znak in enumerate(ovire, start=1):\n",
    "    if znak != prej:\n",
    "        if znak == \"#\":\n",
    "            zacetek = i\n",
    "        else:\n",
    "            bloki.append((zacetek, i))\n",
    "    prej = znak\n",
    "    \n",
    "if ovire[-1] == \"#\":\n",
    "    bloki.append((zacetek, len(ovire)))\n",
    "    \n",
    "bloki        "
   ]
  },
  {
   "cell_type": "markdown",
   "id": "14d02817",
   "metadata": {},
   "source": [
    "V spremenljivko `prej` beležimo, kakšen je bil prejšnji znak. V začetku se pretvarjamo, da je `\".\"`. To poskrbi, da zaznamo oviro na začetku niza. Za oviro na koncu pa poskrbimo z `if` po zanki.\n",
    "\n",
    "Če ne vemo, da ima `enumerate` lahko tudi argument `start`, namesto `i` vedno pišemo `i + 1`."
   ]
  },
  {
   "cell_type": "markdown",
   "id": "eb7fcc77",
   "metadata": {},
   "source": [
    "## Obvezna naloga\n",
    "\n",
    "Napiši program, ki prejme celotni zemljevid in izpiše seznam ovir, kot smo ga vajeni iz prejšnje naloge. Če zemljevid definiramo z\n",
    "\n",
    "```\n",
    "zemljevid = [\n",
    "    \"......\",\n",
    "    \"..##..\",\n",
    "    \".##.#.\",\n",
    "    \"...###\",\n",
    "    \"###.##\",\n",
    "]\n",
    "```\n",
    "\n",
    "mora izpisati `[(3, 4, 2), (2, 3, 3), (5, 5, 3), (4, 6, 4), (1, 3, 5), (5, 6, 5)]`.\n",
    "\n",
    "Pazi, tudi vrstice so oštevilčene od 1.\n",
    "\n",
    "### Rešitev\n",
    "\n",
    "Vzamemo katerokoli od prejšnjih rešitev in jo zapremo v zanko\n",
    "\n",
    "```python\n",
    "for y, ovire in enumerate(zemljevid, start=1):\n",
    "```\n",
    "\n",
    "ter k paru koordinat x dodamo še številko vrstice, `y`. Če ne vemo, da lahko funkciji `enumerate` podamo argument `start=2`, pa namesto `y` dodajamo `y + 1`."
   ]
  },
  {
   "cell_type": "code",
   "execution_count": 9,
   "id": "cb886458",
   "metadata": {},
   "outputs": [
    {
     "name": "stdout",
     "output_type": "stream",
     "text": [
      "[(3, 4, 2), (2, 3, 3), (5, 5, 3), (4, 6, 4), (1, 3, 5), (5, 6, 5)]\n"
     ]
    }
   ],
   "source": [
    "zemljevid = [\n",
    "    \"......\",\n",
    "    \"..##..\",\n",
    "    \".##.#.\",\n",
    "    \"...###\",\n",
    "    \"###.##\",\n",
    "]\n",
    "\n",
    "\n",
    "bloki = []\n",
    "for y, ovire in enumerate(zemljevid):\n",
    "    ovire = \".\" + ovire + \".\"\n",
    "    for i, znak in enumerate(ovire):\n",
    "        if znak == \"#\":\n",
    "            if ovire[i - 1] == \".\":\n",
    "                zacetek = i\n",
    "            if ovire[i + 1] == \".\":\n",
    "                bloki.append((zacetek, i, y + 1))\n",
    "print(bloki)"
   ]
  },
  {
   "cell_type": "markdown",
   "id": "5d2a702d",
   "metadata": {},
   "source": [
    "## Dodatna naloga\n",
    "\n",
    "Naredi obratno: napiši program, ki na podlagi seznama ovir izpiše zemljevid. Podatki naj bodo zapisani v spremenljivki `ovire`, na primer"
   ]
  },
  {
   "cell_type": "code",
   "execution_count": 10,
   "id": "cd423273",
   "metadata": {},
   "outputs": [],
   "source": [
    "ovire = [(3, 4, 2), (2, 3, 3), (5, 5, 3), (4, 6, 4), (1, 3, 5), (5, 6, 5)]"
   ]
  },
  {
   "cell_type": "markdown",
   "id": "dae0a150",
   "metadata": {},
   "source": [
    "### Rešitev\n",
    "\n",
    "Najprej ugotovimo širino in višino ter sestavimo prazen zemljevid:"
   ]
  },
  {
   "cell_type": "code",
   "execution_count": 11,
   "id": "17b5a023",
   "metadata": {},
   "outputs": [
    {
     "data": {
      "text/plain": [
       "['......', '......', '......', '......', '......']"
      ]
     },
     "execution_count": 11,
     "metadata": {},
     "output_type": "execute_result"
    }
   ],
   "source": [
    "sirina = visina = 0\n",
    "for _, x1, y in ovire:\n",
    "    if x1 > sirina:\n",
    "        sirina = x1\n",
    "    if y > visina:\n",
    "        visina = y\n",
    "        \n",
    "# Kot bomo nekoč videli, je tole malo nevarno,\n",
    "# ampak pri nizih deluje\n",
    "zemljevid = [\".\" * sirina] * visina\n",
    "\n",
    "zemljevid"
   ]
  },
  {
   "cell_type": "markdown",
   "id": "69bb7176",
   "metadata": {},
   "source": [
    "Potem napolnimo zemljevid: gremo čez ovire in menjamo ustrezne vrstice zemljevida s takšnimi, v katere dodamo ovire."
   ]
  },
  {
   "cell_type": "code",
   "execution_count": 12,
   "id": "961d22e9",
   "metadata": {},
   "outputs": [],
   "source": [
    "for x0, x1, y in ovire:\n",
    "    vrstica = zemljevid[y - 1]\n",
    "    zemljevid[y - 1] = vrstica[:x0 - 1] + \"#\" * (x1 - x0 + 1) + vrstica[x1:]\n",
    "    #                  ^^^^^^^^^^^^^^^^   ^^^^^^^^^^^^^^^^^^^   ^^^^^^^^^^^^\n",
    "    #                   del pred oviro            ovira           po oviri"
   ]
  },
  {
   "cell_type": "markdown",
   "id": "af54982c",
   "metadata": {},
   "source": [
    "V resnici je kar preprosto, le o indeksih moramo razmišljati. Od `y` je potrebno odšteti `1`, ker ima prva vrstica v `ovire` številko 1, Python pa šteje od `0`. Iz istega razloga je potrebno odšteti `1` od `x0`. Dolžina ovire je `x1 - x0 + 1`; ena prištejemo, ker ovira obsega tudi `x1`. Del po oviri pa se začne po `x1`; tu ne prištejemo ničesar.\n",
    "\n",
    "Preverimo rezultat:"
   ]
  },
  {
   "cell_type": "code",
   "execution_count": 13,
   "id": "f6341015",
   "metadata": {},
   "outputs": [
    {
     "name": "stdout",
     "output_type": "stream",
     "text": [
      "......\n",
      "..##..\n",
      ".##.#.\n",
      "...###\n",
      "###.##\n"
     ]
    }
   ],
   "source": [
    "for vrstica in zemljevid:\n",
    "    print(vrstica)"
   ]
  },
  {
   "cell_type": "markdown",
   "id": "3ab19936",
   "metadata": {},
   "source": [
    "Celotna rešitev dodatne naloge je torej:"
   ]
  },
  {
   "cell_type": "code",
   "execution_count": 14,
   "id": "efcfcd9b",
   "metadata": {},
   "outputs": [],
   "source": [
    "sirina = visina = 0\n",
    "for _, x1, y in ovire:\n",
    "    if x1 > sirina:\n",
    "        sirina = x1\n",
    "    if y > visina:\n",
    "        visina = y\n",
    "zemljevid = [\".\" * sirina] * visina\n",
    "\n",
    "for x0, x1, y in ovire:\n",
    "    vrstica = zemljevid[y - 1]\n",
    "    zemljevid[y - 1] = vrstica[:x0 - 1] + \"#\" * (x1 - x0 + 1) + vrstica[x1:]"
   ]
  },
  {
   "cell_type": "markdown",
   "id": "3b50a108",
   "metadata": {},
   "source": [
    "Zanimivo, da je del s iskanjem širine in višine celo daljši od dejanske naloge. Ko bomo znali več, bomo pisali"
   ]
  },
  {
   "cell_type": "code",
   "execution_count": 15,
   "id": "91919efd",
   "metadata": {},
   "outputs": [],
   "source": [
    "zemljevid = [\".\" * max(x1 for _, x1, _ in ovire)] * max(y for _, _, y in ovire)"
   ]
  },
  {
   "cell_type": "markdown",
   "id": "879878c3",
   "metadata": {},
   "source": [
    "In če bi bile ovire podane bolj Pythonovsko - tako da bi šteli od 0 in ne vključili gornje meje, bi bil drugi del nekoliko preprostejši:\n",
    "\n",
    "```python\n",
    "for x0, x1, y in ovire:\n",
    "    vrstica = zemljevid[y]\n",
    "    zemljevid[y] = vrstica[:x0] + \"#\" * (x1 - x0) + vrstica[x1:]\n",
    "```"
   ]
  },
  {
   "cell_type": "markdown",
   "id": "9baffd3f",
   "metadata": {},
   "source": [
    "## Izziv: rešitev z `numpy`\n",
    "\n",
    "Nalogo je čisto preprosto rešiti z numpy-jem. Ampak samo tistim, ki obvladajo numpy."
   ]
  },
  {
   "cell_type": "code",
   "execution_count": 31,
   "id": "a2d0b06e",
   "metadata": {},
   "outputs": [],
   "source": [
    "import numpy as np\n",
    "\n",
    "zemljevid = [\n",
    "    \"......\",\n",
    "    \"..##..\",\n",
    "    \".##.#.\",\n",
    "    \"...###\",\n",
    "    \"###.##\",\n",
    "]\n",
    "\n",
    "zemljevid = np.array([[0] + [int(c == \"#\")\n",
    "                      for c in vrstica] + [0] for vrstica in zemljevid])"
   ]
  },
  {
   "cell_type": "markdown",
   "id": "2f900beb",
   "metadata": {},
   "source": [
    "`zemljevid` je po tem tabela v numpy-ju, ki vsebuje enke na mestih, kjer so ovire; levo in desno sta dodana še stolpca ničel."
   ]
  },
  {
   "cell_type": "code",
   "execution_count": 32,
   "id": "8aee46a5",
   "metadata": {},
   "outputs": [
    {
     "data": {
      "text/plain": [
       "array([[0, 0, 0, 0, 0, 0, 0, 0],\n",
       "       [0, 0, 0, 1, 1, 0, 0, 0],\n",
       "       [0, 0, 1, 1, 0, 1, 0, 0],\n",
       "       [0, 0, 0, 0, 1, 1, 1, 0],\n",
       "       [0, 1, 1, 1, 0, 1, 1, 0]])"
      ]
     },
     "execution_count": 32,
     "metadata": {},
     "output_type": "execute_result"
    }
   ],
   "source": [
    "zemljevid"
   ]
  },
  {
   "cell_type": "markdown",
   "id": "c477383f",
   "metadata": {},
   "source": [
    "Ovire se začnejo tam, kjer enica sledi ničli in končajo tam, kjer enici sledi ničla.\n",
    "\n",
    "S tremi vrsticami `numpy`-ja - **brez kakršnekoli zanke v Pythonu** - je možno pridelati tabelo, ki je v bistvu rešitev naloge:\n",
    "\n",
    "```\n",
    "array([[3, 4, 2],\n",
    "       [2, 3, 3],\n",
    "       [5, 5, 3],\n",
    "       [4, 6, 4],\n",
    "       [1, 3, 5],\n",
    "       [5, 6, 5]])\n",
    "```\n",
    "\n",
    "Znaš?\n",
    "\n",
    "Nasveti:\n",
    "- glavni trik je odštevanje po stolpcih. Tabelo, ki ji odbijemo prvi stolpec je potrebno odšteti od tabele, ki ji odbijemo zadnjega. Ali nekaj podobnega. Potem pa preveriti, kje v rezultato so enice.\n",
    "- Poglej funkcijo [`np.nonzero`](https://numpy.org/doc/stable/reference/generated/numpy.nonzero.html). Z njo hitro prideš do koordinat začetkov in koncev ovir. Rezultat razpakiraš v `y` in `x0` oziroma `y` in `x1`. (Če boš prav naredil, boš dvakrat dobil isti `y`).\n",
    "- Če so vse številke v kaki tabeli prevelike ali premajhne za 1, ji odštej ali prištej 1. \n",
    "- Če imaš tri enodimenzionalne tabele, ki jih želiš zložiti v eno, lahko uporabiš [`np.column_stack`](https://numpy.org/doc/stable/reference/generated/numpy.column_stack.html#numpy.column_stack).\n",
    "\n",
    "Če rešiš nalogo na ta način (in si prepričan, da deluje pravilno), jo lahko oddaš kot rešitev obveznega dela domače naloge.\n",
    "\n",
    "### Rešitev\n",
    "\n",
    "Tole je zemljevid brez prvega stolpca:"
   ]
  },
  {
   "cell_type": "code",
   "execution_count": 33,
   "id": "040b1213",
   "metadata": {},
   "outputs": [
    {
     "data": {
      "text/plain": [
       "array([[0, 0, 0, 0, 0, 0, 0],\n",
       "       [0, 0, 1, 1, 0, 0, 0],\n",
       "       [0, 1, 1, 0, 1, 0, 0],\n",
       "       [0, 0, 0, 1, 1, 1, 0],\n",
       "       [1, 1, 1, 0, 1, 1, 0]])"
      ]
     },
     "execution_count": 33,
     "metadata": {},
     "output_type": "execute_result"
    }
   ],
   "source": [
    "zemljevid[:, 1:]"
   ]
  },
  {
   "cell_type": "markdown",
   "id": "1e5bb51c",
   "metadata": {},
   "source": [
    "In tole brez zadnjega:"
   ]
  },
  {
   "cell_type": "code",
   "execution_count": 35,
   "id": "567fb6ad",
   "metadata": {},
   "outputs": [
    {
     "data": {
      "text/plain": [
       "array([[0, 0, 0, 0, 0, 0, 0],\n",
       "       [0, 0, 0, 1, 1, 0, 0],\n",
       "       [0, 0, 1, 1, 0, 1, 0],\n",
       "       [0, 0, 0, 0, 1, 1, 1],\n",
       "       [0, 1, 1, 1, 0, 1, 1]])"
      ]
     },
     "execution_count": 35,
     "metadata": {},
     "output_type": "execute_result"
    }
   ],
   "source": [
    "zemljevid[:, :-1]"
   ]
  },
  {
   "cell_type": "markdown",
   "id": "5611b540",
   "metadata": {},
   "source": [
    "Če ju odštejemo, dobimo tole:"
   ]
  },
  {
   "cell_type": "code",
   "execution_count": 36,
   "id": "6134afc0",
   "metadata": {},
   "outputs": [
    {
     "data": {
      "text/plain": [
       "array([[ 0,  0,  0,  0,  0,  0,  0],\n",
       "       [ 0,  0,  1,  0, -1,  0,  0],\n",
       "       [ 0,  1,  0, -1,  1, -1,  0],\n",
       "       [ 0,  0,  0,  1,  0,  0, -1],\n",
       "       [ 1,  0,  0, -1,  1,  0, -1]])"
      ]
     },
     "execution_count": 36,
     "metadata": {},
     "output_type": "execute_result"
    }
   ],
   "source": [
    "zemljevid[:, 1:] - zemljevid[:, :-1]"
   ]
  },
  {
   "cell_type": "markdown",
   "id": "42327541",
   "metadata": {},
   "source": [
    "Enice so natančno tam, kjer se začenjajo ovire. Koordinate začetkov dobimo z"
   ]
  },
  {
   "cell_type": "code",
   "execution_count": 37,
   "id": "c89b0b21",
   "metadata": {},
   "outputs": [
    {
     "data": {
      "text/plain": [
       "(array([1, 2, 2, 3, 4, 4]), array([2, 1, 4, 3, 0, 4]))"
      ]
     },
     "execution_count": 37,
     "metadata": {},
     "output_type": "execute_result"
    }
   ],
   "source": [
    "np.nonzero(zemljevid[:, 1:] - zemljevid[:, :-1] == 1)"
   ]
  },
  {
   "cell_type": "markdown",
   "id": "b51f100f",
   "metadata": {},
   "source": [
    "Koordinate koncev dobimo na enak način, le da odštevamo v drugo smer. Ali, preprosteje, gledamo, kje so `-1`."
   ]
  },
  {
   "cell_type": "code",
   "execution_count": 38,
   "id": "ee9ac7b4",
   "metadata": {},
   "outputs": [
    {
     "data": {
      "text/plain": [
       "(array([1, 2, 2, 3, 4, 4]), array([4, 3, 5, 6, 3, 6]))"
      ]
     },
     "execution_count": 38,
     "metadata": {},
     "output_type": "execute_result"
    }
   ],
   "source": [
    "np.nonzero(zemljevid[:, 1:] - zemljevid[:, :-1] == -1)"
   ]
  },
  {
   "cell_type": "markdown",
   "id": "d15c0402",
   "metadata": {},
   "source": [
    "Rešitev celotne obvezne naloge - če dopuščamo, da je rezultat tabela trojk namesto seznama terk - je potem:"
   ]
  },
  {
   "cell_type": "code",
   "execution_count": 41,
   "id": "6e9258c7",
   "metadata": {},
   "outputs": [
    {
     "data": {
      "text/plain": [
       "array([[3, 4, 2],\n",
       "       [2, 3, 3],\n",
       "       [5, 5, 3],\n",
       "       [4, 6, 4],\n",
       "       [1, 3, 5],\n",
       "       [5, 6, 5]])"
      ]
     },
     "execution_count": 41,
     "metadata": {},
     "output_type": "execute_result"
    }
   ],
   "source": [
    "y, x0 = np.nonzero(zemljevid[:, 1:] - zemljevid[:, :-1] == 1)\n",
    "_, x1 = np.nonzero(zemljevid[:, :-1] - zemljevid[:, 1:] == 1)\n",
    "ovire = np.column_stack((x0 + 1, x1, y + 1))\n",
    "\n",
    "ovire"
   ]
  },
  {
   "cell_type": "markdown",
   "id": "336138cb",
   "metadata": {},
   "source": [
    "Tako bi to nalogo rešil profesionalni programer v Pythonu - sploh, če bi bilo ovir veliko in bi mu hitrost numpy-ja kaj pomenila."
   ]
  }
 ],
 "metadata": {
  "kernelspec": {
   "display_name": "Python 3 (ipykernel)",
   "language": "python",
   "name": "python3"
  },
  "language_info": {
   "codemirror_mode": {
    "name": "ipython",
    "version": 3
   },
   "file_extension": ".py",
   "mimetype": "text/x-python",
   "name": "python",
   "nbconvert_exporter": "python",
   "pygments_lexer": "ipython3",
   "version": "3.9.7"
  }
 },
 "nbformat": 4,
 "nbformat_minor": 5
}
