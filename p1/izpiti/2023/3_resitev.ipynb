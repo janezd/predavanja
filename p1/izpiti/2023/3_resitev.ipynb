{
 "cells": [
  {
   "attachments": {},
   "cell_type": "markdown",
   "id": "5a31578c",
   "metadata": {},
   "source": [
    "## 1. Statistika\n",
    "\n",
    "Senzor na kolesarski stezi beleži podatke o številu kolesarjev, ki ga prevozijo. Podatke zbira v seznam s 24×60 elementi: element z indeksom `i` pove število prehodov v i-ti minuti dneva. Napišite naslednje funkcije:\n",
    "\n",
    "- `po_urah(a)` prejme opisani seznam in vrne seznam s 24 elementi, ki vsebujejo število prehodov po urah dneva. (Element z indeksom 2 vsebuje število prehodov v minutarh od 120 do (vključno) 179.)\n",
    "- `naj_ura(a)` vrne uro z največ prehodi (npr. 5, če je največ prehodov med peto in šesto uro).\n",
    "- `brez_prehodov(a)` vrne število minut, ko ni bilo kolesarjev (torej število ničelnih elementov podanega seznama).\n",
    "\n",
    "Za polne točke naj bosta dve od gornjih funkcij napisani v eni vrstici, z uporabo izpeljanega seznama ali generatorja."
   ]
  },
  {
   "cell_type": "markdown",
   "id": "f95972ef",
   "metadata": {},
   "source": [
    "### Rešitev\n",
    "\n",
    "Nalogo je mogoče rešiti na kup načinov.\n",
    "\n",
    "#### `po_urah`\n",
    "\n",
    "Prvo funkcijo najpreprosteje rešimo z rezinami: število prehodov v minutah prve ure je v `a[:60]`, prehodi v drugi uri so v `a[60:120]`, v tretji v `a[120:180]` ... in v `i`-ti v `a[60 * i:60 * (i + 1)]`.\n",
    "\n",
    "Spomnimo se še na funkcijo `sum`, ki sešteje elemente seznama, pa dobimo"
   ]
  },
  {
   "cell_type": "code",
   "execution_count": 1,
   "id": "02b43089",
   "metadata": {},
   "outputs": [],
   "source": [
    "def po_urah(a):\n",
    "    ure = []\n",
    "    for i in range(24):\n",
    "        ure.append(sum(a[i * 60:(i + 1) * 60]))\n",
    "    return ure"
   ]
  },
  {
   "cell_type": "markdown",
   "id": "7f383910",
   "metadata": {},
   "source": [
    "ali, krajše,"
   ]
  },
  {
   "cell_type": "code",
   "execution_count": 2,
   "id": "455b0081",
   "metadata": {},
   "outputs": [],
   "source": [
    "def po_urah(a):\n",
    "    return [sum(a[i * 60:(i + 1) * 60]) for i in range(24)]"
   ]
  },
  {
   "cell_type": "markdown",
   "id": "27e63c70",
   "metadata": {},
   "source": [
    "#### `naj_ura`\n",
    "\n",
    "Naj uro poiščemo tako, da s prvo funkcijo izračunamo število prehodov po urah, potem pa poiščemo indeks ure z največjim številom prehodov."
   ]
  },
  {
   "cell_type": "code",
   "execution_count": 3,
   "id": "61b694c7",
   "metadata": {},
   "outputs": [],
   "source": [
    "def naj_ura(a):\n",
    "    ure = po_urah(a)\n",
    "    naj_i = 0\n",
    "    for i in range(24):\n",
    "        if ure[i] > ure[naj_i]:\n",
    "            naj_i = i\n",
    "    return naj_i"
   ]
  },
  {
   "cell_type": "markdown",
   "id": "79f904b7",
   "metadata": {},
   "source": [
    "##### Malo težja rešitev\n",
    "\n",
    "Naloga pravi, naj bosta dve (in ne nujno tri) funkcije rešene z izpeljanim seznamom oziroma generatorskim izrazom. Razlog je ta funkcija: da bi rešili to nalogo v eni vrstici, bi morali uporabiti lambda funkcije ali kaj še hujšega (vendar lepšega).\n",
    "\n",
    "Kar sledi tule, je torej nekoliko napredno - tega od programerjev-začetnikov nekakor ne zahtevamo. Ena možnost je tale:"
   ]
  },
  {
   "cell_type": "code",
   "execution_count": 4,
   "id": "558382e6",
   "metadata": {},
   "outputs": [],
   "source": [
    "def naj_ura(a):\n",
    "    return max(range(24), key=lambda i: po_urah(a)[i])"
   ]
  },
  {
   "cell_type": "markdown",
   "id": "de069c14",
   "metadata": {},
   "source": [
    "Ta rešitev je slaba, ker 24-krat pokliče funkcijo `po_urah`. Temu se lahko izognemo tako, da jo shranimo v argument s privzeto vrednostjo."
   ]
  },
  {
   "cell_type": "code",
   "execution_count": 5,
   "id": "b3dce1de",
   "metadata": {},
   "outputs": [],
   "source": [
    "def naj_ura(a):\n",
    "    return max(range(24), key=lambda i, ure=po_urah(a): ure[i])"
   ]
  },
  {
   "cell_type": "markdown",
   "id": "fe324ec8",
   "metadata": {},
   "source": [
    "To je boljše, vendar je packarija. Prava rešitev uporablja `operator.getitem` in `functools.partial`. Poglejmo, kaj počneta.\n",
    "\n",
    "`getitem` je funkcija, ki ji podamo neko reč (recimo seznam) in indeks, pa vrne element s tem indeksom."
   ]
  },
  {
   "cell_type": "code",
   "execution_count": 6,
   "id": "d8f9b2d2",
   "metadata": {},
   "outputs": [],
   "source": [
    "from operator import getitem\n",
    "\n",
    "a = [\"Ana\", \"Berta\", \"Cilka\", \"Dani\"]"
   ]
  },
  {
   "cell_type": "code",
   "execution_count": 7,
   "id": "2a70db43",
   "metadata": {},
   "outputs": [
    {
     "data": {
      "text/plain": [
       "'Cilka'"
      ]
     },
     "execution_count": 7,
     "metadata": {},
     "output_type": "execute_result"
    }
   ],
   "source": [
    "getitem(a, 2)"
   ]
  },
  {
   "cell_type": "code",
   "execution_count": 8,
   "id": "c51b1f4d",
   "metadata": {},
   "outputs": [
    {
     "data": {
      "text/plain": [
       "'Ana'"
      ]
     },
     "execution_count": 8,
     "metadata": {},
     "output_type": "execute_result"
    }
   ],
   "source": [
    "getitem(a, 0)"
   ]
  },
  {
   "cell_type": "markdown",
   "id": "19928bb7",
   "metadata": {},
   "source": [
    "`partial` je funkcija, ki ji podamo neko funkcijo in nekaj argumentov. Vrne novo funkcijo, ki je enaka stari, vendar tako, da so podani argumenti že \"pribiti\". Tule jo bomo uporabili tako:"
   ]
  },
  {
   "cell_type": "code",
   "execution_count": 9,
   "id": "ff45f7cc",
   "metadata": {},
   "outputs": [],
   "source": [
    "from functools import partial\n",
    "\n",
    "get_a = partial(getitem, a)"
   ]
  },
  {
   "cell_type": "code",
   "execution_count": 10,
   "id": "36e3c229",
   "metadata": {},
   "outputs": [
    {
     "data": {
      "text/plain": [
       "'Cilka'"
      ]
     },
     "execution_count": 10,
     "metadata": {},
     "output_type": "execute_result"
    }
   ],
   "source": [
    "get_a(2)"
   ]
  },
  {
   "cell_type": "code",
   "execution_count": 11,
   "id": "ac8350d9",
   "metadata": {},
   "outputs": [
    {
     "data": {
      "text/plain": [
       "'Ana'"
      ]
     },
     "execution_count": 11,
     "metadata": {},
     "output_type": "execute_result"
    }
   ],
   "source": [
    "get_a(0)"
   ]
  },
  {
   "cell_type": "markdown",
   "id": "3d436d5f",
   "metadata": {},
   "source": [
    "`get_a` je torej funkcija, ki počne isto kot `getitem`, le da je prvi argument že \"fiksiran\", namreč `a`.\n",
    "\n",
    "Rešitev naloge je potem"
   ]
  },
  {
   "cell_type": "code",
   "execution_count": 12,
   "id": "3efcd8bd",
   "metadata": {},
   "outputs": [],
   "source": [
    "def naj_ura(a):\n",
    "    return max(range(24), key=partial(getitem, po_urah(a)))"
   ]
  },
  {
   "cell_type": "markdown",
   "id": "b67349e7",
   "metadata": {},
   "source": [
    "##### Malo prelahka rešitev\n",
    "\n",
    "Že med izpitom sem opazil študenta (med ocenjevanjem pa jih bom še več), ki je nalogo rešil tako:"
   ]
  },
  {
   "cell_type": "code",
   "execution_count": 13,
   "id": "e1557d89",
   "metadata": {},
   "outputs": [],
   "source": [
    "def naj_ura(a):\n",
    "    return po_urah(a).index(max(po_urah(a)))"
   ]
  },
  {
   "cell_type": "markdown",
   "id": "2f863466",
   "metadata": {},
   "source": [
    "Ta očitna, kratka rešitev mi, priznam, pri sestavljanju izpita sploh ni prišla na misel. Zato, ker tako nikoli ne programiram: ta funkcija mora dvakrat prek seznama `a`. Prava, zaresna, profesionalna rešitev uporablja `max`. Je pa ta rešitev seveda popolnoma pravilna in primerna za prvi letnik študija, tako da jo bom hočem-nočem priznal. :)"
   ]
  },
  {
   "cell_type": "markdown",
   "id": "945a17e3",
   "metadata": {},
   "source": [
    "#### brez_prehodov\n",
    "\n",
    "Tako:"
   ]
  },
  {
   "cell_type": "code",
   "execution_count": 14,
   "id": "6d2fbed7",
   "metadata": {},
   "outputs": [],
   "source": [
    "def brez_prehodov(a):\n",
    "    nicel = 0\n",
    "    for x in a:\n",
    "        if x == 0:\n",
    "            nicel += 1\n",
    "    return nicel"
   ]
  },
  {
   "cell_type": "markdown",
   "id": "054a95fb",
   "metadata": {},
   "source": [
    "Ali tako"
   ]
  },
  {
   "cell_type": "code",
   "execution_count": 15,
   "id": "2d28ed42",
   "metadata": {},
   "outputs": [],
   "source": [
    "def brez_prehodov(a):\n",
    "    nicel = 0\n",
    "    for x in a:\n",
    "        nicel += (x == 0)\n",
    "    return nicel"
   ]
  },
  {
   "cell_type": "markdown",
   "id": "568c3dde",
   "metadata": {},
   "source": [
    "Kar nas pripelje do tako:"
   ]
  },
  {
   "cell_type": "code",
   "execution_count": 16,
   "id": "03a9d62f",
   "metadata": {},
   "outputs": [],
   "source": [
    "def brez_prehodov(a):\n",
    "    return sum(x == 0 for x in a)"
   ]
  },
  {
   "cell_type": "markdown",
   "id": "65e9a475",
   "metadata": {},
   "source": [
    "Čistuni pa rečejo"
   ]
  },
  {
   "cell_type": "code",
   "execution_count": 17,
   "id": "dc8358e8",
   "metadata": {},
   "outputs": [],
   "source": [
    "def brez_prehodov(a):\n",
    "    return sum(1 if x == 0 else 0 for x in a)"
   ]
  },
  {
   "cell_type": "markdown",
   "id": "74462916",
   "metadata": {},
   "source": [
    "Javascriptovci napišejo"
   ]
  },
  {
   "cell_type": "code",
   "execution_count": 18,
   "id": "ea3fbcde",
   "metadata": {},
   "outputs": [],
   "source": [
    "def brez_prehodov(a):\n",
    "    return sum(not x for x in a)"
   ]
  },
  {
   "cell_type": "markdown",
   "id": "84cd5729",
   "metadata": {},
   "source": [
    "Še kdo drug pa še kako drugače.\n",
    "\n",
    "Nič pa ni narobe, če kdo napiše"
   ]
  },
  {
   "cell_type": "code",
   "execution_count": 19,
   "id": "cae3e3ff",
   "metadata": {},
   "outputs": [],
   "source": [
    "def brez_prehodov(a):\n",
    "    return a.count(0)"
   ]
  },
  {
   "cell_type": "markdown",
   "id": "6af485de",
   "metadata": {},
   "source": [
    ":)"
   ]
  },
  {
   "attachments": {},
   "cell_type": "markdown",
   "id": "a17690aa",
   "metadata": {},
   "source": [
    "## 2. Brez kolesarjev\n",
    "\n",
    "Napišite funkcijo `obdobje_brez(a)`, ki prejme takšen argument kot funkcije iz prejšnje naloge, in vrne začetek in konec najdaljšega obdobja brez prehodov. Če so vsi elementih na indeksih od, na primer, 150 do (vključno) 180 enaki 0 in je to tudi najdaljše zaporedje ničel, mora funkcija vrniti (150, 180). Da bo reševanje lažje, so v testih tudi trije primeri s tabelami, ki nimajo 24×60 temveč le 13 števil.\n",
    "\n",
    "### Rešitev\n",
    "\n",
    "Prva naloga je bila zelo lahka, praktično podarjena. No, ta je precej težja.\n",
    "\n",
    "Ena možna rešitev je"
   ]
  },
  {
   "cell_type": "code",
   "execution_count": 20,
   "id": "de1f6557",
   "metadata": {},
   "outputs": [],
   "source": [
    "def obdobje_brez(a):\n",
    "    naj_zac = 1\n",
    "    naj_kon = 0\n",
    "    zac = None\n",
    "    for i, x in enumerate(a):\n",
    "        if x == 0:\n",
    "            if zac is None:\n",
    "                zac = i\n",
    "            if i - zac > naj_kon - naj_zac:\n",
    "                naj_zac, naj_kon = zac, i\n",
    "        else:\n",
    "            zac = None\n",
    "    return naj_zac, naj_kon"
   ]
  },
  {
   "cell_type": "markdown",
   "id": "23e43a31",
   "metadata": {},
   "source": [
    "Gremo prek seznama. `zac` hrani indeks začetka trenutnega zaporedja ničel. Če trenutno nismo v zaporedju ničel, je `zac` enak `None`.\n",
    "\n",
    "Če je trenutni element enak 0, pogledamo, ali je trenutno zaporedje daljše od najdaljšega doslej. Če, potem si zapomnimo njegove meje:\n",
    "\n",
    "```\n",
    "    if i - zac > naj_kon - naj_zac:\n",
    "        naj_zac, naj_kon = zac, i\n",
    "```\n",
    "\n",
    "Če trenutni element ni enak 0, pa le postavimo `zac` na `None`.\n",
    "\n",
    "Ostane le še malo administracije. V začetku se delamo, da se je najdaljše zaporedje začelo z 1 in končalo z 0. Tako je dolgo `-1` in bo že prva ničla, na katero bomo naleteli, predstavljala daljše zaporedje.\n",
    "\n",
    "Drugi košček administracije je\n",
    "\n",
    "```\n",
    "    if zac is None:\n",
    "        zac = i\n",
    "```\n",
    "\n",
    "Če naletimo na `0` in doslej še nismo bili v zaporedju ničel, si zapomnimo trenutni indeks kot začetek trenutnega zaporedja.\n",
    "\n",
    "Nalogo je možno rešiti še na veliko načinov. Gornji morda ni najbolj učinkovit, ker prepogosto nastavlja `naj_zac` in `naj_kon`. Načelno bi bilo boljše, če bi vsakič, ko se zaporedje konča, preverili, ali je bilo to zaporedje daljše od najdaljšega doslej. To bi povzročilo nekaj sitnosti, če je najdaljše zaporedje ravno na koncu ...\n",
    "\n",
    "Tule je zabavnejša rešitev."
   ]
  },
  {
   "cell_type": "code",
   "execution_count": 21,
   "id": "29febf80",
   "metadata": {},
   "outputs": [],
   "source": [
    "def obdobje_brez(a):\n",
    "    s = \"\"\n",
    "    for x in a:\n",
    "        if x == 0:\n",
    "            s += \"x\"\n",
    "        else:\n",
    "            s += \" \"\n",
    "    naj = max(s.split())\n",
    "    zac = s.index(naj)\n",
    "    return zac, zac + len(naj) - 1"
   ]
  },
  {
   "cell_type": "markdown",
   "id": "67dc4a03",
   "metadata": {},
   "source": [
    "zaporedje števil pretvorimo v niz, sestavljen iz x-ov in presledkov: ničle spremenimo v `x` in ne-ničle v presledke. Nato na tem nizu pokličemo `split`. Dobimo \"besede\"; vsaka je sestavljena iz toliko x-ov, kolikor je bilo zaporednih ničel. \"Maksimalna\" beseda je beseda, ki je zadnja po abecedi; vse besede so sestavljene iz enakih črk (x-ov); v tem primeru je kasneje po abecedi tista, ki je daljša. `naj` bo torej najdaljša beseda. Pogledamo, kje v nizu se nahaja, pa imamo začetni indeks zaporedja; končni indeks dobimo tako, da k začetnemu prištejemo dolžino besede.\n",
    "\n",
    "Rešitev lahko skrajšamo v"
   ]
  },
  {
   "cell_type": "code",
   "execution_count": 22,
   "id": "2766b0fb",
   "metadata": {},
   "outputs": [],
   "source": [
    "def obdobje_brez(a):\n",
    "    s = \"\".join(\" x\"[x == 0] for x in a)\n",
    "    naj = max(s.split())\n",
    "    zac = s.index(naj)\n",
    "    return zac, zac + len(naj) - 1"
   ]
  },
  {
   "cell_type": "markdown",
   "id": "37974274",
   "metadata": {},
   "source": [
    "Prva rešitev, tista z zankami in `naj_zac` in tako naprej je bila tipičen primer programa v C-ju. Tam bi nalogo rešili natančno tako, kot smo ga v Pythonu. Druga rešitev je bila malo kavbojska - zna pa biti, da je v resnici najhitrejše. Bolj Pythonovska bi bila tale:"
   ]
  },
  {
   "cell_type": "code",
   "execution_count": 23,
   "id": "18f73c4b",
   "metadata": {},
   "outputs": [],
   "source": [
    "def obdobje_brez(a):\n",
    "    naj_zac = naj_kon = 0\n",
    "    zac = 0\n",
    "    for k, group in groupby(a):\n",
    "        group = list(group)\n",
    "        if k == 0 and len(group) > naj_kon - naj_zac + 1:\n",
    "            naj_zac, naj_kon = zac, zac + len(group) - 1\n",
    "        zac += len(group)\n",
    "    return naj_zac, naj_kon"
   ]
  },
  {
   "cell_type": "markdown",
   "id": "19fd958d",
   "metadata": {},
   "source": [
    "Kdor jo hoče razumeti, naj pogleda [dokumentacijo funkcije `itertools.groupby`](https://docs.python.org/3/library/itertools.html#itertools.groupby). Sam pa priznam, da to funkcijo uporabljam redko. Če bi šlo zares, bi nalogo najbrž rešil po kavbojsko.\n",
    "\n",
    "Najbrž najlepše pa je poiskati vse začetke in konce intervalov ničel. Potem zipnemo oba seznama (ali generatorja, če hočemo biti še bolj *fancy*) skupaj, in vrnemo par z največjo razliko."
   ]
  },
  {
   "cell_type": "code",
   "execution_count": 24,
   "id": "6739d367",
   "metadata": {},
   "outputs": [],
   "source": [
    "def obdobje_brez(a):\n",
    "    zacetki = (i for i in range(len(a))\n",
    "               if a[i] == 0 and (i == 0 or a[i - 1] != 0))\n",
    "    konci = (i for i in range(len(a))\n",
    "             if a[i] == 0 and (i == len(a) - 1 or a[i + 1] != 0))\n",
    "    return max(zip(zacetki, konci), key=lambda x: x[1] - x[0])"
   ]
  },
  {
   "cell_type": "markdown",
   "id": "b6f2ad96",
   "metadata": {},
   "source": [
    "To gre potem čisto lepo celo v enovrstični izraz (čeprav je večvrstični natančno enako učinkovit, hkrati pa preglednejši)."
   ]
  },
  {
   "cell_type": "code",
   "execution_count": 25,
   "id": "a7c399e8",
   "metadata": {},
   "outputs": [],
   "source": [
    "def obdobje_brez(a):\n",
    "    zacetki = (i for i in range(len(a))\n",
    "               if a[i] == 0 and (i == 0 or a[i - 1] != 0))\n",
    "    konci = (i for i in range(len(a))\n",
    "             if a[i] == 0 and (i == len(a) - 1 or a[i + 1] != 0))\n",
    "    return max(zip(zacetki, konci), key=lambda x: x[1] - x[0])"
   ]
  },
  {
   "cell_type": "markdown",
   "id": "d04481b8",
   "metadata": {},
   "source": [
    "Če povem po pravici: ta rešitev mi ob sestavljanju izpita ni prišla na misel. Idejo sem dobil od študenta, "
   ]
  },
  {
   "attachments": {},
   "cell_type": "markdown",
   "id": "ba64fb2c",
   "metadata": {},
   "source": [
    "## 3. Obremenitve\n",
    "\n",
    "Kolesarskih stez s senzorji je v resnici več. Recimo, da imamo tri ulice, imenujmo jih Anina, Bertina, Cilkina. Podatki o številu kolesarjev so zbrani v enem samem seznamu: prvi trije elementi se nanašajo na število prehodov čez Anin, Bertin in Cilkin senzor (v tem vrstnem redu) v ničti minuti dneva. Naslednji trije se nanašajo na prehode čez te tri senzorje v prvi minuti dneva, naslednji trije na drugo minuto in tako naprej. Celotna dolžina tabele je torej enaka 24 × 60 × število senzorjev (ki seveda ni nujno vedno tri!)\n",
    "\n",
    "Napišite funkcijo `obremenitve(imena, porocila)`, ki prejme imena senzorjev in število kolesarjev (kot ga opisujemo zgoraj). Vrniti mora ime najbolj obremenjenega senzorja. Če je teh več, lahko vrne ime poljubnega med njimi.\n",
    "\n",
    "### Rešitev\n",
    "\n",
    "Tole je spet ena preprostejša naloga. Rešitev bi bila lahko"
   ]
  },
  {
   "cell_type": "code",
   "execution_count": 26,
   "id": "499f81c3",
   "metadata": {},
   "outputs": [],
   "source": [
    "def obremenitve(imena, porocila):\n",
    "    n = len(imena)\n",
    "    kolesarjev = [0] * n\n",
    "    for i, x in enumerate(porocila):\n",
    "        kolesarjev[i % n] += x\n",
    "    return imena[kolesarjev.index(max(kolesarjev))]"
   ]
  },
  {
   "cell_type": "markdown",
   "id": "86953086",
   "metadata": {},
   "source": [
    "Lahko pa, podobno kot v prvi nalogi, uporabimo rezine"
   ]
  },
  {
   "cell_type": "code",
   "execution_count": 27,
   "id": "53123355",
   "metadata": {},
   "outputs": [],
   "source": [
    "def obremenitve(imena, porocila):\n",
    "    naj_ime = None\n",
    "    naj_ob = -1\n",
    "    for i, ime in enumerate(imena):\n",
    "        ob = sum(porocila[i::len(imena)])\n",
    "        if ob > naj_ob:\n",
    "            naj_ob = ob\n",
    "            naj_ime = ime\n",
    "    return naj_ime"
   ]
  },
  {
   "cell_type": "markdown",
   "id": "19586bd1",
   "metadata": {},
   "source": [
    "Kdor hoče, pa se lahko poglobi v rešitev, ki jo dobimo, če malo predelamo tole, drugo različico."
   ]
  },
  {
   "cell_type": "code",
   "execution_count": 28,
   "id": "6743d234",
   "metadata": {},
   "outputs": [],
   "source": [
    "def obremenitve(imena, porocila):\n",
    "    return imena[max(\n",
    "        range(len(imena)),\n",
    "        key=lambda i: sum(porocila[i::len(imena)]))]"
   ]
  },
  {
   "cell_type": "markdown",
   "id": "f4bd1bc7",
   "metadata": {},
   "source": [
    "Tak način programiranja bi bil tipičen za Javascript in, recimo, Kotlin."
   ]
  },
  {
   "attachments": {},
   "cell_type": "markdown",
   "id": "9794ac35",
   "metadata": {},
   "source": [
    "## 4. Minuta za Angelco\n",
    "\n",
    "Angelca dela doktorat iz kolesarske politike. V okviru doktorata je definirala koncept \"zlate minute\". Ta se nanaša na obremenjenost kolesarskih stez.\n",
    "\n",
    "- Vse minute od ničte do (vključno) 59-te so zlate.\n",
    "- Poleg tega so zlate vse minute, ko je stezo prevozil vsaj en kolesar, vendar pod pogojem, da je zlata tudi minuta ob pol manjšem času. Če gre za liho minuto, poskusimo polovico zaokrožiti navzdol in navzgor; da bo 1017 zlata, zadošča, da je zlata bodisi 508 bodisi 509 (lahko pa sta tudi obe).\n",
    "\n",
    "Angelco so vprašali, kakšen smisel ima vse to. Odgovorila je, da je to doktorat in tega pač ne more kar vsak razumeti.\n",
    "\n",
    "- V primerih iz testov minuta 420 ni zlata: v 420 minuti so kolesarsko stezo prevozili 4 kolesarji, vendar v polovični, 210 minuti ni bilo nikogar.\n",
    "- Minuta 1017 je zlata. Razpolovimo jo lahko v 508 ali 509; obe imata kolesarje. Če izberemo 508, bi to vodilo v 254 in 127, ko ni kolesarjev. 509 pa lahko razpolovimo v 254 ali 255. Če izberemo 254, bi spet padli v 127. Če pa razpolovimo 509 v 255, lahko nadaljujemo v 127 (ni kolesarjev) ali v 128 (so), tega v 64 (so) in tega v 32 (< 60).\n",
    "\n",
    "Napišite funkcijo `zlata_minuta(i, a)`, ki prejme številko minute (`i`) in seznam s prehodi kolesarjev, ter vrne `True`, če je `i`-ta minuta zlata in `False`, če ni.\n",
    "\n",
    "### Rešitev\n",
    "\n",
    "Samo po definiciji: minuta je zlata, če je manjša od 60 ali pa je zlata polovična minuta ali pa je zlata polovična minuta, zaokrožena navzgor - pri čemer je drugo smiselno preverjati le, če je minuta liha."
   ]
  },
  {
   "cell_type": "code",
   "execution_count": 29,
   "id": "51ffb1e4",
   "metadata": {},
   "outputs": [],
   "source": [
    "def zlata_minuta(i, a):\n",
    "    return i < 60 or (\n",
    "        a[i] != 0 and (\n",
    "            zlata_minuta(i // 2, a)\n",
    "            or (i % 2 == 1 and zlata_minuta(i // 2 + 1, a))\n",
    "        )\n",
    "    )"
   ]
  },
  {
   "cell_type": "markdown",
   "id": "e32103f7",
   "metadata": {},
   "source": [
    "Oklepaji - razen tistega za `and` - in prelomi vrstic so seveda nepotrebni.\n",
    "\n",
    "Če malo spremenimo zaokrožanje, lahko izraz še poenostavimo."
   ]
  },
  {
   "cell_type": "code",
   "execution_count": 30,
   "id": "1c82415a",
   "metadata": {},
   "outputs": [],
   "source": [
    "def zlata_minuta(i, a):\n",
    "    return i < 60 or a[i] != 0 and (zlata_minuta(i // 2, a) or zlata_minuta((i + 1) // 2, a))"
   ]
  },
  {
   "cell_type": "markdown",
   "id": "b15266bf",
   "metadata": {},
   "source": [
    "Zdaj vedno preverimo minuti `i // 2` in `(i + 1) // 2`. Če je `i` sod, je to eno in isto. Če je lih, pa je to ravno zaokrožanje navzdol in navzgor. Ja, za sode brez potrebe kličemo dvakrat. Bog pomagaj. :) "
   ]
  },
  {
   "attachments": {},
   "cell_type": "markdown",
   "id": "ee2cad59",
   "metadata": {},
   "source": [
    "## 5. Nadzorni sistem\n",
    "\n",
    "Napišite razred `Senzor`:\n",
    "\n",
    "- konstruktor prejme id senzorja (id neko celo število),\n",
    "- `prehod(self, smer)`, pri čemer je smer lahko `\"+\"` ali `\"-\"`, zabeleži, da je kolesar prevozil senzor v podani smeri,\n",
    "- `prehodov(self)`, ki vrne par s številom prehodov v smer `\"+\"` in v smer `\"-\"`.\n",
    "\n",
    "Poleg tega napišite razred `NadzorniSistem`, katerega konstruktor prejme seznam senzorjev, to je, seznam objektov tipa `Senzor`. `NadzorniSistem` ima primeren konstruktor in metode:\n",
    "\n",
    "- `prehod(self, id, smer)` objektu, ki predstavlja senzor s podanim id-jem (vedno bo šlo za enega od senzorjev, ki so bili podani konstruktorju) sporoči, da so ga prevozili v podani smeri;\n",
    "- `prehodov(self, id)` vrne par s številom prehodov prek senzorja s podanim id-jem.\n",
    "\n",
    "Pazi: `NadzorniSistem` naj ne shranjuje podatkov o prehodih. Podatki o prehodih so shranjeni v objektih razreda `Senzor`, `NadzorniSistem` pa shranjuje senzorje.\n",
    "\n",
    "### Rešitev"
   ]
  },
  {
   "cell_type": "code",
   "execution_count": 31,
   "id": "52d37250",
   "metadata": {},
   "outputs": [],
   "source": [
    "class Senzor:\n",
    "    def __init__(self, id):\n",
    "        self.id = id\n",
    "        self.naprej = self.nazaj = 0\n",
    "\n",
    "    def prehod(self, smer):\n",
    "        if smer == \"+\":\n",
    "            self.naprej += 1\n",
    "        else:\n",
    "            self.nazaj += 1\n",
    "\n",
    "    def prehodov(self):\n",
    "        return (self.naprej, self.nazaj)\n",
    "\n",
    "\n",
    "class NadzorniSistem:\n",
    "    def __init__(self, senzorji):\n",
    "        self.senzorji = {senzor.id: senzor for senzor in senzorji}\n",
    "\n",
    "    def prehod(self, id, smer):\n",
    "        self.senzorji[id].prehod(smer)\n",
    "\n",
    "    def prehodov(self, id):\n",
    "        return self.senzorji[id].prehodov()\n"
   ]
  },
  {
   "cell_type": "markdown",
   "id": "989419a2",
   "metadata": {},
   "source": [
    "Razred `Senzor` preprosto hrani število prehodov, ga povečuje in vrača.\n",
    "\n",
    "Bolj zanimiv je `NadzorniSistem`: ta mora shraniti senzorje. Lahko bi shranil kar podani seznam, bolj praktično pa je, da senzorje shrani v slovar, katerega ključi so id-ji senzorjev. To namreč bistveno poenostavi njegovi funkciji `prehod` in `prehodov`."
   ]
  }
 ],
 "metadata": {
  "kernelspec": {
   "display_name": "Python 3 (ipykernel)",
   "language": "python",
   "name": "python3"
  },
  "language_info": {
   "codemirror_mode": {
    "name": "ipython",
    "version": 3
   },
   "file_extension": ".py",
   "mimetype": "text/x-python",
   "name": "python",
   "nbconvert_exporter": "python",
   "pygments_lexer": "ipython3",
   "version": "3.11.5"
  }
 },
 "nbformat": 4,
 "nbformat_minor": 5
}
