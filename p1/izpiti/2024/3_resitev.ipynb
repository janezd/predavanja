{
 "cells": [
  {
   "attachments": {},
   "cell_type": "markdown",
   "id": "53534c5f-2396-4dca-abf3-dd27ee7ce974",
   "metadata": {},
   "source": [
    "Podan je slovar `postaje`, katerega ključi so imena postaj Biciklja, vrednosti pa slovarji z zemljepisnimi koordinatami postajališč, kapaciteto (število stojal) in trenutnim številom koles na postaji. (Glej slovar v testih.)\n",
    "\n",
    "Podana je tudi funkcija `razdalja_geo(lat1, lon1, lat2, lon2)`, ki za podani par zemljepisnih koordinat vrne razdaljo med točkama v kilometrih. (Funkcija deluje pravilno samo za kratke razdalje.)\n",
    "\n",
    "### 0. Razdalje\n",
    "\n",
    "Napišite funkcijo `razdalja(postaja1, postaja2)`, ki prejme imeni postaj in vrne razdaljo med njima. (Funkcija je vredna 0 točk. Pišete jo za ogrevanje in rabo v naslednjih nalogah.)\n",
    "\n",
    "#### Rešitev\n",
    "\n",
    "Nič takega, seveda, samo postaji je potrebno vzeti iz slovarja in poklicati funkcijo `razdalja_geo`. Recimo tako."
   ]
  },
  {
   "cell_type": "code",
   "execution_count": 1,
   "id": "dda18166-84e8-4fa3-aaa7-a0c27a574c71",
   "metadata": {},
   "outputs": [],
   "source": [
    "def razdalja(p1, p2):\n",
    "    postaja1 = postaje[p1]\n",
    "    postaja2 = postaje[p2]\n",
    "    return razdalja_geo(postaja1['latitude'], postaja1['longitude'],\n",
    "                        postaja2['latitude'], postaja2['longitude'])"
   ]
  },
  {
   "attachments": {},
   "cell_type": "markdown",
   "id": "da91074e-3549-4024-9c00-a8c8a3a3222e",
   "metadata": {},
   "source": [
    "### 1. Najbližje 3 [tema: seznami]\n",
    "\n",
    "Avtor izpita ni uporabnik Biciklja (enkrat je bilo dovolj), ve pa, da na določeni postaji včasih ne moreš dobiti ali oddati kolesa, zato se je potrebno ozreti po bližnjih postajah.\n",
    "\n",
    "Napišite funkcijo `najblizje3(postaja)`, ki za podano postajo poišče najbližje tri postaje in vrne seznam (treh) parov (razdalja, ime). Seznam naj bo urejen po razdaljah.\n",
    "\n",
    "Klic `najblizje3(\"ŽIVALSKI VRT\")` vrne `[(0.73687236710574, 'VIŠKO POLJE'), (0.9639016462683163, 'TEHNOLOŠKI PARK'), (1.0760703913614853, 'SOSESKA NOVO BRDO')]`.\n",
    "\n",
    "#### Rešitev\n",
    "\n",
    "Najpreprosteje je sestaviti seznam natančno takšnih parov, kot jih zahteva naloga (naloga je sestavljena, kakor je, prav zato, da vam da ta namig!), jih urediti in vrniti prve tri. (Tudi, da mora biti rezultat urejen, je nekaj, kar bi vas lahko napeljalo na pravo pot.)"
   ]
  },
  {
   "cell_type": "code",
   "execution_count": 2,
   "id": "8c0d125b-5caa-4d45-917d-997ebbd05e94",
   "metadata": {},
   "outputs": [],
   "source": [
    "def najblizje(postaja):\n",
    "    pari = []\n",
    "    for ime in postaje:\n",
    "        if ime != postaja:\n",
    "            pari.append((razdalja(postaja, ime), ime))\n",
    "    pari.sort()\n",
    "    return pari[1:4]"
   ]
  },
  {
   "cell_type": "markdown",
   "id": "8c9331ce-3833-4bc7-8909-ac9dedc76824",
   "metadata": {},
   "source": [
    "No, ne prvih treh: prvi element je vedno izhodiščna postaja in jo preskočimo, zato vzamemo `[1:4]`.\n",
    "\n",
    "Še hitreje gre, če poznamo izpeljane sezname."
   ]
  },
  {
   "cell_type": "code",
   "execution_count": 3,
   "id": "b1021c90-cf2e-4400-9d3c-593a9e95529c",
   "metadata": {},
   "outputs": [],
   "source": [
    "def najblizje3(postaja):\n",
    "    return sorted((razdalja(postaja, name), name) for name in postaje)[1:4]"
   ]
  },
  {
   "cell_type": "markdown",
   "id": "8a9659b4-7b43-4278-91ce-df902736441c",
   "metadata": {},
   "source": [
    "Če se ne domislimo urejanja, so stvari seveda bolj \"zabavne\". No, ni tako hudo: trikrat zapored poiščemo najbližjo postajo in jo dodamo v seznam."
   ]
  },
  {
   "cell_type": "code",
   "execution_count": 4,
   "id": "fd7d3105-b4cb-47b6-924e-29f02cc211e4",
   "metadata": {},
   "outputs": [],
   "source": [
    "def najblizje(postaja):\n",
    "    moznosti = list(postaje)\n",
    "    moznosti.remove(postaja)\n",
    "    naj3 = []\n",
    "    for i in range(3):\n",
    "        naj = None\n",
    "        for ime in moznosti:\n",
    "            if naj is None or razdalja(postaja, ime) < razdalja(postaja, naj):\n",
    "                naj = ime\n",
    "        naj3.append((razdalja(postaja, naj), naj))\n",
    "        moznosti.remove(naj)\n",
    "    return naj3"
   ]
  },
  {
   "cell_type": "markdown",
   "id": "310d34df-dc0e-4356-8510-9c17d7669f29",
   "metadata": {},
   "source": [
    "Ni tako lepo, spet pa ni neka znanstvena fantastika."
   ]
  },
  {
   "attachments": {},
   "cell_type": "markdown",
   "id": "009a2ae8-d404-4d5e-b989-0c319fc49573",
   "metadata": {},
   "source": [
    "### 2. Angelčini jezdeci [tema: rekurzija]\n",
    "\n",
    "Angelca z Oddelka za gozdarske dejavnosti in motorni promet ima rada zgodovinske filme in ve, da so imeli včasih postaje, na katerih so po določeni razdalji menjali konje. Ker je Bicikelj, tako meni Angelca, isto, bodo po novem omejili dolžino poti, ki jo je dovoljeno opraviti z izposojenim kolesom: razdalja med postajama, na katerih bo kolo izposojeno in vrnjeno, ne bo smela preseči neke predpisane razdalje.\n",
    "Za daljše razdalje se bo potrebno voziti od postajališča do postajališča in menjati kolesa: nekdo bo najel kolo na Cankarjevi ulici, se z njim peljal do Bavarskega dvora, ga tam vrnil in vzel naslednjega, s katerim bo šel do Vilharjeve ceste ... in tako naprej. Angelca pravi, da bo to ful fino.\n",
    "\n",
    "Če bo razdalja prekratka, bo zemljevid razpadel na \"otoke\" medsebojno dosegljivih postaj – skupine postaj, za katere velja, da ne obstaja nobena postaja, ki bi jim bila bližja od predpisane razdalje.\n",
    "\n",
    "Napišite funkcijo `dosegljive(postaja, razdalja, otok)`, ki prejme ime neke postaje, največjo dovoljeno razdaljo in prazno množico otok. Funkcija ne vrne ničesar, pač pa mora v podano množico otok shraniti vse postaje, ki so pri podani omejitvi razdalje neposredno ali posredno, prek drugih postaj, dosegljive z začetne postaje (vključno z začetno postajo).\n",
    "\n",
    "```\n",
    "otok = set()\n",
    "dosegljive(\"TEHNOLOŠKI PARK\", 0.7, otok)\n",
    "print(otok)\n",
    "```\n",
    "\n",
    "izpiše `{'VIŠKO POLJE', 'SOSESKA NOVO BRDO', 'TEHNOLOŠKI PARK'}`.\n",
    "\n",
    "#### Rešitev\n",
    "\n",
    "Tole je naloga iz rekurzije, podobna onim z rodbino: z določene postaje so dosegljive vse postaje, ki so dovolj blizu, poleg njih pa postaje, ki so dosegljive s teh postaj.\n",
    "\n",
    "Razlika je v tem, da moramo rezultat nabirati v zadnjem argumentu. Tudi takšno različico boste našli v rodbinskih zapiskih. Naloga je podana v tej obliki zato, da lažje preverjate, ali ste določeno postajo že obravnavali in dodali. V nasprotnem primeru bi se rekurzija namreč zaciklala."
   ]
  },
  {
   "cell_type": "code",
   "execution_count": 11,
   "id": "431e6c01-4fe0-46e9-9044-689b9b7f8cd1",
   "metadata": {},
   "outputs": [],
   "source": [
    "def dosegljive(postaja, max_razdalja, otok):\n",
    "    otok.add(postaja)\n",
    "    for ime in postaje:\n",
    "        if ime not in mozno and razdalja(ime, postaja) <= max_razdalja:\n",
    "            dosegljive(ime, max_razdalja, otok)"
   ]
  },
  {
   "attachments": {},
   "cell_type": "markdown",
   "id": "86a7604a-439e-48de-b26a-85bacb7b0579",
   "metadata": {},
   "source": [
    "### 3. Izolirana postaja [tema: malo bolj zavozlane zanke]\n",
    "\n",
    "Napišite funkcijo `izolirana()`, ki poišče in vrne ime postaje, ki je najbolj oddaljena od postaje, ki ji je najbližja. Za te konkretne postaje je to Zalog, vendar mora biti funkcija napisana splošno.\n",
    "\n",
    "#### Rešitev\n",
    "\n",
    "Na vsakem izpitu se trudim dati nalogo, kjer je potrebno malo navozlati neke if-e in for-e. Na tem roku je bila to ta naloga.\n",
    "\n",
    "Tokrat moram začeti z rešitvijo, ki so se je domislili mnogi študenti:"
   ]
  },
  {
   "cell_type": "code",
   "execution_count": 8,
   "id": "7a418f75-2a61-40e0-82e3-e1a6d0242101",
   "metadata": {},
   "outputs": [],
   "source": [
    "def izolirana():\n",
    "    naj_izolirana = None\n",
    "    naj_razdalja = 0\n",
    "    for postaja1 in postaje:\n",
    "        \n",
    "        min_razdalja = najblizje3(postaja1)[0][0]\n",
    "        \n",
    "        if naj_izolirana is None or min_razdalja > naj_razdalja:\n",
    "            naj_izolirana = postaja1\n",
    "            naj_razdalja = min_razdalja\n",
    "    return naj_izolirana"
   ]
  },
  {
   "cell_type": "markdown",
   "id": "c3d796d4-7ca8-4b8b-b9d0-736d95089483",
   "metadata": {},
   "source": [
    "(Vrstico, ki računa `min_razdalja` sem izoliral iz razlogov, ki bodo jasni kasneje.)\n",
    "\n",
    "Gremo čez vse postaje. Za vsako poiščemo najbližje tri, saj smo si za to pripravili funkcijo. Zanima nas le prva in še v zvezi z njo je razdalja, ne ime, zato `[0][0]`. Nato preverimo, ali je ta razdalja večja od največje doslej. Če je tako, si zapomnimo to razdaljo in tudi postajo.\n",
    "\n",
    "Na to iznajdljivo rešitev pri sestavljanju naloge nisem pomislil. Predstavljal sem si, da bo videval nekaj takšnega."
   ]
  },
  {
   "cell_type": "code",
   "execution_count": 6,
   "id": "e0675e93-02fa-4f76-9953-b56bf2ef5266",
   "metadata": {},
   "outputs": [],
   "source": [
    "def izolirana():\n",
    "    naj_izolirana = None\n",
    "    naj_razdalja = 0\n",
    "    for postaja1 in postaje:\n",
    "        \n",
    "        min_razdalja = None\n",
    "        for postaja2 in postaje:\n",
    "            if postaja1 != postaja2:\n",
    "                r = razdalja(postaja1, postaja2)\n",
    "                if min_razdalja is None or r < min_razdalja:\n",
    "                    min_razdalja = r\n",
    "                    \n",
    "        if naj_izolirana is None or min_razdalja > naj_razdalja:\n",
    "            naj_izolirana = postaja1\n",
    "            naj_razdalja = min_razdalja\n",
    "    return naj_izolirana"
   ]
  },
  {
   "cell_type": "markdown",
   "id": "ddc7eadb-8595-4148-b71c-39a7be7848a5",
   "metadata": {},
   "source": [
    "Namesto klica `najblizje3` imamo tu šest vrstic - ki v bistvu počno isto."
   ]
  },
  {
   "cell_type": "markdown",
   "id": "45ccfe1b-3e8d-4c58-89f5-64a345fe1ae1",
   "metadata": {},
   "source": [
    "Seveda obstaja krajša rešitev. (Vedno obstaja krajša rešitev.)"
   ]
  },
  {
   "cell_type": "code",
   "execution_count": 7,
   "id": "7099f115-ee74-4d6a-86ac-d4bc86bdd43c",
   "metadata": {},
   "outputs": [],
   "source": [
    "def izolirana():\n",
    "    return max(\n",
    "        (min(razdalja(postaja1, postaja2) for postaja2 in postaje if postaja2 != postaja1), postaja1)\n",
    "        for postaja1 in postaje)[1]"
   ]
  },
  {
   "cell_type": "markdown",
   "id": "023ef851-c655-4c73-95d1-d90705137fed",
   "metadata": {},
   "source": [
    "Za vsako `postaja1` sestavimo par `(min(razdalja(postaja1, postaja2) for postaja2 in postaje if postaja2 != postaja1), postaja1)`, torej minimalno razdaljo do katere izmed postaj in ime te postaje. Nato z `max` izberemo \"največji par\". Ker ta vsebuje razdaljo in ime, vrnemo element z indeksom 1. Ta, ki se mu da poglobiti v to rešitev, bo opazil, da naredi natančno isto, kar smo delali zgoraj, le vsi `if`-i se skrijejo v `min` in `max`.\n",
    "\n",
    "Mimogrede: rešitev z `najblizje3` je v teoriji najpočasnejša, ker stalno nekaj ureja, in to je počasna operacija. (V drugem letniku boste rekli, da ima ta rešitev časovno zahtevnost $O(n^2\\log n)$. Drugi dve sta v teoriji enako hitri ($O(n^2)$). Drugo bi brez večjih težav pospešili, da bi bila še enkrat hitrejša, vendar je to v teoriji isto. V drugem letniku boste (upam) spoznali način, s katero bi nalogo rešili v času, ki bi bil v praksi toliko hiter, kolikor časa potrebujemo za eno samo urejanje."
   ]
  },
  {
   "attachments": {},
   "cell_type": "markdown",
   "id": "eae6e506-2611-4b60-90b3-4a56ed3576cc",
   "metadata": {},
   "source": [
    "### 4. Piši - beri [tema: delo za datotekami in nizi]\n",
    "\n",
    "- Napišite funkcijo `zapisi(ime_datoteke)`, ki v podano datoteko zapiše imena postaj (na 40 mest), ki ji sledi število razpoložljivih koles in število mest. Zapis mora biti urejen po abecedi imen postaj (šumniki pa bodo na koncu; uporabite običajno urejanje v Pythonu) in v spodnji obliki.\n",
    "\n",
    "```\n",
    "KONGRESNI TRG-ŠUBIČEVA ULICA             9/20\n",
    "KOPALIŠČE ILIRIJA                        0/20\n",
    "KOPALIŠČE KOLEZIJA                      19/20\n",
    "KOPRSKA ULICA                            3/8 \n",
    "KOSEŠKI BAJER                           14/20\n",
    "```\n",
    "\n",
    "- Napišite funkcijo `preberi(ime_datoteke)`, ki prebere takšno datoteko v slovar. Ključi slovarja so imena postaj, pripadajoče vrednosti pa pari s številom koles in številom mest.\n",
    "\n",
    "#### Rešitev\n",
    "\n",
    "Tole je bilo mišljeno kot podarjena naloga. Žal ste imeli nekaj nepredvidenih težav s poravnavanjem številk na desno in levo ter, no, predvideno težavo z razbijanjem vrstice pri branju.\n",
    "\n",
    "O pisanju nimamo kaj dosti razpravljati. Poglejte znakce za urejanje - `:2` in `:<2`."
   ]
  },
  {
   "cell_type": "code",
   "execution_count": 9,
   "id": "3c70e665-7d43-4dce-9367-bdb8818f01d0",
   "metadata": {},
   "outputs": [],
   "source": [
    "def zapisi(ime_datoteke):\n",
    "    f = open(ime_datoteke, \"w\", encoding=\"utf-8\")\n",
    "    for ime in sorted(postaje):\n",
    "        f.write(f\"{ime:40}{postaje[ime]['bikes']:2}/{postaje[ime]['capacity']:<2}\\n\")"
   ]
  },
  {
   "cell_type": "markdown",
   "id": "f371b46f-bb9c-4950-a736-98de3cc2a595",
   "metadata": {},
   "source": [
    "Z branjem najlažje opravimo tako, da celotno vrstico razbijemo glede na presledke, potem pa vse razen zadnjega kosa sestavimo nazaj. (To ne bo delovalo, če bodo v imenih postaj dvojni presledki, vendar ni greh računati, da jih ne bo.) Zadnji element pa razdelimo še glede na `/`."
   ]
  },
  {
   "cell_type": "code",
   "execution_count": 12,
   "id": "e44a4e48-f127-4000-bebc-c4bfc4524c9e",
   "metadata": {},
   "outputs": [],
   "source": [
    "def preberi(ime_datoteke):\n",
    "    post = {}\n",
    "    for vrstica in open(ime_datoteke, encoding=\"utf-8\"):\n",
    "        b = vrstica.split()\n",
    "        ime = \" \".join(b[:-1])\n",
    "        kol, kap = b[-1].split(\"/\")\n",
    "        post[ime] = (kol, kap)\n",
    "    return post"
   ]
  },
  {
   "cell_type": "markdown",
   "id": "ac077eaf-0f8b-4661-963a-9581aab466dd",
   "metadata": {},
   "source": [
    "Če se ne domislimo trika s `split` in `join`, pač poiščemo zadnji presledek. Ime je vse, kar je pred njim (pa še en `strip`, da odluščimo vse dodatne presledke), številki pa sta za njim."
   ]
  },
  {
   "cell_type": "code",
   "execution_count": 13,
   "id": "8fc56370-9e2f-4a50-8829-01ec67317305",
   "metadata": {},
   "outputs": [],
   "source": [
    "def preberi(ime_datoteke):\n",
    "    post = {}\n",
    "    for line in open(ime_datoteke, encoding=\"utf-8\"):\n",
    "        line = line.strip()\n",
    "        zadnji_presledek = line.rfind(\" \")\n",
    "        ime = line[:zadnji_presledek].strip()\n",
    "        kol, kap = line[zadnji_presledek + 1:].split(\"/\")\n",
    "        post[ime] = (kol, kap)\n",
    "    return post"
   ]
  },
  {
   "attachments": {},
   "cell_type": "markdown",
   "id": "9acc29f1-27ad-43ea-bee4-64ea2b315c7e",
   "metadata": {},
   "source": [
    "### 5. Koordinator [tema: objektno orientirano programiranje]\n",
    "\n",
    "Napišite razred `Koordinator`.\n",
    "-\tKonstruktor ne prejme argumentov. Shrani lahko, kar želite. Recimo podatke iz postaje. Ali pa tudi ne.\n",
    "-\t`stanje(postaja)` vrne število razpoložljivih koles na podani postaji\n",
    "-\t`odpelji(postaja)` vrne `True`, če je na postaji kako kolo in `False`, če ga ni. Če je, si zapomni, da je na postaji eno kolo manj.\n",
    "-\t`vrni(postaja)` vrne `True`, če je na postaji kako prosto mesto za kolo in `False`, če ga ni. Če je, si zapomni, da je na postaji eno kolo več.\n",
    "\n",
    "Pomembno: razred ne sme spreminjati vrednosti v (globalnem) slovarju postaje!\n",
    "\n",
    "#### Rešitev\n",
    "\n",
    "Pri teh nalogah se je vedno potrebno odločiti, kako bomo shranjevali podatke. Meni je najbolj všeč shraniti kapacitete in število koles v dva slovarja. V spodnji rešitvi sem uporabil izpeljane slovarje; seveda gre tudi z običajno zanko.\n",
    "\n",
    "Ko je ta odločitev za nami, je vse preprosto."
   ]
  },
  {
   "cell_type": "code",
   "execution_count": null,
   "id": "ddebfbd1-fb8e-4452-b6e3-2225d3a5eed1",
   "metadata": {},
   "outputs": [],
   "source": [
    "class Koordinator:\n",
    "    def __init__(self):\n",
    "        self.kapacitete = {ime: p[\"capacity\"] for ime, p in postaje.items()}\n",
    "        self.kolesa = {ime: p[\"bikes\"] for ime, p in postaje.items()}\n",
    "\n",
    "    def odpelji(self, ime):\n",
    "        if self.kolesa[ime] == 0:\n",
    "            return False\n",
    "        self.kolesa[ime] -= 1\n",
    "        return True\n",
    "\n",
    "    def vrni(self, ime):\n",
    "        if self.kolesa[ime] == self.kapacitete[ime]:\n",
    "            return False\n",
    "        self.kolesa[ime] += 1\n",
    "        return True\n",
    "\n",
    "    def stanje(self, ime):\n",
    "        return self.kolesa[ime]"
   ]
  }
 ],
 "metadata": {
  "kernelspec": {
   "display_name": "Python 3 (ipykernel)",
   "language": "python",
   "name": "python3"
  },
  "language_info": {
   "codemirror_mode": {
    "name": "ipython",
    "version": 3
   },
   "file_extension": ".py",
   "mimetype": "text/x-python",
   "name": "python",
   "nbconvert_exporter": "python",
   "pygments_lexer": "ipython3",
   "version": "3.12.7"
  }
 },
 "nbformat": 4,
 "nbformat_minor": 5
}
