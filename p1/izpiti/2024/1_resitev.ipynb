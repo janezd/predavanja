{
 "cells": [
  {
   "attachments": {},
   "cell_type": "markdown",
   "id": "f428e988-3808-4e7b-a726-138dd05e34f6",
   "metadata": {},
   "source": [
    "## 1. Nevarne povezave\n",
    "\n",
    "Oddelek za gozdarske dejavnosti in motorni promet želi z namenom povečanja varnosti prepovedati kolesarjenje na povezavah, na katerih se zgodi največ kolesarskih nesreč. Raziskava, ki so jo naročili, je pokazala, da je največ nesreč na odsekih, ki jih uporablja največ kolesarjev, zato je očitno logično prepovedati kolesarjenje po njih.\n",
    "\n",
    "Napišite funkcijo `povezave(pot)`, ki prejme neko pot (niz z imeni križišč, med katerimi so znaki -) in vrne vse odseke na tej poti kot množico parov imen. Klic `povezave(\"Ana-Berta-Cilka-Berta-Dani\") vrne {(\"Ana\", \"Berta\"), (\"Berta\", \"Cilka\"), (\"Cilka\", \"Berta\"), (\"Berta\", \"Dani\")}`.\n",
    "\n",
    "Nato napišite funkcijo `popularni(poti, k)`, ki prejme seznam poti, ki so jih opravili kolesarji in vrne k odsekov, ki se pojavijo na največ poteh. Če se isti odsek na neki poti pojavi večkrat, ga štejte le enkrat. Če si k-to mesto deli več odsekov, je vseeno, katere od izenačenih odsekov vrnete. Primer je v testih.\n",
    "\n",
    "### Rešitev\n",
    "\n",
    "Človek, ki mu je čas dragocen in si ga želi prihraniti za težje naloge, napiše"
   ]
  },
  {
   "cell_type": "code",
   "execution_count": 1,
   "id": "808756eb-fb95-4393-ac53-7c04aa84d785",
   "metadata": {},
   "outputs": [],
   "source": [
    "from collections import Counter\n",
    "from itertools import pairwise\n",
    "\n",
    "def povezave(pot):\n",
    "    return set(pairwise(pot.split(\"-\")))\n",
    "\n",
    "def popularni(poti, k):\n",
    "    return {p for p, _ in Counter(povezava for pot in poti for povezava in povezave(pot)).most_common(k)}"
   ]
  },
  {
   "cell_type": "markdown",
   "id": "48efb7b7-d0ff-44d4-9336-618b96399fb1",
   "metadata": {},
   "source": [
    "Čeprav bi večina sicer morala vedeti za `pairwise`, najbrž pa tudi za `Counter` in bi morala znati sestaviti izpeljan seznam ... pa se bo omenjena večina najbrž lotila počasneje. Rešimo še tako. (No, `pairwise` bomo vseeno uporabili, brez njega pač uporabimo `zip`, da združi seznam s seznamom brez prvega elementa ... trik, ki ste ga velikokrat videli na predavanjih in v domačih nalogah.)\n",
    "\n",
    "Prvi del je še vedno preprost: niz razdelimo glede na `-`, jemljemo zaporedne elemente in jih zlagamo v množico."
   ]
  },
  {
   "cell_type": "code",
   "execution_count": 2,
   "id": "9f57723f-b81d-4f0c-8a30-0a489d9b9d0d",
   "metadata": {},
   "outputs": [],
   "source": [
    "def povezave(pot):\n",
    "    pov = set()\n",
    "    for od, do in pairwise(pot.split(\"-\")):\n",
    "        pov.add((od, do))\n",
    "    return pov"
   ]
  },
  {
   "cell_type": "markdown",
   "id": "f28f143a-2727-40d3-ae7f-ad3fe2448d1b",
   "metadata": {},
   "source": [
    "Drugi se razdeli v tri dele.\n",
    "\n",
    "- Najprej preštejemo pojavitve posameznih povezav v poteh. Pri tem štejemo elemente iz množice, ki jo vrne funkcija `povezave`, saj naloga zahteva, da v primeru, da večkratne pojavitve iste povezave na določeni poti štejemo samo enkrat.\n",
    "- Nato premečemo vse povezave in števce v seznam parov `(števec, povezava)`. Ta seznam uredimo. Ko urejamo terke, bo funkcija `sort` najprej priumerjala prvi element, torej jih bo uredila po (naraščajoči) popularnosti.\n",
    "- Ker naloga zahteva, da vrnemo množico k najpopularnejših povezav, vzamemo zadnjih `k` elementov seznama. V množico zlagamo druge elemente vsakega para, povezavo.\n",
    "\n",
    "Vse te stvari - štetje, urejanje po določenem kriteriju, premetavanje v množice ali nazaj - smo v različnih kontekstih počeli že velikokrat. Tule jih samo zložimo skupaj."
   ]
  },
  {
   "cell_type": "code",
   "execution_count": 6,
   "id": "87279b2f-73da-41d7-9fca-596f96766089",
   "metadata": {},
   "outputs": [],
   "source": [
    "def popularni(poti, k):\n",
    "    pojavitve = {}\n",
    "    for pot in poti:\n",
    "        for par in povezave(pot):\n",
    "            if par not in pojavitve:\n",
    "                pojavitve[par] = 0\n",
    "            pojavitve[par] += 1\n",
    "\n",
    "    pari = []\n",
    "    for odsek, stevilo in pojavitve.items():\n",
    "        pari.append((stevilo, odsek))\n",
    "    pari.sort()\n",
    "\n",
    "    najpopularnejsi = set()\n",
    "    for _, povezava in pari[-k:]:\n",
    "        najpopularnejsi.add(povezava)\n",
    "    return najpopularnejsi"
   ]
  },
  {
   "cell_type": "markdown",
   "id": "79a9a113-dba2-4834-b6c2-913a88d1f8c6",
   "metadata": {},
   "source": [
    "Kar smo naredili tu, je seveda druga skrajnost. Prva rešitev je bila kratka in preveč profi, ta tu je preveč začetniška. Tudi rešitev, ki ne zahteva več, kot da znamo uporabiti `defaultdict` in izpeljane sezname in množice, ni ravno dolga."
   ]
  },
  {
   "cell_type": "code",
   "execution_count": 7,
   "id": "6cd8123d-b70c-4aec-b05a-24842f8516f2",
   "metadata": {},
   "outputs": [],
   "source": [
    "def popularni(poti, k):\n",
    "    pojavitve = defaultdict(int)\n",
    "    for pot in poti:\n",
    "        for par in povezave(pot):\n",
    "            pojavitve[par] += 1\n",
    "\n",
    "    pari = [(stevilo, odsek) for odsek, stevilo in pojavitve.items()]\n",
    "    pari.sort()\n",
    "\n",
    "    return {povezava for _, povezava in pari[-k:]}"
   ]
  },
  {
   "attachments": {},
   "cell_type": "markdown",
   "id": "b44d3eef-3239-424f-af59-aa3c19452ebe",
   "metadata": {},
   "source": [
    "## 2. Minuta za Angelco\n",
    "\n",
    "Angelca je odkrila, da bi se dalo v zapisu poti uporabiti različna števila minusov; ta bi pomenila čas (v minutah), ki ga je kolesar porabil za določeno povezavo.\n",
    "\n",
    "Napišite funkcijo `casi(pot)`, ki prejme takšen opis poti in vrne slovar, katerega ključi so pari križišč, vrednosti pa število minusov med tem parom.\n",
    "\n",
    "Klic `casi(\"Ana----Berta--Dani------Cilka---Berta-------Ema-Berta--Ana\") vrne {(\"Ana\", \"Berta\"): 4, (\"Berta\", \"Dani\"): 2, (\"Dani\", \"Cilka\"): 6, (\"Cilka\", \"Berta\"): 3, (\"Berta\", \"Ema\"): 7, (\"Ema\", \"Berta\"): 1, (\"Berta\", \"Ana\"): 2}`.\n",
    "\n",
    "Predpostaviti smete, da se vsak par pojavi le enkrat.\n",
    "\n",
    "Če je naloga pretežka, predpostavite še, da se tudi vsako križišče pojavi le enkrat, vendar dobite v tem primeru največ 75 % možnih točk naloge.\n",
    "\n",
    "### Rešitev\n",
    "\n",
    "Tale naloga je izrazito obrtniška. Nobenih globokih podatkovnih struktur, le programerska spretnost.\n",
    "\n",
    "Najpreprosteje je spet uporabiti `split(\"-\")`."
   ]
  },
  {
   "cell_type": "code",
   "execution_count": 8,
   "id": "fc6bfdd0-e850-4091-8438-b3f004933986",
   "metadata": {},
   "outputs": [],
   "source": [
    "def casi(pot):\n",
    "    razdalje = {}\n",
    "    od = None\n",
    "    for kos in pot.split(\"-\"):\n",
    "        if not kos:\n",
    "            dolzina += 1\n",
    "        else:\n",
    "            if od is not None:\n",
    "                razdalje[(od, kos)] = dolzina\n",
    "            od = kos\n",
    "            dolzina = 1\n",
    "    return razdalje"
   ]
  },
  {
   "cell_type": "markdown",
   "id": "627a8394-69ea-4c40-a3e8-08bff0c76a1c",
   "metadata": {},
   "source": [
    "`split(\"-\")` nam razdeli pot na seznam, ki vsebuje imena križišč in prazne nize, med dve zaporednima minusoma. Naredimo torej zanko čez te nize.\n",
    "\n",
    "- V `kos` bomo shranili posamezni niz (križišče ali prazen niz),\n",
    "- v `dolzina` bomo zapisovali dolžino trenutnega odseka\n",
    " -v `od` pa začetek trenutnega odseka - torej tistega, ki je pred trenutnim zaporedjem minusov. Pred zanko nastavimo `od` na `None`, da vemo, da še nismo začeli.\n",
    "\n",
    "V zanki preverimo, ali je `kos` prazen. Če je tako, le povecamo `dolzina` za 1.\n",
    "\n",
    "Če `kos` ni prazen, preverimo, ali je `od` različen od `None`. V tem primeru se je končal odsek, katerega krajišči sta `od` in `kos`. Zabeležimo, da je njegova dolžina toliko, kolikor praznih nizov smo našteli (in en več - glej nadaljevanje).\n",
    "\n",
    "V vsakem primeru pa prepišemo `kos` v `od`, saj se tu začenja novi odsek. Poleg tega nastavimo `dolzina` na 1: razdalja med dvema križiščema je enaka številu minusov, a ker se prazni nizi pojavljajo med dvema zaporednima minusoma, bo praznih nizov za 1 manj, kot je minusov. Zato začnemo z dolžino 1.\n",
    "\n",
    "Druga rešitev je, da najprej poberemo imena zaporednih križišč, tako da zamenjamo minuse s presledki in pokličemo `split()`, ki bo ignoriral zaporedne presledke.\n",
    "\n",
    "Za vsako križišče najprej odbijemo od niza `pot` toliko znakov, kolikor je dolgo to križišče. Tako dobimo niz, ki se začne z minusi. Dolžina odseka med tem in naslednjim križiščem je tolikšna, kolikor je teh minusov -- torej toliko, kolikor je niz brez minusov krajši od celega niza.\n",
    "\n",
    "Nato od poti odbijemo še minuse in nadaljujemo z naslednjim križiščem."
   ]
  },
  {
   "cell_type": "code",
   "execution_count": 9,
   "id": "71b55b86-7472-4d91-a51c-b384389cc100",
   "metadata": {},
   "outputs": [],
   "source": [
    "def casi(pot):\n",
    "    razdalje = {}\n",
    "    krizisca = pot.replace(\"-\", \" \").split()\n",
    "    for krizisce, naslednje in pairwise(krizisca):\n",
    "        pot = pot[len(krizisce):]\n",
    "        brez = pot.lstrip(\"-\")\n",
    "        razdalje[(krizisce, naslednje)] = len(pot) - len(brez)\n",
    "        pot = brez\n",
    "    return razdalje"
   ]
  },
  {
   "cell_type": "markdown",
   "id": "0a37211e-9b9e-4b7c-a4d9-5357ee2e207d",
   "metadata": {},
   "source": [
    "Rešitev za 75 % uporablja `index`:"
   ]
  },
  {
   "cell_type": "code",
   "execution_count": 10,
   "id": "367516ab-9d84-44b8-8269-a824706da9f7",
   "metadata": {},
   "outputs": [],
   "source": [
    "def casi(pot):\n",
    "    krizisca = []\n",
    "    for krizisce in pot.split(\"-\"):\n",
    "        if krizisce:\n",
    "            krizisca.append(krizisce)\n",
    "\n",
    "    razdalje = {}\n",
    "    for krizisce, naslednje in pairwise(krizisca):\n",
    "        razdalje[(krizisce, naslednje)] = pot.index(naslednje) - pot.index(krizisce) - len(krizisce)\n",
    "    return razdalje"
   ]
  },
  {
   "cell_type": "markdown",
   "id": "c8e6c450-d601-447c-b2d1-7f4fcd191b9c",
   "metadata": {},
   "source": [
    "Tokrat smo razdelili kar po `-` in v `krizisca` zložili vsa imena križišč, se pravi neprazne nize.\n",
    "\n",
    "Nato gremo čez pare križišč: razdalja med dvema je enaka razliki mest (indeksov) na katerih se pojavita tidve križišči, pri čemer moramo od razlike - da dobimo število minusov - odšteti še dolžino imena prvega križišča.\n",
    "\n",
    "Ta rešitev ne bo delovala, če se isto križišče pojavi le večkrat. Pravzaprav pa je ni težko dopolniti do delujoče rešitve, le v vsakem krogu zanke moramo odbiti tisti del niza, ki smo ga pravkar obdelali."
   ]
  },
  {
   "cell_type": "code",
   "execution_count": 11,
   "id": "0352e3d7-4d2b-4dfd-b9af-99298c1920f2",
   "metadata": {},
   "outputs": [],
   "source": [
    "def casi(pot):\n",
    "    krizisca = []\n",
    "    for krizisce in pot.split(\"-\"):\n",
    "        if krizisce:\n",
    "            krizisca.append(krizisce)\n",
    "\n",
    "    razdalje = {}\n",
    "    for krizisce, naslednje in pairwise(krizisca):\n",
    "        razdalje[(krizisce, naslednje)] = pot.index(naslednje) - pot.index(krizisce) - len(krizisce)\n",
    "        pot = pot[pot.index(naslednje):]\n",
    "    return razdalje"
   ]
  },
  {
   "cell_type": "markdown",
   "id": "2eaa165a-ad77-488e-b637-5d9c007e6d3b",
   "metadata": {},
   "source": [
    "Teh različic je še kolikor hočemo. Nekatere so tudi bolj nerodno \"C-jevske\" - te ne uporabijo `split`-a, temveč gredo čez znakue niza `pot`. Vsem je skupno, da se moramo nekoliko znajti...\n",
    "\n",
    "Frajerji, ki poznajo regularne izraze (ki se jih sicer nismo učili, niso pa prepovedani, saj so del standardnih Pythonovih knjižnic) pa napišejo kar"
   ]
  },
  {
   "cell_type": "code",
   "execution_count": 12,
   "id": "a42ba79a-b46a-42d5-8d00-eae99bdd67be",
   "metadata": {},
   "outputs": [],
   "source": [
    "import re\n",
    "\n",
    "def casi(pot):\n",
    "    razdalje = {}\n",
    "    for mo1, mo2 in pairwise(re.finditer(r\"[^-]+\", pot)):\n",
    "        razdalje[(mo1.group(), mo2.group())] = mo2.start() - mo1.end()\n",
    "    return razdalje"
   ]
  },
  {
   "cell_type": "markdown",
   "id": "bc479b2e-33ba-4f3f-b68d-ef04d41a41e4",
   "metadata": {},
   "source": [
    "ali celo kar"
   ]
  },
  {
   "cell_type": "code",
   "execution_count": 13,
   "id": "2ebec1b1-499b-41c5-8c7d-e62350257427",
   "metadata": {},
   "outputs": [],
   "source": [
    "def casi(pot):\n",
    "    return {(mo1.group(), mo2.group()): mo2.start() - mo1.end()\n",
    "            for mo1, mo2 in pairwise(re.finditer(r\"[^-]+\", pot))}"
   ]
  },
  {
   "attachments": {},
   "cell_type": "markdown",
   "id": "9b3ab78a-d989-4b01-8383-c93e2c94816d",
   "metadata": {},
   "source": [
    "## 3. Povzročanje gneče, iskanje nesreče\n",
    "\n",
    "Nekateri kolesarji delajo gnečo in izzivajo nesrečo z vožnjo v krogih, na primer `\"Ana-Berta-Cilka-Ana-Berta-Cilka-Ana-Berta-Cilka-Ana-Berta-Cilka\"`.\n",
    "\n",
    "Napišite funkcijo `krozenje(pot)`, ki vrne `True`, če pot predstavlja takšno kroženje in `False` sicer. Koliko križišč se ponavlja (v tem primeru so tri) in kolikokrat (tule štirikrat) ni znano.\n",
    "\n",
    "**Beri naprej:** pravzaprav nekateri kolesarji naredijo tako: prevozijo neko število križišč. Nato ponavljajo ta križišča, vendar v nadaljnjih krogih včasih zamenjajo eno od križišč – vedno največ eno na krog, ne pa nujno vedno isto. Primer takšne poti je `\"Ana-Berta-Cilka-Ana-Berta-Dani-Ana-Ema-Cilka-Ana-Berta-Ana-Ema-Berta-Cilka\"`. Prvič je zamenjal Cilko z Dani, drugič Berto s Cilko in tretjič Berto z, uh, Ano, četrtič Ano z Berto. Vaša funkcija naj vrne `True` tudi v takšnih primerih.\n",
    "\n",
    "Za 75 % točk lahko rešite tudi preprostejšo različico, po kateri zahtevamo točne ponovitve.\n",
    "\n",
    "Namig: preprosto poskusite vse možne dolžine krogov – 2, 3, 4, 5 ...\n",
    "\n",
    "### Rešitev\n",
    "\n",
    "Preprosta različica je ... preprosta. Če se ponavlja i križišč, vzamemo prvih `i` in preverimo, ali je seznam sestavljen iz `len(krizisca) // i` ponovitev teh križišč."
   ]
  },
  {
   "cell_type": "code",
   "execution_count": 14,
   "id": "3c303594-6df1-478a-9d73-df83457a276e",
   "metadata": {},
   "outputs": [],
   "source": [
    "def krozenje(pot):\n",
    "    krizisca = pot.split(\"-\")\n",
    "    for i in range(2, len(krizisca) // 2 + 1):\n",
    "        if krizisca == krizisca[:i] * (len(krizisca) // i):\n",
    "            return True\n",
    "    return False"
   ]
  },
  {
   "cell_type": "markdown",
   "id": "cbea6e71-8dfe-4d7b-a3ae-4b3b1acb9662",
   "metadata": {},
   "source": [
    "Druga je malenkost daljša. Za vsak `i` najprej preverimo, ali deli dolžino seznama. Če je ne, nas ne briga in nadaljujemo `continue` z naslednjim `i`.\n",
    "\n",
    "Sicer štejemo i, 2i, 3i in tako naprej. Število razlik med prvimi `i` točkami in temi med `i` in naslednjimi i mora biti manjše od 1. Če je večje, prekinemo zanko. Če zanke nismo prekinili, vrnemo `True`. Če se (zunanja) zanka izteče, ne da bi vrnili `True`, pa vrnemo `False`."
   ]
  },
  {
   "cell_type": "code",
   "execution_count": 15,
   "id": "fb2d46ff-7a09-4c9b-8b1d-93f2095fe055",
   "metadata": {},
   "outputs": [],
   "source": [
    "def krozenje(pot):\n",
    "    tocke = pot.split(\"-\")\n",
    "    for i in range(2, len(tocke) // 2 + 1):\n",
    "        if len(tocke) % i != 0:\n",
    "            continue\n",
    "        prva = tocke[:i]\n",
    "        for j in range(i, len(tocke), i):\n",
    "            if sum(x != y for x, y in zip(tocke[j:], prva)) > 1:\n",
    "                break\n",
    "        else:\n",
    "            return True\n",
    "    return False"
   ]
  },
  {
   "cell_type": "markdown",
   "id": "5f290f87-ceb0-4c30-b5d2-2d28b72f4117",
   "metadata": {},
   "source": [
    "Zanimiv je `sum`. V njem seštevamo, kolikokrat je `x != y` resničen, pri čemer `x` dobimo iz neke (domnevne) ponovitve cikla, `y` pa iz prvih `i` točk. Ker je `True` isto kot `1`, bomo dobili število sprememb. `zip` pa, kot vemo, teče do dolžine krajšega od seznamov, zato pri `tocke[j:]` ni potrebno pisati gornje meje (bila bi `tocke[j:j + 1]`, saj jo bo postavil že `zip`.\n",
    "\n",
    "Tole je malo zavozlano zaradi vseh teh dvojnih zank ter `continue` in `break` in `else`. Napišimo raje preprosteje:"
   ]
  },
  {
   "cell_type": "code",
   "execution_count": 16,
   "id": "029c4873-bb2f-4769-b908-d0135812e203",
   "metadata": {},
   "outputs": [],
   "source": [
    "def se_ponavlja(krizisca, i):\n",
    "    if len(krizisca) % i != 0:\n",
    "        return False\n",
    "    prva = krizisca[:i]\n",
    "    for j in range(i, len(krizisca), i):\n",
    "        if sum(x != y for x, y in zip(krizisca[j:], prva)) > 1:\n",
    "            return False\n",
    "    return True\n",
    "\n",
    "\n",
    "def krozenje(pot):\n",
    "    krizisca = pot.split(\"-\")\n",
    "    for i in range(2, len(krizisca) // 2 + 1):\n",
    "        if se_ponavlja(krizisca, i):\n",
    "            return True\n",
    "    return False"
   ]
  },
  {
   "cell_type": "markdown",
   "id": "478f2283-39bf-4b40-9b5f-4dc052573359",
   "metadata": {},
   "source": [
    "Pomožna funkcija `se_ponavlja` pove, ali se v `krizisca` ponavljajo prvih `i` križišč - mogoče z eno napako. S tem postane funkcija `krozenje` veliko preprostejša."
   ]
  },
  {
   "cell_type": "markdown",
   "id": "73e444e7-e3da-4eac-aa7e-7cbe5e807252",
   "metadata": {},
   "source": [
    "## 4. Detektiv\n",
    "\n",
    "Kot ste uganili, so križišča poimenovana po uslužbencih OGDMP. Na vsakem je stal eden od njih in beležil promet. Rezultat tega je, da vsak od njih ve tudi, proti katerim križiščem so kolesarji vozili iz križišč, ki so jih oni dan nadzorovali."
   ]
  },
  {
   "cell_type": "code",
   "execution_count": 17,
   "id": "3d34e735-48fa-4d44-b4f1-251c455c5148",
   "metadata": {},
   "outputs": [],
   "source": [
    "povezave = {\n",
    "    \"Ana\": {\"Berta\"},\n",
    "    \"Berta\": {\"Dani\", \"Cilka\", \"Franci\"},\n",
    "    \"Cilka\": {\"Ema\", \"Franci\", \"Iva\", \"Ana\"},\n",
    "    \"Dani\": {\"Cilka\", \"Ana\"},\n",
    "    \"Ema\": {\"Iva\", \"Helga\"},\n",
    "    \"Franci\": {\"Greta\", \"Iva\", \"Dani\"},\n",
    "    \"Greta\": {\"Franci\"},\n",
    "    \"Jana\": {\"Klara\"},\n",
    "    \"Klara\": {\"Jana\"}\n",
    "}"
   ]
  },
  {
   "cell_type": "markdown",
   "id": "47de69cb-84d9-45f3-ba36-4f0a7cfd4ca8",
   "metadata": {},
   "source": [
    "pomeni, da so se od, recimo, Dani vozili proti Cilki in Ani."
   ]
  },
  {
   "cell_type": "markdown",
   "id": "cdb752fb-052f-418f-90df-65071396c12e",
   "metadata": {},
   "source": [
    "<img style=\"zoom: 0.5\" src=\"data:image/.png;base64,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\"/>"
   ]
  },
  {
   "cell_type": "markdown",
   "id": "3134a338-2661-4258-842b-e41961c23beb",
   "metadata": {},
   "source": [
    "Ker se je ravno tisti dan zgodil na enem od križišč tudi umor, nas zanima, ali je možno, da je kateri od kolesarjev, ki so jih videli na določenem križišču, prišel na križorišče umora.\n",
    "\n",
    "Lažja varianta (do 75 %): napišite funkcijo detektiv(odkod, kam, povezave), ki vrne True, če je možno, da je šel kdo od odkod do kam. Pri tem smete predpostaviti, da je zemljevid tak, da se nikoli ni možno vrniti v križišče, v katerem smo nekoč že bili (gornja slika brez črtkanih povezav). Klic `detektiv(\"Ana\", \"Iva\")` vrne `True`, ker je možno, da je šel kdo od Ane do Berte, od ondod k Cilki in potem k Ivi. \n",
    "\n",
    "Prava varianta: po zemljevidu se je možno tudi vračati v že obiskana križišča (torej obstajajo tudi črtkane povezave). Funkcija pa dobi še en argument: ko jo bodo klicali testi, bodo kot njegovo vrednost vedno podali prazno množico, vi pa počnite z njim, kar želite. (Namig: če bo funkcija rekurzivna, si boste vanjo nekaj shranjevali. Če ne bo rekurzivna, tega argumenta morda ne potrebujete in ga ignorirajte, vseeno pa ga sprejmite, da bodo testi vedeli, da rešujete to različico.)\n",
    "\n",
    "Funkcija ne sme spreminjati podanega slovarja."
   ]
  },
  {
   "cell_type": "markdown",
   "id": "9a652cf7-bd6a-408d-9d58-d1c4702a829a",
   "metadata": {},
   "source": [
    "### Rešitev\n",
    "\n",
    "To je seveda klasična naloga iz rekurzije - se v rodbini določenega človeka nahaja oseba z določenim imenom."
   ]
  },
  {
   "cell_type": "code",
   "execution_count": 18,
   "id": "a4bfb6d3-ce27-4660-94dc-a2f559effb42",
   "metadata": {},
   "outputs": [],
   "source": [
    "def detektiv(odkod, kam, odhodi):\n",
    "    if odkod == kam:\n",
    "        return True\n",
    "    for naslednji in odhodi.get(odkod, []):\n",
    "        if detektiv(naslednji, kam, odhodi):\n",
    "            return True\n",
    "    return False"
   ]
  },
  {
   "cell_type": "markdown",
   "id": "179967f2-e6f1-441a-9665-6f0660a1ece3",
   "metadata": {},
   "source": [
    "Ali, krajše"
   ]
  },
  {
   "cell_type": "code",
   "execution_count": 19,
   "id": "4062da23-7d62-4b9f-b004-d00891f957fb",
   "metadata": {},
   "outputs": [],
   "source": [
    "def detektiv(odkod, kam, odhodi):\n",
    "    return odkod == kam or any(detektiv(naprej, kam, odhodi) for naprej in odhodi.get(odkod, ()))"
   ]
  },
  {
   "cell_type": "markdown",
   "id": "7eb59219-dc39-4a23-9e3c-5ddce67dbc10",
   "metadata": {},
   "source": [
    "Zaplet je v tem, da se lahko zaciklamo. Če neko križišče že obiščemo, se vanj ne smemo več vračati. Takšna križišča bomo imenovali prepovedana in jih shranjevali v dodatni argument."
   ]
  },
  {
   "cell_type": "code",
   "execution_count": 20,
   "id": "a2f20e6b-9ff4-47d9-bcf4-db4a0cf47bb9",
   "metadata": {},
   "outputs": [],
   "source": [
    "def detektiv(odkod, kam, odhodi, prepovedani):\n",
    "    if odkod == kam:\n",
    "        return True\n",
    "    for naslednji in odhodi.get(odkod, []):\n",
    "        if naslednji not in prepovedani \\\n",
    "                and detektiv(naslednji, kam, odhodi, prepovedani | {odkod}):\n",
    "            return True\n",
    "    return False"
   ]
  },
  {
   "cell_type": "markdown",
   "id": "ea0405fc-bae4-4db0-8a46-6e268008d4b8",
   "metadata": {},
   "source": [
    "V četrti argument torej v rekurzivnem klicu dodamo `odkod`, tako da kot zadnji argument podamo `prepovedani | {odkod}`. Preden naredimo rekurzivni klic pa preverimo, da ta ne vodi v prepovedano križišče.\n",
    "\n",
    "Ali, krajše:"
   ]
  },
  {
   "cell_type": "code",
   "execution_count": 21,
   "id": "0b62765d-25b6-4cb3-917c-95ad884235cd",
   "metadata": {},
   "outputs": [],
   "source": [
    "def detektiv(odkod, kam, odhodi, prepovedani):\n",
    "    return odkod == kam or any(detektiv(naprej, kam, odhodi, prepovedani | {odkod})\n",
    "                               for naprej in odhodi.get(odkod, set()) - prepovedani)"
   ]
  },
  {
   "attachments": {},
   "cell_type": "markdown",
   "id": "c84d8316-edf7-4267-bf73-27d461f53741",
   "metadata": {},
   "source": [
    "## 5. Strava\n",
    "\n",
    "Napišite razred `Strava`.\n",
    "\n",
    "- Konstruktor prejme seznam segmentov, recimo `Strava([\"Ana-Berta-Dani-Ema\", \"Ana-Berta-Cilka\", \"Berta-Cilka\", \"Cilka-Ema-Dani-Ana-Helga\", \"Helga-Greta-Ema\"])`,\n",
    "- Metoda `dodaj(pot)`, prejme neko pot, ki jo je prevozil nek kolesar, na primer `s.dodaj(\"Ema-Ana-Berta-Dani-Ema\")`.\n",
    "- Metoda `najpopularnejsi()` vrne tistega od segmentov, podanih konstruktorju, ki se je pojavil v največ poteh, ki smo jih dodali z dodaj(pot). Če se isti segment večkrat pojavi na isti poti, ga štejte le enkrat. Če si mesto najpopularnejšega deli več segmentov, lahko vrnete kateregakoli od njih.\n",
    "\n",
    "### Rešitev\n",
    "\n",
    "Kot ponavadi: ko napišemo konstruktor, je vse ostalo jasno. *Napisati konstruktor* v bistvu pomeni razmisliti, kaj bo objekt shranjeval. V našem primeru, očitno, slovar, ki bo štel, kolikokrat se pojavi kateri segment."
   ]
  },
  {
   "cell_type": "code",
   "execution_count": 23,
   "id": "6ead2ce4-8d4e-4cae-9e33-2ce4e5542eaa",
   "metadata": {},
   "outputs": [
    {
     "name": "stdout",
     "output_type": "stream",
     "text": [
      "The history saving thread hit an unexpected error (OperationalError('attempt to write a readonly database')).History will not be written to the database.\n"
     ]
    }
   ],
   "source": [
    "class Strava:\n",
    "    def __init__(self, odseki):\n",
    "        self.popularnost = {}\n",
    "        for odsek in odseki:\n",
    "            self.popularnost[odsek] = 0\n",
    "\n",
    "    def dodaj(self, pot):\n",
    "        for odsek in self.popularnost:\n",
    "            if odsek in pot:\n",
    "                self.popularnost[odsek] += 1\n",
    "\n",
    "    def najpopularnejsi(self):\n",
    "        naj_ods = None\n",
    "        for ods in self.popularnost:\n",
    "            if naj_ods is None or self.popularnost[ods] > self.popularnost[naj_ods]:\n",
    "                naj_ods = ods\n",
    "        return naj_ods"
   ]
  },
  {
   "cell_type": "markdown",
   "id": "aec29a71-abba-4e93-89d7-aefbd1102644",
   "metadata": {},
   "source": [
    "Ali, krajše:"
   ]
  },
  {
   "cell_type": "code",
   "execution_count": 24,
   "id": "e606a481-aea2-4d88-9045-159a846a3230",
   "metadata": {},
   "outputs": [],
   "source": [
    "class Strava:\n",
    "    def __init__(self, odseki):\n",
    "        self.popularnost = dict.fromkeys(odseki, 0)\n",
    "\n",
    "    def dodaj(self, pot):\n",
    "        for odsek in self.popularnost:\n",
    "            if odsek in pot:\n",
    "                self.popularnost[odsek] += 1\n",
    "\n",
    "    def najpopularnejsi(self):\n",
    "        return max(self.popularnost, key=self.popularnost.get)"
   ]
  }
 ],
 "metadata": {
  "kernelspec": {
   "display_name": "Python 3 (ipykernel)",
   "language": "python",
   "name": "python3"
  },
  "language_info": {
   "codemirror_mode": {
    "name": "ipython",
    "version": 3
   },
   "file_extension": ".py",
   "mimetype": "text/x-python",
   "name": "python",
   "nbconvert_exporter": "python",
   "pygments_lexer": "ipython3",
   "version": "3.12.7"
  }
 },
 "nbformat": 4,
 "nbformat_minor": 5
}
