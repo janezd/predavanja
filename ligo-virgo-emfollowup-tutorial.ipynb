{
 "cells": [
  {
   "cell_type": "markdown",
   "metadata": {},
   "source": [
    "# ***WARNING***: This document is obsolete.\n",
    "\n",
    "## Please refer to the [LIGO-Virgo Public Alerts User Guide, https://emfollow.docs.ligo.org/userguide/](https://emfollow.docs.ligo.org/userguide/).\n",
    "\n",
    "---\n",
    "\n",
    "![LSC/Virgo Logo](http://www.ligo.org/images/logo02.gif)\n",
    "\n",
    "# LIGO-Virgo EM Follow-Up Tutorial\n",
    "\n",
    "by Leo P. Singer (NASA/GSFC) <leo.singer@ligo.org>\n",
    "\n",
    "This document is LIGO-G1500442-v11.\n",
    "\n",
    "## Abstract\n",
    "\n",
    "This document explains how to receive, filter, and process gravitational-wave (GW) detection candidate alerts from Advanced LIGO and Virgo. We provide sample code in Python and document alternatives for users of other programming environments. You can download this document and run the code samples in [IPython Notebook](http://ipython.org/notebook.html).\n",
    "\n",
    "\n",
    "## Table of Contents\n",
    "\n",
    "[Introduction](#Introduction)\n",
    "\n",
    "1. [Sign up for GCN/TAN network](#1.-Sign-up-for-GCN/TAN-network)\n",
    "1. [Sign up for a GraceDb robot password](#2.-Sign-up-for-a-GraceDb-robot-password)\n",
    "1. [Install some dependencies](#3.-Install-some-dependencies)\n",
    "1. [Write GCN handler script](#4.-Write-GCN-handler-script)\n",
    "1. [Working with probability sky maps](#5.-Working-with-probability-sky-maps)\n",
    "1. [Basic observability calculations with Astropy](#6.-Basic-observability-calculations-with-Astropy)\n",
    "1. [Submitting observation coordinates to GraceDB](#7.-Submitting-observation-coordinates-to-GraceDB)\n",
    "\n",
    "[Appendix: Full example code](#Appendix:-Full-example-code)\n",
    "\n",
    "## Introduction\n",
    "\n",
    "The LIGO-Virgo data are analyzed in near real-time to search for GW transients due to compact binary coalescence (CBC) events or unmodeled \"burst\" sources. For each detection candidate, a series of alerts are produced and distributed via the [Gamma-ray Coordinates Network/Transient Astronomy Network (GCN/TAN)](http://gcn.gsfc.nasa.gov).\n",
    "\n",
    "<img src=\"http://gcn.gsfc.nasa.gov/GCN.gif\" alt=\"GCN/TAN Network\" width=\"378\" height=\"289\">\n",
    "\n",
    "The GCN/TAN system may already be familiar to some, as it is has been in use since the early 1990s to transmit times and coordinates of gamma-ray bursts (GRBs) detected by gamma-ray space missions to ground-based observers. However, there are three peculiariaties of GW observations that veteran GCN users should be aware of:\n",
    "\n",
    "1. Unlike GRBs, GW sources cannot (always) be localized to a unique sky location; GW position reconstructions are (sometimes) multimodal and non-Gaussian. As a consequence, LIGO-Virgo GCN notices do *not* contain a RA, Dec, or error radius; instead they contain a pointer URL to a FITS file containing a probability sky map in the [HEALPix](http://healpix.sourceforge.net) all-sky projection.\n",
    "1. GCN notices will produce LIGO-Virgo candidates that span a range of significances. The significance of a candidate is reported as the false alarm rate (FAR). The FAR of a detection candidate measures approximately how frequently an event of similar strenght occurs due to chance noise fluctuations or instrumental glitches. A FAR of 1/century ($\\sim 3 \\times 10^{-10}$ Hz) is generally regarded as sufficient for a \"confident\" detection. However, alerts will produced for all events with FAR≥1/month ($\\sim 4\\times10^{-7}$ Hz), such that there should be at least one alert per month on average.\n",
    "1. The first few GW alerts will be distributed privately to LIGO MOU partners, over a purpose-built GCN connection.\n",
    "\n",
    "## 1. Sign up for GCN/TAN network\n",
    "\n",
    "The first step is to sign up for the GCN network. Signing up for LIGO/Virgo GCN notices is slightly different from the [standard signup process](http://gcn.gsfc.nasa.gov/invitation.html). However, if you are already receiving GCN notices (for example, for GRB follow-up), then you can reuse your existing GCN configuration and add the LIGO/Virgo notices.\n",
    "\n",
    "There are [several distribution methods for GCN notices](http://gcn.gsfc.nasa.gov/gcn_describe.html#tc7). For the purpose of this tutorial, we will focus on VOEvent over VOEvent Transport Protocol, which is among the more convenient methods for autonomous operations. However, you can use any other distribution method of your choice.\n",
    "\n",
    "To receive VOEvents, you will need a computer with a static IP address and you will need to register the IP address from which you will connect to the GCN network. Do the following two steps to submit a new GCN site configuration:\n",
    "\n",
    "1. Go to http://gcn.gsfc.nasa.gov/lvc_config_builder.html, fill out the form, and then click the \"Send LVC Notice request to GCN Admin\" button.\n",
    "2. If you are registering as a new GCN recipient (as opposed to adding LIGO/Virgo notices to an existing site configuration), then click the [\"New Site or New User\"](http://gcn.gsfc.nasa.gov/cfg.html?) button and fill out the resulting form. Select the `VOEVENT2.0` option for the `Distribution Method` field.\n",
    "\n",
    "## 2. Sign up for a GraceDb robot password\n",
    "\n",
    "You will need a *robot password* to download files that are linked from the GCN notices. This is an automatically generated password that you can use to download files from GraceDb in a script. It is different from your log in for the GraceDb web site, but you use the GraceDb web site to manage your robot password. Here is how to obtain a robot password.\n",
    "\n",
    "1. Got to https://gracedb.ligo.org/ and log in.\n",
    "1. Click the **Options** tab (see screenshot below).\n",
    "![GraceDb screenshot 1](gracedb-screenshot-1.png)\n",
    "1. Click the **Manage Password** link (see screenshot below).\n",
    "![GraceDb screenshot 1](gracedb-screenshot-2.png)\n",
    "1. Click **Get me a password!** (See screenshot below.) ***Warning: if you had an old robot password, this will reset it and generate a new one.***\n",
    "![GraceDb screenshot 1](gracedb-screenshot-3.png)\n",
    "1. Record the robot user name (which is the same as your user name for the GraceDb web site) and the generated robot password (see screenshot below).\n",
    "![GraceDb screenshot 1](gracedb-screenshot-4.png)\n",
    "1. **Optional, but recommended:** For convenience, we suggset that you add the following line to your [~/.netrc](https://www.gnu.org/software/inetutils/manual/html_node/The-_002enetrc-file.html) file:\n",
    "\n",
    "  `machine gracedb.ligo.org login` *albert.einstein@LIGO.ORG* `password` *ABCDEabcde0123456789*\n",
    "\n",
    "replacing *albert.einstein@LIGO.ORG* with the robot user name and *ABCDEabcde0123456789* with the robot password. This will make it so that you can call [`curl`](http://linux.die.net/man/1/curl) or other HTTP downloader programs without explicitly providing the user name and password. To test your user name and password, you can run the following command:\n",
    "\n",
    "    curl --netrc https://gracedb.ligo.org/apibasic/\n",
    "\n",
    "## 3. Install some dependencies\n",
    "\n",
    "You will need to install a few third-party Python packages to run the example code in this tutorial. These include:\n",
    "\n",
    "* [pygcn](https://pypi.python.org/pypi/pygcn) for connecting to GCN (alternatives: [comet](https://pypi.python.org/pypi/Comet))\n",
    "* [requests](https://pypi.python.org/pypi/requests) for easy HTTP downloads in Python (many [alternatives](https://docs.python.org/2/library/urllib.html) in Python standard library)\n",
    "* [healpy](https://pypi.python.org/pypi/healpy), for decoding HEALPix images (alternatives: [DS9](http://ds9.si.edu), [Aladin](http://aladin.u-strasbg.fr), [HEALPix bindings for C/C++/Fortran/Java/IDL](http://healpix.sourceforge.net), [reprojection with the Python reproject package](http://reproject.readthedocs.org/en/latest/healpix.html))\n",
    "* [astropy](https://pypi.python.org/pypi/astropy) version 1.0.1 or newer (optional, for computing observability windows, etc.)\n",
    "* [numpy](http://www.numpy.org) and [matplotlib](http://matplotlib.org), popular math and plotting packages for Python\n",
    "\n",
    "If you are on a Mac and use the [MacPorts](http://macports.org) package manager, you can install all of the above with the following command:\n",
    "\n",
    "    $ sudo port install py27-gcn py27-lxml py27-requests py27-healpy py27-astropy\n",
    "\n",
    "Otherwise, the fastest way to install the dependencies is with [`pip`](https://pip.pypa.io/en/latest/quickstart.html), a package manager that comes with most Python distributions. To install these packages with `pip`, run the following command:\n",
    "\n",
    "    $ pip install pygcn lxml requests healpy astropy\n",
    "\n",
    "## 4. Write GCN handler script"
   ]
  },
  {
   "cell_type": "markdown",
   "metadata": {},
   "source": [
    "Now we'll write a GCN handler script. First, some imports..."
   ]
  },
  {
   "cell_type": "code",
   "execution_count": 1,
   "metadata": {
    "collapsed": true
   },
   "outputs": [],
   "source": [
    "# Python standard library imports\n",
    "import tempfile\n",
    "import shutil\n",
    "import sys\n",
    "import glob\n",
    "\n",
    "# Third-party imports\n",
    "import gcn\n",
    "import gcn.handlers\n",
    "import gcn.notice_types\n",
    "import requests\n",
    "import healpy as hp\n",
    "import numpy as np"
   ]
  },
  {
   "cell_type": "markdown",
   "metadata": {},
   "source": [
    "*IPython Notebook **only***: If you are following along and running commands in the IPython Notebook, you should also run the following command so that plots are [rendered inline inside the notebook](http://ipython.org/ipython-doc/stable/interactive/magics.html?highlight=matplotlib%20inline#magic-matplotlib):"
   ]
  },
  {
   "cell_type": "code",
   "execution_count": 2,
   "metadata": {
    "collapsed": true
   },
   "outputs": [],
   "source": [
    "%matplotlib inline"
   ]
  },
  {
   "cell_type": "markdown",
   "metadata": {},
   "source": [
    "Next, we'll write a function that we want to get called every time a GCN notice is received. We will use the `@gcn.handlers.include_notice_types` [function decorator](https://docs.python.org/3/glossary.html#term-decorator) to specify that we only want to process certain notice types. There are three notice types:\n",
    "\n",
    "1. `LVC_PRELIMINARY`: Provides the time, significance, and basic parameters about a GW detection candidate. No localization information. Sent with a latency of a minute or so.\n",
    "1. `LVC_INITIAL`: A rapid sky localization is available. Sent with a latency of a few minutes.\n",
    "1. `LVC_UDPATE`: A refined sky localization is availaable. Sent with a latency of hours or more.\n",
    "\n",
    "In the following example, we will process only the last two types (`LVC_INITIAL` and `LVC_UPDATE`), which contain links to sky map FITS files. The following handler function will parse out the URL of the FITS file, download it, and extract the probability sky map.\n",
    "\n",
    "Events come in two very general flavors: 'CBC' or compact binary coalescence candidates detected by matched filtering, and generic 'Burst' candidates detected by model-independent methods. Most users will want to receive only 'CBC' or only 'Burst' events. In this example code, we are going to keep only 'CBC' events.\n",
    "\n",
    "***Very important:*** Note that mock or 'test' observations are denoted by the `role=\"test\"` VOEvent attribute. Alerts resulting from real LIGO/Virgo science data will always have `role=\"observation\"`. The sample code below will respond **only** to 'test' events. When preparing for actual observations, you **must remember to switch to 'observation' events**."
   ]
  },
  {
   "cell_type": "code",
   "execution_count": null,
   "metadata": {},
   "outputs": [],
   "source": [
    "def get_skymap(root):\n",
    "    \"\"\"\n",
    "    Look up URL of sky map in VOEvent XML document,\n",
    "    download sky map, and parse FITS file.\n",
    "    \"\"\"\n",
    "    # Read out URL of sky map.\n",
    "    # This will be something like\n",
    "    # https://gracedb.ligo.org/apibasic/events/M131141/files/bayestar.fits.gz\n",
    "    skymap_url = root.find(\n",
    "        \"./What/Param[@name='SKYMAP_URL_FITS_BASIC']\").attrib['value']\n",
    "\n",
    "    # Send HTTP request for sky map\n",
    "    response = requests.get(skymap_url, stream=True)\n",
    "\n",
    "    # Uncomment to save VOEvent payload to file\n",
    "    # open('example.xml', 'w').write(payload)\n",
    "\n",
    "    # Raise an exception unless the download succeeded (HTTP 200 OK)\n",
    "    response.raise_for_status()\n",
    "\n",
    "    # Create a temporary file to store the downloaded FITS file\n",
    "    with tempfile.NamedTemporaryFile() as tmpfile:\n",
    "        # Save the FITS file to the temporary file\n",
    "        shutil.copyfileobj(response.raw, tmpfile)\n",
    "        tmpfile.flush()\n",
    "\n",
    "        # Uncomment to save FITS payload to file\n",
    "        # shutil.copyfileobj(reponse.raw, open('example.fits.gz', 'wb'))\n",
    "\n",
    "        # Read HEALPix data from the temporary file\n",
    "        skymap, header = hp.read_map(tmpfile.name, h=True, verbose=False)\n",
    "        header = dict(header)\n",
    "\n",
    "    # Done!\n",
    "    return skymap, header\n",
    "\n",
    "\n",
    "# Function to call every time a GCN is received.\n",
    "# Run only for notices of type LVC_INITIAL or LVC_UPDATE.\n",
    "@gcn.handlers.include_notice_types(\n",
    "    gcn.notice_types.LVC_INITIAL,\n",
    "    gcn.notice_types.LVC_UPDATE)\n",
    "def process_gcn(payload, root):\n",
    "    # Print the alert\n",
    "    print('Got VOEvent:')\n",
    "    print(payload)\n",
    "\n",
    "    # Respond only to 'test' events.\n",
    "    # VERY IMPORTANT! Replce with the following line of code\n",
    "    # to respond to only real 'observation' events.\n",
    "    # if root.attrib['role'] != 'observation': return\n",
    "    if root.attrib['role'] != 'test': return\n",
    "\n",
    "    # Respond only to 'CBC' events. Change 'CBC' to \"Burst' to respond to only\n",
    "    # unmodeled burst events.\n",
    "    if root.find(\"./What/Param[@name='Group']\").attrib['value'] != 'CBC': return\n",
    "\n",
    "    # Read out integer notice type (note: not doing anythin with this right now)\n",
    "    notice_type = int(root.find(\"./What/Param[@name='Packet_Type']\").attrib['value'])\n",
    "\n",
    "    # Read sky map\n",
    "    skymap, header = get_skymap(root)"
   ]
  },
  {
   "cell_type": "markdown",
   "metadata": {},
   "source": [
    "Finally, we will listen for GCNs. You need to tell the `gcn.listen` function on what port you want to connect to the GCN network; this will be port 8096. You also need to tell `gcn.listen` which function to call whenever it receives an GCN; this will be the `process_gcn` function that we just defined.\n",
    "\n",
    "When you run the following code snippet, the `gcn.listen` function will continue until you interrupt the program (by pressing the stop button in IPython Notebook, typing Control-C in the terminal, or sending a kill signal to your Python script).\n",
    "\n",
    "Note: `gcn.listen` will automatically reconnect to the GCN network if the network connection is broken."
   ]
  },
  {
   "cell_type": "code",
   "execution_count": null,
   "metadata": {},
   "outputs": [],
   "source": [
    "# Listen for GCNs until the program is interrupted\n",
    "# (killed or interrupted with control-C).\n",
    "gcn.listen(port=8096, handler=process_gcn)"
   ]
  },
  {
   "cell_type": "markdown",
   "metadata": {},
   "source": [
    "That was fun! Now kill the listener: if you are running the example code in an IPython Notebook, press the stop button. If you copied the example code into a standalone Python script, then kill the script by typing control-C.\n",
    "\n",
    "## 5. Working with probability sky maps\n",
    "\n",
    "Let's take a look at what is inside one of the LIGO/Virgo probability sky maps. They are FITS image files and can be manipulated and viewed with many commonplace FITS tools. However, they are a little unusual in two regards. First, since they are all-sky images, they are stored in the [HEALPix](http://healpix.sourceforge.net) projection, a format that is used for [Planck](http://www.cosmos.esa.int/web/planck) all-sky CMB maps and by Aladin for [archival all-sky survey images](http://aladin.u-strasbg.fr/java/nph-aladin-new.pl?frame=aladinHpxList). Second, the value stored at each pixel is the probability that the gravitational-wave source is within that pixel.\n",
    "\n",
    "![HEALPix projection](http://healpix.jpl.nasa.gov/images/healpixGridRefinement.jpg)\n",
    "\n",
    "Let's download one of them with `curl`:\n",
    "\n",
    "    $ curl --netrc -O https://gracedb.ligo.org/apibasic/events/T125706/files/bayestar.fits.gz\n",
    "\n",
    "or with `wget`:\n",
    "\n",
    "    $ wget --auth-no-challenge https://gracedb.ligo.org/apibasic/events/T125706/files/bayestar.fits.gz\n",
    "\n",
    "We can look at the metadata inside the FITS file by printing its header with tools like\n",
    "[funhead](http://linux.die.net/man/1/funhead) from [Funtools](https://github.com/ericmandel/funtools), [imhead](http://linux.die.net/man/1/imhead) from [WCSTools](http://tdc-www.harvard.edu/wcstools/), or [fitsheader](http://astropy.readthedocs.org/en/latest/io/fits/usage/scripts.html?highlight=fitsheader#module-astropy.io.fits.scripts.fitsheader) from [Astropy](http://www.astropy.org):\n",
    "\n",
    "    $ funhead -a bayestar.fits.gz\n",
    "    SIMPLE  =                    T / conforms to FITS standard                      \n",
    "    BITPIX  =                    8 / array data type                                \n",
    "    NAXIS   =                    0 / number of array dimensions                     \n",
    "    EXTEND  =                    T                                                  \n",
    "    END                                                                             \n",
    "    \t\tExtension: XTENSION\n",
    "\n",
    "    XTENSION= 'BINTABLE'           / binary table extension                         \n",
    "    BITPIX  =                    8 / array data type                                \n",
    "    NAXIS   =                    2 / number of array dimensions                     \n",
    "    NAXIS1  =                 4096 / length of dimension 1                          \n",
    "    NAXIS2  =                 3072 / length of dimension 2                          \n",
    "    PCOUNT  =                    0 / number of group parameters                     \n",
    "    GCOUNT  =                    1 / number of groups                               \n",
    "    TFIELDS =                    1 / number of table fields                         \n",
    "    TTYPE1  = 'PROB    '                                                            \n",
    "    TFORM1  = '1024E   '                                                            \n",
    "    TUNIT1  = 'pix-1   '                                                            \n",
    "    PIXTYPE = 'HEALPIX '           / HEALPIX pixelisation                           \n",
    "    ORDERING= 'NESTED  '           / Pixel ordering scheme, either RING or NESTED   \n",
    "    COORDSYS= 'C       '           / Ecliptic, Galactic or Celestial (equatorial)   \n",
    "    EXTNAME = 'XTENSION'           / name of this binary table extension            \n",
    "    NSIDE   =                  512 / Resolution parameter of HEALPIX                \n",
    "    FIRSTPIX=                    0 / First pixel # (0 based)                        \n",
    "    LASTPIX =              3145727 / Last pixel # (0 based)                         \n",
    "    INDXSCHM= 'IMPLICIT'           / Indexing: IMPLICIT or EXPLICIT                 \n",
    "    OBJECT  = 'T125706 '           / Unique identifier for this event               \n",
    "    REFERENC= 'https://gracedb.ligo.org/events/T125706' / URL of this event         \n",
    "    INSTRUME= 'H1,L1   '           / Instruments that triggered this event          \n",
    "    DATE-OBS= '2010-08-30T10:11:34.322149' / UTC date of the observation            \n",
    "    MJD-OBS =     55438.4247028027 / modified Julian date of the observation        \n",
    "    DATE    = '2014-08-13T19:21:12' / UTC date of file creation                     \n",
    "    CREATOR = 'bayestar_localize_lvalert' / Program that created this file          \n",
    "    ORIGIN  = 'LIGO/Virgo'         / Organization responsible for this FITS file    \n",
    "    COMMENT                                                                         \n",
    "    COMMENT This simulated detection candidate is a copy of event 11178             \n",
    "    COMMENT from the 2015 scenario of the \"First Two Years\" paper                   \n",
    "    COMMENT (http://www.ligo.org/scientists/first2years/).                          \n",
    "    END                                                                             \n",
    "\n",
    "There are several useful pieces of information here:\n",
    "\n",
    "* `COORDSYS=C`, telling you that the HEALPix projection is in the Celestial (equatorial) frame (as all LIGO/Virgo probability sky maps will be).\n",
    "* `OBJECT`, the unique LIGO/Virgo identifier for the event.\n",
    "* `REFERENC`, a link to the candidate page in the [GraceDb](https://gracedb.ligo.org) gravitational-wave candidate event database.\n",
    "* `INSTRUME`, a list of gravitational-wave sites that triggered on the event (`H1` represents LIGO Hanford, `L1` is LIGO Livingston, and `V1` is Virgo).\n",
    "* `DATE-OBS`, the UTC time of the event. In the case of a compact binary coalescence candidate, this is the time that the signal from the merger passed through the geocenter.\n",
    "* `MJD-OBS`, same as `DATE-OBS`, but given as a modified Julian day.\n",
    "\n",
    "You can view the sky map in many common FITS image viewers such as [Aladin](http://aladin.u-strasbg.fr):\n",
    "\n",
    "![Aladin screenshot](aladin-screenshot.png)\n",
    "\n",
    "or [DS9](http://ds9.si.edu/doc/ref/file.html#FITSHEALPIXTable) (although DS9 shows HEALPix sky maps in an unusual orientation; see [Figure 4](http://mnras.oxfordjournals.org/content/381/2/865/F4.expansion.html) of [Calabretta & Roukema 2007](http://adsabs.harvard.edu/abs/2007MNRAS.381..865C) for information):\n",
    "\n",
    "![DS9 screenshot](ds9-screenshot.png)\n",
    "\n",
    "Now, let's go through some examples of manipulating HEALPix sky maps programmatically. The [HEALPix project](http://healpix.sourceforge.net) provides official libraries for many languages, including [C, C++, Fortran, IDL, Java, and Python](http://healpix.sourceforge.net/documentation.php). However, since this is a Python tutorial, we are going to demonstrate how to manipulate HEALPix maps with the official Python library, [Healpy](http://healpy.readthedocs.org/).\n",
    "\n",
    "First, if you have not already downloaded an example sky map, you can do so now by having Python call `curl` on the command line:"
   ]
  },
  {
   "cell_type": "code",
   "execution_count": 3,
   "metadata": {},
   "outputs": [
    {
     "data": {
      "text/plain": [
       "0"
      ]
     },
     "execution_count": 3,
     "metadata": {},
     "output_type": "execute_result"
    }
   ],
   "source": [
    "# Download sky map\n",
    "import subprocess\n",
    "subprocess.check_call([\n",
    "    'curl', '-O', '--netrc',\n",
    "    'https://gracedb.ligo.org/apibasic/events/T125706/files/bayestar.fits.gz'])"
   ]
  },
  {
   "cell_type": "markdown",
   "metadata": {},
   "source": [
    "Next, we need to read in the file with Healpy:"
   ]
  },
  {
   "cell_type": "code",
   "execution_count": 4,
   "metadata": {},
   "outputs": [
    {
     "name": "stdout",
     "output_type": "stream",
     "text": [
      "NSIDE = 512\n",
      "ORDERING = NESTED in fits file\n",
      "Ordering converted to RING\n"
     ]
    }
   ],
   "source": [
    "hpx = hp.read_map('bayestar.fits.gz')"
   ]
  },
  {
   "cell_type": "markdown",
   "metadata": {},
   "source": [
    "You can suppress printing informational messages while loading the file by passing the keyword argument `verbose=False`. You can read both the HEALPix image data and the FITS header by passing the `h=True` keyword argument:"
   ]
  },
  {
   "cell_type": "code",
   "execution_count": 5,
   "metadata": {},
   "outputs": [],
   "source": [
    "hpx, header = hp.read_map('bayestar.fits.gz', h=True, verbose=False)"
   ]
  },
  {
   "cell_type": "markdown",
   "metadata": {},
   "source": [
    "The image data is a 1D array of values:"
   ]
  },
  {
   "cell_type": "code",
   "execution_count": 6,
   "metadata": {},
   "outputs": [
    {
     "data": {
      "text/plain": [
       "array([  3.08905283e-22,   3.04303258e-22,   1.21389563e-22, ...,\n",
       "         9.39631031e-22,   3.19591130e-22,   2.66302276e-22])"
      ]
     },
     "execution_count": 6,
     "metadata": {},
     "output_type": "execute_result"
    }
   ],
   "source": [
    "hpx"
   ]
  },
  {
   "cell_type": "markdown",
   "metadata": {},
   "source": [
    "Healpy has [several useful plotting routines](http://healpy.readthedocs.org/en/latest/healpy_visu.html) including `mollview` for plotting a Mollweide-projection all-sky map:"
   ]
  },
  {
   "cell_type": "code",
   "execution_count": 7,
   "metadata": {},
   "outputs": [
    {
     "data": {
      "image/png": "[encoded data removed]",
      "text/plain": [
       "<matplotlib.figure.Figure at 0x7fd0bc076450>"
      ]
     },
     "metadata": {},
     "output_type": "display_data"
    }
   ],
   "source": [
    "hp.mollview(hpx)"
   ]
  },
  {
   "cell_type": "markdown",
   "metadata": {},
   "source": [
    "Each entry in the array represents the probability contained within a quadrilateral pixel whose position on the sky is uniquely specified by the index in the array and the array's length. Because HEALPix pixels are equal area, we can find the number of pixels per square degree just from the length of the HEALPix array:"
   ]
  },
  {
   "cell_type": "code",
   "execution_count": 8,
   "metadata": {},
   "outputs": [
    {
     "data": {
      "text/plain": [
       "0.013113963206424481"
      ]
     },
     "execution_count": 8,
     "metadata": {},
     "output_type": "execute_result"
    }
   ],
   "source": [
    "npix = len(hpx)\n",
    "sky_area = 4 * 180**2 / np.pi\n",
    "sky_area / npix"
   ]
  },
  {
   "cell_type": "markdown",
   "metadata": {},
   "source": [
    "The [`pix2ang`](http://healpy.readthedocs.org/en/latest/generated/healpy.pixelfunc.pix2ang.html) function converts from pixel index to spherical polar coordinates; the function [`ang2pix`](http://healpy.readthedocs.org/en/latest/generated/healpy.pixelfunc.ang2pix.html) does the reverse.\n",
    "\n",
    "Both `pix2ang` and `ang2pix` take, as their first argument, `nside`, the lateral resolution fo the HEALPix map. You can find `nside` from the length of the image array by calling [`npix2nside`](http://healpy.readthedocs.org/en/latest/generated/healpy.pixelfunc.npix2nside.html#healpy.pixelfunc.npix2nside):"
   ]
  },
  {
   "cell_type": "code",
   "execution_count": 9,
   "metadata": {},
   "outputs": [
    {
     "data": {
      "text/plain": [
       "512"
      ]
     },
     "execution_count": 9,
     "metadata": {},
     "output_type": "execute_result"
    }
   ],
   "source": [
    "nside = hp.npix2nside(npix)\n",
    "nside"
   ]
  },
  {
   "cell_type": "markdown",
   "metadata": {},
   "source": [
    "Let's look up the right ascension and declination of pixel number 123. We'll call `pix2ang` to get the spherical polar coordinates $(\\theta, \\phi)$ in radians, and then use Numpy's [`rad2deg`](http://docs.scipy.org/doc/numpy/reference/generated/numpy.rad2deg.html) function to convert these to right ascension and declination in degrees."
   ]
  },
  {
   "cell_type": "code",
   "execution_count": 10,
   "metadata": {},
   "outputs": [
    {
     "data": {
      "text/plain": [
       "(129.375, 89.269029291573901)"
      ]
     },
     "execution_count": 10,
     "metadata": {},
     "output_type": "execute_result"
    }
   ],
   "source": [
    "ipix = 123\n",
    "theta, phi = hp.pix2ang(nside, ipix)\n",
    "ra = np.rad2deg(phi)\n",
    "dec = np.rad2deg(0.5 * np.pi - theta)\n",
    "ra, dec"
   ]
  },
  {
   "cell_type": "markdown",
   "metadata": {},
   "source": [
    "Let's find which pixel contains the point RA=194.95, Dec=27.98."
   ]
  },
  {
   "cell_type": "code",
   "execution_count": 11,
   "metadata": {},
   "outputs": [
    {
     "data": {
      "text/plain": [
       "833621"
      ]
     },
     "execution_count": 11,
     "metadata": {},
     "output_type": "execute_result"
    }
   ],
   "source": [
    "ra = 194.95\n",
    "dec = 27.98\n",
    "theta = 0.5 * np.pi - np.deg2rad(dec)\n",
    "phi = np.deg2rad(ra)\n",
    "ipix = hp.ang2pix(nside, theta, phi)\n",
    "ipix"
   ]
  },
  {
   "cell_type": "markdown",
   "metadata": {},
   "source": [
    "Let's find the highest probability pixel. What is the probability inside it?"
   ]
  },
  {
   "cell_type": "code",
   "execution_count": 12,
   "metadata": {},
   "outputs": [
    {
     "data": {
      "text/plain": [
       "5.7702549383975565e-05"
      ]
     },
     "execution_count": 12,
     "metadata": {},
     "output_type": "execute_result"
    }
   ],
   "source": [
    "ipix_max = np.argmax(hpx)\n",
    "hpx[ipix_max]"
   ]
  },
  {
   "cell_type": "markdown",
   "metadata": {},
   "source": [
    "Where is the highest probability pixel on the sky? Use `pix2ang`."
   ]
  },
  {
   "cell_type": "code",
   "execution_count": 13,
   "metadata": {},
   "outputs": [
    {
     "data": {
      "text/plain": [
       "(213.22265625, -37.450292350169015)"
      ]
     },
     "execution_count": 13,
     "metadata": {},
     "output_type": "execute_result"
    }
   ],
   "source": [
    "theta, phi = hp.pix2ang(nside, ipix_max)\n",
    "ra = np.rad2deg(phi)\n",
    "dec = np.rad2deg(0.5 * np.pi - theta)\n",
    "ra, dec"
   ]
  },
  {
   "cell_type": "markdown",
   "metadata": {},
   "source": [
    "How do we find the probability that the source is contained within a circle on the sky? First we find the pixels that are contained within the circle using `query_disc`. Note that `query_disc` takes as its arguments the Cartesian coordinates of the center of the circle, and its radius in radians.\n",
    "\n",
    "Then, we sum the values of the HEALPix image array contained at those pixels."
   ]
  },
  {
   "cell_type": "code",
   "execution_count": 14,
   "metadata": {},
   "outputs": [
    {
     "data": {
      "text/plain": [
       "0.056844148994230181"
      ]
     },
     "execution_count": 14,
     "metadata": {},
     "output_type": "execute_result"
    }
   ],
   "source": [
    "# RA, Dec, and radius of circle in degrees\n",
    "ra = 213.22\n",
    "dec = -37.45\n",
    "radius = 3.1\n",
    "\n",
    "# Spherical polar coordinates and radius of circle in radians\n",
    "theta = 0.5 * np.pi - np.deg2rad(dec)\n",
    "phi = np.deg2rad(ra)\n",
    "radius = np.deg2rad(radius)\n",
    "\n",
    "# Cartesian coordinates of center of circle\n",
    "xyz = hp.ang2vec(theta, phi)\n",
    "\n",
    "# Array of indices of pixels inside circle\n",
    "ipix_disc = hp.query_disc(nside, xyz, radius)\n",
    "\n",
    "# Probability that source is within circle\n",
    "hpx[ipix_disc].sum()"
   ]
  },
  {
   "cell_type": "markdown",
   "metadata": {},
   "source": [
    "Similarly, we can use the `query_polygon` function to look up the indices of the pixels within a polygon (defined by the Cartesian coordinates of its vertices), and then compute the probability that the source is inside that polygon by summing the values of the pixels."
   ]
  },
  {
   "cell_type": "code",
   "execution_count": 15,
   "metadata": {},
   "outputs": [
    {
     "data": {
      "text/plain": [
       "0.0011913816551896161"
      ]
     },
     "execution_count": 15,
     "metadata": {},
     "output_type": "execute_result"
    }
   ],
   "source": [
    "# Vertices of polygon\n",
    "xyz = [[-0.69601758, -0.41315628, -0.58724902],\n",
    "       [-0.68590811, -0.40679797, -0.60336181],\n",
    "       [-0.69106913, -0.39820114, -0.60320752],\n",
    "       [-0.7011786 , -0.40455945, -0.58709473]]\n",
    "\n",
    "# Array of indices of pixels inside polygon\n",
    "ipix_poly = hp.query_polygon(nside, xyz)\n",
    "\n",
    "# Probability that source is within polygon\n",
    "hpx[ipix_poly].sum()"
   ]
  },
  {
   "cell_type": "markdown",
   "metadata": {},
   "source": [
    "These are all of the HEALPix functions from Healpy that we will need for the remainder of the this tutorial.\n",
    "\n",
    "Other useful Healpy functions include [`ud_grade`](http://healpy.readthedocs.org/en/latest/generated/healpy.pixelfunc.ud_grade.html) for upsampling or downsampling a sky map, and [`get_interp_val`](http://healpy.readthedocs.org/en/latest/generated/healpy.pixelfunc.get_interp_val.html#healpy.pixelfunc.get_interp_val) for performing bilinear interpolation between pixels. See the [Healpy tutorial](http://healpy.readthedocs.org/en/latest/tutorial.html) for other useful operations."
   ]
  },
  {
   "cell_type": "markdown",
   "metadata": {},
   "source": [
    "## 6. Basic observability calculations with Astropy\n",
    "\n",
    "Now we are going to teach our GCN handler how to determine whether a gravitational-wave event is observable. We are goint to use the [astropy.coordinates](http://astropy.readthedocs.org/en/stable/coordinates/index.html) module of the [Astropy package](http://astropy.org) to do [observation planning in Python](http://astropy.readthedocs.org/en/stable/coordinates/observing-example.html). First, we will need to import a few extra Python modules:"
   ]
  },
  {
   "cell_type": "code",
   "execution_count": null,
   "metadata": {
    "collapsed": true
   },
   "outputs": [],
   "source": [
    "import astropy.coordinates\n",
    "import astropy.time\n",
    "import astropy.units as u"
   ]
  },
  {
   "cell_type": "markdown",
   "metadata": {},
   "source": [
    "The LIGO/Virgo probability sky maps are always in equatorial coordinates. Once we have looked up the coordinates of the HEALPix pixels, we will use [the positional astronomy features of Astropy](http://astropy.readthedocs.org/en/stable/coordinates/observing-example.html) to transform those coordinates to an alt/az frame for a particular site on the Earth at a particular time. Then we can quickly determine which pixels are visible from that site at that time, and integrate (sum) the probability contained in those pixels.\n",
    "\n",
    "Note: users may want to do something more sophisticated like determine how much of the probability is visible for at least a certain length of time. This example will illustrate one key function of HEALPix (looking up coordinates of the grid with `hp.pix2ang`) and some of the key positional astronomy functions with Astropy."
   ]
  },
  {
   "cell_type": "code",
   "execution_count": null,
   "metadata": {
    "collapsed": true
   },
   "outputs": [],
   "source": [
    "def prob_observable(m, header):\n",
    "    \"\"\"\n",
    "    Determine the integrated probability contained in a gravitational-wave\n",
    "    sky map that is observable from a particular ground-based site at a\n",
    "    particular time.\n",
    "\n",
    "    Bonus: make a plot of probability versus UTC time!\n",
    "    \"\"\"\n",
    "\n",
    "    # Determine resolution of sky map\n",
    "    npix = len(m)\n",
    "    nside = hp.npix2nside(npix)\n",
    "\n",
    "    # Get time now\n",
    "    time = astropy.time.Time.now()\n",
    "    # Or at the time of the gravitational-wave event...\n",
    "    # time = astropy.time.Time(header['MJD-OBS'], format='mjd')\n",
    "    # Or at a particular time...\n",
    "    # time = astropy.time.Time('2015-03-01 13:55:27')\n",
    "\n",
    "    # Geodetic coordinates of observatory (example here: Mount Wilson)\n",
    "    observatory = astropy.coordinates.EarthLocation(\n",
    "        lat=34.2247*u.deg, lon=-118.0572*u.deg, height=1742*u.m)\n",
    "\n",
    "    # Alt/az reference frame at observatory, now\n",
    "    frame = astropy.coordinates.AltAz(obstime=time, location=observatory)\n",
    "\n",
    "    # Look up (celestial) spherical polar coordinates of HEALPix grid.\n",
    "    theta, phi = hp.pix2ang(nside, np.arange(npix))\n",
    "    # Convert to RA, Dec.\n",
    "    radecs = astropy.coordinates.SkyCoord(\n",
    "        ra=phi*u.rad, dec=(0.5*np.pi - theta)*u.rad)\n",
    "\n",
    "    # Transform grid to alt/az coordinates at observatory, now\n",
    "    altaz = radecs.transform_to(frame)\n",
    "\n",
    "    # Where is the sun, now?\n",
    "    sun_altaz = astropy.coordinates.get_sun(time).transform_to(altaz)\n",
    "\n",
    "    # How likely is it that the (true, unknown) location of the source\n",
    "    # is within the area that is visible, now? Demand that sun is at\n",
    "    # least 18 degrees below the horizon and that the airmass\n",
    "    # (secant of zenith angle approximation) is at most 2.5.\n",
    "    prob = m[(sun_altaz.alt <= -18*u.deg) & (altaz.secz <= 2.5)].sum()\n",
    "\n",
    "    # Done!\n",
    "    return prob"
   ]
  },
  {
   "cell_type": "markdown",
   "metadata": {},
   "source": [
    "Finally, we need to update our GCN handler to call this function."
   ]
  },
  {
   "cell_type": "code",
   "execution_count": null,
   "metadata": {
    "collapsed": true
   },
   "outputs": [],
   "source": [
    "# Function to call every time a GCN is received.\n",
    "# Run only for notices of type LVC_INITIAL or LVC_UPDATE.\n",
    "@gcn.handlers.include_notice_types(\n",
    "    gcn.notice_types.LVC_INITIAL,\n",
    "    gcn.notice_types.LVC_UPDATE)\n",
    "def process_gcn(payload, root):\n",
    "    # Print the alert\n",
    "    print('Got VOEvent:')\n",
    "    print(payload)\n",
    "\n",
    "    # Respond only to 'test' events.\n",
    "    # VERY IMPORTANT! Replce with the following line of code\n",
    "    # to respond to only real 'observation' events.\n",
    "    # if root.attrib['role'] != 'observation': return\n",
    "    if root.attrib['role'] != 'test': return\n",
    "\n",
    "    # Respond only to 'CBC' events. Change 'CBC' to \"Burst' to respond to only\n",
    "    # unmodeled burst events.\n",
    "    if root.find(\"./What/Param[@name='Group']\").attrib['value'] != 'CBC': return\n",
    "\n",
    "    skymap, header = get_skymap(root)\n",
    "    prob = prob_observable(skymap, header)\n",
    "    print('Source has a %d%% chance of being observable now' % round(100 * prob))\n",
    "    if prob > 0.5:\n",
    "        pass # FIXME: perform some action"
   ]
  },
  {
   "cell_type": "markdown",
   "metadata": {},
   "source": [
    "Let's run the new GCN handler now..."
   ]
  },
  {
   "cell_type": "code",
   "execution_count": null,
   "metadata": {},
   "outputs": [],
   "source": [
    "# Listen for GCNs until the program is interrupted\n",
    "# (killed or interrupted with control-C).\n",
    "gcn.listen(port=8096, handler=process_gcn)"
   ]
  },
  {
   "cell_type": "markdown",
   "metadata": {},
   "source": [
    "## 7. Submitting observation coordinates to GraceDB\n",
    "\n",
    "Suppose you have performed some EM observations to follow up on a candidate GW event, and you now want to supply the coordinates of those observations to the LV-EM group.  The first step is to obtain a robotic access password from GraceDB and add it to a netrc file (see Section 2). One can then use the Python GraceDB client in order to submit a list of coordinates to GraceDB. To install the GraceDB client package:\n",
    "\n",
    "    $ pip install ligo-gracedb \n",
    "\n",
    "Note: It is highly recommended to install the GraceDB client (as well as other packages described used in this tutorial) inside a [virtual environment](https://virtualenv.pypa.io/en/latest/). This isolates the packages required for interacting with GraceDB from other packages on the system.\n",
    "Now that the GraceDB client is installed, one can use a script such as this to submit observation records to GraceDB:\n"
   ]
  },
  {
   "cell_type": "code",
   "execution_count": null,
   "metadata": {
    "collapsed": true
   },
   "outputs": [],
   "source": [
    "from ligo.gracedb.rest import GraceDbBasic, HTTPError\n",
    "\n",
    "service = 'https://gracedb.ligo.org/apibasic/'\n",
    "g = GraceDbBasic(service)\n",
    "\n",
    "graceid = 'T125706'\n",
    "raList = [45.0, 47.0, 49.0]\n",
    "raWidthList = 2.0\n",
    "decList = [45.0, 47.0, 49.0]\n",
    "decWidthList = 2.0\n",
    "startTimeList = ['2015-05-01T12:30:10.95', '2015-05-01T12:31:10.95', '2015-05-01T12:32:10.95']\n",
    "durationList = 100.0\n",
    "comment = 'Some text comment goes here. This is optional.'\n",
    "\n",
    "g.writeEMObservation(graceid, 'Test', raList, raWidthList,\n",
    "    decList, decWidthList, startTimeList, durationList, comment)"
   ]
  },
  {
   "cell_type": "markdown",
   "metadata": {},
   "source": [
    "In the above example, the lists of ra and dec values were chosen arbitrarily, as well as the start times and durations (or exposure times). Since the comma-separated lists have three elements, there will be three footprints associated with this observation. And since only one value was provided for the raWidth and decWidth, these widths will be assumed to apply to all three footprints.\n",
    "\n",
    "It is possible to create the same record using curl instead:\n",
    "\n",
    "    $ curl -X POST --netrc --data \"group=Test&raList=45,47,49&raWidthList=2&decList=45,47,49&decWidthList=2&startTimeList=2015-05-01T12:30:10.95,2015-05-01T12:31:10.95,2015-05-01T12:32:10.95&durationList=100,100,100\" https://gracedb.ligo.org/apibasic/events/T125706/emobservation/ \n",
    "\n",
    "However, the data argument in the above curl command is rather unwieldy--and this is only with three simple footprints. So using Python (as in the above code example) or your own favorite language and HTTP library is much preferred. We are also planning an email submission mechanism which may be eaiser for some users. \n"
   ]
  },
  {
   "cell_type": "markdown",
   "metadata": {},
   "source": [
    "# Appendix: Full example code"
   ]
  },
  {
   "cell_type": "markdown",
   "metadata": {},
   "source": [
    "Here is a complete, working GCN processing script. Copy it into a `.py` file and customize as needed."
   ]
  },
  {
   "cell_type": "code",
   "execution_count": null,
   "metadata": {},
   "outputs": [],
   "source": [
    "# Python standard library imports\n",
    "import tempfile\n",
    "import shutil\n",
    "import sys\n",
    "import glob\n",
    "\n",
    "\n",
    "# Third-party imports\n",
    "import gcn\n",
    "import gcn.handlers\n",
    "import gcn.notice_types\n",
    "import requests\n",
    "import healpy as hp\n",
    "import numpy as np\n",
    "import astropy.coordinates\n",
    "import astropy.time\n",
    "import astropy.units as u\n",
    "\n",
    "\n",
    "def get_skymap(root):\n",
    "    \"\"\"\n",
    "    Look up URL of sky map in VOEvent XML document,\n",
    "    download sky map, and parse FITS file.\n",
    "    \"\"\"\n",
    "    # Read out URL of sky map.\n",
    "    # This will be something like\n",
    "    # https://gracedb.ligo.org/apibasic/events/M131141/files/bayestar.fits.gz\n",
    "    skymap_url = root.find(\n",
    "        \"./What/Param[@name='SKYMAP_URL_FITS_BASIC']\").attrib['value']\n",
    "\n",
    "    # Send HTTP request for sky map\n",
    "    response = requests.get(skymap_url, stream=True)\n",
    "\n",
    "    # Uncomment to save VOEvent payload to file\n",
    "    # open('example.xml', 'w').write(payload)\n",
    "\n",
    "    # Raise an exception unless the download succeeded (HTTP 200 OK)\n",
    "    response.raise_for_status()\n",
    "\n",
    "    # Create a temporary file to store the downloaded FITS file\n",
    "    with tempfile.NamedTemporaryFile() as tmpfile:\n",
    "        # Save the FITS file to the temporary file\n",
    "        shutil.copyfileobj(response.raw, tmpfile)\n",
    "        tmpfile.flush()\n",
    "\n",
    "        # Uncomment to save FITS payload to file\n",
    "        # shutil.copyfileobj(reponse.raw, open('example.fits.gz', 'wb'))\n",
    "\n",
    "        # Read HEALPix data from the temporary file\n",
    "        skymap, header = hp.read_map(tmpfile.name, h=True, verbose=False)\n",
    "        header = dict(header)\n",
    "\n",
    "    # Done!\n",
    "    return skymap, header\n",
    "\n",
    "\n",
    "def prob_observable(m, header):\n",
    "    \"\"\"\n",
    "    Determine the integrated probability contained in a gravitational-wave\n",
    "    sky map that is observable from a particular ground-based site at a\n",
    "    particular time.\n",
    "\n",
    "    Bonus: make a plot of probability versus UTC time!\n",
    "    \"\"\"\n",
    "\n",
    "    # Determine resolution of sky map\n",
    "    npix = len(m)\n",
    "    nside = hp.npix2nside(npix)\n",
    "\n",
    "    # Get time now\n",
    "    time = astropy.time.Time.now()\n",
    "    # Or at the time of the gravitational-wave event...\n",
    "    # time = astropy.time.Time(header['MJD-OBS'], format='mjd')\n",
    "    # Or at a particular time...\n",
    "    # time = astropy.time.Time('2015-03-01 13:55:27')\n",
    "\n",
    "    # Geodetic coordinates of observatory (example here: Mount Wilson)\n",
    "    observatory = astropy.coordinates.EarthLocation(\n",
    "        lat=34.2247*u.deg, lon=-118.0572*u.deg, height=1742*u.m)\n",
    "\n",
    "    # Alt/az reference frame at observatory, now\n",
    "    frame = astropy.coordinates.AltAz(obstime=time, location=observatory)\n",
    "\n",
    "    # Look up (celestial) spherical polar coordinates of HEALPix grid.\n",
    "    theta, phi = hp.pix2ang(nside, np.arange(npix))\n",
    "    # Convert to RA, Dec.\n",
    "    radecs = astropy.coordinates.SkyCoord(\n",
    "        ra=phi*u.rad, dec=(0.5*np.pi - theta)*u.rad)\n",
    "\n",
    "    # Transform grid to alt/az coordinates at observatory, now\n",
    "    altaz = radecs.transform_to(frame)\n",
    "\n",
    "    # Where is the sun, now?\n",
    "    sun_altaz = astropy.coordinates.get_sun(time).transform_to(altaz)\n",
    "\n",
    "    # How likely is it that the (true, unknown) location of the source\n",
    "    # is within the area that is visible, now? Demand that sun is at\n",
    "    # least 18 degrees below the horizon and that the airmass\n",
    "    # (secant of zenith angle approximation) is at most 2.5.\n",
    "    prob = m[(sun_altaz.alt <= -18*u.deg) & (altaz.secz <= 2.5)].sum()\n",
    "\n",
    "    # Done!\n",
    "    return prob\n",
    "\n",
    "\n",
    "# Function to call every time a GCN is received.\n",
    "# Run only for notices of type LVC_INITIAL or LVC_UPDATE.\n",
    "@gcn.handlers.include_notice_types(\n",
    "    gcn.notice_types.LVC_INITIAL,\n",
    "    gcn.notice_types.LVC_UPDATE)\n",
    "def process_gcn(payload, root):\n",
    "    # Print the alert\n",
    "    print('Got VOEvent:')\n",
    "    print(payload)\n",
    "\n",
    "    # Respond only to 'test' events.\n",
    "    # VERY IMPORTANT! Replce with the following line of code\n",
    "    # to respond to only real 'observation' events.\n",
    "    # if root.attrib['role'] != 'observation': return\n",
    "    if root.attrib['role'] != 'test': return\n",
    "\n",
    "    # Respond only to 'CBC' events. Change 'CBC' to \"Burst' to respond to only\n",
    "    # unmodeled burst events.\n",
    "    if root.find(\"./What/Param[@name='Group']\").attrib['value'] != 'CBC': return\n",
    "\n",
    "    skymap, header = get_skymap(root)\n",
    "    prob = prob_observable(skymap, header)\n",
    "    print('Source has a %d%% chance of being observable now' % round(100 * prob))\n",
    "    if prob > 0.5:\n",
    "        pass # FIXME: perform some action\n",
    "\n",
    "\n",
    "# Listen for GCNs until the program is interrupted\n",
    "# (killed or interrupted with control-C).\n",
    "gcn.listen(port=8096, handler=process_gcn)"
   ]
  }
 ],
 "metadata": {
  "kernelspec": {
   "display_name": "Python 3 (ipykernel)",
   "language": "python",
   "name": "python3"
  },
  "language_info": {
   "codemirror_mode": {
    "name": "ipython",
    "version": 3
   },
   "file_extension": ".py",
   "mimetype": "text/x-python",
   "name": "python",
   "nbconvert_exporter": "python",
   "pygments_lexer": "ipython3",
   "version": "3.11.5"
  }
 },
 "nbformat": 4,
 "nbformat_minor": 2
}
