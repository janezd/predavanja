{
 "cells": [
  {
   "cell_type": "markdown",
   "metadata": {},
   "source": [
    "## Štoparica\n",
    "\n",
    "Tule je koda za štoparico:"
   ]
  },
  {
   "cell_type": "code",
   "execution_count": 2,
   "metadata": {},
   "outputs": [],
   "source": [
    "import time\n",
    "\n",
    "class Stoparica:\n",
    "    def __init__(self):\n",
    "        self.zacetek = time.process_time()\n",
    "        \n",
    "    def cas(self):\n",
    "        return time.process_time() - self.zacetek"
   ]
  },
  {
   "cell_type": "markdown",
   "metadata": {},
   "source": [
    "Uporabljamo jo tako, da pokličemo `t = Stoparica()`. Potem bo klic `t.cas()` povedal, koliko časa je minilo od klica `t = Stoparica()`.\n",
    "\n",
    "### Naloge\n",
    " \n",
    "1. Sprogramiraj funkcijo `bisekcija(s, x)`, ki pove, ali seznam `s` vsebuje `x` ali ne. Seznam `s` je urejen in funkcija, kot pove ime, išče z bisekcijo. Funkcijo sprogramiraj dvakrat\n",
    "\n",
    "    - rekurzivno (tako, da v rekurzivnem klicu kot argument uporabi levo ali desno polovico seznama)\n",
    "    - nerekurzivno (tako, da spreminja meji `od` in `do`), ki predstavljata zgornjo in spodnjo mejo aktualnega intervala, pri čemer je spodnja meja vključena in zgornja ne.\n",
    "\n",
    "    Obe funkciji preskusiš, ali znata najti vse elemente seznama (predvsem sta zanimiva, seveda, prvi in zadnji).\n",
    "\n",
    "2. Izmeri čas izvajanja obeh funkcij pri kakih primerno velikih tabelah. Morda se bosta funkciji bistveno razlikovali po hitrosti, zato ju boš moral(a) preizkušati na bistveno različno velikih tabelah.\n",
    "\n",
    "    Čas izvajanja je najpreprosteje meriti tako, da sestaviš tabelo števil od 1 do n (`list(range(n))`) in tisočkrat pokličeš bisekcijo z različnimi naključnimoi števili med `1` in `n`.\n",
    "\n",
    "3. Nariši grafa s časovnimi zahtevnostmi. Izvesti moraš tole kodo (prva vrstica pove Jupytru, da želiš grafe gledati znotraj brskalnika, druga pa uvozi funkcijo `plot`):\n",
    "\n",
    "    ```\n",
    "    %matplotlib inline\n",
    "    from matplotlib.pyplot import pyplot\n",
    "    ```\n",
    "\n",
    "    Potem pa kličeš\n",
    "\n",
    "    ```python\n",
    "    plot(x, y)\n",
    "    ```\n",
    "\n",
    "    kjer so `x` in `y` pač koordinata točk krivulje.\n",
    "\n",
    "4. Spremeni nerekurzivno bisekcijo tako, da vrača indeks elementa oz. indeks, kjer bi bil element, če bi bil v seznamu (tako kot smo naredili med predavanji).\n",
    "\n",
    "5. Napiši funkcijo `vstavi(s, x)`, ki v urejen seznam `s` vstavi `x` na ustrezno mesto. Preskusi, ali pravilno deluje tudi vstavljanje na začetek, na konec in v prazen seznam.\n",
    "\n",
    "6. Napiši urejanje z bisekcijo. Konkretno, napiši metodo `urejen(s)`, ki prejme neurejen seznam `s` in naredi tole: sestavi nov seznam `t`. V ta seznam enega za drugim vstavlja elemente `s`-a s pomočjo vstavljanja z bisekcijo. Nato vrne `t`. `t`, ki ga dobimo s tem postopkom, mora biti seveda urejen, ker funkcija `vstavi(s, x)` vedno vstavlja tja, kamor je treba.\n",
    "\n",
    "7. Razmisli - ali pa izmeri - kakšna je časovna zahtevnost tega urejanja."
   ]
  }
 ],
 "metadata": {
  "kernelspec": {
   "display_name": "Python 3 (ipykernel)",
   "language": "python",
   "name": "python3"
  },
  "language_info": {
   "codemirror_mode": {
    "name": "ipython",
    "version": 3
   },
   "file_extension": ".py",
   "mimetype": "text/x-python",
   "name": "python",
   "nbconvert_exporter": "python",
   "pygments_lexer": "ipython3",
   "version": "3.11.5"
  }
 },
 "nbformat": 4,
 "nbformat_minor": 4
}
