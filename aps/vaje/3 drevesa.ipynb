{
 "cells": [
  {
   "cell_type": "markdown",
   "metadata": {},
   "source": [
    "Dopolni kodo, tako, da bo delovalo vstavljanje, iskanje in izpisovanje.\n",
    "\n",
    "Izpis je lahko \"lep\", v obliki prevrnjenega drevesa, lahko pa preprosto izpiše imena po abecedi."
   ]
  },
  {
   "cell_type": "code",
   "execution_count": null,
   "metadata": {},
   "outputs": [],
   "source": [
    "class Element:\n",
    "    def __init__(self, data, left=None, right=None):\n",
    "        self.data = data\n",
    "        self.left = left\n",
    "        self.right = right\n",
    "\n",
    "    def __str__(self):\n",
    "        return self.data\n",
    "\n",
    "    __repr__ = __str__\n",
    "    \n",
    "    \n",
    "class Tree:\n",
    "    def __init__(self):\n",
    "        self.root = None\n",
    "        self.length = 0\n",
    "        \n",
    "    def insert(self, data):\n",
    "        ...\n",
    "        \n",
    "    def printout(self):\n",
    "        ...\n",
    "        \n",
    "\n",
    "    def find(self, data):\n",
    "        # vrne vozlišče, ki vsebuje `data`; če ga ni, pa vrne `None`.\n",
    "        ...\n",
    "        \n",
    "        \n",
    "imena = [\"Ana\", \"Berta\", \"Cilka\", \"Dani\", \"Ema\", \"Fanči\",\n",
    "    \"Greta\", \"Helga\", \"Iva\", \"Jana\", \"Klara\", \"Lara\",\n",
    "    \"Micka\", \"Nina\", \"Olga\"]\n",
    "\n",
    "import random\n",
    "random.shuffle(imena)\n",
    "\n",
    "t = Tree()\n",
    "for ime in imena:\n",
    "    t.insert(ime)\n",
    "    \n",
    "t.printout()\n",
    "\n",
    "print(t.find(\"Cilka\"))  # izpiše Cilka\n",
    "print(t.find(\"Marija\"))  # izpiše None"
   ]
  }
 ],
 "metadata": {
  "kernelspec": {
   "display_name": "Python 3",
   "language": "python",
   "name": "python3"
  },
  "language_info": {
   "codemirror_mode": {
    "name": "ipython",
    "version": 3
   },
   "file_extension": ".py",
   "mimetype": "text/x-python",
   "name": "python",
   "nbconvert_exporter": "python",
   "pygments_lexer": "ipython3",
   "version": "3.7.4"
  }
 },
 "nbformat": 4,
 "nbformat_minor": 4
}
