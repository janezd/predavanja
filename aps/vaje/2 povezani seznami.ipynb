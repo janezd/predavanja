{
 "cells": [
  {
   "cell_type": "markdown",
   "metadata": {},
   "source": [
    "Imamo takšenle razred, ki predstavlja `Osebo`."
   ]
  },
  {
   "cell_type": "code",
   "execution_count": 1,
   "metadata": {},
   "outputs": [],
   "source": [
    "class Oseba:\n",
    "    def __init__(self, ime, prejsnji=None, naslednji=None):\n",
    "        self.ime = ime\n",
    "        self.prejsnji = prejsnji\n",
    "        self.naslednji = naslednji\n",
    "\n",
    "    def __str__(self):\n",
    "        return self.ime\n",
    "\n",
    "    __repr__ = __str__"
   ]
  },
  {
   "cell_type": "markdown",
   "metadata": {},
   "source": [
    "Kaj dela konstruktor, veš. Kaj delata `__str__` in `__repr__`, ni pomembno (olepšata izpis).\n",
    "\n",
    "## Enojno povezani seznami\n",
    "\n",
    "Seznam sestavimo z \n",
    "\n",
    "```python\n",
    "ana = Oseba(\"Ana\")\n",
    "berta = Oseba(\"Berta\")\n",
    "cilka = Oseba(\"Cilka\")\n",
    "dani = Oseba(\"Dani\")\n",
    "ema = Oseba(\"Ema\")\n",
    "\n",
    "prvi = ana\n",
    "dodaj(ana, berta)\n",
    "dodaj(berta, cilka)\n",
    "dodaj(cilka, dani)\n",
    "dodaj(dani, ema)\n",
    "\n",
    "izpisi(prvi)\n",
    "print(dolzina(prvi))\n",
    "```\n",
    "\n",
    "Ceneta vrinemo z \n",
    "\n",
    "```python\n",
    "cene = Oseba(\"Cene\")\n",
    "dodaj(berta, cene)\n",
    "izpisi(prvi)\n",
    "```\n",
    "\n",
    "Tvoja naloga je poskrbeti, da bo vse to delovalo.\n",
    "\n",
    "Najprej napiši funkcije\n",
    "\n",
    "- `izpisi(prvi)`\n",
    "- `dodaj(za_kom, koga)` (pri čemer ignoriraš povezave nazaj),\n",
    "- `dolzina(prvi)`, ki vrne dolžino seznam.\n",
    "\n",
    "Da funkciji delujeta pravilno, preveriš tako, da poženeš gornjo kodo.\n",
    "\n",
    "## Dvojno povezan seznam\n",
    "\n",
    "Napiši funkcijo\n",
    "\n",
    "- `pobrisi(koga)`\n",
    "- `izpisi_nazaj(zadnji)`, ki izpiše seznam v obratnem vrstnem redu, pri čemer \"vemo\", kdo je zadnji (npr. `zadnji = ema`).\n",
    "\n",
    "Za to bo potrebno poskrbeti, da bodo elementi povezani tudi nazaj, torej popraviti tudi že obstoječi `dodaj`.\n",
    "\n",
    "Ali vse deluje, preveriš tako, da gornje nadaljuješ z\n",
    "\n",
    "```python\n",
    "pobrisi(cene)\n",
    "izpisi(prvi)\n",
    "izpisi_nazaj(ema)\n",
    "```\n",
    "\n",
    "## Bolj ena žalost\n",
    "\n",
    "Napiši funkcijo\n",
    "\n",
    "- `i_ti(prvi, i)`, ki vrne i-ti element seznama. `i_ti(prvi, 2)` tako vrne `cilka`.\n",
    "\n",
    "## Za zabavo\n",
    "\n",
    "Napiši funkcijo\n",
    "\n",
    "- `obrni(zadnji)`, ki sestavi obrnjeni seznam in vrne njegov prvi element.\n",
    "\n",
    "Za še večjo zabavo: naredi to vajo z enojno povezanim seznamom, torej takšnim, v katerem elementi ne poznajo svojega predhodnika. (V odvisnosti od tega, kako se lotiš, lahko ta naloga ni nič težja od prejšnje.)"
   ]
  },
  {
   "cell_type": "code",
   "execution_count": null,
   "metadata": {},
   "outputs": [],
   "source": []
  }
 ],
 "metadata": {
  "kernelspec": {
   "display_name": "Python 3",
   "language": "python",
   "name": "python3"
  },
  "language_info": {
   "codemirror_mode": {
    "name": "ipython",
    "version": 3
   },
   "file_extension": ".py",
   "mimetype": "text/x-python",
   "name": "python",
   "nbconvert_exporter": "python",
   "pygments_lexer": "ipython3",
   "version": "3.7.4"
  }
 },
 "nbformat": 4,
 "nbformat_minor": 4
}
