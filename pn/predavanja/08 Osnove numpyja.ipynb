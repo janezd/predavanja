{
 "cells": [
  {
   "cell_type": "markdown",
   "id": "2c84f94e",
   "metadata": {},
   "source": [
    "# Osnove `numpy`-ja\n",
    "\n",
    "Osnovni element - osnovni podatkovni tip - v `numpy`-ju je tabela (`array`). Ta je nekoliko podobna Pythonovemu seznamu. (V slovenščini mu nekaterimi pravimo *seznam*, ker je njegovo uradno angleško ime `list`, drugi pa to slovenijo v *tabela*, ker bi bilo to ime iz določenih razlogov dejansko boljše. Tu pa nam pride prav, da je ime *tabela* še nezasedeno in ga lahko uporabimo za `numpy`-jeve *array*-e.)\n",
    "\n",
    "Med numpyjevimi tabelami in Pythonovimi seznami je več pomembnih razlik. Za prvo srečanje z numpyjem se bomo posvetili dvema: razlikam v načinu indeksiranja in razlikam med tem, kako nanju delujejo različne operacije.\n",
    "\n",
    "Pripravimo si dva seznama v Pythonu."
   ]
  },
  {
   "cell_type": "code",
   "execution_count": 1,
   "id": "710fee04",
   "metadata": {},
   "outputs": [],
   "source": [
    "p = [3, 8, 9, 2]\n",
    "r = [8, 0, 1, -3]"
   ]
  },
  {
   "cell_type": "markdown",
   "id": "4418177b",
   "metadata": {},
   "source": [
    "Z indeksiranjem lahko pridemo do posamičnih elementov. Indeksi morajo biti seveda cela števila (`int`)."
   ]
  },
  {
   "cell_type": "code",
   "execution_count": 2,
   "id": "0516fd1d",
   "metadata": {},
   "outputs": [
    {
     "data": {
      "text/plain": [
       "9"
      ]
     },
     "execution_count": 2,
     "metadata": {},
     "output_type": "execute_result"
    }
   ],
   "source": [
    "p[2]"
   ]
  },
  {
   "cell_type": "markdown",
   "id": "8e85085b",
   "metadata": {},
   "source": [
    "Sezname lahko tudi \"seštevamo\". Besedo *seštevanje* pravzaprav uporabljamo zgolj zato, ker uporabimo operator `+`. V resnici ne gre za seštevanje (v matematičnem pomenu), temveč za *stikanje*."
   ]
  },
  {
   "cell_type": "code",
   "execution_count": 3,
   "id": "c842451c",
   "metadata": {},
   "outputs": [
    {
     "data": {
      "text/plain": [
       "[3, 8, 9, 2, 8, 0, 1, -3]"
      ]
     },
     "execution_count": 3,
     "metadata": {},
     "output_type": "execute_result"
    }
   ],
   "source": [
    "p + r"
   ]
  },
  {
   "cell_type": "markdown",
   "id": "397953dc",
   "metadata": {},
   "source": [
    "Ker `+` v resnici ni seštevanje, odštevanje seznamov nima nobenega smisla."
   ]
  },
  {
   "cell_type": "code",
   "execution_count": 4,
   "id": "42533740",
   "metadata": {},
   "outputs": [
    {
     "ename": "TypeError",
     "evalue": "unsupported operand type(s) for -: 'list' and 'list'",
     "output_type": "error",
     "traceback": [
      "\u001b[0;31m---------------------------------------------------------------------------\u001b[0m",
      "\u001b[0;31mTypeError\u001b[0m                                 Traceback (most recent call last)",
      "Cell \u001b[0;32mIn[4], line 1\u001b[0m\n\u001b[0;32m----> 1\u001b[0m p \u001b[38;5;241m-\u001b[39m r\n",
      "\u001b[0;31mTypeError\u001b[0m: unsupported operand type(s) for -: 'list' and 'list'"
     ]
    }
   ],
   "source": [
    "p - r"
   ]
  },
  {
   "cell_type": "markdown",
   "id": "1490251e",
   "metadata": {},
   "source": [
    "Prav tako nima smisla k seznamu prišteti 1, saj ne moremo stakniti seznama in števila."
   ]
  },
  {
   "cell_type": "code",
   "execution_count": 5,
   "id": "c9167106",
   "metadata": {},
   "outputs": [
    {
     "ename": "TypeError",
     "evalue": "can only concatenate list (not \"int\") to list",
     "output_type": "error",
     "traceback": [
      "\u001b[0;31m---------------------------------------------------------------------------\u001b[0m",
      "\u001b[0;31mTypeError\u001b[0m                                 Traceback (most recent call last)",
      "Cell \u001b[0;32mIn[5], line 1\u001b[0m\n\u001b[0;32m----> 1\u001b[0m p \u001b[38;5;241m+\u001b[39m \u001b[38;5;241m1\u001b[39m\n",
      "\u001b[0;31mTypeError\u001b[0m: can only concatenate list (not \"int\") to list"
     ]
    }
   ],
   "source": [
    "p + 1"
   ]
  },
  {
   "cell_type": "markdown",
   "id": "573b9b32",
   "metadata": {},
   "source": [
    "Pač pa lahko seznam pomnožimo s celim številom; rezultat je tak, kot da bi seznam tolikokrat sešteli."
   ]
  },
  {
   "cell_type": "code",
   "execution_count": 6,
   "id": "d9f09044",
   "metadata": {},
   "outputs": [
    {
     "data": {
      "text/plain": [
       "[3, 8, 9, 2, 3, 8, 9, 2, 3, 8, 9, 2]"
      ]
     },
     "execution_count": 6,
     "metadata": {},
     "output_type": "execute_result"
    }
   ],
   "source": [
    "p * 3"
   ]
  },
  {
   "cell_type": "markdown",
   "id": "3d665b34",
   "metadata": {},
   "source": [
    "## Uvažanje modula `numpy`\n",
    "\n",
    "Če hočemo modul uporabiti, ga moramo najprej uvoziti. Modula `numpy` navadno ne uvažamo z `import numpy`, ker bomo njegove funkcije uporabljali tako pogosto, da bi bil ves program poln `numpy.` -- ime `numpy` je preprosto predolgo. Po drugi strani ne uvažamo posamičnih funkcij `from numpy import hstack, sum, max`, ker tipično potrebujemo preveč različnih funkcij, poleg tega pa imajo nekatere enaka imena kot vdelane Pythonove funkcije (na primer `sum` in `max`; funkcije, uvožene iz `numpy` bi jih izpodrinile in povzročile težave, saj pričakujejo drugačne podatke, delajo malo drugače in vračajo drugačne rezultate kot Pythonove.\n",
    "\n",
    "`numpy` zato običajno uvozimo z"
   ]
  },
  {
   "cell_type": "code",
   "execution_count": 8,
   "id": "f6b51860",
   "metadata": {},
   "outputs": [],
   "source": [
    "import numpy as np"
   ]
  },
  {
   "cell_type": "markdown",
   "id": "f9eb829a",
   "metadata": {},
   "source": [
    "To uvozi modul, vendar ga potem ne vidimo pod imenom `numpy`, temveč pod krajšim, prijaznejšim imenom `np`.\n",
    "\n",
    "Zdaj pa naredimo dve tabeli. Najpreprosteje bo poklicati funkcijo `array` in ji podati seznam elementov."
   ]
  },
  {
   "cell_type": "code",
   "execution_count": 9,
   "id": "258790a7",
   "metadata": {},
   "outputs": [],
   "source": [
    "a = np.array([3, 8, 9, 2])\n",
    "b = np.array([8, 0, 1, -3])"
   ]
  },
  {
   "cell_type": "markdown",
   "id": "a2fcde53",
   "metadata": {},
   "source": [
    "Tako."
   ]
  },
  {
   "cell_type": "code",
   "execution_count": 10,
   "id": "bc9f91ee",
   "metadata": {},
   "outputs": [
    {
     "data": {
      "text/plain": [
       "array([3, 8, 9, 2])"
      ]
     },
     "execution_count": 10,
     "metadata": {},
     "output_type": "execute_result"
    }
   ],
   "source": [
    "a"
   ]
  },
  {
   "cell_type": "markdown",
   "id": "0fd51a62",
   "metadata": {},
   "source": [
    "### Indeksiranje tabel\n",
    "\n",
    "Tabele indeksiramo tako kot sezname. Z indeksi, ki morajo biti cela števila."
   ]
  },
  {
   "cell_type": "code",
   "execution_count": 11,
   "id": "31871c97",
   "metadata": {},
   "outputs": [
    {
     "data": {
      "text/plain": [
       "9"
      ]
     },
     "execution_count": 11,
     "metadata": {},
     "output_type": "execute_result"
    }
   ],
   "source": [
    "a[2]"
   ]
  },
  {
   "cell_type": "markdown",
   "id": "a3ef1136",
   "metadata": {},
   "source": [
    "Delujejo tudi rezine in vse, kar smo se naučili v zvezi z njimi."
   ]
  },
  {
   "cell_type": "code",
   "execution_count": 12,
   "id": "cbed86a4",
   "metadata": {},
   "outputs": [
    {
     "data": {
      "text/plain": [
       "array([9, 2])"
      ]
     },
     "execution_count": 12,
     "metadata": {},
     "output_type": "execute_result"
    }
   ],
   "source": [
    "a[2:4]"
   ]
  },
  {
   "cell_type": "code",
   "execution_count": 13,
   "id": "c6a77fb7",
   "metadata": {},
   "outputs": [
    {
     "data": {
      "text/plain": [
       "array([8, 9, 2])"
      ]
     },
     "execution_count": 13,
     "metadata": {},
     "output_type": "execute_result"
    }
   ],
   "source": [
    "a[1:]"
   ]
  },
  {
   "cell_type": "code",
   "execution_count": 14,
   "id": "0cc89ff0",
   "metadata": {},
   "outputs": [
    {
     "data": {
      "text/plain": [
       "array([3, 8, 9])"
      ]
     },
     "execution_count": 14,
     "metadata": {},
     "output_type": "execute_result"
    }
   ],
   "source": [
    "a[:-1]"
   ]
  },
  {
   "cell_type": "markdown",
   "id": "e847b07e",
   "metadata": {},
   "source": [
    "Prva razlika primerjavi s seznami: če potrebujemo več elementov, lahko podamo več indeksov. Ne kar tako, da jih naštejemo (s tem bomo dosegli nekaj drugega), temveč tako, da kot indeks podamo seznam ali tabelo indeksov.\n",
    "\n",
    "Če imamo torej"
   ]
  },
  {
   "cell_type": "code",
   "execution_count": 15,
   "id": "62abda04",
   "metadata": {},
   "outputs": [
    {
     "data": {
      "text/plain": [
       "array([3, 8, 9, 2])"
      ]
     },
     "execution_count": 15,
     "metadata": {},
     "output_type": "execute_result"
    }
   ],
   "source": [
    "a"
   ]
  },
  {
   "cell_type": "markdown",
   "id": "d13a9115",
   "metadata": {},
   "source": [
    "je"
   ]
  },
  {
   "cell_type": "code",
   "execution_count": 16,
   "id": "6a6cb37f",
   "metadata": {},
   "outputs": [
    {
     "data": {
      "text/plain": [
       "array([9, 3, 8, 3, 3, 8])"
      ]
     },
     "execution_count": 16,
     "metadata": {},
     "output_type": "execute_result"
    }
   ],
   "source": [
    "a[[2, 0, 1, 0, 0, 1]]"
   ]
  },
  {
   "cell_type": "markdown",
   "id": "07adab0b",
   "metadata": {},
   "source": [
    "tabela, ki vsebuje drugi, ničti, prvi, potem še dvakrat ničti in spet prvi element tabele `a`.\n",
    "\n",
    "Namesto seznama `int`-ov, lahko podamo seznam (ali tabelo) `bool`-ov. Ta seznam mora biti enako dolg kot tabela, ki jo indeksiramo, saj pove, katere elemente bi radi in katerih ne. Takole, recimo, dobimo prvi in zadnji element tabele:"
   ]
  },
  {
   "cell_type": "code",
   "execution_count": 17,
   "id": "52481903",
   "metadata": {},
   "outputs": [
    {
     "data": {
      "text/plain": [
       "array([3, 2])"
      ]
     },
     "execution_count": 17,
     "metadata": {},
     "output_type": "execute_result"
    }
   ],
   "source": [
    "a[[True, False, False, True]]"
   ]
  },
  {
   "cell_type": "markdown",
   "id": "8e293514",
   "metadata": {},
   "source": [
    "Oboje - predvsem zadnje - je videti ... ne preveč uporabno. V resnici bo fenomenalno uporabno. Počakajmo na primer."
   ]
  },
  {
   "cell_type": "markdown",
   "id": "f68c9f3d",
   "metadata": {},
   "source": [
    "## Operacije nad tabelami\n",
    "\n",
    "Imamo torej"
   ]
  },
  {
   "cell_type": "code",
   "execution_count": 18,
   "id": "14680108",
   "metadata": {},
   "outputs": [
    {
     "data": {
      "text/plain": [
       "array([3, 8, 9, 2])"
      ]
     },
     "execution_count": 18,
     "metadata": {},
     "output_type": "execute_result"
    }
   ],
   "source": [
    "a"
   ]
  },
  {
   "cell_type": "code",
   "execution_count": 19,
   "id": "64d0c9d6",
   "metadata": {},
   "outputs": [
    {
     "data": {
      "text/plain": [
       "array([ 8,  0,  1, -3])"
      ]
     },
     "execution_count": 19,
     "metadata": {},
     "output_type": "execute_result"
    }
   ],
   "source": [
    "b"
   ]
  },
  {
   "cell_type": "markdown",
   "id": "52d8a7fb",
   "metadata": {},
   "source": [
    "Seštejmo ju."
   ]
  },
  {
   "cell_type": "code",
   "execution_count": 20,
   "id": "374a7f20",
   "metadata": {},
   "outputs": [
    {
     "data": {
      "text/plain": [
       "array([11,  8, 10, -1])"
      ]
     },
     "execution_count": 20,
     "metadata": {},
     "output_type": "execute_result"
    }
   ],
   "source": [
    "a + b"
   ]
  },
  {
   "cell_type": "markdown",
   "id": "448c84b1",
   "metadata": {},
   "source": [
    "Da, to je v resnici seštevanje. Potemtakem lahko tudi v resnici odštevamo."
   ]
  },
  {
   "cell_type": "code",
   "execution_count": 21,
   "id": "dffb8b44",
   "metadata": {},
   "outputs": [
    {
     "data": {
      "text/plain": [
       "array([-5,  8,  8,  5])"
      ]
     },
     "execution_count": 21,
     "metadata": {},
     "output_type": "execute_result"
    }
   ],
   "source": [
    "a - b"
   ]
  },
  {
   "cell_type": "markdown",
   "id": "39ac3987",
   "metadata": {},
   "source": [
    "In množimo."
   ]
  },
  {
   "cell_type": "code",
   "execution_count": 22,
   "id": "d2a419b0",
   "metadata": {},
   "outputs": [
    {
     "data": {
      "text/plain": [
       "array([24,  0,  9, -6])"
      ]
     },
     "execution_count": 22,
     "metadata": {},
     "output_type": "execute_result"
    }
   ],
   "source": [
    "a * b"
   ]
  },
  {
   "cell_type": "markdown",
   "id": "c567f174",
   "metadata": {},
   "source": [
    "Vse operacije nad tabelami, delujejo po elementih. `+`, `-`, `*` ... vsaka operacija se izvede na vsakem elementu posebej. Zato lahko tabele množimo tudi s števili, jim prištevamo števila..."
   ]
  },
  {
   "cell_type": "code",
   "execution_count": 23,
   "id": "c1ee770d",
   "metadata": {},
   "outputs": [
    {
     "data": {
      "text/plain": [
       "array([3, 8, 9, 2])"
      ]
     },
     "execution_count": 23,
     "metadata": {},
     "output_type": "execute_result"
    }
   ],
   "source": [
    "a"
   ]
  },
  {
   "cell_type": "code",
   "execution_count": 24,
   "id": "90dbe533",
   "metadata": {},
   "outputs": [
    {
     "data": {
      "text/plain": [
       "array([ 4,  9, 10,  3])"
      ]
     },
     "execution_count": 24,
     "metadata": {},
     "output_type": "execute_result"
    }
   ],
   "source": [
    "a + 1"
   ]
  },
  {
   "cell_type": "code",
   "execution_count": 25,
   "id": "e9adeeb4",
   "metadata": {},
   "outputs": [
    {
     "data": {
      "text/plain": [
       "array([ 7.5, 20. , 22.5,  5. ])"
      ]
     },
     "execution_count": 25,
     "metadata": {},
     "output_type": "execute_result"
    }
   ],
   "source": [
    "a * 2.5"
   ]
  },
  {
   "cell_type": "code",
   "execution_count": 26,
   "id": "7e4cf610",
   "metadata": {},
   "outputs": [
    {
     "data": {
      "text/plain": [
       "array([  1,   2,   4,   8,  16,  32,  64, 128, 256, 512])"
      ]
     },
     "execution_count": 26,
     "metadata": {},
     "output_type": "execute_result"
    }
   ],
   "source": [
    "np.array([2]) ** range(10)"
   ]
  },
  {
   "cell_type": "markdown",
   "id": "f1a840ac",
   "metadata": {},
   "source": [
    "Še več. Celo operacije, kot so `<` delujejo nad posameznimi elementi."
   ]
  },
  {
   "cell_type": "code",
   "execution_count": 27,
   "id": "bc455df3",
   "metadata": {},
   "outputs": [
    {
     "data": {
      "text/plain": [
       "array([ 8,  0,  1, -3])"
      ]
     },
     "execution_count": 27,
     "metadata": {},
     "output_type": "execute_result"
    }
   ],
   "source": [
    "b"
   ]
  },
  {
   "cell_type": "code",
   "execution_count": 28,
   "id": "2ca06f9f",
   "metadata": {},
   "outputs": [
    {
     "data": {
      "text/plain": [
       "array([ True, False,  True, False])"
      ]
     },
     "execution_count": 28,
     "metadata": {},
     "output_type": "execute_result"
    }
   ],
   "source": [
    "b > 0"
   ]
  },
  {
   "cell_type": "markdown",
   "id": "88d12941",
   "metadata": {},
   "source": [
    "Pa funkcije tudi!"
   ]
  },
  {
   "cell_type": "code",
   "execution_count": 29,
   "id": "619a434b",
   "metadata": {},
   "outputs": [
    {
     "data": {
      "text/plain": [
       "array([8, 0, 1, 3])"
      ]
     },
     "execution_count": 29,
     "metadata": {},
     "output_type": "execute_result"
    }
   ],
   "source": [
    "np.abs(b)"
   ]
  },
  {
   "cell_type": "code",
   "execution_count": 30,
   "id": "a95a9c05",
   "metadata": {},
   "outputs": [
    {
     "data": {
      "text/plain": [
       "array([1.73205081, 2.82842712, 3.        , 1.41421356])"
      ]
     },
     "execution_count": 30,
     "metadata": {},
     "output_type": "execute_result"
    }
   ],
   "source": [
    "np.sqrt(a)"
   ]
  },
  {
   "cell_type": "markdown",
   "id": "8b3920d6",
   "metadata": {},
   "source": [
    "Kjer je to smiselno, jasno. Funkcije, kot so `sum` in `max` bodo seveda seštevale in množile."
   ]
  },
  {
   "cell_type": "code",
   "execution_count": 31,
   "id": "e4bca5cd",
   "metadata": {},
   "outputs": [
    {
     "data": {
      "text/plain": [
       "22"
      ]
     },
     "execution_count": 31,
     "metadata": {},
     "output_type": "execute_result"
    }
   ],
   "source": [
    "np.sum(a)"
   ]
  },
  {
   "cell_type": "code",
   "execution_count": 32,
   "id": "13d14eaa",
   "metadata": {},
   "outputs": [
    {
     "data": {
      "text/plain": [
       "9"
      ]
     },
     "execution_count": 32,
     "metadata": {},
     "output_type": "execute_result"
    }
   ],
   "source": [
    "np.max(a)"
   ]
  },
  {
   "cell_type": "markdown",
   "id": "524e4da4",
   "metadata": {},
   "source": [
    "Tule smo uporabljali `numpy`-jeve funkcije `abs`, `sqrt`, `sum` in `max`. Namesto nekaterih od njih bi lahko uporabili tudi Pythonove funkcije. `sum` zna seštevati, kar jima pride pod roko (točneje: vse, čez kar lahko nažene zanko `for`), pa tudi `max` in `min` nista izbirčna."
   ]
  },
  {
   "cell_type": "code",
   "execution_count": 33,
   "id": "86a56d84",
   "metadata": {},
   "outputs": [
    {
     "data": {
      "text/plain": [
       "22"
      ]
     },
     "execution_count": 33,
     "metadata": {},
     "output_type": "execute_result"
    }
   ],
   "source": [
    "sum(a)"
   ]
  },
  {
   "cell_type": "markdown",
   "id": "8ab43a18",
   "metadata": {},
   "source": [
    "Vendar: ko delamo s tabelami, se nam vedno splača uporabiti `numpy`-jeve ekvivalente funkcije. Če ne drugega, bodo hitrejše, včasih pa vdelane Pythonove funkcije ne bodo delovale pravilno ali pa ne sploh (`sqrt(a)` javi napako). Poleg tega imajo `numpy`-jeve funkcije pogosto dodatne argumente, specifične za delo s tabelami."
   ]
  },
  {
   "cell_type": "markdown",
   "id": "b8a1bc4f",
   "metadata": {},
   "source": [
    "## Vektorske operacije\n",
    "\n",
    "Ko delamo z `numpy`-jem, se poskušamo predvsem izogniti pisanju zank.\n",
    "\n",
    "Kako bi dobili vsoto vseh pozitivnih elementov `b`-ja? Najprej sestavimo \"masko\", tabelo `bool`-ov, ki vsebuje `True` na mestih, kjer ima `b` pozitivne elemente."
   ]
  },
  {
   "cell_type": "code",
   "execution_count": 34,
   "id": "df039e07",
   "metadata": {},
   "outputs": [
    {
     "data": {
      "text/plain": [
       "array([ True, False,  True, False])"
      ]
     },
     "execution_count": 34,
     "metadata": {},
     "output_type": "execute_result"
    }
   ],
   "source": [
    "b > 0"
   ]
  },
  {
   "cell_type": "markdown",
   "id": "393319ec",
   "metadata": {},
   "source": [
    "S to masko lahko izberemo pozitivne elemente."
   ]
  },
  {
   "cell_type": "code",
   "execution_count": 35,
   "id": "03de9a1d",
   "metadata": {},
   "outputs": [
    {
     "data": {
      "text/plain": [
       "array([8, 1])"
      ]
     },
     "execution_count": 35,
     "metadata": {},
     "output_type": "execute_result"
    }
   ],
   "source": [
    "b[b > 0]"
   ]
  },
  {
   "cell_type": "markdown",
   "id": "b1ef5cbb",
   "metadata": {},
   "source": [
    "Ker nas zanima vsota, jih seštejemo."
   ]
  },
  {
   "cell_type": "code",
   "execution_count": 36,
   "id": "a6038a03",
   "metadata": {},
   "outputs": [
    {
     "data": {
      "text/plain": [
       "9"
      ]
     },
     "execution_count": 36,
     "metadata": {},
     "output_type": "execute_result"
    }
   ],
   "source": [
    "np.sum(b[b > 0])"
   ]
  },
  {
   "cell_type": "markdown",
   "id": "e4be40e9",
   "metadata": {},
   "source": [
    "Če bi nas zanimalo samo, koliko pozitivnih elementov ima `b`, bi preprosto sešteli masko, saj tudi v `numpy` velja, da je `True` toliko kot `1`, `False` pa toliko kot `0`."
   ]
  },
  {
   "cell_type": "code",
   "execution_count": 37,
   "id": "c2df34c9",
   "metadata": {},
   "outputs": [
    {
     "data": {
      "text/plain": [
       "2"
      ]
     },
     "execution_count": 37,
     "metadata": {},
     "output_type": "execute_result"
    }
   ],
   "source": [
    "np.sum(b > 0)"
   ]
  },
  {
   "cell_type": "markdown",
   "id": "417ae303",
   "metadata": {},
   "source": [
    "Če bi bili še manj zahtevni in bi nas zanimalo le, ali ima `b` kakšen pozitiven element, bi uporabili `any` (spet vzamemo `numpy`-je ekvivalent in ne Pyhonovega vdelanega `any`, ki smo ga spoznali prejšnjo uro):"
   ]
  },
  {
   "cell_type": "code",
   "execution_count": 38,
   "id": "336359db",
   "metadata": {},
   "outputs": [
    {
     "data": {
      "text/plain": [
       "True"
      ]
     },
     "execution_count": 38,
     "metadata": {},
     "output_type": "execute_result"
    }
   ],
   "source": [
    "np.any(b > 0)"
   ]
  },
  {
   "cell_type": "markdown",
   "id": "9e94d74f",
   "metadata": {},
   "source": [
    "Da `b` nima samih pozitivnih elementov, pa nam pove `all`:"
   ]
  },
  {
   "cell_type": "code",
   "execution_count": 39,
   "id": "dbc5d9f1",
   "metadata": {},
   "outputs": [
    {
     "data": {
      "text/plain": [
       "False"
      ]
     },
     "execution_count": 39,
     "metadata": {},
     "output_type": "execute_result"
    }
   ],
   "source": [
    "np.all(b > 0)"
   ]
  },
  {
   "cell_type": "markdown",
   "id": "59d0bcd2",
   "metadata": {},
   "source": [
    "Podobno preprosto je poiskati (šteti, preverjati) sode elemente `a`-ja."
   ]
  },
  {
   "cell_type": "code",
   "execution_count": 40,
   "id": "f747bf1a",
   "metadata": {},
   "outputs": [
    {
     "data": {
      "text/plain": [
       "array([8, 2])"
      ]
     },
     "execution_count": 40,
     "metadata": {},
     "output_type": "execute_result"
    }
   ],
   "source": [
    "a[a % 2 == 0]"
   ]
  },
  {
   "cell_type": "markdown",
   "id": "dee2d609",
   "metadata": {},
   "source": [
    "Ta, zadnji primer je kar zanimivo prebrati: `a % 2 == 0`. Kar ta formula pravi o `a`-ju, se v bistvu nanaša na vsak element `a`-ja. Ko rečemo `a % 2 == 0` dobimo to, kar bi v golem Pythonu, s seznami, dosegli z `[x % 2 == 0 for x in a]`. Pogovor o izpeljanih seznamih je bil - če ne zaradi drugega - potreben zato, da lažje razumemo idejo \"vektorskih operacij\" - operacij, ki se, popolnoma enake, zgodijo na vsakem elementu tabele. Nekje znotraj `numpy`-ja se seveda še vedno skriva neka zanka, vendar je zaradi načina, na katerega je `numpy` narejen takšna zanka veliko (kjer \"veliko\" zlahka pomeni petdesetkrat ali celo stokrat) hitrejša, kot če bi zapisali zanko v Pythonu."
   ]
  },
  {
   "cell_type": "markdown",
   "id": "5d7b1008",
   "metadata": {},
   "source": [
    "## Primer: višinske razlike\n",
    "\n",
    "Kolesar je na vsakih sto metrov (neke izgleda kar razgibane :) vožnje zabeležil svojo nadmorsko višino."
   ]
  },
  {
   "cell_type": "code",
   "execution_count": 41,
   "id": "5bcab4a8",
   "metadata": {},
   "outputs": [],
   "source": [
    "h = np.array([345, 355, 360, 364, 378, 370, 360, 355, 360, 361])"
   ]
  },
  {
   "cell_type": "markdown",
   "id": "c4967ee0",
   "metadata": {},
   "source": [
    "Zdaj ga, kot vsakega kolesarja, ki počne takšne stvari, zanima skupni dvig.\n",
    "\n",
    "Za začetek je potrebno dobiti seznam sprememb višine med zaporednimi pari meritev. S seznami bi napisali nekaj takšnega:"
   ]
  },
  {
   "cell_type": "code",
   "execution_count": 42,
   "id": "60b9939c",
   "metadata": {},
   "outputs": [
    {
     "data": {
      "text/plain": [
       "[10, 5, 4, 14, -8, -10, -5, 5, 1]"
      ]
     },
     "execution_count": 42,
     "metadata": {},
     "output_type": "execute_result"
    }
   ],
   "source": [
    "d = [x - y for x, y in zip(h[1:], h)]\n",
    "\n",
    "d"
   ]
  },
  {
   "cell_type": "markdown",
   "id": "aec0f76c",
   "metadata": {},
   "source": [
    "Vendar se želimo izogniti zanki. Operator `-` želimo uporabiti na tabeli, ne na njenih posamičnih elementih. Gornji `zip` - oziroma njegovi argument - so že pokazali, kaj je potrebno odšteti."
   ]
  },
  {
   "cell_type": "code",
   "execution_count": 43,
   "id": "4e0bed53",
   "metadata": {},
   "outputs": [
    {
     "name": "stdout",
     "output_type": "stream",
     "text": [
      "[355 360 364 378 370 360 355 360 361]\n",
      "[345 355 360 364 378 370 360 355 360 361]\n"
     ]
    }
   ],
   "source": [
    "print(h[1:])\n",
    "print(h)"
   ]
  },
  {
   "cell_type": "markdown",
   "id": "656f79ae",
   "metadata": {},
   "source": [
    "Odšteti moramo, preprosto drugo tabelo od prve."
   ]
  },
  {
   "cell_type": "code",
   "execution_count": 44,
   "id": "3924f035",
   "metadata": {},
   "outputs": [
    {
     "ename": "ValueError",
     "evalue": "operands could not be broadcast together with shapes (9,) (10,) ",
     "output_type": "error",
     "traceback": [
      "\u001b[0;31m---------------------------------------------------------------------------\u001b[0m",
      "\u001b[0;31mValueError\u001b[0m                                Traceback (most recent call last)",
      "Cell \u001b[0;32mIn[44], line 1\u001b[0m\n\u001b[0;32m----> 1\u001b[0m h[\u001b[38;5;241m1\u001b[39m:] \u001b[38;5;241m-\u001b[39m h\n",
      "\u001b[0;31mValueError\u001b[0m: operands could not be broadcast together with shapes (9,) (10,) "
     ]
    }
   ],
   "source": [
    "h[1:] - h"
   ]
  },
  {
   "cell_type": "markdown",
   "id": "ccc9a65f",
   "metadata": {},
   "source": [
    "Da, mali detajl: ker `-` deluje po elementih, morata biti tabeli enako dolgi. Druga je za en element predolga. Zadnji element zato odrežemo."
   ]
  },
  {
   "cell_type": "code",
   "execution_count": 45,
   "id": "9e621ac9",
   "metadata": {},
   "outputs": [
    {
     "data": {
      "text/plain": [
       "array([ 10,   5,   4,  14,  -8, -10,  -5,   5,   1])"
      ]
     },
     "execution_count": 45,
     "metadata": {},
     "output_type": "execute_result"
    }
   ],
   "source": [
    "d = h[1:] - h[:-1]\n",
    "\n",
    "d"
   ]
  },
  {
   "cell_type": "markdown",
   "id": "463f9a78",
   "metadata": {},
   "source": [
    "Če to seštejemo, bomo seveda dobili `0`, saj je kolesar končal, kjer je začel."
   ]
  },
  {
   "cell_type": "code",
   "execution_count": 46,
   "id": "5072291e",
   "metadata": {},
   "outputs": [
    {
     "data": {
      "text/plain": [
       "16"
      ]
     },
     "execution_count": 46,
     "metadata": {},
     "output_type": "execute_result"
    }
   ],
   "source": [
    "np.sum(d)"
   ]
  },
  {
   "cell_type": "markdown",
   "id": "a6fd5a72",
   "metadata": {},
   "source": [
    "Vsota spustov je pač enaka vsoti dvigov. Kolesarja zanimajo le dvigi,"
   ]
  },
  {
   "cell_type": "code",
   "execution_count": 47,
   "id": "006828cf",
   "metadata": {},
   "outputs": [
    {
     "data": {
      "text/plain": [
       "array([10,  5,  4, 14,  5,  1])"
      ]
     },
     "execution_count": 47,
     "metadata": {},
     "output_type": "execute_result"
    }
   ],
   "source": [
    "d[d > 0]"
   ]
  },
  {
   "cell_type": "markdown",
   "id": "acec254f",
   "metadata": {},
   "source": [
    "To je torej tisto, kar želimo sešteti. Za bonus navrzimo še največji dvig. In zložimo vse skupaj, da bomo imeli pravi vtis, kako kratek program smo napisali."
   ]
  },
  {
   "cell_type": "code",
   "execution_count": 48,
   "id": "f3c422e0",
   "metadata": {},
   "outputs": [
    {
     "name": "stdout",
     "output_type": "stream",
     "text": [
      "14\n",
      "39\n"
     ]
    }
   ],
   "source": [
    "h = np.array([345, 355, 360, 364, 378, 370, 360, 355, 360, 361, 345])\n",
    "d = h[1:] - h[:-1]\n",
    "print(np.max(d))\n",
    "print(np.sum(d[d > 0]))"
   ]
  },
  {
   "cell_type": "markdown",
   "id": "ea05650a",
   "metadata": {},
   "source": [
    "## Primer: Numpy na dražbi\n",
    "\n",
    "Zdaj pa se spomnimo domače naloge [Dražba](https://ucilnica.fri.uni-lj.si/mod/assign/view.php?id=53269): rešili jo bomo s numpy-ja. Videli bomo, kako bo pokazal mišice!"
   ]
  },
  {
   "cell_type": "markdown",
   "id": "cd8a01d8",
   "metadata": {},
   "source": [
    "Za začetek uvozimo podatke. O funkcijah, kot je `genfromtxt` se bomo pogovarjali prihodnjič. Tu jo le pokličimo."
   ]
  },
  {
   "cell_type": "code",
   "execution_count": 49,
   "id": "04e311bf",
   "metadata": {},
   "outputs": [],
   "source": [
    "cene = np.genfromtxt(\"../domace-naloge/02-drazba/drazba.txt\", dtype=int)"
   ]
  },
  {
   "cell_type": "code",
   "execution_count": 50,
   "id": "49a66d6a",
   "metadata": {},
   "outputs": [
    {
     "data": {
      "text/plain": [
       "array([11, 17, 24, 30, -1, 13, 27, 33, -1, 12, 27, 34, 40, -1,  9, -1,  8,\n",
       "       20, 30, 31, -1])"
      ]
     },
     "execution_count": 50,
     "metadata": {},
     "output_type": "execute_result"
    }
   ],
   "source": [
    "cene"
   ]
  },
  {
   "cell_type": "markdown",
   "id": "14591a89",
   "metadata": {},
   "source": [
    "Na prvi dve vprašanji - koliko izdelkov so prodali in koliko je stal najdražji, lahko že odgovorimo.\n",
    "\n",
    "Prodali so toliko izdelkov, kolikor je `-1`. S `cene == -1` dobimo tabelo `False` in `True`; `True`, kjer so `-1`."
   ]
  },
  {
   "cell_type": "code",
   "execution_count": 51,
   "id": "5fcf4281",
   "metadata": {},
   "outputs": [
    {
     "data": {
      "text/plain": [
       "array([False, False, False, False,  True, False, False, False,  True,\n",
       "       False, False, False, False,  True, False,  True, False, False,\n",
       "       False, False,  True])"
      ]
     },
     "execution_count": 51,
     "metadata": {},
     "output_type": "execute_result"
    }
   ],
   "source": [
    "cene == -1"
   ]
  },
  {
   "cell_type": "markdown",
   "id": "bc541133",
   "metadata": {},
   "source": [
    "Ker je `True` enak `1` in `False` enak `0`, elemente seznama preprosto seštejemo."
   ]
  },
  {
   "cell_type": "code",
   "execution_count": 52,
   "id": "9ef407d3",
   "metadata": {},
   "outputs": [
    {
     "data": {
      "text/plain": [
       "5"
      ]
     },
     "execution_count": 52,
     "metadata": {},
     "output_type": "execute_result"
    }
   ],
   "source": [
    "np.sum(cene == -1)"
   ]
  },
  {
   "cell_type": "markdown",
   "id": "10f0c64f",
   "metadata": {},
   "source": [
    "Cena najdražjega izdelka je kar največja številka v tabeli."
   ]
  },
  {
   "cell_type": "code",
   "execution_count": 53,
   "id": "dda88fe4",
   "metadata": {},
   "outputs": [
    {
     "data": {
      "text/plain": [
       "40"
      ]
     },
     "execution_count": 53,
     "metadata": {},
     "output_type": "execute_result"
    }
   ],
   "source": [
    "np.max(cene)"
   ]
  },
  {
   "cell_type": "markdown",
   "id": "cd577115",
   "metadata": {},
   "source": [
    "Odgovor na zadnje vprašanje je pravilen, z estetskega vidika pa nekoliko zmoti, da smo računali maksimum prek vsega, vključno z vmesnimi ponudbami in celo `-1`. Nalogo bomo brez težav rešili tudi elegantneje, saj nas bo v to prisililo naslednje vprašanje: kakšna je vsota cen prodanih izdelkov.\n",
    "\n",
    "Funkcija `np.flatnonzero` nam vrne tabelo z indeksi ne-ničelnih elementov. Če gre za tabelo `True`-jev in `False`-ov, vrne indekse `True`-jev. V našem primeru bodo to ravno indeksi elementov z vrednostjo `-1`."
   ]
  },
  {
   "cell_type": "code",
   "execution_count": 54,
   "id": "21ed3f11",
   "metadata": {},
   "outputs": [
    {
     "data": {
      "text/plain": [
       "array([ 4,  8, 13, 15, 20])"
      ]
     },
     "execution_count": 54,
     "metadata": {},
     "output_type": "execute_result"
    }
   ],
   "source": [
    "indeksi = np.flatnonzero(cene == -1)\n",
    "\n",
    "indeksi"
   ]
  },
  {
   "cell_type": "markdown",
   "id": "f62eec78",
   "metadata": {},
   "source": [
    "Hitro se prepričamo, da so na teh indeksih ravno `-1`-ke."
   ]
  },
  {
   "cell_type": "code",
   "execution_count": 55,
   "id": "c97d0fdc",
   "metadata": {},
   "outputs": [
    {
     "data": {
      "text/plain": [
       "array([-1, -1, -1, -1, -1])"
      ]
     },
     "execution_count": 55,
     "metadata": {},
     "output_type": "execute_result"
    }
   ],
   "source": [
    "cene[indeksi]"
   ]
  },
  {
   "cell_type": "markdown",
   "id": "36069578",
   "metadata": {},
   "source": [
    "To je nezanimivo: zanimajo nas ravno elementi pred njimi. Od indeksov torej odštejemo `1`."
   ]
  },
  {
   "cell_type": "code",
   "execution_count": 56,
   "id": "bdc7f41f",
   "metadata": {},
   "outputs": [
    {
     "data": {
      "text/plain": [
       "array([30, 33, 40,  9, 31])"
      ]
     },
     "execution_count": 56,
     "metadata": {},
     "output_type": "execute_result"
    }
   ],
   "source": [
    "koncne = cene[indeksi - 1]\n",
    "\n",
    "koncne"
   ]
  },
  {
   "cell_type": "markdown",
   "id": "2e3c356d",
   "metadata": {},
   "source": [
    "Zdaj lahko ponovno rešimo prvi dve nalogi in še tretjo:"
   ]
  },
  {
   "cell_type": "code",
   "execution_count": 57,
   "id": "4ee9353f",
   "metadata": {},
   "outputs": [
    {
     "name": "stdout",
     "output_type": "stream",
     "text": [
      "Število prodanih predmetov: 5\n",
      "Cena najdražjega predmeta: 40\n",
      "Vsota končnih cen: 143\n"
     ]
    }
   ],
   "source": [
    "print(f\"Število prodanih predmetov: {len(koncne)}\")\n",
    "print(f\"Cena najdražjega predmeta: {np.max(koncne)}\")\n",
    "print(f\"Vsota končnih cen: {np.sum(koncne)}\")"
   ]
  },
  {
   "cell_type": "markdown",
   "id": "f0be8b58",
   "metadata": {},
   "source": [
    "Zadnji vprašanji sprašujeta, koliko predmetov je kupila Ana in koliko Berta ter koliko je zapravila katera od njiju.\n",
    "\n",
    "Na dražbi sta le onidve in prva ponudba je vedno Anina. Za odgovor na vprašanji moramo prešteti, za katere predmete je bilo število ponudb liho in za koliko sodo. Za to pa moramo za začetek prešteti število ponudb za vsak predmet. Pravilni odgovor bo `[4, 3, 4, 1, 4]`.\n",
    "\n",
    "Število ponudb je (skoraj) enako razlikam med indeksi."
   ]
  },
  {
   "cell_type": "code",
   "execution_count": 58,
   "id": "2020d793",
   "metadata": {},
   "outputs": [
    {
     "data": {
      "text/plain": [
       "array([ 4,  8, 13, 15, 20])"
      ]
     },
     "execution_count": 58,
     "metadata": {},
     "output_type": "execute_result"
    }
   ],
   "source": [
    "indeksi"
   ]
  },
  {
   "cell_type": "markdown",
   "id": "4f9e7c14",
   "metadata": {},
   "source": [
    "Za prvi predmet so bile dane štiri ponudbe. Naprej gledamo razlike: indeks druge -1 je `8`, indeks prve pa `4`; vmes so bile 8 - 4 - 1 = 3 ponudbe. (Še 1 je potrebno odšteti, ker imamo v tabeli poleg cen še vmesne elemente `-1`.) Naslednja indeksa sta 13 in 8; 13 - 8 - 1 = 4."
   ]
  },
  {
   "cell_type": "markdown",
   "id": "a78f8a83",
   "metadata": {},
   "source": [
    "Število ponudb za posamični predmet bomo izvedeli, če od"
   ]
  },
  {
   "cell_type": "code",
   "execution_count": 59,
   "id": "e2ce6795",
   "metadata": {},
   "outputs": [
    {
     "data": {
      "text/plain": [
       "array([ 4,  8, 13, 15, 20])"
      ]
     },
     "execution_count": 59,
     "metadata": {},
     "output_type": "execute_result"
    }
   ],
   "source": [
    "indeksi"
   ]
  },
  {
   "cell_type": "markdown",
   "id": "4424d39d",
   "metadata": {},
   "source": [
    "odštejemo"
   ]
  },
  {
   "cell_type": "code",
   "execution_count": 60,
   "id": "79f950c2",
   "metadata": {},
   "outputs": [
    {
     "data": {
      "text/plain": [
       "array([-1,  4,  8, 13, 15])"
      ]
     },
     "execution_count": 60,
     "metadata": {},
     "output_type": "execute_result"
    }
   ],
   "source": [
    "np.hstack(([-1], indeksi[:-1]))"
   ]
  },
  {
   "cell_type": "markdown",
   "id": "2e2d19b6",
   "metadata": {},
   "source": [
    "in še `-1`. Na začetek smo dodali -1. Na ta način bomo po odštevanju dobili ravno pravo številko za nesrečni, posebni prvi predmet, saj bomo imeli `4 - (-1) - 1 = 4`. Ne spreglejte tudi dvojnih oklepajev: funkciji `np.hstack` kot argument podamo terko s tabelama, ki jo želimo speti skupaj."
   ]
  },
  {
   "cell_type": "code",
   "execution_count": 61,
   "id": "42bbd43c",
   "metadata": {},
   "outputs": [
    {
     "data": {
      "text/plain": [
       "array([4, 3, 4, 1, 4])"
      ]
     },
     "execution_count": 61,
     "metadata": {},
     "output_type": "execute_result"
    }
   ],
   "source": [
    "ponudb = indeksi - np.hstack(([-1], indeksi[:-1])) - 1\n",
    "\n",
    "ponudb"
   ]
  },
  {
   "cell_type": "markdown",
   "id": "4c5088a6",
   "metadata": {},
   "source": [
    "Natančno, kar potrebujemo.\n",
    "\n",
    "Ana je kupila tiste predmete, za katere je bilo število ponudb liho; Berta tiste, za katere je bilo sodo."
   ]
  },
  {
   "cell_type": "code",
   "execution_count": 62,
   "id": "662b2c28",
   "metadata": {},
   "outputs": [
    {
     "data": {
      "text/plain": [
       "array([False,  True, False,  True, False])"
      ]
     },
     "execution_count": 62,
     "metadata": {},
     "output_type": "execute_result"
    }
   ],
   "source": [
    "ana = ponudb % 2 == 1\n",
    "berta = ponudb % 2 == 0\n",
    "\n",
    "ana"
   ]
  },
  {
   "cell_type": "code",
   "execution_count": 63,
   "id": "d5a6c209",
   "metadata": {},
   "outputs": [
    {
     "name": "stdout",
     "output_type": "stream",
     "text": [
      "Ana je kupila 2, Berta pa 3 reči.\n"
     ]
    }
   ],
   "source": [
    "print(f\"Ana je kupila {np.sum(ana)}, Berta pa {np.sum(berta)} reči.\")"
   ]
  },
  {
   "cell_type": "markdown",
   "id": "1d0267b2",
   "metadata": {},
   "source": [
    "In koliko je zapravila katera? Tole so cene reči, ki so končale pri Ani:"
   ]
  },
  {
   "cell_type": "code",
   "execution_count": 64,
   "id": "bd390c57",
   "metadata": {},
   "outputs": [
    {
     "data": {
      "text/plain": [
       "array([33,  9])"
      ]
     },
     "execution_count": 64,
     "metadata": {},
     "output_type": "execute_result"
    }
   ],
   "source": [
    "koncne[ana]"
   ]
  },
  {
   "cell_type": "markdown",
   "id": "2654e299",
   "metadata": {},
   "source": [
    "Torej, očitno,"
   ]
  },
  {
   "cell_type": "code",
   "execution_count": 65,
   "id": "da6ee0d2",
   "metadata": {},
   "outputs": [
    {
     "name": "stdout",
     "output_type": "stream",
     "text": [
      "Ana je zapravila 42, Berta pa 101.\n"
     ]
    }
   ],
   "source": [
    "print(f\"Ana je zapravila {np.sum(koncne[ana])}, Berta pa {np.sum(koncne[berta])}.\")"
   ]
  },
  {
   "cell_type": "markdown",
   "id": "4c968938",
   "metadata": {},
   "source": [
    "### Vse skupaj\n",
    "\n",
    "Da se zavemo, kako elegantno kratko je vse skupaj, napišimo celoten program v kosu."
   ]
  },
  {
   "cell_type": "code",
   "execution_count": 66,
   "id": "d41266a8",
   "metadata": {},
   "outputs": [
    {
     "name": "stdout",
     "output_type": "stream",
     "text": [
      "Število prodanih predmetov: 5\n",
      "Cena najdražjega predmeta: 40\n",
      "Vsota končnih cen: 143\n",
      "Ana je kupila 2, Berta pa 3 reči.\n",
      "Ana je zapravila 42, Berta pa 101.\n"
     ]
    }
   ],
   "source": [
    "import numpy as np\n",
    "\n",
    "cene = np.genfromtxt(\"../domace-naloge/02-drazba/drazba.txt\", dtype=int)\n",
    "indeksi = np.flatnonzero(cene == -1)\n",
    "koncne = cene[indeksi - 1]\n",
    "ponudb = indeksi - np.hstack(([-1], indeksi[:-1])) - 1\n",
    "ana = ponudb % 2 == 1\n",
    "berta = ponudb % 2 == 0\n",
    "\n",
    "print(f\"Število prodanih predmetov: {len(koncne)}\")\n",
    "print(f\"Cena najdražjega predmeta: {np.max(koncne)}\")\n",
    "print(f\"Vsota končnih cen: {np.sum(koncne)}\")\n",
    "print(f\"Ana je kupila {np.sum(ana)}, Berta pa {np.sum(berta)} reči.\")\n",
    "print(f\"Ana je zapravila {np.sum(koncne[ana])}, Berta pa {np.sum(koncne[berta])}.\")"
   ]
  }
 ],
 "metadata": {
  "kernelspec": {
   "display_name": "Python 3 (ipykernel)",
   "language": "python",
   "name": "python3"
  },
  "language_info": {
   "codemirror_mode": {
    "name": "ipython",
    "version": 3
   },
   "file_extension": ".py",
   "mimetype": "text/x-python",
   "name": "python",
   "nbconvert_exporter": "python",
   "pygments_lexer": "ipython3",
   "version": "3.11.5"
  }
 },
 "nbformat": 4,
 "nbformat_minor": 5
}
