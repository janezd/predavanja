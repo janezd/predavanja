{
 "cells": [
  {
   "cell_type": "markdown",
   "id": "2d53c8f8",
   "metadata": {},
   "source": [
    "## Še o branju datotek\n",
    "\n",
    "Datoteke beremo že dolgo, od drugega tedna. Zamolčal pa sem vam, oni dan, da imajo datoteke tudi metode. Preprosto zato, ker metod še nismo srečali in tudi nobene potrebe ni bilo, da bi jih ravno ob datotekah. Zdaj jih lahko. So tri, štiri, nezahtevne in, no, tudi ne nujno zelo uporabne. (V čemer se je skrival dodatni razlog, da jih nisem omenjal. Študenti imajo sicer navado, da kličejo te metode takrat, ko jih ne potrebujejo, saj bi zadoščala že navadna zanka `for`. Zato sem vas v svoji didaktični zvitosti raje prisilil, da ste se jih temeljito navadili brati z zanko `for` in bo skušnjava po klicanju nepotrebnih metod, upam, manjša.)\n",
    "\n",
    "Datoteke smo vedno brali z zanko for (dokler nismo spoznali `csv.reader` in `csv.DictReader`, pa še kaj podobnega bomo)."
   ]
  },
  {
   "cell_type": "code",
   "execution_count": 1,
   "id": "b922ee72",
   "metadata": {},
   "outputs": [
    {
     "name": "stdout",
     "output_type": "stream",
     "text": [
      "kolo,razdalja,višina,lastnik,leto nakupa\n",
      "\n",
      "Cube,5031,159,Janez,2017\n",
      "\n",
      "Stevens,3819,1284,Ana,2012\n",
      "\n",
      "Focus,3823,1921,Benjamin,2019\n"
     ]
    }
   ],
   "source": [
    "for vrstica in open(\"kolesa-z-glavo.txt\"):\n",
    "    print(vrstica)"
   ]
  },
  {
   "cell_type": "markdown",
   "id": "77baeaaa",
   "metadata": {},
   "source": [
    "Datoteka ima, kot napisano, metode."
   ]
  },
  {
   "cell_type": "code",
   "execution_count": 2,
   "id": "07a4dd60",
   "metadata": {},
   "outputs": [],
   "source": [
    "f = open(\"kolesa-z-glavo.txt\")"
   ]
  },
  {
   "cell_type": "markdown",
   "id": "4de7e8e9",
   "metadata": {},
   "source": [
    "Ena je `read()`; ta prebere celo datoteko v niz."
   ]
  },
  {
   "cell_type": "code",
   "execution_count": 3,
   "id": "5810c96b",
   "metadata": {},
   "outputs": [
    {
     "data": {
      "text/plain": [
       "'kolo,razdalja,višina,lastnik,leto nakupa\\nCube,5031,159,Janez,2017\\nStevens,3819,1284,Ana,2012\\nFocus,3823,1921,Benjamin,2019'"
      ]
     },
     "execution_count": 3,
     "metadata": {},
     "output_type": "execute_result"
    }
   ],
   "source": [
    "f.read()"
   ]
  },
  {
   "cell_type": "markdown",
   "id": "cdcf7670",
   "metadata": {},
   "source": [
    "To stori le enkrat. Zdaj je datoteka \"potrošena\"."
   ]
  },
  {
   "cell_type": "code",
   "execution_count": 4,
   "id": "a6bf605f",
   "metadata": {},
   "outputs": [
    {
     "data": {
      "text/plain": [
       "''"
      ]
     },
     "execution_count": 4,
     "metadata": {},
     "output_type": "execute_result"
    }
   ],
   "source": [
    "f.read()"
   ]
  },
  {
   "cell_type": "markdown",
   "id": "43393860",
   "metadata": {},
   "source": [
    "Če želimo z njo početi še kaj, jo bomo morali odpreti ponovno. (Obstaja način, da jo \"prevrtimo\" nazaj, vendar tega ne bomo počeli.)"
   ]
  },
  {
   "cell_type": "code",
   "execution_count": 5,
   "id": "43b483c6",
   "metadata": {},
   "outputs": [],
   "source": [
    "f = open(\"kolesa-z-glavo.txt\")"
   ]
  },
  {
   "cell_type": "markdown",
   "id": "b34f341c",
   "metadata": {},
   "source": [
    "Druga je `readlines()`; ta prebere vse vrstice datoteke v seznam nizov."
   ]
  },
  {
   "cell_type": "code",
   "execution_count": 6,
   "id": "eb0207da",
   "metadata": {},
   "outputs": [
    {
     "data": {
      "text/plain": [
       "['kolo,razdalja,višina,lastnik,leto nakupa\\n',\n",
       " 'Cube,5031,159,Janez,2017\\n',\n",
       " 'Stevens,3819,1284,Ana,2012\\n',\n",
       " 'Focus,3823,1921,Benjamin,2019']"
      ]
     },
     "execution_count": 6,
     "metadata": {},
     "output_type": "execute_result"
    }
   ],
   "source": [
    "f = open(\"kolesa-z-glavo.txt\")\n",
    "f.readlines()"
   ]
  },
  {
   "cell_type": "markdown",
   "id": "78ab1ac3",
   "metadata": {},
   "source": [
    "Tretja je `readline()`. Ta prebere eno vrstico."
   ]
  },
  {
   "cell_type": "code",
   "execution_count": 7,
   "id": "6b0b246c",
   "metadata": {},
   "outputs": [
    {
     "data": {
      "text/plain": [
       "'kolo,razdalja,višina,lastnik,leto nakupa\\n'"
      ]
     },
     "execution_count": 7,
     "metadata": {},
     "output_type": "execute_result"
    }
   ],
   "source": [
    "f = open(\"kolesa-z-glavo.txt\")\n",
    "f.readline()"
   ]
  },
  {
   "cell_type": "markdown",
   "id": "ed77ed92",
   "metadata": {},
   "source": [
    "Vsakič naslednjo."
   ]
  },
  {
   "cell_type": "code",
   "execution_count": 8,
   "id": "7f7899e0",
   "metadata": {},
   "outputs": [
    {
     "data": {
      "text/plain": [
       "'Cube,5031,159,Janez,2017\\n'"
      ]
     },
     "execution_count": 8,
     "metadata": {},
     "output_type": "execute_result"
    }
   ],
   "source": [
    "f.readline()"
   ]
  },
  {
   "cell_type": "code",
   "execution_count": 9,
   "id": "4e7df005",
   "metadata": {},
   "outputs": [
    {
     "data": {
      "text/plain": [
       "'Stevens,3819,1284,Ana,2012\\n'"
      ]
     },
     "execution_count": 9,
     "metadata": {},
     "output_type": "execute_result"
    }
   ],
   "source": [
    "f.readline()"
   ]
  },
  {
   "cell_type": "markdown",
   "id": "ab25801a",
   "metadata": {},
   "source": [
    "Kar je prebrano, je prebrano in se ne vrne.\n",
    "\n",
    "Izmed teh treh boste največkrat potrebovali zadnjo (`readline()`), včasih tudi prvo (`read()`). Če vas zanima uporabiti `readlines()`, si boste navadno naredili uslugo, če boste raje naredili zanko čez datoteko.\n",
    "\n",
    "`readline()` bomo uporabili, kadar datoteka nima \"homogenega\" formata: različne vrstice imajo, recimo, različen pomen in praktično nam jih je brati eno za drugo.\n",
    "\n",
    "\"Kar je prebrano, je prebrano,\" sem napisal z mislijo na tale primer:"
   ]
  },
  {
   "cell_type": "code",
   "execution_count": 10,
   "id": "59810872",
   "metadata": {},
   "outputs": [
    {
     "name": "stdout",
     "output_type": "stream",
     "text": [
      "Cube,5031,159,Janez,2017\n",
      "\n",
      "Stevens,3819,1284,Ana,2012\n",
      "\n",
      "Focus,3823,1921,Benjamin,2019\n"
     ]
    }
   ],
   "source": [
    "f = open(\"kolesa-z-glavo.txt\")\n",
    "\n",
    "stolpci = f.readline().split(\",\")\n",
    "for vrstica in f:\n",
    "    print(vrstica)"
   ]
  },
  {
   "cell_type": "markdown",
   "id": "0f9c34c8",
   "metadata": {},
   "source": [
    "Prvo vrstico smo prebrali v `stolpci`; morda nam pride prav, morda smo se je hoteli le znebiti. Ostale vrstice beremo kar s `for`. Prve nam ne bo prebrala, ker je že prebrana.\n",
    "\n",
    "Četrta omembe vredna metoda, je `close`."
   ]
  },
  {
   "cell_type": "code",
   "execution_count": 11,
   "id": "8a308872",
   "metadata": {},
   "outputs": [
    {
     "data": {
      "text/plain": [
       "'kolo,razdalja,višina,lastnik,leto nakupa\\n'"
      ]
     },
     "execution_count": 11,
     "metadata": {},
     "output_type": "execute_result"
    }
   ],
   "source": [
    "f = open(\"kolesa-z-glavo.txt\")\n",
    "\n",
    "f.readline()"
   ]
  },
  {
   "cell_type": "code",
   "execution_count": 12,
   "id": "d2e4871b",
   "metadata": {},
   "outputs": [
    {
     "data": {
      "text/plain": [
       "'Cube,5031,159,Janez,2017\\n'"
      ]
     },
     "execution_count": 12,
     "metadata": {},
     "output_type": "execute_result"
    }
   ],
   "source": [
    "f.readline()"
   ]
  },
  {
   "cell_type": "code",
   "execution_count": 13,
   "id": "d86f86b0",
   "metadata": {},
   "outputs": [],
   "source": [
    "f.close()"
   ]
  },
  {
   "cell_type": "code",
   "execution_count": 14,
   "id": "927177dd",
   "metadata": {
    "tags": [
     "raises-exception"
    ]
   },
   "outputs": [
    {
     "ename": "ValueError",
     "evalue": "I/O operation on closed file.",
     "output_type": "error",
     "traceback": [
      "\u001b[0;31m---------------------------------------------------------------------------\u001b[0m",
      "\u001b[0;31mValueError\u001b[0m                                Traceback (most recent call last)",
      "Cell \u001b[0;32mIn[14], line 1\u001b[0m\n\u001b[0;32m----> 1\u001b[0m f\u001b[38;5;241m.\u001b[39mreadline()\n",
      "\u001b[0;31mValueError\u001b[0m: I/O operation on closed file."
     ]
    }
   ],
   "source": [
    "f.readline()"
   ]
  },
  {
   "cell_type": "markdown",
   "id": "647886d9",
   "metadata": {},
   "source": [
    "Ko datoteko zapremo je ne moremo več brati. :)\n",
    "\n",
    "Zakaj bi kdo zaprl datoteko? Naj ostane odprta! Kot prvo: program na MS Windows ima lahko samo 512 hkrati odprtih datotek. Za druge operacijske sisteme ne vem. Svojčas je bilo omejeno tudi število hkrati odprtih datotek v vseh programih skupaj ... OK, nam je mar? Ne res.\n",
    "\n",
    "Python sam zapira datoteke."
   ]
  },
  {
   "cell_type": "code",
   "execution_count": 15,
   "id": "4dcd7013",
   "metadata": {},
   "outputs": [],
   "source": [
    "f = open(\"kolesa-z-glavo.txt\")\n",
    "f.readline()\n",
    "\n",
    "f = open(\"kolesa.txt\")"
   ]
  },
  {
   "cell_type": "markdown",
   "id": "202ebdf9",
   "metadata": {},
   "source": [
    "Ker se `f` zdaj nanaša na neko drugo datoteko in iz prve tako ali tako ne moremo več brati, jo Python zapre.\n",
    "\n",
    "Še bolj pogosta je situacija, ko datoteko odpremo znotraj funkcije. Ko je funkcije konec, ime, ki se je nanašalo nanjo (recimo `f`) izgine, do datoteke ne moremo več in Python jo zapre. Skratka: `close` ne boste klicali prav pogosto."
   ]
  },
  {
   "cell_type": "markdown",
   "id": "2e5933ed",
   "metadata": {},
   "source": [
    "## Pisanje datotek\n",
    "\n",
    "Naučivši se oblikovati nize smo izpisali zelo lepo tabelico."
   ]
  },
  {
   "cell_type": "code",
   "execution_count": 16,
   "id": "d50d6879",
   "metadata": {},
   "outputs": [
    {
     "name": "stdout",
     "output_type": "stream",
     "text": [
      "\n",
      "Kolo       Število voženj           Razdalja             Višina\n",
      "---------------------------------------------------------------\n",
      "Canyon         26 (26.0%)       2766 (39.6%)      26392 (27.0%)\n",
      "Cube           43 (43.0%)       3174 (45.4%)      66705 (68.3%)\n",
      "Nakamura       22 (22.0%)        439 ( 6.3%)       1119 ( 1.1%)\n",
      "Stevens         9 ( 9.0%)        607 ( 8.7%)       3395 ( 3.5%)\n",
      "---------------------------------------------------------------\n"
     ]
    }
   ],
   "source": [
    "voznje = {\"Canyon\": 0, \"Cube\": 0, \"Nakamura\": 0, \"Stevens\": 0}\n",
    "razdalje = {\"Canyon\": 0, \"Cube\": 0, \"Nakamura\": 0, \"Stevens\": 0}\n",
    "visine = {\"Canyon\": 0, \"Cube\": 0, \"Nakamura\": 0, \"Stevens\": 0}\n",
    "\n",
    "for vrstica in open(\"kolesa.txt\"):\n",
    "    kolo, razdalja, visina = vrstica.split(\",\")\n",
    "    voznje[kolo] += 1\n",
    "    razdalje[kolo] += int(razdalja)\n",
    "    visine[kolo] += int(visina)\n",
    "    \n",
    "sk_voz = sum(voznje.values())\n",
    "sk_raz = sum(razdalje.values())\n",
    "sk_vis = sum(visine.values())\n",
    "\n",
    "print()\n",
    "print(f\"{'Kolo':6}{'Število voženj':>19}{'Razdalja':>19}{'Višina':>19}\")\n",
    "print(\"-\" * (6 + 3 * 19))\n",
    "for kolo in voznje:\n",
    "    voz, raz, vis = voznje[kolo], razdalje[kolo], visine[kolo]\n",
    "    print(f\"{kolo:12}{voz:5} ({voz / sk_voz:>5.1%}) {raz:10} ({raz / sk_raz:>5.1%}) {vis:10} ({vis / sk_vis:>5.1%})\")\n",
    "print(\"-\" * (6 + 3 * 19))"
   ]
  },
  {
   "cell_type": "markdown",
   "id": "481a4648",
   "metadata": {},
   "source": [
    "Tako je lepa, da bi jo lahko zapisali kar v datoteko. Datoteka naj se imenuje tabelica-kolesa.txt.\n",
    "\n",
    "Poskusimo."
   ]
  },
  {
   "cell_type": "code",
   "execution_count": 17,
   "id": "2bdd8dc5",
   "metadata": {
    "tags": [
     "raises-exception"
    ]
   },
   "outputs": [
    {
     "ename": "FileNotFoundError",
     "evalue": "[Errno 2] No such file or directory: 'tabelica-kolesa.txt'",
     "output_type": "error",
     "traceback": [
      "\u001b[0;31m---------------------------------------------------------------------------\u001b[0m",
      "\u001b[0;31mFileNotFoundError\u001b[0m                         Traceback (most recent call last)",
      "Cell \u001b[0;32mIn[17], line 1\u001b[0m\n\u001b[0;32m----> 1\u001b[0m f \u001b[38;5;241m=\u001b[39m \u001b[38;5;28mopen\u001b[39m(\u001b[38;5;124m\"\u001b[39m\u001b[38;5;124mtabelica-kolesa.txt\u001b[39m\u001b[38;5;124m\"\u001b[39m)\n",
      "File \u001b[0;32m~/opt/miniconda3/envs/prog/lib/python3.11/site-packages/IPython/core/interactiveshell.py:286\u001b[0m, in \u001b[0;36m_modified_open\u001b[0;34m(file, *args, **kwargs)\u001b[0m\n\u001b[1;32m    279\u001b[0m \u001b[38;5;28;01mif\u001b[39;00m file \u001b[38;5;129;01min\u001b[39;00m {\u001b[38;5;241m0\u001b[39m, \u001b[38;5;241m1\u001b[39m, \u001b[38;5;241m2\u001b[39m}:\n\u001b[1;32m    280\u001b[0m     \u001b[38;5;28;01mraise\u001b[39;00m \u001b[38;5;167;01mValueError\u001b[39;00m(\n\u001b[1;32m    281\u001b[0m         \u001b[38;5;124mf\u001b[39m\u001b[38;5;124m\"\u001b[39m\u001b[38;5;124mIPython won\u001b[39m\u001b[38;5;124m'\u001b[39m\u001b[38;5;124mt let you open fd=\u001b[39m\u001b[38;5;132;01m{\u001b[39;00mfile\u001b[38;5;132;01m}\u001b[39;00m\u001b[38;5;124m by default \u001b[39m\u001b[38;5;124m\"\u001b[39m\n\u001b[1;32m    282\u001b[0m         \u001b[38;5;124m\"\u001b[39m\u001b[38;5;124mas it is likely to crash IPython. If you know what you are doing, \u001b[39m\u001b[38;5;124m\"\u001b[39m\n\u001b[1;32m    283\u001b[0m         \u001b[38;5;124m\"\u001b[39m\u001b[38;5;124myou can use builtins\u001b[39m\u001b[38;5;124m'\u001b[39m\u001b[38;5;124m open.\u001b[39m\u001b[38;5;124m\"\u001b[39m\n\u001b[1;32m    284\u001b[0m     )\n\u001b[0;32m--> 286\u001b[0m \u001b[38;5;28;01mreturn\u001b[39;00m io_open(file, \u001b[38;5;241m*\u001b[39margs, \u001b[38;5;241m*\u001b[39m\u001b[38;5;241m*\u001b[39mkwargs)\n",
      "\u001b[0;31mFileNotFoundError\u001b[0m: [Errno 2] No such file or directory: 'tabelica-kolesa.txt'"
     ]
    }
   ],
   "source": [
    "f = open(\"tabelica-kolesa.txt\")"
   ]
  },
  {
   "cell_type": "markdown",
   "id": "9af540c1",
   "metadata": {},
   "source": [
    "Seveda ne. Datoteke ni; ni česa odpreti. Seveda ne: datoteko bi radi naredili.\n",
    "\n",
    "Funkciji `open` moramo dati še en argument - način, na katerega želimo odpreti datoteko. Ta je lahko `\"r\"` (branje), `\"w\"` (pisanje) ali `\"a\"` (dodajanje v obstoječo datoteko, kot *append*). (Dodali bi lahko še eno črko `t`, ki bi povedala, da gre za besedilno in ne binarno datoteko, `b`. Pri tem predmetu nas to ne zanima.)"
   ]
  },
  {
   "cell_type": "code",
   "execution_count": 18,
   "id": "1562d8ff",
   "metadata": {},
   "outputs": [],
   "source": [
    "f = open(\"tabelica-kolesa.txt\", \"w\")"
   ]
  },
  {
   "cell_type": "markdown",
   "id": "89e3529c",
   "metadata": {},
   "source": [
    "Ker je `f` datoteka, ima običajne metode datotek."
   ]
  },
  {
   "cell_type": "code",
   "execution_count": 19,
   "id": "04d7d813",
   "metadata": {
    "tags": [
     "raises-exception"
    ]
   },
   "outputs": [
    {
     "ename": "UnsupportedOperation",
     "evalue": "not readable",
     "output_type": "error",
     "traceback": [
      "\u001b[0;31m---------------------------------------------------------------------------\u001b[0m",
      "\u001b[0;31mUnsupportedOperation\u001b[0m                      Traceback (most recent call last)",
      "Cell \u001b[0;32mIn[19], line 1\u001b[0m\n\u001b[0;32m----> 1\u001b[0m f\u001b[38;5;241m.\u001b[39mreadline()\n",
      "\u001b[0;31mUnsupportedOperation\u001b[0m: not readable"
     ]
    }
   ],
   "source": [
    "f.readline()"
   ]
  },
  {
   "cell_type": "markdown",
   "id": "5b8a8908",
   "metadata": {},
   "source": [
    "Metodo ima, to že, le poklicati je ne smemo. V to datoteko pišemo. Nič, kar se začne z `read`, ne bo delovalo. Pač pa zanjo deluje `write` (ki ga prej, ko smo bili še pri branju, nismo niti pokazali, ker - uganili ste - ne bi delal, tako kot tu ne dela branje)."
   ]
  },
  {
   "cell_type": "code",
   "execution_count": 20,
   "id": "90a4854a",
   "metadata": {},
   "outputs": [
    {
     "data": {
      "text/plain": [
       "64"
      ]
     },
     "execution_count": 20,
     "metadata": {},
     "output_type": "execute_result"
    }
   ],
   "source": [
    "f.write(f\"{'Kolo':6}{'Število voženj':>19}{'Razdalja':>19}{'Višina':>19}\\n\")\n",
    "f.write(\"-\" * (6 + 3 * 19) + \"\\n\")\n",
    "for kolo in voznje:\n",
    "    voz, raz, vis = voznje[kolo], razdalje[kolo], visine[kolo]\n",
    "    f.write(f\"{kolo:12}{voz:5} ({voz / sk_voz:>5.1%}) {raz:10} ({raz / sk_raz:>5.1%}) {vis:10} ({vis / sk_vis:>5.1%})\\n\")\n",
    "f.write(\"-\" * (6 + 3 * 19) + \"\\n\")"
   ]
  },
  {
   "cell_type": "markdown",
   "id": "4ad84f04",
   "metadata": {},
   "source": [
    "Vse je enako kot prej, le\n",
    "\n",
    "- `print` zamenjamo s `f.write`,\n",
    "- na konec vsake vrstice dodamo `\\n`.\n",
    "\n",
    "`print` je šel v novo vrstico sam, `write` ne bo.\n",
    "\n",
    "Razlik med `print` in `write` je par:\n",
    "\n",
    "- `write` ne gre sam v novo vrstico,\n",
    "- `print` sprejme več argumentov in lahko so poljubnih tipov, od nizov do števil in seznamov in množic in česarkoli. `write` sprejme en sam argument in ta mora biti niz.\n",
    "- `print` ne vrne rezultata (vrne `None`), `write` vrne število bajtov, zapisanih v tem klicu. Zakaj? Pojma nimam. Ampak to je tista `64`, ki se je izpisala na koncu: pomeni 6 + 3 * 19 = 63 minusov in en \\n.\n",
    "\n",
    "Če zdaj odpremo datoteko `tabelice-kolesa.txt`, vidimo, da je ... popolnoma prazna. Kam so potem šli vsi ti `write`-i? Vključno z zadnjimi 64?\n",
    "\n",
    "Računalnik v datoteke na zapisuje vsega sproti, temveč šele, ko se nabere. Sicer bi moral stalno, za vsako vrstico posebej dostopati do diska; celo v času SSD diskov bi bilo to počasno. In tu ... se pač še ni nabralo. Prav, ampak zdaj smo končali. Kako Pythonu povedati, da je končano? Preprosto: zapremo datoteko. :)"
   ]
  },
  {
   "cell_type": "code",
   "execution_count": 21,
   "id": "51a9dc27",
   "metadata": {},
   "outputs": [],
   "source": [
    "f.close()"
   ]
  },
  {
   "cell_type": "markdown",
   "id": "0a0ecff4",
   "metadata": {},
   "source": [
    "(Obstaja še en način: `f.flush()` zapiše, kar se je nabralo doslej, datoteke pa ne zapre.)\n",
    "\n",
    "To pomeni, da bomo pri pisanju vedno poklicali `close()`, da bomo zapisali vsebino datoteke? Ne. Jaz ga navadno ne kličem. Zato smo se pa ob branju pogovarjali o tem, kdaj Python zapre datoteko. Če jo pišemo znotraj funkcije, bo na koncu funkcije, ko lokalna spremenljivka (recimo `f`) izgine, tudi datoteka sama zaprta."
   ]
  },
  {
   "cell_type": "markdown",
   "id": "d890cfd0",
   "metadata": {},
   "source": [
    "## Pravilno odpiranje datotek\n",
    "\n",
    "Tega doslej še nisem predaval, morda pa je prav, da enkrat začnem. Najbrž že deset let naj bi se datoteke v Pythonu odpirale takole:"
   ]
  },
  {
   "cell_type": "code",
   "execution_count": 22,
   "id": "7773fa22",
   "metadata": {},
   "outputs": [],
   "source": [
    "with open(\"tabelica-kolesa.txt\", \"w\") as f:\n",
    "    f.write(f\"{'Kolo':6}{'Število voženj':>19}{'Razdalja':>19}{'Višina':>19}\\n\")\n",
    "    f.write(\"-\" * (6 + 3 * 19) + \"\\n\")\n",
    "    for kolo in voznje:\n",
    "        voz, raz, vis = voznje[kolo], razdalje[kolo], visine[kolo]\n",
    "        f.write(f\"{kolo:12}{voz:5} ({voz / sk_voz:>5.1%}) {raz:10} ({raz / sk_raz:>5.1%}) {vis:10} ({vis / sk_vis:>5.1%})\\n\")\n",
    "    f.write(\"-\" * (6 + 3 * 19) + \"\\n\")"
   ]
  },
  {
   "cell_type": "markdown",
   "id": "e698d7bd",
   "metadata": {},
   "source": [
    "Stavek `with` dela z rečmi, ki obstajajo znotraj nekega bloka (uradno ime za to reč je \"kontekst\"), ko se izvajanje bloka konča, pa želijo biti o tem obveščene, ker morajo opraviti kakšna \"zaključna dela\". Datoteka je že taka reč: v začetku bloka jo odpremo, ko je konec bloka, pa je o tem obveščena in se \"sama\" zapre. Za `as f` pa priredimo spremenljivki `f` rezultat funkcije `open`.\n",
    "\n",
    "Isto velja za branje: celo `csv.reader` bi morali uradno klicati tako:\n",
    "\n",
    "```\n",
    "with open(\"kolesa.txt\") as f:\n",
    "    for vrstice in csv.reader(f):\n",
    "        ... in tako naprej\n",
    "```\n",
    "\n",
    "Mislite si, kar si hočete. Razumite, če hočete. Datoteke lahko odpirate z običajnim klicem `open` in jih ne zapirate (tako kot smo počeli že od začetka semestra), ali pa jih zapirate s `close`. Kar piše v tem razdelku pa ignorirate. Skoraj gotovo se vam ne bo zgodilo nič. Lahko pa uporabljate `with`."
   ]
  }
 ],
 "metadata": {
  "kernelspec": {
   "display_name": "Python 3 (ipykernel)",
   "language": "python",
   "name": "python3"
  },
  "language_info": {
   "codemirror_mode": {
    "name": "ipython",
    "version": 3
   },
   "file_extension": ".py",
   "mimetype": "text/x-python",
   "name": "python",
   "nbconvert_exporter": "python",
   "pygments_lexer": "ipython3",
   "version": "3.11.5"
  }
 },
 "nbformat": 4,
 "nbformat_minor": 5
}
