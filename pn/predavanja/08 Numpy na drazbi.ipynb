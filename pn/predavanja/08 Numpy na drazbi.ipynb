{
 "cells": [
  {
   "cell_type": "markdown",
   "id": "ea05650a",
   "metadata": {},
   "source": [
    "## Numpy na dražbi\n",
    "\n",
    "Za začetek poglejte domačo nalogo [Dražba](https://ucilnica.fri.uni-lj.si/mod/assign/view.php?id=53269). Tu bomo namreč rešili isto nalogo s pomočjo numpy-ja."
   ]
  },
  {
   "cell_type": "code",
   "execution_count": 2,
   "id": "b4fb1ca0",
   "metadata": {},
   "outputs": [],
   "source": [
    "import numpy as np"
   ]
  },
  {
   "cell_type": "markdown",
   "id": "cd8a01d8",
   "metadata": {},
   "source": [
    "Za začetek uvozimo podatke."
   ]
  },
  {
   "cell_type": "code",
   "execution_count": 3,
   "id": "04e311bf",
   "metadata": {},
   "outputs": [],
   "source": [
    "cene = np.genfromtxt(\"../domace-naloge/02-drazba/drazba.txt\", dtype=int)"
   ]
  },
  {
   "cell_type": "code",
   "execution_count": 4,
   "id": "49a66d6a",
   "metadata": {},
   "outputs": [
    {
     "data": {
      "text/plain": [
       "array([11, 17, 24, 30, -1, 13, 27, 33, -1, 12, 27, 34, 40, -1,  9, -1,  8,\n",
       "       20, 30, 31, -1])"
      ]
     },
     "execution_count": 4,
     "metadata": {},
     "output_type": "execute_result"
    }
   ],
   "source": [
    "cene"
   ]
  },
  {
   "cell_type": "markdown",
   "id": "14591a89",
   "metadata": {},
   "source": [
    "Na prvi dve vprašanji - koliko izdelkov so prodali in koliko je stal najdražji, lahko že odgovorimo.\n",
    "\n",
    "Prodali so toliko izdelkov, kolikor je `-1`. S `cene == -1` dobimo tabelo `False` in `True`; `True`, kjer so `-1`."
   ]
  },
  {
   "cell_type": "code",
   "execution_count": 5,
   "id": "5fcf4281",
   "metadata": {},
   "outputs": [
    {
     "data": {
      "text/plain": [
       "array([False, False, False, False,  True, False, False, False,  True,\n",
       "       False, False, False, False,  True, False,  True, False, False,\n",
       "       False, False,  True])"
      ]
     },
     "execution_count": 5,
     "metadata": {},
     "output_type": "execute_result"
    }
   ],
   "source": [
    "cene == -1"
   ]
  },
  {
   "cell_type": "markdown",
   "id": "bc541133",
   "metadata": {},
   "source": [
    "Ker je `True` enak `1` in `False` enak `0`, elemente seznama preprosto seštejemo."
   ]
  },
  {
   "cell_type": "code",
   "execution_count": 6,
   "id": "9ef407d3",
   "metadata": {},
   "outputs": [
    {
     "data": {
      "text/plain": [
       "5"
      ]
     },
     "execution_count": 6,
     "metadata": {},
     "output_type": "execute_result"
    }
   ],
   "source": [
    "np.sum(cene == -1)"
   ]
  },
  {
   "cell_type": "markdown",
   "id": "10f0c64f",
   "metadata": {},
   "source": [
    "Cena najdražjega izdelka je kar največja številka v tabeli."
   ]
  },
  {
   "cell_type": "code",
   "execution_count": 7,
   "id": "dda88fe4",
   "metadata": {},
   "outputs": [
    {
     "data": {
      "text/plain": [
       "40"
      ]
     },
     "execution_count": 7,
     "metadata": {},
     "output_type": "execute_result"
    }
   ],
   "source": [
    "np.max(cene)"
   ]
  },
  {
   "cell_type": "markdown",
   "id": "cd577115",
   "metadata": {},
   "source": [
    "Odgovor na zadnje vprašanje je pravilen, z estetskega vidika pa nekoliko zmoti, da smo računali maksimum prek vsega, vključno z vmesnimi ponudbami in celo `-1`. Nalogo bomo brez težav rešili tudi elegantneje, saj nas bo v to prisililo naslednje vprašanje: kakšna je vsota cen prodanih izdelkov.\n",
    "\n",
    "Funkcija `np.flatnonzero` nam vrne tabelo z indeksi ne-ničelnih elementov. Če gre za tabelo `True`-jev in `False`-ov, vrne indekse `True`-jev. V našem primeru bodo to ravno indeksi elementov z vrednostjo `-1`."
   ]
  },
  {
   "cell_type": "code",
   "execution_count": 8,
   "id": "21ed3f11",
   "metadata": {},
   "outputs": [
    {
     "data": {
      "text/plain": [
       "array([ 4,  8, 13, 15, 20])"
      ]
     },
     "execution_count": 8,
     "metadata": {},
     "output_type": "execute_result"
    }
   ],
   "source": [
    "indeksi = np.flatnonzero(cene == -1)\n",
    "\n",
    "indeksi"
   ]
  },
  {
   "cell_type": "markdown",
   "id": "f62eec78",
   "metadata": {},
   "source": [
    "Hitro se prepričamo, da so na teh indeksih ravno `-1`-ke."
   ]
  },
  {
   "cell_type": "code",
   "execution_count": 9,
   "id": "c97d0fdc",
   "metadata": {},
   "outputs": [
    {
     "data": {
      "text/plain": [
       "array([-1, -1, -1, -1, -1])"
      ]
     },
     "execution_count": 9,
     "metadata": {},
     "output_type": "execute_result"
    }
   ],
   "source": [
    "cene[indeksi]"
   ]
  },
  {
   "cell_type": "markdown",
   "id": "36069578",
   "metadata": {},
   "source": [
    "To je nezanimivo: zanimajo nas ravno elementi pred njimi. Od indeksov torej odštejemo `1`."
   ]
  },
  {
   "cell_type": "code",
   "execution_count": 10,
   "id": "bdc7f41f",
   "metadata": {},
   "outputs": [
    {
     "data": {
      "text/plain": [
       "array([30, 33, 40,  9, 31])"
      ]
     },
     "execution_count": 10,
     "metadata": {},
     "output_type": "execute_result"
    }
   ],
   "source": [
    "koncne = cene[indeksi - 1]\n",
    "\n",
    "koncne"
   ]
  },
  {
   "cell_type": "markdown",
   "id": "2e3c356d",
   "metadata": {},
   "source": [
    "Zdaj lahko ponovno rešimo prvi dve nalogi in še tretjo:"
   ]
  },
  {
   "cell_type": "code",
   "execution_count": 11,
   "id": "4ee9353f",
   "metadata": {},
   "outputs": [
    {
     "name": "stdout",
     "output_type": "stream",
     "text": [
      "Število prodanih predmetov: 5\n",
      "Cena najdražjega predmeta: 40\n",
      "Vsota končnih cen: 143\n"
     ]
    }
   ],
   "source": [
    "print(f\"Število prodanih predmetov: {len(koncne)}\")\n",
    "print(f\"Cena najdražjega predmeta: {np.max(koncne)}\")\n",
    "print(f\"Vsota končnih cen: {np.sum(koncne)}\")"
   ]
  },
  {
   "cell_type": "markdown",
   "id": "f0be8b58",
   "metadata": {},
   "source": [
    "Zadnji vprašanji sprašujeta, koliko predmetov je kupila Ana in koliko Berta ter koliko je zapravila katera od njiju.\n",
    "\n",
    "Na dražbi sta le onidve in prva ponudba je vedno Anina. Za odgovor na vprašanji moramo prešteti, za katere predmete je bilo število ponudb liho in za koliko sodo. Za to pa moramo za začetek prešteti število ponudb za vsak predmet. Pravilni odgovor bo `[4, 3, 4, 1, 4]`.\n",
    "\n",
    "Število ponudb je (skoraj) enako razlikam med indeksi."
   ]
  },
  {
   "cell_type": "code",
   "execution_count": 12,
   "id": "2020d793",
   "metadata": {},
   "outputs": [
    {
     "data": {
      "text/plain": [
       "array([ 4,  8, 13, 15, 20])"
      ]
     },
     "execution_count": 12,
     "metadata": {},
     "output_type": "execute_result"
    }
   ],
   "source": [
    "indeksi"
   ]
  },
  {
   "cell_type": "markdown",
   "id": "4f9e7c14",
   "metadata": {},
   "source": [
    "Za prvi predmet so bile dane štiri ponudbe. Naprej gledamo razlike: indeks druge -1 je `8`, indeks prve pa `4`; vmes so bile 8 - 4 - 1 = 3 ponudbe. (Še 1 je potrebno odšteti, ker imamo v tabeli poleg cen še vmesne elemente `-1`.) Naslednja indeksa sta 13 in 8; 13 - 8 - 1 = 4."
   ]
  },
  {
   "cell_type": "markdown",
   "id": "a78f8a83",
   "metadata": {},
   "source": [
    "Število ponudb za posamični predmet bomo izvedeli, če od"
   ]
  },
  {
   "cell_type": "code",
   "execution_count": 13,
   "id": "e2ce6795",
   "metadata": {},
   "outputs": [
    {
     "data": {
      "text/plain": [
       "array([ 4,  8, 13, 15, 20])"
      ]
     },
     "execution_count": 13,
     "metadata": {},
     "output_type": "execute_result"
    }
   ],
   "source": [
    "indeksi"
   ]
  },
  {
   "cell_type": "markdown",
   "id": "4424d39d",
   "metadata": {},
   "source": [
    "odštejemo"
   ]
  },
  {
   "cell_type": "code",
   "execution_count": 14,
   "id": "79f950c2",
   "metadata": {},
   "outputs": [
    {
     "data": {
      "text/plain": [
       "array([-1,  4,  8, 13, 15])"
      ]
     },
     "execution_count": 14,
     "metadata": {},
     "output_type": "execute_result"
    }
   ],
   "source": [
    "np.hstack(([-1], indeksi[:-1]))"
   ]
  },
  {
   "cell_type": "markdown",
   "id": "2e2d19b6",
   "metadata": {},
   "source": [
    "in še `-1`. Na začetek smo dodali -1. Na ta način bomo po odštevanju dobili ravno pravo številko za nesrečni, posebni prvi predmet, saj bomo imeli `4 - (-1) - 1 = 4`. Ne spreglejte tudi dvojnih oklepajev: funkciji `np.hstack` kot argument podamo terko s tabelama, ki jo želimo speti skupaj."
   ]
  },
  {
   "cell_type": "code",
   "execution_count": 15,
   "id": "42bbd43c",
   "metadata": {},
   "outputs": [
    {
     "data": {
      "text/plain": [
       "array([4, 3, 4, 1, 4])"
      ]
     },
     "execution_count": 15,
     "metadata": {},
     "output_type": "execute_result"
    }
   ],
   "source": [
    "ponudb = indeksi - np.hstack(([-1], indeksi[:-1])) - 1\n",
    "\n",
    "ponudb"
   ]
  },
  {
   "cell_type": "markdown",
   "id": "4c5088a6",
   "metadata": {},
   "source": [
    "Natančno, kar potrebujemo.\n",
    "\n",
    "Ana je kupila tiste predmete, za katere je bilo število ponudb liho; Berta tiste, za katere je bilo sodo."
   ]
  },
  {
   "cell_type": "code",
   "execution_count": 16,
   "id": "662b2c28",
   "metadata": {},
   "outputs": [
    {
     "data": {
      "text/plain": [
       "array([False,  True, False,  True, False])"
      ]
     },
     "execution_count": 16,
     "metadata": {},
     "output_type": "execute_result"
    }
   ],
   "source": [
    "ana = ponudb % 2 == 1\n",
    "berta = ponudb % 2 == 0\n",
    "\n",
    "ana"
   ]
  },
  {
   "cell_type": "code",
   "execution_count": 17,
   "id": "d5a6c209",
   "metadata": {},
   "outputs": [
    {
     "name": "stdout",
     "output_type": "stream",
     "text": [
      "Ana je kupila 2, Berta pa 3 reči.\n"
     ]
    }
   ],
   "source": [
    "print(f\"Ana je kupila {np.sum(ana)}, Berta pa {np.sum(berta)} reči.\")"
   ]
  },
  {
   "cell_type": "markdown",
   "id": "1d0267b2",
   "metadata": {},
   "source": [
    "In koliko je zapravila katera? Tole so cene reči, ki so končale pri Ani:"
   ]
  },
  {
   "cell_type": "code",
   "execution_count": 18,
   "id": "bd390c57",
   "metadata": {},
   "outputs": [
    {
     "data": {
      "text/plain": [
       "array([33,  9])"
      ]
     },
     "execution_count": 18,
     "metadata": {},
     "output_type": "execute_result"
    }
   ],
   "source": [
    "koncne[ana]"
   ]
  },
  {
   "cell_type": "markdown",
   "id": "2654e299",
   "metadata": {},
   "source": [
    "Torej, očitno,"
   ]
  },
  {
   "cell_type": "code",
   "execution_count": 19,
   "id": "da6ee0d2",
   "metadata": {},
   "outputs": [
    {
     "name": "stdout",
     "output_type": "stream",
     "text": [
      "Ana je zapravila 42, Berta pa 101.\n"
     ]
    }
   ],
   "source": [
    "print(f\"Ana je zapravila {np.sum(koncne[ana])}, Berta pa {np.sum(koncne[berta])}.\")"
   ]
  },
  {
   "cell_type": "markdown",
   "id": "4c968938",
   "metadata": {},
   "source": [
    "### Vse skupaj\n",
    "\n",
    "Da se zavemo, kako elegantno kratko je vse skupaj, napišimo celoten program v kosu."
   ]
  },
  {
   "cell_type": "code",
   "execution_count": 20,
   "id": "d41266a8",
   "metadata": {},
   "outputs": [
    {
     "name": "stdout",
     "output_type": "stream",
     "text": [
      "Število prodanih predmetov: 5\n",
      "Cena najdražjega predmeta: 40\n",
      "Vsota končnih cen: 143\n",
      "Ana je kupila 2, Berta pa 3 reči.\n",
      "Ana je zapravila 42, Berta pa 101.\n"
     ]
    }
   ],
   "source": [
    "import numpy as np\n",
    "\n",
    "cene = np.genfromtxt(\"../domace-naloge/02-drazba/drazba.txt\", dtype=int)\n",
    "indeksi = np.flatnonzero(cene == -1)\n",
    "koncne = cene[indeksi - 1]\n",
    "ponudb = indeksi - np.hstack(([-1], indeksi[:-1])) - 1\n",
    "ana = ponudb % 2 == 1\n",
    "berta = ponudb % 2 == 0\n",
    "\n",
    "print(f\"Število prodanih predmetov: {len(koncne)}\")\n",
    "print(f\"Cena najdražjega predmeta: {np.max(koncne)}\")\n",
    "print(f\"Vsota končnih cen: {np.sum(koncne)}\")\n",
    "print(f\"Ana je kupila {np.sum(ana)}, Berta pa {np.sum(berta)} reči.\")\n",
    "print(f\"Ana je zapravila {np.sum(koncne[ana])}, Berta pa {np.sum(koncne[berta])}.\")"
   ]
  }
 ],
 "metadata": {
  "kernelspec": {
   "display_name": "Python 3 (ipykernel)",
   "language": "python",
   "name": "python3"
  },
  "language_info": {
   "codemirror_mode": {
    "name": "ipython",
    "version": 3
   },
   "file_extension": ".py",
   "mimetype": "text/x-python",
   "name": "python",
   "nbconvert_exporter": "python",
   "pygments_lexer": "ipython3",
   "version": "3.11.5"
  }
 },
 "nbformat": 4,
 "nbformat_minor": 5
}
