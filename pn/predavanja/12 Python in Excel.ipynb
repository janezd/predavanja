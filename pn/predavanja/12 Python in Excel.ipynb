{
 "cells": [
  {
   "cell_type": "markdown",
   "id": "68139071",
   "metadata": {},
   "source": [
    "## Python in Excel\n",
    "\n",
    "V programih v Python lahko brez večje drame (ali celo tragedije) beremo (in pišemo) podatke iz datotek (in v datoteke) v Excelu. Potrebujemo le primerno knjižnico. Za .xlsx je to `openpyxl`, za starejši `.xls` pa `xlrd`. Tu se bomo ukvarjali le s prvo. V drugi je podobno.\n",
    "\n",
    "Openpyxl je potrebno najprej namestiti. Dril poznamo: `pip install openpyxl`.\n",
    "\n",
    "Nato uvozimo knjižnico in naložimo zvezek (*workbook*) iz datoteke."
   ]
  },
  {
   "cell_type": "code",
   "execution_count": 7,
   "id": "5eee3730",
   "metadata": {},
   "outputs": [
    {
     "data": {
      "text/plain": [
       "<openpyxl.workbook.workbook.Workbook at 0x1257003d0>"
      ]
     },
     "execution_count": 7,
     "metadata": {},
     "output_type": "execute_result"
    }
   ],
   "source": [
    "import openpyxl\n",
    "\n",
    "wb = openpyxl.load_workbook(\"xml/primer.xlsx\")\n",
    "\n",
    "wb"
   ]
  },
  {
   "cell_type": "markdown",
   "id": "500394dd",
   "metadata": {},
   "source": [
    "`wb` zdaj predstavlja celoten zvezek. Ta je sestavljen iz listov. Njihova imena izvemo v `sheetnames`."
   ]
  },
  {
   "cell_type": "code",
   "execution_count": 4,
   "id": "512f5f9e",
   "metadata": {},
   "outputs": [
    {
     "data": {
      "text/plain": [
       "['Sheet1', 'Sheet2']"
      ]
     },
     "execution_count": 4,
     "metadata": {},
     "output_type": "execute_result"
    }
   ],
   "source": [
    "wb.sheetnames"
   ]
  },
  {
   "cell_type": "markdown",
   "id": "23cad4f0",
   "metadata": {},
   "source": [
    "`wb` se obnaša tudi kot nekakšen slovar; imena zvezkov so ključi, pripadajoče vrednosti pa so, očitno, zvezki."
   ]
  },
  {
   "cell_type": "code",
   "execution_count": 8,
   "id": "a3be1eb5",
   "metadata": {},
   "outputs": [
    {
     "data": {
      "text/plain": [
       "<Worksheet \"Sheet1\">"
      ]
     },
     "execution_count": 8,
     "metadata": {},
     "output_type": "execute_result"
    }
   ],
   "source": [
    "ws = wb[\"Sheet1\"]\n",
    "\n",
    "ws"
   ]
  },
  {
   "cell_type": "markdown",
   "id": "c1e596ae",
   "metadata": {},
   "source": [
    "Vse se torej dogaja po nivojih - imamo podatkovni tip, ki predstavlja zvezek, tip, ki predstavlja list in, na koncu, tip, ki predstavlja celico. Do objektov tega tipa pridemo s funkcijo `cells`, ki jih podamo \"koordinate\" celice."
   ]
  },
  {
   "cell_type": "code",
   "execution_count": 12,
   "id": "aee0f8c0",
   "metadata": {},
   "outputs": [
    {
     "data": {
      "text/plain": [
       "<Cell 'Sheet1'.A4>"
      ]
     },
     "execution_count": 12,
     "metadata": {},
     "output_type": "execute_result"
    }
   ],
   "source": [
    "cell = ws.cell(4, 1)\n",
    "\n",
    "cell"
   ]
  },
  {
   "cell_type": "markdown",
   "id": "cfc7871c",
   "metadata": {},
   "source": [
    "Ne spreglejmo, da `openpyxl` šteje celice od 1, ne od 0, kot smo vajeni v Pythonu. Celica (4, 1) ni B5, temveč A4. To je morda nekoliko nerodno, a štetje od 0 bi bilo najbrž še nerodnejše. In, da, v koordinatah najprej povemo vrstico in nato stolpec, medtem ko je v Excelovi notaciji (A4), ravno obratno.\n",
    "\n",
    "Celice imajo kup stvari. Očitno nas bo navadno zanimala vrednost."
   ]
  },
  {
   "cell_type": "code",
   "execution_count": 13,
   "id": "17a32d75",
   "metadata": {},
   "outputs": [
    {
     "data": {
      "text/plain": [
       "'Cilka'"
      ]
     },
     "execution_count": 13,
     "metadata": {},
     "output_type": "execute_result"
    }
   ],
   "source": [
    "cell.value"
   ]
  },
  {
   "cell_type": "markdown",
   "id": "5394543e",
   "metadata": {},
   "source": [
    "Tabela je takšna"
   ]
  },
  {
   "cell_type": "markdown",
   "id": "43a16935",
   "metadata": {},
   "source": [
    "<img src=\"data:image/.png;base64,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\"/>"
   ]
  },
  {
   "cell_type": "markdown",
   "id": "376dabb0",
   "metadata": {},
   "source": [
    "Torej je v A4 res Cilka."
   ]
  },
  {
   "cell_type": "markdown",
   "id": "be4d2483",
   "metadata": {},
   "source": [
    "\"Kup stvari\" v `cell` pač pomeni vse lastnosti, ki jih lahko v Excelu damo celici. Vse so nam dostopne. Recimo"
   ]
  },
  {
   "cell_type": "code",
   "execution_count": 14,
   "id": "3761610f",
   "metadata": {},
   "outputs": [
    {
     "data": {
      "text/plain": [
       "<openpyxl.styles.alignment.Alignment object>\n",
       "Parameters:\n",
       "horizontal='center', vertical=None, textRotation=0, wrapText=None, shrinkToFit=None, indent=0.0, relativeIndent=0.0, justifyLastLine=None, readingOrder=0.0"
      ]
     },
     "execution_count": 14,
     "metadata": {},
     "output_type": "execute_result"
    }
   ],
   "source": [
    "cell.alignment"
   ]
  },
  {
   "cell_type": "code",
   "execution_count": 15,
   "id": "6084d590",
   "metadata": {},
   "outputs": [
    {
     "data": {
      "text/plain": [
       "<openpyxl.styles.fonts.Font object>\n",
       "Parameters:\n",
       "name='Calibri', charset=None, family=2.0, b=True, i=False, strike=None, outline=None, shadow=None, condense=None, color=<openpyxl.styles.colors.Color object>\n",
       "Parameters:\n",
       "rgb=None, indexed=None, auto=None, theme=1, tint=0.0, type='theme', extend=None, sz=12.0, u=None, vertAlign=None, scheme='minor'"
      ]
     },
     "execution_count": 15,
     "metadata": {},
     "output_type": "execute_result"
    }
   ],
   "source": [
    "cell.font"
   ]
  },
  {
   "cell_type": "markdown",
   "id": "abfb0962",
   "metadata": {},
   "source": [
    "S takimi stvarmi, kot je programsko branje poravnave, pisav in bogvečesa še, se bržkone ne bomo ukvarjali. Če bi ravno morali pa - da, `cell.font` vrne nek podatek tipa `Font` (točneje, podatek tip `openpyxl.styles.fonts.Font`) in znotraj tega objekta so vsi podatki o pisavi, na primer oblika pisave,"
   ]
  },
  {
   "cell_type": "code",
   "execution_count": 16,
   "id": "6d5ed848",
   "metadata": {},
   "outputs": [
    {
     "data": {
      "text/plain": [
       "'Calibri'"
      ]
     },
     "execution_count": 16,
     "metadata": {},
     "output_type": "execute_result"
    }
   ],
   "source": [
    "cell.font.name"
   ]
  },
  {
   "cell_type": "markdown",
   "id": "b3f2da17",
   "metadata": {},
   "source": [
    "in ali je celica zapisana v odebeljenem"
   ]
  },
  {
   "cell_type": "code",
   "execution_count": 17,
   "id": "2ea5fd16",
   "metadata": {},
   "outputs": [
    {
     "data": {
      "text/plain": [
       "True"
      ]
     },
     "execution_count": 17,
     "metadata": {},
     "output_type": "execute_result"
    }
   ],
   "source": [
    "cell.font.b"
   ]
  },
  {
   "cell_type": "markdown",
   "id": "5869cb38",
   "metadata": {},
   "source": [
    "(je) ali v poševnem tisku"
   ]
  },
  {
   "cell_type": "code",
   "execution_count": 18,
   "id": "47d7d7fc",
   "metadata": {},
   "outputs": [
    {
     "data": {
      "text/plain": [
       "False"
      ]
     },
     "execution_count": 18,
     "metadata": {},
     "output_type": "execute_result"
    }
   ],
   "source": [
    "cell.font.i"
   ]
  },
  {
   "cell_type": "markdown",
   "id": "631b9dc5",
   "metadata": {},
   "source": [
    "(ni).\n",
    "\n",
    "Bolj nas bodo torej zanimale vrednosti. Do njih lahko, kot rečeno, pridemo s `cells`, najpogosteje pa si bomo želeli preprosto vse vrednosti v tabeli. Za to nam pride prav nekaj generatorjev.\n",
    "\n",
    "`ws.rows` generira vrstice."
   ]
  },
  {
   "cell_type": "code",
   "execution_count": 20,
   "id": "8bc36d96",
   "metadata": {},
   "outputs": [
    {
     "data": {
      "text/plain": [
       "<generator object Worksheet._cells_by_row at 0x1174f95a0>"
      ]
     },
     "execution_count": 20,
     "metadata": {},
     "output_type": "execute_result"
    }
   ],
   "source": [
    "ws.rows"
   ]
  },
  {
   "cell_type": "markdown",
   "id": "065b9f7f",
   "metadata": {},
   "source": [
    "Delati ga naženemo z zanko `for`, pa vidimo, da za vsako vrstico vrne seznam celic."
   ]
  },
  {
   "cell_type": "code",
   "execution_count": 22,
   "id": "fde69daa",
   "metadata": {},
   "outputs": [
    {
     "name": "stdout",
     "output_type": "stream",
     "text": [
      "(<Cell 'Sheet1'.A1>, <Cell 'Sheet1'.B1>, <Cell 'Sheet1'.C1>, <Cell 'Sheet1'.D1>)\n",
      "(<Cell 'Sheet1'.A2>, <Cell 'Sheet1'.B2>, <Cell 'Sheet1'.C2>, <Cell 'Sheet1'.D2>)\n",
      "(<Cell 'Sheet1'.A3>, <Cell 'Sheet1'.B3>, <Cell 'Sheet1'.C3>, <Cell 'Sheet1'.D3>)\n",
      "(<Cell 'Sheet1'.A4>, <Cell 'Sheet1'.B4>, <Cell 'Sheet1'.C4>, <Cell 'Sheet1'.D4>)\n",
      "(<Cell 'Sheet1'.A5>, <Cell 'Sheet1'.B5>, <Cell 'Sheet1'.C5>, <Cell 'Sheet1'.D5>)\n"
     ]
    }
   ],
   "source": [
    "for vrstica in ws.rows:\n",
    "    print(vrstica)"
   ]
  },
  {
   "cell_type": "markdown",
   "id": "ed35b028",
   "metadata": {},
   "source": [
    "Kar bi radi vrednosti, seveda potrebujemo še eno zanko,"
   ]
  },
  {
   "cell_type": "code",
   "execution_count": 23,
   "id": "ab5b9bc8",
   "metadata": {},
   "outputs": [
    {
     "name": "stdout",
     "output_type": "stream",
     "text": [
      "None\n",
      "Matematika\n",
      "Slovenščina\n",
      "Telovadba\n",
      "\n",
      "Ana\n",
      "5\n",
      "3\n",
      "2\n",
      "\n",
      "Berta\n",
      "5\n",
      "2\n",
      "3\n",
      "\n",
      "Cilka\n",
      "5\n",
      "5\n",
      "1\n",
      "\n",
      "Dani\n",
      "5\n",
      "3\n",
      "2\n",
      "\n"
     ]
    }
   ],
   "source": [
    "for vrstica in ws.rows:\n",
    "    for celica in vrstica:\n",
    "        print(celica.value)\n",
    "    print()"
   ]
  },
  {
   "cell_type": "markdown",
   "id": "129e80e3",
   "metadata": {},
   "source": [
    "Ali pa, bolj praktično, uporabimo izpeljane sezname in brez hujših muk dobimo celo tabelico v seznamu seznamov."
   ]
  },
  {
   "cell_type": "code",
   "execution_count": 24,
   "id": "a8974e65",
   "metadata": {},
   "outputs": [
    {
     "data": {
      "text/plain": [
       "[[None, 'Matematika', 'Slovenščina', 'Telovadba'],\n",
       " ['Ana', 5, 3, 2],\n",
       " ['Berta', 5, 2, 3],\n",
       " ['Cilka', 5, 5, 1],\n",
       " ['Dani', 5, 3, 2]]"
      ]
     },
     "execution_count": 24,
     "metadata": {},
     "output_type": "execute_result"
    }
   ],
   "source": [
    "[[celica.value for celica in vrstica] for vrstica in ws.rows]"
   ]
  },
  {
   "cell_type": "markdown",
   "id": "9b2b34f4",
   "metadata": {},
   "source": [
    "Mimogrede opazimo, da `openpyxl` ne vrača nizov, temveč so besedilna polja nizi, številska pa številke. (Prazne celice pa `None`). To si lahko privošči, ker že Excel ve - in v .xlsx zapiše - kakšnega tipa je posamična celica. Openpyxl zgolj uboga."
   ]
  },
  {
   "cell_type": "markdown",
   "id": "a8cdd8a8",
   "metadata": {},
   "source": [
    "Zgodilo se bo, da nas bodo namesto vrstic zanimali stolpci. Ista reč, le `columns` namesto `rows`."
   ]
  },
  {
   "cell_type": "code",
   "execution_count": 25,
   "id": "b05bd088",
   "metadata": {},
   "outputs": [
    {
     "data": {
      "text/plain": [
       "[[None, 'Ana', 'Berta', 'Cilka', 'Dani'],\n",
       " ['Matematika', 5, 5, 5, 5],\n",
       " ['Slovenščina', 3, 2, 5, 3],\n",
       " ['Telovadba', 2, 3, 1, 2]]"
      ]
     },
     "execution_count": 25,
     "metadata": {},
     "output_type": "execute_result"
    }
   ],
   "source": [
    "[[celica.value for celica in vrstica] for vrstica in ws.columns]"
   ]
  },
  {
   "cell_type": "markdown",
   "id": "6cbe54cb",
   "metadata": {},
   "source": [
    "Lahko pa uporabimo, preprosto, `values`."
   ]
  },
  {
   "cell_type": "code",
   "execution_count": 26,
   "id": "eea16211",
   "metadata": {},
   "outputs": [
    {
     "data": {
      "text/plain": [
       "<generator object Worksheet.values at 0x1113cc5f0>"
      ]
     },
     "execution_count": 26,
     "metadata": {},
     "output_type": "execute_result"
    }
   ],
   "source": [
    "ws.values"
   ]
  },
  {
   "cell_type": "markdown",
   "id": "88e1acd2",
   "metadata": {},
   "source": [
    "Ta je sicer spet generator, vendar generira vrstice vrednosti, zato ga lahko izgeneriramo kar z `list`."
   ]
  },
  {
   "cell_type": "code",
   "execution_count": 27,
   "id": "07095f26",
   "metadata": {},
   "outputs": [
    {
     "data": {
      "text/plain": [
       "[(None, 'Matematika', 'Slovenščina', 'Telovadba'),\n",
       " ('Ana', 5, 3, 2),\n",
       " ('Berta', 5, 2, 3),\n",
       " ('Cilka', 5, 5, 1),\n",
       " ('Dani', 5, 3, 2)]"
      ]
     },
     "execution_count": 27,
     "metadata": {},
     "output_type": "execute_result"
    }
   ],
   "source": [
    "list(ws.values)"
   ]
  },
  {
   "cell_type": "markdown",
   "id": "bec30c90",
   "metadata": {},
   "source": [
    "Tule je potrebno popaziti: Excel včasih ne ve, kje se konča tabela, zato v .xlsx zapiše napačen podatek. Tule bi nam lahko mirno dodal vrstico in sestavil\n",
    "\n",
    "```\n",
    "[(None, 'Matematika', 'Slovenščina', 'Telovadba'),\n",
    " ('Ana', 5, 3, 2),\n",
    " ('Berta', 5, 2, 3),\n",
    " ('Cilka', 5, 5, 1),\n",
    " ('Dani', 5, 3, 2),\n",
    " (None, None, None, None)]\n",
    " ```\n",
    " \n",
    "ali pa bi ga pičilo dodati še deset praznih stolpcev. Tudi informacija o prvem in zadnjem zasedenem stolpcu in vrstici je lahko pravilna ali pa tudi ne."
   ]
  },
  {
   "cell_type": "code",
   "execution_count": 28,
   "id": "ed33f3e3",
   "metadata": {},
   "outputs": [
    {
     "data": {
      "text/plain": [
       "(1, 5)"
      ]
     },
     "execution_count": 28,
     "metadata": {},
     "output_type": "execute_result"
    }
   ],
   "source": [
    "ws.min_row, ws.max_row"
   ]
  },
  {
   "cell_type": "code",
   "execution_count": 29,
   "id": "455e648e",
   "metadata": {},
   "outputs": [
    {
     "data": {
      "text/plain": [
       "(1, 4)"
      ]
     },
     "execution_count": 29,
     "metadata": {},
     "output_type": "execute_result"
    }
   ],
   "source": [
    "ws.min_column, ws.max_column"
   ]
  },
  {
   "cell_type": "markdown",
   "id": "4cde1feb",
   "metadata": {},
   "source": [
    "Problem je že dolgo znan in obvoza ni. Edino, kar lahko storimo, je, da program po branju preveri in sam odreže vse vrstice in stolpce na koncu, ki ne vsebujejo drugega kot `None`."
   ]
  }
 ],
 "metadata": {
  "kernelspec": {
   "display_name": "Python 3 (ipykernel)",
   "language": "python",
   "name": "python3"
  },
  "language_info": {
   "codemirror_mode": {
    "name": "ipython",
    "version": 3
   },
   "file_extension": ".py",
   "mimetype": "text/x-python",
   "name": "python",
   "nbconvert_exporter": "python",
   "pygments_lexer": "ipython3",
   "version": "3.11.5"
  }
 },
 "nbformat": 4,
 "nbformat_minor": 5
}
