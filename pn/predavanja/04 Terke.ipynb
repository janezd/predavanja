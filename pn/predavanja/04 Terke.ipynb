{
 "cells": [
  {
   "cell_type": "markdown",
   "id": "473205b6",
   "metadata": {},
   "source": [
    "# Terke\n",
    "\n",
    "S seznami je v navidez tesni žlahti podatkovni tip *tuple*. Ime je skovano iz angleških besed *quintuple*, *sextuple*, *septuple*, *octuple* ... ki jih je skupni *tuple*. V slovenščini imamo peterko, šesterko, sedm(t)erko, osem(t)erko, deveterko, skratka, *terko*.\n",
    "\n",
    "## Kako jih sestavimo\n",
    "\n",
    "Na prvi pogled je razlika v tem, da ima terka okrogle oklepaje namesto seznamovih oglatih. (Se pravi, terke so lepše od seznamov. :)"
   ]
  },
  {
   "cell_type": "code",
   "execution_count": 3,
   "id": "e6bfafc1",
   "metadata": {},
   "outputs": [],
   "source": [
    "imena = (\"Ana\", \"Berta\", \"Cilka\", \"Dani\", \"Ema\", \"Fanči\")"
   ]
  },
  {
   "cell_type": "markdown",
   "id": "c2d94a79",
   "metadata": {},
   "source": [
    "Naredimo lahko tudi prazno terko."
   ]
  },
  {
   "cell_type": "code",
   "execution_count": 10,
   "id": "206755c4",
   "metadata": {},
   "outputs": [],
   "source": [
    "prazna = ()"
   ]
  },
  {
   "cell_type": "markdown",
   "id": "73e6288c",
   "metadata": {},
   "source": [
    "Ali terko z enim elementom."
   ]
  },
  {
   "cell_type": "code",
   "execution_count": 11,
   "id": "daac82b5",
   "metadata": {},
   "outputs": [],
   "source": [
    "ena = (\"Ana\", )"
   ]
  },
  {
   "cell_type": "markdown",
   "id": "2328adf3",
   "metadata": {},
   "source": [
    "Ne spreglejte vejice. `(\"Ana\", )` je terka z enim elementom, `(\"Ana\")` pa je samo niz `\"Ana\"`, ki smo ga iz Pythonu neznanega razloga dali v oklepaj. Ker se stvari sme dajati v nepotrebne oklepaje, so stvari v oklepajih samo stvari, ne terke. Da povemo, da gre za terko, moramo dodati še vejico.\n",
    "\n",
    "Še ena čudna reč: terke ne potrebujejo oklepajev!"
   ]
  },
  {
   "cell_type": "code",
   "execution_count": 19,
   "id": "e19f7e67",
   "metadata": {},
   "outputs": [],
   "source": [
    "imena = \"Ana\", \"Berta\", \"Cilka\", \"Dani\", \"Ema\", \"Fanči\""
   ]
  },
  {
   "cell_type": "markdown",
   "id": "9d3e2653",
   "metadata": {},
   "source": [
    "`imena` so zdaj terka, točno takšna kot prej. Vendar je to tako čudno, da celo Python, ko ga vprašamo po vsebini spremenljivke `imena`, odgovori z zapisom v oklepajih."
   ]
  },
  {
   "cell_type": "code",
   "execution_count": 20,
   "id": "9d1ed1cf",
   "metadata": {},
   "outputs": [
    {
     "data": {
      "text/plain": [
       "('Ana', 'Berta', 'Cilka', 'Dani', 'Ema', 'Fanči')"
      ]
     },
     "execution_count": 20,
     "metadata": {},
     "output_type": "execute_result"
    }
   ],
   "source": [
    "imena"
   ]
  },
  {
   "cell_type": "markdown",
   "id": "93c1a26a",
   "metadata": {},
   "source": [
    "Za terko dolžine 0 seveda potrebujemo oklepaje.\n",
    "\n",
    "Sitno je, da za terko dolžine 1 ne potrebujemo oklepajev."
   ]
  },
  {
   "cell_type": "code",
   "execution_count": 21,
   "id": "10e0f588",
   "metadata": {},
   "outputs": [],
   "source": [
    "ena = \"Ana\","
   ]
  },
  {
   "cell_type": "markdown",
   "id": "b8c6c273",
   "metadata": {},
   "source": [
    "`ena` je zdaj terka,"
   ]
  },
  {
   "cell_type": "code",
   "execution_count": 22,
   "id": "e34bd7a2",
   "metadata": {},
   "outputs": [
    {
     "data": {
      "text/plain": [
       "('Ana',)"
      ]
     },
     "execution_count": 22,
     "metadata": {},
     "output_type": "execute_result"
    }
   ],
   "source": [
    "ena"
   ]
  },
  {
   "cell_type": "markdown",
   "id": "6b844af3",
   "metadata": {},
   "source": [
    "in to samo zato, ker smo na koncu vrstice - morda čisto ponesreči - napisali vejico.\n",
    "\n",
    "S terkami brez oklepajev so potemtakem same sitnosti? Zakaj je to potem sploh dovoljeno? Zato, ker obstajajo situacije, ko je to videti boljše. Takrat - in le takrat - jih pišemo brez. Primer je tik pred koncem tega poglavja, še en pa na koncu poglavja o funkcijah."
   ]
  },
  {
   "cell_type": "markdown",
   "id": "e0bdfdc6",
   "metadata": {},
   "source": [
    "## Kaj počnemo z njimi - in česa ne?\n",
    "\n",
    "S terkami lahko počnemo marsikaj, kar lahko počnemo s seznami."
   ]
  },
  {
   "cell_type": "code",
   "execution_count": 4,
   "id": "c5dd410e",
   "metadata": {},
   "outputs": [
    {
     "name": "stdout",
     "output_type": "stream",
     "text": [
      "Ana\n",
      "Berta\n",
      "Cilka\n",
      "Dani\n",
      "Ema\n",
      "Fanči\n"
     ]
    }
   ],
   "source": [
    "for ime in imena:\n",
    "    print(ime)"
   ]
  },
  {
   "cell_type": "code",
   "execution_count": 5,
   "id": "7e490aa9",
   "metadata": {},
   "outputs": [
    {
     "data": {
      "text/plain": [
       "'Cilka'"
      ]
     },
     "execution_count": 5,
     "metadata": {},
     "output_type": "execute_result"
    }
   ],
   "source": [
    "imena[2]"
   ]
  },
  {
   "cell_type": "code",
   "execution_count": 6,
   "id": "ed2c07cd",
   "metadata": {},
   "outputs": [
    {
     "data": {
      "text/plain": [
       "('Dani', 'Ema', 'Fanči')"
      ]
     },
     "execution_count": 6,
     "metadata": {},
     "output_type": "execute_result"
    }
   ],
   "source": [
    "imena[-3:]"
   ]
  },
  {
   "cell_type": "markdown",
   "id": "88c4aaf0",
   "metadata": {},
   "source": [
    "Ne moremo pa jih spreminjati."
   ]
  },
  {
   "cell_type": "code",
   "execution_count": 7,
   "id": "3fb93137",
   "metadata": {},
   "outputs": [
    {
     "ename": "AttributeError",
     "evalue": "'tuple' object has no attribute 'append'",
     "output_type": "error",
     "traceback": [
      "\u001b[0;31m---------------------------------------------------------------------------\u001b[0m",
      "\u001b[0;31mAttributeError\u001b[0m                            Traceback (most recent call last)",
      "Cell \u001b[0;32mIn[7], line 1\u001b[0m\n\u001b[0;32m----> 1\u001b[0m imena\u001b[38;5;241m.\u001b[39mappend(\u001b[38;5;124m\"\u001b[39m\u001b[38;5;124mGreta\u001b[39m\u001b[38;5;124m\"\u001b[39m)\n",
      "\u001b[0;31mAttributeError\u001b[0m: 'tuple' object has no attribute 'append'"
     ]
    }
   ],
   "source": [
    "imena.append(\"Greta\")"
   ]
  },
  {
   "cell_type": "code",
   "execution_count": 8,
   "id": "309bf376",
   "metadata": {},
   "outputs": [
    {
     "ename": "TypeError",
     "evalue": "'tuple' object doesn't support item deletion",
     "output_type": "error",
     "traceback": [
      "\u001b[0;31m---------------------------------------------------------------------------\u001b[0m",
      "\u001b[0;31mTypeError\u001b[0m                                 Traceback (most recent call last)",
      "Cell \u001b[0;32mIn[8], line 1\u001b[0m\n\u001b[0;32m----> 1\u001b[0m \u001b[38;5;28;01mdel\u001b[39;00m imena[\u001b[38;5;241m2\u001b[39m]\n",
      "\u001b[0;31mTypeError\u001b[0m: 'tuple' object doesn't support item deletion"
     ]
    }
   ],
   "source": [
    "del imena[2]"
   ]
  },
  {
   "cell_type": "code",
   "execution_count": 9,
   "id": "9dcf0366",
   "metadata": {},
   "outputs": [
    {
     "ename": "TypeError",
     "evalue": "'tuple' object does not support item assignment",
     "output_type": "error",
     "traceback": [
      "\u001b[0;31m---------------------------------------------------------------------------\u001b[0m",
      "\u001b[0;31mTypeError\u001b[0m                                 Traceback (most recent call last)",
      "Cell \u001b[0;32mIn[9], line 1\u001b[0m\n\u001b[0;32m----> 1\u001b[0m imena[\u001b[38;5;241m2\u001b[39m] \u001b[38;5;241m=\u001b[39m \u001b[38;5;124m\"\u001b[39m\u001b[38;5;124mCecilija\u001b[39m\u001b[38;5;124m\"\u001b[39m\n",
      "\u001b[0;31mTypeError\u001b[0m: 'tuple' object does not support item assignment"
     ]
    }
   ],
   "source": [
    "imena[2] = \"Cecilija\""
   ]
  },
  {
   "cell_type": "markdown",
   "id": "de4e3bba",
   "metadata": {},
   "source": [
    "Ne in ne. Ne gre.\n",
    "\n",
    "Terke so zanimiva reč: **ko enkrat naredimo terko, bo vedno ostala takšna, kot je bila ob rojstvu.** Pravzaprav pa to ni nič nepričakovanega: isto lastnost imajo tudi `int`, `float`, `bool`, `str`. Razen seznamov in slovarjev torej vse, kar poznamo."
   ]
  },
  {
   "cell_type": "markdown",
   "id": "da15e358",
   "metadata": {},
   "source": [
    "## Zakaj potem sploh obstajajo?"
   ]
  },
  {
   "cell_type": "markdown",
   "id": "a8b3375a",
   "metadata": {},
   "source": [
    "Zakaj, pravzaprav bi si kdo želel podatkovni tip, katerega vrednosti se ne da nikoli spremeniti?\n",
    "\n",
    "### Ker je jih ne da spreminjati\n",
    "\n",
    "Včasih potrebujemo točno to: nekaj, kar se gotovo ne bo spremenilo. Se spomnite ključev slovarjev? Takrat smo povedali, da so ključi lahko samo stvari, ki so nespremenljive. To so, bolj ali manj, številke in nizi (pa `True`, `False` in `None`, ki pa niso prav pogosti gosti med ključi slovarja, in, recimo, funkcije in moduli, ki so tam še redkeje). Včasih bi koga zamikalo kot ključ uporabiti seznam. To ne gre: sezname očitno lahko spreminjamo, torej ne morejo biti ključi. Če taiste vrednosti vržemo v terko, pa gre."
   ]
  },
  {
   "cell_type": "code",
   "execution_count": 12,
   "id": "626d6fea",
   "metadata": {},
   "outputs": [],
   "source": [
    "d = {}\n",
    "s = [1, 2, 3]"
   ]
  },
  {
   "cell_type": "code",
   "execution_count": 13,
   "id": "7c03238d",
   "metadata": {},
   "outputs": [
    {
     "ename": "TypeError",
     "evalue": "unhashable type: 'list'",
     "output_type": "error",
     "traceback": [
      "\u001b[0;31m---------------------------------------------------------------------------\u001b[0m",
      "\u001b[0;31mTypeError\u001b[0m                                 Traceback (most recent call last)",
      "Cell \u001b[0;32mIn[13], line 1\u001b[0m\n\u001b[0;32m----> 1\u001b[0m d[s] \u001b[38;5;241m=\u001b[39m \u001b[38;5;241m0\u001b[39m\n",
      "\u001b[0;31mTypeError\u001b[0m: unhashable type: 'list'"
     ]
    }
   ],
   "source": [
    "d[s] = 0"
   ]
  },
  {
   "cell_type": "code",
   "execution_count": 14,
   "id": "7a2dbd55",
   "metadata": {},
   "outputs": [
    {
     "data": {
      "text/plain": [
       "(1, 2, 3)"
      ]
     },
     "execution_count": 14,
     "metadata": {},
     "output_type": "execute_result"
    }
   ],
   "source": [
    "t = tuple(s)\n",
    "t"
   ]
  },
  {
   "cell_type": "code",
   "execution_count": 15,
   "id": "9246c4e3",
   "metadata": {},
   "outputs": [],
   "source": [
    "d[t] = 0"
   ]
  },
  {
   "cell_type": "code",
   "execution_count": 16,
   "id": "1991dde0",
   "metadata": {},
   "outputs": [
    {
     "data": {
      "text/plain": [
       "{(1, 2, 3): 0}"
      ]
     },
     "execution_count": 16,
     "metadata": {},
     "output_type": "execute_result"
    }
   ],
   "source": [
    "d"
   ]
  },
  {
   "cell_type": "markdown",
   "id": "2c62e446",
   "metadata": {},
   "source": [
    "### Ker so tako preproste\n",
    "\n",
    "Drugič, Python terke veliko uporablja interno. Ko, recimo, kličemo funkcijo z več argumenti, jih funkcija dejansko (a za programerja neopazno) dobi zapakirane v terko. Veliko stvari znotraj Pythona je v resnici terka. Seznami bi bili za to vlogo manj primerni, ker se lahko spreminjajo, ker se morajo znati podaljševati in skrajševati ... Preprosto prezapleteni so, preveč stvari omogočajo, pretežko jih je nadzorovati. Vendar nas ta, drugi razlog pri tem predmetu še najmanj zanima.\n",
    "\n",
    "Tudi nam se bo zgodilo, da bomo kdaj na hitro naredili terko, ker bo tako praktično. Recimo, da imamo dve spremenljivki, `x` in `y`."
   ]
  },
  {
   "cell_type": "code",
   "execution_count": 1,
   "id": "39ab3e16",
   "metadata": {},
   "outputs": [],
   "source": [
    "x = 6\n",
    "y = 3"
   ]
  },
  {
   "cell_type": "markdown",
   "id": "e1201c3d",
   "metadata": {},
   "source": [
    "Morda je za nadaljevanje programa potrebno, da je v `x` manjša v `y` pa večja vrednost. Po potrebi ju torej zamenjamo."
   ]
  },
  {
   "cell_type": "code",
   "execution_count": 2,
   "id": "50e50c7c",
   "metadata": {},
   "outputs": [],
   "source": [
    "x, y = y, x"
   ]
  },
  {
   "cell_type": "markdown",
   "id": "c97b8e44",
   "metadata": {},
   "source": [
    "Razumemo? Na desni strani je terka (samo brez oklepajev - to je eden od primerov, ko si jo upamo napisati tako, zato to tudi storimo). Na levi strani pa to terko razpakiramo. V bistvu torej `x, y = (y, x)`, le z manj navlake.\n",
    "\n",
    "Kaj pa, če ne vemo, ali je `x` dejansko manjši od `y` in nismo prepričani, da ju je treba zamenjati? Začetnik piše"
   ]
  },
  {
   "cell_type": "code",
   "execution_count": 3,
   "id": "ec6dc155",
   "metadata": {},
   "outputs": [],
   "source": [
    "if x > y:\n",
    "    x, y = y, x"
   ]
  },
  {
   "cell_type": "markdown",
   "id": "66a7939f",
   "metadata": {},
   "source": [
    "Stari maček Pythona pa"
   ]
  },
  {
   "cell_type": "code",
   "execution_count": 4,
   "id": "fe5800d3",
   "metadata": {},
   "outputs": [],
   "source": [
    "x, y = min(x, y), max(x, y)"
   ]
  },
  {
   "cell_type": "markdown",
   "id": "d0f2f654",
   "metadata": {},
   "source": [
    "### Za hranjenje \"zapisov\"\n",
    "\n",
    "Recimo, da bi radi shranili podatke iz ene vrstice datoteke o, na primer, dražbi. Zapisali bi radi torej ime predmeta, ponudnika in ponujeno ceno. Lahko bi uporabili seznam,"
   ]
  },
  {
   "cell_type": "code",
   "execution_count": 17,
   "id": "9b7d78b5",
   "metadata": {},
   "outputs": [],
   "source": [
    "ponudba = [\"slika\", \"Ana\", 30]"
   ]
  },
  {
   "cell_type": "markdown",
   "id": "6d87df76",
   "metadata": {},
   "source": [
    "S tem ni nič narobe, vendar to ni tipično delo za sezname. Seznami so nekaj, kar se spreminja, vanj dodajamo elemente, jih brišemo. Takšne stvari tipično shranjujemo v terke."
   ]
  },
  {
   "cell_type": "code",
   "execution_count": 18,
   "id": "97461c1c",
   "metadata": {},
   "outputs": [],
   "source": [
    "ponudba = (\"slika\", \"Ana\", 30)"
   ]
  },
  {
   "cell_type": "markdown",
   "id": "d0869bce",
   "metadata": {},
   "source": [
    "Razlika niti ni velika, v praksi bo relativno vseeno. Vsaj za vas. Pravi programer v Pythonu pa se v tem vidi, če ne drugega, neobvezno pravilo, in se ob prvem, seznamu, kar malo zdrzne. Priporočam, da se tudi sami navadite takega reda."
   ]
  }
 ],
 "metadata": {
  "kernelspec": {
   "display_name": "Python 3 (ipykernel)",
   "language": "python",
   "name": "python3"
  },
  "language_info": {
   "codemirror_mode": {
    "name": "ipython",
    "version": 3
   },
   "file_extension": ".py",
   "mimetype": "text/x-python",
   "name": "python",
   "nbconvert_exporter": "python",
   "pygments_lexer": "ipython3",
   "version": "3.11.5"
  }
 },
 "nbformat": 4,
 "nbformat_minor": 5
}
