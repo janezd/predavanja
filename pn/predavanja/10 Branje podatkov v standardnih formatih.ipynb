{
 "cells": [
  {
   "cell_type": "markdown",
   "id": "a7220605",
   "metadata": {},
   "source": [
    "# Branje podatkov v standardnih formatih\n",
    "\n",
    "Doslej smo podatke vedno brali iz datotek in te so bile skoraj vedno tabelarične - podatki so bili po vrsticah in vrednosti v stolpcih, ločenih z vejicami ali -- izjemoma in običajno samo za vajo -- s čem drugim.\n",
    "\n",
    "Ni vedno tako. Podatki so lahko zapisani tudi v drugačnih oblikah. Včasih brez posebnega razloga, pogosto pa zato, ker bodo podatki strukturirani: v csv lahko zapišemo le tabele -- vrstice in stolpce -- ne pa kakih bolj zapletenih, recimo hierarhičnih podatkov. Seznam kontaktov je seznam oseb, vsaka oseba lahko vsebuje več naslovov, telefonskih številk in elektronskih naslovov, vsi so dodatno okarakterizirani s tem ali so službeni, domači ali kaki drugi, dodane so lahko različne opombe in priponke... Take podatke bi bilo zoprno zapisovati v tabelarično obliko. Zato uporabljamo druge oblike. Na srečo jih je le nekaj in za branje vseh je Python odlično opremljen.\n",
    "\n",
    "## Branje podatkov s spleta\n",
    "\n",
    "Ker bomo podatke pogosto dobili na spletu, ne v že pripravljenih datotekah, se za začetek naučimo prebrati podatke s spletne strani. Točneje, s spletnega vira, ki v resnici ni spletna stran namenjena temu, da bi jo brali ljudje, temveč temu, da bi z nje računalniki pobirali podatke. Za začetek bomo prebrali tečajnico z NLB, ki jo dobimo na naslovu https://www.nlb.si/services/tecajnica/?type=companies&format=csv.\n",
    "\n",
    "Skopirajmo URL v brskalnik, poglejmo.\n",
    "\n",
    "```\n",
    "Num Date____ Bank Type_______ NCu CCu Buy___________ Sell__________\n",
    "001 20231227 NLB_ companies__ 840 USD 0001,111300000 0001,095000000 \n",
    "001 20231227 NLB_ companies__ 826 GBP 0000,873800000 0000,860800000 \n",
    "001 20231227 NLB_ companies__ 756 CHF 0000,951700000 0000,933700000 \n",
    "001 20231227 NLB_ companies__ 348 HUF 0383,700000000 0379,700000000 \n",
    "001 20231227 NLB_ companies__ 941 RSD 0119,470000000 0114,870000000 \n",
    "001 20231227 NLB_ companies__ 977 BAM 0001,968000000 0001,947000000 \n",
    "001 20231227 NLB_ companies__ 807 MKD 0062,300000000 0060,500000000 \n",
    "001 20231227 NLB_ companies__ 203 CZK 0024,760000000 0024,420000000 \n",
    "001 20231227 NLB_ companies__ 985 PLN 0004,354000000 0004,314000000 \n",
    "001 20231227 NLB_ companies__ 975 BGN 0001,967000000 0001,937000000 \n",
    "001 20231227 NLB_ companies__ 578 NOK 0011,292000000 0011,152000000 \n",
    "001 20231227 NLB_ companies__ 752 SEK 0011,112000000 0010,972000000 \n",
    "001 20231227 NLB_ companies__ 208 DKK 0007,504900000 0007,404900000 \n",
    "001 20231227 NLB_ companies__ 036 AUD 0001,624200000 0001,610200000 \n",
    "001 20231227 NLB_ companies__ 124 CAD 0001,463400000 0001,449400000 \n",
    "001 20231227 NLB_ companies__ 392 JPY 0158,140000000 0156,740000000 \n",
    "001 20231227 NLB_ companies__ 946 RON 0005,009200000 0004,929200000 \n",
    "001 20231227 NLB_ companies__ 710 ZAR 0020,701400000 0020,301400000 \n",
    "001 20231227 NLB_ companies__ 344 HKD 0008,724100000 0008,524100000 \n",
    "001 20231227 NLB_ companies__ 949 TRY 0032,628500000 0032,208500000 \n",
    "001 20231227 NLB_ companies__ 484 MXN 0019,047700000 0018,447700000 \n",
    "001 20231227 NLB_ companies__ 554 NZD 0001,760100000 0001,728100000 \n",
    "001 20231227 NLB_ companies__ 376 ILS 0004,041500000 0003,951500000 \n",
    "001 20231227 NLB_ companies__ 784 AED 0004,076000000 0004,036000000 \n",
    "```\n",
    "\n",
    "To stran sem izbral prav zato, ker nam da tečajnico v obliki, ki jo že obvladamo. \"Uradnejša\" tečajnica Banke Slovenije je v XML, ki se ga moramo še naučiti brati.\n",
    "\n",
    "(Mimogrede lahko opazite, da se URL konča z `format=csv`. Očitno bi tam lahko pisalo tudi kaj drugega, recimo `format=xml`. Več o tem, kako lahko spreminjamo URL, da dobite različne podatke, izvemo na https://www.nlb.si/avtomatiziran-prevzem-tecajnic. NLB to dokumentira; obliko URL bomo morali sicer pogosto ugibati sami ali pa jo odkriti s pomočjo primernih orodij.)\n",
    "\n",
    "Zdaj pa je naša naloga, da teh podatkov ne dobimo v brskalnik temveč jih preberemo s programom v Pythonu. Uporabiti nam je modul `urllib.request`; ta vsebuje funkcijo `urlopen`, ki se vede nekoliko podobno kot `open`, s katerim odpiramo datoteke: tako kot `open` vrne objekt, ki predstavlja datoteko, pripravljeno za branje, tako `urlopen` vrne nekaj, kar je pripravljeno za branje."
   ]
  },
  {
   "cell_type": "code",
   "execution_count": 1,
   "id": "c515ce65",
   "metadata": {},
   "outputs": [],
   "source": [
    "from urllib.request import urlopen\n",
    "\n",
    "f = urlopen(\"https://www.nlb.si/services/tecajnica/?type=companies&format=csv\")"
   ]
  },
  {
   "cell_type": "markdown",
   "id": "b11c9e01",
   "metadata": {},
   "source": [
    "Zdaj pa kakšen bralnik iz `csv`?"
   ]
  },
  {
   "cell_type": "code",
   "execution_count": 2,
   "id": "6ea476a8",
   "metadata": {
    "tags": [
     "raises-exception"
    ]
   },
   "outputs": [
    {
     "ename": "Error",
     "evalue": "iterator should return strings, not bytes (the file should be opened in text mode)",
     "output_type": "error",
     "traceback": [
      "\u001b[0;31m---------------------------------------------------------------------------\u001b[0m",
      "\u001b[0;31mError\u001b[0m                                     Traceback (most recent call last)",
      "Cell \u001b[0;32mIn[2], line 3\u001b[0m\n\u001b[1;32m      1\u001b[0m \u001b[38;5;28;01mimport\u001b[39;00m \u001b[38;5;21;01mcsv\u001b[39;00m\n\u001b[0;32m----> 3\u001b[0m \u001b[38;5;28;01mfor\u001b[39;00m vrstica \u001b[38;5;129;01min\u001b[39;00m csv\u001b[38;5;241m.\u001b[39mDictReader(f):\n\u001b[1;32m      4\u001b[0m     \u001b[38;5;28mprint\u001b[39m(vrstica)\n",
      "File \u001b[0;32m~/opt/miniconda3/envs/prog/lib/python3.11/csv.py:110\u001b[0m, in \u001b[0;36mDictReader.__next__\u001b[0;34m(self)\u001b[0m\n\u001b[1;32m    107\u001b[0m \u001b[38;5;28;01mdef\u001b[39;00m \u001b[38;5;21m__next__\u001b[39m(\u001b[38;5;28mself\u001b[39m):\n\u001b[1;32m    108\u001b[0m     \u001b[38;5;28;01mif\u001b[39;00m \u001b[38;5;28mself\u001b[39m\u001b[38;5;241m.\u001b[39mline_num \u001b[38;5;241m==\u001b[39m \u001b[38;5;241m0\u001b[39m:\n\u001b[1;32m    109\u001b[0m         \u001b[38;5;66;03m# Used only for its side effect.\u001b[39;00m\n\u001b[0;32m--> 110\u001b[0m         \u001b[38;5;28mself\u001b[39m\u001b[38;5;241m.\u001b[39mfieldnames\n\u001b[1;32m    111\u001b[0m     row \u001b[38;5;241m=\u001b[39m \u001b[38;5;28mnext\u001b[39m(\u001b[38;5;28mself\u001b[39m\u001b[38;5;241m.\u001b[39mreader)\n\u001b[1;32m    112\u001b[0m     \u001b[38;5;28mself\u001b[39m\u001b[38;5;241m.\u001b[39mline_num \u001b[38;5;241m=\u001b[39m \u001b[38;5;28mself\u001b[39m\u001b[38;5;241m.\u001b[39mreader\u001b[38;5;241m.\u001b[39mline_num\n",
      "File \u001b[0;32m~/opt/miniconda3/envs/prog/lib/python3.11/csv.py:97\u001b[0m, in \u001b[0;36mDictReader.fieldnames\u001b[0;34m(self)\u001b[0m\n\u001b[1;32m     95\u001b[0m \u001b[38;5;28;01mif\u001b[39;00m \u001b[38;5;28mself\u001b[39m\u001b[38;5;241m.\u001b[39m_fieldnames \u001b[38;5;129;01mis\u001b[39;00m \u001b[38;5;28;01mNone\u001b[39;00m:\n\u001b[1;32m     96\u001b[0m     \u001b[38;5;28;01mtry\u001b[39;00m:\n\u001b[0;32m---> 97\u001b[0m         \u001b[38;5;28mself\u001b[39m\u001b[38;5;241m.\u001b[39m_fieldnames \u001b[38;5;241m=\u001b[39m \u001b[38;5;28mnext\u001b[39m(\u001b[38;5;28mself\u001b[39m\u001b[38;5;241m.\u001b[39mreader)\n\u001b[1;32m     98\u001b[0m     \u001b[38;5;28;01mexcept\u001b[39;00m \u001b[38;5;167;01mStopIteration\u001b[39;00m:\n\u001b[1;32m     99\u001b[0m         \u001b[38;5;28;01mpass\u001b[39;00m\n",
      "\u001b[0;31mError\u001b[0m: iterator should return strings, not bytes (the file should be opened in text mode)"
     ]
    }
   ],
   "source": [
    "import csv\n",
    "\n",
    "for vrstica in csv.DictReader(f):\n",
    "    print(vrstica)"
   ]
  },
  {
   "cell_type": "markdown",
   "id": "371bdc50",
   "metadata": {},
   "source": [
    "Žal ne. Če z `open` odpremo datoteko (in ne zahtevamo, da jo odpre kot ne-besedilno, binarno datoteko), bomo ob branju vrstic (ali celotne datoteke) dobili nize. Funkcija `urlopen` vrne objekt, ki ob branju ne vrača nizov temveč bajte."
   ]
  },
  {
   "cell_type": "code",
   "execution_count": 3,
   "id": "376fae6c",
   "metadata": {},
   "outputs": [
    {
     "data": {
      "text/plain": [
       "b'001 20240210 NLB_ companies__ 840 USD 0001,088800000 0001,064800000 \\r\\n'"
      ]
     },
     "execution_count": 3,
     "metadata": {},
     "output_type": "execute_result"
    }
   ],
   "source": [
    "f.readline()"
   ]
  },
  {
   "cell_type": "markdown",
   "id": "03d2a26c",
   "metadata": {},
   "source": [
    "Vidimo `b` na začetku, pred narekovaji? Ta pove, da to, kar je med narekovaji ni zaporedje znakov (niz) temveč zaporedje števil. Števila, ki jih je mogoče pokazati kot znake ASCII, pokaže kot znake, ostala pa zamenja z nečim čudnim (česar tu hvalabogu ne vidimo).\n",
    "\n",
    "Razliko med nizi in bajti vidimo, če poskušamo dostopati do posamičnih elementov."
   ]
  },
  {
   "cell_type": "code",
   "execution_count": 4,
   "id": "37e4788a",
   "metadata": {},
   "outputs": [],
   "source": [
    "s = f.readline()"
   ]
  },
  {
   "cell_type": "code",
   "execution_count": 5,
   "id": "a5c45f16",
   "metadata": {},
   "outputs": [
    {
     "data": {
      "text/plain": [
       "b'001 20240210 NLB_ companies__ 826 GBP 0000,866300000 0000,842300000 \\r\\n'"
      ]
     },
     "execution_count": 5,
     "metadata": {},
     "output_type": "execute_result"
    }
   ],
   "source": [
    "s"
   ]
  },
  {
   "cell_type": "code",
   "execution_count": 6,
   "id": "6a51dbd3",
   "metadata": {},
   "outputs": [
    {
     "data": {
      "text/plain": [
       "76"
      ]
     },
     "execution_count": 6,
     "metadata": {},
     "output_type": "execute_result"
    }
   ],
   "source": [
    "s[14]"
   ]
  },
  {
   "cell_type": "markdown",
   "id": "45f5f292",
   "metadata": {},
   "source": [
    "Če bi bil `s` niz, bi dobili štirinajsti znak \"N\". Tako pa dobimo štirinajsto številko, 76 (ki v ASCII slučajno pomeni veliki N). Razliko vidimo tudi pri pretvarjanju v seznam."
   ]
  },
  {
   "cell_type": "code",
   "execution_count": 7,
   "id": "deb4b531",
   "metadata": {},
   "outputs": [
    {
     "name": "stdout",
     "output_type": "stream",
     "text": [
      "[48, 48, 49, 32, 50, 48, 50, 52, 48, 50, 49, 48, 32, 78, 76, 66, 95, 32, 99, 111, 109, 112, 97, 110, 105, 101, 115, 95, 95, 32, 56, 50, 54, 32, 71, 66, 80, 32, 48, 48, 48, 48, 44, 56, 54, 54, 51, 48, 48, 48, 48, 48, 32, 48, 48, 48, 48, 44, 56, 52, 50, 51, 48, 48, 48, 48, 48, 32, 13, 10]\n"
     ]
    }
   ],
   "source": [
    "print(list(s))"
   ]
  },
  {
   "cell_type": "markdown",
   "id": "0e569422",
   "metadata": {},
   "source": [
    "Če bi bil `s` niz, bi dobili seznam črk, tako pa seznam števil.\n",
    "\n",
    "Zakaj? Tako datoteke kot podatki s spleta so zgolj številke. Pri branju datotek Python predpostavi, da številke predstavljajo znake, zapisane v privzetem kodiranju za operacijski sistem (UTF-8 v spodobnih sistemih (Linux, macOS), razna lokalna kodiranja v nespodobnih) oziroma kodiranju, ki ga funkciji `open` podamo kot dodatni argument `encoding`. Vse prebrane številke zato *dekodira* v nize.\n",
    "\n",
    "Pri branju s spleta Python (oziroma objekt, ki ga vrne `urlopen`) ne dekodira ničesar. Vrne nam kar številke in dekodirati jih moramo tako, da sami pokličemo metodo `decode`."
   ]
  },
  {
   "cell_type": "code",
   "execution_count": 8,
   "id": "0e77f7ed",
   "metadata": {},
   "outputs": [
    {
     "data": {
      "text/plain": [
       "'001 20240210 NLB_ companies__ 826 GBP 0000,866300000 0000,842300000 \\r\\n'"
      ]
     },
     "execution_count": 8,
     "metadata": {},
     "output_type": "execute_result"
    }
   ],
   "source": [
    "s.decode(\"ascii\")"
   ]
  },
  {
   "cell_type": "markdown",
   "id": "47d6f99d",
   "metadata": {},
   "source": [
    "Tule smo dekodirali kar v ASCII, saj v imenih valut (vsaj v tem seznamu) ni šumnikov. Če bi brali kakšne druge podatke, bi morda pisali"
   ]
  },
  {
   "cell_type": "code",
   "execution_count": 9,
   "id": "41d10857",
   "metadata": {},
   "outputs": [
    {
     "data": {
      "text/plain": [
       "'001 20240210 NLB_ companies__ 826 GBP 0000,866300000 0000,842300000 \\r\\n'"
      ]
     },
     "execution_count": 9,
     "metadata": {},
     "output_type": "execute_result"
    }
   ],
   "source": [
    "s.decode(\"utf-8\")"
   ]
  },
  {
   "cell_type": "markdown",
   "id": "52720540",
   "metadata": {},
   "source": [
    "ali celo"
   ]
  },
  {
   "cell_type": "code",
   "execution_count": 10,
   "id": "b943e21d",
   "metadata": {},
   "outputs": [
    {
     "data": {
      "text/plain": [
       "'〰‱〲㐲㈰〱丠䉌\\u205f潣灭湡敩彳\\u205f㈸‶䉇⁐〰〰㠬㘶〳〰〰〠〰ⰰ㐸㌲〰〰‰\\u0a0d'"
      ]
     },
     "execution_count": 10,
     "metadata": {},
     "output_type": "execute_result"
    }
   ],
   "source": [
    "s.decode(\"utf-16\")"
   ]
  },
  {
   "cell_type": "markdown",
   "id": "78fb8da9",
   "metadata": {},
   "source": [
    "Karkoli že."
   ]
  },
  {
   "cell_type": "markdown",
   "id": "947609a4",
   "metadata": {},
   "source": [
    "Tečajnico bomo prebrali kar brez `csv`, saj ne bo tako zapletena."
   ]
  },
  {
   "cell_type": "code",
   "execution_count": 11,
   "id": "9b85e70a",
   "metadata": {},
   "outputs": [
    {
     "data": {
      "text/plain": [
       "{'USD': 1.0888,\n",
       " 'GBP': 0.8663,\n",
       " 'CHF': 0.9601,\n",
       " 'HUF': 392.8,\n",
       " 'RSD': 119.6805,\n",
       " 'BAM': 1.985,\n",
       " 'MKD': 62.5,\n",
       " 'CZK': 25.58,\n",
       " 'PLN': 4.3873,\n",
       " 'BGN': 1.977,\n",
       " 'NOK': 11.5529,\n",
       " 'SEK': 11.4341,\n",
       " 'DKK': 7.5634,\n",
       " 'AUD': 1.6743,\n",
       " 'CAD': 1.4686,\n",
       " 'JPY': 162.6,\n",
       " 'RON': 5.0474,\n",
       " 'ZAR': 20.7834,\n",
       " 'HKD': 8.5512,\n",
       " 'TRY': 33.3143,\n",
       " 'MXN': 18.755,\n",
       " 'NZD': 1.7807,\n",
       " 'ILS': 4.0178,\n",
       " 'AED': 3.9802}"
      ]
     },
     "execution_count": 11,
     "metadata": {},
     "output_type": "execute_result"
    }
   ],
   "source": [
    "tecajnica = {}\n",
    "\n",
    "t = urlopen(\"https://www.nlb.si/services/tecajnica/?type=companies&format=csv\")\n",
    "t.readline()  # preskočimo prvo vrstico, ki vsebuje le imena stolpcev\n",
    "\n",
    "for vrstica in t:\n",
    "    vrstica = vrstica.decode(\"ascii\").split()  # Pred klicem split spremenimo bajte v niz\n",
    "    valuta = vrstica[5]  # stolpec z imenom valute\n",
    "    cena = vrstica[6]  # stolpec z vrednostjo\n",
    "    tecajnica[valuta] = float(cena.replace(\",\", \".\"))\n",
    "    \n",
    "tecajnica"
   ]
  },
  {
   "cell_type": "markdown",
   "id": "fbb78d64",
   "metadata": {},
   "source": [
    "Ker NLB objavlja strojno berljive podatke tako, da uporablja decimalno vejico namesto pike, moramo pred klicem `float` še z `replace(\",\", \".\")` spraviti podatek v strojno berljivo obliko."
   ]
  },
  {
   "cell_type": "markdown",
   "id": "be67ad70",
   "metadata": {},
   "source": [
    "## JSON\n",
    "\n",
    "Eden pogostih formatov, v katerih dobimo podatke s spleta, je JSON. Razlog za njegovo pogostost razkriva njegovo ime: JSON je JavaScript Object Notation. Ker so spletne strani navadno sprogramirane v JavaScriptu, si podatke najraje pošiljajo v Javascriptu lastnem formatu.\n",
    "\n",
    "Za branje in pisanje v obliki JSON ima Python modul `json`:\n",
    "\n",
    "- `json.dump(obj, f)` v datoteko `f` shrani vrednost `obj` v formatu json,\n",
    "- `json.load(f)` prebere (naslednji) objekt iz `f`,\n",
    "- `json.dumps(obj)` vrne niz z zapisom objekta `obj` v formatu json in,\n",
    "- `json.loads(s)` iz niza s razbere objekt.\n",
    "\n",
    "Poglejmo, kako bi bila v njem videti naša tečajnica."
   ]
  },
  {
   "cell_type": "code",
   "execution_count": 12,
   "id": "c226244c",
   "metadata": {},
   "outputs": [
    {
     "data": {
      "text/plain": [
       "'{\"USD\": 1.0888, \"GBP\": 0.8663, \"CHF\": 0.9601, \"HUF\": 392.8, \"RSD\": 119.6805, \"BAM\": 1.985, \"MKD\": 62.5, \"CZK\": 25.58, \"PLN\": 4.3873, \"BGN\": 1.977, \"NOK\": 11.5529, \"SEK\": 11.4341, \"DKK\": 7.5634, \"AUD\": 1.6743, \"CAD\": 1.4686, \"JPY\": 162.6, \"RON\": 5.0474, \"ZAR\": 20.7834, \"HKD\": 8.5512, \"TRY\": 33.3143, \"MXN\": 18.755, \"NZD\": 1.7807, \"ILS\": 4.0178, \"AED\": 3.9802}'"
      ]
     },
     "execution_count": 12,
     "metadata": {},
     "output_type": "execute_result"
    }
   ],
   "source": [
    "import json\n",
    "\n",
    "json.dumps(tecajnica)"
   ]
  },
  {
   "cell_type": "markdown",
   "id": "4977805c",
   "metadata": {},
   "source": [
    "Da. Če zapišemo Pythonov slovar v obliki json, je videti natančno kot Pythonov slovar. :)\n",
    "\n",
    "Pa seznam?"
   ]
  },
  {
   "cell_type": "code",
   "execution_count": 13,
   "id": "cb25bf59",
   "metadata": {},
   "outputs": [
    {
     "data": {
      "text/plain": [
       "'[\"Ana\", \"Berta\", \"Cilka\"]'"
      ]
     },
     "execution_count": 13,
     "metadata": {},
     "output_type": "execute_result"
    }
   ],
   "source": [
    "json.dumps([\"Ana\", \"Berta\", \"Cilka\"])"
   ]
  },
  {
   "cell_type": "markdown",
   "id": "41bf3a6d",
   "metadata": {},
   "source": [
    "Skratka. Če shranjujemo Pythonove objekte v formatu json, jih zapisuje natančno tako, kot jih zapisujemo v Pythonu. Skoraj."
   ]
  },
  {
   "cell_type": "code",
   "execution_count": 14,
   "id": "8d3e6523",
   "metadata": {},
   "outputs": [
    {
     "data": {
      "text/plain": [
       "'[\"Ana\", true, false, null]'"
      ]
     },
     "execution_count": 14,
     "metadata": {},
     "output_type": "execute_result"
    }
   ],
   "source": [
    "json.dumps([\"Ana\", True, False, None])"
   ]
  },
  {
   "cell_type": "markdown",
   "id": "d9469b46",
   "metadata": {},
   "source": [
    "Zapisuje jih po Javascriptovsko: `True` in `False` sta napisana z malo in namesto `None` piše `null`."
   ]
  },
  {
   "cell_type": "markdown",
   "id": "b4a90590",
   "metadata": {},
   "source": [
    "Terke postanejo seznami."
   ]
  },
  {
   "cell_type": "code",
   "execution_count": 15,
   "id": "2d4f2e4a",
   "metadata": {},
   "outputs": [
    {
     "data": {
      "text/plain": [
       "'[1, 2, 3]'"
      ]
     },
     "execution_count": 15,
     "metadata": {},
     "output_type": "execute_result"
    }
   ],
   "source": [
    "json.dumps((1, 2, 3))"
   ]
  },
  {
   "cell_type": "markdown",
   "id": "dea34f6c",
   "metadata": {},
   "source": [
    "Za množice ne ve."
   ]
  },
  {
   "cell_type": "code",
   "execution_count": 16,
   "id": "1e683208",
   "metadata": {
    "tags": [
     "raises-exception"
    ]
   },
   "outputs": [
    {
     "ename": "TypeError",
     "evalue": "Object of type set is not JSON serializable",
     "output_type": "error",
     "traceback": [
      "\u001b[0;31m---------------------------------------------------------------------------\u001b[0m",
      "\u001b[0;31mTypeError\u001b[0m                                 Traceback (most recent call last)",
      "Cell \u001b[0;32mIn[16], line 1\u001b[0m\n\u001b[0;32m----> 1\u001b[0m json\u001b[38;5;241m.\u001b[39mdumps({\u001b[38;5;124m\"\u001b[39m\u001b[38;5;124mAna\u001b[39m\u001b[38;5;124m\"\u001b[39m, \u001b[38;5;124m\"\u001b[39m\u001b[38;5;124mBerta\u001b[39m\u001b[38;5;124m\"\u001b[39m})\n",
      "File \u001b[0;32m~/opt/miniconda3/envs/prog/lib/python3.11/json/__init__.py:231\u001b[0m, in \u001b[0;36mdumps\u001b[0;34m(obj, skipkeys, ensure_ascii, check_circular, allow_nan, cls, indent, separators, default, sort_keys, **kw)\u001b[0m\n\u001b[1;32m    226\u001b[0m \u001b[38;5;66;03m# cached encoder\u001b[39;00m\n\u001b[1;32m    227\u001b[0m \u001b[38;5;28;01mif\u001b[39;00m (\u001b[38;5;129;01mnot\u001b[39;00m skipkeys \u001b[38;5;129;01mand\u001b[39;00m ensure_ascii \u001b[38;5;129;01mand\u001b[39;00m\n\u001b[1;32m    228\u001b[0m     check_circular \u001b[38;5;129;01mand\u001b[39;00m allow_nan \u001b[38;5;129;01mand\u001b[39;00m\n\u001b[1;32m    229\u001b[0m     \u001b[38;5;28mcls\u001b[39m \u001b[38;5;129;01mis\u001b[39;00m \u001b[38;5;28;01mNone\u001b[39;00m \u001b[38;5;129;01mand\u001b[39;00m indent \u001b[38;5;129;01mis\u001b[39;00m \u001b[38;5;28;01mNone\u001b[39;00m \u001b[38;5;129;01mand\u001b[39;00m separators \u001b[38;5;129;01mis\u001b[39;00m \u001b[38;5;28;01mNone\u001b[39;00m \u001b[38;5;129;01mand\u001b[39;00m\n\u001b[1;32m    230\u001b[0m     default \u001b[38;5;129;01mis\u001b[39;00m \u001b[38;5;28;01mNone\u001b[39;00m \u001b[38;5;129;01mand\u001b[39;00m \u001b[38;5;129;01mnot\u001b[39;00m sort_keys \u001b[38;5;129;01mand\u001b[39;00m \u001b[38;5;129;01mnot\u001b[39;00m kw):\n\u001b[0;32m--> 231\u001b[0m     \u001b[38;5;28;01mreturn\u001b[39;00m _default_encoder\u001b[38;5;241m.\u001b[39mencode(obj)\n\u001b[1;32m    232\u001b[0m \u001b[38;5;28;01mif\u001b[39;00m \u001b[38;5;28mcls\u001b[39m \u001b[38;5;129;01mis\u001b[39;00m \u001b[38;5;28;01mNone\u001b[39;00m:\n\u001b[1;32m    233\u001b[0m     \u001b[38;5;28mcls\u001b[39m \u001b[38;5;241m=\u001b[39m JSONEncoder\n",
      "File \u001b[0;32m~/opt/miniconda3/envs/prog/lib/python3.11/json/encoder.py:200\u001b[0m, in \u001b[0;36mJSONEncoder.encode\u001b[0;34m(self, o)\u001b[0m\n\u001b[1;32m    196\u001b[0m         \u001b[38;5;28;01mreturn\u001b[39;00m encode_basestring(o)\n\u001b[1;32m    197\u001b[0m \u001b[38;5;66;03m# This doesn't pass the iterator directly to ''.join() because the\u001b[39;00m\n\u001b[1;32m    198\u001b[0m \u001b[38;5;66;03m# exceptions aren't as detailed.  The list call should be roughly\u001b[39;00m\n\u001b[1;32m    199\u001b[0m \u001b[38;5;66;03m# equivalent to the PySequence_Fast that ''.join() would do.\u001b[39;00m\n\u001b[0;32m--> 200\u001b[0m chunks \u001b[38;5;241m=\u001b[39m \u001b[38;5;28mself\u001b[39m\u001b[38;5;241m.\u001b[39miterencode(o, _one_shot\u001b[38;5;241m=\u001b[39m\u001b[38;5;28;01mTrue\u001b[39;00m)\n\u001b[1;32m    201\u001b[0m \u001b[38;5;28;01mif\u001b[39;00m \u001b[38;5;129;01mnot\u001b[39;00m \u001b[38;5;28misinstance\u001b[39m(chunks, (\u001b[38;5;28mlist\u001b[39m, \u001b[38;5;28mtuple\u001b[39m)):\n\u001b[1;32m    202\u001b[0m     chunks \u001b[38;5;241m=\u001b[39m \u001b[38;5;28mlist\u001b[39m(chunks)\n",
      "File \u001b[0;32m~/opt/miniconda3/envs/prog/lib/python3.11/json/encoder.py:258\u001b[0m, in \u001b[0;36mJSONEncoder.iterencode\u001b[0;34m(self, o, _one_shot)\u001b[0m\n\u001b[1;32m    253\u001b[0m \u001b[38;5;28;01melse\u001b[39;00m:\n\u001b[1;32m    254\u001b[0m     _iterencode \u001b[38;5;241m=\u001b[39m _make_iterencode(\n\u001b[1;32m    255\u001b[0m         markers, \u001b[38;5;28mself\u001b[39m\u001b[38;5;241m.\u001b[39mdefault, _encoder, \u001b[38;5;28mself\u001b[39m\u001b[38;5;241m.\u001b[39mindent, floatstr,\n\u001b[1;32m    256\u001b[0m         \u001b[38;5;28mself\u001b[39m\u001b[38;5;241m.\u001b[39mkey_separator, \u001b[38;5;28mself\u001b[39m\u001b[38;5;241m.\u001b[39mitem_separator, \u001b[38;5;28mself\u001b[39m\u001b[38;5;241m.\u001b[39msort_keys,\n\u001b[1;32m    257\u001b[0m         \u001b[38;5;28mself\u001b[39m\u001b[38;5;241m.\u001b[39mskipkeys, _one_shot)\n\u001b[0;32m--> 258\u001b[0m \u001b[38;5;28;01mreturn\u001b[39;00m _iterencode(o, \u001b[38;5;241m0\u001b[39m)\n",
      "File \u001b[0;32m~/opt/miniconda3/envs/prog/lib/python3.11/json/encoder.py:180\u001b[0m, in \u001b[0;36mJSONEncoder.default\u001b[0;34m(self, o)\u001b[0m\n\u001b[1;32m    161\u001b[0m \u001b[38;5;28;01mdef\u001b[39;00m \u001b[38;5;21mdefault\u001b[39m(\u001b[38;5;28mself\u001b[39m, o):\n\u001b[1;32m    162\u001b[0m \u001b[38;5;250m    \u001b[39m\u001b[38;5;124;03m\"\"\"Implement this method in a subclass such that it returns\u001b[39;00m\n\u001b[1;32m    163\u001b[0m \u001b[38;5;124;03m    a serializable object for ``o``, or calls the base implementation\u001b[39;00m\n\u001b[1;32m    164\u001b[0m \u001b[38;5;124;03m    (to raise a ``TypeError``).\u001b[39;00m\n\u001b[0;32m   (...)\u001b[0m\n\u001b[1;32m    178\u001b[0m \n\u001b[1;32m    179\u001b[0m \u001b[38;5;124;03m    \"\"\"\u001b[39;00m\n\u001b[0;32m--> 180\u001b[0m     \u001b[38;5;28;01mraise\u001b[39;00m \u001b[38;5;167;01mTypeError\u001b[39;00m(\u001b[38;5;124mf\u001b[39m\u001b[38;5;124m'\u001b[39m\u001b[38;5;124mObject of type \u001b[39m\u001b[38;5;132;01m{\u001b[39;00mo\u001b[38;5;241m.\u001b[39m\u001b[38;5;18m__class__\u001b[39m\u001b[38;5;241m.\u001b[39m\u001b[38;5;18m__name__\u001b[39m\u001b[38;5;132;01m}\u001b[39;00m\u001b[38;5;124m \u001b[39m\u001b[38;5;124m'\u001b[39m\n\u001b[1;32m    181\u001b[0m                     \u001b[38;5;124mf\u001b[39m\u001b[38;5;124m'\u001b[39m\u001b[38;5;124mis not JSON serializable\u001b[39m\u001b[38;5;124m'\u001b[39m)\n",
      "\u001b[0;31mTypeError\u001b[0m: Object of type set is not JSON serializable"
     ]
    }
   ],
   "source": [
    "json.dumps({\"Ana\", \"Berta\"})"
   ]
  },
  {
   "cell_type": "markdown",
   "id": "ddb7c97b",
   "metadata": {},
   "source": [
    "Terke in množice nas ne bodo posebej bolele: v Pythonu si navadno ne bomo shranjevali v JSON (razen, kadar bomo to počeli zato, da bomo podatke kam poslali, naslovnik pa bo tipično JavaScript, ki tako ali tako ne bo navdušen nad množicami in terkami v Pythonovem pomenu teh dveh besed). Podatke v JSON bomo brali in tam bo pač, kar bodo tja zapisali. Prebrati bomo znali vse.\n",
    "\n",
    "Kljub temu: zapišimo tečajnico v JSON. Dodajmo tudi primerno motivacijo: če bi napisali program za pretvarjanje valut, bi ta vsakič, ko ga poženemo, prebral podatke z NLB. Morda bi jih bilo primerneje shraniti v datoteko. Program bi potem deloval tako, da bi podatke s spleta pobral le prvič, potem pa bi jih bral kar iz datoteke."
   ]
  },
  {
   "cell_type": "code",
   "execution_count": 17,
   "id": "5d075cd8",
   "metadata": {},
   "outputs": [],
   "source": [
    "import os\n",
    "from urllib.request import urlopen\n",
    "import json\n",
    "\n",
    "\n",
    "if os.path.exists(\"tecajnica.json\"):\n",
    "    tecajnica = json.load(open(\"tecajnica.json\"))\n",
    "else:\n",
    "    tecajnica = {}\n",
    "    t = urlopen(\"https://www.nlb.si/services/tecajnica/?type=companies&format=csv\")\n",
    "    t.readline()\n",
    "    for vrstica in t:\n",
    "        vrstica = vrstica.decode(\"ascii\").split()\n",
    "        valuta = vrstica[5]\n",
    "        cena = vrstica[6]\n",
    "        tecajnica[valuta] = float(cena.replace(\",\", \".\"))\n",
    "\n",
    "    json.dump(tecajnica, open(\"tecajnica.json\", \"w\"))"
   ]
  },
  {
   "cell_type": "markdown",
   "id": "580f90a6",
   "metadata": {},
   "source": [
    "Zdaj pomislimo še, da se tečajnica pravzaprav dnevno spreminja. Ko preberemo datoteko, moramo preveriti, ali vsebuje današnje podatke. To najpreprosteje storimo tako, da vanjo zapišemo še datum."
   ]
  },
  {
   "cell_type": "markdown",
   "id": "71ba3e70",
   "metadata": {},
   "source": [
    "(Da nam pravkar zapisana datoteka ne bi nagajala v naslednjem koraku, jo tule pobrišimo.)"
   ]
  },
  {
   "cell_type": "code",
   "execution_count": 18,
   "id": "c2f8fbb8",
   "metadata": {},
   "outputs": [],
   "source": [
    "if os.path.exists(\"tecajnica.json\"):\n",
    "    os.remove(\"tecajnica.json\")"
   ]
  },
  {
   "cell_type": "code",
   "execution_count": 19,
   "id": "b3b0eea5",
   "metadata": {},
   "outputs": [
    {
     "name": "stdout",
     "output_type": "stream",
     "text": [
      "Tečajnico berem s spleta.\n"
     ]
    }
   ],
   "source": [
    "import os\n",
    "from urllib.request import urlopen\n",
    "import json\n",
    "from datetime import datetime\n",
    "\n",
    "\n",
    "danes = datetime.today().strftime(\"%Y-%m-%d\")\n",
    "\n",
    "tecajnica = {}\n",
    "if os.path.exists(\"tecajnica.json\"):\n",
    "    print(\"Tečajnico berem iz datoteke.\")\n",
    "    datum, tecajnica = json.load(open(\"tecajnica.json\"))\n",
    "    if datum != today:\n",
    "        tecajnica = {}\n",
    "\n",
    "if not tecajnica:\n",
    "    print(\"Tečajnico berem s spleta.\")\n",
    "    t = urlopen(\"https://www.nlb.si/services/tecajnica/?type=companies&format=csv\")\n",
    "    t.readline()\n",
    "    for vrstica in t:\n",
    "        vrstica = vrstica.decode(\"ascii\").split()\n",
    "        valuta = vrstica[5]\n",
    "        cena = vrstica[6]\n",
    "        tecajnica[valuta] = float(cena.replace(\",\", \".\"))\n",
    "\n",
    "    json.dump([danes, tecajnica], open(\"tecajnica.json\", \"w\"))"
   ]
  },
  {
   "cell_type": "markdown",
   "id": "51c7a970",
   "metadata": {},
   "source": [
    "Ko prvič poženemo gornjo celico, izpiše, da bere s spleta. V nadaljnjih poganjanjih pravi, da bere iz datoteke. Če počakamo en dan (ali pa poženemo eno celico višje, tisto, ki briše datoteko), pa bo spet brala s spleta.\n",
    "\n",
    "Datoteka tecajnica.json pa je videti tako."
   ]
  },
  {
   "cell_type": "raw",
   "id": "2046afde",
   "metadata": {},
   "source": [
    "[\"2023-12-27\", {\"USD\": 1.1113, \"GBP\": 0.8738, \"CHF\": 0.9517, \"HUF\": 383.7, \"RSD\": 119.47, \"BAM\": 1.968,\n",
    "\"MKD\": 62.3, \"CZK\": 24.76, \"PLN\": 4.354, \"BGN\": 1.967, \"NOK\": 11.292, \"SEK\": 11.112, \"DKK\": 7.5049,\n",
    "\"AUD\": 1.6242, \"CAD\": 1.4634, \"JPY\": 158.14, \"RON\": 5.0092, \"ZAR\": 20.7014, \"HKD\": 8.7241, \"TRY\": 32.6285,\n",
    "\"MXN\": 19.0477, \"NZD\": 1.7601, \"ILS\": 4.0415, \"AED\": 4.076}]"
   ]
  },
  {
   "cell_type": "markdown",
   "id": "f70333db",
   "metadata": {},
   "source": [
    "## Pickle\n",
    "\n",
    "Pickle ni standarden format. Podatkov, zapisanih v njem ne boste našli na spletu. Pač pa je uporaben, če želimo na hiter in preprost način shraniti v datoteko poljuben objekt (ali več objektov) v Pythonu.\n",
    "\n",
    "Uporabljamo ga podobno kot json."
   ]
  },
  {
   "cell_type": "code",
   "execution_count": 20,
   "id": "99c03c14",
   "metadata": {},
   "outputs": [],
   "source": [
    "import pickle\n",
    "\n",
    "pickle.dump(tecajnica, open(\"tecajnica.pickle\", \"wb\"))"
   ]
  },
  {
   "cell_type": "code",
   "execution_count": 21,
   "id": "e8ee4c46",
   "metadata": {},
   "outputs": [
    {
     "name": "stdout",
     "output_type": "stream",
     "text": [
      "{'USD': 1.0888, 'GBP': 0.8663, 'CHF': 0.9601, 'HUF': 392.8, 'RSD': 119.6805, 'BAM': 1.985, 'MKD': 62.5, 'CZK': 25.58, 'PLN': 4.3873, 'BGN': 1.977, 'NOK': 11.5529, 'SEK': 11.4341, 'DKK': 7.5634, 'AUD': 1.6743, 'CAD': 1.4686, 'JPY': 162.6, 'RON': 5.0474, 'ZAR': 20.7834, 'HKD': 8.5512, 'TRY': 33.3143, 'MXN': 18.755, 'NZD': 1.7807, 'ILS': 4.0178, 'AED': 3.9802}\n"
     ]
    }
   ],
   "source": [
    "t = pickle.load(open(\"tecajnica.pickle\", \"rb\"))\n",
    "\n",
    "print(t)"
   ]
  },
  {
   "cell_type": "markdown",
   "id": "30a5a888",
   "metadata": {},
   "source": [
    "Pickle ne zapisuje v besedilno datoteko, zato mu ne ponudimo datoteke odprte z **`open(ime)` temveč `open(ime, \"wb\")` oziroma, ko beremo `open(ime, \"rb\")`**. Druga črka, \"b\", pove, da gre za binarno datoteko.\n",
    "\n",
    "Pickle zna zapisati vse. (Recimo. Možno je definirati nov podatkovni tip, ki se ne razume s picklom, vendar se je za to potrebno skoraj potruditi.) Problem pickla je v tem, da to obliko zapisa pozna le Python in, še hujše, se zapis spreminja in novejša verzija Pythona lahko sestavi novo obliko, ki ni berljiva v starejših.\n",
    "\n",
    "Če si želimo nekaj shraniti le za to, da bomo to kasneje prebrali - sami, zase - je pickle najpreprostejši."
   ]
  },
  {
   "cell_type": "markdown",
   "id": "4fe0353e",
   "metadata": {},
   "source": [
    "## XML\n",
    "\n",
    "JSON je namenjen prenašanju podatkov. Podatki, ki so javno objavljeni z namenom, da bi jih brali z računalniki, pa bodo najpogosteje v formatu XML.\n",
    "\n",
    "Tistim, ki so že kdaj videli HTML, bo XML, *Extensible markup language*, videti znano. Začnimo z ročno sestavljenim XMLjem, ki bi ga lahko uporabljali za opisovanje podatkov o kontaktih. V zapiskih jih najdemo v datoteki clovek.xml."
   ]
  },
  {
   "cell_type": "raw",
   "id": "04fce11a",
   "metadata": {},
   "source": [
    "<oseba>\n",
    "   <ime>Janez</ime>\n",
    "   <priimek>Novak</priimek>\n",
    "   <starost>35</starost>\n",
    "   <danRojstva>1. 1. 1971</danRojstva>\n",
    "   <krajRojstva>Vrhnika</krajRojstva>\n",
    "   <kontakti>\n",
    "       <telefon tip=\"domaci\">+386 1 234 5678</telefon>\n",
    "       <telefon tip=\"sluzbeni\">+386 1 876 5432</telefon>\n",
    "       <mail uraden=\"ne\">janez.novak@gmail.com</mail>\n",
    "       <mail uraden=\"ne\">janez.novak@hotmail.com</mail>\n",
    "       <mail uraden=\"da\">janez.novak@fri.uni-lj.si</mail>\n",
    "   </kontakti>\n",
    "</oseba>"
   ]
  },
  {
   "cell_type": "markdown",
   "id": "32914316",
   "metadata": {},
   "source": [
    "Kot vidimo, je XML sestavljen iz hierarhije elementov. Datoteka ima vedno en osnovni, korenski element - tule je to `oseba`. Tega \"odpremo\" na začetku, z `<oseba>` in zapremo na koncu, z `</oseba>`. Vmes so drugi elementi, recimo `ime` (začeto z `<ime>` in končano z `</ime>`), pa `priimek`, `starost` in tako naprej. Znotraj elementa `kontakti` se, če se dogovorimo tako, nahajajo elementi vrste `telefon` in `mail`; vsak od njiju se lahko ponovi tudi večkrat.\n",
    "\n",
    "Element `telefon` ima lahko atribut `tip`, `mail` pa ima lahko atribut `uraden`.\n",
    "\n",
    "Kako je potrebno reč oblikovati, vidimo iz primera. O XML bi se dalo reči še veliko, vendar se tu, pri tem predmetu, omejimo le na osnovno idejo. Detajle si bo ta, ki jih potrebuje, že poiskal drugje."
   ]
  },
  {
   "cell_type": "markdown",
   "id": "ffbeb538",
   "metadata": {},
   "source": [
    "Knjižnice za branje XML delujejo na dva načina - to ne velja le za Python temveč tudi v splošnem. Prvi tip deluje tako, da prebira datoteko in nas obvešča o elementih, na katere naleti. Tak način branja zasede manj pomnilnika, vendar ga je zahtevneje uporabljati. Tu bomo pogledali preprostejšega, ki deluje tako, da celotno datoteko prebere v drevesno strukturo in nam nato omogoča iskanje po njej."
   ]
  },
  {
   "cell_type": "code",
   "execution_count": 22,
   "id": "579bff78",
   "metadata": {},
   "outputs": [
    {
     "data": {
      "text/plain": [
       "<xml.dom.minidom.Document at 0x10e6b3cb0>"
      ]
     },
     "execution_count": 22,
     "metadata": {},
     "output_type": "execute_result"
    }
   ],
   "source": [
    "from xml.dom import minidom\n",
    "\n",
    "kontakt = minidom.parse(open(\"xml/clovek-stisnjen.xml\"))\n",
    "\n",
    "kontakt"
   ]
  },
  {
   "cell_type": "markdown",
   "id": "cd002096",
   "metadata": {},
   "source": [
    "Iz razlogov, ki bodo pojasnjeni kasneje, smo namesto datoteke clovek.xml brali clovek-stisnjen.xml, ki je enaka clovek.xml, le da smo vse stlačili v eno vrstico in pobrisali presledke med elementi.\n",
    "\n",
    "Spremenljivka `kontakt` zdaj vsebuje prebrani dokument. Ima kup lastnosti in metod, nas bo zanimala le ena: `getElementsByTagName`. Takole, recimo, dobimo vse elemente `telefon`:"
   ]
  },
  {
   "cell_type": "code",
   "execution_count": 23,
   "id": "3e6d6736",
   "metadata": {},
   "outputs": [
    {
     "data": {
      "text/plain": [
       "[<DOM Element: telefon at 0x10e6ee210>, <DOM Element: telefon at 0x10e6ee350>]"
      ]
     },
     "execution_count": 23,
     "metadata": {},
     "output_type": "execute_result"
    }
   ],
   "source": [
    "kontakt.getElementsByTagName(\"telefon\")"
   ]
  },
  {
   "cell_type": "markdown",
   "id": "52207558",
   "metadata": {},
   "source": [
    "Poigrajmo se s prvim od njih."
   ]
  },
  {
   "cell_type": "code",
   "execution_count": 24,
   "id": "aa707faf",
   "metadata": {},
   "outputs": [],
   "source": [
    "el = kontakt.getElementsByTagName(\"telefon\")[0]"
   ]
  },
  {
   "cell_type": "markdown",
   "id": "30036ca7",
   "metadata": {},
   "source": [
    "Element `el` ima brate. Prvi je `nextSibling`."
   ]
  },
  {
   "cell_type": "code",
   "execution_count": 25,
   "id": "1552de5f",
   "metadata": {},
   "outputs": [
    {
     "data": {
      "text/plain": [
       "<DOM Element: telefon at 0x10e6ee350>"
      ]
     },
     "execution_count": 25,
     "metadata": {},
     "output_type": "execute_result"
    }
   ],
   "source": [
    "brat = el.nextSibling\n",
    "brat"
   ]
  },
  {
   "cell_type": "markdown",
   "id": "d230fbc4",
   "metadata": {},
   "source": [
    "Tudi ta ima brata."
   ]
  },
  {
   "cell_type": "code",
   "execution_count": 26,
   "id": "a15ef28d",
   "metadata": {},
   "outputs": [
    {
     "data": {
      "text/plain": [
       "<DOM Element: mail at 0x10e6ee490>"
      ]
     },
     "execution_count": 26,
     "metadata": {},
     "output_type": "execute_result"
    }
   ],
   "source": [
    "brat.nextSibling"
   ]
  },
  {
   "cell_type": "markdown",
   "id": "36ffa57a",
   "metadata": {},
   "source": [
    "Brat prvega telefona je drugi telefon. Brat drugega telefona je prvi mail. In tako naprej.\n",
    "\n",
    "Element ima tudi starša."
   ]
  },
  {
   "cell_type": "code",
   "execution_count": 27,
   "id": "f16d99d5",
   "metadata": {},
   "outputs": [
    {
     "data": {
      "text/plain": [
       "<DOM Element: kontakti at 0x10e6ee170>"
      ]
     },
     "execution_count": 27,
     "metadata": {},
     "output_type": "execute_result"
    }
   ],
   "source": [
    "oce = el.parentNode\n",
    "oce"
   ]
  },
  {
   "cell_type": "markdown",
   "id": "62fa213d",
   "metadata": {},
   "source": [
    "Oče telefona je Edison. Oče elementa `telefon` pa je `kontakti`.\n",
    "\n",
    "Oče ima otroke - to so pač \"otroci\" elementa `kontakti` - telefoni in maili."
   ]
  },
  {
   "cell_type": "code",
   "execution_count": 28,
   "id": "9712bbea",
   "metadata": {},
   "outputs": [
    {
     "data": {
      "text/plain": [
       "[<DOM Element: telefon at 0x10e6ee210>,\n",
       " <DOM Element: telefon at 0x10e6ee350>,\n",
       " <DOM Element: mail at 0x10e6ee490>,\n",
       " <DOM Element: mail at 0x10e6ee5d0>,\n",
       " <DOM Element: mail at 0x10e6ee7b0>]"
      ]
     },
     "execution_count": 28,
     "metadata": {},
     "output_type": "execute_result"
    }
   ],
   "source": [
    "oce.childNodes"
   ]
  },
  {
   "cell_type": "markdown",
   "id": "7092ba46",
   "metadata": {},
   "source": [
    "Metode `getElementsByTagName` nima le dokument temveč vsak element. Tako lahko dobimo maile znotraj `oce`."
   ]
  },
  {
   "cell_type": "code",
   "execution_count": 29,
   "id": "d96e1fa2",
   "metadata": {},
   "outputs": [
    {
     "data": {
      "text/plain": [
       "[<DOM Element: mail at 0x10e6ee490>,\n",
       " <DOM Element: mail at 0x10e6ee5d0>,\n",
       " <DOM Element: mail at 0x10e6ee7b0>]"
      ]
     },
     "execution_count": 29,
     "metadata": {},
     "output_type": "execute_result"
    }
   ],
   "source": [
    "oce.getElementsByTagName(\"mail\")"
   ]
  },
  {
   "cell_type": "markdown",
   "id": "6b4759e1",
   "metadata": {},
   "source": [
    "Tudi element ima otroke. Pravzaprav le enega, zato ne bomo brskali po `childNodes` temveč bomo vzeli kar `firstChild`."
   ]
  },
  {
   "cell_type": "code",
   "execution_count": 30,
   "id": "64be9ac9",
   "metadata": {},
   "outputs": [
    {
     "data": {
      "text/plain": [
       "<DOM Text node \"'+386 1 234'...\">"
      ]
     },
     "execution_count": 30,
     "metadata": {},
     "output_type": "execute_result"
    }
   ],
   "source": [
    "el.firstChild"
   ]
  },
  {
   "cell_type": "markdown",
   "id": "5e4f6381",
   "metadata": {},
   "source": [
    "Element, ki je otrok `telefon`-a je `Text Node`. Ta nima otrok, pač pa ima vrednost, `nodeValue`."
   ]
  },
  {
   "cell_type": "code",
   "execution_count": 31,
   "id": "67531599",
   "metadata": {},
   "outputs": [
    {
     "data": {
      "text/plain": [
       "'+386 1 234 5678'"
      ]
     },
     "execution_count": 31,
     "metadata": {},
     "output_type": "execute_result"
    }
   ],
   "source": [
    "el.firstChild.nodeValue"
   ]
  },
  {
   "cell_type": "markdown",
   "id": "eecaca08",
   "metadata": {},
   "source": [
    "Aha, še atributi."
   ]
  },
  {
   "cell_type": "code",
   "execution_count": 32,
   "id": "396ca138",
   "metadata": {},
   "outputs": [
    {
     "data": {
      "text/plain": [
       "'domaci'"
      ]
     },
     "execution_count": 32,
     "metadata": {},
     "output_type": "execute_result"
    }
   ],
   "source": [
    "el.getAttribute(\"tip\")"
   ]
  },
  {
   "cell_type": "markdown",
   "id": "8e0e074f",
   "metadata": {},
   "source": [
    "To je to. Povzemimo vse, kar bomo potrebovali.\n",
    "\n",
    "- `el.getElementsByTagName(name)` vrne elemente z imenom `name` znotraj `el`.\n",
    "- `el.getAttribute(name)` vrne vrednost atributa `name`.\n",
    "- `el.childNodes` so otroci elementa.\n",
    "- `el.firstChild` je prvi otrok.\n",
    "- `el.nextSibling` je naslednji brat.\n",
    "- `el.parentNode` je oče elementa.\n",
    "- `el.nodeValue` je vrednost znotraj elementa.\n",
    "\n",
    "Zdaj znamo prebrati večino XML-jev, na katere bomo naleteli.\n",
    "\n",
    "### Zakaj stisnjen-clovek.xml?\n",
    "\n",
    "Če je datoteka XML oblikovana tako, da jo lahko beremo tudi smrtniki, ne le računalniki, vsebuje presledke in znake za novo vrstico. Te vidimo kot dodatne elemente vrste Text Node. Načelno nas ne bi (in ne bodo) motili, le `nextSibling` telefona ali maila bi bil Text Node, pa tudi v vseh seznamih otrok bi se pojavljali in nam tako kvarili preprostost primera. Samo to.\n",
    "\n",
    "### Devizni tečaji Banke Slovenije\n",
    "\n",
    "Banka Slovenije na strani https://www.bsi.si/_data/tecajnice/dtecbs.xml objavlja zadnje tečaje v obliki XML."
   ]
  },
  {
   "cell_type": "markdown",
   "id": "5e7d0ac0",
   "metadata": {},
   "source": [
    "```xml\n",
    "<DtecBS xmlns=\"http://www.bsi.si\" xmlns:xsi=\"http://www.w3.org/2001/XMLSchema-instance\" xsi:schemaLocation=\"http://www.bsi.si http://www.bsi.si/_data/tecajnice/DTecBS.xsd\">\n",
    "<tecajnica datum=\"2023-12-22\">\n",
    "<tecaj oznaka=\"USD\" sifra=\"840\">1.1023</tecaj>\n",
    "<tecaj oznaka=\"JPY\" sifra=\"392\">156.66</tecaj>\n",
    "<tecaj oznaka=\"BGN\" sifra=\"975\">1.9558</tecaj>\n",
    "<tecaj oznaka=\"CZK\" sifra=\"203\">24.589</tecaj>\n",
    "<tecaj oznaka=\"DKK\" sifra=\"208\">7.4560</tecaj>\n",
    "<tecaj oznaka=\"GBP\" sifra=\"826\">0.86660</tecaj>\n",
    "<tecaj oznaka=\"HUF\" sifra=\"348\">381.93</tecaj>\n",
    "<tecaj oznaka=\"PLN\" sifra=\"985\">4.3420</tecaj>\n",
    "<tecaj oznaka=\"RON\" sifra=\"946\">4.9708</tecaj>\n",
    "<tecaj oznaka=\"SEK\" sifra=\"752\">11.0556</tecaj>\n",
    "<tecaj oznaka=\"ISK\" sifra=\"352\">150.50</tecaj>\n",
    "<tecaj oznaka=\"CHF\" sifra=\"756\">0.9417</tecaj>\n",
    "<tecaj oznaka=\"NOK\" sifra=\"578\">11.2705</tecaj>\n",
    "<tecaj oznaka=\"TRY\" sifra=\"949\">32.2044</tecaj>\n",
    "<tecaj oznaka=\"AUD\" sifra=\"036\">1.6197</tecaj>\n",
    "<tecaj oznaka=\"BRL\" sifra=\"986\">5.3624</tecaj>\n",
    "<tecaj oznaka=\"CAD\" sifra=\"124\">1.4639</tecaj>\n",
    "<tecaj oznaka=\"CNY\" sifra=\"156\">7.8640</tecaj>\n",
    "<tecaj oznaka=\"HKD\" sifra=\"344\">8.6105</tecaj>\n",
    "<tecaj oznaka=\"IDR\" sifra=\"360\">17029.65</tecaj>\n",
    "<tecaj oznaka=\"ILS\" sifra=\"376\">3.9764</tecaj>\n",
    "<tecaj oznaka=\"INR\" sifra=\"356\">91.6280</tecaj>\n",
    "<tecaj oznaka=\"KRW\" sifra=\"410\">1430.05</tecaj>\n",
    "<tecaj oznaka=\"MXN\" sifra=\"484\">18.6955</tecaj>\n",
    "<tecaj oznaka=\"MYR\" sifra=\"458\">5.1059</tecaj>\n",
    "<tecaj oznaka=\"NZD\" sifra=\"554\">1.7505</tecaj>\n",
    "<tecaj oznaka=\"PHP\" sifra=\"608\">61.067</tecaj>\n",
    "<tecaj oznaka=\"SGD\" sifra=\"702\">1.4593</tecaj>\n",
    "<tecaj oznaka=\"THB\" sifra=\"764\">38.084</tecaj>\n",
    "<tecaj oznaka=\"ZAR\" sifra=\"710\">20.3070</tecaj>\n",
    "</tecajnica>\n",
    "</DtecBS>\n",
    "```"
   ]
  },
  {
   "cell_type": "markdown",
   "id": "0082ceb6",
   "metadata": {},
   "source": [
    "Struktura je očitna. Preberimo!"
   ]
  },
  {
   "cell_type": "code",
   "execution_count": 33,
   "id": "43456761",
   "metadata": {},
   "outputs": [],
   "source": [
    "from urllib.request import urlopen\n",
    "from xml.dom import minidom\n",
    "\n",
    "tecaji = minidom.parse(urlopen(\"https://www.bsi.si/_data/tecajnice/dtecbs.xml\"))\n",
    "\n",
    "tecajnica = {}\n",
    "for tecaj in tecaji.getElementsByTagName(\"tecaj\"):\n",
    "    tecajnica[tecaj.getAttribute(\"oznaka\")] = float(tecaj.firstChild.nodeValue)"
   ]
  },
  {
   "cell_type": "markdown",
   "id": "c094a6e3",
   "metadata": {},
   "source": [
    "Kar preprosto, ni?\n",
    "\n",
    "Na naslovu https://www.bsi.si/_data/tecajnice/dtecbs-l.xml najdemo tečaje od 1. januarja 2007. Ker se ta XML kar dolgo prenaša, ga imamo že shranjenega ob zapiskih, tako da ga bomo prebrali kar iz datoteke.\n",
    "\n",
    "Datoteka je strukturirana tako.\n",
    "\n",
    "```xml\n",
    "<?xml version=\"1.0\"?><DtecBS xmlns=\"http://www.bsi.si\" xmlns:xsi=\"http://www.w3.org/2001/XMLSchema-instance\" xsi:schemaLocation=\"http://www.bsi.si http://www.bsi.si/_data/tecajnice/DTecBS-l.xsd\">\n",
    "    <tecajnica datum=\"2007-01-01\">\n",
    "        <tecaj oznaka=\"USD\" sifra=\"840\">1.3170</tecaj>\n",
    "        <tecaj oznaka=\"JPY\" sifra=\"392\">156.93</tecaj>\n",
    "        <tecaj oznaka=\"BGN\" sifra=\"975\">1.9558</tecaj>\n",
    "        \n",
    "    ...\n",
    "```\n",
    "\n",
    "Enako torej, kot prejšnja, le da so tečaji za posamezni dan zaprti še v `tecajnica`, ki kot atribut vsebuje datum.\n",
    "\n",
    "Preberimo, recimo, tečaj dolarja. Brali bomo v dva seznama: en bo vseboval datume, drugi tečaj. Datumi ne bodo zapisani z dnevi, leti in tako naprej, temveč s številom dni, ki so minili od 1. januarja 2007. Za to bomo uporabili `datetime`; ta ima metodo `fromisoformat`, ki zna prebrati datum v obliki, kot je zapisan v tej datoteki. Od datuma bomo odšteli 1. januar 2007; rezultat bo nek podatkovni tip `timedelta`, ki ima atribute `days`. Ta vsebuje razliko v dnevih.\n",
    "\n",
    "Gremo!"
   ]
  },
  {
   "cell_type": "code",
   "execution_count": 34,
   "id": "3f3d3bba",
   "metadata": {},
   "outputs": [],
   "source": [
    "from datetime import datetime\n",
    "from xml.dom import minidom\n",
    "\n",
    "zacetek = datetime(2007, 1, 1)\n",
    "datumi = []\n",
    "vrednosti = []\n",
    "\n",
    "dokument = minidom.parse(open(\"xml/dtecbs-l.xml\"))\n",
    "for tecajnica in dokument.getElementsByTagName(\"tecajnica\"):\n",
    "    datum = datetime.fromisoformat(tecajnica.getAttribute(\"datum\"))\n",
    "    for tecaj in tecajnica.getElementsByTagName(\"tecaj\"):\n",
    "        if tecaj.getAttribute(\"oznaka\") == \"USD\":\n",
    "            datumi.append((datum - zacetek).days)\n",
    "            vrednosti.append(float(tecaj.firstChild.nodeValue))\n",
    "            break"
   ]
  },
  {
   "cell_type": "markdown",
   "id": "fc1ded6a",
   "metadata": {},
   "source": [
    "In kako mu kaj gre, dolarju? Takole."
   ]
  },
  {
   "cell_type": "code",
   "execution_count": 35,
   "id": "112f7705",
   "metadata": {},
   "outputs": [
    {
     "name": "stdout",
     "output_type": "stream",
     "text": [
      "Intel MKL WARNING: Support of Intel(R) Streaming SIMD Extensions 4.2 (Intel(R) SSE4.2) enabled only processors has been deprecated. Intel oneAPI Math Kernel Library 2025.0 will require Intel(R) Advanced Vector Extensions (Intel(R) AVX) instructions.\n",
      "Intel MKL WARNING: Support of Intel(R) Streaming SIMD Extensions 4.2 (Intel(R) SSE4.2) enabled only processors has been deprecated. Intel oneAPI Math Kernel Library 2025.0 will require Intel(R) Advanced Vector Extensions (Intel(R) AVX) instructions.\n"
     ]
    },
    {
     "data": {
      "text/plain": [
       "[<matplotlib.lines.Line2D at 0x1240bc4d0>]"
      ]
     },
     "execution_count": 35,
     "metadata": {},
     "output_type": "execute_result"
    },
    {
     "data": {
      "image/png": "[encoded data removed]",
      "text/plain": [
       "<Figure size 640x480 with 1 Axes>"
      ]
     },
     "metadata": {},
     "output_type": "display_data"
    }
   ],
   "source": [
    "import matplotlib.pyplot as plt\n",
    "\n",
    "plt.plot(datumi, vrednosti)"
   ]
  },
  {
   "cell_type": "markdown",
   "id": "4cc8e535",
   "metadata": {},
   "source": [
    "### XML najdemo povsod\n",
    "\n",
    "Če znamo brati XML, znamo prebrati skoraj vse.\n",
    "\n",
    "Ste že kdaj načrtovali kakšno pot in dobili datoteko .gpx? Ali pa opravili kakšno pot in jo shranili na Stravi ali čem podobnem? Tudi to lahko izvozite v GPX. GPX je XML v določeni standardizirani obliki.\n",
    "\n",
    "Takole vam Strava shrani vaš tek. Vsebuje podatke o času lokaciji in nadmorski višini, zraven pa tudi vse, kar beleži vaša ura (ali karkoli že, s čimer med tekom in po njem hranite svoj ego).\n",
    "\n",
    "```xml\n",
    "<?xml version=\"1.0\" encoding=\"UTF-8\"?>\n",
    "<gpx creator=\"StravaGPX\" xmlns:xsi=\"http://www.w3.org/2001/XMLSchema-instance\" xsi:schemaLocation=\"http://www.topografix.com/GPX/1/1 http://www.topografix.com/GPX/1/1/gpx.xsd http://www.garmin.com/xmlschemas/GpxExtensions/v3 http://www.garmin.com/xmlschemas/GpxExtensionsv3.xsd http://www.garmin.com/xmlschemas/TrackPointExtension/v1 http://www.garmin.com/xmlschemas/TrackPointExtensionv1.xsd\" version=\"1.1\" xmlns=\"http://www.topografix.com/GPX/1/1\" xmlns:gpxtpx=\"http://www.garmin.com/xmlschemas/TrackPointExtension/v1\" xmlns:gpxx=\"http://www.garmin.com/xmlschemas/GpxExtensions/v3\">\n",
    " <metadata>\n",
    "  <time>2023-12-16T14:22:38Z</time>\n",
    " </metadata>\n",
    " <trk>\n",
    "  <name>Dragomelj z repom</name>\n",
    "  <type>running</type>\n",
    "  <trkseg>\n",
    "   <trkpt lat=\"46.0988580\" lon=\"14.5596710\">\n",
    "    <ele>293.6</ele>\n",
    "    <time>2023-12-16T14:24:24Z</time>\n",
    "    <extensions>\n",
    "     <power>404</power>\n",
    "     <gpxtpx:TrackPointExtension>\n",
    "      <gpxtpx:atemp>25</gpxtpx:atemp>\n",
    "      <gpxtpx:hr>140</gpxtpx:hr>\n",
    "      <gpxtpx:cad>82</gpxtpx:cad>\n",
    "     </gpxtpx:TrackPointExtension>\n",
    "    </extensions>\n",
    "   </trkpt>\n",
    "   <trkpt lat=\"46.0988890\" lon=\"14.5596830\">\n",
    "    <ele>293.6</ele>\n",
    "    <time>2023-12-16T14:24:25Z</time>\n",
    "    <extensions>\n",
    "     <power>408</power>\n",
    "     <gpxtpx:TrackPointExtension>\n",
    "      <gpxtpx:atemp>25</gpxtpx:atemp>\n",
    "      <gpxtpx:hr>141</gpxtpx:hr>\n",
    "      <gpxtpx:cad>81</gpxtpx:cad>\n",
    "     </gpxtpx:TrackPointExtension>\n",
    "    </extensions>\n",
    "   </trkpt>\n",
    "   <trkpt lat=\"46.0989220\" lon=\"14.5597030\">\n",
    "    <ele>293.8</ele>\n",
    "    <time>2023-12-16T14:24:26Z</time>\n",
    "    <extensions>\n",
    "```"
   ]
  },
  {
   "cell_type": "markdown",
   "id": "cb696f50",
   "metadata": {},
   "source": [
    "Datoteke svg, v katere shranjujemo slike v vektorski obliki, so XML."
   ]
  },
  {
   "cell_type": "markdown",
   "id": "ca8094ed",
   "metadata": {},
   "source": [
    "```xml\n",
    "<?xml version=\"1.0\" encoding=\"utf-8\"?>\n",
    "<!-- Generator: Adobe Illustrator 24.0.2, SVG Export Plug-In . SVG Version: 6.00 Build 0)  -->\n",
    "<svg version=\"1.1\" id=\"Layer_1\" xmlns=\"http://www.w3.org/2000/svg\" xmlns:xlink=\"http://www.w3.org/1999/xlink\" x=\"0px\" y=\"0px\"\n",
    "\t viewBox=\"0 0 595.28 841.89\" style=\"enable-background:new 0 0 595.28 841.89;\" xml:space=\"preserve\">\n",
    "<style type=\"text/css\">\n",
    "\t.st0{fill:#FF0001;stroke:#000000;stroke-width:3;stroke-miterlimit:10;}\n",
    "\t.st1{fill:none;stroke:#018837;stroke-width:10;stroke-linecap:round;stroke-miterlimit:10;}\n",
    "</style>\n",
    "<ellipse class=\"st0\" cx=\"232.21\" cy=\"251.29\" rx=\"56.79\" ry=\"20.71\"/>\n",
    "<path class=\"st1\" d=\"M59.71,201.29l70,191.43c117.14,5.71,131.43-111.43,117.14,5.71c-14.29,117.14,110,61.43,109.29,43.57\"/>\n",
    "</svg>\n",
    "```"
   ]
  },
  {
   "cell_type": "markdown",
   "id": "ec94caef",
   "metadata": {},
   "source": [
    "Kanali RSS pošiljajo podatke v obliki XML. Na https://img.rtvslo.si/feeds/00.xml izvenimo, da so zasnežili Krvavec, da so Rijskmuseumu pripravili razstavo Fransa Halsa in da se je v Murski Soboti nekdo skozi žep ustrelil v nogo.\n",
    "\n",
    "```xml\n",
    "<?xml version=\"1.0\" encoding=\"utf-8\"?>\n",
    "<?xml-stylesheet title=\"XSL_formatting\" type=\"text/xsl\" href=\"https://img.rtvslo.si/_up/export/rss/rss.xsl\"?>\n",
    "<rss version=\"2.0\">\n",
    "\t<channel>\n",
    "\t\t<title>MMC RTV - Vse novice</title>\n",
    "\t\t<item>\n",
    "\t\t\t<title>Zagon nove šestsedežnice odprl smučarsko sezono na Krvavcu</title>\n",
    "\t\t\t<pubDate>Wed, 27 Dec 2023 15:28:48 +0100</pubDate>\n",
    "\t\t\t<link>https://www.rtvslo.si/zabava-in-slog/ture-avanture/zagon-nove-sestsedeznice-odprl-smucarsko-sezono-na-krvavcu/692950</link>\n",
    "\t\t\t<enclosure url=\"https://img.rtvcdn.si/_up/upload/2023/12/27/66145453.jpg\" length=\"5120394\" type=\"image/jpeg\"/>\n",
    "\n",
    "\t\t\t<description><![CDATA[Na Krvavcu, kjer so umetno zasnežili strmine, se je začela smučarska sezona.  Otvoritev je pospremilo tudi odprtje nove, hitrejše in ogrevane šestsedežnice Zvoh, ki je zamenjala 40 let staro dvosedežnico. ]]></description>\n",
    "\t\t</item>\n",
    "\t\t<item>\n",
    "\t\t\t<title>Frans Hals, mojster nizozemskega meščanskega realizma, se predstavi v Rijksmuseumu</title>\n",
    "\t\t\t<pubDate>Wed, 27 Dec 2023 14:15:47 +0100</pubDate>\n",
    "\t\t\t<link>https://www.rtvslo.si/kultura/vizualna-umetnost/frans-hals-mojster-nizozemskega-mescanskega-realizma-se-predstavi-v-rijksmuseumu/692952</link>\n",
    "\t\t\t<enclosure url=\"https://img.rtvcdn.si/_up/upload/2023/12/27/66145422.jpg\" length=\"546109\" type=\"image/jpeg\"/>\n",
    "\n",
    "\t\t\t<description><![CDATA[V amsterdamskem Rijksmuseumu za februar napovedujejo razstavo Frans Hals – Veliko pred svojim časom.  Hals, ki je bil izjemno produktiven, inovativen, zabaven in tudi nekoliko grob v svojih delih, je bil eden od slikarjev, ki so zaznamovali 17.  stoletje. ]]></description>\n",
    "\t\t</item>\n",
    "\t\t<item>\n",
    "\t\t\t<title>V hlačni žep trenirke vtaknil pištolo in se ustrelil v nogo</title>\n",
    "\t\t\t<pubDate>Wed, 27 Dec 2023 13:15:56 +0100</pubDate>\n",
    "\t\t\t<link>https://www.rtvslo.si/crna-kronika/v-hlacni-zep-trenirke-vtaknil-pistolo-in-se-ustrelil-v-nogo/692945</link>\n",
    "\t\t\t<enclosure url=\"https://img.rtvcdn.si/_up/upload/2021/09/27/65927267.jpg\" length=\"732130\" type=\"image/jpeg\"/>\n",
    "\n",
    "\t\t\t<description><![CDATA[Na območju Murske Sobote je v torek malo po 18.  uri 78-letni moški pri pospravljanju orožja pištolo vtaknil v hlačni žep trenirke in se pri tem ustrelil v nogo, so sporočili murskosoboški policisti. ]]></description>\n",
    "\t\t</item>\n",
    "```"
   ]
  },
  {
   "cell_type": "markdown",
   "id": "e11a6291",
   "metadata": {},
   "source": [
    "ARSO v obliki XML objavlja vremensko napoved. To je najbrž prijazno do avtorjev raznih aplikacij za telefone, ki zajemajo podatke z njihove spletne strani.\n",
    "\n",
    "Celo če preimenujemo datoteko .xlsx ali .docx v zip in jo odzipamo, v njej najdemo XMLje, ki vsebujejo naše besedilo in njegovo oblikovanje."
   ]
  }
 ],
 "metadata": {
  "kernelspec": {
   "display_name": "Python 3 (ipykernel)",
   "language": "python",
   "name": "python3"
  },
  "language_info": {
   "codemirror_mode": {
    "name": "ipython",
    "version": 3
   },
   "file_extension": ".py",
   "mimetype": "text/x-python",
   "name": "python",
   "nbconvert_exporter": "python",
   "pygments_lexer": "ipython3",
   "version": "3.11.5"
  }
 },
 "nbformat": 4,
 "nbformat_minor": 5
}
