{
 "cells": [
  {
   "cell_type": "markdown",
   "id": "3c2493e3",
   "metadata": {},
   "source": [
    "Množice\n",
    "-------\n",
    "\n",
    "Množice so podobne seznamom, a s to razliko, da lahko vsebujejo vsak element samo enkrat. Po drugi strani (in ne le po drugi strani, tudi tehnično) pa so podobne slovarjem. Vsebujejo lahko le elemente, ki so nespremenljivi, poleg tega pa lahko zelo hitro ugotovimo, ali množica vsebuje določen element ali ne, na podoben način kot pri slovarjih hitro ugotovimo, ali vsebujejo določen ključ ali ne.\n",
    "\n",
    "Množice zapišemo z zavitimi oklepaji, tako kot smo vajeni pri matematiki."
   ]
  },
  {
   "cell_type": "code",
   "execution_count": 1,
   "id": "8205a7ec",
   "metadata": {},
   "outputs": [],
   "source": [
    "danasnji_klici = {\"Ana\", \"Cilka\", \"Eva\"}"
   ]
  },
  {
   "cell_type": "markdown",
   "id": "c696a118",
   "metadata": {},
   "source": [
    "Tako lahko sestavimo le neprazno množico. Če napišemo le oklepaj in zaklepaj, `{}`, pa dobimo slovar. (Čemu so se odločili, naj bo to slovar, ne množica? Slovar je bil prej, množice je Python dobil kasneje. Zato. Poleg tega pa slovarje potrebujemo res velikokrat, množice pa precej redkeje.) Če hočemo narediti prazno množico, rečemo"
   ]
  },
  {
   "cell_type": "code",
   "execution_count": 2,
   "id": "16f290c9",
   "metadata": {},
   "outputs": [],
   "source": [
    "prazna = set()"
   ]
  },
  {
   "cell_type": "markdown",
   "id": "178aa968",
   "metadata": {},
   "source": [
    "\"Funkcija\" `set` je malo podobna \"funkciji\" `int`: damo ji lahko različne argumente, pa jih bo spremenila v množico. Damo ji lahko, recimo, seznam, pa bomo dobili množico z vsemi elementi, ki se pojavijo v njem."
   ]
  },
  {
   "cell_type": "code",
   "execution_count": 3,
   "id": "bbf8fdfe",
   "metadata": {},
   "outputs": [
    {
     "data": {
      "text/plain": [
       "{1, 2, 3}"
      ]
     },
     "execution_count": 3,
     "metadata": {},
     "output_type": "execute_result"
    }
   ],
   "source": [
    "set([1, 2, 3])"
   ]
  },
  {
   "cell_type": "code",
   "execution_count": 4,
   "id": "a675266f",
   "metadata": {},
   "outputs": [
    {
     "data": {
      "text/plain": [
       "{0, 1, 2, 3, 4}"
      ]
     },
     "execution_count": 4,
     "metadata": {},
     "output_type": "execute_result"
    }
   ],
   "source": [
    "set(range(5))"
   ]
  },
  {
   "cell_type": "code",
   "execution_count": 5,
   "id": "f1ce2040",
   "metadata": {},
   "outputs": [
    {
     "data": {
      "text/plain": [
       "{1, 3, 6, 42}"
      ]
     },
     "execution_count": 5,
     "metadata": {},
     "output_type": "execute_result"
    }
   ],
   "source": [
    "set([6, 42, 1, 3, 1, 1, 6])"
   ]
  },
  {
   "cell_type": "markdown",
   "id": "60239fbb",
   "metadata": {},
   "source": [
    "Poleg seznamov lahko množicam podtaknemo karkoli, prek česar bi lahko šli z zanko `for`, recimo niz ali slovar."
   ]
  },
  {
   "cell_type": "code",
   "execution_count": 6,
   "id": "70b14ffb",
   "metadata": {},
   "outputs": [
    {
     "data": {
      "text/plain": [
       "{'B', 'a', 'e', 'i', 'j', 'm', 'n'}"
      ]
     },
     "execution_count": 6,
     "metadata": {},
     "output_type": "execute_result"
    }
   ],
   "source": [
    "set(\"Benjamin\")"
   ]
  },
  {
   "cell_type": "code",
   "execution_count": 7,
   "id": "215e3674",
   "metadata": {},
   "outputs": [
    {
     "ename": "NameError",
     "evalue": "name 'stevilke' is not defined",
     "output_type": "error",
     "traceback": [
      "\u001b[0;31m---------------------------------------------------------------------------\u001b[0m",
      "\u001b[0;31mNameError\u001b[0m                                 Traceback (most recent call last)",
      "Cell \u001b[0;32mIn[7], line 1\u001b[0m\n\u001b[0;32m----> 1\u001b[0m \u001b[38;5;28mset\u001b[39m(stevilke)\n",
      "\u001b[0;31mNameError\u001b[0m: name 'stevilke' is not defined"
     ]
    }
   ],
   "source": [
    "set(stevilke)"
   ]
  },
  {
   "cell_type": "markdown",
   "id": "5c2af10a",
   "metadata": {},
   "source": [
    "Spremenljivka `stevilke` (še vedno) vsebuje slovar, katerega ključi so imena Benjaminovih oboževalk. Ker zanka prek slovarja \"vrača\" ključe, bo tudi množica, ki jo sestavimo iz slovarja, vsebovala ključe.\n",
    "\n",
    "V množico lahko dodajamo elemente in vprašamo se lahko, ali množica vsebuje določen element."
   ]
  },
  {
   "cell_type": "code",
   "execution_count": null,
   "id": "3d95b9f5",
   "metadata": {},
   "outputs": [],
   "source": [
    "s = set(\"Benjamin\")"
   ]
  },
  {
   "cell_type": "code",
   "execution_count": null,
   "id": "6d9aa45d",
   "metadata": {},
   "outputs": [],
   "source": [
    "\"e\" in s"
   ]
  },
  {
   "cell_type": "code",
   "execution_count": null,
   "id": "2485c332",
   "metadata": {},
   "outputs": [],
   "source": [
    "\"u\" in s"
   ]
  },
  {
   "cell_type": "code",
   "execution_count": null,
   "id": "ad982465",
   "metadata": {},
   "outputs": [],
   "source": [
    "s.add(\"u\")"
   ]
  },
  {
   "cell_type": "code",
   "execution_count": null,
   "id": "58906458",
   "metadata": {},
   "outputs": [],
   "source": [
    "\"u\" in s"
   ]
  },
  {
   "cell_type": "code",
   "execution_count": null,
   "id": "03763cf3",
   "metadata": {},
   "outputs": [],
   "source": [
    "s.add(\"a\")\n",
    "s.add(\"a\")\n",
    "s.add(\"a\")\n",
    "s\n"
   ]
  },
  {
   "cell_type": "markdown",
   "id": "ce4f2ddc",
   "metadata": {},
   "source": [
    "Na koncu smo poskušali v množico dodati element, ki ga že vsebuje. To seveda ne gre, množica vsak element vsebuje le enkrat.\n",
    "\n",
    "Če imamo dve množici, lahko izračunamo njuno unijo, presek, razliko (elementi, ki se pojavijo v prvi, ne pa tudi v drugi množici) in simetrično razliko (elementi, ki se pojavijo v eni množici in v drugi) ..."
   ]
  },
  {
   "cell_type": "code",
   "execution_count": null,
   "id": "f600ab97",
   "metadata": {},
   "outputs": [],
   "source": [
    "u = {1, 2, 3}\n",
    "v = {3, 4, 5}\n",
    "u | v"
   ]
  },
  {
   "cell_type": "code",
   "execution_count": null,
   "id": "6259422e",
   "metadata": {},
   "outputs": [],
   "source": [
    "u & v"
   ]
  },
  {
   "cell_type": "code",
   "execution_count": null,
   "id": "9abb7b50",
   "metadata": {},
   "outputs": [],
   "source": [
    "u - v"
   ]
  },
  {
   "cell_type": "code",
   "execution_count": null,
   "id": "b66da9fd",
   "metadata": {},
   "outputs": [],
   "source": [
    "u ^ v"
   ]
  },
  {
   "cell_type": "markdown",
   "id": "85c3908b",
   "metadata": {},
   "source": [
    "Tako kot lahko pri številih uporabimo `+=` za prištevanje (in namesto `x = x + a` pišemo `x += a`), in, podobno, odštejemo, primnožimo in razdelimo z `-=`, `*=` in `/=`, lahko tudi priunijamo, odsekamo ali odštejemo množico z `&=`, `|=` in `-=`. Tako je, na primer `u &= v` isto kot `u = u & v`.\n",
    "\n",
    "Preverimo lahko tudi, ali je neka množica podmnožica (ali nadmnožica druge). To najpreprosteje storimo kar z operatorji za primerjanje."
   ]
  },
  {
   "cell_type": "code",
   "execution_count": null,
   "id": "8c3bfa96",
   "metadata": {},
   "outputs": [],
   "source": [
    "u = {1, 2, 3}"
   ]
  },
  {
   "cell_type": "code",
   "execution_count": null,
   "id": "d82b2365",
   "metadata": {},
   "outputs": [],
   "source": [
    "{1, 2} <= u"
   ]
  },
  {
   "cell_type": "code",
   "execution_count": null,
   "id": "437d754b",
   "metadata": {},
   "outputs": [],
   "source": [
    "{1, 2, 3, 4} <= u"
   ]
  },
  {
   "cell_type": "code",
   "execution_count": null,
   "id": "7838dc3c",
   "metadata": {},
   "outputs": [],
   "source": [
    "{1, 2, 3} <= u"
   ]
  },
  {
   "cell_type": "code",
   "execution_count": null,
   "id": "ad0f851d",
   "metadata": {},
   "outputs": [],
   "source": [
    "{1, 2, 3} < u"
   ]
  },
  {
   "cell_type": "markdown",
   "id": "0037b397",
   "metadata": {},
   "source": [
    "`{1, 2, 3}`, je podmnožica `u`-ja, ni pa njegove *prava podmnožica*, saj vsebuje kar cel `u`.\n",
    "\n",
    "Z množicami je mogoče početi še marsikaj zanimivega - vendar bodi dovolj. Več primerov pa si bomo ogledali sproti."
   ]
  }
 ],
 "metadata": {
  "kernelspec": {
   "display_name": "Python 3 (ipykernel)",
   "language": "python",
   "name": "python3"
  },
  "language_info": {
   "codemirror_mode": {
    "name": "ipython",
    "version": 3
   },
   "file_extension": ".py",
   "mimetype": "text/x-python",
   "name": "python",
   "nbconvert_exporter": "python",
   "pygments_lexer": "ipython3",
   "version": "3.11.5"
  }
 },
 "nbformat": 4,
 "nbformat_minor": 5
}
