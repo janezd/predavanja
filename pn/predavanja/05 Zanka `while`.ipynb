{
 "cells": [
  {
   "cell_type": "markdown",
   "id": "b698fe15",
   "metadata": {},
   "source": [
    "## \"Ta druga zanka\"\n",
    "\n",
    "Zanka `for` zna iti prek vrstic datoteke, znakov niza, ključev slovarja, elementov seznama. In še prek česa. Značilnost zanke `for` je, da \"gre\". Zahteva neko zaporedje, pa bo ponavljala nek blok kode in pred vsako ponovitvijo neki spremenljivki (ali večim) priredila naslednjo vrednost (ali vrednosti) iz zaporedja.\n",
    "\n",
    "So pa situacije, ko bi radi nekaj ponavljali, vendar ne tako, da bi pri tem šli prek \"nečesa\". Vsaj ne prek nekega zaporedja."
   ]
  },
  {
   "cell_type": "markdown",
   "id": "63465069",
   "metadata": {},
   "source": [
    "## Kaj je domneval Collatz\n",
    "\n",
    "Vzemimo poljubno število in z njim počnimo tole: če je sodo, ga delimo z 2, če je liho, pa ga pomnožimo s 3 in prištejmo 1. To ponavljamo, dokler ne dobimo 1.\n",
    "\n",
    "Za primer vzemimo 12. Ker je sodo, ga delimo z 2 in dobimo 6. 6 je sodo, torej ga delimo z 2 in dobimo 3. 3 je liho, torej ga množimo s 3 in prištejemo 1 - rezultat je 10. 10 je sodo, zato ga delimo z 2 in dobimo 5... Celotno zaporedje je 12, 6, 3, 10, 5, 16, 8, 4, 2, 1. Ko pridemo do 1, se ustavimo.\n",
    "\n",
    "Matematiki, ki vedno radi počnejo koristne reči, si belijo glavo z vprašanjem, ali se reč vedno izteče ali pa se lahko kdaj tudi zacikla tako, da se zaporedje ponavlja in ponavlja v nedogled. Lothar Collatz, konkretno, je že od leta 1937\n",
    "[domneval](https://en.wikipedia.org/wiki/Collatz_conjecture), da se zaporedje vedno izteče. Kot pravi njegov [življenjepis](https://en.wikipedia.org/wiki/Lothar_Collatz), se je njegovo domnevanje končalo leta 1990, matematiki pa domnevajo domnevo še naprej. Eden sicer najbolj neustrašnih matematikov 20. stoletja, [couch surfer Erdos](https://en.wikipedia.org/wiki/Paul_Erd%C5%91s#Personality), je na to temo rekel, da matematika za takšna vprašanja še ni zrela.\n",
    "\n",
    "Naši cilji bodo skromnejši: napisali bomo program, ki mu bo uporabnik vpisal število in program bo izpisal zaporedje, kot je bilo gornje.\n",
    "\n",
    "Najprej povejmo kar po slovensko:"
   ]
  },
  {
   "cell_type": "code",
   "execution_count": null,
   "id": "8fbf4cfa",
   "metadata": {},
   "outputs": [],
   "source": [
    "stevilo = kar vpiše uporabnik\n",
    "dokler stevilo != 1:\n",
    "    če je število sodo:\n",
    "        deli število z 2\n",
    "    sicer:\n",
    "        pomnoži število s 3 in prištej 1"
   ]
  },
  {
   "cell_type": "markdown",
   "id": "b7a10f65",
   "metadata": {},
   "source": [
    "Tole skoraj že znamo prevesti v Python (prevod bo pravzaprav dobeseden), manjka nam le vrstica \"dokler je število sodo\". Ta je slišati sumljivo podobno kot \"če je število sodo\", le namesto \"če\" imamo \"dokler\". Poskusimo."
   ]
  },
  {
   "cell_type": "code",
   "execution_count": 1,
   "id": "8784a126",
   "metadata": {},
   "outputs": [
    {
     "name": "stdout",
     "output_type": "stream",
     "text": [
      "Vnesi število: 42\n",
      "42\n",
      "21\n",
      "64\n",
      "32\n",
      "16\n",
      "8\n",
      "4\n",
      "2\n",
      "1\n"
     ]
    }
   ],
   "source": [
    "n = int(input(\"Vnesi število: \"))\n",
    "while n != 1:\n",
    "    print(n)\n",
    "    if n % 2 == 0:\n",
    "        n //= 2\n",
    "    else:\n",
    "        n = n * 3 + 1\n",
    "print(1)"
   ]
  },
  {
   "cell_type": "markdown",
   "id": "a2587a9c",
   "metadata": {},
   "source": [
    "Ne spreglejte, da smo uporabili celoštevilsko deljenje. Če bi uporabili navadnega, `n /= 2`, bi se `n` spremenil v necelo število (`float`) in v izpisu bi se pojavile zoprne decimalke (za vsakim številom bi pisalo še .0).\n",
    "\n",
    "Popaziti je potrebno, da izpišemo tako prvo kot zadnje število, zato bomo potrebovali še en `print` izven zanke: po zanki izpišemo še zadnji člen zaporedja, 1. Namesto `print(1)` bi lahko napisali tudi `print(n)` - tako ali tako vemo, da je `n` enak 1, saj program sicer ne bi prišel do tam, do koder je prišel, namreč onstran zanke, ki teče, dokler je `n` različen od 1."
   ]
  },
  {
   "cell_type": "markdown",
   "id": "061faf4d",
   "metadata": {},
   "source": [
    "Zanka `while` torej po svoje podobna stavku `if`. Medtem ko se stavki znotraj `if` izvedejo, *če* je pogoj resničen, se stavki znotraj `while` ponavljajo, *dokler* je pogoj resničen."
   ]
  }
 ],
 "metadata": {
  "kernelspec": {
   "display_name": "Python 3 (ipykernel)",
   "language": "python",
   "name": "python3"
  },
  "language_info": {
   "codemirror_mode": {
    "name": "ipython",
    "version": 3
   },
   "file_extension": ".py",
   "mimetype": "text/x-python",
   "name": "python",
   "nbconvert_exporter": "python",
   "pygments_lexer": "ipython3",
   "version": "3.11.5"
  }
 },
 "nbformat": 4,
 "nbformat_minor": 5
}
