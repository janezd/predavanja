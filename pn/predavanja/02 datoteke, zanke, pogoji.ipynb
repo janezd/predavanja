{
 "cells": [
  {
   "cell_type": "markdown",
   "id": "3564f76f-bc63-4474-b8bd-609b1315bc44",
   "metadata": {},
   "source": [
    "## Prva zanka\n",
    "\n",
    "Ponovimo, še enkrat napišimo program, ki mu vnesemo temperaturo v Celzijevih stopinjah in nam izpiše temperaturo v Fahrenheitih."
   ]
  },
  {
   "cell_type": "code",
   "execution_count": 1,
   "id": "493e4e4f",
   "metadata": {},
   "outputs": [
    {
     "name": "stdout",
     "output_type": "stream",
     "text": [
      "Temperatura: 25\n",
      "25 C je 77.0 F\n"
     ]
    }
   ],
   "source": [
    "vnos = input(\"Temperatura: \")\n",
    "\n",
    "temp_c = int(vnos)\n",
    "temp_f = temp_c * 9 / 5 + 32\n",
    "print(temp_c, \"C je\", temp_f, \"F\")"
   ]
  },
  {
   "cell_type": "markdown",
   "id": "340bbf10-aab7-4753-adfc-cddd9ee51870",
   "metadata": {},
   "source": [
    "Razdelili smo ga v dva dela in mednju postavili prazno vrstico. Prvi je kratek - le vrstica, ki priskrbi podatke za drugi del, ki računa in izpisuje.\n",
    "\n",
    "Zdaj pa si zastavimo višje cilje: v datoteki \"temperature.txt\" imamo podatke o napovedani temperaturi v Radovljici za teden od 2. do 6. oktobra 2023. Vsebina datoteke takšna:\n",
    "\n",
    "```\n",
    "24\n",
    "18\n",
    "15\n",
    "16\n",
    "18\n",
    "```\n",
    "\n",
    "Naša naloga je izvesti program za vsako od teh temperatur. Kot da bi jih vpisovali ročno, le da jih bo bral iz datoteke. Želeli bi torej takšen izpis\n",
    "\n",
    "```\n",
    "24 C je 75.2 F\n",
    "18 C je 64.4 F\n",
    "15 C je 59.0 F\n",
    "16 C je 60.8 F\n",
    "18 C je 64.4 F\n",
    "```\n",
    "\n",
    "Program moramo spremeniti tako, da bo ponavljal drugi del *za vsako* temperaturo iz datoteke. To naredimo tako:"
   ]
  },
  {
   "cell_type": "code",
   "execution_count": 2,
   "id": "3a3d5b3a",
   "metadata": {},
   "outputs": [
    {
     "name": "stdout",
     "output_type": "stream",
     "text": [
      "24 C je 75.2 F\n",
      "18 C je 64.4 F\n",
      "15 C je 59.0 F\n",
      "16 C je 60.8 F\n",
      "18 C je 64.4 F\n"
     ]
    }
   ],
   "source": [
    "for vnos in open(\"temperature.txt\"):\n",
    "    temp_c = int(vnos)\n",
    "    temp_f = temp_c * 9 / 5 + 32\n",
    "    print(temp_c, \"C je\", temp_f, \"F\")"
   ]
  },
  {
   "cell_type": "markdown",
   "id": "038358e7-657f-487b-9aeb-338c348b10ab",
   "metadata": {},
   "source": [
    "Zadnje tri vrstice so take kot prej, novost je prva.\n",
    "\n",
    "`open` je funkcija. (Kako vemo? Po tem, da jo kličemo. Tako kot smo pisali oklepaje za `input`, `int` in `print`, jih tu pišemo za `open`, torej je `open` funkcija. Če nekemu imenu sledijo oklepaji, to *vedno* pomeni klic funkcije.) Kot argument ji, očitno podamo ime datoteke. Kaj počne, kaj vrne?\n",
    "\n",
    "Funkcija `open` \"odpre\" datoteko. Če bi šlo za Word, Excel ali, uh, na primer VLC, bi to pomenilo, da se pokaže besedilo, odpre preglednica, začne predvajati film. V programskih jezikih pa funkcije `open` in podobne (v različnih programskih jezikih imajo lahko različna imena) zgolj poiščejo (ali ustvarijo) datoteko in se pripravijo na njeno branje (ali pisanje). Vem, še vedno je malo abstraktno, a tako bo ostalo. Funkcija `open` vrne nekaj, neko reč, stvar, objekt, ki predstavlja datoteko. Vrne \"škatlico\", ki ni, kot smo doslej vajeni, `int` ali `float` ali `str` temveč nekaj četrtega, datoteka. (Kdor pričakuje, da bomo povedali ime podatkovnega tipa, na primer `file`, čaka zaman. Ime podatkovnega tipa je čudno, pa še odvisno je od vrste datoteke. Poleg tega pa tega imena nikoli ne potrebujemo. Tako nikoli, da vaš predavatelj za Programiranje 1 niti ne ve, kako se ta tip - oziroma različice teh tipov - v resnici imenujejo.)\n",
    "\n",
    "Ko smo prejšnji teden spoznali `int`, `float` in `str`, smo rekli, da se z rečmi različnih tipov dajo početi različne stvari. Nize lahko seštevamo in jih množimo s celimi števili. Števila lahko seštevamo, množimo, delimo in še kaj. Kaj pa lako počnemo z datotekami? Bore malo. Seštevati in odštevati jih ne moremo. Za zdaj bomo spoznali le eno operacijo, ki jo zmorejo datoteke: če jih znamo vprašati, vračajo zaporedne vrstice datoteke. Najprej prvo, naslednjič drugo, potem tretjo in tako naprej.\n",
    "\n",
    "Kako vprašati? Tako kot smo napisali zgoraj: `for vnos in open(\"temperature.txt\"):`. Videvši to, bo Python od datoteke zahteval prvo vrstico. Njeno vsebino bo zapisal v spremenljivko z imenom `vnos` in izvedel vrstice, ki so zapisane pod `for` in zamaknjene. Ko se izvedejo, zahteva od datoteke naslednjo vrstico, njeno vrednost spet priredi spremenljivko `vnos` in spet izvede vrstice. In tako naprej, do konca datoteke.\n",
    "\n",
    "Temu, kar počnemo tu, računalnikarji rečemo *zanka* (*loop*). Ime mogoče ni najbolj posrečeno, ampak kar je, je. Beseda *zanka* se vedno nanaša na neko ponavljanje. Zanke imajo *glavo*, v našem primeru vrstico `for vnos in open(\"temperature.txt\"):`, ki vodi ponavljanje - more spreminja vrednost kakšne spremenljivke (v tem primeru `vnos`) in, predvsem, določa, kdaj se bo reč končala (v tem primeru se konča, ko je datoteka prebrana do konca). Glavi zanke sledi, kot lahko ugane vsak, ki je že kdaj videl kako žival, *telo*. To so vrstice, ki jih zanka ponavlja.\n",
    "\n",
    "Python ima dve vrsti zank (nekateri imajo še tretjo, vendar je manj uporabna). Tej tu rečemo zanka *for*, ona, druga, ki nas čaka kasneje, bo *while*. Glava zanke `for`, torej, ima obliko `for <ime-spremenljivke> in <neka-stvar-ki-zna-vračati-elemente>:`. Na koncu glave je vedno dvopičje. Telo, ki sledi v naslednjih vrsticah in mora biti zamaknjeno. Če je potrebno po zanki urediti še kaj, nadaljujemo brez zamika.\n",
    "\n",
    "Kar poglejmo."
   ]
  },
  {
   "cell_type": "code",
   "execution_count": 3,
   "id": "55c88988-3d29-44b5-82df-07459fc6a9d2",
   "metadata": {
    "tags": []
   },
   "outputs": [
    {
     "name": "stdout",
     "output_type": "stream",
     "text": [
      "24 C je 75.2 F\n",
      "18 C je 64.4 F\n",
      "15 C je 59.0 F\n",
      "16 C je 60.8 F\n",
      "18 C je 64.4 F\n",
      "Da, dragi moji, tako toplo bo prihodnji teden v Radoljci!\n"
     ]
    }
   ],
   "source": [
    "for vnos in open(\"temperature.txt\"):\n",
    "    temp_c = int(vnos)\n",
    "    temp_f = temp_c * 9 / 5 + 32\n",
    "    print(temp_c, \"C je\", temp_f, \"F\")\n",
    "print(\"Da, dragi moji, tako toplo bo prihodnji teden v Radoljci!\")"
   ]
  },
  {
   "cell_type": "code",
   "execution_count": 4,
   "id": "2cf88ef2-5039-4754-bcd7-f55e390d9436",
   "metadata": {
    "tags": []
   },
   "outputs": [
    {
     "name": "stdout",
     "output_type": "stream",
     "text": [
      "24 C je 75.2 F\n",
      "Da, dragi moji, tako toplo bo prihodnji teden v Radoljci\n",
      "18 C je 64.4 F\n",
      "Da, dragi moji, tako toplo bo prihodnji teden v Radoljci\n",
      "15 C je 59.0 F\n",
      "Da, dragi moji, tako toplo bo prihodnji teden v Radoljci\n",
      "16 C je 60.8 F\n",
      "Da, dragi moji, tako toplo bo prihodnji teden v Radoljci\n",
      "18 C je 64.4 F\n",
      "Da, dragi moji, tako toplo bo prihodnji teden v Radoljci\n"
     ]
    }
   ],
   "source": [
    "for vnos in open(\"temperature.txt\"):\n",
    "    temp_c = int(vnos)\n",
    "    temp_f = temp_c * 9 / 5 + 32\n",
    "    print(temp_c, \"C je\", temp_f, \"F\")\n",
    "    print(\"Da, dragi moji, tako toplo bo prihodnji teden v Radoljci\")"
   ]
  },
  {
   "cell_type": "code",
   "execution_count": 5,
   "id": "a0cde4f2-82ad-4a32-b2b6-b8393be3959d",
   "metadata": {
    "tags": []
   },
   "outputs": [
    {
     "name": "stdout",
     "output_type": "stream",
     "text": [
      "18 C je 64.4 F\n",
      "Da, dragi moji, tako toplo bo prihodnji teden v Radoljci\n"
     ]
    }
   ],
   "source": [
    "for vnos in open(\"temperature.txt\"):\n",
    "    temp_c = int(vnos)\n",
    "    temp_f = temp_c * 9 / 5 + 32\n",
    "print(temp_c, \"C je\", temp_f, \"F\")\n",
    "print(\"Da, dragi moji, tako toplo bo prihodnji teden v Radoljci\")"
   ]
  },
  {
   "cell_type": "markdown",
   "id": "56440fd9-6970-4deb-9b48-68b0a3563b00",
   "metadata": {},
   "source": [
    "V prvem primeru je zadnji `print` izven zanke, zato se ne ponavlja, temveč izvede po njej. V drugem primeru je znotraj zanke in se bo ponovil za vsako vrstico datoteke.\n",
    "\n",
    "Najzanimivejši je, kajpada, zadnji, v katerem smo postavili tudi prvi `print` ven iz zanke. Zato se izvede le enkrat. Katero temperaturo izpiše? Zadnjo. Znotraj zanke spreminjamo vrednost `temp_c` in `temp_f`. Po zanki sta takšni, kot smo ju nastavili nazadnje.\n",
    "\n",
    "Zamiki so lahko poljubni. Upam pa, da se strinjamo, da tole"
   ]
  },
  {
   "cell_type": "code",
   "execution_count": 6,
   "id": "b2536cf7-ae60-4825-920f-d240ff108843",
   "metadata": {
    "tags": []
   },
   "outputs": [
    {
     "name": "stdout",
     "output_type": "stream",
     "text": [
      "24 C je 75.2 F\n",
      "18 C je 64.4 F\n",
      "15 C je 59.0 F\n",
      "16 C je 60.8 F\n",
      "18 C je 64.4 F\n",
      "Da, dragi moji, tako toplo bo prihodnji teden v Radoljci\n"
     ]
    }
   ],
   "source": [
    "for vnos in open(\"temperature.txt\"):\n",
    " temp_c = int(vnos)\n",
    " temp_f = temp_c * 9 / 5 + 32\n",
    " print(temp_c, \"C je\", temp_f, \"F\")\n",
    "print(\"Da, dragi moji, tako toplo bo prihodnji teden v Radoljci\")"
   ]
  },
  {
   "cell_type": "markdown",
   "id": "0dd28270-38f7-4077-b00f-3397b2b674d0",
   "metadata": {},
   "source": [
    "ni prav posrečeno, čeprav deluje. (Sploh pa bo neposrečeno, ko bomo nekoč pisali zanke znotraj zank, pa še kaj drugega bo treba zamikati in s tako majhnim zamikom bodo reči hitro postale nepregledne. Tudi tole ni prav posrečeno:"
   ]
  },
  {
   "cell_type": "code",
   "execution_count": 7,
   "id": "af3c7161-9f01-4630-8bd7-c228e2f767c2",
   "metadata": {
    "tags": []
   },
   "outputs": [
    {
     "name": "stdout",
     "output_type": "stream",
     "text": [
      "24 C je 75.2 F\n",
      "18 C je 64.4 F\n",
      "15 C je 59.0 F\n",
      "16 C je 60.8 F\n",
      "18 C je 64.4 F\n",
      "Da, dragi moji, tako toplo bo prihodnji teden v Radoljci\n"
     ]
    }
   ],
   "source": [
    "for vnos in open(\"temperature.txt\"):\n",
    "                                                         temp_c = int(vnos)\n",
    "                                                         temp_f = temp_c * 9 / 5 + 32\n",
    "                                                         print(temp_c, \"C je\", temp_f, \"F\")\n",
    "print(\"Da, dragi moji, tako toplo bo prihodnji teden v Radoljci\")"
   ]
  },
  {
   "cell_type": "markdown",
   "id": "ea942373-0c60-4b6f-9ea4-e6d25f29580d",
   "metadata": {},
   "source": [
    "Zategadelj dogovor: umikamo za štiri presledke. Če ima kdo prijatelja, ki zagovarja zamikanje s tabulatorji ... Ne. Python bo to sicer toleriral, vendar je za zamike v Pythonu priporočena uporaba presledkov. Štirih.\n",
    "\n",
    "V vsakem primeru pa morajo biti zamiki konsistentni znotraj bloka."
   ]
  },
  {
   "cell_type": "code",
   "execution_count": 9,
   "id": "78f7e92a-bc98-4f01-9f39-15b3fa091ff6",
   "metadata": {
    "tags": []
   },
   "outputs": [
    {
     "ename": "IndentationError",
     "evalue": "unindent does not match any outer indentation level (<tokenize>, line 4)",
     "output_type": "error",
     "traceback": [
      "\u001b[0;36m  File \u001b[0;32m<tokenize>:4\u001b[0;36m\u001b[0m\n\u001b[0;31m    print(temp_c, \"C je\", temp_f, \"F\")\u001b[0m\n\u001b[0m    ^\u001b[0m\n\u001b[0;31mIndentationError\u001b[0m\u001b[0;31m:\u001b[0m unindent does not match any outer indentation level\n"
     ]
    }
   ],
   "source": [
    "for vnos in open(\"temperature.txt\"):\n",
    "    temp_c = int(vnos)\n",
    "    temp_f = temp_c * 9 / 5 + 32\n",
    "  print(temp_c, \"C je\", temp_f, \"F\")\n",
    "print(\"Da, dragi moji, tako toplo bo prihodnji teden v Radoljci!\")"
   ]
  },
  {
   "cell_type": "markdown",
   "id": "62315015-b5f7-4262-99b1-3f0b4439a930",
   "metadata": {},
   "source": [
    "To ne deluje, ker četrta vrstica ni ne v zanki ne izven nje. Python vidi, da je zamik manjši in pričakuje, da bo enak nekemu zunanjemu zamiku (\"outer indentation level\"), ki je v tem primeru 0."
   ]
  },
  {
   "cell_type": "code",
   "execution_count": 10,
   "id": "72bd80e4-87f2-4841-b23c-f7d11a9ed682",
   "metadata": {
    "tags": []
   },
   "outputs": [
    {
     "ename": "IndentationError",
     "evalue": "unexpected indent (1957577240.py, line 4)",
     "output_type": "error",
     "traceback": [
      "\u001b[0;36m  Cell \u001b[0;32mIn[10], line 4\u001b[0;36m\u001b[0m\n\u001b[0;31m    print(temp_c, \"C je\", temp_f, \"F\")\u001b[0m\n\u001b[0m    ^\u001b[0m\n\u001b[0;31mIndentationError\u001b[0m\u001b[0;31m:\u001b[0m unexpected indent\n"
     ]
    }
   ],
   "source": [
    "for vnos in open(\"temperature.txt\"):\n",
    "    temp_c = int(vnos)\n",
    "    temp_f = temp_c * 9 / 5 + 32\n",
    "        print(temp_c, \"C je\", temp_f, \"F\")\n",
    "print(\"Da, dragi moji, tako toplo bo prihodnji teden v Radoljci!\")"
   ]
  },
  {
   "cell_type": "markdown",
   "id": "c90cf720-b645-4454-80d2-12475dce170a",
   "metadata": {},
   "source": [
    "To pa ni v redu, ker Python ne ve, čemu smo četrto vrstico nenadoma, brez razloga, umaknili bolj kot tretjo."
   ]
  },
  {
   "cell_type": "markdown",
   "id": "3b05ec76-4ce9-4c72-9d6f-afa8ed54f95f",
   "metadata": {},
   "source": [
    "## Zanka z računom\n",
    "\n",
    "Pretvarjanje iz Celzijev v Fahrenheite je klasična začetna naloga iz programiranja in, priznajmo, nekoliko nesmiselna. Koga brigajo Fahrenheiti. (Razen Američanov.) Vsaj mene zanima predvsem, ali bo prihodnji teden v Radovljici toplo (in bom obžaloval, da moram predavati, namesto da bi si privoščil še kak jesenski dan dopusta na kolesu) ali bo mraz. Se pravi, zanima nas povprečna temperatura v prihodnjem tednu. Izračunajmo jo!\n",
    "\n",
    "Kar. No, dajte, na pamet. Da se spomnimo, temperature so\n",
    "\n",
    "```\n",
    "24\n",
    "18\n",
    "15\n",
    "16\n",
    "18\n",
    "```\n",
    "\n",
    "Resno mislim. Izračunajte.\n",
    "\n",
    "OK, če ste se lotili, kaj ste počeli? Tole: 24 in 18 je 42. 42 in 15 je 57. 57 in 16 je 73. 73 in 18 je 91. 91 / 5 je 18.2. Drži?\n",
    "\n",
    "Računalnik mora narediti natančno isto. Iti mora čez temperature. Za vsako temperaturo (aha: `for vnos in open(\"temperature.txt\"):`) mora k dosedanji vsoti prišteti to temperaturo. Takole?"
   ]
  },
  {
   "cell_type": "code",
   "execution_count": 13,
   "id": "c7836546-74c7-4e9c-a040-c3061906755f",
   "metadata": {
    "tags": []
   },
   "outputs": [
    {
     "ename": "NameError",
     "evalue": "name 'vsota' is not defined",
     "output_type": "error",
     "traceback": [
      "\u001b[0;31m---------------------------------------------------------------------------\u001b[0m",
      "\u001b[0;31mNameError\u001b[0m                                 Traceback (most recent call last)",
      "Cell \u001b[0;32mIn[13], line 2\u001b[0m\n\u001b[1;32m      1\u001b[0m \u001b[38;5;28;01mfor\u001b[39;00m vnos \u001b[38;5;129;01min\u001b[39;00m \u001b[38;5;28mopen\u001b[39m(\u001b[38;5;124m\"\u001b[39m\u001b[38;5;124mtemperature.txt\u001b[39m\u001b[38;5;124m\"\u001b[39m):\n\u001b[0;32m----> 2\u001b[0m     vsota \u001b[38;5;241m=\u001b[39m vsota \u001b[38;5;241m+\u001b[39m vnos\n",
      "\u001b[0;31mNameError\u001b[0m: name 'vsota' is not defined"
     ]
    }
   ],
   "source": [
    "for vnos in open(\"temperature.txt\"):\n",
    "    vsota = vsota + vnos"
   ]
  },
  {
   "cell_type": "markdown",
   "id": "e7c69b93-e9be-4cdf-b74a-0d4d778ce496",
   "metadata": {},
   "source": [
    "No, skoraj takole. Ideja je čisto prava: v vsakem koraku zanke, moramo spremenljivki `vsota` prirediti vrednost, ki jo dobimo tako, da k prejšnji vrednosti `vsota` prištejemo vrednost iz vrstice datoteke. Python se pritožuje le, da ne pozna spremenljivke z imenom `vsota`.\n",
    "\n",
    "To se zgodi, ker že v prvem krogu poskušamo prištevati k `vsota`, še preden ta spremenljivka obstaja. To je lahko rešiti: pred zanko jo nastavimo na `0`. Potem pa bomo lepo prištevali."
   ]
  },
  {
   "cell_type": "code",
   "execution_count": 14,
   "id": "b0e12443-8ae3-48de-b79d-450b28a38150",
   "metadata": {
    "tags": []
   },
   "outputs": [
    {
     "ename": "TypeError",
     "evalue": "unsupported operand type(s) for +: 'int' and 'str'",
     "output_type": "error",
     "traceback": [
      "\u001b[0;31m---------------------------------------------------------------------------\u001b[0m",
      "\u001b[0;31mTypeError\u001b[0m                                 Traceback (most recent call last)",
      "Cell \u001b[0;32mIn[14], line 3\u001b[0m\n\u001b[1;32m      1\u001b[0m vsota \u001b[38;5;241m=\u001b[39m \u001b[38;5;241m0\u001b[39m\n\u001b[1;32m      2\u001b[0m \u001b[38;5;28;01mfor\u001b[39;00m vnos \u001b[38;5;129;01min\u001b[39;00m \u001b[38;5;28mopen\u001b[39m(\u001b[38;5;124m\"\u001b[39m\u001b[38;5;124mtemperature.txt\u001b[39m\u001b[38;5;124m\"\u001b[39m):\n\u001b[0;32m----> 3\u001b[0m     vsota \u001b[38;5;241m=\u001b[39m vsota \u001b[38;5;241m+\u001b[39m vnos\n",
      "\u001b[0;31mTypeError\u001b[0m: unsupported operand type(s) for +: 'int' and 'str'"
     ]
    }
   ],
   "source": [
    "vsota = 0\n",
    "for vnos in open(\"temperature.txt\"):\n",
    "    vsota = vsota + vnos"
   ]
  },
  {
   "cell_type": "markdown",
   "id": "94416199-7e15-45f5-8cf0-c8e22e966c53",
   "metadata": {},
   "source": [
    "Tole pa poznamo. `vsota` je `int`, `vnos` pa besedilo, `str`. `vnos` bo potrebno pretvoriti v številko. (Mimogrede ga še preimenujmo v kaj pametnejšega, recimo, `temperatura` ali `vrstica`.)"
   ]
  },
  {
   "cell_type": "code",
   "execution_count": 15,
   "id": "a1dfad49-78d8-47ed-86e2-7fe467d919b4",
   "metadata": {
    "tags": []
   },
   "outputs": [],
   "source": [
    "vsota = 0\n",
    "for vrstica in open(\"temperature.txt\"):\n",
    "    vsota = vsota + int(vrstica)"
   ]
  },
  {
   "cell_type": "markdown",
   "id": "45cca627-fabf-4580-a27e-2b50f35d5b6a",
   "metadata": {},
   "source": [
    "Pa zdaj? Nič se ni zgodilo?! Je, samo nič se ni izpisalo. Na koncu izpišimo vsoto."
   ]
  },
  {
   "cell_type": "code",
   "execution_count": 16,
   "id": "c8354142-1bbe-429a-8ca5-22ce083e8c47",
   "metadata": {
    "tags": []
   },
   "outputs": [
    {
     "name": "stdout",
     "output_type": "stream",
     "text": [
      "91\n"
     ]
    }
   ],
   "source": [
    "vsota = 0\n",
    "for vrstica in open(\"temperature.txt\"):\n",
    "    vsota = vsota + int(vrstica)\n",
    "print(vsota)"
   ]
  },
  {
   "cell_type": "markdown",
   "id": "95c29df0-eb85-4f69-95c6-65059319b592",
   "metadata": {},
   "source": [
    "Mi pa, seveda, potrebujemo povprečje. Če vemo, da vsebuje datoteka natančno 5 temperatur, lahko seveda izpišemo `vsota / 5`. Če želimo biti splošnejši, pa bomo sproti, ob seštevanju, še šteli dneve."
   ]
  },
  {
   "cell_type": "code",
   "execution_count": 17,
   "id": "38c8aed9-ec60-410d-9bf6-758b24dca394",
   "metadata": {
    "tags": []
   },
   "outputs": [
    {
     "name": "stdout",
     "output_type": "stream",
     "text": [
      "18.2\n"
     ]
    }
   ],
   "source": [
    "vsota = 0\n",
    "dni = 0\n",
    "for vrstica in open(\"temperature.txt\"):\n",
    "    vsota = vsota + int(vrstica)\n",
    "    dni += 1\n",
    "print(vsota / dni)"
   ]
  },
  {
   "cell_type": "markdown",
   "id": "fded6057-5584-4269-8333-49a93ee06b55",
   "metadata": {},
   "source": [
    "Ali, če hočemo počasneje:"
   ]
  },
  {
   "cell_type": "code",
   "execution_count": 18,
   "id": "21ae0159-c371-4a2c-b026-10b330245cd6",
   "metadata": {
    "tags": []
   },
   "outputs": [
    {
     "name": "stdout",
     "output_type": "stream",
     "text": [
      "18.2\n"
     ]
    }
   ],
   "source": [
    "vsota = 0\n",
    "dni = 0\n",
    "for vrstica in open(\"temperature.txt\"):\n",
    "    temp = int(vrstica)\n",
    "    vsota = vsota + temp\n",
    "    dni += 1\n",
    "print(vsota / dni)"
   ]
  },
  {
   "cell_type": "markdown",
   "id": "e1ed81f3-23b1-4696-967a-3b9f76462882",
   "metadata": {},
   "source": [
    "To je to.\n",
    "\n",
    "Ampak, no, to ni to. Pravzaprav me mogoče ne zanima povprečna temperatura, temveč bi rad vedel, ali bo temperatura kdaj padla pod 20 stopinj. Ali pa, mogoče, na kateri dan bo najvišja. Morda pa bi me navdihnilo ocenjevanje v slogu smučarskih skokov in bi želel vedeti, kakšna bo povprečna temperatura, če ne upoštevam najtoplejšega in najhladnejšega dne ..."
   ]
  },
  {
   "cell_type": "markdown",
   "id": "f8451d07-50b4-4a3e-860c-817bee93723b",
   "metadata": {},
   "source": [
    "## Pogojni stavki\n",
    "\n",
    "Začnimo z manj ambicioznim ciljem. Ker je znano, da človeka zebe, ko je temperatura manjša ali enaka 17 stopinj, torej takšnih temperatur nočemo videti, izpišimo vse temperature, večje od 17.\n",
    "\n",
    "Hm. Za zdaj znamo samo izpisati vse temperature."
   ]
  },
  {
   "cell_type": "code",
   "execution_count": 19,
   "id": "37223abf-cf3a-43f9-8a24-1b2bae2933bb",
   "metadata": {
    "tags": []
   },
   "outputs": [
    {
     "name": "stdout",
     "output_type": "stream",
     "text": [
      "24\n",
      "18\n",
      "15\n",
      "16\n",
      "18\n"
     ]
    }
   ],
   "source": [
    "for vrstica in open(\"temperature.txt\"):\n",
    "    temp = int(vrstica)\n",
    "    print(temp)"
   ]
  },
  {
   "cell_type": "markdown",
   "id": "2fec2714-67e7-4e40-8eba-59392f222106",
   "metadata": {},
   "source": [
    "Naloga, ki smo si jo zastavili, pa je izpisati le tiste izmed teh številk, ki so večje od 17. Tisti `print` torej, se ne sme zgoditi vedno, temveč le, če velja `temp > 17`.\n",
    "\n",
    "Nič lažjega."
   ]
  },
  {
   "cell_type": "code",
   "execution_count": 20,
   "id": "bf19222b-0166-4539-8bda-c7af6ee5e3f9",
   "metadata": {
    "tags": []
   },
   "outputs": [
    {
     "name": "stdout",
     "output_type": "stream",
     "text": [
      "24\n",
      "18\n",
      "18\n"
     ]
    }
   ],
   "source": [
    "for vrstica in open(\"temperature.txt\"):\n",
    "    temp = int(vrstica)\n",
    "    if temp > 17:\n",
    "        print(temp)"
   ]
  },
  {
   "cell_type": "markdown",
   "id": "2269b575-4190-41e4-915d-7255e49656a9",
   "metadata": {},
   "source": [
    "Tako kot s `for` od Pythona zahtevamo, da nekaj ponavlja, z `if` zahtevamo, da nekaj stori le, če je izpolnjen določen pogoj.\n",
    "\n",
    "`for`-u (in kasneje `while`-u) rečemo zanka. Tudi `if`-u nekateri rečejo zanka, vendar le študenti-začetniki. :) `if` (skupaj s tem, kar mu sledi), je *pogojni stavek*.\n",
    "\n",
    "Tako vrstico s `for`, moramo tudi vrstico z `if` zaključiti z dvopičjem, slediti pa ji mora ena ali več zamaknjenih vrstic. Ker je že `if` sam zamaknjen za štiri presledke (ker je znotraj `for`), bo `print`, ki je znotraj `if`, zamaknjen za osem presledkov."
   ]
  },
  {
   "cell_type": "markdown",
   "id": "d39e6825-5a93-492b-b6e4-10a121cf6e0f",
   "metadata": {},
   "source": [
    "(\n",
    "\n",
    "Medklic za družbo- ali celo jezikoslovno naravnane bralce. Ob pisanju gornjega stavka sem sprva pozabil zadnjo vejico, tisto pred \"zamaknjen\". Pri teh zamikih in odmikih gre za praktično enako reč, kot so v jeziku podredni stavki, ki so lahko tudi podrejeni, tako kot je recimo tale, drugim podrednim stavkom, mar ni tako? Se prvi\n",
    "\n",
    "```\n",
    "Pri teh zamikih in odmikih gre za praktično enako reč,\n",
    "    kot so v jeziku podredni stavki,\n",
    "        ki so lahko tudi podrejeni,\n",
    "            tako kot je recimo tale,\n",
    "        drugim podrednim stavkom,\n",
    "mar ni tako?\n",
    "```\n",
    "\n",
    "V slovenščini začetek in konec podrednega stavka nakažemo z vejico (ki žal ne pove, ali gremo noter ali ven), v Pythonu pa to naredimo z zamiki in, zavoljo preglednosti, še dvopičjem ob zamiku.\n",
    "\n",
    ")"
   ]
  },
  {
   "cell_type": "markdown",
   "id": "19604a93-03b3-43b0-9d5e-f825138a3c1e",
   "metadata": {},
   "source": [
    "Pa če bi radi zgolj prešteli, koliko bo toplih dni? V primeru teh podatkov so trije; želimo torej zgolj izpisati `3`, ne pa posamičnih temperatur.\n",
    "\n",
    "V tem primeru `print` nadomestimo s preštevanjem."
   ]
  },
  {
   "cell_type": "code",
   "execution_count": 21,
   "id": "6a526153-7a8a-4694-8867-d3f8a14c930c",
   "metadata": {
    "tags": []
   },
   "outputs": [
    {
     "name": "stdout",
     "output_type": "stream",
     "text": [
      "Toplih dni bo 3\n"
     ]
    }
   ],
   "source": [
    "toplih = 0\n",
    "for vrstica in open(\"temperature.txt\"):\n",
    "    temp = int(vrstica)\n",
    "    if temp > 17:\n",
    "        toplih = toplih + 1\n",
    "print(\"Toplih dni bo\", toplih)"
   ]
  },
  {
   "cell_type": "markdown",
   "id": "19f3f939-099e-4979-bac6-175debdf9b58",
   "metadata": {},
   "source": [
    "Tole se ne sliši prav lepo. Slovenščino boste popravili sami, za nalogo. Tule si zastavimo drug cilj: povedati želimo, da bo toplih dni 3 od 5.\n",
    "\n",
    "Za to, moramo poleg toplih dni šteti še *vse dni*. To pa že znamo."
   ]
  },
  {
   "cell_type": "code",
   "execution_count": 22,
   "id": "494f78c8-c029-4aaa-a4d1-487280cbcd58",
   "metadata": {
    "tags": []
   },
   "outputs": [
    {
     "name": "stdout",
     "output_type": "stream",
     "text": [
      "Toplih dni bo 3 od 5\n"
     ]
    }
   ],
   "source": [
    "toplih = 0\n",
    "dni = 0\n",
    "for vrstica in open(\"temperature.txt\"):\n",
    "    temp = int(vrstica)\n",
    "    if temp > 17:\n",
    "        toplih = toplih + 1\n",
    "    dni = dni + 1\n",
    "    \n",
    "print(\"Toplih dni bo\", toplih, \"od\", dni)"
   ]
  },
  {
   "cell_type": "markdown",
   "id": "5b6d7348-18b7-412c-9c79-9e46d98238be",
   "metadata": {},
   "source": [
    "Vidimo odmike? Vrstica `toplih = toplih + 1` je znotraj `if`, zato se izvede le za tiste vrstice datoteke, ki vsebujejo temperature večje od `17` Vrstica `dni = dni + 1` pa ni znotraj `if`, je pa znotraj `for`. Zato se izvede za vsako vrstico datoteke. Če bi jo izmaknili še bolj, ven iz zanke, pa bi se izvedla le enkrat."
   ]
  },
  {
   "cell_type": "code",
   "execution_count": 23,
   "id": "f4e9e445-64ad-4cf9-914f-22cbb420b8c8",
   "metadata": {
    "tags": []
   },
   "outputs": [
    {
     "name": "stdout",
     "output_type": "stream",
     "text": [
      "Toplih dni bo 3 od 1\n"
     ]
    }
   ],
   "source": [
    "toplih = 0\n",
    "dni = 0\n",
    "for vrstica in open(\"temperature.txt\"):\n",
    "    temp = int(vrstica)\n",
    "    if temp > 17:\n",
    "        toplih = toplih + 1\n",
    "dni = dni + 1\n",
    "    \n",
    "print(\"Toplih dni bo\", toplih, \"od\", dni)"
   ]
  },
  {
   "cell_type": "markdown",
   "id": "0bba42a6-66d8-4165-8044-3021d3c44de0",
   "metadata": {},
   "source": [
    "## Sicer\n",
    "\n",
    "Naslednja naloga: nekoga zanima, bo li kdaj v prihodnjem tednu temperatura vsaj 20 stopinj. Želeli bi torej program, ki izpiše bodisi \"Da, v prihodnjem tednu bo tudi kak topel dan.\" ali \"Ne, prihodnji teden bo ena žalost.\"\n",
    "\n",
    "Kmalu se bomo naučili bolj pravega način reševanja te naloge, vendar smo ji kos tudi s tem, kar znamo doslej. Preprosto preštejmo, koliko dni bo temperatura vsaj 20 stopinj in potem preverimo, ali je takih dni več kot 0."
   ]
  },
  {
   "cell_type": "code",
   "execution_count": 24,
   "id": "b8b25703-2fb4-4d9e-9dce-6194e649965a",
   "metadata": {
    "tags": []
   },
   "outputs": [
    {
     "name": "stdout",
     "output_type": "stream",
     "text": [
      "Da, v prihodnjem tednu bo tudi kak topel dan.\n"
     ]
    }
   ],
   "source": [
    "nad_20 = 0\n",
    "for vrstica in open(\"temperature.txt\"):\n",
    "    temp = int(vrstica)\n",
    "    if temp > 19:\n",
    "        nad_20 = nad_20 + 1\n",
    "        \n",
    "if nad_20 > 0:\n",
    "    print(\"Da, v prihodnjem tednu bo tudi kak topel dan.\")"
   ]
  },
  {
   "cell_type": "markdown",
   "id": "60d5e8fa-6505-402e-9f3c-c515990c3f89",
   "metadata": {},
   "source": [
    "Program deluje, vendar bo deloval le še kak teden, morda dva. Pač dokler bo ARSO poročal, da bodo \"temperature relativno visoke za ta letni čas\". Čim bodo padle pod dvajset, program ne bo več izpisal ničesar.\n",
    "\n",
    "No, da seveda."
   ]
  },
  {
   "cell_type": "code",
   "execution_count": 25,
   "id": "e883165c-3150-42b2-a0fb-15ddb5a94e2b",
   "metadata": {
    "tags": []
   },
   "outputs": [
    {
     "name": "stdout",
     "output_type": "stream",
     "text": [
      "Da, v prihodnjem tednu bo tudi kak topel dan.\n"
     ]
    }
   ],
   "source": [
    "nad_20 = 0\n",
    "for vrstica in open(\"temperature.txt\"):\n",
    "    temp = int(vrstica)\n",
    "    if temp > 19:\n",
    "        nad_20 = nad_20 + 1\n",
    "        \n",
    "if nad_20 > 0:\n",
    "    print(\"Da, v prihodnjem tednu bo tudi kak topel dan.\")\n",
    "if nad_20 < 1:\n",
    "    print(\"Ne, prihodnji teden bo ena žalost.\")"
   ]
  },
  {
   "cell_type": "markdown",
   "id": "4bbd80a6-0cbc-47f3-be4a-1dba8d2d45d0",
   "metadata": {},
   "source": [
    "Ni kul. Dvakrat.\n",
    "\n",
    "S pogojnimi stavki včasih zapovemo, naj se nekaj zgodi le v določenem primeru. Pogosto pa z njimi določamo dva scenarija: če pogoj drži, stori eno, sicer stori nekaj drugega. Ta primer je že tak: če je kak dan `nad_20`, naj izpiše, da topli dnevi bodo, sicer naj izpiše, da jih ne bo. V vseh normalnih programskih jezikih sme `if`-u slediti `else`."
   ]
  },
  {
   "cell_type": "code",
   "execution_count": 26,
   "id": "1282a4a2-3b61-483a-b063-bbd48cd4c8ee",
   "metadata": {
    "tags": []
   },
   "outputs": [
    {
     "name": "stdout",
     "output_type": "stream",
     "text": [
      "Da, v prihodnjem tednu bo tudi kak topel dan.\n"
     ]
    }
   ],
   "source": [
    "nad_20 = 0\n",
    "for vrstica in open(\"temperature.txt\"):\n",
    "    temp = int(vrstica)\n",
    "    if temp > 19:\n",
    "        nad_20 = nad_20 + 1\n",
    "        \n",
    "if nad_20 > 0:\n",
    "    print(\"Da, v prihodnjem tednu bo tudi kak topel dan.\")\n",
    "else:\n",
    "    print(\"Ne, prihodnji teden bo ena žalost.\")"
   ]
  },
  {
   "cell_type": "markdown",
   "id": "04292411-ca32-4db0-baa0-82384f750d0e",
   "metadata": {},
   "source": [
    "Tudi `else` ima, tako kot `if`, na koncu vrstice dvopičje, sledi ena ali več zamaknjenih vrstic."
   ]
  },
  {
   "cell_type": "code",
   "execution_count": 27,
   "id": "d303e58c-cc84-4565-8330-076ac7d2dc71",
   "metadata": {
    "tags": []
   },
   "outputs": [
    {
     "name": "stdout",
     "output_type": "stream",
     "text": [
      "Da, v prihodnjem tednu bo tudi kak topel dan.\n",
      "Le glej, da jih boš izkoristil!\n",
      "Ampak vse to je, pazi, samo napoved.\n"
     ]
    }
   ],
   "source": [
    "nad_20 = 0\n",
    "for vrstica in open(\"temperature.txt\"):\n",
    "    temp = int(vrstica)\n",
    "    if temp > 19:\n",
    "        nad_20 = nad_20 + 1\n",
    "        \n",
    "if nad_20 > 0:\n",
    "    print(\"Da, v prihodnjem tednu bo tudi kak topel dan.\")\n",
    "    print(\"Le glej, da jih boš izkoristil!\")\n",
    "else:\n",
    "    print(\"Ne, prihodnji teden bo ena žalost.\")\n",
    "    print(\"Zima bo, kaj hočemo.\")\n",
    "    print(\"Še malo, pa se bomo sankali.\")\n",
    "print(\"Ampak vse to je, pazi, samo napoved.\")"
   ]
  },
  {
   "cell_type": "markdown",
   "id": "e61e3abd-0cf5-448b-b3b6-52ea82a0f295",
   "metadata": {},
   "source": [
    "Za razliko od `if` pa `else` seveda nima pogoja. Pogoj je napisan že zgoraj, v `if`. Vrstice, ki sledijo `else`, se bodo pač izvedle takrat, ko je pogoj `neresničen`."
   ]
  },
  {
   "cell_type": "markdown",
   "id": "a2f14d15-4701-491d-8285-4ea2178f8716",
   "metadata": {},
   "source": [
    "Če imamo več kot dva lepa dneva, bomo rekli, da bo teden zelo lep in škoda, da ne moreš vzeti dopusta. Sicer, če bo lep dan en sam, posvarimo, da bo en sam in da se ga splača izkoristiti. Sicer stokamo."
   ]
  },
  {
   "cell_type": "code",
   "execution_count": 28,
   "id": "f657cc6d-a232-48c3-8392-129f9ec0cd6d",
   "metadata": {
    "tags": []
   },
   "outputs": [
    {
     "name": "stdout",
     "output_type": "stream",
     "text": [
      "En sam topel dan!\n",
      "Glej, da ga izkoristiš!\n"
     ]
    }
   ],
   "source": [
    "nad_20 = 0\n",
    "for vrstica in open(\"temperature.txt\"):\n",
    "    temp = int(vrstica)\n",
    "    if temp > 19:\n",
    "        nad_20 = nad_20 + 1\n",
    "        \n",
    "if nad_20 > 1:\n",
    "    print(\"Kako lep teden, vsaj dva dneva bosta topla!\")\n",
    "    print(\"Kakšna škoda, da moramo hoditi na predavanja!\")\n",
    "if nad_20 > 0:\n",
    "    print(\"En sam topel dan!\")\n",
    "    print(\"Glej, da ga izkoristiš!\")\n",
    "else:\n",
    "    print(\"Prihodnji teden bo ena žalost.\")\n",
    "    print(\"Zima bo, kaj hočemo.\")"
   ]
  },
  {
   "cell_type": "markdown",
   "id": "f103ae74-a93d-4b31-8b20-c2fd5f855029",
   "metadata": {},
   "source": [
    "Deluje, ampak vidimo problem? Začasno spustimo temperaturo, namesto `> 19` preverjajmo `> 10`."
   ]
  },
  {
   "cell_type": "code",
   "execution_count": 29,
   "id": "8cc89d12-4217-4a9d-8246-4745e2618a1d",
   "metadata": {
    "tags": []
   },
   "outputs": [
    {
     "name": "stdout",
     "output_type": "stream",
     "text": [
      "Kako lep teden, vsaj dva dneva bosta topla!\n",
      "Kakšna škoda, da moramo hoditi na predavanja!\n",
      "En sam topel dan!\n",
      "Glej, da ga izkoristiš!\n"
     ]
    }
   ],
   "source": [
    "nad_20 = 0\n",
    "for vrstica in open(\"temperature.txt\"):\n",
    "    temp = int(vrstica)\n",
    "    if temp > 10:\n",
    "        nad_20 = nad_20 + 1\n",
    "        \n",
    "if nad_20 > 1:\n",
    "    print(\"Kako lep teden, vsaj dva dneva bosta topla!\")\n",
    "    print(\"Kakšna škoda, da moramo hoditi na predavanja!\")\n",
    "if nad_20 > 0:\n",
    "    print(\"En sam topel dan!\")\n",
    "    print(\"Glej, da ga izkoristiš!\")\n",
    "else:\n",
    "    print(\"Prihodnji teden bo ena žalost.\")\n",
    "    print(\"Zima bo, kaj hočemo.\")"
   ]
  },
  {
   "cell_type": "markdown",
   "id": "15f1e255-a534-439f-bf80-0c0676e47659",
   "metadata": {},
   "source": [
    "Drugi `if` preverja, ali imamo kak topel dan. Vendar bi moral to početi le, če ni ravno prej izpisal, da bosta (vsaj) dva. Pravilno (ekhm, pravilneje) je tako:"
   ]
  },
  {
   "cell_type": "code",
   "execution_count": 30,
   "id": "74d17b08-fc38-4939-a061-c5eccaa3cade",
   "metadata": {
    "tags": []
   },
   "outputs": [
    {
     "name": "stdout",
     "output_type": "stream",
     "text": [
      "Kako lep teden, vsaj dva dneva bosta topla!\n",
      "Kakšna škoda, da moramo hoditi na predavanja!\n"
     ]
    }
   ],
   "source": [
    "nad_20 = 0\n",
    "for vrstica in open(\"temperature.txt\"):\n",
    "    temp = int(vrstica)\n",
    "    if temp > 10:\n",
    "        nad_20 = nad_20 + 1\n",
    "        \n",
    "if nad_20 > 1:\n",
    "    print(\"Kako lep teden, vsaj dva dneva bosta topla!\")\n",
    "    print(\"Kakšna škoda, da moramo hoditi na predavanja!\")\n",
    "else:\n",
    "    if nad_20 > 0:\n",
    "        print(\"En sam topel dan!\")\n",
    "        print(\"Glej, da ga izkoristiš!\")\n",
    "    else:\n",
    "        print(\"Prihodnji teden bo ena žalost.\")\n",
    "        print(\"Zima bo, kaj hočemo.\")"
   ]
  },
  {
   "cell_type": "markdown",
   "id": "ade02480-96a1-4609-8056-63387a1d7cbd",
   "metadata": {},
   "source": [
    "Razumemo. Predstavljamo pa si tudi problem: tile zamiki se znajo kar pošteno zagnezditi - if znotraj if znotraj else znotraj for ... Temu se kaže izogniti. Pa še nekaj: ta program je oblikovan tako, da imamo dve možnosti (topla dneva sta vsaj dva ali pa manj kot dva), pri čemer se druga možnost potem deli na podmnožnosti (je vsaj kak ali ni nobenega). Taka struktura da pravilne rezultate, ni pa skladna s tem, kako v resnici gledamo na možnosti. Vsaj jaz tu vidim tri \"enakovredne\" alternative: \"vsaj dva\", \"vsaj eden\", \"nobeden\". Deljenje ene možnosti na dve podmožnosti ... če tega nimam v glavi, naj tudi ne bo v programu.\n",
    "\n",
    "Ker so take situacije pogoste, ima Python tudi možnost `elif` - ki je okrajšava za *else if* (in je tudi razlog, da sem v besedilu, ki je opisovalo, kaj hočemo storiti, uporabil slogovno nerodno zvezo \"sicer če\")."
   ]
  },
  {
   "cell_type": "code",
   "execution_count": 31,
   "id": "da121a65-997b-4e0a-b997-11853217f638",
   "metadata": {
    "tags": []
   },
   "outputs": [
    {
     "name": "stdout",
     "output_type": "stream",
     "text": [
      "Kako lep teden, vsaj dva dneva bosta topla!\n",
      "Kakšna škoda, da moramo hoditi na predavanja!\n"
     ]
    }
   ],
   "source": [
    "nad_20 = 0\n",
    "for vrstica in open(\"temperature.txt\"):\n",
    "    temp = int(vrstica)\n",
    "    if temp > 10:\n",
    "        nad_20 = nad_20 + 1\n",
    "        \n",
    "if nad_20 > 1:\n",
    "    print(\"Kako lep teden, vsaj dva dneva bosta topla!\")\n",
    "    print(\"Kakšna škoda, da moramo hoditi na predavanja!\")\n",
    "elif nad_20 > 0:\n",
    "    print(\"En sam topel dan!\")\n",
    "    print(\"Glej, da ga izkoristiš!\")\n",
    "else:\n",
    "    print(\"Prihodnji teden bo ena žalost.\")\n",
    "    print(\"Zima bo, kaj hočemo.\")"
   ]
  },
  {
   "cell_type": "markdown",
   "id": "5d32e02f-d4c7-4790-a17f-8191280d267d",
   "metadata": {},
   "source": [
    "Da preverimo, da res deluje, dvignimo želeno temperaturo nazaj na 20 stopinj."
   ]
  },
  {
   "cell_type": "code",
   "execution_count": 32,
   "id": "6c82bfa2-5268-43c7-8a31-1fec4c2e0af9",
   "metadata": {
    "tags": []
   },
   "outputs": [
    {
     "name": "stdout",
     "output_type": "stream",
     "text": [
      "En sam topel dan!\n",
      "Glej, da ga izkoristiš!\n"
     ]
    }
   ],
   "source": [
    "nad_20 = 0\n",
    "for vrstica in open(\"temperature.txt\"):\n",
    "    temp = int(vrstica)\n",
    "    if temp > 19:\n",
    "        nad_20 = nad_20 + 1\n",
    "        \n",
    "if nad_20 > 1:\n",
    "    print(\"Kako lep teden, vsaj dva dneva bosta topla!\")\n",
    "    print(\"Kakšna škoda, da moramo hoditi na predavanja!\")\n",
    "elif nad_20 > 0:\n",
    "    print(\"En sam topel dan!\")\n",
    "    print(\"Glej, da ga izkoristiš!\")\n",
    "else:\n",
    "    print(\"Prihodnji teden bo ena žalost.\")\n",
    "    print(\"Zima bo, kaj hočemo.\")"
   ]
  },
  {
   "cell_type": "markdown",
   "id": "942b3fe2-093b-4fa0-b04e-e1969016eabb",
   "metadata": {},
   "source": [
    "## Drugi operatorji za primerjanje\n",
    "\n",
    "Nekje proti začetku prejšnjega razdelka sem se pritoževal, da mi nekaj ni kul, konkretno, dva `if`-a z nasprotnima pogojema in takrat smo uvedli `else`. Rekel pa sem, da mi \"dvakrat ni kul\". Drugo, kar mi ni kul v vseh programih iz gornjega razdelka, je, da se sprašujemo, ali je temperatura vsaj `20` stopinj in to zapišemo kot `if temp > 19`. Podobno smo se spraševali, ali imamo vsaj tri tople dni in napisali `if nad_20 < 2`. Da ne govorimo o norem pogoju, ki je preverjal, ali je `nad_20` enak nič tako, da se je vprašal `if nad_20 < 1`.\n",
    "\n",
    "Ko programiramo, je dobro, da pišemo, kar mislimo. (Po drugi strani pa je del učenja programiranja seveda tudi, kako je potrebno misliti, da se bo to potem dalo sprogramirati.) Če rečemo, da mora biti temperatura vsaj 20, to ni \"več kot 19\" temveč \"več ali enako 20\". Ali, kot bi rekli matematiki, ne `temp > 19`, temveč `temp ≥ 20`. Tudi računalnikarji bi lahko rekli tako; Python bi brez težav sprejemal simbol `≥`, vendar ga je nepraktično natipkati, ker ga tipkovnice pač nimajo. Zato namesto `≥` pišemo `>=`.\n",
    "\n",
    "Za primerjanje imamo torej operatorje `<`, `<=`, `>` in `>=`. Z njimi lahko program, ki ga vrtimo zadnje pol ure, polepšamo v"
   ]
  },
  {
   "cell_type": "code",
   "execution_count": 33,
   "id": "d072532c-31de-4988-9b1e-c1d6a5314610",
   "metadata": {
    "tags": []
   },
   "outputs": [
    {
     "name": "stdout",
     "output_type": "stream",
     "text": [
      "En sam topel dan!\n",
      "Glej, da ga izkoristiš!\n"
     ]
    }
   ],
   "source": [
    "nad_20 = 0\n",
    "for vrstica in open(\"temperature.txt\"):\n",
    "    temp = int(vrstica)\n",
    "    if temp >= 20:\n",
    "        nad_20 = nad_20 + 1\n",
    "        \n",
    "if nad_20 >= 2:\n",
    "    print(\"Kako lep teden, vsaj dva dneva bosta topla!\")\n",
    "    print(\"Kakšna škoda, da moramo hoditi na predavanja!\")\n",
    "elif nad_20 >= 0:\n",
    "    print(\"En sam topel dan!\")\n",
    "    print(\"Glej, da ga izkoristiš!\")\n",
    "else:\n",
    "    print(\"Prihodnji teden bo ena žalost.\")\n",
    "    print(\"Zima bo, kaj hočemo.\")"
   ]
  },
  {
   "cell_type": "markdown",
   "id": "24b95b80-10e9-46e5-aab5-29124851c8b7",
   "metadata": {},
   "source": [
    "To je že boljše, vendar bi v drugem pogoju pravzaprav radi vprašali, ali imamo en tak dan. Mogoče tako?"
   ]
  },
  {
   "cell_type": "code",
   "execution_count": 34,
   "id": "f19343aa-81e5-4aa9-a561-956ffc9a07c7",
   "metadata": {
    "tags": []
   },
   "outputs": [
    {
     "ename": "SyntaxError",
     "evalue": "invalid syntax. Maybe you meant '==' or ':=' instead of '='? (1854419552.py, line 10)",
     "output_type": "error",
     "traceback": [
      "\u001b[0;36m  Cell \u001b[0;32mIn[34], line 10\u001b[0;36m\u001b[0m\n\u001b[0;31m    elif nad_20 = 1:\u001b[0m\n\u001b[0m         ^\u001b[0m\n\u001b[0;31mSyntaxError\u001b[0m\u001b[0;31m:\u001b[0m invalid syntax. Maybe you meant '==' or ':=' instead of '='?\n"
     ]
    }
   ],
   "source": [
    "nad_20 = 0\n",
    "for vrstica in open(\"temperature.txt\"):\n",
    "    temp = int(vrstica)\n",
    "    if temp >= 20:\n",
    "        nad_20 = nad_20 + 1\n",
    "        \n",
    "if nad_20 >= 2:\n",
    "    print(\"Kako lep teden, vsaj dva dneva bosta topla!\")\n",
    "    print(\"Kakšna škoda, da moramo hoditi na predavanja!\")\n",
    "elif nad_20 = 1:\n",
    "    print(\"En sam topel dan!\")\n",
    "    print(\"Glej, da ga izkoristiš!\")\n",
    "else:\n",
    "    print(\"Prihodnji teden bo ena žalost.\")\n",
    "    print(\"Zima bo, kaj hočemo.\")"
   ]
  },
  {
   "cell_type": "markdown",
   "id": "21e3ec6e-151e-40f9-8a3e-ded80c93b8c8",
   "metadata": {},
   "source": [
    "Očitno ne. Pogoj `nad_20 = 1` mu ni všeč. V tem vidi prirejanje, ne primerjanja, potem pa se seveda pritoži, ker prirejanje nima kaj iskati znotraj pogoja. Nekateri (ampak redki!) jeziki \"uganejo\", da v tem primeru z \"=\" mislimo primerjanje, večina pa ima za prirejanje in primerjanje različne simbole. Python (in tudi večina drugih) za primerjanje uporablja dvojni enačaj."
   ]
  },
  {
   "cell_type": "code",
   "execution_count": 35,
   "id": "b7f5c528-608b-4d3a-b3de-01f7fbe686c7",
   "metadata": {
    "tags": []
   },
   "outputs": [
    {
     "name": "stdout",
     "output_type": "stream",
     "text": [
      "En sam topel dan!\n",
      "Glej, da ga izkoristiš!\n"
     ]
    }
   ],
   "source": [
    "nad_20 = 0\n",
    "for vrstica in open(\"temperature.txt\"):\n",
    "    temp = int(vrstica)\n",
    "    if temp >= 20:\n",
    "        nad_20 = nad_20 + 1\n",
    "        \n",
    "if nad_20 >= 2:\n",
    "    print(\"Kako lep teden, vsaj dva dneva bosta topla!\")\n",
    "    print(\"Kakšna škoda, da moramo hoditi na predavanja!\")\n",
    "elif nad_20 == 1:\n",
    "    print(\"En sam topel dan!\")\n",
    "    print(\"Glej, da ga izkoristiš!\")\n",
    "else:\n",
    "    print(\"Prihodnji teden bo ena žalost.\")\n",
    "    print(\"Zima bo, kaj hočemo.\")"
   ]
  },
  {
   "cell_type": "markdown",
   "id": "bb5edf05",
   "metadata": {},
   "source": [
    "## Primerjanje nizov\n",
    "\n",
    "V tem razdelku nimamo napisati kaj veliko, vendar vseeno naredimo vmesni naslov, da ga poudarimo: z operatorji `<`, `<=`, `>`, `>=`, `==` in `!=` lahko primerjamo tudi nize. Nize primerja *dokaj* tako, kot bi človek pričakoval: po abecedi. Ana je \"manj\" od \"Angele\", a več od \"Amelije\".\n",
    "\n",
    "Samo *dokaj* pa zato, ker so velike črke po abecedi pred malimi. Ker so številke pred črkami. Ker je narekovaj pred številko. Zaviti oklepaji so za črkami, oglati pa so po \"abecedi\" med velikimi in malimi črkami. Šumniki so ... kar nekje, vsekakor pa za črkami.\n",
    "\n",
    "Te stvari imajo razloge. In imajo tudi rešitve. Vendar o tem kasneje. Za zdaj bodi dovolj, da vemo, da smemo nize primerjati in bodo rezultati (relativno) smiselni."
   ]
  },
  {
   "cell_type": "markdown",
   "id": "81322b92",
   "metadata": {},
   "source": [
    "## Klasika: maksimum in minimum\n",
    "\n",
    "Napišimo program, ki izpiše najvišjo temperaturo.\n",
    "\n",
    "Predstavljajmo si, da bi nam nekdo bral te številke. Kaj bi si ponavljali v glavi? Najvišjo, ki smo jo slišali doslej. Vsako naslednjo številko, ki jo slišimo, primerjamo z najvišjo doslej in če je višja od najvišje, si jo zapomnimo (in pozabimo prejšnjo). Tako nekako:"
   ]
  },
  {
   "cell_type": "code",
   "execution_count": 36,
   "id": "35359403",
   "metadata": {},
   "outputs": [
    {
     "ename": "NameError",
     "evalue": "name 'najvisja_doslej' is not defined",
     "output_type": "error",
     "traceback": [
      "\u001b[0;31m---------------------------------------------------------------------------\u001b[0m",
      "\u001b[0;31mNameError\u001b[0m                                 Traceback (most recent call last)",
      "Cell \u001b[0;32mIn[36], line 3\u001b[0m\n\u001b[1;32m      1\u001b[0m \u001b[38;5;28;01mfor\u001b[39;00m vrstica \u001b[38;5;129;01min\u001b[39;00m \u001b[38;5;28mopen\u001b[39m(\u001b[38;5;124m\"\u001b[39m\u001b[38;5;124mtemperature.txt\u001b[39m\u001b[38;5;124m\"\u001b[39m):\n\u001b[1;32m      2\u001b[0m     temp \u001b[38;5;241m=\u001b[39m \u001b[38;5;28mint\u001b[39m(vrstica)\n\u001b[0;32m----> 3\u001b[0m     \u001b[38;5;28;01mif\u001b[39;00m temp \u001b[38;5;241m>\u001b[39m najvisja_doslej:\n\u001b[1;32m      4\u001b[0m         najvisja_doslej \u001b[38;5;241m=\u001b[39m temp\n\u001b[1;32m      6\u001b[0m \u001b[38;5;28mprint\u001b[39m(najvisja_doslej)\n",
      "\u001b[0;31mNameError\u001b[0m: name 'najvisja_doslej' is not defined"
     ]
    }
   ],
   "source": [
    "for vrstica in open(\"temperature.txt\"):\n",
    "    temp = int(vrstica)\n",
    "    if temp > najvisja_doslej:\n",
    "        najvisja_doslej = temp\n",
    "        \n",
    "print(najvisja_doslej)"
   ]
  },
  {
   "cell_type": "markdown",
   "id": "e96823bc",
   "metadata": {},
   "source": [
    "Zgodilo se nam je, kar se nam je že: spremenljivke `nаjvisja_doslej` ne moremo uporabiti (se primerjati z njo) znotraj zanke, če je ne nastavimo pred zanko. Mimogrede jo bomo še preimenovali v `najvisja`. Daljše ime, `najvisja_doslej` je služilo bolj ... didaktičnom namenom, da začetnik lažje prebere. Zdaj pa raje skrajšajmo, da bo manj tipkanja. :)\n",
    "\n",
    "Hm, kakšno vrednost pa ji bomo dali pred zanko? Za zdaj, z našim znanjem, naj bo to kar nekaj absurdno nizkega, tako da bo že naslednja temperatura višja. Vsaj kar se tiče temperatur, smo lahko varni: fiziki nas uče, da temperatura ne more biti nižja od 0 K, torej bo -274 varna začetna vrednost."
   ]
  },
  {
   "cell_type": "code",
   "execution_count": 37,
   "id": "a6657bf7",
   "metadata": {},
   "outputs": [
    {
     "name": "stdout",
     "output_type": "stream",
     "text": [
      "24\n"
     ]
    }
   ],
   "source": [
    "najvisja = -274\n",
    "for vrstica in open(\"temperature.txt\"):\n",
    "    temp = int(vrstica)\n",
    "    if temp > najvisja:\n",
    "        najvisja = temp\n",
    "        \n",
    "print(najvisja)"
   ]
  },
  {
   "cell_type": "markdown",
   "id": "1d1c9d89",
   "metadata": {},
   "source": [
    "Najnižjo napovedano temperaturo izračunamo enako, le obratno. Začetna vrednost pa je lahko milijon. Enkrat drugič se bomo naučili to narediti pravilneje.\n",
    "\n",
    "Da torej ne bi ponavljali v bistvu istega programa, se poskusimo z nečim težjim: poleg najnižje temperature nas zanima tudi zaporedna številka dne s to temperaturo.\n",
    "\n",
    "Spet pomislimo, kako bi to naredili, če bi nam nekdo govoril bral številke. Poleg najnižje številke bi si morali zapomniti še dve števili: zaporedno številko tekočega dneva (to že znamo: spomnite se, kako smo šteli dni, ko smo izpisali, koliko dni *od kolikih* bo toplo), poleg tega pa si moramo istočasno z najnižjo številko zapomniti še takratno številko tekočega dneva."
   ]
  },
  {
   "cell_type": "code",
   "execution_count": 38,
   "id": "2cac32d5",
   "metadata": {},
   "outputs": [
    {
     "name": "stdout",
     "output_type": "stream",
     "text": [
      "Najnižja temperatura bo 15 C in bo nastopila na dan 3\n"
     ]
    }
   ],
   "source": [
    "najnizja = 1000000\n",
    "dan = 0\n",
    "for vrstica in open(\"temperature.txt\"):\n",
    "    dan = dan + 1  # štejemo dneve\n",
    "    temp = int(vrstica)\n",
    "    if temp < najnizja:  # naleteli smo na nov rekord\n",
    "        najnizja = temp  # zapomnimo si to, rekordno temperaturo\n",
    "        najhladnejsi_dan = dan  # in to številko dneva\n",
    "print(\"Najnižja temperatura bo\", najnizja, \"C in bo nastopila na dan\", najhladnejsi_dan)"
   ]
  }
 ],
 "metadata": {
  "kernelspec": {
   "display_name": "Python 3 (ipykernel)",
   "language": "python",
   "name": "python3"
  },
  "language_info": {
   "codemirror_mode": {
    "name": "ipython",
    "version": 3
   },
   "file_extension": ".py",
   "mimetype": "text/x-python",
   "name": "python",
   "nbconvert_exporter": "python",
   "pygments_lexer": "ipython3",
   "version": "3.11.5"
  }
 },
 "nbformat": 4,
 "nbformat_minor": 5
}
