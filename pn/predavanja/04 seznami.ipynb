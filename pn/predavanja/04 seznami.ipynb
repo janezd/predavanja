{
 "cells": [
  {
   "cell_type": "markdown",
   "id": "0eb224d9",
   "metadata": {},
   "source": [
    "## Podatki v pomnilniku\n",
    "\n",
    "Pri vsem, kar smo počeli doslej, so bili podatki (pretežno) v datoteki. Samo *pretežno* zato, ker to ni bilo čisto res. Najprej so tu spremenljivke, kot so bile razne temperature, imena predmetov in ljudi na dražbah in tako naprej. A to so bile le posamezne vrednosti, ki so se nanašale na, recimo, trenutno prebrano vrstico, najvišjo ponujeno ceno in tako naprej. Poleg teh od prejšnjega tedna poznamo tudi slovarje. Ti so shranjevali bolj \"masovne\" podatke; ključi so bile lahko imena oseb in pripadajoče vrednosti so bile lahko skupna količina denarja, ki ga je dotična oseba zapravila na dražbi. Slovar ima lahko zelo veliko, tudi na tisoče ključev in vrednosti.\n",
    "\n",
    "Ne, pravzaprav ne, da ni bilo *čisto res*, sploh ni bilo res. Res pa je, recimo, da podatkov iz datoteke nikoli nismo v celoti prebrali v pomnilnik in jih obdelovali tam. Ko smo reševali vaje in domačo nalogo, smo jih za vsako nalogo sproti prebrali iz datoteke. Poleg tega so slovarji le ena - in morda niti ne najpogostejša *podatkovna struktura* za shranjevanje podatkov.\n",
    "\n",
    "Zakaj bi želeli prebrati podatke, recimo celo datoteko v pomnilnik? Izmislimo si lahko kup razlogov.\n",
    "\n",
    "- Prvi je, preprosto, da ne želimo vedno znova brati datoteke. Zgodilo se bo tudi, da bodo podatki v datoteki zapisani na kak zoprn, zapleten način, ki bo zahteval veliko dela in (računalnikovega) časa za branje. V tem primeru jih gotovo želimo prebrati le enkrat, jih ustrezno obdelati in potem delati z njimi v takšni, predelani obliki.\n",
    "\n",
    "- Drugi razlog je, da je s podatki v pomnilniku lažje manipulirati, jih zlagati v primernejšo obliko. Za trivialen primer vzemimo datoteko z imeni udeležencev dražbe. Recimo, da je videti tako.\n",
    "\n",
    "    ```\n",
    "    Berta\n",
    "    Cilka\n",
    "    Ema\n",
    "    Dani\n",
    "    Ana\n",
    "    Fanči\n",
    "    Greta\n",
    "    ```\n",
    "\n",
    "    Izpisati jih želimo po abecedi. To (skoraj) ne bo šlo drugače, kot da jih naložimo v pomnilnik, tam uredimo po abecedi (kakorkoli se že to naredi) in potem izpišemo.\n",
    "    \n",
    "- Tretji: sekvenčni dostop. (Ta je malo podoben prejšnji točki.) Pri nalogah z dražbe nas je večkrat pestilo, da smo pri branju neke vrstice potrebovali tudi podatek o tem, kaj je pisalo v prejšnji. To smo rešili tako, da smo si podatke shranjevali na koncu zanke (tipičen stavek je bil v slogu `prejsnja_temperatura = temperatura`). To gre, dokler potrebujemo le en prejšnji podatek. Kadar jih potrebujemo prejšnjih pet, bo to zoprno.\n",
    "\n",
    "Skratka: podatke želimo sem ter tja naložiti v pomnilnik.\n",
    "\n",
    "Edina nam znana *podatkovna struktura*, ki to omogoča, je slovar. Spomnimo le na dve njegovi lastnosti.\n",
    "\n",
    "- Slovar je sestavljen iz parov ključ-vrednost. Za vsak ključ lahko izvemo (ali nastavimo) njegovo vrednost.\n",
    "\n",
    "- Na vrstni red elementov v slovarju ne moremo vplivati. \"Slučajno\" je vrstni red kar vrstni red dodajanja; kasneje ga ne moremo spremeniti. Zategadelj v okviru slovarjev tudi nima smisla zares govoriti o vrstnem redu, se pravi, o tem, kako si sledijo elementi (ta element je pred tem in za onim). Zanka `for` prehodi slovar v nekem bolj ali manj naključnem vrstnem redu. Povedano še drugače: elementi slovarja niso *oštevilčeni*: nesmiselno je govoriti o \"prvem\", \"drugem\" in tako naprej elementu slovarja.\n",
    "\n",
    "Oboje nas lahko zmoti. Zgodilo se bo, da bomo imeli le neke vrednosti in nobenih pripadajočih ključev. Recimo najvišje dnevne temperature v Ljubljani za vsak dan v juliju 2023. Ali pa zapisnik dražbe. Pač - same številke. Kako to shraniti v slovar? Ne bo šlo. Razen na kakšen ekstra neumen način, recimo tako, da so ključi kar zaporedne številke dni oziroma ponujenih cen. A še v tem primeru nam bo šlo na živce, da nismo gospodarji vrstnega reda; temperatur, recimo ne bomo mogli urediti po velikosti, da bi izpisali tri najtoplejše julijske dni. Ker - kot smo napisali v drugi gornji točki, slovarji pač nimajo koncepta vrstnega reda.\n",
    "\n",
    "## Seznami\n",
    "\n",
    "Seznam je *podatkovna struktura*, ki ...\n",
    "\n",
    "Uh, zdaj sem že tretjič zapisal ta termin, podatkovna struktura, in ga vedno znova dal v poševni tisk, kot da ga omenjam prvič. To pa zato, ker ga ne vprvo ne vdrugo nisem razložil. Ob tretji omembi pa bo že čas.\n",
    "\n",
    "Wikipedija definira podatkovno strukturo kot \"*a collection of data values, the relationships among them, and the functions or operations that can be applied to the data*\".\n",
    "\n",
    "- Kot prvo, podatkovna struktura, očitno shranjuje neke podatke. Tu nimamo kaj filozofirati.\n",
    "- Nadalje, med njimi obstaja neka zveza. V primeru slovarjev gre za zvezo ključ-vrednost. Za seznam se bo izkazalo, da ima koncept vrstnega reda. Ta element je prvi, ta drugi, ta tretji. Nekatere zveze so lahko bolj tehnične in se nanašajo na to, kako so urejeni podatki znotraj strukture.\n",
    "- Končno - in najpomembnejše - za podatkovno strukturo so značilne operacije, ki jih lahko izvajamo s temi podatki in - predvsem, če bi šlo za predmet Algoritmi in podatkovne strukture - kako učinkovite, hitre so te operacije. Za slovar smo povedali, da lahko za vsak ključ zelo hitro izvemo pripadajočo vrednost (povedali smo, da so Pythonovi slovarji tako učinkoviti, da je čas, ki ga potrebuje za to, neodvisen od števila elementov, shranjenih v slovarju!), enako hitro lahko tudi izvemo, ali določen ključ obstaja; tudi dodajanje in brisanje elementov je enako hitro. V kontekstu seznamov bo o tem nesmiselno govoriti, saj nimajo ključev.\n",
    "\n",
    "Ob vsaki podatkovni strukturi bomo torej povedali, kaj lahko vsebuje in kaj zna (učinkovito) početi s temi stvarmi.\n",
    "\n",
    "Seznam, torej, je podatkovna struktura, v katero lahko shranimo poljubno število elementov poljubnega tipa (v Pythonu; drugod pogosto velja pravilo, da morajo biti vsi elementi istega tipa).\n",
    "\n",
    "Naredimo lahko, recimo, seznam imen."
   ]
  },
  {
   "cell_type": "code",
   "execution_count": 1,
   "id": "d12c8397",
   "metadata": {},
   "outputs": [],
   "source": [
    "imena = [\"Ana\", \"Berta\", \"Cilka\", \"Dani\", \"Ema\", \"Fanči\"]"
   ]
  },
  {
   "cell_type": "markdown",
   "id": "372bc53b",
   "metadata": {},
   "source": [
    "Takoj vidimo: slovarji so imeli zavite oklepaje, seznami oglate. Po tem jih ločimo. Slovarji imajo pare ključ-vrednost, seznami pač le ... elemente. (Ne ključ ne vrednost jim ne bomo rekli. V smislu prevoda iz angleščine bi bilo bolj prav govoriti o stvareh, saj je v angleščini to *item*. Pa *element* tudi ni ravno čisto slovenska beseda. :) A kar je, je; tako se je ustalilo.)\n",
    "\n",
    "V slovar lahko dajemo tudi kaj drugega, recimo števila,"
   ]
  },
  {
   "cell_type": "code",
   "execution_count": 2,
   "id": "ee7878da",
   "metadata": {},
   "outputs": [],
   "source": [
    "teze = [57, 66, 58, 52, 65, 68]"
   ]
  },
  {
   "cell_type": "markdown",
   "id": "306baecc",
   "metadata": {},
   "source": [
    "ali mešanico nizov in števil (česar ne bom pokazal, ker je grdo). Lahko naredimo tudi seznam, ki vsebuje več slovarjev, kar bi bilo malo nenavadno, vendar nam bo prav pri tem predmetu nemara prišlo še prav. Lahko pa naredimo tudi prazen seznam"
   ]
  },
  {
   "cell_type": "code",
   "execution_count": 3,
   "id": "b4a85a9a",
   "metadata": {},
   "outputs": [],
   "source": [
    "temperature = []"
   ]
  },
  {
   "cell_type": "markdown",
   "id": "8925d2ae",
   "metadata": {},
   "source": [
    "in vanj dodajamo elemente, recimo iz datoteke."
   ]
  },
  {
   "cell_type": "code",
   "execution_count": 4,
   "id": "adce9cb2",
   "metadata": {},
   "outputs": [],
   "source": [
    "for vrstica in open(\"december.txt\"):\n",
    "    temperature.append(int(vrstica))"
   ]
  },
  {
   "cell_type": "markdown",
   "id": "b807f394",
   "metadata": {},
   "source": [
    "Kar tako, mimogrede smo spoznali prvo metodo seznamov: `append`. Kot argument podamo, kar hočemo - v tem primeru očitno neko število, namreč iz datoteke prebrano temperaturo - in metoda `append` doda ta element na konec seznama.\n",
    "\n",
    "Tako dobimo seznam napovedanih decembrskih temperatur v Radovljici."
   ]
  },
  {
   "cell_type": "code",
   "execution_count": 5,
   "id": "5ae5ea3b",
   "metadata": {},
   "outputs": [
    {
     "data": {
      "text/plain": [
       "[5, 4, -1, -6, -8, 2, 5, -6, -8, -12, -15, 6, 7, -20, 2, 3]"
      ]
     },
     "execution_count": 5,
     "metadata": {},
     "output_type": "execute_result"
    }
   ],
   "source": [
    "temperature"
   ]
  },
  {
   "cell_type": "markdown",
   "id": "a616f0ce",
   "metadata": {},
   "source": [
    "Nasvet: uprite se skušnjavi in praznega seznama nikoli ne poimenujte `prazen`, čeprav bo v začetku morda res takšen."
   ]
  },
  {
   "cell_type": "code",
   "execution_count": 6,
   "id": "96a5be0f",
   "metadata": {},
   "outputs": [
    {
     "name": "stdout",
     "output_type": "stream",
     "text": [
      "[5, 4, -1, -6, -8, 2, 5, -6, -8, -12, -15, 6, 7, -20, 2, 3]\n"
     ]
    }
   ],
   "source": [
    "prazen = []\n",
    "for vrstica in open(\"december.txt\"):\n",
    "    prazen.append(int(vrstica))\n",
    "    \n",
    "print(prazen)"
   ]
  },
  {
   "cell_type": "markdown",
   "id": "8e93c5a8",
   "metadata": {},
   "source": [
    "`prazen` očitno ni prazen, ne?"
   ]
  },
  {
   "cell_type": "markdown",
   "id": "66200955",
   "metadata": {},
   "source": [
    "Zdaj poznamo prvi del: kaj lahko podatkovna struktura seznam shranjuje. Drugi je, kaj lahko s temi rečmi počnemo."
   ]
  },
  {
   "cell_type": "markdown",
   "id": "5a126d49",
   "metadata": {},
   "source": [
    "### Sprehod prek seznama\n",
    "\n",
    "Najprej nekaj, kar že znamo: z zanko `for` lahko gremo prek elementov seznama."
   ]
  },
  {
   "cell_type": "code",
   "execution_count": 7,
   "id": "31af2c5c",
   "metadata": {},
   "outputs": [
    {
     "name": "stdout",
     "output_type": "stream",
     "text": [
      "5\n",
      "4\n",
      "-1\n",
      "-6\n",
      "-8\n",
      "2\n",
      "5\n",
      "-6\n",
      "-8\n",
      "-12\n",
      "-15\n",
      "6\n",
      "7\n",
      "-20\n",
      "2\n",
      "3\n"
     ]
    }
   ],
   "source": [
    "for temp in temperature:\n",
    "    print(temp)"
   ]
  },
  {
   "cell_type": "markdown",
   "id": "00caa3fb",
   "metadata": {},
   "source": [
    "Z datotekami doslej ne znamo početi nič drugega (in tudi v prihodnosti ne bomo znali početi veliko drugega) kot to, da smo prek njih nagnali zanko `for`. Ker lahko isto storimo s seznami, lahko čisto vse, kar smo doslej počeli z datotekami, počnemo tudi s seznami. S to prednostjo, da bodo seznami temperatur tipično že števila (ali karkoli bo treba) in ne bo treba stalno klicati zoprnega `int` ali `float`. No, pa `open` očitno tudi preskočimo. Seznam je pač že tu, prebran, pripravljen in ga je potrebno le pomoliti `for`-u.\n",
    "\n",
    "Tako, za vajo, poiščimo najmanjši element seznama."
   ]
  },
  {
   "cell_type": "code",
   "execution_count": 8,
   "id": "8f7d44d6",
   "metadata": {},
   "outputs": [
    {
     "data": {
      "text/plain": [
       "-20"
      ]
     },
     "execution_count": 8,
     "metadata": {},
     "output_type": "execute_result"
    }
   ],
   "source": [
    "najm = 100000\n",
    "\n",
    "for temp in temperature:\n",
    "    if temp < najm:\n",
    "        najm = temp\n",
    "        \n",
    "najm"
   ]
  },
  {
   "cell_type": "markdown",
   "id": "4dbabffe",
   "metadata": {},
   "source": [
    "Zanko `for` smo že tako natrenirali, da tu ni več česa ponavljati. Vse že znamo."
   ]
  },
  {
   "cell_type": "markdown",
   "id": "59a114f4",
   "metadata": {},
   "source": [
    "### Funkcije, ki se sprehajajo namesto nas\n",
    "\n",
    "Tole je četrti teden predmeta in v prvih treh smo ničkolikokrat izračunali največji element, najmanjši element in vsoto. Drugače ni šlo. Python sicer ima funkcije `max`, `min` in `sum`, pa še veliko drugih podobnih, vendar so bili v datotekah nizi in če bi jih prepustili tem funkcijam, bi dobili niz, ki je zadnji po abecedi (`max`), prvi po abecedi (`min`) ali pa vsoto vseh nizov (`sum` + malo truda z dodatnimi argumenti).\n",
    "\n",
    "Zdaj, ko imamo sezname *števil*, bodo vse takšne funkcije delale, kar je treba."
   ]
  },
  {
   "cell_type": "code",
   "execution_count": 9,
   "id": "4a9e0631",
   "metadata": {},
   "outputs": [
    {
     "data": {
      "text/plain": [
       "7"
      ]
     },
     "execution_count": 9,
     "metadata": {},
     "output_type": "execute_result"
    }
   ],
   "source": [
    "max(temperature)"
   ]
  },
  {
   "cell_type": "code",
   "execution_count": 10,
   "id": "b2247ab3",
   "metadata": {},
   "outputs": [
    {
     "data": {
      "text/plain": [
       "-20"
      ]
     },
     "execution_count": 10,
     "metadata": {},
     "output_type": "execute_result"
    }
   ],
   "source": [
    "min(temperature)"
   ]
  },
  {
   "cell_type": "markdown",
   "id": "6a6f2a1e",
   "metadata": {},
   "source": [
    "Mimogrede povejmo, da imajo seznami (tako kot slovarji in nizi, ne pa tudi datoteke) dolžino. \"Dolžina\" pomeni preprosto \"število elementov\". Izvemo ga s funkcijo `len`, ki ji kot argument podamo slovar, niz ali kakršnokoli-že podatkovno strukturo, ki pozna idejo \"dolžine\".)"
   ]
  },
  {
   "cell_type": "code",
   "execution_count": 11,
   "id": "daaa4ed9",
   "metadata": {},
   "outputs": [
    {
     "name": "stdout",
     "output_type": "stream",
     "text": [
      "Povprečna temperatura decembra bo -2.625\n"
     ]
    }
   ],
   "source": [
    "print(\"Povprečna temperatura decembra bo\", sum(temperature) / len(temperature))"
   ]
  },
  {
   "cell_type": "markdown",
   "id": "7c7e013f",
   "metadata": {},
   "source": [
    "### Vsebovanost\n",
    "\n",
    "Pogosto nas bo zanimalo, ali slovar vsebuje tak in tak element ali ne. Maloprejle smo si pripravili seznam `imena`, zamolčavši, da so to imena članic knjižnega kluba Molj."
   ]
  },
  {
   "cell_type": "code",
   "execution_count": 12,
   "id": "867dd2f7",
   "metadata": {},
   "outputs": [
    {
     "data": {
      "text/plain": [
       "['Ana', 'Berta', 'Cilka', 'Dani', 'Ema', 'Fanči']"
      ]
     },
     "execution_count": 12,
     "metadata": {},
     "output_type": "execute_result"
    }
   ],
   "source": [
    "imena"
   ]
  },
  {
   "cell_type": "markdown",
   "id": "5fc6bf7b",
   "metadata": {},
   "source": [
    "Operator `in` poznamo iz prejšnjega tedna, ko nam je povedal, ali slovar vsebuje določen ključ ali ne. Če mu namesto slovarja pomolimo seznam, nam bo povedal, ali vsebuje ta element.\n",
    "\n",
    "Če nas torej zanima, ali je Cilka v klubu, nam operator `in` pove, da je."
   ]
  },
  {
   "cell_type": "code",
   "execution_count": 13,
   "id": "fffb5242",
   "metadata": {},
   "outputs": [
    {
     "data": {
      "text/plain": [
       "True"
      ]
     },
     "execution_count": 13,
     "metadata": {},
     "output_type": "execute_result"
    }
   ],
   "source": [
    "\"Cilka\" in imena"
   ]
  },
  {
   "cell_type": "markdown",
   "id": "25382813",
   "metadata": {},
   "source": [
    "Za Greto nam pove, da ni."
   ]
  },
  {
   "cell_type": "code",
   "execution_count": 14,
   "id": "0c9db291",
   "metadata": {},
   "outputs": [
    {
     "data": {
      "text/plain": [
       "False"
      ]
     },
     "execution_count": 14,
     "metadata": {},
     "output_type": "execute_result"
    }
   ],
   "source": [
    "\"Greta\" in imena"
   ]
  },
  {
   "cell_type": "markdown",
   "id": "552fa975",
   "metadata": {},
   "source": [
    "### Razpakiranje seznama in okostnjak iz splitske omare\n",
    "\n",
    "Imamo seznam, za katerega smo popolnoma, absolutno, neomajno prepričani, da vsebuje dva elementa."
   ]
  },
  {
   "cell_type": "code",
   "execution_count": 15,
   "id": "18e87c16",
   "metadata": {},
   "outputs": [],
   "source": [
    "s = [42, 13]"
   ]
  },
  {
   "cell_type": "markdown",
   "id": "cb45958a",
   "metadata": {},
   "source": [
    "Njegova elementa lahko priredimo dvema spremenljivkama."
   ]
  },
  {
   "cell_type": "code",
   "execution_count": 16,
   "id": "03dc28b1",
   "metadata": {},
   "outputs": [],
   "source": [
    "odgovor, nesreča = s"
   ]
  },
  {
   "cell_type": "code",
   "execution_count": 17,
   "id": "47378fad",
   "metadata": {},
   "outputs": [
    {
     "data": {
      "text/plain": [
       "42"
      ]
     },
     "execution_count": 17,
     "metadata": {},
     "output_type": "execute_result"
    }
   ],
   "source": [
    "odgovor"
   ]
  },
  {
   "cell_type": "code",
   "execution_count": 18,
   "id": "25c4c76e",
   "metadata": {},
   "outputs": [
    {
     "data": {
      "text/plain": [
       "13"
      ]
     },
     "execution_count": 18,
     "metadata": {},
     "output_type": "execute_result"
    }
   ],
   "source": [
    "nesreča"
   ]
  },
  {
   "cell_type": "markdown",
   "id": "ee40d0ab",
   "metadata": {},
   "source": [
    "Tudi to za nas ni nekaj povsem novega. Razpakiranje smo že vzeli. Imeli smo niz, ki je vseboval, recimo, ime kraja ter največjo in najmanjšo temperaturo; tri podatke torej, ločene z vejicami. Razbili smo ga s `split` in priredili trem spremenljivkam."
   ]
  },
  {
   "cell_type": "code",
   "execution_count": 19,
   "id": "9c9ee397",
   "metadata": {},
   "outputs": [],
   "source": [
    "vrstica = \"Ljubljana,19,15\"\n",
    "\n",
    "kraj, najvisja, najnizja = vrstica.split(\",\")"
   ]
  },
  {
   "cell_type": "markdown",
   "id": "8596892b",
   "metadata": {},
   "source": [
    "To sem vam povedal, razumeli ste, da `split` vrne tri stvari in jih zato priredimo trem spremenljivkam. Argument avtoritete (namreč moje) je zmagal, več niste spraševali.\n",
    "\n",
    "Pa bi morali. Vsaka funkcija vrne neko reč - in natančno eno reč! Kakšno *reč* vrne `split`? V resnici vrne seznam. "
   ]
  },
  {
   "cell_type": "code",
   "execution_count": 20,
   "id": "b83587ab",
   "metadata": {},
   "outputs": [
    {
     "data": {
      "text/plain": [
       "['Ljubljana', '19', '15']"
      ]
     },
     "execution_count": 20,
     "metadata": {},
     "output_type": "execute_result"
    }
   ],
   "source": [
    "vrstica.split(\",\")"
   ]
  },
  {
   "cell_type": "markdown",
   "id": "5c1ff026",
   "metadata": {},
   "source": [
    "Sezname smo torej ponevedoma uporabljali že prejšnjo uro, vendar sem jih zamolčal, ker čas zanje še ni dozorel. Zdaj, ko je, končno veste tudi, kaj vrne `split`."
   ]
  },
  {
   "cell_type": "markdown",
   "id": "e41870c9",
   "metadata": {},
   "source": [
    "### Primer: štetje mašil\n",
    "\n",
    "In zdaj, ko vemo, da `split` vrača seznam in da je čez sezname možno s `for`, lahko pokličemo `split` tudi, ko ne pričakujemo nekega vnaprej znanega števila elementov z neko znano vlogo (vrsto kolesa, razdaljo in višino)."
   ]
  },
  {
   "cell_type": "code",
   "execution_count": 21,
   "id": "af717f14",
   "metadata": {},
   "outputs": [],
   "source": [
    "ana_je_rekla = \"\"\"\n",
    "danes sem am zjutraj like vstala pa ampak sem še napol spala pa like nisem vedla\n",
    "a čem prec poklicat Julijo pa sem bla pač like ne bom še pa je pač nisem pa sem pač\n",
    "like še naprej kar ležala pa am čakal če me bo pač ona\"\n",
    "\"\"\""
   ]
  },
  {
   "cell_type": "markdown",
   "id": "79b0918f",
   "metadata": {},
   "source": [
    "Dajmo like prešteti, kolikokrat je uspela v enem stavku reči *am*, *like* ali *pač*."
   ]
  },
  {
   "cell_type": "code",
   "execution_count": 22,
   "id": "ffc759d2",
   "metadata": {},
   "outputs": [
    {
     "name": "stdout",
     "output_type": "stream",
     "text": [
      "10\n"
     ]
    }
   ],
   "source": [
    "masila = [\"like\", \"pač\", \"am\"]\n",
    "\n",
    "masil = 0\n",
    "for beseda in ana_je_rekla.split():\n",
    "    if beseda in masila:\n",
    "        masil += 1\n",
    "        \n",
    "print(masil)"
   ]
  },
  {
   "cell_type": "markdown",
   "id": "62ad9444",
   "metadata": {},
   "source": [
    "`ana_je_rekla.split()` nam vrne seznam Aninih besed (tu nam malo pomaga, da je stavek zapisan brez ločil, sicer bi se morali znebiti še teh. Pa vse je zapisano z malimi črkami in tako naprej. Najstlovenščina ima tudi prednosti."
   ]
  },
  {
   "cell_type": "code",
   "execution_count": 23,
   "id": "877ed1ca",
   "metadata": {},
   "outputs": [
    {
     "data": {
      "text/plain": [
       "['danes',\n",
       " 'sem',\n",
       " 'am',\n",
       " 'zjutraj',\n",
       " 'like',\n",
       " 'vstala',\n",
       " 'pa',\n",
       " 'ampak',\n",
       " 'sem',\n",
       " 'še',\n",
       " 'napol',\n",
       " 'spala',\n",
       " 'pa',\n",
       " 'like',\n",
       " 'nisem',\n",
       " 'vedla',\n",
       " 'a',\n",
       " 'čem',\n",
       " 'prec',\n",
       " 'poklicat',\n",
       " 'Julijo',\n",
       " 'pa',\n",
       " 'sem',\n",
       " 'bla',\n",
       " 'pač',\n",
       " 'like',\n",
       " 'ne',\n",
       " 'bom',\n",
       " 'še',\n",
       " 'pa',\n",
       " 'je',\n",
       " 'pač',\n",
       " 'nisem',\n",
       " 'pa',\n",
       " 'sem',\n",
       " 'pač',\n",
       " 'like',\n",
       " 'še',\n",
       " 'naprej',\n",
       " 'kar',\n",
       " 'ležala',\n",
       " 'pa',\n",
       " 'am',\n",
       " 'čakal',\n",
       " 'če',\n",
       " 'me',\n",
       " 'bo',\n",
       " 'pač',\n",
       " 'ona\"']"
      ]
     },
     "execution_count": 23,
     "metadata": {},
     "output_type": "execute_result"
    }
   ],
   "source": [
    "ana_je_rekla.split()"
   ]
  },
  {
   "cell_type": "markdown",
   "id": "f21ce6d6",
   "metadata": {},
   "source": [
    "Za vsako besedo s tega seznama (`for beseda in ana_je_rekla.split()`) preverimo ali se nahaja tudi v seznamu mašil, ki smo ga definirali na vrhu. Če, potem prištejemo še eno mašilo.\n",
    "\n",
    "Mogoče nas zanima še delež mašil v njenem govoru? Potem potrebujemo še število besed. Da ne razbijamo dvakrat, kar takoj pokličimo `split`, shranimo seznam v besede in ga uporabimo dvakrat."
   ]
  },
  {
   "cell_type": "code",
   "execution_count": 24,
   "id": "730ab4c3",
   "metadata": {},
   "outputs": [
    {
     "name": "stdout",
     "output_type": "stream",
     "text": [
      "0.20408163265306123\n"
     ]
    }
   ],
   "source": [
    "masila = [\"like\", \"pač\", \"am\"]\n",
    "\n",
    "besede = ana_je_rekla.split()\n",
    "masil = 0\n",
    "for beseda in besede:\n",
    "    if beseda in masila:\n",
    "        masil += 1\n",
    "        \n",
    "print(masil / len(besede))"
   ]
  },
  {
   "cell_type": "markdown",
   "id": "fe281e3f",
   "metadata": {},
   "source": [
    "Dvajset odstotkov, vsaka peta beseda, je mašilo.\n",
    "\n",
    "Primer je seveda umeten. V dejanskem govoru je mašil pač seveda več. Like."
   ]
  },
  {
   "cell_type": "markdown",
   "id": "0d883f3a",
   "metadata": {},
   "source": [
    "### Seznami seznamov in razpakiranje v zanki `for`\n",
    "\n",
    "Izvedši, da `split` v resnici vrača sezname, bi morda prišli na idejo, da datoteko \"kolesa.txt\", ki vsebuje kolo, s katerim je šel nekdo na izlet, ter prevoženo število kilometrov in skupen vzpon v metrih,\n",
    "\n",
    "\n",
    "```\n",
    "Nakamura,16,24\n",
    "Nakamura,11,80\n",
    "Nakamura,14,15\n",
    "Cube,50,1888\n",
    "... in tako naprej ...\n",
    "```\n",
    "\n",
    "preberemo v seznam, ki bi bil videti tako\n",
    "\n",
    "\n",
    "```\n",
    "voznje = [[\"Nakamura\", 16, 24], [\"Nakamura\", 11, 80], [\"Nakamura\", 14, 15], [\"Cube\", 50, 1888]]\n",
    "```\n",
    "\n",
    "Seznam bo torej vseboval sezname. Seznam lahko vsebuje karkoli in ko sem nazadnje preverjal, je kategorija \"karkoli\" pokrivala tudi sezname.\n",
    "\n",
    "Preden nadaljujemo, omenimo, da se sme seznam razpisati tudi v več vrstic.\n",
    "\n",
    "```\n",
    "voznje = [\n",
    "    [\"Nakamura\", 16, 24],\n",
    "    [\"Nakamura\", 11, 80],\n",
    "    [\"Nakamura\", 14, 15],\n",
    "    [\"Cube\", 50, 1888]]\n",
    "```\n",
    "\n",
    "Nato posvarimo: ideja je pravilna, ampak pred seznami, ki vsebujejo različne stvari smo že posvarili. Tole nam ne bo všeč; ko bomo znali malo več, seznam `voznje` ne bo vseboval seznamov s tremi elementi (nizom in dvema številoma) temveč nekaj drugega.\n",
    "\n",
    "Ampak za zdaj naj bo: sestavili bomo seznam seznamov.\n",
    "\n",
    "Naivnež se kar takoj loti."
   ]
  },
  {
   "cell_type": "code",
   "execution_count": 25,
   "id": "b745ccbd",
   "metadata": {},
   "outputs": [],
   "source": [
    "voznje = []\n",
    "for vrstica in open(\"kolesa.txt\"):\n",
    "    voznje.append(vrstica.split(\",\"))"
   ]
  },
  {
   "cell_type": "markdown",
   "id": "41a446d9",
   "metadata": {},
   "source": [
    "Končavši program je zadovoljen s svojo učinkovitostjo, saj je rezultat `split`-a - seznam podatkov za posamezno vožnjo - kar takoj odposredoval `append`-u.\n",
    "\n",
    "Izpisovali ne bomo, seznam je predolg, saj vsebuje."
   ]
  },
  {
   "cell_type": "code",
   "execution_count": 26,
   "id": "0372795b",
   "metadata": {},
   "outputs": [
    {
     "data": {
      "text/plain": [
       "100"
      ]
     },
     "execution_count": 26,
     "metadata": {},
     "output_type": "execute_result"
    }
   ],
   "source": [
    "len(voznje)"
   ]
  },
  {
   "cell_type": "markdown",
   "id": "10c08a88",
   "metadata": {},
   "source": [
    "voženj. Zato mi boste morali verjeti na besedo, da se mu ni čisto posrečilo. `split` vrne nize. Drugo in tretjo reč, razdaljo in višino, je pozabil pretvoriti v `int`. Ni kaj, treba bo narediti počasi."
   ]
  },
  {
   "cell_type": "code",
   "execution_count": 27,
   "id": "e1aeaec8",
   "metadata": {},
   "outputs": [],
   "source": [
    "voznje = []\n",
    "for vrstica in open(\"kolesa.txt\"):\n",
    "    kolo, razdalja, visina = vrstica.split(\",\")\n",
    "    voznje.append([kolo, int(razdalja), int(visina)])"
   ]
  },
  {
   "cell_type": "markdown",
   "id": "3c2c67a3",
   "metadata": {},
   "source": [
    "V zapiskih ne bomo izpisovali teh 100 vrstic, na predavanjih in doma pa le. Da smo naredili prav, bomo preverili tako, da bomo izračunali, koliko je prevozil s katerim kolesom. Za vajo in za ponovitev slovarjev."
   ]
  },
  {
   "cell_type": "code",
   "execution_count": 28,
   "id": "abbfd268",
   "metadata": {},
   "outputs": [
    {
     "name": "stdout",
     "output_type": "stream",
     "text": [
      "{'Nakamura': 439, 'Cube': 3174, 'Canyon': 2766, 'Stevens': 607}\n"
     ]
    }
   ],
   "source": [
    "razdalje = {}\n",
    "\n",
    "for podatek in voznje:\n",
    "    kolo, razdalja, visina = podatek\n",
    "    \n",
    "    if kolo not in razdalje:\n",
    "        razdalje[kolo] = 0\n",
    "    razdalje[kolo] += razdalja\n",
    "    \n",
    "print(razdalje)"
   ]
  },
  {
   "cell_type": "markdown",
   "id": "749ffbaf",
   "metadata": {},
   "source": [
    "Takšno reč smo napisali prvič in zadnjič. Namreč\n",
    "\n",
    "```\n",
    "for podatek in voznje:\n",
    "    kolo, razdalja, visina = podatek\n",
    "```\n",
    "\n",
    "Druga vrstica je nepotrebna. Če želimo razpakirati element seznama, nam ga ni potrebno najprej dati v spremenljivko (`podatek`) in jo potem razvleči. Ne, seznama ne razpakira le prirejanje, `=`, temveč zna to tudi zanka `for`. Pišemo lahko - in odslej tudi bomo - kar tako:"
   ]
  },
  {
   "cell_type": "code",
   "execution_count": 29,
   "id": "215a4b81",
   "metadata": {},
   "outputs": [
    {
     "name": "stdout",
     "output_type": "stream",
     "text": [
      "{'Nakamura': 439, 'Cube': 3174, 'Canyon': 2766, 'Stevens': 607}\n"
     ]
    }
   ],
   "source": [
    "razdalje = {}\n",
    "\n",
    "for kolo, razdalja, visina in voznje:\n",
    "    if kolo not in razdalje:\n",
    "        razdalje[kolo] = 0\n",
    "    razdalje[kolo] += razdalja\n",
    "    \n",
    "print(razdalje)"
   ]
  },
  {
   "cell_type": "markdown",
   "id": "71ce0a70",
   "metadata": {},
   "source": [
    "Kar smo pisali prej, deluje, vendar je grdo in, kot se bo kmalu izkazalo, povzroča tudi druge sitnosti in dolgovezja. Da se pa tudi grše; če vam bodo pri programiranju pomagali prijatelji, ki so bolj vešči drugih jezikov kot Pythona, vam bodo pokazali nekaj, kar bo še grše in bo za vaše prihodnje programiranje še bolj nerodno, dolgovezno in okorno. Zato: če spustimo zanko `for` čez seznam (ali kako drugo reč), ki vsebuje elemente, ki jih je potrebno razpakirati, jih razpakiramo že v glavi zanke."
   ]
  },
  {
   "cell_type": "markdown",
   "id": "93fe3010",
   "metadata": {},
   "source": [
    "## Prva prijateljica seznamov: funkcija `zip`\n",
    "\n",
    "Zgodilo se nam bo, da bodo podatki, s katerimi bomo delali, v dveh seznamih. Situacijo smo nakazali zgoraj: imamo seznam imen oseb in seznam njihovih tež."
   ]
  },
  {
   "cell_type": "code",
   "execution_count": 30,
   "id": "161ec858",
   "metadata": {},
   "outputs": [],
   "source": [
    "imena = [\"Ana\", \"Berta\", \"Cilka\", \"Dani\"]\n",
    "teze = [57, 66, 58, 52]"
   ]
  },
  {
   "cell_type": "markdown",
   "id": "abc6d253",
   "metadata": {},
   "source": [
    " Zdaj nam je izpisati imena in teže, v slogu\n",
    " \n",
    " ```\n",
    " Ana: 57\n",
    " Berta: 66\n",
    " Cilka: 58\n",
    " Dani: 52\n",
    " Ema: 65\n",
    " Fanči: 68\n",
    " ```\n",
    "\n",
    "Morda bi kdo prišel na idejo narediti tole:"
   ]
  },
  {
   "cell_type": "code",
   "execution_count": 31,
   "id": "d2c0c470",
   "metadata": {},
   "outputs": [
    {
     "name": "stdout",
     "output_type": "stream",
     "text": [
      "Ana 57\n",
      "Ana 66\n",
      "Ana 58\n",
      "Ana 52\n",
      "Berta 57\n",
      "Berta 66\n",
      "Berta 58\n",
      "Berta 52\n",
      "Cilka 57\n",
      "Cilka 66\n",
      "Cilka 58\n",
      "Cilka 52\n",
      "Dani 57\n",
      "Dani 66\n",
      "Dani 58\n",
      "Dani 52\n"
     ]
    }
   ],
   "source": [
    "for ime in imena:\n",
    "    for teza in teze:\n",
    "        print(ime, teza)"
   ]
  },
  {
   "cell_type": "markdown",
   "id": "10f209bb",
   "metadata": {},
   "source": [
    "Izpis razodeva, da bi takšen prišel na slabo idejo. Kar bi storil je, da bi šel prek vseh imen in *za vsako ime* prek vseh tež. To očitno ni to.\n",
    "\n",
    "Kdo drug bi prišel na idejo napisati"
   ]
  },
  {
   "cell_type": "code",
   "execution_count": 32,
   "id": "632b9132",
   "metadata": {
    "tags": [
     "raises-exception"
    ]
   },
   "outputs": [
    {
     "ename": "IndentationError",
     "evalue": "expected an indented block after 'for' statement on line 1 (1924011180.py, line 2)",
     "output_type": "error",
     "traceback": [
      "\u001b[0;36m  Cell \u001b[0;32mIn[32], line 2\u001b[0;36m\u001b[0m\n\u001b[0;31m    for teza in teze:\u001b[0m\n\u001b[0m    ^\u001b[0m\n\u001b[0;31mIndentationError\u001b[0m\u001b[0;31m:\u001b[0m expected an indented block after 'for' statement on line 1\n"
     ]
    }
   ],
   "source": [
    "for ime in imena:\n",
    "for teza in teze:\n",
    "    print(ime, teza)"
   ]
  },
  {
   "cell_type": "markdown",
   "id": "13e2f0d3",
   "metadata": {},
   "source": [
    "V slepem upanju, da bosta tidve zanki potem tekli nekako ... vzporedno.\n",
    "\n",
    "Ta ideja je očitno še slabša od prve. Prej je Python vsaj nekaj naredil, zdaj pa se že v izhodišču upre. (Pravzaprav je to morda boljše. Stvar okusa. V vsakem primeru je enako neuporabno kot prej.)\n",
    "\n",
    "Razčistimo: potrebujemo eno zanko. Ne dveh. Torej, gotovo,\n",
    "\n",
    "```\n",
    "for ime, teza in ...\n",
    "```\n",
    "\n",
    "Zanka naj bi torej dobivala pare, vendar iz dveh seznamov hkrati.\n",
    "\n",
    "*Deus ex machina* se imenuje `zip`. Funkciji damo dva seznama, pa ju bo spakirala v seznam parov ... ki ga spet odpakiramo v `for`. (Če koga skrbi, da bo to pakiranje in razpakiranje počasno, ali da bo kakorkoli \"obremenjevalo\" računalnik, je njegova skrb odveč. Te reči so dobro domišljene in narejene tako, da so hitre. Kar počnemo tu, je zelo osnovna in pogosta reč.)"
   ]
  },
  {
   "cell_type": "code",
   "execution_count": 33,
   "id": "3272b969",
   "metadata": {},
   "outputs": [
    {
     "name": "stdout",
     "output_type": "stream",
     "text": [
      "Ana: 57\n",
      "Berta: 66\n",
      "Cilka: 58\n",
      "Dani: 52\n"
     ]
    }
   ],
   "source": [
    "for ime, teza in zip(imena, teze):\n",
    "    print(ime + \":\", teza)"
   ]
  },
  {
   "cell_type": "markdown",
   "id": "3e84cb20",
   "metadata": {},
   "source": [
    "Funkcija `zip` lahko prejme tudi več kot eno reč. Če ji damo tri sezname, bo sestavljala trojke."
   ]
  },
  {
   "cell_type": "code",
   "execution_count": 34,
   "id": "aa4e0a03",
   "metadata": {},
   "outputs": [
    {
     "name": "stdout",
     "output_type": "stream",
     "text": [
      "Ana: 23.422090729783037\n",
      "Berta: 21.551020408163264\n",
      "Cilka: 20.06920415224914\n",
      "Dani: 18.42403628117914\n"
     ]
    }
   ],
   "source": [
    "imena = [\"Ana\", \"Berta\", \"Cilka\", \"Dani\"]\n",
    "teze = [57, 66, 58, 52]\n",
    "visine = [1.56, 1.75, 1.70, 1.68]\n",
    "\n",
    "for ime, teza, visina in zip(imena, teze, visine):\n",
    "    print(ime + \":\", teza / visina ** 2)"
   ]
  },
  {
   "cell_type": "markdown",
   "id": "dce18f98",
   "metadata": {},
   "source": [
    "Ali, lepše:"
   ]
  },
  {
   "cell_type": "code",
   "execution_count": 35,
   "id": "544d0bde",
   "metadata": {},
   "outputs": [
    {
     "name": "stdout",
     "output_type": "stream",
     "text": [
      "Ana: 23.42\n",
      "Berta: 21.55\n",
      "Cilka: 20.07\n",
      "Dani: 18.42\n"
     ]
    }
   ],
   "source": [
    "imena = [\"Ana\", \"Berta\", \"Cilka\", \"Dani\"]\n",
    "teze = [57, 66, 58, 52]\n",
    "visine = [1.56, 1.75, 1.70, 1.68]\n",
    "\n",
    "for ime, teza, visina in zip(imena, teze, visine):\n",
    "    print(ime + \":\", round(teza / visina ** 2, 2))"
   ]
  },
  {
   "cell_type": "markdown",
   "id": "9b0d687d",
   "metadata": {},
   "source": [
    "## Drugi prijatelj seznamov: funkcija `enumerate`\n",
    "\n",
    "Imamo torej seznam decembrskih temperatur."
   ]
  },
  {
   "cell_type": "code",
   "execution_count": 36,
   "id": "f89fc70d",
   "metadata": {},
   "outputs": [
    {
     "data": {
      "text/plain": [
       "[5, 4, -1, -6, -8, 2, 5, -6, -8, -12, -15, 6, 7, -20, 2, 3]"
      ]
     },
     "execution_count": 36,
     "metadata": {},
     "output_type": "execute_result"
    }
   ],
   "source": [
    "temperature"
   ]
  },
  {
   "cell_type": "markdown",
   "id": "cb62ce1a",
   "metadata": {},
   "source": [
    " in hrepenimo po tem, da bi jih izpisali takole:\n",
    "\n",
    "```\n",
    "1. december: 5\n",
    "2. december: 4\n",
    "3. december: -1\n",
    "```\n",
    "\n",
    "in tako naprej.\n",
    "\n",
    "Z zanko bomo šli prek temperatur, vedeti pa moramo tudi zaporedno številko dneva. To bi lahko naredili tako:"
   ]
  },
  {
   "cell_type": "code",
   "execution_count": 37,
   "id": "f54ba24b",
   "metadata": {},
   "outputs": [
    {
     "name": "stdout",
     "output_type": "stream",
     "text": [
      "1 . december: 5\n",
      "2 . december: 4\n",
      "3 . december: -1\n",
      "4 . december: -6\n",
      "5 . december: -8\n",
      "6 . december: 2\n",
      "7 . december: 5\n",
      "8 . december: -6\n",
      "9 . december: -8\n",
      "10 . december: -12\n",
      "11 . december: -15\n",
      "12 . december: 6\n",
      "13 . december: 7\n",
      "14 . december: -20\n",
      "15 . december: 2\n",
      "16 . december: 3\n"
     ]
    }
   ],
   "source": [
    "dan = 0\n",
    "\n",
    "for temp in temperature:\n",
    "    dan += 1\n",
    "    print(dan, \". december:\", temp)"
   ]
  },
  {
   "cell_type": "markdown",
   "id": "28a3df49",
   "metadata": {},
   "source": [
    "Presledek pred piko se kar blešči, ampak potrpimo. Ko bo čas, se ga bomo temeljito znebili. Ampak zdaj je čas za nekaj drugega: situacija, ko potrebujemo neko stvar iz slovarja, hkrati pa tudi njeno \"zaporedno številko\", je tako pogosta, da nam Python v ta namen ponuja posebno funkcijo: `enumerate`.\n",
    "\n",
    "Funkcija `enumerate` kot argument prejme seznam ali poljubno drugo stvar, prek katere je možno nagnati zanko `for`, recimo datoteko, slovar, niz ali nam še neznane skrivnostne reči. `enumerate` vrača pare (zaporedna številka, element). Par preprosto razpakiramo v glavi zanke.\n",
    "\n",
    "Če je bil ta opis zapleten: primer bo preprost."
   ]
  },
  {
   "cell_type": "code",
   "execution_count": 38,
   "id": "1b07c485",
   "metadata": {},
   "outputs": [
    {
     "name": "stdout",
     "output_type": "stream",
     "text": [
      "0 . december: 5\n",
      "1 . december: 4\n",
      "2 . december: -1\n",
      "3 . december: -6\n",
      "4 . december: -8\n",
      "5 . december: 2\n",
      "6 . december: 5\n",
      "7 . december: -6\n",
      "8 . december: -8\n",
      "9 . december: -12\n",
      "10 . december: -15\n",
      "11 . december: 6\n",
      "12 . december: 7\n",
      "13 . december: -20\n",
      "14 . december: 2\n",
      "15 . december: 3\n"
     ]
    }
   ],
   "source": [
    "for dan, temp in enumerate(temperature):\n",
    "    print(dan, \". december:\", temp)"
   ]
  },
  {
   "cell_type": "markdown",
   "id": "ec1166da",
   "metadata": {},
   "source": [
    "Odlično, ni? Prihranilo nam je, da bi morali sami šteti dneve. Šteje jih kar zanka, oziroma, točneje, `enumerate`. Le `for temp in temperature` zamenjamo s `for dan, temp in enumerate(temperature)`. Kot rečeno zgoraj: `enumerate` poskrbi, da namesto elementov dobimo pare zaporednih številk in elementov.\n",
    "\n",
    "Aja, ničti december? Hmnoja, računalnikarji pač štejemo od 0. Večina programskih jezikov šteje od 0. Med osamelci je, žal, tudi R, s katerim bodo nekatere od vas - tiste, ki se boste v svojem študiju srečali s kako bolj statistično analizo podatkov - maltretirali pri drugih predmetih. Štetje od 1 zveni bolj naravno, v resnici pa je štetje od 0, kot se bo sproti izkazalo tudi pri tem predmetu, bolj praktično. (Istočasno pa ima tudi zgodovinskotehnične razloge v neki zvezi med tabelami in kazalci v C-ju. Karkoli že so tabele in kazalci. In C.)\n",
    "\n",
    "Če komu ni prav, ga ne bomo obsojali; raje mu pokažimo, kaj popraviti. Lahko pač prišteje 1 ob izpisu."
   ]
  },
  {
   "cell_type": "code",
   "execution_count": 39,
   "id": "bc47e575",
   "metadata": {},
   "outputs": [
    {
     "name": "stdout",
     "output_type": "stream",
     "text": [
      "1 . december: 5\n",
      "2 . december: 4\n",
      "3 . december: -1\n",
      "4 . december: -6\n",
      "5 . december: -8\n",
      "6 . december: 2\n",
      "7 . december: 5\n",
      "8 . december: -6\n",
      "9 . december: -8\n",
      "10 . december: -12\n",
      "11 . december: -15\n",
      "12 . december: 6\n",
      "13 . december: 7\n",
      "14 . december: -20\n",
      "15 . december: 2\n",
      "16 . december: 3\n"
     ]
    }
   ],
   "source": [
    "for dan, temp in enumerate(temperature):\n",
    "    print(dan + 1, \". december:\", temp)"
   ]
  },
  {
   "cell_type": "markdown",
   "id": "43ba2cb0",
   "metadata": {},
   "source": [
    "Lepše in bolj prav je prositi `enumerate`, naj šteje od 1. To naredimo z dodatnim argumentom `start`, ki ga podamo poimensko. "
   ]
  },
  {
   "cell_type": "code",
   "execution_count": 40,
   "id": "cdc40931",
   "metadata": {},
   "outputs": [
    {
     "name": "stdout",
     "output_type": "stream",
     "text": [
      "1 . december: 5\n",
      "2 . december: 4\n",
      "3 . december: -1\n",
      "4 . december: -6\n",
      "5 . december: -8\n",
      "6 . december: 2\n",
      "7 . december: 5\n",
      "8 . december: -6\n",
      "9 . december: -8\n",
      "10 . december: -12\n",
      "11 . december: -15\n",
      "12 . december: 6\n",
      "13 . december: 7\n",
      "14 . december: -20\n",
      "15 . december: 2\n",
      "16 . december: 3\n"
     ]
    }
   ],
   "source": [
    "for dan, temp in enumerate(temperature, start=1):\n",
    "    print(dan, \". december:\", temp)"
   ]
  },
  {
   "cell_type": "markdown",
   "id": "1b93f0f2",
   "metadata": {},
   "source": [
    "Namesto `1` lahko podamo tudi drugo številko. Vendar bomo najbrž vedno začeli z 1 (kadar ne bomo z `0`, kar bo večkrat, kot si predstavljate)."
   ]
  },
  {
   "cell_type": "markdown",
   "id": "81beb611",
   "metadata": {},
   "source": [
    "## Indeksiranje\n",
    "\n",
    "Do elementov slovarja smo prišli tako, da smo v oglatih oklepajih navedli ključ, pa smo dobili pripadajočo vrednost.\n",
    "\n",
    "Seznami nimajo ključev, pač pa imajo vrstni red. Ker lahko tako govorimo o prvem drugem in tako naprej elementu, jih lahko primemo kar za njihove zaporedne številke."
   ]
  },
  {
   "cell_type": "code",
   "execution_count": 41,
   "id": "947411b0",
   "metadata": {},
   "outputs": [
    {
     "data": {
      "text/plain": [
       "[5, 4, -1, -6, -8, 2, 5, -6, -8, -12, -15, 6, 7, -20, 2, 3]"
      ]
     },
     "execution_count": 41,
     "metadata": {},
     "output_type": "execute_result"
    }
   ],
   "source": [
    "temperature"
   ]
  },
  {
   "cell_type": "markdown",
   "id": "49937d5d",
   "metadata": {},
   "source": [
    "Četrto temperaturo dobimo preprosto tako, da v oklepaje zapišemo `4`."
   ]
  },
  {
   "cell_type": "code",
   "execution_count": 42,
   "id": "36e80eff",
   "metadata": {},
   "outputs": [
    {
     "data": {
      "text/plain": [
       "-8"
      ]
     },
     "execution_count": 42,
     "metadata": {},
     "output_type": "execute_result"
    }
   ],
   "source": [
    "temperature[4]"
   ]
  },
  {
   "cell_type": "markdown",
   "id": "90e2bedb",
   "metadata": {},
   "source": [
    "Da, res je, četrta temperatura v seznamu je .. ups, -6?! -8 je peta!\n",
    "\n",
    "Ja, spet. Šteti začnemo pri 0. Začetni (da se izognem besedi \"prvi\") element slovarja ima *indeks* 0."
   ]
  },
  {
   "cell_type": "code",
   "execution_count": 43,
   "id": "a8bd08f8",
   "metadata": {},
   "outputs": [
    {
     "data": {
      "text/plain": [
       "5"
      ]
     },
     "execution_count": 43,
     "metadata": {},
     "output_type": "execute_result"
    }
   ],
   "source": [
    "temperature[0]"
   ]
  },
  {
   "cell_type": "markdown",
   "id": "9c19b73d",
   "metadata": {},
   "source": [
    "Spomnimo se, da ima seznam `temperature` šestnajst elementov."
   ]
  },
  {
   "cell_type": "code",
   "execution_count": 44,
   "id": "80ac314f",
   "metadata": {},
   "outputs": [
    {
     "data": {
      "text/plain": [
       "16"
      ]
     },
     "execution_count": 44,
     "metadata": {},
     "output_type": "execute_result"
    }
   ],
   "source": [
    "len(temperature)"
   ]
  },
  {
   "cell_type": "markdown",
   "id": "83399966",
   "metadata": {},
   "source": [
    "Zadnja temperatura je potemtakem šestnajsta."
   ]
  },
  {
   "cell_type": "code",
   "execution_count": 45,
   "id": "01775c96",
   "metadata": {
    "tags": [
     "raises-exception"
    ]
   },
   "outputs": [
    {
     "ename": "IndexError",
     "evalue": "list index out of range",
     "output_type": "error",
     "traceback": [
      "\u001b[0;31m---------------------------------------------------------------------------\u001b[0m",
      "\u001b[0;31mIndexError\u001b[0m                                Traceback (most recent call last)",
      "Cell \u001b[0;32mIn[45], line 1\u001b[0m\n\u001b[0;32m----> 1\u001b[0m temperature[\u001b[38;5;241m16\u001b[39m]\n",
      "\u001b[0;31mIndexError\u001b[0m: list index out of range"
     ]
    }
   ],
   "source": [
    "temperature[16]"
   ]
  },
  {
   "cell_type": "markdown",
   "id": "bd1136aa",
   "metadata": {},
   "source": [
    "To sem naredil iz treh razlogov. :)\n",
    "\n",
    "Prvi je, da pomislimo: če ima prvi element indeks 0, ima šestnajsti element indeks 15."
   ]
  },
  {
   "cell_type": "code",
   "execution_count": 46,
   "id": "baa92a88",
   "metadata": {},
   "outputs": [
    {
     "data": {
      "text/plain": [
       "3"
      ]
     },
     "execution_count": 46,
     "metadata": {},
     "output_type": "execute_result"
    }
   ],
   "source": [
    "temperature[15]"
   ]
  },
  {
   "cell_type": "markdown",
   "id": "fd1866e2",
   "metadata": {},
   "source": [
    "Drži, zadnje število je 15.\n",
    "\n",
    "Drugi je, da vidite, kaj se zgodi, če poskusimo uporabiti prevelik indeks. Opis napake bi moral zadoščati, *index out of range*, vendar nič hudega, če ga vidite in če povemo: takrat, ko vidite to napako, preverite indekse.\n",
    "\n",
    "Tretji poučni nauk gornjega primera je, da se pri indeksiranju od konca lahko zmotimo in da ima Python zato priročen trik: z desne indeksiramo z negativnimi indeksi. Zadnji element ima indeks -1, predzadnji -2 in tako nazaj."
   ]
  },
  {
   "cell_type": "code",
   "execution_count": 47,
   "id": "81a812c2",
   "metadata": {},
   "outputs": [
    {
     "data": {
      "text/plain": [
       "[5, 4, -1, -6, -8, 2, 5, -6, -8, -12, -15, 6, 7, -20, 2, 3]"
      ]
     },
     "execution_count": 47,
     "metadata": {},
     "output_type": "execute_result"
    }
   ],
   "source": [
    "temperature"
   ]
  },
  {
   "cell_type": "code",
   "execution_count": 48,
   "id": "19fb3405",
   "metadata": {},
   "outputs": [
    {
     "data": {
      "text/plain": [
       "3"
      ]
     },
     "execution_count": 48,
     "metadata": {},
     "output_type": "execute_result"
    }
   ],
   "source": [
    "temperature[-1]"
   ]
  },
  {
   "cell_type": "code",
   "execution_count": 49,
   "id": "c5b8c1af",
   "metadata": {},
   "outputs": [
    {
     "data": {
      "text/plain": [
       "2"
      ]
     },
     "execution_count": 49,
     "metadata": {},
     "output_type": "execute_result"
    }
   ],
   "source": [
    "temperature[-2]"
   ]
  },
  {
   "cell_type": "markdown",
   "id": "c47be314",
   "metadata": {},
   "source": [
    "### Primer: skupna vrednost prodanih izdelkov na dražbi\n",
    "\n",
    "Naučivši se, kako dostopati do elementov z njihovim indeksom, opravimo z drugim grdavšem iz preteklosti, okostnjakom z dražbe: kako priti do prejšnjega elementa? Za zdaj uporabimo, kar znamo (čeprav bomo kmalu znali več in lahko naredili preprosteje): `enumerate`.\n",
    "\n",
    "Spomnimo se: prvi zapisnik dražbe je bil videti kot seznam ponujenih cen, \"cena\" `-1` pa je pomenila, da je bil izdelek prodan za ceno iz prejšnje vrstice.\n",
    "\n",
    "Po novem so cene lahko v seznamu."
   ]
  },
  {
   "cell_type": "code",
   "execution_count": 50,
   "id": "0847ab03",
   "metadata": {},
   "outputs": [
    {
     "data": {
      "text/plain": [
       "[11,\n",
       " 17,\n",
       " 24,\n",
       " 30,\n",
       " -1,\n",
       " 13,\n",
       " 27,\n",
       " 33,\n",
       " -1,\n",
       " 12,\n",
       " 27,\n",
       " 34,\n",
       " 40,\n",
       " -1,\n",
       " 9,\n",
       " -1,\n",
       " 8,\n",
       " 20,\n",
       " 30,\n",
       " 31,\n",
       " -1]"
      ]
     },
     "execution_count": 50,
     "metadata": {},
     "output_type": "execute_result"
    }
   ],
   "source": [
    "cene = []\n",
    "for vrstica in open(\"../domace-naloge/02-drazba/drazba.txt\"):\n",
    "    cene.append(int(vrstica))\n",
    "    \n",
    "cene"
   ]
  },
  {
   "cell_type": "markdown",
   "id": "f00eaa90",
   "metadata": {},
   "source": [
    "Gornji kos kode na vašem računalniku najbrž ne deluje. Odlično: to pomeni, da se boste naučili popraviti (relativno) pot do datoteke drazba.txt. Pri meni je en direktorij višje, potem pa v poddirektoriju domace-naloge in znotraj tega v 02-drazba. Pri vas pa ... poiščite.\n",
    "\n",
    "Zdaj lahko gremo prek *oštevilčenega* seznama cen. Ko naletimo na `-1`, k vsoti prištejemo vrednost *prejšnjega* elementa."
   ]
  },
  {
   "cell_type": "code",
   "execution_count": 51,
   "id": "e7d3c8eb",
   "metadata": {},
   "outputs": [
    {
     "data": {
      "text/plain": [
       "143"
      ]
     },
     "execution_count": 51,
     "metadata": {},
     "output_type": "execute_result"
    }
   ],
   "source": [
    "vsota = 0\n",
    "for i, cena in enumerate(cene):\n",
    "    if cena == -1:\n",
    "        vsota += cene[i - 1]\n",
    "        \n",
    "vsota"
   ]
  },
  {
   "cell_type": "markdown",
   "id": "e3e01645",
   "metadata": {},
   "source": [
    "Na moč imenitno.\n",
    "\n",
    "Če se hočemo malo pošaliti, štejemo od `-1`, pa nam ne bo potrebno odštevati `-1`. `i` bo namreč vseboval indeks *prejšnjega* elementa. :)"
   ]
  },
  {
   "cell_type": "code",
   "execution_count": 52,
   "id": "fa33efc7",
   "metadata": {},
   "outputs": [
    {
     "data": {
      "text/plain": [
       "143"
      ]
     },
     "execution_count": 52,
     "metadata": {},
     "output_type": "execute_result"
    }
   ],
   "source": [
    "vsota = 0\n",
    "for i, cena in enumerate(cene, start=-1):\n",
    "    if cena == -1:\n",
    "        vsota += cene[i]\n",
    "        \n",
    "vsota"
   ]
  },
  {
   "cell_type": "markdown",
   "id": "d1ecf675",
   "metadata": {},
   "source": [
    "### Rezine\n",
    "\n",
    "Rado se zgodi, da ne potrebujemo celotnega seznama, temveč le del. Recimo prvih pet elementov. Ali zadnjih pet. Ali vse elemente od dvainpetdesetega od sedeminpetdesetega. Z številko, od 52 do 57.\n",
    "\n",
    "Najprej razčistiom tole: koliko elementov je od 52. do 57.? To navadno preštejemo na prste; potrebovali bomo eno dlan in še prvi prst druge. Šest. To se, klasično, zgodi, ko gremo na počitnice od 17. do 22. julija in bi radi vedeli, koliko dni bo to trajalo. Nekako vemo, da en dan več, kot je razlika, ampak za vsak slučaj raje preštejemo, ne? :)\n",
    "\n",
    "Python je programski jezik in v programskih jezikih si raje ne privoščimo napak, ki bi izvirale iz tega, da se je nekdo uštel. Stvari naj bi bile karseda preproste (po tem, ko jih obvladamo; čas, ki je potreben za to, da jih obvladamo, naj bi bil seveda čim krajši, vendar je pomembneje to, da po tem, ko znamo, delamo čim manj napak).\n",
    "\n",
    "Zato je Python preprost: če zahtevamo vse elemente od 52. do 57. bo vrnil pet elementov. Če hočemo vse od 8. do 12., bodo štirje. Kateri štirje? Pač: osmi, deveti, deseti in enajsti. Pa dvanajsti? Ne. Ta bi bil peti.\n",
    "\n",
    "Python ima torej preprosto pravilo: spodnja meja je všteta, zgornja ne. Ko se navadiš, se ti zdi, da je tako edino logično. In vidiš, da tudi odlično deluje.\n",
    "\n",
    "Kako zahtevamo takšen podseznam? Da bomo imeli s čim delati, malo podaljšajmo seznam imen."
   ]
  },
  {
   "cell_type": "code",
   "execution_count": 53,
   "id": "19f19410",
   "metadata": {},
   "outputs": [],
   "source": [
    "imena = ['Ana', 'Berta', 'Cilka', 'Dani', 'Ema', 'Fanči', 'Greta', 'Helga', 'Iva']"
   ]
  },
  {
   "cell_type": "markdown",
   "id": "739dcf48",
   "metadata": {},
   "source": [
    "Imena od petega do osmega dobimo z"
   ]
  },
  {
   "cell_type": "code",
   "execution_count": 54,
   "id": "b42a0e93",
   "metadata": {},
   "outputs": [
    {
     "data": {
      "text/plain": [
       "['Fanči', 'Greta', 'Helga']"
      ]
     },
     "execution_count": 54,
     "metadata": {},
     "output_type": "execute_result"
    }
   ],
   "source": [
    "imena[5:8]"
   ]
  },
  {
   "cell_type": "markdown",
   "id": "7bc0eee1",
   "metadata": {},
   "source": [
    "Fanči je peta,"
   ]
  },
  {
   "cell_type": "code",
   "execution_count": 55,
   "id": "90a9447c",
   "metadata": {},
   "outputs": [
    {
     "data": {
      "text/plain": [
       "'Fanči'"
      ]
     },
     "execution_count": 55,
     "metadata": {},
     "output_type": "execute_result"
    }
   ],
   "source": [
    "imena[5]"
   ]
  },
  {
   "cell_type": "markdown",
   "id": "a397322f",
   "metadata": {},
   "source": [
    "in Helga sedma,"
   ]
  },
  {
   "cell_type": "code",
   "execution_count": 56,
   "id": "fddc552b",
   "metadata": {},
   "outputs": [
    {
     "data": {
      "text/plain": [
       "'Helga'"
      ]
     },
     "execution_count": 56,
     "metadata": {},
     "output_type": "execute_result"
    }
   ],
   "source": [
    "imena[7]"
   ]
  },
  {
   "cell_type": "markdown",
   "id": "6f5dda3b",
   "metadata": {},
   "source": [
    "Od petega do osmega pomeni torej brez osmega, tako da so tri."
   ]
  },
  {
   "cell_type": "markdown",
   "id": "01204d62",
   "metadata": {},
   "source": [
    "Vzemimo prvih pet imen."
   ]
  },
  {
   "cell_type": "code",
   "execution_count": 57,
   "id": "fd8973b1",
   "metadata": {},
   "outputs": [
    {
     "data": {
      "text/plain": [
       "['Ana', 'Berta', 'Cilka', 'Dani', 'Ema']"
      ]
     },
     "execution_count": 57,
     "metadata": {},
     "output_type": "execute_result"
    }
   ],
   "source": [
    "imena[0:5]"
   ]
  },
  {
   "cell_type": "markdown",
   "id": "1f0da8b4",
   "metadata": {},
   "source": [
    "Ker pogosto potrebujemo ravno prvih toliko in toliko, smemo spodnjo mejo kar izpustiti."
   ]
  },
  {
   "cell_type": "code",
   "execution_count": 58,
   "id": "e2bef95b",
   "metadata": {},
   "outputs": [
    {
     "data": {
      "text/plain": [
       "['Ana', 'Berta', 'Cilka', 'Dani', 'Ema']"
      ]
     },
     "execution_count": 58,
     "metadata": {},
     "output_type": "execute_result"
    }
   ],
   "source": [
    "imena[:5]"
   ]
  },
  {
   "cell_type": "markdown",
   "id": "d94572b9",
   "metadata": {},
   "source": [
    "Izpustiti smemo tudi zgornjo mejo."
   ]
  },
  {
   "cell_type": "code",
   "execution_count": 59,
   "id": "c7c65589",
   "metadata": {},
   "outputs": [
    {
     "data": {
      "text/plain": [
       "['Fanči', 'Greta', 'Helga', 'Iva']"
      ]
     },
     "execution_count": 59,
     "metadata": {},
     "output_type": "execute_result"
    }
   ],
   "source": [
    "imena[5:]"
   ]
  },
  {
   "cell_type": "markdown",
   "id": "60454af9",
   "metadata": {},
   "source": [
    "Tole se kar lepo bere in razume:\n",
    "\n",
    "- `:5` pomeni *prvih pet*, torej prvih pet (ničti, prvi, drugi, tretji in četrti, ampak brez petega). \n",
    "- `5:` pomeni *brez prvih pet*, namreč vse od petega naprej (brez ničtega, prvega, drugega, tretjega in četrtega).\n",
    "\n",
    "To, da štejemo od 0, se imenitno ujame s pravilom, da je zadnji indeks izvzet.\n",
    "\n",
    "Imenitnosti še ni konec. Kaj bi bilo tole?"
   ]
  },
  {
   "cell_type": "code",
   "execution_count": 60,
   "id": "a798853b",
   "metadata": {},
   "outputs": [
    {
     "data": {
      "text/plain": [
       "['Greta', 'Helga', 'Iva']"
      ]
     },
     "execution_count": 60,
     "metadata": {},
     "output_type": "execute_result"
    }
   ],
   "source": [
    "imena[-3:]"
   ]
  },
  {
   "cell_type": "markdown",
   "id": "85b09a4b",
   "metadata": {},
   "source": [
    "Podali smo spodnjo mejo in izpustili zgornjo. Vendar je bila spodnja meja negativna, se pravi z desne. Dobimo torej minus tretji, minus drugi in minus prvi element. Kar so slučajno ravno trije.\n",
    "\n",
    "Kaj pa to?"
   ]
  },
  {
   "cell_type": "code",
   "execution_count": 61,
   "id": "077f538d",
   "metadata": {},
   "outputs": [
    {
     "data": {
      "text/plain": [
       "['Ana', 'Berta', 'Cilka', 'Dani', 'Ema', 'Fanči']"
      ]
     },
     "execution_count": 61,
     "metadata": {},
     "output_type": "execute_result"
    }
   ],
   "source": [
    "imena[:-3]"
   ]
  },
  {
   "cell_type": "markdown",
   "id": "fa4780dc",
   "metadata": {},
   "source": [
    "To so vsa od začetka (spodnjo mejo, 0, smo izpustili) do minus tretjega - ampak brez njega. Torej manjkajo -3, -2 in -1. Ravno trije.\n",
    "\n",
    "Dopolnimo, kar smo pisali prej:\n",
    "\n",
    "- `:5` pomeni *prvih pet*,\n",
    "- `5:` pomeni *brez prvih pet*,\n",
    "- `-5:` pomeni *zadnjih pet*,\n",
    "- `:-5` pomeni *brez zadnjih pet*.\n",
    "\n",
    "Tega si ne boste zapomnili. Ni treba. Samo spomnite se, da obstaja in vedno znova poskusite rekonstruirati iz pravil. Sčasoma vam bo prišlo v kri - če boste uporabljali."
   ]
  },
  {
   "cell_type": "markdown",
   "id": "0f47d702",
   "metadata": {},
   "source": [
    "### Rezine in zip in prejšnji element\n",
    "\n",
    "Zdaj znamo izračunati vsoto prodanih elementov še boljše kot prej. Razumemo tole?"
   ]
  },
  {
   "cell_type": "code",
   "execution_count": 62,
   "id": "d6ab6ed1",
   "metadata": {},
   "outputs": [
    {
     "data": {
      "text/plain": [
       "143"
      ]
     },
     "execution_count": 62,
     "metadata": {},
     "output_type": "execute_result"
    }
   ],
   "source": [
    "vsota = 0\n",
    "for cena, naslednji in zip(cene, cene[1:]):\n",
    "    if naslednji == -1:\n",
    "        vsota += cena\n",
    "        \n",
    "vsota"
   ]
  },
  {
   "cell_type": "markdown",
   "id": "402b7534",
   "metadata": {},
   "source": [
    "Kaj se dogaja? V bistvu imamo dva seznama, `cene` in `cene` brez prve."
   ]
  },
  {
   "cell_type": "code",
   "execution_count": 63,
   "id": "fd276185",
   "metadata": {},
   "outputs": [
    {
     "name": "stdout",
     "output_type": "stream",
     "text": [
      "[11, 17, 24, 30, -1, 13, 27, 33, -1, 12, 27, 34, 40, -1, 9, -1, 8, 20, 30, 31, -1]\n",
      "[17, 24, 30, -1, 13, 27, 33, -1, 12, 27, 34, 40, -1, 9, -1, 8, 20, 30, 31, -1]\n"
     ]
    }
   ],
   "source": [
    "print(cene)\n",
    "print(cene[1:])"
   ]
  },
  {
   "cell_type": "markdown",
   "id": "eab8063e",
   "metadata": {},
   "source": [
    "`zip` ju popari: 11 in 17, 17 in 24, 24 in 30, 30 in -1 ... Ker je drugi seznam le za ena zamaknjen prvi, bodo pari, ki jih vrne `zip`, preprosto zaporedni elementi. Razpakiramo ju v `cena` in `naslednji`. Če je `naslednji` enak `-1`, je `cena` zadnja ponujena cena za \"ta\" predmet."
   ]
  }
 ],
 "metadata": {
  "celltoolbar": "Tags",
  "kernelspec": {
   "display_name": "Python 3 (ipykernel)",
   "language": "python",
   "name": "python3"
  },
  "language_info": {
   "codemirror_mode": {
    "name": "ipython",
    "version": 3
   },
   "file_extension": ".py",
   "mimetype": "text/x-python",
   "name": "python",
   "nbconvert_exporter": "python",
   "pygments_lexer": "ipython3",
   "version": "3.11.5"
  }
 },
 "nbformat": 4,
 "nbformat_minor": 5
}
