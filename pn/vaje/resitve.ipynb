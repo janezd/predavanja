{
 "cells": [
  {
   "cell_type": "markdown",
   "id": "5af1893f",
   "metadata": {},
   "source": [
    "## Primeri s predavanja\n",
    "\n",
    "Nič ne bo škodilo, če to narediš znova - s čim manj škiljenja v zapiske. :)\n",
    "\n",
    "1. Izpiši vse temperature v datoteki temperature.txt.\n",
    "2. Izpiši vse temperature, vendar pretvorjene v Fahrenheite.\n",
    "3. Izpiši povprečno temperaturo.\n",
    "4. Izpiši vse temperature višje od 17 stopinj.\n",
    "5. Izpiši število dni, ko je temperatura višja od 17 stopinj.\n",
    "6. Izpiši najnižjo in najvišjo napovedano temperaturo. Poskusi oboje izračunati v okviru ene same zanke.\n",
    "7. Izpiši zaporedno številko dneva z najnižjo temperaturo.\n",
    "\n",
    "### Rešitev\n",
    "\n",
    "Glej zapiske predavanj. :)\n",
    "\n",
    "## Še malo vremena\n",
    "\n",
    "### Poprečje kot pri smučarskih skokih\n",
    "\n",
    "Znaš izračunati poprečno temperaturo tako, kot to delajo pri smučarskih skokih, kjer ne upoštevajo tistega ocenjevalca, ki je dal najmanjšo in ocenjevalca, ki je dal največjo oceno? Če je najmanjšo (ali največjo) oceno dalo več ocenjevalcev, seveda odstranijo le enega. (Nasvet: računaj vsoto, minimum in maksimum. Po zanki odšteješ minimum in maksimum od vsote ter izračunaš povprečje.)\n",
    "\n",
    "#### Rešitev"
   ]
  },
  {
   "cell_type": "code",
   "execution_count": 1,
   "id": "3cdc9a83",
   "metadata": {},
   "outputs": [
    {
     "name": "stdout",
     "output_type": "stream",
     "text": [
      "17.333333333333332\n"
     ]
    }
   ],
   "source": [
    "najm = 10000\n",
    "najv = -1000\n",
    "vsota = 0\n",
    "n = 0\n",
    "for vrstica in open(\"temperature.txt\"):\n",
    "    temp = int(vrstica)\n",
    "    vsota += temp\n",
    "    if temp < najm:\n",
    "        najm = temp\n",
    "    if temp > najv:\n",
    "        najv = temp\n",
    "    n += 1\n",
    "\n",
    "print((vsota - najv - najm) / (n - 2))"
   ]
  },
  {
   "cell_type": "markdown",
   "id": "a1ed36cc",
   "metadata": {},
   "source": [
    "### \"Graf\"\n",
    "\n",
    "Nariši (no, izpiši) graf temperatur:\n",
    "\n",
    "```\n",
    "24 ************************\n",
    "18 ******************\n",
    "15 ***************\n",
    "16 ****************\n",
    "18 ******************\n",
    "```\n",
    "\n",
    "#### Rešitev"
   ]
  },
  {
   "cell_type": "code",
   "execution_count": 2,
   "id": "e32c5eb5",
   "metadata": {},
   "outputs": [
    {
     "name": "stdout",
     "output_type": "stream",
     "text": [
      "24 ************************\n",
      "18 ******************\n",
      "15 ***************\n",
      "16 ****************\n",
      "18 ******************\n"
     ]
    }
   ],
   "source": [
    "for vrstica in open(\"temperature.txt\"):\n",
    "    temp = int(vrstica)\n",
    "    print(temp, \"*\" * temp)"
   ]
  },
  {
   "cell_type": "markdown",
   "id": "85bff365",
   "metadata": {},
   "source": [
    "Kitajci\n",
    "V datoteki yuan.txt je tečaj evra proti kitajske valute yuan (ki se menda izgovori tako, kot bi Nemci izgovorili üen) v času od 1. aprila 2005 do 9. oktobra 2023, brez sobot in nedelj.\n",
    "\n",
    "Izpiši najvišjo in najnižjo vrednost - točneje, koliko največ in koliko najmanj yuanov je bil vreden evro.\n",
    "Koliko dni je bil evro vreden več ali enako 10 yuanov?\n",
    "Kolikšen delež dni (v odstotki) je bil evro vreden več ali enako 10 yuanov?\n",
    "Na kateri dan (zaporedna številka dneva) je evro prvič padel pod osem yuanov? (Opazka: na razmerje med yuanom in evrom najbrž vpliva predvsem ravnanje kitajske in ne toliko evropske banke. Ko je vrednost yuana nizka, je to lahko dobro za kitajski izvoz, čeprav stvari seveda niso tako preproste.)\n",
    "Malo težja: kako dolgo je najdaljše zaporedje dni, ko je bil evro vreden manj kot 8 yuanov?\n",
    "Še malo težja: na kateri dan se je začelo to zaporedje?\n",
    "Kolesa\n",
    "Lastnik štirih koles različnih znamk (Cube, Canyon, Stevens, Nakamura) si v datoteko \"kolesa.txt\" beleži, kolikokrat se pelje s katerim.\n",
    "\n",
    "Napiši program, ki to prešteje in izpiše.\n",
    "Napiši program, ki izpiše, s katerim kolesom se je peljal največkrat.\n",
    "Problem: iz razlogov, ki jih bomo spoznali zdaj zdaj, je na koncu vrstice, prebrane iz datoteke, še nekaj šare. Namesto niza \"Cube\" bo Python prebral \"Cube\\n\". Če se želiš tega znebiti, dodaj vrstico vrstica = vrstica.strip() (ob predpostavki, da se prebrana vrstica nahaja v spremenljivki vrstica.)"
   ]
  },
  {
   "cell_type": "code",
   "execution_count": 8,
   "id": "ca613ed8",
   "metadata": {},
   "outputs": [
    {
     "name": "stdout",
     "output_type": "stream",
     "text": [
      "Najnižja vrednost 6.5552\n",
      "Najvišja vrednost 11.169\n"
     ]
    }
   ],
   "source": [
    "najm = 0\n",
    "najv = 0\n",
    "for vrstica in open(\"yuan.txt\"):\n",
    "    vrednost = float(vrstica)\n",
    "    if najv == 0 or vrednost > najv:\n",
    "        najv = vrednost\n",
    "    if najm == 0 or vrednost < najm:\n",
    "        najm = vrednost\n",
    "        \n",
    "print(\"Najnižja vrednost\", najm)\n",
    "print(\"Najvišja vrednost\", najv)\n"
   ]
  },
  {
   "cell_type": "code",
   "execution_count": 11,
   "id": "76f2541a",
   "metadata": {},
   "outputs": [
    {
     "name": "stdout",
     "output_type": "stream",
     "text": [
      "722\n",
      "15.212810788032026\n"
     ]
    }
   ],
   "source": [
    "nad_10 = 0\n",
    "vseh = 0\n",
    "for vrstica in open(\"yuan.txt\"):\n",
    "    if float(vrstica) >= 10:\n",
    "        nad_10 = nad_10 + 1\n",
    "    vseh += 1\n",
    "print(nad_10)\n",
    "print(nad_10 / vseh * 100)"
   ]
  },
  {
   "cell_type": "code",
   "execution_count": 20,
   "id": "8c4b32a8",
   "metadata": {},
   "outputs": [
    {
     "name": "stdout",
     "output_type": "stream",
     "text": [
      "999\n",
      "2414 58\n"
     ]
    }
   ],
   "source": [
    "najdaljsi = 0\n",
    "tekoci = 0\n",
    "kdaj_najdaljsi = 0\n",
    "dan = 0\n",
    "for vrstica in open(\"yuan.txt\"):\n",
    "    dan += 1\n",
    "    if float(vrstica) < 8:\n",
    "        tekoci = tekoci + 1\n",
    "        if tekoci > najdaljsi:\n",
    "            najdaljsi = tekoci\n",
    "            kdaj_najdaljsi = dan - najdaljsi\n",
    "    else:\n",
    "        tekoci = 1\n",
    "print(najdaljsi)\n",
    "print(kdaj_najdaljsi, tekoci)"
   ]
  },
  {
   "cell_type": "code",
   "execution_count": 22,
   "id": "d1ef4f03",
   "metadata": {},
   "outputs": [
    {
     "name": "stdout",
     "output_type": "stream",
     "text": [
      "1833\n"
     ]
    }
   ],
   "source": [
    "dni = 0\n",
    "for vrstica in open(\"yuan.txt\"):\n",
    "    dni += 1\n",
    "    if float(vrstica) < 8:\n",
    "        break\n",
    "print(dni)"
   ]
  },
  {
   "cell_type": "code",
   "execution_count": null,
   "id": "b4a98e42",
   "metadata": {},
   "outputs": [],
   "source": []
  }
 ],
 "metadata": {
  "kernelspec": {
   "display_name": "Python 3 (ipykernel)",
   "language": "python",
   "name": "python3"
  },
  "language_info": {
   "codemirror_mode": {
    "name": "ipython",
    "version": 3
   },
   "file_extension": ".py",
   "mimetype": "text/x-python",
   "name": "python",
   "nbconvert_exporter": "python",
   "pygments_lexer": "ipython3",
   "version": "3.11.5"
  }
 },
 "nbformat": 4,
 "nbformat_minor": 5
}
