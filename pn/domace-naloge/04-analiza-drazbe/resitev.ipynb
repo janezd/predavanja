{
 "cells": [
  {
   "cell_type": "markdown",
   "id": "f2c0f777",
   "metadata": {},
   "source": [
    "## Analiza dražbe\n",
    "\n",
    "Nekateri [who? citation needed?] pravijo, da se na dražbi za vsak izdelek v začetku samo ogrevajo in da je zaželenost izdelka najbolj primerno presojati po tem, za koliko se je dvignila njegova cena v zadnjih sedmih ponudbah.\n",
    "\n",
    "Napiši program, ki za vsak izdelek pove, koliko se je dvignila njegova cena v zadnjih sedmih ponudbah. Če je bilo vseh ponudb manj kot 7, pa pač v toliko ponudbah, kot jih je bilo.\n",
    "\n",
    "Pravilni rezultat je\n",
    "\n",
    "```\n",
    "slika  -  14\n",
    "pozlačen dežnik  -  0\n",
    "Meldrumove vaze  -  18\n",
    "skodelice  -  18\n",
    "kip  -  13\n",
    "čajnik  -  0\n",
    "srebrn jedilni servis  -  14\n",
    "perzijska preproga  -  5\n",
    "```\n",
    "\n",
    "## Rešitev - s seznamom za tekoči predmet"
   ]
  },
  {
   "cell_type": "code",
   "execution_count": 1,
   "id": "ba15378c",
   "metadata": {},
   "outputs": [
    {
     "name": "stdout",
     "output_type": "stream",
     "text": [
      "slika - 14\n",
      "pozlačen dežnik - 0\n",
      "Meldrumove vaze - 18\n",
      "skodelice - 18\n",
      "kip - 13\n",
      "čajnik - 0\n",
      "srebrn jedilni servis - 14\n",
      "perzijska preproga - 5\n"
     ]
    }
   ],
   "source": [
    "trenutni_predmet = \"\"\n",
    "cene = []\n",
    "\n",
    "\n",
    "for vrstica in open(\"zapisnik.txt\"):\n",
    "    predmet, _, cena = vrstica.split(\",\")\n",
    "    if predmet != trenutni_predmet:\n",
    "        if trenutni_predmet:\n",
    "            if len(cene) >= 7:  # Tole se da preprosteje - glej spodaj\n",
    "                print(trenutni_predmet, \"-\", cene[-1] - cene[-7])\n",
    "            else:\n",
    "                print(trenutni_predmet, \"-\", cene[-1] - cene[0])\n",
    "        trenutni_predmet = predmet\n",
    "        cene = []\n",
    "    cene.append(int(cena))\n",
    "    \n",
    "print(trenutni_predmet, \"-\", cene[-1] - cene[0])"
   ]
  },
  {
   "cell_type": "markdown",
   "id": "e569a74a",
   "metadata": {},
   "source": [
    "Spremenljivka `trenutni_predmet` vsebuje predmet, s katerim se trenutno ukvarjamo (dokler ne preberemo prvega predmeta, bo to prazen niz), `cene` pa vse cene, ponujene zanj.\n",
    "\n",
    "Po branju vsake vrstice, preverimo, ali gre za isti predmet kot v prejšnji vrstici. Če ne, potem preverimo, ali je niz `trenutni_predmet` neprazen: če bi bil, to pomeni, da smo zgolj prebrali prvo vrstico. Če ni prazen, moramo izpisati ime predmeta in povedati, za koliko se je dvignila njegova cena v zadnjih sedmih ponudbah. To načelno dobimo z `cene[-1] - cene[-7]`, vendar za nekatere predmete ni bilo sedmih ponudb. Za takšne računamo razliko med zadnjo in prvo ponudbo.\n",
    "\n",
    "V primeru, da gre za nov predmet, si zapomnimo novi trenutni izdelek in izpraznimo seznam cen.\n",
    "\n",
    "V vsakem primeru pa dodamo ceno tega izdelka v seznam.\n",
    "\n",
    "Zoprni ponovljeni `print` po zanki poskrbi za zadnji predmet, perzijsko preprogo.\n",
    "\n",
    "Računanje razlike si lahko malo poenostavimo z rezinami. `cene[-7:]` vrne zadnjih sedem cen, če ima seznam manj kot sedem elementov, pa pač toliko, kolikor jih je. `cene[-7:][0]` je potem prva izmed zadnjih sedmih (ali kolikor jih pač je) cen."
   ]
  },
  {
   "cell_type": "code",
   "execution_count": 2,
   "id": "a30e56c7",
   "metadata": {},
   "outputs": [
    {
     "name": "stdout",
     "output_type": "stream",
     "text": [
      "slika - 14\n",
      "pozlačen dežnik - 0\n",
      "Meldrumove vaze - 18\n",
      "skodelice - 18\n",
      "kip - 13\n",
      "čajnik - 0\n",
      "srebrn jedilni servis - 14\n",
      "perzijska preproga - 5\n"
     ]
    }
   ],
   "source": [
    "trenutni_predmet = \"\"\n",
    "cene = []\n",
    "\n",
    "\n",
    "for vrstica in open(\"zapisnik.txt\"):\n",
    "    predmet, _, cena = vrstica.split(\",\")\n",
    "    if predmet != trenutni_predmet:\n",
    "        if trenutni_predmet:\n",
    "            print(trenutni_predmet, \"-\", cene[-1] - cene[-7:][0])\n",
    "        trenutni_predmet = predmet\n",
    "        cene = []\n",
    "    cene.append(int(cena))\n",
    "    \n",
    "print(trenutni_predmet, \"-\", cene[-1] - cene[-7:][0])"
   ]
  },
  {
   "cell_type": "markdown",
   "id": "87d98783",
   "metadata": {},
   "source": [
    "Zanimiva je tudi rešitev, po kateri v vsakem trenutku hranimo le zadnjih sedem cen."
   ]
  },
  {
   "cell_type": "code",
   "execution_count": 3,
   "id": "73c89297",
   "metadata": {},
   "outputs": [
    {
     "name": "stdout",
     "output_type": "stream",
     "text": [
      "slika - 14\n",
      "pozlačen dežnik - 0\n",
      "Meldrumove vaze - 18\n",
      "skodelice - 18\n",
      "kip - 13\n",
      "čajnik - 0\n",
      "srebrn jedilni servis - 14\n",
      "perzijska preproga - 5\n"
     ]
    }
   ],
   "source": [
    "trenutni_predmet = \"\"\n",
    "cene = []\n",
    "\n",
    "\n",
    "for vrstica in open(\"zapisnik.txt\"):\n",
    "    predmet, _, cena = vrstica.split(\",\")\n",
    "    if predmet != trenutni_predmet:\n",
    "        if trenutni_predmet:\n",
    "            print(trenutni_predmet, \"-\", cene[-1] - cene[0])\n",
    "        trenutni_predmet = predmet\n",
    "        cene = []\n",
    "    cene = (cene + [int(cena)])[-7:]\n",
    "    \n",
    "print(trenutni_predmet, \"-\", cene[-1] - cene[0])"
   ]
  },
  {
   "cell_type": "markdown",
   "id": "abea6c8a",
   "metadata": {},
   "source": [
    "## Rešitev s slovarjem\n",
    "\n",
    "Če nam gre na živce, da moramo stalno beležiti zadnji predmet in ga primerjati s trenutnim, si lahko pomagamo tako, da vse podatke najprej preberemo v slovar. Ključi bodo predmeti, vrednosti pa seznami cen za ta predmet."
   ]
  },
  {
   "cell_type": "code",
   "execution_count": 4,
   "id": "b19b918c",
   "metadata": {},
   "outputs": [
    {
     "name": "stdout",
     "output_type": "stream",
     "text": [
      "slika - 14\n",
      "pozlačen dežnik - 0\n",
      "Meldrumove vaze - 18\n",
      "skodelice - 18\n",
      "kip - 13\n",
      "čajnik - 0\n",
      "srebrn jedilni servis - 14\n",
      "perzijska preproga - 5\n"
     ]
    }
   ],
   "source": [
    "ponudbe = {}  # slovar: ključi so predmeti, vrednosti *seznami* ponudb za ta predmet\n",
    "\n",
    "\n",
    "for vrstica in open(\"zapisnik.txt\"):\n",
    "    predmet, _, cena = vrstica.split(\",\")\n",
    "    if predmet not in ponudbe:\n",
    "        ponudbe[predmet] = []\n",
    "    ponudbe[predmet].append(int(cena))\n",
    "\n",
    "for predmet, cene in ponudbe.items():\n",
    "    print(predmet, \"-\", cene[-1] - cene[-7:][0])"
   ]
  },
  {
   "cell_type": "markdown",
   "id": "078a1b08",
   "metadata": {},
   "source": [
    "Resda imamo dve zanki, vendar sta preprostejši. Pa še `print` po zanki nam ne dela več sramote."
   ]
  }
 ],
 "metadata": {
  "kernelspec": {
   "display_name": "Python 3 (ipykernel)",
   "language": "python",
   "name": "python3"
  },
  "language_info": {
   "codemirror_mode": {
    "name": "ipython",
    "version": 3
   },
   "file_extension": ".py",
   "mimetype": "text/x-python",
   "name": "python",
   "nbconvert_exporter": "python",
   "pygments_lexer": "ipython3",
   "version": "3.11.5"
  }
 },
 "nbformat": 4,
 "nbformat_minor": 5
}
