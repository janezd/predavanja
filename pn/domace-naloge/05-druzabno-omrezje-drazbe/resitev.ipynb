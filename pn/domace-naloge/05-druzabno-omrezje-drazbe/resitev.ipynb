{
 "cells": [
  {
   "cell_type": "markdown",
   "id": "bf9f7822",
   "metadata": {},
   "source": [
    "## Seznami\n",
    "\n",
    "1. Napiši funkcijo `unikati(s)`, ki prejme seznam in vrne seznam, ki vsebuje iste elemente kot `s`, v enakem vrstnem redu, vendar brez ponovitev. Funkcija *ne sme spreminjati* podanega seznama, temveč mora vrniti novega.\n",
    "\n",
    "    Klic `unikati([\"Ana\", \"Ana\", \"Berta\", \"Cilka\", \"Ana\", \"Berta\", \"Berta\", \"Berta\", \"Ema\", \"Dani\", \"Cilka\"])` vrne `[\"Ana\", \"Berta\", \"Cilka\", \"Ema\", \"Dani\"]`.\n",
    "\n",
    "2. Napiši funkcijo `skupnih(s, t)`, ki prejme dva seznama in vrne število skupnih elementov. Morebitne ponovljene elemente mora ignorirati.\n",
    "\n",
    "    Klic `skupnih([\"Ana\", \"Berta\", \"Ana\", \"Ana\", \"Cilka\"], [\"Cilka\", \"Dani\", \"Ana\", \"Ana\"])` vrne 2, ker imate seznama dva skupna elementa (Ano in Cilko). To, da se Ana ponovi večkrat, ga ne zmede.\n",
    "\n",
    "3. Napiši funkcijo `vseh(s, t)`, ki vrne število vseh elementov, ki se pojavijo v `s` ali `t` (ali v obeh).\n",
    "\n",
    "    Klic `skupnih([\"Ana\", \"Berta\", \"Ana\", \"Ana\", \"Cilka\"], [\"Cilka\", \"Dani\", \"Ana\", \"Ana\"])` vrne 4, ker se v podanih seznamih pojavljajo 4 različna imena.\n",
    "\n",
    "### Rešitev\n",
    "\n",
    "Za `unikate` bomo najprej sestavili prazen seznam in vanj prepisovali elemente iz podanega seznama, vendar za vsakega poprej preverili, da ni morda že tam."
   ]
  },
  {
   "cell_type": "code",
   "execution_count": 1,
   "id": "21d818e0",
   "metadata": {},
   "outputs": [],
   "source": [
    "def unikati(s):\n",
    "    t = []\n",
    "    for x in s:\n",
    "        if x not in t:\n",
    "            t.append(x)\n",
    "    return t"
   ]
  },
  {
   "cell_type": "markdown",
   "id": "17a2aaf6",
   "metadata": {},
   "source": [
    "Ker gre za čisto generične zadeve, bosta `s` in `t` primerni imeni za seznama.\n",
    "\n",
    "Število `skupnih` elementov ugotovimo tako, da enega od seznamov pustimo čez unikati. Nato za vsakega od teh, unikatnih elementov, preverimo, ali se pojavi tudi v drugem seznamu."
   ]
  },
  {
   "cell_type": "code",
   "execution_count": 2,
   "id": "ec23922e",
   "metadata": {},
   "outputs": [],
   "source": [
    "def skupnih(s, t):\n",
    "    sk = 0\n",
    "    for x in unikati(s):\n",
    "        if x in t:\n",
    "            sk += 1\n",
    "    return sk"
   ]
  },
  {
   "cell_type": "markdown",
   "id": "851e8e81",
   "metadata": {},
   "source": [
    "Drugega seznama ni treba \"unificirati\". Enega pa moramo, sicer bi ponovljene elemente šteli večkrat."
   ]
  },
  {
   "cell_type": "markdown",
   "id": "12f66140",
   "metadata": {},
   "source": [
    "Vseh je toliko, kolikor je unikatnih v obeh skupaj."
   ]
  },
  {
   "cell_type": "code",
   "execution_count": 3,
   "id": "88f80d1c",
   "metadata": {},
   "outputs": [],
   "source": [
    "def vseh(s, t):\n",
    "    return len(unikati(s + t))"
   ]
  },
  {
   "cell_type": "markdown",
   "id": "8b3b19a0",
   "metadata": {},
   "source": [
    "Če že poznamo množice, sta zadnji dve funkciji (še) veliko preprostejši."
   ]
  },
  {
   "cell_type": "code",
   "execution_count": 1,
   "id": "4b2d152b",
   "metadata": {},
   "outputs": [],
   "source": [
    "def vseh(s, t):\n",
    "    return len(unikati(s + t))\n",
    "\n",
    "def vseh(s, t):\n",
    "    return len(set(s) | set(t))"
   ]
  },
  {
   "cell_type": "markdown",
   "id": "083cc32e",
   "metadata": {},
   "source": [
    "Tudi prvo bi nas lahko zamikalo rešiti z množicami: seznam pretvorimo v množico, da se znebimo duplikatov"
   ]
  },
  {
   "cell_type": "markdown",
   "id": "12388531",
   "metadata": {},
   "source": [
    "## Procesiranje seznamov\n",
    "\n",
    "1. Napiši funkcijo `preberi_datoteko(ime_dat, locilo)`, ki prejme ime datoteke, podobne tem, s kakršnimi smo delali doslej. Razlika je le v tem, da ločilo med stolpci ni nujno vejica, zato je ločilo podano z drugim argumentom. Funkcija mora vrniti seznam seznamov. Vsak element vrnjenega seznama je vrstica, ki vsebuje podatke iz vrstice.\n",
    "\n",
    "   Recimo, da imamo datoteko `kolesa.txt` s takšno vsebino:\n",
    "\n",
    "   ```\n",
    "   Cube-5031-159-Janez-2017\n",
    "   Stevens-3819-1284-Ana-2012\n",
    "   Focus-3823-1921-Benjamin-2019\n",
    "   ```\n",
    "\n",
    "   Klic `preberi_datoteko(\"kolesa.txt\", \"-\")` mora vrniti seznam\n",
    "\n",
    "   ```\n",
    "   [['Cube', '5031', '159', 'Janez', '2017\\n'],\n",
    "    ['Stevens', '3819', '1284', 'Ana', '2012\\n'],\n",
    "    ['Focus', '3823', '1921', 'Benjamin', '2019\\n']]\n",
    "   ```\n",
    "\n",
    "   (Ne vznemirjaj se zaradi `\\n` v zadnjih elementih.)\n",
    "\n",
    "   Nasvet: funkcija je zelo preprosta. V seznam trpaj, kar ti vrača `split`.\n",
    "\n",
    "2. Napiši funkcijo `filtriran(s, stolpec, vrednost)`, ki prejme seznam, kakršnega vrača prejšnja funkcija in vrne nov seznam, ki vsebuje samo tiste elemente, ki imajo v podanem \"stolpcu\" `stolpec` (se pravi: na podanem indeksu) vrstici podano `vrednost`.\n",
    "\n",
    "\tRecimo, da imamo seznam\n",
    "\n",
    "\t```\n",
    "\ts = [[\"Ana\", 5, 9, \"Berta\"],\n",
    "         [\"Cilka\", 5, 12, \"Berta\"],\n",
    "         [\"Ana\", 5, 9, \"Cilka\"],\n",
    "         [\"Berta\", 5, 1, \"Ana\"]]\n",
    "    ```\n",
    "\n",
    "\tKlic `filtriran(s, 0, \"Ana\")` vrne seznam, ki vsebuje le tiste elemente seznama `s`, ki imajo v ničtem elementu niz `\"Ana\"`. Rezultat klica je torej\n",
    "\n",
    "\t```\n",
    "\t[[\"Ana\", 5, 9, \"Berta\"],\n",
    "     [\"Ana\", 5, 9, \"Cilka\"]]\n",
    "\t```\n",
    "\n",
    "\tKlic `filtriran(s, 3, \"Berta\")` vrne\n",
    "\n",
    "\t```\n",
    "\t[[\"Ana\", 5, 9, \"Berta\"],\n",
    "     [\"Cilka\", 5, 12, \"Berta\"]]\n",
    "\t```\n",
    "\n",
    "\tKlic `filtriran(s, 1, 5)` vrne kar celoten seznam, saj imajo na prvem mestu slučajno vsi ravno `5`.\n",
    "\n",
    "3. Napiši funkcijo `izlusci(s, stolpec)`, ki vrne vse *različne* vrednosti, ki se pojavijo v podanem \"stolpcu\". Vrednosti morajo nastopati v takem vrstnem redu, v kakršnem se prvič pojavijo.\n",
    "\n",
    "    Če je `s` seznam iz prejšnjega primera, potem klic `izlusci(s, 0)` vrne `[\"Ana\", \"Cilka\", \"Berta\"]`. Klic `izlusci(s, 1)` vrne `[5]`. Klic `izlusci(s, 3)` vrne `[\"Berta\", \"Cilka\", \"Ana\"]`.\n",
    "    \n",
    "### Rešitev\n",
    "\n",
    "Datoteke smo brali že tolikokrat, da sploh ni več česa komentirati."
   ]
  },
  {
   "cell_type": "code",
   "execution_count": 4,
   "id": "040f574e",
   "metadata": {},
   "outputs": [],
   "source": [
    "def preberi_datoteko(ime_dat, locilo):\n",
    "    zapisnik = []\n",
    "    for vrstica in open(ime_dat):\n",
    "        zapisnik.append(vrstica.split(locilo))\n",
    "    return zapisnik"
   ]
  },
  {
   "cell_type": "markdown",
   "id": "8f4b74d2",
   "metadata": {},
   "source": [
    "Tudi s filtriranjem se nimamo kaj mujati: beremo vrstice in v seznam dajemo le tiste, ki imajo v pravem stolpcu pravo vrednost."
   ]
  },
  {
   "cell_type": "code",
   "execution_count": 5,
   "id": "18882cd6",
   "metadata": {},
   "outputs": [],
   "source": [
    "def filtriran(s, stolpec, vrednost):\n",
    "    t = []\n",
    "    for vrstica in s:\n",
    "        if vrstica[stolpec] == vrednost:\n",
    "            t.append(vrstica)\n",
    "    return t"
   ]
  },
  {
   "cell_type": "markdown",
   "id": "a5050c39",
   "metadata": {},
   "source": [
    "Tudi `izlusci` je preprosta: v seznam zlagamo vse, kar najdemo v drugem stolpcu."
   ]
  },
  {
   "cell_type": "code",
   "execution_count": 6,
   "id": "d6ff7000",
   "metadata": {},
   "outputs": [],
   "source": [
    "def izlusci(s, stolpec):\n",
    "    t = []\n",
    "    for vrstica in s:\n",
    "        t.append(vrstica[stolpec])\n",
    "    return t"
   ]
  },
  {
   "cell_type": "markdown",
   "id": "0a652903",
   "metadata": {},
   "source": [
    "Dodajmo le še, da so vse tri funkcije klasični primeri nečesa, kar se bomo naučili narediti v eni sami vrstici."
   ]
  },
  {
   "cell_type": "code",
   "execution_count": 7,
   "id": "7f4a8636",
   "metadata": {},
   "outputs": [],
   "source": [
    "def preberi_datoteko(ime_dat, locilo):\n",
    "    return [vrstica.split(locilo) for vrstica in open(ime_dat)]\n",
    "\n",
    "def filtriran(s, stolpec, vrednost):\n",
    "    return [vrstica for vrstica in s if vrstica[stolpec] == vrednost]\n",
    "\n",
    "def izlusci(s, stolpec):\n",
    "    return [vrstica[stolpec] for vrstica in s]"
   ]
  },
  {
   "cell_type": "markdown",
   "id": "4c7c33d1",
   "metadata": {},
   "source": [
    "## Dražba\n",
    "\n",
    "Čestitam, prišli ste do sem, programiranja je zdaj skoraj konec. Če boste pametni, boste poslej samo klicali funkcije, ki ste jih napisali doslej.\n",
    "\n",
    "1. Napiši funkcijo `predmeti(ime_dat, oseba)`, ki prejme ime datoteke z zapisnikom dražbe in ime neke osebe. Vrniti mora seznam vseh predmetov, za katere se je zanimala ta oseba.\n",
    "\n",
    "2. Napiši funkcijo `osebe(ime_dat, predmet)`, ki prejme ime datoteke z zapisnikom in ime predmeta. Vrniti mora osebe, ki so se zanimale za ta predmet.\n",
    "\n",
    "3. Napiši funkcijo `podobnost_oseb(ime_dat, oseba1, oseba2)`. Ta prejme ime datoteke z zapisnikom in imeni dveh oseb. Vrniti mora podobnost oseb. Podobnost oseb je definirana kot število predmetov, za katere sta se zanimali obe osebi, deljenemu s številom predmetov, za katere se je zanimala ena ali druga ali obe. (Glej [Jaccardov index](https://en.wikipedia.org/wiki/Jaccard_index)).\n",
    "\n",
    "    Klic `podobnost_oseb(\"zapisnik.txt\", \"Cilka\", \"Ema\")` vrne 0.5. Cilka je hotela `['pozlačen dežnik', 'kip', 'srebrn jedilni servis']`, Ema pa `['Meldrumove vaze', 'kip', 'srebrn jedilni servis']`. Skupna predmeta sta 2 (kip in servis), vseh predmetov, za katere sta se zanimali (ena ali druga ali obe), pa 4. Funkcija vrne 2 / 4, torej 0.5.\n",
    "\n",
    "4. Napiši funkcijo `podobnost_predmetov(ime_dat, predmet1, predmet2)`, ki prejme ime datoteke in imeni dveh predmetov. Vrniti mora podobnost predmetov. Ta je enaka številu oseb, ki so se zanimale za oba predmeta, deljenemu s številom oseb, ki so se zanimale za vsaj enega.\n",
    "\n",
    "### Rešitev\n",
    "\n",
    "Za `predmeti` preberemo datoteko, izfiltriramo ven tiste, ki imajo v prvem stolpcu ustrezno ime osebe, nato izluščimo vrednosti iz ničtega stolpca in poberemo ven unikate."
   ]
  },
  {
   "cell_type": "code",
   "execution_count": 8,
   "id": "b2b039c0",
   "metadata": {},
   "outputs": [],
   "source": [
    "def predmeti(ime_dat, oseba):\n",
    "    zapisnik = preberi_datoteko(ime_dat, \",\")\n",
    "    z_osebo = filtriran(zapisnik, 1, oseba)\n",
    "    predm = izlusci(z_osebo, 0)\n",
    "    return unikati(predm)"
   ]
  },
  {
   "cell_type": "markdown",
   "id": "501ec744",
   "metadata": {},
   "source": [
    "Gre tudi v eni vrstici,"
   ]
  },
  {
   "cell_type": "code",
   "execution_count": 9,
   "id": "c0cee908",
   "metadata": {},
   "outputs": [],
   "source": [
    "def predmeti(ime_dat, oseba):\n",
    "    return unikati(izlusci(filtriran(preberi_datoteko(ime_dat, \",\"), 1, oseba), 0))"
   ]
  },
  {
   "cell_type": "markdown",
   "id": "1fda0c44",
   "metadata": {},
   "source": [
    "Vendar se pri tem izgubimo v klicih, oklepajih in argumentih. Preglednejše je lepo sproti zlagati v spremenljivke.\n",
    "\n",
    "Funkcija `osebe` je analogna."
   ]
  },
  {
   "cell_type": "code",
   "execution_count": 10,
   "id": "7406cdda",
   "metadata": {},
   "outputs": [],
   "source": [
    "def osebe(ime_dat, predmet):\n",
    "    zapisnik = preberi_datoteko(ime_dat, \",\")\n",
    "    s_predmetom = filtriran(zapisnik, 0, predmet)\n",
    "    oseb = izlusci(s_predmetom, 1)\n",
    "    return unikati(oseb)"
   ]
  },
  {
   "cell_type": "markdown",
   "id": "3dca328f",
   "metadata": {},
   "source": [
    "Preden se lotimo funkcij `podobnost_oseb` in `podobnost_predmetov` si lahko samoiniciativno napišemo funkcijo `podobnost`, ki meri podobnost seznamov `s` in `t`."
   ]
  },
  {
   "cell_type": "code",
   "execution_count": 11,
   "id": "219e15e1",
   "metadata": {},
   "outputs": [],
   "source": [
    "def podobnost(s, t):\n",
    "    return skupnih(s, t) / vseh(s, t)"
   ]
  },
  {
   "cell_type": "markdown",
   "id": "3b9242c3",
   "metadata": {},
   "source": [
    "Zdaj sta funkciji `podobnost_oseb` in `podobnost_predmetov` le še"
   ]
  },
  {
   "cell_type": "code",
   "execution_count": 12,
   "id": "dc35a0f7",
   "metadata": {},
   "outputs": [],
   "source": [
    "def podobnost_oseb(ime_dat, oseba1, oseba2):\n",
    "    return podobnost(predmeti(ime_dat, oseba1), predmeti(ime_dat, oseba2))\n",
    "\n",
    "def podobnost_predmetov(ime_dat, predmet1, predmet2):\n",
    "    return podobnost(osebe(ime_dat, predmet1), osebe(ime_dat, predmet2))"
   ]
  },
  {
   "cell_type": "markdown",
   "id": "96aec8c7",
   "metadata": {},
   "source": [
    "## Priporočilni sistem (Dodatna, neobvezna naloga)\n",
    "\n",
    "Neobvezno, vendar preprosto, sploh, če uporabite funkcijo `argmax`, ki smo jo napisali na predavanju. Kar skopirajte jo v datoteko s svojim programom.\n",
    "\n",
    "1. Napiši funkcijo `priporoci_predmet(ime_dat, predmet)`, ki prejme ime datoteke in ime nekega predmeta. Vrne naj predmet, ki je najbolj podoben temu predmetu. (Seveda je vsak predmet najbolj podoben samemu sebi; vrniti mora naslednji najpodobnejši predmet.)\n",
    "\n",
    "2. Napiši funkcijo `priporoci_prijatelja(ime_dat, oseba)`, ki prejme ime datoteke in ime osebe ter vrne najbolj podobno osebo."
   ]
  },
  {
   "cell_type": "code",
   "execution_count": 13,
   "id": "3ac90326",
   "metadata": {},
   "outputs": [],
   "source": [
    "def argmax(s):\n",
    "    max_k = max_v = None\n",
    "    for k, v in s:\n",
    "        if max_v is None or v > max_v:\n",
    "            max_k = k\n",
    "            max_v = v\n",
    "    return max_k\n",
    "\n",
    "def priporoci_predmet(ime_dat, predmet):\n",
    "    podobnosti = []\n",
    "    for predmet2 in unikati(izlusci(preberi_datoteko(ime_dat, \",\"), 0)):\n",
    "        if predmet2 != predmet:\n",
    "            podobnosti.append((predmet2, podobnost_predmetov(ime_dat, predmet, predmet2)))\n",
    "    return argmax(podobnosti)\n",
    "\n",
    "def priporoci_prijatelja(ime_dat, oseba):\n",
    "    podobnosti = []\n",
    "    for oseba2 in unikati(izlusci(preberi_datoteko(ime_dat, \",\"), 1)):\n",
    "        if oseba2 != oseba:\n",
    "            podobnosti.append((oseba2, podobnost_oseb(ime_dat, oseba, oseba2)))\n",
    "    return argmax(podobnosti)"
   ]
  }
 ],
 "metadata": {
  "kernelspec": {
   "display_name": "Python 3 (ipykernel)",
   "language": "python",
   "name": "python3"
  },
  "language_info": {
   "codemirror_mode": {
    "name": "ipython",
    "version": 3
   },
   "file_extension": ".py",
   "mimetype": "text/x-python",
   "name": "python",
   "nbconvert_exporter": "python",
   "pygments_lexer": "ipython3",
   "version": "3.11.5"
  }
 },
 "nbformat": 4,
 "nbformat_minor": 5
}
