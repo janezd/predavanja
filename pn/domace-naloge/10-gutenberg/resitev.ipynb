{
 "cells": [
  {
   "cell_type": "markdown",
   "id": "51bf845d",
   "metadata": {},
   "source": [
    "# Domača naloga: Gutenberg\n",
    "\n",
    "V domači nalogi delamo z enakimi podatki kot na predavanju in vajah, **vendar je projekt Guttenberg na dan ali dva po predavanjih spremenil obliko svojih strani**. To je odlično, saj boste morali svoje znanje pokazati na podobni, vendar malenkost drugačni nalogi.\n",
    "\n",
    "Podatki projekta Gutenberg so dostopni tudi v lažje berljivi obliki. Tole delamo za vajo.\n",
    "\n",
    "## Ocena 6\n",
    "\n",
    "Za oceno 6 bo potrebno napisati le dve funkciji, ki ne bi smeli imeti več kot 10 vrstic.\n",
    "\n",
    "### `prenesi_podatke()`\n",
    "\n",
    "- Funkcija `prenesi_podatke()` naj stori naslednje.\n",
    "\n",
    "    - Če v trenutnem direktoriju (v katerem teče program) ni poddirektorija `authors`, ga naredi (glej *koristne funkcije*, spodaj).\n",
    "    - Vanj direktorij `authors` shrani datoteke s strani [https://ucilnica.fri.uni-lj.si/mod/folder/view.php?id=54634](https://ucilnica.fri.uni-lj.si/mod/folder/view.php?id=54634). Rezultat prenašanja morajo torej biti datoteke authors/a.html, authors/b.html, authors/c.html ... **Datotek, ki že obstajajo, ne prenašaj ponovno.**\n",
    "\n",
    "    Predpostaviti smeš, da se datoteke nahajajo na naslovih `https://ucilnica.fri.uni-lj.si/pluginfile.php/217381/mod_folder/content/0/{crka}.html`, pri čemer so `crka` male črke angleške abecede.\n",
    "\n",
    "    **Koristne funkcije:**\n",
    "\n",
    "\t- [`os.path.exists`](https://docs.python.org/3/library/os.path.html#os.path.exists)\n",
    "\t- [`os.mkdir`](https://docs.python.org/3/library/os.html#os.mkdir) ali [`os.mkdirs`](https://docs.python.org/3/library/os.html#os.makedirs)\n",
    "\t- [`string.ascii_lowercase``](https://docs.python.org/3/library/string.html#string.ascii_lowercase)\n",
    "\t- `urllib.request.urlopen`, ki, pazi, ne vrne niza temveč bajte. Kdor je pozabil, kako to spremeniti v niz, naj bere zapiske, saj smo morali to narediti tudi na predavanju.\n",
    "\n",
    "    **V vsem ostanku naloge uporabljaj te datoteke, da ne nadleguješ Učilnice brez potrebe.**"
   ]
  },
  {
   "cell_type": "markdown",
   "id": "10e63405",
   "metadata": {},
   "source": [
    "#### Rešitev\n",
    "\n",
    "Komentirati ni kaj dosti, saj vse piše že v nasvetih o koristnih funkcijah: preverimo, ali direktorij obstaja in ga naredimo, če ga ni, nato pa gremo čez vse začetnice in poberemo, česar ni. Z `urlopen` \"odpremo\" stran, z `read()` preberemo vsebino in jo z `decode(\"utf-8\")` pretvorimo iz bajtov v niz."
   ]
  },
  {
   "cell_type": "code",
   "execution_count": 1,
   "id": "57dedb30",
   "metadata": {},
   "outputs": [],
   "source": [
    "import os\n",
    "import string\n",
    "from urllib.request import urlopen\n",
    "\n",
    "def prenesi_podatke():\n",
    "    if not os.path.exists(\"authors\"):\n",
    "        os.mkdir(\"authors\")\n",
    "    for crka in string.ascii_lowercase:\n",
    "        if not os.path.exists(f\"authors/{crka}.html\"):\n",
    "            open(f\"authors/{crka}.html\", \"w\").write(\n",
    "                urlopen(f'https://ucilnica.fri.uni-lj.si/pluginfile.php/217381/mod_folder/content/0/{crka}.html'\n",
    "                       ).read().decode(\"utf-8\"))"
   ]
  },
  {
   "cell_type": "markdown",
   "id": "34be4272",
   "metadata": {},
   "source": [
    "### `avtorji(priimek)`\n",
    "\n",
    "- Funkcija `avtorji(priimek)` vrne seznam vseh avtorjev s podanim priimkom.\n",
    "\n",
    "    - Kaj so \"avtorji\", je očitno s spletne strani: poglej strukturo strani, da uvidiš, za kateri element gre.\n",
    "    - Priimek je vse, kar se nahaja pred prvo vejico v vrstici z imenom avtorja.\n",
    "\t- V seznamu naj bodo celotne vrstice.\n",
    "\n",
    "\tKlic `avtorji(\"Fairfax\")` vrne seznam `['Fairfax, Cecil', 'Fairfax, Edward, -1635']`. Seznam ne vsebuje \"Fairfax Muckley, A. (Angelo)\", saj je priimek tega avtorja Fairfax Muckley in ne samo Fairfax.\n",
    "\n",
    "\t**Koristne funkcije:**\n",
    "\n",
    "\t- Elementi, ki jih vrača BeautifulSoup imajo atribut `strings` z vsemi nizi znotraj elementa. Če imamo element `el`, ki vsebuje\n",
    "\n",
    "\t```\n",
    "\t<div><a href=\"peter.html\">Peter</<a> je pojedel veliko <img src=\"melona.png\"> in šel v <img src=\"melona.png\">.</div>\n",
    "\t```\n",
    "\n",
    "\tbo `el.strings` vseboval `\"Peter\"`, `\" je pojedel veliko \"`, `\" in šel v \"`, in `\".\"`. `strings` ni seznam, temveč generator. Če želimo seznam, pokličemo `list(el.strings)`, lahko pa ga podamo tudi kaki drugi funkciji ali metodi, na primer (namig!) metodi `join`, ki jo imajo nizi. (Nasvet: ko združuješ, ne vrivaj presledkov, razen v nalogi za oceno 10.)"
   ]
  },
  {
   "cell_type": "markdown",
   "id": "2dbed4d9",
   "metadata": {},
   "source": [
    "### Rešitev\n",
    "\n",
    "Najprej preberemo html, v katerem bomo našli iskanega avtorja. Nekateri študenti so delali zanko prek vseh črk; to nima smisla, saj vemo, da je iskani avtor v `f\"authors/{priimek[0]}.html\"`.\n",
    "\n",
    "Preberemo torej to datoteko. Z lepo župo gremo čez vse `h2` in `strings` poberemo vse, kar je napisano znotraj. Razdelimo glede na vejice in če je prvi element enak iskanemu priimku, dodamo celotno ime avtorja v seznam, ki ga na koncu vrnemo."
   ]
  },
  {
   "cell_type": "code",
   "execution_count": 2,
   "id": "f40027ed",
   "metadata": {},
   "outputs": [],
   "source": [
    "def avtorji(priimek):\n",
    "    html = open(f\"authors/{priimek[0]}.html\").read()\n",
    "    soup = BeautifulSoup(html, \"html.parser\")\n",
    "    avtorji = []\n",
    "    for h2 in soup.find_all(\"h2\"):\n",
    "        avtor = \"\".join(h2.strings)\n",
    "        if avtor and avtor.split(\", \")[0] == priimek:\n",
    "            avtorji.append(avtor)\n",
    "    return avtorji"
   ]
  },
  {
   "cell_type": "markdown",
   "id": "14f6ab1a",
   "metadata": {},
   "source": [
    "## Ocena 7\n",
    "\n",
    "### `razberi_avtorja`\n",
    "\n",
    "- Funkcija `razberi_avtorja(s)`, prejme vrstico z imenom avtorja ter letnicami rojstva in smrti.\n",
    "\n",
    "    Če vrstica ne vsebuje ne letnice rojstva ne letnice smrti, funkcija vrne `None`.\n",
    "\t\n",
    "\tSicer pa vrne četverko z naslednjimi elementi:\n",
    "\n",
    "    - niz s priimkom avtorja (vse, kar je pred prvo vejico)\n",
    "    - seznam z ostalimi elementi imena; dobimo ga tako, da vse, kar ni priimek ali letnice, razdelimo po vejicah\n",
    "    - številka z letnico rojstva, če je podana; če ni naj bo ta element enak `None`.\n",
    "    - številka z letnico smrti, če je podana; če ni naj bo ta element enak `None`.\n",
    "\n",
    "    Letnici rojstva in smrti sta tisto, kar sledi zadnji vejici, pod pogojem, da imata *primerno obliko* in sta ločeni z `-` (brez presledkov). \n",
    "\t\n",
    "    Letnica ima *primerno obliko*, če je\n",
    "\t\n",
    "    - sestavljena iz števk,\n",
    "    - ki jim morda sledi vprašaj (ki ga ignoriraj) ter,\n",
    "    - morda, presledek, ki mu sledi BC.\n",
    "\t\n",
    "    Dodatnih presledkov ali drugih znakov ni. Če se v datotekah pojavi kaj, kar je podobno letnici, vendar ne ustreza temu opisu, potem predpostavimo, da to ni letnica in jo ignoriramo. (**Pazi:** zadnji vejici mora slediti presledek in tako nato letnici. Če je vmes še kaj, na primer \"*active*\", potem tega avtorja ignoriraj.)\n",
    "\t\n",
    "    Letnico pretvori v številko; če ji sledi BC, mora biti negativna.\n",
    "\n",
    "    Če vrstica vsebuje ime brez vejic in nato letnico (na primer *Guérin de Bouscal, 1613?-1657*), se vedemo, kot da je celotno ime avtorja priimek, imena pa nima. \n",
    "\n",
    "    - Klic `razberi_avtorja('Macaulay, James, Peter, Joe-Ann, 1817?-1902')` vrne `(\"Macaulay\", [\"James\", \"Peter\", \"Joe-Ann\"], 1817, 1902)`.\n",
    "    - Klic `razberi_avtorja(\"Cicero, Marcus Tullius, 106 BC-43 BC\")` vrne `(\"Cicero\", [\"Marcus Tullius\"], -106, -43)`\n",
    "    - Klic `razberi_avtorja(\"Bach, P. D. Q., 33-12? BC\")` vrne `(\"Bach\", [\"P. D. Q.\"], 33, -12)`. 33 nima BC, torej je pozitivna, 12 pa, torej je negativna. Ker P. D. Q. Bach.\n",
    "    - Klic `razberi_avtorja(\"Štefan, Jožef\")` vrne `None`, ker manjkata letnici.\n",
    "    - Klic `razberi_avtorja(\"Kralj, Ludvik, 1914\")` vrne `None`, ker manjkata letnici (1914 je videti kot leto, vendar ni znaka `-`)\n",
    "    - Klic `razberi_avtorja(\"Kralj, Ludvik, 1914-ič\")` vrne `None`, ker manjkata letnici (`ič` niso števke)\n",
    "\n",
    "    **Koristne funkcije**:\n",
    "\t\n",
    "\t- `re.match`; glej zapiske predavanja o regularnih izrazih. Tam je skoraj vse, kar potrebujemo, le za BC bo potrebno poskrbeti. Brez tega bo najbrž malo naporneje. Učenje regularnih izrazov je koristna naložba."
   ]
  },
  {
   "cell_type": "markdown",
   "id": "7da9a7b1",
   "metadata": {},
   "source": [
    "#### Rešitev\n",
    "\n",
    "Tule se začne najbolj zoprni del naloge - ne toliko zaradi zahtevnega dela temveč zato, ker je bilo potrebno (ne povsem predvideno) upoštevati toliko posebnosti."
   ]
  },
  {
   "cell_type": "code",
   "execution_count": 3,
   "id": "fa161cec",
   "metadata": {},
   "outputs": [],
   "source": [
    "def razberi_avtorja(s):\n",
    "    deli = s.split(\", \")\n",
    "    mo = re.match(r\"(\\d*)\\??( BC)?-(\\d*)\\??( BC)?\", deli[-1])\n",
    "    if not mo:\n",
    "        return None\n",
    "    rojen, rbc, umrl, ubc = mo.groups()\n",
    "    rojen = int(rojen) if rojen else None\n",
    "    umrl = int(umrl) if umrl else None\n",
    "    if rbc:\n",
    "        rojen = -rojen\n",
    "    if ubc:\n",
    "        umrl = -umrl\n",
    "    return deli[0], deli[1:-1], rojen, umrl"
   ]
  },
  {
   "cell_type": "markdown",
   "id": "3162ae94",
   "metadata": {},
   "source": [
    "Regularni izraz smo na srečo napisali že na predavanju, le še `( BC)?` (ki pomeni da mora pride presledek in BC) dodamo.\n",
    "\n",
    "Ker naloga pravi, da mora letnica slediti zadnji vejici in presledku, niz razbijemo glede na to ločilo in potem gledamo zadnji kos (`deli[-1]`). Če ta ne ustreza regularnemu izrazu, vrnemo `None`. Sicer shranimo njegove dele v spremenljivke - spet tako kot na predavanjih, le da imamo še dva dodatna `rbc` in `ubc`, ki sta morda prazna, morda pa sta enaka `\" BC\"`. Letnici pretvorimo v števili in če sta BC, ju še negiramo. Nato vrnemo, kar zahteva naloga: priimek (prvi element, `deli[0]`), ostala imena (vsi elementi razen prvega in zadnjega, `deli[1:-1]`) in letnici rojstva in smrti."
   ]
  },
  {
   "cell_type": "markdown",
   "id": "d8c683a8",
   "metadata": {},
   "source": [
    "### `zberi_podatke(crke)`\n",
    "\n",
    "- Funkcija `zberi_podatke(crke)` prejme niz črk in vrne slovar, katerega ključi so priimki avtorjev, pripadajoče vrednosti pa seznam podatkov za vse avtorje s tem priimkom, pri čemer so \"podatki\" natančno četverke, ki jih vrača gornja funkcija. Avtorji so urejeni po vrstnem redu njihovega pojavljanja na strani.\n",
    "\n",
    "    Funkcija uvrsti v slovar le tiste avtorje, katerih priimek se začne z eno od črk v podanem nizu `crke`. Če je ta niz prazen, pa prebere vse avtorje. Tako `zberi_podatke(\"mte\")` sestavi slovar le za avtorje, katerih priimki se začnejo z m, t, ali e; klic `zberi_podatke(\"m\")` zbere le podatke z avtorji s priimki na črko m; klic `zberi_podatke(\"\")` zbere podatke za vse avtorje.\n",
    "\n",
    "\tSlovar, ki ga vrne `zberi_podatke(\"g\")` se začne tako:\n",
    "\n",
    "\t```\n",
    "\t{'Gaal': [('Gaal', ['György'], 1783, 1855),\n",
    "\t          ('Gaal', ['József'], 1811, 1866),\n",
    "\t\t\t  ('Gaal', ['Mózes'], 1863, 1936)],\n",
    "\t 'Gabel': [('Gabel', ['Norman E.'], 1906, 1961)],\n",
    "\t 'Gaboriau': [('Gaboriau', ['Emile'], 1832, 1873)],\n",
    "\t 'Gabrielean': [('Gabrielean', ['M. Smbat'], 1856, 1919)],\n",
    "\t 'Gabriel': [('Gabriel', ['Gilbert W. (Gilbert Wolf)'], 1890, 1952)],\n",
    "\t 'Gabrielian': [('Gabrielian', ['Mugurdich Chojhauji'], 1857, None)],\n",
    "\t 'Gade': [('Gade', ['John A. (John Allyne)'], 1875, 1955)],\n",
    "\t 'Gadow': [('Gadow', ['Hans'], 1855, 1928)],\n",
    "\t 'Gaebelein': [('Gaebelein', ['Arno Clemens'], 1861, 1945)],\n",
    "\t 'Gaffarel': [('Gaffarel', ['Paul'], 1843, 1920)],\n",
    "\t 'Gage': [('Gage', ['George W.'], 1887, 1957),\n",
    "\t          ('Gage', ['Harry Lawrence'], 1887, 1982),\n",
    "\t\t\t  ('Gage', ['Matilda Joslyn'], 1826, 1898),\n",
    "\t\t\t  ('Gage', ['Thomas'], 1603, 1656),\n",
    "\t\t\t  ('Gage', ['Thomas'], 1721, 1787)],\n",
    "\t 'Gagneur': [('Gagneur', ['M.-L. (Marie-Louise)'], 1832, 1902)],\n",
    "\n",
    "\t ...\n",
    "    ```\n",
    "\n",
    "\tČe so poleg `\"g\"` še druge črke, vsebuje še priimke, ki se začnejo s temi črkami; če ga pokličemo s praznim nizem, pa vsebuje vse avtorje."
   ]
  },
  {
   "cell_type": "markdown",
   "id": "fa31f9a5",
   "metadata": {},
   "source": [
    "#### Rešitev\n",
    "\n",
    "Tale je precej rutinska: gremo čez podane črke ali, če je seznam črk prazen, čez vse črke. Preberemo ustrezni html, z župo poiščemo elemente `h2` in če vsebujejo avtorje (torej, če `razberi_avtorja` ne vrne `None`, v slovar dodamo, kar je pripravila `razberi_avtorja`."
   ]
  },
  {
   "cell_type": "code",
   "execution_count": 4,
   "id": "de9e3f39",
   "metadata": {},
   "outputs": [],
   "source": [
    "def zberi_podatke(crke):\n",
    "    avtorji = defaultdict(list)\n",
    "    for crka in crke or string.ascii_lowercase:\n",
    "        html = open(f\"authors/{crka}.html\").read()\n",
    "        soup = BeautifulSoup(html, \"html.parser\")\n",
    "        for h2 in soup.find_all(\"h2\"):\n",
    "            avtor = \"\".join(h2.strings)\n",
    "            podatki = razberi_avtorja(avtor)\n",
    "            if podatki is not None:\n",
    "                avtorji[podatki[0]].append(podatki)\n",
    "    return avtorji"
   ]
  },
  {
   "cell_type": "markdown",
   "id": "874d7d72",
   "metadata": {},
   "source": [
    "Izraz `crke or string.ascii_lowercase` bo imel vrednost `crke`, če je le-ta resnična (torej: če gre za neprazen niz), sicer pa bo imel vrednost `ascii_lowercase`. Brez tega trika bi bila funkcija pač vrstico ali dve daljša.\n",
    "\n",
    "Uporabili smo `defaultdict(list)`, da se nam ni potrebno ukvarjati s tem, ali določen ključ (priimek) že obstaja. Če ga še ni, se bo pojavil \"sam od sebe\", pripadajoča vrednost pa bo slovar."
   ]
  },
  {
   "cell_type": "markdown",
   "id": "96a7f5fb",
   "metadata": {},
   "source": [
    "### (nadaljevanje)\n",
    "\n",
    "- V program dodaj (izven funkcije!) par vrstic, ki naredijo tole: če trenutni direktorij ne vsebuje datoteke \"authors.json\", pokliče funkcijo `zberi_podatke(\"\")` in slovar, ki ga funkcija vrne kot rezultat, shrani v datoteko authors.json. Kot je očitno iz končnice, mora biti datoteka zapisana v obliki json.\n",
    "\n",
    "    Testi ne bodo preverjali, da ne pišeš datoteke, če že obstaja. Tvoj problem, če bo program brez potrebe počasen.\n",
    "\n",
    "\tVse naslednje funkcije. ki potrebujejo podatke o avtorjih, naj nalagajo to datoteko, namesto da brskajo po HTML-jih. Na ta način se bodo izvajale precej hitreje.\n",
    "\n",
    "\t**Koristne funkcije:**\n",
    "\n",
    "\t- modul `json`; glej zapiske.\n",
    "\n",
    "#### Rešitev\n",
    "\n",
    "Dodati moramo torej\n",
    "\n",
    "```python\n",
    "if not os.path.exists(\"authors.json\"):\n",
    "    open(\"authors.json\", \"w\").write(json.dumps(zberi_podatke(\"\")))\n",
    "```"
   ]
  },
  {
   "cell_type": "markdown",
   "id": "ce254ae7",
   "metadata": {},
   "source": [
    "## Ocena 8\n",
    "\n",
    "**Pazi: Ta in nadaljnje funkcije predpostavljajo, da bereš podatke iz jsona. Pri tem se tere spremenijo v sezname, zato bodo testi pričakovali, četverko s podatki o avtorjih kot sezname in ne terke. Pretvarjanje bi bilo možno, vendar nima smisla, da si zapletamo življenje.**\n",
    "\n",
    "- Funkcija `v_obdobju(rojen, umrl, zacetek, konec)` vrne `True`, če je oseba, ki je živela med leti `rojen` in `umrl`, vsaj del življenja živela znotraj obdobja med `zacetek` in `konec`.\n",
    "\n",
    "\tPesnik, rojen v 1800 in umrl v 1848, je živel, na primer v obdobjih 1800-1900, 1750-1810, 1848-1552, ne pa v obdobju 1850-1900 ali 1750-1799.\n",
    "\n",
    "\tEna izmed letnic, `rojen` ali `umrl`, je lahko tudi `None`. V tem primeru preveri le, ali se letnica, ki je znana, nahaja znotraj odbobja. (Tudi za osebo, ki je umrla 1551, ne bomo trdili, da je živela v 1500-1550, čeprav najbrž je, sicer je ne bi bilo na seznamu.)\n",
    "\n",
    "\tPredpostaviti smeš, da ne gre za P. D. Q. Bacha in je letnica rojstva manjša ali enaka letnici smrti. Letnica začetka obdobja je manjša ali enaka letnici konca.\n",
    "\n",
    "\tDa te odvrnemo od zank in drugih nepotrebnih komplikacij, na primer `range`, pa so letnice lahko tudi izjemno velike, na primer 10^22 in niso nujno cela števila.\n",
    "\t\n",
    "\t**Koristne funkcije**\n",
    "\t\n",
    "\t- Operator `<=` (pa še kakšen `is`, `not`, `and` in `or`) bo pametnemu povsem zadoščal. :)\n",
    "\n",
    "    \n",
    "#### Rešitev\n",
    "\n",
    "Tule si je potrebno malo risati ali pa vsaj mahati po zraku. En razmislek je tak: intervala A in B se sekata, če je začetek A znotraj B ali pa začetek B znotraj A. Se pravi, pisatelj je živel v določenem obdobju, če je bil rojen znotraj njega ali pa se je obdobje začelo, ko je bil pisatelj živ. Razmislite, da to dejansko pokrije situacije, ko je pisatelj rojen prej in živel v obdobje, ali pa rojen med in živel po njem, ali pa je bilo znotraj obdobja celo njegovo življenje ali pa je bilo celo obdobje znotraj njegovega življenja. Če bi sestavili pogoj tako, da bi moral biti pisatelj znotraj obdobja bodisi rojen bodisi umrjen, potem France Prešeren (1800-1849) ne bi živel v letih 1820-1830.\n",
    "\n",
    "Poleg tega se moramo poigrati še s primeri, ko ne poznamo bodisi letnice rojstva bodisi letnice smrti (vsaj ena pa je vedno znana).\n",
    "\n",
    "Ena od možnih rešitev je torej"
   ]
  },
  {
   "cell_type": "code",
   "execution_count": 5,
   "id": "6178c404",
   "metadata": {},
   "outputs": [],
   "source": [
    "def v_obdobju(rojen, umrl, zacetek, konec):\n",
    "    if rojen is None:\n",
    "        return zacetek <= umrl <= konec\n",
    "    if umrl is None:\n",
    "        return zacetek <= rojen <= konec\n",
    "    return zacetek <= rojen <= konec or rojen <= zacetek <= umrl"
   ]
  },
  {
   "cell_type": "markdown",
   "id": "39250c39",
   "metadata": {},
   "source": [
    "### `avtorji_v_obdobju(zacetek, konec)`\n",
    "\n",
    "- Funkcija `avtorji_v_obdobju(zacetek, konec)` vrne seznam vseh avtorjev, ki so živeli v podanem obdobju. Vsak avtor je opisan s četverko, kot so shranjene v authors.json. Za avtorja se šteje, da je živel v podanem obdobju, če tako pravi prejšnja funkcija.\n",
    "\n",
    "\tSeznam naj bo urejen po priimkih, med tistimi z enakim priimkom pa po ostalih elementih imena.\n",
    "\n",
    "\tKlic `avtorji_v_obdobju(1310, 1311)` vrne\n",
    "\n",
    "\t```\n",
    "\t[['Amir Khusraw Dihlavi', [], 1253, 1325],\n",
    "     ['Bury', ['Richard de'], 1287, 1345],\n",
    "     ['Dante Alighieri', [], 1265, 1321],\n",
    "     ['Gao', ['Ming'], 1306, 1359],\n",
    "     ['Joinville', ['Jean', 'sire de'], 1224, 1317],\n",
    "     ['Juan Manuel', ['Infante of Castile'], 1282, 1347],\n",
    "     ['Liu', ['Ji'], 1311, 1375],\n",
    "     ['Llull', ['Ramon'], 1232, 1316],\n",
    "     ['Ma', ['Zhiyuan'], 1250, 1324],\n",
    "     ['Petrarca', ['Francesco'], 1304, 1374],\n",
    "     ['Polo', ['Marco'], 1254, 1324],\n",
    "     ['Rolle', ['Richard', 'of Hampole'], 1290, 1349],\n",
    "     ['Ruiz', ['Juan'], 1283, 1350],\n",
    "     ['Ruusbroec', ['Jan van'], 1293, 1381],\n",
    "     ['Shi', [\"Nai'an\"], 1290, 1365],\n",
    "     ['Wang', ['Mian'], 1287, 1359],\n",
    "     ['Wang', ['Shifu'], 1260, 1316],\n",
    "     ['Zhu', ['Mingshi'], 1260, 1340]]\n",
    "\t```\n",
    "\n",
    "    **Koristne funkcije:**\n",
    "\n",
    "\t- Za urejenja bo dovolj poklicati `sorted` na končnem seznamu, brez posebnih ceremonij. Ta bo urejal po prvem elementu in potem po ostalih.\n",
    "\n",
    "\n",
    "#### Rešitev\n",
    "\n",
    "Tale je precej rutinska: zanka prek vseh vrednosti v slovarju, ki ga naložimo iz `authors.json`. Te vrednosti so seznamu, torej naredimo še zanko prek seznama. Tako dobimo četvorke (priimek, imena, rojstvo, smrt). Če je pisatelj živel v podanem odbobju, ga dodamo. Na koncu vrnemo urejen seznam."
   ]
  },
  {
   "cell_type": "code",
   "execution_count": 6,
   "id": "0fb54e57",
   "metadata": {},
   "outputs": [],
   "source": [
    "def avtorji_v_obdobju(zacetek, konec):\n",
    "    avtorji = json.loads(open(\"authors.json\").read())\n",
    "    v_obd = []\n",
    "    for avtorjii in avtorji.values():\n",
    "        for avtor in avtorjii:\n",
    "            rojen, umrl = avtor[2:]\n",
    "            if v_obdobju(rojen, umrl, zacetek, konec):\n",
    "                v_obd.append(avtor)\n",
    "    return sorted(v_obd)"
   ]
  },
  {
   "cell_type": "markdown",
   "id": "85ee4604",
   "metadata": {},
   "source": [
    "Takole pa gre krajše."
   ]
  },
  {
   "cell_type": "code",
   "execution_count": 7,
   "id": "7893a99e",
   "metadata": {},
   "outputs": [],
   "source": [
    "def avtorji_v_obdobju(zacetek, konec):\n",
    "    avtorji = json.loads(open(\"authors.json\").read())\n",
    "    return sorted(avtor\n",
    "                  for avtorjii in avtorji.values()\n",
    "                  for avtor in avtorjii\n",
    "                  if v_obdobju(*avtor[2:], zacetek, konec))"
   ]
  },
  {
   "cell_type": "markdown",
   "id": "89dc3fd1",
   "metadata": {},
   "source": [
    "### `razpon()`\n",
    "\n",
    "- Funkcija `razpon()` vrne par števil z najzgodnejšo letnico rojstva in najkasnejšo letnico smrti v podatkih.\n",
    "\n",
    "\tFunkcija mora vrniti `(-1810, 2023)`. Vendar ne goljufaj in to dejansko izračunaj.\n",
    "\n",
    "\t(Kateri pisatelj je bil rojen leta -1810? Le poteši si radovednost. Ni napaka. Je zanimivo.)\n",
    "    \n",
    "#### Rešitev\n",
    "\n",
    "Ta funkcija je bila malo za oddih."
   ]
  },
  {
   "cell_type": "code",
   "execution_count": 8,
   "id": "a346203e",
   "metadata": {},
   "outputs": [],
   "source": [
    "def razpon():\n",
    "    avtorji = json.loads(open(\"authors.json\").read())\n",
    "    najm = najv = 0\n",
    "    for avtorjii in avtorji.values():\n",
    "        for _, _, rojen, umrl in avtorjii:\n",
    "            if rojen is not None and rojen < najm:\n",
    "                najm = rojen\n",
    "            if umrl is not None and umrl > najv:\n",
    "                najv = umrl\n",
    "    return najm, najv"
   ]
  },
  {
   "cell_type": "markdown",
   "id": "93bb6673",
   "metadata": {},
   "source": [
    "Ali, krajše:"
   ]
  },
  {
   "cell_type": "code",
   "execution_count": 9,
   "id": "3b6a05a2",
   "metadata": {},
   "outputs": [],
   "source": [
    "def razpon():\n",
    "    avtorji = json.loads(open(\"authors.json\").read())\n",
    "    return (min(rojen for avt in avtorji.values() for *_, rojen, _ in avt if rojen is not None),\n",
    "            max(umrl for avt in avtorji.values() for *_, _, umrl in avt if umrl is not None))"
   ]
  },
  {
   "cell_type": "markdown",
   "id": "6d6d7d91",
   "metadata": {},
   "source": [
    "### `pokritost(zacetek, konec)`\n",
    "\n",
    "- Funkcija `pokritost(zacetek, konec)` vrne seznam, ki vsebuje toliko števil, kolikor je let med `zacetek` in (vključno) `konec`. Element z indeksom `i` pove, koliko avtorjev v bazi je bilo živih v letu `zacetek + i`. Upoštevaj le pisatelje z znanima letnicama rojstva in smrti.\n",
    "\n",
    "#### Rešitev\n",
    "\n",
    "Tudi tole ni znanost."
   ]
  },
  {
   "cell_type": "code",
   "execution_count": 10,
   "id": "58254796",
   "metadata": {},
   "outputs": [],
   "source": [
    "def pokritost(zacetek, konec):\n",
    "    avtorjev = [0] * (konec - zacetek + 1)\n",
    "    avtorji = json.loads(open(\"authors.json\").read())\n",
    "    for avt in avtorji.values():\n",
    "        for _, _, rojen, umrl in avt:\n",
    "            if rojen is not None and umrl is not None:\n",
    "                for x in range(max(rojen, zacetek), min(umrl, konec) + 1):\n",
    "                    avtorjev[x - zacetek] += 1\n",
    "    return avtorjev"
   ]
  },
  {
   "cell_type": "markdown",
   "id": "a52f3fd7",
   "metadata": {},
   "source": [
    "V začetku si pripravimo seznam ničel, ki je dolg toliko, kolikor je let med `zacetek` in `konec` (vključno s koncem, zato `+ 1`). Potem gremo spet lepo prek avtorjev in če je za nekoga znano kdaj je rojen in kdaj je umrl, povečamo ustrezne letnice za `1`. Da ne pademo ven iz intervala, ki nas zanima, začnemo pri `max(rojen, zacetek)`: tako bomo, če je bil rojen pred začetkom intervala, začeli šteti šele na začetku intervala. Podobno je s koncem.\n",
    "\n",
    "Nikjer nismo preverili, ali je avtor v resnici živel v tem obdobju. Ni treba. Če je bil rojen, recimo, po njem, bo `max(rojen, zacetek)` enak `rojen` in to bo več kot `min(umrl, konec)`. Če je \"spodnja\" meja višja od \"zgornje\", `range` pač ne naredi ničesar in zanka se ne izvede."
   ]
  },
  {
   "cell_type": "markdown",
   "id": "f2c41b06",
   "metadata": {},
   "source": [
    "Pokritost se da izračunati tudi hitreje: namesto, da bi preštevali, tako kot zgoraj, si v neko začasno tabelo beležimo le, koliko avtorjev je bilo v nekem letu rojenih (`+ 1`) in koliko jih je umrlo (`- 1`). Z drugimi besedami, izvemo, za koliko se je v določenem letu spremenilo število avtorjev. Potem je potrebno to le sešteti; k temu prištejemo število avtorjev, ki so bili živi v začetku."
   ]
  },
  {
   "cell_type": "code",
   "execution_count": 11,
   "id": "d8c5cf82",
   "metadata": {},
   "outputs": [],
   "source": [
    "def pokritost(zacetek, konec):\n",
    "    spremembe = defaultdict(int)\n",
    "    avtorji = json.loads(open(\"authors.json\").read())\n",
    "    for avt in avtorji.values():\n",
    "        for *_, rojen, umrl in avt:\n",
    "            if rojen is not None and umrl is not None:\n",
    "                spremembe[rojen] += 1\n",
    "                spremembe[umrl + 1] -= 1\n",
    "    avtorjev = [sum(spremembe[x] for x in range(min(spremembe), zacetek + 1))]\n",
    "    for x in range(zacetek + 1, konec + 1):\n",
    "        avtorjev.append(avtorjev[-1] + spremembe[x])\n",
    "    return avtorjev"
   ]
  },
  {
   "cell_type": "markdown",
   "id": "74235f8a",
   "metadata": {},
   "source": [
    "## Ocena 9\n",
    "\n",
    "\n",
    "V tej nalogi se bomo ukvarjali z deli avtorjev. Upoštevajte le pisne knjige, ne avdio zapisov - v spodnjem primeru torej le prvo delo, ne drugega.\n",
    "\n",
    "```\n",
    "<li class=\"pgdbetext\"><a href=\"/ebooks/16527\">1001 задача для умственного счета</a> (Russian) (as Author)</li>\n",
    "<li class=\"pgdbaudio\"><a href=\"/ebooks/19681\">Детство</a> (Russian) (as Author)</li>\n",
    "\n",
    "```\n",
    "\n",
    "### `razberi_delo(s)`\n",
    "\n",
    "- Funkcija `razberi_delo(s)` dobi niz, ki morda vsebuje opis dela. Če gre za opis dela, vrne njegov naslov in jezik; sicer vrne `None`.\n",
    "\n",
    "    Opis dela je oblikovan tako, da\n",
    "\t- naslovu dela\n",
    "\t- sledi presledek,\n",
    "\t- nato je v oklepajih naveden jezik; lahko vsebuje več besed (\"Old English\") ali vezaje (\"Napoletano-Calabrese\"), (**opomba:** ignorirajte jezike, kateri opis vsebuje kak drug znak kot črke, presledke in vezaje; opravičujem se v času sestavljanja naloge spregledanim govorcem jezika `\"Gaellic, Scottish\"` - ta jezik ignorirajte, ker njegov opis vsebuje vejico)\n",
    "\t- sledi presledek,\n",
    "\t- nato pa v oklepajih niz `as Author`.\n",
    "\t\n",
    "\tČe ni oklepajev z jezikom in oklepajev z `as Author`, ne gre za opis dela.\n",
    "\n",
    "\t- `razberi_delo(\"Lightships and Lighthouses (English) (as Author)\")` vrne `(\"Lightships and Lighthouses\", \"English\")`.\n",
    "\t- `razberi_delo(\"Histoire de la Litterature Anglaise (Volume 1 de 5) (French) (as Author)\")` vrne `'Histoire de la Litterature Anglaise (Volume 1 de 5)', 'French')`.\n",
    "\t- `razberi_delo(\"My Reminiscences (English) (as Translator)\")` vrne `None`.\n",
    "\n",
    "        **Opisi nekaterih del obsegajo več kot eno vrstico (torej: vsebujejo znake `\\n` ali `\\r`).** Ta dela ignoriraj. (Lepše bi bilo, če jih ne bi. Vendar bi vam bilo upoštevanje teh tako ali tako del najbrž samo otežilo nalogo, predvsem pa smo to posebnost spregledali v času pisanja testov, zato jih tudi testi ignorirajo.)\n",
    "\n",
    "\t**Uporabne funkcije**\n",
    "\n",
    "\t- `re.match`. Da bo preprosteje, izdam del izraza, ki bo ulovil jezik: `\\(([\\w\\- ]+)\\)`:\n",
    "\n",
    "        - `\\w` pomeni poljubno črko ali števko.\n",
    "\t    - `[\\w\\- ]` pomeni poljubno črko ali števko ali `-` ali presledek. Vzvratna poševnica pred `-` je potrebna, ker ima `-` znotraj `[]` sicer poseben pomen; `a-f` bi pomenil vse znake med a in f.\n",
    "\t\t- `[\\w\\- ]+` pomeni zaporedje z vsaj enim takšnim znakom.\n",
    "\t\t- `([\\w\\- ]+)`: z oklepaji označimo ta del vzorca kot skupino, tako da jo bomo lahko potem izločili z `groups`.\n",
    "\t\t- `\\(([\\w\\- ]+)\\)`: `\\(` in `\\)` pomenita oklepaj in zaklepaj; vzvratna poševnica je potrebna, ker imata `(` in `)` v regularnih sicer poseben pomen (glej gornjo vrstico).\n",
    "\n",
    "\tV podanem dokumentu bi lahko delo in jezik sicer dobili tudi na drugačen, nekoliko preprostejši način. Vendar povadimo regularne izraze. Kdor ima težave, naj prebere zapiske. Če ne bo dovolj, pa pošlje mail."
   ]
  },
  {
   "cell_type": "markdown",
   "id": "faff0dd2",
   "metadata": {},
   "source": [
    "#### Rešitev\n",
    "\n",
    "Tale funkcija je bila resno zoprna zaradi kupa izjem - na koncu koncev pa je bila čisto kratka."
   ]
  },
  {
   "cell_type": "code",
   "execution_count": 12,
   "id": "12151fd0",
   "metadata": {},
   "outputs": [],
   "source": [
    "def razberi_delo(s):\n",
    "    mo = re.match(r\"(.*) \\(([\\w\\- ]+)\\) \\(as Author\\)$\", s)\n",
    "    if not mo or \"\\n\" in s:\n",
    "        return None\n",
    "    return mo.groups()"
   ]
  },
  {
   "cell_type": "markdown",
   "id": "93edba5a",
   "metadata": {},
   "source": [
    "### `dela()`\n",
    "\n",
    "- Funkcija `dela()` vrne seznam z vsemi deli vseh avtorjev v vseh HTML-jih, ki ste jih pripravili v nalogi za oceno 6. Delo se šteje kot delo, če ga gornja funkcija prepozna kot delo.\n",
    "\n",
    "    Elementi seznama naj bodo šesterke z naslednjimi elementi\n",
    "\n",
    "\t- ime dela,\n",
    "\t- jezik,\n",
    "\t- priimek avtorja,\n",
    "\t- ostali deli imena avtorja,\n",
    "\t- leto rojstva,\n",
    "\t- leto smrti.\n",
    "\n",
    "\tPrva dva elementa sta torej takšna, kot ju vrne gornja funkcija, ostali štirje so takšni, s kakršnimi smo avtorje opisovali v prejšnjih.\n",
    "\n",
    "\tVrstni red elementov v seznamu je poljuben.\n",
    "\n",
    "    Ker se bo ta funkcija najbrž izvajala več kot 10 sekund, bodo testi prihranili tvoj čas tako, **jo bodo nehali testirati,** ko se v direktoriju pojavi datoteka works.json.\n",
    "\n",
    "\t**Koristne funkcije:**\n",
    "\t- Elementi, ki jih vrača `BeautifulSoup` imajo atribut `parent`, ki vrne očeta vozlišča.\n",
    "\t- Elementi imajo tudi metodo `find_previous_sibling(name)`, ki pregleduje prejšnje brate vozlišča in vrne prvega s podanim imenom. Če je `el` nek element, bo `el.find_previous_sibling(\"img\")` med brati elementa `el` našel najbližji prejšnji element `img`.\n",
    "\n",
    "#### Rešitev\n",
    "\n",
    "Z juho iščemo vse `li`, ki predsatvljajo dela (`pgdbetext`). Z `li.string` združimo vse, znotraj tega elementa in pokličemo `razberi_delo`. Če ta ni mnenja, da gre za delo, s `continue` nadaljujemo z naslednjim korakom zanke.\n",
    "\n",
    "Sicer poiščemo prejšnji `h2` in iz njega razberemo avtorja. Če smo pri tem uspešni, dodamo delo."
   ]
  },
  {
   "cell_type": "code",
   "execution_count": 13,
   "id": "805e2396",
   "metadata": {},
   "outputs": [],
   "source": [
    "def dela():\n",
    "    vsa_dela = []\n",
    "    for crka in string.ascii_lowercase:\n",
    "        html = open(f\"authors/{crka}.html\").read()\n",
    "        soup = BeautifulSoup(html, \"html.parser\")\n",
    "        for li in soup.find_all(\"li\", class_=\"pgdbetext\"):\n",
    "            delo = razberi_delo(\"\".join(li.strings))\n",
    "            if delo is None:\n",
    "                continue\n",
    "\n",
    "            avtor = li.parent.find_previous_sibling(\"h2\")\n",
    "            avtor = razberi_avtorja(\"\".join(avtor.strings))\n",
    "            if avtor is None:\n",
    "                continue\n",
    "            vsa_dela.append(delo + avtor)\n",
    "    return vsa_dela"
   ]
  },
  {
   "cell_type": "markdown",
   "id": "9c0fba72",
   "metadata": {},
   "source": [
    "### (nadaljevanje)\n",
    "\n",
    "- Podobno kot smo shranili avtorje, shranimo tudi dela. V program dodaj (izven funkcije!) dve, tri vrstice, ki naredijo tole: če trenutni direktorij ne vsebuje datoteke \"works.json\", pokliče funkcijo `dela()` ter seznam, ki ga funkcija vrne kot rezultat, shrani v datoteko works.json - datoteka mora biti očitno v obliki json.\n",
    "\n",
    "#### Rešitev\n",
    "\n",
    "```python\n",
    "if not os.path.exists(\"works.json\"):\n",
    "    open(\"works.json\", \"w\").write(json.dumps(dela()))\n",
    "```"
   ]
  },
  {
   "cell_type": "markdown",
   "id": "a22de255",
   "metadata": {},
   "source": [
    "### `dela_po_jezikih()`\n",
    "\n",
    "- Funkcija `dela_po_jezikih()` vrne slovar, katerega ključi so vsi jeziki, v katerih so napisana dela avtorjev, pripadajoče vrednosti pa število del v tem jeziku.\n",
    "\n",
    "#### Rešitev\n",
    "\n",
    "Tole je bilo malo za počitek. :)"
   ]
  },
  {
   "cell_type": "code",
   "execution_count": 14,
   "id": "4711ee72",
   "metadata": {},
   "outputs": [],
   "source": [
    "def dela_po_jezikih():\n",
    "    dela = json.loads(open(\"works.json\").read())\n",
    "    jeziki = defaultdict(int)\n",
    "    for _, jezik, *_ in dela:\n",
    "        jeziki[jezik] += 1\n",
    "    return jeziki"
   ]
  },
  {
   "cell_type": "markdown",
   "id": "4d0e0e0e",
   "metadata": {},
   "source": [
    "Zanimiva je zanka `for`: `_` pobere prvi element (ki na ne zanima), in `*_` pobere vse elemente od tretjega naprej (ki nas prav tako ne zanimajo)."
   ]
  },
  {
   "cell_type": "markdown",
   "id": "fd1abefb",
   "metadata": {},
   "source": [
    "## Ocena 10\n",
    "\n",
    "Čestitam, prišli ste do nalog z oceno 10. Za vzpodbudo jih ni veliko in niso težke. Z malo spretnosti bo vsaka vsebovala le eno vrstico in potem (mogoče malo daljši, a ne zapleten) `return`.\n",
    "\n",
    "### `preveri_delo(delo, avtor=None, naslov=None, jezik=None, leto=None)`\n",
    "\n",
    "\n",
    "- Funkcijo `preveri_delo` definiraj s takimi argumenti: `preveri_delo(delo, avtor=None, naslov=None, jezik=None, leto=None)`. Poklicati jo bo možno z, recimo `preveri_delo(delo, jezik=\"English\", leto=1950)`.\n",
    "\n",
    "    Funkcija prejme opis posameznega dela v obliki šesterke, kakršne smo sestavljali v funkciji `dela()` ter ime (ali del imena) avtorja, ime (ali del imena) dela, jezik dela ali leto. Katerikoli argument (razen prvega) je lahko tudi `None`; če je tako, ga ne upoštevamo. Funkcija vrne `True`, če velja vse naslednje.\n",
    "\n",
    "\t- Ime avtorja vsebuje podani niz `avtor`. Ime avtorja predtem obdelamo tako, da postavimo imena na začetek in jih združimo s presledki, priimek pa damo na konec. Tako iz `\"Dostojevski\", [\"Fjodor\", \"Mihajlovič\"]` nastane `\"Fjodor Mihajlovič Dostojevski\"`; funkcija vrne `True`, če je `avtor`, na primer `\"Dostojevski\"`, `\"Mihaj\"` ali tudi `\"ovič Dos\"`.\n",
    "\n",
    "\t- Ime dela vsebuje podani podniz `naslov`. `naslov` `\"čin in kaz\"`, se ujema z `\"Zločin in kazen\"`.\n",
    "\n",
    "\t- Delo je napisano v zahtevanem jeziku.\n",
    "\n",
    "\t- Avtor je bil živ v podanem letu `leto`.\n",
    "\n",
    "\tTiste dele poizvedbe, ki so `None`, ignoriramo. Če je, recimo, podan le avtor in jezik, funkcija preveri le, ali gre za delo podanega avtorja v podanem jeziku, naslov dela in leto pa ignorira.\n",
    "\n",
    "\tKadar je podan argument `leto`, vendar za avtorja ni znano leto rojstva ali smrti, funkcija vrne `False`. (Da si ne zapletamo življenja, vrnemo `False` tudi, če je, recimo, leto rojstva neznano, leto smrti pa sicer morda ravno enako iskanemu letu.)\n",
    "\n",
    "#### Rešitev\n",
    "\n",
    "Nalogi za oceno 10 sta bili res preprosti. Njun namen je bil predvsem, da si pokažemo, kako koristne stvari smo zmožni narediti."
   ]
  },
  {
   "cell_type": "code",
   "execution_count": 15,
   "id": "4c89e258",
   "metadata": {},
   "outputs": [],
   "source": [
    "def preveri_delo(delo, avtor=None, naslov=None, jezik=None, leto=None):\n",
    "    pnaslov, pjezik, ppriimek, pimena, projen, pumrl = delo\n",
    "    return ((avtor is None or avtor in \" \".join(pimena) + \" \" + ppriimek)\n",
    "            and (naslov is None or naslov in pnaslov)\n",
    "            and (jezik is None or jezik == pjezik)\n",
    "            and (leto is None or projen is not None and pumrl is not None and projen <= leto <= pumrl))"
   ]
  },
  {
   "cell_type": "markdown",
   "id": "644293c3",
   "metadata": {},
   "source": [
    "### `poisci(avtor=None, naslov=None, jezik=None, leto=None)`\n",
    "\n",
    "- Napiši funkcijo `poisci(avtor=None, naslov=None, jezik=None, leto=None)`, ki vrne seznam vseh del, ki ustrezajo podanim kriterijem.\n",
    "\n",
    "\t**Koristne funkcije:**\n",
    "\n",
    "\t- `preveri_delo` :)\n",
    "    \n",
    "#### Rešitev\n",
    "\n",
    "Tole bomo naredili z izpeljanim seznamom. Karkoli drugega bi bil greh, posebej za oceno 10."
   ]
  },
  {
   "cell_type": "code",
   "execution_count": 16,
   "id": "981e3338",
   "metadata": {},
   "outputs": [],
   "source": [
    "def poisci(avtor=None, naslov=None, jezik=None, leto=None):\n",
    "    dela = json.loads(open(\"works.json\").read())\n",
    "    return [opis for opis in dela if preveri_delo(opis, avtor, naslov, jezik, leto)]"
   ]
  }
 ],
 "metadata": {
  "kernelspec": {
   "display_name": "Python 3 (ipykernel)",
   "language": "python",
   "name": "python3"
  },
  "language_info": {
   "codemirror_mode": {
    "name": "ipython",
    "version": 3
   },
   "file_extension": ".py",
   "mimetype": "text/x-python",
   "name": "python",
   "nbconvert_exporter": "python",
   "pygments_lexer": "ipython3",
   "version": "3.11.5"
  }
 },
 "nbformat": 4,
 "nbformat_minor": 5
}
