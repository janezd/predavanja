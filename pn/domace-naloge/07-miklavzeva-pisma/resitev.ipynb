{
 "cells": [
  {
   "cell_type": "markdown",
   "id": "0338b4b8",
   "metadata": {},
   "source": [
    "# Miklavževa pisma\n",
    "\n",
    "Prišel je čas, da pomagamo Miklavžu.\n",
    "\n",
    "Nalogi so priloženi podatki. Programiraj tako, da se bodo nahajali v podimeniku \"podatki\" imenika, v katerem je tvoj program. Če je tvoj program v imeniku /Users/benjamin/programiranje/naloga, morajo biti podatki v /Users/benjamin/programiranje/naloga/podatki. (Pisma, recimo, bodo v /Users/benjamin/programiranje/naloga/podatki/pisma).\n",
    "\n",
    "**Pri reševanju ne smeš predpostaviti, kako je ime otrokom, ponudnikom, darilom. Z drugimi besedami, v tvojem programu se ne sme pojaviti nobeno ime otroka, nobeno ime ponudnika, nobeno konkretno darilo. Program mora biti uporaben tudi prihodnje leto, ko bo Miklavž obdaroval druge otroke z drugimi darili drugih dobaviteljev.**\n",
    "\n",
    "## Za oceno 6\n",
    "\n",
    "V delu za oceno 6 bomo pripravili funkcije, s katerimi bomo kasneje lahko razbirali sopomenke (oziroma, predvsem različne oblike besed), ki pomenijo isto darilo.\n",
    "\n",
    "### `sopomenke_besede`\n",
    "\n",
    "- `sopomenke_besede(s)` prejme niz s z različnimi oblikami neke besede. Oblike so ločene s presledki, \"osnovna\" beseda je označena z zvezdico. Funkcija mora vrniti par (terko), ki vsebuje \"osnovno besedo\" in množico vseh besed (vključno z osnovno). Klic `sopomenke_besede(\"sladkarije bombončki *bomboni liziko\")` vrne `(\"bomboni\", {\"sladkarije\", \"bombončki\", \"bomboni\", \"liziko\"})`.\n",
    "\n",
    "#### Rešitev\n",
    "\n",
    "Gremo čez niz, ki ga razdelimo na besede. V množico shranjujemo besede, od katerih od-`strip`-amo morebitno začetno zvezdico. Ko naletimo na besedo z zvezdico, si jo zapomnimo še kot glаvno besedo. Na koncu vrnemo glavno besedo in množico."
   ]
  },
  {
   "cell_type": "code",
   "execution_count": 1,
   "id": "f4fcca02",
   "metadata": {},
   "outputs": [],
   "source": [
    "def sopomenke_besede(s):\n",
    "    besede = set()\n",
    "    for beseda in s.split():\n",
    "        besede.add(beseda.strip(\"*\"))\n",
    "        if beseda[0] == \"*\":\n",
    "            glavna = beseda[1:]\n",
    "    return glavna, besede"
   ]
  },
  {
   "cell_type": "code",
   "execution_count": 2,
   "id": "242b2f95",
   "metadata": {},
   "outputs": [
    {
     "data": {
      "text/plain": [
       "('bomboni', {'bomboni', 'bombončki', 'liziko', 'sladkarije'})"
      ]
     },
     "execution_count": 2,
     "metadata": {},
     "output_type": "execute_result"
    }
   ],
   "source": [
    "sopomenke_besede(\"sladkarije bombončki *bomboni liziko\")"
   ]
  },
  {
   "cell_type": "markdown",
   "id": "8a78ae75",
   "metadata": {},
   "source": [
    "### `preberi_sopomenke`\n",
    "\n",
    "- `preberi_sopomenke()` prebere \"sopomenke\" iz datoteke podatki/sopomenke.txt. Vrniti mora slovar, katerega ključi so vse besede, ki se pojavijo v datoteki, pripadajoče vrednosti pa \"osnovne oblike\" te besede. Če bi bila datoteka videti tako\n",
    "\n",
    "    ```\n",
    "\tsladkarije bombončki *bomboni\n",
    "\t*zemljevid\n",
    "\t*vlak *vlakec\n",
    "\t```\n",
    "\n",
    "\tbi funkcija vrnila\n",
    "\t\n",
    "\t```\n",
    "\t{\"sladkarije\": \"bomboni\", \"bombončki\": \"bomboni\", \"bomboni\": \"bomboni\",\n",
    "\t \"zemljevid\": \"zemljevid\", \"vlak\": \"vlak\", \"vlakec\": \"vlak\"}\n",
    "\t```\n",
    "    \n",
    "#### Rešitev\n",
    "\n",
    "Beremo datoteko, za vsako vrstico pokličemo prejšnjo funkcijo `sopomenke_besede` in v slovar kot ključe dodajamo besede iz množice, kot pripadajočo vrednost pa glavno besedo."
   ]
  },
  {
   "cell_type": "code",
   "execution_count": 3,
   "id": "84004343",
   "metadata": {},
   "outputs": [],
   "source": [
    "def preberi_sopomenke():\n",
    "    slovar = {}\n",
    "    for vrstica in open(\"podatki/sopomenke.txt\", encoding=\"utf-8\"):\n",
    "        glavna, druge = sopomenke_besede(vrstica.strip())\n",
    "        for beseda in druge:\n",
    "            slovar[beseda] = glavna\n",
    "    return slovar"
   ]
  },
  {
   "cell_type": "code",
   "execution_count": 4,
   "id": "310b2f1b",
   "metadata": {},
   "outputs": [
    {
     "data": {
      "text/plain": [
       "'vlak'"
      ]
     },
     "execution_count": 4,
     "metadata": {},
     "output_type": "execute_result"
    }
   ],
   "source": [
    "sopomenke = preberi_sopomenke()\n",
    "\n",
    "sopomenke[\"vlakec\"]"
   ]
  },
  {
   "cell_type": "markdown",
   "id": "913dc53f",
   "metadata": {},
   "source": [
    "Notranji zanki se lahko izognemo z dvema metodama slovarjev, ki smo ju na predavanjih komajda omenili, če sploh.\n",
    "\n",
    "Prva je `fromkeys`, ki sestavi slovar s podanimi ključi in določeno vrednostjo (če je ne podamo, pa bodo vrednosti `None`). `fromkeys` ni običajna metoda, saj ne pripada posamičnemu slovarju, kot recimo `get` ali `setdefault`, temveč razredu. (Uradno: `fromkeys` je `classmethod`.)"
   ]
  },
  {
   "cell_type": "code",
   "execution_count": 5,
   "id": "ea3a17fc",
   "metadata": {},
   "outputs": [
    {
     "data": {
      "text/plain": [
       "{'Ana': 42, 'Berta': 42, 'Cilka': 42}"
      ]
     },
     "execution_count": 5,
     "metadata": {},
     "output_type": "execute_result"
    }
   ],
   "source": [
    "imena = [\"Ana\", \"Berta\", \"Cilka\"]\n",
    "\n",
    "dict.fromkeys(imena, 42)"
   ]
  },
  {
   "cell_type": "markdown",
   "id": "09454eb0",
   "metadata": {},
   "source": [
    "Druga malo omenjena metoda je `update`. Če sta `d` in `e` neka slovarja, bo `d.update(e)` v slovar `d` prepisal vse, kar je v slovarju `e`.\n",
    "\n",
    "S tema metodama lahko skrajšamo funkcijo v"
   ]
  },
  {
   "cell_type": "code",
   "execution_count": 6,
   "id": "efb34d31",
   "metadata": {},
   "outputs": [],
   "source": [
    "def preberi_sopomenke():\n",
    "    slovar = {}\n",
    "    for vrstica in open(\"podatki/sopomenke.txt\", encoding=\"utf-8\"):\n",
    "        glavna, druge = sopomenke_besede(vrstica.strip())\n",
    "        slovar.update(dict.fromkeys(druge, glavna))\n",
    "    return slovar"
   ]
  },
  {
   "cell_type": "markdown",
   "id": "dd9b8c8b",
   "metadata": {},
   "source": [
    "- Ko napišeš drugo funkcijo, dodaj v program vrstico `sopomenke = preberi_sopomenke()\n",
    "` (postavi jo pod to funkcijo in na začetek vrstice). Slovar sopomenk se nikoli ne spreminja, torej ni nič narobe, če si poenostavimo delo tako, da ga uporabljamo kar kot *globalno spremenljivko*.\n",
    "\n",
    "- Napiši funkcijo `prevod_besede(beseda)`, ki prejme besedo in vrne njeno \"osnovno obliko\". Če besede ni v slovarju sopomenk, pa naj funkcija vrne `None`. Klic `prevod_besede(\"vlakec\")` vrne `\"vlak\"`. Klic `prevod_besede(\"vlak\")` prav tako vrne `\"vlak\"`. Klic `prevod_besede(\"avtobus\")` vrne `None`, ker te besede ni v slovarju.\n",
    "\n",
    "    V funkciji lahko uporabiš spremenljivko `sopomenke` (da ne boš stalno klical branja sopomenk).\n",
    "    \n",
    "#### Rešitev\n",
    "\n",
    "Lahko bi napisali"
   ]
  },
  {
   "cell_type": "code",
   "execution_count": 7,
   "id": "c5a26223",
   "metadata": {},
   "outputs": [],
   "source": [
    "def prevod_besede(beseda):\n",
    "    beseda = beseda.lower()\n",
    "    if beseda in sopomenke:\n",
    "        return sopomenke[beseda]\n",
    "    else:\n",
    "        return None"
   ]
  },
  {
   "cell_type": "markdown",
   "id": "82821235",
   "metadata": {},
   "source": [
    "Lahko pa bi se spomnili, da natančno to - če ključ obstaja, vrne pripadajočo vrednost, sicer pa `None` - naredi metoda `get."
   ]
  },
  {
   "cell_type": "code",
   "execution_count": 8,
   "id": "8b14b4c5",
   "metadata": {},
   "outputs": [],
   "source": [
    "def prevod_besede(beseda):\n",
    "    return sopomenke.get(beseda.lower())"
   ]
  },
  {
   "cell_type": "markdown",
   "id": "f189440f",
   "metadata": {},
   "source": [
    "## Za oceno 7\n",
    "\n",
    "V nalogah za oceno 7 bomo brali pisma Miklavžu. Nahajajo se v imeniku podatki/pisma in so videti, na primer, tako\n",
    "\n",
    "```\n",
    "Dragi Miklavž,\n",
    "\n",
    "Pozdravljen! Kako kaj? Jaz sem v redu. Letos sem bila pridna (vsaj večino časa).\n",
    "Prosim, prosim, prinesi mi kakšno knjigo, ki jo lahko prebiram pred spanjem. In\n",
    "če lahko, dodaj še mehkega plišastega medvedka, da bova lahko skupaj brala.\n",
    "Obljubljam, da bom vedno pospravljala svojo sobo.\n",
    "\n",
    "Lepo se imej,\n",
    "Ema\n",
    "```\n",
    "\n",
    "Opomba: večino pisem mi je prijazno sestavil chatGPT. :))))\n",
    "\n",
    "\n",
    "### `poenostavi_besedilo`\n",
    "\n",
    "- `poenostavi_besedilo(s)` prejme niz. Vrniti mora niz, ki je enak podanemu, vendar vsebuje le črke, presledke in znake za novo vrstico. Poleg tega spremeni vse črke v male črke. Klic `poenostavi_besedilo(\"Dragi Miklavž,\\n\\npišem ti (kot vsako leto): lep božič!\")` vrne `\"dragi miklavž\\n\\npišem ti kot vsako leto lep božič\"`.\n",
    "\n",
    "#### Rešitev\n",
    "\n",
    "Nekateri so to reševali z neskončno verigo `replace`, s katerimi so zamenjevali vse, na kar so naleteli v kakem pismu. `s.replace(\".\", \"\").replace(\",\", \"\").replace(\"-\", \"\").replace(\"(\", \"\")`... in tako naprej. To ni preveč varna ideja. Bogve, kakšne znake bodo otroci še dopisali. Boljše je obdržati, kar želimo obdržati - pa čeprav bo takšna rešitev malo daljša. "
   ]
  },
  {
   "cell_type": "code",
   "execution_count": 9,
   "id": "8dc66c30",
   "metadata": {},
   "outputs": [],
   "source": [
    "def poenostavi_besedilo(s):\n",
    "    t = \"\"\n",
    "    for c in s.lower():\n",
    "        if c.isalpha() or c in \" \\n\\t\":\n",
    "            t += c\n",
    "    return t"
   ]
  },
  {
   "cell_type": "code",
   "execution_count": 10,
   "id": "02c9e4a6",
   "metadata": {},
   "outputs": [
    {
     "data": {
      "text/plain": [
       "'dragi miklavž\\n\\npišem ti kot vsako leto lep božič'"
      ]
     },
     "execution_count": 10,
     "metadata": {},
     "output_type": "execute_result"
    }
   ],
   "source": [
    "poenostavi_besedilo(\n",
    "    \"Dragi Miklavž,\\n\\npišem ti (kot vsako leto): lep božič!\")"
   ]
  },
  {
   "cell_type": "markdown",
   "id": "b28f207d",
   "metadata": {},
   "source": [
    "V resničnem svetu se to rešuje z regularnimi izrazi. Če boste pridni, vam jih bom nekoč razložil."
   ]
  },
  {
   "cell_type": "code",
   "execution_count": 11,
   "id": "71d2e236",
   "metadata": {},
   "outputs": [],
   "source": [
    "import re\n",
    "\n",
    "def poenostavi_besedilo(s):\n",
    "    return re.sub(\"[^\\w\\s]\", \"\", s.lower())"
   ]
  },
  {
   "cell_type": "markdown",
   "id": "f2f6add4",
   "metadata": {},
   "source": [
    "### `izlusci_avtorja`\n",
    "\n",
    "- `izlusci_avtorja(ime_dat)` prejme ime datoteke s pismom in vrne ime njenega avtorja. Ime je tisto, kar je zapisano v zadnji neprazni vrstici. Avtor gornjega pisma je očitno Ema.\n",
    "\n",
    "#### Rešitev\n",
    "\n",
    "Beremo vrstice in si jih zapomnimo - če niso prazne. Na koncu vrnemo zadnjo zapomnjeno vrstico."
   ]
  },
  {
   "cell_type": "code",
   "execution_count": 12,
   "id": "81b67231",
   "metadata": {},
   "outputs": [],
   "source": [
    "def izlusci_avtorja(ime_dat):\n",
    "    for vrstica in open(ime_dat):\n",
    "        if vrstica.strip():\n",
    "            avtor = vrstica.strip()\n",
    "    return avtor"
   ]
  },
  {
   "cell_type": "markdown",
   "id": "006cdcc3",
   "metadata": {},
   "source": [
    "Edini trik tule je, da moramo pisati `if vrstica.strip()`. Nobena vrstica datoteke ni prazna, vsaka vsebuje vsaj `\\n`. Zato je potreben `strip()`; vrstica nas zanima, če je neprazna tudi potem, ko odstranimo beli prostor (`\\n` in morebitne presledke v sicer praznih vrsticah)."
   ]
  },
  {
   "cell_type": "markdown",
   "id": "088492c8",
   "metadata": {},
   "source": [
    "### `izlusci_darila`\n",
    "\n",
    "- `izlusci_darila(ime_dat)` vrne množico vseh daril, omenjenih v pismu v datoteki s podanim imenom. Beseda predstavlja darilo, če je enaka kateri od besed, ki se pojavijo med sopomenkami; v vrnjeni množici mora biti osnovna oblika besede. Za gornje pismo vrne `{\"knjiga\", \"medvedek\"}`\n",
    "\n",
    "    Pazi: če se v besedilu pojavi beseda \"navlaka\" ali pa otrok piše, kako je videti \"gozdna vlaka\", to še ne pomeni, da bi rad vlak! Ne išči delov besed!\n",
    "\n",
    "\tProgram bo seveda nenatančen: če otrok napiše \"lani si mi prinesel piškote\", jih bo pač dobil tudi letos; če napiše \"na kolesu vedno nosim čelado\", utegne dobiti kolo in čelado.\n",
    "\n",
    "#### Rešitev\n",
    "\n",
    "Skoraj vse, kar smo programirali doslej, služi poenostavljanju te funkcije. Konkretno, vsako besedilo je potrebno poenostaviti, potem pa za vsako besedo preveriti, ali se (prek sopomenk) preslika v kako darilo. Kdor ni uporabljal doslej napisanih funkcij, je imel problem, ki si ga je nakopal čisto sam. Kdor jih je uporabljal, pa je tule napisal čisto preprosto funkcijo.\n",
    "\n",
    "Odpremo datoteko, jo z `read` preberemo v celoti, nato pokličemo `poenostavi_besedilo`, rezultat razbijemo na besede in jih zlagamo v množico."
   ]
  },
  {
   "cell_type": "code",
   "execution_count": 13,
   "id": "1363d212",
   "metadata": {},
   "outputs": [],
   "source": [
    "def izlusci_darila(ime_dat):\n",
    "    darila = set()\n",
    "    besedilo = open(ime_dat, encoding=\"utf-8\").read()\n",
    "    besedilo = poenostavi_besedilo(besedilo)\n",
    "    for beseda in besedilo.split():\n",
    "        darilo = prevod_besede(beseda)\n",
    "        if darilo:\n",
    "            darila.add(darilo)\n",
    "    return darila"
   ]
  },
  {
   "cell_type": "markdown",
   "id": "09846430",
   "metadata": {},
   "source": [
    "Bolj neučakani pa sestavijo množico prevodov vseh besed, ki jih najdejo v poenostavljenem besedilu iz datoteke prebranem (besedni red tega stavka sledi kodi :), iz katere odstranijo `None`, ki ga v to množico nvlačejo besede, ki ne predstavljajo daril."
   ]
  },
  {
   "cell_type": "code",
   "execution_count": 14,
   "id": "100fea5a",
   "metadata": {},
   "outputs": [],
   "source": [
    "def izlusci_darila(ime_dat):\n",
    "    return {\n",
    "        prevod_besede(beseda)\n",
    "        for beseda in poenostavi_besedilo(\n",
    "            open(ime_dat, encoding=\"utf-8\").read()).split()\n",
    "    } - {None}"
   ]
  },
  {
   "cell_type": "markdown",
   "id": "1bd40760",
   "metadata": {},
   "source": [
    "### `darila_po_otrocih`\n",
    "\n",
    "- `darila_po_otrocih()` ne prejme nobenih argumentov. Vrniti mora slovar, katerega ključi so avtorji pisem, pripadajoče vrednosti pa darila, ki so v pismu omenjena. Vrnjeni slovar se začne tako:\n",
    "\n",
    "    ```\n",
    "\t{'Albert': {'žoga'},\n",
    "     'Ana': {'knjiga', 'pisalo', 'zvezek'},\n",
    "     'Benjamin': {'čelada', 'kolo'},\n",
    "     'Berta': {'čokolada', 'piškoti'},\n",
    "     'Cilka': {'barvice', 'bomboni'},\n",
    "     'Dani': {'kocke', 'bomboni'},\n",
    "     'Daniela': {'knjiga', 'blazina', 'medvedek'},\n",
    "     'Dudley': {'vlak', 'zvezek', 'pero', 'čokolada', 'bomboni', 'žoga', 'knjiga', 'kolo'},\n",
    "\t ...\n",
    "\t```\n",
    "    \n",
    "#### Rešitev\n",
    "\n",
    "Gremo po datotekah v poddirektoriju \"podatki/pisma\". Iz vsake datoteke izluščimo avtorja in darila; prvo bo ključ, drugo pripadajoča vrednost."
   ]
  },
  {
   "cell_type": "code",
   "execution_count": 15,
   "id": "27a9fe87",
   "metadata": {},
   "outputs": [],
   "source": [
    "import os\n",
    "\n",
    "def darila_po_otrocih():\n",
    "    darila = {}\n",
    "    for ime_dat in os.listdir(\"podatki/pisma\"):\n",
    "        ime_dat = \"podatki/pisma/\" + ime_dat\n",
    "        darila[izlusci_avtorja(ime_dat)] = izlusci_darila(ime_dat)\n",
    "    return darila"
   ]
  },
  {
   "cell_type": "markdown",
   "id": "08f6db75",
   "metadata": {},
   "source": [
    "Glavna zafrkancija te funkcije je, da `os.listdir` vrača le imena datotek, ne pa tudi poti, ki smo jo podali `listdir`-u. Zato je potrebno to dodati. Ker bomo ime datoteke, skupaj s potjo, potrebovali na dveh mestih, kar spremenimo vrednost spremenljivke.\n",
    "\n",
    "Veliko preprosteje je, če v okviru funkcije začasno zamenjamo trenutni direktorij."
   ]
  },
  {
   "cell_type": "code",
   "execution_count": 16,
   "id": "0b915aaa",
   "metadata": {},
   "outputs": [],
   "source": [
    "def darila_po_otrocih():\n",
    "    darila = {}\n",
    "    os.chdir(\"podatki/pisma\")\n",
    "    for ime_dat in os.listdir():\n",
    "        darila[izlusci_avtorja(ime_dat)] = izlusci_darila(ime_dat)\n",
    "    os.chdir(\"../..\")\n",
    "    return darila"
   ]
  },
  {
   "cell_type": "markdown",
   "id": "867ed979",
   "metadata": {},
   "source": [
    "Pripravljaje to nalogo pa sem odkril, da ima Pythonov modul `contextlib` funkcijo, ki začasno zamenja direktorij. (Kako sem to odkril? Kako človek kar tako, slučajno odkrije takšne stvari? Preprosto, zazdelo se mi je, da se to velikokrat potrebuje in da za to morda obstaja taka in taka bližnjica, vedel pa sem tudi, kje jo iskati.)\n",
    "\n",
    "Funkcija `contextlib.chdir` vrne kontekst in uporabiti ga moramo z `with`. Kaj je to, vam najrž ne bom razlagal niti, če boste pridni. Če želite, uporabljajte kot magični urok za začasno menjavo direktorija."
   ]
  },
  {
   "cell_type": "code",
   "execution_count": 17,
   "id": "5d8850ff",
   "metadata": {},
   "outputs": [],
   "source": [
    "import contextlib\n",
    "\n",
    "def darila_po_otrocih():\n",
    "    darila = {}\n",
    "    with contextlib.chdir(\"podatki/pisma\"):\n",
    "        for ime_dat in os.listdir():\n",
    "            darila[izlusci_avtorja(ime_dat)] = izlusci_darila(ime_dat)\n",
    "    return darila"
   ]
  },
  {
   "cell_type": "markdown",
   "id": "0503f1c5",
   "metadata": {},
   "source": [
    "To potem vodi v briljantno kratko rešitev."
   ]
  },
  {
   "cell_type": "code",
   "execution_count": 18,
   "id": "bb3e44a1",
   "metadata": {},
   "outputs": [],
   "source": [
    "def darila_po_otrocih():\n",
    "    with contextlib.chdir(\"podatki/pisma\"):\n",
    "        return {izlusci_avtorja(ime_dat): izlusci_darila(ime_dat)\n",
    "                for ime_dat in os.listdir()}"
   ]
  },
  {
   "cell_type": "markdown",
   "id": "512a032b",
   "metadata": {},
   "source": [
    "Podobno jedrnati bi lahko bili tudi brez `contextlib.chdir`, le s prištevanjem poti bi se morali zafrkavati."
   ]
  },
  {
   "cell_type": "markdown",
   "id": "773f6996",
   "metadata": {},
   "source": [
    "### `zbirnik_daril`\n",
    "\n",
    "- `zbirnik_daril()` ne prejme nobenih argumentov. Vrniti mora slovar, katerega ključi so darila, vrednosti pa število \"naročenih\" kosov tega darila. Tako ključu `\"barvice\"` pripada vrednost `7`, saj si barvice želi 7 otrok.\n",
    "\n",
    "#### Rešitev\n",
    "\n",
    "Pokličemo `darila_po_otrocih`. Ker nas imena otrok ne zanimajo, gremo le čez vrednosti in seštevamo.\n",
    "\n",
    "Tu se nam splača uporabiti `collections.defaultdict(int)`. Na ta način nam ne bo treba preverjati, ali smo na določen predmet že naleteli in je ključ že v slovarju ter ga v nasprotnem primeru dodajati."
   ]
  },
  {
   "cell_type": "code",
   "execution_count": 20,
   "id": "624f19dd",
   "metadata": {},
   "outputs": [],
   "source": [
    "from collections import defaultdict\n",
    "\n",
    "def zbirnik_daril():\n",
    "    zbirnik = defaultdict(int)\n",
    "    for darila in darila_po_otrocih().values():\n",
    "        for darilo in darila:\n",
    "            zbirnik[darilo] += 1\n",
    "    return zbirnik"
   ]
  },
  {
   "cell_type": "markdown",
   "id": "cbfcef73",
   "metadata": {},
   "source": [
    "Da se naučimo še nečesa novega iz zakladnice funkcij, ki se valjajo po Pythonovi standardni knjižnici: `Counter` iz modula `collections`. `Counter` je posebna vrsta slovarja. Ko ga konstruiramo, mu lahko podamo nek seznam ali kaj takega, pa bo preštel njegove elemente: ključi bodo elementi, vrednosti pa število pojavitev."
   ]
  },
  {
   "cell_type": "code",
   "execution_count": 1,
   "id": "cd1cf2f8",
   "metadata": {},
   "outputs": [
    {
     "data": {
      "text/plain": [
       "Counter({'Ana': 3, 'Cilka': 2, 'Berta': 1})"
      ]
     },
     "execution_count": 1,
     "metadata": {},
     "output_type": "execute_result"
    }
   ],
   "source": [
    "from collections import Counter\n",
    "\n",
    "s = [\"Cilka\", \"Ana\", \"Berta\", \"Ana\", \"Ana\", \"Cilka\"]\n",
    "t = [\"Ana\", \"Dani\"]\n",
    "\n",
    "c = Counter(s)\n",
    "c"
   ]
  },
  {
   "cell_type": "markdown",
   "id": "ee0514e2",
   "metadata": {},
   "source": [
    "K že preštetim lahko dodajamo nove."
   ]
  },
  {
   "cell_type": "code",
   "execution_count": 2,
   "id": "9e9cef28",
   "metadata": {},
   "outputs": [
    {
     "data": {
      "text/plain": [
       "Counter({'Ana': 4, 'Cilka': 2, 'Berta': 1, 'Dani': 1})"
      ]
     },
     "execution_count": 2,
     "metadata": {},
     "output_type": "execute_result"
    }
   ],
   "source": [
    "c.update(t)\n",
    "c"
   ]
  },
  {
   "cell_type": "markdown",
   "id": "485af6a9",
   "metadata": {},
   "source": [
    "Če ga pokličemo brez argumentov, seveda dobimo prazen slovar. In mu potem kasneje dodajamo elemente.\n",
    "\n",
    "S `Counter` lahko rešimo nalogo tako:"
   ]
  },
  {
   "cell_type": "code",
   "execution_count": 3,
   "id": "b296ea83",
   "metadata": {},
   "outputs": [],
   "source": [
    "def zbirnik_daril():\n",
    "    vsa_darila = Counter()\n",
    "    for darila in darila_po_otrocih().values():\n",
    "        vsa_darila.update(darila)\n",
    "    return vsa_darila"
   ]
  },
  {
   "cell_type": "markdown",
   "id": "f7b806a3",
   "metadata": {},
   "source": [
    "Naloga pravi, da mora funkcija vrniti slovar. Ta vrne `Counter`. Vendar je `Counter` vrsta slovarja, torej je vse v redu. (Kaj pomeni biti \"vrsta slovarja\", pri tem predmetu ne bomo jasno definirali; za nas bodi dovolj, da se da z njim delati vse, kar se da delati s slovarjem - pa še par stvari zraven.)"
   ]
  },
  {
   "cell_type": "markdown",
   "id": "9ee95eff",
   "metadata": {},
   "source": [
    "## Ocena 8\n",
    "\n",
    "Miklavž nabavlja darila pri dolgoletnih dobaviteljih: Godler s.p., Klemenčič s.p., Lampič s.p., Pavlič s.p. in Dežman s.p. Njihovi ceniki so v podatki/dobavitelji. V kakšni obliki so, si oglej sam.\n",
    "\n",
    "### `preberi_cenik`\n",
    "\n",
    "- `preberi_cenik(ime_ponudnika)` prejme ime ponudnika, na primer \"Lampic\" (brez šumnikov, da ni komedij na MS Windows). Vrniti mora slovar, katerega ključi so vse, kar ponuja podani s.p., pripadajoče vrednosti pa cene. Klic `preberi_cenik(\"Lampic\")` vrne\n",
    "\n",
    "    ```\n",
    "\t{'avtomobilček': 15.0,\n",
    "     'barvice': 9.0,\n",
    "     'bomboni': 3.0,\n",
    "     'knjiga': 12.0,\n",
    "     'medvedek': 15.0,\n",
    "\t ... in tako naprej\n",
    "\t```\n",
    "\n",
    "#### Rešitev\n",
    "\n",
    "Tule preprosto uporabimo `cvs.reader`. Vse, kar vrača, zlagamo v slovar, ki ga na koncu vrnemo."
   ]
  },
  {
   "cell_type": "code",
   "execution_count": 21,
   "id": "8562fd16",
   "metadata": {},
   "outputs": [],
   "source": [
    "import csv\n",
    "\n",
    "def preberi_cenik(ime_ponudnika):\n",
    "    cenik = {}\n",
    "    for vrstica in csv.reader(\n",
    "            open(f\"podatki/dobavitelji/{ime_ponudnika}.txt\",\n",
    "                 encoding=\"utf-8\"),\n",
    "            delimiter=\":\"):\n",
    "        cenik[vrstica[0]] = float(vrstica[1])\n",
    "    return cenik"
   ]
  },
  {
   "cell_type": "markdown",
   "id": "214b53fa",
   "metadata": {},
   "source": [
    "Pri vseh funkciji je najbolj zanimivo, kako smo sestavili ime datoteke: ime ponudnika smo vstavili kar v f-niz.\n",
    "\n",
    "Kdor počasneje tipka, pa raje napiše samo"
   ]
  },
  {
   "cell_type": "code",
   "execution_count": 22,
   "id": "26d3b1e7",
   "metadata": {},
   "outputs": [],
   "source": [
    "def preberi_cenik(ime_ponudnika):\n",
    "    return {vrstica[0]: float(vrstica[1])\n",
    "            for vrstica in csv.reader(\n",
    "                open(f\"podatki/dobavitelji/{ime_ponudnika}.txt\",\n",
    "                     encoding=\"utf-8\"),\n",
    "                delimiter=\":\")}"
   ]
  },
  {
   "cell_type": "markdown",
   "id": "896db2c2",
   "metadata": {},
   "source": [
    "`csv.reader` je sicer praktičen vobče, pri tej nalogi pa od njega pravzaprav ni posebne koristi, saj rešitev brez njega ni prav nič bolj zapletena. Skoraj nasprotno."
   ]
  },
  {
   "cell_type": "code",
   "execution_count": null,
   "id": "5964db52",
   "metadata": {},
   "outputs": [],
   "source": [
    "def preberi_cenik(ime_ponudnika):\n",
    "    cenik = {}\n",
    "    for vrstica in open(f\"podatki/dobavitelji/{ime_ponudnika}.txt\"):\n",
    "        predmet, cena = vrstica.split(\": \")\n",
    "        cenik[predmet] = float(cena)\n",
    "    return cenik"
   ]
  },
  {
   "cell_type": "markdown",
   "id": "38201afd",
   "metadata": {},
   "source": [
    "### `ceniki`\n",
    "\n",
    "- `ceniki()` vrne slovar, katerega ključi so imena ponudnikov, vrednosti pa slovarji z njihovimi ceniki (torej tem, kar vrača prejšnja funkcija.) Za primer poglej kar v teste, funkcija `test_ceniki`.\n",
    "\n",
    "#### Rešitev\n",
    "\n",
    "To je podobno kot `darila_po_otrocih`: gremo čez datoteke direktorija in zlagamo prebrano v slovar. Ime ponudnika pa dobimo tako, da imenu datoteke odbijemo zadnje štiri znake (.txt)."
   ]
  },
  {
   "cell_type": "code",
   "execution_count": 23,
   "id": "ca9a9cf0",
   "metadata": {},
   "outputs": [],
   "source": [
    "def ceniki():\n",
    "    vsi_ceniki = {}\n",
    "    for ime_ponudnika in os.listdir(\"podatki/dobavitelji\"):\n",
    "        ime_ponudnika = ime_ponudnika[:-4]\n",
    "        vsi_ceniki[ime_ponudnika] = preberi_cenik(ime_ponudnika)\n",
    "    return vsi_ceniki"
   ]
  },
  {
   "cell_type": "markdown",
   "id": "457d80b0",
   "metadata": {},
   "source": [
    "### `najcenejsi_ponudnik`\n",
    "\n",
    "- `najcenejsi_ponudnik(ceniki, darilo)` prejme cenike v enaki obliki, kot jih vrača prejšnja funkcija in ime darila. Vrniti mora par (terko) z imenom najcenejšega podudnika in ceno. (Pravni oddelek inštitucije svetega Miklavža ima še bolj preplašene pravnike kot UL in fakultete; ker je sv. Miklavž javna oseba, jih skrbi, da morda sodi pod javno upravo in mora vedno nabavljati pri najcenejšem ponudniku, ne glede na (ne)kvaliteto.)\n",
    "\n",
    "    V primeru, da ima najcenejšo ponudbo več ponudnikov, mora vrniti tistega, ki je *kasneje* po abecedi.\n",
    "\n",
    "\tKlic `najcenejsi_ponudnik(ponudbe, \"žoga\")` vrne `(\"Dezman\", 20)`: žoge so najcenejše pri Dežmanu in sicer stanejo 20.\n",
    "\n",
    "    Klic `najcenejsi_ponudnik(ponudbe, \"medvedek\")` vrne `(\"Pavlic\", 15)`. Medvedki po enaki ceni, 15, se dobijo tudi drugod, vendar je Pavlič zadnji po abecedi.\n",
    "\n",
    "#### Rešitev\n",
    "\n",
    "Prav neumno je, da ima tako preprosta funkcija tako dolg opis. Gre za običajno funkcijo, ki išče največjo vrednost oziroma nekaj povezanega z njo (najnižjo ceno, oziroma ponudnika, ki jo ponuja)."
   ]
  },
  {
   "cell_type": "code",
   "execution_count": 24,
   "id": "200ee37f",
   "metadata": {},
   "outputs": [],
   "source": [
    "import math\n",
    "\n",
    "def najcenejsi_ponudnik(ceniki, darilo):\n",
    "    najcenejsi = None\n",
    "    najcena = math.inf\n",
    "    for ponudnik, cenik in ceniki.items():\n",
    "        if cenik.get(darilo, math.inf) < najcena \\\n",
    "                or (cenik.get(darilo) == najcena\n",
    "                    and ponudnik > najcenejsi):\n",
    "            najcena = cenik[darilo]\n",
    "            najcenejsi = ponudnik\n",
    "    return najcenejsi, najcena"
   ]
  },
  {
   "cell_type": "markdown",
   "id": "09ba8668",
   "metadata": {},
   "source": [
    "Glavni trik tu je pogoj. Kdaj je ponudnik boljši od vseh doslej? V osnovni, če je `cenik[darilo] < najcena`.\n",
    "- Vendar dotični ponudnik morda te reči sploh ne prodaja. Zato `cenik[darilo]` zamenjamo s `cenik.get(darilo, math.inf)`: če nečesa ni, se delamo, da je cena te reči neskončna.  \n",
    "- Obenem poskrbimo tudi za začetno vrednost: `naj_cena` je v začetku `math.inf`, tako da bo že prva cena (pri nekom, ki reč dejansko prodaja) manjša.\n",
    "- Zadnji del pa razrešuje primere, ko novi ponudnik ponuja enako ceno kot najcenejši doslej, `cenik.get(darilo) == najcena`. Spet uporabimo `get`, saj ponudnik te reči morda nima, `math.inf` pa niti ni več potreben. Če bo `get` vrnil `None`, to pač ne bo enako najboljši ceni doslej. Skratka, če je cena enaka najnižji, se bomo za tega ponudnika odločili, če bo pa abecedi za najugodnjšim doslej.\n",
    "\n",
    "Oklepaj v pogoju niti ni potreben, saj `and` veže močneje kot `or`. Napišemo ga zaradi preglednosti, pa tudi zato, da Python ve, da se pogoj nadaljuje v naslednji vrstici, ne da bi morali na konec vrstice pisati `\\`, tako kot smo morali narediti vrstico višje."
   ]
  },
  {
   "cell_type": "markdown",
   "id": "08518142",
   "metadata": {},
   "source": [
    "### `ponudniki_in_cene`\n",
    "\n",
    "- `ponudniki_in_cene(ceniki, darila)` je podobna prejšnji funkciji, le da prejme množico daril. Vrniti mora slovar, katerega ključi so podana darila, vrednosti pa pari, kakršne vrača prejšnja funkcija.\n",
    "\n",
    "    Klic `ponudniki_in_cene(ponudbe, {\"medvedek\", \"kolo\", \"glina\", \"žoga\"})` vrne \n",
    "\n",
    "\n",
    "\t```\n",
    "\t{'glina': ('Godler', 3.0),\n",
    "     'kolo': ('Pavlic', 210.0),\n",
    "     'medvedek': ('Pavlic', 15.0),\n",
    "     'žoga': ('Dezman', 20.0)}\n",
    "\t```\n",
    "\n",
    "\tTa funkcija nam torej pove, kje bo Miklavž dobil našteta darila in po koliko."
   ]
  },
  {
   "cell_type": "markdown",
   "id": "8aa62fd3",
   "metadata": {},
   "source": [
    "#### Rešitev\n",
    "\n",
    "Ta funkcija le pokliče prejšnjo za vsako darilo.\n",
    "\n",
    "Bodisi tako"
   ]
  },
  {
   "cell_type": "code",
   "execution_count": 25,
   "id": "b1343aae",
   "metadata": {},
   "outputs": [],
   "source": [
    "def ponudniki_in_cene(ceniki, darila):\n",
    "    pic = {}\n",
    "    for darilo in darila:\n",
    "        pic[darilo] = najcenejsi_ponudnik(ceniki, darilo)\n",
    "    return pic"
   ]
  },
  {
   "cell_type": "markdown",
   "id": "76bc2d0d",
   "metadata": {},
   "source": [
    "bodisi kar tako"
   ]
  },
  {
   "cell_type": "code",
   "execution_count": 26,
   "id": "601fd4f9",
   "metadata": {},
   "outputs": [],
   "source": [
    "def ponudniki_in_cene(ceniki, darila):\n",
    "    return {darilo: najcenejsi_ponudnik(ceniki, darilo)\n",
    "            for darilo in darila}"
   ]
  },
  {
   "cell_type": "markdown",
   "id": "29531e67",
   "metadata": {},
   "source": [
    "## Ocena 9\n",
    "\n",
    "### `vrednost_daril`\n",
    "\n",
    "- `vrednost_daril(otrok)` vrne skupno vrednost daril, ki si jih želi otrok ob predpostavki, da bomo vsako od njih kupili pri najcenejšem ponudniku. Predpostaviti smeš, da je otrokovo pismo v datoteki podatki/pisma/{otrok}.txt.\n",
    "\n",
    "#### Rešitev\n",
    "\n",
    "Iz pisma z `izlusci_darila` preberemo darila, ki jih želi otrok. Nato pokličemo `ponudniki_in_cene`, da izvemo ponudnike in cene teh daril. V dobljenem slovarju nas ne zanimajo ključi (darila) temveč le vrednosti,  `.values()`. Vrednosti so pari `(ponudnik, cena)`; zanimajo nas le cene."
   ]
  },
  {
   "cell_type": "code",
   "execution_count": 27,
   "id": "e15e4451",
   "metadata": {},
   "outputs": [],
   "source": [
    "def vrednost_daril(otrok):\n",
    "    vrednost = 0\n",
    "    darila = izlusci_darila(f\"podatki/pisma/{otrok}.txt\")\n",
    "    for _, cena in ponudniki_in_cene(ceniki(), darila).values():\n",
    "        vrednost += cena\n",
    "    return vrednost"
   ]
  },
  {
   "cell_type": "markdown",
   "id": "58138021",
   "metadata": {},
   "source": [
    "Spet je zabavno, kako smo sestavili ime datoteke.\n",
    "\n",
    "Jedrnateje (a ne prav zares) je"
   ]
  },
  {
   "cell_type": "code",
   "execution_count": 28,
   "id": "5f4c600e",
   "metadata": {},
   "outputs": [],
   "source": [
    "def vrednost_daril(otrok):\n",
    "    return sum(\n",
    "        cena for _, cena in ponudniki_in_cene(\n",
    "            ceniki(),\n",
    "            izlusci_darila(f\"podatki/pisma/{otrok}.txt\")\n",
    "        ).values())"
   ]
  },
  {
   "cell_type": "markdown",
   "id": "1d2d3b9d",
   "metadata": {},
   "source": [
    "### `preberi_tockovalnik`\n",
    "\n",
    "- `preberi_tockovalnik()` prebere datoteko, v kateri Miklavž vodi evidenco o tem, kateri otrok je bil priden in poreden. Vsaka vrstica vsebuje ime otroka, ki mu sledi dvopičje. Sledijo pozitivne točke za dobra in negativna za slaba dela. Funkcija mora vrniti slovar, katerega ključi so imena otrok, ki se pojavijo v točkovalniku, pripadajoče vrednosti pa vsota njihovih točk.\n",
    "\n",
    "#### Rešitev\n",
    "\n",
    "Ta je dokaj rutinska."
   ]
  },
  {
   "cell_type": "code",
   "execution_count": 29,
   "id": "d819bf2e",
   "metadata": {},
   "outputs": [],
   "source": [
    "def preberi_tockovalnik():\n",
    "    tockovalnik = {}\n",
    "    for vrstica in open(\"podatki/tockovalnik.txt\", encoding=\"utf-8\"):\n",
    "        otrok, dela = vrstica.split(\":\")\n",
    "        pridnost = 0\n",
    "        for delo in dela.split():\n",
    "            pridnost += int(delo)\n",
    "        tockovalnik[otrok] = pridnost\n",
    "    return tockovalnik"
   ]
  },
  {
   "cell_type": "markdown",
   "id": "9b4381da",
   "metadata": {},
   "source": [
    "### `dolocitev_daril`\n",
    "\n",
    "- `dolocitev_daril(proracun, darila, ponudniki_cene)` prejme skupno ceno daril, ki jih lahko dobi nek otrok, množico daril, ki si jih želi, in slovar, kakršnega vrne funkcija `ponudniki_in_cene`. Funkcija vrne množico daril, ki jih bo ta otrok dejansko dobil. Določi jih na naslednji način.\n",
    "\n",
    "    - Uredi darila od dražjih proti cenejšim, enako draga darila uredi padajoče po abecedi.\n",
    "\t- Za vsako darilo po vrsti pogleda, ali je njegova cena manjša od preostalega zneska, ki ga je na voljo. Če je, doda darilo med darila, ki jih bo prejel in ustrezno zmanjša znesek. Če je darilo dražje od preostale količina denarja, pa ga preskoči.\n",
    "\t- Nato nadaljuje z naslednjim darilom...\n",
    "\n",
    "\tPomoč: če Pythonu damo urediti seznam terk, recimo parov, jih bo uredil po prvem elementu, tiste, pri katerih je prvi element enak, pa po drugem. Če hočemo nek seznam urediti padajoče, podamo funkciji za urejanje dodatni argument `reverse=True`\n",
    "\n",
    "#### Rešitev\n",
    "\n",
    "To je pa ta zabavna naloga. Edina, v kateri ne gre samo za neko relativno mehansko prekladanj vrednosti po slovarjih in množicah."
   ]
  },
  {
   "cell_type": "code",
   "execution_count": 30,
   "id": "8833f4bb",
   "metadata": {},
   "outputs": [],
   "source": [
    "def dolocitev_daril(proracun, darila, ponudniki_cene):\n",
    "    cene_in_darila = []\n",
    "    for darilo in darila:\n",
    "        cene_in_darila.append((ponudniki_cene[darilo][1], darilo))\n",
    "    cene_in_darila.sort(reverse=True)\n",
    "        \n",
    "    darila = set()\n",
    "    for cena, darilo in cene_in_darila:\n",
    "        if cena <= proracun:\n",
    "            darila.add(darilo)\n",
    "            proracun -= cena\n",
    "    return darila"
   ]
  },
  {
   "cell_type": "markdown",
   "id": "10740d00",
   "metadata": {},
   "source": [
    "V prvem delu sestavimo seznam parov cen in daril. V tem vrstnem redu. Nato ta seznam uredimo. Urejanje najprej primerja prve elemente (cene) in če imata dve stvari enak prvi element, ju primerja po drugem (ime darila). Če dodamo `reverse=True`, bo uredil po padajočih cenah in znotraj tega po padajočih imenih daril. (Naloga je napisana prijazno. Če bi zahtevala, da otrok dobi darilo, ki je prej po abecedi, bi bilo to bolj zopno.\n",
    "\n",
    "V drugem delu gremo čez ta seznam. Vsako darilo, ki je v okviru proračuna, dodamo v košarico in ustrezno zmanjšamo proračun.\n",
    "\n",
    "Lahko pa gremo tudi v drugo smer: darila uredimo naraščajoče in jih jemljemo s konca. Če za to uporabimo `pop`, ki vrne in *pobriše* zadnji element seznama, lahko zanko `for` zamenjamo z `while`, ki jo pustimo teči, dokler je seznam `cene_in_darila` neprazen - `while cene_in_darila`."
   ]
  },
  {
   "cell_type": "code",
   "execution_count": 4,
   "id": "0ab75998",
   "metadata": {},
   "outputs": [],
   "source": [
    "def dolocitev_daril(proracun, darila, ponudniki_cene):\n",
    "    cene_in_darila = []\n",
    "    for darilo in darila:\n",
    "        cene_in_darila.append((ponudniki_cene[darilo][1], darilo))\n",
    "    cene_in_darila.sort()\n",
    "\n",
    "    dobi = set()\n",
    "    while cene_in_darila:\n",
    "        cena, darilo = cene_in_darila.pop()\n",
    "        if cena <= proracun:\n",
    "            dobi.add(darilo)\n",
    "            proracun -= cena\n",
    "    return dobi"
   ]
  },
  {
   "cell_type": "markdown",
   "id": "60636237",
   "metadata": {},
   "source": [
    "### `darila_za_otroka`\n",
    "\n",
    "- `darila_za_otroka(otrok, tockovalnik, otroci_darila, ponudniki_cene)` prejme ime otroka, točkovalnik (kot ga vrača funkcija `preberi_tockovalnik`), slovar, kot ga vrača `darila_po_otrociih` in slovar, kot ga vrača `ponudniki_in_cene`. Vrniti mora množico daril, ki jih bo dobil otrok glede na to, katera darila si želi in koliko denarja mu je Miklavž pripravljen nameniti.\n",
    "\n",
    "    Skupna vrednost daril, ki jih bo dobil otrok, ne more preseči števila točk, deljenega z 10. Katera darila bo dobil, je določeno v opisu prejšnje funkcije.\n",
    "    \n",
    "#### Rešitev\n",
    "\n",
    "Pri tej nalogi sem videl neke dolge izdelke, v resnici pa moramo le poklicati prejšnjo funkcijo z ustreznimi argumenti. Vse podatke, ki jih potrebujemo, dobimo že v argumentih."
   ]
  },
  {
   "cell_type": "code",
   "execution_count": 31,
   "id": "8cb7bd04",
   "metadata": {},
   "outputs": [],
   "source": [
    "def darila_za_otroka(otrok, tockovalnik, otroci_darila, ponudniki_cene):\n",
    "    return dolocitev_daril(\n",
    "        tockovalnik[otrok] / 10,\n",
    "        otroci_darila[otrok],\n",
    "        ponudniki_cene)"
   ]
  },
  {
   "cell_type": "markdown",
   "id": "9b56cc06",
   "metadata": {},
   "source": [
    "## Ocena 10\n",
    "\n",
    "Napiši funkcijo `narocila()`, ki sestavi naročila za dobavitelje: funkcija mora sestaviti datoteke z imeni Dezman.txt, Godler.txt in tako naprej z vsebino v naslednji obliki:\n",
    "\n",
    "```\n",
    "Spoštovani dobavitelj,\n",
    "\n",
    "pri vas bi rad naročil naslednja darila:\n",
    "\n",
    "                     kosov\n",
    "barvice..................6\n",
    "blazina..................2\n",
    "kocke....................2\n",
    "\n",
    "Lep pozdrav,\n",
    "Sveti Miklavž\n",
    "```\n",
    "\n",
    "Konkretna vsebina je za vsakega dobavitelja seveda drugačna. Datoteka mora biti oblikovana do pike in presledka tako, kot kaže vzorec. Naročeni predmeti naj bodo urejeni po abecedi.\n",
    "\n",
    "Funkcija mora prej seveda ugotoviti, katera darila dobi kateri otrok in pri kom bodo nabavljena.\n",
    "\n",
    "#### Rešitev\n",
    "\n",
    "Tole pa zdaj zahteva, da združimo vse, kar imamo: preberemo vsa pisma, ugotovimo cene želenih daril, preberemo točkovalnike, določimo, kaj bo dobil kateri otrok... To se zgodi v prvem bloku spodnje funkcije.\n",
    "\n",
    "V drugem sestavimo slovar `narocila`: njegovi ključi bodo imena ponudnikov, vrednosti pa slovarji, katerega ključi bodo darila, pripadajoče vrednosti pa število kosov tega darila. \n",
    "\n",
    "V tretjem gremo čez ta slovar. Vsak element pripada ponudniku, torej za vsak element odpremo datoteko in vanjo zapišemo seznam daril, ki jih naročamo pri tem ponudniku."
   ]
  },
  {
   "cell_type": "code",
   "execution_count": 5,
   "id": "e1dbf7ae",
   "metadata": {},
   "outputs": [],
   "source": [
    "def narocila():\n",
    "    otroci_darila = darila_po_otrocih()\n",
    "    vsa_darila = set(zbirnik_daril())\n",
    "    ponudbe = ceniki()\n",
    "    ponudniki_cene = ponudniki_in_cene(ponudbe, vsa_darila)\n",
    "    tockovalnik = preberi_tockovalnik()\n",
    "\n",
    "    narocila = {}\n",
    "    for ponudnik, _ in ponudniki_cene.values():\n",
    "        narocila[ponudnik] = defaultdict(int)\n",
    "    for otrok in otroci_darila:\n",
    "        for darilo in darila_za_otroka(otrok,\n",
    "                                       tockovalnik,\n",
    "                                       otroci_darila,\n",
    "                                       ponudniki_cene):\n",
    "            narocila[ponudniki_cene[darilo][0]][darilo] += 1\n",
    "\n",
    "    for ponudnik, darila in narocila.items():\n",
    "        f = open(ponudnik + \".txt\", \"wt\")\n",
    "        f.write(\"Spoštovani dobavitelj,\\n\\n\"\n",
    "                \"pri vas bi rad naročil naslednja darila:\\n\\n\")\n",
    "        f.write(f\"{'kosov':>26}\\n\")\n",
    "        for darilo, kosov in sorted(darila.items()):\n",
    "            f.write(f\"{darilo:.<20}{kosov:.>6}\\n\")\n",
    "        f.write(\"\\nLep pozdrav,\\nSveti Miklavž\")"
   ]
  }
 ],
 "metadata": {
  "kernelspec": {
   "display_name": "Python 3 (ipykernel)",
   "language": "python",
   "name": "python3"
  },
  "language_info": {
   "codemirror_mode": {
    "name": "ipython",
    "version": 3
   },
   "file_extension": ".py",
   "mimetype": "text/x-python",
   "name": "python",
   "nbconvert_exporter": "python",
   "pygments_lexer": "ipython3",
   "version": "3.11.5"
  }
 },
 "nbformat": 4,
 "nbformat_minor": 5
}
