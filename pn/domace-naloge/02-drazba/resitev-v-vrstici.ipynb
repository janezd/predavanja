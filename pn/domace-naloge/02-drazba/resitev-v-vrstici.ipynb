{
 "cells": [
  {
   "cell_type": "markdown",
   "id": "f791c12d-afe8-4503-95ce-15db10258204",
   "metadata": {},
   "source": [
    "Poglejmo, kako reševati čisto prvo domačo nalogo z generatorskimi izrazi. Spomnimo se: naloga je videti tako.\n",
    "\n",
    "Imamo datoteko takšne oblike.\n",
    "\n",
    "```\n",
    "11\n",
    "17\n",
    "24\n",
    "30\n",
    "-1\n",
    "13\n",
    "27\n",
    "33\n",
    "-1\n",
    "12\n",
    "27\n",
    "34\n",
    "40\n",
    "-1\n",
    "9\n",
    "-1\n",
    "8\n",
    "20\n",
    "30\n",
    "31\n",
    "-1\n",
    "```\n",
    "\n",
    "Tule se je prodajalo pet predmetov.\n",
    "\n",
    "- Ana je za prvi predmet ponudila 11, Berta 17, Ana 25, Berta 30. Številka -1 označuje, da je predmet prodan. Prvega je torej kupila Berta za 30.\n",
    "- Za drugi predmet je Ana ponudila 13, Berta 27. Prodano Ani za 33.\n",
    "- Za tretjega Ana 12, Berta 27, Ana 34, Berta 40. Prodano Berti za 34.\n",
    "- Za četrtega Ana 9. Prodano Ani za 9. (Šlo je samo za star polomljen dežnik, ki pa je imel za Ano neko emocionalno vrednost, ker jo je spominjal na njeno teto po očetovi strani iz Lesničnega.)\n",
    "- Za petega Ana 8, Berta 20, Ana 30, Berta 31. Berti za 31.\n",
    "\n",
    "Vidimo torej:\n",
    "\n",
    "1. Skupno so prodali 5 predmetov.\n",
    "2. Najvišja dosežena cena je 40.\n",
    "3. Skupna cena prodanih predmetov je 143 (to je, 30 + 33 + 34 + 9 + 31).\n",
    "4. Ana je kupila 2 predmeta, Berta pa 3.\n",
    "5. Ana je porabila 42, Berta 101.\n",
    "\n",
    "Napisati nam je program, ki prebere in izračuna vse te stvari."
   ]
  },
  {
   "cell_type": "markdown",
   "id": "69602126-f164-4075-ad7c-0601c3fb39c4",
   "metadata": {},
   "source": [
    "## 1. Število predmetov\n",
    "\n",
    "Prešteti moramo, koliko je enic. Najočitnejše je: pokličemo `list`, kot argument damo odprto datoteko. Preštejemo, koliko vrstic je enakih `\"-1\\n\"`."
   ]
  },
  {
   "cell_type": "code",
   "execution_count": 1,
   "id": "0bc54cb0-f436-4604-8424-50a8a1900b2c",
   "metadata": {},
   "outputs": [
    {
     "data": {
      "text/plain": [
       "5"
      ]
     },
     "execution_count": 1,
     "metadata": {},
     "output_type": "execute_result"
    }
   ],
   "source": [
    "list(open(\"drazba.txt\")).count(\"-1\\n\")"
   ]
  },
  {
   "cell_type": "markdown",
   "id": "c2549cc5-ffc2-4405-b4eb-5d45d40d8fb9",
   "metadata": {},
   "source": [
    "Marsikaj lahko očitamo tej rešitvi. Od tega, da moramo dodajati `\\n`, do tega, da nas bo zmedel vsak dodaten presledek. Pa še celotno datoteko preberemo in shranimo v seznam.\n",
    "\n",
    "Za začetek: preberimo *številke* iz datoteke."
   ]
  },
  {
   "cell_type": "code",
   "execution_count": 3,
   "id": "b30630e6-9656-4841-aed9-10c9f259a02f",
   "metadata": {},
   "outputs": [
    {
     "name": "stdout",
     "output_type": "stream",
     "text": [
      "[11, 17, 24, 30, -1, 13, 27, 33, -1, 12, 27, 34, 40, -1, 9, -1, 8, 20, 30, 31, -1]\n"
     ]
    }
   ],
   "source": [
    "print([int(v) for v in open(\"drazba.txt\")])"
   ]
  },
  {
   "cell_type": "markdown",
   "id": "b4e69935-d60f-4045-91bf-43214c2fd0ba",
   "metadata": {},
   "source": [
    "Še vedno beremo v seznam - tega se bomo znebili kasneje. Že to je boljše, saj nas prazni prostor ne moti več. Rešitev, podobna prejšnji vendar varnejša, je torej"
   ]
  },
  {
   "cell_type": "code",
   "execution_count": 4,
   "id": "06243b65-8464-4218-9492-748b6aefe31d",
   "metadata": {},
   "outputs": [
    {
     "data": {
      "text/plain": [
       "5"
      ]
     },
     "execution_count": 4,
     "metadata": {},
     "output_type": "execute_result"
    }
   ],
   "source": [
    "[int(v) for v in open(\"drazba.txt\")].count(-1)"
   ]
  },
  {
   "cell_type": "markdown",
   "id": "07b6e9b4-7588-4a83-b3c1-8b6c2f489746",
   "metadata": {},
   "source": [
    "V resnici nas zanima samo, ali je številka enaka -1. Pa pripravimo seznam `True`-jev in `False`-ov."
   ]
  },
  {
   "cell_type": "code",
   "execution_count": 7,
   "id": "8417496d-d7f9-4c27-bcb0-bec4d5e0585c",
   "metadata": {},
   "outputs": [
    {
     "name": "stdout",
     "output_type": "stream",
     "text": [
      "[False, False, False, False, True, False, False, False, True, False, False, False, False, True, False, True, False, False, False, False, True]\n"
     ]
    }
   ],
   "source": [
    "print([int(v) == -1 for v in open(\"drazba.txt\")])"
   ]
  },
  {
   "cell_type": "markdown",
   "id": "eee8c05c-b3f4-4419-ad77-5a5960231a8a",
   "metadata": {},
   "source": [
    "Zanima nas, koliko je `True`-jev. To bi lahko (spet) dobili s `count`, lahko pa kar seštejemo elemente tega seznama, saj je `True` toliko kot `1` in `False` toliko kot `0`."
   ]
  },
  {
   "cell_type": "code",
   "execution_count": 8,
   "id": "f3432497-c9ba-4d76-8296-8a9075fff592",
   "metadata": {},
   "outputs": [
    {
     "data": {
      "text/plain": [
       "5"
      ]
     },
     "execution_count": 8,
     "metadata": {},
     "output_type": "execute_result"
    }
   ],
   "source": [
    "sum([int(v) == -1 for v in open(\"drazba.txt\")])"
   ]
  },
  {
   "cell_type": "markdown",
   "id": "4db05c9c-2676-498f-ad8f-317215e2947f",
   "metadata": {},
   "source": [
    "Končno, namesto da sestavljamo seznam, lahko funkciji `sum` podamo kar generator."
   ]
  },
  {
   "cell_type": "code",
   "execution_count": 9,
   "id": "da4f7119-8684-42fe-8a8d-eb2eb37ebb56",
   "metadata": {},
   "outputs": [
    {
     "data": {
      "text/plain": [
       "5"
      ]
     },
     "execution_count": 9,
     "metadata": {},
     "output_type": "execute_result"
    }
   ],
   "source": [
    "sum(int(v) == -1 for v in open(\"drazba.txt\"))"
   ]
  },
  {
   "cell_type": "markdown",
   "id": "656914e2-8693-4cb7-9af9-268f19c46f8a",
   "metadata": {},
   "source": [
    "Tak način programiranja nas bo spremljal naslednjih nekaj tednov."
   ]
  },
  {
   "cell_type": "markdown",
   "id": "04051854-c525-4425-84b6-4eb346ebe905",
   "metadata": {},
   "source": [
    "## 2. Najdražji predmet\n",
    "\n",
    "Naloga pač sprašuje po največji številki. To je še preprostje kot število predmetov:"
   ]
  },
  {
   "cell_type": "code",
   "execution_count": 10,
   "id": "77e49283-803b-4f0d-99c9-428371241863",
   "metadata": {},
   "outputs": [
    {
     "data": {
      "text/plain": [
       "40"
      ]
     },
     "execution_count": 10,
     "metadata": {},
     "output_type": "execute_result"
    }
   ],
   "source": [
    "max(int(v) for v in open(\"drazba.txt\"))"
   ]
  },
  {
   "cell_type": "markdown",
   "id": "e390e56b-2c52-4fca-9d60-314f57e88111",
   "metadata": {},
   "source": [
    "Za vajo (in prihodnjo rabo) se lotimo še malo drugače: izračunajmo maksimum vseh zadnjih cen predmetov.\n",
    "\n",
    "Ko smo reševali naloge z datotekami smo (namerno!) odlašali s tem, da bi spoznali in uporabljali sezname. Naučili smo se, da je koristno poznati trenutno in prejšnjo vrstico datoteke. Zdaj vemo za `pairwise`, ki vrne zaporedne pare."
   ]
  },
  {
   "cell_type": "code",
   "execution_count": 12,
   "id": "30a30430-0477-438d-8c40-29ea3ac0d4ac",
   "metadata": {},
   "outputs": [
    {
     "data": {
      "text/plain": [
       "<itertools.pairwise at 0x1084e9ea0>"
      ]
     },
     "execution_count": 12,
     "metadata": {},
     "output_type": "execute_result"
    }
   ],
   "source": [
    "from itertools import pairwise\n",
    "\n",
    "pairwise(open(\"drazba.txt\"))"
   ]
  },
  {
   "cell_type": "markdown",
   "id": "614bab68-b8e5-42c1-9567-1d6c0563d238",
   "metadata": {},
   "source": [
    "No, ja, `pairwise` je generator, ki generira par za parom. Če hočemo, da jih \"izgenerira\" in pokaže, jih zložimo v seznam."
   ]
  },
  {
   "cell_type": "code",
   "execution_count": 13,
   "id": "717f5506-8e4f-4286-8b51-2a6d5df23beb",
   "metadata": {},
   "outputs": [
    {
     "name": "stdout",
     "output_type": "stream",
     "text": [
      "[('11\\n', '17\\n'), ('17\\n', '24\\n'), ('24\\n', '30\\n'), ('30\\n', '-1\\n'), ('-1\\n', '13\\n'), ('13\\n', '27\\n'), ('27\\n', '33\\n'), ('33\\n', '-1\\n'), ('-1\\n', '12\\n'), ('12\\n', '27\\n'), ('27\\n', '34\\n'), ('34\\n', '40\\n'), ('40\\n', '-1\\n'), ('-1\\n', '9\\n'), ('9\\n', '-1\\n'), ('-1\\n', '8\\n'), ('8\\n', '20\\n'), ('20\\n', '30\\n'), ('30\\n', '31\\n'), ('31\\n', '-1\\n')]\n"
     ]
    }
   ],
   "source": [
    "print(list(pairwise(open(\"drazba.txt\"))))"
   ]
  },
  {
   "cell_type": "markdown",
   "id": "8664373b-6f35-4eb0-8ba9-276b1fed62cb",
   "metadata": {},
   "source": [
    "Zanimajo nas cene v vrsticah, ki jim sledi vrstica -1."
   ]
  },
  {
   "cell_type": "code",
   "execution_count": 15,
   "id": "3dbc2327-a2b5-46f3-b896-79af88e2e8e8",
   "metadata": {},
   "outputs": [
    {
     "data": {
      "text/plain": [
       "[30, 33, 40, 9, 31]"
      ]
     },
     "execution_count": 15,
     "metadata": {},
     "output_type": "execute_result"
    }
   ],
   "source": [
    "[int(prej) for prej, potem in pairwise(open(\"drazba.txt\")) if int(potem) == -1]"
   ]
  },
  {
   "cell_type": "markdown",
   "id": "6cf2636f-5c31-4f68-8a03-c1024aadb5d4",
   "metadata": {},
   "source": [
    "Ker `pairwise` generira pare zaporednih elementov, gremo čeznje z zanko, `for prej, potem in pairwise(open(\"drazba.txt\"))`. Zanimajo nas le tisti pari, pri katerih je drugi element enak `-1`, saj to pomeni, da je bil izdelek v tem trenutku prodan. Zato dodamo pogoj `if int(potem) == -1`. V seznam pa zlagamo končne cene, torej `int(potem)`."
   ]
  },
  {
   "cell_type": "markdown",
   "id": "3f6b2b80-4b76-4a47-a601-01be0405ad0e",
   "metadata": {},
   "source": [
    "Najdražji prodani izdelek je potemtakem:"
   ]
  },
  {
   "cell_type": "code",
   "execution_count": 11,
   "id": "9068822d-48d1-4f05-b45f-b878bb8e5aeb",
   "metadata": {},
   "outputs": [
    {
     "data": {
      "text/plain": [
       "40"
      ]
     },
     "execution_count": 11,
     "metadata": {},
     "output_type": "execute_result"
    }
   ],
   "source": [
    "max(int(prej) for prej, vrstica in pairwise(open(\"drazba.txt\")) if int(vrstica) == -1)"
   ]
  },
  {
   "cell_type": "markdown",
   "id": "b0c43d90-5b2e-4256-bf72-8ad171038f80",
   "metadata": {},
   "source": [
    "## 3. Skupna cena prodanih predmetov\n",
    "\n",
    "Ker smo se malo bolj potrudili pri prejšnji točki, nam je zdaj preprosto dobiti skupno ceno prodanih izdelkov. Dobimo jo iz natančno takšnega seznama kot prej, le namesto `max` pokličemo `sum`."
   ]
  },
  {
   "cell_type": "code",
   "execution_count": 16,
   "id": "209290df-6ce0-46f2-a57d-d0244e7206bf",
   "metadata": {},
   "outputs": [
    {
     "data": {
      "text/plain": [
       "143"
      ]
     },
     "execution_count": 16,
     "metadata": {},
     "output_type": "execute_result"
    }
   ],
   "source": [
    "sum(int(prej) for prej, vrstica in pairwise(open(\"drazba.txt\")) if int(vrstica) == -1)"
   ]
  },
  {
   "cell_type": "markdown",
   "id": "4bb377ff-39cf-4ec5-8056-cb2e26fbf88f",
   "metadata": {},
   "source": [
    "## 4. Koliko predmetov je kupil kdo\n",
    "\n",
    "Za vsak izdelek moramo vedeti, koliko ponudb je bil deležen. Zato moramo dobiti številke vrstic, v katerih je prišlo do nakupa - se pravi številke vrstic, ki vsebujejo `-1`."
   ]
  },
  {
   "cell_type": "code",
   "execution_count": 18,
   "id": "2dc3d69f-477b-437b-a928-17bd3763c7f1",
   "metadata": {},
   "outputs": [
    {
     "data": {
      "text/plain": [
       "[4, 8, 13, 15, 20]"
      ]
     },
     "execution_count": 18,
     "metadata": {},
     "output_type": "execute_result"
    }
   ],
   "source": [
    "nakupi = [i for i, v in enumerate(open(\"drazba.txt\")) if int(v) == -1]\n",
    "\n",
    "nakupi"
   ]
  },
  {
   "cell_type": "markdown",
   "id": "43505d63-b387-4384-b155-37b14586f671",
   "metadata": {},
   "source": [
    "Z `enumerate(open(\"drazba.txt\"))` smo dobili seznam parov (številka vrstice, vrstica). Razpakiramo jih v `i` in `v`. Naredimo seznam tistih `i`-jev (številk vrstic), v katerih je vsebina vrstice enaka `-1`. Zdaj pogledamo te številke."
   ]
  },
  {
   "cell_type": "code",
   "execution_count": 20,
   "id": "46da4584-5f4b-4a0d-a819-33b1463a730d",
   "metadata": {},
   "outputs": [
    {
     "data": {
      "text/plain": [
       "[4, 8, 13, 15, 20]"
      ]
     },
     "execution_count": 20,
     "metadata": {},
     "output_type": "execute_result"
    }
   ],
   "source": [
    "nakupi"
   ]
  },
  {
   "cell_type": "markdown",
   "id": "ab3bb3d9-9c68-461f-8320-af770a3021b2",
   "metadata": {},
   "source": [
    "Za prvi izdelek so bile ponudbe štiri (v vrsticah 0, 1, 2, 3; v četrti je bil prodan). Za drugega so bile ponudbe tri (5, 6, 7), za tretjega štiri (9, 10, 11, 12), za četrtega 1 (14) in za petega spet štiri (16, 17, 18, 19). Število ponudb torej dobimo tako, da odštejemo dva zaporedna elementa `nakupi` in od razlike odštejemo še 1. Prvi predmet je poseben, z njim se bomo ukvarjali potem.\n",
    "\n",
    "Razlike med zaporednima elementoma dobimo preprosto."
   ]
  },
  {
   "cell_type": "code",
   "execution_count": 23,
   "id": "b3e12b74-f380-4524-a4a0-18eadb2f1534",
   "metadata": {},
   "outputs": [
    {
     "data": {
      "text/plain": [
       "[3, 4, 1, 4]"
      ]
     },
     "execution_count": 23,
     "metadata": {},
     "output_type": "execute_result"
    }
   ],
   "source": [
    "ponudb = [x - y - 1 for y, x in pairwise(nakupi)]\n",
    "\n",
    "ponudb"
   ]
  },
  {
   "cell_type": "markdown",
   "id": "e5a677c7-e7c3-4ad6-b83b-6d6543fab336",
   "metadata": {},
   "source": [
    "Zdaj pa rešimo še prvi element. Preprosto bo: delali se bomo, ko da je pred ničto vrstico - torej v minus prvi vrstici - še ena `-1`. Torej, kot da bi bile `-1`-ke v vrsticah"
   ]
  },
  {
   "cell_type": "code",
   "execution_count": 29,
   "id": "975194b6-c0d4-41a1-a7c1-e2cbd51d93b9",
   "metadata": {},
   "outputs": [
    {
     "data": {
      "text/plain": [
       "[-1, 4, 8, 13, 15, 20]"
      ]
     },
     "execution_count": 29,
     "metadata": {},
     "output_type": "execute_result"
    }
   ],
   "source": [
    "[-1] + nakupi"
   ]
  },
  {
   "cell_type": "markdown",
   "id": "bde7c84e-4662-4d6e-bdeb-65e4004c75f8",
   "metadata": {},
   "source": [
    "Pa zdaj preštejmo število ponudb:"
   ]
  },
  {
   "cell_type": "code",
   "execution_count": 31,
   "id": "4c684e3a-3e9b-4b63-b4d7-9ec9084f7e56",
   "metadata": {},
   "outputs": [
    {
     "data": {
      "text/plain": [
       "[4, 3, 4, 1, 4]"
      ]
     },
     "execution_count": 31,
     "metadata": {},
     "output_type": "execute_result"
    }
   ],
   "source": [
    "ponudb = [x - y - 1 for y, x in pairwise([-1] + nakupi)]\n",
    "\n",
    "ponudb"
   ]
  },
  {
   "cell_type": "markdown",
   "id": "b565fc32-63e9-4bd0-a23d-7906077cd27f",
   "metadata": {},
   "source": [
    "Berta je kupila vse predmete s sodim številom ponudb, torej jih je kupila"
   ]
  },
  {
   "cell_type": "code",
   "execution_count": 32,
   "id": "d41436f5-8173-43da-9fd7-860d99b60953",
   "metadata": {},
   "outputs": [
    {
     "data": {
      "text/plain": [
       "3"
      ]
     },
     "execution_count": 32,
     "metadata": {},
     "output_type": "execute_result"
    }
   ],
   "source": [
    "sum(x % 2 == 0 for x in ponudb)"
   ]
  },
  {
   "cell_type": "markdown",
   "id": "f5420dab-eb9f-4b88-85df-43aea5c0cfd2",
   "metadata": {},
   "source": [
    "Ana pa, seveda, tiste z lihim:"
   ]
  },
  {
   "cell_type": "code",
   "execution_count": 33,
   "id": "536d4708-d4ea-4e97-8d2b-9ef0858f3c11",
   "metadata": {},
   "outputs": [
    {
     "data": {
      "text/plain": [
       "2"
      ]
     },
     "execution_count": 33,
     "metadata": {},
     "output_type": "execute_result"
    }
   ],
   "source": [
    "sum(x % 2 == 1 for x in ponudb)"
   ]
  },
  {
   "cell_type": "markdown",
   "id": "a2461fcd-04aa-4106-90bd-a0e3dc2dc893",
   "metadata": {},
   "source": [
    "## 5. Poraba"
   ]
  },
  {
   "cell_type": "markdown",
   "id": "b7bd12c3-e77e-43ea-97b6-ce5f5fdbd7be",
   "metadata": {},
   "source": [
    "Cene vseh izdelkov znamo dobiti, to smo počeli že v drugi točki. "
   ]
  },
  {
   "cell_type": "code",
   "execution_count": 34,
   "id": "f08d45bc-2858-4c11-a59f-6de3f578053f",
   "metadata": {},
   "outputs": [],
   "source": [
    "cene = [int(prej) for prej, vrstica in pairwise(open(\"drazba.txt\")) if int(vrstica) == -1]"
   ]
  },
  {
   "cell_type": "markdown",
   "id": "fa5c93d4-29d8-4b4b-be37-066eb0fbcd65",
   "metadata": {},
   "source": [
    "Zanima nas vsota vseh cen, za katere je bilo število ponudb, recimo, sodo, če nas zanima Bertina poraba."
   ]
  },
  {
   "cell_type": "code",
   "execution_count": 38,
   "id": "909ee16e-5a3c-49b5-8cd2-d519ac13a598",
   "metadata": {},
   "outputs": [
    {
     "data": {
      "text/plain": [
       "101"
      ]
     },
     "execution_count": 38,
     "metadata": {},
     "output_type": "execute_result"
    }
   ],
   "source": [
    "sum(cena for cena, ponudb_zanj in zip(cene, ponudb) if ponudb_zanj % 2  == 0)"
   ]
  },
  {
   "cell_type": "markdown",
   "id": "25187e15-002f-4509-8bae-95184cb64c28",
   "metadata": {},
   "source": [
    "Z `zip` smo sestavili cene in števila ponudb."
   ]
  },
  {
   "cell_type": "code",
   "execution_count": 39,
   "id": "fe6a7124-e812-48b6-a744-2e8a9af19eb7",
   "metadata": {},
   "outputs": [
    {
     "data": {
      "text/plain": [
       "[(30, 4), (33, 3), (40, 4), (9, 1), (31, 4)]"
      ]
     },
     "execution_count": 39,
     "metadata": {},
     "output_type": "execute_result"
    }
   ],
   "source": [
    "list(zip(cene, ponudb))"
   ]
  },
  {
   "cell_type": "markdown",
   "id": "cbe2c13d-176b-4cab-b87f-71e69123f99d",
   "metadata": {},
   "source": [
    "Potem smo preprosto pogledali vsoto prvih elementov parov (cena) za vse tiste pare, pri katerih je drugi element (število ponudb) sod."
   ]
  },
  {
   "cell_type": "markdown",
   "id": "f5d07d75-b271-4bfd-b836-86129edc2a6f",
   "metadata": {},
   "source": [
    "Toliko je porabila Berta, Ana pa toliko, kolikor je vsota cen izdelkov z lihim številom ponudb."
   ]
  },
  {
   "cell_type": "code",
   "execution_count": 37,
   "id": "b750f0ea-36bc-48c2-93c6-d6d5167869f1",
   "metadata": {},
   "outputs": [
    {
     "data": {
      "text/plain": [
       "101"
      ]
     },
     "execution_count": 37,
     "metadata": {},
     "output_type": "execute_result"
    }
   ],
   "source": [
    "sum(cena for cena, ponudb_zanj in zip(cene, ponudb) if ponudb_zanj % 2  == 0)"
   ]
  }
 ],
 "metadata": {
  "kernelspec": {
   "display_name": "Python 3 (ipykernel)",
   "language": "python",
   "name": "python3"
  },
  "language_info": {
   "codemirror_mode": {
    "name": "ipython",
    "version": 3
   },
   "file_extension": ".py",
   "mimetype": "text/x-python",
   "name": "python",
   "nbconvert_exporter": "python",
   "pygments_lexer": "ipython3",
   "version": "3.12.6"
  }
 },
 "nbformat": 4,
 "nbformat_minor": 5
}
