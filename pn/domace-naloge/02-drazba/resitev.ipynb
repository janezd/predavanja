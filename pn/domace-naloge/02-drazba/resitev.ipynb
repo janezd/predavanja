{
 "cells": [
  {
   "cell_type": "markdown",
   "id": "381e6f53",
   "metadata": {},
   "source": [
    "# Domača naloga: Dražba\n",
    "\n",
    "Ana in Berta se neizprosno spopadata na dražbi. Izklicnih cen ni. Dražba poteka tako, da najprej da ponudbo Ana (ker je starejša), nato Berta, pa spet Ana, ... dokler ena od njiju ne odneha.\n",
    "\n",
    "In še eno (za reševalce dobrodošlo pravilo): Ana mora *vedno* dati ponudbo. (Pravilo si je izmislil lastnik dražbe, ki ima rad tarok in ga jezi, da *obvezna 3* v resnici ni obvezna, temveč le povzroča klope, ki jih osebno ne mara, ker ima takrat vedno najboljše karte.)\n",
    "\n",
    "Dogajanje je popisano v datoteki takšne oblike.\n",
    "\n",
    "```\n",
    "11\n",
    "17\n",
    "24\n",
    "30\n",
    "-1\n",
    "13\n",
    "27\n",
    "33\n",
    "-1\n",
    "12\n",
    "27\n",
    "34\n",
    "40\n",
    "-1\n",
    "9\n",
    "-1\n",
    "8\n",
    "20\n",
    "30\n",
    "31\n",
    "-1\n",
    "```\n",
    "\n",
    "Tule se je prodajalo pet predmetov.\n",
    "\n",
    "- Ana je za prvi predmet ponudila 11, Berta 17, Ana 25, Berta 30. Številka -1 označuje, da je predmet prodan. Prvega je torej kupila **Berta za 30**.\n",
    "- Za drugi predmet je Ana ponudila 13, Berta 27. Prodano **Ani za 33**.\n",
    "- Za tretjega Ana 12, Berta 27, Ana 34, Berta 40. Prodano **Berti za 34**.\n",
    "- Za četrtega Ana 9. Prodano **Ani za 9**. (Šlo je samo za star polomljen dežnik, ki pa je imel za Ano neko emocionalno vrednost, ker jo je spominjal na njeno teto po očetovi strani iz Lesničnega.)\n",
    "- Za petega Ana 8, Berta 20, Ana 30, Berta 31. **Berti za 31**.\n",
    "\n",
    "\n",
    "Vidimo torej:\n",
    "\n",
    "1. Skupno so prodali 5 predmetov.\n",
    "2. Najvišja dosežena cena je 40.\n",
    "3. Skupna cena prodanih predmetov je 143 (to je, 30 + 33 + 34 + 9 + 31).\n",
    "4. Ana je kupila 2 predmeta, Berta pa 3.\n",
    "5. Ana je porabila 42, Berta 101.\n",
    "\n",
    "## Obvezna naloga\n",
    "\n",
    "Napiši program, ki prebere datoteko in izračuna ter izpiše dejstva do točke 3.\n",
    "\n",
    "## Dodatna, neobvezna naloga\n",
    "\n",
    "Dodaj še točki 4 in 5.\n",
    "\n",
    "## Podatki\n",
    "\n",
    "Podatki so v datotekah drazba.txt (gornji primer) in drazba-dolga.txt, pri kateri je rezultat\n",
    "\n",
    "```\n",
    "Prodanih predmetov: 42\n",
    "Najvišja cena: 266\n",
    "Skupna cena: 4736\n",
    "Ana: 19 predmetov za 2217\n",
    "Berta: 23 predmetov za 2519\n",
    "```\n",
    "\n",
    "Da bo rešitev priznana za pravilno, mora izpisati pravilne rezultate (besedilo ni pomembno, pomembne so številke) za obe datoteki.\n",
    "\n",
    "# Rešitev"
   ]
  },
  {
   "cell_type": "markdown",
   "id": "0d8d9f2b",
   "metadata": {},
   "source": [
    "Če bomo reševali naloge v ločenih zankah (in ne vseh v eni sami veliki), bomo v vsaki, vedno znova, klicali funkcijo `open`. Da ne bo potrebno vedno spreminjati `open(\"drazba.txt\")` v `open(\"drazba-dolga.txt\")` najprej definirajmo spremenljivko `ime_dat` z imenom datoteke, potem pa vedno kličimo kar `open(ime_dat)`."
   ]
  },
  {
   "cell_type": "code",
   "execution_count": 1,
   "id": "a21c80dc",
   "metadata": {},
   "outputs": [],
   "source": [
    "ime_dat = \"drazba.txt\""
   ]
  },
  {
   "cell_type": "markdown",
   "id": "998b06be",
   "metadata": {},
   "source": [
    "### Število prodanih predmetov\n",
    "\n",
    "Da izvemo število prodanih predmetov, preprosto preštejemo, kolikokrat se v datoteki pojavi \"cena\" `-1`."
   ]
  },
  {
   "cell_type": "code",
   "execution_count": 2,
   "id": "d5d8ad76",
   "metadata": {},
   "outputs": [
    {
     "name": "stdout",
     "output_type": "stream",
     "text": [
      "Prodanih predmetov: 5\n"
     ]
    }
   ],
   "source": [
    "predmetov = 0\n",
    "for cena in open(ime_dat):\n",
    "    if int(cena) == -1:\n",
    "        predmetov += 1\n",
    "print(\"Prodanih predmetov:\", predmetov)"
   ]
  },
  {
   "cell_type": "markdown",
   "id": "5bd53b53",
   "metadata": {},
   "source": [
    "Lahko bi pisali tudi\n",
    "\n",
    "```\n",
    "for vrstica in open(ime_dat):\n",
    "    cena = int(vrstica)\n",
    "    if cena == -1:\n",
    "    ...\n",
    "```\n",
    "\n",
    "vendar ceno tako ali tako uporabimo le enkrat, torej je vseeno, če jo pretvorimo v število kar znotraj `if`-a.\n",
    "\n",
    "Morda se je komu zahotelo pisati\n",
    "\n",
    "```\n",
    "for vrstica in open(ime_dat):\n",
    "    if vrstica == -1:\n",
    "```\n",
    "\n",
    "to ne deluje, ker je vrstica niz in ne število, torej ni enaka (`int`-u) `-1` temveč nizu `\"-1\"`. To ni isto.\n",
    "\n",
    "Ako bi dotični odkril, kaj je narobe bi to morda hotel popraviti v\n",
    "\n",
    "```\n",
    "for vrstica in open(ime_dat):\n",
    "    if vrstica == \"-1\":\n",
    "```\n",
    "\n",
    "tudi to ne deluje, ker je na koncu vrstice še znak za konec vrstice `\\n`, ki smo ga (ali pa tudi ne) omenili na predavanju, omenjen pa je v [zadnji nalogi za vaje](https://ucilnica.fri.uni-lj.si/mod/page/view.php?id=53253).\n",
    "\n",
    "Delovalo bi"
   ]
  },
  {
   "cell_type": "code",
   "execution_count": 3,
   "id": "db171d7c",
   "metadata": {},
   "outputs": [
    {
     "name": "stdout",
     "output_type": "stream",
     "text": [
      "Prodanih predmetov: 5\n"
     ]
    }
   ],
   "source": [
    "predmetov = 0\n",
    "for cena in open(ime_dat):\n",
    "    if cena == \"-1\\n\":\n",
    "        predmetov += 1\n",
    "print(\"Prodanih predmetov:\", predmetov)"
   ]
  },
  {
   "cell_type": "markdown",
   "id": "81c7d30f",
   "metadata": {},
   "source": [
    "ali"
   ]
  },
  {
   "cell_type": "code",
   "execution_count": 4,
   "id": "09af7d38",
   "metadata": {},
   "outputs": [
    {
     "name": "stdout",
     "output_type": "stream",
     "text": [
      "Prodanih predmetov: 5\n"
     ]
    }
   ],
   "source": [
    "predmetov = 0\n",
    "for cena in open(ime_dat):\n",
    "    if cena.strip() == \"-1\":\n",
    "        predmetov += 1\n",
    "print(\"Prodanih predmetov:\", predmetov)"
   ]
  },
  {
   "cell_type": "markdown",
   "id": "89657fe6",
   "metadata": {},
   "source": [
    "To pa ni že nič preprosteje od `int`. Pravzaprav je slabše kot `int`. Vrstice datoteke vsebujejo števila, torej jih pretvarjajmo v števila."
   ]
  },
  {
   "cell_type": "markdown",
   "id": "84d839b3",
   "metadata": {},
   "source": [
    "### Najvišja dosežena cena\n",
    "\n",
    "Ta naloga je preprostejša, kot se je morda komu zdelo. Ko beremo cene, nam je vseeno, kdo je reč kupil in, sploh, ali je določena pravkar prebrana cena zadnja ali ne. Da rešimo nalogo, je dovolj, da poiščemo najvišje število v datoteki. To pa je naloga, ki smo jo reševali na predavanju (najvišja napovedana temperatura v Radovljici) in na vajah.\n",
    "\n",
    "Po zgledu prejšnje rešitve lahko napišemo"
   ]
  },
  {
   "cell_type": "code",
   "execution_count": 5,
   "id": "69b68df7",
   "metadata": {},
   "outputs": [
    {
     "name": "stdout",
     "output_type": "stream",
     "text": [
      "Najvišja cena: 40\n"
     ]
    }
   ],
   "source": [
    "najvisja = 0\n",
    "for cena in open(ime_dat):\n",
    "    if int(cena) > najvisja:\n",
    "        najvisja = int(cena)\n",
    "print(\"Najvišja cena:\", najvisja)"
   ]
  },
  {
   "cell_type": "markdown",
   "id": "c454d9c2",
   "metadata": {},
   "source": [
    "Ker tule dvakrat pokličemo `int(cena)`, pa se počasi spodobi, da v število pretvorjeno vrstico shranimo v novo spremenljivko. Lepše je torej"
   ]
  },
  {
   "cell_type": "code",
   "execution_count": 6,
   "id": "03719d91",
   "metadata": {},
   "outputs": [
    {
     "name": "stdout",
     "output_type": "stream",
     "text": [
      "Najvišja cena: 40\n"
     ]
    }
   ],
   "source": [
    "najvisja = 0\n",
    "for vrstica in open(ime_dat):\n",
    "    cena = int(vrstica)\n",
    "    if cena > najvisja:\n",
    "        najvisja = cena\n",
    "print(\"Najvišja cena:\", najvisja)"
   ]
  },
  {
   "cell_type": "markdown",
   "id": "6bfd1281",
   "metadata": {},
   "source": [
    "### Skupna cena prodanega\n",
    "\n",
    "Tu pa se stvari zapletejo. Potrebno je sešteti vse cene, ki se pojavijo *pred* ceno `-1`. Torej: ko naletimo na ceno `-1`, moramo k skupni vrednosti prodanih izdelkov prišteti ceno, ki se je pojavila predtem. Tega (za zdaj) ne znamo storiti drugače, kot da si jo zapomnimo."
   ]
  },
  {
   "cell_type": "code",
   "execution_count": 7,
   "id": "4ed46892",
   "metadata": {},
   "outputs": [
    {
     "name": "stdout",
     "output_type": "stream",
     "text": [
      "Skupna cena: 143\n"
     ]
    }
   ],
   "source": [
    "prej = 0\n",
    "skupno = 0\n",
    "for cena in open(ime_dat):\n",
    "    cena = int(cena)\n",
    "    if cena == -1:\n",
    "        skupno += prej\n",
    "    prej = cena\n",
    "print(\"Skupna cena:\", skupno)"
   ]
  },
  {
   "cell_type": "markdown",
   "id": "9ae2f726",
   "metadata": {},
   "source": [
    "Trik je na koncu zanke. Zadnja stvar, ki jo naredimo, je `prej = cena`. Na ta način bo trenutna `cena` v naslednjem krogu zanke dostopna v spremenljivko `prej`. "
   ]
  },
  {
   "cell_type": "markdown",
   "id": "12385cfb",
   "metadata": {},
   "source": [
    "### Vse tri skupaj\n",
    "\n",
    "Z vsemi tremi točkami lahko opravimo tudi v eni zanki."
   ]
  },
  {
   "cell_type": "code",
   "execution_count": 8,
   "id": "b0cf8e29",
   "metadata": {},
   "outputs": [
    {
     "name": "stdout",
     "output_type": "stream",
     "text": [
      "Prodanih predmetov: 5\n",
      "Najvišja cena: 40\n",
      "Skupna cena: 143\n"
     ]
    }
   ],
   "source": [
    "prodanih = 0\n",
    "najvisja = 0\n",
    "prej = 0\n",
    "skupno = 0\n",
    "for cena in open(ime_dat):\n",
    "    cena = int(cena)\n",
    "    if cena == -1:\n",
    "        prodanih += 1\n",
    "        if prej > najvisja:\n",
    "            najvisja = prej\n",
    "        skupno += prej\n",
    "    prej = cena\n",
    "    \n",
    "print(\"Prodanih predmetov:\", predmetov)\n",
    "print(\"Najvišja cena:\", najvisja)\n",
    "print(\"Skupna cena:\", skupno)"
   ]
  },
  {
   "cell_type": "markdown",
   "id": "1ae9c83d",
   "metadata": {},
   "source": [
    "## Delitev med Ano in Berto\n",
    "\n",
    "Preostali točki rešimo kar v enem zamahu. Bistvo naloge ni v tem, da znamo šteti in seštevati, kot v prvih dveh točkah, temveč v tem, da vemo, kdo je tisti, ki je na koncu koncev kupil nek predmet. Eden od načinov - za nas trenutno morda najpreprostejši - je, da štejemo, koliko višanj cene je doživel nek predmet. Če jih je liho, ga je kupila Ana, sicer Berta."
   ]
  },
  {
   "cell_type": "code",
   "execution_count": 9,
   "id": "cf3deaf5",
   "metadata": {},
   "outputs": [
    {
     "name": "stdout",
     "output_type": "stream",
     "text": [
      "Ana: 2 predmetov za 42\n",
      "Berta: 3 predmetov za 101\n"
     ]
    }
   ],
   "source": [
    "ana = berta = 0\n",
    "ana_skupno = berta_skupno = 0\n",
    "visanj = 0\n",
    "prej = -1\n",
    "for cena in open(ime_dat):\n",
    "    cena = int(cena)\n",
    "    if cena != -1:\n",
    "        visanj += 1\n",
    "    else:\n",
    "        if visanj % 2 == 1:\n",
    "            ana += 1\n",
    "            ana_skupno += prej\n",
    "        else:\n",
    "            berta += 1\n",
    "            berta_skupno += prej\n",
    "        visanj = 0\n",
    "    prej = cena\n",
    "    \n",
    "print(\"Ana:\", ana, \"predmetov za\", ana_skupno)\n",
    "print(\"Berta:\", berta, \"predmetov za\", berta_skupno)"
   ]
  },
  {
   "cell_type": "markdown",
   "id": "6153ad15",
   "metadata": {},
   "source": [
    "Tako kot prej imamo še vedno `cena` in `prej`. Nova spremenljivka je število `visanj`, ki je v začetku `0`. Vsakič, ko preberemo ceno, ki ni `-1`, gre za višanje, torej k `visanj` prištejemo 1. Sicer pa je bil izdelek pravkar (no, v prejšnji vrstici) prodan. Če je število višanj liho, povečamo število predmetov in skupno ceno za Ano, sicer za Berto. V obeh primerih pa (ne spreglejmo!) nastavimo `visanj` nazaj na 0.\n",
    "\n",
    "Komur je ta naloga na robu tistega, kar razume, naj bo pozoren predvsem na to, kje v strukturi teh `if`-ov in `else`-ov se pojavita vrstici `visanj = 0` in `prej = cena`. Prva je znotraj `else`-a, ki pokrije primer, ko je izdelek prodan. Tako \"resetiramo\" število višanj za naslednji izdelek. Druga, `prej = cena` je izven pogojev, vendar v zanki, saj se mora zgoditi vedno. (Glede na to, da na dražbi vedno prodamo vse izdelke, ker Ana *mora* predlagati ceno, nikoli ne bomo naleteli na dve `-1` zapored, tako da bi bilo vseeno, če bi bila vrstica `prej = cena` znotraj prvega `if`, torej pod `visanj += 1`. Vendar takšna rešitev zahteva malo dodatnega razmisleka, struktura programa je bolj zoprna, pridobimo pa (skoraj) ničesar, zato raje napišimo, kot smo napisali. Naloga programerja je napisati pravilen program, ne pa dokazovati zvitosti z nepotrebnimi časovnimi optimizacijami ali kratkostjo programa na račun razumljivosti.)"
   ]
  },
  {
   "cell_type": "markdown",
   "id": "b4568aeb",
   "metadata": {},
   "source": [
    "## Čisto vse skupaj\n",
    "\n",
    "Če želimo vse rešiti v eni zanki, imamo v gornjem programu pravzaprav že skoraj vse, kar potrebujemo. Skupno število in cena prodanih predmetov je pač vsota cen in predmetov, ki sta jih (ločeno) kupili Ana in Berta. Le še najvišjo ceno si moramo zapomniti."
   ]
  },
  {
   "cell_type": "code",
   "execution_count": 10,
   "id": "d92fffa8",
   "metadata": {},
   "outputs": [
    {
     "name": "stdout",
     "output_type": "stream",
     "text": [
      "Prodanih predmetov: 5\n",
      "Najvišja cena: 40\n",
      "Skupna cena: 143\n",
      "Ana: 2 predmetov za 42\n",
      "Berta: 3 predmetov za 101\n"
     ]
    }
   ],
   "source": [
    "najvisja = 0\n",
    "ana = berta = 0\n",
    "ana_skupno = berta_skupno = 0\n",
    "visanj = 0\n",
    "prej = -1\n",
    "for cena in open(ime_dat):\n",
    "    cena = int(cena)\n",
    "    if cena == -1:\n",
    "        if prej > najvisja:\n",
    "            najvisja = prej\n",
    "        if visanj % 2 == 1:\n",
    "            ana += 1\n",
    "            ana_skupno += prej\n",
    "        else:\n",
    "            berta += 1\n",
    "            berta_skupno += prej\n",
    "        visanj = 0\n",
    "    else:\n",
    "        visanj += 1\n",
    "    prej = cena\n",
    "    \n",
    "print(\"Prodanih predmetov:\", ana + berta)\n",
    "print(\"Najvišja cena:\", najvisja)\n",
    "print(\"Skupna cena:\", ana_skupno + berta_skupno)\n",
    "print(\"Ana:\", ana, \"predmetov za\", ana_skupno)\n",
    "print(\"Berta:\", berta, \"predmetov za\", berta_skupno)"
   ]
  },
  {
   "cell_type": "markdown",
   "id": "edbfdfe9",
   "metadata": {},
   "source": [
    "## Daljša dražba\n",
    "\n",
    "Če želite preveriti, ali vse deluje tudi za daljšo dražbo, se vrnite nekaj celic višje, spremenite `ime_dat` v `ime_dat = \"drazba-dolga.txt\"` in s Shift-Enter izvajajte celico za celico."
   ]
  }
 ],
 "metadata": {
  "kernelspec": {
   "display_name": "Python 3 (ipykernel)",
   "language": "python",
   "name": "python3"
  },
  "language_info": {
   "codemirror_mode": {
    "name": "ipython",
    "version": 3
   },
   "file_extension": ".py",
   "mimetype": "text/x-python",
   "name": "python",
   "nbconvert_exporter": "python",
   "pygments_lexer": "ipython3",
   "version": "3.11.5"
  }
 },
 "nbformat": 4,
 "nbformat_minor": 5
}
