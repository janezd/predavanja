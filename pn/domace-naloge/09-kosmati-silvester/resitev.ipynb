{
 "cells": [
  {
   "cell_type": "markdown",
   "id": "b32928a0",
   "metadata": {},
   "source": [
    "Polona in Ančka nista sami. Danes bomo delali z originalnimi podatki (za prajšnjo domačo nalogo so bili predelani v prijaznejšo obliko), kakršne dobimo na spletni strani [Movebank](https://www.movebank.org/cms/webapp?gwt_fragment=page=search_map), če poiščemo medvede in kliknemo na študijo, izvedeno v Sloveniji. Za potrebe domače naloge so podatki seveda že priloženi nalogi - so pa enaki, kot bi jih sami dobili na spletni strani.\n",
    "\n",
    "**Ker se naloga ocenjuje, je pogoj za pristop k izpitu in jo morate narediti vsaj za oceno 6.**\n",
    "\n",
    "Vse funkcije morajo biti napisane tako, kot da bi tabela lahko vsebovala druge podatke (drugačno število vrstic, drugačno število medvedov z drugimi imeni, datumi in lokacijami), smejo (in morajo) pa predpostaviti, da se stolpci imenujejo tako, kot v podani datoteki. Testi bodo tvojemu programu podtikali tudi drugačne podatke.\n",
    "\n",
    "Kjer ni eksplicitno zahtevan numpy, lahko nalogo rešuješ, kakor želiš.\n",
    "\n",
    "Ta naloga bo manj kaotična kot Miklavževa pisma. :) Podatki so lepši in edina funkcija, kjer bo malo zmede, je prva - zaradi zapletenega preračunavanja podakov.\n",
    "\n",
    "## Ocena 6: Medo z Garminom\n",
    "\n",
    "#### 1. Branje podatkov\n",
    "\n",
    "Napiši funkcijo, `preberi_podatke()`, ki prebere podatke iz datoteke `\"Brown bear Slovenia 1993-1999.csv\"`, ki se nahaja v istem direktoriju kot program. Za branje podatkov lahko napišeš funkcijo ali ne; lahko uporabljaš `np.genfromtxt` (ali, kot se bo izkazalo, raje) primerno Pythonovo funkcijo za branje csv datotek.\n",
    "\n",
    "Funkcija mora vrniti terko četverko s štirimi tabelami. Vse imajo toliko vrstic (oz. elementov, če so 1D), kolikor je meritev v datoteki.\n",
    "\n",
    "- `imena` je vsebuje imena medvedov; konkretno, v tabelo prebereš stolpec `individual-local-identifier`.\n",
    "- `datumi` ima tri stolpce, ki vsebujejo leto, mesec in dan posamične meritve, npr. `[1994, 4, 29]` za peto vrstico.\n",
    "- `dnevi` ima en stolpec, ki vsebuje isti podatek v drugi obliki: namesto datumov vsebuje število dni od začetka študije. **Pri tem ignorirajte ure dneva**: 23. maj ob 00:01 je en dan kasneje kot 22. maj ob 23:59.  Element, ki ustreza vrstici z najstarejšim datumom (4. maj 1993) ima vrednost 0; vrstica, ki se nanaša na 11. maj 1993 ima vrednost 7. Pri tem **ne smeš** predpostaviti, da je 4. maj 1993 najstarejši datum - program mora to odkriti sam.\n",
    "- `xy` vsebuje vsebuje izmerjene koordinate medveda. Koordinatni sistem ima središče v Medvedjem Brdu (N45.9709794, E14.1118016), osi x in y tečeta na sever in vzhod, enota je kilometer.\n",
    "\n",
    "    - Podatke za prvi stolpec dobiš iz `location-lat`. Od prebrane vrednosti moraš odšteti zemljepisno širino Medvedjega Brda (`45.9709794`) in razliko pomnožiti z `40007 / 360`.\n",
    "    - Podatke za drugi stolpecc dobiš iz `location-long`. Odšteti je potrebno zemljepisno dolžino Medvedjega Brda (`14.1118016`) in jo pomnožiti z `40075 * np.cos(np.radians(45.9709794)) / 360`.\n",
    "  \n",
    "    <small>40007 km je obseg Zemlje, merjen čez pole, torej ena stopinja zemljepisne širine predstavlja 40007 / 360 km. [Obseg Zemlje čez ekvator je 40075](https://en.wikipedia.org/wiki/Earth%27s_circumference=; to pomnožimo s cos zemljepisne širine, da dobimo obseg vzporednika, ki teče čez Medvedje Brdo. Ob tej pretvorbi predpostavljamo, da je področje študije dovolj majhno, da nam ni potrebno upoštevati ukrivljenosti Zemlje. Brez te predpostavke bi morali v vseh funkcijah, ki sledijo, delati s koti in računati razdalje na krogli (oz. elipsoidu ali celo geoidu), kar bi bilo precej bolj zoprno.</small>\n",
    "\n",
    "**Nasveti**:\n",
    "\n",
    "- Tabelo `dnevi` pripravite po zanki, ko boste že vedeli, kateri dan je prvi.\n",
    "- Koliko dni je minilo od začetka študijskega leta 2023 do 17. decembra 2023 izveš z `(datetime(2023, 17, 12) - datetime(2023, 10, 01)).days`, pri čemer `datetime` uvoziš z `from datetime import datetime`.\n",
    "- Prvega dneva raje ne išči kot minimum `datumi`. Klic `np.min(datumi)` bo vrnil najmanjšo število v tabeli (1); klic `np.min(datumi, axis=0)` bo vrnil najmanjše leto, najmanjši mesec in najmanjši dan, torej 1. 1. 1993. Ob branju datoteke raje spremljaj datume, si zapomni najmanjšega in ga potem odštej od vseh datumov v `datumi`.\n",
    "\n",
    "Funkcije, ki utegnejo priti prav (ali pa ne, kakor se lotiš):\n",
    "\n",
    "- `np.unique`; poznamo s predavanj, tudi z dodatnimi argumenti.\n",
    "-`np.ptp`; poišči dokumentacijo; uporabna, da ni treba klicati `np.max` in `np.min`.\n",
    "- Poglej, kaj vrne `dict(zip([\"ana\", \"berta\", \"cilka\"], [1, 2, 3]))`.\n",
    "- `np.genfromtext` **ne bo** prišla preveč prav; namesto nje uporabi drugo funkcijo, ki jo poznamo že dolgo."
   ]
  },
  {
   "cell_type": "markdown",
   "id": "97bcd46b",
   "metadata": {},
   "source": [
    "##### Rešitev\n",
    "\n",
    "Za začetek si pripravimo funkcijo, ki prejme zemljepisne koordinate in jih pretvori v medvedje. Pretvorbo bomo namreč potrebovali tudi v kasnejših funkcijah, zato jo je smiselno spraviti v ločeno funkcijo, čeprav naloga sama tega na zahteva.\n",
    "\n",
    "Funkcija `pretvori_koordinate` bo prejela tabelo s koordinatami in pretvorila podatke v njej. Spremenila bo torej podano tabelo, ne pa vračala novo."
   ]
  },
  {
   "cell_type": "code",
   "execution_count": 1,
   "id": "5674bd50",
   "metadata": {},
   "outputs": [],
   "source": [
    "def pretvori_koordinate(xy):\n",
    "    xy -= [45.9709794, 14.1118016]\n",
    "    xy *= [40007 / 360, 40075 * np.cos(np.radians(45.9709794)) / 360]"
   ]
  },
  {
   "cell_type": "markdown",
   "id": "4f061343",
   "metadata": {},
   "source": [
    "Zdaj pa branje podatkov. Funkcija je kar dolga. Ne, ker bi bila posebej zapletena, temveč ker mora postoriti veliko stvari.\n",
    "\n",
    "Sprogramirali jo bomo dvakrat: prvič bomo prebrali podatke v sezname in jih na koncu pretvorili v tabele. Drugič bomo že v začetku pripravili tabele primernih velikosti in podatke pisali naravnost vanje."
   ]
  },
  {
   "cell_type": "code",
   "execution_count": 2,
   "id": "57257fcd",
   "metadata": {},
   "outputs": [
    {
     "name": "stdout",
     "output_type": "stream",
     "text": [
      "Intel MKL WARNING: Support of Intel(R) Streaming SIMD Extensions 4.2 (Intel(R) SSE4.2) enabled only processors has been deprecated. Intel oneAPI Math Kernel Library 2025.0 will require Intel(R) Advanced Vector Extensions (Intel(R) AVX) instructions.\n",
      "Intel MKL WARNING: Support of Intel(R) Streaming SIMD Extensions 4.2 (Intel(R) SSE4.2) enabled only processors has been deprecated. Intel oneAPI Math Kernel Library 2025.0 will require Intel(R) Advanced Vector Extensions (Intel(R) AVX) instructions.\n"
     ]
    }
   ],
   "source": [
    "import csv\n",
    "from datetime import datetime\n",
    "\n",
    "import numpy as np"
   ]
  },
  {
   "cell_type": "code",
   "execution_count": 3,
   "id": "b790d29e",
   "metadata": {},
   "outputs": [],
   "source": [
    "def preberi_podatke():\n",
    "    datumi = []\n",
    "    xy = []\n",
    "    imena = []\n",
    "    for vrstica in csv.DictReader(open(\"Brown bear Slovenia 1993-1999.csv\")):\n",
    "        imena.append(vrstica[\"individual-local-identifier\"])\n",
    "        datumi.append(datetime.fromisoformat(vrstica[\"timestamp\"][:10]))\n",
    "        x = float(vrstica[\"location-lat\"])\n",
    "        y = float(vrstica[\"location-long\"])\n",
    "        xy.append((x, y))\n",
    "\n",
    "    prvi_dan = min(datumi)\n",
    "    dnevi = []\n",
    "    for i, datum in enumerate(datumi):\n",
    "        dnevi.append((datum - prvi_dan).days)\n",
    "        datumi[i] = (datum.year, datum.month, datum.day)\n",
    "\n",
    "    xy = np.array(xy)\n",
    "    pretvori_koordinate(xy)\n",
    "    return np.array(imena), np.array(datumi), np.array(dnevi), xy"
   ]
  },
  {
   "cell_type": "markdown",
   "id": "71aaaf3c",
   "metadata": {},
   "source": [
    "Najprej pripravimo prazne sezname. Nato jih polnimo v zanki.\n",
    "- V `imena` preprosto dodajamo imena medvedov.\n",
    "- Od datuma, `vrstica[\"timestamp\"]` obdržimo le prvih deset znakov, `[:10]`. To podamo funkciji `datetime.fromisoformat`, da dobimo `datetime`. V seznamu `datumi` bodo datumi za zdaj shranjeni v takšni obliki. Pretvorili jih bomo kasneje.\n",
    "- Koordinati preberemo iz ustreznih polj in shranimo kot par v seznam.\n",
    "\n",
    "Po zanki poskrbimo še za `dnevi`. Prvi dan dobimo kar z `min(datumi)`. Tip `datetime` je napisan lepo in datume primerja, kot je treba. Sestavimo prazno tabelo `dnevi` in se z zanko zapeljemo čez datume. Od vsakega datuma odštejemo prvi dan in s `.days` dobimo število dni v razliki. In, ko smo že ravno pri tem, zamenjamo datum s trojko (leto, mesec, dan). To počnemo kar v istem seznamu, datumi, zato potrebujemo indeks elementa - kar je razlog, da čez datume ne gremo s `for datum in datumi`, temveč `for i, datum in enumerate(datumi)`.\n",
    "\n",
    "Na koncu pretvorimo `xy` v `numpy`-jevo tabelo in koordinate s klicem `pretvoti_koordinate` pretvorimo iz zemljepisnih v medvedje. Ostale tri seznama pretvorimo v tabele kar sproti, v `return`.\n",
    "\n",
    "Drugo različico funkcije sem imel v mislih pri sestavljanju naloge. Ker že od začetka uporablja numpyjeve tabele, poleg tega pa še izpeljane sezname in drugo eksotiko se mi je zdelo, da bo krajša, lepša, učinkovitejša. Vendar ni. Vseeno jo pokažem in razložim."
   ]
  },
  {
   "cell_type": "code",
   "execution_count": 4,
   "id": "46988c8b",
   "metadata": {},
   "outputs": [],
   "source": [
    "def preberi_podatke():\n",
    "    vrstice = list(csv.DictReader(open(\"Brown bear Slovenia 1993-1999.csv\")))\n",
    "    \n",
    "    datumi = np.empty((len(vrstice), 3), dtype=int)\n",
    "    xy = np.empty((len(vrstice), 2))\n",
    "    imena = np.empty(len(vrstice), dtype=\"U15\")\n",
    "    \n",
    "    prvi_dan = None\n",
    "    for i, vrstica in enumerate(vrstice):\n",
    "        datum = [int(x) for x in vrstica[\"timestamp\"][:10].split(\"-\")]\n",
    "        datumi[i] = datum\n",
    "        if prvi_dan is None or datum < prvi_dan:\n",
    "            prvi_dan = datum\n",
    "        xy[i] = [float(vrstica[x]) for x in (\"location-lat\", \"location-long\")]\n",
    "        imena[i] = vrstica[\"individual-local-identifier\"]\n",
    "\n",
    "    prvi_dan = datetime(*prvi_dan)\n",
    "    dnevi = np.array([(datetime(*datum) - prvi_dan).days for datum in datumi])\n",
    "    pretvori_koordinate(xy)\n",
    "    return imena, datumi, dnevi, xy"
   ]
  },
  {
   "cell_type": "markdown",
   "id": "82c94a00",
   "metadata": {},
   "source": [
    "Najprej sestavimo `csv.DictReader`. Namesto da bi šli čezenj z zanko, ga podamo funkciji `list`. Ta bo sestavila seznam iz vsega, kar vrne `DictReader`.\n",
    "\n",
    "Nato sestavimo tabele, ki jih bomo vrnili: `datumi`, `xy` in `imena`. Še eno `dnevi` bomo sestavili kasneje. Te potrebujemo že zdaj zato, ker bomo vanje brali podatke iz datoteke - oziroma iz seznama, v katerega smo shranili podatke iz datoteke. Tabele so takih dimenzij in tipov, kot jih zahteva naloga.\n",
    "\n",
    "Sledi branje. Čez vrstice bomo šli s `for i, vrstica in enumerate(vrstice)`. Na ta način bo `vrstica` slovar, ki ga je vrnil `DictReader`, `i` pa zaporedna številka vrstice. Slednjo bomo uporabili kot indeks v tabele, ki jih moramo napolniti.\n",
    "\n",
    "Iz vseke vrstice razberemo datum. Datum dobimo iz `vrstica[\"timestamp\"]`; vzamemo le prvih deset znakov (to bodo leto, mesec in dan), jih razdelimo glede na `-` in vsako stvar posebej pretvorimo v `int`. To je seveda možno storiti tudi počasneje. :) Dobljeni datum prepišemo v `datumi[i]`.\n",
    "\n",
    "Ker bo potrebno tabelo `dnevi` napolniti s številom dni, ki so minili od najstarejšega datuma v tabeli, si znotraj te zanke zapomnimo tudi `prvi_dan`. Pred zanko ga nastavimo na `None`, v zanki pa popravimo, če je še vedno enak `None` (in torej gledamo prvo vrstico) ali pa če naletimo na zgodnejši datum. Obe spremenljivki, `datum` in `prvi_dan` sta seznama in sezname Python primerja po velikosti tako, da najprej primerja prvi element, če sta enaka, primerja drugega, če sta enaka tudi tadva, tretjega ... Ker so datumi zloženi po japonsko - leto, mesec, dan - bo to pravilno primerjali datume.\n",
    "\n",
    "V `xy[i]` preberemo f `float` pretvorijena podatka o zemljepisni dolžini in širini, v `imena[i]` pa preberemo ime medveda.\n",
    "\n",
    "Ko je zanka končana, spremenimo `prvi_dan` v `datetime`. Kaj počne zvezdica pred `prvi_dan` v argumentu funkcije? Čudni klic `datetime(*prvi_dan)` je okrajšava za `datetime(prvi_dan[0], prvi_dan[1], prvi_dan[2])`. Namesto, da takole razpisali argumente, dodamo pred tabelo zvezdico.\n",
    "\n",
    "Zdaj lahko sestavimo tabelo `dnevi`, v kateri bodo razlike med posamičnimi datumi (spet čudni klic z zvezdico) in prvim dnevom. Razlike izrazimo v dnevih, `(datetime(*datum) - prvi_dan).days`.\n",
    "\n",
    "Za konec pokličemo še `pretvori_koordinate`, potem pa vrnemo vse štiri tabele."
   ]
  },
  {
   "cell_type": "markdown",
   "id": "efd57ad7",
   "metadata": {},
   "source": [
    "#### 2. Globalne spremenljivke\n",
    "\n",
    "V program dodaj vrstico\n",
    "\n",
    "```python\n",
    "imena, datumi, dnevi, xy = preberi_podatke()\n",
    "```\n",
    "\n",
    "Vse podatke zdaj dobiš v teh štirih spremenljivkah, tako da ti ni potrebno klicati `preberi_podatke`.\n",
    "\n",
    "\n",
    "##### Rešitev"
   ]
  },
  {
   "cell_type": "code",
   "execution_count": 5,
   "id": "6284163a",
   "metadata": {},
   "outputs": [],
   "source": [
    "imena, datumi, dnevi, xy = preberi_podatke()"
   ]
  },
  {
   "cell_type": "markdown",
   "id": "2f9d3c70",
   "metadata": {},
   "source": [
    "#### 3. Inventura\n",
    "\n",
    "Napiši še funkcije\n",
    "\n",
    "- `medvedi()` vrne abecedno urejen seznam imen medvedov, ki so prijazno sodelovali v študiji.\n",
    "- `n_meritev` vrne slovar, katerega ključi so imena medvedov, vrednosti pa število meritev vsakega medveda.\n",
    "- `razponi()` vrne slovar, katerega ključi so imena medvedov, vrednosti pa število dni med prvo in zadnjo meritvijo medveda. Medvedu, ki bi ga začeli spremljati 4. maja 1996 in bi raziskovalcem pokazal srednji krempelj že 13. maja 1996, bi pripadal razpon 9.\n",
    "\n",
    "#### Rešitev"
   ]
  },
  {
   "cell_type": "code",
   "execution_count": 6,
   "id": "b5e96075",
   "metadata": {},
   "outputs": [],
   "source": [
    "def medvedi():\n",
    "    return sorted(set(imena))\n",
    "\n",
    "def n_meritev():\n",
    "    medvedi, meritve = np.unique(imena, return_counts=True)\n",
    "    n_meri = {}\n",
    "    for medved, meritev in zip(medvedi, meritve):\n",
    "        n_meri[medved] = meritev\n",
    "    return n_meri\n",
    "\n",
    "def razponi():\n",
    "    return {medved: np.ptp(dnevi[imena == medved]) for medved in medvedi()}"
   ]
  },
  {
   "cell_type": "markdown",
   "id": "98ce1524",
   "metadata": {},
   "source": [
    "Prva funkcija je očitna: naredimo množico imen, da se znebimo duplikatov, potem pokličemo `sorted`, ki vrne urejen seznam. Še preprosteje bi bilo kar izkoristiti funkcijo `n_meritev`, ki vrne slovar, katerega ključi so imena medvedov. Če damo takšen slovar funkciji `sorted`, bo pobrala njegove ključe v urejen seznam."
   ]
  },
  {
   "cell_type": "code",
   "execution_count": 7,
   "id": "0e5aed7c",
   "metadata": {},
   "outputs": [],
   "source": [
    "def medvedi():\n",
    "    return sorted(n_meritev())"
   ]
  },
  {
   "cell_type": "markdown",
   "id": "cac04f53",
   "metadata": {},
   "source": [
    "Druga pokliče `np.unique`. Ta vrne imena medvedov in število pojavitev vsakega. To shrani v ločeni tabeli. Sestavi slovar `n_meri` in vanj prepisuje imena medvedov in število meritev.\n",
    "\n",
    "V navodilih bil namig o hitrejšem načinu tvorjenja takšnega slovarja. Z njim skrajšamo funkcijo v"
   ]
  },
  {
   "cell_type": "code",
   "execution_count": 8,
   "id": "e5fa5667",
   "metadata": {},
   "outputs": [],
   "source": [
    "def n_meritev():\n",
    "    medvedi, meritve = np.unique(imena, return_counts=True)\n",
    "    return dict(zip(medvedi, meritve))"
   ]
  },
  {
   "cell_type": "markdown",
   "id": "6f4c99a9",
   "metadata": {},
   "source": [
    "Kdor zna, lahko rezultate funkcije `np.unique` kar prepoda `zip`-u."
   ]
  },
  {
   "cell_type": "code",
   "execution_count": 9,
   "id": "725df5bd",
   "metadata": {},
   "outputs": [],
   "source": [
    "def n_meritev():\n",
    "    return dict(zip(*np.unique(imena, return_counts=True)))"
   ]
  },
  {
   "cell_type": "markdown",
   "id": "7cb3c298",
   "metadata": {},
   "source": [
    "Prav nobene sramote pa si ni naredil ta, ki je uporabil `Counter`."
   ]
  },
  {
   "cell_type": "code",
   "execution_count": 10,
   "id": "643a79e3",
   "metadata": {},
   "outputs": [],
   "source": [
    "from collections import Counter\n",
    "\n",
    "def n_meritev():\n",
    "    return Counter(imena)"
   ]
  },
  {
   "cell_type": "markdown",
   "id": "5f183922",
   "metadata": {},
   "source": [
    "Razpone smo sestavili z izpeljanim slovarjem. Kdor ne zna tako, je šel pač po daljši poti."
   ]
  },
  {
   "cell_type": "markdown",
   "id": "cf4bb913",
   "metadata": {},
   "source": [
    "### Neobvezni del\n",
    "\n",
    "Kot neobvezno nalogo lahko poskusiš narisati naslednja grafa.\n",
    "\n",
    "<img src=\"data:image/.png;base64,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\"/>"
   ]
  },
  {
   "cell_type": "markdown",
   "id": "d3165f7f",
   "metadata": {},
   "source": [
    "Oba sta `barh`. Z desnim ne bi smelo biti posebnih težav. Levi je bolj zanimiv. Črte tečejo od minimalnega do maksimalnega dneva; to dosežemo z argumentom `left`, kot dolžino pa podamo razliko med `min` in `max` (točno to, kar vrača `razpon`). Za nastavljanje številk na osebh uporabimo `xticks`. Predlagam, da se potrudiš z desnim grafom, levega pa pokažem na predavanjih, če bo čas.\n",
    "\n",
    "#### Rešitev\n",
    "\n",
    "Narisati le desni graf je preprosto."
   ]
  },
  {
   "cell_type": "code",
   "execution_count": 11,
   "id": "1c7941c4",
   "metadata": {},
   "outputs": [
    {
     "data": {
      "text/plain": [
       "<BarContainer object of 22 artists>"
      ]
     },
     "execution_count": 11,
     "metadata": {},
     "output_type": "execute_result"
    },
    {
     "data": {
      "image/png": "[encoded data removed]",
      "text/plain": [
       "<Figure size 640x480 with 1 Axes>"
      ]
     },
     "metadata": {},
     "output_type": "display_data"
    }
   ],
   "source": [
    "import matplotlib.pyplot as plt\n",
    "\n",
    "uniimena, meritev = np.unique(imena, return_counts=True)\n",
    "\n",
    "plt.barh(uniimena, meritev)"
   ]
  },
  {
   "cell_type": "markdown",
   "id": "7c2b2078",
   "metadata": {},
   "source": [
    "Levi je bolj zapleten."
   ]
  },
  {
   "cell_type": "code",
   "execution_count": 12,
   "id": "81da9875",
   "metadata": {},
   "outputs": [
    {
     "data": {
      "text/plain": [
       "([<matplotlib.axis.XTick at 0x1134d1f50>,\n",
       "  <matplotlib.axis.XTick at 0x1134cab90>,\n",
       "  <matplotlib.axis.XTick at 0x11354b710>,\n",
       "  <matplotlib.axis.XTick at 0x1135a8210>,\n",
       "  <matplotlib.axis.XTick at 0x1135aa510>,\n",
       "  <matplotlib.axis.XTick at 0x1135ac690>,\n",
       "  <matplotlib.axis.XTick at 0x1135a9e10>,\n",
       "  <matplotlib.axis.XTick at 0x1135af6d0>],\n",
       " [Text(0, 0, '1993'),\n",
       "  Text(365, 0, '1994'),\n",
       "  Text(730, 0, '1995'),\n",
       "  Text(1095, 0, '1996'),\n",
       "  Text(1461, 0, '1997'),\n",
       "  Text(1826, 0, '1998'),\n",
       "  Text(2191, 0, '1999'),\n",
       "  Text(2556, 0, '2000')])"
      ]
     },
     "execution_count": 12,
     "metadata": {},
     "output_type": "execute_result"
    },
    {
     "data": {
      "image/png": "[encoded data removed]",
      "text/plain": [
       "<Figure size 640x480 with 1 Axes>"
      ]
     },
     "metadata": {},
     "output_type": "display_data"
    }
   ],
   "source": [
    "rmin = np.array([np.min(dnevi[imena == medved]) for medved in uniimena])\n",
    "rmax = np.array([np.max(dnevi[imena == medved]) for medved in uniimena])\n",
    "\n",
    "plt.barh(uniimena, rmax - rmin, left=rmin)\n",
    "plt.xticks([(datetime(i, 1, 1) - datetime(1993, 1, 1)).days for i in range(1993, 2001)],\n",
    "           [str(i) for i in range(1993, 2001)])"
   ]
  },
  {
   "cell_type": "markdown",
   "id": "1c4b8b6b",
   "metadata": {},
   "source": [
    "`rmin` in `rmax` sta prva in zadnja meritev za vsakega medveda.\n",
    "\n",
    "`barh` podamo imena, dolžine črt (`rmax - rmin`) in koliko jih je potrebno odmakniti od levega roba (`rmin`).\n",
    "\n",
    "Z `xticks` smo določili položaj (prvi argument) in vsebino oznak na osi `x`. Položaj je preprosto število dni od 1. januarja 1993 do 1. januarja posameznega leta; vsebina oznake pa je leto, pretvorjeno v niz."
   ]
  },
  {
   "cell_type": "markdown",
   "id": "1162ddf6",
   "metadata": {},
   "source": [
    "Takole pa narišemo oba grafa enega ob drugem - natančno kot na gornji sliki."
   ]
  },
  {
   "cell_type": "code",
   "execution_count": 13,
   "id": "430d2f49",
   "metadata": {},
   "outputs": [
    {
     "data": {
      "text/plain": [
       "Text(0.5, 1.0, 'Časovni razpon')"
      ]
     },
     "execution_count": 13,
     "metadata": {},
     "output_type": "execute_result"
    },
    {
     "data": {
      "image/png": "[encoded data removed]",
      "text/plain": [
       "<Figure size 920x460 with 2 Axes>"
      ]
     },
     "metadata": {},
     "output_type": "display_data"
    }
   ],
   "source": [
    "import matplotlib.pyplot as plt\n",
    "\n",
    "uniimena, meritev = np.unique(imena, return_counts=True)\n",
    "rmin = np.array([np.min(dnevi[imena == medved]) for medved in uniimena])\n",
    "rmax = np.array([np.max(dnevi[imena == medved]) for medved in uniimena])\n",
    "\n",
    "plt.figure(figsize=(10, 5), dpi=92)\n",
    "\n",
    "ax1 = plt.subplot(122)\n",
    "ax1.barh(uniimena, meritev)\n",
    "ax1.set_title(\"Število meritev\")\n",
    "\n",
    "ax2 = plt.subplot(121, sharey=ax1)\n",
    "plt.xticks([(datetime(i, 1, 1) - datetime(1993, 1, 1)).days for i in range(1993, 2001)],\n",
    "           [str(i) for i in range(1993, 2001)])\n",
    "plt.tick_params('y', labelleft=False)\n",
    "ax2.barh(uniimena, rmax - rmin, left=rmin)\n",
    "ax2.set_title(\"Časovni razpon\")"
   ]
  },
  {
   "cell_type": "markdown",
   "id": "bb9a2f28",
   "metadata": {},
   "source": [
    "S `plt.figure` smo določili velikost slike (v palcih) in ločljivost. Od tega je odvisna tudi privzeta velikost črk. S tem se je potrebno pač malo poigrati, da dobimo primerno razmerje.\n",
    "\n",
    "`ax1` in `ax2` bosta sliki znotraj slike. Ko sestavimo `ax2` povemo, da si bo delila os `y` z `ax1`.\n",
    "\n",
    "S `plt.tick_params('y', labelleft=False)` skrijemo oznake na levi osi levega grafa."
   ]
  },
  {
   "cell_type": "markdown",
   "id": "3cb7687a",
   "metadata": {},
   "source": [
    "## Ocena 7: *Z zakrivljeno palico v roki* (pohaja medved *za tropom ovčic*)\n",
    "\n",
    "Najbolj zanimive so meritve v dveh zaporednih dnevih - torej, ko so nekega medveda videli na primer, 13. maja in potem 14. maja.\n",
    "\n",
    "**Pazi:** v fake-data.csv se datuma 2001-01-03 in 2001-01-04 ne nanašata na istega medveda, torej ne gre za zaporedno meritev!\n",
    "\n",
    "- `n_zaporednih_meritev(medved)` prejme ime medved in pove, kolikokrat se je zgodilo, da je za medveda zabeležena pozicija na dva zaporedna dneva. (Recimo: koliko je takšnih dni, za katere velja, da so taistega medveda videli tudi dan predtem.) \n",
    "- `zaporedne_meritve()` vrne slovar, katerega ključi so imena medvedov, pripadajoče vrednost pa število zaporednih meritev za te medvede.\n",
    "- `dnevna_razdalja(medved)` vrne povprečno dnevno razdaljo, ki jo je prehodil medved. Izračunamo jo tako, da za vse dneve, za katere obstajajo zaporedne meritve, izračunamo razdaljo med izmerjenima koordinata. Funkcija vrne povprečje teh razdalj. Če za kakega medveda ni zaporednih meritev, naj funkcija vrne `np.nan` oz. `math.nan`.\n",
    "- `dnevne_razdalje()` vrne slovar, katerega ključi so medvedi, pripadajoče vrednosti pa njihove povprečne dnevne razdalje.\n",
    "- `popotnik()` vrne ime medveda z največjo povprečno dnevno razdaljo.\n",
    "- `izlet()` poišče največjo dnevno razdaljo (torej: par najbolj oddaljenih pozicij izmerjenih na zaporedna dneva za istega medvega). Vrniti mora trojko: ime medveda, ki je opravil tako pot, datum potovanja (drugi dan, ne prvi) in pretacano razdaljo. Datum je lahko shranjen kot Pythonov seznam s tremi elementi ali ekvivalentna tabela v numpyju.\n",
    "\n",
    "<small>Opomba: dnevne razdalje so seveda podcenjene. Pravilne bi bile, če bi šel medved po tem, ko mu odčitajo pozicijo, v ravni črti na točko, kjer bi mu odčitali pozicijo prihodnji dan. To seveda ni nujno res, saj gre vmes mogoče še na stranišče ali pa strašit kolesarje.</small>\n",
    "\n",
    "Naloge se lahko lotite po starem ali, vendar za vajo priporočam, da `n_zaporednih_meritev`, `dnevna_razdalja` in `izlet` sprogramirate z numpy (ali celo z in brez). Pri ostalih funkcijah numpy nima smisla, saj delajo le s kratkimi slovarji.\n",
    "\n",
    "- Ta naloga je ena velika vaja iz mask, ki jih včasih le seštevamo, včasih pa očitno bo potrebno uporabljati maske in `np.sum`.\n",
    "- `np.sqrt(a)` vrne tabelo s koreni vseh elementov v `a`.\n",
    "- `np.mean(a)` vrne povprečno vrednost v tabeli `a`. Funkcija sprejme tudi `axis`, vendar tega tu ne potrebujemo.\n",
    "\n",
    "Tudi tu lahko za neobvezno vajo dorišeš kak graf, recimo `bar` ali `barh` z dnevno razdaljo, ki jo prehodi medved.\n",
    "\n",
    "### Rešitev\n",
    "\n",
    "#### `n_zaporednih_meritev`\n",
    "\n",
    "Najprej rešitev z `numpy`. Izberemo dneve, ki govorijo o podanm medvedu, `dnevi(imena == medved)`. Nato odštejemo zaporedne elemente in preverimo, ali je razlika enaka 1. Razultat bo tabela `True`-jev in `False`-ov. Zanima nas, koliko je `True`-jev, torej jo preprosto sešetejemo."
   ]
  },
  {
   "cell_type": "code",
   "execution_count": 14,
   "id": "3dabf91a",
   "metadata": {},
   "outputs": [],
   "source": [
    "def n_zaporednih_meritev(medved):\n",
    "    znani = dnevi[imena == medved]\n",
    "    return np.sum(znani[1:] - znani[:-1] == 1)"
   ]
  },
  {
   "cell_type": "markdown",
   "id": "5ce9d7dd",
   "metadata": {},
   "source": [
    "Zdaj pa brez `numpy`-ja. Z indeksom `i` gremo prek celotne tabele. Če `i`-ti in `i + 1`-vi element `imena` pravita, da se vrstica nanaša na podanega medveda in če se `i`-ti in `i + 1`-vi dan nanašata na zaporedna dneva, imamo eno meritev več."
   ]
  },
  {
   "cell_type": "code",
   "execution_count": 15,
   "id": "bb4319c3",
   "metadata": {},
   "outputs": [],
   "source": [
    "def n_zaporednih_meritev(medved):\n",
    "    zaporednih = 0\n",
    "    for i in range(len(dnevi) - 1):\n",
    "        if imena[i] == imena[i + 1] == medved and dnevi[i + 1] - dnevi[i] == 1:\n",
    "            zaporednih += 1\n",
    "    return zaporednih"
   ]
  },
  {
   "cell_type": "markdown",
   "id": "08ff6cfb",
   "metadata": {},
   "source": [
    "Krajše lahko to zapišemo v obliki, ki že skoraj spominja na `numpy`."
   ]
  },
  {
   "cell_type": "code",
   "execution_count": 16,
   "id": "1ef27209",
   "metadata": {},
   "outputs": [],
   "source": [
    "def n_zaporednih_meritev(medved):\n",
    "    return sum(imena[i] == imena[i + 1] == medved and dnevi[i + 1] - dnevi[i] == 1\n",
    "               for i in range(len(dnevi) - 1))"
   ]
  },
  {
   "cell_type": "markdown",
   "id": "6bc2e875",
   "metadata": {},
   "source": [
    "Čeprav je ta, zadnja različica kratka, bo tista v `numpy`-ju vseeno bistveno hitrejša. Res pa se bo razlika poznala šele, ko bomo imeli res veliko podatkov.\n",
    "\n",
    "#### `zaporedne_meritve`\n",
    "\n",
    "Tule le sestavimo slovar. Na počasi ali na hitro, kot v spodnji funkciji."
   ]
  },
  {
   "cell_type": "code",
   "execution_count": 17,
   "id": "7eb64aa9",
   "metadata": {},
   "outputs": [],
   "source": [
    "def zaporedne_meritve():\n",
    "    return {medved: n_zaporednih_meritev(medved) for medved in medvedi()}"
   ]
  },
  {
   "cell_type": "markdown",
   "id": "8d6be3b1",
   "metadata": {},
   "source": [
    "#### `dnevna_razdalja`\n",
    "\n",
    "Tule gre spet predvsem za sestavljanje mask. S `ta_medved = imena == medved` dobimo masko, ki vsebuje `True` se vse vrstice, ki se nanašajo na tega medveda. To masko (brez zadnjega elementa) združimo z zamaknjeno masko, takšno brez prvega. Tako dobimo `True` v vseh vrsticah, za katere velja, da se tudi naslednja vrstica nanaša na tega istega medveda. Poleg tega z `dnevi[1:] - dnevi[:-1]` izračunamo razliko med zaporednimi elementi v `dnevi`. Z `== 1` poberemo tiste, pri katerih je ta razlika enaka `1`. Tako dobimo masko, ki ima `True` za vse prve vrstice izmed vrstic, ki se nanašajo na tega medveda in merijo zaporedne dneve.\n",
    "\n",
    "Koordinate teh vrstic dobimo z `xy[:-1][maska]` (zadnji element moramo odbiti, ker je maska za en element krajša), koordinate naslednjih pa z `xy[1:][maska]` (s tem, ko odbijemo prvi element, poberemo ravno naslednje vrstice). Od druge odštejemo prvo. To kvadriramo, seštejemo po prvi osi in korenimo, pa dobimo vse dnevne razdalje. Vrniti moramo njihovo povprečje."
   ]
  },
  {
   "cell_type": "code",
   "execution_count": 18,
   "id": "3860f03b",
   "metadata": {},
   "outputs": [],
   "source": [
    "def dnevna_razdalja(medved):\n",
    "    ta_medved = imena == medved\n",
    "    maska = ta_medved[:-1] & ta_medved[1:] & (dnevi[1:] - dnevi[:-1] == 1)\n",
    "    return np.mean(np.sqrt(np.sum((xy[1:][maska] - xy[:-1][maska]) ** 2, axis=1)))"
   ]
  },
  {
   "cell_type": "markdown",
   "id": "e0cfdae4",
   "metadata": {},
   "source": [
    "Takole pa to storimo brez numpyja."
   ]
  },
  {
   "cell_type": "code",
   "execution_count": 19,
   "id": "89109f53",
   "metadata": {},
   "outputs": [],
   "source": [
    "def dnevna_razdalja(medved):\n",
    "    danp = 0\n",
    "    raz = 0\n",
    "    n = 0\n",
    "    for ime, dan, koo in zip(imena, dnevi, xy):\n",
    "        if dan == danp + 1 and imep == ime == medved:\n",
    "            x0, y0 = koo\n",
    "            x1, y1 = koop\n",
    "            raz += np.sqrt((x0 - x1) ** 2 + (y0 - y1) ** 2)\n",
    "            n += 1\n",
    "        imep, danp, koop = ime, dan, koo\n",
    "    return raz / n if n else np.nan"
   ]
  },
  {
   "cell_type": "markdown",
   "id": "0c6105e2",
   "metadata": {},
   "source": [
    "V `danp` si zapomnimo prejšnji dan, v `imep` in `koop` pra prajšnji koordinati. V pogoju znotraj zanke preverimo, ali imamo opravka s pravim medvedom in zaporednimi dnevi. Če je tako, razpakiramo koordinate in izračunamo razdaljo. To prištejemo k vsoti razdalj, v `n` pa štejemo, koliko takšnih meritev imamo.\n",
    "\n",
    "Na koncu vrnemo povprečno razdaljo ali `np.nan`, če je `n` enak nič (in torej neresničen).\n",
    "\n",
    "#### `dnevne_razdalje`\n",
    "\n",
    "Funkcija `dnevne_razdalje` spet le sestavi slovar. Na hitro, kot kot spodaj, ali počasneje. Kakor zmoremo in znamo."
   ]
  },
  {
   "cell_type": "code",
   "execution_count": 20,
   "id": "69285621",
   "metadata": {},
   "outputs": [],
   "source": [
    "def dnevne_razdalje():\n",
    "    return {medved: dnevna_razdalja(medved) for medved in medvedi()}"
   ]
  },
  {
   "cell_type": "markdown",
   "id": "93d92181",
   "metadata": {},
   "source": [
    "#### `popotnik`\n",
    "\n",
    "Ključ, ki pripada največjemu elementu slovarja, menda znamo poiskati. Tule je rokohitrska rešitev."
   ]
  },
  {
   "cell_type": "code",
   "execution_count": 21,
   "id": "b1fb7d75",
   "metadata": {},
   "outputs": [],
   "source": [
    "def popotnik():\n",
    "    razd = dnevne_razdalje()\n",
    "    return max((k for k, v in razd.items() if not np.isnan(v)), key=razd.get)"
   ]
  },
  {
   "cell_type": "markdown",
   "id": "6b4ad414",
   "metadata": {},
   "source": [
    "#### `izlet`\n",
    "\n",
    "Z  `imena[1:] == imena[:-1]` poiščemo zaporedne vrstice, ki se nanašajo na istega medveda in z `dnevi[1:] - dnevi[:-1] == 1` zaporedne vrstice, ki se nanašajo na zaporedna datuma.\n",
    "\n",
    "Nato izračunamo tabelo razdalj na enak način kot v `dnevna_razdalja`.\n",
    "\n",
    "Namesto povprečne vrednosti nas tu zanima največja, točneje, indeks največje vrednosti. Najdaljša razdalja je v `razdalje[i]`. Past pa je v tem, da imena in datuma ne smemo prebrati iz `imena[i]` in `datumi[i]`. Indeks `i` se namreč nanaša na `razdalje`, izračunane iz filtriranega `xy` - takšnega, v katerem smo izpustili vse vrstice, ki se ne nanašajo na istega medveda ali zaporedne dni. Zato je potrebno tabeli `imena` in `datumi` spustiti skozi masko, preden ju indeksiramo z `i`. Ker je maska za en element krajša, bo potrebno en element odbiti. Pri imenih bi bilo vseeno, ali odbijemo prvega ali zadnjega. Pri datumih odbijemo prvi datum v tabeli, da jo zamaknemo za en element; tako se bo na `i` tem mestu znašel drugi dan, tisti, na katerega je medved končal izlet -- kot zahteva naloga."
   ]
  },
  {
   "cell_type": "code",
   "execution_count": 22,
   "id": "da5a4475",
   "metadata": {},
   "outputs": [],
   "source": [
    "def izlet():\n",
    "    maska = (imena[1:] == imena[:-1]) & (dnevi[1:] - dnevi[:-1] == 1)\n",
    "    razdalje = np.sqrt(np.sum((xy[1:][maska] - xy[:-1][maska]) ** 2, axis=1))\n",
    "    i = np.argmax(razdalje)\n",
    "    return imena[1:][maska][i], datumi[1:][maska][i], razdalje[i]"
   ]
  },
  {
   "cell_type": "markdown",
   "id": "4ef67310",
   "metadata": {},
   "source": [
    "## Ocena 8: Zimsko spanje\n",
    "\n",
    "- Napiši funkcijo `mesecna_razdalja`, ki vrne tabelo ali seznam z 12 elementi, ki vsebujejo povprečno dnevno razdaljo, ki jo medvedi prehodijo v posameznem mesecu. Pri računanju torej upoštevaš razdalje med lokacijami, zabeleženi na zaporednih dneh za istega medveda. Če gre za meritev med, na primer, 31. januarjem in 1. februarjem, jo beleži pod februar.\n",
    "\n",
    "    Če za kak mesec sploh ni zaporednih meritev (to se zgodi v lažnih podatkih), naj bo na pripadajočem mestu `np.nan`.\n",
    "\n",
    "- Napiši funkcijo `leni_meseci(s)`, ki prejme seznam(!)) z povprečnimi dnevnimi razdaljami po mesecih. Poiskati trimesečno obdobje, v katerem je vsota dnevnih povprečij najmanjša in vrniti indeks prvega meseca tega obdobja. Upoštevaj, da bo vsaj do konca sveta vsakemu decembru sledil januar.\n",
    "\n",
    "    Če je enako najbolj lenih obdobij več, vrni začetek prvega od njih.\n",
    "\n",
    "    Predpostaviti smeš, da podatek za noben mesec ni `np.nan`.\n",
    "\n",
    "    Klic `leni_meseci([5, 3, 5, 1, 2, 0, 3, 4, 1, 6, 1, 5])` vrne `4`, ker se leno obdobje (1, 2, 0) začne pri aprilu.\n",
    "\n",
    "    Klic za resnične podatke vrne 12, ker medvedi lenarijo od decembra do februarja.\n",
    "\n",
    "- Napiši funkcijo `lenoba(s)`, ki prejme enak argument kot prejšnja funkcija in vrne razmerje med povprečno dnevno razdaljo v lenih mesecih in povprečno dnevno razdaljo čez vse leto.\n",
    "\n",
    "**Nasveti**:\n",
    "\n",
    "- v `mesecna_razdalja` se splača kombinirati numpy (maske za imena medvedov in zaporedne dneve, računanje razdalj) ter zanke v Pythonu. Konkretno, v nekem trenutku bo najbrž potrebno narediti zanko čez vse zaporedne dnevne meritve. Lahko pa narediš tudi zanko čez vse podatke, če ti je lažje.\n",
    "- Trik: mogoče se bo kdaj splačalo napisati `s + s`. Na ta način se bo januar znašel (tudi) za decembrom,\n",
    "- Z nekaj iznajdljivosti se drugo funkcijo elegantno reši z `np.cumsum`. Če ti ne potegne, kako, pa naredi v čistem Pythonu. Tretjo pa itak."
   ]
  },
  {
   "cell_type": "markdown",
   "id": "b26be1e4",
   "metadata": {},
   "source": [
    "### Rešitev\n",
    "\n",
    "#### `mesecna_razdalja`\n",
    "\n",
    "Najbolj (no, ne najbolj, pač pa dokaj) `numpy`-jevska rešitev je, da najprej pripravimo tabelo `mesecno`, ki ima toliko vrstic, kolikor je mesecev (12) in dva stolpca. V prvem stolpcu bo vsota mesečnih razdalj, v drugem število meritev za ta mesec.\n",
    "\n",
    "Sstavimo si običajno masko, ki preveri, da gre za istega medveda in zaporedne dni. Potem izračunamo razdalje. To že znamo. Nato v `mesec` zapišemo mesec, v katerem je medved opravil to pot: datumom odbijemo zadnji element (`datumi[:-1]`), da jih lahko spustimo skozi masko `datumi[:-1][maska]` in nato vzamemo prvi stolpec, ki vsebuje `mesec`.\n",
    "\n",
    "Gremo z zanko prek mesecev in razdalij. (Zato je rešitev samo \"dokaj\" numpyjevska - tule imamo Pythonovo zanko, ki gre prek kar dolgih tabel. Vendar bi si tule res zapletli življenje, če bi poskušali narediti drugače.) V tabelo `mesecno` v vrstico `m - 1`, ki se nanaša na `m`-ti mesec, prištejemo `[r, 1]` - torej k prvemu elementu prištejemo razdaljo, k drugemu, preprosto 1.\n",
    "\n",
    "Na koncu vrnemo povprečne razdalje, ki ju dobimo tako, da delimo prvi stolpec z drugim."
   ]
  },
  {
   "cell_type": "code",
   "execution_count": 23,
   "id": "34d4b572",
   "metadata": {},
   "outputs": [],
   "source": [
    "def mesecna_razdalja():\n",
    "    mesecno = np.zeros((12, 2))\n",
    "    maska = (imena[1:] == imena[:-1]) & ((dnevi[1:] - dnevi[:-1]) == 1)\n",
    "    razdalja = np.sqrt(np.sum((xy[1:] - xy[:-1])[maska]**2, axis=1))\n",
    "    mesec = datumi[:-1][maska][:, 1]\n",
    "    for m, r in zip(mesec, razdalja):\n",
    "        mesecno[m - 1] += [r, 1]\n",
    "    return mesecno[:, 0] / mesecno[:, 1]"
   ]
  },
  {
   "cell_type": "markdown",
   "id": "3e797bed",
   "metadata": {},
   "source": [
    "#### `leni_meseci`\n",
    "\n",
    "Najprej nerodna rešitev v čistem Pythonu."
   ]
  },
  {
   "cell_type": "code",
   "execution_count": 24,
   "id": "5b93c6a3",
   "metadata": {},
   "outputs": [],
   "source": [
    "def leni_meseci(s):\n",
    "    naj_raz = None\n",
    "    for mesec in range(12):\n",
    "        raz = sum(s[mesec:mesec + 3])\n",
    "        if mesec > 9:\n",
    "            raz += sum(s[:mesec - 9])\n",
    "        if naj_raz == None or raz < naj_raz:\n",
    "            naj_raz = raz\n",
    "            naj_mesec = mesec\n",
    "    return 1 + naj_mesec"
   ]
  },
  {
   "cell_type": "markdown",
   "id": "fcb623d8",
   "metadata": {},
   "source": [
    "Razdalja, ki jo medved prehodi v treh mesecih, začenši z `mesec`, je, načelno `sum(s[mesec:mesec + 3])`. Zoprninja pa je v tem, da decembru sledi januar. Zato moramo k mesecem od `mesec == 9` naprej (to je oktober!) prišteti še določeno število prvih mesecev. Ostanek je potem preprost.\n",
    "\n",
    "Delo si poenostavimo tako, da seznam podvojimo: namesto `s[mesec:mesec + 3]` seštevamo `(s + s)[mesec:mesec + 3]`. Tako dodamo januar, februar (in še ostalih deset mesecev) na konec."
   ]
  },
  {
   "cell_type": "code",
   "execution_count": 25,
   "id": "bb154196",
   "metadata": {},
   "outputs": [],
   "source": [
    "def leni_meseci(s):\n",
    "    naj_raz = None\n",
    "    for mesec in range(12):\n",
    "        raz = sum((s + s)[mesec:mesec + 3])\n",
    "        if naj_raz == None or raz < naj_raz:\n",
    "            naj_raz = raz\n",
    "            naj_mesec = mesec\n",
    "    return 1 + naj_mesec"
   ]
  },
  {
   "cell_type": "markdown",
   "id": "45cf07d5",
   "metadata": {},
   "source": [
    "Rokohitrska različica istega (še vedno v čistem Pythonu) je"
   ]
  },
  {
   "cell_type": "code",
   "execution_count": 26,
   "id": "af2ebf4a",
   "metadata": {},
   "outputs": [],
   "source": [
    "def leni_meseci(s):\n",
    "    return 1 + min((i for i in range(12)), key=lambda j: sum((s * 2)[j: j + 3]))"
   ]
  },
  {
   "cell_type": "markdown",
   "id": "bffb861b",
   "metadata": {},
   "source": [
    "V `numpy` nalogo uženemo zelo preprosto, če se znajdemo.\n",
    "\n",
    "Funkcija `cumsum` vrne kumulativno vsoto. Sešteti ji damo `[0] + s`, pa bo sestavila tabelo, ki se bo začela z 0, potem pa bo v vsakem elementu zapisano, koliko je medved prehodil od začetka leta do posamičnega meseca."
   ]
  },
  {
   "cell_type": "code",
   "execution_count": 27,
   "id": "1a8f1749",
   "metadata": {},
   "outputs": [
    {
     "data": {
      "text/plain": [
       "array([ 0,  5,  7,  8, 21])"
      ]
     },
     "execution_count": 27,
     "metadata": {},
     "output_type": "execute_result"
    }
   ],
   "source": [
    "s = [5, 2, 1, 13]\n",
    "np.cumsum([0] + s)"
   ]
  },
  {
   "cell_type": "markdown",
   "id": "b86af814",
   "metadata": {},
   "source": [
    "Če odštejemo n-ti element od n+3-tega, bomo izvedeli, koliko je prehodil v času med n-tim in n+3-tim mesecem."
   ]
  },
  {
   "cell_type": "code",
   "execution_count": 1,
   "id": "24816200",
   "metadata": {},
   "outputs": [],
   "source": [
    "def leni_meseci(s):\n",
    "    s = np.cumsum([0] + list(s) * 2)\n",
    "    return 1 + np.argmin(s[3:] - s[:-3])"
   ]
  },
  {
   "cell_type": "markdown",
   "id": "a1990628",
   "metadata": {},
   "source": [
    "Paziti moramo na tole: če je `s` pythonov seznam, dodamo še eno kopijo elementov s `s + s` ali `s * 2`. Če je `s` numpyjeva tabela, pa bi gornje podvojilo vrednosti elementov. Zato ga bodisi pretvorimo v seznam in potem podvojimo, `list(s) * s`, bodisi ga sestavimo v novo tabelo, recimo z `np.hstack((s, s))`."
   ]
  },
  {
   "cell_type": "markdown",
   "id": "5e253cf2",
   "metadata": {},
   "source": [
    "#### `lenoba`\n",
    "\n",
    "Polkičemo lene mesece, da izvemo, kdaj je medved začel lenariti, `leni = leni_meseci(s) - 1`. `1` je potrebno odšteti, ker `leni_meseci` označi prvi mesec z `1`, v tabeli pa je to `0`-ti element.\n",
    "\n",
    "Potem izračunamo povprečje za obdbobje od `(s + s)[leni:leni + 3]` in ga delimo s celoletnim povprečjem."
   ]
  },
  {
   "cell_type": "code",
   "execution_count": 29,
   "id": "f7f6eac5",
   "metadata": {},
   "outputs": [],
   "source": [
    "def lenoba(s):\n",
    "    leni = leni_meseci(s) - 1\n",
    "    return np.mean((s + s)[leni:leni + 3]) / np.mean(s)"
   ]
  },
  {
   "cell_type": "markdown",
   "id": "b49507d9",
   "metadata": {},
   "source": [
    "Rešitev v Pythonu je podobna, le da uporabimo `sum` in sami delimo s številom mesecev.\n",
    "\n",
    "### Neobvezni del\n",
    "\n",
    "Kdor hoče malo vaje iz grafov, bo še graf, ki kaže povprečne mesečne razdalje."
   ]
  },
  {
   "cell_type": "markdown",
   "id": "5e7f3a4f",
   "metadata": {},
   "source": [
    "#### Rešitev"
   ]
  },
  {
   "cell_type": "code",
   "execution_count": 30,
   "id": "601f8bf8",
   "metadata": {},
   "outputs": [
    {
     "data": {
      "text/plain": [
       "<BarContainer object of 12 artists>"
      ]
     },
     "execution_count": 30,
     "metadata": {},
     "output_type": "execute_result"
    },
    {
     "data": {
      "image/png": "[encoded data removed]",
      "text/plain": [
       "<Figure size 640x480 with 1 Axes>"
      ]
     },
     "metadata": {},
     "output_type": "display_data"
    }
   ],
   "source": [
    "plt.bar(np.arange(1, 13), mesecna_razdalja())"
   ]
  },
  {
   "cell_type": "markdown",
   "id": "c385f102",
   "metadata": {},
   "source": [
    "## Ocena 9: *Amigos para siempre*\n",
    "\n",
    "Napiši naslednje funkcije.\n",
    "\n",
    "- `povprecna_razdalja(medved1, medved2)` vrne povprečno razdaljo med vsemi pari točk, na katerih so opazili medveda s podanima imenoma.\n",
    "- `povprecne_razdalje()` vrne slovar, katerega ključi so vsi pari imen medvedov (na primer `(\"ancka\", \"jana\")`), pripadajoče vrednosti pa razdalje med tema medvedoma. Vsak par naj se pojavi le enkrat: pare sestavi tako, da bo prvo ime po abecedi pred drugim.\n",
    "- `prijatelji()` izpiše deset parov (ali manj, če ni toliko medvedov) z najmanjšo razdaljo. Spisek naj bo urejen po naraščajočih razdaljah in naj bo oblikovan do presledka natančno tako (število ima 5 mest, od tega dve decimalni; na koncu vrstice ni \"nevidnih\" presledkov za imeni!):\n",
    "\n",
    "```python\n",
    "               dusan :  2.88 : vanja\n",
    "               vanja :  2.96 : vera\n",
    "                maja :  3.22 : vanja\n",
    "               dusan :  3.39 : vera\n",
    "               dusan :  3.63 : maja\n",
    "               lucia :  3.73 : vanja\n",
    "                maja :  3.76 : vera\n",
    "                clio :  3.89 : lucia\n",
    "                clio :  3.94 : vanja\n",
    "               lucia :  4.04 : vera\n",
    "```\n",
    "\n",
    "- `bffl()` vrne najboljša prijatelja. V gornjem primeru sta to Dušan in Vanja. (Opomba: brez namigovanj. Poiskal sem članek: gre za enoletnega medvedka in medvedko.)\n",
    "\n",
    "**Nasvet:**\n",
    "\n",
    "- `povprecne_razdalje()` se bo izvajala par sekund; funkcija, ki je dejansko pocasna je `povprecna_razdalja`. Pri njej se ti **res splača** nabrati vse koordinate obeh medvedov z numpyjem in maskami. Potem pa pozabi na numpy in napiši dve zanki v Pythonu.\n",
    "\n",
    "    Rešitev z uporabo numpyja je stokrat hitrejša (in bistveno krajša), vendar zahteva malo več znanja. Ta, ki ga zanima, naj se zazre v tole in in potem razmisli, kako mu to pomaga. Namig: tole je potem potrebno narediti s koordinatama ločeno.\n",
    "\n",
    "    ```\n",
    "    >>> np.array([1, 2, 3]) + np.array([[100], [200]])\n",
    "    array([[101, 102, 103],\n",
    "           [201, 202, 203]])\n",
    "    >>> a = np.array([100, 200])\n",
    "    >>> a[:, None]\n",
    "    array([[100],\n",
    "           [200]])\n",
    "    ```\n",
    "\n",
    "- Pri ostalih funkcijah nimate kaj početi z numpyjem."
   ]
  },
  {
   "cell_type": "markdown",
   "id": "cf255402",
   "metadata": {},
   "source": [
    "### Rešitev\n",
    "\n",
    "#### `povprecna_razdalja`\n",
    "\n",
    "Nalogo najprej rešimo s kombinacijo Pythona in numpyja (kdor bi hotel čisti Python, bo pač moral preverjati še imena medvedov)."
   ]
  },
  {
   "cell_type": "code",
   "execution_count": 31,
   "id": "d6d9b7cb",
   "metadata": {},
   "outputs": [],
   "source": [
    "def povprecna_razdalja(medved1, medved2):\n",
    "    d = 0\n",
    "    xy1 = xy[imena == medved1]\n",
    "    xy2 = xy[imena == medved2]\n",
    "    for xa, ya in xy1:\n",
    "        for xj, yj in xy2:\n",
    "            d += np.sqrt((xa - xj) ** 2 + (ya - yj) ** 2)\n",
    "    return d / (len(xy1) * len(xy2))"
   ]
  },
  {
   "cell_type": "markdown",
   "id": "92bb9884",
   "metadata": {},
   "source": [
    "Funkcija iz `xy` najprej pobere vse podatke za enega in drugega medveda. Nato gre prek vseh parov, sešteva razdalje in na koncu vrne vsoto, deljeno s številom parov. Nobena znanost.\n",
    "\n",
    "Rešitev v čistem `numpy`-ju pa *je* kar znanost."
   ]
  },
  {
   "cell_type": "code",
   "execution_count": 32,
   "id": "591e0a54",
   "metadata": {},
   "outputs": [],
   "source": [
    "def povprecna_razdalja(medved1, medved2):\n",
    "    xy1 = xy[imena == medved1]\n",
    "    xy2 = xy[imena == medved2]\n",
    "    return np.mean(np.sqrt((xy1[:, 0] - xy2[:, 0, None]) ** 2 + (xy1[:, 1] - xy2[:, 1, None]) ** 2))"
   ]
  },
  {
   "cell_type": "markdown",
   "id": "f738fd24",
   "metadata": {},
   "source": [
    "`xy1[: 0]` je koordinata x prvega medveda; matrika ima dimenzijo `n`; lahko si jo predstavljamo kot vrstico z n-elementi. `xy2[:, 0]` bi bilo isto za drugega medveda. Z `, None` dodamo novo os; to spremeni vrstico v stolpec. Vrstico za prvega medveda in stolpec za drugega odštejemo. Tako dobimo dvodimenzionalno tabelo z vsemi pari razlik.\n",
    "\n",
    "Poglejmo primer."
   ]
  },
  {
   "cell_type": "code",
   "execution_count": 33,
   "id": "e61d0aea",
   "metadata": {},
   "outputs": [],
   "source": [
    "a = np.array([3, 5, 9])\n",
    "b = np.array([2, 5, 4])"
   ]
  },
  {
   "cell_type": "markdown",
   "id": "a9564890",
   "metadata": {},
   "source": [
    "To sta vrstici. Na `b` poglejmo kot na stolpec:"
   ]
  },
  {
   "cell_type": "code",
   "execution_count": 34,
   "id": "5d90d95c",
   "metadata": {},
   "outputs": [
    {
     "data": {
      "text/plain": [
       "array([[2],\n",
       "       [5],\n",
       "       [4]])"
      ]
     },
     "execution_count": 34,
     "metadata": {},
     "output_type": "execute_result"
    }
   ],
   "source": [
    "b[:, None]"
   ]
  },
  {
   "cell_type": "markdown",
   "id": "40cb4f2e",
   "metadata": {},
   "source": [
    "Odštejmo vrstico `a` in postolpčnjeni `b`."
   ]
  },
  {
   "cell_type": "code",
   "execution_count": 35,
   "id": "4f3770ff",
   "metadata": {},
   "outputs": [
    {
     "data": {
      "text/plain": [
       "array([[ 1,  3,  7],\n",
       "       [-2,  0,  4],\n",
       "       [-1,  1,  5]])"
      ]
     },
     "execution_count": 35,
     "metadata": {},
     "output_type": "execute_result"
    }
   ],
   "source": [
    "a - b[:, None]"
   ]
  },
  {
   "cell_type": "markdown",
   "id": "8c5cfedd",
   "metadata": {},
   "source": [
    "Kaj vsebujejo vrstice razlike? `a`, od katerega odštevamo posamezne elemente `b`-ja."
   ]
  },
  {
   "cell_type": "code",
   "execution_count": 36,
   "id": "9082424a",
   "metadata": {},
   "outputs": [
    {
     "data": {
      "text/plain": [
       "array([1, 3, 7])"
      ]
     },
     "execution_count": 36,
     "metadata": {},
     "output_type": "execute_result"
    }
   ],
   "source": [
    "a - 2"
   ]
  },
  {
   "cell_type": "code",
   "execution_count": 37,
   "id": "92becee2",
   "metadata": {},
   "outputs": [
    {
     "data": {
      "text/plain": [
       "array([-2,  0,  4])"
      ]
     },
     "execution_count": 37,
     "metadata": {},
     "output_type": "execute_result"
    }
   ],
   "source": [
    "a - 5"
   ]
  },
  {
   "cell_type": "code",
   "execution_count": 38,
   "id": "ce641631",
   "metadata": {},
   "outputs": [
    {
     "data": {
      "text/plain": [
       "array([-1,  1,  5])"
      ]
     },
     "execution_count": 38,
     "metadata": {},
     "output_type": "execute_result"
    }
   ],
   "source": [
    "a - 4"
   ]
  },
  {
   "cell_type": "markdown",
   "id": "4765fe23",
   "metadata": {},
   "source": [
    "Enako torej storimo z `x` koordinatama medvedov. Koordinate drugega obrnemo v stolpec, odštejemo. Vse, kar je v tabeli skvadriramo - tako dobimo kvadrate razlik `x`. Enako storimo s koordinato `y`. Tabeli kvadriranih razlik x in y seštejemo, vsote korenimo in potem pa izračunamo povprečje vsega skupaj.\n",
    "\n",
    "Nisem rekel, da ni znanost. To je najbrž najnaprednejša koda v numpy-ju, kar ste je in jo boste videli pri predmetu."
   ]
  },
  {
   "cell_type": "markdown",
   "id": "80a84ae7",
   "metadata": {},
   "source": [
    "#### `povprecne_razdalje`, `prijatelji`, `bffl`\n",
    "\n",
    "Vse ostalo je v primerjavi s tem trivialno."
   ]
  },
  {
   "cell_type": "code",
   "execution_count": 39,
   "id": "61c9092e",
   "metadata": {},
   "outputs": [],
   "source": [
    "def povprecne_razdalje():\n",
    "    return {(medved1, medved2): povprecna_razdalja(medved1, medved2)\n",
    "            for medved1 in medvedi() for medved2 in medvedi()\n",
    "            if medved1 < medved2}\n",
    "\n",
    "def prijatelji():\n",
    "    for r, (med1, med2) in sorted((v, k) for k, v in povprecne_razdalje().items())[:10]:\n",
    "        print(f\"{med1:>20} : {r:5.3} : {med2}\")\n",
    "\n",
    "def bffl():\n",
    "    razdalje = povprecne_razdalje()\n",
    "    return min(razdalje, key=razdalje.get)"
   ]
  },
  {
   "cell_type": "markdown",
   "id": "e90c0e10",
   "metadata": {},
   "source": [
    "## Ocena 10: Medvedi na obisku\n",
    "\n",
    "V zadnjih funkcijah bomo preverili, kako družabni so medvedi in kam zahajajo medvedi, ko se jim zahoče človeške družbe. Funkcije bodo prejele seznam koordinat krajev, na primer `[[45.962375, 14.293736], [45.916703, 14.229728], [45.775864, 14.213661], [45.9709794, 14.1118016]]` (koordinati \"središč\" Vrhnike, Logatca, Postojne in Cerknice).\n",
    "\n",
    "Pazi, koordinate bo potrebno iz zemljepisne širine in dolžine pretvoriti v koordinatni sistem s središčem v Medvedjem Brdu, kot to počnemo v prvi funkciji za oceno 6.\n",
    "\n",
    "- `druzabnost(medved, kraji, k)` vrne število meritev, v katerih je bil podani medved največ `k` kilometrov daleč od enega od podanih krajev.\n",
    "- `tezisce_delovanja(medved, kraji)` za vsako meritev ugotovi, kateremu izmed krajev je najbližje. Vrniti mora tabelo ali seznam, ki ima toliko elementov kolikor je krajev; vsak element vsebuje delež primerov, ko je bil medved najbližje temu kraju.\n",
    "\n",
    "    Klic `tezisce_delovanja(\"maja\", kraji)` vrne `[0.59, 0.31, 0, 0.1]`, ker je bila Maja v 59 % primerov najbližje Vrhniki, v 31 % najbližje Logatcu, nikoli najbližje Postojni in v 10 % primerov najbližje Cerknici. Klic `tezisce_delovanja(\"polona\", kraji)` pa vrne `[0, 0, 0, 1]`. Polona je Cerkničanka.\n",
    "- `obiskovalci(kraji)` prejme seznam krajev in vrne seznam množic. Za vsakega medveda pogleda, kateremu kraju je najpogosteje nejbližje. Če prvemu, da doda v prvo množico; če drugemu v drugo in tako naprej.\n",
    "\n",
    "**Nasveti**\n",
    "\n",
    "- V teh funkcijah zdravo mešaj numpy in Pythonove zanke. Te bodo šle vedno čez kraje ali čez medvede.\n",
    "- Pazi, da ne boš slučajno pretvoril v medvedji koordinatni sistem koordinat, ki so morda že v medvedjem koordinatnem sistemu.\n",
    "- Najlepša (z vidika numpyja) je `tezisce_delovanja`: spomni se na `np.unique` in na to, da lahko funkciji `np.argmin` lahko podaš os."
   ]
  },
  {
   "cell_type": "markdown",
   "id": "1ad34a47",
   "metadata": {},
   "source": [
    "### Rešitev\n",
    "\n",
    "#### `druzabnost`\n",
    "\n",
    "Seznam s koordinatami krajev pretvorimo v tabelo v numpyju, da jih lahko damo funkciji `pretvori_koordinate`.\n",
    "\n",
    "Nato izberemo koordinate podanega medveda.\n",
    "\n",
    "Pripravimo si tabelo `blizu`, ki bo za vsake koordinate, na katerih so zalotili medveda, povedala ali je blizu enemu od podanih krajev.  Če bi imeli le pet koordinat, bi bila začetna vrednost tabele `[False, False, False, False, False]`.\n",
    "\n",
    "Sledi zanka v Pythonu, ki bo šla prek krajev. Krajev ne bo veliko, torej ni hudo, da delamo zanko prek njih v čistem Pythonu. `kraj` bodo torej koordinate posamičnih krajev.\n",
    "\n",
    "Za vse koordinate izračunamo, kako daleč je od koordinat `kraj`: `np.sqrt(np.sum((koord - kraj) ** 2, axis=1))`. Razdaljo primerjamo s `k`. Tako dobimo masko: dolga je toliko, kolikor je koordinat in za vsako pripadajočo koordinato vsebuje `True`, če je kraju `kraj` bližje kot `k`. \n",
    "- Recimo, da so prvemu kraju blizu druga in tretja koordinate. V tem primeru bo `np.sqrt(np.sum((koord - kraj) ** 2, axis=1)) <= k` enak `[False, False, True, True, False]`. Z `blizu |= np.sqrt(np.sum((koord - kraj) ** 2, axis=1)) <= k` se bo `blizu` torej spremenil v `[False, False, True, True, False]`.\n",
    "- Recimo, da so drugemu kraju blizu ničta in druga koordinata. Primerjanje s `k` bo dalo `[True, False, True, False, False`]. Z `blizu |= ...` bomo na `True` postavili ničto in drugo (ki je bila pravzaprav že `True`) in tako dobili `[True, False, True, True, False]`.\n",
    "- Tako nadaljujemo za vse kraje.\n",
    "\n",
    "Na koncu bo `blizu` vsebovala `True` za vse koordinate, ki so bile vsaj enemu od krajev bližje kot `k`. Ostane nam le še, da preštejemo, koliko `True`-jev je v tabeli."
   ]
  },
  {
   "cell_type": "code",
   "execution_count": 40,
   "id": "44d68d33",
   "metadata": {},
   "outputs": [],
   "source": [
    "def druzabnost(medved, kraji, k):\n",
    "    kraji = np.array(kraji)\n",
    "    pretvori_koordinate(kraji)\n",
    "    koord = xy[imena == medved]\n",
    "    blizu = np.zeros(len(koord), dtype=bool)\n",
    "    for kraj in kraji:\n",
    "        blizu |= np.sqrt(np.sum((koord - kraj) ** 2, axis=1)) <= k\n",
    "    return np.sum(blizu)"
   ]
  },
  {
   "cell_type": "markdown",
   "id": "ea3aef2b",
   "metadata": {},
   "source": [
    "#### `tezisce_delovanja`\n",
    "\n",
    "Namesto `blizu` bomo imeli zdaj `razdalje`, ki bo imela toliko vrstic, kolikor je koordinat in toliko stolpec, kolikor je krajev. Vsak element bo povedal, kako daleč je posamična koordinata od posamičnega kraja.\n",
    "\n",
    "Podobno kot prej imamo zanke čez kraje, le da zdaj ne računamo disjunkcije mask, temveč v i-ti stolpec vpišemo razdalje do i-tega kraja.\n",
    "\n",
    "Zdaj moramo za vsako vrstico ugotoviti, v katerem stolpcu se nahaja njen najmanjši element - to je namreč številka kraja z najmanjšim stolpcev. To naredimo z `najblizji = np.argmin(razdalje, axis=1)`.\n",
    "\n",
    "Potem je potrebno le še prešteti, kolikokrat se v `najblizji` pojavi kateri kraj. Za to lahko uporabimo kar zanko v Pythonu, ki gre prek indeksov krajev (`range(len(kraji))`), ter prešteje, kolikokrat je resničen pogoj `najblizji == i`. Krajev ni veliko, torej to ne bo prehudo. Spodaj, na koncu pa je vendarle še rešitev brez zanke. Da dobimo deleže, deli vsoto s številom koordinat."
   ]
  },
  {
   "cell_type": "code",
   "execution_count": 41,
   "id": "ba5378b3",
   "metadata": {},
   "outputs": [],
   "source": [
    "def tezisce_delovanja(medved, kraji):\n",
    "    kraji = np.array(kraji)\n",
    "    pretvori_koordinate(kraji)\n",
    "    koord = xy[imena == medved]\n",
    "    razdalje = np.empty((len(koord), len(kraji)))\n",
    "    for i, kraj in enumerate(kraji):\n",
    "        razdalje[:, i] = np.sqrt(np.sum((koord - kraj) ** 2, axis=1))\n",
    "\n",
    "    najblizji = np.argmin(razdalje, axis=1)\n",
    "\n",
    "    tezisca = []\n",
    "    for i in range(len(kraji)):\n",
    "        tezisca.append(np.sum(najblizji == i) / len(koord))\n",
    "    return tezisca"
   ]
  },
  {
   "cell_type": "markdown",
   "id": "f3bca476",
   "metadata": {},
   "source": [
    "Pri zanki v Pythonu je moteče, da štejemo vsako ponovitev posebej. Lahko bi si pomagali s `Counter`."
   ]
  },
  {
   "cell_type": "code",
   "execution_count": 42,
   "id": "89de495b",
   "metadata": {},
   "outputs": [],
   "source": [
    "def tezisce_delovanja(medved, kraji):\n",
    "    kraji = np.array(kraji)\n",
    "    pretvori_koordinate(kraji)\n",
    "    koord = xy[imena == medved]\n",
    "    razdalje = np.empty((len(koord), len(kraji)))\n",
    "    for i, kraj in enumerate(kraji):\n",
    "        razdalje[:, i] = np.sqrt(np.sum((koord - kraj) ** 2, axis=1))\n",
    "\n",
    "    najblizji = np.argmin(razdalje, axis=1)\n",
    "    stevci = Counter(najblizji)\n",
    "    return [stevci[i] / len(koord) for i in range(len(kraji))]"
   ]
  },
  {
   "cell_type": "markdown",
   "id": "f9063da1",
   "metadata": {},
   "source": [
    "Lahko pa uporabimo `np.unique`. Težava z njim je, da ne zagotavlja vrstnega reda krajev in, predvsem, da bo izpustil kraje, ki jim medved nikoli ni najbližje. Njegova uporaba je zato malo bolj zapletena:"
   ]
  },
  {
   "cell_type": "code",
   "execution_count": 43,
   "id": "949f2805",
   "metadata": {},
   "outputs": [],
   "source": [
    "def tezisce_delovanja(medved, kraji):\n",
    "    kraji = np.array(kraji)\n",
    "    pretvori_koordinate(kraji)\n",
    "    koord = xy[imena == medved]\n",
    "    razdalje = np.empty((len(koord), len(kraji)))\n",
    "    for i, kraj in enumerate(kraji):\n",
    "        razdalje[:, i] = np.sqrt(np.sum((koord - kraj) ** 2, axis=1))\n",
    "\n",
    "    idx, cnt = np.unique(np.argmin(razdalje, axis=1), return_counts=True)\n",
    "    stevci = np.zeros(len(kraji))\n",
    "    stevci[idx] = cnt\n",
    "    return stevci / np.sum(stevci)"
   ]
  },
  {
   "cell_type": "markdown",
   "id": "243311de",
   "metadata": {},
   "source": [
    "`np.unique` vrne indekse krajev in pogostosti. Pripravimo si tabelo ničel in nato na ustrezna mesta zapišemo ustrezne števce.\n",
    "\n",
    "Pa še rešitev brez zanke v Pythonu."
   ]
  },
  {
   "cell_type": "code",
   "execution_count": null,
   "id": "8fda971f",
   "metadata": {},
   "outputs": [],
   "source": [
    "def tezisce_delovanja(medved, kraji):\n",
    "    kraji = np.array(kraji)\n",
    "    pretvori_koordinate(kraji)\n",
    "    koord = xy[imena == medved]\n",
    "    razdalje = np.sqrt(np.sum((kraji - koord[:, None]) ** 2, axis=2))\n",
    "\n",
    "    stevci = np.zeros(len(kraji))\n",
    "    idx, cnt = np.unique(np.argmin(razdalje, axis=1), return_counts=True)\n",
    "    stevci[idx] = cnt\n",
    "    return stevci / np.sum(stevci)"
   ]
  },
  {
   "cell_type": "markdown",
   "id": "739ba9d5",
   "metadata": {},
   "source": [
    "#### `obiskovalci`\n",
    "\n",
    "Tale bo kar v Pythonu.\n",
    "\n",
    "Pripravimo seznam s toliko množicami, kolikor je krajev. Za vsakega medveda pokličemo težišče delovanja, z `np.argmax` izvemo indeks kraja, kjer je bil največkrat in medveda dodamo v pripadajočo množico."
   ]
  },
  {
   "cell_type": "code",
   "execution_count": 44,
   "id": "18953f2b",
   "metadata": {},
   "outputs": [],
   "source": [
    "def obiskovalci(kraji):\n",
    "    patroni = [set() for _ in kraji]\n",
    "    for medved in imena:\n",
    "        patroni[np.argmax(tezisce_delovanja(medved, kraji))].add(medved)\n",
    "    return patroni"
   ]
  },
  {
   "cell_type": "markdown",
   "id": "30ed5e7b",
   "metadata": {},
   "source": [
    "### Neobvezni del\n",
    "\n",
    "Študenti z močnejšim statističnim ozadjem lahko poskusijo narisati tole."
   ]
  },
  {
   "cell_type": "markdown",
   "id": "458c59a4",
   "metadata": {},
   "source": [
    "<img src=\"data:image/.png;base64,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\"/>"
   ]
  },
  {
   "cell_type": "markdown",
   "id": "bd8e9fd7",
   "metadata": {},
   "source": [
    "Slika se nanaša na Jano (rdeča), Polono (modra) in Majo (zelena). Graf je vrste `scatter`, z `add_patch` pa so dodane elipse. Njihovo središče je v povprečni koordinati medveda, osi gresta v smereh lastnih vektorjev, polmeri pa so veliki 1, 3 in 5 deviacij. Z drugimi besedami, slika ilustrira dvodimenzionalno Gaussovo porazdelitev, izračunano iz opaženih koordinat medvedov.\n",
    "\n",
    "#### Rešitev\n",
    "\n",
    "Kot rečeno: močnejše statistično ozadje. Izračunati je potrebno kovariannčno matriko ter njene lastne vrednosti in vektorje. Z `add_patch` dodamo elipse z ustreznimi polmeri in pod ustreznim kotom."
   ]
  },
  {
   "cell_type": "code",
   "execution_count": 47,
   "id": "a96d47a7",
   "metadata": {},
   "outputs": [
    {
     "name": "stdout",
     "output_type": "stream",
     "text": [
      "Intel MKL WARNING: Support of Intel(R) Streaming SIMD Extensions 4.2 (Intel(R) SSE4.2) enabled only processors has been deprecated. Intel oneAPI Math Kernel Library 2025.0 will require Intel(R) Advanced Vector Extensions (Intel(R) AVX) instructions.\n",
      "Intel MKL WARNING: Support of Intel(R) Streaming SIMD Extensions 4.2 (Intel(R) SSE4.2) enabled only processors has been deprecated. Intel oneAPI Math Kernel Library 2025.0 will require Intel(R) Advanced Vector Extensions (Intel(R) AVX) instructions.\n",
      "Intel MKL WARNING: Support of Intel(R) Streaming SIMD Extensions 4.2 (Intel(R) SSE4.2) enabled only processors has been deprecated. Intel oneAPI Math Kernel Library 2025.0 will require Intel(R) Advanced Vector Extensions (Intel(R) AVX) instructions.\n"
     ]
    },
    {
     "data": {
      "image/png": "[encoded data removed]",
      "text/plain": [
       "<Figure size 640x480 with 1 Axes>"
      ]
     },
     "metadata": {},
     "output_type": "display_data"
    }
   ],
   "source": [
    "import math\n",
    "import matplotlib\n",
    "\n",
    "colors = (\"red\", \"blue\", \"green\")\n",
    "bears = (\"jana\", \"polona\", \"maja\")\n",
    "\n",
    "ax = plt.subplot()\n",
    "\n",
    "for ime, col in zip(bears, colors):\n",
    "    points = xy[imena==ime]\n",
    "    mu = np.mean(points, axis=0)\n",
    "    cov = np.cov(*(points - mu).T)\n",
    "    vals, vects = np.linalg.eig(cov)\n",
    "    for d in (1, 3, 5):\n",
    "        ax.add_patch(matplotlib.patches.Ellipse(mu.T, *d*np.std(points, axis=0)[::-1], math.degrees(math.atan2(*vects[0])), color=col, alpha=0.05))\n",
    "    \n",
    "    \n",
    "for ime, col in zip(bears, colors):\n",
    "    points = xy[imena==ime]\n",
    "    ax.scatter(*points.T, s=4, c=col)"
   ]
  }
 ],
 "metadata": {
  "kernelspec": {
   "display_name": "Python 3 (ipykernel)",
   "language": "python",
   "name": "python3"
  },
  "language_info": {
   "codemirror_mode": {
    "name": "ipython",
    "version": 3
   },
   "file_extension": ".py",
   "mimetype": "text/x-python",
   "name": "python",
   "nbconvert_exporter": "python",
   "pygments_lexer": "ipython3",
   "version": "3.11.5"
  }
 },
 "nbformat": 4,
 "nbformat_minor": 5
}
