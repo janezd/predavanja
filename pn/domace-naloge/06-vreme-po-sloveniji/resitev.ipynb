{
 "cells": [
  {
   "cell_type": "markdown",
   "id": "98b75c44",
   "metadata": {},
   "source": [
    "# Vreme po Sloveniji\n",
    "\n",
    "Tokratna naloga se je nadaljevala iz nalog z vaj. Zato so tule najprej rešitve teh, nato še rešitev domače naloge.\n",
    "\n",
    "## Naloge z vaj\n",
    "\n",
    "V eni od nalog smo se ukvarjali z resničnimi podatki z vremenskih postaj v Sloveniji. Podatki so s strani https://www.ncei.noaa.gov/data/daily-summaries/access/. Ta vsebuje datoteke za vse(?) postaje na svetu; arhiv z vsemi datotekami je na https://www.ncei.noaa.gov/data/daily-summaries/archive/ (in je velik 7 GB). Da ne bi pobrali vsega, so v priloženi datoteki .zip samo datoteke, ki se nanašajo na Slovenijo.\n",
    "\n",
    "Kot boste videli, podatki niso v tako prijazni obliki, kot so bili tisti, s katerimi ste delali vi. Za to vajo boste delali s podatki v obliki, kakršno bi dobili na spletu. Kot boste videli, to ne bo zgolj vaja iz programiranja, temveč tudi iz brskanja po dokumentaciji in splošne iznajdljivosti. Narobe lahko gre marsikaj, sitnosti lahko povzroča karkoli. Vaje iz resničnega sveta, torej.\n",
    "\n",
    "Datoteko s podatki lahko odzipaš v direktorij, v katerem bo program, lahko drugam (če jih znaš kljub temu brati).\n",
    "\n",
    "###  1. Kodirnik postaj\n",
    "\n",
    "Vsaka postaja ima svojo kodo. Kredarica, recimo, je SIE00105938. Napiši funkcijo `kodirnik_postaj`, ki ne prejme nobenih argumentov, vrne pa takšen slovar:\n",
    "\n",
    "```\n",
    "{'Bilje': 'SIE00115106',\n",
    "'Celje Medlog': 'SIE00115176',\n",
    "'Crnomelj Doblice': 'SIE00114856',\n",
    "'Kocevje': 'SIE00114956',\n",
    "'Kredarica': 'SIE00105938',\n",
    "'Lesce': 'SIE00114966',\n",
    "'Letalisce Edvarda Rusjana Mari': 'SIE00115156',\n",
    "'Letalisce Jozeta Pucnika Ljubl': 'SIE00115146',\n",
    "'Lisca': 'SIE00115186',\n",
    "'Ljubljana Bezigrad': 'SIM00014015',\n",
    "'Murska Sobota Rakican': 'SIE00115196',\n",
    "'Nova Vas Na Blokah': 'SIE00115066',\n",
    "'Novo Mesto': 'SIE00115126',\n",
    "'Portoroz Letalisce': 'SIE00115166',\n",
    "'Postojna': 'SIE00115076',\n",
    "'Ratece Planica': 'SIE00115206',\n",
    "'Smartno Pri Slovenj Gradcu': 'SIE00115136',\n",
    "'Topol Pri Medvodah': 'SIE00115006',\n",
    "'Veliki Dolenci': 'SIE00115096',\n",
    "'Vojsko': 'SIE00115016'}\n",
    "```\n",
    "\n",
    "Bodi pozoren na velike in male črke. Slovar mora seveda razbrati iz datotek in/ali njihovih imen. (Teste bi prestala tudi, če bi ta slovar preprosto prekopirali v funkcijo. :)\n",
    "\n",
    "#### Rešitev\n",
    "\n",
    "Neka zelo kratka različica bi bila"
   ]
  },
  {
   "cell_type": "code",
   "execution_count": 1,
   "id": "2914f585",
   "metadata": {},
   "outputs": [],
   "source": [
    "import os\n",
    "import csv\n",
    "\n",
    "def kodirnik_postaj():\n",
    "    kodirnik = {}\n",
    "    for fn in os.listdir(\"podatki\"):\n",
    "        for vrstica in csv.DictReader(open(\"podatki/\" + fn)):\n",
    "            kodirnik[vrstica[\"NAME\"][:-4].title()] = vrstica[\"STATION\"]\n",
    "    return kodirnik"
   ]
  },
  {
   "cell_type": "markdown",
   "id": "05ce8df2",
   "metadata": {},
   "source": [
    "Funkcija predpostavlja, da so datoteke v poddirektoriju \"podatki\" in da v tem direktoriju ni ničesar drugega kot te datoteke. Poleg tega prebere vse vrstice datoteke, čeprav je ime postaje znano že po prvi vrstici in bi lahko branje prekinili.\n",
    "\n",
    "Primerna rešitev je"
   ]
  },
  {
   "cell_type": "code",
   "execution_count": 2,
   "id": "9fdc5718",
   "metadata": {},
   "outputs": [],
   "source": [
    "def kodirnik_postaj():\n",
    "    kodirnik = {}\n",
    "    for fn in os.listdir():\n",
    "        if not fn.endswith(\".csv\"):\n",
    "            continue\n",
    "        for vrstica in csv.DictReader(open(fn)):\n",
    "            kodirnik[vrstica[\"NAME\"][:-4].title()] = vrstica[\"STATION\"]\n",
    "            break\n",
    "    return kodirnik"
   ]
  },
  {
   "cell_type": "markdown",
   "id": "c1968b1f",
   "metadata": {},
   "source": [
    "Zdaj imamo pogoj, ki preverja, ali se datoteka konča s \".csv\". Če ni tako, s `continue` preskočimo ostanek zanke in nadaljujemo z naslednjo datoteko. Poleg tega pa prekinemo drugo zanko takoj po branju prve vrstice (`break`)."
   ]
  },
  {
   "cell_type": "markdown",
   "id": "7b720e52",
   "metadata": {},
   "source": [
    "### 2. Popravi kodirnik\n",
    "\n",
    "Imena krajev niso lepa. Nekatera se končajo sredi besede, druga so brez šumnikov, tretja vsebujejo preveč podroben opis krajev (namesto Celje Medlog smo zadovoljni tudi s Celje). Napiši funkcijo popravi(kodirnik), ki prejme slovar, kakršnega vrača prva funkcija in ga spremeni - zamenja imena krajev (ključe) z lepšimi.\n",
    "\n",
    "Zahtevane pretvorbe so zapisane v tem slovarju.\n",
    "\n",
    "```\n",
    "popravki = {'Murska Sobota Rakican': 'Murska Sobota',\n",
    "            'Crnomelj Doblice': 'Črnomelj',\n",
    "            'Letalisce Edvarda Rusjana Mari': 'Maribor',\n",
    "            'Letalisce Jozeta Pucnika Ljubl': 'Brnik',\n",
    "            'Ljubljana Bezigrad': 'Ljubljana',\n",
    "            'Kocevje': 'Kočevje',\n",
    "            'Smartno Pri Slovenj Gradcu': 'Smartno pri Slovenj Gradcu',\n",
    "            'Kredarica': 'Kredarica',\n",
    "            'Veliki Dolenci': 'Veliki Dolenci',\n",
    "            'Novo Mesto': 'Novo mesto',\n",
    "            'Nova Vas Na Blokah': 'Bloke',\n",
    "            'Celje Medlog': 'Celje',\n",
    "            'Portoroz Letalisce': 'Portorož',\n",
    "            'Topol Pri Medvodah': 'Topol pri Medvodah',\n",
    "            'Ratece Planica': 'Rateče'\n",
    "           }\n",
    "```\n",
    "Torej: 'Crnomelj Doblice' se mora spremeniti v 'Črnomelj'.\n",
    "\n",
    "Ta slovar skopiraj v funkcijo in ga uporabi.\n",
    "\n",
    "Pomoč: ključa v slovarju se ne da spremeniti. Pač pa odstraniš stari ključ (uporabiš lahko `del d[k]` ali, mogoče še boljše `d.pop(k)`, kjer je `d` slovar, `k` pa ključ, ki ga želiš odstraniti) in dodaš nov, popravljen ključ, z vrednostjo, kakršna je bila pripisana staremu ključu.\n",
    "\n",
    "#### Rešitev\n",
    "\n",
    "Smiselna rešitev je"
   ]
  },
  {
   "cell_type": "code",
   "execution_count": 3,
   "id": "3f6030b7",
   "metadata": {},
   "outputs": [],
   "source": [
    "def popravi(kodirnik):\n",
    "    for ime, menjava in popravki.items():\n",
    "        kodirnik[menjava] = kodirnik.pop(ime)"
   ]
  },
  {
   "cell_type": "markdown",
   "id": "602c7405",
   "metadata": {},
   "source": [
    "Predpostavili smo, da se vsako ime, ki ga je potrebno popraviti (in je torej v `popravki`), dejansko pojavi v slovarju `kodirnik`. Če ni tako, bo `kodirnik.pop(ime)` javil napako.\n",
    "\n",
    "Nekateri študenti so naredili obratno: z zanko so šli čez `kodirnik` in poskušali zamenjevati ključe, ki jih je potrebno zamenjati. To je, kot prvo, potratno: predstavljajte si, da bi imeli kodirnik z vsemi postajami na svetu, preimenovati pa bi jih bilo potrebno 100. Gornji program gre pač čez 100 postaj, ki potrebujejo preimenovanje; različica, ki gre čez vse postaje in preverja, katere preimenovati, pa gre čez, uh, vse postaje na svetu.\n",
    "\n",
    "Še pomembneje: to ne deluje. Če greš z zanko čez slovar (ali množico), v tej zanki tega slovarja (ali množice) ne smeš spreminjati. Zanka bo to opazila in javila napako. Zakaj? Zato ker se v slovarju (predvsem pa v množici - slovar je od Pythona 3.6 bolj \"stabilen\") vrstni red elementov spreminja in zanka ne more vrniti vseh elementov, če se ji ti sproti mešajo."
   ]
  },
  {
   "cell_type": "markdown",
   "id": "b649019e",
   "metadata": {},
   "source": [
    "### 3. Preberi meritve\n",
    "\n",
    "Napiši funkcijo `preberi_meritve(ime_postaje, kodirnik)`, ki prejme ime postaje in kodirnik (slovar, kakršnega pridela prejšnja funkcija). Vrniti mora slovar, katerega ključi so datumi, vrednosti pa najvišje temperature na ta dan.\n",
    "\n",
    "Ključi morajo biti terke v obliki (leto, mesec, dan). Po klicu `temperature = preberi_meritve(\"Kredarica\", kodirnik)`, je `temperature[(2023, 8, 13)]` temperatura 13. avgusta 2023.\n",
    "\n",
    "Temperatura je v stolpcu TMAX, podana je v desetinkah Celzijev. Deliti jo morate torej z 10. Na omenjeni datum je za temperaturo na Kredarici zapisano 144; to pomeni, da je bila temperatura 14.4 Celzijev. Shraniti morate seveda to, popravljeno temperaturo.\n",
    "\n",
    "Na nekatere dneve temperatura ni bila izmerjena. Vrednosti za ta dan ne shranjuj v slovar. Tako, recimo, slovar za Kredarico ne bo imel ključa `(2023, 10, 4)`, ker ta dan termometer, izgleda, ni obratoval. :)\n",
    "\n",
    "#### Rešitev\n",
    "\n",
    "Uporabili bomo `csv.DictReader`. Pri sestavljanju naloge sem mislil, da bo tako lažje kot uporabiti `csv.reader` in ročno šteti stolpce. Potem se je izkazalo, da vsaj ena postaja (Bilje) ne meri globine snežne ideje (zraven Nove Gorice to res ni preveč smiselno), zato ima datoteka tam manj stolpcev in pride TMAX na vrsto že prej. Brez `DictReader`-ja bi tu torej imeli hujše težave, kot je bilo videti na prvi pogled."
   ]
  },
  {
   "cell_type": "code",
   "execution_count": 4,
   "id": "bbe024d6",
   "metadata": {},
   "outputs": [],
   "source": [
    "def preberi_meritve(kraj, kodirnik):\n",
    "    meritve = {}\n",
    "    for vrstica in csv.DictReader(open(kodirnik[kraj] + \".csv\")):\n",
    "        datum = datetime.strptime(vrstica[\"DATE\"], \"%Y-%m-%d\")\n",
    "        temp = vrstica[\"TMAX\"].strip()\n",
    "        if temp:\n",
    "            temp = int(temp) / 10\n",
    "            meritve[(datum.year, datum.month, datum.day)] = temp\n",
    "    return meritve"
   ]
  },
  {
   "cell_type": "markdown",
   "id": "534e1865",
   "metadata": {},
   "source": [
    "Datum smo razkopali z `datetime.strptime`. To se mi zdi lažje kot `strip(\"-\")` in potem pretvarjanje vsakega kosa posebej v `int`. Komur je bolj všeč po starem, pa naj dela po starem.ž"
   ]
  },
  {
   "cell_type": "markdown",
   "id": "ae626a11",
   "metadata": {},
   "source": [
    "## Domača naloga\n",
    "\n",
    "Napiši funkcijo `mrzli_silvester(podatki)`, ki prejme slovar, kakršnega vrne funkcija `preberi_podatke`. Vrniti mora leto z najhladnejšim silvestrskim dnem. Torej: med vsemi leti, za katere je znana temperatura 31. decembra, mora vrniti tisto leto, ko je bila le-ta najnižja. Če je takih let več, naj vrne najzgodnejše.\n",
    "\n",
    "Nasvet: najstarejši podatki so iz leta 1900, torej lahko iščete podatke za 31. 12. po letih od 1900 do 2022. Ne delajte zanke čez celoten slovar (to deluje, vendar ni zgledno), temveč le čez leta.\n",
    "\n",
    "### Rešitev\n",
    "\n",
    "Tole niti ni bila naloga iz tekoče snovi, temveč zgolj iz slovarjev, ki jih poznamo že več kot mesec. Morda je bila ideja bolj v tem, da zagotovo rešite naloge z vaj. :)"
   ]
  },
  {
   "cell_type": "code",
   "execution_count": 5,
   "id": "e46c0c2a",
   "metadata": {},
   "outputs": [],
   "source": [
    "import math\n",
    "\n",
    "def mrzli_silvester(podatki):\n",
    "    naj_leto = naj_mraz = math.inf\n",
    "    for leto in range(1900, 2023):\n",
    "        datum = (leto, 12, 31)\n",
    "        if podatki.get(datum, math.inf) < naj_mraz:\n",
    "            naj_mraz = podatki[datum]\n",
    "            naj_leto = leto\n",
    "    return naj_leto"
   ]
  },
  {
   "cell_type": "markdown",
   "id": "24381798",
   "metadata": {},
   "source": [
    "No, da bo vsaj nekaj novega, smo uporabili `math.inf` za začetno \"najnižjo\" temperaturo."
   ]
  },
  {
   "cell_type": "markdown",
   "id": "75e1c34b",
   "metadata": {},
   "source": [
    "## Rešitev vsega skupaj\n",
    "\n",
    "Za celovitejši občutek obsežnosti celotnega projekta :), je to vsa koda na kupu."
   ]
  },
  {
   "cell_type": "code",
   "execution_count": 6,
   "id": "38a90aff",
   "metadata": {},
   "outputs": [],
   "source": [
    "import os\n",
    "import csv\n",
    "import math\n",
    "from datetime import datetime\n",
    "\n",
    "\n",
    "## Naloge z vaj\n",
    "\n",
    "def kodirnik_postaj():\n",
    "    kodirnik = {}\n",
    "    for fn in os.listdir():\n",
    "        if not fn.endswith(\".csv\"):\n",
    "            continue\n",
    "        for vrstica in csv.DictReader(open(fn)):\n",
    "            kodirnik[vrstica[\"NAME\"][:-4].title()] = vrstica[\"STATION\"]\n",
    "            break\n",
    "    return kodirnik\n",
    "\n",
    "\n",
    "def popravi(kodirnik):\n",
    "    for ime, menjava in popravki.items():\n",
    "        kodirnik[menjava] = kodirnik.pop(ime)\n",
    "        \n",
    "        \n",
    "def preberi_meritve(kraj, kodirnik):\n",
    "    meritve = {}\n",
    "    for vrstica in csv.DictReader(open(kodirnik[kraj] + \".csv\")):\n",
    "        datum = datetime.strptime(vrstica[\"DATE\"], \"%Y-%m-%d\")\n",
    "        temp = vrstica[\"TMAX\"].strip()\n",
    "        if temp:\n",
    "            temp = int(temp) / 10\n",
    "            meritve[(datum.year, datum.month, datum.day)] = temp\n",
    "    return meritve\n",
    "\n",
    "\n",
    "# Domača naloga\n",
    "\n",
    "def mrzli_silvester(podatki):\n",
    "    naj_leto = naj_mraz = math.inf\n",
    "    for leto in range(1900, 2023):\n",
    "        datum = (leto, 12, 31)\n",
    "        if podatki.get(datum, math.inf) < naj_mraz:\n",
    "            naj_mraz = podatki[datum]\n",
    "            naj_leto = leto\n",
    "    return naj_leto"
   ]
  }
 ],
 "metadata": {
  "kernelspec": {
   "display_name": "Python 3 (ipykernel)",
   "language": "python",
   "name": "python3"
  },
  "language_info": {
   "codemirror_mode": {
    "name": "ipython",
    "version": 3
   },
   "file_extension": ".py",
   "mimetype": "text/x-python",
   "name": "python",
   "nbconvert_exporter": "python",
   "pygments_lexer": "ipython3",
   "version": "3.11.5"
  }
 },
 "nbformat": 4,
 "nbformat_minor": 5
}
