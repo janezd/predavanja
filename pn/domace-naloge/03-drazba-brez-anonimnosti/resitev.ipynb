{
 "cells": [
  {
   "cell_type": "markdown",
   "id": "4b8e1f11",
   "metadata": {},
   "source": [
    "# Dražba brez anonimnosti\n",
    "\n",
    "Na dražbi seveda nimajo tako nepopolnih zapisnikov, kot je namigovala prejšnja naloga. Ve se, katere predmete prodajajo. Na dražbe tudi ne hodita le Ana in Berta; Ani seveda ni treba vedno začeti višanja.\n",
    "\n",
    "V resnici so zapisniki videti tako:\n",
    "\n",
    "```\n",
    "slika,Berta,31\n",
    "slika,Ana,33\n",
    "slika,Berta,35\n",
    "slika,Fanči,37\n",
    "slika,Ana,40\n",
    "slika,Fanči,45\n",
    "pozlačen dežnik,Ema,29\n",
    "Meldrumove vaze,Greta,44\n",
    "Meldrumove vaze,Ana,46\n",
    "```\n",
    "\n",
    "Vsaka vrstica vsebuje tri podatke, ločene z vejico. Prvi je prodajani predmet, drugi je ime osebe, ki viša ceno, in tretji so ponujene cene teh oseb. Pri branju si bomo (lahko) pomagali s tem, da vemo naslednje.\n",
    "\n",
    "- Vsak predmet nastopa le v zaporednih vrsticah: ko je slika prodana (Fanči za 45), se v datoteki ne pojavi nikoli več.\n",
    "- Nobeno ime se ne pojavi dvakrat zapored pri istem izdelku. Nihče ne viša lastne ponudbe.\n",
    "- Cene za posamezni izdelek se vedno le višajo.\n",
    "\n",
    "**Pri reševanju ne smete predpostavljati,** da na dražbi sodelujejo le osebe, ki jih vidite v datoteki in da se prodajajo le ti izdelki. Program mora biti splošen in delovati tudi za datoteko, ki jo bodo na dražbi pripravili jutri - z drugimi predmeti in osebami.\n",
    "\n",
    "Konkretno, program mora znati obdelati tako \"zapisnik.txt\" kot \"zapisnik-dan2.txt\". (Ne vznemirjaj se, če se pri drugem zapisniku spoli oseb ne bodo ujemali in bo Anton *kupila* to in ono.)\n",
    "\n",
    "## Obvezna naloga\n",
    "\n",
    "1. Izpiši, kateri predmet je dosegel najvišjo ceno, kdo ga je kupil in za koliko.\n",
    "2. Izpiši končne cene vseh predmetov (vsak predmet v drugi vrstici).\n",
    "3. Izpiši, koliko ponudb je bil deležen vsak izmed predmetov (vsak v drugi vrstici).\n",
    "4. Izpiši, za kateri predmet je bilo največ ponudb. Če si prvo mesto deli več izdelkov, izpiši enega od njih.\n",
    "\n",
    "Če želiš pustiti med izpisi prazno vrstico, pokliči `print` brez argumentov - `print()`.\n",
    "\n",
    "Izpis je lahko takšen:\n",
    "\n",
    "```\n",
    "Najdražji predmet je kip - za 107 ga je kupila Dani\n",
    "\n",
    "slika - 45\n",
    "pozlačen dežnik - 29\n",
    "Meldrumove vaze - 78\n",
    "skodelice - 83\n",
    "kip - 107\n",
    "čajnik - 15\n",
    "srebrn jedilni servis - 63\n",
    "perzijska preproga - 21\n",
    "\n",
    "slika - 6\n",
    "pozlačen dežnik - 1\n",
    "Meldrumove vaze - 12\n",
    "skodelice - 12\n",
    "kip - 29\n",
    "čajnik - 1\n",
    "srebrn jedilni servis - 14\n",
    "perzijska preproga - 2\n",
    "\n",
    "Najbolj so se pulile za predmet kip\n",
    "```\n"
   ]
  },
  {
   "cell_type": "markdown",
   "id": "226b956c",
   "metadata": {},
   "source": [
    "## Rešitev\n",
    "\n",
    "Prva ni raketna znanost. Beremo vrstice in vsako razbijemo na ime osebe, predmeta in ceno. Primerjamo cene in shranjujemo najvišjo ceno in pripadajoči predmet."
   ]
  },
  {
   "cell_type": "code",
   "execution_count": 1,
   "id": "0f4bd841",
   "metadata": {},
   "outputs": [
    {
     "name": "stdout",
     "output_type": "stream",
     "text": [
      "Najdražji predmet je kip - za 107 ga je kupila Dani\n"
     ]
    }
   ],
   "source": [
    "naj_cena = 0\n",
    "for vrstica in open(\"zapisnik.txt\"):\n",
    "    kaj, kdo, koliko = vrstica.split(\",\")\n",
    "    if int(koliko) > naj_cena:\n",
    "        naj_cena = int(koliko)\n",
    "        naj_kdo = kdo\n",
    "        naj_kaj = kaj\n",
    "        \n",
    "print(\"Najdražji predmet je\", naj_kaj, \"- za\", naj_cena, \"ga je kupila\", naj_kdo)"
   ]
  },
  {
   "cell_type": "markdown",
   "id": "ff174188",
   "metadata": {},
   "source": [
    "Drugo bomo ugnali s trikom: za vsak predmet shranjujemo vse cene. Ker so ključi v slovarju enkratni (prirejanje vrednosti obstoječemu ključu le spremeni njegovo vrednost), bo v slovarju opisana zadnja cena. Ker se cene le višajo in ker se vsak izdelek prodaja le enkrat, bomo tako imeli zapisano ravno najvišjo ceno. :)"
   ]
  },
  {
   "cell_type": "code",
   "execution_count": 2,
   "id": "3499fc81",
   "metadata": {},
   "outputs": [
    {
     "name": "stdout",
     "output_type": "stream",
     "text": [
      "slika - 45\n",
      "pozlačen dežnik - 29\n",
      "Meldrumove vaze - 78\n",
      "skodelice - 83\n",
      "kip - 107\n",
      "čajnik - 15\n",
      "srebrn jedilni servis - 63\n",
      "perzijska preproga - 21\n"
     ]
    }
   ],
   "source": [
    "cene = {}\n",
    "for vrstica in open(\"zapisnik.txt\"):\n",
    "    kaj, kdo, koliko = vrstica.split(\",\")\n",
    "    cene[kaj] = int(koliko)\n",
    "\n",
    "for kaj, koliko in cene.items():\n",
    "    print(kaj, \"-\", koliko)"
   ]
  },
  {
   "cell_type": "markdown",
   "id": "15a410d9",
   "metadata": {},
   "source": [
    "Tretja je klasično preštevanje. Vsakemu predmetu ustreza element slovarja. Če predmet vidimo prvič, ga dodamo v slovar; pripadajoča vrednost, število višanj bo 0. Ob vsaki pojavitvi predmeta povečamo število višanj."
   ]
  },
  {
   "cell_type": "code",
   "execution_count": 3,
   "id": "2cba8d92",
   "metadata": {},
   "outputs": [
    {
     "name": "stdout",
     "output_type": "stream",
     "text": [
      "slika - 6\n",
      "pozlačen dežnik - 1\n",
      "Meldrumove vaze - 12\n",
      "skodelice - 12\n",
      "kip - 29\n",
      "čajnik - 1\n",
      "srebrn jedilni servis - 14\n",
      "perzijska preproga - 2\n"
     ]
    }
   ],
   "source": [
    "visanj = {}\n",
    "for vrstica in open(\"zapisnik.txt\"):\n",
    "    kaj, _, _ = vrstica.split(\",\")\n",
    "    if kaj not in visanj:\n",
    "        visanj[kaj] = 0\n",
    "    visanj[kaj] += 1\n",
    "    \n",
    "for kaj, koliko in visanj.items():\n",
    "    print(kaj, \"-\", koliko)"
   ]
  },
  {
   "cell_type": "markdown",
   "id": "8a0e8c1b",
   "metadata": {},
   "source": [
    "Isti slovar potem uporabimo za rešitev zadnje obvezne naloge. Podobna je prvi, kjer smo iskali izdelek z najvišjo ponujeno ceno. Tam smo primerjali cene ter si zapomnili najvišje cene in pripadajoče predmete. Tu pa gremo čez slovar, ki pove število ponudb za posamezni izdelek in si zapomnimo največje število ponudb in pripadajoči predmet. Razlika je le v tem, da smo tam podatke brali z datoteke, tu pa jih dobivamo iz slovarja."
   ]
  },
  {
   "cell_type": "code",
   "execution_count": 5,
   "id": "caab5f16",
   "metadata": {},
   "outputs": [
    {
     "name": "stdout",
     "output_type": "stream",
     "text": [
      "Najbolj so se pulile za predmet kip\n"
     ]
    }
   ],
   "source": [
    "naj_zelena = None\n",
    "for kaj, koliko in visanj.items():\n",
    "    if naj_zelena is None or visanj[kaj] > visanj[naj_zelena]:\n",
    "        naj_zelena = kaj\n",
    "        \n",
    "print(\"Najbolj so se pulile za predmet\", naj_zelena)"
   ]
  },
  {
   "cell_type": "markdown",
   "id": "dacec9c8",
   "metadata": {},
   "source": [
    "Nedvomno se bodo pojavile tudi takšne rešitve."
   ]
  },
  {
   "cell_type": "code",
   "execution_count": 12,
   "id": "216725ba",
   "metadata": {},
   "outputs": [
    {
     "name": "stdout",
     "output_type": "stream",
     "text": [
      "Najbolj so se pulili za predmet kip\n"
     ]
    }
   ],
   "source": [
    "print(\"Najbolj so se pulili za predmet\", max(visanj, key=visanj.get))"
   ]
  },
  {
   "cell_type": "markdown",
   "id": "d83e74d1",
   "metadata": {},
   "source": [
    "To boste dobili na Stack Overflowu, ChatGPTju ali od prijatelja, ki pozna Python. Ne počnite tega. Na ta način se ne naučite ničesar. Razen, če razumete, da so metode Pythona prvorazredni objekti in kaj počne `max` s poimenskim argumentom `key`. Sicer pa uporaba takšnih rešitev, četudi jih izbrskate sami, ni nič bolj poučna, kot če vam nalogo reši kdo drug.\n",
    "\n",
    "O takšnih rešitvah se bomo učili, vendar takrat, ko bomo pametnejši in jih bomo tudi razumeli. Dotlej pa za vajo raje pišimo zanke in pogoje, saj nam bodo prišli prav takrat, ko hitrejših rešitev ne bo."
   ]
  },
  {
   "cell_type": "markdown",
   "id": "faea0686",
   "metadata": {},
   "source": [
    "## Dodatna naloga\n",
    "\n",
    "5. Za vsako osebo izpiši, koliko je porabila na dražbi.\n",
    "6. Za vsak izdelek izpiši, za koliko je bila končna cena višja od prve.\n",
    "\n",
    "Izpis bi lahko bil takšen:\n",
    "\n",
    "```\n",
    "Poraba po osebah:\n",
    "Berta - 98\n",
    "Cilka - 78\n",
    "Dani - 107\n",
    "Ema - 29\n",
    "Fanči - 45\n",
    "Greta - 63\n",
    "Helga - 21\n",
    "\n",
    "Dviganje cen:\n",
    "slika - 14\n",
    "pozlačen dežnik - 0\n",
    "Meldrumove vaze - 34\n",
    "skodelice - 33\n",
    "kip - 77\n",
    "čajnik - 0\n",
    "srebrn jedilni servis - 36\n",
    "perzijska preproga - 5\n",
    "```"
   ]
  },
  {
   "cell_type": "markdown",
   "id": "4660d8c2",
   "metadata": {},
   "source": [
    "Nalogi bo preprosteje rešiti hkrati. Sestavili bomo tri slovarje. Vsi bodo imeli za ključe predmete.\n",
    "\n",
    "- `prvic` bo za vsak izdelek vseboval njegovo prvo ceno,\n",
    "- `zadnjic` bo vseboval zadnjo ceno,\n",
    "- `kupec` bo vseboval končnega kupca."
   ]
  },
  {
   "cell_type": "code",
   "execution_count": 7,
   "id": "0db988f0",
   "metadata": {},
   "outputs": [],
   "source": [
    "prvic = {}\n",
    "zadnjic = {}\n",
    "kupec = {}\n",
    "\n",
    "for vrstica in open(\"zapisnik.txt\"):\n",
    "    kaj, kdo, koliko = vrstica.split(\",\")\n",
    "    koliko = int(koliko)\n",
    "    if kaj not in prvic:\n",
    "        prvic[kaj] = koliko\n",
    "    zadnjic[kaj] = koliko\n",
    "    kupec[kaj] = kdo"
   ]
  },
  {
   "cell_type": "markdown",
   "id": "3d8acabc",
   "metadata": {},
   "source": [
    "Poglejmo, kako jih polnimo. V slovar `prvic` bomo dodali predmet, ki ga prvič vidimo. Preprosto preverimo, ali je že tam; če ga ni, ga dodamo, če je, pa nič. V slovar `zadnjic` zapišemo ceno vsakega predmeta, ki ga vidimo. Ko to storimo zadnjič, bomo zapisali zadnjo ceno. Podobno v slovar `kupec` vpisujemo vse ponudnike. Zadnji zapisani ponudnik je potem dejanski kupec. Preverimo, ali so slovarji videti smiselno."
   ]
  },
  {
   "cell_type": "code",
   "execution_count": 8,
   "id": "1ab2d383",
   "metadata": {},
   "outputs": [
    {
     "data": {
      "text/plain": [
       "{'slika': 31,\n",
       " 'pozlačen dežnik': 29,\n",
       " 'Meldrumove vaze': 44,\n",
       " 'skodelice': 50,\n",
       " 'kip': 30,\n",
       " 'čajnik': 15,\n",
       " 'srebrn jedilni servis': 27,\n",
       " 'perzijska preproga': 16}"
      ]
     },
     "execution_count": 8,
     "metadata": {},
     "output_type": "execute_result"
    }
   ],
   "source": [
    "prvic"
   ]
  },
  {
   "cell_type": "code",
   "execution_count": 9,
   "id": "f63e7cee",
   "metadata": {},
   "outputs": [
    {
     "data": {
      "text/plain": [
       "{'slika': 45,\n",
       " 'pozlačen dežnik': 29,\n",
       " 'Meldrumove vaze': 78,\n",
       " 'skodelice': 83,\n",
       " 'kip': 107,\n",
       " 'čajnik': 15,\n",
       " 'srebrn jedilni servis': 63,\n",
       " 'perzijska preproga': 21}"
      ]
     },
     "execution_count": 9,
     "metadata": {},
     "output_type": "execute_result"
    }
   ],
   "source": [
    "zadnjic"
   ]
  },
  {
   "cell_type": "code",
   "execution_count": 10,
   "id": "691abd2a",
   "metadata": {},
   "outputs": [
    {
     "data": {
      "text/plain": [
       "{'slika': 'Fanči',\n",
       " 'pozlačen dežnik': 'Ema',\n",
       " 'Meldrumove vaze': 'Cilka',\n",
       " 'skodelice': 'Berta',\n",
       " 'kip': 'Dani',\n",
       " 'čajnik': 'Berta',\n",
       " 'srebrn jedilni servis': 'Greta',\n",
       " 'perzijska preproga': 'Helga'}"
      ]
     },
     "execution_count": 10,
     "metadata": {},
     "output_type": "execute_result"
    }
   ],
   "source": [
    "kupec"
   ]
  },
  {
   "cell_type": "markdown",
   "id": "924b90f4",
   "metadata": {},
   "source": [
    "Zdaj lahko seštejemo porabo po osebah. Da ne bo vedno `if`, bomo uporabili `setdefault`. (Obstaja tudi boljša reč, `defaultdict`, vendar jo na predavanjih včasih omenimo že tu, včasih kasneje)."
   ]
  },
  {
   "cell_type": "code",
   "execution_count": 17,
   "id": "1b86da71",
   "metadata": {},
   "outputs": [
    {
     "name": "stdout",
     "output_type": "stream",
     "text": [
      "\n",
      "Poraba po osebah:\n",
      "Fanči - 45\n",
      "Ema - 29\n",
      "Cilka - 78\n",
      "Berta - 98\n",
      "Dani - 107\n",
      "Greta - 63\n",
      "Helga - 21\n"
     ]
    }
   ],
   "source": [
    "poraba = {}\n",
    "dvig = {}\n",
    "for kaj, kdo in kupec.items():\n",
    "    poraba.setdefault(kdo, 0)\n",
    "    poraba[kdo] += zadnjic[kaj]\n",
    "\n",
    "print()\n",
    "print(\"Poraba po osebah:\")\n",
    "for oseba in poraba:\n",
    "    print(oseba, \"-\", poraba[oseba])"
   ]
  },
  {
   "cell_type": "markdown",
   "id": "0f88cf23",
   "metadata": {},
   "source": [
    "Za konec pa se še sprehodimo po slovarjih z začetnimi in končnimi cenami ter izpišemo razlike."
   ]
  },
  {
   "cell_type": "code",
   "execution_count": 19,
   "id": "5e5ac981",
   "metadata": {},
   "outputs": [
    {
     "name": "stdout",
     "output_type": "stream",
     "text": [
      "slika - 14\n",
      "pozlačen dežnik - 0\n",
      "Meldrumove vaze - 34\n",
      "skodelice - 33\n",
      "kip - 77\n",
      "čajnik - 0\n",
      "srebrn jedilni servis - 36\n",
      "perzijska preproga - 5\n"
     ]
    }
   ],
   "source": [
    "for izdelek in prvic:\n",
    "    print(izdelek, \"-\", zadnjic[izdelek] - prvic[izdelek])"
   ]
  },
  {
   "cell_type": "markdown",
   "id": "c9091620",
   "metadata": {},
   "source": [
    "Nepomemben estetski detajl: lahko bi pisali tudi"
   ]
  },
  {
   "cell_type": "code",
   "execution_count": 20,
   "id": "7b352b6e",
   "metadata": {},
   "outputs": [
    {
     "name": "stdout",
     "output_type": "stream",
     "text": [
      "slika - 14\n",
      "pozlačen dežnik - 0\n",
      "Meldrumove vaze - 34\n",
      "skodelice - 33\n",
      "kip - 77\n",
      "čajnik - 0\n",
      "srebrn jedilni servis - 36\n",
      "perzijska preproga - 5\n"
     ]
    }
   ],
   "source": [
    "for izdelek, prva in prvic.items():\n",
    "    print(izdelek, \"-\", zadnjic[izdelek] - prva)"
   ]
  },
  {
   "cell_type": "markdown",
   "id": "de1e32de",
   "metadata": {},
   "source": [
    "Tako bi eno ceno dobili \"zastonj\" brez indeksiranja. To imamo vedno radi, tu pa izjemoma nisem naredil tako, ker mi je všeč simetrija: `zadnjic[izdelek] - prvic[izdelek]` je lepše kot `zadnjic[izdelek] - prva`. Lepe, simetrične, urejene, sistematične programe je lažje brati in vsebujejo manj napak.\n",
    "\n",
    "Tretja možnost bi bila"
   ]
  },
  {
   "cell_type": "code",
   "execution_count": 21,
   "id": "970b139a",
   "metadata": {},
   "outputs": [
    {
     "name": "stdout",
     "output_type": "stream",
     "text": [
      "slika - 14\n",
      "pozlačen dežnik - 0\n",
      "Meldrumove vaze - 34\n",
      "skodelice - 33\n",
      "kip - 77\n",
      "čajnik - 0\n",
      "srebrn jedilni servis - 36\n",
      "perzijska preproga - 5\n"
     ]
    }
   ],
   "source": [
    "for (izdelek, prva), zadnja in zip(prvic.items(), zadnjic.values()):\n",
    "    print(izdelek, \"-\", zadnja - prva)"
   ]
  },
  {
   "cell_type": "markdown",
   "id": "2625dabc",
   "metadata": {},
   "source": [
    "Vendar (a) tega še ne znamo, (b) je grozno in čudno in (c) predpostavlja, da bo vrednosti v obeh slovarjih zložene v enakem vrstnem redu, kar je čudna in nevarna predpostavka."
   ]
  }
 ],
 "metadata": {
  "kernelspec": {
   "display_name": "Python 3 (ipykernel)",
   "language": "python",
   "name": "python3"
  },
  "language_info": {
   "codemirror_mode": {
    "name": "ipython",
    "version": 3
   },
   "file_extension": ".py",
   "mimetype": "text/x-python",
   "name": "python",
   "nbconvert_exporter": "python",
   "pygments_lexer": "ipython3",
   "version": "3.11.5"
  }
 },
 "nbformat": 4,
 "nbformat_minor": 5
}
