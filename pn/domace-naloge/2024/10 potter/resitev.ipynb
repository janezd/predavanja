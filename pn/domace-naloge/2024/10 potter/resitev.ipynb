{
 "cells": [
  {
   "cell_type": "markdown",
   "id": "017eaf7c-c24d-447a-a87b-89eb6b74267b",
   "metadata": {},
   "source": [
    "## Ocena 6\n",
    "\n",
    "Za oceno 6 bo potrebno pokazati, da znamo brati datoteke csv ter delati z nizi in slovarji.\n",
    "\n",
    "-----------\n",
    "\n",
    "### `osebe.csv`\n",
    "\n",
    "- V datoteki osebe.csv se nahajajo polna imena vseh oseb iz Harryja Potterja (žal tudi iz kasnejših \"dodatkov\") in povezave na strani s podatki o njih na Wikidata. Preberite podatke iz datoteke in jih shranite v slovar z imenom `osebe`: ključi naj bodo polna imena oseb, pripadajoče vrednosti pa povezave. (Torej: drugi stolpec so ključi, prvi stolpec so vrednosti.)\n",
    "\n",
    "    Program naj ne bo napisan za to specifično vsebino datoteke! Če spremenimo vsebino datoteke, tako da vsebuje osebe iz romana Vojna in mir, mora pač sestaviti slovar teh oseb. Računajte pa, da bo datoteki vedno ime osebe.csv.\n",
    "\n",
    "\t**Pomembno:** datoteka je v istem direktoriju kot programi in program naj datoteko odpre z `open(\"osebe.csv\")`, brez imen direktorijev! Nobenih `open(\"c:\\Users\\janez\\programiranje\\naloga11\\oseba.csv\")`!\n",
    "\n",
    "#### Rešitev\n",
    "\n",
    "Najbolj premočrtna rešitev je `DictReader`."
   ]
  },
  {
   "cell_type": "code",
   "execution_count": 1,
   "id": "a313ca6b-2d6a-47a1-bb54-e90d7a89b5ee",
   "metadata": {},
   "outputs": [],
   "source": [
    "import csv\n",
    "\n",
    "osebe = {}\n",
    "for vrstica in csv.DictReader(open(\"osebe.csv\", encoding=\"utf-8\")):\n",
    "    osebe[vrstica[\"itemLabel\"]] = vrstica[\"item\"]"
   ]
  },
  {
   "cell_type": "markdown",
   "id": "7461a4af-452b-4697-a3b4-a1b8c1e4bb04",
   "metadata": {},
   "source": [
    "Kdor ne mara `DictReader`-ja in bi rad uporabil običajni `csv.reader`, se bo moral znebiti prve vrstice datoteke, tako da jo prebere (in zavrže) z `readline`."
   ]
  },
  {
   "cell_type": "code",
   "execution_count": 2,
   "id": "bb86ecf8-92fc-41be-ae30-3303c1a002b2",
   "metadata": {},
   "outputs": [],
   "source": [
    "import csv\n",
    "\n",
    "f = open(\"osebe.csv\", encoding=\"utf-8\")\n",
    "f.readline()\n",
    "for url, ime in csv.reader(f):\n",
    "    osebe[ime] = url"
   ]
  },
  {
   "cell_type": "markdown",
   "id": "56907fca-891f-4e33-860c-e7ad5b4f581b",
   "metadata": {},
   "source": [
    "Kdor sploh ne mara `csv`, bo vse naredil sam:"
   ]
  },
  {
   "cell_type": "code",
   "execution_count": 3,
   "id": "35ecdf4a-d227-420e-baee-25f873a6be52",
   "metadata": {},
   "outputs": [],
   "source": [
    "osebe = {}\n",
    "f = open(\"osebe.csv\", encoding=\"utf-8\")\n",
    "f.readline()\n",
    "for vrstica in f:\n",
    "    url, ime = vrstica.strip().split(\",\")\n",
    "    osebe[ime] = url"
   ]
  },
  {
   "cell_type": "markdown",
   "id": "a08e9cae-632a-47ce-9d35-60e3100f9da5",
   "metadata": {},
   "source": [
    "Sam imam čisto rad csv, a kadar je datoteka tako preprosta, je skoraj lažje brez njega."
   ]
  },
  {
   "cell_type": "code",
   "execution_count": 4,
   "id": "41d304be-87ab-45e0-8d12-d8bb84280412",
   "metadata": {},
   "outputs": [],
   "source": [
    "with open(\"osebe.csv\", encoding=\"utf-8\") as f:\n",
    "    f.readline()\n",
    "    osebe = {ime: id for id, ime in (vrstica.strip().split(\",\") for vrstica in f)}"
   ]
  },
  {
   "cell_type": "markdown",
   "id": "826f071a-1301-4448-845c-d5a197498800",
   "metadata": {},
   "source": [
    "Mimogrede: tule odpremo datoteko čisto po pravilih. Tudi zgoraj bi jo lahko tako kot tu (ali tu tako kot zgoraj)."
   ]
  },
  {
   "cell_type": "markdown",
   "id": "cc927e22-982d-4499-9492-b1968e64479c",
   "metadata": {},
   "source": [
    "### `brez_dodatkov(ime)`\n",
    "\n",
    "- Napišite funkcijo `brez_dodatkov(ime)`, ki prejme polno ime osebe in vrne ime te osebe brez \"dodatkov\". Klic `brez_dodatkov(\"Mrs. Molly Weasley\")` vrne `\"Molly Weasley\"`, klic `brez_dodatkov(\"Cygnus Black III\")` vrne `\"Cygnus Blake\"` in klic `brez_dodatkov(\"Madame Rolanda Hooch\")` vrne `\"Rolanda Hooch\"`. Dodatki, ki jih morate odstraniti, so `'Mr. ', 'Mrs. ', ' III', ' II', ' I', 'the ', 'The ', ' Jr.', 'Sir ', 'Madam ', 'Madame '`. (V seznamu sem prijazno dodal presledke pred ali za \"dodatek\"; to bi vam lahko pomagalo, če vam ne, pa jih pobrišite.)\n",
    "\n",
    "    **Pazi:** `\"Sirius Black III\"` mora postati `\"Sirius Black\"`, ne `\"ius Black\"`!\n",
    "\n",
    "#### Rešitev\n",
    "\n",
    "Tale naloga ni nič posebnega, tu je bolj zato, da si pripravimo imena za nadaljevanje. No, po drugi strani tudi ni nič narobe, če malo pomislimo in povedimo."
   ]
  },
  {
   "cell_type": "code",
   "execution_count": 5,
   "id": "9b97a7f3-d44f-43b8-9351-bfa654606a4a",
   "metadata": {},
   "outputs": [],
   "source": [
    "def brez_dodatkov(s):\n",
    "    dodatki = [\"Mr. \", \"Mrs. \", \" III\", \" II\", \" I\", \"the \", \" Jr.\", \"Sir \", \"Madam \", \"Madame \"]\n",
    "    for dodatek in dodatki:\n",
    "        s = s.replace(dodatek, \"\")\n",
    "    return s"
   ]
  },
  {
   "cell_type": "markdown",
   "id": "1f25b702-c63d-4735-89a3-806085413086",
   "metadata": {},
   "source": [
    "Pazite na presledke: presledek večinoma sledi dodatku (recimo pri `\"Mr. \"`), včasih pa je pred njim (pri `\" III\"`).\n",
    "\n",
    "Bolj vešči napišejo tole:"
   ]
  },
  {
   "cell_type": "code",
   "execution_count": 6,
   "id": "6b329c45-8709-4c83-8b18-926b441321aa",
   "metadata": {},
   "outputs": [],
   "source": [
    "def brez_dodatkov(s):\n",
    "    dodatki = [\"Mr. \", \"Mrs. \", \" III\", \" II\", \" I\", \"the \", \" Jr.\", \"Sir \", \"Madam \", \"Madame \"]\n",
    "    return reduce(lambda acc, x: acc.replace(x, \"\"), dodatki, s)"
   ]
  },
  {
   "cell_type": "markdown",
   "id": "1d6033f6-e27a-444d-9f6c-fc85535dfcd8",
   "metadata": {},
   "source": [
    "Tega se nismo učili, samo povem, da se da.\n",
    "\n",
    "Sam se izognil še pisanju narekovajev in vejic ter naredil tako:"
   ]
  },
  {
   "cell_type": "code",
   "execution_count": 7,
   "id": "89fb60e9-0bbb-4391-9dc2-28db84f8848c",
   "metadata": {},
   "outputs": [],
   "source": [
    "def brez_dodatkov(s):\n",
    "    return reduce(lambda acc, x: acc.replace(x, \"\"),\n",
    "                  \"Mr. -Mrs. - III- II- I-the - Jr.-Sir -Madam -Madame \".split(\"-\"),\n",
    "                  s)"
   ]
  },
  {
   "cell_type": "markdown",
   "id": "b84fb8c9-66ca-4779-a91b-feffb0955d75",
   "metadata": {},
   "source": [
    "### `po_priimkih()`\n",
    "\n",
    "- Napišite funkcijo `po_priimkih()`, ki vrne slovar, katerega ključi so priimki oseb, imena pa (prva) množice imen oseb s takšnim priimkom. Pri tem moraš iz imena pobrisati \"dodatke\" - kot je opisano zgoraj.\n",
    "\n",
    "    - Če je za osebo znano le eno ime (Kreacher, Nagini), brez priimka, naj se ne pojavi v slovarju.\n",
    "\t- Če ima oseba več imen, je priimek zadnji, ime pa je prvo. V `\"Albus Percival Wulfric Brian Dumbledore\"` je priimek Dumbledore, ime pa Albus.\n",
    "\n",
    "\tV slovarju, ki ga vrne `po_priimkih`, je pri ključu `\"Dumbledore\"` vrednost `{'Albus', 'Ariana', 'Percival', 'Kendra', 'Aberforth'}`.\n",
    "\n",
    "#### Rešitev\n",
    "\n",
    "Da se izognemo preverjanju, ali smo določen priimek že srečali ali ne, bomo uporabili `defaultdict`. Ostalo gre točno po navodilih: vzamemo imena in priimke, odstranimo dodatke, razdelimo na deli. Če sta dela vsaj dva, je ničti element ime, zadnji pa priimek. Dodamo ju v slovar, kot pravi naloga."
   ]
  },
  {
   "cell_type": "code",
   "execution_count": 8,
   "id": "2a451ee6-3e10-42c9-a5a2-9f23825e8db4",
   "metadata": {},
   "outputs": [],
   "source": [
    "from collections import defaultdict\n",
    "\n",
    "def po_priimkih():\n",
    "    priimki = defaultdict(set)\n",
    "    for imena_in_priimek in osebe:\n",
    "        deli = brez_dodatkov(imena_in_priimek).split()\n",
    "        if len(deli) >= 2:\n",
    "            ime, priimek = deli[0], deli[-1]\n",
    "            priimki[priimek].add(ime)\n",
    "    return priimki"
   ]
  },
  {
   "cell_type": "markdown",
   "id": "68cef918-4ec6-4513-a45b-ea47fe1fca9c",
   "metadata": {},
   "source": [
    "Kozmetična sprememba, ki bi jo naredil veteran: `ime, *_, priimek = deli`. Naj razume, kdor hoče."
   ]
  },
  {
   "cell_type": "markdown",
   "id": "cd9a4529-44ed-47ae-9f86-b1b6f00ae5a2",
   "metadata": {},
   "source": [
    "### `je_stevilka_poglavja(vrstica)`\n",
    "\n",
    "V datoteki potter6.txt je besedilo šestega dela knjige Harry Potter. (V izobraževalne namene in v ne preveč lepo berljivi obliki).\n",
    "\n",
    "- Napišite funkcijo `je_stevilka_poglavja(vrstica)`, ki prejme vrstico iz datoteke in vrne `True`, če gre za vrstico s številko poglavja. Le-te so videti tako: `— CHAPTER TWENTY-ONE —`, le številka je vsakič druga.\n",
    "\n",
    "    **Pazi:** `—` ni običajen minus. Skopiraj znak iz datoteke.\n",
    "\n",
    "#### Rešitev\n",
    "\n",
    "Tule ni kaj. Funkcija samo zato, ker jo potrebujemo."
   ]
  },
  {
   "cell_type": "code",
   "execution_count": 9,
   "id": "c6343813-c4c3-4458-a321-4db2cdb8b1e7",
   "metadata": {},
   "outputs": [],
   "source": [
    "def je_stevilka_poglavja(vrstica):\n",
    "    return vrstica.startswith(\"— CHAPTER\")"
   ]
  },
  {
   "cell_type": "markdown",
   "id": "78d29f16-a42b-4f89-97ee-8ac0caabe178",
   "metadata": {},
   "source": [
    "#### `naslovi_poglavij(ime_datoteka)`\n",
    "\n",
    "- Vrstici s številko poglavja vedno sledi vrstica, ki vsebuje ime poglavja. Napiši funkcijo `naslovi_poglavij(ime_datoteke)`, ki prejme ime datoteke z besedilom (tako, da je reč uporabna tudi za druge knjige Harryja Potterja...) in vrne seznam imen poglavij. Seznam se začne z `['The Other Minister', 'Spinner’s End', 'Will and Won’t', 'Horace Slughorn', `...\n",
    "\n",
    "#### Rešitev\n",
    "\n",
    "Če ne vemo za `pairwise`, moramo narediti nekaj v tem slogu:"
   ]
  },
  {
   "cell_type": "code",
   "execution_count": 10,
   "id": "8d730c1c-e39a-4ad8-9c68-c39f179684d9",
   "metadata": {},
   "outputs": [],
   "source": [
    "def naslovi_poglavij(ime_datoteke):\n",
    "    naslovi = []\n",
    "    sledi_naslov = False\n",
    "    for vrstica in open(ime_datoteke, encoding=\"utf-8\"):\n",
    "        if sledi_naslov:\n",
    "            naslovi.append(vrstica.strip())\n",
    "        sledi_naslov = je_stevilka_poglavja(vrstica)\n",
    "    return naslovi"
   ]
  },
  {
   "cell_type": "markdown",
   "id": "51614df7-6fc8-4acc-bb68-d5e812d28d99",
   "metadata": {},
   "source": [
    "Za vsako vrstico moramo vedeti, ali je *prejšnja* vrstica napovedala naslov poglavja.\n",
    "\n",
    "Če uporabimo `pairwise`, nam je v vsakem krogu zanke dostopna tudi prejšnja vrstica."
   ]
  },
  {
   "cell_type": "code",
   "execution_count": 11,
   "id": "70985f07-b20e-4eac-a964-2c84e39b2178",
   "metadata": {},
   "outputs": [],
   "source": [
    "def naslovi_poglavij(ime_datoteke):\n",
    "    naslovi = []\n",
    "    for prejsnja, vrstica in pairwise(open(ime_datoteke, encoding=\"utf-8\")):\n",
    "        if je_stevilka_poglavja(prejsnja):\n",
    "            naslovi.append(vrstica.strip())\n",
    "    return naslovi"
   ]
  },
  {
   "cell_type": "markdown",
   "id": "114d7fcb-ada1-4e47-a414-c0f239bd4c8e",
   "metadata": {},
   "source": [
    "Takole pa naredimo z generatorjem."
   ]
  },
  {
   "cell_type": "code",
   "execution_count": 12,
   "id": "13abf9f5-8487-425b-b822-150f240c56f4",
   "metadata": {},
   "outputs": [],
   "source": [
    "def naslovi_poglavij(ime_datoteke):\n",
    "    return [naslednja.strip()\n",
    "            for prejsnja, naslednja in pairwise(open(ime_datoteke, encoding=\"utf-8\"))\n",
    "            if je_stevilka_poglavja(prejsnja)]"
   ]
  },
  {
   "cell_type": "markdown",
   "id": "464f3079-87eb-4f7a-aeee-42f9896155f1",
   "metadata": {},
   "source": [
    "## Ocena 7\n",
    "\n",
    "Za oceno 7 se ne bo potrebno pretegniti: samo še malo bomo delali z nizi.\n",
    "\n",
    "-----------\n",
    "\n",
    "V besedilu se nahajajo\n",
    "\n",
    "- številke poglavij: zazna jih funkcija `je_stevilka_poglavja`, ki jo že imamo\n",
    "- naslovi poglavij: to so vrstice takoj za vrstico s številko poglavja\n",
    "- številke strani: te se začnejo ali končajo s številko, in vse besedilo je napisano s SAMIMI VELIKIMI ČRKAMI.\n",
    "\n",
    "    Primera vrstice s številko strani sta `\" WILL AND WON'T 11` in `\"44 HARRY POTTER\"`.\n",
    "\n",
    "\tVrstici `SCRIMGEOUR SUCCEEDS FUDGE` in `\"5 miles’. The \"` nista vrstici s številko. Prva nima številke, druga ni zapisana s samimi veliki črkami.\n",
    "\n",
    "Napiši funkcijo `besedilo(ime_datoteke)`, ki prebere besedilo iz datoteke in ga vrne kot niz, ki vsebuje *samo besedilo*, brez številk in naslovov poglavij ter številk strani.\n",
    "\n",
    "Za lažje testiranje bodo testi uporabljali izvleček besedila, potter6-zacetek.txt.\n",
    "\n",
    "#### Rešitev"
   ]
  },
  {
   "cell_type": "code",
   "execution_count": 13,
   "id": "6e208cfd-e476-45a9-a2c3-89d7a71995e0",
   "metadata": {},
   "outputs": [],
   "source": [
    "def besedilo(ime_datoteke):\n",
    "    tekst = \"\"\n",
    "    prej_poglavje = False\n",
    "    for vrstica in open(ime_datoteke, encoding=\"utf-8\"):\n",
    "        if je_stevilka_poglavja(vrstica):\n",
    "            prej_poglavje = True\n",
    "            continue\n",
    "        deli = vrstica.split()\n",
    "        if (not prej_poglavje\n",
    "                and (set(vrstica) & set(\"abcdefghijklmnopqrstuvwxyz\")\n",
    "                     or not (deli[0].isdigit() or deli[-1].isdigit()))\n",
    "        ):\n",
    "            tekst += vrstica\n",
    "        prej_poglavje = False\n",
    "    return tekst"
   ]
  },
  {
   "cell_type": "markdown",
   "id": "711bb188-d562-4ce5-ac70-32a365887fa1",
   "metadata": {},
   "source": [
    "Spremenljivka `prej_poglavje` pove, ali je prejšnja vrstica vsebovala številko poglavja. V tem primeru je trenutna vrstica naslov poglavja in jo je potrebno izpustiti. Poleg tega izpustimo vrstico, ki ne vsebuje nobene male črke (zahtevamo, da mora biti presek njenih znakov z množico malih črk \"resničen\", torej neprazen) in vrstico, v kateri je prva ali zadnja beseda sestavljena iz samih števk.\n",
    "\n",
    "Pogoj bi se dalo oblikovati tudi kako drugače in bi dal enak rezultat."
   ]
  },
  {
   "cell_type": "markdown",
   "id": "941a5638-9ed3-4818-96ef-07e33c2e2316",
   "metadata": {},
   "source": [
    "## Ocena 8\n",
    "\n",
    "Za oceno 8 bo potrebno brati json s spleta in ga razvozlati. Programiranja ne bo veliko, poudarek bo na tem, da znamo razumeti podatke, ki jih dobimo.\n",
    "\n",
    "-----\n",
    "\n",
    "Podatke o osebah sem pridobil s fantastičnega vira, ki ima podatke o vsem na svetu - s Wikidata, ki je, v bistvu, Wikipedia v strojno berljivi obliki. Z njim je žal nekoliko nerodno delati. V domači nalogi boste okusili nekoliko tega. (Tema domače naloge so sicer osebe iz otroške literature; podobne reči bi lahko delali tudi z resnimi podatki!)\n",
    "\n",
    "V brskalnik vnesite kakega izmed URL-jev v datoteki osebe.csv (lahko recimo, kliknete na tole: [http://www.wikidata.org/entity/Q712548](http://www.wikidata.org/entity/Q712548)). Dobili boste stran iz podatkovne baze, ki vsebuje podatke o imenu te osebe v različnih jezikih, njegovih sorodnikih, spolu, datumu in kraju smrti... V nalogi za oceno 8 boste brali te podatke.\n",
    "\n",
    "Opazite lahko, da vas je brskalnik preusmeril s strani, ki ste jo vpisali, npr. `http://www.wikidata.org/entity/Q712548` na stran, ki pokaže podatke v človeku berljivi obliki `https://www.wikidata.org/wiki/Q712548`. Za začetek poberite vsebino strani `http://www.wikidata.org/entity/Q712548` v Pythonu, tako kot smo se učili na predavanju. Ker gre za json, ga ustrezno dekodirajte, kot smo se tudi učili.\n",
    "\n",
    "Videli boste, da ste dobili nek grozljiv slovar. Recimo, da ga shranite v spremenljivko z imenom `podatki`. Da ga lahko preberete, poskusite tole:\n",
    "\n",
    "```python\n",
    "import pprint\n",
    "pprint.pp(podatki)\n",
    "```\n",
    "\n",
    "Najprej nekaj o Wikidata. Vsaka stvar (\"entiteta\") ima \"identifier\". Q712548 je identifier Albusa Dumbledora, Q437 je mesto Ljubljana, Q34660 je J. K. Rowling, Q11518 je Pitagorov izrek. Kdo ali kaj je Q42, uganite.\n",
    "\n",
    "Vsaka entiteta je opisana z lastnostmi (property). P1559 je full name -- pač za stvari, ki imajo full name; osebe ga imajo, Pitagorov izrek pač ne. P569 je dan rojstva, P21 je spol, P37 je uradni jezik, P625 so zemljepisne koordinate (Ljubljane, ne Pitagorovega izreka ali Albusa Dumbledora).\n",
    "\n",
    "Pridobljeni slovar bo imel vedno en sem ključ `entities`; pripadajoča vrednost bo imela en sam ključ, namreč oznako entitete (na primer `Q712548`). Podatki so znotraj tega. Preglejte in se znajdite.\n",
    "\n",
    "Najbolj zanimive stvari so znotraj `claims`. Ključi so lastnosti, vrednosti pa so ... te lastnosti zapisani v obliki, ki jo boste videli iz `pprint`-a.\n",
    "\n",
    "### `datum_rojstva_q(identifier)`, `datum_rojstva(ime)`\n",
    "\n",
    "- Napiši funkcijo `datum_rojstva_q(identifier)`, ki prejme oznako osebe in vrne terko z letom, mesecem in dnevom, na katerega je bila rojena ta oseba.\n",
    "\n",
    "    Klic `datum_rojstva_q(\"Q34660\")` vrne `(1965, 7, 31)`, ker je bila J. K. Rowling rojena 31. julija 1965.\n",
    "\n",
    "    Klic `datum_rojstva_q(\"Q1031\")` vrne `(1800, 12, 3)`, ko je bil rojen pesnik.\n",
    "\n",
    "    **Pomoč:** poišči funkcijo `strptime` in poglej dokumentacijo. Datum na Wikidata je v obliki `\"+%Y-%m-%dT%H:%M:%SZ\"`.\n",
    "\n",
    "- Napiši funkcijo `datum_rojstva(ime)`, ki prejme ime osebe iz Harryja Potterja in vrne datum rojstva te fiktivne osebe.\n",
    "\n",
    "    Klic `datum_rojstva(\"Harry Potter\")` vrne `(1980, 7, 31)`, ker je bil Harry Potter rojen 31. julija 1980.\n",
    "\n",
    "  \n",
    "#### Rešitev\n",
    "\n",
    "Obe funkciji bosta morali na koncu koncev prebrati podatke z določenega URL. Rešimo ju hkrati: napišimo pomožno funkcijo, ki prebere podatke s tega URL-ja; obe funkciji, ki ju moramo napisati, bosta nato le klicali to, pomožno funkcijo."
   ]
  },
  {
   "cell_type": "code",
   "execution_count": 14,
   "id": "4d3e29d7-3cd2-4ddf-b4b6-bd2f8dde82bf",
   "metadata": {},
   "outputs": [],
   "source": [
    "def datum_rojstva_url(url):\n",
    "    identifier = url.split(\"/\")[-1]\n",
    "    data = json.load(urlopen(url))\n",
    "    date = data[\"entities\"][identifier][\"claims\"][\"P569\"][0][\"mainsnak\"][\"datavalue\"][\"value\"][\"time\"]\n",
    "    date = strptime(date, \"+%Y-%m-%dT%H:%M:%SZ\")\n",
    "    return date.tm_year, date.tm_mon, date.tm_mday\n",
    "\n",
    "\n",
    "def datum_rojstva_q(identifier):\n",
    "    return datum_rojstva_url(f\"http://www.wikidata.org/entity/{identifier}\")\n",
    "\n",
    "\n",
    "def datum_rojstva(ime):\n",
    "    return datum_rojstva_url(osebe[ime])\n"
   ]
  },
  {
   "cell_type": "markdown",
   "id": "bcb51f9a-d4f8-45fa-b953-483b892d6f50",
   "metadata": {},
   "source": [
    "Pomožna funkcija je dokaj preprosta: pokličemo `urlopen` s podanim `url` in rezultat damo `json.load`, da vrne slovar, ki ga dobimo s te strani. Če si ga ogledamo, vidimo, da bo iskani datum pod ključem `\"entities\"`, znotraj tega bo \"identifier\", ki ga dobimo kot zadnji del URL-ja, znotraj tega bo `\"claims\"` ... in tako naprej. Kup slovarjev v slovarjih v slovarjih. V resničnem svetu se bomo pogosto znašli v situaciji, ko bomo dobili podatke v obliki, ki jo bomo morali sami dekodirati (ali pa se prebijati čez dokumentacijo, ki bo ažurna ali pa tudi ne, zelo pogosta pa bo tudi doooolga). Datum bo imel obliko `\"+%Y-%m-%dT%H:%M:%S\"`. Razkopljemo ga s `strptime` in vrnemo, kar zahteva naloga.\n",
    "\n",
    "Zdaj `datum_rojstva_q` sestavi URL na podlagi podanega \"identifierja\", `datum_rojstva` pa za podano osebo dobi kar URL iz slovarja `osebe`."
   ]
  },
  {
   "cell_type": "markdown",
   "id": "c59435ca-346c-4ee0-a1a8-0a66feeddae7",
   "metadata": {},
   "source": [
    "### `prevod_imena(ime)`\n",
    "\n",
    "- Napiši funkcijo `prevod_imena(ime)`, ki bo za podano ime povedal, kaj je iz tega imena naredil slovenski prevajalec. Klic `prevod_imena(\"Severus Snape\")` vrne \"Robaus Raws\".\n",
    "\n",
    "  (Rant: slovenskega prevoda nisem bral. Pogled na Wikipedijo pa pokaže, da se je izgleda samo slovenskemu in madžarskem prevajalcu zdelo potrebno zamenjati originalna imena z nekimi svojimi slaboumotvori.)\n",
    "\n",
    "#### Rešitev\n",
    "\n",
    "Čisto podobno kot prej, le drugo reč je potrebno prebrati iz slovarja."
   ]
  },
  {
   "cell_type": "code",
   "execution_count": 15,
   "id": "a9109583-87fa-4100-90cf-0ff80bb5c8ce",
   "metadata": {},
   "outputs": [],
   "source": [
    "def prevod_imena(ime):\n",
    "    data = json.load(urlopen(osebe[ime]))\n",
    "    return data.popitem()[1].popitem()[1][\"labels\"][\"sl\"][\"value\"]"
   ]
  },
  {
   "cell_type": "markdown",
   "id": "e5c3097c-b45b-40cc-b30c-429bae46a78a",
   "metadata": {},
   "source": [
    "### Posebni `urlopen`\n",
    "\n",
    "Da bo vaš program tekel hitreje, je testom priložena moja funkcija `urlopen`. Namesto da bi uvažali `urlopen` iz `urllib.request`, temveč kličite to, mojo funkcijo. Ta bo brala vnaprej pobrane podatke iz priložene datoteke osebe.json, pravo funkcijo `urlopen` pa poklicala le za podatke, ki jih ni v datoteki.\n",
    "\n",
    "Tudi v praksi ravnajte tako: če iz spletne strani pobirate neke podatke, jih poberite enkrat za vselej in shranjujte lokalno. To ne bo le hitrejše, temveč tudi prijaznejše do spletne strani."
   ]
  },
  {
   "cell_type": "markdown",
   "id": "a3ec8671-9293-4e02-9ad2-773e27f8ac96",
   "metadata": {},
   "source": [
    "## Ocena 9\n",
    "\n",
    "Naloga za oceno 9 nas bo še malo vadila v igranju s slovarji, množicami in nizi. Predvsem bo treba razmisliti, kako se lotiti dela, da stvari ne bodo prepočasne.\n",
    "\n",
    "---------------\n",
    "\n",
    "### `po_imenih()`\n",
    "\n",
    "Najprej bomo zamenjali imena in priimke vseh oseb z njihovimi imeni. V knjigi ima namreč veliko oseb lahko isti priimek, imena pa so (skoraj) unikatna. Napisati bo potrebno funkcijo, ki takole spreminja besedila.\n",
    "\n",
    "- `po_imenih(\"Harry, Ron and Ginny Weasley, and also Dursley, Ollivander and Rosmerta walk'd down the corridor.\")` vrne `\"Harry Ron and Ginny and also Vernon Garrick and Rosmerta walk'd down the corridor\"`\n",
    "            ,\n",
    "- `po_imenih(\"Whether you call him Albus Dumbledore, or Albus Percival Wulfric Brian Dumbledore, or just Dumbledore, he was a great wizard.\")` vrne `\"Whether you call him Albus or Albus or just Albus he was a great wizard\"`\n",
    "\n",
    "- `po_imenih(\"Dumbledore was a brother of Aberforth Dumbledore and Ariana.\")` vrne `\"Albus was a brother of Aberforth and Ariana\"`\n",
    "\n",
    "- `po_imenih(\"The Potters and the Dursleys were neighbours.\")` vrne isto besedilo, le brez pike na koncu.\n",
    "\n",
    "- `po_imenih(\"Justin Finch-Fletchley said: 'Don't talk to me like this - Potter!'\")` vrne `\"Justin said Don't talk to me like this Harry\"`\n",
    "\n",
    "    Tudi rezultat klica z `\"Finch-Fletchley said: 'Don't talk to me like this - Potter!'\"` in `\"Finch-Fletchley said: 'Don't talk to me like this - Potter!'\"`\n",
    "\n",
    "Funkcija mora izvesti naslednje operacije:\n",
    "\n",
    "- V besedilu mora ohraniti le besede. Besede so zaporedja, ki vsebujejo vsaj eno črko, poleg tega pa lahko vsebujejo znaka `-` in `'`, ki pa se morata pojaviti znotraj besede. **S tem se ne zafrkavaj sam(a)**: testom je priložena funkcija `samo_besede(s)`, ki prejme besedilo in vrne niz, ki vsebuje le besede. Samo pokliči jo.\n",
    "- V besedilu zamenja vse pojavitve imena in priimka z imenom. \"Harry Potter\" zamenja s \"Harry\", \"Ginny Weasley\" z \"Ginny\". Če ima oseba več imen, zamenja popolno različico in različico z enim samim imenom: \"Albus Dumbledore\" zamenja z \"Albus\", pa tudi \"Albus Percival Wulfric Brian Dumbledore\" zamenja z \"Albus\".\n",
    "- Nato (in šele nato!) zamenja vse priimke z imeni. \"Potter\" zamenja s \"Harry\", \"Weasley\" zamenja z \"Ron\", \"Dumbledore\" zamenja z \"Albus\". Kadar je priimek unikaten, je stvar jasna: \"Granger\" je lahko samo \"Hermione\". Kadar ima isti priimek več oseb, pa **slovar `primarna`, ki je priložen testom**, pove, katero ime je potrebno uporabiti: ključi slovarja so priimki, vrednosti pa \"privzeto ime\" za ta priimek. (Izbira je seveda moja, po občutku; Dursley je ponavadi Vernon in ne Dudley, recimo.)\n",
    "\n",
    "**Pomemben namig:** Uporabljaj `replace`! Če boš delal zanko čez besede, bo funkcija veliko prepočasna, saj je besed 932130.\n",
    "\n",
    "**Malo zavozlan namig:** tako besedilu kot temu, kar zamenjuješ kot temu, s čimer zamenjuješ, na začetek in konec prištej presledek. Tako se izogneš nevarnosti, da zamenjaš del besede.\n",
    "\n",
    "#### Rešitev\n",
    "\n",
    "Za to funkcijo mi je žal. Hotel sem, da bi bila domača naloga smiselna in odražala neko realno situacijo - v tem primeru iz računalniške analize nekega besedila. (Če kdo ugovarja, da je to bolj relevantno za, uh, na primer študente digitalnega jezikoslovja, ne pa upravne informatike in kaj šele multimedije: gre za delo z \"nestrukturiranimi podatki\" in jaz se profesionalno ne ukvarjam z ničemer podobnim, pa moram velikokrat početi kaj podobnega. Sploh pa so bile prejšnje naloge vseeno bolj vaje iz množic in slovarjev in datotek, ne iz obdelave besedil.)\n",
    "\n",
    "Kakorkoli: polomil sem ga. Ta del domače naloge je bil težak iz napačnih razlogov. Težko je definirati, kaj točno naj počne takšna funkcija. V retrospektivi bi bilo boljše, če bi vam to funkcijo preprosto podal, pa gremo naprej.\n",
    "\n",
    "Jaz sem jo rešil tako:"
   ]
  },
  {
   "cell_type": "code",
   "execution_count": 16,
   "id": "67d174b7-daf8-49e8-a3ac-aab6e091edd4",
   "metadata": {},
   "outputs": [],
   "source": [
    "def po_imenih(besedilo):\n",
    "    besedilo = \" \" + samo_besede(besedilo) + \" \"\n",
    "    \n",
    "    for imena_in_priimek in osebe:\n",
    "        ime = brez_dodatkov(imena_in_priimek).split()[0]\n",
    "        besedilo = besedilo.replace(f\" {imena_in_priimek} \", f\" {ime} \")\n",
    "        if imena_in_priimek.count(\" \") > 1:\n",
    "            priimek = imena_in_priimek.split()[-1]\n",
    "            besedilo = besedilo.replace(f\" {ime} {priimek} \", f\" {ime} \")\n",
    "            \n",
    "    for priimek, imena in po_priimkih().items():\n",
    "        ime = primarna.get(priimek, imena.pop())\n",
    "        b = None\n",
    "        while b != besedilo:\n",
    "            b = besedilo\n",
    "            besedilo = besedilo.replace(f\" {priimek} \", f\" {ime} \")\n",
    "            \n",
    "    return besedilo[1:-1]"
   ]
  },
  {
   "cell_type": "markdown",
   "id": "849ee845-b6e9-49f9-a59a-a774956ba3f9",
   "metadata": {},
   "source": [
    "Prva vrstica doda na začetek in konec presledek, zadnja ju spet pobriše. Zakaj? Zato da lahko zamenjujemo besede, pred katerimi in za katerimi je presledek. Tako poskrbimo, da se Changing ne bo zamenjal v Choing, ko bi preimenovali Chang v Cho. Če hočemo, da je pred in za vsakim imenom presledek, moramo presledek za vsak slučaj dodati še na čisti začetek in konec besedila.\n",
    "\n",
    "Prvi del zamenjuje celotna imena in priimke: gre čez vse osebe, vsako ime olušči dodatkov. Nato zamenja vse pojatitve celotnega imena in priimka z imenom. Poleg tega preveri, ali ime in priimek vsebujeta več kot en presledek - kar pomeni, da ima oseba več kot eno ime. V tem primeru zamenja, kot pravijo navodila, še različico z enim samim (prvim) imenom.\n",
    "\n",
    "Drugi del zamenjuje priimke z imeni. Za vsak priimek (ki ga dobi v tabeli `po_priimkih`, poišče pripadajoče ime v tabeli `primarna`. Ker se v tej tabeli ne pojavijo vsi priimki, uporabimo `get`, kot privzeto vrednost pa podamo \"*poljubno*\" ime iz množice imen, ki pripadajo temu priimku. Beseda \"poljubno\" je pod narekovaji, ker bo množica v tem primeru dejansko vsebovala eno samo ime. Ker pa gre za množico, ne moremo reči kar `imena[0]`, saj množic ni možno indeksirati. Pač pa nam `pop` vrne *nek* element množice; če je le eden, potem vrne pač tega enega in edinega.\n",
    "\n",
    "Sledi zanka, v kateri izvajamo en in isti `replace`, dokler ta karkoli spremeni. To storimo zaradi situacij, v katerih se dvakrat zapored pojavi isto ime. Niz `\"Come here, Potter. Potter quickly came.\"` bi se spremenil v \"Come here Potter Potter quickly came\". Če zamenjamo `\" Potter \"` s ` Harry `, se bo zamenjal le prvi Potter. Do tega pride zato, ker menjamo Potter skupaj s presledkom pred in za njim; obe pojavitvi Potterja si delita presledek, zato zamenja le enega.\n",
    "\n",
    "Grdo, a kaj hočemo. Alternativa bi bila uporabljati regularne izraze (kot so storili nekateri študenti) ali spremeniti enojne presledke v dvojne, pa potem na koncu funkcije zamenjati dvojne presledke nazaj z enojnimi.\n",
    "\n",
    "Packarija, v vsakem primeru.\n",
    "\n",
    "### `omembe(ime, besedilo)`\n",
    "\n",
    "- Poleg tega napiši še funkcijo `omembe(ime, besedilo)` vrne indekse mest, na katerih se pojavi podano ime v besedilu, kakršnega vrne funkcija `po_imenih`.\n",
    "\n",
    "    Vzemimo niz `s = \"Albus Dumbledore saw how Potter walked away with Ron Weasley, and Harry was saying something\")`. Funkcija `po_imenih(s)` bi zanj vrnila `\"Albus saw how Harry walked away with Ron and Harry was saying something\"`. Zato klic `omembe(\"Albus\", s)` vrne `[0]`, klic `omembe(\"Harry\", s)` vrne `[6, 12]`, klic `omembe(\"Ron\", s)` vrne `[10]`.\n",
    "\n",
    "    Očitno bo tvoja funkcija najprej poklicala funkcijo `po_imenih`...\n",
    "\n",
    "#### Rešitev\n",
    "\n",
    "V primerjavi s prejšnjo je ta trivialna. Potrebna je zaradi nadaljevanja v oceni 10.\n",
    "\n",
    "Naredimo lahko tako:"
   ]
  },
  {
   "cell_type": "code",
   "execution_count": 17,
   "id": "5ab1da53-41f9-46e4-8d18-4a6513911c0e",
   "metadata": {},
   "outputs": [],
   "source": [
    "def omembe(ime, besedilo):\n",
    "    indeksi = []\n",
    "    for i, beseda in enumerate(po_imenih(besedilo).split()):\n",
    "        if beseda == ime:\n",
    "            indeksi.append(i)\n",
    "    return indeksi"
   ]
  },
  {
   "cell_type": "markdown",
   "id": "5b6382ab-e42a-40a9-98b4-1f5af104dc3d",
   "metadata": {},
   "source": [
    "Ali krajše:"
   ]
  },
  {
   "cell_type": "code",
   "execution_count": 18,
   "id": "d427a369-0bd5-4124-8e03-78ed729d57f1",
   "metadata": {},
   "outputs": [],
   "source": [
    "def omembe(ime, besedilo):\n",
    "    return [i for i, beseda in enumerate(po_imenih(besedilo).split()) if beseda == ime]"
   ]
  },
  {
   "cell_type": "markdown",
   "id": "b29c5911-e3b9-45dd-94d3-5216c5e95d9f",
   "metadata": {},
   "source": [
    "## Ocena 10\n",
    "\n",
    "Za oceno 10 pa še malo numpyja.\n",
    "\n",
    "------\n",
    "\n",
    "- Napiši funkcijo `po_blokih(imena, besedilo, velikost_bloka)`, ki prejme seznam imen, besedilo knjige (npr. celotno vsebino datoteke potter6) in velikost bloka.\n",
    "\n",
    "Besedilo obravnavamo v obliki, v kakršnega ga spremeni funkcija `po_imenih` (vsebuje samo osebe, vse osebe so predstavljene samo z imeni). Besedilo gledamo v blokih, ki vsebujejo toliko besed, kot določa `velikost_bloka`. Če je `velikost_bloka` enaka 10000, gledamo po 10000 besed skupaj. Če zadnji blok ni poln (in najbrž ni), ga ignoriramo.\n",
    "\n",
    "Funkcija vrne `numpy`-jevo tabelo, ki ima toliko vrstic, kolikor je blokov in toliko stolpcev, kolikor je imen. Element na mestu [i, j] pove, kolikokrat se j-to ime pojavi v i-tem bloku.\n",
    "\n",
    "V teste je dodana koda, ki bo, če imaš matplotlib in vse drugo, kar je treba, izrisala toplotni zemljevid pojavitev."
   ]
  },
  {
   "cell_type": "markdown",
   "id": "b27abaaf-b04c-475a-b79d-ab74d31b79e9",
   "metadata": {},
   "source": [
    "<img src=\"data:image/.png;base64,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\"/>\n",
    "\n",
    "Bralci naj se spomnijo poteka zgodbe..."
   ]
  },
  {
   "cell_type": "markdown",
   "id": "cd206703-e31b-4c37-8e23-867c2b96a3b4",
   "metadata": {},
   "source": [
    "#### Rešitev"
   ]
  },
  {
   "cell_type": "code",
   "execution_count": 19,
   "id": "c31a004e-5138-4f95-b62c-3cfbd1845a19",
   "metadata": {},
   "outputs": [],
   "source": [
    "import numpy as np\n",
    "\n",
    "def po_blokih(imena, besedilo, blok):\n",
    "    besede = po_imenih(besedilo).split()\n",
    "    blokov = len(besede) // blok\n",
    "    pojavitve = np.zeros((blokov, len(imena)), dtype=int)\n",
    "    for i in range(blokov):\n",
    "        v_bloku = besede[i * blok:(i + 1) * blok]\n",
    "        for ii, ime in enumerate(imena):\n",
    "            pojavitve[i, ii] = v_bloku.count(ime)\n",
    "    return pojavitve"
   ]
  },
  {
   "cell_type": "markdown",
   "id": "a29b8b25-49ba-4c84-ab6c-fd4d673716fa",
   "metadata": {},
   "source": [
    "- Pripravimo *seznam* besed iz besedila, v katerem zamenjamo priimke z imeni.\n",
    "- Preštejemo, koliko blokov imamo, tako da število besed celoštevilsko delimo z velikostjo bloka.\n",
    "- Pripravimo tabelo, ki jo bomo vrnili. Ta ima toliko vrstic, kolikor je blokov in toliko stolpcev, kolikor je imen; vsebina bodo `int`-i.\n",
    "- Potem pa gremo čez vse bloke in znotraj vsakega bloka čez vsa imena. V ustrezen element tabele zapišemo število pojavitev imena v bloku."
   ]
  },
  {
   "cell_type": "markdown",
   "id": "b1c34daf-2ee8-4bcb-b3ed-2e949825fb1f",
   "metadata": {},
   "source": [
    "Zanimivosti:\n",
    "- besede v bloku dobimo z `besede[i * blok:(i + 1) * blok]`, kjer je `i` številka bloka.\n",
    "- Besede iz bloka shranimo v `v_bloku`. To ni čisto nujno, lahko bi pisali tudi `pojavitve[i, ii] = besede[i * blok:(i + 1) * blok].count(ime)`. To bi bilo počasnejše. Poznalo bi se predvsem, če bi imeli veliko imen in dolge bloke, saj se na ta način vsakič znova sestavlja seznam imen v bloku. V tej konkretni nalogi je razlika minimalna.\n",
    "- Prva zanka teče do `range(blokov)`, druga čez `enumerate(imena)`, saj v drugem primeru potrebujemo ime in indeks tega imena, ki ga uporabimo kot indeks stolpca.\n",
    "\n",
    "Če je imen veliko, bi lahko prešteli frekvence vseh besed in potem pogledali, kolikokrat se pojavijo tiste, ki predstavljajo imena."
   ]
  },
  {
   "cell_type": "code",
   "execution_count": 20,
   "id": "0f974b3b-c6fc-4ce5-9c9b-a87c0b75b744",
   "metadata": {},
   "outputs": [],
   "source": [
    "from collections import Counter\n",
    "\n",
    "def po_blokih(imena, besedilo, blok):\n",
    "    besede = po_imenih(besedilo).split()\n",
    "    blokov = len(besede) // blok\n",
    "    pojavitve = np.zeros((blokov, len(imena)), dtype=int)\n",
    "    for i in range(blokov):\n",
    "        frekvence = Counter(besede[i * blok:(i + 1) * blok])\n",
    "        for ii, ime in enumerate(imena):\n",
    "            pojavitve[i, ii] = frekvence.get(ime, 0)\n",
    "    return pojavitve"
   ]
  },
  {
   "cell_type": "markdown",
   "id": "344f6886-37d0-404e-9c4f-72ce4bab230a",
   "metadata": {},
   "source": [
    "To je malenkost - ampak res samo malenkost - hitrejše. Razlika bi postala večja, če bi bilo imen več in bloki daljši.\n",
    "\n",
    "Je možno stvar rešiti \"bolj v numpyju\"? Da. "
   ]
  },
  {
   "cell_type": "code",
   "execution_count": 21,
   "id": "f88c44fa-29b8-45cd-a898-ceab924f9731",
   "metadata": {},
   "outputs": [],
   "source": [
    "def po_blokih(imena, besedilo, blok):\n",
    "    besedilo = po_imenih(besedilo).split()\n",
    "    blokov = len(besedilo) // blok\n",
    "    besedilo = \" \".join(besedilo[:blokov * blok])\n",
    "\n",
    "    pojavitve = np.zeros((blokov, len(imena)), dtype=int)\n",
    "    for i, ime in enumerate(imena):\n",
    "        indeksi = np.array(omembe(ime, besedilo))\n",
    "        omenjen = np.zeros(blok * blokov, dtype=bool)\n",
    "        omenjen[indeksi] = True\n",
    "        pojavitve[:, i] = omenjen.reshape(blokov, blok).sum(axis=1)\n",
    "    return pojavitve"
   ]
  },
  {
   "cell_type": "markdown",
   "id": "9f362d82-2ebc-4543-97d7-4ade5c053331",
   "metadata": {},
   "source": [
    "- Besedilo predelamo in razbijemo na besede. Nato izračunamo število blokov. Besede združimo nazaj v besedilo(!), vendar obdržimo le toliko besed, kolikor jih bomo dejansko upoštevali - znebimo se tistih, ki so v zadnjem, nepolnem bloku.\n",
    "- Pripravimo tabelo, ki jo bomo vrnili.\n",
    "- Nato za vsako ime poiščemo njegove omembe; to gre v indeksi.\n",
    "- Sestavimo tabelo s toliko ničlami, kolikor je besed v besedilu(!).\n",
    "- Na elemente, ki ustrezajo besedam, kjer se pojavi iskano ime, zapišemo `1`.\n",
    "- Nato se delamo, da ne gre za tabelo dolžine `blokov * blok`, temveč za tabelo, ki ima `blokov` vrstic in `blok` stolpcev - `reshape(blokov, blok)`. Za vsako vrstico (ki ustreza bloku) preštejemo, koliko enic vsebuje: to pove število omemb te osebe v tem bloku (vrstici). To je potrebno shraniti v ustrezen stolpec tabele `pojavitve`.\n",
    "\n",
    "Ta zvita rešitev v Numpyju je samo trikrat počasnejša od one zgoraj. :)))\n",
    "\n",
    "Da pa se jo pospešiti: osnovna hiba je v tem, da besedilo najprej razbijemo s split, nato združimo nazaj v niz -- samo zato, da ga `omembe` spet razbije na besede. Pozabimo na funkcijo `omembe`, saj je tako kratka, da je komaj vredna omembe. Brez nje ne bo program nič daljši:"
   ]
  },
  {
   "cell_type": "code",
   "execution_count": 22,
   "id": "f1f27958-2a25-4d17-b795-c9b96ffbae68",
   "metadata": {},
   "outputs": [],
   "source": [
    "def po_blokih(imena, besedilo, blok):\n",
    "    besedilo = po_imenih(besedilo).split()\n",
    "    blokov = len(besedilo) // blok\n",
    "    besedilo = besedilo[:blokov * blok]\n",
    "\n",
    "    pojavitve = np.zeros((blokov, len(imena)), dtype=int)\n",
    "    for i, ime in enumerate(imena):\n",
    "        indeksi = np.array([i for i, beseda in enumerate(besedilo) if beseda == ime])\n",
    "        omenjen = np.zeros(blok * blokov, dtype=int)\n",
    "        omenjen[indeksi] = 1\n",
    "        pojavitve[:, i] = omenjen.reshape(-1, blok).sum(axis=1)\n",
    "    return pojavitve"
   ]
  },
  {
   "cell_type": "markdown",
   "id": "4f62f650-a2ac-4030-8eae-8b2986478c8a",
   "metadata": {},
   "source": [
    "Ta rešitev v `numpy`-ju se izkaže za enako hitro kot ona rešitev z dvema zankama. (Navsezadnje ima tudi ta dve zanki...)\n",
    "\n",
    "Podobno hitra je tudi ta različica istega."
   ]
  },
  {
   "cell_type": "code",
   "execution_count": 23,
   "id": "8c1300d0-d0a7-4ce6-bbaa-9a62617a1314",
   "metadata": {},
   "outputs": [],
   "source": [
    "def po_blokih(imena, besedilo, blok):\n",
    "    besedilo = po_imenih(besedilo).split()\n",
    "    blokov = len(besedilo) // blok\n",
    "    besedilo = np.array(besedilo[:blokov * blok])\n",
    "\n",
    "    pojavitve = np.zeros((blokov, len(imena)), dtype=int)\n",
    "    for i, ime in enumerate(imena):\n",
    "        omenjen = np.zeros(blok * blokov, dtype=int)\n",
    "        omenjen[besedilo == ime] = 1\n",
    "        pojavitve[:, i] = omenjen.reshape(-1, blok).sum(axis=1)\n",
    "    return pojavitve"
   ]
  },
  {
   "cell_type": "markdown",
   "id": "015c4993-8afc-45be-bc41-b52e228c50b1",
   "metadata": {},
   "source": [
    "### `sovpadanje(besedilo, ime1, ime2, sirina)`\n",
    "\n",
    "- Za konec napiši še funkcijo `sovpadanje(besedilo, ime1, ime2, sirina)`. Tudi ta prejme besedilo knjige in ga spusti čez funkcijo `po_imenih`. Nato izračuna \"prekrivanje\" med osebama po naslednjem postopku. Recimo, da pokličemo `sovpadanje(besedilo, \"Ginny\", \"Romilda\", 20)`.\n",
    "\n",
    "    - Recimo, da se \"Ginny\" pojavi na indeksih 100, 110, 180, in 250. Tedaj bomo rekli, da Ginny, \"pokriva\" mesta od 80 do 120 (vključno!), od 90 do 130, od 160 do 200 in od 230 do 270 -- torej besedo, na kateri se pojavi in še 20 besed levo in desno, ker smo 20 podali kot argument `sirina`. Ker istega mesta ne pokriva dvakrat, bi bilo prav reči, da pokriva 80 do 130, 160 do 200 in 230 do 270.\n",
    "    - Recimo, da se \"Romilda\" pojave na indeksih 5, 70 in 255. Potem pokriva -15 do 25, 50 do 90 in 235 do 275.\n",
    "\n",
    "    Prekrivanje med njima je potem od 80 do 90 in od 235 do 270. Velikost prekrivanje je 11 + 36 = 47. To je rezultat, ki ga mora vrniti funkcija.\n",
    "\n",
    "    Za preprostejši primer vzemimo klic\n",
    " \n",
    "    ```\n",
    "    sovpadanje(\"Harry and Ron met Romilda and Romilda asked Harry about Ron\", ime1, ime2, 2)\n",
    "    ```\n",
    "  \n",
    "Spodnja slika kaže, katera mesta pokriva katera beseda (mesta so lahko tudi po koncu besedila ali pred začetkom!).\n",
    "\n",
    "    ```\n",
    "                       Harry and Ron met Romilda and Romilda asked Harry about Ron\n",
    "    Harry:    X    X     X    X   X                     X       X     X     X   X\n",
    "    Ron:                 X    X   X   X     X                         X     X   X     X     X\n",
    "    Romilda:                      X   X     X     X     X       X     X\n",
    "    ```\n",
    "\n",
    "Prekrivanje med Harry in Ron je 6 (kolikor je istoležnih indeksov v prvi in drugi vrstici), prekrivanje med Harry in Romilda (prva in zadnja vrstica) je 4, prekrivanje med Ron in Romilda pa prav tako 4. \n",
    "\n",
    "Če zmanjšamo širino na 1,\n",
    "\n",
    "    ```\n",
    "                   Harry and Ron met Romilda and Romilda asked Harry about Ron\n",
    "    Harry:     X     X    X                                 X     X     X   \n",
    "    Ron:                  X   X   X                                     X   X     X\n",
    "    Romilda:                      X     X     X     X       X    \n",
    "    ```\n",
    "\n",
    "je prekrivanje med Harry in Ron je 2, med ostalima paroma pa 1.\n"
   ]
  },
  {
   "cell_type": "markdown",
   "id": "2b011403-52da-4a1f-b4fd-a835e1f2737b",
   "metadata": {},
   "source": [
    "#### Rešitev\n",
    "\n",
    "Mogoče kar tako:"
   ]
  },
  {
   "cell_type": "code",
   "execution_count": 24,
   "id": "86df413f-fcff-4e25-a226-3db7ed60c89c",
   "metadata": {},
   "outputs": [],
   "source": [
    "def sovpadanje(besedilo, ime1, ime2, sirina):\n",
    "    dolzina = len(po_imenih(besedilo).split())\n",
    "    trak1 = np.zeros((dolzina + 2 * sirina), dtype=bool)\n",
    "    for i in omembe(ime1, besedilo):\n",
    "        trak1[i:i + 2 * sirina + 1] = True\n",
    "    trak2 = np.zeros((dolzina + 2 * sirina), dtype=bool)\n",
    "    for i in omembe(ime2, besedilo):\n",
    "        trak2[i:i + 2 * sirina + 1] = True\n",
    "    return np.sum(trak1 & trak2)"
   ]
  },
  {
   "cell_type": "markdown",
   "id": "516d4c89-b3eb-405a-b786-d932739c11ec",
   "metadata": {},
   "source": [
    "Ali, če hočemo bolj ekonomično, tako:"
   ]
  },
  {
   "cell_type": "code",
   "execution_count": 25,
   "id": "607a2c56-19fb-4fd3-98b3-3fc48d39d79d",
   "metadata": {},
   "outputs": [],
   "source": [
    "def sovpadanje(besedilo, ime1, ime2, sirina):\n",
    "    dolzina = len(po_imenih(besedilo).split())\n",
    "    trak = np.zeros((2, dolzina + 2 * sirina), dtype=bool)\n",
    "    for i in omembe(ime1, besedilo):\n",
    "        trak[0, i:i + 2 * sirina + 1] = True\n",
    "    for i in omembe(ime2, besedilo):\n",
    "        trak[1, i:i + 2 * sirina + 1] = True\n",
    "    return np.sum(trak[0] & trak[1])"
   ]
  },
  {
   "cell_type": "markdown",
   "id": "5ef5140c-5e59-459a-a782-d9262d46cffb",
   "metadata": {},
   "source": [
    "V vsakem primeru imamo dva \"trakova\", ki imata True-je na \"mestih\", ki jih pokriva posamično ime. Na koncu izračunamo presek (logični *in*) teh trakov in preštejemo, koliko True-jev dobimo.\n",
    "\n",
    "Gre brez zanke? Gre. Naj pokažem? Naj bo, če smo ravno pri Snapu in črni magiji.\n",
    "\n",
    "## Črna magija\n",
    "\n",
    "Če tega, kar se bo dogajalo tule, ne razumete, se popolnoma nič ne vznemirjajte. Tole celo med resnimi uporabniki numpyja ni zelo znano."
   ]
  },
  {
   "cell_type": "code",
   "execution_count": 26,
   "id": "f6922a85-a13f-43f1-acaf-0fd41a7f8ed1",
   "metadata": {},
   "outputs": [],
   "source": [
    "from numpy.lib.stride_tricks import as_strided\n",
    "\n",
    "a = np.zeros((5, 6))\n",
    "b = as_strided(a, shape=(5, 3), strides=(48, 16))"
   ]
  },
  {
   "cell_type": "markdown",
   "id": "7621c5b1-d985-490e-8faa-70b34f78b5b6",
   "metadata": {},
   "source": [
    "Tabeli `a` in `b` sta zapisani v istem pomnilniku, vendar imata nanj različen pogled. A pravi, da je razlika med pomnilniškim naslovom prvega elementa i-te in i+1-ve vrstice 48, razlika med pomnilniškim naslovom prvega in drugega elementa (ali, recimo, tretjega in četrtega) elementa v vrstici pa 8:"
   ]
  },
  {
   "cell_type": "code",
   "execution_count": 27,
   "id": "2af24b23-9b3e-44be-b673-1b9809f438d8",
   "metadata": {},
   "outputs": [
    {
     "data": {
      "text/plain": [
       "(48, 8)"
      ]
     },
     "execution_count": 27,
     "metadata": {},
     "output_type": "execute_result"
    }
   ],
   "source": [
    "a.strides"
   ]
  },
  {
   "cell_type": "markdown",
   "id": "eb5e1a3a-aa34-40a7-ab9d-622de7f2ee0f",
   "metadata": {},
   "source": [
    "`b` pa pravi, da je razlika med vrsticami res 48, med elementi pa 16, poleg tega pa ima `b`-jeva tabela le tri stolpce:"
   ]
  },
  {
   "cell_type": "code",
   "execution_count": 28,
   "id": "b4a2e3c3-0721-4199-8ab5-7f62f5ec1b5f",
   "metadata": {},
   "outputs": [
    {
     "data": {
      "text/plain": [
       "(48, 16)"
      ]
     },
     "execution_count": 28,
     "metadata": {},
     "output_type": "execute_result"
    }
   ],
   "source": [
    "b.strides"
   ]
  },
  {
   "cell_type": "markdown",
   "id": "8c4a58ee-61f3-4def-9819-a9f544bbe00d",
   "metadata": {},
   "source": [
    "Dokler so v tabeli same ničle, ni to 0 posebnega."
   ]
  },
  {
   "cell_type": "code",
   "execution_count": 29,
   "id": "0c50cd8f-46ca-4480-92c0-5f3605e521d8",
   "metadata": {},
   "outputs": [
    {
     "data": {
      "text/plain": [
       "array([[0., 0., 0., 0., 0., 0.],\n",
       "       [0., 0., 0., 0., 0., 0.],\n",
       "       [0., 0., 0., 0., 0., 0.],\n",
       "       [0., 0., 0., 0., 0., 0.],\n",
       "       [0., 0., 0., 0., 0., 0.]])"
      ]
     },
     "execution_count": 29,
     "metadata": {},
     "output_type": "execute_result"
    }
   ],
   "source": [
    "a"
   ]
  },
  {
   "cell_type": "code",
   "execution_count": 30,
   "id": "11d23047-562d-4198-9c10-6408e441e406",
   "metadata": {},
   "outputs": [
    {
     "data": {
      "text/plain": [
       "array([[0., 0., 0.],\n",
       "       [0., 0., 0.],\n",
       "       [0., 0., 0.],\n",
       "       [0., 0., 0.],\n",
       "       [0., 0., 0.]])"
      ]
     },
     "execution_count": 30,
     "metadata": {},
     "output_type": "execute_result"
    }
   ],
   "source": [
    "b"
   ]
  },
  {
   "cell_type": "markdown",
   "id": "77b2d608-cebe-40f2-a78e-09918dcfb7b9",
   "metadata": {},
   "source": [
    "Zdaj pa postavimo prvo vrstico `b`-ja na 42."
   ]
  },
  {
   "cell_type": "code",
   "execution_count": 31,
   "id": "f67169b8-b702-4a37-a82a-3e78234fe365",
   "metadata": {},
   "outputs": [],
   "source": [
    "b[1] = 42"
   ]
  },
  {
   "cell_type": "code",
   "execution_count": 32,
   "id": "7ba905f6-5efa-406f-9726-fcfa7ac1cf30",
   "metadata": {},
   "outputs": [
    {
     "data": {
      "text/plain": [
       "array([[ 0.,  0.,  0.],\n",
       "       [42., 42., 42.],\n",
       "       [ 0.,  0.,  0.],\n",
       "       [ 0.,  0.,  0.],\n",
       "       [ 0.,  0.,  0.]])"
      ]
     },
     "execution_count": 32,
     "metadata": {},
     "output_type": "execute_result"
    }
   ],
   "source": [
    "b"
   ]
  },
  {
   "cell_type": "markdown",
   "id": "b82ff036-815b-4165-bed2-bc4d743d8300",
   "metadata": {},
   "source": [
    "Ker `a` in `b` uporabljata isti pomnilnik, je nastavljanje `b`-ja spremenilo tudi `a` - vendar vsak drugi element."
   ]
  },
  {
   "cell_type": "code",
   "execution_count": 33,
   "id": "add77478-d0f5-46a7-aa1b-4f553cfb0166",
   "metadata": {},
   "outputs": [
    {
     "data": {
      "text/plain": [
       "array([[ 0.,  0.,  0.,  0.,  0.,  0.],\n",
       "       [42.,  0., 42.,  0., 42.,  0.],\n",
       "       [ 0.,  0.,  0.,  0.,  0.,  0.],\n",
       "       [ 0.,  0.,  0.,  0.,  0.,  0.],\n",
       "       [ 0.,  0.,  0.,  0.,  0.,  0.]])"
      ]
     },
     "execution_count": 33,
     "metadata": {},
     "output_type": "execute_result"
    }
   ],
   "source": [
    "a"
   ]
  },
  {
   "cell_type": "markdown",
   "id": "a65a8546-9222-4713-9c08-7c3d57ccdea2",
   "metadata": {},
   "source": [
    "Tule potrebujemo nekaj še bolj hecnega."
   ]
  },
  {
   "cell_type": "code",
   "execution_count": 34,
   "id": "7342981c-f749-41b2-af11-4171ace2603f",
   "metadata": {},
   "outputs": [
    {
     "data": {
      "text/plain": [
       "(1,)"
      ]
     },
     "execution_count": 34,
     "metadata": {},
     "output_type": "execute_result"
    }
   ],
   "source": [
    "a = np.arange(9, dtype=np.int8)\n",
    "a.strides"
   ]
  },
  {
   "cell_type": "code",
   "execution_count": 35,
   "id": "af38f8de-de30-4071-a000-2e2a1d2752b9",
   "metadata": {},
   "outputs": [
    {
     "data": {
      "text/plain": [
       "array([0, 1, 2, 3, 4, 5, 6, 7, 8], dtype=int8)"
      ]
     },
     "execution_count": 35,
     "metadata": {},
     "output_type": "execute_result"
    }
   ],
   "source": [
    "a"
   ]
  },
  {
   "cell_type": "code",
   "execution_count": 36,
   "id": "d23946d5-1bb0-460d-8215-ea8432f55119",
   "metadata": {},
   "outputs": [
    {
     "data": {
      "text/plain": [
       "array([[0, 1, 2],\n",
       "       [1, 2, 3],\n",
       "       [2, 3, 4],\n",
       "       [3, 4, 5],\n",
       "       [4, 5, 6],\n",
       "       [5, 6, 7],\n",
       "       [6, 7, 8]], dtype=int8)"
      ]
     },
     "execution_count": 36,
     "metadata": {},
     "output_type": "execute_result"
    }
   ],
   "source": [
    "b = as_strided(a, shape=(7, 3), strides=(1, 1))\n",
    "b"
   ]
  },
  {
   "cell_type": "markdown",
   "id": "e4e779a2-8803-4de9-a698-a6fe5dea568a",
   "metadata": {},
   "source": [
    "Ko gremo v naslednjo vrstico, se premaknemo le za en bajt pomnilnika naprej (`np.int8` namreč zasede en bajt). Torej drugi element prve vrstice sovpada (v pomnilniku) s prvim elementom druge ... in tako naprej."
   ]
  },
  {
   "cell_type": "code",
   "execution_count": 37,
   "id": "f70b2a48-8735-4f76-b4fe-ba85eb9738ca",
   "metadata": {},
   "outputs": [
    {
     "data": {
      "text/plain": [
       "array([2, 3, 4], dtype=int8)"
      ]
     },
     "execution_count": 37,
     "metadata": {},
     "output_type": "execute_result"
    }
   ],
   "source": [
    "b[2]"
   ]
  },
  {
   "cell_type": "code",
   "execution_count": 38,
   "id": "e2919199-9619-4a00-8003-9bc1a14c2b0a",
   "metadata": {},
   "outputs": [],
   "source": [
    "b[2] = 42"
   ]
  },
  {
   "cell_type": "code",
   "execution_count": 39,
   "id": "e8d14947-4b0c-493a-8212-59687197adc0",
   "metadata": {},
   "outputs": [
    {
     "data": {
      "text/plain": [
       "array([[ 0,  1, 42],\n",
       "       [ 1, 42, 42],\n",
       "       [42, 42, 42],\n",
       "       [42, 42,  5],\n",
       "       [42,  5,  6],\n",
       "       [ 5,  6,  7],\n",
       "       [ 6,  7,  8]], dtype=int8)"
      ]
     },
     "execution_count": 39,
     "metadata": {},
     "output_type": "execute_result"
    }
   ],
   "source": [
    "b"
   ]
  },
  {
   "cell_type": "markdown",
   "id": "b3176785-0075-4d7a-9e31-96ed582c4c4f",
   "metadata": {},
   "source": [
    "S tem, ko smo nastavili drugo vrstico `b`-ja na 42, smo nastavili tudi nekaj nekaj elementov prejšnjih vrstic - ker, kot vemo, sovpadajo. To niti ni tako zanimivo, bolj zanimivo je, kaj smo s tem storili `a`-ju:"
   ]
  },
  {
   "cell_type": "code",
   "execution_count": 40,
   "id": "9af01ab5-8401-4ed8-b5f7-1f44127163a6",
   "metadata": {},
   "outputs": [
    {
     "data": {
      "text/plain": [
       "array([ 0,  1, 42, 42, 42,  5,  6,  7,  8], dtype=int8)"
      ]
     },
     "execution_count": 40,
     "metadata": {},
     "output_type": "execute_result"
    }
   ],
   "source": [
    "a"
   ]
  },
  {
   "cell_type": "markdown",
   "id": "8e1a2fb3-b0aa-41c6-91d4-359aecb089bd",
   "metadata": {},
   "source": [
    "Nastavili smo tri zaporedne elemente `a`-ja!\n",
    "\n",
    "To pa je že vse, kar potrebujemo za rešitev naloge `sovpadanje` brez zank."
   ]
  },
  {
   "cell_type": "code",
   "execution_count": 41,
   "id": "2e5dd65f-4644-4d99-bc7e-c92b3b9b209e",
   "metadata": {},
   "outputs": [],
   "source": [
    "from numpy.lib.stride_tricks import as_strided\n",
    "\n",
    "def sovpadanje(besedilo, ime1, ime2, sirina):\n",
    "    dolzina = len(po_imenih(besedilo).split())\n",
    "    strshape = (dolzina + sirina, 2 * sirina + 1)\n",
    "    trak1 = np.zeros(dolzina + 2 * sirina, dtype=bool)\n",
    "    as_strided(trak1, strshape, (1, 1))[omembe(ime1, besedilo)] = True\n",
    "    trak2 = np.zeros(dolzina + 2 * sirina, dtype=bool)\n",
    "    as_strided(trak2, strshape, (1, 1))[omembe(ime2, besedilo)] = True\n",
    "    return np.sum(trak1 & trak2)"
   ]
  },
  {
   "cell_type": "markdown",
   "id": "0b01fb3e-753f-4e97-bf83-306c9f397eae",
   "metadata": {},
   "source": [
    "Ali, še malo bolj odpuljena varianta:"
   ]
  },
  {
   "cell_type": "code",
   "execution_count": 42,
   "id": "8a2660e3-0da9-46b2-aaba-a98d07d31ce9",
   "metadata": {},
   "outputs": [],
   "source": [
    "def sovpadanje(besedilo, ime1, ime2, sirina):\n",
    "    dolzina = len(po_imenih(besedilo).split())\n",
    "    trak = np.zeros((2, dolzina + 2 * sirina), dtype=bool)\n",
    "    trak2 = as_strided(trak, (2, dolzina + sirina, 2 * sirina + 1), trak.strides + (1,))\n",
    "    trak2[0, omembe(ime1, besedilo)] = True\n",
    "    trak2[1, omembe(ime2, besedilo)] = True\n",
    "    return np.sum(trak[0] & trak[1])"
   ]
  }
 ],
 "metadata": {
  "kernelspec": {
   "display_name": "Python 3 (ipykernel)",
   "language": "python",
   "name": "python3"
  },
  "language_info": {
   "codemirror_mode": {
    "name": "ipython",
    "version": 3
   },
   "file_extension": ".py",
   "mimetype": "text/x-python",
   "name": "python",
   "nbconvert_exporter": "python",
   "pygments_lexer": "ipython3",
   "version": "3.12.7"
  }
 },
 "nbformat": 4,
 "nbformat_minor": 5
}
