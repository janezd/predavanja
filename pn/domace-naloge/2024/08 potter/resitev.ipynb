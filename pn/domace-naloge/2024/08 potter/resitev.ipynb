{
 "cells": [
  {
   "cell_type": "markdown",
   "id": "2a36bc3f-9306-480c-a2ab-d74a841fc901",
   "metadata": {},
   "source": [
    "# Henrik Lončar\n",
    "\n",
    "Za reševanje te domače naloge uporabljajte numpy. Vsaka funkcija naj bi imela samo eno vrstico z `return`-om, ki vrne ustrezno filtrirano, indeksirano, prešteto ali karkoli že tabelo. Samo pri `naj_dogajanje` bo morda praktično, če boste dodali še eno vrstico.\n",
    "\n",
    "Da ste rešili, kot je mišljeno, boste prepoznali po tem, da ne bo v programu nobenih zank, generatorjev, izpeljanih seznamov. Da ne zapletam testov, ti tega ne bodo preverjali in če bo kdo rešil kako drugače, bo tudi ta rešitev sprejeta kot pravilna. Vseeno pa zelo priporočam, da se potrudite: gre za uvodne naloge iz numpyja in dobro je, da to obvladate, preden pridejo na vrsto zahtevnejše.\n",
    "\n",
    "---\n",
    "\n",
    "Nalogi sta priloženi dve datoteki.\n",
    "\n",
    "- \"chapters.txt\" vsebuje imena poglavij neke otroške knjige.\n",
    "- \"occurences.txt\" ima tri stolpce: številka poglavja, ime osebe in število omemb te osebe v tem poglavju. V datoteki je, recimo, vrstica `25,Trelawney,21`, ki pomeni, da se v 25. poglavju 21-krat omeni oseba s priimkom Trelawney.\n",
    "\n",
    "**Za nalogo nepomembne opombe.** ker sem podatke nabral avtomatsko vsebujejo napake - kadar, na primer, osebo pokličejo po priimku, je težko avtomatsko razbrati, za koga gre. Če bom te podatke uporabljal tudi v prihodnih nalogah, jih bom morda izboljševal.\n",
    "\n",
    "Nekatere osebe so zapisane z imeni, druge s priimki, saj je bralcem včasih bolj znano eno, včasih drugo (najbrž nihče ne ve, komu je bilo ime Gerrick...). Osebe, ki so predstavljene z imeni in ne priimki, so: </font>\n",
    "\n",
    "```\n",
    "[\"Harry\", \"Hermione\", \"Ron\", \"Ginny\", \"Fred\", \"George\", \"Arthur\", \"Molly\", \"Bill\", \"Fleur\",\n",
    " \"Cedric\", \"Cho\", \"Dean\", \"Dudley\", \"Draco\", \"Charlie\", \"Katie\", \"Kendra\", \"Kingsley\",\n",
    " \"Luna\", \"Neville\", \"Oliver\", \"Sirius\", \"Xenophilius\", \"James\", \"Lily\", \"Petunia\", \"Vernon\",\n",
    " \"Lucius\", \"Louis\", \"Isla\", \"Roxanne\", \"Burke\", \"Cygnus\", \"Beadle\", \"Sirius\", \"Phineas\",\n",
    " \"Alecto\", \"Scorpius\", \"Gwenog\", \"Beatrix\",  \"Lucius\", \"Ariana\", \"Narcissa\", \"Angelina\",\n",
    " \"Ignotus\", \"Percy\"]\n",
    "```"
   ]
  },
  {
   "cell_type": "markdown",
   "id": "c410a321-8580-47c3-b32e-c5cc20b32dd3",
   "metadata": {},
   "source": [
    "## Priprava podatkov\n",
    "\n",
    "Napiši program (ne funkcije!), ki preberi datoteki in pripravi numpyjeve tabele `poglavja`, `osebe` in `omembe`. Tabele vsebujejo podatke iz stolpcev datoteke \"occurences.txt\", pri čemer sta `poglavje` in `omembe` pretvorjene v `int`. Od `poglavje` odštejte `1`, da bo imelo prvo poglavje številko `0`.\n",
    "\n",
    "Poleg tega preberi vsebino datoteke \"chapters.txt\" v tabelo `naslovi`.\n",
    "\n",
    "Testi bodo preverjali, ali obstajajo spremenljivke s temi imeni in vsebujejo (del tega), kar morajo."
   ]
  },
  {
   "cell_type": "code",
   "execution_count": 1,
   "id": "efa3fa2d-5319-487b-be97-133af1282585",
   "metadata": {},
   "outputs": [],
   "source": [
    "import numpy as np\n",
    "\n",
    "naslovi = np.genfromtxt(\"chapters.txt\", delimiter=\"XXX\", dtype=str)\n",
    "podatki = np.genfromtxt(\"mentions.txt\", delimiter=\",\", dtype=str)\n",
    "\n",
    "poglavja, osebe, omembe = podatki.T\n",
    "poglavja = poglavja.astype(int) - 1\n",
    "omembe = omembe.astype(int)"
   ]
  },
  {
   "cell_type": "markdown",
   "id": "87afd5fa-c56e-45ed-a2b1-4bdebb2a0c5c",
   "metadata": {},
   "source": [
    "## Obvezna naloga\n",
    "\n",
    "Napiši naslednje funkcije:\n",
    "\n",
    "- `naj_oseba()`: vrne ime osebe, ki se omeni največkrat v kateremkoli poglavju. (Funkcija vrne Harry, ker se le-ta 150-krat omeni v 26. poglavju, kar je rekord.)\n",
    "- `naj_dogajanje()`: podobno kot prejšnja funkcija, le da vrne ime poglavja in ime osebe.\n",
    "- `prva_omemba(oseba)`: vrne ime poglavja, v katerem se podana oseba prvič omeni.\n",
    "- `koliko_poglavij(oseba)`: vrne število poglavij, v katerih se omeni podana oseba.\n",
    "- `v_poglavjih_st(oseba)`: vrne tabelo s številkami poglavij, v katerih se omeni podana oseba.\n",
    "- `v_poglavjih(oseba)`: vrne tabelo naslovov poglavij, v katerih se omeni podana oseba.\n",
    "- `vseh_omemb(oseba)`: vrne število omemb podane osebe v celotni knjigi."
   ]
  },
  {
   "cell_type": "markdown",
   "id": "67a4b9db-0a3b-4270-9392-e23089a3880a",
   "metadata": {},
   "source": [
    "### Rešitev\n",
    "\n",
    "Prvi dve funkciji sta očitno podobni. Obe zahtevata, da se spomnimo, kako dobiti indeks največjega elementa `argmax`. Tako dobimo indeks z največjim številom omemb, potem pa poiščemo pripadajoče ime osebe oziroma pripadajoče ime poglavja. Ime poglavja dobimo tako, da najprej izvemo njegov indeks, nato pa gremo s tem indeksom pogledati v seznam naslovov poglavij."
   ]
  },
  {
   "cell_type": "code",
   "execution_count": 2,
   "id": "58eeb7d7-5b68-482b-abeb-5664e98a6ea4",
   "metadata": {},
   "outputs": [],
   "source": [
    "def naj_oseba():\n",
    "    return osebe[np.argmax(omembe)]"
   ]
  },
  {
   "cell_type": "code",
   "execution_count": 3,
   "id": "7a36d833-3587-4e73-97f9-95c6b0bea31b",
   "metadata": {},
   "outputs": [],
   "source": [
    "def naj_dogajanje():\n",
    "    i = np.argmax(omembe)\n",
    "    return naslovi[poglavja[i]], osebe[i]"
   ]
  },
  {
   "cell_type": "code",
   "execution_count": 4,
   "id": "c95d8e01-905d-416c-93af-7e7a41729fb2",
   "metadata": {},
   "outputs": [],
   "source": [
    "def prva_omemba(oseba):\n",
    "    return naslovi[np.min(poglavja[osebe == oseba])]"
   ]
  },
  {
   "cell_type": "markdown",
   "id": "bbfb29b1-9a34-4660-9a09-e8ee2923783c",
   "metadata": {},
   "source": [
    "Preostale štiri funkcije zahtevajo masko, s katero dobimo vse elemente, ki se nanašajo na podano osebo, `osebe == oseba`. Ker vsako osebo v vsakem poglavju štejemo le enkrat, nam bo `np.sum(osebe == oseba)` povedal število poglavij s to osebo, `poglavje[osebe == oseba]` indekse teh poglavij, iz indeksov pa dobimo njihove naslove, če gremo pogledat v `naslovi`. Četrta funkcija v `omembe` pogleda vse števce omemb te osebe in jih z `np.sum` sešteje."
   ]
  },
  {
   "cell_type": "code",
   "execution_count": 5,
   "id": "670b6fad-1ac5-46c3-9c66-f0da9943ef1f",
   "metadata": {},
   "outputs": [],
   "source": [
    "def koliko_poglavij(oseba):\n",
    "    return np.sum(osebe == oseba)"
   ]
  },
  {
   "cell_type": "code",
   "execution_count": 6,
   "id": "cf29d49d-fc8d-4953-b620-b4ba6e1812eb",
   "metadata": {},
   "outputs": [],
   "source": [
    "def v_poglavjih_st(oseba):\n",
    "    return poglavja[osebe == oseba]"
   ]
  },
  {
   "cell_type": "code",
   "execution_count": 7,
   "id": "4f232803-6f44-4b9f-874d-c307f86ef9b0",
   "metadata": {},
   "outputs": [],
   "source": [
    "def v_poglavjih(oseba):\n",
    "    return naslovi[poglavja[osebe == oseba]]"
   ]
  },
  {
   "cell_type": "code",
   "execution_count": 8,
   "id": "0607175a-f039-45e0-b0be-fc6a3cf77a72",
   "metadata": {},
   "outputs": [],
   "source": [
    "def vseh_omemb(oseba):\n",
    "    return np.sum(omembe[osebe == oseba])"
   ]
  },
  {
   "cell_type": "markdown",
   "id": "98e51252-2dad-4951-bd2b-cf19c136ae92",
   "metadata": {},
   "source": [
    "## Dodatna naloga\n",
    "\n",
    "- `maska_poglavij(oseba)`: vrne tabelo vrste `bool`, ki je dolga toliko, kolikor je poglavij. `i`-ti element je\n",
    "`True`, če se oseba pojavi v `i`-tem poglavju (pri čemer so poglavja oštevilčena od 0).\n",
    "- `podobnost(oseba1, oseba2)`: vrne Jaccardovo podobnost med dvema osebama. To izračunamo kot število poglavij, v katerih se pojavita obe osebe, deljena s številom poglavij, v katerih se pojavi vsaj ena od njiju.\n",
    "\n",
    "    Naj bosta `a` in `b` dve tabeli vrste `bool`. Potem `a & b` vrne tabelo, ki ima `True` na mestih, kjer sta\n",
    "\tobe, `a` in `b` enaki `True`, tabela `a | b` pa na mestih, kjer je vsaj ena enaka `True`."
   ]
  },
  {
   "cell_type": "markdown",
   "id": "ff73c930-785b-44cf-9c48-d2fa9da3a5b5",
   "metadata": {},
   "source": [
    "### Rešitev\n",
    "\n",
    "Ta je bolj zafrknjena. Ni kar tako, za hec, dodatna.\n",
    "\n",
    "Če mora funkcija vrniti masko poglavij, bo potrebno pripraviti tabelo s toliko elementi, kolikor je poglavij. Vsi elementi bodo `False`. Kot smo se naučili v obvezni nalogi, s `poglavja[osebe == oseba]` izvemo indekse poglavij, v katerih se pojavlja podana oseba. Te elemente maske postavimo na `True`. Pa jo imamo, masko."
   ]
  },
  {
   "cell_type": "code",
   "execution_count": 9,
   "id": "5c272ff4-c6c1-4a93-9c65-cb56e729450e",
   "metadata": {},
   "outputs": [],
   "source": [
    "def maska_poglavij(oseba):\n",
    "    a = np.zeros(np.max(poglavja) + 1, dtype=bool)\n",
    "    a[poglavja[osebe == oseba]] = True\n",
    "    return a"
   ]
  },
  {
   "cell_type": "markdown",
   "id": "bae18f08-87e1-4d96-8447-be7cdd87b2cc",
   "metadata": {},
   "source": [
    "Podobnost je potem preprosta. Sestavimo obe maski. Z `&` sestavimo masko, ki vsebuje `True` na mestih, na katerih sta obe maski enaki `True`; to so poglavja, v katerih se pojavljata obe osebi. Z `|` dobimo masko, ki ima `True`-je tam, kjer je `True` vsaj ena od mask. To so poglavja, kjer se pojavi vsaj ena od oseb. Preštejemo `True`-je v obeh sestavljenih maskah in ju delimo."
   ]
  },
  {
   "cell_type": "code",
   "execution_count": 10,
   "id": "32fdb5b6-b0e9-4a88-b4cb-e99c315ce33e",
   "metadata": {},
   "outputs": [],
   "source": [
    "def podobnost(oseba1, oseba2):\n",
    "    maska1 = maska_poglavij(oseba1)\n",
    "    maska2 = maska_poglavij(oseba2)\n",
    "    return np.sum(maska1 & maska2) / np.sum(maska1 | maska2)"
   ]
  },
  {
   "cell_type": "markdown",
   "id": "3a6fbdac-92d5-4014-bdd7-be6a98b9a529",
   "metadata": {},
   "source": [
    "Nekateri študenti so odkrili, da gre tudi brez mask - z `numpy`-jevimi funkcijami `np.intersect1d` in `np.union1d`. Če imamo"
   ]
  },
  {
   "cell_type": "code",
   "execution_count": 21,
   "id": "a767ab34-4ee2-4d07-8a67-0d39595339af",
   "metadata": {},
   "outputs": [],
   "source": [
    "poglavja_crabbe = v_poglavjih_st(\"Crabbe\")\n",
    "poglavja_ron = v_poglavjih_st(\"Ron\")"
   ]
  },
  {
   "cell_type": "markdown",
   "id": "33912e87-0f01-47af-b65a-4c0d7c77586e",
   "metadata": {},
   "source": [
    "lahko z `np.intersect1d` in `np.union1d` dobimo številke poglavjih, v katerih se omenjata oba oz. vsaj eden."
   ]
  },
  {
   "cell_type": "code",
   "execution_count": 24,
   "id": "10b9726e-bee7-4378-acad-821ce15c3853",
   "metadata": {},
   "outputs": [
    {
     "data": {
      "text/plain": [
       "array([ 6,  8, 10, 11, 14, 17, 20, 23, 29])"
      ]
     },
     "execution_count": 24,
     "metadata": {},
     "output_type": "execute_result"
    }
   ],
   "source": [
    "np.intersect1d(poglavja_crabbe, poglavja_ron)"
   ]
  },
  {
   "cell_type": "code",
   "execution_count": 25,
   "id": "80d6420e-9b46-4970-99aa-05ab891eca2d",
   "metadata": {},
   "outputs": [
    {
     "data": {
      "text/plain": [
       "array([ 3,  4,  5,  6,  7,  8,  9, 10, 11, 12, 13, 14, 15, 16, 17, 18, 19,\n",
       "       20, 21, 23, 24, 25, 26, 27, 28, 29])"
      ]
     },
     "execution_count": 25,
     "metadata": {},
     "output_type": "execute_result"
    }
   ],
   "source": [
    "np.union1d(poglavja_crabbe, poglavja_ron)"
   ]
  },
  {
   "cell_type": "markdown",
   "id": "028a7b7b-8282-4ac9-9561-f7be0fbb1e49",
   "metadata": {},
   "source": [
    "Deliti je potrebno velikosti teh dveh tabel."
   ]
  },
  {
   "cell_type": "code",
   "execution_count": 27,
   "id": "0c929700-6aff-42e2-8019-df91ae2f8cde",
   "metadata": {},
   "outputs": [],
   "source": [
    "def podobnost(oseba1, oseba2):\n",
    "    poglavja1 = v_poglavjih_st(oseba1)\n",
    "    poglavja2 = v_poglavjih_st(oseba2)\n",
    "    return len(np.intersect1d(poglavja1, poglavja2)) / len(np.union1d(poglavja1, poglavja2))"
   ]
  },
  {
   "cell_type": "markdown",
   "id": "4031c18b-b63e-4040-8269-5692a92618ed",
   "metadata": {},
   "source": [
    "V Pythonu bodo izkušeni programerji za isto (dovolj kratko) reč tipično napisali praktično enake funkcije. V problemih, ki jih rešujemo z `numpy`-jem ni tako. Malo zaradi njihove narave, malo zato, ker je `numpy` ogromen. Pri sestavljanju te naloge sploh nisem pomislil na rešitev s tema funkcijama, pa tudi za funkciji sem komaj vedel (= tako kot za besedo v tujem jeziku, katere pomen poznaš, nikoli pa ti ne bi priplavala v zavest, da bi jo sam uporabil).\n",
    "\n",
    "Sam bi vseeno uporabil rešitev z maskami. Tidve funckciji zahtevata urejanje elementov tabele; čeprav to storita interno, se urejanju poskušam izogibati, ker je časovno zahtevnejše od sestavljanja mask. Po drugi strani pa maske vzamejo več pomnilnika. Vsaka različica ima svoje prednosti."
   ]
  }
 ],
 "metadata": {
  "kernelspec": {
   "display_name": "Python 3 (ipykernel)",
   "language": "python",
   "name": "python3"
  },
  "language_info": {
   "codemirror_mode": {
    "name": "ipython",
    "version": 3
   },
   "file_extension": ".py",
   "mimetype": "text/x-python",
   "name": "python",
   "nbconvert_exporter": "python",
   "pygments_lexer": "ipython3",
   "version": "3.12.7"
  }
 },
 "nbformat": 4,
 "nbformat_minor": 5
}
