{
 "cells": [
  {
   "cell_type": "markdown",
   "id": "11925cd6",
   "metadata": {},
   "source": [
    "## 1. Statistika\n",
    "\n",
    "Klicni center beleži podatke o številu klicev v numpyjevo tabelo z 24 * 60 elementi. Element z indeksom `i` pove število klicev v i-ti minuti dneva. Napišite naslednje funkcije:\n",
    "\n",
    "- `po_urah(a)` prejme tabelo, kot jo opisujemo zgoraj in vrne tabelo s 24 elementi, ki vsebujejo število klicev v posamezni uri dneva;\n",
    "- `naj_ura(a)` vrne uro z največ klici (npr. 5, če je največ klicev med peto in šesto uro);\n",
    "- `brez_klicev(a)` naj vrne število minut, ko ni bilo klicev (torej število ničelnih elementov podane tabele a).\n",
    "\n",
    "Pri ocenjevanju bom upošteval tudi vašo spretnost uporabe knjižnice numpy."
   ]
  },
  {
   "cell_type": "markdown",
   "id": "9395c043",
   "metadata": {},
   "source": [
    "### Rešitev\n",
    "\n",
    "Pri prvi nalogi uporabimo `reshape`, s katerim spremenimo tabelo tako, da je vsaka vrstica ena ura. Potem to seštejemo po osi 1."
   ]
  },
  {
   "cell_type": "code",
   "execution_count": 1,
   "id": "9ba43999",
   "metadata": {},
   "outputs": [],
   "source": [
    "def po_urah(a):\n",
    "    return a.reshape(24, 60).sum(axis=1)"
   ]
  },
  {
   "cell_type": "markdown",
   "id": "7d502223",
   "metadata": {},
   "source": [
    "Za drugo nalogo se moramo spomniti `argmax`."
   ]
  },
  {
   "cell_type": "code",
   "execution_count": 2,
   "id": "f0fab419",
   "metadata": {},
   "outputs": [],
   "source": [
    "def naj_ura(a):\n",
    "    return po_urah(a).argmax()"
   ]
  },
  {
   "cell_type": "markdown",
   "id": "1b65f0a8",
   "metadata": {},
   "source": [
    "Tretjo pa najlažje uženemo, če se spomnimo, da je `True` isto (ali vsaj enako) kot `1`."
   ]
  },
  {
   "cell_type": "code",
   "execution_count": 3,
   "id": "ac42e65e",
   "metadata": {},
   "outputs": [],
   "source": [
    "def brez_klicev(a):\n",
    "    return np.sum(a == 0)"
   ]
  },
  {
   "cell_type": "markdown",
   "id": "dceb12e5",
   "metadata": {},
   "source": [
    "Obstajajo tudi drugačne rešitve; nekatere morda nič slabše od teh."
   ]
  },
  {
   "cell_type": "markdown",
   "id": "c9e6111e",
   "metadata": {},
   "source": [
    "## 2. Izpis\n",
    "\n",
    "Napišite funkcijo `izpis(a)`, ki prejme tabelo s 24 elementi, ki predstavljajo, število klicev po urah in vrne niz, oblikovan natančno tako (do presledka enako!), kot kaže slika. \n",
    "\n",
    "```\n",
    " 0 - 1     20 ##\n",
    " 1 - 2     34 ###\n",
    " 2 - 3     66 ######\n",
    " 3 - 4     82 ########\n",
    " 4 - 5    114 ###########\n",
    " 5 - 6    125 ############\n",
    " 6 - 7    204 ####################\n",
    " 7 - 8    272 ###########################\n",
    " 8 - 9    364 ####################################\n",
    " 9 - 10   453 #############################################\n",
    "10 - 11   522 ####################################################\n",
    "(in tako naprej do)\n",
    "23 - 24    36 ###\n",
    "```\n",
    "\n",
    "Prvi številki povesta uro dneva; začetek je poravnan desno, konec levo. Sledi število klicev v tej uri in \"histogram\", pri čemer vsak znak # predstavlja (dopolnjenih 10) klicev; pri 66, na primer, imamo 6 znakov #.\n",
    "\n",
    "### Rešitev\n",
    "\n",
    "Kdor zna, naredi tako"
   ]
  },
  {
   "cell_type": "code",
   "execution_count": 4,
   "id": "f807669d",
   "metadata": {},
   "outputs": [],
   "source": [
    "def izpis(ure):\n",
    "    return \"\\n\".join(f'{i:>2} - {i + 1:<2}   {x:3} {\"#\" * (x // 10)}' for i, x in enumerate(ure))"
   ]
  },
  {
   "cell_type": "markdown",
   "id": "acb76c79",
   "metadata": {},
   "source": [
    "Kdor ni prijatelj generatorjev, pa tako"
   ]
  },
  {
   "cell_type": "code",
   "execution_count": 5,
   "id": "11a44f41",
   "metadata": {},
   "outputs": [],
   "source": [
    "def izpis(ure):\n",
    "    s = \"\"\n",
    "    for i, x in enumerate(ure):\n",
    "        s += f'{i:>2} - {i + 1:<2}   {x:3} {\"#\" * (x // 10)}\\n'\n",
    "    return s"
   ]
  },
  {
   "cell_type": "markdown",
   "id": "5edd095a",
   "metadata": {},
   "source": [
    "Bistvo naloge je oblikovanje nizov, to pa je v obeh rešitvah enako."
   ]
  },
  {
   "cell_type": "markdown",
   "id": "47f6756e",
   "metadata": {},
   "source": [
    "## 3. Pravilnost\n",
    "\n",
    "Napišite funkcijo `preveri(ime_datoteke)`, ki prejme ime datoteke, ki vsebuje besedilo, kakršnega vrne prejšnja funkcija. Funkcija vrne `True`, če je izpis pravilen in `False` če ni.\n",
    "\n",
    "Predpostaviti smete, da datoteka vsebuje pravilno število (24) vrstic in da so oblikovane pravilno. Preveriti pa mora, da so pravilni začetki in konci (torej, da si ure sledijo v vrstnem redu 0 – 1, 1 – 2, 2 – 3 in tako naprej) ter da se število znakov # ujema s številom klicev (deljenim z 10).\n",
    "\n",
    "### Rešitev"
   ]
  },
  {
   "cell_type": "code",
   "execution_count": 6,
   "id": "7d40253d",
   "metadata": {},
   "outputs": [],
   "source": [
    "def preveri(ime_datoteke):\n",
    "    for i, vrstica in enumerate(open(ime_datoteke)):\n",
    "        od, minus, do, koliko, hashi = vrstica.split()\n",
    "        if int(od) != i or int(do) != i + 1 or len(hashi) != int(koliko) // 10:\n",
    "            return False\n",
    "    return True"
   ]
  },
  {
   "cell_type": "markdown",
   "id": "5f307015",
   "metadata": {},
   "source": [
    "Odpremo datoteko, beremo po vrsticah, zraven pa uporabimo še `enumerate`, da vemo, v kateri vrstici smo.\n",
    "\n",
    "Vsako vrstico razkosamo glede na presledke. Ker naloga zagotavlja, da je oblika vrstice pravilna, vemo, da bo \"sestavnih delov\" pet. Potem za vsakega preverimo, da je takšen, kot mora biti. Če ni vrnemo `False`.\n",
    "\n",
    "Če se zanka izteče brez napake, pa vrnemo `True`."
   ]
  },
  {
   "cell_type": "markdown",
   "id": "c3fb7802",
   "metadata": {},
   "source": [
    "## 4. Operaterji\n",
    "\n",
    "V datoteki v formatu json so shranjeni prejeti klici – za vsakega vemo, kateri operater ga je sprejel, koliko minut je trajal, kdaj se je začel in za kakšno vrsto klica je šlo. Primer datoteke je na sliki (prelom vrstic je lahko tudi drugačen!).\n",
    "\n",
    "```\n",
    "[{\"operater\": \"Ana\", \"dolzina\": 10, \"zacetek\": 123, \"tip\": \"I\"},\n",
    "  {\"operater\": \"Berta\", \"dolzina\": 2, \"zacetek\": 453, \"tip\": \"I\"},\n",
    "  {\"operater\": \"Cilka\", \"dolzina\": 5, \"zacetek\": 134, \"tip\": \"O\"},\n",
    "  {\"operater\": \"Berta\", \"dolzina\": 10, \"zacetek\": 500, \"tip\": \"T\"},\n",
    "  {\"operater\": \"Ana\", \"dolzina\": 3, \"zacetek\": 135, \"tip\": \"I\"},\n",
    "  {\"operater\": \"Dani\", \"dolzina\": 5, \"zacetek\": 245, \"tip\": \"T\"},\n",
    "  {\"operater\": \"Berta\", \"dolzina\": 3, \"zacetek\": 573, \"tip\": \"I\"},\n",
    "  {\"operater\": \"Cilka\", \"dolzina\": 4, \"zacetek\": 262, \"tip\": \"I\"},\n",
    "  {\"operater\": \"eaaudgef\", \"dolzina\": 5, \"zacetek\": 157, \"tip\": \"T\"}]\n",
    "```\n",
    "\n",
    "Napišite funkcijo `obremenitve(ime_datoteke)`, ki vrne slovar, katerega ključi so imena operaterjev, vrednosti pa število minut, ki jih je operater preživel na klicih. Za gornji primer vrne `{\"Ana\": 13, \"Berta\": 15, \"Cilka\": 9, \"Dani\": 5, \"eaaudgef\": 5}`.\n",
    "\n",
    "Poleg tega napišite funkcijo `naj_obremenjeni(ime_datoteke)`, ki vrne ime najbolj obremenjenega operaterja glede na skupno število minut; v gornjem primeru vrne `\"Berta\"`. Če je najbolj obremenjenih več, lahko vrne poljubnega med njimi.\n",
    "\n",
    "Pomagajte si s funkcijo `json.load(datoteka)`. Funkcija prejme odprto datoteko, ne niza z imenom!\n",
    "\n",
    "### Rešitev"
   ]
  },
  {
   "cell_type": "code",
   "execution_count": 7,
   "id": "68b397fc",
   "metadata": {},
   "outputs": [],
   "source": [
    "def obremenitve(ime_datoteke):\n",
    "    operaterji = defaultdict(int)\n",
    "    for klic in json.load(open(ime_datoteke)):\n",
    "        operaterji[klic['operater']] += klic['dolzina']\n",
    "    return operaterji\n",
    "\n",
    "\n",
    "def naj_obremenjeni(ime_datoteke):\n",
    "    ob = obremenitve(ime_datoteke)\n",
    "    return max(ob, key=ob.get)"
   ]
  },
  {
   "cell_type": "markdown",
   "id": "b7da870f",
   "metadata": {},
   "source": [
    "Tule smo uporabili dva trika. Prvi je `defaultdict`. Če bi namesto njega uporabili običajen slovar, bi morali v zanki pred prištevanjem preveriti, da smo na tega operaterja že kdaj naleteli, torej, da ključ s tem imenom operaterja že obstaja.\n",
    "\n",
    "V `naj_obremenjeni` pa smo uporabili `max` z argumentom `key=ob.get`: ključe primerjamo glede na to, kaj zanje vrača slovarjeva metoda `get`. Brez tega bi morali pisati to, kar smo pač vedno pisali na predavanjih pri reševanju te klasične naloge (preden sem - če sem - pokazal ta trik)."
   ]
  },
  {
   "cell_type": "markdown",
   "id": "50dd55c4",
   "metadata": {},
   "source": [
    "## 5. Brez klicev\n",
    "\n",
    "Napišite funkcijo `obdobje_brez(a)`, ki prejme takšen argument kot funkcije iz prejšnje naloge, in vrne začetek in konec najdaljšega obdobja brez prehodov. Če so vsi elementih na indeksih od, na primer, 150 do (vključno) 180 enaki 0 in je to tudi najdaljše zaporedje ničel, mora funkcija vrniti (150, 180). Da bo reševanje lažje, so v testih tudi trije primeri s tabelami, ki nimajo 24×60 temveč le 13 števil.\n",
    "\n",
    "### Rešitev\n",
    "\n",
    "Izpit je bil kar lahek (meni se je zdel, pa tudi asistent, ki ga je pregledal, ga je ocenil tako). Samo ta naloga je bila bolj zafrknjena, zato sem jo dal na konec.\n",
    "\n",
    "Ena možna rešitev je"
   ]
  },
  {
   "cell_type": "code",
   "execution_count": 8,
   "id": "c770df6e",
   "metadata": {},
   "outputs": [],
   "source": [
    "def obdobje_brez(a):\n",
    "    naj_zac = 1\n",
    "    naj_kon = 0\n",
    "    zac = None\n",
    "    for i, x in enumerate(a):\n",
    "        if x == 0:\n",
    "            if zac is None:\n",
    "                zac = i\n",
    "            if i - zac > naj_kon - naj_zac:\n",
    "                naj_zac, naj_kon = zac, i\n",
    "        else:\n",
    "            zac = None\n",
    "    return naj_zac, naj_kon"
   ]
  },
  {
   "cell_type": "markdown",
   "id": "fe604e59",
   "metadata": {},
   "source": [
    "Gremo prek seznama. `zac` hrani indeks začetka trenutnega zaporedja ničel. Če trenutno nismo v zaporedju ničel, je `zac` enak `None`.\n",
    "\n",
    "Če je trenutni element enak 0, pogledamo, ali je trenutno zaporedje daljše od najdaljšega doslej. Če, potem si zapomnimo njegove meje:\n",
    "\n",
    "```\n",
    "    if i - zac > naj_kon - naj_zac:\n",
    "        naj_zac, naj_kon = zac, i\n",
    "```\n",
    "\n",
    "Če trenutni element ni enak 0, pa le postavimo `zac` na `None`.\n",
    "\n",
    "Ostane le še malo administracije. V začetku se delamo, da se je najdaljše zaporedje začelo z 1 in končalo z 0. Tako je dolgo `-1` in bo že prva ničla, na katero bomo naleteli, predstavljala daljše zaporedje.\n",
    "\n",
    "Drugi košček administracije je\n",
    "\n",
    "```\n",
    "    if zac is None:\n",
    "        zac = i\n",
    "```\n",
    "\n",
    "Če naletimo na `0` in doslej še nismo bili v zaporedju ničel, si zapomnimo trenutni indeks kot začetek trenutnega zaporedja.\n",
    "\n",
    "Nalogo je možno rešiti še na veliko načinov. Gornji morda ni najbolj učinkovit, ker prepogosto nastavlja `naj_zac` in `naj_kon`. Načelno bi bilo boljše, če bi vsakič, ko se zaporedje konča, preverili, ali je bilo to zaporedje daljše od najdaljšega doslej. To bi povzročilo nekaj sitnosti, če je najdaljše zaporedje ravno na koncu ...\n",
    "\n",
    "Tule je zabavnejša rešitev."
   ]
  },
  {
   "cell_type": "code",
   "execution_count": 9,
   "id": "cc3a1639",
   "metadata": {},
   "outputs": [],
   "source": [
    "def obdobje_brez(a):\n",
    "    s = \"\"\n",
    "    for x in a:\n",
    "        if x == 0:\n",
    "            s += \"x\"\n",
    "        else:\n",
    "            s += \" \"\n",
    "    naj = max(s.split())\n",
    "    zac = s.index(naj)\n",
    "    return zac, zac + len(naj) - 1"
   ]
  },
  {
   "cell_type": "markdown",
   "id": "7ba98693",
   "metadata": {},
   "source": [
    "zaporedje števil pretvorimo v niz, sestavljen iz x-ov in presledkov: ničle spremenimo v `x` in ne-ničle v presledke. Nato na tem nizu pokličemo `split`. Dobimo \"besede\"; vsaka je sestavljena iz toliko x-ov, kolikor je bilo zaporednih ničel. \"Maksimalna\" beseda je beseda, ki je zadnja po abecedi; vse besede so sestavljene iz enakih črk (x-ov); v tem primeru je kasneje po abecedi tista, ki je daljša. `naj` bo torej najdaljša beseda. Pogledamo, kje v nizu se nahaja, pa imamo začetni indeks zaporedja; končni indeks dobimo tako, da k začetnemu prištejemo dolžino besede.\n",
    "\n",
    "Rešitev lahko skrajšamo v"
   ]
  },
  {
   "cell_type": "code",
   "execution_count": 10,
   "id": "628e867e",
   "metadata": {},
   "outputs": [],
   "source": [
    "def obdobje_brez(a):\n",
    "    s = \"\".join(\" x\"[x == 0] for x in a)\n",
    "    naj = max(s.split())\n",
    "    zac = s.index(naj)\n",
    "    return zac, zac + len(naj) - 1"
   ]
  },
  {
   "cell_type": "markdown",
   "id": "19fd958d",
   "metadata": {},
   "source": [
    "Ta rešitev je sicer precej kavbojska.\n",
    "\n",
    "Najbrž najlepše pa je poiskati vse začetke in konce intervalov ničel. Potem zipnemo oba seznama (ali generatorja, če hočemo biti še bolj *fancy*) skupaj, in vrnemo par z največjo razliko."
   ]
  },
  {
   "cell_type": "code",
   "execution_count": 11,
   "id": "6739d367",
   "metadata": {},
   "outputs": [],
   "source": [
    "def obdobje_brez(a):\n",
    "    zacetki = (i for i in range(len(a))\n",
    "               if a[i] == 0 and (i == 0 or a[i - 1] != 0))\n",
    "    konci = (i for i in range(len(a))\n",
    "             if a[i] == 0 and (i == len(a) - 1 or a[i + 1] != 0))\n",
    "    return max(zip(zacetki, konci), key=lambda x: x[1] - x[0])"
   ]
  },
  {
   "cell_type": "markdown",
   "id": "b6f2ad96",
   "metadata": {},
   "source": [
    "To gre potem čisto lepo celo v enovrstični izraz (čeprav je večvrstični natančno enako učinkovit, hkrati pa preglednejši)."
   ]
  },
  {
   "cell_type": "code",
   "execution_count": 12,
   "id": "a7c399e8",
   "metadata": {},
   "outputs": [],
   "source": [
    "def obdobje_brez(a):\n",
    "    zacetki = (i for i in range(len(a))\n",
    "               if a[i] == 0 and (i == 0 or a[i - 1] != 0))\n",
    "    konci = (i for i in range(len(a))\n",
    "             if a[i] == 0 and (i == len(a) - 1 or a[i + 1] != 0))\n",
    "    return max(zip(zacetki, konci), key=lambda x: x[1] - x[0])"
   ]
  },
  {
   "cell_type": "markdown",
   "id": "d04481b8",
   "metadata": {},
   "source": [
    "Če povem po pravici: ta rešitev mi ob sestavljanju izpita ni prišla na misel. Idejo sem dobil od študenta, "
   ]
  }
 ],
 "metadata": {
  "kernelspec": {
   "display_name": "Python 3 (ipykernel)",
   "language": "python",
   "name": "python3"
  },
  "language_info": {
   "codemirror_mode": {
    "name": "ipython",
    "version": 3
   },
   "file_extension": ".py",
   "mimetype": "text/x-python",
   "name": "python",
   "nbconvert_exporter": "python",
   "pygments_lexer": "ipython3",
   "version": "3.11.5"
  }
 },
 "nbformat": 4,
 "nbformat_minor": 5
}
