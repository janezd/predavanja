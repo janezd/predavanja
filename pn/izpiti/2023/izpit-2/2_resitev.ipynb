{
 "cells": [
  {
   "cell_type": "markdown",
   "id": "9bcb9f85",
   "metadata": {},
   "source": [
    "# Izpit 13. februar 2024\n",
    "\n",
    "## 1. Skupna cena\n",
    "\n",
    "Napišite funkcijo `cena(zasedenost, cene)`, ki prejme numpyjevo tabelo `zasedenost` tipa `bool`, ki ima šest stolpcev in toliko vrstic, kolikor vrst ima letalo ter vsebuje `True` na mestih, ki ustrezajo zasedenim sedežem in `False` na mestih, ki ustrezajo prostim. Poleg tega dobi Pythonov seznam `cene`, ki vsebuje cene vozovnic za sedeže v prvih treh stolpcih, na primer `[200, 175, 193]`, če sedeži ob oknu (stolpec 0) stanejo 200, sedeži na sredini (stolpec 1) 175 in sedeži ob hodniku (stolpec 2) 193 evrov. Cene sedežev v drugih treh stolpcih so zrcalno enake tem (na primer 193, 175 in 200).\n",
    "\n",
    "Funkcija mora vrniti vsoto cen vseh prodanih vozovnic. Funkcija mora biti napisana v numpyju. Točkovanje bo upoštevalo eleganco rešitve.\n",
    "\n",
    "### Rešitev\n",
    "\n",
    "Tule je najprej rešitev. Njena razlaga je spodaj."
   ]
  },
  {
   "cell_type": "code",
   "execution_count": 1,
   "id": "1cf37338",
   "metadata": {},
   "outputs": [],
   "source": [
    "def cena(zasedenost, cene):\n",
    "    return np.sum(zasedenost * (cene + cene[::-1]))"
   ]
  },
  {
   "cell_type": "markdown",
   "id": "df0318bb",
   "metadata": {},
   "source": [
    "Zdaj pa razložimo počasi, po korakih.\n",
    "\n",
    "Najprej smo razširili cene na vseh šest stolpcev. Če imamo *Pythonov seznam* `cene`, na primer"
   ]
  },
  {
   "cell_type": "code",
   "execution_count": 2,
   "id": "b932610b",
   "metadata": {},
   "outputs": [],
   "source": [
    "cene = [200, 175, 193]"
   ]
  },
  {
   "cell_type": "markdown",
   "id": "2d4aac9b",
   "metadata": {},
   "source": [
    "lahko k njemu pripnemo še prezrcaljen seznam,"
   ]
  },
  {
   "cell_type": "code",
   "execution_count": 2,
   "id": "829a4461",
   "metadata": {},
   "outputs": [
    {
     "data": {
      "text/plain": [
       "[200, 175, 193, 193, 175, 200]"
      ]
     },
     "execution_count": 2,
     "metadata": {},
     "output_type": "execute_result"
    }
   ],
   "source": [
    "cene + cene[::-1]"
   ]
  },
  {
   "cell_type": "markdown",
   "id": "08f6d0f0",
   "metadata": {},
   "source": [
    "pa dobimo cene za vse stolpce. (Nekateri študenti so prezrli, da so cene na desni strani letala zrcalne tem na levi. To rešitev sem štel za \"skoraj pravilno\", saj bi njihovi programi z malo spremembo delovali pravilno.)\n",
    "\n",
    "Zdaj pa imamo dve poti. Očitnejša (a, kot se bo izkazalo, malenkost daljša, vendar vam pri ocenjevanju tega nisem štel v slabo), je, da najprej preštejemo zasedenost vseh stolpcev."
   ]
  },
  {
   "cell_type": "code",
   "execution_count": 25,
   "id": "e1b0d3db",
   "metadata": {},
   "outputs": [],
   "source": [
    "import numpy as np\n",
    "\n",
    "zasedenost = np.array([\n",
    "    [True, False, False, False, False, False],\n",
    "    [False, True, True, False, False, False],\n",
    "    [False, False, False, True, True, True],\n",
    "    [False, False, False, True, True, True],\n",
    "    [False, True, False, True, True, True],\n",
    "    [False, False, False, True, True, False],\n",
    "    [False, False, False, False, True, False]\n",
    "])"
   ]
  },
  {
   "cell_type": "markdown",
   "id": "ba2e12fb",
   "metadata": {},
   "source": [
    "Zasedenost po stolpcih dobimo tako, da tabelo seštejemo po osi 0,"
   ]
  },
  {
   "cell_type": "code",
   "execution_count": 5,
   "id": "0403d20e",
   "metadata": {},
   "outputs": [
    {
     "data": {
      "text/plain": [
       "array([1, 2, 1, 4, 5, 3])"
      ]
     },
     "execution_count": 5,
     "metadata": {},
     "output_type": "execute_result"
    }
   ],
   "source": [
    "np.sum(zasedenost, axis=0)"
   ]
  },
  {
   "cell_type": "markdown",
   "id": "39490736",
   "metadata": {},
   "source": [
    "To tabelo pomnožimo s cenami."
   ]
  },
  {
   "cell_type": "code",
   "execution_count": 6,
   "id": "f3359eea",
   "metadata": {},
   "outputs": [
    {
     "data": {
      "text/plain": [
       "array([200, 350, 193, 772, 875, 600])"
      ]
     },
     "execution_count": 6,
     "metadata": {},
     "output_type": "execute_result"
    }
   ],
   "source": [
    "np.sum(zasedenost, axis=0) * (cene + cene[::-1])"
   ]
  },
  {
   "cell_type": "markdown",
   "id": "c6091158",
   "metadata": {},
   "source": [
    "pa dobimo vsote cen po stolpcih. To, končno, seštejemo v skupno ceno."
   ]
  },
  {
   "cell_type": "code",
   "execution_count": 7,
   "id": "dbe17531",
   "metadata": {},
   "outputs": [
    {
     "data": {
      "text/plain": [
       "2990"
      ]
     },
     "execution_count": 7,
     "metadata": {},
     "output_type": "execute_result"
    }
   ],
   "source": [
    "np.sum(np.sum(zasedenost, axis=0) * (cene + cene[::-1]))"
   ]
  },
  {
   "cell_type": "markdown",
   "id": "e03a6b48",
   "metadata": {},
   "source": [
    "Druga rešitev je, da celotno tabelo pomnožimo s cenami."
   ]
  },
  {
   "cell_type": "code",
   "execution_count": 8,
   "id": "09b54a18",
   "metadata": {},
   "outputs": [
    {
     "data": {
      "text/plain": [
       "array([[200,   0,   0,   0,   0,   0],\n",
       "       [  0, 175, 193,   0,   0,   0],\n",
       "       [  0,   0,   0, 193, 175, 200],\n",
       "       [  0,   0,   0, 193, 175, 200],\n",
       "       [  0, 175,   0, 193, 175, 200],\n",
       "       [  0,   0,   0, 193, 175,   0],\n",
       "       [  0,   0,   0,   0, 175,   0]])"
      ]
     },
     "execution_count": 8,
     "metadata": {},
     "output_type": "execute_result"
    }
   ],
   "source": [
    "zasedenost * (cene + cene[::-1])"
   ]
  },
  {
   "cell_type": "markdown",
   "id": "157d5466",
   "metadata": {},
   "source": [
    "In to seštejemo."
   ]
  },
  {
   "cell_type": "code",
   "execution_count": 9,
   "id": "cb02d5d0",
   "metadata": {},
   "outputs": [
    {
     "data": {
      "text/plain": [
       "2990"
      ]
     },
     "execution_count": 9,
     "metadata": {},
     "output_type": "execute_result"
    }
   ],
   "source": [
    "np.sum(zasedenost * (cene + cene[::-1]))"
   ]
  },
  {
   "cell_type": "markdown",
   "id": "f4978803",
   "metadata": {},
   "source": [
    "Če bi nas bolelo za učinkovitost, bi bila prva rešitev boljša, saj ima manj množenj. Vendar letala niso tako velika, da bi se to res poznalo, zato je morda boljša druga, krajša. V resnici sta obe dovolj hitri, za potrebe tega predmeta pa sploh."
   ]
  },
  {
   "cell_type": "markdown",
   "id": "81e65695",
   "metadata": {},
   "source": [
    "## 2. Preberi sporočllo\n",
    "\n",
    "Potovalne agencije pošiljajo potnikom sporočila v slogu\n",
    "\n",
    "```\n",
    "Spoštovani,\n",
    "    \n",
    "potrjujemo nakup vozovnice. Detajli so zapisani spodaj.\n",
    "\n",
    "Posebne želje: nima posebnih želja.\n",
    "Ime potnika: Janez Tone Novak\n",
    "Starost: 34\n",
    "Cena: 184E\n",
    "\n",
    "Dodelili smo vam sedež 12A, kot ste želeli.\n",
    "```\n",
    "\n",
    "Vsebina je lahko zelo različna, vedno pa velja naslednje:\n",
    "\n",
    "- če sporočilo vsebuje ime potnika, je le-to zapisano v vrstici, ki vsebuje dvopičje, desno od dvopičja pa sta dve ali več besed, ki se začnejo z veliko začetnico in ničesar drugega. Predpostaviti smete tudi, da imena in priimki ne vsebujejo šumnikov.\n",
    "- Če sporočilo vsebuje oznako sedeža, je ta sestavljeno iz ene ali dveh števk, ki jima sledi črka A, B, C, D, E ali F. (Funkcija naj torej deluje le za manjša letala.)\n",
    "\n",
    "Napišite funkcijo `preberi_sporocilo(ime_datoteke)`, ki kot argument dobi ime datoteke s takšnim sporočilom ter vrne par z imenom potnika in oznako sedeža. Če sporočilo ne vsebuje katerega od teh dveh podatkov, namesto tega podatka vrne `None`. Za primer na sliki funkcija vrne `(\"Janez Tone Novak\", \"12A\")`.\n",
    "\n",
    "### Rešitev\n",
    "\n",
    "V nalogi moramo pokazati, da znamo prebrati datoteko in uporabljati regularne izraze. Gre tudi brez, vendar je precej bolj zoprno; bomo videli.\n",
    "\n",
    "Regularni izraz za besedo, ki se začne z veliko črko in je dolgo vsaj dve črki `[A-Z]\\w+` -- `[A-Z]` je velika črka (angleške abecede) in `\\w+` pomeni eno ali več črk. Zapleteni del je, da ima potnik dve ali več imen, ločenih s presledki. To dobimo z `([A-Z]\\w+)( [A-Z]\\w+)+`. V prvi skupini je prvo ime, v drugi skupini so nadaljnja. Vse to zapremo še v ene oklepaje, da dobimo \"skupino\", ki vsebuje vsa potnikova imena.\n",
    "\n",
    "Pred vse skupaj postavimo `.+: ` - dvopičje, ki mu sledi presledek. Celoten regularni izraz je torej `.+: (([A-Z]\\w+)( [A-Z]\\w+)+)`. Kar zoprno. Na srečo bo prav ta del možno kolikor toliko spodobno narediti brez regularnih izrazov.\n",
    "\n",
    "Oznako sedeža poiščemo z `\\d\\d?[A-F]` - števka, nato morda še ena števka in potem črka med A in F. Manjša težava je, da bo tole našlo tudi `184E` (reklo bo, da gre za sedež 84E, saj najde dve števki, ki ji sledi črka). Da bo naloga rešena popolnoma pravilno (in preživela vse teste), moramo zato povedati še, da pred prvo števko ne sme biti drugi števk, `\\D\\d\\d?[A-F]`. Del, ki vsebuje številko sedeža, zapremo v skupino, da jo bomo lažje izvlekli iz aajdenega podniza, `\\D(\\d\\d?[A-F])`.\n",
    "\n",
    "Funkcija je potem preprosta: v začetku postavimo `potnik` in `sedez` na `None`, potem v vsaki vrstici poskusimo najti enega od gornjih izrazov. Če uspemo, postavimo ustrazno spremenljivko, kot je treba."
   ]
  },
  {
   "cell_type": "code",
   "execution_count": 26,
   "id": "53e4fc20",
   "metadata": {},
   "outputs": [],
   "source": [
    "import re\n",
    "\n",
    "def preberi_sporocilo(ime_datoteke):\n",
    "    potnik = None\n",
    "    sedez = None\n",
    "    for vrstica in open(ime_datoteke, encoding=\"utf-8\"):\n",
    "        mo = re.match(r\".+: (([A-Z]\\w+)( [A-Z]\\w+)+)\", vrstica)\n",
    "        if mo:\n",
    "            potnik = mo.group(1)\n",
    "        mo = re.search(r\"\\D(\\d\\d?[A-F])\", vrstica)\n",
    "        if mo:\n",
    "            sedez = mo.group(1)\n",
    "    return potnik, sedez"
   ]
  },
  {
   "cell_type": "markdown",
   "id": "86ab0434",
   "metadata": {},
   "source": [
    "Pa če nočemo uporabiti regularnih izrazov? (Morda zato, ker jih ne znamo?) V tem primeru postanejo stvari veliko nadležnejše.\n",
    "\n",
    "V funkciji bomo uporabljali metode `s.isupper()`, `s.isdigit()` in `s.isalpha()`, ki povedo, ali niz vsebuje same velike črke, same števke ali same črke. Očitno bi šlo tudi brez njih, vendar obstajajo meje, do katerih sem si pripravljen v teh zapiskih zaplesti življenje. :)"
   ]
  },
  {
   "cell_type": "code",
   "execution_count": 12,
   "id": "cb542a62",
   "metadata": {},
   "outputs": [],
   "source": [
    "def preberi_sporocilo(ime_datoteke):\n",
    "    potnik = None\n",
    "    sedez = None\n",
    "    for vrstica in open(ime_datoteke, encoding=\"utf-8\"):\n",
    "        \n",
    "        # Imena potnika\n",
    "        if \":\" in vrstica:\n",
    "            ime = vrstica.split(\":\")[-1]\n",
    "            for beseda in ime.split():\n",
    "                if not (beseda[0].isupper() and beseda.isalpha()):\n",
    "                    break\n",
    "            else:\n",
    "                potnik = ime.strip()\n",
    "                    \n",
    "        # Oznaka sedeža\n",
    "        for i, c in enumerate(vrstica):\n",
    "            if c.isdigit() \\\n",
    "                    and (i == 0 or not vrstica[i - 1].isdigit()):\n",
    "                if i + 1 < len(vrstica)\\\n",
    "                        and vrstica[i + 1] in \"ABCDEF\":\n",
    "                    sedez = vrstica[i:i + 2]\n",
    "                if i + 2 < len(vrstica) \\\n",
    "                        and vrstica[i + 1].isdigit()\\\n",
    "                        and vrstica[i + 2] in \"ABCDEF\":\n",
    "                    sedez = vrstica[i:i + 3]\n",
    "                    \n",
    "    return potnik, sedez"
   ]
  },
  {
   "cell_type": "markdown",
   "id": "e9461d2d",
   "metadata": {},
   "source": [
    "Da dobimo ime potnika, preverimo, ali vsebuje vrstica dvopičje in v tem primeru predpostavimo, da bi lahko bilo ime tisto, kar sledi (zadnjemu) dvopičju. (Mimogrede: zgoraj smo napisali `ime = vrstica.split(\":\")[-1]`; bolj Pythonovski način bi bil `*_, ime = vrstica.split(\":\")`, vendar se s takšnim leporečjem pri tem predmetu ne obremenjujemo.)\n",
    "\n",
    "Vse, kar je sledilo dvopičju, razbijemo na besede in preverimo, ali je prva črka velika in je niz sestavljen iz samih črk. Če naletimo na kakšno besedo, ki ne ustreza temu pogoju, prekinemo zanko. Če se zanka izteče brez prekinitve, smo našli ime.\n",
    "\n",
    "\n",
    "Na nekem predavanju smo omenili generatorje. Tu bi nam prišli nekoliko prav: namesto\n",
    "\n",
    "```python\n",
    "            for beseda in ime.split():\n",
    "                if not (beseda[0].isupper() and beseda.isalpha()):\n",
    "                    break\n",
    "            else:\n",
    "                potnik = ime.strip()\n",
    "```\n",
    "\n",
    "bi lahko napisali tudi \n",
    "\n",
    "```\n",
    "            if all(beseda[0].isupper() and beseda.isalpha() for beseda in ime.split()):\n",
    "                potnik = ime.strip()\n",
    "```\n",
    "\n",
    "Drugi del, iskanje oznake sedeža, je še bolj zoprn. Gremo čez vrstico. Zanimajo nas tista mesta, ki vsebujejo števko in pred njimi ni števke (ali pa smo na začetku; v tem primeu ne gledamo prejšnjega znaka, čeprav bi to tu slučajno delovalo -- pogledali bi pač znak z indeksom `-1`, torej zadnji znak, ta pa je `\\n`, kar ni števka).\n",
    "\n",
    "Če neko mesto ustreza temu pogoju, gre lahko za oznako sedeža. Da bi bilo tako, mu mora slediti črka, ali pa števka in nato črka. Pač ... veliko `if`-ov.\n",
    "\n",
    "Pri pregledovanju izdelkov se je - po pričakovnjih - pokazalo, da so mnogi pravilno napisali regularni izraz za številke sedežev, izraz za imena potnikov pa je bil seveda trši oreh. V tem primeru bi lahko dobili imena potnikov brez regularnega izraza (prvi, preprostejši del spodnje različice programa), številko sedeža pa z regularnim izrazom.\n",
    "\n",
    "Z regularnimi izrazi pa je življenje seveda preprostejše."
   ]
  },
  {
   "cell_type": "markdown",
   "id": "b22db9d2",
   "metadata": {},
   "source": [
    "## 3. Razpored\n",
    "\n",
    "Neka letalska družba pa sedežev ne dodeljuje vnaprej, temveč lahko potniki zgolj izrazijo željo. Potnike nato vkrcavajo po seznamu. Vsak potnik se usede na želeni sedež, če je ta že zaseden, pa se pomika nazaj po vrstah, dokler ne naleti na vrsto, v kateri je sedež v želenem stolpcu prazen, ter ga zasede. Če so, na primer, že zasedeni sedeži 12C, 13C in 14C, se bo potnik, ki bi želel sedeti na 12C, usedel na 15C. Letalska družba uporablja dolga letala, ki imajo 130 vrst, obenem pa ji ne gre prav dobro (čudno, čudno), zato smete predpostaviti, da se bo po tem postopku našel sedež za vsakogar.\n",
    "\n",
    "Napišite funkcijo `razpored(seznam)`, ki dobi seznam s pari `(ime_potnika, zeleni_sedez)` in vrne nov seznam, ki je enak temu, le da so sedeži zamenjani z sedeži, ki jih bodo potniki dejansko dobili.\n",
    "\n",
    "Pomoč: če je `c` črka A, B, C, D, E ali F, je `ord(c) - 65` enak 0, 1, 2, 3, 4 oz. 5. Mogoče vam pride prav."
   ]
  },
  {
   "cell_type": "markdown",
   "id": "659f0969",
   "metadata": {},
   "source": [
    "## Rešitev\n",
    "\n",
    "Tole je naloga iz množic in iz zanke `while`. Lahko pa tudi ni iz množic. Vsekakor pa je iz zanke `while`. :)\n",
    "\n",
    "Nekam bo potrebno shranjevati zasedena mesta. Lahko, torej, pripravimo množico `zasedeni` z zasedenimi mesti, poleg tega pa seznam `dejanski`, v katerega bomo postavljali potnike in ga na koncu vrnili."
   ]
  },
  {
   "cell_type": "code",
   "execution_count": null,
   "id": "99011940",
   "metadata": {},
   "outputs": [],
   "source": [
    "def razpored(zelje):\n",
    "    zasedeni = set()\n",
    "    dejanski = []\n",
    "    for potnik, sedez in zelje:\n",
    "        vrsta, stolpec = int(sedez[:-1]), sedez[-1]\n",
    "        while (vrsta, stolpec) in zasedeni:\n",
    "            vrsta += 1\n",
    "        zasedeni.add((vrsta, stolpec))\n",
    "        dejanski.append((potnik, f\"{vrsta}{stolpec}\"))\n",
    "    return dejanski"
   ]
  },
  {
   "cell_type": "markdown",
   "id": "baaf2a70",
   "metadata": {},
   "source": [
    "Ker smo toliko delali z `numpy`-jem -- pa tudi zaradi tega, kako so bili shranjeni podatki v prvi nalogi -- je gotovo prišlo komu na misel namesto množice uporabiti numpy-jevo tabelo. (Priznanje: tudi sam sem nalogo najprej rešil tako. Vendar je to predvsem posledica tega, kaj sem razmišljal, ko sem jo sestavljal.)"
   ]
  },
  {
   "cell_type": "code",
   "execution_count": 14,
   "id": "7bed116c",
   "metadata": {},
   "outputs": [],
   "source": [
    "def razpored(zelje):\n",
    "    zaseden = np.zeros((130, 6), dtype=bool)\n",
    "    razpored = []\n",
    "    for potnik, sedez in zelje:\n",
    "        vrsta, stolpec = int(sedez[:-1]), ord(sedez[-1]) - 65\n",
    "        while zaseden[vrsta, stolpec]:\n",
    "            vrsta += 1\n",
    "        zaseden[vrsta, stolpec] = True\n",
    "        razpored.append((potnik, f\"{vrsta}{sedez[-1]}\"))\n",
    "    return razpored"
   ]
  },
  {
   "cell_type": "markdown",
   "id": "c737e62f",
   "metadata": {},
   "source": [
    "Takšna rešitev je malenkost bolj zapletena, ker potrebujemo še indeks stolpca. Tega dobimo z `ord`, kot je svetoval opis naloge."
   ]
  },
  {
   "cell_type": "markdown",
   "id": "1dac797e",
   "metadata": {},
   "source": [
    "Morda bi koga zmotilo, dvojno shranjevanje podatkov. To, kaj je zasedeno, je razvidno že iz `razpored`, torej je `zaseden` v bistvu nepotreben. To je res, vendar je nerodno, da je `razpored` seznam, v katerem je zoprno preverjati, ali je določen sedež zaseden. Če že hočemo, pa lahko uporabimo slovar, ki za vsak sedež pove, kdo sedi na njem."
   ]
  },
  {
   "cell_type": "code",
   "execution_count": 15,
   "id": "24c242a7",
   "metadata": {},
   "outputs": [],
   "source": [
    "def razpored(zelje):\n",
    "    zasedeni = {}\n",
    "    for potnik, sedez in zelje:\n",
    "        vrsta, stolpec = int(sedez[:-1]), sedez[-1]\n",
    "        while (vrsta, stolpec) in zasedeni:\n",
    "            vrsta += 1\n",
    "        zasedeni[vrsta, stolpec] = potnik\n",
    "\n",
    "    dejanski = []\n",
    "    for (vrsta, stolpec), potnik in zasedeni.items():\n",
    "        dejanski.append((potnik, f\"{vrsta}{stolpec}\"))\n",
    "    return dejanski"
   ]
  },
  {
   "cell_type": "markdown",
   "id": "7cd75983",
   "metadata": {},
   "source": [
    "Prvi del se je malenkost poenostavil. V `return` pa moramo iz slovarja sestaviti pare potnikov in sedežev.\n",
    "\n",
    "Drugi del lahko poenostavimo, če znamo sestavljati izpeljane sezname:\n",
    "\n",
    "```python\n",
    "    return [(potnik, f\"{vrsta}{stolpec}\")\n",
    "            for (vrsta, stolpec), potnik in zasedeni.items()]\n",
    "```"
   ]
  },
  {
   "cell_type": "markdown",
   "id": "2fb76246",
   "metadata": {},
   "source": [
    "## 4. Ravnotežje\n",
    "\n",
    "Napišite funkcijo `ravnotezje(ime_datoteke)`, ki prejme ime datoteke s podatki, ločenimi z vejico. V prvi vrstici so zapisana imena stolpcev. Eden od njih se imenuje sedez; sedeži so zapisani v običajni obliki, npr. 12F ali 1C ali 128E. Funkcija mora vrniti razliko med številom potnikov, ki sedijo na desni (stolpci D, E, F) in levi (stolpci A, B, C) strani letala. Če, recimo, na desni sedi 7 potnikov več, vrne 7; če je 7 potnikov več na levi, vrne -7.!\n",
    "\n",
    "### Rešitev\n",
    "\n",
    "Ta, ki je normalno in pridno delal domače naloge, se ob tej nalogi lahko zahvali za poceni točke. Potrebno je le uporabiti `DictReader` in brati vrednosti v ustreznem stolpcu - to, v čemer so nas vadile naloge od vremena do medvedov. Glede na zadnji znak je bilo potrebno spreminjati ravnotežje letala. Lahko ločeno štejemo levo- in desnosedeče ter na koncu vrnemo razliko ..."
   ]
  },
  {
   "cell_type": "code",
   "execution_count": 27,
   "id": "c3ca5a24",
   "metadata": {},
   "outputs": [],
   "source": [
    "import csv\n",
    "\n",
    "def ravnotezje(ime_datoteke):\n",
    "    levo = desno = 0\n",
    "    for vrstica in csv.DictReader(open(ime_datoteke, encoding=\"utf-8\"), delimiter=\",\"):\n",
    "        if vrstica[\"sedez\"][-1] <= \"C\":\n",
    "            levo += 1\n",
    "        else:\n",
    "            desno += 1\n",
    "    return desno - levo"
   ]
  },
  {
   "cell_type": "markdown",
   "id": "49fac6cb",
   "metadata": {},
   "source": [
    "... lahko pa razliko računamo že kar sproti."
   ]
  },
  {
   "cell_type": "code",
   "execution_count": 18,
   "id": "4dc24b91",
   "metadata": {},
   "outputs": [],
   "source": [
    "def ravnotezje(ime_datoteke):\n",
    "    ravno = 0\n",
    "    for vrstica in csv.DictReader(open(ime_datoteke, encoding=\"utf-8\"), delimiter=\",\"):\n",
    "        if vrstica[\"sedez\"][-1] <= \"C\":\n",
    "            ravno -= 1\n",
    "        else:\n",
    "            ravno += 1\n",
    "    return ravno"
   ]
  },
  {
   "cell_type": "markdown",
   "id": "d5ae2445",
   "metadata": {},
   "source": [
    "*Kakor vam drago*, je rekel Vili."
   ]
  },
  {
   "cell_type": "markdown",
   "id": "ffb9eba8",
   "metadata": {},
   "source": [
    "## 5. Leti\n",
    "\n",
    "Napišite funkcijo `vozni_redi(potniki, ime_datoteke)`. Argument potniki je seznam z imeni potnikov, številkami letov in pari (ura, minuta) za odhod in prihod. Primer podatkov je, recimo `[(\"Ana Argon\", \"LH2832\", (12, 10), (13, 20)), (\"Berta Bor\", \"UO391\", (15, 5), (20, 30)), (\"Cilka Cankar\", \"LH192\", (7, 0), (12, 30))]`. Funkcija mora v datoteko s podanim imenom zapisati tabelico z imeni, leti in časi, v naslednji obliki.\n",
    "\n",
    "```\n",
    "Ana Argon            LH2832    12:10-13:20\n",
    "Berta Bor             UO391    15:05-20:30\n",
    "Cilka Cankar          LH192     7:00-12:30\n",
    "```\n",
    "\n",
    "Točno obliko - število presledkov - razberite iz testov.\n",
    "\n",
    "### Rešitev\n",
    "\n",
    "Tudi tale je bila kar poceni."
   ]
  },
  {
   "cell_type": "code",
   "execution_count": 21,
   "id": "171a09fb",
   "metadata": {},
   "outputs": [],
   "source": [
    "def vozni_redi(potniki, ime_datoteke):\n",
    "    f = open(ime_datoteke, \"w\", encoding=\"utf-8\")\n",
    "    for potnik, let, (od_h, od_m), (pri_h, pri_m) in potniki:\n",
    "        f.write(f\"{potnik:20} {let:>6}   {od_h:2}:{od_m:02}-{pri_h:2}:{pri_m:02}\\n\")"
   ]
  },
  {
   "cell_type": "markdown",
   "id": "9e6fb388",
   "metadata": {},
   "source": [
    "Ta naloga se je izkazala za - do neke mere - najlažjo. Preglavice so vam delale le vodilne ničle - večina je pisala, na primer `{od_m:2}` namesto `{od_m:02}`. Nekateri so se znašli tako, da so pred izpisom preverili, ali je število manjše od 10 in v tem primeru dodalo manjkajočo ničlo. No, tudi tako se da."
   ]
  },
  {
   "cell_type": "markdown",
   "id": "adb61658",
   "metadata": {},
   "source": [
    "## Celotna rešitev\n",
    "\n",
    "Ker smo tule napisali veliko različnih rešitev, združimo vse skupaj še v \"pričakovano\" rešitev izpita. Tudi za vtis o dolžini celotnega izpita."
   ]
  },
  {
   "cell_type": "code",
   "execution_count": 24,
   "id": "a30fc8f0",
   "metadata": {},
   "outputs": [],
   "source": [
    "import re\n",
    "import csv\n",
    "\n",
    "import numpy as np\n",
    "\n",
    "\n",
    "def cena(zasedenost, cene):\n",
    "    return np.sum(zasedenost * (cene + cene[::-1]))\n",
    "\n",
    "\n",
    "def preberi_sporocilo(ime_datoteke):\n",
    "    potnik = None\n",
    "    sedez = None\n",
    "    for vrstica in open(ime_datoteke, encoding=\"utf-8\"):\n",
    "        mo = re.match(r\".+: (([A-Z]\\w+)( [A-Z]\\w+)+)\", vrstica)\n",
    "        if mo:\n",
    "            potnik = mo.group(1)\n",
    "        mo = re.search(r\"\\D(\\d\\d?[A-F])\", vrstica)\n",
    "        if mo:\n",
    "            sedez = mo.group(1)\n",
    "    return potnik, sedez\n",
    "\n",
    "\n",
    "def razpored(zelje):\n",
    "    zasedeni = set()\n",
    "    dejanski = []\n",
    "    for potnik, sedez in zelje:\n",
    "        vrsta, stolpec = int(sedez[:-1]), sedez[-1]\n",
    "        while (vrsta, stolpec) in zasedeni:\n",
    "            vrsta += 1\n",
    "        zasedeni.add((vrsta, stolpec))\n",
    "        dejanski.append((potnik, f\"{vrsta}{stolpec}\"))\n",
    "    return dejanski\n",
    "\n",
    "\n",
    "def ravnotezje(ime_datoteke):\n",
    "    ravno = 0\n",
    "    for vrstica in csv.DictReader(open(ime_datoteke, encoding=\"utf-8\"), delimiter=\",\"):\n",
    "        if vrstica[\"sedez\"][-1] <= \"C\":\n",
    "            ravno -= 1\n",
    "        else:\n",
    "            ravno += 1\n",
    "    return ravno\n",
    "\n",
    "\n",
    "def vozni_redi(potniki, ime_datoteke):\n",
    "    f = open(ime_datoteke, \"w\", encoding=\"utf-8\")\n",
    "    for potnik, let, (od_h, od_m), (pri_h, pri_m) in potniki:\n",
    "        f.write(f\"{potnik:20} {let:>6}   {od_h:2}:{od_m:02}-{pri_h:2}:{pri_m:02}\\n\")"
   ]
  }
 ],
 "metadata": {
  "kernelspec": {
   "display_name": "Python 3 (ipykernel)",
   "language": "python",
   "name": "python3"
  },
  "language_info": {
   "codemirror_mode": {
    "name": "ipython",
    "version": 3
   },
   "file_extension": ".py",
   "mimetype": "text/x-python",
   "name": "python",
   "nbconvert_exporter": "python",
   "pygments_lexer": "ipython3",
   "version": "3.11.5"
  }
 },
 "nbformat": 4,
 "nbformat_minor": 5
}
