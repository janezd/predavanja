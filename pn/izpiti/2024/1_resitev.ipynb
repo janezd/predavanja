{
 "cells": [
  {
   "attachments": {},
   "cell_type": "markdown",
   "id": "3e13bd4d-8660-43b2-904d-58a0b35127ad",
   "metadata": {},
   "source": [
    "## 1. Delovna sila\n",
    "\n",
    "Šopi banan prihajajo po tekočem traku. Delavec jih zlaga v škatle. Če bi teža banan v škatli, skupaj z naslednjim šopom presegla 20 kg, preda škatlo naprej in vzame naslednjo, prazno škatlo.\n",
    "\n",
    "Napišite funkcijo `pakiranje(vhod, izhod)`, ki prejme imeni dveh besedilnih datotek. V prvi so teže zaporednih šopov banan (necela števila, float). V drugo mora funkcija izpisati teže paketov na eno decimalko natančno. Za primer glejte datoteki vhod.txt in izhod.txt, ki se bosta pojavili, ko prvič poženete teste.\n",
    "\n",
    "Ne pozabite na zadnjo škatlo.\n",
    "\n",
    "### Rešitev\n",
    "\n",
    "Rešitve skoraj ni kaj komentirati. Beremo številke, seštevamo k teži paketa, predtem pa preverimo, ali je teža skupaj z novim paketom prevelika in v tem primeru shranimo težo paketa in začnemo z novim (`v_paketu = 0`).\n",
    "\n",
    "\"Ne pozabite na zadnjo škatlo\" pa se nanaša na to, da moramo na koncu zapisati tu zadnji paket, ki morda ni čisto poln. Za tega poskrbimo po zanki."
   ]
  },
  {
   "cell_type": "code",
   "execution_count": null,
   "id": "8190b071-0253-48da-a610-40738a0b57ea",
   "metadata": {},
   "outputs": [],
   "source": [
    "def pakiranje(vhod, izhod):\n",
    "    v_paketu = 0\n",
    "    v = open(vhod)\n",
    "    i = open(izhod, \"w\")\n",
    "    for teza in v:\n",
    "        teza = float(teza)\n",
    "        if v_paketu + teza > 20:\n",
    "            i.write(f\"{v_paketu:.1f}\\n\")\n",
    "            v_paketu = 0\n",
    "        v_paketu += teza\n",
    "        \n",
    "    if v_paketu:\n",
    "        i.write(f\"{v_paketu:.1f}\\n\")"
   ]
  },
  {
   "cell_type": "markdown",
   "id": "988a63e0-ff4b-4303-9bc8-fd96c9d329ab",
   "metadata": {},
   "source": [
    "Najbolj običajna napaka pri tej nalogi je bila"
   ]
  },
  {
   "cell_type": "code",
   "execution_count": 1,
   "id": "d4a038ff-dd00-4350-b57d-dfcd3de8fae2",
   "metadata": {},
   "outputs": [],
   "source": [
    "def pakiranje(vhod, izhod):\n",
    "    v_paketu = 0\n",
    "    v = open(vhod)\n",
    "    i = open(izhod, \"w\")\n",
    "    for teza in v:\n",
    "        teza = float(teza)\n",
    "        if v_paketu + teza > 20:\n",
    "            i.write(f\"{v_paketu:.1f}\\n\")\n",
    "            v_paketu = 0\n",
    "        else:\n",
    "            v_paketu += teza\n",
    "        \n",
    "    if v_paketu:\n",
    "        i.write(f\"{v_paketu:.1f}\\n\")"
   ]
  },
  {
   "cell_type": "markdown",
   "id": "552816d9-ae43-4110-8958-8c23505ff7b2",
   "metadata": {},
   "source": [
    "Pisali ste pravzaprav obratno, takole:"
   ]
  },
  {
   "cell_type": "code",
   "execution_count": 2,
   "id": "d0fa6334-c4d9-46d1-8f35-e6ba0ac0471b",
   "metadata": {},
   "outputs": [],
   "source": [
    "def pakiranje(vhod, izhod):\n",
    "    v_paketu = 0\n",
    "    v = open(vhod)\n",
    "    i = open(izhod, \"w\")\n",
    "    for teza in v:\n",
    "        teza = float(teza)\n",
    "        if v_paketu + teza <= 20:\n",
    "            v_paketu += teza\n",
    "        else:\n",
    "            i.write(f\"{v_paketu:.1f}\\n\")\n",
    "            v_paketu = 0\n",
    "        \n",
    "    if v_paketu:\n",
    "        i.write(f\"{v_paketu:.1f}\\n\")"
   ]
  },
  {
   "cell_type": "markdown",
   "id": "d3705d49-fcb1-48d1-8e7f-f3b9cc17be82",
   "metadata": {},
   "source": [
    "Če novi šop banan ne poveča teže čez 20, ga dodamo - sicer pa oddamo paket in postavimo težo na 0. Kaj pa v tem, drugem primeru naredimo s (pretežkim) šopom banan? Ničesar! Vržemo ga stran..."
   ]
  },
  {
   "attachments": {},
   "cell_type": "markdown",
   "id": "be44e629-fa29-477c-8447-f283c02c0efa",
   "metadata": {},
   "source": [
    "## 2. Varna naložba\n",
    "\n",
    "Škatle naložijo na (manjše) tovornjake (pri pakiranju morda ne upoštevajo navodil iz prejšnje naloge). Škatle so vedno naložene štiri nivoje visoko. Naložbo zapišejo v datoteko po nadstropjih. V prvi vrstici datoteke so zapisane teže škatel v prvi vrsti na tleh. Sledi druga vrsta škatel na tleh, nato tretja in tako naprej. Nato ponovijo isto za drugo, tretje in četrto nadstropje. Če je v vsaki vrsti 5 škatel in imamo 8 vrst, bo v datoteki 8x4 vrstic s 5 elementi.\n",
    "\n",
    "Naložba v tovornjak je varna, če ustreza naslednjim pogojem:\n",
    "- Skupna teža škatel v posamičnem »stolpcu« štirih škatel, naloženih ena na drugo, je največ 80 kg.\n",
    "- Razlika med težo na levi in desni strani je največ 10 % celotne teže tovora. Če je število škatel v vrsti liho, srednje ne upoštevajte. (Namig: če je škatel 7, primerjate prve 3 in zadnje 3. Pythonovo indeksiranje...)\n",
    "- Razlika med težo v sprednjem in zadnjem delu je največ 10 % celotne teže tovora. Če je ena za drugo liho število škatel, srednje ne upoštevate.\n",
    "\n",
    "Če je celoten tovor težak 4800 kg, sme biti razlika med levo in desno tovoranjaka ter med sprednjo in zadnjo stranjo največ 480 kg.\n",
    "\n",
    "Napišite funkcijo `varnost(ime_datoteke)`, ki vrne `True`, če je naložba, opisana v datoteki, varna, in `False`, če ni. \n",
    "\n",
    "Nasvet: Klic `help(np.reshape)` pokaže dokumentacijo funkcije `np.reshape`. Prav utegne priti tudi `np.genfromtext`.\n",
    "\n",
    "Pazi: `-x // 2` je `(-x) // 2` in ne `–(x // 2)`. Zato je `–5 // 2` enako `-3` in ne `-2`.\n",
    "\n",
    "### Rešitev\n",
    "\n",
    "Tole je naloga iz numpyja in dimenzij in osi. Da se jo rešiti tudi brez, vendar te rešitve ne bom napisal, ker se mi ne da. :)"
   ]
  },
  {
   "cell_type": "code",
   "execution_count": 2,
   "id": "8f7ba545-af77-4740-9fae-219810c6a8f8",
   "metadata": {},
   "outputs": [],
   "source": [
    "def varnost(tovor):\n",
    "    tovor = np.genfromtxt(tovor, delimiter=\",\")\n",
    "    tovor = tovor.reshape((4, -1, tovor.shape[1]))\n",
    "    odstop = np.sum(tovor) * 0.1\n",
    "    dol, sir = tovor.shape[1:]\n",
    "    return np.max(np.sum(tovor, axis=0)) <= 80 \\\n",
    "            and abs(np.sum(tovor[:, :dol // 2]) - np.sum(tovor[:, -(dol // 2):])) <= odstop \\\n",
    "            and abs(np.sum(tovor[:, :, :sir // 2]) - np.sum(tovor[:, :, -(sir //2):])) <= odstop"
   ]
  },
  {
   "cell_type": "markdown",
   "id": "5b274f14-b378-4581-94ed-7dec28e1a249",
   "metadata": {},
   "source": [
    "Najprej preberemo podatke, nato jih ustrezno preoblikujemo z `reshape`. Prva dimenzija bodo nadstropja, torej bo dolga `4`. Zadnja bo ostala, kar je bila. Vmesno bi lahko izračunali, vendar, kot jo lahko numpy prijazno izračunatudi sam (kot izvemo v dokumentaciji).\n",
    "\n",
    "Potem vendarle preberemo dolžino in širino (`dol` in `sir`).\n",
    "\n",
    "Sledi preverjanje pogojev: najtežji stolpec (največja vsota po osi 0) mora biti manjša ali enaka 8, razliko med levo in desno ter sprednjo in zadnjo stranjo pa dobimo z rezanjem tabele po drugi in po tretji dimenziji.\n",
    "\n",
    "Pri pregledovanju izpitov sem glede te naloge gledal skozi prste. Kar nekaj študentov se je namreč pritoževalo, da ne razumejo navodil. To me sicr čudi: če v tovornjak naložijo določeno število škatel v določeno število vrst in v določeno višino, se da to v datoteko napisati samo na en način. Datoteke so \"dvodimenzionalne\" in tovor pač razrežemo po nadstropjih. A če veliko študentom to ni bilo razumljivo, potem navodila očitno niso bila dovolj jasna, tako da ... no, samo zaradi te naloge nihče ni padel na izpitu ali pisal (bistveno) slabše, kot bi sicer."
   ]
  },
  {
   "attachments": {},
   "cell_type": "markdown",
   "id": "ab3c0867-a406-40ef-84e9-be919ba9c180",
   "metadata": {},
   "source": [
    "## 3. Dolgovi\n",
    "\n",
    "Napišite funkcijo `pregled(narocila, dir_prevozi, porocilo)`.\n",
    "\n",
    "- Prvi argument je ime datoteke z naročili banan v obliki .json. Vsebuje slovar, katerega ključi so naročniki, vrednosti pa teža naročenih banan.\n",
    "- Drugi argument je ime direktorija (imenika), ki vsebuje datoteke .json, v kateri so opisane pošiljke banan. Obliko poglej sam(a). Isti naročnik lahko dobi več dostav. (Imena datotek v direktoriju vrne os.listdir.)\n",
    "- Tretji argument je ime datoteke, v katero morate (prav tako v obliki json) zapisati slovar, katerega ključi so naročniki, vrednosti pa teža banan, ki jih jim je potrebno še dostaviti. Slovar naj ne vsebuje naročnikov, ki smo jim že dostavili naročeno količino ali celo količino, ki presega naročeno.\n",
    "\n",
    "### Rešitev\n",
    "\n",
    "V bistvu je rešitev takšna."
   ]
  },
  {
   "cell_type": "code",
   "execution_count": 4,
   "id": "209a7741-9006-4944-83c6-fa6693d9b64c",
   "metadata": {},
   "outputs": [],
   "source": [
    "def pregled(narocila, dir_prevozi, porocilo):\n",
    "    narocila = json.load(open(narocila))\n",
    "    \n",
    "    for prevoz in os.listdir(dir_prevozi):  # povej za listdir\n",
    "        if os.path.splitext(prevoz)[1] == \".json\":\n",
    "            prevoz = json.load(open(os.path.join(dir_prevozi, prevoz)))\n",
    "            narocila[prevoz[\"narocnik\"]] -= prevoz[\"teza\"]\n",
    "            \n",
    "    for n in list(narocila):\n",
    "        if narocila[n] <= 0:\n",
    "            del narocila[n]\n",
    "            \n",
    "    json.dump(narocila, open(porocilo, \"w\"))"
   ]
  },
  {
   "cell_type": "markdown",
   "id": "a1655c2a-8d92-4824-aedf-37a368314495",
   "metadata": {},
   "source": [
    "- Najprej preberemo naročila. To je trivialno.\n",
    "\n",
    "- Nato gremo prek vseh datotek v podanem direktoriju. Preberemo vsebino vseh datotek `.json`. Te so, na primer, takšne\n",
    "\n",
    "    ```\n",
    "    {\"narocnik\": \"Ana\", \"teza\": 100, \"koda_prevoznika\": 985}\n",
    "    ```\n",
    "\n",
    "    Poleg naročnika in teže vsebujejo še neko nesmiselno kodo, za katero nam ni mar. Iz `narocila` odštejemo, kolikor je bilo temu naročniku dostavljeno.\n",
    "\n",
    "- V tretjem kosu pobrišemo vsa izpolnjena naročila.\n",
    "\n",
    "- Nato zapišemo rezultat v datoteko, kar je spet trivialno.\n",
    "\n",
    "Edini zoprni del je tretji. Znotraj zanke, ki gre čez nek slovar, ne smemo spreminjati tega slovarja. Zato gremo čez ključe tega slovarja, ki jih vržemo v seznam. Tako gre zanka prek seznama, ne prek slovarja.\n",
    "\n",
    "To je seveda trik. Če se ga ne spomnimo, pač naredimo nov slovar, ki vsebuje le tiste elemente prvega, katerih vrednosti so pozitivne."
   ]
  },
  {
   "cell_type": "code",
   "execution_count": 5,
   "id": "da52cb53-183d-4ff5-81dd-eeb352eb5a25",
   "metadata": {},
   "outputs": [],
   "source": [
    "def pregled(narocila, dir_prevozi, porocilo):\n",
    "    narocila = json.load(open(narocila))\n",
    "    \n",
    "    for prevoz in os.listdir(dir_prevozi):  # povej za listdir\n",
    "        if os.path.splitext(prevoz)[1] == \".json\":\n",
    "            prevoz = json.load(open(os.path.join(dir_prevozi, prevoz)))\n",
    "            narocila[prevoz[\"narocnik\"]] -= prevoz[\"teza\"]\n",
    "            \n",
    "    odprta_narocila = {}\n",
    "    \n",
    "    for narocnik, preostalo in narocila.items():\n",
    "        if preostalo > 0:\n",
    "            odprta_narocila[narocnik] = preostalo\n",
    "            \n",
    "    json.dump(odprta_narocila, open(porocilo, \"w\"))"
   ]
  },
  {
   "attachments": {},
   "cell_type": "markdown",
   "id": "b034772e-6cbb-4f1f-b1e9-2ec4ea902bba",
   "metadata": {},
   "source": [
    "## 4. Vmesno poročilo\n",
    "\n",
    "Napišite funkcijo porocilo(narocila, dostava), ki prejme slovar z naročili (ključi so naročniki, vrednosti količina naročenih banan) in slovar s skupno količino dostavljenih banan (ključi so naročniki, vrednosti količina dostavljenih banan). Vsak ključ iz drugega slovarja se seveda pojavi tudi v prvem (banane dostavljamo le naročnikom), obratno pa ni nujno (nekaterim naročnikom morda nismo dostavili še ničesar). \n",
    "\n",
    "Funkcija mora vrniti niz (ne izpisovati, vrniti niz!) v obliki, ki jo vidite spodaj. Vsebina je očitna. Vsi stolpci so široki 10 znakov.\n",
    "\n",
    "```\n",
    "Naročnik    Naročeno   Dostava   Razlika\n",
    "----------------------------------------\n",
    "Ana             1000      1000         0\n",
    "Berta           2000       800     -1200\n",
    "Cilka            300         0      -300\n",
    "Dani            1200      1280        80\n",
    "----------------------------------------\n",
    "```"
   ]
  },
  {
   "cell_type": "markdown",
   "id": "64aceee1-86a4-4969-9b49-8db982614700",
   "metadata": {},
   "source": [
    "### Rešitev\n",
    "\n",
    "Tole je samo preprosta vaja iz oblikovanja nizov."
   ]
  },
  {
   "cell_type": "code",
   "execution_count": 6,
   "id": "ea553fcd-40cc-4ff6-9fb3-f06026b0c2fb",
   "metadata": {},
   "outputs": [],
   "source": [
    "def porocilo(narocila, dostava):\n",
    "    besedilo = f\"{'Naročnik':10}{'Naročeno':>10}{'Dostava':>10}{'Razlika':>10}\\n\"\n",
    "    besedilo += \"-\" * 40 + \"\\n\"\n",
    "    for narocnik, teza in narocila.items():\n",
    "        besedilo += f\"{narocnik:10}{teza:10}{dostava.get(narocnik, 0):10}{dostava[narocnik] - teza:10}\\n\"\n",
    "    besedilo += \"-\" * 40 + \"\\n\"\n",
    "    return besedilo"
   ]
  },
  {
   "cell_type": "markdown",
   "id": "797aaadd-5a23-4a09-9481-81e898cb6984",
   "metadata": {},
   "source": [
    "Če se pri drugi nalogi lahko sprašujemo o jasnosti in razumevanju navodila, je tole bolj nerodno: pri veliko študentih se je tule pokazalo, da imajo resne težave z delom s slovarji. :("
   ]
  }
 ],
 "metadata": {
  "kernelspec": {
   "display_name": "Python 3 (ipykernel)",
   "language": "python",
   "name": "python3"
  },
  "language_info": {
   "codemirror_mode": {
    "name": "ipython",
    "version": 3
   },
   "file_extension": ".py",
   "mimetype": "text/x-python",
   "name": "python",
   "nbconvert_exporter": "python",
   "pygments_lexer": "ipython3",
   "version": "3.12.7"
  }
 },
 "nbformat": 4,
 "nbformat_minor": 5
}
