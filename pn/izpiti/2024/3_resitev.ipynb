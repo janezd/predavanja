{
 "cells": [
  {
   "cell_type": "markdown",
   "id": "3ed5b737-7eb7-4aac-a01e-a75bbdeafb43",
   "metadata": {},
   "source": [
    "Podan je slovar `postaje`, katerega ključi so imena postaj Biciklja, vrednosti pa slovarji z zemljepisnimi koordinatami postajališč, kapaciteto (število stojal) in trenutnim številom koles na postaji. (Glej slovar v testih.)\n",
    "\n",
    "Podana je tudi funkcija `razdalje(postaja1, postaja2)`, ki prejme imeni postaj in vrne razdaljo med njima. "
   ]
  },
  {
   "cell_type": "markdown",
   "id": "b344c00f-64e8-4d55-aad9-300c5d205d12",
   "metadata": {},
   "source": [
    "Najprej, za vtis, rešitev celotnega izpita v obliki, kot bi si jo želel od študentov. Posamične naloge so razložene spodaj."
   ]
  },
  {
   "cell_type": "code",
   "execution_count": 12,
   "id": "cc8b58aa-11b6-4883-b6be-2e6005cbf95d",
   "metadata": {},
   "outputs": [],
   "source": [
    "import json\n",
    "from urllib.request import urlopen\n",
    "\n",
    "import numpy as np\n",
    "\n",
    "# 1\n",
    "\n",
    "def prenesi():\n",
    "    return {x[\"name\"]:{\n",
    "            \"latitude\": x[\"position\"][\"latitude\"],\n",
    "            \"longitude\": x[\"position\"][\"longitude\"],\n",
    "            \"capacity\": x[\"totalStands\"][\"capacity\"],\n",
    "            \"bikes\": x[\"totalStands\"][\"availabilities\"][\"mechanicalBikes\"]}\n",
    "           for x in json.loads(urlopen(URL).read())}\n",
    "\n",
    "# 2\n",
    "\n",
    "def najblizje(postaja):\n",
    "    pari = []\n",
    "    for ime in postaje:\n",
    "        if ime != postaja:\n",
    "            pari.append((razdalja(postaja, ime), ime))\n",
    "    pari.sort()\n",
    "    return pari[1:4]\n",
    "\n",
    "# 3\n",
    "\n",
    "def zapisi(ime_datoteke):\n",
    "    f = open(ime_datoteke, \"w\", encoding=\"utf-8\")\n",
    "    for ime in sorted(postaje):\n",
    "        f.write(f\"{ime:40}{postaje[ime]['bikes']:2}/{postaje[ime]['capacity']:<2}\\n\")\n",
    "\n",
    "# 4\n",
    "\n",
    "def spremembe(prevozi):\n",
    "    return np.sum(prevozi, axis=0) - np.sum(prevozi, axis=1)\n",
    "\n",
    "def asimetrija(prevozi):\n",
    "    r = np.abs(prevozi - prevozi.T)\n",
    "    return (r == np.max(r)).nonzero()[0]\n",
    "\n",
    "# 5\n",
    "\n",
    "def vracanje(razlike):\n",
    "    premalo = -1\n",
    "    prevec = -1\n",
    "    prevoz = np.zeros((len(razlike), len(razlike)), dtype=int)\n",
    "    while True:\n",
    "        while premalo == -1 or razlike[premalo] >= 0:\n",
    "            if premalo == len(razlike) - 1:\n",
    "                return prevoz\n",
    "            premalo += 1\n",
    "        while prevec == -1 or razlike[prevec] <= 0:\n",
    "            prevec += 1\n",
    "        koles = min(-razlike[premalo], razlike[prevec])\n",
    "        prevoz[prevec][premalo] = koles\n",
    "        razlike[premalo] += koles\n",
    "        razlike[prevec] -= koles"
   ]
  },
  {
   "cell_type": "markdown",
   "id": "1a62907f-bf48-4397-b817-1fd0e6d42910",
   "metadata": {},
   "source": [
    "### 1. Branje podatkov [tema: json, slovarji]\n",
    "\n",
    "Napišite funkcijo `prenesi()`, ki prebere podatke z naslova [https://ucilnica.fri.uni-lj.si/mod/resource/view.php?id=59478](https://ucilnica.fri.uni-lj.si/mod/resource/view.php?id=59478) (naslov je shranjen v spremenljivki URL v testih), jih predela v slovar v enaki obliki kot podani slovar postaje, in ga vrne. (Opomba: podatki so kopija resničnih, sproti osveževanih podatkov z naslova `https://api.jcdecaux.com/vls/v3/stations?apiKey=frifk0jbxfefqqniqez09tw4jvk37wyf823b5j1i&contract=ljubljana`, ki je med izpitom nedosegljiv.)\n",
    "\n",
    "#### Rešitev\n",
    "\n",
    "Potrebno je bilo pogledati, kaj je na tem naslovu in prepoznati obliko json. (Že za omembo jsona v rešitvi sem dal 5 točk. Večina študentov je žal nekaj brala in split-ala.) Rezultat je bil slovar, iz katerega je bilo potrebno le prestaviti podatke v nov, malo drugačen slovar."
   ]
  },
  {
   "cell_type": "code",
   "execution_count": 1,
   "id": "c34b77f7-8a44-4301-8a77-421b6d54656b",
   "metadata": {},
   "outputs": [],
   "source": [
    "from urllib.request import urlopen\n",
    "\n",
    "def prenesi():\n",
    "    return {x[\"name\"]:{\n",
    "            \"latitude\": x[\"position\"][\"latitude\"],\n",
    "            \"longitude\": x[\"position\"][\"longitude\"],\n",
    "            \"capacity\": x[\"totalStands\"][\"capacity\"],\n",
    "            \"bikes\": x[\"totalStands\"][\"availabilities\"][\"mechanicalBikes\"]}\n",
    "           for x in json.loads(urlopen(URL).read())}"
   ]
  },
  {
   "cell_type": "markdown",
   "id": "1fcf650a-1e97-441d-a879-0662fc77aa4a",
   "metadata": {},
   "source": [
    "Kdor na mara izpeljanih slovarjev in podobnih rokohitrstev, je šel lepo počasi."
   ]
  },
  {
   "cell_type": "code",
   "execution_count": 2,
   "id": "051a14fa-db9e-42f9-9f3c-04682f39441f",
   "metadata": {},
   "outputs": [],
   "source": [
    "def prenesi():\n",
    "    t = urlopen(URL).read()\n",
    "    postaje = {}\n",
    "    for x in json.loads(t):\n",
    "        postaje[x[\"name\"]] = {\n",
    "            \"latitude\": x[\"position\"][\"latitude\"],\n",
    "            \"longitude\": x[\"position\"][\"longitude\"],\n",
    "            \"capacity\": x[\"totalStands\"][\"capacity\"],\n",
    "            \"bikes\": x[\"totalStands\"][\"availabilities\"][\"mechanicalBikes\"]}\n",
    "    return postaje"
   ]
  },
  {
   "cell_type": "markdown",
   "id": "a754768d-f4b8-4156-b695-2be4022ed64f",
   "metadata": {},
   "source": [
    "### 2. Najbližje 3 [tema: seznami]\n",
    "\n",
    "Avtor izpita ni uporabnik Biciklja (enkrat je bilo dovolj), ve pa, da na določeni postaji včasih ne moreš dobiti ali oddati kolesa, zato se je potrebno ozreti po bližnjih postajah.\n",
    "\n",
    "Napišite funkcijo `najblizje3(postaja)`, ki za podano postajo poišče najbližje tri postaje in vrne seznam (treh) parov (razdalja, ime). Seznam naj bo urejen po razdaljah.\n",
    "\n",
    "Klic `najblizje3(\"ŽIVALSKI VRT\")` vrne `[(0.73687236710574, 'VIŠKO POLJE'), (0.9639016462683163, 'TEHNOLOŠKI PARK'), (1.0760703913614853, 'SOSESKA NOVO BRDO')]`.\n",
    "\n",
    "#### Rešitev\n",
    "\n",
    "Najpreprosteje je sestaviti seznam natančno takšnih parov, kot jih zahteva naloga (naloga je sestavljena, kakor je, prav zato, da vam da ta namig!), jih urediti in vrniti prve tri. (Tudi, da mora biti rezultat urejen, je nekaj, kar bi vas lahko napeljalo na pravo pot.)"
   ]
  },
  {
   "cell_type": "code",
   "execution_count": 3,
   "id": "7c603a25-ab21-411a-8e21-00fc22753276",
   "metadata": {},
   "outputs": [],
   "source": [
    "def najblizje(postaja):\n",
    "    pari = []\n",
    "    for ime in postaje:\n",
    "        if ime != postaja:\n",
    "            pari.append((razdalja(postaja, ime), ime))\n",
    "    pari.sort()\n",
    "    return pari[1:4]"
   ]
  },
  {
   "cell_type": "markdown",
   "id": "dca7ba4c-ed5c-4fa8-8dc8-40489f8a0044",
   "metadata": {},
   "source": [
    "No, ne prvih treh: prvi element je vedno izhodiščna postaja in jo preskočimo, zato vzamemo `[1:4]`.\n",
    "\n",
    "Še hitreje gre, če poznamo izpeljane sezname."
   ]
  },
  {
   "cell_type": "code",
   "execution_count": 4,
   "id": "0a5fbaa2-5db3-40f1-bcb4-91fc3bb72d8c",
   "metadata": {},
   "outputs": [],
   "source": [
    "def najblizje3(postaja):\n",
    "    return sorted((razdalja(postaja, name), name) for name in postaje)[1:4]"
   ]
  },
  {
   "cell_type": "markdown",
   "id": "03bb4736-7edc-417b-aead-a706c433c030",
   "metadata": {},
   "source": [
    "Če se ne domislimo urejanja, so stvari seveda bolj \"zabavne\". No, ni tako hudo: trikrat zapored poiščemo najbližjo postajo in jo dodamo v seznam."
   ]
  },
  {
   "cell_type": "code",
   "execution_count": 5,
   "id": "c89f831a-d0ea-4268-9bf5-8398952de853",
   "metadata": {},
   "outputs": [],
   "source": [
    "def najblizje(postaja):\n",
    "    moznosti = list(postaje)\n",
    "    moznosti.remove(postaja)\n",
    "    naj3 = []\n",
    "    for i in range(3):\n",
    "        naj = None\n",
    "        for ime in moznosti:\n",
    "            if naj is None or razdalja(postaja, ime) < razdalja(postaja, naj):\n",
    "                naj = ime\n",
    "        naj3.append((razdalja(postaja, naj), naj))\n",
    "        moznosti.remove(naj)\n",
    "    return naj3"
   ]
  },
  {
   "cell_type": "markdown",
   "id": "88cbaa07-99b9-49cd-8902-91f133ca3c23",
   "metadata": {},
   "source": [
    "Ni tako lepo, spet pa ni neka znanstvena fantastika."
   ]
  },
  {
   "attachments": {},
   "cell_type": "markdown",
   "id": "14bc7d30-b103-4778-a773-6b8939193796",
   "metadata": {},
   "source": [
    "### 3. Tabela postaj [tema: pisanje datotek in oblikovanje nizov]\n",
    "\n",
    "Napišite funkcijo zapisi(ime_datoteke), ki v podano datoteko zapiše imena postaj (na 40 mest), ki ji sledi število razpoložljivih koles in število mest. Zapis mora biti urejen po abecedi imen postaj (šumniki pa bodo na koncu; uporabite običajno urejanje v Pythonu) in v spodnji obliki.\n",
    "\n",
    "```\n",
    "KONGRESNI TRG-ŠUBIČEVA ULICA             9/20\n",
    "KOPALIŠČE ILIRIJA                        0/20\n",
    "KOPALIŠČE KOLEZIJA                      19/20\n",
    "KOPRSKA ULICA                            3/8 \n",
    "KOSEŠKI BAJER                           14/20\n",
    "```\n",
    "\n",
    "#### Rešitev\n",
    "\n",
    "Tole je bilo mišljeno kot podarjena naloga. Žal ste imeli nekaj nepredvidenih težav s poravnavanjem številk na desno in levo. Poglejte znakce za urejanje - `:2` in `:<2`."
   ]
  },
  {
   "cell_type": "code",
   "execution_count": 6,
   "id": "55519359-820c-4d96-879c-958128592c4b",
   "metadata": {},
   "outputs": [],
   "source": [
    "def zapisi(ime_datoteke):\n",
    "    f = open(ime_datoteke, \"w\", encoding=\"utf-8\")\n",
    "    for ime in sorted(postaje):\n",
    "        f.write(f\"{ime:40}{postaje[ime]['bikes']:2}/{postaje[ime]['capacity']:<2}\\n\")"
   ]
  },
  {
   "attachments": {},
   "cell_type": "markdown",
   "id": "8b8a5044-62cf-4180-87b4-96384d98e5d9",
   "metadata": {},
   "source": [
    "### 4. Prevozi [tema: numpy]\n",
    "\n",
    "Imamo matriko v numpyju, ki predstavlja podatke o prehodih koles med postajami v nekem časovnem obdobju: element z indeksoma `[i][j]` pove, koliko koles je bilo prevzetih na i-ti postaji in vrnjenih na j-to. Matrika na sliki nam pove, da so na postaji 1 prevzeli 3 kolesa, ki so jih vrnili na postajo 1; 7 koles, ki so jih vrnili na postajo 2; in 5 koles, ki so jih vrnili na 4.\n",
    "\n",
    "- Skupno so s postaje 1 odpeljali 15 koles, pripeljali pa so jih (kje to vidimo?) 10. Na postaji 1 je pet koles manj, kot jih je bilo prej. Napišite funkcijo `spremembe(prevozi)`, ki prejme takšno matriko in vrne matriko s toliko elementi, kolikor je postaj. Vsak element pove, koliko koles več (pozitivna števila) oz. manj (negativna) kot prej je na postaji. Za matriko s slike vrne `[-6, -5, 12, -6, 9, -4]`.\n",
    "\n",
    "- S postaje 1 na postajo 4 so pripeljali 5 koles, s postaje 4 na 1 pa samo 1 kolo. Razlika je torej 4. S postaje 4 na 5 so jih pripeljali 3, obratno prav tako 3. Razlika je 0. Največja razlika je med postajama 1 in 2: v eno smer so jih pripeljali 1, v drugo 7, razlika je 6. Napišite funkcijo `asimetrija(prevozi)`, ki vrne par postaj z največjo razliko. V gornjem primeru mora vrniti `[1, 2]` (ali `[2, 1]`). Če je parov z največjo razliko več, smete vrniti poljubnega.\n",
    "\n",
    "Zaželeno je, da nalogo rešite s spretno uporabo numpyja – v vrstici ali dveh, brez kakšnih zank v Pythonu.\n",
    "\n",
    "#### Rešitev\n",
    "\n",
    "Kdor si je ogledal matriko, je videl, da i-ta vrstica pove, koliko koles je bilo prevzetih na i-ti postaji. Število prevzetih koles (po postajah) je torej `np.sum(prevozi, axis=1)`. Vsote stolpcev povedo, koliko koles je prišlo na posamično postajo. Rešitev je torej"
   ]
  },
  {
   "cell_type": "code",
   "execution_count": 7,
   "id": "b1d61e61-e574-49be-8f57-97f51b558d52",
   "metadata": {},
   "outputs": [],
   "source": [
    "def spremembe(prevozi):\n",
    "    return np.sum(prevozi, axis=0) - np.sum(prevozi, axis=1)"
   ]
  },
  {
   "cell_type": "markdown",
   "id": "f30d397d-b342-4ea9-9afe-e2b1bd6db86a",
   "metadata": {},
   "source": [
    "Če zamešamo osi (kot sem jih prav med pisanjem tega besedila tudi sam), bodo imeli elementi rezultata ravno napačen predznak. Pač obrnemo.\n",
    "\n",
    "Bistvo drugega dela je, da odštejemo elemente, ki so prezrcaljeni čez diagonalo, se pravi, recimo, `prevozi[2, 4]` od `prevozi[4, 2]`, kar storimo z `prevozi - prevozi.T`. Zanimajo nas le absolutne vrednosti, torej `np.abs(prevozi - prevozi.T)`. Že kdor je napisal to, je dobil veliko točk. Nekateri so nadaljevali z `argmax`, kar je načelno pravilna ideja, ki je prinesla nekaj točk, čeprav tule ne deluje. Tule je potrebno poiskati vse elemente, ki so enaki maksimum, nato `nonzero()`, da dobimo njihove indekse. Potem vzamemo prvega od njih."
   ]
  },
  {
   "cell_type": "code",
   "execution_count": 8,
   "id": "f580fc42-f40c-4884-a053-02adc537292c",
   "metadata": {},
   "outputs": [],
   "source": [
    "def asimetrija(prevozi):\n",
    "    r = np.abs(prevozi - prevozi.T)\n",
    "    return (r == np.max(r)).nonzero()[0]"
   ]
  },
  {
   "cell_type": "markdown",
   "id": "7ec25af4-924c-4ade-8ab4-13d39a22d689",
   "metadata": {},
   "source": [
    "Ta naloga je bila zoprna zaradi `nonzero`; kot rečeno, sem nagrajeval tudi dobre ideje, ki v tem konkretnem primeru sicer niso delovale. Tudi rešitev v slogu"
   ]
  },
  {
   "cell_type": "code",
   "execution_count": 11,
   "id": "4aa234a4-b42d-439f-ad18-97ebe3eeba12",
   "metadata": {},
   "outputs": [],
   "source": [
    "def asimetrija(prevozi):\n",
    "    r = np.abs(prevozi - prevozi.T)\n",
    "    m = np.max(r)\n",
    "    for x in range(len(r)):\n",
    "        for y in range(len(r)):\n",
    "            if r[x][y] == m and x != y:\n",
    "                return [x, y]  "
   ]
  },
  {
   "cell_type": "markdown",
   "id": "9b55a5be-18c8-4385-955f-3dbd68836e1b",
   "metadata": {},
   "source": [
    "nisem (preveč) zameril."
   ]
  },
  {
   "attachments": {},
   "cell_type": "markdown",
   "id": "97477d50-ec32-48ea-926d-6d5bde39b468",
   "metadata": {},
   "source": [
    "### 5. Vračanje [tema: pogoji in zanki]\n",
    "\n",
    "Upravljalci Biciklja morajo prevažati kolesa nazaj. Napišite funkcijo `vracanje(razlike)`, ki prejme razlike, kakršne vrača funkcija spremembe, in vrne matriko, ki pove, koliko koles je potrebno prepeljati s katere postaje na katero, da bo na vsaki postaji spet toliko koles, kot jih je bilo v začetku. Pravilnih rešitev je neskončno mnogo, funkcija naj vrne eno od njih.\n",
    "\n",
    "Funkcija vracanje dela torej ravno nasprotno kot funkcija spremembe: za podane spremembe vrne matriko, ki bi dala takšne spremembe (le z negativnim predznakom). Test deluje tako, da si izmisli razlike in pokliče vašo funkcijo\n",
    "\n",
    "```\n",
    "        razlike = np.array([-6, -5, 12, -6, 9, -4])\n",
    "        nazaj = vracanje(razlike)\n",
    "```\n",
    "\n",
    "nato pa preveri, da so vsi elementi nazaj pozitivni in da matrika razlike + spremembe(nazaj) vsebuje same ničle. Pri tem predpostavlja, da ste pravilno rešili četrto nalogo.\n",
    "\n",
    "To niti ni naloga iz numpyja. Napisati bo potrebno napisati nekaj zank; numpy najbrž ne bo v posebno pomoč.\n",
    "\n",
    "#### Rešitev\n",
    "\n",
    "To je bila pravzprav edina programerska naloga: pri vseh ostalih je bilo potrebno bolj ali manj le poklicati pravo funkcijo.\n",
    "\n",
    "Tole je ena od možnih rešitev."
   ]
  },
  {
   "cell_type": "code",
   "execution_count": 9,
   "id": "3951db33-3312-445b-9ae0-bea5be60107e",
   "metadata": {},
   "outputs": [],
   "source": [
    "def vracanje(razlike):\n",
    "    premalo = -1\n",
    "    prevec = -1\n",
    "    prevoz = np.zeros((len(razlike), len(razlike)), dtype=int)\n",
    "    while True:\n",
    "        while premalo == -1 or razlike[premalo] >= 0:\n",
    "            if premalo == len(razlike) - 1:\n",
    "                return prevoz\n",
    "            premalo += 1\n",
    "        while prevec == -1 or razlike[prevec] <= 0:\n",
    "            prevec += 1\n",
    "        koles = min(-razlike[premalo], razlike[prevec])\n",
    "        prevoz[prevec][premalo] = koles\n",
    "        razlike[premalo] += koles\n",
    "        razlike[prevec] -= koles"
   ]
  },
  {
   "cell_type": "markdown",
   "id": "2f3e008f-d8a1-41f7-8391-aebc701ccc4d",
   "metadata": {},
   "source": [
    "`prevoz` je tabela, ki jo bomo vrnili na koncu. Pred (zunanjo) zanko vanjo vpišemo same ničle. `premalo` bo številka postaje, ki ima premalo koles, `prevec` pa stevilka postaje, na kateri je koles preveč.\n",
    "\n",
    "Bistvo vsega sta zanki, ki sta, zelo poenostavljeno videti takole.\n",
    "\n",
    "```\n",
    "        while razlike[premalo] >= 0:\n",
    "            premalo += 1\n",
    "        while razlike[prevec] <= 0:\n",
    "            prevec += 1\n",
    "```\n",
    "\n",
    "`razlike` je tabela, ki vsebuje negativna števila na postajah s premalo kolesi. `premalo` povečujemo toliko časa, dokler `razlike[premalo]` ni negativna - takrat smo našli postajo, ki potrebuje več koles. Podobno s `prevec`.\n",
    "\n",
    "Spremenljivki `premalo` in `prevec` v začetku nastavimo na `-1` in v `while` dodamo še `premalo == -1 or ` oz. `prevec == -1`, da bo stvar v začetku pravilno stekla.\n",
    "\n",
    "V prvo zanko smo dodali še pogoj `premalo == len(razlike) -1`. Ta pogoj bo resničen takrat, ko pride `premalo` do konca; takrat ni več nobene postaje, ki bi potrebovala več koles (ali imela odvečan kolesa, saj vemo, da je koles ravno toliko premalo kot preveč) in lahko vrnemo sestavljeno matriko `prevozi`.\n",
    "\n",
    "Zdaj, ko razumemo zanki, poglejmo, kar ji sledi.\n",
    "\n",
    "Ko imamo neko postajo s `premalo` kolesi in neko s `prevec`, se odločimo, koliko koles bomo prestavili: toliko, kot jih moremo. Če je na eni pet koles premalo, na drugi sedem preveč, jih prestavimo pet. Torej minimum. Minus pred `razlike[premalo]` je potreben, ker bo `razlike[premalo]` v tem primeru `-5`.\n",
    "\n",
    "Ko vemo, koliko koles prestaviti, jih prestavimo: v `prevoz` zapišemo, da bomo iz `prevec` v `premalo` prestavili `koles` koles, nato dodamo ta kolesa v `razlike[premalo]` in jih pobrišemo iz `razlike[prevec]`.\n",
    "\n",
    "(Detajl: funkcija je nekoliko napačna. V začetku bi morali napisati še kaj v slogu `razlike = razlike.copy()`. Naj razume, kdor hoče; ostali se ne vznemirjajte.)\n",
    "\n",
    "Še ena zanimiva rešitev je"
   ]
  },
  {
   "cell_type": "code",
   "execution_count": 10,
   "id": "e2294405-d91a-464f-8347-c4dd341e092e",
   "metadata": {},
   "outputs": [],
   "source": [
    "def vracanje(razlike):\n",
    "    premalo = [(i, -x) for i, x in enumerate(razlike) if x < 0]\n",
    "    prevec = [(i, x) for i, x in enumerate(razlike) if x > 0]\n",
    "    prevoz = np.zeros((len(razlike), len(razlike)), dtype=int)\n",
    "    while premalo:\n",
    "        kam, koliko = premalo.pop()\n",
    "        odkod, razpolozljivo = prevec.pop()\n",
    "        if razpolozljivo > koliko:\n",
    "            prevoz[odkod][kam] = koliko\n",
    "            prevec.append((odkod, razpolozljivo - koliko))\n",
    "        else:\n",
    "            prevoz[odkod][kam] = razpolozljivo\n",
    "            if razpolozljivo != koliko:\n",
    "                premalo.append((kam, koliko - razpolozljivo))\n",
    "    return prevoz"
   ]
  },
  {
   "cell_type": "markdown",
   "id": "425b6335-7af1-4146-acaa-9ca065dbea3f",
   "metadata": {},
   "source": [
    "Ta je po svoje elegantnejša, vendar sem prelen, da bi razlagal še to. :)"
   ]
  }
 ],
 "metadata": {
  "kernelspec": {
   "display_name": "Python 3 (ipykernel)",
   "language": "python",
   "name": "python3"
  },
  "language_info": {
   "codemirror_mode": {
    "name": "ipython",
    "version": 3
   },
   "file_extension": ".py",
   "mimetype": "text/x-python",
   "name": "python",
   "nbconvert_exporter": "python",
   "pygments_lexer": "ipython3",
   "version": "3.12.7"
  }
 },
 "nbformat": 4,
 "nbformat_minor": 5
}
