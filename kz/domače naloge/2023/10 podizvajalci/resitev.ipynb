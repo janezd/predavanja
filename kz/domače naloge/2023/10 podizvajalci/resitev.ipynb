{
 "cells": [
  {
   "cell_type": "markdown",
   "id": "104d919b",
   "metadata": {},
   "source": [
    "Na predavanju smo delali z rodbino, ki se je začela z Adamom ter končala z Aleksandrom.\n",
    "\n",
    "Par popravkov.\n",
    "\n",
    "1. Starost, ki je zapisana pri Eriku, je napačna. Pravilna je 38 (s 83 leti bi bil starejši od svojega očeta).\n",
    "2. Te številke v resnici niso letnice, temveč cene. Drevo pa ne kaže rodbine, temveč gre za drevo podizvajalcev cenitev za dražbo.\n",
    "\n",
    "Pravilno je torej tako."
   ]
  },
  {
   "cell_type": "code",
   "execution_count": 1,
   "id": "d8e756ee",
   "metadata": {},
   "outputs": [],
   "source": [
    "podizvajalci = {\n",
    "    \"Adam\": [\"Matjaž\", \"Cilka\", \"Daniel\"],\n",
    "    \"Aleksander\": [],\n",
    "    \"Alenka\": [],\n",
    "    \"Barbara\": [],\n",
    "    \"Cilka\": [],\n",
    "    \"Daniel\": [\"Elizabeta\", \"Hans\"],\n",
    "    \"Erik\": [],\n",
    "    \"Elizabeta\": [\"Ludvik\", \"Jurij\", \"Barbara\"],\n",
    "    \"Franc\": [],\n",
    "    \"Herman\": [\"Margareta\"],\n",
    "    \"Hans\": [\"Herman\", \"Erik\"],\n",
    "    \"Jožef\": [\"Alenka\", \"Aleksander\", \"Petra\"],\n",
    "    \"Jurij\": [\"Franc\", \"Jožef\"],\n",
    "    \"Ludvik\": [],\n",
    "    \"Margareta\": [],\n",
    "    \"Matjaž\": [\"Viljem\"],\n",
    "    \"Petra\": [],\n",
    "    \"Tadeja\": [],\n",
    "    \"Viljem\": [\"Tadeja\"],\n",
    "}\n",
    "\n",
    "\n",
    "cene = {\"Adam\": 111,\n",
    "        \"Matjaž\": 90, \"Cilka\": 88, \"Daniel\": 85,\n",
    "        \"Viljem\": 58, \"Elizabeta\": 67, \"Hans\": 64,\n",
    "        \"Tadeja\": 20, \"Ludvik\": 50, \"Jurij\": 49, \"Barbara\": 45, \"Herman\": 39, \"Erik\": 38,\n",
    "        \"Franc\": 30, \"Jožef\": 29, \"Margareta\": 3,\n",
    "        \"Alenka\": 9, \"Petra\": 7, \"Aleksander\": 5}"
   ]
  },
  {
   "cell_type": "markdown",
   "id": "ff034b27",
   "metadata": {},
   "source": [
    "## Obvezna naloga\n",
    "\n",
    "Cenitev naročimo pri eni od oseb v drevesu. V resnici pa dela ne opravi ta oseba, temveč cenitev delegira osebam, pod sabo. Pa tudi te ne opravijo dela same, temveč ga delegirajo. Šele oseba, ki nima podizvajalcev, dejansko opravi delo.\n",
    "\n",
    "Kakšna je cena?\n",
    "- Če delo naročimo pri Alenki, bo cena 9 - kolikor piše.\n",
    "- Če delo naročimo pri Jožefu, ga bo delegiral Alenki, Petri in Aleksandru. Ti bodo zahtevali 9 + 7 + 5 cekinov. Jožef si vzame še 10 % provizije, torej bo skupna cena (9 + 7 + 5) * 1.1 = 23,1 cekinov.\n",
    "- Če delo naročimo pri Juriju, ga bo delegiral Francu in Jožefu. Franc zahteva 30 cekinov, Jurij pa, kot smo pravkar izračunali, vemo 23,1. Jurij na to vzame 10 %, torej je cena (30 + 23.1) * 1.1 = 58,41 cekinov.\n",
    "- Če delo naročimo pri Elizabeti, bo to stalo 50 (Ludvik) in 58,41 (Jurij) in 45 cekinov + provizija, torej (50 + 58,41 + 45) * 1.1 = 168,751 cekinov.\n",
    "\n",
    "Napišite naslednje funkcije.\n",
    "\n",
    "- `velikost_ekipe(oseba)` prejme ime osebe in vrne število vseh oseb, ki jih ta oseba delegira, vključno z njo.\n",
    "- `koncni_izvajalci(oseba)` prejme ime osebe in vrne seznam vseh oseb, ki bodo dejansko opravile delo. To so tiste osebe, ki nimajo podizvajalcev.\n",
    "- `cena(oseba)` prejme ime osebe in vrne ceno, ki jo bo ta oseba zaračunala za delo (tako kot smo računali v gornjem primeru).\n",
    "\n",
    "### Rešitev\n",
    "\n",
    "Prva naloga je seveda prvo, kar smo s to rodbino delali na predavanjih. Zanima nas \"velikost rodbine\"."
   ]
  },
  {
   "cell_type": "code",
   "execution_count": 2,
   "id": "90335c12",
   "metadata": {},
   "outputs": [],
   "source": [
    "def velikost_ekipe(oseba):\n",
    "    velikost = 1\n",
    "    for podizvajalec in podizvajalci[oseba]:\n",
    "        velikost += velikost_ekipe(podizvajalec)\n",
    "    return velikost"
   ]
  },
  {
   "cell_type": "markdown",
   "id": "bda7f082",
   "metadata": {},
   "source": [
    "Ali, krajše,"
   ]
  },
  {
   "cell_type": "code",
   "execution_count": 3,
   "id": "807155a5",
   "metadata": {},
   "outputs": [],
   "source": [
    "def velikost_ekipe(oseba):\n",
    "    return 1 + sum(velikost_ekipe(otrok) for otrok in podizvajalci[oseba])"
   ]
  },
  {
   "cell_type": "markdown",
   "id": "8eea4f14",
   "metadata": {},
   "source": [
    "Druga naloga sprašuje po članih rodbine, ki nimajo potomcev. To je podobno, kot da bi nabirali člane rodbine, vendar je pri nabiranju članov vsak dal v množico tudi sebe, tu pa se dodajo v množico le tisti, ki nimajo potomcev. Oziroma, v tej zgodbici, podizvajalcev.\n",
    "\n",
    "Skratka, tisti, ki nimajo podizvajalcev, vrnejo množico, ki vsebuje njih same. Tisti, ki jih imajo, vrnejo unijo množic, ki jih vrnejo njihovi podizvajalci."
   ]
  },
  {
   "cell_type": "code",
   "execution_count": 4,
   "id": "f0cbf955",
   "metadata": {},
   "outputs": [],
   "source": [
    "def koncni_izvajalci(oseba):\n",
    "    if podizvajalci[oseba] == []:\n",
    "        return {oseba}\n",
    "    \n",
    "    pod = set()\n",
    "    for podizvajalec in podizvajalci[oseba]:\n",
    "        pod |= koncni_izvajalci(podizvajalec)\n",
    "    return pod"
   ]
  },
  {
   "cell_type": "markdown",
   "id": "65a24ab3",
   "metadata": {},
   "source": [
    "Tretja naloga je na nek način podobna. Tisti, ki nimajo podizvajalcev, vrnejo svojo ceno. Tisti, ki jih imajo, vrnejo vsoto cen podizvajalcev, pomnoženo z 1.1."
   ]
  },
  {
   "cell_type": "code",
   "execution_count": 5,
   "id": "f0e85e97",
   "metadata": {},
   "outputs": [],
   "source": [
    "def cena(oseba):\n",
    "    if podizvajalci[oseba] == []:\n",
    "        return cene[oseba]\n",
    "\n",
    "    skupna = 0\n",
    "    for podizvajalec in podizvajalci[oseba]:\n",
    "        skupna += cena(podizvajalec)\n",
    "    return 1.1 * skupna"
   ]
  },
  {
   "cell_type": "markdown",
   "id": "ee83b941",
   "metadata": {},
   "source": [
    "Ali, krajše,"
   ]
  },
  {
   "cell_type": "code",
   "execution_count": 6,
   "id": "54ce1f9d",
   "metadata": {},
   "outputs": [],
   "source": [
    "def cena(oseba):\n",
    "    if podizvajalci[oseba] == []:\n",
    "        return cene[oseba]\n",
    "    return 1.1 * sum((cena(otrok) for otrok in podizvajalci[oseba]))"
   ]
  },
  {
   "cell_type": "markdown",
   "id": "0cc4278b",
   "metadata": {},
   "source": [
    "## Dodatna naloga\n",
    "\n",
    "EU ugotovi, da tole s podizvajalci ne gre nikamor več. Zato sprejme uredbo, po kateri je za določen tip dela dovoljeno najemati podizvajalce le do določene globine. Če je globina 0, to pomeni, da mora delo opraviti ta, ki smo ga najeli. Če je globina 1, to pomeni, da sme najemati le neposredne podizvajalce. Če je globina 2, smejo neposredni podizvajalci najeti podizvajalce na naslednjem nivoju, ti pa ne smejo najemati svojih podizvajalcev. In tako naprej.\n",
    "\n",
    "Če za delo najamemo Adama in je globina omejena na 2, bodo delo opravili Viljem, Cilka, Elizabeta in Hans. (Pazi: Cilka je sicer takoj pod Adamom, vendar nima podizvajalcev, zato dela sama.)\n",
    "\n",
    "Vsem funkcijam, ki si jih sprogramiral(a) za obvezno nalogo, dodaj še argument `globina` in poskrbi, da bodo vračale rezultate, skladne z uredbo.\n",
    "\n",
    "### Rešitev\n",
    "\n",
    "Vse bistvo naloge je v tem, da uvidimo, da je dodatni argument v vsakem klicu za 1 manjši. Če nekomu dovolimo `n` nivojem podizvajalcev, smejo imeti njegovi neposredni podizvajalci `n - 1` nivojev. Ko pride `n` do `0`, se vedemo, kot da nekdo nima podizvajalcev."
   ]
  },
  {
   "cell_type": "code",
   "execution_count": 7,
   "id": "3ca1f50e",
   "metadata": {},
   "outputs": [],
   "source": [
    "def velikost_ekipe(oseba, n):\n",
    "    velikost = 1\n",
    "    if n > 0:\n",
    "        for podizvajalec in podizvajalci[oseba]:\n",
    "            velikost += velikost_ekipe(podizvajalec, n - 1)\n",
    "    return velikost\n",
    "\n",
    "\n",
    "def koncni_izvajalci(oseba, n):\n",
    "    if n == 0 or podizvajalci[oseba] == []:\n",
    "        return {oseba}\n",
    "    pod = set()\n",
    "    for otrok in podizvajalci[oseba]:\n",
    "        pod |= koncni_izvajalci(otrok, n - 1)\n",
    "    return pod\n",
    "\n",
    "\n",
    "def cena(oseba, n):\n",
    "    if n == 0 or podizvajalci[oseba] == []:\n",
    "        return cene[oseba]\n",
    "    return 1.1 * sum((cena(otrok, n - 1) for otrok in podizvajalci[oseba]))"
   ]
  }
 ],
 "metadata": {
  "kernelspec": {
   "display_name": "Python 3 (ipykernel)",
   "language": "python",
   "name": "python3"
  },
  "language_info": {
   "codemirror_mode": {
    "name": "ipython",
    "version": 3
   },
   "file_extension": ".py",
   "mimetype": "text/x-python",
   "name": "python",
   "nbconvert_exporter": "python",
   "pygments_lexer": "ipython3",
   "version": "3.11.5"
  }
 },
 "nbformat": 4,
 "nbformat_minor": 5
}
