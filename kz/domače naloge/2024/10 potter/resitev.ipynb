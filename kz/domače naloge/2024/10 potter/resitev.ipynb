{
 "cells": [
  {
   "cell_type": "markdown",
   "id": "017eaf7c-c24d-447a-a87b-89eb6b74267b",
   "metadata": {},
   "source": [
    "# Albus Percival Wulfric Brian Dumbledore\n",
    "\n",
    "## Ocena 6\n",
    "\n",
    "Za oceno 6 bo potrebno pokazati, da znamo brati datoteke csv ter delati z nizi in slovarji.\n",
    "\n",
    "\n",
    "V datoteki osebe.csv se nahajajo polna imena vseh oseb iz Harryja Potterja (žal tudi iz kasnejših \"dodatkov\") in še neke povezave, ki so sicer zanimive, vendar nepovezane z našo nalogo.\n",
    "\n",
    "Napiši naslednje funkcije:"
   ]
  },
  {
   "cell_type": "markdown",
   "id": "cc927e22-982d-4499-9492-b1968e64479c",
   "metadata": {},
   "source": [
    "### `brez_dodatkov(ime)`\n",
    "\n",
    "- Napišite funkcijo `brez_dodatkov(ime)`, ki prejme polno ime osebe in vrne ime te osebe brez \"dodatkov\". Klic `brez_dodatkov(\"Mrs. Molly Weasley\")` vrne `\"Molly Weasley\"`, klic `brez_dodatkov(\"Cygnus Black III\")` vrne `\"Cygnus Blake\"` in klic `brez_dodatkov(\"Madame Rolanda Hooch\")` vrne `\"Rolanda Hooch\"`. Dodatki, ki jih morate odstraniti, so `'Mr. ', 'Mrs. ', ' III', ' II', ' I', 'the ', 'The ', ' Jr.', 'Sir ', 'Madam ', 'Madame '`. (V seznamu sem prijazno dodal presledke pred ali za \"dodatek\"; to bi vam lahko pomagalo, če vam ne, pa jih pobrišite.)\n",
    "\n",
    "    **Pazi:** `\"Sirius Black III\"` mora postati `\"Sirius Black\"`, ne `\"ius Black\"`!\n",
    "\n",
    "#### Rešitev\n",
    "\n",
    "Tale naloga ni nič posebnega, tu je bolj zato, da si pripravimo imena za nadaljevanje. No, po drugi strani tudi ni nič narobe, če malo pomislimo in povedimo."
   ]
  },
  {
   "cell_type": "code",
   "execution_count": 1,
   "id": "9b97a7f3-d44f-43b8-9351-bfa654606a4a",
   "metadata": {},
   "outputs": [],
   "source": [
    "def brez_dodatkov(s):\n",
    "    dodatki = [\"Mr. \", \"Mrs. \", \" III\", \" II\", \" I\", \"the \", \" Jr.\", \"Sir \", \"Madam \", \"Madame \"]\n",
    "    for dodatek in dodatki:\n",
    "        s = s.replace(dodatek, \"\")\n",
    "    return s"
   ]
  },
  {
   "cell_type": "markdown",
   "id": "1f25b702-c63d-4735-89a3-806085413086",
   "metadata": {},
   "source": [
    "Pazite na presledke: presledek večinoma sledi dodatku (recimo pri `\"Mr. \"`), včasih pa je pred njim (pri `\" III\"`)."
   ]
  },
  {
   "cell_type": "markdown",
   "id": "b84fb8c9-66ca-4779-a91b-feffb0955d75",
   "metadata": {},
   "source": [
    "### `po_priimkih()`\n",
    "\n",
    "- `po_priimkih()` vrne slovar, katerega ključi so priimki oseb, imena pa množice imen oseb s takšnim priimkom. Predtem tem moraš iz imena pobrisati \"dodatke\" - kot je opisano zgoraj.\n",
    "\n",
    "    - Če je za osebo znano le eno ime (Kreacher, Nagini), brez priimka, naj se ne pojavi v slovarju.\n",
    "\t- Če ima oseba več imen, je priimek zadnji, ime pa je prvo. V `\"Albus Percival Wulfric Brian Dumbledore\"` je priimek Dumbledore, ime pa Albus.\n",
    "\n",
    "\tV slovarju, ki ga vrne `po_priimkih`, je pri ključu `\"Dumbledore\"` vrednost `{'Albus', 'Ariana', 'Percival', 'Kendra', 'Aberforth'}`.\n",
    "\n",
    "#### Rešitev\n",
    "\n",
    "Da se izognemo preverjanju, ali smo določen priimek že srečali ali ne, bomo uporabili `defaultdict`. Ostalo gre točno po navodilih: vzamemo imena in priimke, odstranimo dodatke, razdelimo na deli. Če sta dela vsaj dva, je ničti element ime, zadnji pa priimek. Dodamo ju v slovar, kot pravi naloga."
   ]
  },
  {
   "cell_type": "code",
   "execution_count": 2,
   "id": "2a451ee6-3e10-42c9-a5a2-9f23825e8db4",
   "metadata": {},
   "outputs": [],
   "source": [
    "from collections import defaultdict\n",
    "\n",
    "def po_priimkih():\n",
    "    priimki = defaultdict(set)\n",
    "    for vrstica in open(\"osebe.csv\", encoding=\"utf-8\"):\n",
    "        ime = vrstica.strip().split(\",\")[1]\n",
    "        deli = brez_dodatkov(ime).split()\n",
    "        if len(deli) >= 2:\n",
    "            priimki[deli[-1]].add(deli[0])\n",
    "    return priimki"
   ]
  },
  {
   "cell_type": "markdown",
   "id": "cd9a4529-44ed-47ae-9f86-b1b6f00ae5a2",
   "metadata": {},
   "source": [
    "### `unikatni_priimki()`\n",
    "\n",
    "- `unikatni_priimki()` vrne množico priimkov, ki jih ima le ena oseba.\n",
    "\n",
    "#### Rešitev"
   ]
  },
  {
   "cell_type": "code",
   "execution_count": 3,
   "id": "c6343813-c4c3-4458-a321-4db2cdb8b1e7",
   "metadata": {},
   "outputs": [],
   "source": [
    "def unikatni_priimki():\n",
    "    return {priimek for priimek, imena in po_priimkih().items() if len(imena) == 1}"
   ]
  },
  {
   "attachments": {},
   "cell_type": "markdown",
   "id": "612df9e0-f3fb-4673-8cb0-9ac9d68c90bb",
   "metadata": {},
   "source": [
    "#### `imena()`\n",
    "\n",
    "- `imena()` vrne množico z vsemi (prvimi) imeni vseh oseb.\n",
    "\n",
    "#### Rešitev\n",
    "\n",
    "Tu sem naredil napako. Nalogo sem rešil z\n",
    "\n",
    "```python\n",
    "def imena():\n",
    "    return set(chain(*po_priimkih().values()))\n",
    "```\n",
    "\n",
    "To na hitro pobere vsa imena iz, ki se nahajajo v vseh množicah, ki jih pripravi `po_priimkih`. Kako deluje, ni zelo pomembno; pomembno je, da sem bil len in zato izpustil vse osebe, ki nimajo priimka ... in objavil napačne teste. Kot pravilno sem upošteval svojo rešitev, pa tudi pravilno rešitev, ki je, recimo"
   ]
  },
  {
   "cell_type": "code",
   "execution_count": 4,
   "id": "294b13e7-b483-4495-b9dc-bd47c6317af2",
   "metadata": {},
   "outputs": [],
   "source": [
    "def imena():\n",
    "    vsa = set()\n",
    "    for vrstica in open(\"osebe.csv\", encoding=\"utf-8\"):\n",
    "        ime = vrstica.strip().split(\",\")[1]\n",
    "        ime = brez_dodatkov(ime).split()[0]\n",
    "        vsa.add(ime)\n",
    "    return vsa"
   ]
  },
  {
   "cell_type": "markdown",
   "id": "6be58ee1-386a-4683-a1f9-5b84ceba1c96",
   "metadata": {},
   "source": [
    "## Ocena 7\n",
    "\n",
    "- `podvojena_imena()` vrne množico imen, ki jih ima več oseb. Upoštevaj le prvo ime vsake oseba (npr. Albus in ne tudi Percival, Wulfric, Brian).\n",
    "\n",
    "### Rešitev\n",
    "\n",
    "Spet beremo datoteko z osebami, le da tokrat štejemo imena. Na koncu zložimo v množico tista imena, pri katerih je ključ (število imen) večji od `1`."
   ]
  },
  {
   "cell_type": "code",
   "execution_count": 5,
   "id": "af27cd94-d4f1-48c7-8da2-30c80281279f",
   "metadata": {},
   "outputs": [],
   "source": [
    "def podvojena_imena():\n",
    "    stevilo_imen = defaultdict(int)\n",
    "    for vrstica in open(\"osebe.csv\", encoding=\"utf-8\"):\n",
    "        ime = vrstica.strip().split(\",\")[1]\n",
    "        ime = brez_dodatkov(ime).split()[0]\n",
    "        stevilo_imen[ime] += 1\n",
    "        \n",
    "    podvojena = set()\n",
    "    for ime, stevilo in stevilo_imen.items():\n",
    "        if stevilo > 1:\n",
    "            podvojena.add(ime)\n",
    "    return podvojena"
   ]
  },
  {
   "cell_type": "markdown",
   "id": "a0ccd4e9-b15c-400d-b81f-1fec1ecfe0c4",
   "metadata": {},
   "source": [
    "Drugi del lahko skrajšamo z izpeljano množico."
   ]
  },
  {
   "cell_type": "code",
   "execution_count": 6,
   "id": "7cc218b2-60ff-4e3a-9031-ef0dd28268cd",
   "metadata": {},
   "outputs": [],
   "source": [
    "def podvojena_imena():\n",
    "    stevilo_imen = defaultdict(int)\n",
    "    for vrstica in open(\"osebe.csv\", encoding=\"utf-8\"):\n",
    "        ime = vrstica.strip().split(\",\")[1]\n",
    "        ime = brez_dodatkov(ime).split()[0]\n",
    "        stevilo_imen[ime] += 1\n",
    "    return {ime for ime, stevilo in stevilo_imen.items() if stevilo > 1}"
   ]
  },
  {
   "cell_type": "markdown",
   "id": "f7c29522-7901-419e-8d01-af833eecd6d2",
   "metadata": {},
   "source": [
    "### `omembe(besede, beseda)\n",
    "\n",
    "- `omembe(besede, beseda)` prejme seznam besed in vrne indekse, na katerih se pojavi podana beseda.\n",
    "\n",
    "    Klic `omembe(potter6, \"Harry)`, kjer je `potter6` seznam vseh besed 6. dela Harryja Potterja, vrne vse indekse vseh pojavitev besede `\"Harry\"`. (Testi bodo v resnici prejeli tak seznam, pri čemer bodo vsa imena spremenjena v osebna imena, npr. Albus in ne Dumbledore.)\n",
    "\n",
    "#### Rešitev\n",
    "\n",
    "Tu se moramo spomniti na `enumerate`. No, ni nujno, je pa dobro."
   ]
  },
  {
   "cell_type": "code",
   "execution_count": 7,
   "id": "74a91848-f1d8-4508-a569-037a9cec0f13",
   "metadata": {},
   "outputs": [],
   "source": [
    "def omembe(besede, beseda):\n",
    "    indeksi = []\n",
    "    for i, b in enumerate(besede):\n",
    "        if b == beseda:\n",
    "            indeksi.append(i)\n",
    "    return indeks"
   ]
  },
  {
   "cell_type": "markdown",
   "id": "04b3e414-7832-49bc-bcf6-8650f8a2a198",
   "metadata": {},
   "source": [
    "Krajše je z izpeljanim seznamom:"
   ]
  },
  {
   "cell_type": "code",
   "execution_count": 8,
   "id": "d1df71c9-12f5-4f94-b2d1-3c58502dc79b",
   "metadata": {},
   "outputs": [],
   "source": [
    "def omembe(besede, beseda):\n",
    "    return [i for i, b in enumerate(besede) if b == beseda]"
   ]
  },
  {
   "cell_type": "markdown",
   "id": "c7fd5246-27bc-4f46-a535-ef629a165cee",
   "metadata": {},
   "source": [
    "## Ocena 8\n",
    "\n",
    "### `po_blokih(besede, beseda, sirina)`\n",
    "\n",
    "- `po_blokih(besede, beseda, sirina)` prejme seznam besed, besedo in širino bloka. Vrniti mora število pojavitev podane besede v blokih besed s podano širino. Klic `po_blokih(potter6, \"Harry\", 2000)` vrne seznam, ki pove, kolikokrat se Harry pojavi v prvih 2000, v naslednjih 2000, naslednjih 2000 in tako besedah. Če zadnji blok ni poln (ker število besed ni deljivo s širino bloka), ga ignoriraj.\n",
    "\n",
    "#### Rešitev\n",
    "\n",
    "Z `i` bomo šteli bloke: `len(besede) // sirina` jih bo. Vsak blok se začne pri `i * sirina` in konča pri `(i + 1) * sirina`.\n",
    "\n",
    "Vzamemo besede v tem bloku, `besede[i * sirina: (i + 1) * sirina]` in preštejemo, kolikokrat se pojavi iskana beseda, `.count(beseda)`. To dodajamo v seznam, ki ga na koncu vrnemo."
   ]
  },
  {
   "cell_type": "code",
   "execution_count": 9,
   "id": "4e2aa603-1d4c-4bc2-b4f2-0c7eb4ed0755",
   "metadata": {},
   "outputs": [],
   "source": [
    "def po_blokih(besede, beseda, sirina):\n",
    "    stevci = []\n",
    "    for i in range(len(besede) // sirina):\n",
    "        stevci.append(besede[i * sirina: (i + 1) * sirina].count(beseda))\n",
    "    return stevci"
   ]
  },
  {
   "cell_type": "markdown",
   "id": "b6cd1671-58a9-4015-b6af-11b9e7f0d882",
   "metadata": {},
   "source": [
    "Spet gre tudi krajše."
   ]
  },
  {
   "cell_type": "code",
   "execution_count": 10,
   "id": "e710d897-d6bb-44d1-a0c0-013dd333cd2e",
   "metadata": {},
   "outputs": [],
   "source": [
    "def po_blokih(besede, beseda, sirina):\n",
    "    return [besede[sirina * i: sirina * (i + 1)].count(beseda) for i in range(len(besede) // sirina)]"
   ]
  },
  {
   "cell_type": "markdown",
   "id": "edadbd9d-7020-4876-83ef-fa3731a88ddc",
   "metadata": {},
   "source": [
    "Na prvi pogled bi bil tu (tako v krajši kot v daljši različici) uporaban `for i in range(0, len(besede), sirina)`, saj je blok potem kar `besede[i:i + sirina]`. Žal se zaplete pri zadnjem, necelem bloku, tako da s tem nič kaj dosti ne pridobimo."
   ]
  },
  {
   "cell_type": "markdown",
   "id": "bcb51f9a-d4f8-45fa-b953-483b892d6f50",
   "metadata": {},
   "source": [
    "### `imena_po_blokih(besede, imena, sirina)`\n",
    "\n",
    "- `imena_po_blokih(besede, imena, sirina)` vrne podobno reč, a v obliki numpyjeve matrike: vrstice predstavljajo bloke, stolpci imena iz podanega seznama imen. Element [i, j] pove, kolikokrat se j-to ime pojavi v i-tem bloku besed.\n",
    "\n",
    "#### Rešitev"
   ]
  },
  {
   "cell_type": "code",
   "execution_count": 11,
   "id": "65f69950-0a51-4494-85e4-11a10d1b05d2",
   "metadata": {},
   "outputs": [],
   "source": [
    "def imena_po_blokih(besede, imena, sirina):\n",
    "    stevci = np.zeros((len(besede) // sirina, len(imena)), dtype=int)\n",
    "    for i, ime in enumerate(imena):\n",
    "        stevci[:, i] = po_blokih(besede, ime, sirina)\n",
    "    return stevci"
   ]
  },
  {
   "cell_type": "markdown",
   "id": "2964c4d6-ec9f-4102-92f6-0ca2828f8b7a",
   "metadata": {},
   "source": [
    "Pripravimo tabelo ustrezne velikosti. Nato gremo prek imen: v `i`-ti stolpec shranimo, kar `po_blokih` vrne za pripadajoče `ime`.\n",
    "\n",
    "Krajša rešitev je, da pripravimo seznam tega, kar vrne `po_blokih` in ta seznam (seznamov) spremenimo v `array`. Ker bodo v takšni tabeli imena po vrsticah in ne po stolpcih, ga še transponiramo s `.T`."
   ]
  },
  {
   "cell_type": "code",
   "execution_count": 12,
   "id": "94eed23f-0124-49c2-bc76-fc06d814c7a2",
   "metadata": {},
   "outputs": [],
   "source": [
    "def imena_po_blokih(besede, imena, sirina):\n",
    "    return np.array([po_blokih(besede, ime, sirina) for ime in imena]).T"
   ]
  },
  {
   "cell_type": "markdown",
   "id": "27e035c5-bffe-4970-967e-b246dc37c91f",
   "metadata": {},
   "source": [
    "## Ocena 9\n",
    "\n",
    "- `sosed(besede, ime, sirina)` vrne slovar, katerega ključi so imena, ki se vsaj enkrat pojavijo za največ `sirina` mest stran od podanega imena (če je `sirina` enaka, na primer, `2`, sme biti med imenoma največ ena beseda). Pripadajoče vrednosti so število takšnih pojavitev. Večkratne pojavitve se štejejo večkrat.\n",
    "\n",
    "  Klic `sosed(\"Harry and Ron met Romilda and Romilda asked Harry about Ron\".split(), \"Harry\", 2)` vrne `{\"Ron\": 2, \"Romilda\": 1}`. Ron se dvakrat pojavi na razdalji (največ) 2, Romilda pa enkrat.\n",
    "\n",
    "  Klic `sosed(\"Harry and Ron met Romilda and Romilda asked Harry about Ron\".split(), \"Harry\", 4)` vrne `{\"Ron\": 2, \"Romilda\": 3}`. Ron se dvakrat pojavi na razdalji (največ) 2, Romilda pa trikrat (ena Romilda je dovolj blizu obeh Harryjev).\n",
    "\n",
    "### Rešitev"
   ]
  },
  {
   "cell_type": "code",
   "execution_count": 13,
   "id": "78446c03-c6d6-4b13-bf90-267b3c5f497c",
   "metadata": {},
   "outputs": [],
   "source": [
    "def sosed(besede, ime, sirina):\n",
    "    pojavitve = defaultdict(int)\n",
    "    for i in omembe(besede, ime):\n",
    "        blok = besede[max(0, i - sirina): i + sirina + 1]\n",
    "        for ime2 in imena():\n",
    "            if ime == ime2:\n",
    "                continue\n",
    "            c = blok.count(ime2)\n",
    "            if c > 0:\n",
    "                pojavitve[ime2] += c\n",
    "    return pojavitve"
   ]
  },
  {
   "cell_type": "markdown",
   "id": "acdf55ec-cc58-49e8-b296-8875c7b0eea1",
   "metadata": {},
   "source": [
    "Najprej poiščemo vse omembe podanega `imena`. Za vsak indeks `i` nas zanima blok besed `besede[i - sirina:i + sirina + 1]`. Pri tem pa se lahko zgodi, da bo `i - sirina` negativen in blok `besede[-5:1]` najbrž ni to, kar smo imeli v mislih. Kadar je `i - sirina` negativen, se mora blok začeti pri `0`, kar najbolj elegantno dosežemo s tem, da blok začnemo pri `max(0, i - sirina)`.\n",
    "\n",
    "Nato gremo čez vsa `imena()`. Če je enako `ime`, nas ne zanima. Sicer preštejemo, kolikokrat se v `blok` pojavi to, drugo ime. Če se pojavlja, prištejemo število pojavitev k `pojavitve[ime2]`."
   ]
  },
  {
   "cell_type": "markdown",
   "id": "b29c5911-e3b9-45dd-94d3-5216c5e95d9f",
   "metadata": {},
   "source": [
    "## Ocena 10\n",
    "\n",
    "### `sovpadanje(besede, ime1, ime2, sirina)`\n",
    "\n",
    "- `sovpadanje(besede, ime1, ime2, sirina)`. Tudi ta prejme besedilo knjige in ga spusti čez funkcijo `po_imenih`. Nato izračuna \"prekrivanje\" med osebama po naslednjem postopku. Recimo, da pokličemo `sovpadanje(besede, \"Ginny\", \"Romilda\", 20)`.\n",
    "\n",
    "    - Recimo, da se \"Ginny\" pojavi na indeksih 100, 110, 180, in 250. Tedaj bomo rekli, da Ginny, \"pokriva\" mesta od 80 do 120 (vključno!), od 90 do 130, od 160 do 200 in od 230 do 270 -- torej besedo, na kateri se pojavi in še 20 besed levo in desno, ker smo 20 podali kot argument `sirina`. Ker istega mesta na pokriva dvakrat, bi bilo prav reči, da pokriva 80 do 130, 160 do 200 in 230 do 270.\n",
    "    - Recimo, da se \"Romilda\" pojave na indeksih 5, 70 in 255. Potem pokriva -15 do 25, 50 do 90 in 235 do 275.\n",
    "\n",
    "    Prekrivanje med njima je potem od 80 do 90 in od 235 do 270. Velikost prekrivanje je 11 + 36 = 47. To je rezultat, ki ga mora vrniti funkcija.\n",
    "\n",
    "    Za preprostejši primer vzemimo klic\n",
    " \n",
    "    ```\n",
    "    sovpadanje(\"Harry and Ron met Romilda and Romilda asked Harry about Ron\".split(), ime1, ime2, 2)\n",
    "    ```\n",
    "  \n",
    "    Spodnja slika kaže, katera mesta pokriva katera beseda (mesta so lahko tudi po koncu besedila ali pred začetkom!).\n",
    "\n",
    "    ```\n",
    "                       Harry and Ron met Romilda and Romilda asked Harry about Ron\n",
    "    Harry:    X    X     X    X   X                     X       X     X     X   X\n",
    "    Ron:                 X    X   X   X     X                         X     X   X     X     X\n",
    "    Romilda:                      X   X     X     X     X       X     X\n",
    "    ```\n",
    "\n",
    "    Prekrivanje med Harry in Ron je 6 (kolikor je istoležnih indeksov v prvi in drugi vrstici), prekrivanje med Harry in Romilda (prva in zadnja vrstica) je 4, prekrivanje med Ron in Romilda pa prav tako 4. \n",
    "\n",
    "    Če zmanjšamo širino na 1,\n",
    "\n",
    "    ```\n",
    "                   Harry and Ron met Romilda and Romilda asked Harry about Ron\n",
    "    Harry:     X     X    X                                 X     X     X   \n",
    "    Ron:                  X   X   X                                     X   X     X\n",
    "    Romilda:                      X     X     X     X       X    \n",
    "    ```\n",
    "\n",
    "    je prekrivanje med Harry in Ron je 2, med ostalima paroma pa 1.\n"
   ]
  },
  {
   "cell_type": "markdown",
   "id": "cd206703-e31b-4c37-8e23-867c2b96a3b4",
   "metadata": {},
   "source": [
    "#### Rešitev\n",
    "\n",
    "Napisali si bomo pomožno funkcijo `trak`, ki bo prejela enake argumente kot `sovpadanje` in vrnila tabelo z dvema vrsticama in toliko stolpci, kolikor je besed `+ 2 * sirina`. Torej tabelo, ki vsebuje natančno to, kar kažeta dve vrstici iz gornjega primera.\n",
    "\n",
    "Pripravljanje takšne tabele ni težko: naredimo tabelo ničel, nato gremo prek vseh omemb ene in druge osebe ter na `i: i + 2 * sirina + 1` zapiše same enke. \n",
    "\n",
    "Zakaj ne `i - sirina : i + sirina + 1`? Moramo upoštevati tudi mesta pred prvo besedo, se moramo dogovoriti, da bo prvi besedi ustrezal indeks `sirina`; tako bo najbolj levo mesto pred začetkom besedila, tisto s \"koordinato\" `-sirina` dobilo indeks `0`.\n",
    "\n",
    "Zakaj `+1`? Ker hočemo postaviti na `1` tudi mesto s \"koordinato\" `i + sirina`.\n",
    "\n",
    "Zakaj sploh dodatna funkcija? Ker jo bomo potrebovali za `sovpadanje` in za naslednjo funkcijo, ki jo moramo napisati, `podobnost`."
   ]
  },
  {
   "cell_type": "code",
   "execution_count": 14,
   "id": "a5cb09d3-9fb7-4fb8-ac9a-a203dfee0412",
   "metadata": {},
   "outputs": [],
   "source": [
    "def trak(besede, ime1, ime2, sirina):\n",
    "    trak = np.zeros((2, len(besede) + 2 * sirina), dtype=bool)\n",
    "    for i in omembe(besede, ime1):\n",
    "        trak[0, i:i + 2 * sirina + 1] = True\n",
    "    for i in omembe(besede, ime2):\n",
    "        trak[1, i:i + 2 * sirina + 1] = True\n",
    "    return trak"
   ]
  },
  {
   "cell_type": "markdown",
   "id": "bab5c761-e268-479a-85bc-e467c3431376",
   "metadata": {},
   "source": [
    "Ko imamo `trak`, je `sovpadanje` trivialno: z `&` naredimo logični \"in\" med vrsticama, potem pa preštejemo število neničelnih elementov."
   ]
  },
  {
   "cell_type": "code",
   "execution_count": 15,
   "id": "485f8d16-2d4f-4530-a5b7-e4f0ee0248f9",
   "metadata": {},
   "outputs": [],
   "source": [
    "def sovpadanje(besede, ime1, ime2, sirina):\n",
    "    t = trak(besede, ime1, ime2, sirina)\n",
    "    return np.sum(t[0] & t[1])"
   ]
  },
  {
   "cell_type": "markdown",
   "id": "a29b8b25-49ba-4c84-ab6c-fd4d673716fa",
   "metadata": {},
   "source": [
    "### `podobnost(besede, ime1, ime2, sirina)`\n",
    "\n",
    "- `podobnost(besede, ime1, ime2, sirina)` vrne podobno reč, le da število mest, ki jih pokrijeta obe imeni, deli s številom mest, ki ga pokrije vsaj eno od imen.\n",
    "\n",
    "#### Rešitev"
   ]
  },
  {
   "cell_type": "code",
   "execution_count": 16,
   "id": "0f974b3b-c6fc-4ce5-9c9b-a87c0b75b744",
   "metadata": {},
   "outputs": [],
   "source": [
    "def podobnost(besede, ime1, ime2, sirina):\n",
    "    t = trak(besede, ime1, ime2, sirina)\n",
    "    return np.sum(t[0] & t[1]).sum() / np.sum(t[0] | t[1])"
   ]
  }
 ],
 "metadata": {
  "kernelspec": {
   "display_name": "Python 3 (ipykernel)",
   "language": "python",
   "name": "python3"
  },
  "language_info": {
   "codemirror_mode": {
    "name": "ipython",
    "version": 3
   },
   "file_extension": ".py",
   "mimetype": "text/x-python",
   "name": "python",
   "nbconvert_exporter": "python",
   "pygments_lexer": "ipython3",
   "version": "3.12.7"
  }
 },
 "nbformat": 4,
 "nbformat_minor": 5
}
