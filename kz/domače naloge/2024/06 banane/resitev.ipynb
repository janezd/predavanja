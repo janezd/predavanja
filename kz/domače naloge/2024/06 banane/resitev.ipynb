{
 "cells": [
  {
   "cell_type": "markdown",
   "id": "1f3b8ac6-d611-428b-9a7d-e1c40243fe58",
   "metadata": {},
   "source": [
    "V priloženi datoteki zip so zato [podatki Svetovne banke in UNCTADa](https://wits.worldbank.org/trade/comtrade/en/country/ALL/year/1992/tradeflow/Imports/partner/WLD/product/080300#) o uvozu banan, spremenjeni v obliko .csv.\n",
    "\n",
    "**Odzipajte datoteko. V njej se nahaja datoteka testi.py, podatki pa so v poddirektoriju `podatki`. Podatke pustite tam, kjer so, program pa pišite v datoteko testi.py, ki je prav tako ne premikajte nikamor. Datotek ne preimenujte! Ko oddajate nalogo, oddajte samo testi.py.**\n",
    "\n",
    "V nekaterih nalogah je potrebno vrniti najcenejše, najdražje ali kaj podobnega, ali pa prvih `n` držav glede na nek kriterij. Ne ukvarjajte se s tem, da si morda več držav deli isto mesto, saj so številke dovolj raznolike, da se to najbrž ne zgodi.\n",
    "\n",
    "**Za določeno oceno je potrebno pravilno rešiti tudi vse naloge za nižje ocene.**\n",
    "\n",
    "## Ocena 6\n",
    "\n",
    "### `preberi_tezo` in `preberi_vrednost`\n",
    "\n",
    "1. Napišite funkcijo `preberi_tezo(leto)`, ki prebere podatke za podano `leto` in vrne slovar, katerega ključi so imena držav (Reporter), vrednosti pa so teže uvoženih banan, kot jih preberete iz stolpca Quantity. \n",
    "\n",
    "    Med državami je tudi \"European Union\". To \"državo\" preskočite. Prav tako preskočite vrstice, v katerih podatek manjka (\"Quantity\" je prazen).\n",
    "\n",
    "    Poleg tega napišite funkcijo `preberi_vrednost(leto)`, ki vrne podoben slovar, le da so vrednosti  vrendnost uvoženih banan v dolarjih (**številko iz tabele pomnožite s 1000). Tudi tu odstrani evropsko unijo.\n",
    "\n",
    "#### Rešitev\n",
    "\n",
    "Naloga preverja, ali znamo sestaviti slovar in uporabljati `DictReader`. S `split(\",\")` si tu ne moremo pomagati: v to nas prisilijo vejice znotraj podatkov.\n",
    "\n",
    "Omembe je vredno še sestavljanje imena datoteke. Navadno so ga naše funkcije dobile kot argument, tokrat pa kot argument dobijo letnico. Ime sestavimo z f-stringom `f\"podatki/Banane {leto}.csv\"`."
   ]
  },
  {
   "cell_type": "code",
   "execution_count": 1,
   "id": "0ebc515c-fe51-4dbb-9481-27e6fb4f26d1",
   "metadata": {},
   "outputs": [],
   "source": [
    "def preberi_tezo(leto):\n",
    "    uvoz = {}\n",
    "    for vrstica in csv.DictReader(open(f\"podatki/Banane {leto}.csv\")):\n",
    "        if vrstica[\"Quantity\"].strip() and vrstica[\"Reporter\"] != \"European Union\":\n",
    "            uvoz[vrstica[\"Reporter\"]] = int(vrstica[\"Quantity\"])\n",
    "    return uvoz\n",
    "\n",
    "def preberi_vrednost(leto):\n",
    "    uvoz = {}\n",
    "    for vrstica in csv.DictReader(open(f\"podatki/Banane {leto}.csv\")):\n",
    "        if vrstica[\"Trade Value 1000USD\"].strip() and vrstica[\"Reporter\"] != \"European Union\":\n",
    "            uvoz[vrstica[\"Reporter\"]] = 1000 * float(vrstica[\"Trade Value 1000USD\"])\n",
    "    return uvoz"
   ]
  },
  {
   "cell_type": "markdown",
   "id": "50bb5fd8-b2f6-4581-9dcd-1945ba59ab36",
   "metadata": {},
   "source": [
    "Kdor hoče, lahko piše tudi"
   ]
  },
  {
   "cell_type": "code",
   "execution_count": 2,
   "id": "4a96849a-e157-45f4-a9df-7b7fb40c4499",
   "metadata": {},
   "outputs": [],
   "source": [
    "def preberi_tezo(leto):\n",
    "    return {vrstica[\"Reporter\"]: int(vrstica[\"Quantity\"])\n",
    "            for vrstica in csv.DictReader(open(f\"podatki/Banane {leto}.csv\"))\n",
    "            if vrstica[\"Quantity\"].strip() and vrstica[\"Reporter\"] != \"European Union\"\n",
    "            }\n",
    "\n",
    "def preberi_vrednost(leto):\n",
    "    return {vrstica[\"Reporter\"]: 1000 * float(vrstica[\"Trade Value 1000USD\"])\n",
    "            for vrstica in csv.DictReader(open(f\"podatki/Banane {leto}.csv\"))\n",
    "            if vrstica[\"Trade Value 1000USD\"].strip() and vrstica[\"Reporter\"] != \"European Union\"}"
   ]
  },
  {
   "cell_type": "markdown",
   "id": "9694776a-e225-4eeb-b53b-e302db1ce460",
   "metadata": {},
   "source": [
    "vendar kakšne posebne prednosti ne vidim."
   ]
  },
  {
   "cell_type": "markdown",
   "id": "784f324b-8f18-44ed-9040-dcc93cba4d9e",
   "metadata": {},
   "source": [
    "### `najcenejse_banane`\n",
    "\n",
    "2. Napišite funkcijo `najcenejse_banane(leto)`, ki poišče državo, ki je v podanem letu `leto` uvažala banane za najnižjo ceno (na kilogram) in vrne par (terko) z imenom te države in ceno, ki jo je plačala (v dolarjih na kilogram).\n",
    "\n",
    "#### Rešitev\n",
    "\n",
    "Naloga od reševalca zahteva klasično reč, ki smo jo programirali že dvajsetkrat - iščemo minimum glede na določen kriterij. Enkrat smo napisali celo splošno funkcijo `argmax`, ki dela nekaj takšnega.\n",
    "\n",
    "Najbolj klasična rešitev je"
   ]
  },
  {
   "cell_type": "code",
   "execution_count": 3,
   "id": "7b07ea71-501a-4e35-8833-59f1f7295cbd",
   "metadata": {},
   "outputs": [],
   "source": [
    "def najcenejse_banane(leto):\n",
    "    teza = preberi_tezo(leto)\n",
    "    vrednost = preberi_vrednost(leto)\n",
    "    naj_drzava = naj_cena = None\n",
    "    for drzava in teza:\n",
    "        cena = vrednost[drzava] / teza[drzava]\n",
    "        if naj_cena == None or cena < naj_cena:\n",
    "            naj_cena = cena\n",
    "            naj_drzava = drzava\n",
    "    return naj_drzava, naj_cena"
   ]
  },
  {
   "cell_type": "markdown",
   "id": "a6b0001d-32de-46d5-80bb-87b442dd1db0",
   "metadata": {},
   "source": [
    "Gremo čez vse države - se pravi, čez vse ključe v enem slovarju, ob čemer hrabro predpostalvjamo, da se bo ta ključ našel tudi v drugem. Za vsako državo izračunamo ceno ter si zapomnimo najmanjšo ceno in pripadajočo državo.\n",
    "\n",
    "Nekoliko drugačna rešitev je tale: "
   ]
  },
  {
   "cell_type": "code",
   "execution_count": 4,
   "id": "5ea30e32-6a18-4f9e-a0ad-37067baa5848",
   "metadata": {},
   "outputs": [],
   "source": [
    "def najcenejse_banane(leto):\n",
    "    teza = preberi_tezo(leto)\n",
    "    vrednost = preberi_vrednost(leto)\n",
    "    cene = []\n",
    "    for drzava in teza:\n",
    "        cene.append((vrednost[drzava] / teza[drzava],\n",
    "                     drzava))\n",
    "    naj_cena, naj_drzava = min(cene)\n",
    "    return naj_drzava, naj_cena"
   ]
  },
  {
   "cell_type": "markdown",
   "id": "0083e0c8-fdc2-4c2e-bbc3-b4857e92cd0f",
   "metadata": {},
   "source": [
    "V teoriji je to slabše, saj zahteva več pomnilnika. Naših podatkov je malo, torej nam je vseeno.\n",
    "\n",
    "Tu zložimo vse par (cena, država) v seznam terk `cene`. Po zanki z `min(cene)` poiščemo \"najmanjšo\" terko. Terke se najprej primerjajo po prvem elementu, tisti, pri katerih je ta enak, pa po drugem. Dobili bomo torej terko z najnižjo ceno (če bi bili dve ceni enaki, pa tisto, pri kateri je država prej po abecednem redu). Razpakiramo ju v `naj_cena` in `naj_drzava` ter ju vrnemo."
   ]
  },
  {
   "cell_type": "markdown",
   "id": "beeeabcf-1945-4eae-abd2-0ccdf4d50558",
   "metadata": {},
   "source": [
    "In to nas pripelje do krajše rešitve, ki je poleg tega še pomnilniško učinkovita in hitra."
   ]
  },
  {
   "cell_type": "code",
   "execution_count": 7,
   "id": "14ad0be6-6d49-4cab-9a95-7396feac9583",
   "metadata": {},
   "outputs": [],
   "source": [
    "def najcenejse_banane(leto):\n",
    "    teza = preberi_tezo(leto)\n",
    "    vrednost = preberi_vrednost(leto)\n",
    "    naj_cena, naj_drzava = min((vrednost[drzava] / teza[drzava], drzava)\n",
    "                               for drzava in teza)\n",
    "    return naj_drzava, naj_cena"
   ]
  },
  {
   "cell_type": "markdown",
   "id": "155ac8e7-fea2-4075-bdba-18a5c0e1fbf7",
   "metadata": {},
   "source": [
    "Po ideji je podobna prejšnji, le da `min` spustimo prek generatorja, tako da se seznam nikoli ni zapiše v pomnilnik, saj se terke generirajo (in pozabljajo) sproti."
   ]
  },
  {
   "cell_type": "markdown",
   "id": "de2d4db8-a8ad-4c5f-b57e-4ceec27400f2",
   "metadata": {},
   "source": [
    "Kdor bi hotel še vrstico manj, bi pisal"
   ]
  },
  {
   "cell_type": "code",
   "execution_count": 8,
   "id": "4aabb71f-54f9-492b-b4b4-b656046b4dd5",
   "metadata": {},
   "outputs": [],
   "source": [
    "def najcenejse_banane(leto):\n",
    "    teza = preberi_tezo(leto)\n",
    "    vrednost = preberi_vrednost(leto)\n",
    "    return min((vrednost[drzava] / teza[drzava], drzava)\n",
    "               for drzava in teza)[::-1]"
   ]
  },
  {
   "cell_type": "markdown",
   "id": "de12ecca-42cb-45cc-bab3-d65d017a42c6",
   "metadata": {},
   "source": [
    "Vendar je prejšnja funkcija lepša, saj bolj jasno poimenuje, kaj dobimo iz `min`-a. Vsaj jaz tako mislim."
   ]
  },
  {
   "cell_type": "markdown",
   "id": "09ba8c0d-cde1-47c0-a2ec-a60883a8768a",
   "metadata": {},
   "source": [
    "## Ocena 7\n",
    "\n",
    "### `najblizje_sloveniji`\n",
    "\n",
    "3. Napišite funkcijo `najblizje_sloveniji(leto)`, ki vrne ime države, ki je bila glede na skupno težo uvoženih banan v podanem letu najbližje Sloveniji. Če za Slovenijo v tistem letu ni podatkov, funkcija vrne `None`.\n",
    "\n",
    "    Ne spreglejte, da gre lahko za državo, ki je uvozila malo manj ali malo več banan kot Slovenija.\n",
    "\n",
    "#### Rešitev\n",
    "\n",
    "Spet naloga na isto vižo. Ideja je, da morate sestaviti nekoliko bolj zapleten pogoj, poleg tega pa še manjši hec s tem, da Slovenije morda sploh ni v seznamu za tisto leto."
   ]
  },
  {
   "cell_type": "code",
   "execution_count": null,
   "id": "75b3fbfd-5680-4651-82f3-77ee1e0e1af2",
   "metadata": {},
   "outputs": [],
   "source": [
    "def najblizje_sloveniji(leto):\n",
    "    podatki = preberi_tezo(leto)\n",
    "    slovenija = podatki.get(\"Slovenia\")\n",
    "    if slovenija is None:\n",
    "        return None\n",
    "    naj_drzava = None\n",
    "    for drzava, kolicina in podatki.items():\n",
    "        if drzava != \"Slovenia\" and (\n",
    "                naj_drzava is None\n",
    "                or abs(kolicina - slovenija) < abs(podatki[naj_drzava] - slovenija)):\n",
    "            naj_drzava = drzava\n",
    "    return naj_drzava"
   ]
  },
  {
   "cell_type": "markdown",
   "id": "7e8c7b67-4ced-4be3-8d3e-e3b2de638e36",
   "metadata": {},
   "source": [
    "Tu je primerno uporabiti metodo `get`, saj nismo prepričani, ali je Slovenija res v slovarju. Če je ni, takoj vrnemo `None`. Sicer je reč podobna kot prej, le da smo tokrat obrnili še malo drugače: namesto da bi si zapomnili najbližjo državo in najmanjšo razliko, si zapomnimo le najbližjo državo, razliko pa računamo kar vsakič sproti, z `abs(podatki[naj_drzava] - slovenija)`. Stvar sloga.\n",
    "\n",
    "Glavna reč te funkcije je pogoj. Najprej preverimo, ali država ni Slovenija. Sledi `and` in - zelo pomembno - `or` v oklepaju. Brez tega oklepaga je `and` močnejši kot `or`, tako da bi dobili, v bistvu `(drzava != \"Slovenia\" and naj_drzava is None) or ...`. "
   ]
  },
  {
   "cell_type": "markdown",
   "id": "caba03b2-2ba4-4eee-86c2-671a6dde1a4b",
   "metadata": {},
   "source": [
    "### `razpon_cen`\n",
    "\n",
    "4. Napišite funkcijo `razpon_cen(leto)`, ki vrne par (terko) z najnižjo in najvišjo ceno banan v podanem letu (v dolarjih na kilogram).\n",
    "\n",
    "#### Rešitev\n",
    "\n",
    "Ker gre za naloge za oceno 6, ni tako grozno, če so malo dolgočasne. Prej smo iskali minimume, zdaj iščemo minimum in maksimum hkrati. Za popestritev pa bo tokrat začetna vrednost neskončna, ne `None`."
   ]
  },
  {
   "cell_type": "code",
   "execution_count": 9,
   "id": "f0e8f97e-3ed5-4f8e-adca-ddda35070b85",
   "metadata": {},
   "outputs": [],
   "source": [
    "def razpon_cen(leto):\n",
    "    teza = preberi_tezo(leto)\n",
    "    vrednost = preberi_vrednost(leto)\n",
    "    najm_cena = math.inf\n",
    "    najv_cena = -math.inf\n",
    "    for drzava in teza:\n",
    "        cena = vrednost[drzava] / teza[drzava]\n",
    "        if cena < najm_cena:\n",
    "            najm_cena = cena\n",
    "        if cena > najv_cena:\n",
    "            najv_cena = cena\n",
    "    return najm_cena, najv_cena "
   ]
  },
  {
   "cell_type": "markdown",
   "id": "ec2766c1-4195-4748-9d2d-67249b6d19b0",
   "metadata": {},
   "source": [
    "## Ocena 8\n",
    "\n",
    "1. Napišite funkcijo `naj_uvoznice(leto, n)`, ki vrne prvih `n` držav po teži uvoza banan v podanem letu. Seznam naj bo urejen padajoče po teži.\n",
    "\n",
    "### Rešitev\n",
    "\n",
    "Če hočemo prvih `k`, bo potrebno urejati. (Obstajajo učinkovitejše rešitve brez popolnega urejanja, vendar jih pri tem predmetu ne razumemo.) Kaj pa bomo urejali? V bistvu teže. Vendar poleg tež potrebbujemo države. Torej bomo sestavili seznam terk (teža, država) in ga uredili. Potem bomo iz zadnjih `k` terk pobrali samo države."
   ]
  },
  {
   "cell_type": "code",
   "execution_count": 10,
   "id": "7e3521de-3fca-4235-93b9-b502aca18a22",
   "metadata": {},
   "outputs": [],
   "source": [
    "def naj_uvoznice(leto, k):\n",
    "    teza = preberi_tezo(leto)\n",
    "    \n",
    "    uvoznice = []\n",
    "    for drzava, teza in teza.items():\n",
    "        uvoznice.append((teza, drzava))\n",
    "    uvoznice.sort()\n",
    "    \n",
    "    prvih_k = []\n",
    "    for _, drzava in uvoznice[::-1][:k]:\n",
    "        prvih_k.append(drzava)\n",
    "    return prvih_k"
   ]
  },
  {
   "cell_type": "markdown",
   "id": "5d2a5c3c-a29b-42bf-8baa-306f69c982db",
   "metadata": {},
   "source": [
    "Reč je nekoliko zamotana, tule: `uvoznice[::-1][:k]`. Seznam je urejen po naraščajočih težah. Z `[::-1]` ga obrnemo, s `[:k]` pa poberemo prvih `k`. Šlo bi tudi z `uvoznice[-1:-k-1:-1]`.\n",
    "\n",
    "Vendar je boljše, če že `sort`-u naročimo urejati padajoče. Skok na v Pythonovo dokumentacijo pove, kako."
   ]
  },
  {
   "cell_type": "code",
   "execution_count": 11,
   "id": "e9513332-2b51-45e5-a6da-1403cb1f5380",
   "metadata": {},
   "outputs": [],
   "source": [
    "def naj_uvoznice(leto, k):\n",
    "    teza = preberi_tezo(leto)\n",
    "    \n",
    "    uvoznice = []\n",
    "    for drzava, teza in teza.items():\n",
    "        uvoznice.append((teza, drzava))\n",
    "    uvoznice.sort(reverse=True)\n",
    "    \n",
    "    prvih_k = []\n",
    "    for _, drzava in uvoznice[:k]:\n",
    "        prvih_k.append(drzava)\n",
    "    return prvih_k"
   ]
  },
  {
   "cell_type": "markdown",
   "id": "fbc1cd11-efc8-4881-b415-221217b1c4e3",
   "metadata": {},
   "source": [
    "Funkcija se še vedno prav nemarno vleče. Spomnimo se, kaj smo se učili prejšnji teden, pa bo postala prijaznejša."
   ]
  },
  {
   "cell_type": "code",
   "execution_count": 12,
   "id": "ba8de590-89a6-4074-9e1b-475d514cb9c4",
   "metadata": {},
   "outputs": [],
   "source": [
    "def naj_uvoznice(leto, k):\n",
    "    teza = preberi_tezo(leto)\n",
    "    uvoznice = [(teza, drzava) for drzava, teza in teza.items()]\n",
    "    uvoznice.sort(reverse=True)\n",
    "    return [drzava for _, drzava in uvoznice[:k]]"
   ]
  },
  {
   "cell_type": "markdown",
   "id": "6f5e3f07-66dc-442d-9e68-ff12210f55e8",
   "metadata": {},
   "source": [
    "Kdor hoče narediti vse skupaj v enem zamahu, napiše"
   ]
  },
  {
   "cell_type": "code",
   "execution_count": 13,
   "id": "a12d51bd-d52a-4598-aab5-2444e8f22672",
   "metadata": {},
   "outputs": [],
   "source": [
    "def naj_uvoznice(leto, k):\n",
    "    return [drzava\n",
    "            for _, drzava in sorted(\n",
    "                ((teza, drzava) for drzava, teza in preberi_tezo(leto).items()),\n",
    "                reverse=True\n",
    "            )[:k]]"
   ]
  },
  {
   "cell_type": "markdown",
   "id": "b233538d-baac-4c17-9ef7-b49c6c3fb9d6",
   "metadata": {},
   "source": [
    "To je sicer zabavno, ni pa pregledno. V Pythonu ne programiramo tako, Python za to ni primeren. Koda je nepregledna, saj se najprej zgodi tisto, kar je najbolj znotraj, namreč `preberi_tezo`, potem pa se program izvaja \"navzven\" odtod. (Kdor ne razume, naj se ne vznemirja.)\n",
    "\n",
    "Pač pa je zelo Pythonovsko narediti tole:"
   ]
  },
  {
   "cell_type": "code",
   "execution_count": null,
   "id": "b47e6ab3-f5aa-4a1c-977e-380323722c53",
   "metadata": {},
   "outputs": [],
   "source": [
    "def naj_uvoznice(leto, k):\n",
    "    teza = preberi_tezo(leto)\n",
    "    return sorted(teza, key=teza.get, reverse=True)[:k]"
   ]
  },
  {
   "cell_type": "markdown",
   "id": "c416f38b-e63c-4c44-86bf-bf5b77e5672d",
   "metadata": {},
   "source": [
    "Kdor je sprogramiral tako, zasluži bodisi pohvalo bodisi grajo. Pohvalo, če razume, kaj je naredil, in grajo, če je to nekje našel in uporabil. Slednji namreč ne more biti nikoli prepričan, da to res vedno naredi to, kar bi moralo ..."
   ]
  },
  {
   "cell_type": "markdown",
   "id": "348800ea-a58a-4445-8a30-5fc9df2ce08c",
   "metadata": {},
   "source": [
    "### `izpis`\n",
    "\n",
    "2. Napišite funkcijo `izpis(drzave, leto)`, ki prejme seznam držav in leto. Funkcija mora **vrniti niz** (ne izpisati!) takšne oblike:\n",
    "\n",
    "    ```\n",
    "    Slovenia           98   0.79\n",
    "    China            1768   0.61\n",
    "    Germany          1367   0.85\n",
    "    Netherlands      1072   0.85\n",
    "    Japan            1033   0.93\n",
    "    ```\n",
    "\n",
    "    Prvi stolpec je ime države, drugi teža uvoženih banan v gigagramih (kilotonah, 1000 tonah), tretji je cena v dolarjih na kilogram.\n",
    "    \n",
    "    Pazi na poravnave in presledke: ti so postavljeni pravilno, če funkcija prestane teste.\n",
    "\n",
    "#### Rešitev\n",
    "\n",
    "V tej nalogi očitno preverjamo, ali študentka, študent zna oblikovati nize."
   ]
  },
  {
   "cell_type": "code",
   "execution_count": 14,
   "id": "35605661-3800-41ca-acde-cd0e61a96b20",
   "metadata": {},
   "outputs": [],
   "source": [
    "def izpis(drzave, leto):\n",
    "    teza = preberi_tezo(leto)\n",
    "    vrednost = preberi_vrednost(leto)\n",
    "    besedilo = \"\"\n",
    "    for drzava in drzave:\n",
    "        besedilo += f\"{drzava:15} {teza[drzava] // 1_000_000:5}   {vrednost[drzava] / teza[drzava]:4.2f}\\n\"\n",
    "    return besedilo"
   ]
  },
  {
   "cell_type": "markdown",
   "id": "13ca0e56-af18-428c-a9a0-fdd6c248ca40",
   "metadata": {},
   "source": [
    "### `prvih_n`\n",
    "\n",
    "3. Napišite funkcijo `prvih_n(leto, n)`, ki izpiše tabelo, kot je gornja, za `n` držav, ki so v podanem letu uvozile največ banan. Seznam naj bo urejen padajoče po teži.\n",
    "\n",
    "#### Rešitev\n",
    "\n",
    "Ta naloga pa preverja, ali študent zna poklicati funkcijo, ki jo je sam napisal. Točneje, ali mu pride na misel, da je vse, kar potrebuje, že pripravljeno."
   ]
  },
  {
   "cell_type": "code",
   "execution_count": 15,
   "id": "ee7ef2f3-399e-4a47-84ff-3746225dfc4b",
   "metadata": {},
   "outputs": [],
   "source": [
    "def prvih_n(leto, n):\n",
    "    return izpis(naj_uvoznice(leto, n), leto)"
   ]
  },
  {
   "cell_type": "markdown",
   "id": "941a0efe-988c-45f9-a9ec-676e366796ef",
   "metadata": {},
   "source": [
    "## Ocena 9\n",
    "\n",
    "1. Napišite funkcijo `trend(drzava, od, do)`, ki vrne seznam s količino banan, ki jih je država uvozila v letih med `od` in `do` (vključno z `do`). Če za kako leto ni podatka, naj bo za tisto leto v seznamu `None`.\n",
    "\n",
    "2. Napišite funkcijo `skupni_uvoz(leto)`, ki za podano leto vrne skupno težo vseh uvoženih banan v vseh državah.\n",
    "\n",
    "3. Napišite funkcijo `rast_porabe(od, do)`, ki vrne seznam s skupnim uvozom banan po vsem svetu med podanima letoma.\n",
    "\n",
    "4. Napišite funkcijo `inflacija(od, do))`, ki vrne seznam s povprečno ceno banan v dolarjih na kilogram med podanima letoma. Povprečna cena je enaka skupni vrednosti uvoza (vsota prek vseh držav) deljena s skupno težo uvoženih banan."
   ]
  },
  {
   "cell_type": "markdown",
   "id": "71cc6e2a-821f-495e-9682-9f8f3fc3d350",
   "metadata": {},
   "source": [
    "### Rešitev\n",
    "\n",
    "Ocena 8 je malo podarjena. :)"
   ]
  },
  {
   "cell_type": "code",
   "execution_count": 16,
   "id": "6568e532-7c0a-4db5-8527-b93f1dc837de",
   "metadata": {},
   "outputs": [],
   "source": [
    "def trend(drzava, od, do):\n",
    "    return [preberi_tezo(leto).get(drzava) for leto in range(od, do + 1)]\n",
    "\n",
    "def skupni_uvoz(leto):\n",
    "    return sum(preberi_tezo(leto).values())\n",
    "\n",
    "def rast_porabe(od, do):\n",
    "    return [skupni_uvoz(leto) for leto in range(od, do + 1)]\n",
    "\n",
    "def inflacija(od, do):\n",
    "    return [sum(preberi_vrednost(leto).values()) / sum(preberi_tezo(leto).values())\n",
    "            for leto in range(od, do + 1)]"
   ]
  },
  {
   "cell_type": "markdown",
   "id": "4e2aabb5-01aa-4e96-a63c-f694f3f23b4e",
   "metadata": {},
   "source": [
    "Rešitve smo zapisali z izpeljanimi seznami. Kdor ima raje `append`, naj pač kliče `append`."
   ]
  },
  {
   "cell_type": "markdown",
   "id": "ba5fb217-d0b1-493a-8ebe-edb9818130f9",
   "metadata": {},
   "source": [
    "## Ocena 10\n",
    "\n",
    "Napišite funkcijo `tabela(od, do, drzave, ime_dat)`, ki v datoteko z imenom `ime_dat` izpiše podatke o uvozu banan v tonah za podane države v podanem intervalu let. Oblika tabela mora biti do presledka kot v spodnjem primeru in v podanih datotekah `test1.txt`, `test2.txt` in `test3.txt`. (Te datoteke se uporabljajo v testih, zato jih ne spreminjaj!!!)\n",
    "\n",
    "**Teža v tonah naj bo zaokrožena navzdol, torej `teza_v_kg // 1000`. Če teža ni znana ali pa je enaka 0, na tistem mestu ne izpišite ničesar (razen ustreznega števila presledkov).**\n",
    "\n",
    "Klic\n",
    "```python\n",
    "tabela(1992, 2000,\n",
    "       [\"Slovenia\", \"Germany\", \"Japan\", \"United States\"],\n",
    "        \"tabela.txt\")\n",
    "```\n",
    "\n",
    "v tabela.txt shrani tole:\n",
    "\n",
    "```\n",
    "Leto      Slovenia     Germany       Japan  United Sta\n",
    "------------------------------------------------------\n",
    "1992                   1378870      777477     3693120\n",
    "1993                   1222890      913612     3676980\n",
    "1994         25227     1175620      929799     3862050\n",
    "1995         31298     1306440      874108     3836570\n",
    "1996         29645     1244570      819086     3966400\n",
    "1997         30287     1133170      885454     3957720\n",
    "1998         25391     1033120      865310     4113060\n",
    "1999         28693     1034380      983504     4512440\n",
    "2000         26674     1113840     1079060     2268700\n",
    "------------------------------------------------------\n",
    "```\n",
    "\n",
    "Ime države je skrajšano na prvih deset znakov.\n",
    "\n",
    "Funkcija mora delovati za poljubno veliko število držav!\n",
    "\n",
    "### Rešitev"
   ]
  },
  {
   "cell_type": "code",
   "execution_count": null,
   "id": "d6e8bd9b-1315-4471-b288-42fcea90bef9",
   "metadata": {},
   "outputs": [],
   "source": [
    "def tabela(od, do, drzave, ime_dat):\n",
    "    f = open(ime_dat, \"w\")\n",
    "    f.write(\"Leto  \" + \"\".join(f\"{drzava[:10]:>12}\" for drzava in drzave) + \"\\n\")\n",
    "    f.write(\"-\" * (6 + 12 * len(drzave)) + \"\\n\")\n",
    "    for leto in range(od, do + 1):\n",
    "        podatki = preberi_tezo(leto)\n",
    "        f.write(f\"{leto:<6}\" + \"\".join(f\"{podatki.get(drzava, 0) // 1000 or \"\":12}\" for drzava in drzave) + \"\\n\")\n",
    "    f.write(\"-\" * (6 + 12 * len(drzave)) + \"\\n\")"
   ]
  },
  {
   "cell_type": "markdown",
   "id": "9be2a95e-0ae7-4d60-9cb8-bfa13dfc50b1",
   "metadata": {},
   "source": [
    "Glavnina dogajanja je v `join`-ih.\n",
    "- `drzava[:10]` je prvih deset znakov imena države.\n",
    "- `{drzava[:10]:>12}` bo to ime izpisalo na 12 mest in poravnalo na desno kot hoče naloga.\n",
    "- `f\"{drzava[:10]:>12}\" for drzava in drzave` generira takšne nize za vse države.\n",
    "-  `\"\".join(f\"{drzava[:10]:>12}\" for drzava in drzave)` pa to zlepi skupaj."
   ]
  },
  {
   "cell_type": "markdown",
   "id": "42c4804a-d606-4e0d-a72c-69bbfc0e75b4",
   "metadata": {},
   "source": [
    "Kdor noče tako, lahko namesto\n",
    "\n",
    "```python\n",
    "    f.write(\"Leto  \" + \"\".join(f\"{drzava[:10]:>12}\" for drzava in drzave) + \"\\n\")\n",
    "```\n",
    "\n",
    "piše v datoteko državo za državo\n",
    "\n",
    "```\n",
    "f.write(\"Leto  \")\n",
    "    for drzava in drzave:\n",
    "        f.write(f\"{drzava[:10]:>12}\")\n",
    "    f.write(\"\\n\")\n",
    "```"
   ]
  },
  {
   "cell_type": "markdown",
   "id": "eff903f7-dc20-4acd-99eb-55dd3ad33c97",
   "metadata": {},
   "source": [
    "Podobno se dogaja v drugem `join`, kjer nas potem zafrkavajo še prazne celice. Načelno bi napisali `podatki[drzava] // 1000`, vendar se lahko zgodi, da podatka za državo ni. Zato uporabimo `get`, kot privzeto vrednost pa nastavimo `0`, torej `podatki.get(drzava, 0) // 1000`. Podatka ni, bo `get` vrnil `0` in deljenje bo dalo rezultat `0`. Zato dodamo `or \"\"`. Ker je `0` neresnična vrednost, je `0 or \"\"` enako `\"\"`.\n",
    "\n",
    "Tole je en čuden hack, vendar deluje ... A ne povsem pravilno. Priznam: tako sem sprogramiral, nato pa so me študenti opozorili, da se v njihovih rešitvah ponekod pojavi 9 namesto prazne celice - in sicer pri državah, za katere podatek obstaja, vendar je manjši od 1000. Mora \"rešitev\" v tem primeru dobi količnik 0 in ga zamenja s praznim nizom.\n",
    "\n",
    "Zgodba naj bo v svarilo pred takšnimi rokohitrstvi, za katere smo dovzetni vsi, tudi tisti, nekoliko bolj izkušeni. Ker so bili testi že objavljeni, sem raje \"dopolnil\" navodila in zahteval, da so prazne celice tudi pri državah, ki so uvozila manj kot 1000 ton banan."
   ]
  },
  {
   "cell_type": "code",
   "execution_count": 17,
   "id": "b41247cc-3076-479b-a60b-3ad8c653a8a8",
   "metadata": {},
   "outputs": [],
   "source": [
    "def tabela(od, do, drzave, ime_dat):\n",
    "    f = open(ime_dat, \"w\")\n",
    "    f.write(\"Leto  \")\n",
    "    for drzava in drzave:\n",
    "        f.write(f\"{drzava[:10]:>12}\")\n",
    "    f.write(\"\\n\")\n",
    "    f.write(\"-\" * (6 + 12 * len(drzave)) + \"\\n\")\n",
    "    for leto in range(od, do + 1):\n",
    "        podatki = preberi_tezo(leto)\n",
    "        f.write(f\"{leto:<6}\")\n",
    "        for drzava in drzave:\n",
    "            if drzava not in podatki:\n",
    "                f.write(\" \" * 12)\n",
    "            else:\n",
    "                f.write(f\"{podatki[drzava] // 1000:12}\")\n",
    "        f.write(\"\\n\")\n",
    "    f.write(\"-\" * (6 + 12 * len(drzave)) + \"\\n\")"
   ]
  },
  {
   "cell_type": "markdown",
   "id": "575597bc-0680-4cee-8f89-1e31f3476b16",
   "metadata": {},
   "source": [
    "Ta rešitev ne prestane testov, vendar dela to, kar je bilo prvotno mišljeno in je tudi smiselno. Hkrati pa je preglednejša.\n",
    "\n",
    "Moja napaka kaže, da se učimo programirati vse življenje. Tudi po 40 letih izkušenj še vedno delamo trapaste napake."
   ]
  }
 ],
 "metadata": {
  "kernelspec": {
   "display_name": "Python 3 (ipykernel)",
   "language": "python",
   "name": "python3"
  },
  "language_info": {
   "codemirror_mode": {
    "name": "ipython",
    "version": 3
   },
   "file_extension": ".py",
   "mimetype": "text/x-python",
   "name": "python",
   "nbconvert_exporter": "python",
   "pygments_lexer": "ipython3",
   "version": "3.12.7"
  }
 },
 "nbformat": 4,
 "nbformat_minor": 5
}
