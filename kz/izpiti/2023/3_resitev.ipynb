{
 "cells": [
  {
   "cell_type": "markdown",
   "id": "23fde1ab",
   "metadata": {},
   "source": [
    "## 1. Statistika\n",
    "\n",
    "Klicni center beleži podatke o številu klicev v numpyjevo tabelo z 24 * 60 elementi. Element z indeksom `i` pove število klicev v i-ti minuti dneva. Napišite naslednje funkcije:\n",
    "\n",
    "- `po_urah(a)` prejme tabelo, kot jo opisujemo zgoraj in vrne tabelo s 24 elementi, ki vsebujejo število klicev v posamezni uri dneva;\n",
    "- `naj_ura(a)` vrne uro z največ klici (npr. 5, če je največ klicev med peto in šesto uro);\n",
    "- `brez_klicev(a)` naj vrne število minut, ko ni bilo klicev (torej število ničelnih elementov podane tabele a).\n",
    "\n",
    "Pri ocenjevanju bom upošteval tudi vašo spretnost uporabe knjižnice numpy."
   ]
  },
  {
   "cell_type": "markdown",
   "id": "109f60a0",
   "metadata": {},
   "source": [
    "### Rešitev\n",
    "\n",
    "Pri prvi nalogi uporabimo `reshape`, s katerim spremenimo tabelo tako, da je vsaka vrstica ena ura. Potem to seštejemo po osi 1."
   ]
  },
  {
   "cell_type": "code",
   "execution_count": 1,
   "id": "453fe1c8",
   "metadata": {},
   "outputs": [],
   "source": [
    "def po_urah(a):\n",
    "    return a.reshape(24, 60).sum(axis=1)"
   ]
  },
  {
   "cell_type": "markdown",
   "id": "795e1ab7",
   "metadata": {},
   "source": [
    "Za drugo nalogo se moramo spomniti `argmax`."
   ]
  },
  {
   "cell_type": "code",
   "execution_count": 3,
   "id": "cf4c0405",
   "metadata": {},
   "outputs": [],
   "source": [
    "def naj_ura(a):\n",
    "    return po_urah(a).argmax()"
   ]
  },
  {
   "cell_type": "markdown",
   "id": "8e62a4c2",
   "metadata": {},
   "source": [
    "Tretjo pa najlažje uženemo, če se spomnimo, da je `True` isto (ali vsaj enako) kot `1`."
   ]
  },
  {
   "cell_type": "code",
   "execution_count": 4,
   "id": "54660f71",
   "metadata": {},
   "outputs": [],
   "source": [
    "def brez_klicev(a):\n",
    "    return np.sum(a == 0)"
   ]
  },
  {
   "cell_type": "markdown",
   "id": "e325160e",
   "metadata": {},
   "source": [
    "Obstajajo tudi drugačne rešitve; nekatere morda nič slabše od teh."
   ]
  },
  {
   "cell_type": "markdown",
   "id": "656d2f74",
   "metadata": {},
   "source": [
    "## 2. Izpis\n",
    "\n",
    "Napišite funkcijo `izpis(a)`, ki prejme tabelo s 24 elementi, ki predstavljajo, število klicev po urah in vrne niz, oblikovan natančno tako (do presledka enako!), kot kaže slika. \n",
    "\n",
    "```\n",
    " 0 - 1     20 ##\n",
    " 1 - 2     34 ###\n",
    " 2 - 3     66 ######\n",
    " 3 - 4     82 ########\n",
    " 4 - 5    114 ###########\n",
    " 5 - 6    125 ############\n",
    " 6 - 7    204 ####################\n",
    " 7 - 8    272 ###########################\n",
    " 8 - 9    364 ####################################\n",
    " 9 - 10   453 #############################################\n",
    "10 - 11   522 ####################################################\n",
    "(in tako naprej do)\n",
    "23 - 24    36 ###\n",
    "```\n",
    "\n",
    "Prvi številki povesta uro dneva; začetek je poravnan desno, konec levo. Sledi število klicev v tej uri in \"histogram\", pri čemer vsak znak # predstavlja (dopolnjenih 10) klicev; pri 66, na primer, imamo 6 znakov #.\n",
    "\n",
    "### Rešitev\n",
    "\n",
    "Kdor zna, naredi tako"
   ]
  },
  {
   "cell_type": "code",
   "execution_count": 6,
   "id": "3bd51a89",
   "metadata": {},
   "outputs": [],
   "source": [
    "def izpis(ure):\n",
    "    return \"\\n\".join(f'{i:>2} - {i + 1:<2}   {x:3} {\"#\" * (x // 10)}' for i, x in enumerate(ure))"
   ]
  },
  {
   "cell_type": "markdown",
   "id": "dcbec5fe",
   "metadata": {},
   "source": [
    "Kdor ni prijatelj generatorjev, pa tako"
   ]
  },
  {
   "cell_type": "code",
   "execution_count": 7,
   "id": "13522e05",
   "metadata": {},
   "outputs": [],
   "source": [
    "def izpis(ure):\n",
    "    s = \"\"\n",
    "    for i, x in enumerate(ure):\n",
    "        s += f'{i:>2} - {i + 1:<2}   {x:3} {\"#\" * (x // 10)}\\n'\n",
    "    return s"
   ]
  },
  {
   "cell_type": "markdown",
   "id": "0efd12ee",
   "metadata": {},
   "source": [
    "Bistvo naloge je oblikovanje nizov, to pa je v obeh rešitvah enako."
   ]
  },
  {
   "cell_type": "markdown",
   "id": "47b47c0e",
   "metadata": {},
   "source": [
    "## 3. Pravilnost\n",
    "\n",
    "Napišite funkcijo `preveri(ime_datoteke)`, ki prejme ime datoteke, ki vsebuje besedilo, kakršnega vrne prejšnja funkcija. Funkcija vrne `True`, če je izpis pravilen in `False` če ni.\n",
    "\n",
    "Predpostaviti smete, da datoteka vsebuje pravilno število (24) vrstic in da so oblikovane pravilno. Preveriti pa mora, da so pravilni začetki in konci (torej, da si ure sledijo v vrstnem redu 0 – 1, 1 – 2, 2 – 3 in tako naprej) ter da se število znakov # ujema s številom klicev (deljenim z 10).\n",
    "\n",
    "### Rešitev"
   ]
  },
  {
   "cell_type": "code",
   "execution_count": 8,
   "id": "295fb54e",
   "metadata": {},
   "outputs": [],
   "source": [
    "def preveri(ime_datoteke):\n",
    "    for i, vrstica in enumerate(open(ime_datoteke)):\n",
    "        od, minus, do, koliko, hashi = vrstica.split()\n",
    "        if int(od) != i or int(do) != i + 1 or len(hashi) != int(koliko) // 10:\n",
    "            return False\n",
    "    return True"
   ]
  },
  {
   "cell_type": "markdown",
   "id": "ac484bb0",
   "metadata": {},
   "source": [
    "Odpremo datoteko, beremo po vrsticah, zraven pa uporabimo še `enumerate`, da vemo, v kateri vrstici smo.\n",
    "\n",
    "Vsako vrstico razkosamo glede na presledke. Ker naloga zagotavlja, da je oblika vrstice pravilna, vemo, da bo \"sestavnih delov\" pet. Potem za vsakega preverimo, da je takšen, kot mora biti. Če ni vrnemo `False`.\n",
    "\n",
    "Če se zanka izteče brez napake, pa vrnemo `True`."
   ]
  },
  {
   "attachments": {},
   "cell_type": "markdown",
   "id": "70a635a6",
   "metadata": {},
   "source": [
    "## 4. Operaterji\n",
    "\n",
    "V datoteki v formatu csv so shranjeni prejeti klici – za vsakega vemo, kateri operater ga je sprejel, koliko minut je trajal, kdaj se je začel in za kakšno vrsto klica je šlo (zadnja dva podatka sta nepomembna).\n",
    "\n",
    "```\n",
    "operater,dolzina,zacetek,tip\n",
    "Ana,10,123,I\n",
    "Berta,2,453,I\n",
    "Cilka,5,134,O\n",
    "Berta,10,500,T\n",
    "Ana,3,135,I\n",
    "Dani,5,245,T\n",
    "Berta,3,573,I\n",
    "Cilka,4,262,I\n",
    "cbgadhbb,5,157,T\n",
    "```\n",
    "\n",
    "Napišite funkcijo `obremenitve(ime_datoteke)`, ki vrne slovar, katerega ključi so imena operaterjev, vrednosti pa število minut, ki jih je operater preživel na klicih. Za gornji primer vrne `{\"Ana\": 13, \"Berta\": 15, \"Cilka\": 9, \"Dani\": 5, \"cbgadhbb\": 5}`.\n",
    "\n",
    "Poleg tega napišite funkcijo `naj_obremenjeni(ime_datoteke)`, ki vrne ime najbolj obremenjenega operaterja glede na skupno število minut; v gornjem primeru vrne `\"Berta\"`. Če je najbolj obremenjenih več, lahko vrne poljubnega med njimi.\n",
    "\n",
    "### Rešitev"
   ]
  },
  {
   "cell_type": "code",
   "execution_count": 9,
   "id": "a10595f0",
   "metadata": {},
   "outputs": [],
   "source": [
    "def obremenitve(ime_datoteke):\n",
    "    operaterji = defaultdict(int)\n",
    "    for klic in csv.DictReader(open(ime_datoteke)):\n",
    "        operaterji[klic['operater']] += int(klic['dolzina'])\n",
    "    return operaterji\n",
    "\n",
    "\n",
    "def naj_obremenjeni(ime_datoteke):\n",
    "    ob = obremenitve(ime_datoteke)\n",
    "    return max(ob, key=ob.get)"
   ]
  },
  {
   "cell_type": "markdown",
   "id": "38062d75",
   "metadata": {},
   "source": [
    "Tule smo uporabili dva trika. Prvi je `defaultdict`. Če bi namesto njega uporabili običajen slovar, bi morali v zanki pred prištevanjem preveriti, da smo na tega operaterja že kdaj naleteli, torej, da ključ s tem imenom operaterja že obstaja.\n",
    "\n",
    "V `naj_obremenjeni` pa smo uporabili `max` z argumentom `key=ob.get`: ključe primerjamo glede na to, kaj zanje vrača slovarjeva metoda `get`. Brez tega bi morali pisati to, kar smo pač vedno pisali na predavanjih pri reševanju te klasične naloge (preden sem - če sem - pokazal ta trik)."
   ]
  },
  {
   "attachments": {},
   "cell_type": "markdown",
   "id": "98735e2a",
   "metadata": {},
   "source": [
    "## 5. Hierarhija\n",
    "\n",
    "Mogoče je klicnih centrov več, postavljeni pa so v neko hierarhijo. Osnovna sta Koper in Maribor. Celje je v hierarhiji podrejeno Mariboru. Ptuj tudi. Ormož je podrejen Ptuju. Ljutomer tudi Ptuju. Laško Celju. Postojna Kopru. Vse doslej našteto bi lahko shranili v takšen seznam: `[(\"Celje\", \"Maribor\"), (\"Ptuj\", \"Maribor\"), (\"Ormož\", \"Ptuj\"), (\"Ljutomer\", \"Ptuj\"), (\"Laško\", \"Celje\"), (\"Postojna\", \"Koper\")]`. Krajev je seveda veliko več in hierarhija je lahko poljubno globoka.\n",
    "\n",
    "Napiši funkcijo `centri(odvisnosti)`, ki prejme seznam, kot je gornji in vrne slovar obrnjenih parov: ključi so kraji, vrednosti pa množice krajev, ki so mu podrejeni. V gornjem primeru mora vrniti `{\"Maribor\": {\"Celje\", \"Ptuj\"}, \"Ptuj\": {\"Ormož\", \"Ljutomer\"}, \"Celje\": {\"Laško\"}, \"Koper\": {\"Postojna\"}}`. Kraji, ki jim ni podrejen noben kraj, naj se ne pojavijo kot ključi.\n",
    "\n",
    "Pomoč: to ni nujno naloga iz rekurzije. \n",
    "\n",
    "### Rešitev\n",
    "\n",
    "To nikakor ni naloga iz rekurzije. Čeprav imam rekurzijo rad, se mi ne sanja, zakaj bi hotel to nalogo reševati rekurzivno."
   ]
  },
  {
   "cell_type": "code",
   "execution_count": 22,
   "id": "64e563ce",
   "metadata": {},
   "outputs": [],
   "source": [
    "def centri(odvisnosti):\n",
    "    obratni = defaultdict(set)\n",
    "    for od, do in odvisnosti:\n",
    "        obratni[do].add(od)\n",
    "    return obratni"
   ]
  }
 ],
 "metadata": {
  "kernelspec": {
   "display_name": "Python 3 (ipykernel)",
   "language": "python",
   "name": "python3"
  },
  "language_info": {
   "codemirror_mode": {
    "name": "ipython",
    "version": 3
   },
   "file_extension": ".py",
   "mimetype": "text/x-python",
   "name": "python",
   "nbconvert_exporter": "python",
   "pygments_lexer": "ipython3",
   "version": "3.11.5"
  }
 },
 "nbformat": 4,
 "nbformat_minor": 5
}
