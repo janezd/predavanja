{
 "cells": [
  {
   "cell_type": "markdown",
   "id": "41d5ad18",
   "metadata": {},
   "source": [
    "# Izpit 13. februar 2024\n",
    "\n",
    "## 1. Skupna cena\n",
    "\n",
    "Napišite funkcijo `cena(zasedenost, cene)`, ki prejme numpyjevo tabelo `zasedenost` tipa `bool`, ki ima šest stolpcev in toliko vrstic, kolikor vrst ima letalo ter vsebuje `True` na mestih, ki ustrezajo zasedenim sedežem in `False` na mestih, ki ustrezajo prostim. Poleg tega dobi Pythonov seznam `cene`, ki vsebuje cene vozovnic za sedeže v prvih treh stolpcih, na primer `[200, 175, 193]`, če sedeži ob oknu (stolpec 0) stanejo 200, sedeži na sredini (stolpec 1) 175 in sedeži ob hodniku (stolpec 2) 193 evrov. Cene sedežev v drugih treh stolpcih so zrcalno enake tem (na primer 193, 175 in 200).\n",
    "\n",
    "Funkcija mora vrniti vsoto cen vseh prodanih vozovnic. Funkcija mora biti napisana v numpyju. Točkovanje bo upoštevalo eleganco rešitve.\n",
    "\n",
    "### Rešitev\n",
    "\n",
    "Najprej rešitev, potem sledi razlaga."
   ]
  },
  {
   "cell_type": "code",
   "execution_count": 2,
   "id": "12fc7ca6",
   "metadata": {},
   "outputs": [],
   "source": [
    "def cena(zasedenost, cene):\n",
    "    return np.sum(zasedenost * (cene + cene[::-1]))"
   ]
  },
  {
   "cell_type": "markdown",
   "id": "df0318bb",
   "metadata": {},
   "source": [
    "Najprej razširimo cene na vseh šest stolpcev. Če imamo *Pythonov seznam* `cene`, na primer"
   ]
  },
  {
   "cell_type": "code",
   "execution_count": 1,
   "id": "b932610b",
   "metadata": {},
   "outputs": [],
   "source": [
    "cene = [200, 175, 193]"
   ]
  },
  {
   "cell_type": "markdown",
   "id": "2d4aac9b",
   "metadata": {},
   "source": [
    "lahko k njemu pripnemo še prezrcaljen seznam,"
   ]
  },
  {
   "cell_type": "code",
   "execution_count": 2,
   "id": "829a4461",
   "metadata": {},
   "outputs": [
    {
     "data": {
      "text/plain": [
       "[200, 175, 193, 193, 175, 200]"
      ]
     },
     "execution_count": 2,
     "metadata": {},
     "output_type": "execute_result"
    }
   ],
   "source": [
    "cene + cene[::-1]"
   ]
  },
  {
   "cell_type": "markdown",
   "id": "08f6d0f0",
   "metadata": {},
   "source": [
    "pa dobimo cene za vse stolpce. Zdaj pa imamo dve poti. Očitnejša (a, kot se bo izkazalo, malenkost daljša, vendar vam pri ocenjevanju tega nisem štel v slabo), je, da najprej preštejemo zasedenost vseh stolpcev."
   ]
  },
  {
   "cell_type": "code",
   "execution_count": 3,
   "id": "e1b0d3db",
   "metadata": {},
   "outputs": [],
   "source": [
    "import numpy as np\n",
    "\n",
    "zasedenost = np.array([\n",
    "    [True, False, False, False, False, False],\n",
    "    [False, True, True, False, False, False],\n",
    "    [False, False, False, True, True, True],\n",
    "    [False, False, False, True, True, True],\n",
    "    [False, True, False, True, True, True],\n",
    "    [False, False, False, True, True, False],\n",
    "    [False, False, False, False, True, False]\n",
    "])"
   ]
  },
  {
   "cell_type": "markdown",
   "id": "ba2e12fb",
   "metadata": {},
   "source": [
    "Zasedenost po stolpcih dobimo tako, da tabelo seštejemo po osi 0,"
   ]
  },
  {
   "cell_type": "code",
   "execution_count": 4,
   "id": "0403d20e",
   "metadata": {},
   "outputs": [
    {
     "data": {
      "text/plain": [
       "array([1, 2, 1, 4, 5, 3])"
      ]
     },
     "execution_count": 4,
     "metadata": {},
     "output_type": "execute_result"
    }
   ],
   "source": [
    "np.sum(zasedenost, axis=0)"
   ]
  },
  {
   "cell_type": "markdown",
   "id": "39490736",
   "metadata": {},
   "source": [
    "To tabelo pomnožimo s cenami."
   ]
  },
  {
   "cell_type": "code",
   "execution_count": 5,
   "id": "f3359eea",
   "metadata": {},
   "outputs": [
    {
     "data": {
      "text/plain": [
       "array([200, 350, 193, 772, 875, 600])"
      ]
     },
     "execution_count": 5,
     "metadata": {},
     "output_type": "execute_result"
    }
   ],
   "source": [
    "np.sum(zasedenost, axis=0) * (cene + cene[::-1])"
   ]
  },
  {
   "cell_type": "markdown",
   "id": "c6091158",
   "metadata": {},
   "source": [
    "pa dobimo vsote cen po stolpcih. To, končno, seštejemo v skupno ceno."
   ]
  },
  {
   "cell_type": "code",
   "execution_count": 6,
   "id": "dbe17531",
   "metadata": {},
   "outputs": [
    {
     "data": {
      "text/plain": [
       "2990"
      ]
     },
     "execution_count": 6,
     "metadata": {},
     "output_type": "execute_result"
    }
   ],
   "source": [
    "np.sum(np.sum(zasedenost, axis=0) * (cene + cene[::-1]))"
   ]
  },
  {
   "cell_type": "markdown",
   "id": "e03a6b48",
   "metadata": {},
   "source": [
    "Druga rešitev je, da celotno tabelo pomnožimo s cenami."
   ]
  },
  {
   "cell_type": "code",
   "execution_count": 7,
   "id": "09b54a18",
   "metadata": {},
   "outputs": [
    {
     "data": {
      "text/plain": [
       "array([[200,   0,   0,   0,   0,   0],\n",
       "       [  0, 175, 193,   0,   0,   0],\n",
       "       [  0,   0,   0, 193, 175, 200],\n",
       "       [  0,   0,   0, 193, 175, 200],\n",
       "       [  0, 175,   0, 193, 175, 200],\n",
       "       [  0,   0,   0, 193, 175,   0],\n",
       "       [  0,   0,   0,   0, 175,   0]])"
      ]
     },
     "execution_count": 7,
     "metadata": {},
     "output_type": "execute_result"
    }
   ],
   "source": [
    "zasedenost * (cene + cene[::-1])"
   ]
  },
  {
   "cell_type": "markdown",
   "id": "157d5466",
   "metadata": {},
   "source": [
    "In to seštejemo."
   ]
  },
  {
   "cell_type": "code",
   "execution_count": 8,
   "id": "cb02d5d0",
   "metadata": {},
   "outputs": [
    {
     "data": {
      "text/plain": [
       "2990"
      ]
     },
     "execution_count": 8,
     "metadata": {},
     "output_type": "execute_result"
    }
   ],
   "source": [
    "np.sum(zasedenost * (cene + cene[::-1]))"
   ]
  },
  {
   "cell_type": "markdown",
   "id": "9df0117d",
   "metadata": {},
   "source": [
    "Druga rešitev je krajša, prva (tista, ki smo jo napisali tudi na vrhu) pa najbrž hitrejša. Z vidika tega predmeta sta obe enako dobri."
   ]
  },
  {
   "cell_type": "markdown",
   "id": "4faadba6",
   "metadata": {},
   "source": [
    "## 2. Število letov\n",
    "\n",
    "Imamo tabelo, v kateri so pari poletov in pristankov, na primer `[(360, 420), (400, 580), (485, 1300), (490, 600), (600, 800), (650, 720), (700, 800), (780, 800), (930, 1380), (950, 1380), (950, 1000), (1100, 1200)]`. Časi so v minutah od polnoči. Tako prvi par, (360, 420) pomeni da neko letalo vzleti ob 6. uri zjutraj in pristane ob 7. uri. Vsa letala vzletajo in pristajajo na istem letališču, saj gre za turistične prelete.\n",
    "\n",
    "Nek turist bi rad v istem dnevu naredil čim več poletov. Pri tem pa mora med pristankom nekega leta in odletom naslednjega miniti vsaj 60 minut, da gre vmes po sendvič. Napišite funkcijo `stevilo_letov(prvi, leti)`, ki prejme `prvi` let, na katerega bo šel in seznam vseh letov, ter vrne največje število poletov, ki jih lahko opravi v enem dnevu.\n",
    "\n",
    "- Za gornje podatke klic `stevilo_letov((360, 420), leti)` vrne `5`, saj lahko gre na lete `(360, 420), (490, 600), (700, 800), (950, 1000), (1100, 1200)`.\n",
    "- Klic `stevilo_letov((600, 880), leti)` vrne `3`, saj bo ujel samo `(600,800), (950, 1000), (1100, 1200)`.\n",
    "\n",
    "### Rešitev\n",
    "\n",
    "Tole je v bistvu globina rodbine. :) Let B je \"potomec\" nekega leta A, če mu lahko sledi, torej, če let B odleti vsaj 60 minut kasneje kot let A."
   ]
  },
  {
   "cell_type": "code",
   "execution_count": 10,
   "id": "a633fbf8",
   "metadata": {},
   "outputs": [],
   "source": [
    "def stevilo_letov(prvi, leti):\n",
    "    naj_letov = 0\n",
    "    for let in leti:\n",
    "        if prvi[1] + 60 <= let[0]:\n",
    "            letov = stevilo_letov(let, leti)\n",
    "            if letov > naj_letov:\n",
    "                naj_letov = letov\n",
    "    return naj_letov + 1"
   ]
  },
  {
   "cell_type": "markdown",
   "id": "41c02850",
   "metadata": {},
   "source": [
    "Ko sestavljaš nalogo iz rekurzije zlahka spregledaš, da je naloga rešljiva tudi brez. Kolega iz laboratorija me je opozoril na preprosto rešitev: v vsakem koraku vzamemo letalo, ki se bo čimprej vrnilo."
   ]
  },
  {
   "cell_type": "code",
   "execution_count": 1,
   "id": "876c479a",
   "metadata": {},
   "outputs": [],
   "source": [
    "def stevilo_letov(naslednji, leti):\n",
    "    letov = 0\n",
    "    while naslednji != None:\n",
    "        cas = naslednji[1] + 60\n",
    "        naslednji = None\n",
    "        for let in leti:\n",
    "            if let[0] >= cas and (naslednji is None or let[1] < naslednji[1]):\n",
    "                naslednji = let\n",
    "        letov += 1\n",
    "    return letov"
   ]
  },
  {
   "cell_type": "markdown",
   "id": "b50fcf85",
   "metadata": {},
   "source": [
    "Argument `prvi` smo zaradi higiene preimenovali v `naslednji` - predstavljal bo naslednji let. Imeli bomo zanko, ki bo tekla, dokler imamo še kakšen naslednji let. Znotraj zanke shranimo čas pristanka naslednjega leta in z zanko (znotraj zanke) med vsemi leti iščemo tistega, ki ima najzgodnejši pristanek. To bo naš naslednji let...\n",
    "\n",
    "To rešitev bi morali razumeti vsi, saj ne vsebuje ničesar preveč zapletenega (in predvsem nobene rekurzije :).\n",
    "\n",
    "Kdor bolj obvlada Python, lahko napiše še krajše."
   ]
  },
  {
   "cell_type": "code",
   "execution_count": 2,
   "id": "aa1fb6d4",
   "metadata": {},
   "outputs": [],
   "source": [
    "def stevilo_letov(naslednji, leti):\n",
    "    letov = 0\n",
    "    while naslednji != None:\n",
    "        naslednji = min((let for let in leti if let[0] >= naslednji[1] + 60),\n",
    "                        key=lambda x: x[1],\n",
    "                        default=None)\n",
    "        letov += 1\n",
    "    return letov"
   ]
  },
  {
   "cell_type": "markdown",
   "id": "1e6240be",
   "metadata": {},
   "source": [
    "Še imenitnejša (pravilnejša, hitrejša) rešitev je urediti lete po časih pristankov. Predstavljajmo si potnika, ki začne z določenim letom. Vsakič ko pristane, pogleda seznam in izbere naslednji let z najzgodnejšim pristankom..."
   ]
  },
  {
   "cell_type": "code",
   "execution_count": 3,
   "id": "64a9d7c8",
   "metadata": {},
   "outputs": [],
   "source": [
    "def stevilo_letov(naslednji, leti):\n",
    "    leti = sorted(leti, key=lambda x: x[1])\n",
    "    letov = 1\n",
    "    for let in leti[leti.index(naslednji):]:\n",
    "        if let[0] >= naslednji[1] + 60:\n",
    "            naslednji = let\n",
    "            letov += 1\n",
    "    return letov"
   ]
  },
  {
   "cell_type": "markdown",
   "id": "b307cdbc",
   "metadata": {},
   "source": [
    "\"Skrivnosten\" je le `sort` - tisti `key=lambda x: x[1]` poskrbi, da bo elemente (pare, lete) primerjal po elementu z indeksom 1, torej po pristanku."
   ]
  },
  {
   "cell_type": "markdown",
   "id": "b22db9d2",
   "metadata": {},
   "source": [
    "## 3. Razpored\n",
    "\n",
    "Neka letalska družba pa sedežev ne dodeljuje vnaprej, temveč lahko potniki zgolj izrazijo željo. Potnike nato vkrcavajo po seznamu. Vsak potnik se usede na želeni sedež, če je ta že zaseden, pa se pomika nazaj po vrstah, dokler ne naleti na vrsto, v kateri je sedež v želenem stolpcu prazen, ter ga zasede. Če so, na primer, že zasedeni sedeži 12C, 13C in 14C, se bo potnik, ki bi želel sedeti na 12C, usedel na 15C. Letalska družba uporablja dolga letala, ki imajo 130 vrst, obenem pa ji ne gre prav dobro (čudno, čudno), zato smete predpostaviti, da se bo po tem postopku našel sedež za vsakogar.\n",
    "\n",
    "Napišite funkcijo `razpored(seznam)`, ki dobi seznam s pari `(ime_potnika, zeleni_sedez)` in vrne nov seznam, ki je enak temu, le da so sedeži zamenjani z sedeži, ki jih bodo potniki dejansko dobili.\n",
    "\n",
    "Pomoč: če je `c` črka A, B, C, D, E ali F, je `ord(c) - 65` enak 0, 1, 2, 3, 4 oz. 5. Mogoče vam pride prav."
   ]
  },
  {
   "cell_type": "markdown",
   "id": "659f0969",
   "metadata": {},
   "source": [
    "## Rešitev\n",
    "\n",
    "Tole je naloga iz množic in iz zanke `while`. Lahko pa tudi ni iz množic. Vsekakor pa je iz zanke `while`. :)\n",
    "\n",
    "Nekam bo potrebno shranjevati zasedena mesta. Lahko, torej, pripravimo množico `zasedeni` z zasedenimi mesti, poleg tega pa seznam `dejanski`, v katerega bomo postavljali potnike in ga na koncu vrnili."
   ]
  },
  {
   "cell_type": "code",
   "execution_count": 11,
   "id": "99011940",
   "metadata": {},
   "outputs": [],
   "source": [
    "def razpored(zelje):\n",
    "    zasedeni = set()\n",
    "    dejanski = []\n",
    "    for potnik, sedez in zelje:\n",
    "        vrsta, stolpec = int(sedez[:-1]), sedez[-1]\n",
    "        while (vrsta, stolpec) in zasedeni:\n",
    "            vrsta += 1\n",
    "        zasedeni.add((vrsta, stolpec))\n",
    "        dejanski.append((potnik, f\"{vrsta}{stolpec}\"))\n",
    "    return dejanski"
   ]
  },
  {
   "cell_type": "markdown",
   "id": "baaf2a70",
   "metadata": {},
   "source": [
    "Ker smo toliko delali z `numpy`-jem -- pa tudi zaradi tega, kako so bili shranjeni podatki v prvi nalogi -- je gotovo prišlo komu na misel namesto množice uporabiti numpy-jevo tabelo. (Priznanje: tudi sam sem nalogo najprej rešil tako. Vendar je to predvsem posledica tega, kaj sem razmišljal, ko sem jo sestavljal.)"
   ]
  },
  {
   "cell_type": "code",
   "execution_count": 12,
   "id": "7bed116c",
   "metadata": {},
   "outputs": [],
   "source": [
    "def razpored(zelje):\n",
    "    zaseden = np.zeros((130, 6), dtype=bool)\n",
    "    razpored = []\n",
    "    for potnik, sedez in zelje:\n",
    "        vrsta, stolpec = int(sedez[:-1]), ord(sedez[-1]) - 65\n",
    "        while zaseden[vrsta, stolpec]:\n",
    "            vrsta += 1\n",
    "        zaseden[vrsta, stolpec] = True\n",
    "        razpored.append((potnik, f\"{vrsta}{sedez[-1]}\"))\n",
    "    return razpored"
   ]
  },
  {
   "cell_type": "markdown",
   "id": "c737e62f",
   "metadata": {},
   "source": [
    "Takšna rešitev je malenkost bolj zapletena, ker potrebujemo še indeks stolpca. Tega dobimo z `ord`, kot je svetoval opis naloge."
   ]
  },
  {
   "cell_type": "markdown",
   "id": "1dac797e",
   "metadata": {},
   "source": [
    "Morda bi koga zmotilo, dvojno shranjevanje podatkov. To, kaj je zasedeno, je razvidno že iz `razpored`, torej je `zaseden` v bistvu nepotreben. To je res, vendar je nerodno, da je `razpored` seznam, v katerem je zoprno preverjati, ali je določen sedež zaseden. Če že hočemo, pa lahko uporabimo slovar, ki za vsak sedež pove, kdo sedi na njem."
   ]
  },
  {
   "cell_type": "code",
   "execution_count": 13,
   "id": "24c242a7",
   "metadata": {},
   "outputs": [],
   "source": [
    "def razpored(zelje):\n",
    "    zasedeni = {}\n",
    "    for potnik, sedez in zelje:\n",
    "        vrsta, stolpec = int(sedez[:-1]), sedez[-1]\n",
    "        while (vrsta, stolpec) in zasedeni:\n",
    "            vrsta += 1\n",
    "        zasedeni[vrsta, stolpec] = potnik\n",
    "\n",
    "    dejanski = []\n",
    "    for (vrsta, stolpec), potnik in zasedeni.items():\n",
    "        dejanski.append((potnik, f\"{vrsta}{stolpec}\"))\n",
    "    return dejanski"
   ]
  },
  {
   "cell_type": "markdown",
   "id": "7cd75983",
   "metadata": {},
   "source": [
    "Prvi del se je malenkost poenostavil. V `return` pa moramo iz slovarja sestaviti pare potnikov in sedežev.\n",
    "\n",
    "Drugi del lahko poenostavimo, če znamo sestavljati izpeljane sezname:\n",
    "\n",
    "```python\n",
    "    return [(potnik, f\"{vrsta}{stolpec}\")\n",
    "            for (vrsta, stolpec), potnik in zasedeni.items()]\n",
    "```"
   ]
  },
  {
   "cell_type": "markdown",
   "id": "2fb76246",
   "metadata": {},
   "source": [
    "## 4. Ravnotežje\n",
    "\n",
    "Napišite funkcijo `ravnotezje(ime_datoteke)`, ki prejme ime datoteke s podatki, ločenimi z vejico. V prvi vrstici so zapisana imena stolpcev. Eden od njih se imenuje sedez; sedeži so zapisani v običajni obliki, npr. 12F ali 1C ali 128E. Funkcija mora vrniti razliko med številom potnikov, ki sedijo na desni (stolpci D, E, F) in levi (stolpci A, B, C) strani letala. Če, recimo, na desni sedi 7 potnikov več, vrne 7; če je 7 potnikov več na levi, vrne -7.!\n",
    "\n",
    "### Rešitev\n",
    "\n",
    "Ta, ki je normalno in pridno delal domače naloge, se ob tej nalogi lahko zahvali za poceni točke. Potrebno je le uporabiti `DictReader`, brati vrednosti v ustreznem stolpcu in glede na zadnji znak spreminjati ravnotežje letala. Lahko ločeno štejemo levo- in desnosedeče ter na koncu vrnemo razliko ..."
   ]
  },
  {
   "cell_type": "code",
   "execution_count": 14,
   "id": "c3ca5a24",
   "metadata": {},
   "outputs": [],
   "source": [
    "import csv\n",
    "\n",
    "def ravnotezje(ime_datoteke):\n",
    "    levo = desno = 0\n",
    "    for vrstica in csv.DictReader(open(ime_datoteke, encoding=\"utf-8\"), delimiter=\",\"):\n",
    "        if vrstica[\"sedez\"][-1] <= \"C\":\n",
    "            levo += 1\n",
    "        else:\n",
    "            desno += 1\n",
    "    return desno - levo"
   ]
  },
  {
   "cell_type": "markdown",
   "id": "49fac6cb",
   "metadata": {},
   "source": [
    "... lahko pa razliko računamo že kar sproti."
   ]
  },
  {
   "cell_type": "code",
   "execution_count": 15,
   "id": "4dc24b91",
   "metadata": {},
   "outputs": [],
   "source": [
    "def ravnotezje(ime_datoteke):\n",
    "    ravno = 0\n",
    "    for vrstica in csv.DictReader(open(ime_datoteke, encoding=\"utf-8\"), delimiter=\",\"):\n",
    "        if vrstica[\"sedez\"][-1] <= \"C\":\n",
    "            ravno -= 1\n",
    "        else:\n",
    "            ravno += 1\n",
    "    return ravno"
   ]
  },
  {
   "cell_type": "markdown",
   "id": "d5ae2445",
   "metadata": {},
   "source": [
    "*Kakor vam drago*, je rekel Vili."
   ]
  },
  {
   "cell_type": "markdown",
   "id": "ffb9eba8",
   "metadata": {},
   "source": [
    "## 5. Leti\n",
    "\n",
    "Napišite funkcijo `vozni_redi(potniki, ime_datoteke)`. Argument potniki je seznam z imeni potnikov, številkami letov in pari (ura, minuta) za odhod in prihod. Primer podatkov je, recimo `[(\"Ana Argon\", \"LH2832\", (12, 10), (13, 20)), (\"Berta Bor\", \"UO391\", (15, 5), (20, 30)), (\"Cilka Cankar\", \"LH192\", (7, 0), (12, 30))]`. Funkcija mora v datoteko s podanim imenom zapisati tabelico z imeni, leti in časi, v naslednji obliki.\n",
    "\n",
    "```\n",
    "Ana Argon            LH2832    12:10-13:20\n",
    "Berta Bor             UO391    15:05-20:30\n",
    "Cilka Cankar          LH192     7:00-12:30\n",
    "```\n",
    "\n",
    "Točno obliko - število presledkov - razberite iz testov.\n",
    "\n",
    "### Rešitev\n",
    "\n",
    "Tudi tale je bila kar poceni."
   ]
  },
  {
   "cell_type": "code",
   "execution_count": 16,
   "id": "171a09fb",
   "metadata": {},
   "outputs": [],
   "source": [
    "def vozni_redi(potniki, ime_datoteke):\n",
    "    f = open(ime_datoteke, \"w\", encoding=\"utf-8\")\n",
    "    for potnik, let, (od_h, od_m), (pri_h, pri_m) in potniki:\n",
    "        f.write(f\"{potnik:20} {let:>6}   {od_h:2}:{od_m:02}-{pri_h:2}:{pri_m:02}\\n\")"
   ]
  },
  {
   "cell_type": "markdown",
   "id": "adb61658",
   "metadata": {},
   "source": [
    "## Celotna rešitev\n",
    "\n",
    "Ker smo tule napisali veliko različnih rešitev, združimo vse skupaj še v \"pričakovano\" rešitev izpita. Tudi za vtis o dolžini celotnega izpita."
   ]
  },
  {
   "cell_type": "code",
   "execution_count": 17,
   "id": "a30fc8f0",
   "metadata": {},
   "outputs": [],
   "source": [
    "import re\n",
    "import csv\n",
    "\n",
    "import numpy as np\n",
    "\n",
    "\n",
    "def cena(zasedenost, cene):\n",
    "    return np.sum(zasedenost * (cene + cene[::-1]))\n",
    "\n",
    "\n",
    "def stevilo_letov(prvi, leti):\n",
    "    naj_letov = 0\n",
    "    for let in leti:\n",
    "        if prvi[1] + 60 <= let[0]:\n",
    "            letov = stevilo_letov(let, leti)\n",
    "            if letov > naj_letov:\n",
    "                naj_letov = letov\n",
    "    return naj_letov + 1\n",
    "\n",
    "\n",
    "def razpored(zelje):\n",
    "    zasedeni = set()\n",
    "    dejanski = []\n",
    "    for potnik, sedez in zelje:\n",
    "        vrsta, stolpec = int(sedez[:-1]), sedez[-1]\n",
    "        while (vrsta, stolpec) in zasedeni:\n",
    "            vrsta += 1\n",
    "        zasedeni.add((vrsta, stolpec))\n",
    "        dejanski.append((potnik, f\"{vrsta}{stolpec}\"))\n",
    "    return dejanski\n",
    "\n",
    "\n",
    "def ravnotezje(ime_datoteke):\n",
    "    ravno = 0\n",
    "    for vrstica in csv.DictReader(open(ime_datoteke, encoding=\"utf-8\"), delimiter=\",\"):\n",
    "        if vrstica[\"sedez\"][-1] <= \"C\":\n",
    "            ravno -= 1\n",
    "        else:\n",
    "            ravno += 1\n",
    "    return ravno\n",
    "\n",
    "\n",
    "def vozni_redi(potniki, ime_datoteke):\n",
    "    f = open(ime_datoteke, \"w\", encoding=\"utf-8\")\n",
    "    for potnik, let, (od_h, od_m), (pri_h, pri_m) in potniki:\n",
    "        f.write(f\"{potnik:20} {let:>6}   {od_h:2}:{od_m:02}-{pri_h:2}:{pri_m:02}\\n\")"
   ]
  }
 ],
 "metadata": {
  "kernelspec": {
   "display_name": "Python 3 (ipykernel)",
   "language": "python",
   "name": "python3"
  },
  "language_info": {
   "codemirror_mode": {
    "name": "ipython",
    "version": 3
   },
   "file_extension": ".py",
   "mimetype": "text/x-python",
   "name": "python",
   "nbconvert_exporter": "python",
   "pygments_lexer": "ipython3",
   "version": "3.11.5"
  }
 },
 "nbformat": 4,
 "nbformat_minor": 5
}
