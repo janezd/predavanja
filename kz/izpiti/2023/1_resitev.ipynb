{
 "cells": [
  {
   "cell_type": "markdown",
   "id": "d0f77b73",
   "metadata": {},
   "source": [
    "# 1. Knjigovodstvo\n",
    "\n",
    "Napišite funkcijo `knjigovodstvo(ime_datoteke)`, ki prejme ime datoteke s prihodki (vrstice s pozitivnimi števili) in odhodki (negativna števila) v obliki, kot jo kaže okvirček na desni. Funkcija mora vrniti trojko: seznam s pari imen dohodkov in pripadajočih zneskov, seznam s pari imen odhodkov in pripadajočih cen (kot pozitivna števila) ter skupno vsoto. Za datoteko \n",
    "\n",
    "```\n",
    "slika: 50\n",
    "slika: 100\n",
    "tempera: -3\n",
    "stol: -20\n",
    "kip: 20\n",
    "zrak: 0\n",
    "torba: 12\n",
    "```\n",
    "\n",
    "vrne\n",
    "\n",
    "```\n",
    "([('slika', 50), ('slika', 100), ('kip', 20), ('torba', 12)],\n",
    " [('tempera', 3), ('stol', 20)],\n",
    " 159)\n",
    "```\n",
    "pri čemer je 159 preprosto vsota vseh številk.\n",
    "\n",
    "## Rešitev\n",
    "\n",
    "Najprej pripravimo, kar bomo vrnili - seznama `prihodki` in `odhodki` ter `bilanca`.\n",
    "\n",
    "Nato gremo po datoteki: vsako vrstico razdelimo glede na `:` in pretvorimo znesek v število. Če je šteivlo negativno, dodamo par s stvarjo in zneskom v `odhodki` (pri čemer mora biti število `-znesek`), sicer v `prihodki`. Pa `bilanco` povečamo za `znesek`."
   ]
  },
  {
   "cell_type": "code",
   "execution_count": 1,
   "id": "a3b993d9",
   "metadata": {},
   "outputs": [],
   "source": [
    "def knjigovodstvo(ime_datoteke):\n",
    "    prihodki = []\n",
    "    odhodki = []\n",
    "    bilanca = 0\n",
    "    for vrstica in open(ime_datoteke):\n",
    "        stvar, znesek = vrstica.split(\":\")\n",
    "        znesek = int(znesek)\n",
    "        if znesek < 0:\n",
    "            odhodki.append((stvar, -znesek))\n",
    "        elif znesek > 0:\n",
    "            prihodki.append((stvar, znesek))\n",
    "        bilanca += znesek\n",
    "    return prihodki, odhodki, bilanca"
   ]
  },
  {
   "cell_type": "markdown",
   "id": "7810da07",
   "metadata": {},
   "source": [
    "Nekateri radi pišejo\n",
    "\n",
    "```\n",
    "    if znesek > 0:\n",
    "        bilanca += znesek\n",
    "    else:\n",
    "        bilanca -= abs(znesek)\n",
    "```\n",
    "\n",
    "To seveda ni potrebno. Python zna prištevati negativne vrednosti. :)\n",
    "\n",
    "Prav tako je lepo, da bilanco spreminjamo izven `if` in ne znotraj, ločeno za odhodke in za prihodke."
   ]
  },
  {
   "cell_type": "markdown",
   "id": "ac13db99",
   "metadata": {},
   "source": [
    "# 2. Draginja\n",
    "\n",
    "Napiši funkcijo `draginja(odhodki)`, ki vrne seznam parov imen stvari in cen. Ista stvar se lahko pojavi večkrat, a morda z različnimi cenami. Funkcija mora vrniti ime stvari, katere povprečna cena je bila največja. Če je takšnih stvari več, lahko vrne poljubno izmed njih.\n",
    "\n",
    "Klic `draginja([('stol', 20), ('torba', 12), ('tempera', 3), ('miza', 50), ('stol', 30), ('stol', 60), ('miza', 40), ('torba', 5)])` vrne `'miza'`, saj je povprečna cena miz enaka `(50 + 40) / 2 = 45`, medtem ko je povprečna cena, recimo, stolov `(20 + 30 + 60) / 3 = 36,66`, torbe in tempere pa so še cenejše.\n",
    "\n",
    "## Rešitev\n",
    "\n",
    "Tole je naloga iz slovarjev. Da bomo lahko računali povprečne cene, bomo potrebovali dva: v enem beležimo vsote cen vsake stvari, v drugem število takšnih stvari.\n",
    "\n",
    "Ko se odločimo glede tega, je funkcija preprosta."
   ]
  },
  {
   "cell_type": "code",
   "execution_count": 2,
   "id": "3590fb2c",
   "metadata": {},
   "outputs": [],
   "source": [
    "def draginja(odhodki):\n",
    "    skupna_cena = defaultdict(float)\n",
    "    skupno_kosov = defaultdict(int)\n",
    "    for stvar, cena in odhodki:\n",
    "        skupna_cena[stvar] += cena\n",
    "        skupno_kosov[stvar] += 1\n",
    "\n",
    "    naj_stvar, naj_povp = None, -1\n",
    "    for stvar in skupna_cena:\n",
    "        povp = skupna_cena[stvar] / skupno_kosov[stvar]\n",
    "        if povp > naj_povp:\n",
    "            naj_stvar, naj_povp = stvar, povp\n",
    "    return naj_stvar"
   ]
  },
  {
   "cell_type": "markdown",
   "id": "a48604e3",
   "metadata": {},
   "source": [
    "Zoprni drugi del se da skrajšati, če znamo bolj spretno uporabljati `max` in poznamo `lambde`."
   ]
  },
  {
   "cell_type": "code",
   "execution_count": 3,
   "id": "7c27fa9a",
   "metadata": {},
   "outputs": [],
   "source": [
    "def draginja(odhodki):\n",
    "    skupna_cena = defaultdict(float)\n",
    "    skupno_kosov = defaultdict(int)\n",
    "    for stvar, cena in odhodki:\n",
    "        skupna_cena[stvar] += cena\n",
    "        skupno_kosov[stvar] += 1\n",
    "    return max(skupna_cena, key=lambda stvar: skupna_cena[stvar] / skupno_kosov[stvar])"
   ]
  },
  {
   "cell_type": "markdown",
   "id": "773a0501",
   "metadata": {},
   "source": [
    "# 3. Dragocenosti\n",
    "\n",
    "Napišite funkcijo `dragocenosti(stvari, cene, meja)`, ki prejme numpy-jevo tabelo z imeni stvari in dvodimenzionalno tabelo, katere vrstice ustrezajo stvarem (v enakem vrstnem redu kot so te naštete v prvi tabeli), stolpci pa dnevom. Vrednosti v tabeli povedo, koliko je stvar stala na posamezni dan.\n",
    "\n",
    "Funkcija mora vrniti tabelo z imeni vseh stvari, katerih cene so bile vsaj en dan višje od podane meje meja. Vrstni red mora biti enak vrstnemu redu v tabeli stvari.\n",
    "\n",
    "**Pri tej nalogi pričakujemo rešitev v čistem numpy-ju, brez zank v Pythonu.**\n",
    "\n",
    "## Rešitev\n",
    "\n",
    "Takole."
   ]
  },
  {
   "cell_type": "code",
   "execution_count": 4,
   "id": "36da607c",
   "metadata": {},
   "outputs": [],
   "source": [
    "def dragocenosti(stvari, cene_po_dnevih, meja):\n",
    "    return stvari[np.any(cene_po_dnevih > meja, axis=1)]"
   ]
  },
  {
   "cell_type": "markdown",
   "id": "c923855c",
   "metadata": {},
   "source": [
    "Ali pa takole."
   ]
  },
  {
   "cell_type": "code",
   "execution_count": 5,
   "id": "53887f17",
   "metadata": {},
   "outputs": [],
   "source": [
    "def dragocenosti(stvari, cene_po_dnevih, meja):\n",
    "    return stvari[np.max(cene_po_dnevih, axis=1) > meja]"
   ]
  },
  {
   "attachments": {},
   "cell_type": "markdown",
   "id": "5433a257",
   "metadata": {},
   "source": [
    "# 4. Dobavitelji\n",
    "\n",
    "Imamo drevo dobaviteljev. Če se odločimo nek izdelek kupiti prek Elizabete, ga lahko dobimo od nje, lahko pa od kogarkoli, ki je v \"drevesu\" pod njo, recimo od Barbare, France, Alenke. Kadar gre izdelek prek več rok, vmesni členi seveda poberejo provizije: če nekaj kupimo od Elizabete, dejansko pa pride izdelek od Franca, bo Jurij pribil 10 % na Frančevo ceno, Elizabeta pa 10 % na Jurijevo.\n",
    "\n",
    "\"Drevo\" je v slovarju pogodbeniki. Cene so v slovarju cene: njegovi ključi so imena pogodbenikov, vrednosti pa slovarji, katerega ključi so imena izdelkov, vrednosti pa cene. Elizabetina cena za metlo je v `cene[\"Elizabeta\"][\"metla\"]`. Če Elizabeta nima na zalogi metel, v njenem slovarju tega ključa ni. Če nekdo v resnici nima nobenih izdelkov, temveč samo posreduje, ga ni niti v slovarju cene.\n",
    "\n",
    "Predpostaviti smeš, da za vsak izdelek obstaja vsaj en ponudnik.\n",
    "\n",
    "Napiši funkcijo `najcenejsa_ponudba(dobavitelj, izdelek)`, ki vrne najnižjo ceno, po kateri lahko od pogodbenika dobimo podani izdelek. Ta cena je torej lahko cena, po kateri izdelek dejansko pride od te osebe, lahko pa je cena, po kateri izdelek ponuja kdo od podpogodbenikov, seveda z dodanimi provizijami.\n",
    "\n",
    "\n",
    "## Rešitev\n",
    "\n",
    "Za začetek pogledamo, za koliko se reč dobi pri `dobavitelj`; če je ne ponuja, je njegova cena `inf`. Nato gremo po vseh, ki so pod njim; cene, ki jih ponudijo, pomnožimo z 1.1 in če so nižje od najnižje doslej, si zapomnimo to."
   ]
  },
  {
   "cell_type": "code",
   "execution_count": 6,
   "id": "b3c5c873",
   "metadata": {},
   "outputs": [],
   "source": [
    "def najcenejsa_ponudba(dobavitelj, stvar):\n",
    "    najcena = cene.get(dobavitelji, {}).get(stvar, float(\"inf\"))\n",
    "    for pogodbenik in dobavitelji[dobavitelj]:\n",
    "        cena = najcenejsa_ponudba(pogodbenik, stvar) * 1.1\n",
    "        if cena < najcena:\n",
    "            najcena = cena\n",
    "    return najcena"
   ]
  },
  {
   "cell_type": "markdown",
   "id": "e83eee14",
   "metadata": {},
   "source": [
    "# 5. Evidenca\n",
    "\n",
    "Napišite funkcijo `evidenca(postavke, ime_datoteke)`, ki prejme postavke v obliki trojk z imenom stvarmi, ceno za kos in številom kosov, na primer `[(\"slika\", 50, 2), (\"tempera\", 3, 1), (\"stol\", 20, 1),  (\"kip\", 20, 12), (\"zrak\", 0, 141), (\"torba\", 12, 1)]`. Funkcija mora v datoteko ime_datoteke zapisati tabelo v obliki, ki jo kaže slika na desni. Točno obliko - število presledkov - razberite iz testov.\n",
    "\n",
    "```\n",
    "Stvar        Cena x Kosov     Skupaj\n",
    "------------------------------------\n",
    "slika          50 x 2            100\n",
    "tempera         3 x 1              3\n",
    "stol           20 x 1             20\n",
    "kip            20 x 12           240\n",
    "zrak            0 x 141            0\n",
    "torba          12 x 1             12\n",
    "```"
   ]
  },
  {
   "cell_type": "markdown",
   "id": "528b37c7",
   "metadata": {},
   "source": [
    "## Rešitev\n",
    "\n",
    "Tule gre zgolj za osnovno oblikovanje nizo: prešteti moramo, na koliko znakov poravnamo kakšno stvar, pa z `>` in `<` potiskati stvari na desno in na levo."
   ]
  },
  {
   "cell_type": "code",
   "execution_count": 7,
   "id": "b78e26a9",
   "metadata": {},
   "outputs": [],
   "source": [
    "def evidenca(postavke, ime_datoteke):\n",
    "    f = open(ime_datoteke, \"w\")\n",
    "    f.write(f\"{'Stvar':10} {'Cena':>6} x {'Kosov':<5} {'Skupaj':>10}\\n\")\n",
    "    f.write(\"-\" * 36 + \"\\n\")\n",
    "    for stvar, cena, kosov in postavke:\n",
    "        f.write(f\"{stvar:10} {cena:>6} x {kosov:<5} {cena * kosov:10}\\n\")"
   ]
  }
 ],
 "metadata": {
  "kernelspec": {
   "display_name": "Python 3 (ipykernel)",
   "language": "python",
   "name": "python3"
  },
  "language_info": {
   "codemirror_mode": {
    "name": "ipython",
    "version": 3
   },
   "file_extension": ".py",
   "mimetype": "text/x-python",
   "name": "python",
   "nbconvert_exporter": "python",
   "pygments_lexer": "ipython3",
   "version": "3.11.5"
  }
 },
 "nbformat": 4,
 "nbformat_minor": 5
}
