{
 "cells": [
  {
   "cell_type": "markdown",
   "id": "3ed5b737-7eb7-4aac-a01e-a75bbdeafb43",
   "metadata": {},
   "source": [
    "Podan je slovar `postaje`, katerega ključi so imena postaj Biciklja, vrednosti pa slovarji z zemljepisnimi koordinatami postajališč, kapaciteto (število stojal) in trenutnim številom koles na postaji. (Glej slovar v testih.)\n",
    "\n",
    "Podana je tudi funkcija `razdalje(postaja1, postaja2)`, ki prejme imeni postaj in vrne razdaljo med njima. "
   ]
  },
  {
   "cell_type": "markdown",
   "id": "b344c00f-64e8-4d55-aad9-300c5d205d12",
   "metadata": {},
   "source": [
    "Najprej, za vtis, rešitev celotnega izpita v obliki, kot bi si jo želel od študentov. Posamične naloge so razložene spodaj."
   ]
  },
  {
   "cell_type": "code",
   "execution_count": 12,
   "id": "cc8b58aa-11b6-4883-b6be-2e6005cbf95d",
   "metadata": {},
   "outputs": [],
   "source": [
    "import json\n",
    "from urllib.request import urlopen\n",
    "\n",
    "import numpy as np\n",
    "\n",
    "# 1\n",
    "\n",
    "def prenesi():\n",
    "    return {x[\"name\"]:{\n",
    "            \"latitude\": x[\"position\"][\"latitude\"],\n",
    "            \"longitude\": x[\"position\"][\"longitude\"],\n",
    "            \"capacity\": x[\"totalStands\"][\"capacity\"],\n",
    "            \"bikes\": x[\"totalStands\"][\"availabilities\"][\"mechanicalBikes\"]}\n",
    "           for x in json.loads(urlopen(URL).read())}\n",
    "\n",
    "# 2\n",
    "\n",
    "def najblizje(postaja):\n",
    "    pari = []\n",
    "    for ime in postaje:\n",
    "        if ime != postaja:\n",
    "            pari.append((razdalja(postaja, ime), ime))\n",
    "    pari.sort()\n",
    "    return pari[1:4]\n",
    "\n",
    "# 3\n",
    "\n",
    "def zapisi(ime_datoteke):\n",
    "    f = open(ime_datoteke, \"w\", encoding=\"utf-8\")\n",
    "    for ime in sorted(postaje):\n",
    "        f.write(f\"{ime:40}{postaje[ime]['bikes']:2}/{postaje[ime]['capacity']:<2}\\n\")\n",
    "\n",
    "# 4\n",
    "\n",
    "def spremembe(prevozi):\n",
    "    return np.sum(prevozi, axis=0) - np.sum(prevozi, axis=1)\n",
    "\n",
    "def asimetrija(prevozi):\n",
    "    r = np.abs(prevozi - prevozi.T)\n",
    "    return (r == np.max(r)).nonzero()[0]\n",
    "\n",
    "# 5\n",
    "\n",
    "def spust_na_0(matrika, x, y):\n",
    "    if matrika[y, x] == 0:\n",
    "        return 1\n",
    "    nicel = 0\n",
    "    for nx, ny in ((x-1, y), (x+1, y), (x, y-1), (x, y+1)):\n",
    "        if 0 <= nx < matrika.shape[1] and 0 <= ny < matrika.shape[0] and matrika[ny, nx] < matrika[y, x]:\n",
    "            nicel += spust_na_0(matrika, nx, ny)\n",
    "    return nicel"
   ]
  },
  {
   "cell_type": "markdown",
   "id": "1a62907f-bf48-4397-b817-1fd0e6d42910",
   "metadata": {},
   "source": [
    "### 1. Branje podatkov [tema: json, slovarji]\n",
    "\n",
    "Napišite funkcijo `prenesi()`, ki prebere podatke z naslova [https://ucilnica.fri.uni-lj.si/mod/resource/view.php?id=59478](https://ucilnica.fri.uni-lj.si/mod/resource/view.php?id=59478) (naslov je shranjen v spremenljivki URL v testih), jih predela v slovar v enaki obliki kot podani slovar postaje, in ga vrne. (Opomba: podatki so kopija resničnih, sproti osveževanih podatkov z naslova `https://api.jcdecaux.com/vls/v3/stations?apiKey=frifk0jbxfefqqniqez09tw4jvk37wyf823b5j1i&contract=ljubljana`, ki je med izpitom nedosegljiv.)\n",
    "\n",
    "#### Rešitev\n",
    "\n",
    "Potrebno je bilo pogledati, kaj je na tem naslovu in prepoznati obliko json. (Že za omembo jsona v rešitvi sem dal 5 točk. Večina študentov je žal nekaj brala in split-ala.) Rezultat je bil slovar, iz katerega je bilo potrebno le prestaviti podatke v nov, malo drugačen slovar."
   ]
  },
  {
   "cell_type": "code",
   "execution_count": 1,
   "id": "c34b77f7-8a44-4301-8a77-421b6d54656b",
   "metadata": {},
   "outputs": [],
   "source": [
    "from urllib.request import urlopen\n",
    "\n",
    "def prenesi():\n",
    "    return {x[\"name\"]:{\n",
    "            \"latitude\": x[\"position\"][\"latitude\"],\n",
    "            \"longitude\": x[\"position\"][\"longitude\"],\n",
    "            \"capacity\": x[\"totalStands\"][\"capacity\"],\n",
    "            \"bikes\": x[\"totalStands\"][\"availabilities\"][\"mechanicalBikes\"]}\n",
    "           for x in json.loads(urlopen(URL).read())}"
   ]
  },
  {
   "cell_type": "markdown",
   "id": "1fcf650a-1e97-441d-a879-0662fc77aa4a",
   "metadata": {},
   "source": [
    "Kdor na mara izpeljanih slovarjev in podobnih rokohitrstev, je šel lepo počasi."
   ]
  },
  {
   "cell_type": "code",
   "execution_count": 2,
   "id": "051a14fa-db9e-42f9-9f3c-04682f39441f",
   "metadata": {},
   "outputs": [],
   "source": [
    "def prenesi():\n",
    "    t = urlopen(URL).read()\n",
    "    postaje = {}\n",
    "    for x in json.loads(t):\n",
    "        postaje[x[\"name\"]] = {\n",
    "            \"latitude\": x[\"position\"][\"latitude\"],\n",
    "            \"longitude\": x[\"position\"][\"longitude\"],\n",
    "            \"capacity\": x[\"totalStands\"][\"capacity\"],\n",
    "            \"bikes\": x[\"totalStands\"][\"availabilities\"][\"mechanicalBikes\"]}\n",
    "    return postaje"
   ]
  },
  {
   "cell_type": "markdown",
   "id": "a754768d-f4b8-4156-b695-2be4022ed64f",
   "metadata": {},
   "source": [
    "### 2. Najbližje 3 [tema: seznami]\n",
    "\n",
    "Avtor izpita ni uporabnik Biciklja (enkrat je bilo dovolj), ve pa, da na določeni postaji včasih ne moreš dobiti ali oddati kolesa, zato se je potrebno ozreti po bližnjih postajah.\n",
    "\n",
    "Napišite funkcijo `najblizje3(postaja)`, ki za podano postajo poišče najbližje tri postaje in vrne seznam (treh) parov (razdalja, ime). Seznam naj bo urejen po razdaljah.\n",
    "\n",
    "Klic `najblizje3(\"ŽIVALSKI VRT\")` vrne `[(0.73687236710574, 'VIŠKO POLJE'), (0.9639016462683163, 'TEHNOLOŠKI PARK'), (1.0760703913614853, 'SOSESKA NOVO BRDO')]`.\n",
    "\n",
    "#### Rešitev\n",
    "\n",
    "Najpreprosteje je sestaviti seznam natančno takšnih parov, kot jih zahteva naloga (naloga je sestavljena, kakor je, prav zato, da vam da ta namig!), jih urediti in vrniti prve tri. (Tudi, da mora biti rezultat urejen, je nekaj, kar bi vas lahko napeljalo na pravo pot.)"
   ]
  },
  {
   "cell_type": "code",
   "execution_count": 3,
   "id": "7c603a25-ab21-411a-8e21-00fc22753276",
   "metadata": {},
   "outputs": [],
   "source": [
    "def najblizje(postaja):\n",
    "    pari = []\n",
    "    for ime in postaje:\n",
    "        if ime != postaja:\n",
    "            pari.append((razdalja(postaja, ime), ime))\n",
    "    pari.sort()\n",
    "    return pari[1:4]"
   ]
  },
  {
   "cell_type": "markdown",
   "id": "dca7ba4c-ed5c-4fa8-8dc8-40489f8a0044",
   "metadata": {},
   "source": [
    "No, ne prvih treh: prvi element je vedno izhodiščna postaja in jo preskočimo, zato vzamemo `[1:4]`.\n",
    "\n",
    "Še hitreje gre, če poznamo izpeljane sezname."
   ]
  },
  {
   "cell_type": "code",
   "execution_count": 4,
   "id": "0a5fbaa2-5db3-40f1-bcb4-91fc3bb72d8c",
   "metadata": {},
   "outputs": [],
   "source": [
    "def najblizje3(postaja):\n",
    "    return sorted((razdalja(postaja, name), name) for name in postaje)[1:4]"
   ]
  },
  {
   "cell_type": "markdown",
   "id": "03bb4736-7edc-417b-aead-a706c433c030",
   "metadata": {},
   "source": [
    "Če se ne domislimo urejanja, so stvari seveda bolj \"zabavne\". No, ni tako hudo: trikrat zapored poiščemo najbližjo postajo in jo dodamo v seznam."
   ]
  },
  {
   "cell_type": "code",
   "execution_count": 5,
   "id": "c89f831a-d0ea-4268-9bf5-8398952de853",
   "metadata": {},
   "outputs": [],
   "source": [
    "def najblizje(postaja):\n",
    "    moznosti = list(postaje)\n",
    "    moznosti.remove(postaja)\n",
    "    naj3 = []\n",
    "    for i in range(3):\n",
    "        naj = None\n",
    "        for ime in moznosti:\n",
    "            if naj is None or razdalja(postaja, ime) < razdalja(postaja, naj):\n",
    "                naj = ime\n",
    "        naj3.append((razdalja(postaja, naj), naj))\n",
    "        moznosti.remove(naj)\n",
    "    return naj3"
   ]
  },
  {
   "cell_type": "markdown",
   "id": "88cbaa07-99b9-49cd-8902-91f133ca3c23",
   "metadata": {},
   "source": [
    "Ni tako lepo, spet pa ni neka znanstvena fantastika."
   ]
  },
  {
   "attachments": {},
   "cell_type": "markdown",
   "id": "14bc7d30-b103-4778-a773-6b8939193796",
   "metadata": {},
   "source": [
    "### 3. Tabela postaj [tema: pisanje datotek in oblikovanje nizov]\n",
    "\n",
    "Napišite funkcijo zapisi(ime_datoteke), ki v podano datoteko zapiše imena postaj (na 40 mest), ki ji sledi število razpoložljivih koles in število mest. Zapis mora biti urejen po abecedi imen postaj (šumniki pa bodo na koncu; uporabite običajno urejanje v Pythonu) in v spodnji obliki.\n",
    "\n",
    "```\n",
    "KONGRESNI TRG-ŠUBIČEVA ULICA             9/20\n",
    "KOPALIŠČE ILIRIJA                        0/20\n",
    "KOPALIŠČE KOLEZIJA                      19/20\n",
    "KOPRSKA ULICA                            3/8 \n",
    "KOSEŠKI BAJER                           14/20\n",
    "```\n",
    "\n",
    "#### Rešitev\n",
    "\n",
    "Tole je bilo mišljeno kot podarjena naloga. Žal ste imeli nekaj nepredvidenih težav s poravnavanjem številk na desno in levo. Poglejte znakce za urejanje - `:2` in `:<2`."
   ]
  },
  {
   "cell_type": "code",
   "execution_count": 6,
   "id": "55519359-820c-4d96-879c-958128592c4b",
   "metadata": {},
   "outputs": [],
   "source": [
    "def zapisi(ime_datoteke):\n",
    "    f = open(ime_datoteke, \"w\", encoding=\"utf-8\")\n",
    "    for ime in sorted(postaje):\n",
    "        f.write(f\"{ime:40}{postaje[ime]['bikes']:2}/{postaje[ime]['capacity']:<2}\\n\")"
   ]
  },
  {
   "attachments": {},
   "cell_type": "markdown",
   "id": "8b8a5044-62cf-4180-87b4-96384d98e5d9",
   "metadata": {},
   "source": [
    "### 4. Prevozi [tema: numpy]\n",
    "\n",
    "Imamo matriko v numpyju, ki predstavlja podatke o prehodih koles med postajami v nekem časovnem obdobju: element z indeksoma `[i][j]` pove, koliko koles je bilo prevzetih na i-ti postaji in vrnjenih na j-to. Matrika na sliki nam pove, da so na postaji 1 prevzeli 3 kolesa, ki so jih vrnili na postajo 1; 7 koles, ki so jih vrnili na postajo 2; in 5 koles, ki so jih vrnili na 4.\n",
    "\n",
    "- Skupno so s postaje 1 odpeljali 15 koles, pripeljali pa so jih (kje to vidimo?) 10. Na postaji 1 je pet koles manj, kot jih je bilo prej. Napišite funkcijo `spremembe(prevozi)`, ki prejme takšno matriko in vrne matriko s toliko elementi, kolikor je postaj. Vsak element pove, koliko koles več (pozitivna števila) oz. manj (negativna) kot prej je na postaji. Za matriko s slike vrne `[-6, -5, 12, -6, 9, -4]`.\n",
    "\n",
    "- S postaje 1 na postajo 4 so pripeljali 5 koles, s postaje 4 na 1 pa samo 1 kolo. Razlika je torej 4. S postaje 4 na 5 so jih pripeljali 3, obratno prav tako 3. Razlika je 0. Največja razlika je med postajama 1 in 2: v eno smer so jih pripeljali 1, v drugo 7, razlika je 6. Napišite funkcijo `asimetrija(prevozi)`, ki vrne par postaj z največjo razliko. V gornjem primeru mora vrniti `[1, 2]` (ali `[2, 1]`). Če je parov z največjo razliko več, smete vrniti poljubnega.\n",
    "\n",
    "Zaželeno je, da nalogo rešite s spretno uporabo numpyja – v vrstici ali dveh, brez kakšnih zank v Pythonu.\n",
    "\n",
    "#### Rešitev\n",
    "\n",
    "Kdor si je ogledal matriko, je videl, da i-ta vrstica pove, koliko koles je bilo prevzetih na i-ti postaji. Število prevzetih koles (po postajah) je torej `np.sum(prevozi, axis=1)`. Vsote stolpcev povedo, koliko koles je prišlo na posamično postajo. Rešitev je torej"
   ]
  },
  {
   "cell_type": "code",
   "execution_count": 7,
   "id": "b1d61e61-e574-49be-8f57-97f51b558d52",
   "metadata": {},
   "outputs": [],
   "source": [
    "def spremembe(prevozi):\n",
    "    return np.sum(prevozi, axis=0) - np.sum(prevozi, axis=1)"
   ]
  },
  {
   "cell_type": "markdown",
   "id": "f30d397d-b342-4ea9-9afe-e2b1bd6db86a",
   "metadata": {},
   "source": [
    "Če zamešamo osi (kot sem jih prav med pisanjem tega besedila tudi sam), bodo imeli elementi rezultata ravno napačen predznak. Pač obrnemo.\n",
    "\n",
    "Bistvo drugega dela je, da odštejemo elemente, ki so prezrcaljeni čez diagonalo, se pravi, recimo, `prevozi[2, 4]` od `prevozi[4, 2]`, kar storimo z `prevozi - prevozi.T`. Zanimajo nas le absolutne vrednosti, torej `np.abs(prevozi - prevozi.T)`. Že kdor je napisal to, je dobil veliko točk. Nekateri so nadaljevali z `argmax`, kar je načelno pravilna ideja, ki je prinesla nekaj točk, čeprav tule ne deluje. Tule je potrebno poiskati vse elemente, ki so enaki maksimum, nato `nonzero()`, da dobimo njihove indekse. Potem vzamemo prvega od njih."
   ]
  },
  {
   "cell_type": "code",
   "execution_count": 8,
   "id": "f580fc42-f40c-4884-a053-02adc537292c",
   "metadata": {},
   "outputs": [],
   "source": [
    "def asimetrija(prevozi):\n",
    "    r = np.abs(prevozi - prevozi.T)\n",
    "    return (r == np.max(r)).nonzero()[0]"
   ]
  },
  {
   "cell_type": "markdown",
   "id": "7ec25af4-924c-4ade-8ab4-13d39a22d689",
   "metadata": {},
   "source": [
    "Ta naloga je bila zoprna zaradi `nonzero`; kot rečeno, sem nagrajeval tudi dobre ideje, ki v tem konkretnem primeru sicer niso delovale. Tudi rešitev v slogu"
   ]
  },
  {
   "cell_type": "code",
   "execution_count": 11,
   "id": "4aa234a4-b42d-439f-ad18-97ebe3eeba12",
   "metadata": {},
   "outputs": [],
   "source": [
    "def asimetrija(prevozi):\n",
    "    r = np.abs(prevozi - prevozi.T)\n",
    "    m = np.max(r)\n",
    "    for x in range(len(r)):\n",
    "        for y in range(len(r)):\n",
    "            if r[x][y] == m and x != y:\n",
    "                return [x, y]  "
   ]
  },
  {
   "cell_type": "markdown",
   "id": "9b55a5be-18c8-4385-955f-3dbd68836e1b",
   "metadata": {},
   "source": [
    "nisem (preveč) zameril."
   ]
  },
  {
   "attachments": {},
   "cell_type": "markdown",
   "id": "97477d50-ec32-48ea-926d-6d5bde39b468",
   "metadata": {},
   "source": [
    "### 5. Spusti [tema: rekurzija]\n",
    "\n",
    "Po nekem strašnem naključju predstavlja matrika na gornji sliki tudi nadmorske višine nekih točk na neki mreži. Kolesar vozi le navzdol: če se znajde na polju `[1][1]` (trojka) lahko gre gor (na 2), levo (na 0) ali dol (na 1), ne pa desno, ker je tam 7. Po diagonalah ne vozi.\n",
    "\n",
    "Napišite funkcijo `spust_na_0(matrika, x, y)`, ki za podani x (stolpec) in y (vrstica) pove, koliko ničel je dosegljivih s tega polja. Če je možno do neke ničle priti na več načinov, jo štejte večkrat, ker je kolesar neumen in ne opazi, kadar pride do istega cilja samo po drugi poti.\n",
    "\n",
    "Z omenjene trojke lahko pride na petih ničle: na eno neposredno, do dveh prek spodnje enke, če gre gor na dvojko, pa lahko gre od ondod levo ali desno na enki v prvi vrstici in potem na ničli zraven njiju. Ničlo v prvi vrstici štejemo dvakrat, ker jo dosežemo na dva načina.\n",
    "\n",
    "Nasvet: ne vznemirjajte se zaradi \"več načinov\": naloga je takšna zato, da je lažja, ne težja. Če se boste \"normalno\" lotili naloge, boste večkratne poti že \"ponesreči\" šteli večkrat.\n",
    "\n",
    "#### Rešitev\n",
    "\n",
    "Tole je tako kot, recimo, velikost rodbine, le da so \"potomci\" sosednje celice z nižjo številko."
   ]
  },
  {
   "cell_type": "code",
   "execution_count": 1,
   "id": "3951db33-3312-445b-9ae0-bea5be60107e",
   "metadata": {},
   "outputs": [],
   "source": [
    "def spust_na_0(matrika, x, y):\n",
    "    if matrika[y, x] == 0:\n",
    "        return 1\n",
    "\n",
    "    nicel = 0\n",
    "    for nx, ny in ((x-1, y), (x+1, y), (x, y-1), (x, y+1)):\n",
    "        if 0 <= nx < matrika.shape[1] and 0 <= ny < matrika.shape[0] and matrika[ny, nx] < matrika[y, x]:\n",
    "            nicel += spust_na_0(matrika, nx, ny)\n",
    "    return nicel"
   ]
  }
 ],
 "metadata": {
  "kernelspec": {
   "display_name": "Python 3 (ipykernel)",
   "language": "python",
   "name": "python3"
  },
  "language_info": {
   "codemirror_mode": {
    "name": "ipython",
    "version": 3
   },
   "file_extension": ".py",
   "mimetype": "text/x-python",
   "name": "python",
   "nbconvert_exporter": "python",
   "pygments_lexer": "ipython3",
   "version": "3.12.7"
  }
 },
 "nbformat": 4,
 "nbformat_minor": 5
}
