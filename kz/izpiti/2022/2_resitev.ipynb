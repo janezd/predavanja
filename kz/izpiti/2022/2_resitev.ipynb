{
 "cells": [
  {
   "cell_type": "markdown",
   "id": "b1d96db3",
   "metadata": {},
   "source": [
    "<img src=\"data:image/.png;base64,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\"/>"
   ]
  },
  {
   "attachments": {},
   "cell_type": "markdown",
   "id": "ad7c595f",
   "metadata": {},
   "source": [
    "Slika kaže razpored ovir v testih. Funkcije morajo delovati za poljuben razpored ovir (predpostaviti pa smeš, da se ovire ne prekrivajo) in velikost steze.\n",
    "\n",
    "Ovire so podane kot seznam terk `(y, x0, x1)`, kjer je `y` številka vrstice, x0 in x1 pa skrajni levi in desni stolpec ovire. Seznam ovir ni urejen ne po vrsticah ne kakorkoli drugače."
   ]
  },
  {
   "attachments": {},
   "cell_type": "markdown",
   "id": "79da783f",
   "metadata": {},
   "source": [
    "## 1. Prehodi\n",
    "\n",
    "Prehodi so prosta polja, ki imajo na sosednjem levem in desnem polju oviro. Na sliki so označena s križci. Napiši funkcijo prehodi(ovire), ki vrne množico koordinat prehodov v obliki parov (y, x).\n",
    "\n",
    "### Rešitev\n",
    "\n",
    "Lahko gremo prek seznama vseh parov ovir in za vsak par preverimo, ali je med njima stisnjen prehod. Ker ovire niso urejene, bo potrebno narediti dvojno zanko:\n",
    "\n",
    "```\n",
    "    for ya, xa0, xa1 in ovire:\n",
    "        for yb, xb0, xb1 in ovire:\n",
    "```\n",
    "\n",
    "Za vsak preverimo, ali sta v isti vrstici in ali se druga ovira začne dve polji po koncu prve ovire. Če je tako, dodamo vmesno polje v množico."
   ]
  },
  {
   "cell_type": "code",
   "execution_count": 1,
   "id": "cc5b3921",
   "metadata": {},
   "outputs": [],
   "source": [
    "def prehodi(ovire):\n",
    "    preh = set()\n",
    "    for ya, xa0, xa1 in ovire:\n",
    "        for yb, xb0, xb1 in ovire:\n",
    "            if ya == yb and xb0 == xa1 + 2:\n",
    "                preh.add((ya, xa1 + 1))\n",
    "    return preh"
   ]
  },
  {
   "cell_type": "markdown",
   "id": "aabd90ff",
   "metadata": {},
   "source": [
    "Če smo čisto strogi, to ni čisto prava rešitev: kaj, če bi bila na polju med tema ovirama zagozdena še ena ovira dolžine 1? Tega sicer nikoli nismo videvali: dve oviri, ki se vodoravno stikata, sta bili vedno ena ovira. Če bi nas to skrbelo, bi lahko odšteli še vse ovire dolžine 1,\n",
    "\n",
    "```\n",
    "    return pref - {(y, x0) for y, x0, x1 in ovire if x0 == x1}\n",
    "```\n",
    "\n",
    "Vendar na to možnost nisem pomislil niti pri sestavljanju nalog, niti pri sestavljanju testov, zato ne bomo nikomur zamerili, če je rešil tako, kot zgoraj.\n",
    "\n",
    "Še manjši detajl: spremenljivk `xa0` in `xb1` v resnici ne potrebujemo, zato bi ju lahko zamenjali s `_`."
   ]
  },
  {
   "cell_type": "code",
   "execution_count": 2,
   "id": "75c95700",
   "metadata": {},
   "outputs": [],
   "source": [
    "def prehodi(ovire):\n",
    "    preh = set()\n",
    "    for ya, _, xa1 in ovire:\n",
    "        for yb, xb0, _ in ovire:\n",
    "            if ya == yb and xb0 == xa1 + 2:\n",
    "                preh.add((ya, xa1 + 1))\n",
    "    return preh"
   ]
  },
  {
   "cell_type": "markdown",
   "id": "9dc9ccf4",
   "metadata": {},
   "source": [
    "Zdaj pa kakšna boljša rešitev. Lahko, recimo, najprej razmečemo ovire po vrsticah. Sestavimo slovar, katerega ključi so številke vrstic, `y`, vrednosti pa začetek in konec ovire v teh vrstici, torej `(x0, x1)`.\n",
    "\n",
    "```python\n",
    "    vrstice = defaultdict(list)\n",
    "    for y, x0, x1 in ovire:\n",
    "        vrstice[y].append((x0, x1))\n",
    "```\n",
    "\n",
    "Vemo, da je lahko prehod le med dvema zaporednima ovirama. Gremo torej čez vrstice. Seznam ovir v vsaki vrstici uredimo in zdaj vemo, da je lahko ovira le med zaporednim parom. Pa imamo:"
   ]
  },
  {
   "cell_type": "code",
   "execution_count": 3,
   "id": "52be3faa",
   "metadata": {},
   "outputs": [],
   "source": [
    "def prehodi(ovire):\n",
    "    vrstice = defaultdict(list)\n",
    "    for y, x0, x1 in ovire:\n",
    "        vrstice[y].append((x0, x1))\n",
    "    prehodi = set()\n",
    "    for y, xs in vrstice.items():\n",
    "        xs.sort()\n",
    "        for (_, xa1), (xb0, _) in zip(xs, xs[1:]):\n",
    "            if xb0 == xa1 + 2:\n",
    "                prehodi.add((y, xa1 + 1))\n",
    "    return prehodi"
   ]
  },
  {
   "cell_type": "markdown",
   "id": "152eb0fb",
   "metadata": {},
   "source": [
    "Zanimiva je zanka, `for (_, x0), (x1, _) in zip(xs, xs[1:])`. `xs` je seznam začetkov in koncev ovir - se pravi parov. Če naredimo `zip(xs, xs[1:])` bomo dobili pare parov. Zato jih razpakiramo v `(xa0, xa1), (xb0, xb1)`. Ker `xa0` in `xb1` ne potrebujemo, pa ju, tako kot zgoraj, zamenjamo s podčrtaji.\n",
    "\n",
    "Še lažje pa je, če se izognemo razmetavanju po vrsticah in uredimo kar celoten seznam. Python terke ureja najprej po prvem elementu - v našem primeru so to številke vrstic -, če je prvi enak, pa po drugem, torej stolpcu. Natančno to kar potrebujemo: potem bomo šli preprosto po zaporednih ovirah v tako urejenem seznamu. Med dvema ovirama je prehod, če sta v isti vrstici in je med njima prosto poklje."
   ]
  },
  {
   "cell_type": "code",
   "execution_count": 4,
   "id": "23ec54e3",
   "metadata": {},
   "outputs": [],
   "source": [
    "def prehodi(ovire):\n",
    "    ovire = sorted(ovire)\n",
    "    preh = set()\n",
    "    for (ya, _, xa1), (yb, xb0, _) in zip(ovire, ovire[1:]):\n",
    "        if ya == yb and xb0 == xa1 + 2:\n",
    "            preh.add((ya, xa1 + 1))\n",
    "    return preh"
   ]
  },
  {
   "cell_type": "markdown",
   "id": "e894599e",
   "metadata": {},
   "source": [
    "Tule je pomembno, da napišemo `ovire = sorted(ovire)` in ne `ovire.sort()`. Prvo sestavi nov seznam in mu dodeli isto ime (`ovire`), drugo pa spreemni seznam, ki smo ga podali funkciji kot argument. Tega pa ne smemo početi.\n",
    "\n",
    "Od različice 3.10 ima Python v modulu `collections` funkcijo `pairwise`. Klic `pairwise(s)` naredi (praktično) isto kot `zip(s, s[1:])`. To nam skrajša funkcijo v"
   ]
  },
  {
   "cell_type": "code",
   "execution_count": 5,
   "id": "4a9b82fe",
   "metadata": {},
   "outputs": [],
   "source": [
    "def prehodi(ovire):\n",
    "    preh = set()\n",
    "    for (ya, _, xa1), (yb, xb0, _) in pairwise(sorted(ovire)):\n",
    "        if ya == yb and xb0 == xa1 + 2:\n",
    "            preh.add((ya, xa1 + 1))\n",
    "    return preh"
   ]
  },
  {
   "cell_type": "markdown",
   "id": "099b08ef",
   "metadata": {},
   "source": [
    "In kdor se še malo znajde, napiše kar"
   ]
  },
  {
   "cell_type": "code",
   "execution_count": 6,
   "id": "00a172f7",
   "metadata": {},
   "outputs": [],
   "source": [
    "def prehodi(ovire):\n",
    "    return {(ya, xa1 + 1)\n",
    "            for (ya, _, xa1), (yb, xb0, _) in pairwise(sorted(ovire))\n",
    "            if ya == yb and xb0 == xa1 + 2}"
   ]
  },
  {
   "attachments": {},
   "cell_type": "markdown",
   "id": "5b84f1af",
   "metadata": {},
   "source": [
    "## Nadloga\n",
    "\n",
    "Nek kolesar obvlada veščino skakanja po ovirah. Napiši funkcijo stevilo_ovir(ovire, y, x, pot), ki prejme ovire, začetne koordinate kolesarja (te nikoli niso na oviri!) in pot v obliki niza znakov <, >, ^ in v. Vrne naj število različnih ovir, na katere je naletel. Klic stevilo_ovir(ovire, 10, 4, \"^^^^^^>vvv<<vvv<^<^^\"), ki opisuje pot na sliki, vrne 4.\n",
    "\n",
    "### Rešitev\n",
    "\n",
    "Kolesarja bo potrebno voziti okrog. To lahko počnemo tako\n",
    "\n",
    "```python\n",
    "    for smer in pot:\n",
    "        if smer == \"<\":\n",
    "            x -= 1\n",
    "        elif smer == \">\":\n",
    "            x += 1\n",
    "        elif smer == \"^\":\n",
    "            y -= 1\n",
    "        elif smer == \"v\":\n",
    "            y += 1\n",
    "```\n",
    "\n",
    "ali pa kar tako:\n",
    "\n",
    "```python\n",
    "    for smer in pot:\n",
    "        x, y = {\"<\": (x - 1, y), \"^\": (x, y - 1), \"v\": (x, y + 1), \">\": (x + 1, y)}[smer]\n",
    "```\n",
    "\n",
    "Zdaj pa le zlagamo vse ovire, ki jih zadane, v množico in na koncu vrnemo njeno velikost. Če isto oviro dodamo večkrat, bo v množici le enkrat - kar je itak čar množic."
   ]
  },
  {
   "cell_type": "code",
   "execution_count": 7,
   "id": "47e4754c",
   "metadata": {},
   "outputs": [],
   "source": [
    "def stevilo_ovir(ovire, y, x, pot):\n",
    "    zadete = set()\n",
    "    for smer in pot:\n",
    "        if smer == \"<\":\n",
    "            x -= 1\n",
    "        elif smer == \">\":\n",
    "            x += 1\n",
    "        elif smer == \"^\":\n",
    "            y -= 1\n",
    "        elif smer == \"v\":\n",
    "            y += 1\n",
    "        for yo, x0, x1 in ovire:\n",
    "            if yo == y and x0 <= x <= x1:\n",
    "                zadete.add((y, x0, x1))\n",
    "    return len(zadete)"
   ]
  },
  {
   "cell_type": "markdown",
   "id": "ac2187dd",
   "metadata": {},
   "source": [
    "Krajše pa gre tako:"
   ]
  },
  {
   "cell_type": "code",
   "execution_count": 8,
   "id": "9082089d",
   "metadata": {},
   "outputs": [],
   "source": [
    "def stevilo_ovir(ovire, y, x, pot):\n",
    "    zadete = set()\n",
    "    for p in pot:\n",
    "        x, y = {\"<\": (x - 1, y), \"^\": (x, y - 1), \"v\": (x, y + 1), \">\": (x + 1, y)}[p]\n",
    "        for yo, x0, x1 in ovire:\n",
    "            if yo == y and x0 <= x <= x1:\n",
    "                zadete.add((y, x0, x1))\n",
    "    return len(zadete)"
   ]
  },
  {
   "attachments": {},
   "cell_type": "markdown",
   "id": "0e6f3f95",
   "metadata": {},
   "source": [
    "## 3. Odstranjevanje\n",
    "\n",
    "Doslejšnji vodja MOL-ovega Oddelka za gospodarske dejavnosti in motorni promet, g. Polutnik, bo po novem šef kanalizacije. (To ni šala, preverite!)\n",
    "\n",
    "Napiši funkcijo `odstrani(ovire, stolpci)`, ki prejme seznam ovir in številk stolpcev in vrne seznam vseh ovir, ki ne zapirajo nobenega od podanih stolpcev.\n",
    "\n",
    "Če želiš napiši pomožno funkcijo `zapira(ovira, stolpci)`, ki bo vrnila `True`, če ovira zapira katerega od podanih stolpcev. Ta funkcija je neobvezna in se ne testira, lahko pa ti pomaga.\n",
    "\n",
    "\n",
    "### Rešitev\n",
    "\n",
    "Ubogajmo, napišimo `zapira(ovira, stolpci)`. Lahko je daljša.\n",
    "Najpreprosteje je tako:\n"
   ]
  },
  {
   "cell_type": "code",
   "execution_count": 9,
   "id": "4fec12e3",
   "metadata": {},
   "outputs": [],
   "source": [
    "def zapira(ovira, stolpci):\n",
    "    y, x0, x1 = ovira\n",
    "    for stolpec in stolpci:\n",
    "        if x0 <= stolpec <= x1:\n",
    "            return True\n",
    "    return False"
   ]
  },
  {
   "cell_type": "markdown",
   "id": "a22a8e76",
   "metadata": {},
   "source": [
    "Ali krajša."
   ]
  },
  {
   "cell_type": "code",
   "execution_count": 10,
   "id": "cc08dbb4",
   "metadata": {},
   "outputs": [],
   "source": [
    "def zapira(ovira, stolpci):\n",
    "    return any(ovira[1] <= x <= ovira[2] for x in stolpci)"
   ]
  },
  {
   "cell_type": "markdown",
   "id": "33aa1980",
   "metadata": {},
   "source": [
    "Odstrani zdaj vrne seznam ovir, ki ne zapirajo nobenega stolpca."
   ]
  },
  {
   "cell_type": "code",
   "execution_count": 11,
   "id": "57629360",
   "metadata": {},
   "outputs": [],
   "source": [
    "def odstrani(ovire, stolpci):\n",
    "    return [ovira for ovira in ovire if not zapira(ovira, stolpci)]"
   ]
  },
  {
   "cell_type": "markdown",
   "id": "9e662f18",
   "metadata": {},
   "source": [
    "Če ne ubogamo in ne definiramo funkcija `zapira`, pa pač zbašemo oboje v eno funkcijo. To gre le, če je `zapira` dolga eno vrstico - sicer se malo zaplete, zato tja ne bomo rinili. Tule pa je rešitev v eni funkciji."
   ]
  },
  {
   "cell_type": "code",
   "execution_count": 12,
   "id": "5a185593",
   "metadata": {},
   "outputs": [],
   "source": [
    "def odstrani(ovire, stolpci):\n",
    "    return [ovira for ovira in ovire\n",
    "            if not any(ovira[1] <= x <= ovira[2] for x in stolpci)]"
   ]
  },
  {
   "attachments": {},
   "cell_type": "markdown",
   "id": "83e2ebbd",
   "metadata": {},
   "source": [
    "## 4. Žaba\n",
    "\n",
    "Tudi žabe si ne upajo stopiti na kolesarsko pot, temveč se premikajo zgolj po ovirah. Pri tem hodijo levo in desno po ovirah, skačejo pa vedno samo naravnost navgor. Zaradi močnega vetra.\n",
    "\n",
    "Napiši funkcijo `najsirsa(ovire, ovira)`, ki prejme seznam ovir in začetno oviro (kot terko (y, x0, x1)). Vrniti mora širino najširše ovire, ki jo lahko doseže žaba. \n",
    "\n",
    "V pomoč: v datoteki s testi je funkcija `naprej(ovire, ovira)`, ki vrne vse ovire, na katere je možno skočiti z ovira. Uporabi jo. :)\n",
    "\n",
    "\n",
    "### Rešitev\n",
    "\n",
    "Ali je najširša ta ovira, ali pa je ena od naslednjih."
   ]
  },
  {
   "cell_type": "code",
   "execution_count": 13,
   "id": "ecafda17",
   "metadata": {},
   "outputs": [],
   "source": [
    "# Funkcija, ki je podana:\n",
    "\n",
    "def naprej(ovire, ovira):\n",
    "    yo, xo0, xo1 = ovira\n",
    "    return [(y, x0, x1) for y, x0, x1 in ovire\n",
    "            if y < yo and (x0 <= xo0 <= x1 or xo0 <= x0 <= xo1)]\n",
    "\n",
    "\n",
    "def najsirsa(ovire, ovira):\n",
    "    naj = ovira[2] - ovira[1] + 1\n",
    "    for nasl in naprej(ovire, ovira):\n",
    "        naj = max(naj, najsirsa(ovire, nasl))\n",
    "    return naj"
   ]
  }
 ],
 "metadata": {
  "kernelspec": {
   "display_name": "Python 3 (ipykernel)",
   "language": "python",
   "name": "python3"
  },
  "language_info": {
   "codemirror_mode": {
    "name": "ipython",
    "version": 3
   },
   "file_extension": ".py",
   "mimetype": "text/x-python",
   "name": "python",
   "nbconvert_exporter": "python",
   "pygments_lexer": "ipython3",
   "version": "3.9.7"
  }
 },
 "nbformat": 4,
 "nbformat_minor": 5
}
