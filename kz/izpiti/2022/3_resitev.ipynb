{
 "cells": [
  {
   "attachments": {},
   "cell_type": "markdown",
   "id": "4aefafb6",
   "metadata": {},
   "source": [
    "<img style=\"float: right\"  src=\"data:image/.png;base64,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\"/>\n",
    "\n",
    "Ovire so podane kot seznam terk `(x0, x1, y)`, kjer je `y` številka vrstice, `x0` in `x1` pa skrajni levi in desni stolpec ovire. Seznam ovir ni urejen ne po vrsticah ne kakorkoli drugače.\n",
    "\n",
    "Ovire na sliki (ki se uporabljajo v nalogah 1, 3 in 4 ter, z nekaj dodatnimi v 2) so lahko predstavljene s seznamom `[(1, 3, 6), (2, 4, 3), (3, 4, 9), (6, 9, 5), (9, 10, 2), (9, 10, 8), (4, 6, 7)]`."
   ]
  },
  {
   "attachments": {},
   "cell_type": "markdown",
   "id": "0d4c85a1",
   "metadata": {},
   "source": [
    "## 1. Relativno prosti stolpci\n",
    "\n",
    "Napiši funkcijo `manj_kot_tri(ovire, nstolpcev)`, ki prejme seznam ovir in številko zadnjega stolpca. Vrniti mora urejen seznam številk stolpcev, ki jih pokrivajo manj kot tri ovire. Za primer na sliki vrne [1, 2, 5, 6, 7, 8, 10].\n",
    "\n",
    "### Rešitev\n",
    "\n",
    "Ena možnost je, da pripravimo slovar, katerega ključi so številke stolpcev, vrednosti pa povejo število ovir v tem stolpcu. Gremo čez vse ovire, za vsako oviro čez vse stolpce, in prištevamo. Na koncu gremo od 1 do `nstolpcev` in v seznam dodamo vse številke stolpcev, za katere v slovarju piše, da imajo manj kot tri ovire."
   ]
  },
  {
   "cell_type": "code",
   "execution_count": 1,
   "id": "068d76d9",
   "metadata": {},
   "outputs": [],
   "source": [
    "def manj_kot_tri(ovire, nstolpcev):\n",
    "    ovir = defaultdict(int)\n",
    "    for x0, x1, y in ovire:\n",
    "        for x in range(x0, x1 + 1):\n",
    "            ovir[x] += 1\n",
    "    return [i for i in range(1, 1 + nstolpcev) if ovir[i] < 3]"
   ]
  },
  {
   "cell_type": "markdown",
   "id": "5e54774c",
   "metadata": {},
   "source": [
    "Manj fancy - a nič dosti slabša, čeprav nekoliko počasnejša - ni rešitev, v kateri gremo prek vseh stolpcev in za vsak stolpec čez vse ovire. Preštejemo, koliko ovir zapira ta stolpec. Če manj kot tri, ga dodamo."
   ]
  },
  {
   "cell_type": "code",
   "execution_count": 2,
   "id": "40fc1d9f",
   "metadata": {},
   "outputs": [],
   "source": [
    "def manj_kot_tri(ovire, nstolpcev):\n",
    "    manj = []\n",
    "    for x in range(1, 1 + nstolpcev):\n",
    "        ovir = 0\n",
    "        for x0, x1, _ in ovire:\n",
    "            if x0 <= x <= x1:\n",
    "                ovir += 1\n",
    "        if ovir < 3:\n",
    "            manj.append(x)\n",
    "    return manj"
   ]
  },
  {
   "attachments": {},
   "cell_type": "markdown",
   "id": "9d9bfef7",
   "metadata": {},
   "source": [
    "## 2. Proste ovire\n",
    "\n",
    "Napiši funkcijo `proste_ovire(ovire)`, ki dobi seznam ovir, med katerimi pa se nekatere prekrivajo (ali pa celo popolnoma sovpadajo). Funkcija naj vrne nov seznam, v katerem so le ovire, ki se ne prekrivajo (delno ali popolnoma) z nobeno drugo oviro.\n",
    "\n",
    "### Rešitev\n",
    "\n",
    "Prva naloga vam je bila podarjena, ker je bila res preprosta. Ta naloga je pa malo bolj (ampak ne zelo) zoprna. Kot sem napovedal, je na vsakem izpitu še kakšna naloga, kjer morate znati pametno preobrniti kakšno zanko.\n",
    "\n",
    "Napisali bomo ločeno funkcijo `prekrivanje(ovira1, ovira2)`, ki bo povedala, ali se dve oviri prekrivata. To sploh ni nujno; namenjeno je le temu, da bo \"glavna\" funkcija preglednejša."
   ]
  },
  {
   "cell_type": "code",
   "execution_count": 3,
   "id": "57ede084",
   "metadata": {},
   "outputs": [],
   "source": [
    "def prekrivanje(ovira1, ovira2):\n",
    "    x10, x11, y1 = ovira1\n",
    "    x20, x21, y2 = ovira2\n",
    "    return y1 == y2 and (x20 <= x10 <= x21 or x10 <= x20 <= x11)"
   ]
  },
  {
   "cell_type": "markdown",
   "id": "551f700b",
   "metadata": {},
   "source": [
    "Malo preprostejša, vendar počasnejša je rešitev, ki za vsako oviro preveri vse ovire; če naleti na oviro, ki ni prav taista ovira (`i != j`) in se prekriva, prekine zanko (`break`). Če se zanka izteče, ne da bi jo prekinili (`else`), dodamo oviro v seznam prostih."
   ]
  },
  {
   "cell_type": "code",
   "execution_count": 4,
   "id": "bd24f582",
   "metadata": {},
   "outputs": [],
   "source": [
    "def proste_ovire(ovire):\n",
    "    proste = []\n",
    "    for i, ovira1 in enumerate(ovire):\n",
    "        for j, ovira2 in enumerate(ovire):\n",
    "            if i != j and prekrivanje(ovira1, ovira2):\n",
    "                break\n",
    "        else:\n",
    "            proste.append(ovira1)\n",
    "    return proste"
   ]
  },
  {
   "cell_type": "markdown",
   "id": "63dd917e",
   "metadata": {},
   "source": [
    "Rešitev je nekoliko počasnejša zato, ker gre za vsako oviro čez vse druge ovire. Lahko bi za vsako oviro preverili vse ovire pred njo; če se prekrivata, bi obe označili kot ne-prosti. Takšna funkcija bo torej najprej pripravila seznam \"zastavic\", ki bo dolg toliko, kolikor je ovir. Za vsako oviro bo vseboval `True`, če je prosta in `False`, če ni. V začetku bo seznam vseboval same `True`, potem pa bomo šli čez vse ovire in za vsako preverili, ali jo prekriva katera od ovir, ki ji sledijo. Če jo, obema spremenimo njun element v `False`.\n",
    "\n",
    "Na koncu zipnemo skupaj seznam ovir in seznam zastavic. V nov seznam damo oviro, katere pripadajoča zastavica je `True`."
   ]
  },
  {
   "cell_type": "code",
   "execution_count": 5,
   "id": "d8c6041e",
   "metadata": {},
   "outputs": [],
   "source": [
    "def proste_ovire(ovire):\n",
    "    proste = [True] * len(ovire)\n",
    "    for i, ovira1 in enumerate(ovire):\n",
    "        for j in range(i):\n",
    "            if prekrivanje(ovira1, ovire[j]):\n",
    "                proste[i] = proste[j] = False\n",
    "    return [ovira for ovira, prosta in zip(ovire, proste) if prosta]"
   ]
  },
  {
   "cell_type": "markdown",
   "id": "361c46c4",
   "metadata": {},
   "source": [
    "Ta naloga je bila nekoliko težja, vendar lažja od prvotne različice, ki je zahtevala, da funkcija briše ovire iz obstoječega seznama. To vam je bilo torej prihranjeno ... lahko pa poskusite to narediti za vajo."
   ]
  },
  {
   "attachments": {},
   "cell_type": "markdown",
   "id": "94cd20c8",
   "metadata": {},
   "source": [
    "## 3. Dolžina ovir\n",
    "\n",
    "Napiši funkcijo dolzina_ovir(ime_datoteke), ki prejme ime datoteke, v kateri so ovire opisane v takšni obliki:\n",
    "\n",
    "```\n",
    "1-3 6\n",
    "2-4 3\n",
    "3-4 9\n",
    "```\n",
    "\n",
    "(in tako naprej). Prvi števili sta začetek in konec ovire, ločena z `-`. Sledi presledek in številka vrstica.\n",
    "Funkcija naj vrne skupno dolžino ovir (število \"pobarvanih\" kvadratkov na sliki). Ovire se ne prekrivajo.\n",
    "\n",
    "### Rešitev\n",
    "\n",
    "Za oddih spet nekoliko lažja naloga. Znati moramo odpreti datoteko, jo brati po vrsticah, razdeliti niz glede na presledek, razdeliti del tega niza glede na `-`, spremeniti niza v števili, ter ju odšteti in prištevati k skupni vsoti. Eh."
   ]
  },
  {
   "cell_type": "code",
   "execution_count": 6,
   "id": "c87eed14",
   "metadata": {},
   "outputs": [],
   "source": [
    "def dolzina_ovir(ime_datoteke):\n",
    "    dolzina = 0\n",
    "    for vrstica in open(ime_datoteke):\n",
    "        xs, _ = vrstica.split()\n",
    "        x0, x1 = xs.split(\"-\")\n",
    "        dolzina += int(x1) - int(x0) + 1\n",
    "    return dolzina"
   ]
  },
  {
   "cell_type": "markdown",
   "id": "55883e5b",
   "metadata": {},
   "source": [
    "Številke vrstice ne potrebujemo. :) Upam, da reševalcem ni vzelo preveč časa, da so odkrili, da morajo k razliki med stolpcema prišteti 1. Če jim je, je to zgolj poučno: bodo bolj cenili, da je indeksiranje v Pythonu narejeno tako, da `s[5:8]` vsebuje 3 elemente (8 - 5) in ne štirih (od petega do *vključno* osmega), tako kot ovire. "
   ]
  },
  {
   "attachments": {},
   "cell_type": "markdown",
   "id": "d73b475e",
   "metadata": {},
   "source": [
    "## 4. Rekurzivna dolžina ovir\n",
    "\n",
    "Napiši rekurzivno funkcijo rekurzivna_dolzina(ovire), ki izračuna skupno dolžino ovir v podanem seznamu. Ovire se ne prekrivajo.\n",
    "\n",
    "### Rešitev\n",
    "\n",
    "Če je seznam prazen, je skupna dolžina `0`, sicer pa toliko, kolikor je dolga prva in vse ostale skupaj."
   ]
  },
  {
   "cell_type": "code",
   "execution_count": 7,
   "id": "73b68311",
   "metadata": {},
   "outputs": [],
   "source": [
    "def rekurzivna_dolzina(ovire):\n",
    "    if not ovire:\n",
    "        return 0\n",
    "    return ovire[0][1] - ovire[0][0] + 1 + rekurzivna_dolzina(ovire[1:])"
   ]
  }
 ],
 "metadata": {
  "kernelspec": {
   "display_name": "Python 3 (ipykernel)",
   "language": "python",
   "name": "python3"
  },
  "language_info": {
   "codemirror_mode": {
    "name": "ipython",
    "version": 3
   },
   "file_extension": ".py",
   "mimetype": "text/x-python",
   "name": "python",
   "nbconvert_exporter": "python",
   "pygments_lexer": "ipython3",
   "version": "3.9.7"
  }
 },
 "nbformat": 4,
 "nbformat_minor": 5
}
